{
 "cells": [
  {
   "cell_type": "markdown",
   "id": "382a3f3c-24a4-4861-9459-b04ef8dab3da",
   "metadata": {},
   "source": [
    "# Extract burst number for SNAP TOPS Split"
   ]
  },
  {
   "cell_type": "code",
   "execution_count": 1,
   "id": "651499f0-5220-42b4-a6ce-bf9ad6f2e172",
   "metadata": {},
   "outputs": [],
   "source": [
    "import urllib\n",
    "import json\n",
    "\n",
    "from IPython.display import JSON"
   ]
  },
  {
   "cell_type": "markdown",
   "id": "4e1fd0d2-2042-4ff2-a998-25263fd1b544",
   "metadata": {},
   "source": [
    "## 1) Read the metadata for the burst of interest"
   ]
  },
  {
   "cell_type": "markdown",
   "id": "972ffe0e-b0f1-477b-8ae4-758ada0cebc5",
   "metadata": {},
   "source": [
    "Generate the query for a sigle bursts with the following inputs:"
   ]
  },
  {
   "cell_type": "code",
   "execution_count": 2,
   "id": "1638414d-610b-4811-8bf1-42fa6bc2db0a",
   "metadata": {},
   "outputs": [],
   "source": [
    "AcquisitionDate = '2024-08-14'\n",
    "PolarisationChannels = 'VV'\n",
    "x = 10.756\n",
    "y = 46.747"
   ]
  },
  {
   "cell_type": "code",
   "execution_count": 3,
   "id": "28eeae9b-838a-46be-8dde-bbf90dcca330",
   "metadata": {},
   "outputs": [
    {
     "name": "stdout",
     "output_type": "stream",
     "text": [
      "https://catalogue.dataspace.copernicus.eu/odata/v1/Bursts?$filter=ContentDate/Start%20ge%202024-08-14T00%3A00%3A00.000Z%20and%20ContentDate/Start%20le%202024-08-14T23%3A59%3A59.000Z%20and%20PolarisationChannels%20eq%20%27VV%27%20and%20OData.CSC.Intersects%28area%3Dgeography%27SRID%3D4326%3BPOINT%2810.756%2046.747%29%27%29&$top=1000\n"
     ]
    }
   ],
   "source": [
    "https_request = f\"https://catalogue.dataspace.copernicus.eu/odata/v1/Bursts?$filter=\" + urllib.parse.quote(\n",
    "    f\"ContentDate/Start ge {AcquisitionDate}T00:00:00.000Z and ContentDate/Start le {AcquisitionDate}T23:59:59.000Z and \"\n",
    "    f\"PolarisationChannels eq '{PolarisationChannels}' and \"\n",
    "    f\"OData.CSC.Intersects(area=geography'SRID=4326;POINT({x} {y})')\"\n",
    ") + \"&$top=1000\"\n",
    "print(https_request)"
   ]
  },
  {
   "cell_type": "markdown",
   "id": "54276b83-8cb4-47fa-8172-b0fc22d657cb",
   "metadata": {},
   "source": [
    "Read the json and extract `ProductName`, `BurstId` and `SwathIdentifier`"
   ]
  },
  {
   "cell_type": "code",
   "execution_count": 4,
   "id": "e5aaa467-ebc7-4e6a-95f7-d4fbaa4f1af9",
   "metadata": {},
   "outputs": [
    {
     "data": {
      "application/json": {
       "@odata.context": "$metadata#Bursts",
       "value": [
        {
         "@odata.mediaContentType": "application/octet-stream",
         "AbsoluteBurstId": 118589520,
         "AzimuthAnxTime": 756.1164966638,
         "AzimuthTime": "2024-08-14T17:15:49.129419Z",
         "BeginningDateTime": "2024-08-14T17:15:50.270140Z",
         "BurstId": 30345,
         "ByteOffset": 461690163,
         "ContentDate": {
          "End": "2024-08-14T17:15:53.460140Z",
          "Start": "2024-08-14T17:15:50.270140Z"
         },
         "ContentType": "application/octet-stream",
         "DatatakeID": 42880,
         "EndingDateTime": "2024-08-14T17:15:53.460140Z",
         "Footprint": "geography'SRID=4326;POLYGON ((9.834941 46.56942, 10.361713 46.626309, 10.869297 46.678637, 10.823066 46.883412, 10.314605 46.826475, 9.786973 46.764968, 9.834941 46.56942))'",
         "GeoFootprint": {
          "coordinates": [
           [
            [
             9.834941,
             46.56942
            ],
            [
             10.361713,
             46.626309
            ],
            [
             10.869297,
             46.678637
            ],
            [
             10.823066,
             46.883412
            ],
            [
             10.314605,
             46.826475
            ],
            [
             9.786973,
             46.764968
            ],
            [
             9.834941,
             46.56942
            ]
           ]
          ],
          "type": "Polygon"
         },
         "Id": "8625e7d4-94b1-4dc4-b501-bb7502d04038",
         "Lines": 4551,
         "LinesPerBurst": 1517,
         "Name": "S1A-SLC-20240814T171550-030345-IW3-VV-042880",
         "OperationalMode": "IW",
         "OrbitDirection": "ASCENDING",
         "ParentProductId": "d2eaeb3d-1d80-4d1e-8fca-f97ee4e69bb5",
         "ParentProductName": "S1A_IW_SLC__1SDV_20240814T171540_20240814T171607_055212_06BAD3_C31B.SAFE",
         "ParentProductType": "IW_SLC__1S",
         "PlatformSerialIdentifier": "A",
         "PolarisationChannels": "VV",
         "RelativeOrbitNumber": 15,
         "S3Path": "/eodata/Sentinel-1/SAR/IW_SLC__1S/2024/08/14/S1A_IW_SLC__1SDV_20240814T171540_20240814T171607_055212_06BAD3_C31B.SAFE/measurement/s1a-iw3-slc-vv-20240814t171540-20240814t171606-055212-06bad3-006.tiff",
         "SamplesPerBurst": 25356,
         "SwathIdentifier": "IW3"
        }
       ]
      },
      "text/plain": [
       "<IPython.core.display.JSON object>"
      ]
     },
     "execution_count": 4,
     "metadata": {
      "application/json": {
       "expanded": false,
       "root": "root"
      }
     },
     "output_type": "execute_result"
    }
   ],
   "source": [
    "with urllib.request.urlopen(https_request) as response:\n",
    "    content = response.read().decode()\n",
    "bursts = json.loads(content)\n",
    "JSON(bursts)"
   ]
  },
  {
   "cell_type": "code",
   "execution_count": 5,
   "id": "e9a7b11b-e3c5-4ae5-8040-d64348944fc5",
   "metadata": {},
   "outputs": [
    {
     "name": "stdout",
     "output_type": "stream",
     "text": [
      "ProductName: S1A_IW_SLC__1SDV_20240814T171540_20240814T171607_055212_06BAD3_C31B.SAFE\n",
      "BurstId: 30345\n",
      "SwathIdentifier: IW3\n"
     ]
    }
   ],
   "source": [
    "ProductName = bursts['value'][0]['ParentProductName']\n",
    "BurstId = bursts['value'][0]['BurstId']\n",
    "SwathIdentifier = bursts['value'][0]['SwathIdentifier']\n",
    "\n",
    "print(f'ProductName: {ProductName}\\nBurstId: {BurstId}\\nSwathIdentifier: {SwathIdentifier}')"
   ]
  },
  {
   "cell_type": "markdown",
   "id": "9dad9f02-3eb6-443d-a11d-6720f1efa3a0",
   "metadata": {},
   "source": [
    "## 2) Extract the burst number for the SNAP TOPS Split function"
   ]
  },
  {
   "cell_type": "markdown",
   "id": "ea6f5062-9630-4e86-91ce-940f82483b48",
   "metadata": {},
   "source": [
    "List all the burst ids in the subswath product which contains the subswath of interest"
   ]
  },
  {
   "cell_type": "code",
   "execution_count": 6,
   "id": "ee6afb70-c21a-4c4e-9116-56d643436fe4",
   "metadata": {},
   "outputs": [
    {
     "name": "stdout",
     "output_type": "stream",
     "text": [
      "https://catalogue.dataspace.copernicus.eu/odata/v1/Bursts?$filter=ParentProductName%20eq%20%27S1A_IW_SLC__1SDV_20240814T171540_20240814T171607_055212_06BAD3_C31B.SAFE%27%20and%20SwathIdentifier%20eq%20%27IW3%27%20and%20PolarisationChannels%20eq%20%27VV%27&$orderby=ContentDate/Start&$top=1000\n"
     ]
    }
   ],
   "source": [
    "https_request = \"https://catalogue.dataspace.copernicus.eu/odata/v1/Bursts?$filter=\" + urllib.parse.quote(\n",
    "    f\"ParentProductName eq '{ProductName}' and \"\n",
    "    f\"SwathIdentifier eq '{SwathIdentifier}' and \"\n",
    "    f\"PolarisationChannels eq '{PolarisationChannels}'\"\n",
    ") + \"&$orderby=ContentDate/Start&$top=1000\"\n",
    "print(https_request)"
   ]
  },
  {
   "cell_type": "code",
   "execution_count": 7,
   "id": "8229e74a-ceb9-470c-91dd-ee564e4879fc",
   "metadata": {},
   "outputs": [
    {
     "data": {
      "application/json": {
       "@odata.context": "$metadata#Bursts",
       "value": [
        {
         "@odata.mediaContentType": "application/octet-stream",
         "AbsoluteBurstId": 118589517,
         "AzimuthAnxTime": 747.840827,
         "AzimuthTime": "2024-08-14T17:15:40.853749Z",
         "BeginningDateTime": "2024-08-14T17:15:41.995309Z",
         "BurstId": 30342,
         "ByteOffset": 109539,
         "ContentDate": {
          "End": "2024-08-14T17:15:45.185309Z",
          "Start": "2024-08-14T17:15:41.995309Z"
         },
         "ContentType": "application/octet-stream",
         "DatatakeID": 42880,
         "EndingDateTime": "2024-08-14T17:15:45.185309Z",
         "Footprint": "geography'SRID=4326;POLYGON ((9.955883 46.073355, 10.477791 46.130285, 10.980688 46.182695, 10.934788 46.387485, 10.431056 46.330468, 9.908328 46.268923, 9.955883 46.073355))'",
         "GeoFootprint": {
          "coordinates": [
           [
            [
             9.955883,
             46.073355
            ],
            [
             10.477791,
             46.130285
            ],
            [
             10.980688,
             46.182695
            ],
            [
             10.934788,
             46.387485
            ],
            [
             10.431056,
             46.330468
            ],
            [
             9.908328,
             46.268923
            ],
            [
             9.955883,
             46.073355
            ]
           ]
          ],
          "type": "Polygon"
         },
         "Id": "cfbdb228-e611-456f-9906-e6b1c0beda9e",
         "Lines": 0,
         "LinesPerBurst": 1517,
         "Name": "S1A-SLC-20240814T171541-030342-IW3-VV-042880",
         "OperationalMode": "IW",
         "OrbitDirection": "ASCENDING",
         "ParentProductId": "d2eaeb3d-1d80-4d1e-8fca-f97ee4e69bb5",
         "ParentProductName": "S1A_IW_SLC__1SDV_20240814T171540_20240814T171607_055212_06BAD3_C31B.SAFE",
         "ParentProductType": "IW_SLC__1S",
         "PlatformSerialIdentifier": "A",
         "PolarisationChannels": "VV",
         "RelativeOrbitNumber": 15,
         "S3Path": "/eodata/Sentinel-1/SAR/IW_SLC__1S/2024/08/14/S1A_IW_SLC__1SDV_20240814T171540_20240814T171607_055212_06BAD3_C31B.SAFE/measurement/s1a-iw3-slc-vv-20240814t171540-20240814t171606-055212-06bad3-006.tiff",
         "SamplesPerBurst": 25356,
         "SwathIdentifier": "IW3"
        },
        {
         "@odata.mediaContentType": "application/octet-stream",
         "AbsoluteBurstId": 118589518,
         "AzimuthAnxTime": 750.5993835546,
         "AzimuthTime": "2024-08-14T17:15:43.612306Z",
         "BeginningDateTime": "2024-08-14T17:15:44.753586Z",
         "BurstId": 30343,
         "ByteOffset": 153969747,
         "ContentDate": {
          "End": "2024-08-14T17:15:47.943586Z",
          "Start": "2024-08-14T17:15:44.753586Z"
         },
         "ContentType": "application/octet-stream",
         "DatatakeID": 42880,
         "EndingDateTime": "2024-08-14T17:15:47.943586Z",
         "Footprint": "geography'SRID=4326;POLYGON ((9.915683 46.23872, 10.439199 46.295636, 10.943644 46.348017, 10.897636 46.552803, 10.392341 46.495813, 9.867993 46.434281, 9.915683 46.23872))'",
         "GeoFootprint": {
          "coordinates": [
           [
            [
             9.915683,
             46.23872
            ],
            [
             10.439199,
             46.295636
            ],
            [
             10.943644,
             46.348017
            ],
            [
             10.897636,
             46.552803
            ],
            [
             10.392341,
             46.495813
            ],
            [
             9.867993,
             46.434281
            ],
            [
             9.915683,
             46.23872
            ]
           ]
          ],
          "type": "Polygon"
         },
         "Id": "e0aeacb1-50bd-45c4-8671-e00c1e86f28c",
         "Lines": 1517,
         "LinesPerBurst": 1517,
         "Name": "S1A-SLC-20240814T171544-030343-IW3-VV-042880",
         "OperationalMode": "IW",
         "OrbitDirection": "ASCENDING",
         "ParentProductId": "d2eaeb3d-1d80-4d1e-8fca-f97ee4e69bb5",
         "ParentProductName": "S1A_IW_SLC__1SDV_20240814T171540_20240814T171607_055212_06BAD3_C31B.SAFE",
         "ParentProductType": "IW_SLC__1S",
         "PlatformSerialIdentifier": "A",
         "PolarisationChannels": "VV",
         "RelativeOrbitNumber": 15,
         "S3Path": "/eodata/Sentinel-1/SAR/IW_SLC__1S/2024/08/14/S1A_IW_SLC__1SDV_20240814T171540_20240814T171607_055212_06BAD3_C31B.SAFE/measurement/s1a-iw3-slc-vv-20240814t171540-20240814t171606-055212-06bad3-006.tiff",
         "SamplesPerBurst": 25356,
         "SwathIdentifier": "IW3"
        },
        {
         "@odata.mediaContentType": "application/octet-stream",
         "AbsoluteBurstId": 118589519,
         "AzimuthAnxTime": 753.3558845529,
         "AzimuthTime": "2024-08-14T17:15:46.368807Z",
         "BeginningDateTime": "2024-08-14T17:15:47.511863Z",
         "BurstId": 30344,
         "ByteOffset": 307829955,
         "ContentDate": {
          "End": "2024-08-14T17:15:50.701863Z",
          "Start": "2024-08-14T17:15:47.511863Z"
         },
         "ContentType": "application/octet-stream",
         "DatatakeID": 42880,
         "EndingDateTime": "2024-08-14T17:15:50.701863Z",
         "Footprint": "geography'SRID=4326;POLYGON ((9.87537 46.404075, 10.400506 46.460977, 10.906514 46.513331, 10.860396 46.718112, 10.353524 46.661148, 9.827542 46.59963, 9.87537 46.404075))'",
         "GeoFootprint": {
          "coordinates": [
           [
            [
             9.87537,
             46.404075
            ],
            [
             10.400506,
             46.460977
            ],
            [
             10.906514,
             46.513331
            ],
            [
             10.860396,
             46.718112
            ],
            [
             10.353524,
             46.661148
            ],
            [
             9.827542,
             46.59963
            ],
            [
             9.87537,
             46.404075
            ]
           ]
          ],
          "type": "Polygon"
         },
         "Id": "fb0de305-56d7-4e50-8f82-72a6879eea8b",
         "Lines": 3034,
         "LinesPerBurst": 1517,
         "Name": "S1A-SLC-20240814T171547-030344-IW3-VV-042880",
         "OperationalMode": "IW",
         "OrbitDirection": "ASCENDING",
         "ParentProductId": "d2eaeb3d-1d80-4d1e-8fca-f97ee4e69bb5",
         "ParentProductName": "S1A_IW_SLC__1SDV_20240814T171540_20240814T171607_055212_06BAD3_C31B.SAFE",
         "ParentProductType": "IW_SLC__1S",
         "PlatformSerialIdentifier": "A",
         "PolarisationChannels": "VV",
         "RelativeOrbitNumber": 15,
         "S3Path": "/eodata/Sentinel-1/SAR/IW_SLC__1S/2024/08/14/S1A_IW_SLC__1SDV_20240814T171540_20240814T171607_055212_06BAD3_C31B.SAFE/measurement/s1a-iw3-slc-vv-20240814t171540-20240814t171606-055212-06bad3-006.tiff",
         "SamplesPerBurst": 25356,
         "SwathIdentifier": "IW3"
        },
        {
         "@odata.mediaContentType": "application/octet-stream",
         "AbsoluteBurstId": 118589520,
         "AzimuthAnxTime": 756.1164966638,
         "AzimuthTime": "2024-08-14T17:15:49.129419Z",
         "BeginningDateTime": "2024-08-14T17:15:50.270140Z",
         "BurstId": 30345,
         "ByteOffset": 461690163,
         "ContentDate": {
          "End": "2024-08-14T17:15:53.460140Z",
          "Start": "2024-08-14T17:15:50.270140Z"
         },
         "ContentType": "application/octet-stream",
         "DatatakeID": 42880,
         "EndingDateTime": "2024-08-14T17:15:53.460140Z",
         "Footprint": "geography'SRID=4326;POLYGON ((9.834941 46.56942, 10.361713 46.626309, 10.869297 46.678637, 10.823066 46.883412, 10.314605 46.826475, 9.786973 46.764968, 9.834941 46.56942))'",
         "GeoFootprint": {
          "coordinates": [
           [
            [
             9.834941,
             46.56942
            ],
            [
             10.361713,
             46.626309
            ],
            [
             10.869297,
             46.678637
            ],
            [
             10.823066,
             46.883412
            ],
            [
             10.314605,
             46.826475
            ],
            [
             9.786973,
             46.764968
            ],
            [
             9.834941,
             46.56942
            ]
           ]
          ],
          "type": "Polygon"
         },
         "Id": "8625e7d4-94b1-4dc4-b501-bb7502d04038",
         "Lines": 4551,
         "LinesPerBurst": 1517,
         "Name": "S1A-SLC-20240814T171550-030345-IW3-VV-042880",
         "OperationalMode": "IW",
         "OrbitDirection": "ASCENDING",
         "ParentProductId": "d2eaeb3d-1d80-4d1e-8fca-f97ee4e69bb5",
         "ParentProductName": "S1A_IW_SLC__1SDV_20240814T171540_20240814T171607_055212_06BAD3_C31B.SAFE",
         "ParentProductType": "IW_SLC__1S",
         "PlatformSerialIdentifier": "A",
         "PolarisationChannels": "VV",
         "RelativeOrbitNumber": 15,
         "S3Path": "/eodata/Sentinel-1/SAR/IW_SLC__1S/2024/08/14/S1A_IW_SLC__1SDV_20240814T171540_20240814T171607_055212_06BAD3_C31B.SAFE/measurement/s1a-iw3-slc-vv-20240814t171540-20240814t171606-055212-06bad3-006.tiff",
         "SamplesPerBurst": 25356,
         "SwathIdentifier": "IW3"
        },
        {
         "@odata.mediaContentType": "application/octet-stream",
         "AbsoluteBurstId": 118589521,
         "AzimuthAnxTime": 758.8750532184,
         "AzimuthTime": "2024-08-14T17:15:51.887975Z",
         "BeginningDateTime": "2024-08-14T17:15:53.028417Z",
         "BurstId": 30346,
         "ByteOffset": 615550371,
         "ContentDate": {
          "End": "2024-08-14T17:15:56.218417Z",
          "Start": "2024-08-14T17:15:53.028417Z"
         },
         "ContentType": "application/octet-stream",
         "DatatakeID": 42880,
         "EndingDateTime": "2024-08-14T17:15:56.218417Z",
         "Footprint": "geography'SRID=4326;POLYGON ((9.794395 46.734755, 10.322816 46.791632, 10.83199 46.843933, 10.785646 47.048705, 10.275581 46.991792, 9.746286 46.930296, 9.794395 46.734755))'",
         "GeoFootprint": {
          "coordinates": [
           [
            [
             9.794395,
             46.734755
            ],
            [
             10.322816,
             46.791632
            ],
            [
             10.83199,
             46.843933
            ],
            [
             10.785646,
             47.048705
            ],
            [
             10.275581,
             46.991792
            ],
            [
             9.746286,
             46.930296
            ],
            [
             9.794395,
             46.734755
            ]
           ]
          ],
          "type": "Polygon"
         },
         "Id": "ba1d43a8-8c51-4ced-b699-767f0e03bca0",
         "Lines": 6068,
         "LinesPerBurst": 1517,
         "Name": "S1A-SLC-20240814T171553-030346-IW3-VV-042880",
         "OperationalMode": "IW",
         "OrbitDirection": "ASCENDING",
         "ParentProductId": "d2eaeb3d-1d80-4d1e-8fca-f97ee4e69bb5",
         "ParentProductName": "S1A_IW_SLC__1SDV_20240814T171540_20240814T171607_055212_06BAD3_C31B.SAFE",
         "ParentProductType": "IW_SLC__1S",
         "PlatformSerialIdentifier": "A",
         "PolarisationChannels": "VV",
         "RelativeOrbitNumber": 15,
         "S3Path": "/eodata/Sentinel-1/SAR/IW_SLC__1S/2024/08/14/S1A_IW_SLC__1SDV_20240814T171540_20240814T171607_055212_06BAD3_C31B.SAFE/measurement/s1a-iw3-slc-vv-20240814t171540-20240814t171606-055212-06bad3-006.tiff",
         "SamplesPerBurst": 25356,
         "SwathIdentifier": "IW3"
        },
        {
         "@odata.mediaContentType": "application/octet-stream",
         "AbsoluteBurstId": 118589522,
         "AzimuthAnxTime": 761.633609773,
         "AzimuthTime": "2024-08-14T17:15:54.646532Z",
         "BeginningDateTime": "2024-08-14T17:15:55.786694Z",
         "BurstId": 30347,
         "ByteOffset": 769410579,
         "ContentDate": {
          "End": "2024-08-14T17:15:58.976694Z",
          "Start": "2024-08-14T17:15:55.786694Z"
         },
         "ContentType": "application/octet-stream",
         "DatatakeID": 42880,
         "EndingDateTime": "2024-08-14T17:15:58.976694Z",
         "Footprint": "geography'SRID=4326;POLYGON ((9.753731 46.90008, 10.283815 46.956945, 10.794593 47.009222, 10.748134 47.213988, 10.236451 47.1571, 9.705478 47.095615, 9.753731 46.90008))'",
         "GeoFootprint": {
          "coordinates": [
           [
            [
             9.753731,
             46.90008
            ],
            [
             10.283815,
             46.956945
            ],
            [
             10.794593,
             47.009222
            ],
            [
             10.748134,
             47.213988
            ],
            [
             10.236451,
             47.1571
            ],
            [
             9.705478,
             47.095615
            ],
            [
             9.753731,
             46.90008
            ]
           ]
          ],
          "type": "Polygon"
         },
         "Id": "b63ee9f5-1863-4819-8fc4-e08c496acf90",
         "Lines": 7585,
         "LinesPerBurst": 1517,
         "Name": "S1A-SLC-20240814T171555-030347-IW3-VV-042880",
         "OperationalMode": "IW",
         "OrbitDirection": "ASCENDING",
         "ParentProductId": "d2eaeb3d-1d80-4d1e-8fca-f97ee4e69bb5",
         "ParentProductName": "S1A_IW_SLC__1SDV_20240814T171540_20240814T171607_055212_06BAD3_C31B.SAFE",
         "ParentProductType": "IW_SLC__1S",
         "PlatformSerialIdentifier": "A",
         "PolarisationChannels": "VV",
         "RelativeOrbitNumber": 15,
         "S3Path": "/eodata/Sentinel-1/SAR/IW_SLC__1S/2024/08/14/S1A_IW_SLC__1SDV_20240814T171540_20240814T171607_055212_06BAD3_C31B.SAFE/measurement/s1a-iw3-slc-vv-20240814t171540-20240814t171606-055212-06bad3-006.tiff",
         "SamplesPerBurst": 25356,
         "SwathIdentifier": "IW3"
        },
        {
         "@odata.mediaContentType": "application/octet-stream",
         "AbsoluteBurstId": 118589523,
         "AzimuthAnxTime": 764.3901107713,
         "AzimuthTime": "2024-08-14T17:15:57.403033Z",
         "BeginningDateTime": "2024-08-14T17:15:58.544971Z",
         "BurstId": 30348,
         "ByteOffset": 923270787,
         "ContentDate": {
          "End": "2024-08-14T17:16:01.734971Z",
          "Start": "2024-08-14T17:15:58.544971Z"
         },
         "ContentType": "application/octet-stream",
         "DatatakeID": 42880,
         "EndingDateTime": "2024-08-14T17:16:01.734971Z",
         "Footprint": "geography'SRID=4326;POLYGON ((9.712947 47.065396, 10.244709 47.12225, 10.757104 47.174502, 10.710529 47.379263, 10.197213 47.322398, 9.664549 47.260923, 9.712947 47.065396))'",
         "GeoFootprint": {
          "coordinates": [
           [
            [
             9.712947,
             47.065396
            ],
            [
             10.244709,
             47.12225
            ],
            [
             10.757104,
             47.174502
            ],
            [
             10.710529,
             47.379263
            ],
            [
             10.197213,
             47.322398
            ],
            [
             9.664549,
             47.260923
            ],
            [
             9.712947,
             47.065396
            ]
           ]
          ],
          "type": "Polygon"
         },
         "Id": "1a1dde0a-9e29-409b-9246-216d9d0e52e9",
         "Lines": 9102,
         "LinesPerBurst": 1517,
         "Name": "S1A-SLC-20240814T171558-030348-IW3-VV-042880",
         "OperationalMode": "IW",
         "OrbitDirection": "ASCENDING",
         "ParentProductId": "d2eaeb3d-1d80-4d1e-8fca-f97ee4e69bb5",
         "ParentProductName": "S1A_IW_SLC__1SDV_20240814T171540_20240814T171607_055212_06BAD3_C31B.SAFE",
         "ParentProductType": "IW_SLC__1S",
         "PlatformSerialIdentifier": "A",
         "PolarisationChannels": "VV",
         "RelativeOrbitNumber": 15,
         "S3Path": "/eodata/Sentinel-1/SAR/IW_SLC__1S/2024/08/14/S1A_IW_SLC__1SDV_20240814T171540_20240814T171607_055212_06BAD3_C31B.SAFE/measurement/s1a-iw3-slc-vv-20240814t171540-20240814t171606-055212-06bad3-006.tiff",
         "SamplesPerBurst": 25356,
         "SwathIdentifier": "IW3"
        },
        {
         "@odata.mediaContentType": "application/octet-stream",
         "AbsoluteBurstId": 118589524,
         "AzimuthAnxTime": 767.1507228822,
         "AzimuthTime": "2024-08-14T17:16:00.163645Z",
         "BeginningDateTime": "2024-08-14T17:16:01.303248Z",
         "BurstId": 30349,
         "ByteOffset": 1077130995,
         "ContentDate": {
          "End": "2024-08-14T17:16:04.493248Z",
          "Start": "2024-08-14T17:16:01.303248Z"
         },
         "ContentType": "application/octet-stream",
         "DatatakeID": 42880,
         "EndingDateTime": "2024-08-14T17:16:04.493248Z",
         "Footprint": "geography'SRID=4326;POLYGON ((9.675499 47.231078, 10.208817 47.28789, 10.722734 47.340091, 10.676046 47.544877, 10.161194 47.488062, 9.62696 47.426628, 9.675499 47.231078))'",
         "GeoFootprint": {
          "coordinates": [
           [
            [
             9.675499,
             47.231078
            ],
            [
             10.208817,
             47.28789
            ],
            [
             10.722734,
             47.340091
            ],
            [
             10.676046,
             47.544877
            ],
            [
             10.161194,
             47.488062
            ],
            [
             9.62696,
             47.426628
            ],
            [
             9.675499,
             47.231078
            ]
           ]
          ],
          "type": "Polygon"
         },
         "Id": "e23a9a40-abda-4e15-bcac-30595e0fb3d4",
         "Lines": 10619,
         "LinesPerBurst": 1517,
         "Name": "S1A-SLC-20240814T171601-030349-IW3-VV-042880",
         "OperationalMode": "IW",
         "OrbitDirection": "ASCENDING",
         "ParentProductId": "d2eaeb3d-1d80-4d1e-8fca-f97ee4e69bb5",
         "ParentProductName": "S1A_IW_SLC__1SDV_20240814T171540_20240814T171607_055212_06BAD3_C31B.SAFE",
         "ParentProductType": "IW_SLC__1S",
         "PlatformSerialIdentifier": "A",
         "PolarisationChannels": "VV",
         "RelativeOrbitNumber": 15,
         "S3Path": "/eodata/Sentinel-1/SAR/IW_SLC__1S/2024/08/14/S1A_IW_SLC__1SDV_20240814T171540_20240814T171607_055212_06BAD3_C31B.SAFE/measurement/s1a-iw3-slc-vv-20240814t171540-20240814t171606-055212-06bad3-006.tiff",
         "SamplesPerBurst": 25356,
         "SwathIdentifier": "IW3"
        },
        {
         "@odata.mediaContentType": "application/octet-stream",
         "AbsoluteBurstId": 118589525,
         "AzimuthAnxTime": 769.9072238804999,
         "AzimuthTime": "2024-08-14T17:16:02.920146Z",
         "BeginningDateTime": "2024-08-14T17:16:04.061525Z",
         "BurstId": 30350,
         "ByteOffset": 1230991203,
         "ContentDate": {
          "End": "2024-08-14T17:16:07.251525Z",
          "Start": "2024-08-14T17:16:04.061525Z"
         },
         "ContentType": "application/octet-stream",
         "DatatakeID": 42880,
         "EndingDateTime": "2024-08-14T17:16:07.251525Z",
         "Footprint": "geography'SRID=4326;POLYGON ((9.634481 47.396374, 10.169506 47.453176, 10.685068 47.505353, 10.638262 47.710134, 10.121749 47.653342, 9.585793 47.591916, 9.634481 47.396374))'",
         "GeoFootprint": {
          "coordinates": [
           [
            [
             9.634481,
             47.396374
            ],
            [
             10.169506,
             47.453176
            ],
            [
             10.685068,
             47.505353
            ],
            [
             10.638262,
             47.710134
            ],
            [
             10.121749,
             47.653342
            ],
            [
             9.585793,
             47.591916
            ],
            [
             9.634481,
             47.396374
            ]
           ]
          ],
          "type": "Polygon"
         },
         "Id": "18e5bfc0-662d-4bbd-98fa-c03704e9a484",
         "Lines": 12136,
         "LinesPerBurst": 1517,
         "Name": "S1A-SLC-20240814T171604-030350-IW3-VV-042880",
         "OperationalMode": "IW",
         "OrbitDirection": "ASCENDING",
         "ParentProductId": "d2eaeb3d-1d80-4d1e-8fca-f97ee4e69bb5",
         "ParentProductName": "S1A_IW_SLC__1SDV_20240814T171540_20240814T171607_055212_06BAD3_C31B.SAFE",
         "ParentProductType": "IW_SLC__1S",
         "PlatformSerialIdentifier": "A",
         "PolarisationChannels": "VV",
         "RelativeOrbitNumber": 15,
         "S3Path": "/eodata/Sentinel-1/SAR/IW_SLC__1S/2024/08/14/S1A_IW_SLC__1SDV_20240814T171540_20240814T171607_055212_06BAD3_C31B.SAFE/measurement/s1a-iw3-slc-vv-20240814t171540-20240814t171606-055212-06bad3-006.tiff",
         "SamplesPerBurst": 25356,
         "SwathIdentifier": "IW3"
        }
       ]
      },
      "text/plain": [
       "<IPython.core.display.JSON object>"
      ]
     },
     "execution_count": 7,
     "metadata": {
      "application/json": {
       "expanded": false,
       "root": "root"
      }
     },
     "output_type": "execute_result"
    }
   ],
   "source": [
    "with urllib.request.urlopen(https_request) as response:\n",
    "    content = response.read().decode()\n",
    "bursts_in_subswath = json.loads(content)\n",
    "JSON(bursts_in_subswath)"
   ]
  },
  {
   "cell_type": "code",
   "execution_count": 8,
   "id": "b3a694fe-3460-4420-8d21-911f02f3599e",
   "metadata": {},
   "outputs": [
    {
     "data": {
      "text/plain": [
       "[(30342, '2024-08-14T17:15:41.995309Z'),\n",
       " (30343, '2024-08-14T17:15:44.753586Z'),\n",
       " (30344, '2024-08-14T17:15:47.511863Z'),\n",
       " (30345, '2024-08-14T17:15:50.270140Z'),\n",
       " (30346, '2024-08-14T17:15:53.028417Z'),\n",
       " (30347, '2024-08-14T17:15:55.786694Z'),\n",
       " (30348, '2024-08-14T17:15:58.544971Z'),\n",
       " (30349, '2024-08-14T17:16:01.303248Z'),\n",
       " (30350, '2024-08-14T17:16:04.061525Z')]"
      ]
     },
     "execution_count": 8,
     "metadata": {},
     "output_type": "execute_result"
    }
   ],
   "source": [
    "[(b['BurstId'], b['BeginningDateTime']) for b in bursts_in_subswath['value']]"
   ]
  },
  {
   "cell_type": "code",
   "execution_count": 12,
   "id": "e5b80406-e103-4ef7-8b61-c517baa66063",
   "metadata": {},
   "outputs": [
    {
     "name": "stdout",
     "output_type": "stream",
     "text": [
      "Subswath: IW3, Burst number: 4\n"
     ]
    }
   ],
   "source": [
    "burstId_list = [b['BurstId'] for b in bursts_in_subswath['value']]\n",
    "tops_split_number = BurstId - min(burstId_list) + 1\n",
    "print(f'Subswath: {SwathIdentifier}, Burst number: {tops_split_number}')"
   ]
  },
  {
   "cell_type": "markdown",
   "id": "c2ff6948-f42b-49b4-9b83-51094ab96a5e",
   "metadata": {},
   "source": [
    "## 3) Get the data from the S3 bucket\n"
   ]
  },
  {
   "cell_type": "code",
   "execution_count": null,
   "id": "d8e8f9f6-ad6b-469d-8e50-7d5a804c49db",
   "metadata": {},
   "outputs": [],
   "source": [
    "import os\n",
    "os.environ[\"AWS_ACCESS_KEY_ID\"] = \"\"\n",
    "os.environ[\"AWS_SECRET_ACCESS_KEY\"] = \"\"\n",
    "\n",
    "if PolarisationChannels==\"VV\":\n",
    "    exclude_pol='vh'\n",
    "elif PolarisationChannels==\"VH\":\n",
    "    exclude_pol='vv'\n",
    "\n",
    "s3_endpoint = \"eodata.dataspace.copernicus.eu\"\n",
    "subswath_id = SwathIdentifier.lower()\n",
    "in_path = bursts[\"value\"][0][\"S3Path\"].split(\".SAFE\")[0] + \".SAFE\"\n",
    "output_path = bursts[\"value\"][0][\"S3Path\"].split(\".SAFE\")[0].split(\"/\")[-1] + \".SAFE/\""
   ]
  },
  {
   "cell_type": "code",
   "execution_count": null,
   "id": "9c726da0-237b-47fe-a2cd-9bbd193fa829",
   "metadata": {},
   "outputs": [],
   "source": [
    "os.system(f\"s5cmd --endpoint-url \\\"https://{s3_endpoint}\\\" cp --include \\\"*{subswath_id}*\\\" --exclude \\\"*{exclude_pol}*\\\" --include \\\"manifest.safe\\\" \\\"s3:/\\\"{in_path}\\\"/*\\\" {output_path}/\")"
   ]
  }
 ],
 "metadata": {
  "kernelspec": {
   "display_name": "Python 3 (ipykernel)",
   "language": "python",
   "name": "python3"
  },
  "language_info": {
   "codemirror_mode": {
    "name": "ipython",
    "version": 3
   },
   "file_extension": ".py",
   "mimetype": "text/x-python",
   "name": "python",
   "nbconvert_exporter": "python",
   "pygments_lexer": "ipython3",
   "version": "3.10.12"
  }
 },
 "nbformat": 4,
 "nbformat_minor": 5
}
