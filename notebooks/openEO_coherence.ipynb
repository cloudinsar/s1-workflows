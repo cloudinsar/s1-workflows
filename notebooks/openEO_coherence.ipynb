{
 "cells": [
  {
   "cell_type": "code",
   "execution_count": 22,
   "id": "8cac42c1-d0cd-408a-97f5-cb74a56b8152",
   "metadata": {
    "tags": []
   },
   "outputs": [
    {
     "name": "stdout",
     "output_type": "stream",
     "text": [
      "Authenticated using refresh token.\n"
     ]
    }
   ],
   "source": [
    "import openeo\n",
    "import numpy as np\n",
    "\n",
    "url = \"https://openeo.dataspace.copernicus.eu\"\n",
    "connection = openeo.connect(url).authenticate_oidc()"
   ]
  },
  {
   "cell_type": "code",
   "execution_count": 23,
   "id": "7d51463a-c71d-4835-b3cf-a722740f5f0f",
   "metadata": {
    "tags": []
   },
   "outputs": [
    {
     "data": {
      "text/html": [
       "\n",
       "    <script>\n",
       "    if (!window.customElements || !window.customElements.get('openeo-job')) {\n",
       "        var el = document.createElement('script');\n",
       "        el.src = \"https://cdn.jsdelivr.net/npm/@openeo/vue-components@2/assets/openeo.min.js\";\n",
       "        document.head.appendChild(el);\n",
       "\n",
       "        var font = document.createElement('font');\n",
       "        font.as = \"font\";\n",
       "        font.type = \"font/woff2\";\n",
       "        font.crossOrigin = true;\n",
       "        font.href = \"https://use.fontawesome.com/releases/v5.13.0/webfonts/fa-solid-900.woff2\"\n",
       "        document.head.appendChild(font);\n",
       "    }\n",
       "    </script>\n",
       "    <openeo-job>\n",
       "        <script type=\"application/json\">{\"currency\": \"credits\", \"job\": {\"created\": \"2025-06-05T09:04:58Z\", \"id\": \"j-250605090458430bb8a21919d97798a0\", \"process\": {\"process_graph\": {\"insarpreprocessing1\": {\"arguments\": {\"InSAR_pairs\": [[\"2024-08-09\", \"2024-09-02\"]], \"burst_id\": 249435, \"polarization\": \"vv\", \"sub_swath\": \"IW2\"}, \"process_id\": \"insar_preprocessing\"}, \"saveresult1\": {\"arguments\": {\"data\": {\"from_node\": \"insarpreprocessing1\"}, \"format\": \"GTiff\", \"options\": {}}, \"process_id\": \"save_result\", \"result\": true}}}, \"progress\": 0, \"status\": \"queued\", \"title\": \"sample_preprocessing_vv_single_pair\", \"updated\": \"2025-06-05T09:05:12Z\"}}</script>\n",
       "    </openeo-job>\n",
       "    "
      ],
      "text/plain": [
       "<BatchJob job_id='j-250605090458430bb8a21919d97798a0'>"
      ]
     },
     "execution_count": 23,
     "metadata": {},
     "output_type": "execute_result"
    }
   ],
   "source": [
    "datacube = openeo.rest.datacube.DataCube(\n",
    "  openeo.rest.datacube.PGNode(\n",
    "    \"insar_preprocessing\",\n",
    "    arguments={\n",
    "      \"burst_id\": 249435,\n",
    "      \"sub_swath\": \"IW2\",\n",
    "      \"InSAR_pairs\": [\n",
    "        [\"2024-08-09\", \"2024-08-21\"],\n",
    "        [\"2024-08-09\", \"2024-09-02\"],\n",
    "      ],\n",
    "      \"polarization\": \"vv\"\n",
    "    },\n",
    "  ),\n",
    "  connection=connection,\n",
    ").save_result(\"GTiff\")\n",
    "\n",
    "job = datacube.create_job(title=\"sample_preprocessing_vv\")\n",
    "job.start_job()"
   ]
  },
  {
   "cell_type": "code",
   "execution_count": 2,
   "id": "088fd6e0-91d7-4b53-9406-ea034d7bd48f",
   "metadata": {
    "tags": []
   },
   "outputs": [
    {
     "data": {
      "text/html": [
       "\n",
       "    <script>\n",
       "    if (!window.customElements || !window.customElements.get('openeo-job')) {\n",
       "        var el = document.createElement('script');\n",
       "        el.src = \"https://cdn.jsdelivr.net/npm/@openeo/vue-components@2/assets/openeo.min.js\";\n",
       "        document.head.appendChild(el);\n",
       "\n",
       "        var font = document.createElement('font');\n",
       "        font.as = \"font\";\n",
       "        font.type = \"font/woff2\";\n",
       "        font.crossOrigin = true;\n",
       "        font.href = \"https://use.fontawesome.com/releases/v5.13.0/webfonts/fa-solid-900.woff2\"\n",
       "        document.head.appendChild(font);\n",
       "    }\n",
       "    </script>\n",
       "    <openeo-job>\n",
       "        <script type=\"application/json\">{\"currency\": \"credits\", \"job\": {\"costs\": 4, \"created\": \"2025-05-29T11:59:17Z\", \"id\": \"j-2505291159174cb4ae73808db86f96ff\", \"process\": {\"process_graph\": {\"insarpreprocessing1\": {\"arguments\": {\"InSAR_pairs\": [[\"2024-08-09\", \"2024-08-21\"], [\"2024-08-09\", \"2024-09-02\"]], \"burst_id\": 249435, \"polarization\": \"vv\", \"sub_swath\": \"IW2\"}, \"process_id\": \"insar_preprocessing\"}, \"saveresult1\": {\"arguments\": {\"data\": {\"from_node\": \"insarpreprocessing1\"}, \"format\": \"GTiff\", \"options\": {}}, \"process_id\": \"save_result\", \"result\": true}}}, \"progress\": 100, \"status\": \"finished\", \"title\": \"sample_preprocessing_vv\", \"updated\": \"2025-05-29T12:10:13Z\", \"usage\": {\"cpu\": {\"unit\": \"cpu-seconds\", \"value\": 229.846768175}, \"duration\": {\"unit\": \"seconds\", \"value\": 632}, \"input_pixel\": {\"unit\": \"mega-pixel\", \"value\": 4.581081390380859}, \"max_executor_memory\": {\"unit\": \"gb\", \"value\": 1.7381362915039062}, \"memory\": {\"unit\": \"mb-seconds\", \"value\": 2859472.7110795453}, \"network_received\": {\"unit\": \"b\", \"value\": 1811344796}}}}</script>\n",
       "    </openeo-job>\n",
       "    "
      ],
      "text/plain": [
       "<BatchJob job_id='j-2505291159174cb4ae73808db86f96ff'>"
      ]
     },
     "execution_count": 2,
     "metadata": {},
     "output_type": "execute_result"
    }
   ],
   "source": [
    "job = connection.job(\"j-2505291159174cb4ae73808db86f96ff\")\n",
    "job"
   ]
  },
  {
   "cell_type": "markdown",
   "id": "2a7a49fd-fd30-42d3-afda-3fe4d097ab4d",
   "metadata": {},
   "source": [
    "Re use the pre-processed Sentinel-1 SLC data via STAC:"
   ]
  },
  {
   "cell_type": "code",
   "execution_count": 3,
   "id": "681ec251-3bb7-4fd6-9cb1-f13d305efb68",
   "metadata": {
    "tags": []
   },
   "outputs": [
    {
     "data": {
      "text/plain": [
       "'https://openeo.dataspace.copernicus.eu/openeo/1.2/jobs/j-2505291159174cb4ae73808db86f96ff/results/NWFkOThhZjAtZDQ2ZS00MDk0LTg0Y2EtZGJjM2FlMjllNmE5/0f7319bebbdd9ecf308bfc6183abee55?expires=1749718768'"
      ]
     },
     "execution_count": 3,
     "metadata": {},
     "output_type": "execute_result"
    }
   ],
   "source": [
    "job = connection.job(\"j-2505291159174cb4ae73808db86f96ff\")\n",
    "stac_result = job.get_results().get_metadata()\n",
    "stac_result_url = [x[\"href\"] for x in stac_result[\"links\"] if x[\"rel\"]==\"canonical\"][0]\n",
    "stac_result_url"
   ]
  },
  {
   "cell_type": "code",
   "execution_count": 4,
   "id": "15ffd556-cd27-4008-8dc6-841fb8ab53d9",
   "metadata": {
    "tags": []
   },
   "outputs": [],
   "source": [
    "cube = connection.load_stac(stac_result_url)"
   ]
  },
  {
   "cell_type": "code",
   "execution_count": 5,
   "id": "b97bf428-dc03-4b42-b8d4-e293b8bb63f0",
   "metadata": {
    "tags": []
   },
   "outputs": [],
   "source": [
    "from openeo.processes import ProcessBuilder, array_element\n",
    "\n",
    "def compute_real_part_numerator_VV(x:ProcessBuilder):\n",
    "    i_mst = array_element(x,label=\"i_VV_mst\")\n",
    "    q_mst = array_element(x,label=\"q_VV_mst\")\n",
    "    i_slv = array_element(x,label=\"i_VV_slv\")\n",
    "    q_slv = array_element(x,label=\"q_VV_slv\")\n",
    "    return (i_mst*i_slv + q_mst*q_slv)\n",
    "\n",
    "def compute_imag_part_numerator_VV(x:ProcessBuilder):\n",
    "    i_mst = array_element(x,label=\"i_VV_mst\")\n",
    "    q_mst = array_element(x,label=\"q_VV_mst\")\n",
    "    i_slv = array_element(x,label=\"i_VV_slv\")\n",
    "    q_slv = array_element(x,label=\"q_VV_slv\")\n",
    "    return (q_mst*i_slv - i_mst*q_slv)\n",
    "\n",
    "def compute_real_part_numerator_VH(x:ProcessBuilder):\n",
    "    i_mst = array_element(x,label=\"i_VH_mst\")\n",
    "    q_mst = array_element(x,label=\"q_VH_mst\")\n",
    "    i_slv = array_element(x,label=\"i_VH_slv\")\n",
    "    q_slv = array_element(x,label=\"q_VH_slv\")\n",
    "    return (i_mst*i_slv + q_mst*q_slv)\n",
    "\n",
    "def compute_imag_part_numerator_VH(x:ProcessBuilder):\n",
    "    i_mst = array_element(x,label=\"i_VH_mst\")\n",
    "    q_mst = array_element(x,label=\"q_VH_mst\")\n",
    "    i_slv = array_element(x,label=\"i_VH_slv\")\n",
    "    q_slv = array_element(x,label=\"q_VH_slv\")\n",
    "    return (q_mst*i_slv - i_mst*q_slv)\n",
    "\n",
    "def compute_mst_denominator_VV(x:ProcessBuilder):\n",
    "    i_mst = array_element(x,label=\"i_VV_mst\")\n",
    "    q_mst = array_element(x,label=\"q_VV_mst\")\n",
    "    return (i_mst**2+q_mst**2)\n",
    "\n",
    "def compute_slv_denominator_VV(x:ProcessBuilder):\n",
    "    i_slv = array_element(x,label=\"i_VV_slv\")\n",
    "    q_slv = array_element(x,label=\"q_VV_slv\")\n",
    "    return (i_slv**2+q_slv**2)\n",
    "\n",
    "def compute_mst_denominator_VH(x:ProcessBuilder):\n",
    "    i_mst = array_element(x,label=\"i_VH_mst\")\n",
    "    q_mst = array_element(x,label=\"q_VH_mst\")\n",
    "    return (i_mst**2+q_mst**2)\n",
    "\n",
    "def compute_slv_denominator_VH(x:ProcessBuilder):\n",
    "    i_slv = array_element(x,label=\"i_VH_slv\")\n",
    "    q_slv = array_element(x,label=\"q_VH_slv\")\n",
    "    return (i_slv**2+q_slv**2)\n",
    "\n",
    "def compute_coherence_amplitude_VV(x:ProcessBuilder):\n",
    "    q_num_VV = array_element(x,label=\"q_num_VV\")\n",
    "    i_num_VV = array_element(x,label=\"i_num_VV\")\n",
    "    mst_den = array_element(x,label=\"mst_den\")\n",
    "    slv_den = array_element(x,label=\"slv_den\")\n",
    "    \n",
    "    coh_i = i_num_VV / ((mst_den * slv_den + 1e-12)**0.5)\n",
    "    coh_q = q_num_VV / ((mst_den * slv_den + 1e-12)**0.5)\n",
    "    \n",
    "    return (coh_i**2+coh_q**2)**0.5\n",
    "\n",
    "def compute_coherence_amplitude_VH(x:ProcessBuilder):\n",
    "    q_num_VH = array_element(x,label=\"q_num_VH\")\n",
    "    i_num_VH = array_element(x,label=\"i_num_VH\")\n",
    "    mst_den = array_element(x,label=\"mst_den\")\n",
    "    slv_den = array_element(x,label=\"slv_den\")\n",
    "    \n",
    "    coh_i = i_num_VH / ((mst_den * slv_den + 1e-12)**0.5)\n",
    "    coh_q = q_num_VH / ((mst_den * slv_den + 1e-12)**0.5)\n",
    "    \n",
    "    return (coh_i**2+coh_q**2)**0.5"
   ]
  },
  {
   "cell_type": "code",
   "execution_count": 11,
   "id": "e95c2860-d57e-475b-bcfc-0903001d76e4",
   "metadata": {
    "tags": []
   },
   "outputs": [],
   "source": [
    "dates = [np.datetime64(\"2024-08-09\"),np.datetime64(\"2024-08-21\"),np.datetime64(\"2024-09-02\")]\n",
    "dates_pair = [[dates[0],dates[1]],[dates[1],dates[2]]]\n",
    "# We use a loop over the dates we want to request and a combination of filter_temporal + merge_cubes to get only the dates we want:\n",
    "for i,date_pair in enumerate(dates_pair):\n",
    "    # The requested date until the day after, since openEO excludes the end date\n",
    "    mst_date = date_pair[0]\n",
    "    slv_date = date_pair[1]\n",
    "    mst_temporal_extent = [str(mst_date),str(mst_date + np.timedelta64(1, \"D\"))]\n",
    "    slv_temporal_extent = [str(slv_date),str(slv_date + np.timedelta64(1, \"D\"))]\n",
    "\n",
    "    if i == 0:\n",
    "        S1_slant_range_mst_bands = cube.filter_temporal(mst_temporal_extent)\n",
    "        S1_slant_range_slv_bands = cube.filter_temporal(slv_temporal_extent)\n",
    "        break # +++++++++++++++++++++ Do it only for one pair for testing\n",
    "    else:\n",
    "        S1_slant_range_mst_bands = cube.filter_temporal(mst_temporal_extent).merge_cubes(S1_slant_range_mst_bands)\n",
    "        S1_slant_range_slv_bands = cube.filter_temporal(slv_temporal_extent).merge_cubes(S1_slant_range_slv_bands)\n",
    "        "
   ]
  },
  {
   "cell_type": "code",
   "execution_count": 12,
   "id": "4ed8b174-72c3-4333-a1a4-8808744be357",
   "metadata": {
    "tags": []
   },
   "outputs": [],
   "source": [
    "S1_slant_range_mst_bands = S1_slant_range_mst_bands.filter_bands([0,1]).drop_dimension(\"t\") # \"i_\" real part,\"q_\" imaginary part\n",
    "S1_slant_range_slv_bands = S1_slant_range_slv_bands.filter_bands([0,1]).drop_dimension(\"t\")"
   ]
  },
  {
   "cell_type": "code",
   "execution_count": 13,
   "id": "bc6b9c34-6006-4b55-b0e1-45c3dd5a8149",
   "metadata": {
    "tags": []
   },
   "outputs": [],
   "source": [
    "S1_slant_range_mst_bands = S1_slant_range_mst_bands.rename_labels(dimension=\"bands\",\n",
    "                                                                  source=[0,1],\n",
    "                                                                  target=[\"i_VV_mst\",\"q_VV_mst\"])\n",
    "S1_slant_range_slv_bands = S1_slant_range_slv_bands.rename_labels(dimension=\"bands\",\n",
    "                                                                  source=[0,1],\n",
    "                                                                  target=[\"i_VV_slv\",\"q_VV_slv\"])"
   ]
  },
  {
   "cell_type": "code",
   "execution_count": 14,
   "id": "79796ae9-4b72-4875-a33c-684c46118ca7",
   "metadata": {
    "tags": []
   },
   "outputs": [],
   "source": [
    "S1_slant_range_mst_slv_bands = S1_slant_range_mst_bands.merge_cubes(S1_slant_range_slv_bands)"
   ]
  },
  {
   "cell_type": "code",
   "execution_count": 15,
   "id": "d8d0363e-7275-4ba8-ae30-16a789d56b4b",
   "metadata": {
    "tags": []
   },
   "outputs": [],
   "source": [
    "i_numerator_VV = S1_slant_range_mst_slv_bands.reduce_dimension(dimension=\"bands\",\n",
    "                                                               reducer=compute_real_part_numerator_VV)\n",
    "q_numerator_VV = S1_slant_range_mst_slv_bands.reduce_dimension(dimension=\"bands\",\n",
    "                                                               reducer=compute_imag_part_numerator_VV)"
   ]
  },
  {
   "cell_type": "code",
   "execution_count": 16,
   "id": "21ea9713-9d06-4476-9d90-7d96da8bb905",
   "metadata": {
    "tags": []
   },
   "outputs": [],
   "source": [
    "mst_denominator_VV = S1_slant_range_mst_slv_bands.reduce_dimension(dimension=\"bands\",\n",
    "                                                                   reducer=compute_mst_denominator_VV)\n",
    "slv_denominator_VV = S1_slant_range_mst_slv_bands.reduce_dimension(dimension=\"bands\",\n",
    "                                                                   reducer=compute_slv_denominator_VV)"
   ]
  },
  {
   "cell_type": "code",
   "execution_count": 17,
   "id": "d9be0681-7e6a-4b82-a9a8-113ced2c01f6",
   "metadata": {
    "tags": []
   },
   "outputs": [],
   "source": [
    "i_numerator_VV_with_dim = i_numerator_VV.add_dimension(type=\"bands\",name=\"bands\",label=\"i_num_VV\")\n",
    "q_numerator_VV_with_dim = q_numerator_VV.add_dimension(type=\"bands\",name=\"bands\",label=\"q_num_VV\")\n",
    "mst_denominator_VV_with_dim = mst_denominator_VV.add_dimension(type=\"bands\",name=\"bands\",label=\"mst_den\")\n",
    "slv_denominator_VV_with_dim = slv_denominator_VV.add_dimension(type=\"bands\",name=\"bands\",label=\"slv_den\")\n",
    "\n",
    "coh_numerator_denominator_VV = i_numerator_VV_with_dim.merge_cubes(q_numerator_VV_with_dim).merge_cubes(mst_denominator_VV_with_dim).merge_cubes(slv_denominator_VV_with_dim)"
   ]
  },
  {
   "cell_type": "code",
   "execution_count": null,
   "id": "379e8fdc-ee5b-439d-971a-aa2c357b37cf",
   "metadata": {},
   "outputs": [],
   "source": [
    "# coh_numerator_denominator_VV.download(\"coh_numerator_denominator_VV.nc\")"
   ]
  },
  {
   "cell_type": "code",
   "execution_count": null,
   "id": "afeeb8f0-23be-4f76-8607-cfb1883b60d8",
   "metadata": {
    "tags": []
   },
   "outputs": [],
   "source": [
    "# Boxcar filter\n",
    "range_dim   = 5\n",
    "azimuth_dim = 1\n",
    "\n",
    "# Create kernel\n",
    "kernel = np.ones((range_dim,azimuth_dim))\n",
    "\n",
    "# Pad with zeros to get a square kernel\n",
    "pad = int((range_dim - azimuth_dim) / 2)\n",
    "kernel = np.pad(kernel,((0,0),(pad,pad)))\n",
    "\n",
    "coh_numerator_denominator_VV_boxcar = coh_numerator_denominator_VV.apply_kernel(kernel=kernel,\n",
    "                                                                                factor=1/(range_dim*azimuth_dim),\n",
    "                                                                                border=0)\n",
    "\n",
    "coh_VV = coh_numerator_denominator_VV_boxcar.reduce_dimension(dimension=\"bands\",\n",
    "                                                              reducer=compute_coherence_amplitude_VV)\n",
    "coh_amplitude = coh_VV.add_dimension(name=\"bands\",label=\"coh_VV_amp\")\n",
    "coh_amplitude = coh_amplitude.save_result(format=\"GTiff\")\n",
    "\n",
    "job = coh_amplitude.create_job(title=\"ClouDInSAR_coherence_from_preprocessing\")"
   ]
  },
  {
   "cell_type": "code",
   "execution_count": 21,
   "id": "41ced10d-e8d1-4bd9-9f16-b4296a2be222",
   "metadata": {
    "tags": []
   },
   "outputs": [
    {
     "data": {
      "text/html": [
       "\n",
       "    <script>\n",
       "    if (!window.customElements || !window.customElements.get('openeo-job')) {\n",
       "        var el = document.createElement('script');\n",
       "        el.src = \"https://cdn.jsdelivr.net/npm/@openeo/vue-components@2/assets/openeo.min.js\";\n",
       "        document.head.appendChild(el);\n",
       "\n",
       "        var font = document.createElement('font');\n",
       "        font.as = \"font\";\n",
       "        font.type = \"font/woff2\";\n",
       "        font.crossOrigin = true;\n",
       "        font.href = \"https://use.fontawesome.com/releases/v5.13.0/webfonts/fa-solid-900.woff2\"\n",
       "        document.head.appendChild(font);\n",
       "    }\n",
       "    </script>\n",
       "    <openeo-job>\n",
       "        <script type=\"application/json\">{\"currency\": \"credits\", \"job\": {\"created\": \"2025-06-05T09:01:25Z\", \"id\": \"j-25060509012543ebb48aa5ee8c65b7ed\", \"process\": {\"process_graph\": {\"adddimension1\": {\"arguments\": {\"data\": {\"from_node\": \"reducedimension1\"}, \"label\": \"i_num_VV\", \"name\": \"bands\", \"type\": \"bands\"}, \"process_id\": \"add_dimension\"}, \"adddimension2\": {\"arguments\": {\"data\": {\"from_node\": \"reducedimension2\"}, \"label\": \"q_num_VV\", \"name\": \"bands\", \"type\": \"bands\"}, \"process_id\": \"add_dimension\"}, \"adddimension3\": {\"arguments\": {\"data\": {\"from_node\": \"reducedimension3\"}, \"label\": \"mst_den\", \"name\": \"bands\", \"type\": \"bands\"}, \"process_id\": \"add_dimension\"}, \"adddimension4\": {\"arguments\": {\"data\": {\"from_node\": \"reducedimension4\"}, \"label\": \"slv_den\", \"name\": \"bands\", \"type\": \"bands\"}, \"process_id\": \"add_dimension\"}, \"adddimension5\": {\"arguments\": {\"data\": {\"from_node\": \"reducedimension5\"}, \"label\": \"coh_VV_amp\", \"name\": \"bands\"}, \"process_id\": \"add_dimension\"}, \"applykernel1\": {\"arguments\": {\"border\": 0, \"data\": {\"from_node\": \"mergecubes4\"}, \"factor\": 0.2, \"kernel\": [[0, 0, 1, 0, 0], [0, 0, 1, 0, 0], [0, 0, 1, 0, 0], [0, 0, 1, 0, 0], [0, 0, 1, 0, 0]], \"replace_invalid\": 0}, \"process_id\": \"apply_kernel\"}, \"dropdimension1\": {\"arguments\": {\"data\": {\"from_node\": \"filterbands1\"}, \"name\": \"t\"}, \"process_id\": \"drop_dimension\"}, \"dropdimension2\": {\"arguments\": {\"data\": {\"from_node\": \"filterbands2\"}, \"name\": \"t\"}, \"process_id\": \"drop_dimension\"}, \"filterbands1\": {\"arguments\": {\"bands\": [0, 1], \"data\": {\"from_node\": \"filtertemporal1\"}}, \"process_id\": \"filter_bands\"}, \"filterbands2\": {\"arguments\": {\"bands\": [0, 1], \"data\": {\"from_node\": \"filtertemporal2\"}}, \"process_id\": \"filter_bands\"}, \"filtertemporal1\": {\"arguments\": {\"data\": {\"from_node\": \"loadstac1\"}, \"extent\": [\"2024-08-09\", \"2024-08-10\"]}, \"process_id\": \"filter_temporal\"}, \"filtertemporal2\": {\"arguments\": {\"data\": {\"from_node\": \"loadstac1\"}, \"extent\": [\"2024-08-21\", \"2024-08-22\"]}, \"process_id\": \"filter_temporal\"}, \"loadstac1\": {\"arguments\": {\"url\": \"https://openeo.dataspace.copernicus.eu/openeo/1.2/jobs/j-2505291159174cb4ae73808db86f96ff/results/NWFkOThhZjAtZDQ2ZS00MDk0LTg0Y2EtZGJjM2FlMjllNmE5/0f7319bebbdd9ecf308bfc6183abee55?expires=1749718768\"}, \"process_id\": \"load_stac\"}, \"mergecubes1\": {\"arguments\": {\"cube1\": {\"from_node\": \"renamelabels1\"}, \"cube2\": {\"from_node\": \"renamelabels2\"}}, \"process_id\": \"merge_cubes\"}, \"mergecubes2\": {\"arguments\": {\"cube1\": {\"from_node\": \"adddimension1\"}, \"cube2\": {\"from_node\": \"adddimension2\"}}, \"process_id\": \"merge_cubes\"}, \"mergecubes3\": {\"arguments\": {\"cube1\": {\"from_node\": \"mergecubes2\"}, \"cube2\": {\"from_node\": \"adddimension3\"}}, \"process_id\": \"merge_cubes\"}, \"mergecubes4\": {\"arguments\": {\"cube1\": {\"from_node\": \"mergecubes3\"}, \"cube2\": {\"from_node\": \"adddimension4\"}}, \"process_id\": \"merge_cubes\"}, \"reducedimension1\": {\"arguments\": {\"data\": {\"from_node\": \"mergecubes1\"}, \"dimension\": \"bands\", \"reducer\": {\"process_graph\": {\"add1\": {\"arguments\": {\"x\": {\"from_node\": \"multiply1\"}, \"y\": {\"from_node\": \"multiply2\"}}, \"process_id\": \"add\", \"result\": true}, \"arrayelement1\": {\"arguments\": {\"data\": {\"from_parameter\": \"data\"}, \"label\": \"i_VV_mst\"}, \"process_id\": \"array_element\"}, \"arrayelement2\": {\"arguments\": {\"data\": {\"from_parameter\": \"data\"}, \"label\": \"i_VV_slv\"}, \"process_id\": \"array_element\"}, \"arrayelement3\": {\"arguments\": {\"data\": {\"from_parameter\": \"data\"}, \"label\": \"q_VV_mst\"}, \"process_id\": \"array_element\"}, \"arrayelement4\": {\"arguments\": {\"data\": {\"from_parameter\": \"data\"}, \"label\": \"q_VV_slv\"}, \"process_id\": \"array_element\"}, \"multiply1\": {\"arguments\": {\"x\": {\"from_node\": \"arrayelement1\"}, \"y\": {\"from_node\": \"arrayelement2\"}}, \"process_id\": \"multiply\"}, \"multiply2\": {\"arguments\": {\"x\": {\"from_node\": \"arrayelement3\"}, \"y\": {\"from_node\": \"arrayelement4\"}}, \"process_id\": \"multiply\"}}}}, \"process_id\": \"reduce_dimension\"}, \"reducedimension2\": {\"arguments\": {\"data\": {\"from_node\": \"mergecubes1\"}, \"dimension\": \"bands\", \"reducer\": {\"process_graph\": {\"arrayelement5\": {\"arguments\": {\"data\": {\"from_parameter\": \"data\"}, \"label\": \"q_VV_mst\"}, \"process_id\": \"array_element\"}, \"arrayelement6\": {\"arguments\": {\"data\": {\"from_parameter\": \"data\"}, \"label\": \"i_VV_slv\"}, \"process_id\": \"array_element\"}, \"arrayelement7\": {\"arguments\": {\"data\": {\"from_parameter\": \"data\"}, \"label\": \"i_VV_mst\"}, \"process_id\": \"array_element\"}, \"arrayelement8\": {\"arguments\": {\"data\": {\"from_parameter\": \"data\"}, \"label\": \"q_VV_slv\"}, \"process_id\": \"array_element\"}, \"multiply3\": {\"arguments\": {\"x\": {\"from_node\": \"arrayelement5\"}, \"y\": {\"from_node\": \"arrayelement6\"}}, \"process_id\": \"multiply\"}, \"multiply4\": {\"arguments\": {\"x\": {\"from_node\": \"arrayelement7\"}, \"y\": {\"from_node\": \"arrayelement8\"}}, \"process_id\": \"multiply\"}, \"subtract1\": {\"arguments\": {\"x\": {\"from_node\": \"multiply3\"}, \"y\": {\"from_node\": \"multiply4\"}}, \"process_id\": \"subtract\", \"result\": true}}}}, \"process_id\": \"reduce_dimension\"}, \"reducedimension3\": {\"arguments\": {\"data\": {\"from_node\": \"mergecubes1\"}, \"dimension\": \"bands\", \"reducer\": {\"process_graph\": {\"add2\": {\"arguments\": {\"x\": {\"from_node\": \"power1\"}, \"y\": {\"from_node\": \"power2\"}}, \"process_id\": \"add\", \"result\": true}, \"arrayelement10\": {\"arguments\": {\"data\": {\"from_parameter\": \"data\"}, \"label\": \"q_VV_mst\"}, \"process_id\": \"array_element\"}, \"arrayelement9\": {\"arguments\": {\"data\": {\"from_parameter\": \"data\"}, \"label\": \"i_VV_mst\"}, \"process_id\": \"array_element\"}, \"power1\": {\"arguments\": {\"base\": {\"from_node\": \"arrayelement9\"}, \"p\": 2}, \"process_id\": \"power\"}, \"power2\": {\"arguments\": {\"base\": {\"from_node\": \"arrayelement10\"}, \"p\": 2}, \"process_id\": \"power\"}}}}, \"process_id\": \"reduce_dimension\"}, \"reducedimension4\": {\"arguments\": {\"data\": {\"from_node\": \"mergecubes1\"}, \"dimension\": \"bands\", \"reducer\": {\"process_graph\": {\"add3\": {\"arguments\": {\"x\": {\"from_node\": \"power3\"}, \"y\": {\"from_node\": \"power4\"}}, \"process_id\": \"add\", \"result\": true}, \"arrayelement11\": {\"arguments\": {\"data\": {\"from_parameter\": \"data\"}, \"label\": \"i_VV_slv\"}, \"process_id\": \"array_element\"}, \"arrayelement12\": {\"arguments\": {\"data\": {\"from_parameter\": \"data\"}, \"label\": \"q_VV_slv\"}, \"process_id\": \"array_element\"}, \"power3\": {\"arguments\": {\"base\": {\"from_node\": \"arrayelement11\"}, \"p\": 2}, \"process_id\": \"power\"}, \"power4\": {\"arguments\": {\"base\": {\"from_node\": \"arrayelement12\"}, \"p\": 2}, \"process_id\": \"power\"}}}}, \"process_id\": \"reduce_dimension\"}, \"reducedimension5\": {\"arguments\": {\"data\": {\"from_node\": \"applykernel1\"}, \"dimension\": \"bands\", \"reducer\": {\"process_graph\": {\"add4\": {\"arguments\": {\"x\": {\"from_node\": \"multiply5\"}, \"y\": 1e-12}, \"process_id\": \"add\"}, \"add5\": {\"arguments\": {\"x\": {\"from_node\": \"multiply6\"}, \"y\": 1e-12}, \"process_id\": \"add\"}, \"add6\": {\"arguments\": {\"x\": {\"from_node\": \"power6\"}, \"y\": {\"from_node\": \"power8\"}}, \"process_id\": \"add\"}, \"arrayelement13\": {\"arguments\": {\"data\": {\"from_parameter\": \"data\"}, \"label\": \"i_num_VV\"}, \"process_id\": \"array_element\"}, \"arrayelement14\": {\"arguments\": {\"data\": {\"from_parameter\": \"data\"}, \"label\": \"mst_den\"}, \"process_id\": \"array_element\"}, \"arrayelement15\": {\"arguments\": {\"data\": {\"from_parameter\": \"data\"}, \"label\": \"slv_den\"}, \"process_id\": \"array_element\"}, \"arrayelement16\": {\"arguments\": {\"data\": {\"from_parameter\": \"data\"}, \"label\": \"q_num_VV\"}, \"process_id\": \"array_element\"}, \"divide1\": {\"arguments\": {\"x\": {\"from_node\": \"arrayelement13\"}, \"y\": {\"from_node\": \"power5\"}}, \"process_id\": \"divide\"}, \"divide2\": {\"arguments\": {\"x\": {\"from_node\": \"arrayelement16\"}, \"y\": {\"from_node\": \"power7\"}}, \"process_id\": \"divide\"}, \"multiply5\": {\"arguments\": {\"x\": {\"from_node\": \"arrayelement14\"}, \"y\": {\"from_node\": \"arrayelement15\"}}, \"process_id\": \"multiply\"}, \"multiply6\": {\"arguments\": {\"x\": {\"from_node\": \"arrayelement14\"}, \"y\": {\"from_node\": \"arrayelement15\"}}, \"process_id\": \"multiply\"}, \"power5\": {\"arguments\": {\"base\": {\"from_node\": \"add4\"}, \"p\": 0.5}, \"process_id\": \"power\"}, \"power6\": {\"arguments\": {\"base\": {\"from_node\": \"divide1\"}, \"p\": 2}, \"process_id\": \"power\"}, \"power7\": {\"arguments\": {\"base\": {\"from_node\": \"add5\"}, \"p\": 0.5}, \"process_id\": \"power\"}, \"power8\": {\"arguments\": {\"base\": {\"from_node\": \"divide2\"}, \"p\": 2}, \"process_id\": \"power\"}, \"power9\": {\"arguments\": {\"base\": {\"from_node\": \"add6\"}, \"p\": 0.5}, \"process_id\": \"power\", \"result\": true}}}}, \"process_id\": \"reduce_dimension\"}, \"renamelabels1\": {\"arguments\": {\"data\": {\"from_node\": \"dropdimension1\"}, \"dimension\": \"bands\", \"source\": [0, 1], \"target\": [\"i_VV_mst\", \"q_VV_mst\"]}, \"process_id\": \"rename_labels\"}, \"renamelabels2\": {\"arguments\": {\"data\": {\"from_node\": \"dropdimension2\"}, \"dimension\": \"bands\", \"source\": [0, 1], \"target\": [\"i_VV_slv\", \"q_VV_slv\"]}, \"process_id\": \"rename_labels\"}, \"saveresult1\": {\"arguments\": {\"data\": {\"from_node\": \"adddimension5\"}, \"format\": \"GTiff\", \"options\": {}}, \"process_id\": \"save_result\", \"result\": true}}}, \"progress\": 0, \"status\": \"created\", \"title\": \"ClouDInSAR_coherence_from_preprocessing\", \"updated\": \"2025-06-05T09:01:25Z\"}}</script>\n",
       "    </openeo-job>\n",
       "    "
      ],
      "text/plain": [
       "<BatchJob job_id='j-25060509012543ebb48aa5ee8c65b7ed'>"
      ]
     },
     "execution_count": 21,
     "metadata": {},
     "output_type": "execute_result"
    }
   ],
   "source": [
    "job.start_job()"
   ]
  },
  {
   "cell_type": "code",
   "execution_count": null,
   "id": "f754a02c-08fe-4442-8d5b-653b9bf3bee9",
   "metadata": {
    "tags": []
   },
   "outputs": [],
   "source": [
    "job = connection.job(\"j-25060509012543ebb48aa5ee8c65b7ed\")\n",
    "job.get_results().download_files()"
   ]
  }
 ],
 "metadata": {
  "kernelspec": {
   "display_name": "Python 3 (ipykernel)",
   "language": "python",
   "name": "python3"
  },
  "language_info": {
   "codemirror_mode": {
    "name": "ipython",
    "version": 3
   },
   "file_extension": ".py",
   "mimetype": "text/x-python",
   "name": "python",
   "nbconvert_exporter": "python",
   "pygments_lexer": "ipython3",
   "version": "3.10.16"
  }
 },
 "nbformat": 4,
 "nbformat_minor": 5
}
