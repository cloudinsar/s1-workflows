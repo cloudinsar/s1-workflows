{
 "cells": [
  {
   "cell_type": "code",
   "execution_count": 10,
   "id": "8cac42c1-d0cd-408a-97f5-cb74a56b8152",
   "metadata": {
    "ExecuteTime": {
     "end_time": "2025-09-03T11:07:41.314605Z",
     "start_time": "2025-09-03T11:07:40.361113Z"
    },
    "tags": []
   },
   "outputs": [
    {
     "name": "stdout",
     "output_type": "stream",
     "text": [
      "Authenticated using refresh token.\n"
     ]
    }
   ],
   "source": [
    "import openeo\n",
    "import numpy as np\n",
    "\n",
    "url = \"https://openeo-staging.dataspace.copernicus.eu\"\n",
    "connection = openeo.connect(url).authenticate_oidc()"
   ]
  },
  {
   "cell_type": "code",
   "execution_count": 9,
   "id": "97fda202-ebd7-4d78-8361-25f122744de8",
   "metadata": {},
   "outputs": [
    {
     "name": "stdout",
     "output_type": "stream",
     "text": [
      "0:00:00 Job 'j-25100212065049b5977728a74210ca7f': send 'start'\n",
      "0:00:12 Job 'j-25100212065049b5977728a74210ca7f': created (progress 0%)\n",
      "0:00:17 Job 'j-25100212065049b5977728a74210ca7f': created (progress 0%)\n",
      "0:00:24 Job 'j-25100212065049b5977728a74210ca7f': queued (progress 0%)\n",
      "0:00:31 Job 'j-25100212065049b5977728a74210ca7f': queued (progress 0%)\n",
      "0:00:41 Job 'j-25100212065049b5977728a74210ca7f': queued (progress 0%)\n",
      "0:00:54 Job 'j-25100212065049b5977728a74210ca7f': queued (progress 0%)\n",
      "0:01:09 Job 'j-25100212065049b5977728a74210ca7f': queued (progress 0%)\n",
      "0:01:29 Job 'j-25100212065049b5977728a74210ca7f': queued (progress 0%)\n",
      "0:01:53 Job 'j-25100212065049b5977728a74210ca7f': queued (progress 0%)\n"
     ]
    },
    {
     "ename": "KeyboardInterrupt",
     "evalue": "",
     "output_type": "error",
     "traceback": [
      "\u001b[0;31m---------------------------------------------------------------------------\u001b[0m",
      "\u001b[0;31mKeyboardInterrupt\u001b[0m                         Traceback (most recent call last)",
      "Cell \u001b[0;32mIn[9], line 17\u001b[0m\n\u001b[1;32m      1\u001b[0m datacube \u001b[38;5;241m=\u001b[39m connection\u001b[38;5;241m.\u001b[39mdatacube_from_process(\u001b[38;5;124m\"\u001b[39m\u001b[38;5;124minsar_preprocessing\u001b[39m\u001b[38;5;124m\"\u001b[39m, \n\u001b[1;32m      2\u001b[0m                                  burst_id \u001b[38;5;241m=\u001b[39m \u001b[38;5;241m249435\u001b[39m, \n\u001b[1;32m      3\u001b[0m                                  sub_swath \u001b[38;5;241m=\u001b[39m \u001b[38;5;124m\"\u001b[39m\u001b[38;5;124mIW2\u001b[39m\u001b[38;5;124m\"\u001b[39m,\n\u001b[0;32m   (...)\u001b[0m\n\u001b[1;32m      6\u001b[0m                                  polarization \u001b[38;5;241m=\u001b[39m [\u001b[38;5;124m\"\u001b[39m\u001b[38;5;124mvv\u001b[39m\u001b[38;5;124m\"\u001b[39m, \u001b[38;5;124m\"\u001b[39m\u001b[38;5;124mvh\u001b[39m\u001b[38;5;124m\"\u001b[39m],\n\u001b[1;32m      7\u001b[0m                                 )\u001b[38;5;241m.\u001b[39msave_result(\u001b[38;5;124m\"\u001b[39m\u001b[38;5;124mGTiff\u001b[39m\u001b[38;5;124m\"\u001b[39m)\n\u001b[1;32m     10\u001b[0m job \u001b[38;5;241m=\u001b[39m datacube\u001b[38;5;241m.\u001b[39mcreate_job(title\u001b[38;5;241m=\u001b[39m\u001b[38;5;124m\"\u001b[39m\u001b[38;5;124msample_preprocessing_vv_vh\u001b[39m\u001b[38;5;124m\"\u001b[39m, job_options\u001b[38;5;241m=\u001b[39m{\n\u001b[1;32m     11\u001b[0m     \u001b[38;5;124m\"\u001b[39m\u001b[38;5;124mdriver-memory\u001b[39m\u001b[38;5;124m\"\u001b[39m: \u001b[38;5;124m\"\u001b[39m\u001b[38;5;124m7G\u001b[39m\u001b[38;5;124m\"\u001b[39m,\n\u001b[1;32m     12\u001b[0m     \u001b[38;5;124m\"\u001b[39m\u001b[38;5;124mdriver-memoryOverhead\u001b[39m\u001b[38;5;124m\"\u001b[39m: \u001b[38;5;124m\"\u001b[39m\u001b[38;5;124m5G\u001b[39m\u001b[38;5;124m\"\u001b[39m,\n\u001b[0;32m   (...)\u001b[0m\n\u001b[1;32m     15\u001b[0m     \u001b[38;5;124m\"\u001b[39m\u001b[38;5;124mpython-memory\u001b[39m\u001b[38;5;124m\"\u001b[39m: \u001b[38;5;124m\"\u001b[39m\u001b[38;5;124m4200m\u001b[39m\u001b[38;5;124m\"\u001b[39m,\n\u001b[1;32m     16\u001b[0m })\n\u001b[0;32m---> 17\u001b[0m \u001b[43mjob\u001b[49m\u001b[38;5;241;43m.\u001b[39;49m\u001b[43mstart_and_wait\u001b[49m\u001b[43m(\u001b[49m\u001b[43m)\u001b[49m\n\u001b[1;32m     18\u001b[0m job\n",
      "File \u001b[0;32m~/openeo/openeo-python-client/openeo/rest/job.py:371\u001b[0m, in \u001b[0;36mBatchJob.start_and_wait\u001b[0;34m(self, print, max_poll_interval, connection_retry_interval, soft_error_max, show_error_logs, require_success)\u001b[0m\n\u001b[1;32m    368\u001b[0m         \u001b[38;5;28;01mbreak\u001b[39;00m\n\u001b[1;32m    370\u001b[0m     \u001b[38;5;66;03m# Sleep for next poll (and adaptively make polling less frequent)\u001b[39;00m\n\u001b[0;32m--> 371\u001b[0m     \u001b[43mtime\u001b[49m\u001b[38;5;241;43m.\u001b[39;49m\u001b[43msleep\u001b[49m\u001b[43m(\u001b[49m\u001b[43mpoll_interval\u001b[49m\u001b[43m)\u001b[49m\n\u001b[1;32m    372\u001b[0m     poll_interval \u001b[38;5;241m=\u001b[39m \u001b[38;5;28mmin\u001b[39m(\u001b[38;5;241m1.25\u001b[39m \u001b[38;5;241m*\u001b[39m poll_interval, max_poll_interval)\n\u001b[1;32m    374\u001b[0m \u001b[38;5;28;01mif\u001b[39;00m require_success \u001b[38;5;129;01mand\u001b[39;00m status \u001b[38;5;241m!=\u001b[39m \u001b[38;5;124m\"\u001b[39m\u001b[38;5;124mfinished\u001b[39m\u001b[38;5;124m\"\u001b[39m:\n\u001b[1;32m    375\u001b[0m     \u001b[38;5;66;03m# TODO: render logs jupyter-aware in a notebook context?\u001b[39;00m\n",
      "\u001b[0;31mKeyboardInterrupt\u001b[0m: "
     ]
    }
   ],
   "source": [
    "datacube = connection.datacube_from_process(\"insar_preprocessing\", \n",
    "                                 burst_id = 249435, \n",
    "                                 sub_swath = \"IW2\",\n",
    "                                 temporal_extent = [\"2024-08-09\", \"2024-09-02\"],\n",
    "                                 master_date = \"2024-09-02\",\n",
    "                                 polarization = [\"vv\"],\n",
    "                                ).save_result(\"GTiff\")\n",
    "\n",
    "\n",
    "job = datacube.create_job(title=\"sample_preprocessing_vv\", job_options={\n",
    "    \"python-memory\": \"4200m\",\n",
    "})\n",
    "job.start_and_wait()\n",
    "job"
   ]
  },
  {
   "cell_type": "code",
   "execution_count": 18,
   "id": "088fd6e0-91d7-4b53-9406-ea034d7bd48f",
   "metadata": {
    "tags": []
   },
   "outputs": [
    {
     "data": {
      "text/html": [
       "\n",
       "    <script>\n",
       "    if (!window.customElements || !window.customElements.get('openeo-job')) {\n",
       "        var el = document.createElement('script');\n",
       "        el.src = \"https://cdn.jsdelivr.net/npm/@openeo/vue-components@2/assets/openeo.min.js\";\n",
       "        document.head.appendChild(el);\n",
       "\n",
       "        var font = document.createElement('font');\n",
       "        font.as = \"font\";\n",
       "        font.type = \"font/woff2\";\n",
       "        font.crossOrigin = true;\n",
       "        font.href = \"https://use.fontawesome.com/releases/v5.13.0/webfonts/fa-solid-900.woff2\"\n",
       "        document.head.appendChild(font);\n",
       "    }\n",
       "    </script>\n",
       "    <openeo-job>\n",
       "        <script type=\"application/json\">{\"currency\": \"credits\", \"federation\": null, \"job\": {\"costs\": 9, \"created\": \"2025-10-02T12:06:50Z\", \"id\": \"j-25100212065049b5977728a74210ca7f\", \"process\": {\"process_graph\": {\"insarpreprocessing1\": {\"arguments\": {\"burst_id\": 249435, \"master_date\": \"2024-09-02\", \"polarization\": [\"vv\", \"vh\"], \"sub_swath\": \"IW2\", \"temporal_extent\": [\"2024-08-09\", \"2024-09-02\"]}, \"process_id\": \"insar_preprocessing\"}, \"saveresult1\": {\"arguments\": {\"data\": {\"from_node\": \"insarpreprocessing1\"}, \"format\": \"GTiff\", \"options\": {}}, \"process_id\": \"save_result\", \"result\": true}}}, \"progress\": 100, \"status\": \"finished\", \"title\": \"sample_preprocessing_vv_vh\", \"updated\": \"2025-10-02T12:27:08Z\", \"usage\": {\"duration\": {\"unit\": \"seconds\", \"value\": 1210}, \"input_pixel\": {\"unit\": \"mega-pixel\", \"value\": 687.3975219726562}}}}</script>\n",
       "    </openeo-job>\n",
       "    "
      ],
      "text/plain": [
       "<BatchJob job_id='j-25100212065049b5977728a74210ca7f'>"
      ]
     },
     "execution_count": 18,
     "metadata": {},
     "output_type": "execute_result"
    }
   ],
   "source": [
    "job = connection.job(\"j-25100212065049b5977728a74210ca7f\")  # a job that has VV and VH bands\n",
    "job"
   ]
  },
  {
   "cell_type": "markdown",
   "id": "2a7a49fd-fd30-42d3-afda-3fe4d097ab4d",
   "metadata": {},
   "source": [
    "Re use the pre-processed Sentinel-1 SLC data via STAC:"
   ]
  },
  {
   "cell_type": "code",
   "execution_count": 54,
   "id": "15ffd556-cd27-4008-8dc6-841fb8ab53d9",
   "metadata": {
    "tags": []
   },
   "outputs": [
    {
     "name": "stderr",
     "output_type": "stream",
     "text": [
      "bands_from_stac_collection: consulting items for band metadata\n"
     ]
    }
   ],
   "source": [
    "#cube = connection.load_stac_from_job(\"j-25100212065049b5977728a74210ca7f\")\n",
    "cube = connection.load_stac(\n",
    "    url=\"https://openeo-staging.dataspace.copernicus.eu/openeo/1.2/jobs/j-25100212065049b5977728a74210ca7f/results/ODlhOWM4NjgtY2M0NC00NmJiLTkyMjktMTVmZjdmMjk4NWNm/c8d5e1a6a15cae61c630052fbaf523c1?expires=1760051374\",\n",
    "    temporal_extent=[\"2024-08-09\", \"2024-09-02\"],\n",
    ")\n",
    "cube = cube.filter_bands(['i_VV', 'q_VV', 'grid_lat', 'grid_lon'])"
   ]
  },
  {
   "cell_type": "code",
   "execution_count": 34,
   "id": "d2ef3cc4-9b56-47a5-a5ac-a99a4c51da20",
   "metadata": {},
   "outputs": [
    {
     "data": {
      "text/plain": [
       "['i_VV', 'q_VV', 'grid_lat', 'grid_lon']"
      ]
     },
     "execution_count": 34,
     "metadata": {},
     "output_type": "execute_result"
    }
   ],
   "source": [
    "cube.metadata.band_names"
   ]
  },
  {
   "cell_type": "code",
   "execution_count": 55,
   "id": "98dcaad7-7148-45b4-9de0-badef1f0ddc4",
   "metadata": {},
   "outputs": [
    {
     "data": {
      "text/plain": [
       "False"
      ]
     },
     "execution_count": 55,
     "metadata": {},
     "output_type": "execute_result"
    }
   ],
   "source": [
    "cube.metadata.has_temporal_dimension()  # False, while should be True"
   ]
  },
  {
   "cell_type": "code",
   "execution_count": 56,
   "id": "b3a1f26a-70de-47c9-9126-58f1d5ea1438",
   "metadata": {},
   "outputs": [],
   "source": [
    "cube.metadata = None  # clear to avoid temporal dimension issues"
   ]
  },
  {
   "cell_type": "code",
   "execution_count": 35,
   "id": "b97bf428-dc03-4b42-b8d4-e293b8bb63f0",
   "metadata": {
    "tags": []
   },
   "outputs": [],
   "source": [
    "from openeo.processes import ProcessBuilder, array_element, array_create\n",
    "\n",
    "def compute_parts_VV(x:ProcessBuilder):\n",
    "    i_mst = array_element(x,label=\"i_VV_mst\")\n",
    "    q_mst = array_element(x,label=\"q_VV_mst\")\n",
    "    i_slv = array_element(x,label=\"i_VV_slv\")\n",
    "    q_slv = array_element(x,label=\"q_VV_slv\")\n",
    "    return array_create([i_mst*i_slv + q_mst*q_slv,q_mst*i_slv - i_mst*q_slv,i_mst**2+q_mst**2,i_slv**2+q_slv**2])\n",
    "    \n",
    "def compute_parts_VH(x:ProcessBuilder):\n",
    "    i_mst = array_element(x,label=\"i_VH_mst\")\n",
    "    q_mst = array_element(x,label=\"q_VH_mst\")\n",
    "    i_slv = array_element(x,label=\"i_VH_slv\")\n",
    "    q_slv = array_element(x,label=\"q_VH_slv\")\n",
    "    return array_create([i_mst*i_slv + q_mst*q_slv,q_mst*i_slv - i_mst*q_slv,i_mst**2+q_mst**2,i_slv**2+q_slv**2])\n",
    "    \n",
    "def compute_coherence_amplitude_VV(x:ProcessBuilder):\n",
    "    q_num_VV = array_element(x,label=\"q_num_VV\")\n",
    "    i_num_VV = array_element(x,label=\"i_num_VV\")\n",
    "    mst_den = array_element(x,label=\"mst_den\")\n",
    "    slv_den = array_element(x,label=\"slv_den\")\n",
    "    \n",
    "    coh_i = i_num_VV / ((mst_den * slv_den + 1e-12)**0.5)\n",
    "    coh_q = q_num_VV / ((mst_den * slv_den + 1e-12)**0.5)\n",
    "    \n",
    "    return (coh_i**2+coh_q**2)**0.5\n",
    "\n",
    "def compute_coherence_amplitude_VH(x:ProcessBuilder):\n",
    "    q_num_VH = array_element(x,label=\"q_num_VH\")\n",
    "    i_num_VH = array_element(x,label=\"i_num_VH\")\n",
    "    mst_den = array_element(x,label=\"mst_den\")\n",
    "    slv_den = array_element(x,label=\"slv_den\")\n",
    "    \n",
    "    coh_i = i_num_VH / ((mst_den * slv_den + 1e-12)**0.5)\n",
    "    coh_q = q_num_VH / ((mst_den * slv_den + 1e-12)**0.5)\n",
    "    \n",
    "    return (coh_i**2+coh_q**2)**0.5"
   ]
  },
  {
   "cell_type": "code",
   "execution_count": 36,
   "id": "e95c2860-d57e-475b-bcfc-0903001d76e4",
   "metadata": {
    "tags": []
   },
   "outputs": [],
   "source": [
    "dates = [np.datetime64(\"2024-08-09\"),np.datetime64(\"2024-08-21\"),np.datetime64(\"2024-09-02\")]\n",
    "dates_pair = [[dates[0],dates[1]],[dates[1],dates[2]]]\n",
    "# We use a loop over the dates we want to request and a combination of filter_temporal + merge_cubes to get only the dates we want:\n",
    "for i,date_pair in enumerate(dates_pair):\n",
    "    # The requested date until the day after, since openEO excludes the end date\n",
    "    mst_date = date_pair[0]\n",
    "    slv_date = date_pair[1]\n",
    "    mst_temporal_extent = [str(mst_date),str(mst_date + np.timedelta64(1, \"D\"))]\n",
    "    slv_temporal_extent = [str(slv_date),str(slv_date + np.timedelta64(1, \"D\"))]\n",
    "\n",
    "    if i == 0:\n",
    "        S1_slant_range_mst_bands = cube.filter_temporal(mst_temporal_extent)\n",
    "        S1_slant_range_slv_bands = cube.filter_temporal(slv_temporal_extent)\n",
    "        break # +++++++++++++++++++++ Do it only for one pair for testing\n",
    "    else:\n",
    "        S1_slant_range_mst_bands = cube.filter_temporal(mst_temporal_extent).merge_cubes(S1_slant_range_mst_bands)\n",
    "        S1_slant_range_slv_bands = cube.filter_temporal(slv_temporal_extent).merge_cubes(S1_slant_range_slv_bands)\n",
    "        "
   ]
  },
  {
   "cell_type": "code",
   "execution_count": 38,
   "id": "4ed8b174-72c3-4333-a1a4-8808744be357",
   "metadata": {
    "tags": []
   },
   "outputs": [],
   "source": [
    "S1_slant_range_mst_bands = S1_slant_range_mst_bands.filter_bands([0,1]) #.drop_dimension(\"t\") # \"i_\" real part,\"q_\" imaginary part\n",
    "S1_slant_range_slv_bands = S1_slant_range_slv_bands.filter_bands([0,1]) #.drop_dimension(\"t\")"
   ]
  },
  {
   "cell_type": "code",
   "execution_count": 39,
   "id": "bc6b9c34-6006-4b55-b0e1-45c3dd5a8149",
   "metadata": {
    "tags": []
   },
   "outputs": [],
   "source": [
    "S1_slant_range_mst_bands = S1_slant_range_mst_bands.rename_labels(dimension=\"bands\",\n",
    "                                                                  source=[0,1],\n",
    "                                                                  target=[\"i_VV_mst\",\"q_VV_mst\"])\n",
    "S1_slant_range_slv_bands = S1_slant_range_slv_bands.rename_labels(dimension=\"bands\",\n",
    "                                                                  source=[0,1],\n",
    "                                                                  target=[\"i_VV_slv\",\"q_VV_slv\"])"
   ]
  },
  {
   "cell_type": "code",
   "execution_count": 40,
   "id": "79796ae9-4b72-4875-a33c-684c46118ca7",
   "metadata": {
    "tags": []
   },
   "outputs": [],
   "source": [
    "S1_slant_range_mst_slv_bands = S1_slant_range_mst_bands.merge_cubes(S1_slant_range_slv_bands)"
   ]
  },
  {
   "cell_type": "code",
   "execution_count": 41,
   "id": "69476fe8-297b-44c2-9533-34859ef169c0",
   "metadata": {},
   "outputs": [],
   "source": [
    "coh_numerator_denominator_VV = S1_slant_range_mst_slv_bands.apply_dimension(dimension=\"bands\",\n",
    "                                                               process=compute_parts_VV).rename_labels(\"bands\",target=[\"i_num_VV\",\"q_num_VV\",\"mst_den\",\"slv_den\"])"
   ]
  },
  {
   "cell_type": "code",
   "execution_count": 42,
   "id": "379e8fdc-ee5b-439d-971a-aa2c357b37cf",
   "metadata": {},
   "outputs": [
    {
     "name": "stdout",
     "output_type": "stream",
     "text": [
      "0:00:00 Job 'j-251002215256489d830b6a4d74971477': send 'start'\n",
      "0:00:15 Job 'j-251002215256489d830b6a4d74971477': queued (progress 0%)\n",
      "0:00:20 Job 'j-251002215256489d830b6a4d74971477': queued (progress 0%)\n",
      "0:00:27 Job 'j-251002215256489d830b6a4d74971477': queued (progress 0%)\n",
      "0:00:35 Job 'j-251002215256489d830b6a4d74971477': queued (progress 0%)\n",
      "0:00:45 Job 'j-251002215256489d830b6a4d74971477': queued (progress 0%)\n",
      "0:00:58 Job 'j-251002215256489d830b6a4d74971477': queued (progress 0%)\n",
      "0:01:13 Job 'j-251002215256489d830b6a4d74971477': running (progress 10.3%)\n",
      "0:01:32 Job 'j-251002215256489d830b6a4d74971477': running (progress 12.8%)\n",
      "0:01:56 Job 'j-251002215256489d830b6a4d74971477': running (progress 15.8%)\n",
      "0:02:27 Job 'j-251002215256489d830b6a4d74971477': running (progress 19.2%)\n",
      "0:03:04 Job 'j-251002215256489d830b6a4d74971477': running (progress 23.1%)\n",
      "0:03:51 Job 'j-251002215256489d830b6a4d74971477': running (progress 27.5%)\n",
      "0:21:21 Job 'j-251002215256489d830b6a4d74971477': finished (progress 100%)\n"
     ]
    },
    {
     "data": {
      "text/html": [
       "\n",
       "    <script>\n",
       "    if (!window.customElements || !window.customElements.get('openeo-job')) {\n",
       "        var el = document.createElement('script');\n",
       "        el.src = \"https://cdn.jsdelivr.net/npm/@openeo/vue-components@2/assets/openeo.min.js\";\n",
       "        document.head.appendChild(el);\n",
       "\n",
       "        var font = document.createElement('font');\n",
       "        font.as = \"font\";\n",
       "        font.type = \"font/woff2\";\n",
       "        font.crossOrigin = true;\n",
       "        font.href = \"https://use.fontawesome.com/releases/v5.13.0/webfonts/fa-solid-900.woff2\"\n",
       "        document.head.appendChild(font);\n",
       "    }\n",
       "    </script>\n",
       "    <openeo-job>\n",
       "        <script type=\"application/json\">{\"currency\": \"credits\", \"federation\": null, \"job\": {\"costs\": 5, \"created\": \"2025-10-02T21:52:56Z\", \"id\": \"j-251002215256489d830b6a4d74971477\", \"process\": {\"process_graph\": {\"applydimension1\": {\"arguments\": {\"data\": {\"from_node\": \"mergecubes1\"}, \"dimension\": \"bands\", \"process\": {\"process_graph\": {\"add1\": {\"arguments\": {\"x\": {\"from_node\": \"multiply1\"}, \"y\": {\"from_node\": \"multiply2\"}}, \"process_id\": \"add\"}, \"add2\": {\"arguments\": {\"x\": {\"from_node\": \"power1\"}, \"y\": {\"from_node\": \"power2\"}}, \"process_id\": \"add\"}, \"add3\": {\"arguments\": {\"x\": {\"from_node\": \"power3\"}, \"y\": {\"from_node\": \"power4\"}}, \"process_id\": \"add\"}, \"arraycreate1\": {\"arguments\": {\"data\": [{\"from_node\": \"add1\"}, {\"from_node\": \"subtract1\"}, {\"from_node\": \"add2\"}, {\"from_node\": \"add3\"}]}, \"process_id\": \"array_create\", \"result\": true}, \"arrayelement1\": {\"arguments\": {\"data\": {\"from_parameter\": \"data\"}, \"label\": \"i_VV_mst\"}, \"process_id\": \"array_element\"}, \"arrayelement2\": {\"arguments\": {\"data\": {\"from_parameter\": \"data\"}, \"label\": \"i_VV_slv\"}, \"process_id\": \"array_element\"}, \"arrayelement3\": {\"arguments\": {\"data\": {\"from_parameter\": \"data\"}, \"label\": \"q_VV_mst\"}, \"process_id\": \"array_element\"}, \"arrayelement4\": {\"arguments\": {\"data\": {\"from_parameter\": \"data\"}, \"label\": \"q_VV_slv\"}, \"process_id\": \"array_element\"}, \"multiply1\": {\"arguments\": {\"x\": {\"from_node\": \"arrayelement1\"}, \"y\": {\"from_node\": \"arrayelement2\"}}, \"process_id\": \"multiply\"}, \"multiply2\": {\"arguments\": {\"x\": {\"from_node\": \"arrayelement3\"}, \"y\": {\"from_node\": \"arrayelement4\"}}, \"process_id\": \"multiply\"}, \"multiply3\": {\"arguments\": {\"x\": {\"from_node\": \"arrayelement3\"}, \"y\": {\"from_node\": \"arrayelement2\"}}, \"process_id\": \"multiply\"}, \"multiply4\": {\"arguments\": {\"x\": {\"from_node\": \"arrayelement1\"}, \"y\": {\"from_node\": \"arrayelement4\"}}, \"process_id\": \"multiply\"}, \"power1\": {\"arguments\": {\"base\": {\"from_node\": \"arrayelement1\"}, \"p\": 2}, \"process_id\": \"power\"}, \"power2\": {\"arguments\": {\"base\": {\"from_node\": \"arrayelement3\"}, \"p\": 2}, \"process_id\": \"power\"}, \"power3\": {\"arguments\": {\"base\": {\"from_node\": \"arrayelement2\"}, \"p\": 2}, \"process_id\": \"power\"}, \"power4\": {\"arguments\": {\"base\": {\"from_node\": \"arrayelement4\"}, \"p\": 2}, \"process_id\": \"power\"}, \"subtract1\": {\"arguments\": {\"x\": {\"from_node\": \"multiply3\"}, \"y\": {\"from_node\": \"multiply4\"}}, \"process_id\": \"subtract\"}}}}, \"process_id\": \"apply_dimension\"}, \"filterbands1\": {\"arguments\": {\"bands\": [\"i_VV\", \"q_VV\", \"grid_lat\", \"grid_lon\"], \"data\": {\"from_node\": \"loadstac1\"}}, \"process_id\": \"filter_bands\"}, \"filterbands2\": {\"arguments\": {\"bands\": [\"i_VV\", \"q_VV\"], \"data\": {\"from_node\": \"filtertemporal1\"}}, \"process_id\": \"filter_bands\"}, \"filterbands3\": {\"arguments\": {\"bands\": [\"i_VV\", \"q_VV\"], \"data\": {\"from_node\": \"filtertemporal2\"}}, \"process_id\": \"filter_bands\"}, \"filtertemporal1\": {\"arguments\": {\"data\": {\"from_node\": \"filterbands1\"}, \"extent\": [\"2024-08-09\", \"2024-08-10\"]}, \"process_id\": \"filter_temporal\"}, \"filtertemporal2\": {\"arguments\": {\"data\": {\"from_node\": \"filterbands1\"}, \"extent\": [\"2024-08-21\", \"2024-08-22\"]}, \"process_id\": \"filter_temporal\"}, \"loadstac1\": {\"arguments\": {\"url\": \"https://openeo-staging.dataspace.copernicus.eu/openeo/1.2/jobs/j-25100212065049b5977728a74210ca7f/results/ODlhOWM4NjgtY2M0NC00NmJiLTkyMjktMTVmZjdmMjk4NWNm/eedf37eb7e0454073d8d676fb1852769?expires=1760046748\"}, \"process_id\": \"load_stac\"}, \"mergecubes1\": {\"arguments\": {\"cube1\": {\"from_node\": \"renamelabels1\"}, \"cube2\": {\"from_node\": \"renamelabels2\"}}, \"process_id\": \"merge_cubes\"}, \"renamelabels1\": {\"arguments\": {\"data\": {\"from_node\": \"filterbands2\"}, \"dimension\": \"bands\", \"source\": [0, 1], \"target\": [\"i_VV_mst\", \"q_VV_mst\"]}, \"process_id\": \"rename_labels\"}, \"renamelabels2\": {\"arguments\": {\"data\": {\"from_node\": \"filterbands3\"}, \"dimension\": \"bands\", \"source\": [0, 1], \"target\": [\"i_VV_slv\", \"q_VV_slv\"]}, \"process_id\": \"rename_labels\"}, \"renamelabels3\": {\"arguments\": {\"data\": {\"from_node\": \"applydimension1\"}, \"dimension\": \"bands\", \"target\": [\"i_num_VV\", \"q_num_VV\", \"mst_den\", \"slv_den\"]}, \"process_id\": \"rename_labels\"}, \"saveresult1\": {\"arguments\": {\"data\": {\"from_node\": \"renamelabels3\"}, \"format\": \"GTiff\", \"options\": {}}, \"process_id\": \"save_result\", \"result\": true}}}, \"progress\": 100, \"status\": \"finished\", \"updated\": \"2025-10-02T21:57:09Z\", \"usage\": {\"duration\": {\"unit\": \"seconds\", \"value\": 213}, \"input_pixel\": {\"unit\": \"mega-pixel\", \"value\": 305.510009765625}}}}</script>\n",
       "    </openeo-job>\n",
       "    "
      ],
      "text/plain": [
       "<BatchJob job_id='j-251002215256489d830b6a4d74971477'>"
      ]
     },
     "execution_count": 42,
     "metadata": {},
     "output_type": "execute_result"
    }
   ],
   "source": [
    "coh_numerator_denominator_VV.execute_batch()"
   ]
  },
  {
   "cell_type": "code",
   "execution_count": 43,
   "id": "e8a71787-3f17-469e-aab3-5b75d7961581",
   "metadata": {},
   "outputs": [],
   "source": [
    "from openeo.processes import inspect"
   ]
  },
  {
   "cell_type": "code",
   "execution_count": 49,
   "id": "6f8ad125-91d5-407e-8533-84401fb6ffe2",
   "metadata": {},
   "outputs": [
    {
     "data": {
      "text/html": [
       "\n",
       "    <script>\n",
       "    if (!window.customElements || !window.customElements.get('openeo-model-builder')) {\n",
       "        var el = document.createElement('script');\n",
       "        el.src = \"https://cdn.jsdelivr.net/npm/@openeo/vue-components@2/assets/openeo.min.js\";\n",
       "        document.head.appendChild(el);\n",
       "\n",
       "        var font = document.createElement('font');\n",
       "        font.as = \"font\";\n",
       "        font.type = \"font/woff2\";\n",
       "        font.crossOrigin = true;\n",
       "        font.href = \"https://use.fontawesome.com/releases/v5.13.0/webfonts/fa-solid-900.woff2\"\n",
       "        document.head.appendChild(font);\n",
       "    }\n",
       "    </script>\n",
       "    <openeo-model-builder>\n",
       "        <script type=\"application/json\">{\"id\": \"05bab650ee6045d48c2e258ec22c8b3d\", \"explicit-zoom\": true, \"height\": \"400px\", \"value\": {\"process_graph\": {\"loadstac1\": {\"process_id\": \"load_stac\", \"arguments\": {\"url\": \"https://openeo-staging.dataspace.copernicus.eu/openeo/1.2/jobs/j-25100212065049b5977728a74210ca7f/results/ODlhOWM4NjgtY2M0NC00NmJiLTkyMjktMTVmZjdmMjk4NWNm/eedf37eb7e0454073d8d676fb1852769?expires=1760046748\"}}, \"filterbands1\": {\"process_id\": \"filter_bands\", \"arguments\": {\"bands\": [\"i_VV\", \"q_VV\", \"grid_lat\", \"grid_lon\"], \"data\": {\"from_node\": \"loadstac1\"}}, \"result\": true}}}}</script>\n",
       "    </openeo-model-builder>\n",
       "    "
      ],
      "text/plain": [
       "<openeo.rest.datacube.DataCube at 0x71f5798f0c70>"
      ]
     },
     "execution_count": 49,
     "metadata": {},
     "output_type": "execute_result"
    }
   ],
   "source": [
    "cube"
   ]
  },
  {
   "cell_type": "code",
   "execution_count": 63,
   "id": "afeeb8f0-23be-4f76-8607-cfb1883b60d8",
   "metadata": {
    "tags": []
   },
   "outputs": [],
   "source": [
    "# Boxcar filter\n",
    "range_dim   = 5\n",
    "azimuth_dim = 1\n",
    "\n",
    "# Create kernel\n",
    "kernel = np.ones((range_dim,azimuth_dim))\n",
    "\n",
    "# Pad with zeros to get a square kernel\n",
    "pad = int((range_dim - azimuth_dim) / 2)\n",
    "kernel = np.pad(kernel,((0,0),(pad,pad)))\n",
    "\n",
    "coh_numerator_denominator_VV_boxcar = coh_numerator_denominator_VV.apply_kernel(kernel=kernel,\n",
    "                                                                                factor=1/(range_dim*azimuth_dim),\n",
    "                                                                                border=0)\n",
    "\n",
    "coh_VV = coh_numerator_denominator_VV_boxcar.reduce_dimension(dimension=\"bands\",\n",
    "                                                              reducer=compute_coherence_amplitude_VV)\n",
    "\n",
    "coordinate_bands = cube.filter_temporal(mst_temporal_extent).filter_bands([2,3])\\\n",
    "    .drop_dimension(\"t\").rename_labels(dimension=\"bands\", target=[\"latitude\",\"longitude\"])\n",
    "coh_VV.metadata = None  # clear to avoid temporal dimension issues\n",
    "coh_amplitude = coh_VV.add_dimension(name=\"bands\",type=\"bands\",label=\"coh_VV_amp\").drop_dimension(\"t\")\\\n",
    "    .merge_cubes(coordinate_bands).add_dimension(name=\"t\", type=\"temporal\", label=\"2020-05-01T00:00:00Z\")\n",
    "\n",
    "coh_amplitude = coh_amplitude.resample_spatial(projection=\"EPSG:32632\",resolution=20.0,method=\"geocode\").save_result(format=\"GTiff\")\n",
    "\n",
    "job_options = {\n",
    "    #\"image-name\": \"registry.stag.waw3-1.openeo-int.v1.dataspace.copernicus.eu/dev/openeo-geotrellis-kube-python311:20250903-133\",\n",
    "    \"openeo-jar-path\": \"https://artifactory.vgt.vito.be/artifactory/libs-release-public/org/openeo/geotrellis-extensions/geocode/geotrellis-extensions-geocode.jar\"\n",
    "}\n",
    "job = coh_amplitude.create_job(title=\"ClouDInSAR_coherence_from_preprocessing\", job_options=job_options)"
   ]
  },
  {
   "cell_type": "code",
   "execution_count": 64,
   "id": "41ced10d-e8d1-4bd9-9f16-b4296a2be222",
   "metadata": {
    "tags": []
   },
   "outputs": [
    {
     "name": "stdout",
     "output_type": "stream",
     "text": [
      "0:00:00 Job 'j-2510022346384d5db3e0b7aa93d2ed43': send 'start'\n",
      "0:00:15 Job 'j-2510022346384d5db3e0b7aa93d2ed43': created (progress 0%)\n",
      "0:00:20 Job 'j-2510022346384d5db3e0b7aa93d2ed43': created (progress 0%)\n",
      "0:00:27 Job 'j-2510022346384d5db3e0b7aa93d2ed43': created (progress 0%)\n",
      "0:00:35 Job 'j-2510022346384d5db3e0b7aa93d2ed43': running (progress 4.8%)\n",
      "0:00:45 Job 'j-2510022346384d5db3e0b7aa93d2ed43': running (progress 6.3%)\n",
      "0:00:57 Job 'j-2510022346384d5db3e0b7aa93d2ed43': running (progress 8.1%)\n",
      "0:01:13 Job 'j-2510022346384d5db3e0b7aa93d2ed43': running (progress 10.3%)\n",
      "0:01:32 Job 'j-2510022346384d5db3e0b7aa93d2ed43': running (progress 12.8%)\n",
      "0:01:56 Job 'j-2510022346384d5db3e0b7aa93d2ed43': running (progress 15.7%)\n",
      "0:02:26 Job 'j-2510022346384d5db3e0b7aa93d2ed43': running (progress 19.1%)\n",
      "0:03:04 Job 'j-2510022346384d5db3e0b7aa93d2ed43': running (progress 23.0%)\n",
      "0:03:51 Job 'j-2510022346384d5db3e0b7aa93d2ed43': running (progress 27.4%)\n",
      "0:04:49 Job 'j-2510022346384d5db3e0b7aa93d2ed43': running (progress 32.2%)\n",
      "0:05:49 Job 'j-2510022346384d5db3e0b7aa93d2ed43': error (progress N/A)\n",
      "Your batch job 'j-2510022346384d5db3e0b7aa93d2ed43' failed. Error logs:\n",
      "[{'id': '[1759449077289, 19591]', 'time': '2025-10-02T23:51:17.289Z', 'level': 'error', 'message': '[Container in shutdown] Uncaught exception in thread Thread[#104,SIGPWR handler,9,system]'}, {'id': '[1759449077310, 579300]', 'time': '2025-10-02T23:51:17.310Z', 'level': 'error', 'message': 'Uncaught exception in thread Thread[#104,SIGPWR handler,9,system]'}, {'id': '[1759449077328, 746334]', 'time': '2025-10-02T23:51:17.328Z', 'level': 'error', 'message': 'Uncaught exception in thread Thread[#104,SIGPWR handler,9,system]'}, {'id': '[1759449077331, 15510]', 'time': '2025-10-02T23:51:17.331Z', 'level': 'error', 'message': 'Uncaught exception in thread Thread[#102,SIGPWR handler,9,system]'}, {'id': '[1759449077363, 598146]', 'time': '2025-10-02T23:51:17.363Z', 'level': 'error', 'message': 'Uncaught exception in thread Thread[#79,SIGPWR handler,9,system]'}, {'id': '[1759449077399, 855127]', 'time': '2025-10-02T23:51:17.399Z', 'level': 'error', 'message': 'Uncaught exception in thread Thread[#239,SIGPWR handler,9,system]'}, {'id': '[1759449077429, 187945]', 'time': '2025-10-02T23:51:17.429Z', 'level': 'error', 'message': 'Uncaught exception in thread Thread[#266,SIGPWR handler,9,system]'}, {'id': '[1759449079457, 204094]', 'time': '2025-10-02T23:51:19.457Z', 'level': 'error', 'message': 'OpenEO batch job failed: OpenEOApiException(status_code=500, code=\\'Internal\\', message=\"Unexpected error during \\'resample_spatial\\' with {\\'align\\': \\'upper-left\\', \\'data\\': GeopysparkDataCube(metadata=GeopysparkCubeMetadata(dimensions=[SpatialDimension(type=\\'spatial\\', name=\\'x\\', extent=[], crs=4326, step=None), SpatialDimension(type=\\'spatial\\', name=\\'y\\', extent=[], crs=4326, step=None), BandDimension(type=\\'bands\\', name=\\'bands\\', bands=[Band(name=\\'coh_VV_amp\\', common_name=None, wavelength_um=None, aliases=None, gsd=None), Band(name=\\'latitude\\', common_name=None, wavelength_um=None, aliases=None, gsd=None), Band(name=\\'longitude\\', common_name=None, wavelength_um=None, aliases=None, gsd=None)]), TemporalDimension(type=\\'temporal\\', name=\\'t\\', extent=(\\'2024-08-09T00:00:00+00:00\\', \\'2024-08-21T00:00:00+00:00\\'))])), \\'method\\': \\'geocode\\', \\'projection\\': \\'EPSG:32632\\', \\'resolution\\': 20.0}: java.lang.RuntimeException: Cannot create a polygon with unclosed exterior: LINESTRING (NaN NaN, NaN NaN, NaN NaN, NaN NaN, NaN NaN)\", id=\\'no-request\\')'}]\n",
      "Full logs can be inspected in an openEO (web) editor or with `connection.job('j-2510022346384d5db3e0b7aa93d2ed43').logs()`.\n"
     ]
    },
    {
     "ename": "JobFailedException",
     "evalue": "Batch job 'j-2510022346384d5db3e0b7aa93d2ed43' didn't finish successfully. Status: error (after 0:05:50).",
     "output_type": "error",
     "traceback": [
      "\u001b[0;31m---------------------------------------------------------------------------\u001b[0m",
      "\u001b[0;31mJobFailedException\u001b[0m                        Traceback (most recent call last)",
      "Cell \u001b[0;32mIn[64], line 1\u001b[0m\n\u001b[0;32m----> 1\u001b[0m \u001b[43mjob\u001b[49m\u001b[38;5;241;43m.\u001b[39;49m\u001b[43mstart_and_wait\u001b[49m\u001b[43m(\u001b[49m\u001b[43m)\u001b[49m\n",
      "File \u001b[0;32m~/openeo/openeo-python-client/openeo/rest/job.py:382\u001b[0m, in \u001b[0;36mBatchJob.start_and_wait\u001b[0;34m(self, print, max_poll_interval, connection_retry_interval, soft_error_max, show_error_logs, require_success)\u001b[0m\n\u001b[1;32m    378\u001b[0m         \u001b[38;5;28mprint\u001b[39m(\u001b[38;5;28mself\u001b[39m\u001b[38;5;241m.\u001b[39mlogs(level\u001b[38;5;241m=\u001b[39mlogging\u001b[38;5;241m.\u001b[39mERROR))\n\u001b[1;32m    379\u001b[0m         \u001b[38;5;28mprint\u001b[39m(\n\u001b[1;32m    380\u001b[0m             \u001b[38;5;124mf\u001b[39m\u001b[38;5;124m\"\u001b[39m\u001b[38;5;124mFull logs can be inspected in an openEO (web) editor or with `connection.job(\u001b[39m\u001b[38;5;132;01m{\u001b[39;00m\u001b[38;5;28mself\u001b[39m\u001b[38;5;241m.\u001b[39mjob_id\u001b[38;5;132;01m!r}\u001b[39;00m\u001b[38;5;124m).logs()`.\u001b[39m\u001b[38;5;124m\"\u001b[39m\n\u001b[1;32m    381\u001b[0m         )\n\u001b[0;32m--> 382\u001b[0m     \u001b[38;5;28;01mraise\u001b[39;00m JobFailedException(\n\u001b[1;32m    383\u001b[0m         \u001b[38;5;124mf\u001b[39m\u001b[38;5;124m\"\u001b[39m\u001b[38;5;124mBatch job \u001b[39m\u001b[38;5;132;01m{\u001b[39;00m\u001b[38;5;28mself\u001b[39m\u001b[38;5;241m.\u001b[39mjob_id\u001b[38;5;132;01m!r}\u001b[39;00m\u001b[38;5;124m didn\u001b[39m\u001b[38;5;124m'\u001b[39m\u001b[38;5;124mt finish successfully. Status: \u001b[39m\u001b[38;5;132;01m{\u001b[39;00mstatus\u001b[38;5;132;01m}\u001b[39;00m\u001b[38;5;124m (after \u001b[39m\u001b[38;5;132;01m{\u001b[39;00melapsed()\u001b[38;5;132;01m}\u001b[39;00m\u001b[38;5;124m).\u001b[39m\u001b[38;5;124m\"\u001b[39m,\n\u001b[1;32m    384\u001b[0m         job\u001b[38;5;241m=\u001b[39m\u001b[38;5;28mself\u001b[39m,\n\u001b[1;32m    385\u001b[0m     )\n\u001b[1;32m    387\u001b[0m \u001b[38;5;28;01mreturn\u001b[39;00m \u001b[38;5;28mself\u001b[39m\n",
      "\u001b[0;31mJobFailedException\u001b[0m: Batch job 'j-2510022346384d5db3e0b7aa93d2ed43' didn't finish successfully. Status: error (after 0:05:50)."
     ]
    }
   ],
   "source": [
    "job.start_and_wait()"
   ]
  },
  {
   "cell_type": "code",
   "execution_count": 12,
   "id": "2dc6e13f-2bba-4855-b985-203a06a69109",
   "metadata": {},
   "outputs": [
    {
     "data": {
      "text/html": [
       "\n",
       "    <script>\n",
       "    if (!window.customElements || !window.customElements.get('openeo-job')) {\n",
       "        var el = document.createElement('script');\n",
       "        el.src = \"https://cdn.jsdelivr.net/npm/@openeo/vue-components@2/assets/openeo.min.js\";\n",
       "        document.head.appendChild(el);\n",
       "\n",
       "        var font = document.createElement('font');\n",
       "        font.as = \"font\";\n",
       "        font.type = \"font/woff2\";\n",
       "        font.crossOrigin = true;\n",
       "        font.href = \"https://use.fontawesome.com/releases/v5.13.0/webfonts/fa-solid-900.woff2\"\n",
       "        document.head.appendChild(font);\n",
       "    }\n",
       "    </script>\n",
       "    <openeo-job>\n",
       "        <script type=\"application/json\">{\"currency\": \"credits\", \"job\": {\"created\": \"2025-09-04T08:20:24Z\", \"id\": \"j-2509040820244b149b936538719494b4\", \"process\": {\"process_graph\": {\"adddimension1\": {\"arguments\": {\"data\": {\"from_node\": \"reducedimension1\"}, \"label\": \"coh_VV_amp\", \"name\": \"bands\", \"type\": \"bands\"}, \"process_id\": \"add_dimension\"}, \"adddimension2\": {\"arguments\": {\"data\": {\"from_node\": \"mergecubes2\"}, \"label\": \"2020-05-01T00:00:00Z\", \"name\": \"t\", \"type\": \"temporal\"}, \"process_id\": \"add_dimension\"}, \"applydimension1\": {\"arguments\": {\"data\": {\"from_node\": \"mergecubes1\"}, \"dimension\": \"bands\", \"process\": {\"process_graph\": {\"add1\": {\"arguments\": {\"x\": {\"from_node\": \"multiply1\"}, \"y\": {\"from_node\": \"multiply2\"}}, \"process_id\": \"add\"}, \"add2\": {\"arguments\": {\"x\": {\"from_node\": \"power1\"}, \"y\": {\"from_node\": \"power2\"}}, \"process_id\": \"add\"}, \"add3\": {\"arguments\": {\"x\": {\"from_node\": \"power3\"}, \"y\": {\"from_node\": \"power4\"}}, \"process_id\": \"add\"}, \"arraycreate1\": {\"arguments\": {\"data\": [{\"from_node\": \"add1\"}, {\"from_node\": \"subtract1\"}, {\"from_node\": \"add2\"}, {\"from_node\": \"add3\"}]}, \"process_id\": \"array_create\", \"result\": true}, \"arrayelement1\": {\"arguments\": {\"data\": {\"from_parameter\": \"data\"}, \"label\": \"i_VV_mst\"}, \"process_id\": \"array_element\"}, \"arrayelement2\": {\"arguments\": {\"data\": {\"from_parameter\": \"data\"}, \"label\": \"i_VV_slv\"}, \"process_id\": \"array_element\"}, \"arrayelement3\": {\"arguments\": {\"data\": {\"from_parameter\": \"data\"}, \"label\": \"q_VV_mst\"}, \"process_id\": \"array_element\"}, \"arrayelement4\": {\"arguments\": {\"data\": {\"from_parameter\": \"data\"}, \"label\": \"q_VV_slv\"}, \"process_id\": \"array_element\"}, \"multiply1\": {\"arguments\": {\"x\": {\"from_node\": \"arrayelement1\"}, \"y\": {\"from_node\": \"arrayelement2\"}}, \"process_id\": \"multiply\"}, \"multiply2\": {\"arguments\": {\"x\": {\"from_node\": \"arrayelement3\"}, \"y\": {\"from_node\": \"arrayelement4\"}}, \"process_id\": \"multiply\"}, \"multiply3\": {\"arguments\": {\"x\": {\"from_node\": \"arrayelement3\"}, \"y\": {\"from_node\": \"arrayelement2\"}}, \"process_id\": \"multiply\"}, \"multiply4\": {\"arguments\": {\"x\": {\"from_node\": \"arrayelement1\"}, \"y\": {\"from_node\": \"arrayelement4\"}}, \"process_id\": \"multiply\"}, \"power1\": {\"arguments\": {\"base\": {\"from_node\": \"arrayelement1\"}, \"p\": 2}, \"process_id\": \"power\"}, \"power2\": {\"arguments\": {\"base\": {\"from_node\": \"arrayelement3\"}, \"p\": 2}, \"process_id\": \"power\"}, \"power3\": {\"arguments\": {\"base\": {\"from_node\": \"arrayelement2\"}, \"p\": 2}, \"process_id\": \"power\"}, \"power4\": {\"arguments\": {\"base\": {\"from_node\": \"arrayelement4\"}, \"p\": 2}, \"process_id\": \"power\"}, \"subtract1\": {\"arguments\": {\"x\": {\"from_node\": \"multiply3\"}, \"y\": {\"from_node\": \"multiply4\"}}, \"process_id\": \"subtract\"}}}}, \"process_id\": \"apply_dimension\"}, \"applykernel1\": {\"arguments\": {\"border\": 0, \"data\": {\"from_node\": \"renamelabels3\"}, \"factor\": 0.2, \"kernel\": [[0.0, 0.0, 1.0, 0.0, 0.0], [0.0, 0.0, 1.0, 0.0, 0.0], [0.0, 0.0, 1.0, 0.0, 0.0], [0.0, 0.0, 1.0, 0.0, 0.0], [0.0, 0.0, 1.0, 0.0, 0.0]], \"replace_invalid\": 0}, \"process_id\": \"apply_kernel\"}, \"dropdimension1\": {\"arguments\": {\"data\": {\"from_node\": \"filterbands1\"}, \"name\": \"t\"}, \"process_id\": \"drop_dimension\"}, \"dropdimension2\": {\"arguments\": {\"data\": {\"from_node\": \"filterbands2\"}, \"name\": \"t\"}, \"process_id\": \"drop_dimension\"}, \"dropdimension3\": {\"arguments\": {\"data\": {\"from_node\": \"filterbands3\"}, \"name\": \"t\"}, \"process_id\": \"drop_dimension\"}, \"filterbands1\": {\"arguments\": {\"bands\": [\"i_VV\", \"q_VV\"], \"data\": {\"from_node\": \"filtertemporal1\"}}, \"process_id\": \"filter_bands\"}, \"filterbands2\": {\"arguments\": {\"bands\": [\"i_VV\", \"q_VV\"], \"data\": {\"from_node\": \"filtertemporal2\"}}, \"process_id\": \"filter_bands\"}, \"filterbands3\": {\"arguments\": {\"bands\": [\"grid_lat\", \"grid_lon\"], \"data\": {\"from_node\": \"filtertemporal3\"}}, \"process_id\": \"filter_bands\"}, \"filtertemporal1\": {\"arguments\": {\"data\": {\"from_node\": \"loadstac1\"}, \"extent\": [\"2024-08-09\", \"2024-08-10\"]}, \"process_id\": \"filter_temporal\"}, \"filtertemporal2\": {\"arguments\": {\"data\": {\"from_node\": \"loadstac1\"}, \"extent\": [\"2024-08-21\", \"2024-08-22\"]}, \"process_id\": \"filter_temporal\"}, \"filtertemporal3\": {\"arguments\": {\"data\": {\"from_node\": \"loadstac1\"}, \"extent\": [\"2024-08-09\", \"2024-08-10\"]}, \"process_id\": \"filter_temporal\"}, \"loadstac1\": {\"arguments\": {\"url\": \"https://openeo-staging.dataspace.copernicus.eu/openeo/1.2/jobs/j-2509040751314022b5f9e9233d397d92/results/MjczOTQxYzgtMDBlMi00Y2VjLTgxYjUtODk4NzU2ZGViMDZm/6092c9cba16aab9b244959ece50e90f6?expires=1757578782\"}, \"process_id\": \"load_stac\"}, \"mergecubes1\": {\"arguments\": {\"cube1\": {\"from_node\": \"renamelabels1\"}, \"cube2\": {\"from_node\": \"renamelabels2\"}}, \"process_id\": \"merge_cubes\"}, \"mergecubes2\": {\"arguments\": {\"cube1\": {\"from_node\": \"adddimension1\"}, \"cube2\": {\"from_node\": \"renamelabels4\"}}, \"process_id\": \"merge_cubes\"}, \"reducedimension1\": {\"arguments\": {\"data\": {\"from_node\": \"applykernel1\"}, \"dimension\": \"bands\", \"reducer\": {\"process_graph\": {\"add4\": {\"arguments\": {\"x\": {\"from_node\": \"multiply5\"}, \"y\": 1e-12}, \"process_id\": \"add\"}, \"add5\": {\"arguments\": {\"x\": {\"from_node\": \"multiply6\"}, \"y\": 1e-12}, \"process_id\": \"add\"}, \"add6\": {\"arguments\": {\"x\": {\"from_node\": \"power6\"}, \"y\": {\"from_node\": \"power8\"}}, \"process_id\": \"add\"}, \"arrayelement5\": {\"arguments\": {\"data\": {\"from_parameter\": \"data\"}, \"label\": \"i_num_VV\"}, \"process_id\": \"array_element\"}, \"arrayelement6\": {\"arguments\": {\"data\": {\"from_parameter\": \"data\"}, \"label\": \"mst_den\"}, \"process_id\": \"array_element\"}, \"arrayelement7\": {\"arguments\": {\"data\": {\"from_parameter\": \"data\"}, \"label\": \"slv_den\"}, \"process_id\": \"array_element\"}, \"arrayelement8\": {\"arguments\": {\"data\": {\"from_parameter\": \"data\"}, \"label\": \"q_num_VV\"}, \"process_id\": \"array_element\"}, \"divide1\": {\"arguments\": {\"x\": {\"from_node\": \"arrayelement5\"}, \"y\": {\"from_node\": \"power5\"}}, \"process_id\": \"divide\"}, \"divide2\": {\"arguments\": {\"x\": {\"from_node\": \"arrayelement8\"}, \"y\": {\"from_node\": \"power7\"}}, \"process_id\": \"divide\"}, \"multiply5\": {\"arguments\": {\"x\": {\"from_node\": \"arrayelement6\"}, \"y\": {\"from_node\": \"arrayelement7\"}}, \"process_id\": \"multiply\"}, \"multiply6\": {\"arguments\": {\"x\": {\"from_node\": \"arrayelement6\"}, \"y\": {\"from_node\": \"arrayelement7\"}}, \"process_id\": \"multiply\"}, \"power5\": {\"arguments\": {\"base\": {\"from_node\": \"add4\"}, \"p\": 0.5}, \"process_id\": \"power\"}, \"power6\": {\"arguments\": {\"base\": {\"from_node\": \"divide1\"}, \"p\": 2}, \"process_id\": \"power\"}, \"power7\": {\"arguments\": {\"base\": {\"from_node\": \"add5\"}, \"p\": 0.5}, \"process_id\": \"power\"}, \"power8\": {\"arguments\": {\"base\": {\"from_node\": \"divide2\"}, \"p\": 2}, \"process_id\": \"power\"}, \"power9\": {\"arguments\": {\"base\": {\"from_node\": \"add6\"}, \"p\": 0.5}, \"process_id\": \"power\", \"result\": true}}}}, \"process_id\": \"reduce_dimension\"}, \"renamelabels1\": {\"arguments\": {\"data\": {\"from_node\": \"dropdimension1\"}, \"dimension\": \"bands\", \"source\": [0, 1], \"target\": [\"i_VV_mst\", \"q_VV_mst\"]}, \"process_id\": \"rename_labels\"}, \"renamelabels2\": {\"arguments\": {\"data\": {\"from_node\": \"dropdimension2\"}, \"dimension\": \"bands\", \"source\": [0, 1], \"target\": [\"i_VV_slv\", \"q_VV_slv\"]}, \"process_id\": \"rename_labels\"}, \"renamelabels3\": {\"arguments\": {\"data\": {\"from_node\": \"applydimension1\"}, \"dimension\": \"bands\", \"target\": [\"i_num_VV\", \"q_num_VV\", \"mst_den\", \"slv_den\"]}, \"process_id\": \"rename_labels\"}, \"renamelabels4\": {\"arguments\": {\"data\": {\"from_node\": \"dropdimension3\"}, \"dimension\": \"bands\", \"target\": [\"latitude\", \"longitude\"]}, \"process_id\": \"rename_labels\"}, \"resamplespatial1\": {\"arguments\": {\"align\": \"upper-left\", \"data\": {\"from_node\": \"adddimension2\"}, \"method\": \"geocode\", \"projection\": \"EPSG:32632\", \"resolution\": 20.0}, \"process_id\": \"resample_spatial\"}, \"saveresult1\": {\"arguments\": {\"data\": {\"from_node\": \"resamplespatial1\"}, \"format\": \"GTiff\", \"options\": {}}, \"process_id\": \"save_result\", \"result\": true}}}, \"progress\": 10.676982454925765, \"status\": \"running\", \"title\": \"ClouDInSAR_coherence_from_preprocessing\", \"updated\": \"2025-09-04T08:21:08Z\"}}</script>\n",
       "    </openeo-job>\n",
       "    "
      ],
      "text/plain": [
       "<BatchJob job_id='j-2509040820244b149b936538719494b4'>"
      ]
     },
     "execution_count": 12,
     "metadata": {},
     "output_type": "execute_result"
    }
   ],
   "source": [
    "job"
   ]
  },
  {
   "cell_type": "code",
   "execution_count": 24,
   "id": "f754a02c-08fe-4442-8d5b-653b9bf3bee9",
   "metadata": {
    "tags": []
   },
   "outputs": [
    {
     "name": "stderr",
     "output_type": "stream",
     "text": [
      "No assets found in job result metadata.\n"
     ]
    },
    {
     "data": {
      "text/plain": [
       "[PosixPath('/home/driesj/code/notebooks/s1-workflows/notebooks/job-results.json')]"
      ]
     },
     "execution_count": 24,
     "metadata": {},
     "output_type": "execute_result"
    }
   ],
   "source": [
    "#job = connection.job(\"j-25060509012543ebb48aa5ee8c65b7ed\")\n",
    "job.get_results().download_files()"
   ]
  }
 ],
 "metadata": {
  "kernelspec": {
   "display_name": "Python 3 (ipykernel)",
   "language": "python",
   "name": "python3"
  },
  "language_info": {
   "codemirror_mode": {
    "name": "ipython",
    "version": 3
   },
   "file_extension": ".py",
   "mimetype": "text/x-python",
   "name": "python",
   "nbconvert_exporter": "python",
   "pygments_lexer": "ipython3",
   "version": "3.8.20"
  }
 },
 "nbformat": 4,
 "nbformat_minor": 5
}
