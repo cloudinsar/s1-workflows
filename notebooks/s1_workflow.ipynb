{
 "cells": [
  {
   "cell_type": "code",
   "execution_count": 37,
   "id": "aed3f204-a2fe-4821-87cb-da074012a048",
   "metadata": {},
   "outputs": [],
   "source": [
    "import urllib\n",
    "import json\n",
    "from IPython.display import JSON\n",
    "\n",
    "from datetime import datetime\n",
    "\n",
    "import glob\n",
    "import os"
   ]
  },
  {
   "cell_type": "markdown",
   "id": "88a442b0-9f82-4a56-8078-5653b1fa9bc1",
   "metadata": {},
   "source": [
    "Input definition"
   ]
  },
  {
   "cell_type": "code",
   "execution_count": 2,
   "id": "b2ea580f-8ba6-40e5-ba8c-be31e59b309f",
   "metadata": {},
   "outputs": [],
   "source": [
    "burstId = 249435\n",
    "sub_swath = 'IW2'\n",
    "start_date = '2024-08-01'\n",
    "end_date = '2024-09-30'\n",
    "\n",
    "with open(\"CDSE_SECRET\", \"r\") as file:\n",
    "    lines = file.readlines()\n",
    "CDSE_ACCESS_KEY = lines[0].strip().split(\": \")[1]\n",
    "CDSE_SECRET_KEY = lines[1].strip().split(\": \")[1]\n",
    "\n",
    "output_folder = '/home/mcallegari/PROJECT_DATA/ESA_ClouDInSAR/Test/s1_workflow/'"
   ]
  },
  {
   "cell_type": "markdown",
   "id": "2bd34375-5140-4f10-aef8-5d3766c66050",
   "metadata": {},
   "source": [
    "## Burst download"
   ]
  },
  {
   "cell_type": "markdown",
   "id": "cfc3bec1-eb44-406b-b983-06c0a14f7d0f",
   "metadata": {},
   "source": [
    "HTTP queries to extract all the data of interest"
   ]
  },
  {
   "cell_type": "code",
   "execution_count": 3,
   "id": "d8801a9b-96f4-4f4e-b2b4-29608c8a0332",
   "metadata": {},
   "outputs": [
    {
     "data": {
      "application/json": {
       "@odata.context": "$metadata#Bursts",
       "value": [
        {
         "@odata.mediaContentType": "application/octet-stream",
         "AbsoluteBurstId": 118808609,
         "AzimuthAnxTime": 758.9065603258999,
         "AzimuthTime": "2024-08-21T17:07:38.701763Z",
         "BeginningDateTime": "2024-08-21T17:07:39.722814Z",
         "BurstId": 249435,
         "ByteOffset": 961160571,
         "ContentDate": {
          "End": "2024-08-21T17:07:42.912814Z",
          "Start": "2024-08-21T17:07:39.722814Z"
         },
         "ContentType": "application/octet-stream",
         "DatatakeID": 11008,
         "EndingDateTime": "2024-08-21T17:07:42.912814Z",
         "Footprint": "geography'SRID=4326;POLYGON ((10.716537 46.607214, 11.318136 46.678586, 11.886991 46.742882, 11.839823 46.935138, 11.269963 46.866635, 10.667332 46.791043, 10.716537 46.607214))'",
         "GeoFootprint": {
          "coordinates": [
           [
            [
             10.716537,
             46.607214
            ],
            [
             11.318136,
             46.678586
            ],
            [
             11.886991,
             46.742882
            ],
            [
             11.839823,
             46.935138
            ],
            [
             11.269963,
             46.866635
            ],
            [
             10.667332,
             46.791043
            ],
            [
             10.716537,
             46.607214
            ]
           ]
          ],
          "type": "Polygon"
         },
         "Id": "3ac08fb3-3405-4192-8b68-6830c1c1af04",
         "Lines": 9072,
         "LinesPerBurst": 1512,
         "Name": "S1A-SLC-20240821T170739-249435-IW2-VV-011008",
         "OperationalMode": "IW",
         "OrbitDirection": "ASCENDING",
         "ParentProductId": "7cdcacc9-388c-4cfa-ad22-1bba0edee787",
         "ParentProductName": "S1A_IW_SLC__1SDV_20240821T170720_20240821T170747_055314_06BE95_CC41.SAFE",
         "ParentProductType": "IW_SLC__1S",
         "PlatformSerialIdentifier": "A",
         "PolarisationChannels": "VV",
         "RelativeOrbitNumber": 117,
         "S3Path": "/eodata/Sentinel-1/SAR/IW_SLC__1S/2024/08/21/S1A_IW_SLC__1SDV_20240821T170720_20240821T170747_055314_06BE95_CC41.SAFE/measurement/s1a-iw2-slc-vv-20240821t170722-20240821t170747-055314-06be95-005.tiff",
         "SamplesPerBurst": 26484,
         "SwathIdentifier": "IW2"
        },
        {
         "@odata.mediaContentType": "application/octet-stream",
         "AbsoluteBurstId": 119184497,
         "AzimuthAnxTime": 758.9118988821999,
         "AzimuthTime": "2024-09-02T17:07:38.896704Z",
         "BeginningDateTime": "2024-09-02T17:07:39.915716Z",
         "BurstId": 249435,
         "ByteOffset": 961160571,
         "ContentDate": {
          "End": "2024-09-02T17:07:43.105716Z",
          "Start": "2024-09-02T17:07:39.915716Z"
         },
         "ContentType": "application/octet-stream",
         "DatatakeID": 10784,
         "EndingDateTime": "2024-09-02T17:07:43.105716Z",
         "Footprint": "geography'SRID=4326;POLYGON ((10.716537 46.607214, 11.318136 46.678586, 11.886991 46.742882, 11.839823 46.935138, 11.269963 46.866635, 10.667332 46.791043, 10.716537 46.607214))'",
         "GeoFootprint": {
          "coordinates": [
           [
            [
             10.716537,
             46.607214
            ],
            [
             11.318136,
             46.678586
            ],
            [
             11.886991,
             46.742882
            ],
            [
             11.839823,
             46.935138
            ],
            [
             11.269963,
             46.866635
            ],
            [
             10.667332,
             46.791043
            ],
            [
             10.716537,
             46.607214
            ]
           ]
          ],
          "type": "Polygon"
         },
         "Id": "2b9c3068-279d-494b-aa2d-1de30b68045e",
         "Lines": 9072,
         "LinesPerBurst": 1512,
         "Name": "S1A-SLC-20240902T170739-249435-IW2-VV-010784",
         "OperationalMode": "IW",
         "OrbitDirection": "ASCENDING",
         "ParentProductId": "07c64659-630a-4272-8c8a-9bc2d7480701",
         "ParentProductName": "S1A_IW_SLC__1SDV_20240902T170720_20240902T170747_055489_06C515_EEB7.SAFE",
         "ParentProductType": "IW_SLC__1S",
         "PlatformSerialIdentifier": "A",
         "PolarisationChannels": "VV",
         "RelativeOrbitNumber": 117,
         "S3Path": "/eodata/Sentinel-1/SAR/IW_SLC__1S/2024/09/02/S1A_IW_SLC__1SDV_20240902T170720_20240902T170747_055489_06C515_EEB7.SAFE/measurement/s1a-iw2-slc-vv-20240902t170722-20240902t170747-055489-06c515-005.tiff",
         "SamplesPerBurst": 26484,
         "SwathIdentifier": "IW2"
        },
        {
         "@odata.mediaContentType": "application/octet-stream",
         "AbsoluteBurstId": 118432722,
         "AzimuthAnxTime": 758.9082163259,
         "AzimuthTime": "2024-08-09T17:07:38.369225Z",
         "BeginningDateTime": "2024-08-09T17:07:39.388219Z",
         "BurstId": 249435,
         "ByteOffset": 961160571,
         "ContentDate": {
          "End": "2024-08-09T17:07:42.578219Z",
          "Start": "2024-08-09T17:07:39.388219Z"
         },
         "ContentType": "application/octet-stream",
         "DatatakeID": 29248,
         "EndingDateTime": "2024-08-09T17:07:42.578219Z",
         "Footprint": "geography'SRID=4326;POLYGON ((10.716537 46.607214, 11.318136 46.678586, 11.886991 46.742882, 11.839823 46.935138, 11.269963 46.866635, 10.667332 46.791043, 10.716537 46.607214))'",
         "GeoFootprint": {
          "coordinates": [
           [
            [
             10.716537,
             46.607214
            ],
            [
             11.318136,
             46.678586
            ],
            [
             11.886991,
             46.742882
            ],
            [
             11.839823,
             46.935138
            ],
            [
             11.269963,
             46.866635
            ],
            [
             10.667332,
             46.791043
            ],
            [
             10.716537,
             46.607214
            ]
           ]
          ],
          "type": "Polygon"
         },
         "Id": "f6ed120e-2235-4d3a-9a5b-024e44be3187",
         "Lines": 9072,
         "LinesPerBurst": 1512,
         "Name": "S1A-SLC-20240809T170739-249435-IW2-VV-029248",
         "OperationalMode": "IW",
         "OrbitDirection": "ASCENDING",
         "ParentProductId": "76f91e85-9cd5-450a-b7f2-a56664cf1596",
         "ParentProductName": "S1A_IW_SLC__1SDV_20240809T170720_20240809T170746_055139_06B839_A6A0.SAFE",
         "ParentProductType": "IW_SLC__1S",
         "PlatformSerialIdentifier": "A",
         "PolarisationChannels": "VV",
         "RelativeOrbitNumber": 117,
         "S3Path": "/eodata/Sentinel-1/SAR/IW_SLC__1S/2024/08/09/S1A_IW_SLC__1SDV_20240809T170720_20240809T170746_055139_06B839_A6A0.SAFE/measurement/s1a-iw2-slc-vv-20240809t170721-20240809t170746-055139-06b839-005.tiff",
         "SamplesPerBurst": 26484,
         "SwathIdentifier": "IW2"
        },
        {
         "@odata.mediaContentType": "application/octet-stream",
         "AbsoluteBurstId": 119560384,
         "AzimuthAnxTime": 758.9064358822,
         "AzimuthTime": "2024-09-14T17:07:39.492507Z",
         "BeginningDateTime": "2024-09-14T17:07:40.507406Z",
         "BurstId": 249435,
         "ByteOffset": 943762395,
         "ContentDate": {
          "End": "2024-09-14T17:07:43.697406Z",
          "Start": "2024-09-14T17:07:40.507406Z"
         },
         "ContentType": "application/octet-stream",
         "DatatakeID": 65152,
         "EndingDateTime": "2024-09-14T17:07:43.697406Z",
         "Footprint": "geography'SRID=4326;POLYGON ((10.716537 46.607214, 11.318136 46.678586, 11.886991 46.742882, 11.839823 46.935138, 11.269963 46.866635, 10.667332 46.791043, 10.716537 46.607214))'",
         "GeoFootprint": {
          "coordinates": [
           [
            [
             10.716537,
             46.607214
            ],
            [
             11.318136,
             46.678586
            ],
            [
             11.886991,
             46.742882
            ],
            [
             11.839823,
             46.935138
            ],
            [
             11.269963,
             46.866635
            ],
            [
             10.667332,
             46.791043
            ],
            [
             10.716537,
             46.607214
            ]
           ]
          ],
          "type": "Polygon"
         },
         "Id": "5df2e423-8162-451b-ba6e-3895dc489ea9",
         "Lines": 9060,
         "LinesPerBurst": 1510,
         "Name": "S1A-SLC-20240914T170740-249435-IW2-VV-065152",
         "OperationalMode": "IW",
         "OrbitDirection": "ASCENDING",
         "ParentProductId": "87e7fe78-78e1-4f24-89f8-b83da7e91f11",
         "ParentProductName": "S1A_IW_SLC__1SDV_20240914T170721_20240914T170748_055664_06CBFF_A704.SAFE",
         "ParentProductType": "IW_SLC__1S",
         "PlatformSerialIdentifier": "A",
         "PolarisationChannels": "VV",
         "RelativeOrbitNumber": 117,
         "S3Path": "/eodata/Sentinel-1/SAR/IW_SLC__1S/2024/09/14/S1A_IW_SLC__1SDV_20240914T170721_20240914T170748_055664_06CBFF_A704.SAFE/measurement/s1a-iw2-slc-vv-20240914t170722-20240914t170748-055664-06cbff-005.tiff",
         "SamplesPerBurst": 26039,
         "SwathIdentifier": "IW2"
        },
        {
         "@odata.mediaContentType": "application/octet-stream",
         "AbsoluteBurstId": 119936271,
         "AzimuthAnxTime": 758.8960862133,
         "AzimuthTime": "2024-09-26T17:07:39.546903Z",
         "BeginningDateTime": "2024-09-26T17:07:40.576192Z",
         "BurstId": 249435,
         "ByteOffset": 961160571,
         "ContentDate": {
          "End": "2024-09-26T17:07:43.766192Z",
          "Start": "2024-09-26T17:07:40.576192Z"
         },
         "ContentType": "application/octet-stream",
         "DatatakeID": 56032,
         "EndingDateTime": "2024-09-26T17:07:43.766192Z",
         "Footprint": "geography'SRID=4326;POLYGON ((10.716537 46.607214, 11.318136 46.678586, 11.886991 46.742882, 11.839823 46.935138, 11.269963 46.866635, 10.667332 46.791043, 10.716537 46.607214))'",
         "GeoFootprint": {
          "coordinates": [
           [
            [
             10.716537,
             46.607214
            ],
            [
             11.318136,
             46.678586
            ],
            [
             11.886991,
             46.742882
            ],
            [
             11.839823,
             46.935138
            ],
            [
             11.269963,
             46.866635
            ],
            [
             10.667332,
             46.791043
            ],
            [
             10.716537,
             46.607214
            ]
           ]
          ],
          "type": "Polygon"
         },
         "Id": "84faf557-5f58-4aea-be83-8960562ca906",
         "Lines": 9072,
         "LinesPerBurst": 1512,
         "Name": "S1A-SLC-20240926T170740-249435-IW2-VV-056032",
         "OperationalMode": "IW",
         "OrbitDirection": "ASCENDING",
         "ParentProductId": "d3099ddd-ac44-467c-9c26-3242bb9d5721",
         "ParentProductName": "S1A_IW_SLC__1SDV_20240926T170721_20240926T170748_055839_06D2ED_BD8F.SAFE",
         "ParentProductType": "IW_SLC__1S",
         "PlatformSerialIdentifier": "A",
         "PolarisationChannels": "VV",
         "RelativeOrbitNumber": 117,
         "S3Path": "/eodata/Sentinel-1/SAR/IW_SLC__1S/2024/09/26/S1A_IW_SLC__1SDV_20240926T170721_20240926T170748_055839_06D2ED_BD8F.SAFE/measurement/s1a-iw2-slc-vv-20240926t170723-20240926t170748-055839-06d2ed-005.tiff",
         "SamplesPerBurst": 26484,
         "SwathIdentifier": "IW2"
        }
       ]
      },
      "text/plain": [
       "<IPython.core.display.JSON object>"
      ]
     },
     "execution_count": 3,
     "metadata": {
      "application/json": {
       "expanded": false,
       "root": "root"
      }
     },
     "output_type": "execute_result"
    }
   ],
   "source": [
    "https_request = f\"https://catalogue.dataspace.copernicus.eu/odata/v1/Bursts?$filter=\" + urllib.parse.quote(\n",
    "    f\"ContentDate/Start ge {start_date}T00:00:00.000Z and ContentDate/Start le {end_date}T23:59:59.000Z and \"\n",
    "    f\"PolarisationChannels eq 'VV' and \"\n",
    "    f\"BurstId eq {burstId} and \"\n",
    "    f\"SwathIdentifier eq '{sub_swath}'\"\n",
    ") + \"&$top=1000\"\n",
    "\n",
    "with urllib.request.urlopen(https_request) as response:\n",
    "    content = response.read().decode()\n",
    "bursts = json.loads(content)\n",
    "JSON(bursts)"
   ]
  },
  {
   "cell_type": "markdown",
   "id": "a9437b3b-ba6e-4aa2-8dd4-1e643fcd4f1b",
   "metadata": {},
   "source": [
    "For each data run the cdse utilities to extract the burst of interest"
   ]
  },
  {
   "cell_type": "code",
   "execution_count": 4,
   "id": "d6a73728-27bf-4e4b-a6f3-67632cd58b0b",
   "metadata": {},
   "outputs": [],
   "source": [
    "for b in bursts['value']:\n",
    "    \n",
    "    burst_extract_cmd = (\n",
    "        f\"docker run -v {output_folder}:/home/ubuntu \"\n",
    "        f\"-e AWS_ACCESS_KEY_ID={CDSE_ACCESS_KEY} -e AWS_SECRET_ACCESS_KEY={CDSE_SECRET_KEY} \"\n",
    "        f\"cdse_utilities sentinel1_burst_extractor.sh -o /home/ubuntu \"\n",
    "        f\"-n {b['ParentProductName']} -p vv -s {sub_swath.lower()} -r {burstId}\"\n",
    "    )\n",
    "\n",
    "    #print(burst_extract_cmd)\n",
    "    os.system(burst_extract_cmd)\n"
   ]
  },
  {
   "cell_type": "markdown",
   "id": "4e3e06a0-114d-4d75-bad9-ebaeddee7991",
   "metadata": {},
   "source": [
    "## Sentinel-1 processing"
   ]
  },
  {
   "cell_type": "markdown",
   "id": "8673a30a-2da3-471b-a86e-39a041305374",
   "metadata": {},
   "source": [
    "### 1) SNAP-InSAR"
   ]
  },
  {
   "cell_type": "markdown",
   "id": "a84eae42-9974-4e03-9ee9-3bf4a648a953",
   "metadata": {},
   "source": [
    "Input definition"
   ]
  },
  {
   "cell_type": "code",
   "execution_count": 21,
   "id": "494994fd-95b6-4de7-8129-d001477441ff",
   "metadata": {},
   "outputs": [],
   "source": [
    "graph_filename = './graphs/coh_2images_GeoTiff.xml'\n",
    "\n",
    "InSAR_pairs = [\n",
    "    '20240809_20240821',\n",
    "    '20240809_20240902',\n",
    "    '20240821_20240902',\n",
    "    '20240821_20240914',\n",
    "    '20240902_20240914'\n",
    "]"
   ]
  },
  {
   "cell_type": "code",
   "execution_count": null,
   "id": "39105167-ff54-4f86-9073-bbd2e3677188",
   "metadata": {},
   "outputs": [],
   "source": [
    "for pair in InSAR_pairs:\n",
    "\n",
    "    mst_filename = glob.glob(os.path.join(output_folder, f'*{pair.split(\"_\")[0]}*', 'manifest.safe'))[0]\n",
    "    slv_filename = glob.glob(os.path.join(output_folder, f'*{pair.split(\"_\")[1]}*', 'manifest.safe'))[0]\n",
    "    output_filename = os.path.join(output_folder, 'S1_coh', f'S1_coh_{pair}.tif')\n",
    "\n",
    "    cmd = f'gpt \"{graph_filename}\" -Pmst_filename=\"{mst_filename}\" -Pslv_filename=\"{slv_filename}\" -Poutput_filename=\"{output_filename}\"'\n",
    "\n",
    "    #print(cmd)\n",
    "    os.system(cmd)"
   ]
  },
  {
   "cell_type": "markdown",
   "id": "1d000fed-5b54-49c4-9b73-37baa569bf3b",
   "metadata": {},
   "source": [
    "### 2) SNAP-preprocessing"
   ]
  },
  {
   "cell_type": "markdown",
   "id": "6c3b4238-8828-43d6-9930-c99c9d584887",
   "metadata": {},
   "source": [
    "Input definition"
   ]
  },
  {
   "cell_type": "code",
   "execution_count": 60,
   "id": "13d4827a-8250-4033-b0f6-63d80d468e59",
   "metadata": {},
   "outputs": [],
   "source": [
    "graph_mst_filename = './graphs/pre-processing_2images_SaveMst_GeoTiff.xml'\n",
    "graph_slv_filename = './graphs/pre-processing_2images_SaveOnlySlv_GeoTiff.xml'\n",
    "output_folder_preprocessing = os.path.join(output_folder, 'S1_slc')\n",
    "\n",
    "mst_date = '20240809'\n",
    "mst_filename = glob.glob(os.path.join(output_folder, f'*{mst_date}*', 'manifest.safe'))[0]\n",
    "\n",
    "slv_filename_list = glob.glob(os.path.join(output_folder, f'*SAFE', 'manifest.safe'))\n",
    "slv_filename_list.remove(mst_filename)"
   ]
  },
  {
   "cell_type": "markdown",
   "id": "42e87d19-df11-40bd-b198-3d69376333c1",
   "metadata": {},
   "source": [
    "Run the first preprocessing saving the master with the associated lat/lon grid"
   ]
  },
  {
   "cell_type": "code",
   "execution_count": 62,
   "id": "43c71fcf-ae2b-42d2-a415-cf2fe6b9d309",
   "metadata": {},
   "outputs": [
    {
     "name": "stdout",
     "output_type": "stream",
     "text": [
      "gpt \"./graphs/pre-processing_2images_SaveMst_GeoTiff.xml\" -Pmst_filename=\"/home/mcallegari/PROJECT_DATA/ESA_ClouDInSAR/Test/s1_workflow/S1A_SLC_20240809T170739_249435_IW2_VV_440377.SAFE/manifest.safe\" -Pslv_filename=\"/home/mcallegari/PROJECT_DATA/ESA_ClouDInSAR/Test/s1_workflow/S1A_SLC_20240821T170739_249435_IW2_VV_442005.SAFE/manifest.safe\" -Pi_q_mst_bandnames=\"i_IW2_VV_mst_09Aug2024,q_IW2_VV_mst_09Aug2024\" -Pi_q_slv_bandnames=\"i_IW2_VV_slv1_21Aug2024,q_IW2_VV_slv1_21Aug2024\" -Poutput_mst_filename=\"/home/mcallegari/PROJECT_DATA/ESA_ClouDInSAR/Test/s1_workflow/S1_slc/S1_slc_20240809.tif\" -Poutput_slv_filename=\"/home/mcallegari/PROJECT_DATA/ESA_ClouDInSAR/Test/s1_workflow/S1_slc/S1_slc_20240821.tif\"\n"
     ]
    },
    {
     "data": {
      "text/plain": [
       "0"
      ]
     },
     "execution_count": 62,
     "metadata": {},
     "output_type": "execute_result"
    }
   ],
   "source": [
    "mst_bandname = f'{sub_swath}_VV_mst_{datetime.strptime(mst_date, \"%Y%m%d\").strftime(\"%d%b%Y\")}'\n",
    "\n",
    "slv_filename = slv_filename_list[0]\n",
    "slv_date = os.path.basename(os.path.dirname(slv_filename)).split('_')[2][:8]\n",
    "slv_bandname = f'{sub_swath}_VV_slv1_{datetime.strptime(slv_date, \"%Y%m%d\").strftime(\"%d%b%Y\")}'\n",
    "\n",
    "output_mst_filename = os.path.join(output_folder_preprocessing, f'S1_slc_{mst_date}.tif')\n",
    "output_slv_filename = os.path.join(output_folder_preprocessing, f'S1_slc_{slv_date}.tif')\n",
    "\n",
    "cmd = (\n",
    "    f'gpt \"{graph_mst_filename}\" -Pmst_filename=\"{mst_filename}\" -Pslv_filename=\"{slv_filename}\" '\n",
    "    f'-Pi_q_mst_bandnames=\"i_{mst_bandname},q_{mst_bandname}\" '\n",
    "    f'-Pi_q_slv_bandnames=\"i_{slv_bandname},q_{slv_bandname}\" '\n",
    "    f'-Poutput_mst_filename=\"{output_mst_filename}\" -Poutput_slv_filename=\"{output_slv_filename}\"'\n",
    ")\n",
    "\n",
    "print(cmd)\n",
    "os.system(cmd)"
   ]
  },
  {
   "cell_type": "markdown",
   "id": "12501c96-dab7-43b9-96d0-939d518c7f87",
   "metadata": {},
   "source": [
    "Run the preprocessing for the remaining slave images"
   ]
  },
  {
   "cell_type": "code",
   "execution_count": 65,
   "id": "d9d01267-6ead-4652-b370-29106d498798",
   "metadata": {},
   "outputs": [
    {
     "name": "stdout",
     "output_type": "stream",
     "text": [
      "gpt \"./graphs/pre-processing_2images_SaveOnlySlv_GeoTiff.xml\" -Pmst_filename=\"/home/mcallegari/PROJECT_DATA/ESA_ClouDInSAR/Test/s1_workflow/S1A_SLC_20240809T170739_249435_IW2_VV_440377.SAFE/manifest.safe\" -Pslv_filename=\"/home/mcallegari/PROJECT_DATA/ESA_ClouDInSAR/Test/s1_workflow/S1A_SLC_20240914T170740_249435_IW2_VV_445439.SAFE/manifest.safe\" -Pi_q_slv_bandnames=\"i_IW2_VV_slv1_14Sep2024,q_IW2_VV_slv1_14Sep2024\" -Poutput_slv_filename=\"/home/mcallegari/PROJECT_DATA/ESA_ClouDInSAR/Test/s1_workflow/S1_slc/S1_slc_20240914.tif\"\n",
      "gpt \"./graphs/pre-processing_2images_SaveOnlySlv_GeoTiff.xml\" -Pmst_filename=\"/home/mcallegari/PROJECT_DATA/ESA_ClouDInSAR/Test/s1_workflow/S1A_SLC_20240809T170739_249435_IW2_VV_440377.SAFE/manifest.safe\" -Pslv_filename=\"/home/mcallegari/PROJECT_DATA/ESA_ClouDInSAR/Test/s1_workflow/S1A_SLC_20240926T170740_249435_IW2_VV_447213.SAFE/manifest.safe\" -Pi_q_slv_bandnames=\"i_IW2_VV_slv1_26Sep2024,q_IW2_VV_slv1_26Sep2024\" -Poutput_slv_filename=\"/home/mcallegari/PROJECT_DATA/ESA_ClouDInSAR/Test/s1_workflow/S1_slc/S1_slc_20240926.tif\"\n",
      "gpt \"./graphs/pre-processing_2images_SaveOnlySlv_GeoTiff.xml\" -Pmst_filename=\"/home/mcallegari/PROJECT_DATA/ESA_ClouDInSAR/Test/s1_workflow/S1A_SLC_20240809T170739_249435_IW2_VV_440377.SAFE/manifest.safe\" -Pslv_filename=\"/home/mcallegari/PROJECT_DATA/ESA_ClouDInSAR/Test/s1_workflow/S1A_SLC_20240902T170739_249435_IW2_VV_443669.SAFE/manifest.safe\" -Pi_q_slv_bandnames=\"i_IW2_VV_slv1_02Sep2024,q_IW2_VV_slv1_02Sep2024\" -Poutput_slv_filename=\"/home/mcallegari/PROJECT_DATA/ESA_ClouDInSAR/Test/s1_workflow/S1_slc/S1_slc_20240902.tif\"\n"
     ]
    }
   ],
   "source": [
    "for slv_filename in slv_filename_list[1:]:\n",
    "\n",
    "    slv_date = os.path.basename(os.path.dirname(slv_filename)).split('_')[2][:8]\n",
    "    slv_bandname = f'{sub_swath}_VV_slv1_{datetime.strptime(slv_date, \"%Y%m%d\").strftime(\"%d%b%Y\")}'\n",
    "    output_slv_filename = os.path.join(output_folder_preprocessing, f'S1_slc_{slv_date}.tif')\n",
    "\n",
    "    cmd = (\n",
    "        f'gpt \"{graph_slv_filename}\" -Pmst_filename=\"{mst_filename}\" -Pslv_filename=\"{slv_filename}\" '\n",
    "        f'-Pi_q_slv_bandnames=\"i_{slv_bandname},q_{slv_bandname}\" '\n",
    "        f'-Poutput_slv_filename=\"{output_slv_filename}\"'\n",
    "    )\n",
    "    \n",
    "    print(cmd)\n",
    "    os.system(cmd)"
   ]
  },
  {
   "cell_type": "code",
   "execution_count": null,
   "id": "eaae534b-911a-415e-a865-9d7a48df4f80",
   "metadata": {},
   "outputs": [],
   "source": []
  }
 ],
 "metadata": {
  "kernelspec": {
   "display_name": "Python 3",
   "language": "python",
   "name": "python3"
  },
  "language_info": {
   "codemirror_mode": {
    "name": "ipython",
    "version": 3
   },
   "file_extension": ".py",
   "mimetype": "text/x-python",
   "name": "python",
   "nbconvert_exporter": "python",
   "pygments_lexer": "ipython3",
   "version": "3.9.18"
  }
 },
 "nbformat": 4,
 "nbformat_minor": 5
}
