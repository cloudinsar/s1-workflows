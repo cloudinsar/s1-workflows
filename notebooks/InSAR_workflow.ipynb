{
 "cells": [
  {
   "cell_type": "markdown",
   "id": "9d9cdb68-3447-411d-8e2f-49c65385e8d2",
   "metadata": {},
   "source": [
    "# InSAR workflow"
   ]
  },
  {
   "cell_type": "markdown",
   "id": "16510f23-5a8b-453b-b162-8beaf4c10160",
   "metadata": {},
   "source": [
    "This notebook contain an example on how to execute the InSAR workflow on a local machine with SNAP installed. This workflow can produce geocoded InSAR coherence and flattened + topographic corrected + multilooked + filtered wrapped and unwrapped interferogram"
   ]
  },
  {
   "cell_type": "code",
   "execution_count": 1,
   "id": "aed3f204-a2fe-4821-87cb-da074012a048",
   "metadata": {},
   "outputs": [],
   "source": [
    "import urllib\n",
    "import json\n",
    "from IPython.display import JSON\n",
    "\n",
    "from datetime import datetime\n",
    "\n",
    "import glob\n",
    "import os\n",
    "import subprocess\n",
    "import shutil"
   ]
  },
  {
   "cell_type": "markdown",
   "id": "88a442b0-9f82-4a56-8078-5653b1fa9bc1",
   "metadata": {},
   "source": [
    "## Input definition"
   ]
  },
  {
   "cell_type": "code",
   "execution_count": 2,
   "id": "b2ea580f-8ba6-40e5-ba8c-be31e59b309f",
   "metadata": {},
   "outputs": [],
   "source": [
    "burstId = 249435\n",
    "sub_swath = 'IW2'\n",
    "InSAR_pairs = [\n",
    "    '20240809_20240821',\n",
    "    '20240821_20240902'\n",
    "]\n",
    "\n",
    "# Coherence window size\n",
    "cohWinRg, cohWinAz = (10, 2)\n",
    "\n",
    "# Multillok parameters\n",
    "nRgLooks, nAzLooks = (4, 1)"
   ]
  },
  {
   "cell_type": "code",
   "execution_count": 3,
   "id": "d4a9c6f8-2b99-4bfb-90df-6f33a1fc0aee",
   "metadata": {},
   "outputs": [],
   "source": [
    "graph_interferogram = './graphs/interferogram_sarGeometry.xml'\n",
    "graph_snaphu_export = './graphs/snaphu_export.xml'\n",
    "graph_geocode = './graphs/geocode_snaphuInterferogram.xml'"
   ]
  },
  {
   "cell_type": "code",
   "execution_count": 4,
   "id": "b7b1cc6c-8e07-43cc-8be0-c0d5763cd5cf",
   "metadata": {},
   "outputs": [
    {
     "name": "stdout",
     "output_type": "stream",
     "text": [
      "output_folder: /home/mcallegari/PROJECT_DATA/ESA_ClouDInSAR/Test/InSAR_workflow\n"
     ]
    }
   ],
   "source": [
    "if os.path.exists(\"CDSE_SECRET\"):\n",
    "    with open(\"CDSE_SECRET\", \"r\") as file:\n",
    "        lines = file.readlines()\n",
    "    CDSE_ACCESS_KEY = lines[0].strip().split(\": \")[1]\n",
    "    CDSE_SECRET_KEY = lines[1].strip().split(\": \")[1]\n",
    "else:\n",
    "    # get from environment vatiables:\n",
    "    CDSE_ACCESS_KEY = os.environ.get(\"AWS_ACCESS_KEY_ID\", None)\n",
    "    CDSE_SECRET_KEY = os.environ.get(\"AWS_SECRET_ACCESS_KEY\", None)\n",
    "\n",
    "\n",
    "output_folder = '/home/mcallegari/PROJECT_DATA/ESA_ClouDInSAR/Test/InSAR_workflow'\n",
    "if not os.path.exists(output_folder):\n",
    "    output_folder = os.path.abspath(\"output\")\n",
    "print(\"output_folder: \" + str(output_folder))"
   ]
  },
  {
   "cell_type": "markdown",
   "id": "2bd34375-5140-4f10-aef8-5d3766c66050",
   "metadata": {},
   "source": [
    "## Burst download"
   ]
  },
  {
   "cell_type": "code",
   "execution_count": 5,
   "id": "2fa4661c-baa3-4cb2-bdd8-7876824e0fa7",
   "metadata": {},
   "outputs": [
    {
     "name": "stdout",
     "output_type": "stream",
     "text": [
      "Input file size is 26484, 1512\n",
      "0...10...20...30...40...50...60...70...80...90...100 - done.\n",
      "Input file size is 26484, 1512\n",
      "0...10...20...30...40...50...60...70...80...90...100 - done.\n",
      "Input file size is 26484, 1512\n",
      "0...10...20...30...40...50...60...70...80...90...100 - done.\n"
     ]
    }
   ],
   "source": [
    "date_list = [datetime.strptime(date, \"%Y%m%d\") for date in list(set('_'.join(InSAR_pairs).split('_')))]\n",
    "\n",
    "for date in date_list:\n",
    "\n",
    "    https_request = f\"https://catalogue.dataspace.copernicus.eu/odata/v1/Bursts?$filter=\" + urllib.parse.quote(\n",
    "    f\"ContentDate/Start ge {date.strftime('%Y-%m-%d')}T00:00:00.000Z and ContentDate/Start le {date.strftime('%Y-%m-%d')}T23:59:59.000Z and \"\n",
    "    f\"PolarisationChannels eq 'VV' and \"\n",
    "    f\"BurstId eq {burstId} and \"\n",
    "    f\"SwathIdentifier eq '{sub_swath}'\"\n",
    "    )\n",
    "\n",
    "    with urllib.request.urlopen(https_request) as response:\n",
    "        content = response.read().decode()\n",
    "    bursts = json.loads(content)\n",
    "    ParentProductName = bursts['value'][0]['ParentProductName']\n",
    "\n",
    "    burst_extract_cmd = (\n",
    "        f\"docker run -v {output_folder}:/home/ubuntu \"\n",
    "        f\"-e AWS_ACCESS_KEY_ID={CDSE_ACCESS_KEY} -e AWS_SECRET_ACCESS_KEY={CDSE_SECRET_KEY} \"\n",
    "        f\"cdse_utilities sentinel1_burst_extractor.sh -o /home/ubuntu \"\n",
    "        f\"-n {ParentProductName} -p vv -s {sub_swath.lower()} -r {burstId}\"\n",
    "    )\n",
    "\n",
    "    #print(burst_extract_cmd)\n",
    "    os.system(burst_extract_cmd)\n",
    "    "
   ]
  },
  {
   "cell_type": "markdown",
   "id": "4e3e06a0-114d-4d75-bad9-ebaeddee7991",
   "metadata": {},
   "source": [
    "## Sentinel-1 InSAR processing"
   ]
  },
  {
   "cell_type": "code",
   "execution_count": 6,
   "id": "39105167-ff54-4f86-9073-bbd2e3677188",
   "metadata": {},
   "outputs": [
    {
     "name": "stderr",
     "output_type": "stream",
     "text": [
      "INFO: org.esa.snap.core.gpf.operators.tooladapter.ToolAdapterIO: Initializing external tool adapters\n",
      "INFO: org.esa.snap.core.util.EngineVersionCheckActivator: Please check regularly for new updates for the best SNAP experience.\n"
     ]
    },
    {
     "name": "stdout",
     "output_type": "stream",
     "text": [
      "Executing processing graph\n"
     ]
    },
    {
     "name": "stderr",
     "output_type": "stream",
     "text": [
      "1466 [main] INFO hdf.hdflib.HDFLibrary - HDF4 library: \n",
      "1466 [main] INFO hdf.hdflib.HDFLibrary -  successfully loaded.\n",
      "1471 [main] INFO hdf.hdf5lib.H5 - HDF5 library: \n",
      "1474 [main] INFO hdf.hdf5lib.H5 -  successfully loaded.\n"
     ]
    },
    {
     "name": "stdout",
     "output_type": "stream",
     "text": [
      "....11%....21%....31%..Copernicus_DSM_COG_10_N46_00_E010_00_DEM.tif\n",
      "Copernicus_DSM_COG_10_N45_00_E010_00_DEM.tif\n",
      "Copernicus_DSM_COG_10_N45_00_E011_00_DEM.tif\n",
      "Copernicus_DSM_COG_10_N45_00_E012_00_DEM.tif\n",
      "..41%....52%....62%....72%....82%.... done.\n"
     ]
    },
    {
     "name": "stderr",
     "output_type": "stream",
     "text": [
      "-- org.jblas INFO Deleting /tmp/jblas8921597096126051771/libjblas_arch_flavor.so\n",
      "-- org.jblas INFO Deleting /tmp/jblas8921597096126051771/libjblas.so\n",
      "-- org.jblas INFO Deleting /tmp/jblas8921597096126051771/libgfortran-5.so\n",
      "-- org.jblas INFO Deleting /tmp/jblas8921597096126051771/libquadmath-0.so\n",
      "-- org.jblas INFO Deleting /tmp/jblas8921597096126051771\n",
      "INFO: org.esa.snap.core.gpf.operators.tooladapter.ToolAdapterIO: Initializing external tool adapters\n",
      "INFO: org.esa.snap.core.util.EngineVersionCheckActivator: Please check regularly for new updates for the best SNAP experience.\n"
     ]
    },
    {
     "name": "stdout",
     "output_type": "stream",
     "text": [
      "Executing processing graph\n"
     ]
    },
    {
     "name": "stderr",
     "output_type": "stream",
     "text": [
      "1237 [main] INFO hdf.hdflib.HDFLibrary - HDF4 library: \n",
      "1237 [main] INFO hdf.hdflib.HDFLibrary -  successfully loaded.\n",
      "1244 [main] INFO hdf.hdf5lib.H5 - HDF5 library: \n",
      "1244 [main] INFO hdf.hdf5lib.H5 -  successfully loaded.\n"
     ]
    },
    {
     "name": "stdout",
     "output_type": "stream",
     "text": [
      "....11%...21%....33%....44%...54%....66%....78%....89% done.\n",
      "\n",
      "snaphu v2.0.4\n",
      "27 parameters input from file snaphu.conf (84 lines total)\n"
     ]
    },
    {
     "name": "stderr",
     "output_type": "stream",
     "text": [
      "-- org.jblas INFO Deleting /tmp/jblas12471346088936568751/libjblas_arch_flavor.so\n",
      "-- org.jblas INFO Deleting /tmp/jblas12471346088936568751/libjblas.so\n",
      "-- org.jblas INFO Deleting /tmp/jblas12471346088936568751/libgfortran-5.so\n",
      "-- org.jblas INFO Deleting /tmp/jblas12471346088936568751/libquadmath-0.so\n",
      "-- org.jblas INFO Deleting /tmp/jblas12471346088936568751\n",
      "WARNING: Tile overlap is small (may give bad results)\n"
     ]
    },
    {
     "name": "stdout",
     "output_type": "stream",
     "text": [
      "Logging run-time parameters to file snaphu.log\n",
      "Creating temporary directory snaphu_tiles_47517\n",
      "Unwrapping tile at row 0, column 0 (pid 47519)\n",
      "Unwrapping tile at row 0, column 1 (pid 47521)\n",
      "Unwrapping tile at row 0, column 2 (pid 47523)\n",
      "Unwrapping tile at row 0, column 3 (pid 47532)\n",
      "Unwrapping tile at row 0, column 4 (pid 47533)\n",
      "Unwrapping tile at row 0, column 5 (pid 47537)\n",
      "Unwrapping tile at row 0, column 6 (pid 47539)\n",
      "Unwrapping tile at row 0, column 7 (pid 47540)\n",
      "Unwrapping tile at row 0, column 8 (pid 47550)\n",
      "Unwrapping tile at row 0, column 9 (pid 47553)\n",
      "Unwrapping tile at row 1, column 0 (pid 47557)\n",
      "Unwrapping tile at row 1, column 1 (pid 47559)\n",
      "Unwrapping tile at row 1, column 2 (pid 47560)\n",
      "Unwrapping tile at row 1, column 3 (pid 47570)\n",
      "Unwrapping tile at row 1, column 4 (pid 47572)\n",
      "Unwrapping tile at row 1, column 5 (pid 47573)\n",
      "Unwrapping tile at row 1, column 6 (pid 47574)\n",
      "Unwrapping tile at row 1, column 7 (pid 47585)\n",
      "Unwrapping tile at row 1, column 8 (pid 47587)\n",
      "Unwrapping tile at row 1, column 9 (pid 47591)\n",
      "Unwrapping tile at row 2, column 0 (pid 47592)\n",
      "Unwrapping tile at row 2, column 1 (pid 47595)\n",
      "Unwrapping tile at row 2, column 2 (pid 47603)\n",
      "Unwrapping tile at row 2, column 3 (pid 47605)\n",
      "Unwrapping tile at row 2, column 4 (pid 47607)\n",
      "Unwrapping tile at row 2, column 5 (pid 47617)\n",
      "Unwrapping tile at row 2, column 6 (pid 47625)\n",
      "Unwrapping tile at row 2, column 7 (pid 47627)\n",
      "Unwrapping tile at row 2, column 8 (pid 47630)\n",
      "Unwrapping tile at row 2, column 9 (pid 47641)\n",
      "Unwrapping tile at row 3, column 0 (pid 47643)\n",
      "Unwrapping tile at row 3, column 1 (pid 47652)\n",
      "Unwrapping tile at row 3, column 2 (pid 47654)\n",
      "Unwrapping tile at row 3, column 3 (pid 47655)\n",
      "Unwrapping tile at row 3, column 4 (pid 47656)\n",
      "Unwrapping tile at row 3, column 5 (pid 47658)\n",
      "Unwrapping tile at row 3, column 6 (pid 47668)\n",
      "Unwrapping tile at row 3, column 7 (pid 47669)\n",
      "Unwrapping tile at row 3, column 8 (pid 47673)\n",
      "Unwrapping tile at row 3, column 9 (pid 47676)\n",
      "Unwrapping tile at row 4, column 0 (pid 47677)\n",
      "Unwrapping tile at row 4, column 1 (pid 47687)\n",
      "Unwrapping tile at row 4, column 2 (pid 47693)\n",
      "Unwrapping tile at row 4, column 3 (pid 47694)\n",
      "Unwrapping tile at row 4, column 4 (pid 47695)\n",
      "Unwrapping tile at row 4, column 5 (pid 47704)\n",
      "Unwrapping tile at row 4, column 6 (pid 47713)\n",
      "Unwrapping tile at row 4, column 7 (pid 47716)\n",
      "Unwrapping tile at row 4, column 8 (pid 47718)\n",
      "Unwrapping tile at row 4, column 9 (pid 47719)\n",
      "Unwrapping tile at row 5, column 0 (pid 47728)\n",
      "Unwrapping tile at row 5, column 1 (pid 47729)\n",
      "Unwrapping tile at row 5, column 2 (pid 47730)\n",
      "Unwrapping tile at row 5, column 3 (pid 47739)\n",
      "Unwrapping tile at row 5, column 4 (pid 47741)\n",
      "Unwrapping tile at row 5, column 5 (pid 47752)\n",
      "Unwrapping tile at row 5, column 6 (pid 47753)\n",
      "Unwrapping tile at row 5, column 7 (pid 47756)\n",
      "Unwrapping tile at row 5, column 8 (pid 47758)\n",
      "Unwrapping tile at row 5, column 9 (pid 47760)\n",
      "Unwrapping tile at row 6, column 0 (pid 47768)\n",
      "Unwrapping tile at row 6, column 1 (pid 47769)\n",
      "Unwrapping tile at row 6, column 2 (pid 47770)\n",
      "Unwrapping tile at row 6, column 3 (pid 47773)\n",
      "Unwrapping tile at row 6, column 4 (pid 47775)\n",
      "Unwrapping tile at row 6, column 5 (pid 47783)\n",
      "Unwrapping tile at row 6, column 6 (pid 47784)\n",
      "Unwrapping tile at row 6, column 7 (pid 47789)\n",
      "Unwrapping tile at row 6, column 8 (pid 47790)\n",
      "Unwrapping tile at row 6, column 9 (pid 47792)\n",
      "Unwrapping tile at row 7, column 0 (pid 47800)\n",
      "Unwrapping tile at row 7, column 1 (pid 47801)\n",
      "Unwrapping tile at row 7, column 2 (pid 47803)\n",
      "Unwrapping tile at row 7, column 3 (pid 47804)\n",
      "Unwrapping tile at row 7, column 4 (pid 47806)\n",
      "Unwrapping tile at row 7, column 5 (pid 47817)\n",
      "Unwrapping tile at row 7, column 6 (pid 47818)\n",
      "Unwrapping tile at row 7, column 7 (pid 47824)\n",
      "Unwrapping tile at row 7, column 8 (pid 47825)\n",
      "Unwrapping tile at row 7, column 9 (pid 47828)\n",
      "Unwrapping tile at row 8, column 0 (pid 47838)\n",
      "Unwrapping tile at row 8, column 1 (pid 47843)\n",
      "Unwrapping tile at row 8, column 2 (pid 47849)\n",
      "Unwrapping tile at row 8, column 3 (pid 47851)\n",
      "Unwrapping tile at row 8, column 4 (pid 47852)\n",
      "Unwrapping tile at row 8, column 5 (pid 47861)\n",
      "Unwrapping tile at row 8, column 6 (pid 47863)\n",
      "Unwrapping tile at row 8, column 7 (pid 47866)\n",
      "Unwrapping tile at row 8, column 8 (pid 47868)\n",
      "Unwrapping tile at row 8, column 9 (pid 47869)\n",
      "Unwrapping tile at row 9, column 0 (pid 47871)\n",
      "Unwrapping tile at row 9, column 1 (pid 47880)\n",
      "Unwrapping tile at row 9, column 2 (pid 47882)\n",
      "Unwrapping tile at row 9, column 3 (pid 47884)\n",
      "Unwrapping tile at row 9, column 4 (pid 47886)\n",
      "Unwrapping tile at row 9, column 5 (pid 47895)\n",
      "Unwrapping tile at row 9, column 6 (pid 47897)\n",
      "Unwrapping tile at row 9, column 7 (pid 47901)\n",
      "Unwrapping tile at row 9, column 8 (pid 47902)\n",
      "Unwrapping tile at row 9, column 9 (pid 47903)\n",
      "Assembling tiles\n",
      "Running optimizer for secondary network\n",
      "Number of nodes in secondary network: 26528\n",
      "Flow increment: 1  (Total improvements: 0)\n",
      "Treesize: 26528      Pivots: 4162        Improvements: 220        \n",
      "Flow increment: 2  (Total improvements: 220)\n",
      "Treesize: 26528      Pivots: 3           Improvements: 0          \n",
      "Flow increment: 3  (Total improvements: 220)\n",
      "Treesize: 26528      Pivots: 0           Improvements: 0          \n",
      "Flow increment: 4  (Total improvements: 220)\n",
      "Treesize: 26528      Pivots: 0           Improvements: 0          \n"
     ]
    },
    {
     "name": "stderr",
     "output_type": "stream",
     "text": [
      "130 incremental costs clipped to avoid overflow (0.002%)\n",
      "114 incremental costs clipped to avoid overflow (0.001%)\n",
      "114 incremental costs clipped to avoid overflow (0.001%)\n",
      "114 incremental costs clipped to avoid overflow (0.001%)\n"
     ]
    },
    {
     "name": "stdout",
     "output_type": "stream",
     "text": [
      "Integrating secondary flows\n",
      "Output written to file UnwPhase_ifg_IW2_VV_09Aug2024_21Aug2024.snaphu.img\n",
      "Removing temporary directory snaphu_tiles_47517\n",
      "SUGGESTION: Try increasing tile overlap and/or size if solution has edge artifacts\n",
      "Program snaphu done\n",
      "Elapsed processor time:   0:10:25.78\n",
      "Elapsed wall clock time:  0:01:56\n"
     ]
    },
    {
     "name": "stderr",
     "output_type": "stream",
     "text": [
      "INFO: org.esa.snap.core.gpf.operators.tooladapter.ToolAdapterIO: Initializing external tool adapters\n",
      "INFO: org.esa.snap.core.util.EngineVersionCheckActivator: Please check regularly for new updates for the best SNAP experience.\n"
     ]
    },
    {
     "name": "stdout",
     "output_type": "stream",
     "text": [
      "Executing processing graph\n"
     ]
    },
    {
     "name": "stderr",
     "output_type": "stream",
     "text": [
      "1100 [main] INFO hdf.hdflib.HDFLibrary - HDF4 library: \n",
      "1100 [main] INFO hdf.hdflib.HDFLibrary -  successfully loaded.\n",
      "1104 [main] INFO hdf.hdf5lib.H5 - HDF5 library: \n",
      "1104 [main] INFO hdf.hdf5lib.H5 -  successfully loaded.\n"
     ]
    },
    {
     "name": "stdout",
     "output_type": "stream",
     "text": [
      "....11%...21%....33%....44%...54%....66%....78%....89% done.\n"
     ]
    },
    {
     "name": "stderr",
     "output_type": "stream",
     "text": [
      "INFO: org.esa.snap.core.gpf.operators.tooladapter.ToolAdapterIO: Initializing external tool adapters\n",
      "INFO: org.esa.snap.core.util.EngineVersionCheckActivator: Please check regularly for new updates for the best SNAP experience.\n"
     ]
    },
    {
     "name": "stdout",
     "output_type": "stream",
     "text": [
      "Executing processing graph\n"
     ]
    },
    {
     "name": "stderr",
     "output_type": "stream",
     "text": [
      "1164 [main] INFO hdf.hdflib.HDFLibrary - HDF4 library: \n",
      "1164 [main] INFO hdf.hdflib.HDFLibrary -  successfully loaded.\n",
      "1167 [main] INFO hdf.hdf5lib.H5 - HDF5 library: \n",
      "1168 [main] INFO hdf.hdf5lib.H5 -  successfully loaded.\n",
      "WARNING: org.jlinda.core.Baseline: Max. error bperp modeling at 3D datapoints: 7.191082673161104m\n",
      "WARNING: org.jlinda.core.Baseline: Max. error bperp modeling at 3D datapoints: 7.1904615468048565m\n"
     ]
    },
    {
     "name": "stdout",
     "output_type": "stream",
     "text": [
      "....11%....21%....31%....41%....52%....62%....72%....82%.... done.\n"
     ]
    },
    {
     "name": "stderr",
     "output_type": "stream",
     "text": [
      "-- org.jblas INFO Deleting /tmp/jblas2510980247186092924/libjblas_arch_flavor.so\n",
      "-- org.jblas INFO Deleting /tmp/jblas2510980247186092924/libjblas.so\n",
      "-- org.jblas INFO Deleting /tmp/jblas2510980247186092924/libgfortran-5.so\n",
      "-- org.jblas INFO Deleting /tmp/jblas2510980247186092924/libquadmath-0.so\n",
      "-- org.jblas INFO Deleting /tmp/jblas2510980247186092924\n",
      "INFO: org.esa.snap.core.gpf.operators.tooladapter.ToolAdapterIO: Initializing external tool adapters\n",
      "INFO: org.esa.snap.core.util.EngineVersionCheckActivator: Please check regularly for new updates for the best SNAP experience.\n"
     ]
    },
    {
     "name": "stdout",
     "output_type": "stream",
     "text": [
      "Executing processing graph\n"
     ]
    },
    {
     "name": "stderr",
     "output_type": "stream",
     "text": [
      "1371 [main] INFO hdf.hdflib.HDFLibrary - HDF4 library: \n",
      "1371 [main] INFO hdf.hdflib.HDFLibrary -  successfully loaded.\n",
      "1376 [main] INFO hdf.hdf5lib.H5 - HDF5 library: \n",
      "1376 [main] INFO hdf.hdf5lib.H5 -  successfully loaded.\n"
     ]
    },
    {
     "name": "stdout",
     "output_type": "stream",
     "text": [
      "....11%...21%....33%....44%...54%....66%....78%....89% done.\n",
      "\n",
      "snaphu v2.0.4\n",
      "27 parameters input from file snaphu.conf (84 lines total)\n"
     ]
    },
    {
     "name": "stderr",
     "output_type": "stream",
     "text": [
      "-- org.jblas INFO Deleting /tmp/jblas18313096184770493110/libjblas_arch_flavor.so\n",
      "-- org.jblas INFO Deleting /tmp/jblas18313096184770493110/libjblas.so\n",
      "-- org.jblas INFO Deleting /tmp/jblas18313096184770493110/libgfortran-5.so\n",
      "-- org.jblas INFO Deleting /tmp/jblas18313096184770493110/libquadmath-0.so\n",
      "-- org.jblas INFO Deleting /tmp/jblas18313096184770493110\n",
      "WARNING: Tile overlap is small (may give bad results)\n"
     ]
    },
    {
     "name": "stdout",
     "output_type": "stream",
     "text": [
      "Logging run-time parameters to file snaphu.log\n",
      "Creating temporary directory snaphu_tiles_48530\n",
      "Unwrapping tile at row 0, column 0 (pid 48533)\n",
      "Unwrapping tile at row 0, column 1 (pid 48536)\n",
      "Unwrapping tile at row 0, column 2 (pid 48537)\n",
      "Unwrapping tile at row 0, column 3 (pid 48546)\n",
      "Unwrapping tile at row 0, column 4 (pid 48548)\n",
      "Unwrapping tile at row 0, column 5 (pid 48549)\n",
      "Unwrapping tile at row 0, column 6 (pid 48550)\n",
      "Unwrapping tile at row 0, column 7 (pid 48559)\n",
      "Unwrapping tile at row 0, column 8 (pid 48569)\n",
      "Unwrapping tile at row 0, column 9 (pid 48571)\n",
      "Unwrapping tile at row 1, column 0 (pid 48574)\n",
      "Unwrapping tile at row 1, column 1 (pid 48575)\n",
      "Unwrapping tile at row 1, column 2 (pid 48576)\n",
      "Unwrapping tile at row 1, column 3 (pid 48585)\n",
      "Unwrapping tile at row 1, column 4 (pid 48588)\n",
      "Unwrapping tile at row 1, column 5 (pid 48589)\n",
      "Unwrapping tile at row 1, column 6 (pid 48591)\n",
      "Unwrapping tile at row 1, column 7 (pid 48594)\n",
      "Unwrapping tile at row 1, column 8 (pid 48605)\n",
      "Unwrapping tile at row 1, column 9 (pid 48607)\n",
      "Unwrapping tile at row 2, column 0 (pid 48609)\n",
      "Unwrapping tile at row 2, column 1 (pid 48610)\n",
      "Unwrapping tile at row 2, column 2 (pid 48613)\n",
      "Unwrapping tile at row 2, column 3 (pid 48623)\n",
      "Unwrapping tile at row 2, column 4 (pid 48624)\n",
      "Unwrapping tile at row 2, column 5 (pid 48625)\n",
      "Unwrapping tile at row 2, column 6 (pid 48627)\n",
      "Unwrapping tile at row 2, column 7 (pid 48636)\n",
      "Unwrapping tile at row 2, column 8 (pid 48637)\n",
      "Unwrapping tile at row 2, column 9 (pid 48641)\n",
      "Unwrapping tile at row 3, column 0 (pid 48642)\n",
      "Unwrapping tile at row 3, column 1 (pid 48644)\n",
      "Unwrapping tile at row 3, column 2 (pid 48646)\n",
      "Unwrapping tile at row 3, column 3 (pid 48655)\n",
      "Unwrapping tile at row 3, column 4 (pid 48657)\n",
      "Unwrapping tile at row 3, column 5 (pid 48666)\n",
      "Unwrapping tile at row 3, column 6 (pid 48668)\n",
      "Unwrapping tile at row 3, column 7 (pid 48678)\n",
      "Unwrapping tile at row 3, column 8 (pid 48679)\n",
      "Unwrapping tile at row 3, column 9 (pid 48682)\n",
      "Unwrapping tile at row 4, column 0 (pid 48684)\n",
      "Unwrapping tile at row 4, column 1 (pid 48685)\n",
      "Unwrapping tile at row 4, column 2 (pid 48688)\n",
      "Unwrapping tile at row 4, column 3 (pid 48696)\n",
      "Unwrapping tile at row 4, column 4 (pid 48697)\n",
      "Unwrapping tile at row 4, column 5 (pid 48700)\n",
      "Unwrapping tile at row 4, column 6 (pid 48708)\n",
      "Unwrapping tile at row 4, column 7 (pid 48709)\n",
      "Unwrapping tile at row 4, column 8 (pid 48713)\n",
      "Unwrapping tile at row 4, column 9 (pid 48714)\n",
      "Unwrapping tile at row 5, column 0 (pid 48718)\n",
      "Unwrapping tile at row 5, column 1 (pid 48729)\n",
      "Unwrapping tile at row 5, column 2 (pid 48730)\n",
      "Unwrapping tile at row 5, column 3 (pid 48732)\n",
      "Unwrapping tile at row 5, column 4 (pid 48737)\n",
      "Unwrapping tile at row 5, column 5 (pid 48760)\n",
      "Unwrapping tile at row 5, column 6 (pid 48770)\n",
      "Unwrapping tile at row 5, column 7 (pid 48774)\n",
      "Unwrapping tile at row 5, column 8 (pid 48775)\n",
      "Unwrapping tile at row 5, column 9 (pid 48777)\n",
      "Unwrapping tile at row 6, column 0 (pid 48778)\n",
      "Unwrapping tile at row 6, column 1 (pid 48786)\n",
      "Unwrapping tile at row 6, column 2 (pid 48796)\n",
      "Unwrapping tile at row 6, column 3 (pid 48798)\n",
      "Unwrapping tile at row 6, column 4 (pid 48800)\n",
      "Unwrapping tile at row 6, column 5 (pid 48808)\n",
      "Unwrapping tile at row 6, column 6 (pid 48810)\n",
      "Unwrapping tile at row 6, column 7 (pid 48813)\n",
      "Unwrapping tile at row 6, column 8 (pid 48815)\n",
      "Unwrapping tile at row 6, column 9 (pid 48816)\n",
      "Unwrapping tile at row 7, column 0 (pid 48824)\n",
      "Unwrapping tile at row 7, column 1 (pid 48827)\n",
      "Unwrapping tile at row 7, column 2 (pid 48829)\n",
      "Unwrapping tile at row 7, column 3 (pid 48831)\n",
      "Unwrapping tile at row 7, column 4 (pid 48832)\n",
      "Unwrapping tile at row 7, column 5 (pid 48841)\n",
      "Unwrapping tile at row 7, column 6 (pid 48843)\n",
      "Unwrapping tile at row 7, column 7 (pid 48847)\n",
      "Unwrapping tile at row 7, column 8 (pid 48849)\n",
      "Unwrapping tile at row 7, column 9 (pid 48850)\n",
      "Unwrapping tile at row 8, column 0 (pid 48851)\n",
      "Unwrapping tile at row 8, column 1 (pid 48860)\n",
      "Unwrapping tile at row 8, column 2 (pid 48861)\n",
      "Unwrapping tile at row 8, column 3 (pid 48863)\n",
      "Unwrapping tile at row 8, column 4 (pid 48865)\n",
      "Unwrapping tile at row 8, column 5 (pid 48874)\n",
      "Unwrapping tile at row 8, column 6 (pid 48876)\n",
      "Unwrapping tile at row 8, column 7 (pid 48880)\n",
      "Unwrapping tile at row 8, column 8 (pid 48882)\n",
      "Unwrapping tile at row 8, column 9 (pid 48883)\n",
      "Unwrapping tile at row 9, column 0 (pid 48892)\n",
      "Unwrapping tile at row 9, column 1 (pid 48903)\n",
      "Unwrapping tile at row 9, column 2 (pid 48905)\n",
      "Unwrapping tile at row 9, column 3 (pid 48906)\n",
      "Unwrapping tile at row 9, column 4 (pid 48907)\n",
      "Unwrapping tile at row 9, column 5 (pid 48916)\n",
      "Unwrapping tile at row 9, column 6 (pid 48917)\n",
      "Unwrapping tile at row 9, column 7 (pid 48921)\n",
      "Unwrapping tile at row 9, column 8 (pid 48922)\n",
      "Unwrapping tile at row 9, column 9 (pid 48923)\n",
      "Assembling tiles\n",
      "Running optimizer for secondary network\n",
      "Number of nodes in secondary network: 25887\n",
      "Flow increment: 1  (Total improvements: 0)\n",
      "Treesize: 25887      Pivots: 2908        Improvements: 185        \n",
      "Flow increment: 2  (Total improvements: 185)\n",
      "Treesize: 25887      Pivots: 4           Improvements: 0          \n",
      "Flow increment: 3  (Total improvements: 185)\n",
      "Treesize: 25887      Pivots: 0           Improvements: 0          \n",
      "Flow increment: 4  (Total improvements: 185)\n",
      "Treesize: 25887      Pivots: 0           Improvements: 0          \n",
      "Integrating secondary flows\n",
      "Output written to file UnwPhase_ifg_IW2_VV_21Aug2024_02Sep2024.snaphu.img\n",
      "Removing temporary directory snaphu_tiles_48530\n",
      "SUGGESTION: Try increasing tile overlap and/or size if solution has edge artifacts\n",
      "Program snaphu done\n",
      "Elapsed processor time:   0:09:57.44\n",
      "Elapsed wall clock time:  0:01:55\n"
     ]
    },
    {
     "name": "stderr",
     "output_type": "stream",
     "text": [
      "127 incremental costs clipped to avoid overflow (0.002%)\n",
      "120 incremental costs clipped to avoid overflow (0.001%)\n",
      "120 incremental costs clipped to avoid overflow (0.001%)\n",
      "120 incremental costs clipped to avoid overflow (0.001%)\n",
      "INFO: org.esa.snap.core.gpf.operators.tooladapter.ToolAdapterIO: Initializing external tool adapters\n",
      "INFO: org.esa.snap.core.util.EngineVersionCheckActivator: Please check regularly for new updates for the best SNAP experience.\n"
     ]
    },
    {
     "name": "stdout",
     "output_type": "stream",
     "text": [
      "Executing processing graph\n"
     ]
    },
    {
     "name": "stderr",
     "output_type": "stream",
     "text": [
      "1079 [main] INFO hdf.hdflib.HDFLibrary - HDF4 library: \n",
      "1080 [main] INFO hdf.hdflib.HDFLibrary -  successfully loaded.\n",
      "1083 [main] INFO hdf.hdf5lib.H5 - HDF5 library: \n",
      "1083 [main] INFO hdf.hdf5lib.H5 -  successfully loaded.\n"
     ]
    },
    {
     "name": "stdout",
     "output_type": "stream",
     "text": [
      "....11%...21%....33%....44%...54%....66%....78%....89% done.\n"
     ]
    }
   ],
   "source": [
    "for pair in InSAR_pairs:\n",
    "\n",
    "    # Create the interferogram\n",
    "    prm_filename = glob.glob(os.path.join(output_folder, f'*{pair.split(\"_\")[0]}*', 'manifest.safe'))[0]\n",
    "    sec_filename = glob.glob(os.path.join(output_folder, f'*{pair.split(\"_\")[1]}*', 'manifest.safe'))[0]\n",
    "    tmp_folder = os.path.join(output_folder, 'tmp')\n",
    "    os.makedirs(tmp_folder, exist_ok=True)\n",
    "    phase_filename = os.path.join(tmp_folder, f'phase_coh_{pair}.dim')\n",
    "    cmd_interferogram = (\n",
    "        f'gpt \"{graph_interferogram}\" -Pprm_filename=\"{prm_filename}\" -Psec_filename=\"{sec_filename}\" '\n",
    "        f'-PcohWinRg={cohWinRg} -PcohWinAz={cohWinAz} '\n",
    "        f'-PnRgLooks={nRgLooks} -PnAzLooks={nAzLooks} '\n",
    "        f'-Poutput_filename=\"{phase_filename}\" '\n",
    "        f'-c 8192M'\n",
    "    )\n",
    "    os.system(cmd_interferogram)\n",
    "\n",
    "    # Prepare the snaphu export for unwrapping\n",
    "    cmd_snaphu_export = (\n",
    "        f'gpt \"{graph_snaphu_export}\" -Pphase_filename=\"{phase_filename}\" -Poutput_folder_snaphu=\"{tmp_folder}\" '\n",
    "    )\n",
    "    os.system(cmd_snaphu_export)\n",
    "\n",
    "    # Unwrapping with snaphu\n",
    "    snaphu_conf_filename = glob.glob(os.path.join(tmp_folder, '**/snaphu.conf'))[0]\n",
    "    with open(snaphu_conf_filename, 'r') as file:\n",
    "        for line in file:\n",
    "            if line.startswith('#'):\n",
    "                line = line[1:].lstrip()  # Remove the '#' symbol and whitespaces at the beginning\n",
    "                if line.startswith('snaphu'):\n",
    "                    cmd_unwrapping = line.rstrip()\n",
    "                    break\n",
    "    work_dir = os.getcwd()\n",
    "    os.chdir(os.path.dirname(snaphu_conf_filename))\n",
    "    os.system(cmd_unwrapping)\n",
    "    os.chdir(work_dir)\n",
    "\n",
    "    # Geocode the result (interferogram, unwrapped interferogram, coherence)\n",
    "    prm_date, sec_date = [datetime.strptime(date, \"%Y%m%d\") for date in pair.split('_')]\n",
    "    phase_bandname = f'Phase_ifg_{sub_swath}_VV_{prm_date.strftime(\"%d%b%Y\")}_{sec_date.strftime(\"%d%b%Y\")}'\n",
    "    unw_phase_bandname = f'Unw_Phase_ifg_{prm_date.strftime(\"%d%b%Y\")}_{sec_date.strftime(\"%d%b%Y\")}'\n",
    "    coh_bandname = f'coh_{sub_swath}_VV_{prm_date.strftime(\"%d%b%Y\")}_{sec_date.strftime(\"%d%b%Y\")}'\n",
    "    unw_phase_filename = glob.glob(os.path.join(tmp_folder, '**/UnwPhase*.hdr'))[0]\n",
    "    cmd_geocode = (\n",
    "        f'gpt \"{graph_geocode}\" -Pinterferogram_filename=\"{phase_filename}\" -Punw_interferogram_filename=\"{unw_phase_filename}\" '\n",
    "        f'-Pphase_coh_bandnames=\"{phase_bandname},{unw_phase_bandname},{coh_bandname}\" '\n",
    "        f'-Poutput_filename=\"{os.path.join(output_folder, f'geocoded_interferogram_{pair}.tif')}\"'\n",
    "    )\n",
    "    os.system(cmd_geocode)\n",
    "    shutil.rmtree(tmp_folder)\n",
    "    "
   ]
  },
  {
   "cell_type": "code",
   "execution_count": null,
   "id": "9ddf6866-9df8-4809-a039-b062f5e08d42",
   "metadata": {},
   "outputs": [],
   "source": []
  }
 ],
 "metadata": {
  "kernelspec": {
   "display_name": "Python 3 (ipykernel)",
   "language": "python",
   "name": "python3"
  },
  "language_info": {
   "codemirror_mode": {
    "name": "ipython",
    "version": 3
   },
   "file_extension": ".py",
   "mimetype": "text/x-python",
   "name": "python",
   "nbconvert_exporter": "python",
   "pygments_lexer": "ipython3",
   "version": "3.13.3"
  }
 },
 "nbformat": 4,
 "nbformat_minor": 5
}
