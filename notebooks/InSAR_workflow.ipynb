{
 "cells": [
  {
   "cell_type": "markdown",
   "id": "9d9cdb68-3447-411d-8e2f-49c65385e8d2",
   "metadata": {},
   "source": [
    "# InSAR workflow"
   ]
  },
  {
   "cell_type": "markdown",
   "id": "16510f23-5a8b-453b-b162-8beaf4c10160",
   "metadata": {},
   "source": [
    "This notebook contain an example on how to execute the InSAR workflow on a local machine with SNAP installed. This workflow can produce geocoded InSAR coherence and flattened + topographic corrected + multilooked + filtered wrapped and unwrapped interferogram"
   ]
  },
  {
   "cell_type": "code",
   "execution_count": 1,
   "id": "aed3f204-a2fe-4821-87cb-da074012a048",
   "metadata": {},
   "outputs": [],
   "source": [
    "import urllib\n",
    "import json\n",
    "from IPython.display import JSON\n",
    "\n",
    "from datetime import datetime\n",
    "\n",
    "import glob\n",
    "import os\n",
    "import subprocess\n",
    "import shutil"
   ]
  },
  {
   "cell_type": "markdown",
   "id": "88a442b0-9f82-4a56-8078-5653b1fa9bc1",
   "metadata": {},
   "source": [
    "## Input definition"
   ]
  },
  {
   "cell_type": "code",
   "execution_count": 2,
   "id": "b2ea580f-8ba6-40e5-ba8c-be31e59b309f",
   "metadata": {},
   "outputs": [],
   "source": [
    "burstId = 249435\n",
    "sub_swath = 'IW2'\n",
    "InSAR_pairs = [\n",
    "    '20240809_20240821',\n",
    "    '20240821_20240902'\n",
    "]\n",
    "\n",
    "# Coherence window size\n",
    "cohWinRg, cohWinAz = (10, 2)\n",
    "\n",
    "# Multillok parameters\n",
    "nRgLooks, nAzLooks = (4, 1)"
   ]
  },
  {
   "cell_type": "code",
   "execution_count": 3,
   "id": "d4a9c6f8-2b99-4bfb-90df-6f33a1fc0aee",
   "metadata": {},
   "outputs": [],
   "source": [
    "graph_interferogram = './graphs/interferogram_sarGeometry.xml'\n",
    "graph_snaphu_export = './graphs/snaphu_export.xml'\n",
    "graph_geocode = './graphs/geocode_snaphuInterferogram.xml'"
   ]
  },
  {
   "cell_type": "code",
   "execution_count": 4,
   "id": "b7b1cc6c-8e07-43cc-8be0-c0d5763cd5cf",
   "metadata": {},
   "outputs": [
    {
     "name": "stdout",
     "output_type": "stream",
     "text": [
      "output_folder: /home/mcallegari/PROJECT_DATA/ESA_ClouDInSAR/Test/InSAR_workflow\n"
     ]
    }
   ],
   "source": [
    "if os.path.exists(\"CDSE_SECRET\"):\n",
    "    with open(\"CDSE_SECRET\", \"r\") as file:\n",
    "        lines = file.readlines()\n",
    "    CDSE_ACCESS_KEY = lines[0].strip().split(\": \")[1]\n",
    "    CDSE_SECRET_KEY = lines[1].strip().split(\": \")[1]\n",
    "else:\n",
    "    # get from environment vatiables:\n",
    "    CDSE_ACCESS_KEY = os.environ.get(\"AWS_ACCESS_KEY_ID\", None)\n",
    "    CDSE_SECRET_KEY = os.environ.get(\"AWS_SECRET_ACCESS_KEY\", None)\n",
    "\n",
    "\n",
    "output_folder = '/home/mcallegari/PROJECT_DATA/ESA_ClouDInSAR/Test/InSAR_workflow'\n",
    "if not os.path.exists(output_folder):\n",
    "    output_folder = os.path.abspath(\"output\")\n",
    "print(\"output_folder: \" + str(output_folder))"
   ]
  },
  {
   "cell_type": "markdown",
   "id": "2bd34375-5140-4f10-aef8-5d3766c66050",
   "metadata": {},
   "source": [
    "## Burst download"
   ]
  },
  {
   "cell_type": "code",
   "execution_count": 5,
   "id": "2fa4661c-baa3-4cb2-bdd8-7876824e0fa7",
   "metadata": {},
   "outputs": [
    {
     "name": "stdout",
     "output_type": "stream",
     "text": [
      "Input file size is 26484, 1512\n",
      "0...10...20...30...40...50...60...70...80...90...100 - done.\n",
      "Input file size is 26484, 1512\n",
      "0...10...20...30...40...50...60...70...80...90...100 - done.\n",
      "Input file size is 26484, 1512\n",
      "0...10...20...30...40...50...60...70...80...90...100 - done.\n"
     ]
    }
   ],
   "source": [
    "date_list = [datetime.strptime(date, \"%Y%m%d\") for date in list(set('_'.join(InSAR_pairs).split('_')))]\n",
    "\n",
    "for date in date_list:\n",
    "\n",
    "    https_request = f\"https://catalogue.dataspace.copernicus.eu/odata/v1/Bursts?$filter=\" + urllib.parse.quote(\n",
    "    f\"ContentDate/Start ge {date.strftime('%Y-%m-%d')}T00:00:00.000Z and ContentDate/Start le {date.strftime('%Y-%m-%d')}T23:59:59.000Z and \"\n",
    "    f\"PolarisationChannels eq 'VV' and \"\n",
    "    f\"BurstId eq {burstId} and \"\n",
    "    f\"SwathIdentifier eq '{sub_swath}'\"\n",
    "    )\n",
    "\n",
    "    with urllib.request.urlopen(https_request) as response:\n",
    "        content = response.read().decode()\n",
    "    bursts = json.loads(content)\n",
    "    ParentProductName = bursts['value'][0]['ParentProductName']\n",
    "\n",
    "    burst_extract_cmd = (\n",
    "        f\"docker run -v {output_folder}:/home/ubuntu \"\n",
    "        f\"-e AWS_ACCESS_KEY_ID={CDSE_ACCESS_KEY} -e AWS_SECRET_ACCESS_KEY={CDSE_SECRET_KEY} \"\n",
    "        f\"cdse_utilities sentinel1_burst_extractor.sh -o /home/ubuntu \"\n",
    "        f\"-n {ParentProductName} -p vv -s {sub_swath.lower()} -r {burstId}\"\n",
    "    )\n",
    "\n",
    "    #print(burst_extract_cmd)\n",
    "    os.system(burst_extract_cmd)\n",
    "    "
   ]
  },
  {
   "cell_type": "markdown",
   "id": "4e3e06a0-114d-4d75-bad9-ebaeddee7991",
   "metadata": {},
   "source": [
    "## Sentinel-1 InSAR processing"
   ]
  },
  {
   "cell_type": "code",
   "execution_count": 5,
   "id": "39105167-ff54-4f86-9073-bbd2e3677188",
   "metadata": {
    "scrolled": true
   },
   "outputs": [
    {
     "name": "stderr",
     "output_type": "stream",
     "text": [
      "INFO: org.esa.snap.core.gpf.operators.tooladapter.ToolAdapterIO: Initializing external tool adapters\n",
      "INFO: org.esa.snap.core.util.EngineVersionCheckActivator: Please check regularly for new updates for the best SNAP experience.\n"
     ]
    },
    {
     "name": "stdout",
     "output_type": "stream",
     "text": [
      "Executing processing graph\n"
     ]
    },
    {
     "name": "stderr",
     "output_type": "stream",
     "text": [
      "1257 [main] INFO hdf.hdflib.HDFLibrary - HDF4 library: \n",
      "1257 [main] INFO hdf.hdflib.HDFLibrary -  successfully loaded.\n",
      "1264 [main] INFO hdf.hdf5lib.H5 - HDF5 library: \n",
      "1265 [main] INFO hdf.hdf5lib.H5 -  successfully loaded.\n"
     ]
    },
    {
     "name": "stdout",
     "output_type": "stream",
     "text": [
      "....11%....21%....31%....41%....52%....62%....72%....82%.... done.\n"
     ]
    },
    {
     "name": "stderr",
     "output_type": "stream",
     "text": [
      "-- org.jblas INFO Deleting /tmp/jblas4844068873431598342/libjblas_arch_flavor.so\n",
      "-- org.jblas INFO Deleting /tmp/jblas4844068873431598342/libjblas.so\n",
      "-- org.jblas INFO Deleting /tmp/jblas4844068873431598342/libgfortran-5.so\n",
      "-- org.jblas INFO Deleting /tmp/jblas4844068873431598342/libquadmath-0.so\n",
      "-- org.jblas INFO Deleting /tmp/jblas4844068873431598342\n",
      "INFO: org.esa.snap.core.gpf.operators.tooladapter.ToolAdapterIO: Initializing external tool adapters\n",
      "INFO: org.esa.snap.core.util.EngineVersionCheckActivator: Please check regularly for new updates for the best SNAP experience.\n"
     ]
    },
    {
     "name": "stdout",
     "output_type": "stream",
     "text": [
      "Executing processing graph\n"
     ]
    },
    {
     "name": "stderr",
     "output_type": "stream",
     "text": [
      "1172 [main] INFO hdf.hdflib.HDFLibrary - HDF4 library: \n",
      "1172 [main] INFO hdf.hdflib.HDFLibrary -  successfully loaded.\n",
      "1175 [main] INFO hdf.hdf5lib.H5 - HDF5 library: \n",
      "1175 [main] INFO hdf.hdf5lib.H5 -  successfully loaded.\n"
     ]
    },
    {
     "name": "stdout",
     "output_type": "stream",
     "text": [
      "....11%...21%....33%....44%...54%....66%....78%....89% done.\n",
      "\n",
      "snaphu v2.0.4\n",
      "27 parameters input from file snaphu.conf (84 lines total)\n"
     ]
    },
    {
     "name": "stderr",
     "output_type": "stream",
     "text": [
      "-- org.jblas INFO Deleting /tmp/jblas18244685318103645361/libjblas_arch_flavor.so\n",
      "-- org.jblas INFO Deleting /tmp/jblas18244685318103645361/libjblas.so\n",
      "-- org.jblas INFO Deleting /tmp/jblas18244685318103645361/libgfortran-5.so\n",
      "-- org.jblas INFO Deleting /tmp/jblas18244685318103645361/libquadmath-0.so\n",
      "-- org.jblas INFO Deleting /tmp/jblas18244685318103645361\n",
      "WARNING: Tile overlap is small (may give bad results)\n"
     ]
    },
    {
     "name": "stdout",
     "output_type": "stream",
     "text": [
      "Logging run-time parameters to file snaphu.log\n",
      "Creating temporary directory snaphu_tiles_62713\n",
      "Unwrapping tile at row 0, column 0 (pid 62714)\n",
      "Unwrapping tile at row 0, column 1 (pid 62716)\n",
      "Unwrapping tile at row 0, column 2 (pid 62725)\n",
      "Unwrapping tile at row 0, column 3 (pid 62734)\n",
      "Unwrapping tile at row 0, column 4 (pid 62737)\n",
      "Unwrapping tile at row 0, column 5 (pid 62749)\n",
      "Unwrapping tile at row 0, column 6 (pid 62750)\n",
      "Unwrapping tile at row 0, column 7 (pid 62751)\n",
      "Unwrapping tile at row 0, column 8 (pid 62761)\n",
      "Unwrapping tile at row 0, column 9 (pid 62763)\n",
      "Unwrapping tile at row 1, column 0 (pid 62764)\n",
      "Unwrapping tile at row 1, column 1 (pid 62790)\n",
      "Unwrapping tile at row 1, column 2 (pid 62794)\n",
      "Unwrapping tile at row 1, column 3 (pid 62803)\n",
      "Unwrapping tile at row 1, column 4 (pid 62805)\n",
      "Unwrapping tile at row 1, column 5 (pid 62806)\n",
      "Unwrapping tile at row 1, column 6 (pid 62823)\n",
      "Unwrapping tile at row 1, column 7 (pid 62828)\n",
      "Unwrapping tile at row 1, column 8 (pid 62830)\n",
      "Unwrapping tile at row 1, column 9 (pid 62833)\n",
      "Unwrapping tile at row 2, column 0 (pid 62842)\n",
      "Unwrapping tile at row 2, column 1 (pid 62857)\n",
      "Unwrapping tile at row 2, column 2 (pid 62858)\n",
      "Unwrapping tile at row 2, column 3 (pid 62859)\n",
      "Unwrapping tile at row 2, column 4 (pid 62861)\n",
      "Unwrapping tile at row 2, column 5 (pid 62872)\n",
      "Unwrapping tile at row 2, column 6 (pid 62874)\n",
      "Unwrapping tile at row 2, column 7 (pid 62885)\n",
      "Unwrapping tile at row 2, column 8 (pid 62886)\n",
      "Unwrapping tile at row 2, column 9 (pid 62887)\n",
      "Unwrapping tile at row 3, column 0 (pid 62889)\n",
      "Unwrapping tile at row 3, column 1 (pid 62901)\n",
      "Unwrapping tile at row 3, column 2 (pid 62902)\n",
      "Unwrapping tile at row 3, column 3 (pid 62903)\n",
      "Unwrapping tile at row 3, column 4 (pid 62913)\n",
      "Unwrapping tile at row 3, column 5 (pid 62923)\n",
      "Unwrapping tile at row 3, column 6 (pid 62925)\n",
      "Unwrapping tile at row 3, column 7 (pid 62945)\n",
      "Unwrapping tile at row 3, column 8 (pid 62947)\n",
      "Unwrapping tile at row 3, column 9 (pid 62948)\n",
      "Unwrapping tile at row 4, column 0 (pid 62949)\n",
      "Unwrapping tile at row 4, column 1 (pid 62970)\n",
      "Unwrapping tile at row 4, column 2 (pid 62971)\n",
      "Unwrapping tile at row 4, column 3 (pid 62973)\n",
      "Unwrapping tile at row 4, column 4 (pid 62974)\n",
      "Unwrapping tile at row 4, column 5 (pid 62984)\n",
      "Unwrapping tile at row 4, column 6 (pid 62986)\n",
      "Unwrapping tile at row 4, column 7 (pid 62989)\n",
      "Unwrapping tile at row 4, column 8 (pid 62991)\n",
      "Unwrapping tile at row 4, column 9 (pid 63000)\n",
      "Unwrapping tile at row 5, column 0 (pid 63002)\n",
      "Unwrapping tile at row 5, column 1 (pid 63023)\n",
      "Unwrapping tile at row 5, column 2 (pid 63025)\n",
      "Unwrapping tile at row 5, column 3 (pid 63027)\n",
      "Unwrapping tile at row 5, column 4 (pid 63029)\n",
      "Unwrapping tile at row 5, column 5 (pid 63038)\n",
      "Unwrapping tile at row 5, column 6 (pid 63039)\n",
      "Unwrapping tile at row 5, column 7 (pid 63040)\n",
      "Unwrapping tile at row 5, column 8 (pid 63051)\n",
      "Unwrapping tile at row 5, column 9 (pid 63056)\n",
      "Unwrapping tile at row 6, column 0 (pid 63058)\n",
      "Unwrapping tile at row 6, column 1 (pid 63067)\n",
      "Unwrapping tile at row 6, column 2 (pid 63068)\n",
      "Unwrapping tile at row 6, column 3 (pid 63070)\n",
      "Unwrapping tile at row 6, column 4 (pid 63081)\n",
      "Unwrapping tile at row 6, column 5 (pid 63085)\n",
      "Unwrapping tile at row 6, column 6 (pid 63087)\n",
      "Unwrapping tile at row 6, column 7 (pid 63095)\n",
      "Unwrapping tile at row 6, column 8 (pid 63104)\n",
      "Unwrapping tile at row 6, column 9 (pid 63107)\n",
      "Unwrapping tile at row 7, column 0 (pid 63121)\n",
      "Unwrapping tile at row 7, column 1 (pid 63122)\n",
      "Unwrapping tile at row 7, column 2 (pid 63124)\n",
      "Unwrapping tile at row 7, column 3 (pid 63132)\n",
      "Unwrapping tile at row 7, column 4 (pid 63133)\n",
      "Unwrapping tile at row 7, column 5 (pid 63135)\n",
      "Unwrapping tile at row 7, column 6 (pid 63147)\n",
      "Unwrapping tile at row 7, column 7 (pid 63148)\n",
      "Unwrapping tile at row 7, column 8 (pid 63161)\n",
      "Unwrapping tile at row 7, column 9 (pid 63162)\n",
      "Unwrapping tile at row 8, column 0 (pid 63165)\n",
      "Unwrapping tile at row 8, column 1 (pid 63168)\n",
      "Unwrapping tile at row 8, column 2 (pid 63179)\n",
      "Unwrapping tile at row 8, column 3 (pid 63181)\n",
      "Unwrapping tile at row 8, column 4 (pid 63182)\n",
      "Unwrapping tile at row 8, column 5 (pid 63190)\n",
      "Unwrapping tile at row 8, column 6 (pid 63201)\n",
      "Unwrapping tile at row 8, column 7 (pid 63227)\n",
      "Unwrapping tile at row 8, column 8 (pid 63231)\n",
      "Unwrapping tile at row 8, column 9 (pid 63236)\n",
      "Unwrapping tile at row 9, column 0 (pid 63244)\n",
      "Unwrapping tile at row 9, column 1 (pid 63245)\n",
      "Unwrapping tile at row 9, column 2 (pid 63249)\n",
      "Unwrapping tile at row 9, column 3 (pid 63260)\n",
      "Unwrapping tile at row 9, column 4 (pid 63262)\n",
      "Unwrapping tile at row 9, column 5 (pid 63263)\n",
      "Unwrapping tile at row 9, column 6 (pid 63264)\n",
      "Unwrapping tile at row 9, column 7 (pid 63275)\n",
      "Unwrapping tile at row 9, column 8 (pid 63279)\n",
      "Unwrapping tile at row 9, column 9 (pid 63291)\n"
     ]
    },
    {
     "name": "stderr",
     "output_type": "stream",
     "text": [
      "127 incremental costs clipped to avoid overflow (0.001%)\n",
      "109 incremental costs clipped to avoid overflow (0.001%)\n",
      "110 incremental costs clipped to avoid overflow (0.001%)\n",
      "110 incremental costs clipped to avoid overflow (0.001%)\n"
     ]
    },
    {
     "name": "stdout",
     "output_type": "stream",
     "text": [
      "Assembling tiles\n",
      "Running optimizer for secondary network\n",
      "Number of nodes in secondary network: 31593\n",
      "Flow increment: 1  (Total improvements: 0)\n",
      "Treesize: 31593      Pivots: 4772        Improvements: 227        \n",
      "Flow increment: 2  (Total improvements: 227)\n",
      "Treesize: 31593      Pivots: 3           Improvements: 0          \n",
      "Flow increment: 3  (Total improvements: 227)\n",
      "Treesize: 31593      Pivots: 0           Improvements: 0          \n",
      "Flow increment: 4  (Total improvements: 227)\n",
      "Treesize: 31593      Pivots: 0           Improvements: 0          \n",
      "Integrating secondary flows\n",
      "Output written to file UnwPhase_ifg_IW2_VV_09Aug2024_21Aug2024.snaphu.img\n",
      "Removing temporary directory snaphu_tiles_62713\n",
      "SUGGESTION: Try increasing tile overlap and/or size if solution has edge artifacts\n",
      "Program snaphu done\n",
      "Elapsed processor time:   0:09:51.28\n",
      "Elapsed wall clock time:  0:03:07\n"
     ]
    },
    {
     "name": "stderr",
     "output_type": "stream",
     "text": [
      "INFO: org.esa.snap.core.gpf.operators.tooladapter.ToolAdapterIO: Initializing external tool adapters\n",
      "INFO: org.esa.snap.core.util.EngineVersionCheckActivator: Please check regularly for new updates for the best SNAP experience.\n"
     ]
    },
    {
     "name": "stdout",
     "output_type": "stream",
     "text": [
      "Executing processing graph\n"
     ]
    },
    {
     "name": "stderr",
     "output_type": "stream",
     "text": [
      "1121 [main] INFO hdf.hdflib.HDFLibrary - HDF4 library: \n",
      "1121 [main] INFO hdf.hdflib.HDFLibrary -  successfully loaded.\n",
      "1125 [main] INFO hdf.hdf5lib.H5 - HDF5 library: \n",
      "1125 [main] INFO hdf.hdf5lib.H5 -  successfully loaded.\n"
     ]
    },
    {
     "name": "stdout",
     "output_type": "stream",
     "text": [
      "....10%....20%....30%....40%....50%....60%....70%....80%....90% done.\n"
     ]
    },
    {
     "name": "stderr",
     "output_type": "stream",
     "text": [
      "INFO: org.esa.snap.core.gpf.operators.tooladapter.ToolAdapterIO: Initializing external tool adapters\n",
      "INFO: org.esa.snap.core.util.EngineVersionCheckActivator: Please check regularly for new updates for the best SNAP experience.\n"
     ]
    },
    {
     "name": "stdout",
     "output_type": "stream",
     "text": [
      "Executing processing graph\n"
     ]
    },
    {
     "name": "stderr",
     "output_type": "stream",
     "text": [
      "1161 [main] INFO hdf.hdflib.HDFLibrary - HDF4 library: \n",
      "1162 [main] INFO hdf.hdflib.HDFLibrary -  successfully loaded.\n",
      "1165 [main] INFO hdf.hdf5lib.H5 - HDF5 library: \n",
      "1165 [main] INFO hdf.hdf5lib.H5 -  successfully loaded.\n",
      "INFO: eu.esa.sar.commons.io.ImageIOFile: Using FileCacheImageInputStream\n",
      "WARNING: org.jlinda.core.Baseline: Max. error bperp modeling at 3D datapoints: 7.191082673161104m\n",
      "WARNING: org.jlinda.core.Baseline: Max. error bperp modeling at 3D datapoints: 7.1904615468048565m\n"
     ]
    },
    {
     "name": "stdout",
     "output_type": "stream",
     "text": [
      "....11%....21%....31%....41%....52%....62%....72%....82%.... done.\n"
     ]
    },
    {
     "name": "stderr",
     "output_type": "stream",
     "text": [
      "-- org.jblas INFO Deleting /tmp/jblas16442562807235722846/libjblas_arch_flavor.so\n",
      "-- org.jblas INFO Deleting /tmp/jblas16442562807235722846/libjblas.so\n",
      "-- org.jblas INFO Deleting /tmp/jblas16442562807235722846/libgfortran-5.so\n",
      "-- org.jblas INFO Deleting /tmp/jblas16442562807235722846/libquadmath-0.so\n",
      "-- org.jblas INFO Deleting /tmp/jblas16442562807235722846\n",
      "INFO: org.esa.snap.core.gpf.operators.tooladapter.ToolAdapterIO: Initializing external tool adapters\n",
      "INFO: org.esa.snap.core.util.EngineVersionCheckActivator: Please check regularly for new updates for the best SNAP experience.\n"
     ]
    },
    {
     "name": "stdout",
     "output_type": "stream",
     "text": [
      "Executing processing graph\n"
     ]
    },
    {
     "name": "stderr",
     "output_type": "stream",
     "text": [
      "1147 [main] INFO hdf.hdflib.HDFLibrary - HDF4 library: \n",
      "1147 [main] INFO hdf.hdflib.HDFLibrary -  successfully loaded.\n",
      "1151 [main] INFO hdf.hdf5lib.H5 - HDF5 library: \n",
      "1151 [main] INFO hdf.hdf5lib.H5 -  successfully loaded.\n"
     ]
    },
    {
     "name": "stdout",
     "output_type": "stream",
     "text": [
      "....11%...21%....33%....44%...54%....66%....78%....89% done.\n",
      "\n",
      "snaphu v2.0.4\n",
      "27 parameters input from file snaphu.conf (84 lines total)\n"
     ]
    },
    {
     "name": "stderr",
     "output_type": "stream",
     "text": [
      "-- org.jblas INFO Deleting /tmp/jblas2095124097476573655/libjblas_arch_flavor.so\n",
      "-- org.jblas INFO Deleting /tmp/jblas2095124097476573655/libjblas.so\n",
      "-- org.jblas INFO Deleting /tmp/jblas2095124097476573655/libgfortran-5.so\n",
      "-- org.jblas INFO Deleting /tmp/jblas2095124097476573655/libquadmath-0.so\n",
      "-- org.jblas INFO Deleting /tmp/jblas2095124097476573655\n",
      "WARNING: Tile overlap is small (may give bad results)\n"
     ]
    },
    {
     "name": "stdout",
     "output_type": "stream",
     "text": [
      "Logging run-time parameters to file snaphu.log\n",
      "Creating temporary directory snaphu_tiles_63844\n",
      "Unwrapping tile at row 0, column 0 (pid 63847)\n",
      "Unwrapping tile at row 0, column 1 (pid 63850)\n",
      "Unwrapping tile at row 0, column 2 (pid 63852)\n",
      "Unwrapping tile at row 0, column 3 (pid 63853)\n",
      "Unwrapping tile at row 0, column 4 (pid 63866)\n",
      "Unwrapping tile at row 0, column 5 (pid 63868)\n",
      "Unwrapping tile at row 0, column 6 (pid 63879)\n",
      "Unwrapping tile at row 0, column 7 (pid 63881)\n",
      "Unwrapping tile at row 0, column 8 (pid 63893)\n",
      "Unwrapping tile at row 0, column 9 (pid 63895)\n",
      "Unwrapping tile at row 1, column 0 (pid 63896)\n",
      "Unwrapping tile at row 1, column 1 (pid 63917)\n",
      "Unwrapping tile at row 1, column 2 (pid 63920)\n",
      "Unwrapping tile at row 1, column 3 (pid 63922)\n",
      "Unwrapping tile at row 1, column 4 (pid 63931)\n",
      "Unwrapping tile at row 1, column 5 (pid 63932)\n",
      "Unwrapping tile at row 1, column 6 (pid 63940)\n",
      "Unwrapping tile at row 1, column 7 (pid 63944)\n",
      "Unwrapping tile at row 1, column 8 (pid 63947)\n",
      "Unwrapping tile at row 1, column 9 (pid 63948)\n",
      "Unwrapping tile at row 2, column 0 (pid 63957)\n",
      "Unwrapping tile at row 2, column 1 (pid 63958)\n",
      "Unwrapping tile at row 2, column 2 (pid 63970)\n",
      "Unwrapping tile at row 2, column 3 (pid 63972)\n",
      "Unwrapping tile at row 2, column 4 (pid 63975)\n",
      "Unwrapping tile at row 2, column 5 (pid 63984)\n",
      "Unwrapping tile at row 2, column 6 (pid 63986)\n",
      "Unwrapping tile at row 2, column 7 (pid 63999)\n",
      "Unwrapping tile at row 2, column 8 (pid 64009)\n",
      "Unwrapping tile at row 2, column 9 (pid 64012)\n",
      "Unwrapping tile at row 3, column 0 (pid 64015)\n",
      "Unwrapping tile at row 3, column 1 (pid 64025)\n",
      "Unwrapping tile at row 3, column 2 (pid 64026)\n",
      "Unwrapping tile at row 3, column 3 (pid 64028)\n",
      "Unwrapping tile at row 3, column 4 (pid 64041)\n",
      "Unwrapping tile at row 3, column 5 (pid 64045)\n",
      "Unwrapping tile at row 3, column 6 (pid 64047)\n",
      "Unwrapping tile at row 3, column 7 (pid 64055)\n",
      "Unwrapping tile at row 3, column 8 (pid 64056)\n",
      "Unwrapping tile at row 3, column 9 (pid 64058)\n",
      "Unwrapping tile at row 4, column 0 (pid 64061)\n",
      "Unwrapping tile at row 4, column 1 (pid 64082)\n",
      "Unwrapping tile at row 4, column 2 (pid 64083)\n",
      "Unwrapping tile at row 4, column 3 (pid 64084)\n",
      "Unwrapping tile at row 4, column 4 (pid 64094)\n",
      "Unwrapping tile at row 4, column 5 (pid 64103)\n",
      "Unwrapping tile at row 4, column 6 (pid 64107)\n",
      "Unwrapping tile at row 4, column 7 (pid 64120)\n",
      "Unwrapping tile at row 4, column 8 (pid 64121)\n",
      "Unwrapping tile at row 4, column 9 (pid 64129)\n",
      "Unwrapping tile at row 5, column 0 (pid 64130)\n",
      "Unwrapping tile at row 5, column 1 (pid 64143)\n",
      "Unwrapping tile at row 5, column 2 (pid 64146)\n",
      "Unwrapping tile at row 5, column 3 (pid 64147)\n",
      "Unwrapping tile at row 5, column 4 (pid 64148)\n",
      "Unwrapping tile at row 5, column 5 (pid 64157)\n",
      "Unwrapping tile at row 5, column 6 (pid 64160)\n",
      "Unwrapping tile at row 5, column 7 (pid 64163)\n",
      "Unwrapping tile at row 5, column 8 (pid 64176)\n",
      "Unwrapping tile at row 5, column 9 (pid 64177)\n",
      "Unwrapping tile at row 6, column 0 (pid 64187)\n",
      "Unwrapping tile at row 6, column 1 (pid 64197)\n",
      "Unwrapping tile at row 6, column 2 (pid 64199)\n",
      "Unwrapping tile at row 6, column 3 (pid 64201)\n",
      "Unwrapping tile at row 6, column 4 (pid 64210)\n",
      "Unwrapping tile at row 6, column 5 (pid 64217)\n",
      "Unwrapping tile at row 6, column 6 (pid 64218)\n",
      "Unwrapping tile at row 6, column 7 (pid 64220)\n",
      "Unwrapping tile at row 6, column 8 (pid 64236)\n",
      "Unwrapping tile at row 6, column 9 (pid 64244)\n",
      "Unwrapping tile at row 7, column 0 (pid 64253)\n",
      "Unwrapping tile at row 7, column 1 (pid 64261)\n",
      "Unwrapping tile at row 7, column 2 (pid 64265)\n",
      "Unwrapping tile at row 7, column 3 (pid 64269)\n",
      "Unwrapping tile at row 7, column 4 (pid 64277)\n",
      "Unwrapping tile at row 7, column 5 (pid 64282)\n",
      "Unwrapping tile at row 7, column 6 (pid 64302)\n",
      "Unwrapping tile at row 7, column 7 (pid 64304)\n",
      "Unwrapping tile at row 7, column 8 (pid 64315)\n",
      "Unwrapping tile at row 7, column 9 (pid 64316)\n",
      "Unwrapping tile at row 8, column 0 (pid 64319)\n",
      "Unwrapping tile at row 8, column 1 (pid 64328)\n",
      "Unwrapping tile at row 8, column 2 (pid 64330)\n",
      "Unwrapping tile at row 8, column 3 (pid 64332)\n",
      "Unwrapping tile at row 8, column 4 (pid 64334)\n",
      "Unwrapping tile at row 8, column 5 (pid 64342)\n",
      "Unwrapping tile at row 8, column 6 (pid 64345)\n",
      "Unwrapping tile at row 8, column 7 (pid 64347)\n",
      "Unwrapping tile at row 8, column 8 (pid 64358)\n",
      "Unwrapping tile at row 8, column 9 (pid 64361)\n",
      "Unwrapping tile at row 9, column 0 (pid 64369)\n",
      "Unwrapping tile at row 9, column 1 (pid 64371)\n",
      "Unwrapping tile at row 9, column 2 (pid 64459)\n",
      "Unwrapping tile at row 9, column 3 (pid 64485)\n",
      "Unwrapping tile at row 9, column 4 (pid 64488)\n",
      "Unwrapping tile at row 9, column 5 (pid 64489)\n",
      "Unwrapping tile at row 9, column 6 (pid 64490)\n",
      "Unwrapping tile at row 9, column 7 (pid 64500)\n",
      "Unwrapping tile at row 9, column 8 (pid 64501)\n",
      "Unwrapping tile at row 9, column 9 (pid 64511)\n"
     ]
    },
    {
     "name": "stderr",
     "output_type": "stream",
     "text": [
      "130 incremental costs clipped to avoid overflow (0.001%)\n",
      "118 incremental costs clipped to avoid overflow (0.001%)\n",
      "118 incremental costs clipped to avoid overflow (0.001%)\n",
      "118 incremental costs clipped to avoid overflow (0.001%)\n"
     ]
    },
    {
     "name": "stdout",
     "output_type": "stream",
     "text": [
      "Assembling tiles\n",
      "Running optimizer for secondary network\n",
      "Number of nodes in secondary network: 30452\n",
      "Flow increment: 1  (Total improvements: 0)\n",
      "Treesize: 30452      Pivots: 8427        Improvements: 233        \n",
      "Flow increment: 2  (Total improvements: 233)\n",
      "Treesize: 30452      Pivots: 5           Improvements: 0          \n",
      "Flow increment: 3  (Total improvements: 233)\n",
      "Treesize: 30452      Pivots: 0           Improvements: 0          \n",
      "Flow increment: 4  (Total improvements: 233)\n",
      "Treesize: 30452      Pivots: 0           Improvements: 0          \n",
      "Integrating secondary flows\n",
      "Output written to file UnwPhase_ifg_IW2_VV_21Aug2024_02Sep2024.snaphu.img\n",
      "Removing temporary directory snaphu_tiles_63844\n",
      "SUGGESTION: Try increasing tile overlap and/or size if solution has edge artifacts\n",
      "Program snaphu done\n",
      "Elapsed processor time:   0:10:21.54\n",
      "Elapsed wall clock time:  0:03:14\n"
     ]
    },
    {
     "name": "stderr",
     "output_type": "stream",
     "text": [
      "INFO: org.esa.snap.core.gpf.operators.tooladapter.ToolAdapterIO: Initializing external tool adapters\n",
      "INFO: org.esa.snap.core.util.EngineVersionCheckActivator: Please check regularly for new updates for the best SNAP experience.\n"
     ]
    },
    {
     "name": "stdout",
     "output_type": "stream",
     "text": [
      "Executing processing graph\n"
     ]
    },
    {
     "name": "stderr",
     "output_type": "stream",
     "text": [
      "1031 [main] INFO hdf.hdflib.HDFLibrary - HDF4 library: \n",
      "1032 [main] INFO hdf.hdflib.HDFLibrary -  successfully loaded.\n",
      "1035 [main] INFO hdf.hdf5lib.H5 - HDF5 library: \n",
      "1035 [main] INFO hdf.hdf5lib.H5 -  successfully loaded.\n"
     ]
    },
    {
     "name": "stdout",
     "output_type": "stream",
     "text": [
      "....10%....20%....30%....40%....50%....60%....70%....80%....90% done.\n"
     ]
    }
   ],
   "source": [
    "for pair in InSAR_pairs:\n",
    "\n",
    "    # Create the interferogram\n",
    "    prm_filename = glob.glob(os.path.join(output_folder, f'*{pair.split(\"_\")[0]}*', 'manifest.safe'))[0]\n",
    "    sec_filename = glob.glob(os.path.join(output_folder, f'*{pair.split(\"_\")[1]}*', 'manifest.safe'))[0]\n",
    "    tmp_folder = os.path.join(output_folder, 'tmp')\n",
    "    os.makedirs(tmp_folder, exist_ok=True)\n",
    "    phase_filename = os.path.join(tmp_folder, f'phase_coh_{pair}.dim')\n",
    "    cmd_interferogram = (\n",
    "        f'gpt \"{graph_interferogram}\" -Pprm_filename=\"{prm_filename}\" -Psec_filename=\"{sec_filename}\" '\n",
    "        f'-PcohWinRg={cohWinRg} -PcohWinAz={cohWinAz} '\n",
    "        f'-PnRgLooks={nRgLooks} -PnAzLooks={nAzLooks} '\n",
    "        f'-Poutput_filename=\"{phase_filename}\" '\n",
    "        f'-c 8192M'\n",
    "    )\n",
    "    os.system(cmd_interferogram)\n",
    "\n",
    "    # Prepare the snaphu export for unwrapping\n",
    "    cmd_snaphu_export = (\n",
    "        f'gpt \"{graph_snaphu_export}\" -Pphase_filename=\"{phase_filename}\" -Poutput_folder_snaphu=\"{tmp_folder}\" '\n",
    "    )\n",
    "    os.system(cmd_snaphu_export)\n",
    "\n",
    "    # Unwrapping with snaphu\n",
    "    snaphu_conf_filename = glob.glob(os.path.join(tmp_folder, '**/snaphu.conf'))[0]\n",
    "    with open(snaphu_conf_filename, 'r') as file:\n",
    "        for line in file:\n",
    "            if line.startswith('#'):\n",
    "                line = line[1:].lstrip()  # Remove the '#' symbol and whitespaces at the beginning\n",
    "                if line.startswith('snaphu'):\n",
    "                    cmd_unwrapping = line.rstrip()\n",
    "                    break\n",
    "    work_dir = os.getcwd()\n",
    "    os.chdir(os.path.dirname(snaphu_conf_filename))\n",
    "    os.system(cmd_unwrapping)\n",
    "    os.chdir(work_dir)\n",
    "\n",
    "    # Geocode the result (interferogram, unwrapped interferogram, coherence)\n",
    "    prm_date, sec_date = [datetime.strptime(date, \"%Y%m%d\") for date in pair.split('_')]\n",
    "    phase_bandname = f'Phase_ifg_{sub_swath}_VV_{prm_date.strftime(\"%d%b%Y\")}_{sec_date.strftime(\"%d%b%Y\")}'\n",
    "    unw_phase_bandname = f'Unw_Phase_ifg_{prm_date.strftime(\"%d%b%Y\")}_{sec_date.strftime(\"%d%b%Y\")}'\n",
    "    coh_bandname = f'coh_{sub_swath}_VV_{prm_date.strftime(\"%d%b%Y\")}_{sec_date.strftime(\"%d%b%Y\")}'\n",
    "    unw_phase_filename = glob.glob(os.path.join(tmp_folder, '**/UnwPhase*.img'))[0]\n",
    "    cmd_geocode = (\n",
    "        f'gpt \"{graph_geocode}\" -Pinterferogram_filename=\"{phase_filename}\" -Punw_interferogram_filename=\"{unw_phase_filename}\" '\n",
    "        f'-Pphase_coh_bandnames=\"{phase_bandname},{unw_phase_bandname},{coh_bandname}\" '\n",
    "        f'-Poutput_filename=\"{os.path.join(output_folder, f'geocoded_interferogram_{pair}.tif')}\"'\n",
    "    )\n",
    "    os.system(cmd_geocode)\n",
    "    shutil.rmtree(tmp_folder)\n",
    "    "
   ]
  },
  {
   "cell_type": "code",
   "execution_count": null,
   "id": "9ddf6866-9df8-4809-a039-b062f5e08d42",
   "metadata": {},
   "outputs": [],
   "source": []
  }
 ],
 "metadata": {
  "kernelspec": {
   "display_name": "Python 3 (ipykernel)",
   "language": "python",
   "name": "python3"
  },
  "language_info": {
   "codemirror_mode": {
    "name": "ipython",
    "version": 3
   },
   "file_extension": ".py",
   "mimetype": "text/x-python",
   "name": "python",
   "nbconvert_exporter": "python",
   "pygments_lexer": "ipython3",
   "version": "3.13.3"
  }
 },
 "nbformat": 4,
 "nbformat_minor": 5
}
