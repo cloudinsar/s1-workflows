{
 "cells": [
  {
   "cell_type": "markdown",
   "id": "5e2a512e-491f-44e7-8ac6-a8d190182b6f",
   "metadata": {},
   "source": [
    "# ESA ClouDInSAR - InSAR Workflow Input Selection"
   ]
  },
  {
   "cell_type": "markdown",
   "id": "c0226e09-6fb2-4ce9-834f-49cb64c2d033",
   "metadata": {},
   "source": [
    "## 1. Setup"
   ]
  },
  {
   "cell_type": "markdown",
   "id": "33756111-7bbb-4cee-95d5-b8b580b2f859",
   "metadata": {},
   "source": [
    "The environment to run the following notebooks is provided as a Docker image and the following instructions require Docker to be already installed on your machine. The following commands need to be executed in a terminal and have been tested on Linux (Ubuntu).\n",
    "\n",
    "1. Pull required Docker image:\n",
    "\n",
    "```sh\n",
    "docker image pull clausmichele/esa-snap:esa-snap-11-snappy-python-3.10_0.3\n",
    "```\n",
    "\n",
    "2. Start JupyterLab using the Docker image:\n",
    "\n",
    "```sh\n",
    "docker run -p 8889:8889 -ti clausmichele/esa-snap:esa-snap-11-snappy-python-3.10_0.3 jupyter lab --ip=0.0.0.0 --port 8889 --no-browser --allow-root --NotebookApp.token='' --NotebookApp.password=''\n",
    "```\n",
    "\n",
    "3. Open the following link in a browser:\n",
    "\n",
    "&nbsp;&nbsp;&nbsp;&nbsp;&nbsp;&nbsp;&nbsp;&nbsp;&nbsp;http://localhost:8889/lab\n",
    "\n",
    "4. Open a Terminal in JupyterLab and clone the repository via:\n",
    "\n",
    "```sh\n",
    "git clone https://github.com/cloudinsar/s1-workflows\n",
    "```\n",
    "\n",
    "5. Access the s1-workflows/notebooks/LPS_DEMO folder in the left panel and then open the `Input_selection.ipynb` notebook."
   ]
  },
  {
   "cell_type": "markdown",
   "id": "399d25d8-5232-4a58-a107-f88ca186a8ca",
   "metadata": {},
   "source": [
    "## 2. Import the s1_burst_lib python module"
   ]
  },
  {
   "cell_type": "code",
   "execution_count": null,
   "id": "407c77cb-ad21-4b94-bdfa-0f0f94513963",
   "metadata": {},
   "outputs": [],
   "source": [
    "import s1_burst_lib"
   ]
  },
  {
   "cell_type": "markdown",
   "id": "e68b062e-f332-4638-9c4c-319e5e95d907",
   "metadata": {},
   "source": [
    "## 3. Input definition"
   ]
  },
  {
   "cell_type": "markdown",
   "id": "b63c97bf-3680-4b4c-9209-ca3d291d8e96",
   "metadata": {},
   "source": [
    "Set the temporal range of interest, polarization and area of interest as WKT"
   ]
  },
  {
   "cell_type": "code",
   "execution_count": 2,
   "id": "7bdc23ba-cbd0-4021-9809-1d2606cdb1ca",
   "metadata": {
    "tags": []
   },
   "outputs": [],
   "source": [
    "start_date = \"2024-01-01\"\n",
    "end_date = \"2025-01-30\"\n",
    "\n",
    "aoi = \"\" # e.g. 'POLYGON ((11.28 46.47, 11.28 46.52, 11.44 46.52, 11.44 46.47, 11.28 46.47))'\n",
    "\n",
    "pol = \"VV\""
   ]
  },
  {
   "cell_type": "markdown",
   "id": "06bf1133-e7bd-45d3-8f33-d3ef58c0d5e4",
   "metadata": {},
   "source": [
    "## 4. Select burst ID and subswath ID"
   ]
  },
  {
   "cell_type": "markdown",
   "id": "5eec519a-e123-429d-bc1b-fa37cceacaf5",
   "metadata": {},
   "source": [
    "Retrieve the Sentinel-1 bursts"
   ]
  },
  {
   "cell_type": "code",
   "execution_count": null,
   "id": "5ea3fafe-19a1-4118-8625-b6fcaaecd98f",
   "metadata": {},
   "outputs": [],
   "source": [
    "s1_bursts = s1_burst_lib.retrieve_bursts(start_date, end_date, pol, aoi)"
   ]
  },
  {
   "cell_type": "markdown",
   "id": "cc7589a9-62ab-40d1-bca8-7a80e255ea0b",
   "metadata": {},
   "source": [
    "Show the Sentinel-1 bursts on a map"
   ]
  },
  {
   "cell_type": "code",
   "execution_count": null,
   "id": "8effbcfb-8cb1-4cfc-87d4-c311b3a81316",
   "metadata": {},
   "outputs": [],
   "source": [
    "m = s1_burst_lib.show_bursts(s1_bursts, aoi)\n",
    "m"
   ]
  },
  {
   "cell_type": "markdown",
   "id": "086fd9b4-8fcb-4314-a069-416c1386c750",
   "metadata": {},
   "source": [
    "Show acquisition calendar"
   ]
  },
  {
   "cell_type": "code",
   "execution_count": null,
   "id": "836c150a-eabe-47f4-8103-3683a4c0a969",
   "metadata": {},
   "outputs": [],
   "source": [
    "s1_bursts_lib.show_acquisition_calendar(s1_bursts)"
   ]
  },
  {
   "cell_type": "markdown",
   "id": "65c6b893-7bd0-4afd-ad6c-5ed4494c194c",
   "metadata": {},
   "source": [
    "Select bursts"
   ]
  },
  {
   "cell_type": "code",
   "execution_count": null,
   "id": "868ce84c-6250-4f24-b582-176cfd1a317a",
   "metadata": {},
   "outputs": [],
   "source": [
    "sub_swath_identifier = \"\" # e.g. \"iw2\"\n",
    "burst_id = \"\" # e.g. \"249434\""
   ]
  },
  {
   "cell_type": "markdown",
   "id": "8cbfe378-5d65-4eab-8e75-aa1a8931c8a7",
   "metadata": {},
   "source": [
    "## 3. Define InSAR pair list"
   ]
  },
  {
   "cell_type": "markdown",
   "id": "207c3664-780d-48c0-9ea6-162d6e568fde",
   "metadata": {},
   "source": [
    "Insert your CDSE S3 credentials"
   ]
  },
  {
   "cell_type": "code",
   "execution_count": null,
   "id": "d4f06c8b-c824-4773-bf75-86bc938731f7",
   "metadata": {},
   "outputs": [],
   "source": [
    "with open(\"../CDSE_SECRET\", \"r\") as file:\n",
    "    lines = file.readlines()\n",
    "CDSE_ACCESS_KEY = lines[0].strip().split(\": \")[1]\n",
    "CDSE_SECRET_KEY = lines[1].strip().split(\": \")[1]"
   ]
  },
  {
   "cell_type": "markdown",
   "id": "1b5c8cf7-b26e-42f5-8265-6992c6dfee40",
   "metadata": {},
   "source": [
    "Download all the metadata of the selected data"
   ]
  },
  {
   "cell_type": "code",
   "execution_count": null,
   "id": "89ef4bd4-6403-4bde-b64e-6668b536477d",
   "metadata": {},
   "outputs": [],
   "source": [
    "s1_fileList = s1_bursts_lib.download_s1metadata(s1_bursts, sub_swath_identifier, burst_id, CDSE_ACCESS_KEY, CDSE_SECRET_KEY)\n",
    "s1_fileList"
   ]
  },
  {
   "cell_type": "markdown",
   "id": "0302de3f-2f65-468f-8696-85530caeea3f",
   "metadata": {},
   "source": [
    "### 3.1 InSAR pair list for SBAS configuration"
   ]
  },
  {
   "cell_type": "code",
   "execution_count": null,
   "id": "1a4784f3-dac9-4109-a489-87839aa593ee",
   "metadata": {},
   "outputs": [],
   "source": [
    "s1_bursts_lib.sbas_pairs(s1_fileList, max_temporal_baseline=4, max_perp_baseline=200)"
   ]
  },
  {
   "cell_type": "markdown",
   "id": "b41bc91d-9bc1-42d9-93da-f33346b70550",
   "metadata": {},
   "source": [
    "### 3.2 InSAR pair list for PS configuration"
   ]
  },
  {
   "cell_type": "code",
   "execution_count": null,
   "id": "a8723ec2-0246-4510-bc19-1e08b444751c",
   "metadata": {},
   "outputs": [],
   "source": [
    "s1_bursts_lib.ps_pairs(s1_fileList)"
   ]
  }
 ],
 "metadata": {
  "kernelspec": {
   "display_name": "Python 3 (ipykernel)",
   "language": "python",
   "name": "python3"
  },
  "language_info": {
   "codemirror_mode": {
    "name": "ipython",
    "version": 3
   },
   "file_extension": ".py",
   "mimetype": "text/x-python",
   "name": "python",
   "nbconvert_exporter": "python",
   "pygments_lexer": "ipython3",
   "version": "3.13.3"
  }
 },
 "nbformat": 4,
 "nbformat_minor": 5
}
