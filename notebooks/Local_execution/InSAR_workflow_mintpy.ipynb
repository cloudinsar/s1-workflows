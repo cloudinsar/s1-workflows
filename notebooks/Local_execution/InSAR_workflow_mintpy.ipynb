{
 "cells": [
  {
   "cell_type": "markdown",
   "id": "9d9cdb68-3447-411d-8e2f-49c65385e8d2",
   "metadata": {},
   "source": [
    "# InSAR workflow"
   ]
  },
  {
   "cell_type": "markdown",
   "id": "16510f23-5a8b-453b-b162-8beaf4c10160",
   "metadata": {},
   "source": [
    "This notebook contain an example on how to execute the InSAR workflow on a local machine with SNAP installed. This workflow can produce geocoded InSAR coherence and flattened + topographic corrected + multilooked + filtered wrapped and unwrapped interferogram"
   ]
  },
  {
   "cell_type": "code",
   "execution_count": 1,
   "id": "aed3f204-a2fe-4821-87cb-da074012a048",
   "metadata": {},
   "outputs": [],
   "source": [
    "import urllib\n",
    "import json\n",
    "from IPython.display import JSON\n",
    "\n",
    "from datetime import datetime\n",
    "\n",
    "import glob\n",
    "import os\n",
    "import subprocess\n",
    "import shutil\n",
    "import subprocess\n",
    "import re"
   ]
  },
  {
   "cell_type": "markdown",
   "id": "88a442b0-9f82-4a56-8078-5653b1fa9bc1",
   "metadata": {},
   "source": [
    "## Input definition"
   ]
  },
  {
   "cell_type": "code",
   "execution_count": 2,
   "id": "b2ea580f-8ba6-40e5-ba8c-be31e59b309f",
   "metadata": {},
   "outputs": [
    {
     "name": "stdout",
     "output_type": "stream",
     "text": [
      "output_folder: /home/mcallegari/PROJECT_DATA/FROSTINI/test_MintPy/WCapeSenAT29_test/\n"
     ]
    }
   ],
   "source": [
    "burstId = 62083\n",
    "sub_swath = 'IW3'\n",
    "InSAR_pairs = [\n",
    "    '20190502_20190526',\n",
    "    '20190420_20190502',\n",
    "    '20190502_20190607',\n",
    "    '20190327_20190502',\n",
    "    '20190408_20190502',\n",
    "    '20190408_20190420',\n",
    "    '20190315_20190408',\n",
    "    '20190514_20190619',\n",
    "    '20190514_20190526',\n",
    "    '20190420_20190526',\n",
    "    '20190303_20190408',\n",
    "    '20190408_20190514',\n",
    "    '20190327_20190420',\n",
    "    '20190502_20190514',\n",
    "    '20190303_20190327',\n",
    "    '20190327_20190408',\n",
    "    '20190420_20190514',\n",
    "    '20190315_20190420',\n",
    "    '20190303_20190315',\n",
    "    '20190514_20190607',\n",
    "    '20190315_20190327'\n",
    "]\n",
    "\n",
    "# Coherence window size\n",
    "cohWinRg, cohWinAz = (11, 3)\n",
    "\n",
    "# Multillok parameters\n",
    "nRgLooks, nAzLooks = (4, 1)\n",
    "\n",
    "# Area of interest\n",
    "aoi = 'POLYGON((18.02 -33.07, 18.02 -32.96, 18.3 -32.96, 18.3 -33.07, 18.02 -33.07))'\n",
    "\n",
    "# Output folder\n",
    "output_folder = '/home/mcallegari/PROJECT_DATA/FROSTINI/test_MintPy/WCapeSenAT29_test/'\n",
    "if not os.path.exists(output_folder):\n",
    "    output_folder = os.path.abspath(\"output\")\n",
    "print(\"output_folder: \" + str(output_folder))"
   ]
  },
  {
   "cell_type": "code",
   "execution_count": 3,
   "id": "d4a9c6f8-2b99-4bfb-90df-6f33a1fc0aee",
   "metadata": {},
   "outputs": [],
   "source": [
    "graph_interferogram = './graphs/interferogram_sarGeometry.xml'\n",
    "graph_snaphu_export = './graphs/snaphu_export.xml'\n",
    "graph_geocode = './graphs/geocode_snaphuInterferogram_WGS84.xml'\n",
    "graph_subset = './graphs/subset.xml'"
   ]
  },
  {
   "cell_type": "code",
   "execution_count": 4,
   "id": "b7b1cc6c-8e07-43cc-8be0-c0d5763cd5cf",
   "metadata": {},
   "outputs": [],
   "source": [
    "if os.path.exists(\"CDSE_SECRET\"):\n",
    "    with open(\"CDSE_SECRET\", \"r\") as file:\n",
    "        lines = file.readlines()\n",
    "    CDSE_ACCESS_KEY = lines[0].strip().split(\": \")[1]\n",
    "    CDSE_SECRET_KEY = lines[1].strip().split(\": \")[1]\n",
    "else:\n",
    "    # get from environment vatiables:\n",
    "    CDSE_ACCESS_KEY = os.environ.get(\"AWS_ACCESS_KEY_ID\", None)\n",
    "    CDSE_SECRET_KEY = os.environ.get(\"AWS_SECRET_ACCESS_KEY\", None)"
   ]
  },
  {
   "cell_type": "markdown",
   "id": "2bd34375-5140-4f10-aef8-5d3766c66050",
   "metadata": {},
   "source": [
    "## Burst download"
   ]
  },
  {
   "cell_type": "code",
   "execution_count": 5,
   "id": "2fa4661c-baa3-4cb2-bdd8-7876824e0fa7",
   "metadata": {},
   "outputs": [
    {
     "name": "stdout",
     "output_type": "stream",
     "text": [
      "Input file size is 24480, 1506\n",
      "0...10...20...30...40...50...60...70...80...90...100 - done.\n",
      "Input file size is 24480, 1506\n",
      "0...10...20...30...40...50...60...70...80...90...100 - done.\n",
      "Input file size is 24480, 1506\n",
      "0...10...20...30...40...50...60...70...80...90...100 - done.\n",
      "Input file size is 24480, 1506\n",
      "0...10...20...30...40...50...60...70...80...90...100 - done.\n",
      "Input file size is 24480, 1506\n",
      "0...10...20...30...40...50...60...70...80...90...100 - done.\n",
      "Input file size is 24480, 1506\n",
      "0...10...20...30...40...50...60...70...80...90...100 - done.\n",
      "Input file size is 24480, 1506\n",
      "0...10...20...30...40...50...60...70...80...90...100 - done.\n",
      "Input file size is 24480, 1506\n",
      "0...10...20...30...40...50...60...70...80...90...100 - done.\n",
      "Input file size is 24480, 1506\n",
      "0...10...20...30...40...50...60...70...80...90...100 - done.\n",
      "Input file size is 24480, 1506\n",
      "0...10...20...30...40...50...60...70...80...90...100 - done.\n"
     ]
    }
   ],
   "source": [
    "date_list = [datetime.strptime(date, \"%Y%m%d\") for date in list(set('_'.join(InSAR_pairs).split('_')))]\n",
    "\n",
    "for date in date_list:\n",
    "\n",
    "    https_request = f\"https://catalogue.dataspace.copernicus.eu/odata/v1/Bursts?$filter=\" + urllib.parse.quote(\n",
    "    f\"ContentDate/Start ge {date.strftime('%Y-%m-%d')}T00:00:00.000Z and ContentDate/Start le {date.strftime('%Y-%m-%d')}T23:59:59.000Z and \"\n",
    "    f\"PolarisationChannels eq 'VV' and \"\n",
    "    f\"BurstId eq {burstId} and \"\n",
    "    f\"SwathIdentifier eq '{sub_swath}'\"\n",
    "    )\n",
    "\n",
    "    with urllib.request.urlopen(https_request) as response:\n",
    "        content = response.read().decode()\n",
    "    bursts = json.loads(content)\n",
    "    ParentProductName = bursts['value'][0]['ParentProductName']\n",
    "\n",
    "    burst_extract_cmd = (\n",
    "        f\"docker run -v {output_folder}:/home/ubuntu \"\n",
    "        f\"-e AWS_ACCESS_KEY_ID={CDSE_ACCESS_KEY} -e AWS_SECRET_ACCESS_KEY={CDSE_SECRET_KEY} \"\n",
    "        f\"cdse_utilities sentinel1_burst_extractor.sh -o /home/ubuntu \"\n",
    "        f\"-n {ParentProductName} -p vv -s {sub_swath.lower()} -r {burstId}\"\n",
    "    )\n",
    "\n",
    "    #print(burst_extract_cmd)\n",
    "    os.system(burst_extract_cmd)\n",
    "    "
   ]
  },
  {
   "cell_type": "markdown",
   "id": "4e3e06a0-114d-4d75-bad9-ebaeddee7991",
   "metadata": {},
   "source": [
    "## Sentinel-1 InSAR processing"
   ]
  },
  {
   "cell_type": "code",
   "execution_count": 5,
   "id": "39105167-ff54-4f86-9073-bbd2e3677188",
   "metadata": {
    "scrolled": true
   },
   "outputs": [
    {
     "name": "stdout",
     "output_type": "stream",
     "text": [
      "gpt \"./graphs/interferogram_sarGeometry.xml\" -Pprm_filename=\"/home/mcallegari/PROJECT_DATA/FROSTINI/test_MintPy/WCapeSenAT29_test/S1A_SLC_20190502T173426_062083_IW3_VV_199695.SAFE/manifest.safe\" -Psec_filename=\"/home/mcallegari/PROJECT_DATA/FROSTINI/test_MintPy/WCapeSenAT29_test/S1A_SLC_20190526T173427_062083_IW3_VV_202568.SAFE/manifest.safe\" -PcohWinRg=11 -PcohWinAz=3 -PnRgLooks=4 -PnAzLooks=1 -Poutput_filename=\"/home/mcallegari/PROJECT_DATA/FROSTINI/test_MintPy/WCapeSenAT29_test/tmp/phase_coh_20190502_20190526.dim\" -c 8192M\n"
     ]
    },
    {
     "name": "stderr",
     "output_type": "stream",
     "text": [
      "INFO: org.esa.snap.core.gpf.operators.tooladapter.ToolAdapterIO: Initializing external tool adapters\n",
      "INFO: org.esa.snap.core.util.EngineVersionCheckActivator: Please check regularly for new updates for the best SNAP experience.\n"
     ]
    },
    {
     "name": "stdout",
     "output_type": "stream",
     "text": [
      "Executing processing graph\n"
     ]
    },
    {
     "name": "stderr",
     "output_type": "stream",
     "text": [
      "INFO: eu.esa.sar.commons.io.ImageIOFile: Using FileCacheImageInputStream\n"
     ]
    },
    {
     "name": "stdout",
     "output_type": "stream",
     "text": [
      "....11%....22%....33%....45%....56%....67%....78%....90% done.\n"
     ]
    },
    {
     "name": "stderr",
     "output_type": "stream",
     "text": [
      "-- org.jblas INFO Deleting /tmp/jblas4574681649990332194/libjblas_arch_flavor.so\n",
      "-- org.jblas INFO Deleting /tmp/jblas4574681649990332194/libjblas.so\n",
      "-- org.jblas INFO Deleting /tmp/jblas4574681649990332194/libgfortran-5.so\n",
      "-- org.jblas INFO Deleting /tmp/jblas4574681649990332194/libquadmath-0.so\n",
      "-- org.jblas INFO Deleting /tmp/jblas4574681649990332194\n",
      "INFO: org.esa.snap.core.gpf.operators.tooladapter.ToolAdapterIO: Initializing external tool adapters\n",
      "INFO: org.esa.snap.core.util.EngineVersionCheckActivator: Please check regularly for new updates for the best SNAP experience.\n"
     ]
    },
    {
     "name": "stdout",
     "output_type": "stream",
     "text": [
      "Executing processing graph\n",
      "...11%...22%...33%...45%...56%...67%...78%...90% done.\n",
      "snaphu -f snaphu.conf Phase_ifg_IW3_VV_02May2019_26May2019.snaphu.img 6120\n",
      "\n",
      "snaphu v2.0.4\n",
      "27 parameters input from file snaphu.conf (84 lines total)\n"
     ]
    },
    {
     "name": "stderr",
     "output_type": "stream",
     "text": [
      "-- org.jblas INFO Deleting /tmp/jblas17736456551778119262/libjblas_arch_flavor.so\n",
      "-- org.jblas INFO Deleting /tmp/jblas17736456551778119262/libjblas.so\n",
      "-- org.jblas INFO Deleting /tmp/jblas17736456551778119262/libgfortran-5.so\n",
      "-- org.jblas INFO Deleting /tmp/jblas17736456551778119262/libquadmath-0.so\n",
      "-- org.jblas INFO Deleting /tmp/jblas17736456551778119262\n",
      "WARNING: Tile overlap is small (may give bad results)\n"
     ]
    },
    {
     "name": "stdout",
     "output_type": "stream",
     "text": [
      "Logging run-time parameters to file snaphu.log\n",
      "Creating temporary directory snaphu_tiles_2530450\n",
      "Unwrapping tile at row 0, column 0 (pid 2530455)\n",
      "Unwrapping tile at row 0, column 1 (pid 2530459)\n",
      "Unwrapping tile at row 0, column 2 (pid 2530462)\n",
      "Unwrapping tile at row 0, column 3 (pid 2530466)\n",
      "Unwrapping tile at row 0, column 4 (pid 2530475)\n",
      "Unwrapping tile at row 0, column 5 (pid 2530477)\n",
      "Unwrapping tile at row 0, column 6 (pid 2530479)\n",
      "Unwrapping tile at row 0, column 7 (pid 2530491)\n",
      "Unwrapping tile at row 0, column 8 (pid 2530493)\n",
      "Unwrapping tile at row 0, column 9 (pid 2530503)\n",
      "Unwrapping tile at row 1, column 0 (pid 2530508)\n",
      "Unwrapping tile at row 1, column 1 (pid 2530510)\n",
      "Unwrapping tile at row 1, column 2 (pid 2530512)\n",
      "Unwrapping tile at row 1, column 3 (pid 2530524)\n",
      "Unwrapping tile at row 1, column 4 (pid 2530525)\n",
      "Unwrapping tile at row 1, column 5 (pid 2530529)\n",
      "Unwrapping tile at row 1, column 6 (pid 2530539)\n",
      "Unwrapping tile at row 1, column 7 (pid 2530540)\n",
      "Unwrapping tile at row 1, column 8 (pid 2530542)\n",
      "Unwrapping tile at row 1, column 9 (pid 2530544)\n",
      "Unwrapping tile at row 2, column 0 (pid 2530552)\n",
      "Unwrapping tile at row 2, column 1 (pid 2530555)\n",
      "Unwrapping tile at row 2, column 2 (pid 2530556)\n",
      "Unwrapping tile at row 2, column 3 (pid 2530558)\n",
      "Unwrapping tile at row 2, column 4 (pid 2530559)\n",
      "Unwrapping tile at row 2, column 5 (pid 2530567)\n",
      "Unwrapping tile at row 2, column 6 (pid 2530569)\n",
      "Unwrapping tile at row 2, column 7 (pid 2530570)\n",
      "Unwrapping tile at row 2, column 8 (pid 2530573)\n",
      "Unwrapping tile at row 2, column 9 (pid 2530574)\n",
      "Unwrapping tile at row 3, column 0 (pid 2530575)\n",
      "Unwrapping tile at row 3, column 1 (pid 2530583)\n",
      "Unwrapping tile at row 3, column 2 (pid 2530584)\n",
      "Unwrapping tile at row 3, column 3 (pid 2530594)\n",
      "Unwrapping tile at row 3, column 4 (pid 2530595)\n",
      "Unwrapping tile at row 3, column 5 (pid 2530596)\n",
      "Unwrapping tile at row 3, column 6 (pid 2530606)\n",
      "Unwrapping tile at row 3, column 7 (pid 2530607)\n",
      "Unwrapping tile at row 3, column 8 (pid 2530610)\n",
      "Unwrapping tile at row 3, column 9 (pid 2530611)\n",
      "Unwrapping tile at row 4, column 0 (pid 2530613)\n",
      "Unwrapping tile at row 4, column 1 (pid 2530621)\n",
      "Unwrapping tile at row 4, column 2 (pid 2530622)\n",
      "Unwrapping tile at row 4, column 3 (pid 2530624)\n",
      "Unwrapping tile at row 4, column 4 (pid 2530625)\n",
      "Unwrapping tile at row 4, column 5 (pid 2530630)\n",
      "Unwrapping tile at row 4, column 6 (pid 2530639)\n",
      "Unwrapping tile at row 4, column 7 (pid 2530640)\n",
      "Unwrapping tile at row 4, column 8 (pid 2530643)\n",
      "Unwrapping tile at row 4, column 9 (pid 2530644)\n",
      "Unwrapping tile at row 5, column 0 (pid 2530645)\n",
      "Unwrapping tile at row 5, column 1 (pid 2530646)\n",
      "Unwrapping tile at row 5, column 2 (pid 2530654)\n",
      "Unwrapping tile at row 5, column 3 (pid 2530656)\n",
      "Unwrapping tile at row 5, column 4 (pid 2530657)\n",
      "Unwrapping tile at row 5, column 5 (pid 2530658)\n",
      "Unwrapping tile at row 5, column 6 (pid 2530660)\n",
      "Unwrapping tile at row 5, column 7 (pid 2530669)\n",
      "Unwrapping tile at row 5, column 8 (pid 2530672)\n",
      "Unwrapping tile at row 5, column 9 (pid 2530673)\n",
      "Unwrapping tile at row 6, column 0 (pid 2530674)\n",
      "Unwrapping tile at row 6, column 1 (pid 2530675)\n",
      "Unwrapping tile at row 6, column 2 (pid 2530683)\n",
      "Unwrapping tile at row 6, column 3 (pid 2530693)\n",
      "Unwrapping tile at row 6, column 4 (pid 2530694)\n",
      "Unwrapping tile at row 6, column 5 (pid 2530695)\n",
      "Unwrapping tile at row 6, column 6 (pid 2530697)\n",
      "Unwrapping tile at row 6, column 7 (pid 2530706)\n",
      "Unwrapping tile at row 6, column 8 (pid 2530709)\n",
      "Unwrapping tile at row 6, column 9 (pid 2530710)\n",
      "Unwrapping tile at row 7, column 0 (pid 2530712)\n",
      "Unwrapping tile at row 7, column 1 (pid 2530713)\n",
      "Unwrapping tile at row 7, column 2 (pid 2530715)\n",
      "Unwrapping tile at row 7, column 3 (pid 2530723)\n",
      "Unwrapping tile at row 7, column 4 (pid 2530724)\n",
      "Unwrapping tile at row 7, column 5 (pid 2530726)\n",
      "Unwrapping tile at row 7, column 6 (pid 2530728)\n",
      "Unwrapping tile at row 7, column 7 (pid 2530738)\n",
      "Unwrapping tile at row 7, column 8 (pid 2530740)\n",
      "Unwrapping tile at row 7, column 9 (pid 2530741)\n",
      "Unwrapping tile at row 8, column 0 (pid 2530742)\n",
      "Unwrapping tile at row 8, column 1 (pid 2530743)\n",
      "Unwrapping tile at row 8, column 2 (pid 2530745)\n",
      "Unwrapping tile at row 8, column 3 (pid 2530754)\n",
      "Unwrapping tile at row 8, column 4 (pid 2530755)\n",
      "Unwrapping tile at row 8, column 5 (pid 2530761)\n",
      "Unwrapping tile at row 8, column 6 (pid 2530762)\n",
      "Unwrapping tile at row 8, column 7 (pid 2530764)\n",
      "Unwrapping tile at row 8, column 8 (pid 2530774)\n",
      "Unwrapping tile at row 8, column 9 (pid 2530775)\n",
      "Unwrapping tile at row 9, column 0 (pid 2530776)\n",
      "Unwrapping tile at row 9, column 1 (pid 2530777)\n",
      "Unwrapping tile at row 9, column 2 (pid 2530783)\n",
      "Unwrapping tile at row 9, column 3 (pid 2530796)\n",
      "Unwrapping tile at row 9, column 4 (pid 2530797)\n",
      "Unwrapping tile at row 9, column 5 (pid 2530821)\n",
      "Unwrapping tile at row 9, column 6 (pid 2530830)\n",
      "Unwrapping tile at row 9, column 7 (pid 2530832)\n",
      "Unwrapping tile at row 9, column 8 (pid 2530833)\n",
      "Unwrapping tile at row 9, column 9 (pid 2530842)\n",
      "Assembling tiles\n",
      "Running optimizer for secondary network\n",
      "Number of nodes in secondary network: 20131\n",
      "Flow increment: 1  (Total improvements: 0)\n",
      "Treesize: 20131      Pivots: 39          Improvements: 8          \n",
      "Flow increment: 2  (Total improvements: 8)\n",
      "Treesize: 20131      Pivots: 0           Improvements: 0          \n",
      "Flow increment: 3  (Total improvements: 8)\n",
      "Treesize: 20131      Pivots: 0           Improvements: 0          \n",
      "Flow increment: 4  (Total improvements: 8)\n",
      "Treesize: 20131      Pivots: 0           Improvements: 0          \n",
      "Integrating secondary flows\n",
      "Output written to file UnwPhase_ifg_IW3_VV_02May2019_26May2019.snaphu.img\n",
      "Removing temporary directory snaphu_tiles_2530450\n",
      "SUGGESTION: Try increasing tile overlap and/or size if solution has edge artifacts\n",
      "Program snaphu done\n",
      "Elapsed processor time:   0:10:00.34\n",
      "Elapsed wall clock time:  0:01:59\n",
      "gpt \"./graphs/geocode_snaphuInterferogram_WGS84.xml\" -Pinterferogram_filename=\"/home/mcallegari/PROJECT_DATA/FROSTINI/test_MintPy/WCapeSenAT29_test/tmp/phase_coh_20190502_20190526.dim\" -Punw_interferogram_filename=\"/home/mcallegari/PROJECT_DATA/FROSTINI/test_MintPy/WCapeSenAT29_test/tmp/phase_coh_20190502_20190526/UnwPhase_ifg_IW3_VV_02May2019_26May2019.snaphu.hdr\" -Pphase_coh_bandnames=\"Phase_ifg_IW3_VV_02May2019_26May2019,Unw_Phase_ifg_02May2019_26May2019,coh_IW3_VV_02May2019_26May2019\" -PsaveDEM=\"true\" -Poutput_filename=\"/home/mcallegari/PROJECT_DATA/FROSTINI/test_MintPy/WCapeSenAT29_test/geocoded_interferogram_20190502_20190526.tif\"\n"
     ]
    },
    {
     "name": "stderr",
     "output_type": "stream",
     "text": [
      "38 incremental costs clipped to avoid overflow (0.001%)\n",
      "38 incremental costs clipped to avoid overflow (0.001%)\n",
      "38 incremental costs clipped to avoid overflow (0.001%)\n",
      "38 incremental costs clipped to avoid overflow (0.001%)\n",
      "INFO: org.esa.snap.core.gpf.operators.tooladapter.ToolAdapterIO: Initializing external tool adapters\n",
      "INFO: org.esa.snap.core.util.EngineVersionCheckActivator: Please check regularly for new updates for the best SNAP experience.\n"
     ]
    },
    {
     "name": "stdout",
     "output_type": "stream",
     "text": [
      "Executing processing graph\n"
     ]
    },
    {
     "name": "stderr",
     "output_type": "stream",
     "text": [
      "1963 [main] INFO hdf.hdflib.HDFLibrary - HDF4 library: \n",
      "1963 [main] INFO hdf.hdflib.HDFLibrary -  successfully loaded.\n",
      "1967 [main] INFO hdf.hdf5lib.H5 - HDF5 library: \n",
      "1967 [main] INFO hdf.hdf5lib.H5 -  successfully loaded.\n"
     ]
    },
    {
     "name": "stdout",
     "output_type": "stream",
     "text": [
      "....12%....24%....35%....47%....58%....70%....81%.... done.\n",
      "gpt \"./graphs/interferogram_sarGeometry.xml\" -Pprm_filename=\"/home/mcallegari/PROJECT_DATA/FROSTINI/test_MintPy/WCapeSenAT29_test/S1A_SLC_20190420T173426_062083_IW3_VV_198063.SAFE/manifest.safe\" -Psec_filename=\"/home/mcallegari/PROJECT_DATA/FROSTINI/test_MintPy/WCapeSenAT29_test/S1A_SLC_20190502T173426_062083_IW3_VV_199695.SAFE/manifest.safe\" -PcohWinRg=11 -PcohWinAz=3 -PnRgLooks=4 -PnAzLooks=1 -Poutput_filename=\"/home/mcallegari/PROJECT_DATA/FROSTINI/test_MintPy/WCapeSenAT29_test/tmp/phase_coh_20190420_20190502.dim\" -c 8192M\n"
     ]
    },
    {
     "name": "stderr",
     "output_type": "stream",
     "text": [
      "INFO: org.esa.snap.core.gpf.operators.tooladapter.ToolAdapterIO: Initializing external tool adapters\n",
      "INFO: org.esa.snap.core.util.EngineVersionCheckActivator: Please check regularly for new updates for the best SNAP experience.\n"
     ]
    },
    {
     "name": "stdout",
     "output_type": "stream",
     "text": [
      "Executing processing graph\n"
     ]
    },
    {
     "name": "stderr",
     "output_type": "stream",
     "text": [
      "INFO: eu.esa.sar.commons.io.ImageIOFile: Using FileCacheImageInputStream\n"
     ]
    },
    {
     "name": "stdout",
     "output_type": "stream",
     "text": [
      "....11%....22%....33%....45%....56%....67%....78%....90% done.\n"
     ]
    },
    {
     "name": "stderr",
     "output_type": "stream",
     "text": [
      "-- org.jblas INFO Deleting /tmp/jblas18270964517802771450/libjblas_arch_flavor.so\n",
      "-- org.jblas INFO Deleting /tmp/jblas18270964517802771450/libjblas.so\n",
      "-- org.jblas INFO Deleting /tmp/jblas18270964517802771450/libgfortran-5.so\n",
      "-- org.jblas INFO Deleting /tmp/jblas18270964517802771450/libquadmath-0.so\n",
      "-- org.jblas INFO Deleting /tmp/jblas18270964517802771450\n",
      "INFO: org.esa.snap.core.gpf.operators.tooladapter.ToolAdapterIO: Initializing external tool adapters\n",
      "INFO: org.esa.snap.core.util.EngineVersionCheckActivator: Please check regularly for new updates for the best SNAP experience.\n"
     ]
    },
    {
     "name": "stdout",
     "output_type": "stream",
     "text": [
      "Executing processing graph\n",
      "...11%...22%...33%...45%...56%...67%...78%...90% done.\n",
      "snaphu -f snaphu.conf Phase_ifg_IW3_VV_20Apr2019_02May2019.snaphu.img 6120\n",
      "\n",
      "snaphu v2.0.4\n",
      "27 parameters input from file snaphu.conf (84 lines total)\n"
     ]
    },
    {
     "name": "stderr",
     "output_type": "stream",
     "text": [
      "-- org.jblas INFO Deleting /tmp/jblas7599064440314269988/libjblas_arch_flavor.so\n",
      "-- org.jblas INFO Deleting /tmp/jblas7599064440314269988/libjblas.so\n",
      "-- org.jblas INFO Deleting /tmp/jblas7599064440314269988/libgfortran-5.so\n",
      "-- org.jblas INFO Deleting /tmp/jblas7599064440314269988/libquadmath-0.so\n",
      "-- org.jblas INFO Deleting /tmp/jblas7599064440314269988\n",
      "WARNING: Tile overlap is small (may give bad results)\n"
     ]
    },
    {
     "name": "stdout",
     "output_type": "stream",
     "text": [
      "Logging run-time parameters to file snaphu.log\n",
      "Creating temporary directory snaphu_tiles_2531721\n",
      "Unwrapping tile at row 0, column 0 (pid 2531732)\n",
      "Unwrapping tile at row 0, column 1 (pid 2531737)\n",
      "Unwrapping tile at row 0, column 2 (pid 2531739)\n",
      "Unwrapping tile at row 0, column 3 (pid 2531741)\n",
      "Unwrapping tile at row 0, column 4 (pid 2531746)\n",
      "Unwrapping tile at row 0, column 5 (pid 2531748)\n",
      "Unwrapping tile at row 0, column 6 (pid 2531758)\n",
      "Unwrapping tile at row 0, column 7 (pid 2531763)\n",
      "Unwrapping tile at row 0, column 8 (pid 2531765)\n",
      "Unwrapping tile at row 0, column 9 (pid 2531767)\n",
      "Unwrapping tile at row 1, column 0 (pid 2531771)\n",
      "Unwrapping tile at row 1, column 1 (pid 2531780)\n",
      "Unwrapping tile at row 1, column 2 (pid 2531789)\n",
      "Unwrapping tile at row 1, column 3 (pid 2531791)\n",
      "Unwrapping tile at row 1, column 4 (pid 2531793)\n",
      "Unwrapping tile at row 1, column 5 (pid 2531794)\n",
      "Unwrapping tile at row 1, column 6 (pid 2531803)\n",
      "Unwrapping tile at row 1, column 7 (pid 2531805)\n",
      "Unwrapping tile at row 1, column 8 (pid 2531806)\n",
      "Unwrapping tile at row 1, column 9 (pid 2531807)\n",
      "Unwrapping tile at row 2, column 0 (pid 2531808)\n",
      "Unwrapping tile at row 2, column 1 (pid 2531817)\n",
      "Unwrapping tile at row 2, column 2 (pid 2531819)\n",
      "Unwrapping tile at row 2, column 3 (pid 2531820)\n",
      "Unwrapping tile at row 2, column 4 (pid 2531824)\n",
      "Unwrapping tile at row 2, column 5 (pid 2531825)\n",
      "Unwrapping tile at row 2, column 6 (pid 2531827)\n",
      "Unwrapping tile at row 2, column 7 (pid 2531838)\n",
      "Unwrapping tile at row 2, column 8 (pid 2531840)\n",
      "Unwrapping tile at row 2, column 9 (pid 2531841)\n",
      "Unwrapping tile at row 3, column 0 (pid 2531842)\n",
      "Unwrapping tile at row 3, column 1 (pid 2531844)\n",
      "Unwrapping tile at row 3, column 2 (pid 2531852)\n",
      "Unwrapping tile at row 3, column 3 (pid 2531853)\n",
      "Unwrapping tile at row 3, column 4 (pid 2531855)\n",
      "Unwrapping tile at row 3, column 5 (pid 2531856)\n",
      "Unwrapping tile at row 3, column 6 (pid 2531858)\n",
      "Unwrapping tile at row 3, column 7 (pid 2531867)\n",
      "Unwrapping tile at row 3, column 8 (pid 2531868)\n",
      "Unwrapping tile at row 3, column 9 (pid 2531869)\n",
      "Unwrapping tile at row 4, column 0 (pid 2531871)\n",
      "Unwrapping tile at row 4, column 1 (pid 2531873)\n",
      "Unwrapping tile at row 4, column 2 (pid 2531890)\n",
      "Unwrapping tile at row 4, column 3 (pid 2531891)\n",
      "Unwrapping tile at row 4, column 4 (pid 2531893)\n",
      "Unwrapping tile at row 4, column 5 (pid 2531894)\n",
      "Unwrapping tile at row 4, column 6 (pid 2531896)\n",
      "Unwrapping tile at row 4, column 7 (pid 2531898)\n",
      "Unwrapping tile at row 4, column 8 (pid 2531906)\n",
      "Unwrapping tile at row 4, column 9 (pid 2531907)\n",
      "Unwrapping tile at row 5, column 0 (pid 2531908)\n",
      "Unwrapping tile at row 5, column 1 (pid 2531910)\n",
      "Unwrapping tile at row 5, column 2 (pid 2531911)\n",
      "Unwrapping tile at row 5, column 3 (pid 2531919)\n",
      "Unwrapping tile at row 5, column 4 (pid 2531921)\n",
      "Unwrapping tile at row 5, column 5 (pid 2531923)\n",
      "Unwrapping tile at row 5, column 6 (pid 2531925)\n",
      "Unwrapping tile at row 5, column 7 (pid 2531927)\n",
      "Unwrapping tile at row 5, column 8 (pid 2531937)\n",
      "Unwrapping tile at row 5, column 9 (pid 2531938)\n",
      "Unwrapping tile at row 6, column 0 (pid 2531939)\n",
      "Unwrapping tile at row 6, column 1 (pid 2531941)\n",
      "Unwrapping tile at row 6, column 2 (pid 2531942)\n",
      "Unwrapping tile at row 6, column 3 (pid 2531950)\n",
      "Unwrapping tile at row 6, column 4 (pid 2531958)\n",
      "Unwrapping tile at row 6, column 5 (pid 2531959)\n",
      "Unwrapping tile at row 6, column 6 (pid 2531961)\n",
      "Unwrapping tile at row 6, column 7 (pid 2531963)\n",
      "Unwrapping tile at row 6, column 8 (pid 2531964)\n",
      "Unwrapping tile at row 6, column 9 (pid 2531972)\n",
      "Unwrapping tile at row 7, column 0 (pid 2531973)\n",
      "Unwrapping tile at row 7, column 1 (pid 2531975)\n",
      "Unwrapping tile at row 7, column 2 (pid 2531980)\n",
      "Unwrapping tile at row 7, column 3 (pid 2531985)\n",
      "Unwrapping tile at row 7, column 4 (pid 2532010)\n",
      "Unwrapping tile at row 7, column 5 (pid 2532011)\n",
      "Unwrapping tile at row 7, column 6 (pid 2532014)\n",
      "Unwrapping tile at row 7, column 7 (pid 2532016)\n",
      "Unwrapping tile at row 7, column 8 (pid 2532017)\n",
      "Unwrapping tile at row 7, column 9 (pid 2532025)\n",
      "Unwrapping tile at row 8, column 0 (pid 2532026)\n",
      "Unwrapping tile at row 8, column 1 (pid 2532028)\n",
      "Unwrapping tile at row 8, column 2 (pid 2532029)\n",
      "Unwrapping tile at row 8, column 3 (pid 2532030)\n",
      "Unwrapping tile at row 8, column 4 (pid 2532041)\n",
      "Unwrapping tile at row 8, column 5 (pid 2532042)\n",
      "Unwrapping tile at row 8, column 6 (pid 2532044)\n",
      "Unwrapping tile at row 8, column 7 (pid 2532049)\n",
      "Unwrapping tile at row 8, column 8 (pid 2532050)\n",
      "Unwrapping tile at row 8, column 9 (pid 2532052)\n",
      "Unwrapping tile at row 9, column 0 (pid 2532060)\n",
      "Unwrapping tile at row 9, column 1 (pid 2532062)\n",
      "Unwrapping tile at row 9, column 2 (pid 2532063)\n",
      "Unwrapping tile at row 9, column 3 (pid 2532064)\n",
      "Unwrapping tile at row 9, column 4 (pid 2532066)\n",
      "Unwrapping tile at row 9, column 5 (pid 2532074)\n",
      "Unwrapping tile at row 9, column 6 (pid 2532076)\n",
      "Unwrapping tile at row 9, column 7 (pid 2532078)\n",
      "Unwrapping tile at row 9, column 8 (pid 2532079)\n",
      "Unwrapping tile at row 9, column 9 (pid 2532080)\n",
      "Assembling tiles\n",
      "Running optimizer for secondary network\n",
      "Number of nodes in secondary network: 14005\n",
      "Flow increment: 1  (Total improvements: 0)\n",
      "Treesize: 14005      Pivots: 25          Improvements: 5          \n",
      "Flow increment: 2  (Total improvements: 5)\n",
      "Treesize: 14005      Pivots: 0           Improvements: 0          \n",
      "Flow increment: 3  (Total improvements: 5)\n",
      "Treesize: 14005      Pivots: 0           Improvements: 0          \n",
      "Flow increment: 4  (Total improvements: 5)\n",
      "Treesize: 14005      Pivots: 0           Improvements: 0          \n",
      "Integrating secondary flows\n",
      "Output written to file UnwPhase_ifg_IW3_VV_20Apr2019_02May2019.snaphu.img\n",
      "Removing temporary directory snaphu_tiles_2531721\n",
      "SUGGESTION: Try increasing tile overlap and/or size if solution has edge artifacts\n",
      "Program snaphu done\n",
      "Elapsed processor time:   0:06:20.78\n",
      "Elapsed wall clock time:  0:01:47\n",
      "gpt \"./graphs/geocode_snaphuInterferogram_WGS84.xml\" -Pinterferogram_filename=\"/home/mcallegari/PROJECT_DATA/FROSTINI/test_MintPy/WCapeSenAT29_test/tmp/phase_coh_20190420_20190502.dim\" -Punw_interferogram_filename=\"/home/mcallegari/PROJECT_DATA/FROSTINI/test_MintPy/WCapeSenAT29_test/tmp/phase_coh_20190420_20190502/UnwPhase_ifg_IW3_VV_20Apr2019_02May2019.snaphu.hdr\" -Pphase_coh_bandnames=\"Phase_ifg_IW3_VV_20Apr2019_02May2019,Unw_Phase_ifg_20Apr2019_02May2019,coh_IW3_VV_20Apr2019_02May2019\" -PsaveDEM=\"false\" -Poutput_filename=\"/home/mcallegari/PROJECT_DATA/FROSTINI/test_MintPy/WCapeSenAT29_test/geocoded_interferogram_20190420_20190502.tif\"\n"
     ]
    },
    {
     "name": "stderr",
     "output_type": "stream",
     "text": [
      "29 incremental costs clipped to avoid overflow (0.001%)\n",
      "29 incremental costs clipped to avoid overflow (0.001%)\n",
      "29 incremental costs clipped to avoid overflow (0.001%)\n",
      "30 incremental costs clipped to avoid overflow (0.001%)\n",
      "INFO: org.esa.snap.core.gpf.operators.tooladapter.ToolAdapterIO: Initializing external tool adapters\n",
      "INFO: org.esa.snap.core.util.EngineVersionCheckActivator: Please check regularly for new updates for the best SNAP experience.\n"
     ]
    },
    {
     "name": "stdout",
     "output_type": "stream",
     "text": [
      "Executing processing graph\n"
     ]
    },
    {
     "name": "stderr",
     "output_type": "stream",
     "text": [
      "1884 [main] INFO hdf.hdflib.HDFLibrary - HDF4 library: \n",
      "1884 [main] INFO hdf.hdflib.HDFLibrary -  successfully loaded.\n",
      "1888 [main] INFO hdf.hdf5lib.H5 - HDF5 library: \n",
      "1888 [main] INFO hdf.hdf5lib.H5 -  successfully loaded.\n"
     ]
    },
    {
     "name": "stdout",
     "output_type": "stream",
     "text": [
      "....12%....24%....35%....47%....58%....70%....81%.... done.\n",
      "gpt \"./graphs/interferogram_sarGeometry.xml\" -Pprm_filename=\"/home/mcallegari/PROJECT_DATA/FROSTINI/test_MintPy/WCapeSenAT29_test/S1A_SLC_20190502T173426_062083_IW3_VV_199695.SAFE/manifest.safe\" -Psec_filename=\"/home/mcallegari/PROJECT_DATA/FROSTINI/test_MintPy/WCapeSenAT29_test/S1A_SLC_20190607T173428_062083_IW3_VV_203948.SAFE/manifest.safe\" -PcohWinRg=11 -PcohWinAz=3 -PnRgLooks=4 -PnAzLooks=1 -Poutput_filename=\"/home/mcallegari/PROJECT_DATA/FROSTINI/test_MintPy/WCapeSenAT29_test/tmp/phase_coh_20190502_20190607.dim\" -c 8192M\n"
     ]
    },
    {
     "name": "stderr",
     "output_type": "stream",
     "text": [
      "INFO: org.esa.snap.core.gpf.operators.tooladapter.ToolAdapterIO: Initializing external tool adapters\n",
      "INFO: org.esa.snap.core.util.EngineVersionCheckActivator: Please check regularly for new updates for the best SNAP experience.\n"
     ]
    },
    {
     "name": "stdout",
     "output_type": "stream",
     "text": [
      "Executing processing graph\n",
      "....11%....22%....33%....45%....56%....67%....78%....90% done.\n"
     ]
    },
    {
     "name": "stderr",
     "output_type": "stream",
     "text": [
      "-- org.jblas INFO Deleting /tmp/jblas7986709198777773899/libjblas_arch_flavor.so\n",
      "-- org.jblas INFO Deleting /tmp/jblas7986709198777773899/libjblas.so\n",
      "-- org.jblas INFO Deleting /tmp/jblas7986709198777773899/libgfortran-5.so\n",
      "-- org.jblas INFO Deleting /tmp/jblas7986709198777773899/libquadmath-0.so\n",
      "-- org.jblas INFO Deleting /tmp/jblas7986709198777773899\n",
      "INFO: org.esa.snap.core.gpf.operators.tooladapter.ToolAdapterIO: Initializing external tool adapters\n",
      "INFO: org.esa.snap.core.util.EngineVersionCheckActivator: Please check regularly for new updates for the best SNAP experience.\n"
     ]
    },
    {
     "name": "stdout",
     "output_type": "stream",
     "text": [
      "Executing processing graph\n",
      "...11%...22%...33%...45%...56%...67%...78%...90% done.\n",
      "snaphu -f snaphu.conf Phase_ifg_IW3_VV_02May2019_07Jun2019.snaphu.img 6120\n",
      "\n",
      "snaphu v2.0.4\n",
      "27 parameters input from file snaphu.conf (84 lines total)\n"
     ]
    },
    {
     "name": "stderr",
     "output_type": "stream",
     "text": [
      "-- org.jblas INFO Deleting /tmp/jblas1437504048191277565/libjblas_arch_flavor.so\n",
      "-- org.jblas INFO Deleting /tmp/jblas1437504048191277565/libjblas.so\n",
      "-- org.jblas INFO Deleting /tmp/jblas1437504048191277565/libgfortran-5.so\n",
      "-- org.jblas INFO Deleting /tmp/jblas1437504048191277565/libquadmath-0.so\n",
      "-- org.jblas INFO Deleting /tmp/jblas1437504048191277565\n",
      "WARNING: Tile overlap is small (may give bad results)\n"
     ]
    },
    {
     "name": "stdout",
     "output_type": "stream",
     "text": [
      "Logging run-time parameters to file snaphu.log\n",
      "Creating temporary directory snaphu_tiles_2532935\n",
      "Unwrapping tile at row 0, column 0 (pid 2532939)\n",
      "Unwrapping tile at row 0, column 1 (pid 2532944)\n",
      "Unwrapping tile at row 0, column 2 (pid 2532946)\n",
      "Unwrapping tile at row 0, column 3 (pid 2532949)\n",
      "Unwrapping tile at row 0, column 4 (pid 2532961)\n",
      "Unwrapping tile at row 0, column 5 (pid 2532963)\n",
      "Unwrapping tile at row 0, column 6 (pid 2532965)\n",
      "Unwrapping tile at row 0, column 7 (pid 2532969)\n",
      "Unwrapping tile at row 0, column 8 (pid 2532972)\n",
      "Unwrapping tile at row 0, column 9 (pid 2532981)\n",
      "Unwrapping tile at row 1, column 0 (pid 2532985)\n",
      "Unwrapping tile at row 1, column 1 (pid 2532989)\n",
      "Unwrapping tile at row 1, column 2 (pid 2532990)\n",
      "Unwrapping tile at row 1, column 3 (pid 2532992)\n",
      "Unwrapping tile at row 1, column 4 (pid 2532995)\n",
      "Unwrapping tile at row 1, column 5 (pid 2533004)\n",
      "Unwrapping tile at row 1, column 6 (pid 2533005)\n",
      "Unwrapping tile at row 1, column 7 (pid 2533007)\n",
      "Unwrapping tile at row 1, column 8 (pid 2533009)\n",
      "Unwrapping tile at row 1, column 9 (pid 2533016)\n",
      "Unwrapping tile at row 2, column 0 (pid 2533018)\n",
      "Unwrapping tile at row 2, column 1 (pid 2533019)\n",
      "Unwrapping tile at row 2, column 2 (pid 2533022)\n",
      "Unwrapping tile at row 2, column 3 (pid 2533023)\n",
      "Unwrapping tile at row 2, column 4 (pid 2533032)\n",
      "Unwrapping tile at row 2, column 5 (pid 2533045)\n",
      "Unwrapping tile at row 2, column 6 (pid 2533047)\n",
      "Unwrapping tile at row 2, column 7 (pid 2533051)\n",
      "Unwrapping tile at row 2, column 8 (pid 2533068)\n",
      "Unwrapping tile at row 2, column 9 (pid 2533070)\n",
      "Unwrapping tile at row 3, column 0 (pid 2533071)\n",
      "Unwrapping tile at row 3, column 1 (pid 2533073)\n",
      "Unwrapping tile at row 3, column 2 (pid 2533075)\n",
      "Unwrapping tile at row 3, column 3 (pid 2533076)\n",
      "Unwrapping tile at row 3, column 4 (pid 2533085)\n",
      "Unwrapping tile at row 3, column 5 (pid 2533086)\n",
      "Unwrapping tile at row 3, column 6 (pid 2533089)\n",
      "Unwrapping tile at row 3, column 7 (pid 2533090)\n",
      "Unwrapping tile at row 3, column 8 (pid 2533101)\n",
      "Unwrapping tile at row 3, column 9 (pid 2533104)\n",
      "Unwrapping tile at row 4, column 0 (pid 2533106)\n",
      "Unwrapping tile at row 4, column 1 (pid 2533108)\n",
      "Unwrapping tile at row 4, column 2 (pid 2533109)\n",
      "Unwrapping tile at row 4, column 3 (pid 2533118)\n",
      "Unwrapping tile at row 4, column 4 (pid 2533119)\n",
      "Unwrapping tile at row 4, column 5 (pid 2533121)\n",
      "Unwrapping tile at row 4, column 6 (pid 2533132)\n",
      "Unwrapping tile at row 4, column 7 (pid 2533149)\n",
      "Unwrapping tile at row 4, column 8 (pid 2533154)\n",
      "Unwrapping tile at row 4, column 9 (pid 2533156)\n",
      "Unwrapping tile at row 5, column 0 (pid 2533157)\n",
      "Unwrapping tile at row 5, column 1 (pid 2533163)\n",
      "Unwrapping tile at row 5, column 2 (pid 2533166)\n",
      "Unwrapping tile at row 5, column 3 (pid 2533168)\n",
      "Unwrapping tile at row 5, column 4 (pid 2533169)\n",
      "Unwrapping tile at row 5, column 5 (pid 2533178)\n",
      "Unwrapping tile at row 5, column 6 (pid 2533198)\n",
      "Unwrapping tile at row 5, column 7 (pid 2533208)\n",
      "Unwrapping tile at row 5, column 8 (pid 2533212)\n",
      "Unwrapping tile at row 5, column 9 (pid 2533213)\n",
      "Unwrapping tile at row 6, column 0 (pid 2533214)\n",
      "Unwrapping tile at row 6, column 1 (pid 2533222)\n",
      "Unwrapping tile at row 6, column 2 (pid 2533224)\n",
      "Unwrapping tile at row 6, column 3 (pid 2533225)\n",
      "Unwrapping tile at row 6, column 4 (pid 2533226)\n",
      "Unwrapping tile at row 6, column 5 (pid 2533229)\n",
      "Unwrapping tile at row 6, column 6 (pid 2533238)\n",
      "Unwrapping tile at row 6, column 7 (pid 2533243)\n",
      "Unwrapping tile at row 6, column 8 (pid 2533245)\n",
      "Unwrapping tile at row 6, column 9 (pid 2533247)\n",
      "Unwrapping tile at row 7, column 0 (pid 2533255)\n",
      "Unwrapping tile at row 7, column 1 (pid 2533258)\n",
      "Unwrapping tile at row 7, column 2 (pid 2533259)\n",
      "Unwrapping tile at row 7, column 3 (pid 2533260)\n",
      "Unwrapping tile at row 7, column 4 (pid 2533263)\n",
      "Unwrapping tile at row 7, column 5 (pid 2533264)\n",
      "Unwrapping tile at row 7, column 6 (pid 2533276)\n",
      "Unwrapping tile at row 7, column 7 (pid 2533277)\n",
      "Unwrapping tile at row 7, column 8 (pid 2533278)\n",
      "Unwrapping tile at row 7, column 9 (pid 2533279)\n",
      "Unwrapping tile at row 8, column 0 (pid 2533288)\n",
      "Unwrapping tile at row 8, column 1 (pid 2533289)\n",
      "Unwrapping tile at row 8, column 2 (pid 2533298)\n",
      "Unwrapping tile at row 8, column 3 (pid 2533300)\n",
      "Unwrapping tile at row 8, column 4 (pid 2533301)\n",
      "Unwrapping tile at row 8, column 5 (pid 2533314)\n",
      "Unwrapping tile at row 8, column 6 (pid 2533315)\n",
      "Unwrapping tile at row 8, column 7 (pid 2533317)\n",
      "Unwrapping tile at row 8, column 8 (pid 2533326)\n",
      "Unwrapping tile at row 8, column 9 (pid 2533327)\n",
      "Unwrapping tile at row 9, column 0 (pid 2533329)\n",
      "Unwrapping tile at row 9, column 1 (pid 2533331)\n",
      "Unwrapping tile at row 9, column 2 (pid 2533333)\n",
      "Unwrapping tile at row 9, column 3 (pid 2533342)\n",
      "Unwrapping tile at row 9, column 4 (pid 2533343)\n",
      "Unwrapping tile at row 9, column 5 (pid 2533346)\n",
      "Unwrapping tile at row 9, column 6 (pid 2533355)\n",
      "Unwrapping tile at row 9, column 7 (pid 2533356)\n",
      "Unwrapping tile at row 9, column 8 (pid 2533357)\n",
      "Unwrapping tile at row 9, column 9 (pid 2533359)\n"
     ]
    },
    {
     "name": "stderr",
     "output_type": "stream",
     "text": [
      "36 incremental costs clipped to avoid overflow (0.000%)\n",
      "36 incremental costs clipped to avoid overflow (0.000%)\n",
      "36 incremental costs clipped to avoid overflow (0.000%)\n",
      "36 incremental costs clipped to avoid overflow (0.000%)\n"
     ]
    },
    {
     "name": "stdout",
     "output_type": "stream",
     "text": [
      "Assembling tiles\n",
      "Running optimizer for secondary network\n",
      "Number of nodes in secondary network: 27758\n",
      "Flow increment: 1  (Total improvements: 0)\n",
      "Treesize: 27758      Pivots: 3896        Improvements: 204        \n",
      "Flow increment: 2  (Total improvements: 204)\n",
      "Treesize: 27758      Pivots: 2           Improvements: 0          \n",
      "Flow increment: 3  (Total improvements: 204)\n",
      "Treesize: 27758      Pivots: 0           Improvements: 0          \n",
      "Flow increment: 4  (Total improvements: 204)\n",
      "Treesize: 27758      Pivots: 0           Improvements: 0          \n",
      "Integrating secondary flows\n",
      "Output written to file UnwPhase_ifg_IW3_VV_02May2019_07Jun2019.snaphu.img\n",
      "Removing temporary directory snaphu_tiles_2532935\n",
      "SUGGESTION: Try increasing tile overlap and/or size if solution has edge artifacts\n",
      "Program snaphu done\n",
      "Elapsed processor time:   0:11:03.78\n",
      "Elapsed wall clock time:  0:02:04\n",
      "gpt \"./graphs/geocode_snaphuInterferogram_WGS84.xml\" -Pinterferogram_filename=\"/home/mcallegari/PROJECT_DATA/FROSTINI/test_MintPy/WCapeSenAT29_test/tmp/phase_coh_20190502_20190607.dim\" -Punw_interferogram_filename=\"/home/mcallegari/PROJECT_DATA/FROSTINI/test_MintPy/WCapeSenAT29_test/tmp/phase_coh_20190502_20190607/UnwPhase_ifg_IW3_VV_02May2019_07Jun2019.snaphu.hdr\" -Pphase_coh_bandnames=\"Phase_ifg_IW3_VV_02May2019_07Jun2019,Unw_Phase_ifg_02May2019_07Jun2019,coh_IW3_VV_02May2019_07Jun2019\" -PsaveDEM=\"false\" -Poutput_filename=\"/home/mcallegari/PROJECT_DATA/FROSTINI/test_MintPy/WCapeSenAT29_test/geocoded_interferogram_20190502_20190607.tif\"\n"
     ]
    },
    {
     "name": "stderr",
     "output_type": "stream",
     "text": [
      "INFO: org.esa.snap.core.gpf.operators.tooladapter.ToolAdapterIO: Initializing external tool adapters\n",
      "INFO: org.esa.snap.core.util.EngineVersionCheckActivator: Please check regularly for new updates for the best SNAP experience.\n"
     ]
    },
    {
     "name": "stdout",
     "output_type": "stream",
     "text": [
      "Executing processing graph\n"
     ]
    },
    {
     "name": "stderr",
     "output_type": "stream",
     "text": [
      "2094 [main] INFO hdf.hdflib.HDFLibrary - HDF4 library: \n",
      "2094 [main] INFO hdf.hdflib.HDFLibrary -  successfully loaded.\n",
      "2098 [main] INFO hdf.hdf5lib.H5 - HDF5 library: \n",
      "2099 [main] INFO hdf.hdf5lib.H5 -  successfully loaded.\n"
     ]
    },
    {
     "name": "stdout",
     "output_type": "stream",
     "text": [
      "....12%....24%....35%....47%....58%....70%....81%.... done.\n",
      "gpt \"./graphs/interferogram_sarGeometry.xml\" -Pprm_filename=\"/home/mcallegari/PROJECT_DATA/FROSTINI/test_MintPy/WCapeSenAT29_test/S1A_SLC_20190327T173425_062083_IW3_VV_194796.SAFE/manifest.safe\" -Psec_filename=\"/home/mcallegari/PROJECT_DATA/FROSTINI/test_MintPy/WCapeSenAT29_test/S1A_SLC_20190502T173426_062083_IW3_VV_199695.SAFE/manifest.safe\" -PcohWinRg=11 -PcohWinAz=3 -PnRgLooks=4 -PnAzLooks=1 -Poutput_filename=\"/home/mcallegari/PROJECT_DATA/FROSTINI/test_MintPy/WCapeSenAT29_test/tmp/phase_coh_20190327_20190502.dim\" -c 8192M\n"
     ]
    },
    {
     "name": "stderr",
     "output_type": "stream",
     "text": [
      "INFO: org.esa.snap.core.gpf.operators.tooladapter.ToolAdapterIO: Initializing external tool adapters\n",
      "INFO: org.esa.snap.core.util.EngineVersionCheckActivator: Please check regularly for new updates for the best SNAP experience.\n"
     ]
    },
    {
     "name": "stdout",
     "output_type": "stream",
     "text": [
      "Executing processing graph\n",
      "....11%....22%....33%....45%....56%....67%....78%....90% done.\n"
     ]
    },
    {
     "name": "stderr",
     "output_type": "stream",
     "text": [
      "-- org.jblas INFO Deleting /tmp/jblas11235001270850865878/libjblas_arch_flavor.so\n",
      "-- org.jblas INFO Deleting /tmp/jblas11235001270850865878/libjblas.so\n",
      "-- org.jblas INFO Deleting /tmp/jblas11235001270850865878/libgfortran-5.so\n",
      "-- org.jblas INFO Deleting /tmp/jblas11235001270850865878/libquadmath-0.so\n",
      "-- org.jblas INFO Deleting /tmp/jblas11235001270850865878\n",
      "INFO: org.esa.snap.core.gpf.operators.tooladapter.ToolAdapterIO: Initializing external tool adapters\n",
      "INFO: org.esa.snap.core.util.EngineVersionCheckActivator: Please check regularly for new updates for the best SNAP experience.\n"
     ]
    },
    {
     "name": "stdout",
     "output_type": "stream",
     "text": [
      "Executing processing graph\n",
      "...11%...22%...33%...45%...56%...67%...78%...90% done.\n"
     ]
    },
    {
     "name": "stderr",
     "output_type": "stream",
     "text": [
      "-- org.jblas INFO Deleting /tmp/jblas11181857675032146055/libjblas_arch_flavor.so\n",
      "-- org.jblas INFO Deleting /tmp/jblas11181857675032146055/libjblas.so\n",
      "-- org.jblas INFO Deleting /tmp/jblas11181857675032146055/libgfortran-5.so\n",
      "-- org.jblas INFO Deleting /tmp/jblas11181857675032146055/libquadmath-0.so\n",
      "-- org.jblas INFO Deleting /tmp/jblas11181857675032146055\n",
      "WARNING: Tile overlap is small (may give bad results)\n"
     ]
    },
    {
     "name": "stdout",
     "output_type": "stream",
     "text": [
      "snaphu -f snaphu.conf Phase_ifg_IW3_VV_27Mar2019_02May2019.snaphu.img 6120\n",
      "\n",
      "snaphu v2.0.4\n",
      "27 parameters input from file snaphu.conf (84 lines total)\n",
      "Logging run-time parameters to file snaphu.log\n",
      "Creating temporary directory snaphu_tiles_2535040\n",
      "Unwrapping tile at row 0, column 0 (pid 2535045)\n",
      "Unwrapping tile at row 0, column 1 (pid 2535049)\n",
      "Unwrapping tile at row 0, column 2 (pid 2535055)\n",
      "Unwrapping tile at row 0, column 3 (pid 2535058)\n",
      "Unwrapping tile at row 0, column 4 (pid 2535070)\n",
      "Unwrapping tile at row 0, column 5 (pid 2535073)\n",
      "Unwrapping tile at row 0, column 6 (pid 2535075)\n",
      "Unwrapping tile at row 0, column 7 (pid 2535084)\n",
      "Unwrapping tile at row 0, column 8 (pid 2535086)\n",
      "Unwrapping tile at row 0, column 9 (pid 2535095)\n",
      "Unwrapping tile at row 1, column 0 (pid 2535100)\n",
      "Unwrapping tile at row 1, column 1 (pid 2535102)\n",
      "Unwrapping tile at row 1, column 2 (pid 2535103)\n",
      "Unwrapping tile at row 1, column 3 (pid 2535105)\n",
      "Unwrapping tile at row 1, column 4 (pid 2535114)\n",
      "Unwrapping tile at row 1, column 5 (pid 2535116)\n",
      "Unwrapping tile at row 1, column 6 (pid 2535117)\n",
      "Unwrapping tile at row 1, column 7 (pid 2535118)\n",
      "Unwrapping tile at row 1, column 8 (pid 2535124)\n",
      "Unwrapping tile at row 1, column 9 (pid 2535125)\n",
      "Unwrapping tile at row 2, column 0 (pid 2535135)\n",
      "Unwrapping tile at row 2, column 1 (pid 2535137)\n",
      "Unwrapping tile at row 2, column 2 (pid 2535138)\n",
      "Unwrapping tile at row 2, column 3 (pid 2535139)\n",
      "Unwrapping tile at row 2, column 4 (pid 2535140)\n",
      "Unwrapping tile at row 2, column 5 (pid 2535150)\n",
      "Unwrapping tile at row 2, column 6 (pid 2535151)\n",
      "Unwrapping tile at row 2, column 7 (pid 2535160)\n",
      "Unwrapping tile at row 2, column 8 (pid 2535178)\n",
      "Unwrapping tile at row 2, column 9 (pid 2535179)\n",
      "Unwrapping tile at row 3, column 0 (pid 2535188)\n",
      "Unwrapping tile at row 3, column 1 (pid 2535190)\n",
      "Unwrapping tile at row 3, column 2 (pid 2535191)\n",
      "Unwrapping tile at row 3, column 3 (pid 2535192)\n",
      "Unwrapping tile at row 3, column 4 (pid 2535193)\n",
      "Unwrapping tile at row 3, column 5 (pid 2535202)\n",
      "Unwrapping tile at row 3, column 6 (pid 2535204)\n",
      "Unwrapping tile at row 3, column 7 (pid 2535205)\n",
      "Unwrapping tile at row 3, column 8 (pid 2535208)\n",
      "Unwrapping tile at row 3, column 9 (pid 2535209)\n",
      "Unwrapping tile at row 4, column 0 (pid 2535215)\n",
      "Unwrapping tile at row 4, column 1 (pid 2535224)\n",
      "Unwrapping tile at row 4, column 2 (pid 2535229)\n",
      "Unwrapping tile at row 4, column 3 (pid 2535230)\n",
      "Unwrapping tile at row 4, column 4 (pid 2535232)\n",
      "Unwrapping tile at row 4, column 5 (pid 2535234)\n",
      "Unwrapping tile at row 4, column 6 (pid 2535243)\n",
      "Unwrapping tile at row 4, column 7 (pid 2535244)\n",
      "Unwrapping tile at row 4, column 8 (pid 2535245)\n",
      "Unwrapping tile at row 4, column 9 (pid 2535246)\n",
      "Unwrapping tile at row 5, column 0 (pid 2535249)\n",
      "Unwrapping tile at row 5, column 1 (pid 2535260)\n",
      "Unwrapping tile at row 5, column 2 (pid 2535261)\n",
      "Unwrapping tile at row 5, column 3 (pid 2535262)\n",
      "Unwrapping tile at row 5, column 4 (pid 2535263)\n",
      "Unwrapping tile at row 5, column 5 (pid 2535266)\n",
      "Unwrapping tile at row 5, column 6 (pid 2535275)\n",
      "Unwrapping tile at row 5, column 7 (pid 2535284)\n",
      "Unwrapping tile at row 5, column 8 (pid 2535296)\n",
      "Unwrapping tile at row 5, column 9 (pid 2535297)\n",
      "Unwrapping tile at row 6, column 0 (pid 2535300)\n",
      "Unwrapping tile at row 6, column 1 (pid 2535302)\n",
      "Unwrapping tile at row 6, column 2 (pid 2535310)\n",
      "Unwrapping tile at row 6, column 3 (pid 2535311)\n",
      "Unwrapping tile at row 6, column 4 (pid 2535313)\n",
      "Unwrapping tile at row 6, column 5 (pid 2535315)\n",
      "Unwrapping tile at row 6, column 6 (pid 2535316)\n",
      "Unwrapping tile at row 6, column 7 (pid 2535325)\n",
      "Unwrapping tile at row 6, column 8 (pid 2535327)\n",
      "Unwrapping tile at row 6, column 9 (pid 2535328)\n",
      "Unwrapping tile at row 7, column 0 (pid 2535330)\n",
      "Unwrapping tile at row 7, column 1 (pid 2535332)\n",
      "Unwrapping tile at row 7, column 2 (pid 2535356)\n",
      "Unwrapping tile at row 7, column 3 (pid 2535357)\n",
      "Unwrapping tile at row 7, column 4 (pid 2535359)\n",
      "Unwrapping tile at row 7, column 5 (pid 2535361)\n",
      "Unwrapping tile at row 7, column 6 (pid 2535362)\n",
      "Unwrapping tile at row 7, column 7 (pid 2535370)\n",
      "Unwrapping tile at row 7, column 8 (pid 2535372)\n",
      "Unwrapping tile at row 7, column 9 (pid 2535373)\n",
      "Unwrapping tile at row 8, column 0 (pid 2535375)\n",
      "Unwrapping tile at row 8, column 1 (pid 2535377)\n",
      "Unwrapping tile at row 8, column 2 (pid 2535378)\n",
      "Unwrapping tile at row 8, column 3 (pid 2535386)\n",
      "Unwrapping tile at row 8, column 4 (pid 2535387)\n",
      "Unwrapping tile at row 8, column 5 (pid 2535389)\n",
      "Unwrapping tile at row 8, column 6 (pid 2535390)\n",
      "Unwrapping tile at row 8, column 7 (pid 2535399)\n",
      "Unwrapping tile at row 8, column 8 (pid 2535412)\n",
      "Unwrapping tile at row 8, column 9 (pid 2535413)\n",
      "Unwrapping tile at row 9, column 0 (pid 2535415)\n",
      "Unwrapping tile at row 9, column 1 (pid 2535417)\n",
      "Unwrapping tile at row 9, column 2 (pid 2535418)\n",
      "Unwrapping tile at row 9, column 3 (pid 2535426)\n",
      "Unwrapping tile at row 9, column 4 (pid 2535427)\n",
      "Unwrapping tile at row 9, column 5 (pid 2535429)\n",
      "Unwrapping tile at row 9, column 6 (pid 2535430)\n",
      "Unwrapping tile at row 9, column 7 (pid 2535432)\n",
      "Unwrapping tile at row 9, column 8 (pid 2535443)\n",
      "Unwrapping tile at row 9, column 9 (pid 2535444)\n",
      "Assembling tiles\n",
      "Running optimizer for secondary network\n",
      "Number of nodes in secondary network: 22278\n",
      "Flow increment: 1  (Total improvements: 0)\n",
      "Treesize: 22278      Pivots: 63          Improvements: 11         \n",
      "Flow increment: 2  (Total improvements: 11)\n",
      "Treesize: 22278      Pivots: 0           Improvements: 0          \n",
      "Flow increment: 3  (Total improvements: 11)\n",
      "Treesize: 22278      Pivots: 0           Improvements: 0          \n",
      "Flow increment: 4  (Total improvements: 11)\n",
      "Treesize: 22278      Pivots: 0           Improvements: 0          \n",
      "Integrating secondary flows\n",
      "Output written to file UnwPhase_ifg_IW3_VV_27Mar2019_02May2019.snaphu.img\n",
      "Removing temporary directory snaphu_tiles_2535040\n",
      "SUGGESTION: Try increasing tile overlap and/or size if solution has edge artifacts\n",
      "Program snaphu done\n",
      "Elapsed processor time:   0:09:14.99\n",
      "Elapsed wall clock time:  0:01:48\n",
      "gpt \"./graphs/geocode_snaphuInterferogram_WGS84.xml\" -Pinterferogram_filename=\"/home/mcallegari/PROJECT_DATA/FROSTINI/test_MintPy/WCapeSenAT29_test/tmp/phase_coh_20190327_20190502.dim\" -Punw_interferogram_filename=\"/home/mcallegari/PROJECT_DATA/FROSTINI/test_MintPy/WCapeSenAT29_test/tmp/phase_coh_20190327_20190502/UnwPhase_ifg_IW3_VV_27Mar2019_02May2019.snaphu.hdr\" -Pphase_coh_bandnames=\"Phase_ifg_IW3_VV_27Mar2019_02May2019,Unw_Phase_ifg_27Mar2019_02May2019,coh_IW3_VV_27Mar2019_02May2019\" -PsaveDEM=\"false\" -Poutput_filename=\"/home/mcallegari/PROJECT_DATA/FROSTINI/test_MintPy/WCapeSenAT29_test/geocoded_interferogram_20190327_20190502.tif\"\n"
     ]
    },
    {
     "name": "stderr",
     "output_type": "stream",
     "text": [
      "33 incremental costs clipped to avoid overflow (0.000%)\n",
      "33 incremental costs clipped to avoid overflow (0.000%)\n",
      "34 incremental costs clipped to avoid overflow (0.000%)\n",
      "34 incremental costs clipped to avoid overflow (0.000%)\n",
      "INFO: org.esa.snap.core.gpf.operators.tooladapter.ToolAdapterIO: Initializing external tool adapters\n",
      "INFO: org.esa.snap.core.util.EngineVersionCheckActivator: Please check regularly for new updates for the best SNAP experience.\n"
     ]
    },
    {
     "name": "stdout",
     "output_type": "stream",
     "text": [
      "Executing processing graph\n"
     ]
    },
    {
     "name": "stderr",
     "output_type": "stream",
     "text": [
      "1932 [main] INFO hdf.hdflib.HDFLibrary - HDF4 library: \n",
      "1933 [main] INFO hdf.hdflib.HDFLibrary -  successfully loaded.\n",
      "1936 [main] INFO hdf.hdf5lib.H5 - HDF5 library: \n",
      "1936 [main] INFO hdf.hdf5lib.H5 -  successfully loaded.\n"
     ]
    },
    {
     "name": "stdout",
     "output_type": "stream",
     "text": [
      "....12%....24%....35%....47%....58%....70%....81%.... done.\n",
      "gpt \"./graphs/interferogram_sarGeometry.xml\" -Pprm_filename=\"/home/mcallegari/PROJECT_DATA/FROSTINI/test_MintPy/WCapeSenAT29_test/S1A_SLC_20190408T173425_062083_IW3_VV_196444.SAFE/manifest.safe\" -Psec_filename=\"/home/mcallegari/PROJECT_DATA/FROSTINI/test_MintPy/WCapeSenAT29_test/S1A_SLC_20190502T173426_062083_IW3_VV_199695.SAFE/manifest.safe\" -PcohWinRg=11 -PcohWinAz=3 -PnRgLooks=4 -PnAzLooks=1 -Poutput_filename=\"/home/mcallegari/PROJECT_DATA/FROSTINI/test_MintPy/WCapeSenAT29_test/tmp/phase_coh_20190408_20190502.dim\" -c 8192M\n"
     ]
    },
    {
     "name": "stderr",
     "output_type": "stream",
     "text": [
      "INFO: org.esa.snap.core.gpf.operators.tooladapter.ToolAdapterIO: Initializing external tool adapters\n",
      "INFO: org.esa.snap.core.util.EngineVersionCheckActivator: Please check regularly for new updates for the best SNAP experience.\n"
     ]
    },
    {
     "name": "stdout",
     "output_type": "stream",
     "text": [
      "Executing processing graph\n"
     ]
    },
    {
     "name": "stderr",
     "output_type": "stream",
     "text": [
      "INFO: eu.esa.sar.commons.io.ImageIOFile: Using FileCacheImageInputStream\n"
     ]
    },
    {
     "name": "stdout",
     "output_type": "stream",
     "text": [
      "....11%....22%....33%....45%....56%....67%....78%....90% done.\n"
     ]
    },
    {
     "name": "stderr",
     "output_type": "stream",
     "text": [
      "-- org.jblas INFO Deleting /tmp/jblas13167080776178270632/libjblas_arch_flavor.so\n",
      "-- org.jblas INFO Deleting /tmp/jblas13167080776178270632/libjblas.so\n",
      "-- org.jblas INFO Deleting /tmp/jblas13167080776178270632/libgfortran-5.so\n",
      "-- org.jblas INFO Deleting /tmp/jblas13167080776178270632/libquadmath-0.so\n",
      "-- org.jblas INFO Deleting /tmp/jblas13167080776178270632\n",
      "INFO: org.esa.snap.core.gpf.operators.tooladapter.ToolAdapterIO: Initializing external tool adapters\n",
      "INFO: org.esa.snap.core.util.EngineVersionCheckActivator: Please check regularly for new updates for the best SNAP experience.\n"
     ]
    },
    {
     "name": "stdout",
     "output_type": "stream",
     "text": [
      "Executing processing graph\n",
      "...11%...22%...33%...45%...56%...67%...78%...90% done.\n",
      "snaphu -f snaphu.conf Phase_ifg_IW3_VV_08Apr2019_02May2019.snaphu.img 6120\n",
      "\n",
      "snaphu v2.0.4\n",
      "27 parameters input from file snaphu.conf (84 lines total)\n"
     ]
    },
    {
     "name": "stderr",
     "output_type": "stream",
     "text": [
      "-- org.jblas INFO Deleting /tmp/jblas3961423031203791114/libjblas_arch_flavor.so\n",
      "-- org.jblas INFO Deleting /tmp/jblas3961423031203791114/libjblas.so\n",
      "-- org.jblas INFO Deleting /tmp/jblas3961423031203791114/libgfortran-5.so\n",
      "-- org.jblas INFO Deleting /tmp/jblas3961423031203791114/libquadmath-0.so\n",
      "-- org.jblas INFO Deleting /tmp/jblas3961423031203791114\n",
      "WARNING: Tile overlap is small (may give bad results)\n"
     ]
    },
    {
     "name": "stdout",
     "output_type": "stream",
     "text": [
      "Logging run-time parameters to file snaphu.log\n",
      "Creating temporary directory snaphu_tiles_2536278\n",
      "Unwrapping tile at row 0, column 0 (pid 2536282)\n",
      "Unwrapping tile at row 0, column 1 (pid 2536292)\n",
      "Unwrapping tile at row 0, column 2 (pid 2536294)\n",
      "Unwrapping tile at row 0, column 3 (pid 2536301)\n",
      "Unwrapping tile at row 0, column 4 (pid 2536306)\n",
      "Unwrapping tile at row 0, column 5 (pid 2536309)\n",
      "Unwrapping tile at row 0, column 6 (pid 2536318)\n",
      "Unwrapping tile at row 0, column 7 (pid 2536322)\n",
      "Unwrapping tile at row 0, column 8 (pid 2536324)\n",
      "Unwrapping tile at row 0, column 9 (pid 2536327)\n",
      "Unwrapping tile at row 1, column 0 (pid 2536331)\n",
      "Unwrapping tile at row 1, column 1 (pid 2536339)\n",
      "Unwrapping tile at row 1, column 2 (pid 2536355)\n",
      "Unwrapping tile at row 1, column 3 (pid 2536364)\n",
      "Unwrapping tile at row 1, column 4 (pid 2536366)\n",
      "Unwrapping tile at row 1, column 5 (pid 2536368)\n",
      "Unwrapping tile at row 1, column 6 (pid 2536376)\n",
      "Unwrapping tile at row 1, column 7 (pid 2536377)\n",
      "Unwrapping tile at row 1, column 8 (pid 2536378)\n",
      "Unwrapping tile at row 1, column 9 (pid 2536380)\n",
      "Unwrapping tile at row 2, column 0 (pid 2536381)\n",
      "Unwrapping tile at row 2, column 1 (pid 2536384)\n",
      "Unwrapping tile at row 2, column 2 (pid 2536391)\n",
      "Unwrapping tile at row 2, column 3 (pid 2536395)\n",
      "Unwrapping tile at row 2, column 4 (pid 2536397)\n",
      "Unwrapping tile at row 2, column 5 (pid 2536402)\n",
      "Unwrapping tile at row 2, column 6 (pid 2536403)\n",
      "Unwrapping tile at row 2, column 7 (pid 2536411)\n",
      "Unwrapping tile at row 2, column 8 (pid 2536412)\n",
      "Unwrapping tile at row 2, column 9 (pid 2536414)\n",
      "Unwrapping tile at row 3, column 0 (pid 2536416)\n",
      "Unwrapping tile at row 3, column 1 (pid 2536417)\n",
      "Unwrapping tile at row 3, column 2 (pid 2536426)\n",
      "Unwrapping tile at row 3, column 3 (pid 2536429)\n",
      "Unwrapping tile at row 3, column 4 (pid 2536431)\n",
      "Unwrapping tile at row 3, column 5 (pid 2536433)\n",
      "Unwrapping tile at row 3, column 6 (pid 2536434)\n",
      "Unwrapping tile at row 3, column 7 (pid 2536443)\n",
      "Unwrapping tile at row 3, column 8 (pid 2536444)\n",
      "Unwrapping tile at row 3, column 9 (pid 2536446)\n",
      "Unwrapping tile at row 4, column 0 (pid 2536447)\n",
      "Unwrapping tile at row 4, column 1 (pid 2536448)\n",
      "Unwrapping tile at row 4, column 2 (pid 2536458)\n",
      "Unwrapping tile at row 4, column 3 (pid 2536466)\n",
      "Unwrapping tile at row 4, column 4 (pid 2536470)\n",
      "Unwrapping tile at row 4, column 5 (pid 2536472)\n",
      "Unwrapping tile at row 4, column 6 (pid 2536473)\n",
      "Unwrapping tile at row 4, column 7 (pid 2536474)\n",
      "Unwrapping tile at row 4, column 8 (pid 2536486)\n",
      "Unwrapping tile at row 4, column 9 (pid 2536488)\n",
      "Unwrapping tile at row 5, column 0 (pid 2536489)\n",
      "Unwrapping tile at row 5, column 1 (pid 2536490)\n",
      "Unwrapping tile at row 5, column 2 (pid 2536491)\n",
      "Unwrapping tile at row 5, column 3 (pid 2536500)\n",
      "Unwrapping tile at row 5, column 4 (pid 2536502)\n",
      "Unwrapping tile at row 5, column 5 (pid 2536504)\n",
      "Unwrapping tile at row 5, column 6 (pid 2536507)\n",
      "Unwrapping tile at row 5, column 7 (pid 2536508)\n",
      "Unwrapping tile at row 5, column 8 (pid 2536516)\n",
      "Unwrapping tile at row 5, column 9 (pid 2536518)\n",
      "Unwrapping tile at row 6, column 0 (pid 2536644)\n",
      "Unwrapping tile at row 6, column 1 (pid 2536645)\n",
      "Unwrapping tile at row 6, column 2 (pid 2536841)\n",
      "Unwrapping tile at row 6, column 3 (pid 2536854)\n",
      "Unwrapping tile at row 6, column 4 (pid 2536889)\n",
      "Unwrapping tile at row 6, column 5 (pid 2536917)\n",
      "Unwrapping tile at row 6, column 6 (pid 2536919)\n",
      "Unwrapping tile at row 6, column 7 (pid 2536921)\n",
      "Unwrapping tile at row 6, column 8 (pid 2536959)\n",
      "Unwrapping tile at row 6, column 9 (pid 2537057)\n",
      "Unwrapping tile at row 7, column 0 (pid 2537065)\n",
      "Unwrapping tile at row 7, column 1 (pid 2537075)\n",
      "Unwrapping tile at row 7, column 2 (pid 2537100)\n",
      "Unwrapping tile at row 7, column 3 (pid 2537102)\n",
      "Unwrapping tile at row 7, column 4 (pid 2537105)\n",
      "Unwrapping tile at row 7, column 5 (pid 2537106)\n",
      "Unwrapping tile at row 7, column 6 (pid 2537107)\n",
      "Unwrapping tile at row 7, column 7 (pid 2537108)\n",
      "Unwrapping tile at row 7, column 8 (pid 2537122)\n",
      "Unwrapping tile at row 7, column 9 (pid 2537125)\n",
      "Unwrapping tile at row 8, column 0 (pid 2537126)\n",
      "Unwrapping tile at row 8, column 1 (pid 2537131)\n",
      "Unwrapping tile at row 8, column 2 (pid 2537132)\n",
      "Unwrapping tile at row 8, column 3 (pid 2537141)\n",
      "Unwrapping tile at row 8, column 4 (pid 2537143)\n",
      "Unwrapping tile at row 8, column 5 (pid 2537144)\n",
      "Unwrapping tile at row 8, column 6 (pid 2537145)\n",
      "Unwrapping tile at row 8, column 7 (pid 2537146)\n",
      "Unwrapping tile at row 8, column 8 (pid 2537161)\n",
      "Unwrapping tile at row 8, column 9 (pid 2537162)\n",
      "Unwrapping tile at row 9, column 0 (pid 2537163)\n",
      "Unwrapping tile at row 9, column 1 (pid 2537165)\n",
      "Unwrapping tile at row 9, column 2 (pid 2537166)\n",
      "Unwrapping tile at row 9, column 3 (pid 2537175)\n",
      "Unwrapping tile at row 9, column 4 (pid 2537177)\n",
      "Unwrapping tile at row 9, column 5 (pid 2537179)\n",
      "Unwrapping tile at row 9, column 6 (pid 2537180)\n",
      "Unwrapping tile at row 9, column 7 (pid 2537181)\n",
      "Unwrapping tile at row 9, column 8 (pid 2537191)\n",
      "Unwrapping tile at row 9, column 9 (pid 2537192)\n",
      "Assembling tiles\n",
      "Running optimizer for secondary network\n",
      "Number of nodes in secondary network: 16786\n",
      "Flow increment: 1  (Total improvements: 0)\n",
      "Treesize: 16786      Pivots: 109         Improvements: 5          \n",
      "Flow increment: 2  (Total improvements: 5)\n",
      "Treesize: 16786      Pivots: 0           Improvements: 0          \n",
      "Flow increment: 3  (Total improvements: 5)\n",
      "Treesize: 16786      Pivots: 0           Improvements: 0          \n",
      "Flow increment: 4  (Total improvements: 5)\n",
      "Treesize: 16786      Pivots: 0           Improvements: 0          \n",
      "Integrating secondary flows\n",
      "Output written to file UnwPhase_ifg_IW3_VV_08Apr2019_02May2019.snaphu.img\n",
      "Removing temporary directory snaphu_tiles_2536278\n",
      "SUGGESTION: Try increasing tile overlap and/or size if solution has edge artifacts\n",
      "Program snaphu done\n",
      "Elapsed processor time:   0:07:29.32\n",
      "Elapsed wall clock time:  0:01:49\n",
      "gpt \"./graphs/geocode_snaphuInterferogram_WGS84.xml\" -Pinterferogram_filename=\"/home/mcallegari/PROJECT_DATA/FROSTINI/test_MintPy/WCapeSenAT29_test/tmp/phase_coh_20190408_20190502.dim\" -Punw_interferogram_filename=\"/home/mcallegari/PROJECT_DATA/FROSTINI/test_MintPy/WCapeSenAT29_test/tmp/phase_coh_20190408_20190502/UnwPhase_ifg_IW3_VV_08Apr2019_02May2019.snaphu.hdr\" -Pphase_coh_bandnames=\"Phase_ifg_IW3_VV_08Apr2019_02May2019,Unw_Phase_ifg_08Apr2019_02May2019,coh_IW3_VV_08Apr2019_02May2019\" -PsaveDEM=\"false\" -Poutput_filename=\"/home/mcallegari/PROJECT_DATA/FROSTINI/test_MintPy/WCapeSenAT29_test/geocoded_interferogram_20190408_20190502.tif\"\n"
     ]
    },
    {
     "name": "stderr",
     "output_type": "stream",
     "text": [
      "40 incremental costs clipped to avoid overflow (0.001%)\n",
      "38 incremental costs clipped to avoid overflow (0.001%)\n",
      "38 incremental costs clipped to avoid overflow (0.001%)\n",
      "38 incremental costs clipped to avoid overflow (0.001%)\n",
      "INFO: org.esa.snap.core.gpf.operators.tooladapter.ToolAdapterIO: Initializing external tool adapters\n",
      "INFO: org.esa.snap.core.util.EngineVersionCheckActivator: Please check regularly for new updates for the best SNAP experience.\n"
     ]
    },
    {
     "name": "stdout",
     "output_type": "stream",
     "text": [
      "Executing processing graph\n"
     ]
    },
    {
     "name": "stderr",
     "output_type": "stream",
     "text": [
      "1935 [main] INFO hdf.hdflib.HDFLibrary - HDF4 library: \n",
      "1935 [main] INFO hdf.hdflib.HDFLibrary -  successfully loaded.\n",
      "1940 [main] INFO hdf.hdf5lib.H5 - HDF5 library: \n",
      "1940 [main] INFO hdf.hdf5lib.H5 -  successfully loaded.\n"
     ]
    },
    {
     "name": "stdout",
     "output_type": "stream",
     "text": [
      "....12%....24%....35%....47%....58%....70%....81%.... done.\n",
      "gpt \"./graphs/interferogram_sarGeometry.xml\" -Pprm_filename=\"/home/mcallegari/PROJECT_DATA/FROSTINI/test_MintPy/WCapeSenAT29_test/S1A_SLC_20190408T173425_062083_IW3_VV_196444.SAFE/manifest.safe\" -Psec_filename=\"/home/mcallegari/PROJECT_DATA/FROSTINI/test_MintPy/WCapeSenAT29_test/S1A_SLC_20190420T173426_062083_IW3_VV_198063.SAFE/manifest.safe\" -PcohWinRg=11 -PcohWinAz=3 -PnRgLooks=4 -PnAzLooks=1 -Poutput_filename=\"/home/mcallegari/PROJECT_DATA/FROSTINI/test_MintPy/WCapeSenAT29_test/tmp/phase_coh_20190408_20190420.dim\" -c 8192M\n"
     ]
    },
    {
     "name": "stderr",
     "output_type": "stream",
     "text": [
      "INFO: org.esa.snap.core.gpf.operators.tooladapter.ToolAdapterIO: Initializing external tool adapters\n",
      "INFO: org.esa.snap.core.util.EngineVersionCheckActivator: Please check regularly for new updates for the best SNAP experience.\n"
     ]
    },
    {
     "name": "stdout",
     "output_type": "stream",
     "text": [
      "Executing processing graph\n"
     ]
    },
    {
     "name": "stderr",
     "output_type": "stream",
     "text": [
      "INFO: eu.esa.sar.commons.io.ImageIOFile: Using FileCacheImageInputStream\n"
     ]
    },
    {
     "name": "stdout",
     "output_type": "stream",
     "text": [
      "....11%....22%....33%....45%....56%....67%....78%....90% done.\n"
     ]
    },
    {
     "name": "stderr",
     "output_type": "stream",
     "text": [
      "-- org.jblas INFO Deleting /tmp/jblas5631701327862639507/libjblas_arch_flavor.so\n",
      "-- org.jblas INFO Deleting /tmp/jblas5631701327862639507/libjblas.so\n",
      "-- org.jblas INFO Deleting /tmp/jblas5631701327862639507/libgfortran-5.so\n",
      "-- org.jblas INFO Deleting /tmp/jblas5631701327862639507/libquadmath-0.so\n",
      "-- org.jblas INFO Deleting /tmp/jblas5631701327862639507\n",
      "INFO: org.esa.snap.core.gpf.operators.tooladapter.ToolAdapterIO: Initializing external tool adapters\n",
      "INFO: org.esa.snap.core.util.EngineVersionCheckActivator: Please check regularly for new updates for the best SNAP experience.\n"
     ]
    },
    {
     "name": "stdout",
     "output_type": "stream",
     "text": [
      "Executing processing graph\n",
      "...11%...22%...33%...45%...56%...67%...78%...90% done.\n",
      "snaphu -f snaphu.conf Phase_ifg_IW3_VV_08Apr2019_20Apr2019.snaphu.img 6120\n",
      "\n",
      "snaphu v2.0.4\n",
      "27 parameters input from file snaphu.conf (84 lines total)\n"
     ]
    },
    {
     "name": "stderr",
     "output_type": "stream",
     "text": [
      "-- org.jblas INFO Deleting /tmp/jblas14664280369375489188/libjblas_arch_flavor.so\n",
      "-- org.jblas INFO Deleting /tmp/jblas14664280369375489188/libjblas.so\n",
      "-- org.jblas INFO Deleting /tmp/jblas14664280369375489188/libgfortran-5.so\n",
      "-- org.jblas INFO Deleting /tmp/jblas14664280369375489188/libquadmath-0.so\n",
      "-- org.jblas INFO Deleting /tmp/jblas14664280369375489188\n",
      "WARNING: Tile overlap is small (may give bad results)\n"
     ]
    },
    {
     "name": "stdout",
     "output_type": "stream",
     "text": [
      "Logging run-time parameters to file snaphu.log\n",
      "Creating temporary directory snaphu_tiles_2538123\n",
      "Unwrapping tile at row 0, column 0 (pid 2538128)\n",
      "Unwrapping tile at row 0, column 1 (pid 2538142)\n",
      "Unwrapping tile at row 0, column 2 (pid 2538144)\n",
      "Unwrapping tile at row 0, column 3 (pid 2538153)\n",
      "Unwrapping tile at row 0, column 4 (pid 2538160)\n",
      "Unwrapping tile at row 0, column 5 (pid 2538166)\n",
      "Unwrapping tile at row 0, column 6 (pid 2538168)\n",
      "Unwrapping tile at row 0, column 7 (pid 2538170)\n",
      "Unwrapping tile at row 0, column 8 (pid 2538183)\n",
      "Unwrapping tile at row 0, column 9 (pid 2538186)\n",
      "Unwrapping tile at row 1, column 0 (pid 2538192)\n",
      "Unwrapping tile at row 1, column 1 (pid 2538195)\n",
      "Unwrapping tile at row 1, column 2 (pid 2538196)\n",
      "Unwrapping tile at row 1, column 3 (pid 2538204)\n",
      "Unwrapping tile at row 1, column 4 (pid 2538205)\n",
      "Unwrapping tile at row 1, column 5 (pid 2538207)\n",
      "Unwrapping tile at row 1, column 6 (pid 2538211)\n",
      "Unwrapping tile at row 1, column 7 (pid 2538212)\n",
      "Unwrapping tile at row 1, column 8 (pid 2538213)\n",
      "Unwrapping tile at row 1, column 9 (pid 2538222)\n",
      "Unwrapping tile at row 2, column 0 (pid 2538224)\n",
      "Unwrapping tile at row 2, column 1 (pid 2538237)\n",
      "Unwrapping tile at row 2, column 2 (pid 2538239)\n",
      "Unwrapping tile at row 2, column 3 (pid 2538241)\n",
      "Unwrapping tile at row 2, column 4 (pid 2538249)\n",
      "Unwrapping tile at row 2, column 5 (pid 2538251)\n",
      "Unwrapping tile at row 2, column 6 (pid 2538255)\n",
      "Unwrapping tile at row 2, column 7 (pid 2538256)\n",
      "Unwrapping tile at row 2, column 8 (pid 2538276)\n",
      "Unwrapping tile at row 2, column 9 (pid 2538285)\n",
      "Unwrapping tile at row 3, column 0 (pid 2538287)\n",
      "Unwrapping tile at row 3, column 1 (pid 2538289)\n",
      "Unwrapping tile at row 3, column 2 (pid 2538290)\n",
      "Unwrapping tile at row 3, column 3 (pid 2538291)\n",
      "Unwrapping tile at row 3, column 4 (pid 2538299)\n",
      "Unwrapping tile at row 3, column 5 (pid 2538301)\n",
      "Unwrapping tile at row 3, column 6 (pid 2538302)\n",
      "Unwrapping tile at row 3, column 7 (pid 2538305)\n",
      "Unwrapping tile at row 3, column 8 (pid 2538306)\n",
      "Unwrapping tile at row 3, column 9 (pid 2538308)\n",
      "Unwrapping tile at row 4, column 0 (pid 2538317)\n",
      "Unwrapping tile at row 4, column 1 (pid 2538319)\n",
      "Unwrapping tile at row 4, column 2 (pid 2538320)\n",
      "Unwrapping tile at row 4, column 3 (pid 2538321)\n",
      "Unwrapping tile at row 4, column 4 (pid 2538322)\n",
      "Unwrapping tile at row 4, column 5 (pid 2538331)\n",
      "Unwrapping tile at row 4, column 6 (pid 2538333)\n",
      "Unwrapping tile at row 4, column 7 (pid 2538336)\n",
      "Unwrapping tile at row 4, column 8 (pid 2538337)\n",
      "Unwrapping tile at row 4, column 9 (pid 2538339)\n",
      "Unwrapping tile at row 5, column 0 (pid 2538348)\n",
      "Unwrapping tile at row 5, column 1 (pid 2538350)\n",
      "Unwrapping tile at row 5, column 2 (pid 2538351)\n",
      "Unwrapping tile at row 5, column 3 (pid 2538352)\n",
      "Unwrapping tile at row 5, column 4 (pid 2538353)\n",
      "Unwrapping tile at row 5, column 5 (pid 2538362)\n",
      "Unwrapping tile at row 5, column 6 (pid 2538363)\n",
      "Unwrapping tile at row 5, column 7 (pid 2538365)\n",
      "Unwrapping tile at row 5, column 8 (pid 2538376)\n",
      "Unwrapping tile at row 5, column 9 (pid 2538379)\n",
      "Unwrapping tile at row 6, column 0 (pid 2538381)\n",
      "Unwrapping tile at row 6, column 1 (pid 2538390)\n",
      "Unwrapping tile at row 6, column 2 (pid 2538391)\n",
      "Unwrapping tile at row 6, column 3 (pid 2538392)\n",
      "Unwrapping tile at row 6, column 4 (pid 2538393)\n",
      "Unwrapping tile at row 6, column 5 (pid 2538395)\n",
      "Unwrapping tile at row 6, column 6 (pid 2538405)\n",
      "Unwrapping tile at row 6, column 7 (pid 2538406)\n",
      "Unwrapping tile at row 6, column 8 (pid 2538410)\n",
      "Unwrapping tile at row 6, column 9 (pid 2538413)\n",
      "Unwrapping tile at row 7, column 0 (pid 2538415)\n",
      "Unwrapping tile at row 7, column 1 (pid 2538424)\n",
      "Unwrapping tile at row 7, column 2 (pid 2538425)\n",
      "Unwrapping tile at row 7, column 3 (pid 2538426)\n",
      "Unwrapping tile at row 7, column 4 (pid 2538427)\n",
      "Unwrapping tile at row 7, column 5 (pid 2538429)\n",
      "Unwrapping tile at row 7, column 6 (pid 2538439)\n",
      "Unwrapping tile at row 7, column 7 (pid 2538440)\n",
      "Unwrapping tile at row 7, column 8 (pid 2538441)\n",
      "Unwrapping tile at row 7, column 9 (pid 2538446)\n",
      "Unwrapping tile at row 8, column 0 (pid 2538448)\n",
      "Unwrapping tile at row 8, column 1 (pid 2538456)\n",
      "Unwrapping tile at row 8, column 2 (pid 2538458)\n",
      "Unwrapping tile at row 8, column 3 (pid 2538459)\n",
      "Unwrapping tile at row 8, column 4 (pid 2538461)\n",
      "Unwrapping tile at row 8, column 5 (pid 2538462)\n",
      "Unwrapping tile at row 8, column 6 (pid 2538471)\n",
      "Unwrapping tile at row 8, column 7 (pid 2538479)\n",
      "Unwrapping tile at row 8, column 8 (pid 2538489)\n",
      "Unwrapping tile at row 8, column 9 (pid 2538494)\n",
      "Unwrapping tile at row 9, column 0 (pid 2538495)\n",
      "Unwrapping tile at row 9, column 1 (pid 2538503)\n",
      "Unwrapping tile at row 9, column 2 (pid 2538504)\n",
      "Unwrapping tile at row 9, column 3 (pid 2538506)\n",
      "Unwrapping tile at row 9, column 4 (pid 2538507)\n",
      "Unwrapping tile at row 9, column 5 (pid 2538508)\n",
      "Unwrapping tile at row 9, column 6 (pid 2538516)\n",
      "Unwrapping tile at row 9, column 7 (pid 2538518)\n",
      "Unwrapping tile at row 9, column 8 (pid 2538522)\n",
      "Unwrapping tile at row 9, column 9 (pid 2538524)\n",
      "Assembling tiles\n",
      "Running optimizer for secondary network\n",
      "Number of nodes in secondary network: 12448\n",
      "Flow increment: 1  (Total improvements: 0)\n",
      "Treesize: 12448      Pivots: 14          Improvements: 4          \n",
      "Flow increment: 2  (Total improvements: 4)\n",
      "Treesize: 12448      Pivots: 0           Improvements: 0          \n",
      "Flow increment: 3  (Total improvements: 4)\n",
      "Treesize: 12448      Pivots: 0           Improvements: 0          \n",
      "Flow increment: 4  (Total improvements: 4)\n",
      "Treesize: 12448      Pivots: 0           Improvements: 0          \n",
      "Integrating secondary flows\n",
      "Output written to file UnwPhase_ifg_IW3_VV_08Apr2019_20Apr2019.snaphu.img\n",
      "Removing temporary directory snaphu_tiles_2538123\n",
      "SUGGESTION: Try increasing tile overlap and/or size if solution has edge artifacts\n",
      "Program snaphu done\n",
      "Elapsed processor time:   0:06:26.74\n",
      "Elapsed wall clock time:  0:01:48\n",
      "gpt \"./graphs/geocode_snaphuInterferogram_WGS84.xml\" -Pinterferogram_filename=\"/home/mcallegari/PROJECT_DATA/FROSTINI/test_MintPy/WCapeSenAT29_test/tmp/phase_coh_20190408_20190420.dim\" -Punw_interferogram_filename=\"/home/mcallegari/PROJECT_DATA/FROSTINI/test_MintPy/WCapeSenAT29_test/tmp/phase_coh_20190408_20190420/UnwPhase_ifg_IW3_VV_08Apr2019_20Apr2019.snaphu.hdr\" -Pphase_coh_bandnames=\"Phase_ifg_IW3_VV_08Apr2019_20Apr2019,Unw_Phase_ifg_08Apr2019_20Apr2019,coh_IW3_VV_08Apr2019_20Apr2019\" -PsaveDEM=\"false\" -Poutput_filename=\"/home/mcallegari/PROJECT_DATA/FROSTINI/test_MintPy/WCapeSenAT29_test/geocoded_interferogram_20190408_20190420.tif\"\n"
     ]
    },
    {
     "name": "stderr",
     "output_type": "stream",
     "text": [
      "73 incremental costs clipped to avoid overflow (0.002%)\n",
      "73 incremental costs clipped to avoid overflow (0.002%)\n",
      "73 incremental costs clipped to avoid overflow (0.002%)\n",
      "73 incremental costs clipped to avoid overflow (0.002%)\n",
      "INFO: org.esa.snap.core.gpf.operators.tooladapter.ToolAdapterIO: Initializing external tool adapters\n",
      "INFO: org.esa.snap.core.util.EngineVersionCheckActivator: Please check regularly for new updates for the best SNAP experience.\n"
     ]
    },
    {
     "name": "stdout",
     "output_type": "stream",
     "text": [
      "Executing processing graph\n"
     ]
    },
    {
     "name": "stderr",
     "output_type": "stream",
     "text": [
      "1886 [main] INFO hdf.hdflib.HDFLibrary - HDF4 library: \n",
      "1887 [main] INFO hdf.hdflib.HDFLibrary -  successfully loaded.\n",
      "1890 [main] INFO hdf.hdf5lib.H5 - HDF5 library: \n",
      "1890 [main] INFO hdf.hdf5lib.H5 -  successfully loaded.\n"
     ]
    },
    {
     "name": "stdout",
     "output_type": "stream",
     "text": [
      "....12%....24%....35%....47%....58%....70%....81%.... done.\n",
      "gpt \"./graphs/interferogram_sarGeometry.xml\" -Pprm_filename=\"/home/mcallegari/PROJECT_DATA/FROSTINI/test_MintPy/WCapeSenAT29_test/S1A_SLC_20190315T173425_062083_IW3_VV_193151.SAFE/manifest.safe\" -Psec_filename=\"/home/mcallegari/PROJECT_DATA/FROSTINI/test_MintPy/WCapeSenAT29_test/S1A_SLC_20190408T173425_062083_IW3_VV_196444.SAFE/manifest.safe\" -PcohWinRg=11 -PcohWinAz=3 -PnRgLooks=4 -PnAzLooks=1 -Poutput_filename=\"/home/mcallegari/PROJECT_DATA/FROSTINI/test_MintPy/WCapeSenAT29_test/tmp/phase_coh_20190315_20190408.dim\" -c 8192M\n"
     ]
    },
    {
     "name": "stderr",
     "output_type": "stream",
     "text": [
      "INFO: org.esa.snap.core.gpf.operators.tooladapter.ToolAdapterIO: Initializing external tool adapters\n",
      "INFO: org.esa.snap.core.util.EngineVersionCheckActivator: Please check regularly for new updates for the best SNAP experience.\n"
     ]
    },
    {
     "name": "stdout",
     "output_type": "stream",
     "text": [
      "Executing processing graph\n",
      "....11%....22%....33%....45%....56%....67%....78%....90% done.\n"
     ]
    },
    {
     "name": "stderr",
     "output_type": "stream",
     "text": [
      "-- org.jblas INFO Deleting /tmp/jblas10372020581372452567/libjblas_arch_flavor.so\n",
      "-- org.jblas INFO Deleting /tmp/jblas10372020581372452567/libjblas.so\n",
      "-- org.jblas INFO Deleting /tmp/jblas10372020581372452567/libgfortran-5.so\n",
      "-- org.jblas INFO Deleting /tmp/jblas10372020581372452567/libquadmath-0.so\n",
      "-- org.jblas INFO Deleting /tmp/jblas10372020581372452567\n",
      "INFO: org.esa.snap.core.gpf.operators.tooladapter.ToolAdapterIO: Initializing external tool adapters\n",
      "INFO: org.esa.snap.core.util.EngineVersionCheckActivator: Please check regularly for new updates for the best SNAP experience.\n"
     ]
    },
    {
     "name": "stdout",
     "output_type": "stream",
     "text": [
      "Executing processing graph\n",
      "...11%...22%...33%...45%...56%...67%...78%...90% done.\n",
      "snaphu -f snaphu.conf Phase_ifg_IW3_VV_15Mar2019_08Apr2019.snaphu.img 6120\n",
      "\n",
      "snaphu v2.0.4\n",
      "27 parameters input from file snaphu.conf (84 lines total)\n"
     ]
    },
    {
     "name": "stderr",
     "output_type": "stream",
     "text": [
      "-- org.jblas INFO Deleting /tmp/jblas2297001410165966924/libjblas_arch_flavor.so\n",
      "-- org.jblas INFO Deleting /tmp/jblas2297001410165966924/libjblas.so\n",
      "-- org.jblas INFO Deleting /tmp/jblas2297001410165966924/libgfortran-5.so\n",
      "-- org.jblas INFO Deleting /tmp/jblas2297001410165966924/libquadmath-0.so\n",
      "-- org.jblas INFO Deleting /tmp/jblas2297001410165966924\n",
      "WARNING: Tile overlap is small (may give bad results)\n"
     ]
    },
    {
     "name": "stdout",
     "output_type": "stream",
     "text": [
      "Logging run-time parameters to file snaphu.log\n",
      "Creating temporary directory snaphu_tiles_2539424\n",
      "Unwrapping tile at row 0, column 0 (pid 2539436)\n",
      "Unwrapping tile at row 0, column 1 (pid 2539439)\n",
      "Unwrapping tile at row 0, column 2 (pid 2539444)\n",
      "Unwrapping tile at row 0, column 3 (pid 2539449)\n",
      "Unwrapping tile at row 0, column 4 (pid 2539454)\n",
      "Unwrapping tile at row 0, column 5 (pid 2539464)\n",
      "Unwrapping tile at row 0, column 6 (pid 2539504)\n",
      "Unwrapping tile at row 0, column 7 (pid 2539507)\n",
      "Unwrapping tile at row 0, column 8 (pid 2539509)\n",
      "Unwrapping tile at row 0, column 9 (pid 2539511)\n",
      "Unwrapping tile at row 1, column 0 (pid 2539516)\n",
      "Unwrapping tile at row 1, column 1 (pid 2539524)\n",
      "Unwrapping tile at row 1, column 2 (pid 2539525)\n",
      "Unwrapping tile at row 1, column 3 (pid 2539528)\n",
      "Unwrapping tile at row 1, column 4 (pid 2539538)\n",
      "Unwrapping tile at row 1, column 5 (pid 2539540)\n",
      "Unwrapping tile at row 1, column 6 (pid 2539557)\n",
      "Unwrapping tile at row 1, column 7 (pid 2539558)\n",
      "Unwrapping tile at row 1, column 8 (pid 2539560)\n",
      "Unwrapping tile at row 1, column 9 (pid 2539569)\n",
      "Unwrapping tile at row 2, column 0 (pid 2539571)\n",
      "Unwrapping tile at row 2, column 1 (pid 2539584)\n",
      "Unwrapping tile at row 2, column 2 (pid 2539585)\n",
      "Unwrapping tile at row 2, column 3 (pid 2539586)\n",
      "Unwrapping tile at row 2, column 4 (pid 2539591)\n",
      "Unwrapping tile at row 2, column 5 (pid 2539596)\n",
      "Unwrapping tile at row 2, column 6 (pid 2539606)\n",
      "Unwrapping tile at row 2, column 7 (pid 2539607)\n",
      "Unwrapping tile at row 2, column 8 (pid 2539608)\n",
      "Unwrapping tile at row 2, column 9 (pid 2539612)\n",
      "Unwrapping tile at row 3, column 0 (pid 2539618)\n",
      "Unwrapping tile at row 3, column 1 (pid 2539619)\n",
      "Unwrapping tile at row 3, column 2 (pid 2539627)\n",
      "Unwrapping tile at row 3, column 3 (pid 2539629)\n",
      "Unwrapping tile at row 3, column 4 (pid 2539633)\n",
      "Unwrapping tile at row 3, column 5 (pid 2539635)\n",
      "Unwrapping tile at row 3, column 6 (pid 2539637)\n",
      "Unwrapping tile at row 3, column 7 (pid 2539645)\n",
      "Unwrapping tile at row 3, column 8 (pid 2539646)\n",
      "Unwrapping tile at row 3, column 9 (pid 2539647)\n",
      "Unwrapping tile at row 4, column 0 (pid 2539649)\n",
      "Unwrapping tile at row 4, column 1 (pid 2539650)\n",
      "Unwrapping tile at row 4, column 2 (pid 2539658)\n",
      "Unwrapping tile at row 4, column 3 (pid 2539659)\n",
      "Unwrapping tile at row 4, column 4 (pid 2539669)\n",
      "Unwrapping tile at row 4, column 5 (pid 2539673)\n",
      "Unwrapping tile at row 4, column 6 (pid 2539675)\n",
      "Unwrapping tile at row 4, column 7 (pid 2539682)\n",
      "Unwrapping tile at row 4, column 8 (pid 2539683)\n",
      "Unwrapping tile at row 4, column 9 (pid 2539685)\n",
      "Unwrapping tile at row 5, column 0 (pid 2539690)\n",
      "Unwrapping tile at row 5, column 1 (pid 2539691)\n",
      "Unwrapping tile at row 5, column 2 (pid 2539700)\n",
      "Unwrapping tile at row 5, column 3 (pid 2539706)\n",
      "Unwrapping tile at row 5, column 4 (pid 2539713)\n",
      "Unwrapping tile at row 5, column 5 (pid 2539715)\n",
      "Unwrapping tile at row 5, column 6 (pid 2539717)\n",
      "Unwrapping tile at row 5, column 7 (pid 2539726)\n",
      "Unwrapping tile at row 5, column 8 (pid 2539727)\n",
      "Unwrapping tile at row 5, column 9 (pid 2539729)\n",
      "Unwrapping tile at row 6, column 0 (pid 2539730)\n",
      "Unwrapping tile at row 6, column 1 (pid 2539731)\n",
      "Unwrapping tile at row 6, column 2 (pid 2539740)\n",
      "Unwrapping tile at row 6, column 3 (pid 2539742)\n",
      "Unwrapping tile at row 6, column 4 (pid 2539744)\n",
      "Unwrapping tile at row 6, column 5 (pid 2539748)\n",
      "Unwrapping tile at row 6, column 6 (pid 2539749)\n",
      "Unwrapping tile at row 6, column 7 (pid 2539757)\n",
      "Unwrapping tile at row 6, column 8 (pid 2539758)\n",
      "Unwrapping tile at row 6, column 9 (pid 2539760)\n",
      "Unwrapping tile at row 7, column 0 (pid 2539761)\n",
      "Unwrapping tile at row 7, column 1 (pid 2539762)\n",
      "Unwrapping tile at row 7, column 2 (pid 2539763)\n",
      "Unwrapping tile at row 7, column 3 (pid 2539791)\n",
      "Unwrapping tile at row 7, column 4 (pid 2539793)\n",
      "Unwrapping tile at row 7, column 5 (pid 2539803)\n",
      "Unwrapping tile at row 7, column 6 (pid 2539804)\n",
      "Unwrapping tile at row 7, column 7 (pid 2539810)\n",
      "Unwrapping tile at row 7, column 8 (pid 2539819)\n",
      "Unwrapping tile at row 7, column 9 (pid 2539824)\n",
      "Unwrapping tile at row 8, column 0 (pid 2539828)\n",
      "Unwrapping tile at row 8, column 1 (pid 2539829)\n",
      "Unwrapping tile at row 8, column 2 (pid 2539830)\n",
      "Unwrapping tile at row 8, column 3 (pid 2539840)\n",
      "Unwrapping tile at row 8, column 4 (pid 2539844)\n",
      "Unwrapping tile at row 8, column 5 (pid 2539847)\n",
      "Unwrapping tile at row 8, column 6 (pid 2539850)\n",
      "Unwrapping tile at row 8, column 7 (pid 2539856)\n",
      "Unwrapping tile at row 8, column 8 (pid 2539864)\n",
      "Unwrapping tile at row 8, column 9 (pid 2539867)\n",
      "Unwrapping tile at row 9, column 0 (pid 2539869)\n",
      "Unwrapping tile at row 9, column 1 (pid 2539872)\n",
      "Unwrapping tile at row 9, column 2 (pid 2539874)\n",
      "Unwrapping tile at row 9, column 3 (pid 2539880)\n",
      "Unwrapping tile at row 9, column 4 (pid 2539890)\n",
      "Unwrapping tile at row 9, column 5 (pid 2539892)\n",
      "Unwrapping tile at row 9, column 6 (pid 2539895)\n",
      "Unwrapping tile at row 9, column 7 (pid 2539898)\n",
      "Unwrapping tile at row 9, column 8 (pid 2539899)\n",
      "Unwrapping tile at row 9, column 9 (pid 2539909)\n",
      "Assembling tiles\n",
      "Running optimizer for secondary network\n",
      "Number of nodes in secondary network: 16109\n",
      "Flow increment: 1  (Total improvements: 0)\n",
      "Treesize: 16109      Pivots: 20          Improvements: 5          \n",
      "Flow increment: 2  (Total improvements: 5)\n",
      "Treesize: 16109      Pivots: 0           Improvements: 0          \n",
      "Flow increment: 3  (Total improvements: 5)\n",
      "Treesize: 16109      Pivots: 0           Improvements: 0          \n",
      "Flow increment: 4  (Total improvements: 5)\n",
      "Treesize: 16109      Pivots: 0           Improvements: 0          \n",
      "Integrating secondary flows\n",
      "Output written to file UnwPhase_ifg_IW3_VV_15Mar2019_08Apr2019.snaphu.img\n",
      "Removing temporary directory snaphu_tiles_2539424\n",
      "SUGGESTION: Try increasing tile overlap and/or size if solution has edge artifacts\n",
      "Program snaphu done\n",
      "Elapsed processor time:   0:07:33.70\n",
      "Elapsed wall clock time:  0:01:48\n",
      "gpt \"./graphs/geocode_snaphuInterferogram_WGS84.xml\" -Pinterferogram_filename=\"/home/mcallegari/PROJECT_DATA/FROSTINI/test_MintPy/WCapeSenAT29_test/tmp/phase_coh_20190315_20190408.dim\" -Punw_interferogram_filename=\"/home/mcallegari/PROJECT_DATA/FROSTINI/test_MintPy/WCapeSenAT29_test/tmp/phase_coh_20190315_20190408/UnwPhase_ifg_IW3_VV_15Mar2019_08Apr2019.snaphu.hdr\" -Pphase_coh_bandnames=\"Phase_ifg_IW3_VV_15Mar2019_08Apr2019,Unw_Phase_ifg_15Mar2019_08Apr2019,coh_IW3_VV_15Mar2019_08Apr2019\" -PsaveDEM=\"false\" -Poutput_filename=\"/home/mcallegari/PROJECT_DATA/FROSTINI/test_MintPy/WCapeSenAT29_test/geocoded_interferogram_20190315_20190408.tif\"\n"
     ]
    },
    {
     "name": "stderr",
     "output_type": "stream",
     "text": [
      "51 incremental costs clipped to avoid overflow (0.001%)\n",
      "50 incremental costs clipped to avoid overflow (0.001%)\n",
      "50 incremental costs clipped to avoid overflow (0.001%)\n",
      "52 incremental costs clipped to avoid overflow (0.001%)\n",
      "INFO: org.esa.snap.core.gpf.operators.tooladapter.ToolAdapterIO: Initializing external tool adapters\n",
      "INFO: org.esa.snap.core.util.EngineVersionCheckActivator: Please check regularly for new updates for the best SNAP experience.\n"
     ]
    },
    {
     "name": "stdout",
     "output_type": "stream",
     "text": [
      "Executing processing graph\n"
     ]
    },
    {
     "name": "stderr",
     "output_type": "stream",
     "text": [
      "2342 [main] INFO hdf.hdflib.HDFLibrary - HDF4 library: \n",
      "2343 [main] INFO hdf.hdflib.HDFLibrary -  successfully loaded.\n",
      "2348 [main] INFO hdf.hdf5lib.H5 - HDF5 library: \n",
      "2348 [main] INFO hdf.hdf5lib.H5 -  successfully loaded.\n"
     ]
    },
    {
     "name": "stdout",
     "output_type": "stream",
     "text": [
      "....12%....24%....35%....47%....58%....70%....81%.... done.\n",
      "gpt \"./graphs/interferogram_sarGeometry.xml\" -Pprm_filename=\"/home/mcallegari/PROJECT_DATA/FROSTINI/test_MintPy/WCapeSenAT29_test/S1A_SLC_20190514T173427_062083_IW3_VV_201172.SAFE/manifest.safe\" -Psec_filename=\"/home/mcallegari/PROJECT_DATA/FROSTINI/test_MintPy/WCapeSenAT29_test/S1A_SLC_20190619T173428_062083_IW3_VV_205296.SAFE/manifest.safe\" -PcohWinRg=11 -PcohWinAz=3 -PnRgLooks=4 -PnAzLooks=1 -Poutput_filename=\"/home/mcallegari/PROJECT_DATA/FROSTINI/test_MintPy/WCapeSenAT29_test/tmp/phase_coh_20190514_20190619.dim\" -c 8192M\n"
     ]
    },
    {
     "name": "stderr",
     "output_type": "stream",
     "text": [
      "INFO: org.esa.snap.core.gpf.operators.tooladapter.ToolAdapterIO: Initializing external tool adapters\n",
      "INFO: org.esa.snap.core.util.EngineVersionCheckActivator: Please check regularly for new updates for the best SNAP experience.\n"
     ]
    },
    {
     "name": "stdout",
     "output_type": "stream",
     "text": [
      "Executing processing graph\n",
      "....11%....22%....33%....45%....56%....67%....78%....90% done.\n"
     ]
    },
    {
     "name": "stderr",
     "output_type": "stream",
     "text": [
      "-- org.jblas INFO Deleting /tmp/jblas13638806053208638987/libjblas_arch_flavor.so\n",
      "-- org.jblas INFO Deleting /tmp/jblas13638806053208638987/libjblas.so\n",
      "-- org.jblas INFO Deleting /tmp/jblas13638806053208638987/libgfortran-5.so\n",
      "-- org.jblas INFO Deleting /tmp/jblas13638806053208638987/libquadmath-0.so\n",
      "-- org.jblas INFO Deleting /tmp/jblas13638806053208638987\n",
      "INFO: org.esa.snap.core.gpf.operators.tooladapter.ToolAdapterIO: Initializing external tool adapters\n",
      "INFO: org.esa.snap.core.util.EngineVersionCheckActivator: Please check regularly for new updates for the best SNAP experience.\n"
     ]
    },
    {
     "name": "stdout",
     "output_type": "stream",
     "text": [
      "Executing processing graph\n",
      "...11%...22%...33%...45%...56%...67%...78%...90% done.\n",
      "snaphu -f snaphu.conf Phase_ifg_IW3_VV_14May2019_19Jun2019.snaphu.img 6120\n",
      "\n",
      "snaphu v2.0.4\n",
      "27 parameters input from file snaphu.conf (84 lines total)\n"
     ]
    },
    {
     "name": "stderr",
     "output_type": "stream",
     "text": [
      "-- org.jblas INFO Deleting /tmp/jblas688847131173247361/libjblas_arch_flavor.so\n",
      "-- org.jblas INFO Deleting /tmp/jblas688847131173247361/libjblas.so\n",
      "-- org.jblas INFO Deleting /tmp/jblas688847131173247361/libgfortran-5.so\n",
      "-- org.jblas INFO Deleting /tmp/jblas688847131173247361/libquadmath-0.so\n",
      "-- org.jblas INFO Deleting /tmp/jblas688847131173247361\n",
      "WARNING: Tile overlap is small (may give bad results)\n"
     ]
    },
    {
     "name": "stdout",
     "output_type": "stream",
     "text": [
      "Logging run-time parameters to file snaphu.log\n",
      "Creating temporary directory snaphu_tiles_2540830\n",
      "Unwrapping tile at row 0, column 0 (pid 2540835)\n",
      "Unwrapping tile at row 0, column 1 (pid 2540839)\n",
      "Unwrapping tile at row 0, column 2 (pid 2540848)\n",
      "Unwrapping tile at row 0, column 3 (pid 2540850)\n",
      "Unwrapping tile at row 0, column 4 (pid 2540854)\n",
      "Unwrapping tile at row 0, column 5 (pid 2540857)\n",
      "Unwrapping tile at row 0, column 6 (pid 2540859)\n",
      "Unwrapping tile at row 0, column 7 (pid 2540870)\n",
      "Unwrapping tile at row 0, column 8 (pid 2540872)\n",
      "Unwrapping tile at row 0, column 9 (pid 2540875)\n",
      "Unwrapping tile at row 1, column 0 (pid 2540882)\n",
      "Unwrapping tile at row 1, column 1 (pid 2540884)\n",
      "Unwrapping tile at row 1, column 2 (pid 2540885)\n",
      "Unwrapping tile at row 1, column 3 (pid 2540893)\n",
      "Unwrapping tile at row 1, column 4 (pid 2540894)\n",
      "Unwrapping tile at row 1, column 5 (pid 2540905)\n",
      "Unwrapping tile at row 1, column 6 (pid 2540906)\n",
      "Unwrapping tile at row 1, column 7 (pid 2540908)\n",
      "Unwrapping tile at row 1, column 8 (pid 2540919)\n",
      "Unwrapping tile at row 1, column 9 (pid 2540924)\n",
      "Unwrapping tile at row 2, column 0 (pid 2540933)\n",
      "Unwrapping tile at row 2, column 1 (pid 2540935)\n",
      "Unwrapping tile at row 2, column 2 (pid 2540936)\n",
      "Unwrapping tile at row 2, column 3 (pid 2540950)\n",
      "Unwrapping tile at row 2, column 4 (pid 2540952)\n",
      "Unwrapping tile at row 2, column 5 (pid 2540954)\n",
      "Unwrapping tile at row 2, column 6 (pid 2540955)\n",
      "Unwrapping tile at row 2, column 7 (pid 2540959)\n",
      "Unwrapping tile at row 2, column 8 (pid 2540971)\n",
      "Unwrapping tile at row 2, column 9 (pid 2540981)\n",
      "Unwrapping tile at row 3, column 0 (pid 2540985)\n",
      "Unwrapping tile at row 3, column 1 (pid 2540988)\n",
      "Unwrapping tile at row 3, column 2 (pid 2540989)\n",
      "Unwrapping tile at row 3, column 3 (pid 2541007)\n",
      "Unwrapping tile at row 3, column 4 (pid 2541008)\n",
      "Unwrapping tile at row 3, column 5 (pid 2541010)\n",
      "Unwrapping tile at row 3, column 6 (pid 2541011)\n",
      "Unwrapping tile at row 3, column 7 (pid 2541012)\n",
      "Unwrapping tile at row 3, column 8 (pid 2541030)\n",
      "Unwrapping tile at row 3, column 9 (pid 2541036)\n",
      "Unwrapping tile at row 4, column 0 (pid 2541042)\n",
      "Unwrapping tile at row 4, column 1 (pid 2541046)\n",
      "Unwrapping tile at row 4, column 2 (pid 2541050)\n",
      "Unwrapping tile at row 4, column 3 (pid 2541051)\n",
      "Unwrapping tile at row 4, column 4 (pid 2541059)\n",
      "Unwrapping tile at row 4, column 5 (pid 2541061)\n",
      "Unwrapping tile at row 4, column 6 (pid 2541062)\n",
      "Unwrapping tile at row 4, column 7 (pid 2541063)\n",
      "Unwrapping tile at row 4, column 8 (pid 2541066)\n",
      "Unwrapping tile at row 4, column 9 (pid 2541075)\n",
      "Unwrapping tile at row 5, column 0 (pid 2541077)\n",
      "Unwrapping tile at row 5, column 1 (pid 2541080)\n",
      "Unwrapping tile at row 5, column 2 (pid 2541081)\n",
      "Unwrapping tile at row 5, column 3 (pid 2541082)\n",
      "Unwrapping tile at row 5, column 4 (pid 2541092)\n",
      "Unwrapping tile at row 5, column 5 (pid 2541093)\n",
      "Unwrapping tile at row 5, column 6 (pid 2541096)\n",
      "Unwrapping tile at row 5, column 7 (pid 2541100)\n",
      "Unwrapping tile at row 5, column 8 (pid 2541120)\n",
      "Unwrapping tile at row 5, column 9 (pid 2541122)\n",
      "Unwrapping tile at row 6, column 0 (pid 2541125)\n",
      "Unwrapping tile at row 6, column 1 (pid 2541126)\n",
      "Unwrapping tile at row 6, column 2 (pid 2541130)\n",
      "Unwrapping tile at row 6, column 3 (pid 2541140)\n",
      "Unwrapping tile at row 6, column 4 (pid 2541141)\n",
      "Unwrapping tile at row 6, column 5 (pid 2541143)\n",
      "Unwrapping tile at row 6, column 6 (pid 2541148)\n",
      "Unwrapping tile at row 6, column 7 (pid 2541157)\n",
      "Unwrapping tile at row 6, column 8 (pid 2541158)\n",
      "Unwrapping tile at row 6, column 9 (pid 2541161)\n",
      "Unwrapping tile at row 7, column 0 (pid 2541162)\n",
      "Unwrapping tile at row 7, column 1 (pid 2541166)\n",
      "Unwrapping tile at row 7, column 2 (pid 2541176)\n",
      "Unwrapping tile at row 7, column 3 (pid 2541177)\n",
      "Unwrapping tile at row 7, column 4 (pid 2541178)\n",
      "Unwrapping tile at row 7, column 5 (pid 2541187)\n",
      "Unwrapping tile at row 7, column 6 (pid 2541198)\n",
      "Unwrapping tile at row 7, column 7 (pid 2541199)\n",
      "Unwrapping tile at row 7, column 8 (pid 2541202)\n",
      "Unwrapping tile at row 7, column 9 (pid 2541203)\n",
      "Unwrapping tile at row 8, column 0 (pid 2541206)\n",
      "Unwrapping tile at row 8, column 1 (pid 2541214)\n",
      "Unwrapping tile at row 8, column 2 (pid 2541215)\n",
      "Unwrapping tile at row 8, column 3 (pid 2541233)\n",
      "Unwrapping tile at row 8, column 4 (pid 2541243)\n",
      "Unwrapping tile at row 8, column 5 (pid 2541245)\n",
      "Unwrapping tile at row 8, column 6 (pid 2541255)\n",
      "Unwrapping tile at row 8, column 7 (pid 2541258)\n",
      "Unwrapping tile at row 8, column 8 (pid 2541261)\n",
      "Unwrapping tile at row 8, column 9 (pid 2541263)\n",
      "Unwrapping tile at row 9, column 0 (pid 2541265)\n",
      "Unwrapping tile at row 9, column 1 (pid 2541274)\n",
      "Unwrapping tile at row 9, column 2 (pid 2541275)\n",
      "Unwrapping tile at row 9, column 3 (pid 2541279)\n",
      "Unwrapping tile at row 9, column 4 (pid 2541284)\n",
      "Unwrapping tile at row 9, column 5 (pid 2541296)\n",
      "Unwrapping tile at row 9, column 6 (pid 2541297)\n",
      "Unwrapping tile at row 9, column 7 (pid 2541300)\n",
      "Unwrapping tile at row 9, column 8 (pid 2541302)\n",
      "Unwrapping tile at row 9, column 9 (pid 2541303)\n",
      "Assembling tiles\n",
      "Running optimizer for secondary network\n",
      "Number of nodes in secondary network: 23963\n",
      "Flow increment: 1  (Total improvements: 0)\n",
      "Treesize: 23963      Pivots: 2011        Improvements: 82         \n",
      "Flow increment: 2  (Total improvements: 82)\n",
      "Treesize: 23963      Pivots: 0           Improvements: 0          \n",
      "Flow increment: 3  (Total improvements: 82)\n",
      "Treesize: 23963      Pivots: 0           Improvements: 0          \n",
      "Flow increment: 4  (Total improvements: 82)\n",
      "Treesize: 23963      Pivots: 0           Improvements: 0          \n",
      "Integrating secondary flows\n",
      "Output written to file UnwPhase_ifg_IW3_VV_14May2019_19Jun2019.snaphu.img\n",
      "Removing temporary directory snaphu_tiles_2540830\n",
      "SUGGESTION: Try increasing tile overlap and/or size if solution has edge artifacts\n",
      "Program snaphu done\n",
      "Elapsed processor time:   0:10:06.82\n",
      "Elapsed wall clock time:  0:01:57\n",
      "gpt \"./graphs/geocode_snaphuInterferogram_WGS84.xml\" -Pinterferogram_filename=\"/home/mcallegari/PROJECT_DATA/FROSTINI/test_MintPy/WCapeSenAT29_test/tmp/phase_coh_20190514_20190619.dim\" -Punw_interferogram_filename=\"/home/mcallegari/PROJECT_DATA/FROSTINI/test_MintPy/WCapeSenAT29_test/tmp/phase_coh_20190514_20190619/UnwPhase_ifg_IW3_VV_14May2019_19Jun2019.snaphu.hdr\" -Pphase_coh_bandnames=\"Phase_ifg_IW3_VV_14May2019_19Jun2019,Unw_Phase_ifg_14May2019_19Jun2019,coh_IW3_VV_14May2019_19Jun2019\" -PsaveDEM=\"false\" -Poutput_filename=\"/home/mcallegari/PROJECT_DATA/FROSTINI/test_MintPy/WCapeSenAT29_test/geocoded_interferogram_20190514_20190619.tif\"\n"
     ]
    },
    {
     "name": "stderr",
     "output_type": "stream",
     "text": [
      "50 incremental costs clipped to avoid overflow (0.001%)\n",
      "50 incremental costs clipped to avoid overflow (0.001%)\n",
      "50 incremental costs clipped to avoid overflow (0.001%)\n",
      "50 incremental costs clipped to avoid overflow (0.001%)\n",
      "INFO: org.esa.snap.core.gpf.operators.tooladapter.ToolAdapterIO: Initializing external tool adapters\n",
      "INFO: org.esa.snap.core.util.EngineVersionCheckActivator: Please check regularly for new updates for the best SNAP experience.\n"
     ]
    },
    {
     "name": "stdout",
     "output_type": "stream",
     "text": [
      "Executing processing graph\n"
     ]
    },
    {
     "name": "stderr",
     "output_type": "stream",
     "text": [
      "1961 [main] INFO hdf.hdflib.HDFLibrary - HDF4 library: \n",
      "1961 [main] INFO hdf.hdflib.HDFLibrary -  successfully loaded.\n",
      "1965 [main] INFO hdf.hdf5lib.H5 - HDF5 library: \n",
      "1965 [main] INFO hdf.hdf5lib.H5 -  successfully loaded.\n"
     ]
    },
    {
     "name": "stdout",
     "output_type": "stream",
     "text": [
      "....12%....24%....35%....47%....58%....70%....81%.... done.\n",
      "gpt \"./graphs/interferogram_sarGeometry.xml\" -Pprm_filename=\"/home/mcallegari/PROJECT_DATA/FROSTINI/test_MintPy/WCapeSenAT29_test/S1A_SLC_20190514T173427_062083_IW3_VV_201172.SAFE/manifest.safe\" -Psec_filename=\"/home/mcallegari/PROJECT_DATA/FROSTINI/test_MintPy/WCapeSenAT29_test/S1A_SLC_20190526T173427_062083_IW3_VV_202568.SAFE/manifest.safe\" -PcohWinRg=11 -PcohWinAz=3 -PnRgLooks=4 -PnAzLooks=1 -Poutput_filename=\"/home/mcallegari/PROJECT_DATA/FROSTINI/test_MintPy/WCapeSenAT29_test/tmp/phase_coh_20190514_20190526.dim\" -c 8192M\n"
     ]
    },
    {
     "name": "stderr",
     "output_type": "stream",
     "text": [
      "INFO: org.esa.snap.core.gpf.operators.tooladapter.ToolAdapterIO: Initializing external tool adapters\n",
      "INFO: org.esa.snap.core.util.EngineVersionCheckActivator: Please check regularly for new updates for the best SNAP experience.\n"
     ]
    },
    {
     "name": "stdout",
     "output_type": "stream",
     "text": [
      "Executing processing graph\n",
      "....11%....22%....33%....45%....56%....67%....78%....90% done.\n"
     ]
    },
    {
     "name": "stderr",
     "output_type": "stream",
     "text": [
      "-- org.jblas INFO Deleting /tmp/jblas14052500391084686266/libjblas_arch_flavor.so\n",
      "-- org.jblas INFO Deleting /tmp/jblas14052500391084686266/libjblas.so\n",
      "-- org.jblas INFO Deleting /tmp/jblas14052500391084686266/libgfortran-5.so\n",
      "-- org.jblas INFO Deleting /tmp/jblas14052500391084686266/libquadmath-0.so\n",
      "-- org.jblas INFO Deleting /tmp/jblas14052500391084686266\n",
      "INFO: org.esa.snap.core.gpf.operators.tooladapter.ToolAdapterIO: Initializing external tool adapters\n",
      "INFO: org.esa.snap.core.util.EngineVersionCheckActivator: Please check regularly for new updates for the best SNAP experience.\n"
     ]
    },
    {
     "name": "stdout",
     "output_type": "stream",
     "text": [
      "Executing processing graph\n",
      "...11%...22%...33%...45%...56%...67%...78%...90% done.\n"
     ]
    },
    {
     "name": "stderr",
     "output_type": "stream",
     "text": [
      "-- org.jblas INFO Deleting /tmp/jblas4942973534554606215/libjblas_arch_flavor.so\n",
      "-- org.jblas INFO Deleting /tmp/jblas4942973534554606215/libjblas.so\n",
      "-- org.jblas INFO Deleting /tmp/jblas4942973534554606215/libgfortran-5.so\n",
      "-- org.jblas INFO Deleting /tmp/jblas4942973534554606215/libquadmath-0.so\n",
      "-- org.jblas INFO Deleting /tmp/jblas4942973534554606215\n",
      "WARNING: Tile overlap is small (may give bad results)\n"
     ]
    },
    {
     "name": "stdout",
     "output_type": "stream",
     "text": [
      "snaphu -f snaphu.conf Phase_ifg_IW3_VV_14May2019_26May2019.snaphu.img 6120\n",
      "\n",
      "snaphu v2.0.4\n",
      "27 parameters input from file snaphu.conf (84 lines total)\n",
      "Logging run-time parameters to file snaphu.log\n",
      "Creating temporary directory snaphu_tiles_2542212\n",
      "Unwrapping tile at row 0, column 0 (pid 2542218)\n",
      "Unwrapping tile at row 0, column 1 (pid 2542221)\n",
      "Unwrapping tile at row 0, column 2 (pid 2542223)\n",
      "Unwrapping tile at row 0, column 3 (pid 2542233)\n",
      "Unwrapping tile at row 0, column 4 (pid 2542238)\n",
      "Unwrapping tile at row 0, column 5 (pid 2542240)\n",
      "Unwrapping tile at row 0, column 6 (pid 2542242)\n",
      "Unwrapping tile at row 0, column 7 (pid 2542247)\n",
      "Unwrapping tile at row 0, column 8 (pid 2542266)\n",
      "Unwrapping tile at row 0, column 9 (pid 2542269)\n",
      "Unwrapping tile at row 1, column 0 (pid 2542273)\n",
      "Unwrapping tile at row 1, column 1 (pid 2542280)\n",
      "Unwrapping tile at row 1, column 2 (pid 2542282)\n",
      "Unwrapping tile at row 1, column 3 (pid 2542292)\n",
      "Unwrapping tile at row 1, column 4 (pid 2542293)\n",
      "Unwrapping tile at row 1, column 5 (pid 2542294)\n",
      "Unwrapping tile at row 1, column 6 (pid 2542295)\n",
      "Unwrapping tile at row 1, column 7 (pid 2542299)\n",
      "Unwrapping tile at row 1, column 8 (pid 2542308)\n",
      "Unwrapping tile at row 1, column 9 (pid 2542310)\n",
      "Unwrapping tile at row 2, column 0 (pid 2542326)\n",
      "Unwrapping tile at row 2, column 1 (pid 2542331)\n",
      "Unwrapping tile at row 2, column 2 (pid 2542333)\n",
      "Unwrapping tile at row 2, column 3 (pid 2542335)\n",
      "Unwrapping tile at row 2, column 4 (pid 2542344)\n",
      "Unwrapping tile at row 2, column 5 (pid 2542346)\n",
      "Unwrapping tile at row 2, column 6 (pid 2542347)\n",
      "Unwrapping tile at row 2, column 7 (pid 2542349)\n",
      "Unwrapping tile at row 2, column 8 (pid 2542351)\n",
      "Unwrapping tile at row 2, column 9 (pid 2542363)\n",
      "Unwrapping tile at row 3, column 0 (pid 2542364)\n",
      "Unwrapping tile at row 3, column 1 (pid 2542367)\n",
      "Unwrapping tile at row 3, column 2 (pid 2542370)\n",
      "Unwrapping tile at row 3, column 3 (pid 2542372)\n",
      "Unwrapping tile at row 3, column 4 (pid 2542386)\n",
      "Unwrapping tile at row 3, column 5 (pid 2542387)\n",
      "Unwrapping tile at row 3, column 6 (pid 2542390)\n",
      "Unwrapping tile at row 3, column 7 (pid 2542392)\n",
      "Unwrapping tile at row 3, column 8 (pid 2542413)\n",
      "Unwrapping tile at row 3, column 9 (pid 2542414)\n",
      "Unwrapping tile at row 4, column 0 (pid 2542415)\n",
      "Unwrapping tile at row 4, column 1 (pid 2542420)\n",
      "Unwrapping tile at row 4, column 2 (pid 2542422)\n",
      "Unwrapping tile at row 4, column 3 (pid 2542431)\n",
      "Unwrapping tile at row 4, column 4 (pid 2542433)\n",
      "Unwrapping tile at row 4, column 5 (pid 2542435)\n",
      "Unwrapping tile at row 4, column 6 (pid 2542437)\n",
      "Unwrapping tile at row 4, column 7 (pid 2542440)\n",
      "Unwrapping tile at row 4, column 8 (pid 2542448)\n",
      "Unwrapping tile at row 4, column 9 (pid 2542454)\n",
      "Unwrapping tile at row 5, column 0 (pid 2542455)\n",
      "Unwrapping tile at row 5, column 1 (pid 2542464)\n",
      "Unwrapping tile at row 5, column 2 (pid 2542465)\n",
      "Unwrapping tile at row 5, column 3 (pid 2542471)\n",
      "Unwrapping tile at row 5, column 4 (pid 2542473)\n",
      "Unwrapping tile at row 5, column 5 (pid 2542475)\n",
      "Unwrapping tile at row 5, column 6 (pid 2542477)\n",
      "Unwrapping tile at row 5, column 7 (pid 2542486)\n",
      "Unwrapping tile at row 5, column 8 (pid 2542491)\n",
      "Unwrapping tile at row 5, column 9 (pid 2542493)\n",
      "Unwrapping tile at row 6, column 0 (pid 2542511)\n",
      "Unwrapping tile at row 6, column 1 (pid 2542521)\n",
      "Unwrapping tile at row 6, column 2 (pid 2542531)\n",
      "Unwrapping tile at row 6, column 3 (pid 2542533)\n",
      "Unwrapping tile at row 6, column 4 (pid 2542534)\n",
      "Unwrapping tile at row 6, column 5 (pid 2542545)\n",
      "Unwrapping tile at row 6, column 6 (pid 2542546)\n",
      "Unwrapping tile at row 6, column 7 (pid 2542548)\n",
      "Unwrapping tile at row 6, column 8 (pid 2542551)\n",
      "Unwrapping tile at row 6, column 9 (pid 2542564)\n",
      "Unwrapping tile at row 7, column 0 (pid 2542569)\n",
      "Unwrapping tile at row 7, column 1 (pid 2542570)\n",
      "Unwrapping tile at row 7, column 2 (pid 2542581)\n",
      "Unwrapping tile at row 7, column 3 (pid 2542583)\n",
      "Unwrapping tile at row 7, column 4 (pid 2542586)\n",
      "Unwrapping tile at row 7, column 5 (pid 2542588)\n",
      "Unwrapping tile at row 7, column 6 (pid 2542592)\n",
      "Unwrapping tile at row 7, column 7 (pid 2542593)\n",
      "Unwrapping tile at row 7, column 8 (pid 2542605)\n",
      "Unwrapping tile at row 7, column 9 (pid 2542608)\n",
      "Unwrapping tile at row 8, column 0 (pid 2542610)\n",
      "Unwrapping tile at row 8, column 1 (pid 2542618)\n",
      "Unwrapping tile at row 8, column 2 (pid 2542620)\n",
      "Unwrapping tile at row 8, column 3 (pid 2542625)\n",
      "Unwrapping tile at row 8, column 4 (pid 2542627)\n",
      "Unwrapping tile at row 8, column 5 (pid 2542628)\n",
      "Unwrapping tile at row 8, column 6 (pid 2542648)\n",
      "Unwrapping tile at row 8, column 7 (pid 2542653)\n",
      "Unwrapping tile at row 8, column 8 (pid 2542659)\n",
      "Unwrapping tile at row 8, column 9 (pid 2542670)\n",
      "Unwrapping tile at row 9, column 0 (pid 2542672)\n",
      "Unwrapping tile at row 9, column 1 (pid 2542673)\n",
      "Unwrapping tile at row 9, column 2 (pid 2542678)\n",
      "Unwrapping tile at row 9, column 3 (pid 2542679)\n",
      "Unwrapping tile at row 9, column 4 (pid 2542689)\n",
      "Unwrapping tile at row 9, column 5 (pid 2542691)\n",
      "Unwrapping tile at row 9, column 6 (pid 2542693)\n",
      "Unwrapping tile at row 9, column 7 (pid 2542694)\n",
      "Unwrapping tile at row 9, column 8 (pid 2542697)\n",
      "Unwrapping tile at row 9, column 9 (pid 2542701)\n",
      "Assembling tiles\n",
      "Running optimizer for secondary network\n",
      "Number of nodes in secondary network: 14084\n",
      "Flow increment: 1  (Total improvements: 0)\n",
      "Treesize: 14084      Pivots: 1815        Improvements: 50         \n",
      "Flow increment: 2  (Total improvements: 50)\n",
      "Treesize: 14084      Pivots: 0           Improvements: 0          \n",
      "Flow increment: 3  (Total improvements: 50)\n",
      "Treesize: 14084      Pivots: 0           Improvements: 0          \n",
      "Flow increment: 4  (Total improvements: 50)\n",
      "Treesize: 14084      Pivots: 0           Improvements: 0          \n",
      "Integrating secondary flows\n",
      "Output written to file UnwPhase_ifg_IW3_VV_14May2019_26May2019.snaphu.img\n",
      "Removing temporary directory snaphu_tiles_2542212\n",
      "SUGGESTION: Try increasing tile overlap and/or size if solution has edge artifacts\n",
      "Program snaphu done\n",
      "Elapsed processor time:   0:07:06.72\n",
      "Elapsed wall clock time:  0:02:00\n",
      "gpt \"./graphs/geocode_snaphuInterferogram_WGS84.xml\" -Pinterferogram_filename=\"/home/mcallegari/PROJECT_DATA/FROSTINI/test_MintPy/WCapeSenAT29_test/tmp/phase_coh_20190514_20190526.dim\" -Punw_interferogram_filename=\"/home/mcallegari/PROJECT_DATA/FROSTINI/test_MintPy/WCapeSenAT29_test/tmp/phase_coh_20190514_20190526/UnwPhase_ifg_IW3_VV_14May2019_26May2019.snaphu.hdr\" -Pphase_coh_bandnames=\"Phase_ifg_IW3_VV_14May2019_26May2019,Unw_Phase_ifg_14May2019_26May2019,coh_IW3_VV_14May2019_26May2019\" -PsaveDEM=\"false\" -Poutput_filename=\"/home/mcallegari/PROJECT_DATA/FROSTINI/test_MintPy/WCapeSenAT29_test/geocoded_interferogram_20190514_20190526.tif\"\n"
     ]
    },
    {
     "name": "stderr",
     "output_type": "stream",
     "text": [
      "51 incremental costs clipped to avoid overflow (0.001%)\n",
      "52 incremental costs clipped to avoid overflow (0.001%)\n",
      "52 incremental costs clipped to avoid overflow (0.001%)\n",
      "52 incremental costs clipped to avoid overflow (0.001%)\n",
      "INFO: org.esa.snap.core.gpf.operators.tooladapter.ToolAdapterIO: Initializing external tool adapters\n",
      "INFO: org.esa.snap.core.util.EngineVersionCheckActivator: Please check regularly for new updates for the best SNAP experience.\n"
     ]
    },
    {
     "name": "stdout",
     "output_type": "stream",
     "text": [
      "Executing processing graph\n"
     ]
    },
    {
     "name": "stderr",
     "output_type": "stream",
     "text": [
      "1859 [main] INFO hdf.hdflib.HDFLibrary - HDF4 library: \n",
      "1860 [main] INFO hdf.hdflib.HDFLibrary -  successfully loaded.\n",
      "1863 [main] INFO hdf.hdf5lib.H5 - HDF5 library: \n",
      "1863 [main] INFO hdf.hdf5lib.H5 -  successfully loaded.\n"
     ]
    },
    {
     "name": "stdout",
     "output_type": "stream",
     "text": [
      "....12%....24%....35%....47%....58%....70%....81%.... done.\n",
      "gpt \"./graphs/interferogram_sarGeometry.xml\" -Pprm_filename=\"/home/mcallegari/PROJECT_DATA/FROSTINI/test_MintPy/WCapeSenAT29_test/S1A_SLC_20190420T173426_062083_IW3_VV_198063.SAFE/manifest.safe\" -Psec_filename=\"/home/mcallegari/PROJECT_DATA/FROSTINI/test_MintPy/WCapeSenAT29_test/S1A_SLC_20190526T173427_062083_IW3_VV_202568.SAFE/manifest.safe\" -PcohWinRg=11 -PcohWinAz=3 -PnRgLooks=4 -PnAzLooks=1 -Poutput_filename=\"/home/mcallegari/PROJECT_DATA/FROSTINI/test_MintPy/WCapeSenAT29_test/tmp/phase_coh_20190420_20190526.dim\" -c 8192M\n"
     ]
    },
    {
     "name": "stderr",
     "output_type": "stream",
     "text": [
      "INFO: org.esa.snap.core.gpf.operators.tooladapter.ToolAdapterIO: Initializing external tool adapters\n",
      "INFO: org.esa.snap.core.util.EngineVersionCheckActivator: Please check regularly for new updates for the best SNAP experience.\n"
     ]
    },
    {
     "name": "stdout",
     "output_type": "stream",
     "text": [
      "Executing processing graph\n",
      "....11%....22%....33%....45%....56%....67%....78%....90% done.\n"
     ]
    },
    {
     "name": "stderr",
     "output_type": "stream",
     "text": [
      "-- org.jblas INFO Deleting /tmp/jblas17799981732156169945/libjblas_arch_flavor.so\n",
      "-- org.jblas INFO Deleting /tmp/jblas17799981732156169945/libjblas.so\n",
      "-- org.jblas INFO Deleting /tmp/jblas17799981732156169945/libgfortran-5.so\n",
      "-- org.jblas INFO Deleting /tmp/jblas17799981732156169945/libquadmath-0.so\n",
      "-- org.jblas INFO Deleting /tmp/jblas17799981732156169945\n",
      "INFO: org.esa.snap.core.gpf.operators.tooladapter.ToolAdapterIO: Initializing external tool adapters\n",
      "INFO: org.esa.snap.core.util.EngineVersionCheckActivator: Please check regularly for new updates for the best SNAP experience.\n"
     ]
    },
    {
     "name": "stdout",
     "output_type": "stream",
     "text": [
      "Executing processing graph\n",
      "...11%...22%...33%...45%...56%...67%...78%...90% done.\n",
      "snaphu -f snaphu.conf Phase_ifg_IW3_VV_20Apr2019_26May2019.snaphu.img 6120\n",
      "\n",
      "snaphu v2.0.4\n",
      "27 parameters input from file snaphu.conf (84 lines total)\n"
     ]
    },
    {
     "name": "stderr",
     "output_type": "stream",
     "text": [
      "-- org.jblas INFO Deleting /tmp/jblas8995094223757372591/libjblas_arch_flavor.so\n",
      "-- org.jblas INFO Deleting /tmp/jblas8995094223757372591/libjblas.so\n",
      "-- org.jblas INFO Deleting /tmp/jblas8995094223757372591/libgfortran-5.so\n",
      "-- org.jblas INFO Deleting /tmp/jblas8995094223757372591/libquadmath-0.so\n",
      "-- org.jblas INFO Deleting /tmp/jblas8995094223757372591\n",
      "WARNING: Tile overlap is small (may give bad results)\n"
     ]
    },
    {
     "name": "stdout",
     "output_type": "stream",
     "text": [
      "Logging run-time parameters to file snaphu.log\n",
      "Creating temporary directory snaphu_tiles_2543673\n",
      "Unwrapping tile at row 0, column 0 (pid 2543684)\n",
      "Unwrapping tile at row 0, column 1 (pid 2543687)\n",
      "Unwrapping tile at row 0, column 2 (pid 2543689)\n",
      "Unwrapping tile at row 0, column 3 (pid 2543693)\n",
      "Unwrapping tile at row 0, column 4 (pid 2543699)\n",
      "Unwrapping tile at row 0, column 5 (pid 2543709)\n",
      "Unwrapping tile at row 0, column 6 (pid 2543711)\n",
      "Unwrapping tile at row 0, column 7 (pid 2543716)\n",
      "Unwrapping tile at row 0, column 8 (pid 2543720)\n",
      "Unwrapping tile at row 0, column 9 (pid 2543722)\n",
      "Unwrapping tile at row 1, column 0 (pid 2543733)\n",
      "Unwrapping tile at row 1, column 1 (pid 2543739)\n",
      "Unwrapping tile at row 1, column 2 (pid 2543740)\n",
      "Unwrapping tile at row 1, column 3 (pid 2543742)\n",
      "Unwrapping tile at row 1, column 4 (pid 2543745)\n",
      "Unwrapping tile at row 1, column 5 (pid 2543755)\n",
      "Unwrapping tile at row 1, column 6 (pid 2543762)\n",
      "Unwrapping tile at row 1, column 7 (pid 2543764)\n",
      "Unwrapping tile at row 1, column 8 (pid 2543765)\n",
      "Unwrapping tile at row 1, column 9 (pid 2543767)\n",
      "Unwrapping tile at row 2, column 0 (pid 2543774)\n",
      "Unwrapping tile at row 2, column 1 (pid 2543776)\n",
      "Unwrapping tile at row 2, column 2 (pid 2543777)\n",
      "Unwrapping tile at row 2, column 3 (pid 2543783)\n",
      "Unwrapping tile at row 2, column 4 (pid 2543792)\n",
      "Unwrapping tile at row 2, column 5 (pid 2543813)\n",
      "Unwrapping tile at row 2, column 6 (pid 2543825)\n",
      "Unwrapping tile at row 2, column 7 (pid 2543827)\n",
      "Unwrapping tile at row 2, column 8 (pid 2543828)\n",
      "Unwrapping tile at row 2, column 9 (pid 2543836)\n",
      "Unwrapping tile at row 3, column 0 (pid 2543838)\n",
      "Unwrapping tile at row 3, column 1 (pid 2543840)\n",
      "Unwrapping tile at row 3, column 2 (pid 2543841)\n",
      "Unwrapping tile at row 3, column 3 (pid 2543844)\n",
      "Unwrapping tile at row 3, column 4 (pid 2543845)\n",
      "Unwrapping tile at row 3, column 5 (pid 2543858)\n",
      "Unwrapping tile at row 3, column 6 (pid 2543864)\n",
      "Unwrapping tile at row 3, column 7 (pid 2543866)\n",
      "Unwrapping tile at row 3, column 8 (pid 2543868)\n",
      "Unwrapping tile at row 3, column 9 (pid 2543869)\n",
      "Unwrapping tile at row 4, column 0 (pid 2543877)\n",
      "Unwrapping tile at row 4, column 1 (pid 2543879)\n",
      "Unwrapping tile at row 4, column 2 (pid 2543880)\n",
      "Unwrapping tile at row 4, column 3 (pid 2543882)\n",
      "Unwrapping tile at row 4, column 4 (pid 2543886)\n",
      "Unwrapping tile at row 4, column 5 (pid 2543897)\n",
      "Unwrapping tile at row 4, column 6 (pid 2543899)\n",
      "Unwrapping tile at row 4, column 7 (pid 2543901)\n",
      "Unwrapping tile at row 4, column 8 (pid 2543902)\n",
      "Unwrapping tile at row 4, column 9 (pid 2543911)\n",
      "Unwrapping tile at row 5, column 0 (pid 2543912)\n",
      "Unwrapping tile at row 5, column 1 (pid 2543914)\n",
      "Unwrapping tile at row 5, column 2 (pid 2543915)\n",
      "Unwrapping tile at row 5, column 3 (pid 2543918)\n",
      "Unwrapping tile at row 5, column 4 (pid 2543922)\n",
      "Unwrapping tile at row 5, column 5 (pid 2543940)\n",
      "Unwrapping tile at row 5, column 6 (pid 2543941)\n",
      "Unwrapping tile at row 5, column 7 (pid 2543942)\n",
      "Unwrapping tile at row 5, column 8 (pid 2543943)\n",
      "Unwrapping tile at row 5, column 9 (pid 2543945)\n",
      "Unwrapping tile at row 6, column 0 (pid 2543954)\n",
      "Unwrapping tile at row 6, column 1 (pid 2543955)\n",
      "Unwrapping tile at row 6, column 2 (pid 2543956)\n",
      "Unwrapping tile at row 6, column 3 (pid 2543958)\n",
      "Unwrapping tile at row 6, column 4 (pid 2543963)\n",
      "Unwrapping tile at row 6, column 5 (pid 2543974)\n",
      "Unwrapping tile at row 6, column 6 (pid 2543975)\n",
      "Unwrapping tile at row 6, column 7 (pid 2543976)\n",
      "Unwrapping tile at row 6, column 8 (pid 2543978)\n",
      "Unwrapping tile at row 6, column 9 (pid 2543988)\n",
      "Unwrapping tile at row 7, column 0 (pid 2543989)\n",
      "Unwrapping tile at row 7, column 1 (pid 2543992)\n",
      "Unwrapping tile at row 7, column 2 (pid 2543993)\n",
      "Unwrapping tile at row 7, column 3 (pid 2543999)\n",
      "Unwrapping tile at row 7, column 4 (pid 2544009)\n",
      "Unwrapping tile at row 7, column 5 (pid 2544010)\n",
      "Unwrapping tile at row 7, column 6 (pid 2544011)\n",
      "Unwrapping tile at row 7, column 7 (pid 2544013)\n",
      "Unwrapping tile at row 7, column 8 (pid 2544014)\n",
      "Unwrapping tile at row 7, column 9 (pid 2544023)\n",
      "Unwrapping tile at row 8, column 0 (pid 2544024)\n",
      "Unwrapping tile at row 8, column 1 (pid 2544027)\n",
      "Unwrapping tile at row 8, column 2 (pid 2544039)\n",
      "Unwrapping tile at row 8, column 3 (pid 2544049)\n",
      "Unwrapping tile at row 8, column 4 (pid 2544058)\n",
      "Unwrapping tile at row 8, column 5 (pid 2544059)\n",
      "Unwrapping tile at row 8, column 6 (pid 2544060)\n",
      "Unwrapping tile at row 8, column 7 (pid 2544062)\n",
      "Unwrapping tile at row 8, column 8 (pid 2544071)\n",
      "Unwrapping tile at row 8, column 9 (pid 2544073)\n",
      "Unwrapping tile at row 9, column 0 (pid 2544076)\n",
      "Unwrapping tile at row 9, column 1 (pid 2544082)\n",
      "Unwrapping tile at row 9, column 2 (pid 2544086)\n",
      "Unwrapping tile at row 9, column 3 (pid 2544098)\n",
      "Unwrapping tile at row 9, column 4 (pid 2544099)\n",
      "Unwrapping tile at row 9, column 5 (pid 2544107)\n",
      "Unwrapping tile at row 9, column 6 (pid 2544109)\n",
      "Unwrapping tile at row 9, column 7 (pid 2544119)\n",
      "Unwrapping tile at row 9, column 8 (pid 2544120)\n",
      "Unwrapping tile at row 9, column 9 (pid 2544123)\n",
      "Assembling tiles\n",
      "Running optimizer for secondary network\n",
      "Number of nodes in secondary network: 25572\n",
      "Flow increment: 1  (Total improvements: 0)\n",
      "Treesize: 25572      Pivots: 1632        Improvements: 59         \n",
      "Flow increment: 2  (Total improvements: 59)\n",
      "Treesize: 25572      Pivots: 0           Improvements: 0          \n",
      "Flow increment: 3  (Total improvements: 59)\n",
      "Treesize: 25572      Pivots: 0           Improvements: 0          \n",
      "Flow increment: 4  (Total improvements: 59)\n",
      "Treesize: 25572      Pivots: 0           Improvements: 0          \n"
     ]
    },
    {
     "name": "stderr",
     "output_type": "stream",
     "text": [
      "34 incremental costs clipped to avoid overflow (0.000%)\n",
      "34 incremental costs clipped to avoid overflow (0.000%)\n",
      "34 incremental costs clipped to avoid overflow (0.000%)\n",
      "34 incremental costs clipped to avoid overflow (0.000%)\n"
     ]
    },
    {
     "name": "stdout",
     "output_type": "stream",
     "text": [
      "Integrating secondary flows\n",
      "Output written to file UnwPhase_ifg_IW3_VV_20Apr2019_26May2019.snaphu.img\n",
      "Removing temporary directory snaphu_tiles_2543673\n",
      "SUGGESTION: Try increasing tile overlap and/or size if solution has edge artifacts\n",
      "Program snaphu done\n",
      "Elapsed processor time:   0:10:16.84\n",
      "Elapsed wall clock time:  0:01:58\n",
      "gpt \"./graphs/geocode_snaphuInterferogram_WGS84.xml\" -Pinterferogram_filename=\"/home/mcallegari/PROJECT_DATA/FROSTINI/test_MintPy/WCapeSenAT29_test/tmp/phase_coh_20190420_20190526.dim\" -Punw_interferogram_filename=\"/home/mcallegari/PROJECT_DATA/FROSTINI/test_MintPy/WCapeSenAT29_test/tmp/phase_coh_20190420_20190526/UnwPhase_ifg_IW3_VV_20Apr2019_26May2019.snaphu.hdr\" -Pphase_coh_bandnames=\"Phase_ifg_IW3_VV_20Apr2019_26May2019,Unw_Phase_ifg_20Apr2019_26May2019,coh_IW3_VV_20Apr2019_26May2019\" -PsaveDEM=\"false\" -Poutput_filename=\"/home/mcallegari/PROJECT_DATA/FROSTINI/test_MintPy/WCapeSenAT29_test/geocoded_interferogram_20190420_20190526.tif\"\n"
     ]
    },
    {
     "name": "stderr",
     "output_type": "stream",
     "text": [
      "INFO: org.esa.snap.core.gpf.operators.tooladapter.ToolAdapterIO: Initializing external tool adapters\n",
      "INFO: org.esa.snap.core.util.EngineVersionCheckActivator: Please check regularly for new updates for the best SNAP experience.\n"
     ]
    },
    {
     "name": "stdout",
     "output_type": "stream",
     "text": [
      "Executing processing graph\n"
     ]
    },
    {
     "name": "stderr",
     "output_type": "stream",
     "text": [
      "1864 [main] INFO hdf.hdflib.HDFLibrary - HDF4 library: \n",
      "1864 [main] INFO hdf.hdflib.HDFLibrary -  successfully loaded.\n",
      "1868 [main] INFO hdf.hdf5lib.H5 - HDF5 library: \n",
      "1868 [main] INFO hdf.hdf5lib.H5 -  successfully loaded.\n"
     ]
    },
    {
     "name": "stdout",
     "output_type": "stream",
     "text": [
      "....12%....24%....35%....47%....58%....70%....81%.... done.\n",
      "gpt \"./graphs/interferogram_sarGeometry.xml\" -Pprm_filename=\"/home/mcallegari/PROJECT_DATA/FROSTINI/test_MintPy/WCapeSenAT29_test/S1A_SLC_20190303T173425_062083_IW3_VV_191506.SAFE/manifest.safe\" -Psec_filename=\"/home/mcallegari/PROJECT_DATA/FROSTINI/test_MintPy/WCapeSenAT29_test/S1A_SLC_20190408T173425_062083_IW3_VV_196444.SAFE/manifest.safe\" -PcohWinRg=11 -PcohWinAz=3 -PnRgLooks=4 -PnAzLooks=1 -Poutput_filename=\"/home/mcallegari/PROJECT_DATA/FROSTINI/test_MintPy/WCapeSenAT29_test/tmp/phase_coh_20190303_20190408.dim\" -c 8192M\n"
     ]
    },
    {
     "name": "stderr",
     "output_type": "stream",
     "text": [
      "INFO: org.esa.snap.core.gpf.operators.tooladapter.ToolAdapterIO: Initializing external tool adapters\n",
      "INFO: org.esa.snap.core.util.EngineVersionCheckActivator: Please check regularly for new updates for the best SNAP experience.\n"
     ]
    },
    {
     "name": "stdout",
     "output_type": "stream",
     "text": [
      "Executing processing graph\n",
      "....11%....22%....33%....45%....56%....67%....78%....90% done.\n"
     ]
    },
    {
     "name": "stderr",
     "output_type": "stream",
     "text": [
      "-- org.jblas INFO Deleting /tmp/jblas14679107145853887092/libjblas_arch_flavor.so\n",
      "-- org.jblas INFO Deleting /tmp/jblas14679107145853887092/libjblas.so\n",
      "-- org.jblas INFO Deleting /tmp/jblas14679107145853887092/libgfortran-5.so\n",
      "-- org.jblas INFO Deleting /tmp/jblas14679107145853887092/libquadmath-0.so\n",
      "-- org.jblas INFO Deleting /tmp/jblas14679107145853887092\n",
      "INFO: org.esa.snap.core.gpf.operators.tooladapter.ToolAdapterIO: Initializing external tool adapters\n",
      "INFO: org.esa.snap.core.util.EngineVersionCheckActivator: Please check regularly for new updates for the best SNAP experience.\n"
     ]
    },
    {
     "name": "stdout",
     "output_type": "stream",
     "text": [
      "Executing processing graph\n",
      "...11%...22%...33%...45%...56%...67%...78%...90% done.\n",
      "snaphu -f snaphu.conf Phase_ifg_IW3_VV_03Mar2019_08Apr2019.snaphu.img 6120\n",
      "\n",
      "snaphu v2.0.4\n",
      "27 parameters input from file snaphu.conf (84 lines total)\n"
     ]
    },
    {
     "name": "stderr",
     "output_type": "stream",
     "text": [
      "-- org.jblas INFO Deleting /tmp/jblas5203209542601616751/libjblas_arch_flavor.so\n",
      "-- org.jblas INFO Deleting /tmp/jblas5203209542601616751/libjblas.so\n",
      "-- org.jblas INFO Deleting /tmp/jblas5203209542601616751/libgfortran-5.so\n",
      "-- org.jblas INFO Deleting /tmp/jblas5203209542601616751/libquadmath-0.so\n",
      "-- org.jblas INFO Deleting /tmp/jblas5203209542601616751\n",
      "WARNING: Tile overlap is small (may give bad results)\n"
     ]
    },
    {
     "name": "stdout",
     "output_type": "stream",
     "text": [
      "Logging run-time parameters to file snaphu.log\n",
      "Creating temporary directory snaphu_tiles_2545099\n",
      "Unwrapping tile at row 0, column 0 (pid 2545111)\n",
      "Unwrapping tile at row 0, column 1 (pid 2545114)\n",
      "Unwrapping tile at row 0, column 2 (pid 2545117)\n",
      "Unwrapping tile at row 0, column 3 (pid 2545119)\n",
      "Unwrapping tile at row 0, column 4 (pid 2545128)\n",
      "Unwrapping tile at row 0, column 5 (pid 2545131)\n",
      "Unwrapping tile at row 0, column 6 (pid 2545141)\n",
      "Unwrapping tile at row 0, column 7 (pid 2545145)\n",
      "Unwrapping tile at row 0, column 8 (pid 2545147)\n",
      "Unwrapping tile at row 0, column 9 (pid 2545149)\n",
      "Unwrapping tile at row 1, column 0 (pid 2545154)\n",
      "Unwrapping tile at row 1, column 1 (pid 2545162)\n",
      "Unwrapping tile at row 1, column 2 (pid 2545163)\n",
      "Unwrapping tile at row 1, column 3 (pid 2545165)\n",
      "Unwrapping tile at row 1, column 4 (pid 2545167)\n",
      "Unwrapping tile at row 1, column 5 (pid 2545171)\n",
      "Unwrapping tile at row 1, column 6 (pid 2545191)\n",
      "Unwrapping tile at row 1, column 7 (pid 2545192)\n",
      "Unwrapping tile at row 1, column 8 (pid 2545196)\n",
      "Unwrapping tile at row 1, column 9 (pid 2545197)\n",
      "Unwrapping tile at row 2, column 0 (pid 2545199)\n",
      "Unwrapping tile at row 2, column 1 (pid 2545207)\n",
      "Unwrapping tile at row 2, column 2 (pid 2545208)\n",
      "Unwrapping tile at row 2, column 3 (pid 2545211)\n",
      "Unwrapping tile at row 2, column 4 (pid 2545214)\n",
      "Unwrapping tile at row 2, column 5 (pid 2545220)\n",
      "Unwrapping tile at row 2, column 6 (pid 2545222)\n",
      "Unwrapping tile at row 2, column 7 (pid 2545234)\n",
      "Unwrapping tile at row 2, column 8 (pid 2545249)\n",
      "Unwrapping tile at row 2, column 9 (pid 2545250)\n",
      "Unwrapping tile at row 3, column 0 (pid 2545252)\n",
      "Unwrapping tile at row 3, column 1 (pid 2545253)\n",
      "Unwrapping tile at row 3, column 2 (pid 2545261)\n",
      "Unwrapping tile at row 3, column 3 (pid 2545262)\n",
      "Unwrapping tile at row 3, column 4 (pid 2545264)\n",
      "Unwrapping tile at row 3, column 5 (pid 2545266)\n",
      "Unwrapping tile at row 3, column 6 (pid 2545270)\n",
      "Unwrapping tile at row 3, column 7 (pid 2545279)\n",
      "Unwrapping tile at row 3, column 8 (pid 2545280)\n",
      "Unwrapping tile at row 3, column 9 (pid 2545281)\n",
      "Unwrapping tile at row 4, column 0 (pid 2545283)\n",
      "Unwrapping tile at row 4, column 1 (pid 2545284)\n",
      "Unwrapping tile at row 4, column 2 (pid 2545292)\n",
      "Unwrapping tile at row 4, column 3 (pid 2545294)\n",
      "Unwrapping tile at row 4, column 4 (pid 2545296)\n",
      "Unwrapping tile at row 4, column 5 (pid 2545298)\n",
      "Unwrapping tile at row 4, column 6 (pid 2545310)\n",
      "Unwrapping tile at row 4, column 7 (pid 2545311)\n",
      "Unwrapping tile at row 4, column 8 (pid 2545320)\n",
      "Unwrapping tile at row 4, column 9 (pid 2545321)\n",
      "Unwrapping tile at row 5, column 0 (pid 2545323)\n",
      "Unwrapping tile at row 5, column 1 (pid 2545324)\n",
      "Unwrapping tile at row 5, column 2 (pid 2545325)\n",
      "Unwrapping tile at row 5, column 3 (pid 2545334)\n",
      "Unwrapping tile at row 5, column 4 (pid 2545338)\n",
      "Unwrapping tile at row 5, column 5 (pid 2545340)\n",
      "Unwrapping tile at row 5, column 6 (pid 2545342)\n",
      "Unwrapping tile at row 5, column 7 (pid 2545345)\n",
      "Unwrapping tile at row 5, column 8 (pid 2545353)\n",
      "Unwrapping tile at row 5, column 9 (pid 2545354)\n",
      "Unwrapping tile at row 6, column 0 (pid 2545356)\n",
      "Unwrapping tile at row 6, column 1 (pid 2545357)\n",
      "Unwrapping tile at row 6, column 2 (pid 2545360)\n",
      "Unwrapping tile at row 6, column 3 (pid 2545369)\n",
      "Unwrapping tile at row 6, column 4 (pid 2545371)\n",
      "Unwrapping tile at row 6, column 5 (pid 2545373)\n",
      "Unwrapping tile at row 6, column 6 (pid 2545375)\n",
      "Unwrapping tile at row 6, column 7 (pid 2545378)\n",
      "Unwrapping tile at row 6, column 8 (pid 2545386)\n",
      "Unwrapping tile at row 6, column 9 (pid 2545387)\n",
      "Unwrapping tile at row 7, column 0 (pid 2545389)\n",
      "Unwrapping tile at row 7, column 1 (pid 2545390)\n",
      "Unwrapping tile at row 7, column 2 (pid 2545391)\n",
      "Unwrapping tile at row 7, column 3 (pid 2545393)\n",
      "Unwrapping tile at row 7, column 4 (pid 2545402)\n",
      "Unwrapping tile at row 7, column 5 (pid 2545404)\n",
      "Unwrapping tile at row 7, column 6 (pid 2545414)\n",
      "Unwrapping tile at row 7, column 7 (pid 2545415)\n",
      "Unwrapping tile at row 7, column 8 (pid 2545418)\n",
      "Unwrapping tile at row 7, column 9 (pid 2545426)\n",
      "Unwrapping tile at row 8, column 0 (pid 2545428)\n",
      "Unwrapping tile at row 8, column 1 (pid 2545430)\n",
      "Unwrapping tile at row 8, column 2 (pid 2545431)\n",
      "Unwrapping tile at row 8, column 3 (pid 2545432)\n",
      "Unwrapping tile at row 8, column 4 (pid 2545443)\n",
      "Unwrapping tile at row 8, column 5 (pid 2545445)\n",
      "Unwrapping tile at row 8, column 6 (pid 2545449)\n",
      "Unwrapping tile at row 8, column 7 (pid 2545451)\n",
      "Unwrapping tile at row 8, column 8 (pid 2545454)\n",
      "Unwrapping tile at row 8, column 9 (pid 2545463)\n",
      "Unwrapping tile at row 9, column 0 (pid 2545464)\n",
      "Unwrapping tile at row 9, column 1 (pid 2545466)\n",
      "Unwrapping tile at row 9, column 2 (pid 2545467)\n",
      "Unwrapping tile at row 9, column 3 (pid 2545472)\n",
      "Unwrapping tile at row 9, column 4 (pid 2545482)\n",
      "Unwrapping tile at row 9, column 5 (pid 2545484)\n",
      "Unwrapping tile at row 9, column 6 (pid 2545486)\n",
      "Unwrapping tile at row 9, column 7 (pid 2545488)\n",
      "Unwrapping tile at row 9, column 8 (pid 2545491)\n",
      "Unwrapping tile at row 9, column 9 (pid 2545503)\n",
      "Assembling tiles\n",
      "Running optimizer for secondary network\n",
      "Number of nodes in secondary network: 20338\n",
      "Flow increment: 1  (Total improvements: 0)\n",
      "Treesize: 20338      Pivots: 567         Improvements: 57         \n",
      "Flow increment: 2  (Total improvements: 57)\n",
      "Treesize: 20338      Pivots: 0           Improvements: 0          \n",
      "Flow increment: 3  (Total improvements: 57)\n",
      "Treesize: 20338      Pivots: 0           Improvements: 0          \n",
      "Flow increment: 4  (Total improvements: 57)\n",
      "Treesize: 20338      Pivots: 0           Improvements: 0          \n",
      "Integrating secondary flows\n",
      "Output written to file UnwPhase_ifg_IW3_VV_03Mar2019_08Apr2019.snaphu.img\n",
      "Removing temporary directory snaphu_tiles_2545099\n",
      "SUGGESTION: Try increasing tile overlap and/or size if solution has edge artifacts\n",
      "Program snaphu done\n",
      "Elapsed processor time:   0:08:57.22\n",
      "Elapsed wall clock time:  0:01:50\n",
      "gpt \"./graphs/geocode_snaphuInterferogram_WGS84.xml\" -Pinterferogram_filename=\"/home/mcallegari/PROJECT_DATA/FROSTINI/test_MintPy/WCapeSenAT29_test/tmp/phase_coh_20190303_20190408.dim\" -Punw_interferogram_filename=\"/home/mcallegari/PROJECT_DATA/FROSTINI/test_MintPy/WCapeSenAT29_test/tmp/phase_coh_20190303_20190408/UnwPhase_ifg_IW3_VV_03Mar2019_08Apr2019.snaphu.hdr\" -Pphase_coh_bandnames=\"Phase_ifg_IW3_VV_03Mar2019_08Apr2019,Unw_Phase_ifg_03Mar2019_08Apr2019,coh_IW3_VV_03Mar2019_08Apr2019\" -PsaveDEM=\"false\" -Poutput_filename=\"/home/mcallegari/PROJECT_DATA/FROSTINI/test_MintPy/WCapeSenAT29_test/geocoded_interferogram_20190303_20190408.tif\"\n"
     ]
    },
    {
     "name": "stderr",
     "output_type": "stream",
     "text": [
      "47 incremental costs clipped to avoid overflow (0.001%)\n",
      "47 incremental costs clipped to avoid overflow (0.001%)\n",
      "48 incremental costs clipped to avoid overflow (0.001%)\n",
      "48 incremental costs clipped to avoid overflow (0.001%)\n",
      "INFO: org.esa.snap.core.gpf.operators.tooladapter.ToolAdapterIO: Initializing external tool adapters\n",
      "INFO: org.esa.snap.core.util.EngineVersionCheckActivator: Please check regularly for new updates for the best SNAP experience.\n"
     ]
    },
    {
     "name": "stdout",
     "output_type": "stream",
     "text": [
      "Executing processing graph\n"
     ]
    },
    {
     "name": "stderr",
     "output_type": "stream",
     "text": [
      "1883 [main] INFO hdf.hdflib.HDFLibrary - HDF4 library: \n",
      "1883 [main] INFO hdf.hdflib.HDFLibrary -  successfully loaded.\n",
      "1887 [main] INFO hdf.hdf5lib.H5 - HDF5 library: \n",
      "1887 [main] INFO hdf.hdf5lib.H5 -  successfully loaded.\n"
     ]
    },
    {
     "name": "stdout",
     "output_type": "stream",
     "text": [
      "....12%....24%....35%....47%....58%....70%....81%.... done.\n",
      "gpt \"./graphs/interferogram_sarGeometry.xml\" -Pprm_filename=\"/home/mcallegari/PROJECT_DATA/FROSTINI/test_MintPy/WCapeSenAT29_test/S1A_SLC_20190408T173425_062083_IW3_VV_196444.SAFE/manifest.safe\" -Psec_filename=\"/home/mcallegari/PROJECT_DATA/FROSTINI/test_MintPy/WCapeSenAT29_test/S1A_SLC_20190514T173427_062083_IW3_VV_201172.SAFE/manifest.safe\" -PcohWinRg=11 -PcohWinAz=3 -PnRgLooks=4 -PnAzLooks=1 -Poutput_filename=\"/home/mcallegari/PROJECT_DATA/FROSTINI/test_MintPy/WCapeSenAT29_test/tmp/phase_coh_20190408_20190514.dim\" -c 8192M\n"
     ]
    },
    {
     "name": "stderr",
     "output_type": "stream",
     "text": [
      "INFO: org.esa.snap.core.gpf.operators.tooladapter.ToolAdapterIO: Initializing external tool adapters\n",
      "INFO: org.esa.snap.core.util.EngineVersionCheckActivator: Please check regularly for new updates for the best SNAP experience.\n"
     ]
    },
    {
     "name": "stdout",
     "output_type": "stream",
     "text": [
      "Executing processing graph\n"
     ]
    },
    {
     "name": "stderr",
     "output_type": "stream",
     "text": [
      "INFO: eu.esa.sar.commons.io.ImageIOFile: Using FileCacheImageInputStream\n"
     ]
    },
    {
     "name": "stdout",
     "output_type": "stream",
     "text": [
      "....11%....22%....33%....45%....56%....67%....78%....90% done.\n"
     ]
    },
    {
     "name": "stderr",
     "output_type": "stream",
     "text": [
      "-- org.jblas INFO Deleting /tmp/jblas3212984995497183528/libjblas_arch_flavor.so\n",
      "-- org.jblas INFO Deleting /tmp/jblas3212984995497183528/libjblas.so\n",
      "-- org.jblas INFO Deleting /tmp/jblas3212984995497183528/libgfortran-5.so\n",
      "-- org.jblas INFO Deleting /tmp/jblas3212984995497183528/libquadmath-0.so\n",
      "-- org.jblas INFO Deleting /tmp/jblas3212984995497183528\n",
      "INFO: org.esa.snap.core.gpf.operators.tooladapter.ToolAdapterIO: Initializing external tool adapters\n",
      "INFO: org.esa.snap.core.util.EngineVersionCheckActivator: Please check regularly for new updates for the best SNAP experience.\n"
     ]
    },
    {
     "name": "stdout",
     "output_type": "stream",
     "text": [
      "Executing processing graph\n",
      "...11%...22%...33%...45%...56%...67%...78%...90% done.\n",
      "snaphu -f snaphu.conf Phase_ifg_IW3_VV_08Apr2019_14May2019.snaphu.img 6120\n",
      "\n",
      "snaphu v2.0.4\n",
      "27 parameters input from file snaphu.conf (84 lines total)\n"
     ]
    },
    {
     "name": "stderr",
     "output_type": "stream",
     "text": [
      "-- org.jblas INFO Deleting /tmp/jblas4338151578217838714/libjblas_arch_flavor.so\n",
      "-- org.jblas INFO Deleting /tmp/jblas4338151578217838714/libjblas.so\n",
      "-- org.jblas INFO Deleting /tmp/jblas4338151578217838714/libgfortran-5.so\n",
      "-- org.jblas INFO Deleting /tmp/jblas4338151578217838714/libquadmath-0.so\n",
      "-- org.jblas INFO Deleting /tmp/jblas4338151578217838714\n",
      "WARNING: Tile overlap is small (may give bad results)\n"
     ]
    },
    {
     "name": "stdout",
     "output_type": "stream",
     "text": [
      "Logging run-time parameters to file snaphu.log\n",
      "Creating temporary directory snaphu_tiles_2546517\n",
      "Unwrapping tile at row 0, column 0 (pid 2546521)\n",
      "Unwrapping tile at row 0, column 1 (pid 2546531)\n",
      "Unwrapping tile at row 0, column 2 (pid 2546536)\n",
      "Unwrapping tile at row 0, column 3 (pid 2546539)\n",
      "Unwrapping tile at row 0, column 4 (pid 2546549)\n",
      "Unwrapping tile at row 0, column 5 (pid 2546555)\n",
      "Unwrapping tile at row 0, column 6 (pid 2546557)\n",
      "Unwrapping tile at row 0, column 7 (pid 2546567)\n",
      "Unwrapping tile at row 0, column 8 (pid 2546573)\n",
      "Unwrapping tile at row 0, column 9 (pid 2546576)\n",
      "Unwrapping tile at row 1, column 0 (pid 2546580)\n",
      "Unwrapping tile at row 1, column 1 (pid 2546584)\n",
      "Unwrapping tile at row 1, column 2 (pid 2546597)\n",
      "Unwrapping tile at row 1, column 3 (pid 2546602)\n",
      "Unwrapping tile at row 1, column 4 (pid 2546603)\n",
      "Unwrapping tile at row 1, column 5 (pid 2546604)\n",
      "Unwrapping tile at row 1, column 6 (pid 2546616)\n",
      "Unwrapping tile at row 1, column 7 (pid 2546617)\n",
      "Unwrapping tile at row 1, column 8 (pid 2546619)\n",
      "Unwrapping tile at row 1, column 9 (pid 2546620)\n",
      "Unwrapping tile at row 2, column 0 (pid 2546622)\n",
      "Unwrapping tile at row 2, column 1 (pid 2546631)\n",
      "Unwrapping tile at row 2, column 2 (pid 2546633)\n",
      "Unwrapping tile at row 2, column 3 (pid 2546634)\n",
      "Unwrapping tile at row 2, column 4 (pid 2546635)\n",
      "Unwrapping tile at row 2, column 5 (pid 2546639)\n",
      "Unwrapping tile at row 2, column 6 (pid 2546650)\n",
      "Unwrapping tile at row 2, column 7 (pid 2546651)\n",
      "Unwrapping tile at row 2, column 8 (pid 2546652)\n",
      "Unwrapping tile at row 2, column 9 (pid 2546653)\n",
      "Unwrapping tile at row 3, column 0 (pid 2546655)\n",
      "Unwrapping tile at row 3, column 1 (pid 2546666)\n",
      "Unwrapping tile at row 3, column 2 (pid 2546676)\n",
      "Unwrapping tile at row 3, column 3 (pid 2546677)\n",
      "Unwrapping tile at row 3, column 4 (pid 2546678)\n",
      "Unwrapping tile at row 3, column 5 (pid 2546680)\n",
      "Unwrapping tile at row 3, column 6 (pid 2546684)\n",
      "Unwrapping tile at row 3, column 7 (pid 2546692)\n",
      "Unwrapping tile at row 3, column 8 (pid 2546693)\n",
      "Unwrapping tile at row 3, column 9 (pid 2546697)\n",
      "Unwrapping tile at row 4, column 0 (pid 2546700)\n",
      "Unwrapping tile at row 4, column 1 (pid 2546775)\n",
      "Unwrapping tile at row 4, column 2 (pid 2546788)\n",
      "Unwrapping tile at row 4, column 3 (pid 2546789)\n",
      "Unwrapping tile at row 4, column 4 (pid 2546790)\n",
      "Unwrapping tile at row 4, column 5 (pid 2546791)\n",
      "Unwrapping tile at row 4, column 6 (pid 2546796)\n",
      "Unwrapping tile at row 4, column 7 (pid 2546805)\n",
      "Unwrapping tile at row 4, column 8 (pid 2546806)\n",
      "Unwrapping tile at row 4, column 9 (pid 2546809)\n",
      "Unwrapping tile at row 5, column 0 (pid 2546815)\n",
      "Unwrapping tile at row 5, column 1 (pid 2546817)\n",
      "Unwrapping tile at row 5, column 2 (pid 2546826)\n",
      "Unwrapping tile at row 5, column 3 (pid 2546827)\n",
      "Unwrapping tile at row 5, column 4 (pid 2546828)\n",
      "Unwrapping tile at row 5, column 5 (pid 2546829)\n",
      "Unwrapping tile at row 5, column 6 (pid 2546832)\n",
      "Unwrapping tile at row 5, column 7 (pid 2546838)\n",
      "Unwrapping tile at row 5, column 8 (pid 2546846)\n",
      "Unwrapping tile at row 5, column 9 (pid 2546864)\n",
      "Unwrapping tile at row 6, column 0 (pid 2546866)\n",
      "Unwrapping tile at row 6, column 1 (pid 2546868)\n",
      "Unwrapping tile at row 6, column 2 (pid 2546878)\n",
      "Unwrapping tile at row 6, column 3 (pid 2546887)\n",
      "Unwrapping tile at row 6, column 4 (pid 2546888)\n",
      "Unwrapping tile at row 6, column 5 (pid 2546889)\n",
      "Unwrapping tile at row 6, column 6 (pid 2546891)\n",
      "Unwrapping tile at row 6, column 7 (pid 2546901)\n",
      "Unwrapping tile at row 6, column 8 (pid 2546909)\n",
      "Unwrapping tile at row 6, column 9 (pid 2546911)\n",
      "Unwrapping tile at row 7, column 0 (pid 2546917)\n",
      "Unwrapping tile at row 7, column 1 (pid 2546924)\n",
      "Unwrapping tile at row 7, column 2 (pid 2546926)\n",
      "Unwrapping tile at row 7, column 3 (pid 2546934)\n",
      "Unwrapping tile at row 7, column 4 (pid 2546935)\n",
      "Unwrapping tile at row 7, column 5 (pid 2546936)\n",
      "Unwrapping tile at row 7, column 6 (pid 2546938)\n",
      "Unwrapping tile at row 7, column 7 (pid 2546940)\n",
      "Unwrapping tile at row 7, column 8 (pid 2546943)\n",
      "Unwrapping tile at row 7, column 9 (pid 2546951)\n",
      "Unwrapping tile at row 8, column 0 (pid 2546953)\n",
      "Unwrapping tile at row 8, column 1 (pid 2546955)\n",
      "Unwrapping tile at row 8, column 2 (pid 2546958)\n",
      "Unwrapping tile at row 8, column 3 (pid 2546959)\n",
      "Unwrapping tile at row 8, column 4 (pid 2546968)\n",
      "Unwrapping tile at row 8, column 5 (pid 2546970)\n",
      "Unwrapping tile at row 8, column 6 (pid 2546972)\n",
      "Unwrapping tile at row 8, column 7 (pid 2546973)\n",
      "Unwrapping tile at row 8, column 8 (pid 2546976)\n",
      "Unwrapping tile at row 8, column 9 (pid 2546984)\n",
      "Unwrapping tile at row 9, column 0 (pid 2546987)\n",
      "Unwrapping tile at row 9, column 1 (pid 2546989)\n",
      "Unwrapping tile at row 9, column 2 (pid 2546998)\n",
      "Unwrapping tile at row 9, column 3 (pid 2546999)\n",
      "Unwrapping tile at row 9, column 4 (pid 2547007)\n",
      "Unwrapping tile at row 9, column 5 (pid 2547009)\n",
      "Unwrapping tile at row 9, column 6 (pid 2547010)\n",
      "Unwrapping tile at row 9, column 7 (pid 2547011)\n",
      "Unwrapping tile at row 9, column 8 (pid 2547017)\n",
      "Unwrapping tile at row 9, column 9 (pid 2547032)\n"
     ]
    },
    {
     "name": "stderr",
     "output_type": "stream",
     "text": [
      "50 incremental costs clipped to avoid overflow (0.001%)\n",
      "50 incremental costs clipped to avoid overflow (0.001%)\n",
      "50 incremental costs clipped to avoid overflow (0.001%)\n",
      "50 incremental costs clipped to avoid overflow (0.001%)\n"
     ]
    },
    {
     "name": "stdout",
     "output_type": "stream",
     "text": [
      "Assembling tiles\n",
      "Running optimizer for secondary network\n",
      "Number of nodes in secondary network: 19451\n",
      "Flow increment: 1  (Total improvements: 0)\n",
      "Treesize: 19451      Pivots: 185         Improvements: 22         \n",
      "Flow increment: 2  (Total improvements: 22)\n",
      "Treesize: 19451      Pivots: 0           Improvements: 0          \n",
      "Flow increment: 3  (Total improvements: 22)\n",
      "Treesize: 19451      Pivots: 0           Improvements: 0          \n",
      "Flow increment: 4  (Total improvements: 22)\n",
      "Treesize: 19451      Pivots: 0           Improvements: 0          \n",
      "Integrating secondary flows\n",
      "Output written to file UnwPhase_ifg_IW3_VV_08Apr2019_14May2019.snaphu.img\n",
      "Removing temporary directory snaphu_tiles_2546517\n",
      "SUGGESTION: Try increasing tile overlap and/or size if solution has edge artifacts\n",
      "Program snaphu done\n",
      "Elapsed processor time:   0:08:32.53\n",
      "Elapsed wall clock time:  0:01:49\n",
      "gpt \"./graphs/geocode_snaphuInterferogram_WGS84.xml\" -Pinterferogram_filename=\"/home/mcallegari/PROJECT_DATA/FROSTINI/test_MintPy/WCapeSenAT29_test/tmp/phase_coh_20190408_20190514.dim\" -Punw_interferogram_filename=\"/home/mcallegari/PROJECT_DATA/FROSTINI/test_MintPy/WCapeSenAT29_test/tmp/phase_coh_20190408_20190514/UnwPhase_ifg_IW3_VV_08Apr2019_14May2019.snaphu.hdr\" -Pphase_coh_bandnames=\"Phase_ifg_IW3_VV_08Apr2019_14May2019,Unw_Phase_ifg_08Apr2019_14May2019,coh_IW3_VV_08Apr2019_14May2019\" -PsaveDEM=\"false\" -Poutput_filename=\"/home/mcallegari/PROJECT_DATA/FROSTINI/test_MintPy/WCapeSenAT29_test/geocoded_interferogram_20190408_20190514.tif\"\n"
     ]
    },
    {
     "name": "stderr",
     "output_type": "stream",
     "text": [
      "INFO: org.esa.snap.core.gpf.operators.tooladapter.ToolAdapterIO: Initializing external tool adapters\n",
      "INFO: org.esa.snap.core.util.EngineVersionCheckActivator: Please check regularly for new updates for the best SNAP experience.\n"
     ]
    },
    {
     "name": "stdout",
     "output_type": "stream",
     "text": [
      "Executing processing graph\n"
     ]
    },
    {
     "name": "stderr",
     "output_type": "stream",
     "text": [
      "1905 [main] INFO hdf.hdflib.HDFLibrary - HDF4 library: \n",
      "1905 [main] INFO hdf.hdflib.HDFLibrary -  successfully loaded.\n",
      "1909 [main] INFO hdf.hdf5lib.H5 - HDF5 library: \n",
      "1909 [main] INFO hdf.hdf5lib.H5 -  successfully loaded.\n"
     ]
    },
    {
     "name": "stdout",
     "output_type": "stream",
     "text": [
      "....12%....24%....35%....47%....58%....70%....81%.... done.\n",
      "gpt \"./graphs/interferogram_sarGeometry.xml\" -Pprm_filename=\"/home/mcallegari/PROJECT_DATA/FROSTINI/test_MintPy/WCapeSenAT29_test/S1A_SLC_20190327T173425_062083_IW3_VV_194796.SAFE/manifest.safe\" -Psec_filename=\"/home/mcallegari/PROJECT_DATA/FROSTINI/test_MintPy/WCapeSenAT29_test/S1A_SLC_20190420T173426_062083_IW3_VV_198063.SAFE/manifest.safe\" -PcohWinRg=11 -PcohWinAz=3 -PnRgLooks=4 -PnAzLooks=1 -Poutput_filename=\"/home/mcallegari/PROJECT_DATA/FROSTINI/test_MintPy/WCapeSenAT29_test/tmp/phase_coh_20190327_20190420.dim\" -c 8192M\n"
     ]
    },
    {
     "name": "stderr",
     "output_type": "stream",
     "text": [
      "INFO: org.esa.snap.core.gpf.operators.tooladapter.ToolAdapterIO: Initializing external tool adapters\n",
      "INFO: org.esa.snap.core.util.EngineVersionCheckActivator: Please check regularly for new updates for the best SNAP experience.\n"
     ]
    },
    {
     "name": "stdout",
     "output_type": "stream",
     "text": [
      "Executing processing graph\n"
     ]
    },
    {
     "name": "stderr",
     "output_type": "stream",
     "text": [
      "INFO: eu.esa.sar.commons.io.ImageIOFile: Using FileCacheImageInputStream\n"
     ]
    },
    {
     "name": "stdout",
     "output_type": "stream",
     "text": [
      "....11%....22%....33%....45%....56%....67%....78%....90% done.\n"
     ]
    },
    {
     "name": "stderr",
     "output_type": "stream",
     "text": [
      "-- org.jblas INFO Deleting /tmp/jblas2064237782938564450/libjblas_arch_flavor.so\n",
      "-- org.jblas INFO Deleting /tmp/jblas2064237782938564450/libjblas.so\n",
      "-- org.jblas INFO Deleting /tmp/jblas2064237782938564450/libgfortran-5.so\n",
      "-- org.jblas INFO Deleting /tmp/jblas2064237782938564450/libquadmath-0.so\n",
      "-- org.jblas INFO Deleting /tmp/jblas2064237782938564450\n",
      "INFO: org.esa.snap.core.gpf.operators.tooladapter.ToolAdapterIO: Initializing external tool adapters\n",
      "INFO: org.esa.snap.core.util.EngineVersionCheckActivator: Please check regularly for new updates for the best SNAP experience.\n"
     ]
    },
    {
     "name": "stdout",
     "output_type": "stream",
     "text": [
      "Executing processing graph\n",
      "...11%...22%...33%...45%...56%...67%...78%...90% done.\n",
      "snaphu -f snaphu.conf Phase_ifg_IW3_VV_27Mar2019_20Apr2019.snaphu.img 6120\n",
      "\n",
      "snaphu v2.0.4\n",
      "27 parameters input from file snaphu.conf (84 lines total)\n"
     ]
    },
    {
     "name": "stderr",
     "output_type": "stream",
     "text": [
      "-- org.jblas INFO Deleting /tmp/jblas12311066821867566307/libjblas_arch_flavor.so\n",
      "-- org.jblas INFO Deleting /tmp/jblas12311066821867566307/libjblas.so\n",
      "-- org.jblas INFO Deleting /tmp/jblas12311066821867566307/libgfortran-5.so\n",
      "-- org.jblas INFO Deleting /tmp/jblas12311066821867566307/libquadmath-0.so\n",
      "-- org.jblas INFO Deleting /tmp/jblas12311066821867566307\n",
      "WARNING: Tile overlap is small (may give bad results)\n"
     ]
    },
    {
     "name": "stdout",
     "output_type": "stream",
     "text": [
      "Logging run-time parameters to file snaphu.log\n",
      "Creating temporary directory snaphu_tiles_2547999\n",
      "Unwrapping tile at row 0, column 0 (pid 2548003)\n",
      "Unwrapping tile at row 0, column 1 (pid 2548014)\n",
      "Unwrapping tile at row 0, column 2 (pid 2548016)\n",
      "Unwrapping tile at row 0, column 3 (pid 2548022)\n",
      "Unwrapping tile at row 0, column 4 (pid 2548027)\n",
      "Unwrapping tile at row 0, column 5 (pid 2548030)\n",
      "Unwrapping tile at row 0, column 6 (pid 2548032)\n",
      "Unwrapping tile at row 0, column 7 (pid 2548043)\n",
      "Unwrapping tile at row 0, column 8 (pid 2548046)\n",
      "Unwrapping tile at row 0, column 9 (pid 2548050)\n",
      "Unwrapping tile at row 1, column 0 (pid 2548052)\n",
      "Unwrapping tile at row 1, column 1 (pid 2548056)\n",
      "Unwrapping tile at row 1, column 2 (pid 2548080)\n",
      "Unwrapping tile at row 1, column 3 (pid 2548083)\n",
      "Unwrapping tile at row 1, column 4 (pid 2548085)\n",
      "Unwrapping tile at row 1, column 5 (pid 2548087)\n",
      "Unwrapping tile at row 1, column 6 (pid 2548096)\n",
      "Unwrapping tile at row 1, column 7 (pid 2548104)\n",
      "Unwrapping tile at row 1, column 8 (pid 2548105)\n",
      "Unwrapping tile at row 1, column 9 (pid 2548107)\n",
      "Unwrapping tile at row 2, column 0 (pid 2548108)\n",
      "Unwrapping tile at row 2, column 1 (pid 2548110)\n",
      "Unwrapping tile at row 2, column 2 (pid 2548120)\n",
      "Unwrapping tile at row 2, column 3 (pid 2548124)\n",
      "Unwrapping tile at row 2, column 4 (pid 2548131)\n",
      "Unwrapping tile at row 2, column 5 (pid 2548133)\n",
      "Unwrapping tile at row 2, column 6 (pid 2548135)\n",
      "Unwrapping tile at row 2, column 7 (pid 2548136)\n",
      "Unwrapping tile at row 2, column 8 (pid 2548144)\n",
      "Unwrapping tile at row 2, column 9 (pid 2548146)\n",
      "Unwrapping tile at row 3, column 0 (pid 2548147)\n",
      "Unwrapping tile at row 3, column 1 (pid 2548149)\n",
      "Unwrapping tile at row 3, column 2 (pid 2548152)\n",
      "Unwrapping tile at row 3, column 3 (pid 2548161)\n",
      "Unwrapping tile at row 3, column 4 (pid 2548163)\n",
      "Unwrapping tile at row 3, column 5 (pid 2548166)\n",
      "Unwrapping tile at row 3, column 6 (pid 2548167)\n",
      "Unwrapping tile at row 3, column 7 (pid 2548168)\n",
      "Unwrapping tile at row 3, column 8 (pid 2548177)\n",
      "Unwrapping tile at row 3, column 9 (pid 2548179)\n",
      "Unwrapping tile at row 4, column 0 (pid 2548180)\n",
      "Unwrapping tile at row 4, column 1 (pid 2548181)\n",
      "Unwrapping tile at row 4, column 2 (pid 2548183)\n",
      "Unwrapping tile at row 4, column 3 (pid 2548194)\n",
      "Unwrapping tile at row 4, column 4 (pid 2548196)\n",
      "Unwrapping tile at row 4, column 5 (pid 2548198)\n",
      "Unwrapping tile at row 4, column 6 (pid 2548207)\n",
      "Unwrapping tile at row 4, column 7 (pid 2548208)\n",
      "Unwrapping tile at row 4, column 8 (pid 2548209)\n",
      "Unwrapping tile at row 4, column 9 (pid 2548219)\n",
      "Unwrapping tile at row 5, column 0 (pid 2548220)\n",
      "Unwrapping tile at row 5, column 1 (pid 2548221)\n",
      "Unwrapping tile at row 5, column 2 (pid 2548225)\n",
      "Unwrapping tile at row 5, column 3 (pid 2548234)\n",
      "Unwrapping tile at row 5, column 4 (pid 2548237)\n",
      "Unwrapping tile at row 5, column 5 (pid 2548242)\n",
      "Unwrapping tile at row 5, column 6 (pid 2548255)\n",
      "Unwrapping tile at row 5, column 7 (pid 2548256)\n",
      "Unwrapping tile at row 5, column 8 (pid 2548265)\n",
      "Unwrapping tile at row 5, column 9 (pid 2548266)\n",
      "Unwrapping tile at row 6, column 0 (pid 2548267)\n",
      "Unwrapping tile at row 6, column 1 (pid 2548268)\n",
      "Unwrapping tile at row 6, column 2 (pid 2548272)\n",
      "Unwrapping tile at row 6, column 3 (pid 2548281)\n",
      "Unwrapping tile at row 6, column 4 (pid 2548283)\n",
      "Unwrapping tile at row 6, column 5 (pid 2548284)\n",
      "Unwrapping tile at row 6, column 6 (pid 2548285)\n",
      "Unwrapping tile at row 6, column 7 (pid 2548286)\n",
      "Unwrapping tile at row 6, column 8 (pid 2548295)\n",
      "Unwrapping tile at row 6, column 9 (pid 2548296)\n",
      "Unwrapping tile at row 7, column 0 (pid 2548297)\n",
      "Unwrapping tile at row 7, column 1 (pid 2548314)\n",
      "Unwrapping tile at row 7, column 2 (pid 2548322)\n",
      "Unwrapping tile at row 7, column 3 (pid 2548331)\n",
      "Unwrapping tile at row 7, column 4 (pid 2548342)\n",
      "Unwrapping tile at row 7, column 5 (pid 2548352)\n",
      "Unwrapping tile at row 7, column 6 (pid 2548353)\n",
      "Unwrapping tile at row 7, column 7 (pid 2548354)\n",
      "Unwrapping tile at row 7, column 8 (pid 2548356)\n",
      "Unwrapping tile at row 7, column 9 (pid 2548365)\n",
      "Unwrapping tile at row 8, column 0 (pid 2548366)\n",
      "Unwrapping tile at row 8, column 1 (pid 2548367)\n",
      "Unwrapping tile at row 8, column 2 (pid 2548372)\n",
      "Unwrapping tile at row 8, column 3 (pid 2548376)\n",
      "Unwrapping tile at row 8, column 4 (pid 2548386)\n",
      "Unwrapping tile at row 8, column 5 (pid 2548389)\n",
      "Unwrapping tile at row 8, column 6 (pid 2548390)\n",
      "Unwrapping tile at row 8, column 7 (pid 2548391)\n",
      "Unwrapping tile at row 8, column 8 (pid 2548393)\n",
      "Unwrapping tile at row 8, column 9 (pid 2548402)\n",
      "Unwrapping tile at row 9, column 0 (pid 2548404)\n",
      "Unwrapping tile at row 9, column 1 (pid 2548406)\n",
      "Unwrapping tile at row 9, column 2 (pid 2548409)\n",
      "Unwrapping tile at row 9, column 3 (pid 2548411)\n",
      "Unwrapping tile at row 9, column 4 (pid 2548415)\n",
      "Unwrapping tile at row 9, column 5 (pid 2548425)\n",
      "Unwrapping tile at row 9, column 6 (pid 2548426)\n",
      "Unwrapping tile at row 9, column 7 (pid 2548427)\n",
      "Unwrapping tile at row 9, column 8 (pid 2548429)\n",
      "Unwrapping tile at row 9, column 9 (pid 2548430)\n",
      "Assembling tiles\n",
      "Running optimizer for secondary network\n",
      "Number of nodes in secondary network: 16248\n",
      "Flow increment: 1  (Total improvements: 0)\n",
      "Treesize: 16248      Pivots: 32          Improvements: 8          \n",
      "Flow increment: 2  (Total improvements: 8)\n",
      "Treesize: 16248      Pivots: 0           Improvements: 0          \n",
      "Flow increment: 3  (Total improvements: 8)\n",
      "Treesize: 16248      Pivots: 0           Improvements: 0          \n",
      "Flow increment: 4  (Total improvements: 8)\n",
      "Treesize: 16248      Pivots: 0           Improvements: 0          \n",
      "Integrating secondary flows\n",
      "Output written to file UnwPhase_ifg_IW3_VV_27Mar2019_20Apr2019.snaphu.img\n",
      "Removing temporary directory snaphu_tiles_2547999\n",
      "SUGGESTION: Try increasing tile overlap and/or size if solution has edge artifacts\n",
      "Program snaphu done\n",
      "Elapsed processor time:   0:07:56.30\n",
      "Elapsed wall clock time:  0:01:48\n",
      "gpt \"./graphs/geocode_snaphuInterferogram_WGS84.xml\" -Pinterferogram_filename=\"/home/mcallegari/PROJECT_DATA/FROSTINI/test_MintPy/WCapeSenAT29_test/tmp/phase_coh_20190327_20190420.dim\" -Punw_interferogram_filename=\"/home/mcallegari/PROJECT_DATA/FROSTINI/test_MintPy/WCapeSenAT29_test/tmp/phase_coh_20190327_20190420/UnwPhase_ifg_IW3_VV_27Mar2019_20Apr2019.snaphu.hdr\" -Pphase_coh_bandnames=\"Phase_ifg_IW3_VV_27Mar2019_20Apr2019,Unw_Phase_ifg_27Mar2019_20Apr2019,coh_IW3_VV_27Mar2019_20Apr2019\" -PsaveDEM=\"false\" -Poutput_filename=\"/home/mcallegari/PROJECT_DATA/FROSTINI/test_MintPy/WCapeSenAT29_test/geocoded_interferogram_20190327_20190420.tif\"\n"
     ]
    },
    {
     "name": "stderr",
     "output_type": "stream",
     "text": [
      "43 incremental costs clipped to avoid overflow (0.001%)\n",
      "43 incremental costs clipped to avoid overflow (0.001%)\n",
      "44 incremental costs clipped to avoid overflow (0.001%)\n",
      "44 incremental costs clipped to avoid overflow (0.001%)\n",
      "INFO: org.esa.snap.core.gpf.operators.tooladapter.ToolAdapterIO: Initializing external tool adapters\n",
      "INFO: org.esa.snap.core.util.EngineVersionCheckActivator: Please check regularly for new updates for the best SNAP experience.\n"
     ]
    },
    {
     "name": "stdout",
     "output_type": "stream",
     "text": [
      "Executing processing graph\n"
     ]
    },
    {
     "name": "stderr",
     "output_type": "stream",
     "text": [
      "1920 [main] INFO hdf.hdflib.HDFLibrary - HDF4 library: \n",
      "1921 [main] INFO hdf.hdflib.HDFLibrary -  successfully loaded.\n",
      "1924 [main] INFO hdf.hdf5lib.H5 - HDF5 library: \n",
      "1925 [main] INFO hdf.hdf5lib.H5 -  successfully loaded.\n"
     ]
    },
    {
     "name": "stdout",
     "output_type": "stream",
     "text": [
      "....12%....24%....35%....47%....58%....70%....81%.... done.\n",
      "gpt \"./graphs/interferogram_sarGeometry.xml\" -Pprm_filename=\"/home/mcallegari/PROJECT_DATA/FROSTINI/test_MintPy/WCapeSenAT29_test/S1A_SLC_20190502T173426_062083_IW3_VV_199695.SAFE/manifest.safe\" -Psec_filename=\"/home/mcallegari/PROJECT_DATA/FROSTINI/test_MintPy/WCapeSenAT29_test/S1A_SLC_20190514T173427_062083_IW3_VV_201172.SAFE/manifest.safe\" -PcohWinRg=11 -PcohWinAz=3 -PnRgLooks=4 -PnAzLooks=1 -Poutput_filename=\"/home/mcallegari/PROJECT_DATA/FROSTINI/test_MintPy/WCapeSenAT29_test/tmp/phase_coh_20190502_20190514.dim\" -c 8192M\n"
     ]
    },
    {
     "name": "stderr",
     "output_type": "stream",
     "text": [
      "INFO: org.esa.snap.core.gpf.operators.tooladapter.ToolAdapterIO: Initializing external tool adapters\n",
      "INFO: org.esa.snap.core.util.EngineVersionCheckActivator: Please check regularly for new updates for the best SNAP experience.\n"
     ]
    },
    {
     "name": "stdout",
     "output_type": "stream",
     "text": [
      "Executing processing graph\n",
      "....11%....22%....33%....45%....56%....67%....78%....90% done.\n"
     ]
    },
    {
     "name": "stderr",
     "output_type": "stream",
     "text": [
      "-- org.jblas INFO Deleting /tmp/jblas6005732137451134263/libjblas_arch_flavor.so\n",
      "-- org.jblas INFO Deleting /tmp/jblas6005732137451134263/libjblas.so\n",
      "-- org.jblas INFO Deleting /tmp/jblas6005732137451134263/libgfortran-5.so\n",
      "-- org.jblas INFO Deleting /tmp/jblas6005732137451134263/libquadmath-0.so\n",
      "-- org.jblas INFO Deleting /tmp/jblas6005732137451134263\n",
      "INFO: org.esa.snap.core.gpf.operators.tooladapter.ToolAdapterIO: Initializing external tool adapters\n",
      "INFO: org.esa.snap.core.util.EngineVersionCheckActivator: Please check regularly for new updates for the best SNAP experience.\n"
     ]
    },
    {
     "name": "stdout",
     "output_type": "stream",
     "text": [
      "Executing processing graph\n",
      "...11%...22%...33%...45%...56%...67%...78%...90% done.\n",
      "snaphu -f snaphu.conf Phase_ifg_IW3_VV_02May2019_14May2019.snaphu.img 6120\n",
      "\n",
      "snaphu v2.0.4\n",
      "27 parameters input from file snaphu.conf (84 lines total)\n"
     ]
    },
    {
     "name": "stderr",
     "output_type": "stream",
     "text": [
      "-- org.jblas INFO Deleting /tmp/jblas3665839892977360978/libjblas_arch_flavor.so\n",
      "-- org.jblas INFO Deleting /tmp/jblas3665839892977360978/libjblas.so\n",
      "-- org.jblas INFO Deleting /tmp/jblas3665839892977360978/libgfortran-5.so\n",
      "-- org.jblas INFO Deleting /tmp/jblas3665839892977360978/libquadmath-0.so\n",
      "-- org.jblas INFO Deleting /tmp/jblas3665839892977360978\n",
      "WARNING: Tile overlap is small (may give bad results)\n"
     ]
    },
    {
     "name": "stdout",
     "output_type": "stream",
     "text": [
      "Logging run-time parameters to file snaphu.log\n",
      "Creating temporary directory snaphu_tiles_2550009\n",
      "Unwrapping tile at row 0, column 0 (pid 2550025)\n",
      "Unwrapping tile at row 0, column 1 (pid 2550030)\n",
      "Unwrapping tile at row 0, column 2 (pid 2550033)\n",
      "Unwrapping tile at row 0, column 3 (pid 2550036)\n",
      "Unwrapping tile at row 0, column 4 (pid 2550038)\n",
      "Unwrapping tile at row 0, column 5 (pid 2550042)\n",
      "Unwrapping tile at row 0, column 6 (pid 2550052)\n",
      "Unwrapping tile at row 0, column 7 (pid 2550054)\n",
      "Unwrapping tile at row 0, column 8 (pid 2550057)\n",
      "Unwrapping tile at row 0, column 9 (pid 2550061)\n",
      "Unwrapping tile at row 1, column 0 (pid 2550070)\n",
      "Unwrapping tile at row 1, column 1 (pid 2550079)\n",
      "Unwrapping tile at row 1, column 2 (pid 2550081)\n",
      "Unwrapping tile at row 1, column 3 (pid 2550090)\n",
      "Unwrapping tile at row 1, column 4 (pid 2550091)\n",
      "Unwrapping tile at row 1, column 5 (pid 2550093)\n",
      "Unwrapping tile at row 1, column 6 (pid 2550102)\n",
      "Unwrapping tile at row 1, column 7 (pid 2550103)\n",
      "Unwrapping tile at row 1, column 8 (pid 2550104)\n",
      "Unwrapping tile at row 1, column 9 (pid 2550105)\n",
      "Unwrapping tile at row 2, column 0 (pid 2550109)\n",
      "Unwrapping tile at row 2, column 1 (pid 2550120)\n",
      "Unwrapping tile at row 2, column 2 (pid 2550121)\n",
      "Unwrapping tile at row 2, column 3 (pid 2550122)\n",
      "Unwrapping tile at row 2, column 4 (pid 2550123)\n",
      "Unwrapping tile at row 2, column 5 (pid 2550125)\n",
      "Unwrapping tile at row 2, column 6 (pid 2550127)\n",
      "Unwrapping tile at row 2, column 7 (pid 2550135)\n",
      "Unwrapping tile at row 2, column 8 (pid 2550139)\n",
      "Unwrapping tile at row 2, column 9 (pid 2550140)\n",
      "Unwrapping tile at row 3, column 0 (pid 2550145)\n",
      "Unwrapping tile at row 3, column 1 (pid 2550149)\n",
      "Unwrapping tile at row 3, column 2 (pid 2550157)\n",
      "Unwrapping tile at row 3, column 3 (pid 2550158)\n",
      "Unwrapping tile at row 3, column 4 (pid 2550159)\n",
      "Unwrapping tile at row 3, column 5 (pid 2550161)\n",
      "Unwrapping tile at row 3, column 6 (pid 2550162)\n",
      "Unwrapping tile at row 3, column 7 (pid 2550171)\n",
      "Unwrapping tile at row 3, column 8 (pid 2550176)\n",
      "Unwrapping tile at row 3, column 9 (pid 2550177)\n",
      "Unwrapping tile at row 4, column 0 (pid 2550182)\n",
      "Unwrapping tile at row 4, column 1 (pid 2550187)\n",
      "Unwrapping tile at row 4, column 2 (pid 2550198)\n",
      "Unwrapping tile at row 4, column 3 (pid 2550207)\n",
      "Unwrapping tile at row 4, column 4 (pid 2550208)\n",
      "Unwrapping tile at row 4, column 5 (pid 2550210)\n",
      "Unwrapping tile at row 4, column 6 (pid 2550211)\n",
      "Unwrapping tile at row 4, column 7 (pid 2550213)\n",
      "Unwrapping tile at row 4, column 8 (pid 2550223)\n",
      "Unwrapping tile at row 4, column 9 (pid 2550228)\n",
      "Unwrapping tile at row 5, column 0 (pid 2550232)\n",
      "Unwrapping tile at row 5, column 1 (pid 2550245)\n",
      "Unwrapping tile at row 5, column 2 (pid 2550246)\n",
      "Unwrapping tile at row 5, column 3 (pid 2550248)\n",
      "Unwrapping tile at row 5, column 4 (pid 2550249)\n",
      "Unwrapping tile at row 5, column 5 (pid 2550250)\n",
      "Unwrapping tile at row 5, column 6 (pid 2550261)\n",
      "Unwrapping tile at row 5, column 7 (pid 2550262)\n",
      "Unwrapping tile at row 5, column 8 (pid 2550265)\n",
      "Unwrapping tile at row 5, column 9 (pid 2550271)\n",
      "Unwrapping tile at row 6, column 0 (pid 2550282)\n",
      "Unwrapping tile at row 6, column 1 (pid 2550283)\n",
      "Unwrapping tile at row 6, column 2 (pid 2550285)\n",
      "Unwrapping tile at row 6, column 3 (pid 2550286)\n",
      "Unwrapping tile at row 6, column 4 (pid 2550287)\n",
      "Unwrapping tile at row 6, column 5 (pid 2550297)\n",
      "Unwrapping tile at row 6, column 6 (pid 2550299)\n",
      "Unwrapping tile at row 6, column 7 (pid 2550301)\n",
      "Unwrapping tile at row 6, column 8 (pid 2550303)\n",
      "Unwrapping tile at row 6, column 9 (pid 2550314)\n",
      "Unwrapping tile at row 7, column 0 (pid 2550324)\n",
      "Unwrapping tile at row 7, column 1 (pid 2550327)\n",
      "Unwrapping tile at row 7, column 2 (pid 2550328)\n",
      "Unwrapping tile at row 7, column 3 (pid 2550329)\n",
      "Unwrapping tile at row 7, column 4 (pid 2550330)\n",
      "Unwrapping tile at row 7, column 5 (pid 2550338)\n",
      "Unwrapping tile at row 7, column 6 (pid 2550343)\n",
      "Unwrapping tile at row 7, column 7 (pid 2550344)\n",
      "Unwrapping tile at row 7, column 8 (pid 2550349)\n",
      "Unwrapping tile at row 7, column 9 (pid 2550359)\n",
      "Unwrapping tile at row 8, column 0 (pid 2550360)\n",
      "Unwrapping tile at row 8, column 1 (pid 2550361)\n",
      "Unwrapping tile at row 8, column 2 (pid 2550362)\n",
      "Unwrapping tile at row 8, column 3 (pid 2550363)\n",
      "Unwrapping tile at row 8, column 4 (pid 2550379)\n",
      "Unwrapping tile at row 8, column 5 (pid 2550381)\n",
      "Unwrapping tile at row 8, column 6 (pid 2550382)\n",
      "Unwrapping tile at row 8, column 7 (pid 2550384)\n",
      "Unwrapping tile at row 8, column 8 (pid 2550396)\n",
      "Unwrapping tile at row 8, column 9 (pid 2550397)\n",
      "Unwrapping tile at row 9, column 0 (pid 2550398)\n",
      "Unwrapping tile at row 9, column 1 (pid 2550416)\n",
      "Unwrapping tile at row 9, column 2 (pid 2550429)\n",
      "Unwrapping tile at row 9, column 3 (pid 2550431)\n",
      "Unwrapping tile at row 9, column 4 (pid 2550432)\n",
      "Unwrapping tile at row 9, column 5 (pid 2550441)\n",
      "Unwrapping tile at row 9, column 6 (pid 2550446)\n",
      "Unwrapping tile at row 9, column 7 (pid 2550454)\n",
      "Unwrapping tile at row 9, column 8 (pid 2550455)\n",
      "Unwrapping tile at row 9, column 9 (pid 2550456)\n",
      "Assembling tiles\n",
      "Running optimizer for secondary network\n",
      "Number of nodes in secondary network: 12932\n",
      "Flow increment: 1  (Total improvements: 0)\n",
      "Treesize: 12932      Pivots: 1838        Improvements: 52         \n",
      "Flow increment: 2  (Total improvements: 52)\n",
      "Treesize: 12932      Pivots: 0           Improvements: 0          \n",
      "Flow increment: 3  (Total improvements: 52)\n",
      "Treesize: 12932      Pivots: 0           Improvements: 0          \n",
      "Flow increment: 4  (Total improvements: 52)\n",
      "Treesize: 12932      Pivots: 0           Improvements: 0          \n",
      "Integrating secondary flows\n",
      "Output written to file UnwPhase_ifg_IW3_VV_02May2019_14May2019.snaphu.img\n",
      "Removing temporary directory snaphu_tiles_2550009\n",
      "SUGGESTION: Try increasing tile overlap and/or size if solution has edge artifacts\n",
      "Program snaphu done\n",
      "Elapsed processor time:   0:06:38.83\n",
      "Elapsed wall clock time:  0:01:57\n"
     ]
    },
    {
     "name": "stderr",
     "output_type": "stream",
     "text": [
      "77 incremental costs clipped to avoid overflow (0.002%)\n",
      "74 incremental costs clipped to avoid overflow (0.002%)\n",
      "74 incremental costs clipped to avoid overflow (0.002%)\n",
      "74 incremental costs clipped to avoid overflow (0.002%)\n"
     ]
    },
    {
     "name": "stdout",
     "output_type": "stream",
     "text": [
      "gpt \"./graphs/geocode_snaphuInterferogram_WGS84.xml\" -Pinterferogram_filename=\"/home/mcallegari/PROJECT_DATA/FROSTINI/test_MintPy/WCapeSenAT29_test/tmp/phase_coh_20190502_20190514.dim\" -Punw_interferogram_filename=\"/home/mcallegari/PROJECT_DATA/FROSTINI/test_MintPy/WCapeSenAT29_test/tmp/phase_coh_20190502_20190514/UnwPhase_ifg_IW3_VV_02May2019_14May2019.snaphu.hdr\" -Pphase_coh_bandnames=\"Phase_ifg_IW3_VV_02May2019_14May2019,Unw_Phase_ifg_02May2019_14May2019,coh_IW3_VV_02May2019_14May2019\" -PsaveDEM=\"false\" -Poutput_filename=\"/home/mcallegari/PROJECT_DATA/FROSTINI/test_MintPy/WCapeSenAT29_test/geocoded_interferogram_20190502_20190514.tif\"\n"
     ]
    },
    {
     "name": "stderr",
     "output_type": "stream",
     "text": [
      "INFO: org.esa.snap.core.gpf.operators.tooladapter.ToolAdapterIO: Initializing external tool adapters\n",
      "INFO: org.esa.snap.core.util.EngineVersionCheckActivator: Please check regularly for new updates for the best SNAP experience.\n"
     ]
    },
    {
     "name": "stdout",
     "output_type": "stream",
     "text": [
      "Executing processing graph\n"
     ]
    },
    {
     "name": "stderr",
     "output_type": "stream",
     "text": [
      "1886 [main] INFO hdf.hdflib.HDFLibrary - HDF4 library: \n",
      "1887 [main] INFO hdf.hdflib.HDFLibrary -  successfully loaded.\n",
      "1890 [main] INFO hdf.hdf5lib.H5 - HDF5 library: \n",
      "1890 [main] INFO hdf.hdf5lib.H5 -  successfully loaded.\n"
     ]
    },
    {
     "name": "stdout",
     "output_type": "stream",
     "text": [
      "....12%....24%....35%....47%....58%....70%....81%.... done.\n",
      "gpt \"./graphs/interferogram_sarGeometry.xml\" -Pprm_filename=\"/home/mcallegari/PROJECT_DATA/FROSTINI/test_MintPy/WCapeSenAT29_test/S1A_SLC_20190303T173425_062083_IW3_VV_191506.SAFE/manifest.safe\" -Psec_filename=\"/home/mcallegari/PROJECT_DATA/FROSTINI/test_MintPy/WCapeSenAT29_test/S1A_SLC_20190327T173425_062083_IW3_VV_194796.SAFE/manifest.safe\" -PcohWinRg=11 -PcohWinAz=3 -PnRgLooks=4 -PnAzLooks=1 -Poutput_filename=\"/home/mcallegari/PROJECT_DATA/FROSTINI/test_MintPy/WCapeSenAT29_test/tmp/phase_coh_20190303_20190327.dim\" -c 8192M\n"
     ]
    },
    {
     "name": "stderr",
     "output_type": "stream",
     "text": [
      "INFO: org.esa.snap.core.gpf.operators.tooladapter.ToolAdapterIO: Initializing external tool adapters\n",
      "INFO: org.esa.snap.core.util.EngineVersionCheckActivator: Please check regularly for new updates for the best SNAP experience.\n"
     ]
    },
    {
     "name": "stdout",
     "output_type": "stream",
     "text": [
      "Executing processing graph\n",
      "....11%....22%....33%....45%....56%....67%....78%....90% done.\n"
     ]
    },
    {
     "name": "stderr",
     "output_type": "stream",
     "text": [
      "-- org.jblas INFO Deleting /tmp/jblas16147427782592911031/libjblas_arch_flavor.so\n",
      "-- org.jblas INFO Deleting /tmp/jblas16147427782592911031/libjblas.so\n",
      "-- org.jblas INFO Deleting /tmp/jblas16147427782592911031/libgfortran-5.so\n",
      "-- org.jblas INFO Deleting /tmp/jblas16147427782592911031/libquadmath-0.so\n",
      "-- org.jblas INFO Deleting /tmp/jblas16147427782592911031\n",
      "INFO: org.esa.snap.core.gpf.operators.tooladapter.ToolAdapterIO: Initializing external tool adapters\n",
      "INFO: org.esa.snap.core.util.EngineVersionCheckActivator: Please check regularly for new updates for the best SNAP experience.\n"
     ]
    },
    {
     "name": "stdout",
     "output_type": "stream",
     "text": [
      "Executing processing graph\n",
      "...11%...22%...33%...45%...56%...67%...78%...90% done.\n"
     ]
    },
    {
     "name": "stderr",
     "output_type": "stream",
     "text": [
      "-- org.jblas INFO Deleting /tmp/jblas16988017764706546607/libjblas_arch_flavor.so\n",
      "-- org.jblas INFO Deleting /tmp/jblas16988017764706546607/libjblas.so\n",
      "-- org.jblas INFO Deleting /tmp/jblas16988017764706546607/libgfortran-5.so\n",
      "-- org.jblas INFO Deleting /tmp/jblas16988017764706546607/libquadmath-0.so\n",
      "-- org.jblas INFO Deleting /tmp/jblas16988017764706546607\n",
      "WARNING: Tile overlap is small (may give bad results)\n"
     ]
    },
    {
     "name": "stdout",
     "output_type": "stream",
     "text": [
      "snaphu -f snaphu.conf Phase_ifg_IW3_VV_03Mar2019_27Mar2019.snaphu.img 6120\n",
      "\n",
      "snaphu v2.0.4\n",
      "27 parameters input from file snaphu.conf (84 lines total)\n",
      "Logging run-time parameters to file snaphu.log\n",
      "Creating temporary directory snaphu_tiles_2551432\n",
      "Unwrapping tile at row 0, column 0 (pid 2551436)\n",
      "Unwrapping tile at row 0, column 1 (pid 2551440)\n",
      "Unwrapping tile at row 0, column 2 (pid 2551442)\n",
      "Unwrapping tile at row 0, column 3 (pid 2551451)\n",
      "Unwrapping tile at row 0, column 4 (pid 2551455)\n",
      "Unwrapping tile at row 0, column 5 (pid 2551458)\n",
      "Unwrapping tile at row 0, column 6 (pid 2551461)\n",
      "Unwrapping tile at row 0, column 7 (pid 2551467)\n",
      "Unwrapping tile at row 0, column 8 (pid 2551470)\n",
      "Unwrapping tile at row 0, column 9 (pid 2551482)\n",
      "Unwrapping tile at row 1, column 0 (pid 2551486)\n",
      "Unwrapping tile at row 1, column 1 (pid 2551489)\n",
      "Unwrapping tile at row 1, column 2 (pid 2551490)\n",
      "Unwrapping tile at row 1, column 3 (pid 2551501)\n",
      "Unwrapping tile at row 1, column 4 (pid 2551536)\n",
      "Unwrapping tile at row 1, column 5 (pid 2551539)\n",
      "Unwrapping tile at row 1, column 6 (pid 2551541)\n",
      "Unwrapping tile at row 1, column 7 (pid 2551543)\n",
      "Unwrapping tile at row 1, column 8 (pid 2551544)\n",
      "Unwrapping tile at row 1, column 9 (pid 2551562)\n",
      "Unwrapping tile at row 2, column 0 (pid 2551563)\n",
      "Unwrapping tile at row 2, column 1 (pid 2551565)\n",
      "Unwrapping tile at row 2, column 2 (pid 2551566)\n",
      "Unwrapping tile at row 2, column 3 (pid 2551568)\n",
      "Unwrapping tile at row 2, column 4 (pid 2551576)\n",
      "Unwrapping tile at row 2, column 5 (pid 2551579)\n",
      "Unwrapping tile at row 2, column 6 (pid 2551583)\n",
      "Unwrapping tile at row 2, column 7 (pid 2551585)\n",
      "Unwrapping tile at row 2, column 8 (pid 2551586)\n",
      "Unwrapping tile at row 2, column 9 (pid 2551604)\n",
      "Unwrapping tile at row 3, column 0 (pid 2551607)\n",
      "Unwrapping tile at row 3, column 1 (pid 2551609)\n",
      "Unwrapping tile at row 3, column 2 (pid 2551610)\n",
      "Unwrapping tile at row 3, column 3 (pid 2551611)\n",
      "Unwrapping tile at row 3, column 4 (pid 2551613)\n",
      "Unwrapping tile at row 3, column 5 (pid 2551623)\n",
      "Unwrapping tile at row 3, column 6 (pid 2551625)\n",
      "Unwrapping tile at row 3, column 7 (pid 2551627)\n",
      "Unwrapping tile at row 3, column 8 (pid 2551628)\n",
      "Unwrapping tile at row 3, column 9 (pid 2551630)\n",
      "Unwrapping tile at row 4, column 0 (pid 2551640)\n",
      "Unwrapping tile at row 4, column 1 (pid 2551642)\n",
      "Unwrapping tile at row 4, column 2 (pid 2551643)\n",
      "Unwrapping tile at row 4, column 3 (pid 2551644)\n",
      "Unwrapping tile at row 4, column 4 (pid 2551645)\n",
      "Unwrapping tile at row 4, column 5 (pid 2551654)\n",
      "Unwrapping tile at row 4, column 6 (pid 2551656)\n",
      "Unwrapping tile at row 4, column 7 (pid 2551658)\n",
      "Unwrapping tile at row 4, column 8 (pid 2551659)\n",
      "Unwrapping tile at row 4, column 9 (pid 2551668)\n",
      "Unwrapping tile at row 5, column 0 (pid 2551676)\n",
      "Unwrapping tile at row 5, column 1 (pid 2551680)\n",
      "Unwrapping tile at row 5, column 2 (pid 2551681)\n",
      "Unwrapping tile at row 5, column 3 (pid 2551682)\n",
      "Unwrapping tile at row 5, column 4 (pid 2551683)\n",
      "Unwrapping tile at row 5, column 5 (pid 2551685)\n",
      "Unwrapping tile at row 5, column 6 (pid 2551694)\n",
      "Unwrapping tile at row 5, column 7 (pid 2551696)\n",
      "Unwrapping tile at row 5, column 8 (pid 2551697)\n",
      "Unwrapping tile at row 5, column 9 (pid 2551698)\n",
      "Unwrapping tile at row 6, column 0 (pid 2551699)\n",
      "Unwrapping tile at row 6, column 1 (pid 2551711)\n",
      "Unwrapping tile at row 6, column 2 (pid 2551712)\n",
      "Unwrapping tile at row 6, column 3 (pid 2551713)\n",
      "Unwrapping tile at row 6, column 4 (pid 2551714)\n",
      "Unwrapping tile at row 6, column 5 (pid 2551719)\n",
      "Unwrapping tile at row 6, column 6 (pid 2551728)\n",
      "Unwrapping tile at row 6, column 7 (pid 2551730)\n",
      "Unwrapping tile at row 6, column 8 (pid 2551731)\n",
      "Unwrapping tile at row 6, column 9 (pid 2551733)\n",
      "Unwrapping tile at row 7, column 0 (pid 2551734)\n",
      "Unwrapping tile at row 7, column 1 (pid 2551743)\n",
      "Unwrapping tile at row 7, column 2 (pid 2551746)\n",
      "Unwrapping tile at row 7, column 3 (pid 2551747)\n",
      "Unwrapping tile at row 7, column 4 (pid 2551763)\n",
      "Unwrapping tile at row 7, column 5 (pid 2551765)\n",
      "Unwrapping tile at row 7, column 6 (pid 2551767)\n",
      "Unwrapping tile at row 7, column 7 (pid 2551780)\n",
      "Unwrapping tile at row 7, column 8 (pid 2551781)\n",
      "Unwrapping tile at row 7, column 9 (pid 2551790)\n",
      "Unwrapping tile at row 8, column 0 (pid 2551791)\n",
      "Unwrapping tile at row 8, column 1 (pid 2551793)\n",
      "Unwrapping tile at row 8, column 2 (pid 2551803)\n",
      "Unwrapping tile at row 8, column 3 (pid 2551811)\n",
      "Unwrapping tile at row 8, column 4 (pid 2551812)\n",
      "Unwrapping tile at row 8, column 5 (pid 2551814)\n",
      "Unwrapping tile at row 8, column 6 (pid 2551822)\n",
      "Unwrapping tile at row 8, column 7 (pid 2551834)\n",
      "Unwrapping tile at row 8, column 8 (pid 2551835)\n",
      "Unwrapping tile at row 8, column 9 (pid 2551836)\n",
      "Unwrapping tile at row 9, column 0 (pid 2551837)\n",
      "Unwrapping tile at row 9, column 1 (pid 2551839)\n",
      "Unwrapping tile at row 9, column 2 (pid 2551849)\n",
      "Unwrapping tile at row 9, column 3 (pid 2551852)\n",
      "Unwrapping tile at row 9, column 4 (pid 2551854)\n",
      "Unwrapping tile at row 9, column 5 (pid 2551856)\n",
      "Unwrapping tile at row 9, column 6 (pid 2551860)\n",
      "Unwrapping tile at row 9, column 7 (pid 2551862)\n",
      "Unwrapping tile at row 9, column 8 (pid 2551871)\n",
      "Unwrapping tile at row 9, column 9 (pid 2551873)\n",
      "Assembling tiles\n",
      "Running optimizer for secondary network\n",
      "Number of nodes in secondary network: 15590\n",
      "Flow increment: 1  (Total improvements: 0)\n",
      "Treesize: 15590      Pivots: 15          Improvements: 4          \n",
      "Flow increment: 2  (Total improvements: 4)\n",
      "Treesize: 15590      Pivots: 0           Improvements: 0          \n",
      "Flow increment: 3  (Total improvements: 4)\n",
      "Treesize: 15590      Pivots: 0           Improvements: 0          \n",
      "Flow increment: 4  (Total improvements: 4)\n",
      "Treesize: 15590      Pivots: 0           Improvements: 0          \n",
      "Integrating secondary flows\n",
      "Output written to file UnwPhase_ifg_IW3_VV_03Mar2019_27Mar2019.snaphu.img\n",
      "Removing temporary directory snaphu_tiles_2551432\n",
      "SUGGESTION: Try increasing tile overlap and/or size if solution has edge artifacts\n",
      "Program snaphu done\n",
      "Elapsed processor time:   0:06:51.40\n",
      "Elapsed wall clock time:  0:01:47\n",
      "gpt \"./graphs/geocode_snaphuInterferogram_WGS84.xml\" -Pinterferogram_filename=\"/home/mcallegari/PROJECT_DATA/FROSTINI/test_MintPy/WCapeSenAT29_test/tmp/phase_coh_20190303_20190327.dim\" -Punw_interferogram_filename=\"/home/mcallegari/PROJECT_DATA/FROSTINI/test_MintPy/WCapeSenAT29_test/tmp/phase_coh_20190303_20190327/UnwPhase_ifg_IW3_VV_03Mar2019_27Mar2019.snaphu.hdr\" -Pphase_coh_bandnames=\"Phase_ifg_IW3_VV_03Mar2019_27Mar2019,Unw_Phase_ifg_03Mar2019_27Mar2019,coh_IW3_VV_03Mar2019_27Mar2019\" -PsaveDEM=\"false\" -Poutput_filename=\"/home/mcallegari/PROJECT_DATA/FROSTINI/test_MintPy/WCapeSenAT29_test/geocoded_interferogram_20190303_20190327.tif\"\n"
     ]
    },
    {
     "name": "stderr",
     "output_type": "stream",
     "text": [
      "56 incremental costs clipped to avoid overflow (0.001%)\n",
      "56 incremental costs clipped to avoid overflow (0.001%)\n",
      "58 incremental costs clipped to avoid overflow (0.001%)\n",
      "58 incremental costs clipped to avoid overflow (0.001%)\n",
      "INFO: org.esa.snap.core.gpf.operators.tooladapter.ToolAdapterIO: Initializing external tool adapters\n",
      "INFO: org.esa.snap.core.util.EngineVersionCheckActivator: Please check regularly for new updates for the best SNAP experience.\n"
     ]
    },
    {
     "name": "stdout",
     "output_type": "stream",
     "text": [
      "Executing processing graph\n"
     ]
    },
    {
     "name": "stderr",
     "output_type": "stream",
     "text": [
      "1859 [main] INFO hdf.hdflib.HDFLibrary - HDF4 library: \n",
      "1860 [main] INFO hdf.hdflib.HDFLibrary -  successfully loaded.\n",
      "1863 [main] INFO hdf.hdf5lib.H5 - HDF5 library: \n",
      "1863 [main] INFO hdf.hdf5lib.H5 -  successfully loaded.\n"
     ]
    },
    {
     "name": "stdout",
     "output_type": "stream",
     "text": [
      "....12%....24%....35%....47%....58%....70%....81%.... done.\n",
      "gpt \"./graphs/interferogram_sarGeometry.xml\" -Pprm_filename=\"/home/mcallegari/PROJECT_DATA/FROSTINI/test_MintPy/WCapeSenAT29_test/S1A_SLC_20190327T173425_062083_IW3_VV_194796.SAFE/manifest.safe\" -Psec_filename=\"/home/mcallegari/PROJECT_DATA/FROSTINI/test_MintPy/WCapeSenAT29_test/S1A_SLC_20190408T173425_062083_IW3_VV_196444.SAFE/manifest.safe\" -PcohWinRg=11 -PcohWinAz=3 -PnRgLooks=4 -PnAzLooks=1 -Poutput_filename=\"/home/mcallegari/PROJECT_DATA/FROSTINI/test_MintPy/WCapeSenAT29_test/tmp/phase_coh_20190327_20190408.dim\" -c 8192M\n"
     ]
    },
    {
     "name": "stderr",
     "output_type": "stream",
     "text": [
      "INFO: org.esa.snap.core.gpf.operators.tooladapter.ToolAdapterIO: Initializing external tool adapters\n",
      "INFO: org.esa.snap.core.util.EngineVersionCheckActivator: Please check regularly for new updates for the best SNAP experience.\n"
     ]
    },
    {
     "name": "stdout",
     "output_type": "stream",
     "text": [
      "Executing processing graph\n",
      "....11%....22%....33%....45%....56%....67%....78%....90% done.\n"
     ]
    },
    {
     "name": "stderr",
     "output_type": "stream",
     "text": [
      "-- org.jblas INFO Deleting /tmp/jblas17858814652696638117/libjblas_arch_flavor.so\n",
      "-- org.jblas INFO Deleting /tmp/jblas17858814652696638117/libjblas.so\n",
      "-- org.jblas INFO Deleting /tmp/jblas17858814652696638117/libgfortran-5.so\n",
      "-- org.jblas INFO Deleting /tmp/jblas17858814652696638117/libquadmath-0.so\n",
      "-- org.jblas INFO Deleting /tmp/jblas17858814652696638117\n",
      "INFO: org.esa.snap.core.gpf.operators.tooladapter.ToolAdapterIO: Initializing external tool adapters\n",
      "INFO: org.esa.snap.core.util.EngineVersionCheckActivator: Please check regularly for new updates for the best SNAP experience.\n"
     ]
    },
    {
     "name": "stdout",
     "output_type": "stream",
     "text": [
      "Executing processing graph\n",
      "...11%...22%...33%...45%...56%...67%...78%...90% done.\n"
     ]
    },
    {
     "name": "stderr",
     "output_type": "stream",
     "text": [
      "-- org.jblas INFO Deleting /tmp/jblas6034857774144053713/libjblas_arch_flavor.so\n",
      "-- org.jblas INFO Deleting /tmp/jblas6034857774144053713/libjblas.so\n",
      "-- org.jblas INFO Deleting /tmp/jblas6034857774144053713/libgfortran-5.so\n",
      "-- org.jblas INFO Deleting /tmp/jblas6034857774144053713/libquadmath-0.so\n",
      "-- org.jblas INFO Deleting /tmp/jblas6034857774144053713\n",
      "WARNING: Tile overlap is small (may give bad results)\n"
     ]
    },
    {
     "name": "stdout",
     "output_type": "stream",
     "text": [
      "snaphu -f snaphu.conf Phase_ifg_IW3_VV_27Mar2019_08Apr2019.snaphu.img 6120\n",
      "\n",
      "snaphu v2.0.4\n",
      "27 parameters input from file snaphu.conf (84 lines total)\n",
      "Logging run-time parameters to file snaphu.log\n",
      "Creating temporary directory snaphu_tiles_2552803\n",
      "Unwrapping tile at row 0, column 0 (pid 2552807)\n",
      "Unwrapping tile at row 0, column 1 (pid 2552819)\n",
      "Unwrapping tile at row 0, column 2 (pid 2552824)\n",
      "Unwrapping tile at row 0, column 3 (pid 2552826)\n",
      "Unwrapping tile at row 0, column 4 (pid 2552830)\n",
      "Unwrapping tile at row 0, column 5 (pid 2552832)\n",
      "Unwrapping tile at row 0, column 6 (pid 2552835)\n",
      "Unwrapping tile at row 0, column 7 (pid 2552849)\n",
      "Unwrapping tile at row 0, column 8 (pid 2552851)\n",
      "Unwrapping tile at row 0, column 9 (pid 2552853)\n",
      "Unwrapping tile at row 1, column 0 (pid 2552857)\n",
      "Unwrapping tile at row 1, column 1 (pid 2552860)\n",
      "Unwrapping tile at row 1, column 2 (pid 2552869)\n",
      "Unwrapping tile at row 1, column 3 (pid 2552870)\n",
      "Unwrapping tile at row 1, column 4 (pid 2552871)\n",
      "Unwrapping tile at row 1, column 5 (pid 2552872)\n",
      "Unwrapping tile at row 1, column 6 (pid 2552875)\n",
      "Unwrapping tile at row 1, column 7 (pid 2552884)\n",
      "Unwrapping tile at row 1, column 8 (pid 2552886)\n",
      "Unwrapping tile at row 1, column 9 (pid 2552887)\n",
      "Unwrapping tile at row 2, column 0 (pid 2552888)\n",
      "Unwrapping tile at row 2, column 1 (pid 2552892)\n",
      "Unwrapping tile at row 2, column 2 (pid 2552901)\n",
      "Unwrapping tile at row 2, column 3 (pid 2552913)\n",
      "Unwrapping tile at row 2, column 4 (pid 2552914)\n",
      "Unwrapping tile at row 2, column 5 (pid 2552923)\n",
      "Unwrapping tile at row 2, column 6 (pid 2552925)\n",
      "Unwrapping tile at row 2, column 7 (pid 2552926)\n",
      "Unwrapping tile at row 2, column 8 (pid 2552936)\n",
      "Unwrapping tile at row 2, column 9 (pid 2552937)\n",
      "Unwrapping tile at row 3, column 0 (pid 2552938)\n",
      "Unwrapping tile at row 3, column 1 (pid 2552941)\n",
      "Unwrapping tile at row 3, column 2 (pid 2552943)\n",
      "Unwrapping tile at row 3, column 3 (pid 2552951)\n",
      "Unwrapping tile at row 3, column 4 (pid 2552952)\n",
      "Unwrapping tile at row 3, column 5 (pid 2552953)\n",
      "Unwrapping tile at row 3, column 6 (pid 2552955)\n",
      "Unwrapping tile at row 3, column 7 (pid 2552956)\n",
      "Unwrapping tile at row 3, column 8 (pid 2552966)\n",
      "Unwrapping tile at row 3, column 9 (pid 2552967)\n",
      "Unwrapping tile at row 4, column 0 (pid 2552968)\n",
      "Unwrapping tile at row 4, column 1 (pid 2552976)\n",
      "Unwrapping tile at row 4, column 2 (pid 2552978)\n",
      "Unwrapping tile at row 4, column 3 (pid 2552986)\n",
      "Unwrapping tile at row 4, column 4 (pid 2552987)\n",
      "Unwrapping tile at row 4, column 5 (pid 2552988)\n",
      "Unwrapping tile at row 4, column 6 (pid 2552991)\n",
      "Unwrapping tile at row 4, column 7 (pid 2552996)\n",
      "Unwrapping tile at row 4, column 8 (pid 2552997)\n",
      "Unwrapping tile at row 4, column 9 (pid 2553007)\n",
      "Unwrapping tile at row 5, column 0 (pid 2553025)\n",
      "Unwrapping tile at row 5, column 1 (pid 2553028)\n",
      "Unwrapping tile at row 5, column 2 (pid 2553030)\n",
      "Unwrapping tile at row 5, column 3 (pid 2553031)\n",
      "Unwrapping tile at row 5, column 4 (pid 2553039)\n",
      "Unwrapping tile at row 5, column 5 (pid 2553048)\n",
      "Unwrapping tile at row 5, column 6 (pid 2553050)\n",
      "Unwrapping tile at row 5, column 7 (pid 2553051)\n",
      "Unwrapping tile at row 5, column 8 (pid 2553052)\n",
      "Unwrapping tile at row 5, column 9 (pid 2553062)\n",
      "Unwrapping tile at row 6, column 0 (pid 2553064)\n",
      "Unwrapping tile at row 6, column 1 (pid 2553067)\n",
      "Unwrapping tile at row 6, column 2 (pid 2553074)\n",
      "Unwrapping tile at row 6, column 3 (pid 2553075)\n",
      "Unwrapping tile at row 6, column 4 (pid 2553083)\n",
      "Unwrapping tile at row 6, column 5 (pid 2553084)\n",
      "Unwrapping tile at row 6, column 6 (pid 2553086)\n",
      "Unwrapping tile at row 6, column 7 (pid 2553087)\n",
      "Unwrapping tile at row 6, column 8 (pid 2553088)\n",
      "Unwrapping tile at row 6, column 9 (pid 2553089)\n",
      "Unwrapping tile at row 7, column 0 (pid 2553103)\n",
      "Unwrapping tile at row 7, column 1 (pid 2553106)\n",
      "Unwrapping tile at row 7, column 2 (pid 2553108)\n",
      "Unwrapping tile at row 7, column 3 (pid 2553109)\n",
      "Unwrapping tile at row 7, column 4 (pid 2553110)\n",
      "Unwrapping tile at row 7, column 5 (pid 2553119)\n",
      "Unwrapping tile at row 7, column 6 (pid 2553122)\n",
      "Unwrapping tile at row 7, column 7 (pid 2553124)\n",
      "Unwrapping tile at row 7, column 8 (pid 2553125)\n",
      "Unwrapping tile at row 7, column 9 (pid 2553126)\n",
      "Unwrapping tile at row 8, column 0 (pid 2553136)\n",
      "Unwrapping tile at row 8, column 1 (pid 2553139)\n",
      "Unwrapping tile at row 8, column 2 (pid 2553142)\n",
      "Unwrapping tile at row 8, column 3 (pid 2553143)\n",
      "Unwrapping tile at row 8, column 4 (pid 2553144)\n",
      "Unwrapping tile at row 8, column 5 (pid 2553160)\n",
      "Unwrapping tile at row 8, column 6 (pid 2553162)\n",
      "Unwrapping tile at row 8, column 7 (pid 2553163)\n",
      "Unwrapping tile at row 8, column 8 (pid 2553164)\n",
      "Unwrapping tile at row 8, column 9 (pid 2553165)\n",
      "Unwrapping tile at row 9, column 0 (pid 2553173)\n",
      "Unwrapping tile at row 9, column 1 (pid 2553179)\n",
      "Unwrapping tile at row 9, column 2 (pid 2553181)\n",
      "Unwrapping tile at row 9, column 3 (pid 2553182)\n",
      "Unwrapping tile at row 9, column 4 (pid 2553183)\n",
      "Unwrapping tile at row 9, column 5 (pid 2553184)\n",
      "Unwrapping tile at row 9, column 6 (pid 2553193)\n",
      "Unwrapping tile at row 9, column 7 (pid 2553194)\n",
      "Unwrapping tile at row 9, column 8 (pid 2553195)\n",
      "Unwrapping tile at row 9, column 9 (pid 2553196)\n",
      "Assembling tiles\n",
      "Running optimizer for secondary network\n",
      "Number of nodes in secondary network: 12443\n",
      "Flow increment: 1  (Total improvements: 0)\n",
      "Treesize: 12443      Pivots: 521         Improvements: 38         \n",
      "Flow increment: 2  (Total improvements: 38)\n",
      "Treesize: 12443      Pivots: 0           Improvements: 0          \n",
      "Flow increment: 3  (Total improvements: 38)\n",
      "Treesize: 12443      Pivots: 0           Improvements: 0          \n",
      "Flow increment: 4  (Total improvements: 38)\n",
      "Treesize: 12443      Pivots: 0           Improvements: 0          \n",
      "Integrating secondary flows\n",
      "Output written to file UnwPhase_ifg_IW3_VV_27Mar2019_08Apr2019.snaphu.img\n",
      "Removing temporary directory snaphu_tiles_2552803\n",
      "SUGGESTION: Try increasing tile overlap and/or size if solution has edge artifacts\n",
      "Program snaphu done\n",
      "Elapsed processor time:   0:05:09.90\n",
      "Elapsed wall clock time:  0:01:45\n",
      "gpt \"./graphs/geocode_snaphuInterferogram_WGS84.xml\" -Pinterferogram_filename=\"/home/mcallegari/PROJECT_DATA/FROSTINI/test_MintPy/WCapeSenAT29_test/tmp/phase_coh_20190327_20190408.dim\" -Punw_interferogram_filename=\"/home/mcallegari/PROJECT_DATA/FROSTINI/test_MintPy/WCapeSenAT29_test/tmp/phase_coh_20190327_20190408/UnwPhase_ifg_IW3_VV_27Mar2019_08Apr2019.snaphu.hdr\" -Pphase_coh_bandnames=\"Phase_ifg_IW3_VV_27Mar2019_08Apr2019,Unw_Phase_ifg_27Mar2019_08Apr2019,coh_IW3_VV_27Mar2019_08Apr2019\" -PsaveDEM=\"false\" -Poutput_filename=\"/home/mcallegari/PROJECT_DATA/FROSTINI/test_MintPy/WCapeSenAT29_test/geocoded_interferogram_20190327_20190408.tif\"\n"
     ]
    },
    {
     "name": "stderr",
     "output_type": "stream",
     "text": [
      "87 incremental costs clipped to avoid overflow (0.002%)\n",
      "86 incremental costs clipped to avoid overflow (0.002%)\n",
      "86 incremental costs clipped to avoid overflow (0.002%)\n",
      "88 incremental costs clipped to avoid overflow (0.002%)\n",
      "INFO: org.esa.snap.core.gpf.operators.tooladapter.ToolAdapterIO: Initializing external tool adapters\n",
      "INFO: org.esa.snap.core.util.EngineVersionCheckActivator: Please check regularly for new updates for the best SNAP experience.\n"
     ]
    },
    {
     "name": "stdout",
     "output_type": "stream",
     "text": [
      "Executing processing graph\n"
     ]
    },
    {
     "name": "stderr",
     "output_type": "stream",
     "text": [
      "1856 [main] INFO hdf.hdflib.HDFLibrary - HDF4 library: \n",
      "1857 [main] INFO hdf.hdflib.HDFLibrary -  successfully loaded.\n",
      "1860 [main] INFO hdf.hdf5lib.H5 - HDF5 library: \n",
      "1860 [main] INFO hdf.hdf5lib.H5 -  successfully loaded.\n"
     ]
    },
    {
     "name": "stdout",
     "output_type": "stream",
     "text": [
      "....12%....24%....35%....47%....58%....70%....81%.... done.\n",
      "gpt \"./graphs/interferogram_sarGeometry.xml\" -Pprm_filename=\"/home/mcallegari/PROJECT_DATA/FROSTINI/test_MintPy/WCapeSenAT29_test/S1A_SLC_20190420T173426_062083_IW3_VV_198063.SAFE/manifest.safe\" -Psec_filename=\"/home/mcallegari/PROJECT_DATA/FROSTINI/test_MintPy/WCapeSenAT29_test/S1A_SLC_20190514T173427_062083_IW3_VV_201172.SAFE/manifest.safe\" -PcohWinRg=11 -PcohWinAz=3 -PnRgLooks=4 -PnAzLooks=1 -Poutput_filename=\"/home/mcallegari/PROJECT_DATA/FROSTINI/test_MintPy/WCapeSenAT29_test/tmp/phase_coh_20190420_20190514.dim\" -c 8192M\n"
     ]
    },
    {
     "name": "stderr",
     "output_type": "stream",
     "text": [
      "INFO: org.esa.snap.core.gpf.operators.tooladapter.ToolAdapterIO: Initializing external tool adapters\n",
      "INFO: org.esa.snap.core.util.EngineVersionCheckActivator: Please check regularly for new updates for the best SNAP experience.\n"
     ]
    },
    {
     "name": "stdout",
     "output_type": "stream",
     "text": [
      "Executing processing graph\n"
     ]
    },
    {
     "name": "stderr",
     "output_type": "stream",
     "text": [
      "INFO: eu.esa.sar.commons.io.ImageIOFile: Using FileCacheImageInputStream\n"
     ]
    },
    {
     "name": "stdout",
     "output_type": "stream",
     "text": [
      "....11%....22%....33%....45%....56%....67%....78%....90% done.\n"
     ]
    },
    {
     "name": "stderr",
     "output_type": "stream",
     "text": [
      "-- org.jblas INFO Deleting /tmp/jblas7395774822601314958/libjblas_arch_flavor.so\n",
      "-- org.jblas INFO Deleting /tmp/jblas7395774822601314958/libjblas.so\n",
      "-- org.jblas INFO Deleting /tmp/jblas7395774822601314958/libgfortran-5.so\n",
      "-- org.jblas INFO Deleting /tmp/jblas7395774822601314958/libquadmath-0.so\n",
      "-- org.jblas INFO Deleting /tmp/jblas7395774822601314958\n",
      "INFO: org.esa.snap.core.gpf.operators.tooladapter.ToolAdapterIO: Initializing external tool adapters\n",
      "INFO: org.esa.snap.core.util.EngineVersionCheckActivator: Please check regularly for new updates for the best SNAP experience.\n"
     ]
    },
    {
     "name": "stdout",
     "output_type": "stream",
     "text": [
      "Executing processing graph\n",
      "...11%...22%...33%...45%...56%...67%...78%...90% done.\n"
     ]
    },
    {
     "name": "stderr",
     "output_type": "stream",
     "text": [
      "-- org.jblas INFO Deleting /tmp/jblas12431229880420434383/libjblas_arch_flavor.so\n",
      "-- org.jblas INFO Deleting /tmp/jblas12431229880420434383/libjblas.so\n",
      "-- org.jblas INFO Deleting /tmp/jblas12431229880420434383/libgfortran-5.so\n",
      "-- org.jblas INFO Deleting /tmp/jblas12431229880420434383/libquadmath-0.so\n",
      "-- org.jblas INFO Deleting /tmp/jblas12431229880420434383\n",
      "WARNING: Tile overlap is small (may give bad results)\n"
     ]
    },
    {
     "name": "stdout",
     "output_type": "stream",
     "text": [
      "snaphu -f snaphu.conf Phase_ifg_IW3_VV_20Apr2019_14May2019.snaphu.img 6120\n",
      "\n",
      "snaphu v2.0.4\n",
      "27 parameters input from file snaphu.conf (84 lines total)\n",
      "Logging run-time parameters to file snaphu.log\n",
      "Creating temporary directory snaphu_tiles_2554067\n",
      "Unwrapping tile at row 0, column 0 (pid 2554072)\n",
      "Unwrapping tile at row 0, column 1 (pid 2554077)\n",
      "Unwrapping tile at row 0, column 2 (pid 2554086)\n",
      "Unwrapping tile at row 0, column 3 (pid 2554088)\n",
      "Unwrapping tile at row 0, column 4 (pid 2554091)\n",
      "Unwrapping tile at row 0, column 5 (pid 2554094)\n",
      "Unwrapping tile at row 0, column 6 (pid 2554097)\n",
      "Unwrapping tile at row 0, column 7 (pid 2554109)\n",
      "Unwrapping tile at row 0, column 8 (pid 2554113)\n",
      "Unwrapping tile at row 0, column 9 (pid 2554115)\n",
      "Unwrapping tile at row 1, column 0 (pid 2554120)\n",
      "Unwrapping tile at row 1, column 1 (pid 2554123)\n",
      "Unwrapping tile at row 1, column 2 (pid 2554124)\n",
      "Unwrapping tile at row 1, column 3 (pid 2554132)\n",
      "Unwrapping tile at row 1, column 4 (pid 2554135)\n",
      "Unwrapping tile at row 1, column 5 (pid 2554145)\n",
      "Unwrapping tile at row 1, column 6 (pid 2554146)\n",
      "Unwrapping tile at row 1, column 7 (pid 2554147)\n",
      "Unwrapping tile at row 1, column 8 (pid 2554157)\n",
      "Unwrapping tile at row 1, column 9 (pid 2554158)\n",
      "Unwrapping tile at row 2, column 0 (pid 2554160)\n",
      "Unwrapping tile at row 2, column 1 (pid 2554163)\n",
      "Unwrapping tile at row 2, column 2 (pid 2554170)\n",
      "Unwrapping tile at row 2, column 3 (pid 2554178)\n",
      "Unwrapping tile at row 2, column 4 (pid 2554180)\n",
      "Unwrapping tile at row 2, column 5 (pid 2554182)\n",
      "Unwrapping tile at row 2, column 6 (pid 2554183)\n",
      "Unwrapping tile at row 2, column 7 (pid 2554184)\n",
      "Unwrapping tile at row 2, column 8 (pid 2554193)\n",
      "Unwrapping tile at row 2, column 9 (pid 2554195)\n",
      "Unwrapping tile at row 3, column 0 (pid 2554199)\n",
      "Unwrapping tile at row 3, column 1 (pid 2554204)\n",
      "Unwrapping tile at row 3, column 2 (pid 2554205)\n",
      "Unwrapping tile at row 3, column 3 (pid 2554206)\n",
      "Unwrapping tile at row 3, column 4 (pid 2554215)\n",
      "Unwrapping tile at row 3, column 5 (pid 2554217)\n",
      "Unwrapping tile at row 3, column 6 (pid 2554218)\n",
      "Unwrapping tile at row 3, column 7 (pid 2554219)\n",
      "Unwrapping tile at row 3, column 8 (pid 2554220)\n",
      "Unwrapping tile at row 3, column 9 (pid 2554246)\n",
      "Unwrapping tile at row 4, column 0 (pid 2554249)\n",
      "Unwrapping tile at row 4, column 1 (pid 2554252)\n",
      "Unwrapping tile at row 4, column 2 (pid 2554282)\n",
      "Unwrapping tile at row 4, column 3 (pid 2554289)\n",
      "Unwrapping tile at row 4, column 4 (pid 2554736)\n",
      "Unwrapping tile at row 4, column 5 (pid 2554864)\n",
      "Unwrapping tile at row 4, column 6 (pid 2554865)\n",
      "Unwrapping tile at row 4, column 7 (pid 2554872)\n",
      "Unwrapping tile at row 4, column 8 (pid 2554873)\n",
      "Unwrapping tile at row 4, column 9 (pid 2554883)\n",
      "Unwrapping tile at row 5, column 0 (pid 2554891)\n",
      "Unwrapping tile at row 5, column 1 (pid 2554933)\n",
      "Unwrapping tile at row 5, column 2 (pid 2554934)\n",
      "Unwrapping tile at row 5, column 3 (pid 2554937)\n",
      "Unwrapping tile at row 5, column 4 (pid 2554945)\n",
      "Unwrapping tile at row 5, column 5 (pid 2554947)\n",
      "Unwrapping tile at row 5, column 6 (pid 2554948)\n",
      "Unwrapping tile at row 5, column 7 (pid 2554949)\n",
      "Unwrapping tile at row 5, column 8 (pid 2554952)\n",
      "Unwrapping tile at row 5, column 9 (pid 2554961)\n",
      "Unwrapping tile at row 6, column 0 (pid 2554965)\n",
      "Unwrapping tile at row 6, column 1 (pid 2554967)\n",
      "Unwrapping tile at row 6, column 2 (pid 2554968)\n",
      "Unwrapping tile at row 6, column 3 (pid 2554969)\n",
      "Unwrapping tile at row 6, column 4 (pid 2554977)\n",
      "Unwrapping tile at row 6, column 5 (pid 2554979)\n",
      "Unwrapping tile at row 6, column 6 (pid 2554980)\n",
      "Unwrapping tile at row 6, column 7 (pid 2554981)\n",
      "Unwrapping tile at row 6, column 8 (pid 2554982)\n",
      "Unwrapping tile at row 6, column 9 (pid 2554983)\n",
      "Unwrapping tile at row 7, column 0 (pid 2554997)\n",
      "Unwrapping tile at row 7, column 1 (pid 2554999)\n",
      "Unwrapping tile at row 7, column 2 (pid 2555000)\n",
      "Unwrapping tile at row 7, column 3 (pid 2555001)\n",
      "Unwrapping tile at row 7, column 4 (pid 2555011)\n",
      "Unwrapping tile at row 7, column 5 (pid 2555022)\n",
      "Unwrapping tile at row 7, column 6 (pid 2555034)\n",
      "Unwrapping tile at row 7, column 7 (pid 2555035)\n",
      "Unwrapping tile at row 7, column 8 (pid 2555036)\n",
      "Unwrapping tile at row 7, column 9 (pid 2555037)\n",
      "Unwrapping tile at row 8, column 0 (pid 2555048)\n",
      "Unwrapping tile at row 8, column 1 (pid 2555051)\n",
      "Unwrapping tile at row 8, column 2 (pid 2555053)\n",
      "Unwrapping tile at row 8, column 3 (pid 2555054)\n",
      "Unwrapping tile at row 8, column 4 (pid 2555055)\n",
      "Unwrapping tile at row 8, column 5 (pid 2555065)\n",
      "Unwrapping tile at row 8, column 6 (pid 2555066)\n",
      "Unwrapping tile at row 8, column 7 (pid 2555067)\n",
      "Unwrapping tile at row 8, column 8 (pid 2555068)\n",
      "Unwrapping tile at row 8, column 9 (pid 2555069)\n",
      "Unwrapping tile at row 9, column 0 (pid 2555072)\n",
      "Unwrapping tile at row 9, column 1 (pid 2555083)\n",
      "Unwrapping tile at row 9, column 2 (pid 2555084)\n",
      "Unwrapping tile at row 9, column 3 (pid 2555085)\n",
      "Unwrapping tile at row 9, column 4 (pid 2555086)\n",
      "Unwrapping tile at row 9, column 5 (pid 2555088)\n",
      "Unwrapping tile at row 9, column 6 (pid 2555096)\n",
      "Unwrapping tile at row 9, column 7 (pid 2555097)\n",
      "Unwrapping tile at row 9, column 8 (pid 2555098)\n",
      "Unwrapping tile at row 9, column 9 (pid 2555099)\n",
      "Assembling tiles\n",
      "Running optimizer for secondary network\n",
      "Number of nodes in secondary network: 17736\n",
      "Flow increment: 1  (Total improvements: 0)\n",
      "Treesize: 17736      Pivots: 388         Improvements: 30         \n",
      "Flow increment: 2  (Total improvements: 30)\n",
      "Treesize: 17736      Pivots: 0           Improvements: 0          \n",
      "Flow increment: 3  (Total improvements: 30)\n",
      "Treesize: 17736      Pivots: 0           Improvements: 0          \n",
      "Flow increment: 4  (Total improvements: 30)\n",
      "Treesize: 17736      Pivots: 0           Improvements: 0          \n",
      "Integrating secondary flows\n",
      "Output written to file UnwPhase_ifg_IW3_VV_20Apr2019_14May2019.snaphu.img\n",
      "Removing temporary directory snaphu_tiles_2554067\n",
      "SUGGESTION: Try increasing tile overlap and/or size if solution has edge artifacts\n",
      "Program snaphu done\n",
      "Elapsed processor time:   0:08:10.71\n",
      "Elapsed wall clock time:  0:01:48\n"
     ]
    },
    {
     "name": "stderr",
     "output_type": "stream",
     "text": [
      "47 incremental costs clipped to avoid overflow (0.001%)\n",
      "43 incremental costs clipped to avoid overflow (0.001%)\n",
      "43 incremental costs clipped to avoid overflow (0.001%)\n",
      "44 incremental costs clipped to avoid overflow (0.001%)\n"
     ]
    },
    {
     "name": "stdout",
     "output_type": "stream",
     "text": [
      "gpt \"./graphs/geocode_snaphuInterferogram_WGS84.xml\" -Pinterferogram_filename=\"/home/mcallegari/PROJECT_DATA/FROSTINI/test_MintPy/WCapeSenAT29_test/tmp/phase_coh_20190420_20190514.dim\" -Punw_interferogram_filename=\"/home/mcallegari/PROJECT_DATA/FROSTINI/test_MintPy/WCapeSenAT29_test/tmp/phase_coh_20190420_20190514/UnwPhase_ifg_IW3_VV_20Apr2019_14May2019.snaphu.hdr\" -Pphase_coh_bandnames=\"Phase_ifg_IW3_VV_20Apr2019_14May2019,Unw_Phase_ifg_20Apr2019_14May2019,coh_IW3_VV_20Apr2019_14May2019\" -PsaveDEM=\"false\" -Poutput_filename=\"/home/mcallegari/PROJECT_DATA/FROSTINI/test_MintPy/WCapeSenAT29_test/geocoded_interferogram_20190420_20190514.tif\"\n"
     ]
    },
    {
     "name": "stderr",
     "output_type": "stream",
     "text": [
      "INFO: org.esa.snap.core.gpf.operators.tooladapter.ToolAdapterIO: Initializing external tool adapters\n",
      "INFO: org.esa.snap.core.util.EngineVersionCheckActivator: Please check regularly for new updates for the best SNAP experience.\n"
     ]
    },
    {
     "name": "stdout",
     "output_type": "stream",
     "text": [
      "Executing processing graph\n"
     ]
    },
    {
     "name": "stderr",
     "output_type": "stream",
     "text": [
      "1915 [main] INFO hdf.hdflib.HDFLibrary - HDF4 library: \n",
      "1915 [main] INFO hdf.hdflib.HDFLibrary -  successfully loaded.\n",
      "1919 [main] INFO hdf.hdf5lib.H5 - HDF5 library: \n",
      "1919 [main] INFO hdf.hdf5lib.H5 -  successfully loaded.\n"
     ]
    },
    {
     "name": "stdout",
     "output_type": "stream",
     "text": [
      "....12%....24%....35%....47%....58%....70%....81%.... done.\n",
      "gpt \"./graphs/interferogram_sarGeometry.xml\" -Pprm_filename=\"/home/mcallegari/PROJECT_DATA/FROSTINI/test_MintPy/WCapeSenAT29_test/S1A_SLC_20190315T173425_062083_IW3_VV_193151.SAFE/manifest.safe\" -Psec_filename=\"/home/mcallegari/PROJECT_DATA/FROSTINI/test_MintPy/WCapeSenAT29_test/S1A_SLC_20190420T173426_062083_IW3_VV_198063.SAFE/manifest.safe\" -PcohWinRg=11 -PcohWinAz=3 -PnRgLooks=4 -PnAzLooks=1 -Poutput_filename=\"/home/mcallegari/PROJECT_DATA/FROSTINI/test_MintPy/WCapeSenAT29_test/tmp/phase_coh_20190315_20190420.dim\" -c 8192M\n"
     ]
    },
    {
     "name": "stderr",
     "output_type": "stream",
     "text": [
      "INFO: org.esa.snap.core.gpf.operators.tooladapter.ToolAdapterIO: Initializing external tool adapters\n",
      "INFO: org.esa.snap.core.util.EngineVersionCheckActivator: Please check regularly for new updates for the best SNAP experience.\n"
     ]
    },
    {
     "name": "stdout",
     "output_type": "stream",
     "text": [
      "Executing processing graph\n"
     ]
    },
    {
     "name": "stderr",
     "output_type": "stream",
     "text": [
      "INFO: eu.esa.sar.commons.io.ImageIOFile: Using FileCacheImageInputStream\n"
     ]
    },
    {
     "name": "stdout",
     "output_type": "stream",
     "text": [
      "....11%....22%....33%....45%....56%....67%....78%....90% done.\n"
     ]
    },
    {
     "name": "stderr",
     "output_type": "stream",
     "text": [
      "-- org.jblas INFO Deleting /tmp/jblas10423402882324096188/libjblas_arch_flavor.so\n",
      "-- org.jblas INFO Deleting /tmp/jblas10423402882324096188/libjblas.so\n",
      "-- org.jblas INFO Deleting /tmp/jblas10423402882324096188/libgfortran-5.so\n",
      "-- org.jblas INFO Deleting /tmp/jblas10423402882324096188/libquadmath-0.so\n",
      "-- org.jblas INFO Deleting /tmp/jblas10423402882324096188\n",
      "INFO: org.esa.snap.core.gpf.operators.tooladapter.ToolAdapterIO: Initializing external tool adapters\n",
      "INFO: org.esa.snap.core.util.EngineVersionCheckActivator: Please check regularly for new updates for the best SNAP experience.\n"
     ]
    },
    {
     "name": "stdout",
     "output_type": "stream",
     "text": [
      "Executing processing graph\n",
      "...11%...22%...33%...45%...56%...67%...78%...90% done.\n",
      "snaphu -f snaphu.conf Phase_ifg_IW3_VV_15Mar2019_20Apr2019.snaphu.img 6120\n",
      "\n",
      "snaphu v2.0.4\n",
      "27 parameters input from file snaphu.conf (84 lines total)\n"
     ]
    },
    {
     "name": "stderr",
     "output_type": "stream",
     "text": [
      "-- org.jblas INFO Deleting /tmp/jblas9545371764081387044/libjblas_arch_flavor.so\n",
      "-- org.jblas INFO Deleting /tmp/jblas9545371764081387044/libjblas.so\n",
      "-- org.jblas INFO Deleting /tmp/jblas9545371764081387044/libgfortran-5.so\n",
      "-- org.jblas INFO Deleting /tmp/jblas9545371764081387044/libquadmath-0.so\n",
      "-- org.jblas INFO Deleting /tmp/jblas9545371764081387044\n",
      "WARNING: Tile overlap is small (may give bad results)\n"
     ]
    },
    {
     "name": "stdout",
     "output_type": "stream",
     "text": [
      "Logging run-time parameters to file snaphu.log\n",
      "Creating temporary directory snaphu_tiles_2556083\n",
      "Unwrapping tile at row 0, column 0 (pid 2556087)\n",
      "Unwrapping tile at row 0, column 1 (pid 2556090)\n",
      "Unwrapping tile at row 0, column 2 (pid 2556092)\n",
      "Unwrapping tile at row 0, column 3 (pid 2556103)\n",
      "Unwrapping tile at row 0, column 4 (pid 2556109)\n",
      "Unwrapping tile at row 0, column 5 (pid 2556112)\n",
      "Unwrapping tile at row 0, column 6 (pid 2556114)\n",
      "Unwrapping tile at row 0, column 7 (pid 2556118)\n",
      "Unwrapping tile at row 0, column 8 (pid 2556127)\n",
      "Unwrapping tile at row 0, column 9 (pid 2556130)\n",
      "Unwrapping tile at row 1, column 0 (pid 2556134)\n",
      "Unwrapping tile at row 1, column 1 (pid 2556135)\n",
      "Unwrapping tile at row 1, column 2 (pid 2556137)\n",
      "Unwrapping tile at row 1, column 3 (pid 2556146)\n",
      "Unwrapping tile at row 1, column 4 (pid 2556154)\n",
      "Unwrapping tile at row 1, column 5 (pid 2556156)\n",
      "Unwrapping tile at row 1, column 6 (pid 2556157)\n",
      "Unwrapping tile at row 1, column 7 (pid 2556158)\n",
      "Unwrapping tile at row 1, column 8 (pid 2556168)\n",
      "Unwrapping tile at row 1, column 9 (pid 2556170)\n",
      "Unwrapping tile at row 2, column 0 (pid 2556171)\n",
      "Unwrapping tile at row 2, column 1 (pid 2556172)\n",
      "Unwrapping tile at row 2, column 2 (pid 2556188)\n",
      "Unwrapping tile at row 2, column 3 (pid 2556189)\n",
      "Unwrapping tile at row 2, column 4 (pid 2556201)\n",
      "Unwrapping tile at row 2, column 5 (pid 2556204)\n",
      "Unwrapping tile at row 2, column 6 (pid 2556205)\n",
      "Unwrapping tile at row 2, column 7 (pid 2556206)\n",
      "Unwrapping tile at row 2, column 8 (pid 2556216)\n",
      "Unwrapping tile at row 2, column 9 (pid 2556225)\n",
      "Unwrapping tile at row 3, column 0 (pid 2556226)\n",
      "Unwrapping tile at row 3, column 1 (pid 2556227)\n",
      "Unwrapping tile at row 3, column 2 (pid 2556229)\n",
      "Unwrapping tile at row 3, column 3 (pid 2556230)\n",
      "Unwrapping tile at row 3, column 4 (pid 2556248)\n",
      "Unwrapping tile at row 3, column 5 (pid 2556251)\n",
      "Unwrapping tile at row 3, column 6 (pid 2556252)\n",
      "Unwrapping tile at row 3, column 7 (pid 2556253)\n",
      "Unwrapping tile at row 3, column 8 (pid 2556254)\n",
      "Unwrapping tile at row 3, column 9 (pid 2556263)\n",
      "Unwrapping tile at row 4, column 0 (pid 2556264)\n",
      "Unwrapping tile at row 4, column 1 (pid 2556265)\n",
      "Unwrapping tile at row 4, column 2 (pid 2556267)\n",
      "Unwrapping tile at row 4, column 3 (pid 2556268)\n",
      "Unwrapping tile at row 4, column 4 (pid 2556274)\n",
      "Unwrapping tile at row 4, column 5 (pid 2556285)\n",
      "Unwrapping tile at row 4, column 6 (pid 2556286)\n",
      "Unwrapping tile at row 4, column 7 (pid 2556287)\n",
      "Unwrapping tile at row 4, column 8 (pid 2556288)\n",
      "Unwrapping tile at row 4, column 9 (pid 2556290)\n",
      "Unwrapping tile at row 5, column 0 (pid 2556298)\n",
      "Unwrapping tile at row 5, column 1 (pid 2556299)\n",
      "Unwrapping tile at row 5, column 2 (pid 2556300)\n",
      "Unwrapping tile at row 5, column 3 (pid 2556301)\n",
      "Unwrapping tile at row 5, column 4 (pid 2556304)\n",
      "Unwrapping tile at row 5, column 5 (pid 2556314)\n",
      "Unwrapping tile at row 5, column 6 (pid 2556316)\n",
      "Unwrapping tile at row 5, column 7 (pid 2556317)\n",
      "Unwrapping tile at row 5, column 8 (pid 2556319)\n",
      "Unwrapping tile at row 5, column 9 (pid 2556330)\n",
      "Unwrapping tile at row 6, column 0 (pid 2556338)\n",
      "Unwrapping tile at row 6, column 1 (pid 2556341)\n",
      "Unwrapping tile at row 6, column 2 (pid 2556342)\n",
      "Unwrapping tile at row 6, column 3 (pid 2556343)\n",
      "Unwrapping tile at row 6, column 4 (pid 2556346)\n",
      "Unwrapping tile at row 6, column 5 (pid 2556349)\n",
      "Unwrapping tile at row 6, column 6 (pid 2556360)\n",
      "Unwrapping tile at row 6, column 7 (pid 2556361)\n",
      "Unwrapping tile at row 6, column 8 (pid 2556363)\n",
      "Unwrapping tile at row 6, column 9 (pid 2556364)\n",
      "Unwrapping tile at row 7, column 0 (pid 2556373)\n",
      "Unwrapping tile at row 7, column 1 (pid 2556374)\n",
      "Unwrapping tile at row 7, column 2 (pid 2556375)\n",
      "Unwrapping tile at row 7, column 3 (pid 2556379)\n",
      "Unwrapping tile at row 7, column 4 (pid 2556382)\n",
      "Unwrapping tile at row 7, column 5 (pid 2556384)\n",
      "Unwrapping tile at row 7, column 6 (pid 2556393)\n",
      "Unwrapping tile at row 7, column 7 (pid 2556394)\n",
      "Unwrapping tile at row 7, column 8 (pid 2556396)\n",
      "Unwrapping tile at row 7, column 9 (pid 2556397)\n",
      "Unwrapping tile at row 8, column 0 (pid 2556398)\n",
      "Unwrapping tile at row 8, column 1 (pid 2556407)\n",
      "Unwrapping tile at row 8, column 2 (pid 2556408)\n",
      "Unwrapping tile at row 8, column 3 (pid 2556410)\n",
      "Unwrapping tile at row 8, column 4 (pid 2556413)\n",
      "Unwrapping tile at row 8, column 5 (pid 2556414)\n",
      "Unwrapping tile at row 8, column 6 (pid 2556423)\n",
      "Unwrapping tile at row 8, column 7 (pid 2556434)\n",
      "Unwrapping tile at row 8, column 8 (pid 2556435)\n",
      "Unwrapping tile at row 8, column 9 (pid 2556436)\n",
      "Unwrapping tile at row 9, column 0 (pid 2556445)\n",
      "Unwrapping tile at row 9, column 1 (pid 2556446)\n",
      "Unwrapping tile at row 9, column 2 (pid 2556448)\n",
      "Unwrapping tile at row 9, column 3 (pid 2556454)\n",
      "Unwrapping tile at row 9, column 4 (pid 2556455)\n",
      "Unwrapping tile at row 9, column 5 (pid 2556462)\n",
      "Unwrapping tile at row 9, column 6 (pid 2556467)\n",
      "Unwrapping tile at row 9, column 7 (pid 2556469)\n",
      "Unwrapping tile at row 9, column 8 (pid 2556470)\n",
      "Unwrapping tile at row 9, column 9 (pid 2556471)\n"
     ]
    },
    {
     "name": "stderr",
     "output_type": "stream",
     "text": [
      "40 incremental costs clipped to avoid overflow (0.001%)\n",
      "40 incremental costs clipped to avoid overflow (0.001%)\n",
      "40 incremental costs clipped to avoid overflow (0.001%)\n",
      "40 incremental costs clipped to avoid overflow (0.001%)\n"
     ]
    },
    {
     "name": "stdout",
     "output_type": "stream",
     "text": [
      "Assembling tiles\n",
      "Running optimizer for secondary network\n",
      "Number of nodes in secondary network: 21808\n",
      "Flow increment: 1  (Total improvements: 0)\n",
      "Treesize: 21808      Pivots: 1213        Improvements: 36         \n",
      "Flow increment: 2  (Total improvements: 36)\n",
      "Treesize: 21808      Pivots: 0           Improvements: 0          \n",
      "Flow increment: 3  (Total improvements: 36)\n",
      "Treesize: 21808      Pivots: 0           Improvements: 0          \n",
      "Flow increment: 4  (Total improvements: 36)\n",
      "Treesize: 21808      Pivots: 0           Improvements: 0          \n",
      "Integrating secondary flows\n",
      "Output written to file UnwPhase_ifg_IW3_VV_15Mar2019_20Apr2019.snaphu.img\n",
      "Removing temporary directory snaphu_tiles_2556083\n",
      "SUGGESTION: Try increasing tile overlap and/or size if solution has edge artifacts\n",
      "Program snaphu done\n",
      "Elapsed processor time:   0:09:13.94\n",
      "Elapsed wall clock time:  0:01:50\n",
      "gpt \"./graphs/geocode_snaphuInterferogram_WGS84.xml\" -Pinterferogram_filename=\"/home/mcallegari/PROJECT_DATA/FROSTINI/test_MintPy/WCapeSenAT29_test/tmp/phase_coh_20190315_20190420.dim\" -Punw_interferogram_filename=\"/home/mcallegari/PROJECT_DATA/FROSTINI/test_MintPy/WCapeSenAT29_test/tmp/phase_coh_20190315_20190420/UnwPhase_ifg_IW3_VV_15Mar2019_20Apr2019.snaphu.hdr\" -Pphase_coh_bandnames=\"Phase_ifg_IW3_VV_15Mar2019_20Apr2019,Unw_Phase_ifg_15Mar2019_20Apr2019,coh_IW3_VV_15Mar2019_20Apr2019\" -PsaveDEM=\"false\" -Poutput_filename=\"/home/mcallegari/PROJECT_DATA/FROSTINI/test_MintPy/WCapeSenAT29_test/geocoded_interferogram_20190315_20190420.tif\"\n"
     ]
    },
    {
     "name": "stderr",
     "output_type": "stream",
     "text": [
      "INFO: org.esa.snap.core.gpf.operators.tooladapter.ToolAdapterIO: Initializing external tool adapters\n",
      "INFO: org.esa.snap.core.util.EngineVersionCheckActivator: Please check regularly for new updates for the best SNAP experience.\n"
     ]
    },
    {
     "name": "stdout",
     "output_type": "stream",
     "text": [
      "Executing processing graph\n"
     ]
    },
    {
     "name": "stderr",
     "output_type": "stream",
     "text": [
      "1924 [main] INFO hdf.hdflib.HDFLibrary - HDF4 library: \n",
      "1924 [main] INFO hdf.hdflib.HDFLibrary -  successfully loaded.\n",
      "1928 [main] INFO hdf.hdf5lib.H5 - HDF5 library: \n",
      "1928 [main] INFO hdf.hdf5lib.H5 -  successfully loaded.\n"
     ]
    },
    {
     "name": "stdout",
     "output_type": "stream",
     "text": [
      "....12%....24%....35%....47%....58%....70%....81%.... done.\n",
      "gpt \"./graphs/interferogram_sarGeometry.xml\" -Pprm_filename=\"/home/mcallegari/PROJECT_DATA/FROSTINI/test_MintPy/WCapeSenAT29_test/S1A_SLC_20190303T173425_062083_IW3_VV_191506.SAFE/manifest.safe\" -Psec_filename=\"/home/mcallegari/PROJECT_DATA/FROSTINI/test_MintPy/WCapeSenAT29_test/S1A_SLC_20190315T173425_062083_IW3_VV_193151.SAFE/manifest.safe\" -PcohWinRg=11 -PcohWinAz=3 -PnRgLooks=4 -PnAzLooks=1 -Poutput_filename=\"/home/mcallegari/PROJECT_DATA/FROSTINI/test_MintPy/WCapeSenAT29_test/tmp/phase_coh_20190303_20190315.dim\" -c 8192M\n"
     ]
    },
    {
     "name": "stderr",
     "output_type": "stream",
     "text": [
      "INFO: org.esa.snap.core.gpf.operators.tooladapter.ToolAdapterIO: Initializing external tool adapters\n",
      "INFO: org.esa.snap.core.util.EngineVersionCheckActivator: Please check regularly for new updates for the best SNAP experience.\n"
     ]
    },
    {
     "name": "stdout",
     "output_type": "stream",
     "text": [
      "Executing processing graph\n"
     ]
    },
    {
     "name": "stderr",
     "output_type": "stream",
     "text": [
      "INFO: eu.esa.sar.commons.io.ImageIOFile: Using FileCacheImageInputStream\n",
      "INFO: eu.esa.sar.commons.io.ImageIOFile: Using FileCacheImageInputStream\n"
     ]
    },
    {
     "name": "stdout",
     "output_type": "stream",
     "text": [
      "....11%....22%....33%....45%....56%....67%....78%....90% done.\n"
     ]
    },
    {
     "name": "stderr",
     "output_type": "stream",
     "text": [
      "-- org.jblas INFO Deleting /tmp/jblas16693311294165545776/libjblas_arch_flavor.so\n",
      "-- org.jblas INFO Deleting /tmp/jblas16693311294165545776/libjblas.so\n",
      "-- org.jblas INFO Deleting /tmp/jblas16693311294165545776/libgfortran-5.so\n",
      "-- org.jblas INFO Deleting /tmp/jblas16693311294165545776/libquadmath-0.so\n",
      "-- org.jblas INFO Deleting /tmp/jblas16693311294165545776\n",
      "INFO: org.esa.snap.core.gpf.operators.tooladapter.ToolAdapterIO: Initializing external tool adapters\n",
      "INFO: org.esa.snap.core.util.EngineVersionCheckActivator: Please check regularly for new updates for the best SNAP experience.\n"
     ]
    },
    {
     "name": "stdout",
     "output_type": "stream",
     "text": [
      "Executing processing graph\n",
      "...11%...22%...33%...45%...56%...67%...78%...90% done.\n",
      "snaphu -f snaphu.conf Phase_ifg_IW3_VV_03Mar2019_15Mar2019.snaphu.img 6120\n",
      "\n",
      "snaphu v2.0.4\n",
      "27 parameters input from file snaphu.conf (84 lines total)\n"
     ]
    },
    {
     "name": "stderr",
     "output_type": "stream",
     "text": [
      "-- org.jblas INFO Deleting /tmp/jblas10239411034444070888/libjblas_arch_flavor.so\n",
      "-- org.jblas INFO Deleting /tmp/jblas10239411034444070888/libjblas.so\n",
      "-- org.jblas INFO Deleting /tmp/jblas10239411034444070888/libgfortran-5.so\n",
      "-- org.jblas INFO Deleting /tmp/jblas10239411034444070888/libquadmath-0.so\n",
      "-- org.jblas INFO Deleting /tmp/jblas10239411034444070888\n",
      "WARNING: Tile overlap is small (may give bad results)\n"
     ]
    },
    {
     "name": "stdout",
     "output_type": "stream",
     "text": [
      "Logging run-time parameters to file snaphu.log\n",
      "Creating temporary directory snaphu_tiles_2557418\n",
      "Unwrapping tile at row 0, column 0 (pid 2557422)\n",
      "Unwrapping tile at row 0, column 1 (pid 2557425)\n",
      "Unwrapping tile at row 0, column 2 (pid 2557428)\n",
      "Unwrapping tile at row 0, column 3 (pid 2557437)\n",
      "Unwrapping tile at row 0, column 4 (pid 2557441)\n",
      "Unwrapping tile at row 0, column 5 (pid 2557443)\n",
      "Unwrapping tile at row 0, column 6 (pid 2557462)\n",
      "Unwrapping tile at row 0, column 7 (pid 2557467)\n",
      "Unwrapping tile at row 0, column 8 (pid 2557471)\n",
      "Unwrapping tile at row 0, column 9 (pid 2557482)\n",
      "Unwrapping tile at row 1, column 0 (pid 2557486)\n",
      "Unwrapping tile at row 1, column 1 (pid 2557487)\n",
      "Unwrapping tile at row 1, column 2 (pid 2557489)\n",
      "Unwrapping tile at row 1, column 3 (pid 2557498)\n",
      "Unwrapping tile at row 1, column 4 (pid 2557506)\n",
      "Unwrapping tile at row 1, column 5 (pid 2557517)\n",
      "Unwrapping tile at row 1, column 6 (pid 2557518)\n",
      "Unwrapping tile at row 1, column 7 (pid 2557521)\n",
      "Unwrapping tile at row 1, column 8 (pid 2557529)\n",
      "Unwrapping tile at row 1, column 9 (pid 2557537)\n",
      "Unwrapping tile at row 2, column 0 (pid 2557540)\n",
      "Unwrapping tile at row 2, column 1 (pid 2557541)\n",
      "Unwrapping tile at row 2, column 2 (pid 2557544)\n",
      "Unwrapping tile at row 2, column 3 (pid 2557545)\n",
      "Unwrapping tile at row 2, column 4 (pid 2557553)\n",
      "Unwrapping tile at row 2, column 5 (pid 2557554)\n",
      "Unwrapping tile at row 2, column 6 (pid 2557556)\n",
      "Unwrapping tile at row 2, column 7 (pid 2557558)\n",
      "Unwrapping tile at row 2, column 8 (pid 2557561)\n",
      "Unwrapping tile at row 2, column 9 (pid 2557568)\n",
      "Unwrapping tile at row 3, column 0 (pid 2557580)\n",
      "Unwrapping tile at row 3, column 1 (pid 2557582)\n",
      "Unwrapping tile at row 3, column 2 (pid 2557585)\n",
      "Unwrapping tile at row 3, column 3 (pid 2557586)\n",
      "Unwrapping tile at row 3, column 4 (pid 2557587)\n",
      "Unwrapping tile at row 3, column 5 (pid 2557595)\n",
      "Unwrapping tile at row 3, column 6 (pid 2557596)\n",
      "Unwrapping tile at row 3, column 7 (pid 2557598)\n",
      "Unwrapping tile at row 3, column 8 (pid 2557601)\n",
      "Unwrapping tile at row 3, column 9 (pid 2557602)\n",
      "Unwrapping tile at row 4, column 0 (pid 2557610)\n",
      "Unwrapping tile at row 4, column 1 (pid 2557613)\n",
      "Unwrapping tile at row 4, column 2 (pid 2557615)\n",
      "Unwrapping tile at row 4, column 3 (pid 2557624)\n",
      "Unwrapping tile at row 4, column 4 (pid 2557625)\n",
      "Unwrapping tile at row 4, column 5 (pid 2557633)\n",
      "Unwrapping tile at row 4, column 6 (pid 2557634)\n",
      "Unwrapping tile at row 4, column 7 (pid 2557636)\n",
      "Unwrapping tile at row 4, column 8 (pid 2557640)\n",
      "Unwrapping tile at row 4, column 9 (pid 2557642)\n",
      "Unwrapping tile at row 5, column 0 (pid 2557643)\n",
      "Unwrapping tile at row 5, column 1 (pid 2557653)\n",
      "Unwrapping tile at row 5, column 2 (pid 2557655)\n",
      "Unwrapping tile at row 5, column 3 (pid 2557656)\n",
      "Unwrapping tile at row 5, column 4 (pid 2557657)\n",
      "Unwrapping tile at row 5, column 5 (pid 2557659)\n",
      "Unwrapping tile at row 5, column 6 (pid 2557667)\n",
      "Unwrapping tile at row 5, column 7 (pid 2557669)\n",
      "Unwrapping tile at row 5, column 8 (pid 2557672)\n",
      "Unwrapping tile at row 5, column 9 (pid 2557673)\n",
      "Unwrapping tile at row 6, column 0 (pid 2557674)\n",
      "Unwrapping tile at row 6, column 1 (pid 2557683)\n",
      "Unwrapping tile at row 6, column 2 (pid 2557686)\n",
      "Unwrapping tile at row 6, column 3 (pid 2557687)\n",
      "Unwrapping tile at row 6, column 4 (pid 2557688)\n",
      "Unwrapping tile at row 6, column 5 (pid 2557689)\n",
      "Unwrapping tile at row 6, column 6 (pid 2557697)\n",
      "Unwrapping tile at row 6, column 7 (pid 2557699)\n",
      "Unwrapping tile at row 6, column 8 (pid 2557702)\n",
      "Unwrapping tile at row 6, column 9 (pid 2557703)\n",
      "Unwrapping tile at row 7, column 0 (pid 2557704)\n",
      "Unwrapping tile at row 7, column 1 (pid 2557705)\n",
      "Unwrapping tile at row 7, column 2 (pid 2557716)\n",
      "Unwrapping tile at row 7, column 3 (pid 2557725)\n",
      "Unwrapping tile at row 7, column 4 (pid 2557726)\n",
      "Unwrapping tile at row 7, column 5 (pid 2557727)\n",
      "Unwrapping tile at row 7, column 6 (pid 2557728)\n",
      "Unwrapping tile at row 7, column 7 (pid 2557737)\n",
      "Unwrapping tile at row 7, column 8 (pid 2557743)\n",
      "Unwrapping tile at row 7, column 9 (pid 2557744)\n",
      "Unwrapping tile at row 8, column 0 (pid 2557745)\n",
      "Unwrapping tile at row 8, column 1 (pid 2557746)\n",
      "Unwrapping tile at row 8, column 2 (pid 2557756)\n",
      "Unwrapping tile at row 8, column 3 (pid 2557758)\n",
      "Unwrapping tile at row 8, column 4 (pid 2557759)\n",
      "Unwrapping tile at row 8, column 5 (pid 2557761)\n",
      "Unwrapping tile at row 8, column 6 (pid 2557763)\n",
      "Unwrapping tile at row 8, column 7 (pid 2557771)\n",
      "Unwrapping tile at row 8, column 8 (pid 2557776)\n",
      "Unwrapping tile at row 8, column 9 (pid 2557777)\n",
      "Unwrapping tile at row 9, column 0 (pid 2557779)\n",
      "Unwrapping tile at row 9, column 1 (pid 2557780)\n",
      "Unwrapping tile at row 9, column 2 (pid 2557782)\n",
      "Unwrapping tile at row 9, column 3 (pid 2557792)\n",
      "Unwrapping tile at row 9, column 4 (pid 2557793)\n",
      "Unwrapping tile at row 9, column 5 (pid 2557794)\n",
      "Unwrapping tile at row 9, column 6 (pid 2557795)\n",
      "Unwrapping tile at row 9, column 7 (pid 2557797)\n",
      "Unwrapping tile at row 9, column 8 (pid 2557807)\n",
      "Unwrapping tile at row 9, column 9 (pid 2557808)\n",
      "Assembling tiles\n",
      "Running optimizer for secondary network\n",
      "Number of nodes in secondary network: 13480\n",
      "Flow increment: 1  (Total improvements: 0)\n",
      "Treesize: 13480      Pivots: 659         Improvements: 12         \n",
      "Flow increment: 2  (Total improvements: 12)\n",
      "Treesize: 13480      Pivots: 0           Improvements: 0          \n",
      "Flow increment: 3  (Total improvements: 12)\n",
      "Treesize: 13480      Pivots: 0           Improvements: 0          \n",
      "Flow increment: 4  (Total improvements: 12)\n",
      "Treesize: 13480      Pivots: 0           Improvements: 0          \n",
      "Integrating secondary flows\n",
      "Output written to file UnwPhase_ifg_IW3_VV_03Mar2019_15Mar2019.snaphu.img\n",
      "Removing temporary directory snaphu_tiles_2557418\n",
      "SUGGESTION: Try increasing tile overlap and/or size if solution has edge artifacts\n",
      "Program snaphu done\n",
      "Elapsed processor time:   0:06:07.41\n",
      "Elapsed wall clock time:  0:01:46\n",
      "gpt \"./graphs/geocode_snaphuInterferogram_WGS84.xml\" -Pinterferogram_filename=\"/home/mcallegari/PROJECT_DATA/FROSTINI/test_MintPy/WCapeSenAT29_test/tmp/phase_coh_20190303_20190315.dim\" -Punw_interferogram_filename=\"/home/mcallegari/PROJECT_DATA/FROSTINI/test_MintPy/WCapeSenAT29_test/tmp/phase_coh_20190303_20190315/UnwPhase_ifg_IW3_VV_03Mar2019_15Mar2019.snaphu.hdr\" -Pphase_coh_bandnames=\"Phase_ifg_IW3_VV_03Mar2019_15Mar2019,Unw_Phase_ifg_03Mar2019_15Mar2019,coh_IW3_VV_03Mar2019_15Mar2019\" -PsaveDEM=\"false\" -Poutput_filename=\"/home/mcallegari/PROJECT_DATA/FROSTINI/test_MintPy/WCapeSenAT29_test/geocoded_interferogram_20190303_20190315.tif\"\n"
     ]
    },
    {
     "name": "stderr",
     "output_type": "stream",
     "text": [
      "63 incremental costs clipped to avoid overflow (0.001%)\n",
      "61 incremental costs clipped to avoid overflow (0.001%)\n",
      "62 incremental costs clipped to avoid overflow (0.001%)\n",
      "62 incremental costs clipped to avoid overflow (0.001%)\n",
      "INFO: org.esa.snap.core.gpf.operators.tooladapter.ToolAdapterIO: Initializing external tool adapters\n",
      "INFO: org.esa.snap.core.util.EngineVersionCheckActivator: Please check regularly for new updates for the best SNAP experience.\n"
     ]
    },
    {
     "name": "stdout",
     "output_type": "stream",
     "text": [
      "Executing processing graph\n"
     ]
    },
    {
     "name": "stderr",
     "output_type": "stream",
     "text": [
      "1870 [main] INFO hdf.hdflib.HDFLibrary - HDF4 library: \n",
      "1870 [main] INFO hdf.hdflib.HDFLibrary -  successfully loaded.\n",
      "1874 [main] INFO hdf.hdf5lib.H5 - HDF5 library: \n",
      "1874 [main] INFO hdf.hdf5lib.H5 -  successfully loaded.\n"
     ]
    },
    {
     "name": "stdout",
     "output_type": "stream",
     "text": [
      "....12%....24%....35%....47%....58%....70%....81%.... done.\n",
      "gpt \"./graphs/interferogram_sarGeometry.xml\" -Pprm_filename=\"/home/mcallegari/PROJECT_DATA/FROSTINI/test_MintPy/WCapeSenAT29_test/S1A_SLC_20190514T173427_062083_IW3_VV_201172.SAFE/manifest.safe\" -Psec_filename=\"/home/mcallegari/PROJECT_DATA/FROSTINI/test_MintPy/WCapeSenAT29_test/S1A_SLC_20190607T173428_062083_IW3_VV_203948.SAFE/manifest.safe\" -PcohWinRg=11 -PcohWinAz=3 -PnRgLooks=4 -PnAzLooks=1 -Poutput_filename=\"/home/mcallegari/PROJECT_DATA/FROSTINI/test_MintPy/WCapeSenAT29_test/tmp/phase_coh_20190514_20190607.dim\" -c 8192M\n"
     ]
    },
    {
     "name": "stderr",
     "output_type": "stream",
     "text": [
      "INFO: org.esa.snap.core.gpf.operators.tooladapter.ToolAdapterIO: Initializing external tool adapters\n",
      "INFO: org.esa.snap.core.util.EngineVersionCheckActivator: Please check regularly for new updates for the best SNAP experience.\n"
     ]
    },
    {
     "name": "stdout",
     "output_type": "stream",
     "text": [
      "Executing processing graph\n"
     ]
    },
    {
     "name": "stderr",
     "output_type": "stream",
     "text": [
      "INFO: eu.esa.sar.commons.io.ImageIOFile: Using FileCacheImageInputStream\n",
      "INFO: eu.esa.sar.commons.io.ImageIOFile: Using FileCacheImageInputStream\n"
     ]
    },
    {
     "name": "stdout",
     "output_type": "stream",
     "text": [
      "....11%....22%....33%....45%....56%....67%....78%....90%"
     ]
    },
    {
     "name": "stderr",
     "output_type": "stream",
     "text": [
      "-- org.jblas INFO Deleting /tmp/jblas10183588058711769882/libjblas_arch_flavor.so\n",
      "-- org.jblas INFO Deleting /tmp/jblas10183588058711769882/libjblas.so\n",
      "-- org.jblas INFO Deleting /tmp/jblas10183588058711769882/libgfortran-5.so\n",
      "-- org.jblas INFO Deleting /tmp/jblas10183588058711769882/libquadmath-0.so\n",
      "-- org.jblas INFO Deleting /tmp/jblas10183588058711769882\n"
     ]
    },
    {
     "name": "stdout",
     "output_type": "stream",
     "text": [
      " done.\n"
     ]
    },
    {
     "name": "stderr",
     "output_type": "stream",
     "text": [
      "INFO: org.esa.snap.core.gpf.operators.tooladapter.ToolAdapterIO: Initializing external tool adapters\n",
      "INFO: org.esa.snap.core.util.EngineVersionCheckActivator: Please check regularly for new updates for the best SNAP experience.\n"
     ]
    },
    {
     "name": "stdout",
     "output_type": "stream",
     "text": [
      "Executing processing graph\n",
      "...11%...22%...33%...45%...56%...67%...78%...90% done.\n",
      "snaphu -f snaphu.conf Phase_ifg_IW3_VV_14May2019_07Jun2019.snaphu.img 6120\n",
      "\n",
      "snaphu v2.0.4\n",
      "27 parameters input from file snaphu.conf (84 lines total)\n"
     ]
    },
    {
     "name": "stderr",
     "output_type": "stream",
     "text": [
      "-- org.jblas INFO Deleting /tmp/jblas5635844657649831293/libjblas_arch_flavor.so\n",
      "-- org.jblas INFO Deleting /tmp/jblas5635844657649831293/libjblas.so\n",
      "-- org.jblas INFO Deleting /tmp/jblas5635844657649831293/libgfortran-5.so\n",
      "-- org.jblas INFO Deleting /tmp/jblas5635844657649831293/libquadmath-0.so\n",
      "-- org.jblas INFO Deleting /tmp/jblas5635844657649831293\n",
      "WARNING: Tile overlap is small (may give bad results)\n"
     ]
    },
    {
     "name": "stdout",
     "output_type": "stream",
     "text": [
      "Logging run-time parameters to file snaphu.log\n",
      "Creating temporary directory snaphu_tiles_2558700\n",
      "Unwrapping tile at row 0, column 0 (pid 2558711)\n",
      "Unwrapping tile at row 0, column 1 (pid 2558714)\n",
      "Unwrapping tile at row 0, column 2 (pid 2558720)\n",
      "Unwrapping tile at row 0, column 3 (pid 2558726)\n",
      "Unwrapping tile at row 0, column 4 (pid 2558729)\n",
      "Unwrapping tile at row 0, column 5 (pid 2558738)\n",
      "Unwrapping tile at row 0, column 6 (pid 2558742)\n",
      "Unwrapping tile at row 0, column 7 (pid 2558747)\n",
      "Unwrapping tile at row 0, column 8 (pid 2558749)\n",
      "Unwrapping tile at row 0, column 9 (pid 2558760)\n",
      "Unwrapping tile at row 1, column 0 (pid 2558763)\n",
      "Unwrapping tile at row 1, column 1 (pid 2558775)\n",
      "Unwrapping tile at row 1, column 2 (pid 2558778)\n",
      "Unwrapping tile at row 1, column 3 (pid 2558779)\n",
      "Unwrapping tile at row 1, column 4 (pid 2558787)\n",
      "Unwrapping tile at row 1, column 5 (pid 2558791)\n",
      "Unwrapping tile at row 1, column 6 (pid 2558793)\n",
      "Unwrapping tile at row 1, column 7 (pid 2558795)\n",
      "Unwrapping tile at row 1, column 8 (pid 2558804)\n",
      "Unwrapping tile at row 1, column 9 (pid 2558807)\n",
      "Unwrapping tile at row 2, column 0 (pid 2558808)\n",
      "Unwrapping tile at row 2, column 1 (pid 2558809)\n",
      "Unwrapping tile at row 2, column 2 (pid 2558810)\n",
      "Unwrapping tile at row 2, column 3 (pid 2558821)\n",
      "Unwrapping tile at row 2, column 4 (pid 2558830)\n",
      "Unwrapping tile at row 2, column 5 (pid 2558831)\n",
      "Unwrapping tile at row 2, column 6 (pid 2558832)\n",
      "Unwrapping tile at row 2, column 7 (pid 2558833)\n",
      "Unwrapping tile at row 2, column 8 (pid 2558842)\n",
      "Unwrapping tile at row 2, column 9 (pid 2558845)\n",
      "Unwrapping tile at row 3, column 0 (pid 2558846)\n",
      "Unwrapping tile at row 3, column 1 (pid 2558847)\n",
      "Unwrapping tile at row 3, column 2 (pid 2558863)\n",
      "Unwrapping tile at row 3, column 3 (pid 2558874)\n",
      "Unwrapping tile at row 3, column 4 (pid 2558877)\n",
      "Unwrapping tile at row 3, column 5 (pid 2558878)\n",
      "Unwrapping tile at row 3, column 6 (pid 2558879)\n",
      "Unwrapping tile at row 3, column 7 (pid 2558880)\n",
      "Unwrapping tile at row 3, column 8 (pid 2558883)\n",
      "Unwrapping tile at row 3, column 9 (pid 2558893)\n",
      "Unwrapping tile at row 4, column 0 (pid 2558894)\n",
      "Unwrapping tile at row 4, column 1 (pid 2558895)\n",
      "Unwrapping tile at row 4, column 2 (pid 2558896)\n",
      "Unwrapping tile at row 4, column 3 (pid 2558898)\n",
      "Unwrapping tile at row 4, column 4 (pid 2558909)\n",
      "Unwrapping tile at row 4, column 5 (pid 2558911)\n",
      "Unwrapping tile at row 4, column 6 (pid 2558912)\n",
      "Unwrapping tile at row 4, column 7 (pid 2558913)\n",
      "Unwrapping tile at row 4, column 8 (pid 2558915)\n",
      "Unwrapping tile at row 4, column 9 (pid 2558926)\n",
      "Unwrapping tile at row 5, column 0 (pid 2558927)\n",
      "Unwrapping tile at row 5, column 1 (pid 2558928)\n",
      "Unwrapping tile at row 5, column 2 (pid 2558929)\n",
      "Unwrapping tile at row 5, column 3 (pid 2558931)\n",
      "Unwrapping tile at row 5, column 4 (pid 2558948)\n",
      "Unwrapping tile at row 5, column 5 (pid 2558951)\n",
      "Unwrapping tile at row 5, column 6 (pid 2558952)\n",
      "Unwrapping tile at row 5, column 7 (pid 2558953)\n",
      "Unwrapping tile at row 5, column 8 (pid 2558955)\n",
      "Unwrapping tile at row 5, column 9 (pid 2558967)\n",
      "Unwrapping tile at row 6, column 0 (pid 2558968)\n",
      "Unwrapping tile at row 6, column 1 (pid 2558969)\n",
      "Unwrapping tile at row 6, column 2 (pid 2558970)\n",
      "Unwrapping tile at row 6, column 3 (pid 2558972)\n",
      "Unwrapping tile at row 6, column 4 (pid 2558982)\n",
      "Unwrapping tile at row 6, column 5 (pid 2558988)\n",
      "Unwrapping tile at row 6, column 6 (pid 2558990)\n",
      "Unwrapping tile at row 6, column 7 (pid 2558992)\n",
      "Unwrapping tile at row 6, column 8 (pid 2559002)\n",
      "Unwrapping tile at row 6, column 9 (pid 2559003)\n",
      "Unwrapping tile at row 7, column 0 (pid 2559004)\n",
      "Unwrapping tile at row 7, column 1 (pid 2559006)\n",
      "Unwrapping tile at row 7, column 2 (pid 2559007)\n",
      "Unwrapping tile at row 7, column 3 (pid 2559017)\n",
      "Unwrapping tile at row 7, column 4 (pid 2559020)\n",
      "Unwrapping tile at row 7, column 5 (pid 2559021)\n",
      "Unwrapping tile at row 7, column 6 (pid 2559023)\n",
      "Unwrapping tile at row 7, column 7 (pid 2559026)\n",
      "Unwrapping tile at row 7, column 8 (pid 2559035)\n",
      "Unwrapping tile at row 7, column 9 (pid 2559036)\n",
      "Unwrapping tile at row 8, column 0 (pid 2559038)\n",
      "Unwrapping tile at row 8, column 1 (pid 2559047)\n",
      "Unwrapping tile at row 8, column 2 (pid 2559048)\n",
      "Unwrapping tile at row 8, column 3 (pid 2559058)\n",
      "Unwrapping tile at row 8, column 4 (pid 2559059)\n",
      "Unwrapping tile at row 8, column 5 (pid 2559061)\n",
      "Unwrapping tile at row 8, column 6 (pid 2559063)\n",
      "Unwrapping tile at row 8, column 7 (pid 2559065)\n",
      "Unwrapping tile at row 8, column 8 (pid 2559075)\n",
      "Unwrapping tile at row 8, column 9 (pid 2559076)\n",
      "Unwrapping tile at row 9, column 0 (pid 2559078)\n",
      "Unwrapping tile at row 9, column 1 (pid 2559079)\n",
      "Unwrapping tile at row 9, column 2 (pid 2559080)\n",
      "Unwrapping tile at row 9, column 3 (pid 2559089)\n",
      "Unwrapping tile at row 9, column 4 (pid 2559092)\n",
      "Unwrapping tile at row 9, column 5 (pid 2559099)\n",
      "Unwrapping tile at row 9, column 6 (pid 2559101)\n",
      "Unwrapping tile at row 9, column 7 (pid 2559102)\n",
      "Unwrapping tile at row 9, column 8 (pid 2559110)\n",
      "Unwrapping tile at row 9, column 9 (pid 2559111)\n",
      "Assembling tiles\n",
      "Running optimizer for secondary network\n",
      "Number of nodes in secondary network: 22098\n",
      "Flow increment: 1  (Total improvements: 0)\n",
      "Treesize: 22098      Pivots: 423         Improvements: 27         \n",
      "Flow increment: 2  (Total improvements: 27)\n",
      "Treesize: 22098      Pivots: 0           Improvements: 0          \n",
      "Flow increment: 3  (Total improvements: 27)\n",
      "Treesize: 22098      Pivots: 0           Improvements: 0          \n",
      "Flow increment: 4  (Total improvements: 27)\n",
      "Treesize: 22098      Pivots: 0           Improvements: 0          \n",
      "Integrating secondary flows\n",
      "Output written to file UnwPhase_ifg_IW3_VV_14May2019_07Jun2019.snaphu.img\n",
      "Removing temporary directory snaphu_tiles_2558700\n",
      "SUGGESTION: Try increasing tile overlap and/or size if solution has edge artifacts\n",
      "Program snaphu done\n",
      "Elapsed processor time:   0:10:13.09\n",
      "Elapsed wall clock time:  0:01:57\n",
      "gpt \"./graphs/geocode_snaphuInterferogram_WGS84.xml\" -Pinterferogram_filename=\"/home/mcallegari/PROJECT_DATA/FROSTINI/test_MintPy/WCapeSenAT29_test/tmp/phase_coh_20190514_20190607.dim\" -Punw_interferogram_filename=\"/home/mcallegari/PROJECT_DATA/FROSTINI/test_MintPy/WCapeSenAT29_test/tmp/phase_coh_20190514_20190607/UnwPhase_ifg_IW3_VV_14May2019_07Jun2019.snaphu.hdr\" -Pphase_coh_bandnames=\"Phase_ifg_IW3_VV_14May2019_07Jun2019,Unw_Phase_ifg_14May2019_07Jun2019,coh_IW3_VV_14May2019_07Jun2019\" -PsaveDEM=\"false\" -Poutput_filename=\"/home/mcallegari/PROJECT_DATA/FROSTINI/test_MintPy/WCapeSenAT29_test/geocoded_interferogram_20190514_20190607.tif\"\n"
     ]
    },
    {
     "name": "stderr",
     "output_type": "stream",
     "text": [
      "44 incremental costs clipped to avoid overflow (0.001%)\n",
      "44 incremental costs clipped to avoid overflow (0.001%)\n",
      "44 incremental costs clipped to avoid overflow (0.001%)\n",
      "44 incremental costs clipped to avoid overflow (0.001%)\n",
      "INFO: org.esa.snap.core.gpf.operators.tooladapter.ToolAdapterIO: Initializing external tool adapters\n",
      "INFO: org.esa.snap.core.util.EngineVersionCheckActivator: Please check regularly for new updates for the best SNAP experience.\n"
     ]
    },
    {
     "name": "stdout",
     "output_type": "stream",
     "text": [
      "Executing processing graph\n"
     ]
    },
    {
     "name": "stderr",
     "output_type": "stream",
     "text": [
      "1860 [main] INFO hdf.hdflib.HDFLibrary - HDF4 library: \n",
      "1860 [main] INFO hdf.hdflib.HDFLibrary -  successfully loaded.\n",
      "1863 [main] INFO hdf.hdf5lib.H5 - HDF5 library: \n",
      "1864 [main] INFO hdf.hdf5lib.H5 -  successfully loaded.\n"
     ]
    },
    {
     "name": "stdout",
     "output_type": "stream",
     "text": [
      "....12%....24%....35%....47%....58%....70%....81%.... done.\n",
      "gpt \"./graphs/interferogram_sarGeometry.xml\" -Pprm_filename=\"/home/mcallegari/PROJECT_DATA/FROSTINI/test_MintPy/WCapeSenAT29_test/S1A_SLC_20190315T173425_062083_IW3_VV_193151.SAFE/manifest.safe\" -Psec_filename=\"/home/mcallegari/PROJECT_DATA/FROSTINI/test_MintPy/WCapeSenAT29_test/S1A_SLC_20190327T173425_062083_IW3_VV_194796.SAFE/manifest.safe\" -PcohWinRg=11 -PcohWinAz=3 -PnRgLooks=4 -PnAzLooks=1 -Poutput_filename=\"/home/mcallegari/PROJECT_DATA/FROSTINI/test_MintPy/WCapeSenAT29_test/tmp/phase_coh_20190315_20190327.dim\" -c 8192M\n"
     ]
    },
    {
     "name": "stderr",
     "output_type": "stream",
     "text": [
      "INFO: org.esa.snap.core.gpf.operators.tooladapter.ToolAdapterIO: Initializing external tool adapters\n",
      "INFO: org.esa.snap.core.util.EngineVersionCheckActivator: Please check regularly for new updates for the best SNAP experience.\n"
     ]
    },
    {
     "name": "stdout",
     "output_type": "stream",
     "text": [
      "Executing processing graph\n",
      "....11%....22%....33%....45%....56%....67%....78%....90% done.\n"
     ]
    },
    {
     "name": "stderr",
     "output_type": "stream",
     "text": [
      "-- org.jblas INFO Deleting /tmp/jblas16445927934869764793/libjblas_arch_flavor.so\n",
      "-- org.jblas INFO Deleting /tmp/jblas16445927934869764793/libjblas.so\n",
      "-- org.jblas INFO Deleting /tmp/jblas16445927934869764793/libgfortran-5.so\n",
      "-- org.jblas INFO Deleting /tmp/jblas16445927934869764793/libquadmath-0.so\n",
      "-- org.jblas INFO Deleting /tmp/jblas16445927934869764793\n",
      "INFO: org.esa.snap.core.gpf.operators.tooladapter.ToolAdapterIO: Initializing external tool adapters\n",
      "INFO: org.esa.snap.core.util.EngineVersionCheckActivator: Please check regularly for new updates for the best SNAP experience.\n"
     ]
    },
    {
     "name": "stdout",
     "output_type": "stream",
     "text": [
      "Executing processing graph\n",
      "...11%...22%...33%...45%...56%...67%...78%...90% done.\n",
      "snaphu -f snaphu.conf Phase_ifg_IW3_VV_15Mar2019_27Mar2019.snaphu.img 6120\n",
      "\n",
      "snaphu v2.0.4\n",
      "27 parameters input from file snaphu.conf (84 lines total)\n"
     ]
    },
    {
     "name": "stderr",
     "output_type": "stream",
     "text": [
      "-- org.jblas INFO Deleting /tmp/jblas4850315385392427826/libjblas_arch_flavor.so\n",
      "-- org.jblas INFO Deleting /tmp/jblas4850315385392427826/libjblas.so\n",
      "-- org.jblas INFO Deleting /tmp/jblas4850315385392427826/libgfortran-5.so\n",
      "-- org.jblas INFO Deleting /tmp/jblas4850315385392427826/libquadmath-0.so\n",
      "-- org.jblas INFO Deleting /tmp/jblas4850315385392427826\n",
      "WARNING: Tile overlap is small (may give bad results)\n"
     ]
    },
    {
     "name": "stdout",
     "output_type": "stream",
     "text": [
      "Logging run-time parameters to file snaphu.log\n",
      "Creating temporary directory snaphu_tiles_2560033\n",
      "Unwrapping tile at row 0, column 0 (pid 2560044)\n",
      "Unwrapping tile at row 0, column 1 (pid 2560048)\n",
      "Unwrapping tile at row 0, column 2 (pid 2560050)\n",
      "Unwrapping tile at row 0, column 3 (pid 2560052)\n",
      "Unwrapping tile at row 0, column 4 (pid 2560057)\n",
      "Unwrapping tile at row 0, column 5 (pid 2560067)\n",
      "Unwrapping tile at row 0, column 6 (pid 2560079)\n",
      "Unwrapping tile at row 0, column 7 (pid 2560083)\n",
      "Unwrapping tile at row 0, column 8 (pid 2560085)\n",
      "Unwrapping tile at row 0, column 9 (pid 2560088)\n",
      "Unwrapping tile at row 1, column 0 (pid 2560094)\n",
      "Unwrapping tile at row 1, column 1 (pid 2560102)\n",
      "Unwrapping tile at row 1, column 2 (pid 2560103)\n",
      "Unwrapping tile at row 1, column 3 (pid 2560104)\n",
      "Unwrapping tile at row 1, column 4 (pid 2560106)\n",
      "Unwrapping tile at row 1, column 5 (pid 2560107)\n",
      "Unwrapping tile at row 1, column 6 (pid 2560118)\n",
      "Unwrapping tile at row 1, column 7 (pid 2560119)\n",
      "Unwrapping tile at row 1, column 8 (pid 2560124)\n",
      "Unwrapping tile at row 1, column 9 (pid 2560126)\n",
      "Unwrapping tile at row 2, column 0 (pid 2560128)\n",
      "Unwrapping tile at row 2, column 1 (pid 2560137)\n",
      "Unwrapping tile at row 2, column 2 (pid 2560138)\n",
      "Unwrapping tile at row 2, column 3 (pid 2560139)\n",
      "Unwrapping tile at row 2, column 4 (pid 2560141)\n",
      "Unwrapping tile at row 2, column 5 (pid 2560142)\n",
      "Unwrapping tile at row 2, column 6 (pid 2560150)\n",
      "Unwrapping tile at row 2, column 7 (pid 2560154)\n",
      "Unwrapping tile at row 2, column 8 (pid 2560155)\n",
      "Unwrapping tile at row 2, column 9 (pid 2560157)\n",
      "Unwrapping tile at row 3, column 0 (pid 2560159)\n",
      "Unwrapping tile at row 3, column 1 (pid 2560162)\n",
      "Unwrapping tile at row 3, column 2 (pid 2560169)\n",
      "Unwrapping tile at row 3, column 3 (pid 2560170)\n",
      "Unwrapping tile at row 3, column 4 (pid 2560172)\n",
      "Unwrapping tile at row 3, column 5 (pid 2560173)\n",
      "Unwrapping tile at row 3, column 6 (pid 2560182)\n",
      "Unwrapping tile at row 3, column 7 (pid 2560193)\n",
      "Unwrapping tile at row 3, column 8 (pid 2560194)\n",
      "Unwrapping tile at row 3, column 9 (pid 2560196)\n",
      "Unwrapping tile at row 4, column 0 (pid 2560198)\n",
      "Unwrapping tile at row 4, column 1 (pid 2560202)\n",
      "Unwrapping tile at row 4, column 2 (pid 2560210)\n",
      "Unwrapping tile at row 4, column 3 (pid 2560211)\n",
      "Unwrapping tile at row 4, column 4 (pid 2560213)\n",
      "Unwrapping tile at row 4, column 5 (pid 2560214)\n",
      "Unwrapping tile at row 4, column 6 (pid 2560215)\n",
      "Unwrapping tile at row 4, column 7 (pid 2560223)\n",
      "Unwrapping tile at row 4, column 8 (pid 2560226)\n",
      "Unwrapping tile at row 4, column 9 (pid 2560229)\n",
      "Unwrapping tile at row 5, column 0 (pid 2560231)\n",
      "Unwrapping tile at row 5, column 1 (pid 2560233)\n",
      "Unwrapping tile at row 5, column 2 (pid 2560235)\n",
      "Unwrapping tile at row 5, column 3 (pid 2560243)\n",
      "Unwrapping tile at row 5, column 4 (pid 2560245)\n",
      "Unwrapping tile at row 5, column 5 (pid 2560246)\n",
      "Unwrapping tile at row 5, column 6 (pid 2560247)\n",
      "Unwrapping tile at row 5, column 7 (pid 2560249)\n",
      "Unwrapping tile at row 5, column 8 (pid 2560259)\n",
      "Unwrapping tile at row 5, column 9 (pid 2560261)\n",
      "Unwrapping tile at row 6, column 0 (pid 2560264)\n",
      "Unwrapping tile at row 6, column 1 (pid 2560265)\n",
      "Unwrapping tile at row 6, column 2 (pid 2560266)\n",
      "Unwrapping tile at row 6, column 3 (pid 2560275)\n",
      "Unwrapping tile at row 6, column 4 (pid 2560278)\n",
      "Unwrapping tile at row 6, column 5 (pid 2560279)\n",
      "Unwrapping tile at row 6, column 6 (pid 2560288)\n",
      "Unwrapping tile at row 6, column 7 (pid 2560289)\n",
      "Unwrapping tile at row 6, column 8 (pid 2560303)\n",
      "Unwrapping tile at row 6, column 9 (pid 2560308)\n",
      "Unwrapping tile at row 7, column 0 (pid 2560309)\n",
      "Unwrapping tile at row 7, column 1 (pid 2560310)\n",
      "Unwrapping tile at row 7, column 2 (pid 2560318)\n",
      "Unwrapping tile at row 7, column 3 (pid 2560320)\n",
      "Unwrapping tile at row 7, column 4 (pid 2560321)\n",
      "Unwrapping tile at row 7, column 5 (pid 2560322)\n",
      "Unwrapping tile at row 7, column 6 (pid 2560323)\n",
      "Unwrapping tile at row 7, column 7 (pid 2560324)\n",
      "Unwrapping tile at row 7, column 8 (pid 2560335)\n",
      "Unwrapping tile at row 7, column 9 (pid 2560343)\n",
      "Unwrapping tile at row 8, column 0 (pid 2560344)\n",
      "Unwrapping tile at row 8, column 1 (pid 2560345)\n",
      "Unwrapping tile at row 8, column 2 (pid 2560354)\n",
      "Unwrapping tile at row 8, column 3 (pid 2560355)\n",
      "Unwrapping tile at row 8, column 4 (pid 2560356)\n",
      "Unwrapping tile at row 8, column 5 (pid 2560358)\n",
      "Unwrapping tile at row 8, column 6 (pid 2560374)\n",
      "Unwrapping tile at row 8, column 7 (pid 2560384)\n",
      "Unwrapping tile at row 8, column 8 (pid 2560388)\n",
      "Unwrapping tile at row 8, column 9 (pid 2560390)\n",
      "Unwrapping tile at row 9, column 0 (pid 2560391)\n",
      "Unwrapping tile at row 9, column 1 (pid 2560392)\n",
      "Unwrapping tile at row 9, column 2 (pid 2560394)\n",
      "Unwrapping tile at row 9, column 3 (pid 2560402)\n",
      "Unwrapping tile at row 9, column 4 (pid 2560411)\n",
      "Unwrapping tile at row 9, column 5 (pid 2560412)\n",
      "Unwrapping tile at row 9, column 6 (pid 2560413)\n",
      "Unwrapping tile at row 9, column 7 (pid 2560415)\n",
      "Unwrapping tile at row 9, column 8 (pid 2560430)\n",
      "Unwrapping tile at row 9, column 9 (pid 2560434)\n",
      "Assembling tiles\n",
      "Running optimizer for secondary network\n",
      "Number of nodes in secondary network: 12796\n",
      "Flow increment: 1  (Total improvements: 0)\n",
      "Treesize: 12796      Pivots: 217         Improvements: 37         \n",
      "Flow increment: 2  (Total improvements: 37)\n",
      "Treesize: 12796      Pivots: 0           Improvements: 0          \n",
      "Flow increment: 3  (Total improvements: 37)\n",
      "Treesize: 12796      Pivots: 0           Improvements: 0          \n",
      "Flow increment: 4  (Total improvements: 37)\n",
      "Treesize: 12796      Pivots: 0           Improvements: 0          \n",
      "Integrating secondary flows\n",
      "Output written to file UnwPhase_ifg_IW3_VV_15Mar2019_27Mar2019.snaphu.img\n",
      "Removing temporary directory snaphu_tiles_2560033\n",
      "SUGGESTION: Try increasing tile overlap and/or size if solution has edge artifacts\n",
      "Program snaphu done\n",
      "Elapsed processor time:   0:06:50.54\n",
      "Elapsed wall clock time:  0:01:47\n",
      "gpt \"./graphs/geocode_snaphuInterferogram_WGS84.xml\" -Pinterferogram_filename=\"/home/mcallegari/PROJECT_DATA/FROSTINI/test_MintPy/WCapeSenAT29_test/tmp/phase_coh_20190315_20190327.dim\" -Punw_interferogram_filename=\"/home/mcallegari/PROJECT_DATA/FROSTINI/test_MintPy/WCapeSenAT29_test/tmp/phase_coh_20190315_20190327/UnwPhase_ifg_IW3_VV_15Mar2019_27Mar2019.snaphu.hdr\" -Pphase_coh_bandnames=\"Phase_ifg_IW3_VV_15Mar2019_27Mar2019,Unw_Phase_ifg_15Mar2019_27Mar2019,coh_IW3_VV_15Mar2019_27Mar2019\" -PsaveDEM=\"false\" -Poutput_filename=\"/home/mcallegari/PROJECT_DATA/FROSTINI/test_MintPy/WCapeSenAT29_test/geocoded_interferogram_20190315_20190327.tif\"\n"
     ]
    },
    {
     "name": "stderr",
     "output_type": "stream",
     "text": [
      "65 incremental costs clipped to avoid overflow (0.002%)\n",
      "66 incremental costs clipped to avoid overflow (0.002%)\n",
      "67 incremental costs clipped to avoid overflow (0.002%)\n",
      "67 incremental costs clipped to avoid overflow (0.002%)\n",
      "INFO: org.esa.snap.core.gpf.operators.tooladapter.ToolAdapterIO: Initializing external tool adapters\n",
      "INFO: org.esa.snap.core.util.EngineVersionCheckActivator: Please check regularly for new updates for the best SNAP experience.\n"
     ]
    },
    {
     "name": "stdout",
     "output_type": "stream",
     "text": [
      "Executing processing graph\n"
     ]
    },
    {
     "name": "stderr",
     "output_type": "stream",
     "text": [
      "1901 [main] INFO hdf.hdflib.HDFLibrary - HDF4 library: \n",
      "1901 [main] INFO hdf.hdflib.HDFLibrary -  successfully loaded.\n",
      "1905 [main] INFO hdf.hdf5lib.H5 - HDF5 library: \n",
      "1905 [main] INFO hdf.hdf5lib.H5 -  successfully loaded.\n"
     ]
    },
    {
     "name": "stdout",
     "output_type": "stream",
     "text": [
      "....12%....24%....35%....47%....58%....70%....81%.... done.\n"
     ]
    }
   ],
   "source": [
    "saveDEM = True\n",
    "for pair in InSAR_pairs:\n",
    "\n",
    "    # Create the interferogram\n",
    "    prm_filename = glob.glob(os.path.join(output_folder, f'*{pair.split(\"_\")[0]}*', 'manifest.safe'))[0]\n",
    "    sec_filename = glob.glob(os.path.join(output_folder, f'*{pair.split(\"_\")[1]}*', 'manifest.safe'))[0]\n",
    "    tmp_folder = os.path.join(output_folder, 'tmp')\n",
    "    os.makedirs(tmp_folder, exist_ok=True)\n",
    "    phase_filename = os.path.join(tmp_folder, f'phase_coh_{pair}.dim')\n",
    "    cmd_interferogram = (\n",
    "        f'gpt \"{graph_interferogram}\" -Pprm_filename=\"{prm_filename}\" -Psec_filename=\"{sec_filename}\" '\n",
    "        f'-PcohWinRg={cohWinRg} -PcohWinAz={cohWinAz} '\n",
    "        f'-PnRgLooks={nRgLooks} -PnAzLooks={nAzLooks} '\n",
    "        f'-Poutput_filename=\"{phase_filename}\" '\n",
    "        f'-c 8192M'\n",
    "    )\n",
    "    print(cmd_interferogram)\n",
    "    os.system(cmd_interferogram)\n",
    "\n",
    "    # Prepare the snaphu export for unwrapping\n",
    "    cmd_snaphu_export = (\n",
    "        f'gpt \"{graph_snaphu_export}\" -Pphase_filename=\"{phase_filename}\" -Poutput_folder_snaphu=\"{tmp_folder}\" '\n",
    "    )\n",
    "    os.system(cmd_snaphu_export)\n",
    "\n",
    "    # Unwrapping with snaphu\n",
    "    snaphu_conf_filename = glob.glob(os.path.join(tmp_folder, '**/snaphu.conf'))[0]\n",
    "    with open(snaphu_conf_filename, 'r') as file:\n",
    "        for line in file:\n",
    "            if line.startswith('#'):\n",
    "                line = line[1:].lstrip()  # Remove the '#' symbol and whitespaces at the beginning\n",
    "                if line.startswith('snaphu'):\n",
    "                    cmd_unwrapping = line.rstrip()\n",
    "                    break\n",
    "    work_dir = os.getcwd()\n",
    "    os.chdir(os.path.dirname(snaphu_conf_filename))\n",
    "    print(cmd_unwrapping)\n",
    "    os.system(cmd_unwrapping)\n",
    "    os.chdir(work_dir)\n",
    "\n",
    "    # Geocode the result (interferogram, unwrapped interferogram, coherence)\n",
    "    prm_date, sec_date = [datetime.strptime(date, \"%Y%m%d\") for date in pair.split('_')]\n",
    "    phase_bandname = f'Phase_ifg_{sub_swath}_VV_{prm_date.strftime(\"%d%b%Y\")}_{sec_date.strftime(\"%d%b%Y\")}'\n",
    "    unw_phase_bandname = f'Unw_Phase_ifg_{prm_date.strftime(\"%d%b%Y\")}_{sec_date.strftime(\"%d%b%Y\")}'\n",
    "    coh_bandname = f'coh_{sub_swath}_VV_{prm_date.strftime(\"%d%b%Y\")}_{sec_date.strftime(\"%d%b%Y\")}'\n",
    "    unw_phase_filename = glob.glob(os.path.join(tmp_folder, '**/UnwPhase*.hdr'))[0]\n",
    "    cmd_geocode = (\n",
    "        f'gpt \"{graph_geocode}\" -Pinterferogram_filename=\"{phase_filename}\" -Punw_interferogram_filename=\"{unw_phase_filename}\" '\n",
    "        f'-Pphase_coh_bandnames=\"{phase_bandname},{unw_phase_bandname},{coh_bandname}\" '\n",
    "        f'-PsaveDEM=\"{str(saveDEM).lower()}\" '\n",
    "        f'-Poutput_filename=\"{os.path.join(output_folder, f'geocoded_interferogram_{pair}.tif')}\"'\n",
    "    )\n",
    "    print(cmd_geocode)\n",
    "    os.system(cmd_geocode)\n",
    "    shutil.rmtree(tmp_folder)\n",
    "    saveDEM = False\n",
    "    "
   ]
  },
  {
   "cell_type": "markdown",
   "id": "53fc9cc1-981e-40f9-948a-c37a6a806f5c",
   "metadata": {},
   "source": [
    "## Format the data for MintPy"
   ]
  },
  {
   "cell_type": "code",
   "execution_count": 15,
   "id": "cac89f31-e470-4229-8661-fcacc794b807",
   "metadata": {
    "scrolled": true
   },
   "outputs": [
    {
     "name": "stderr",
     "output_type": "stream",
     "text": [
      "INFO: org.esa.snap.core.gpf.operators.tooladapter.ToolAdapterIO: Initializing external tool adapters\n",
      "INFO: org.esa.snap.core.util.EngineVersionCheckActivator: Please check regularly for new updates for the best SNAP experience.\n"
     ]
    },
    {
     "name": "stdout",
     "output_type": "stream",
     "text": [
      "Executing processing graph\n",
      ".16%..32%.49%.65%.81%. done.\n"
     ]
    },
    {
     "name": "stderr",
     "output_type": "stream",
     "text": [
      "INFO: org.esa.snap.core.gpf.operators.tooladapter.ToolAdapterIO: Initializing external tool adapters\n",
      "INFO: org.esa.snap.core.util.EngineVersionCheckActivator: Please check regularly for new updates for the best SNAP experience.\n"
     ]
    },
    {
     "name": "stdout",
     "output_type": "stream",
     "text": [
      "Executing processing graph\n",
      ".16%..32%.49%.65%.81%. done.\n"
     ]
    },
    {
     "name": "stderr",
     "output_type": "stream",
     "text": [
      "INFO: org.esa.snap.core.gpf.operators.tooladapter.ToolAdapterIO: Initializing external tool adapters\n",
      "INFO: org.esa.snap.core.util.EngineVersionCheckActivator: Please check regularly for new updates for the best SNAP experience.\n"
     ]
    },
    {
     "name": "stdout",
     "output_type": "stream",
     "text": [
      "Executing processing graph\n",
      ".16%..32%.49%.65%.81%. done.\n"
     ]
    },
    {
     "name": "stderr",
     "output_type": "stream",
     "text": [
      "INFO: org.esa.snap.core.gpf.operators.tooladapter.ToolAdapterIO: Initializing external tool adapters\n",
      "INFO: org.esa.snap.core.util.EngineVersionCheckActivator: Please check regularly for new updates for the best SNAP experience.\n"
     ]
    },
    {
     "name": "stdout",
     "output_type": "stream",
     "text": [
      "Executing processing graph\n",
      ".16%..32%.49%.65%.81%. done.\n"
     ]
    },
    {
     "name": "stderr",
     "output_type": "stream",
     "text": [
      "INFO: org.esa.snap.core.gpf.operators.tooladapter.ToolAdapterIO: Initializing external tool adapters\n",
      "INFO: org.esa.snap.core.util.EngineVersionCheckActivator: Please check regularly for new updates for the best SNAP experience.\n"
     ]
    },
    {
     "name": "stdout",
     "output_type": "stream",
     "text": [
      "Executing processing graph\n",
      ".16%..32%.49%.65%.81%. done.\n"
     ]
    },
    {
     "name": "stderr",
     "output_type": "stream",
     "text": [
      "INFO: org.esa.snap.core.gpf.operators.tooladapter.ToolAdapterIO: Initializing external tool adapters\n",
      "INFO: org.esa.snap.core.util.EngineVersionCheckActivator: Please check regularly for new updates for the best SNAP experience.\n"
     ]
    },
    {
     "name": "stdout",
     "output_type": "stream",
     "text": [
      "Executing processing graph\n",
      ".16%..32%.49%.65%.81%. done.\n"
     ]
    },
    {
     "name": "stderr",
     "output_type": "stream",
     "text": [
      "INFO: org.esa.snap.core.gpf.operators.tooladapter.ToolAdapterIO: Initializing external tool adapters\n",
      "INFO: org.esa.snap.core.util.EngineVersionCheckActivator: Please check regularly for new updates for the best SNAP experience.\n"
     ]
    },
    {
     "name": "stdout",
     "output_type": "stream",
     "text": [
      "Executing processing graph\n",
      ".16%..32%.49%.65%.81%. done.\n"
     ]
    },
    {
     "name": "stderr",
     "output_type": "stream",
     "text": [
      "INFO: org.esa.snap.core.gpf.operators.tooladapter.ToolAdapterIO: Initializing external tool adapters\n",
      "INFO: org.esa.snap.core.util.EngineVersionCheckActivator: Please check regularly for new updates for the best SNAP experience.\n"
     ]
    },
    {
     "name": "stdout",
     "output_type": "stream",
     "text": [
      "Executing processing graph\n",
      ".16%..32%.49%.65%.81%. done.\n"
     ]
    },
    {
     "name": "stderr",
     "output_type": "stream",
     "text": [
      "INFO: org.esa.snap.core.gpf.operators.tooladapter.ToolAdapterIO: Initializing external tool adapters\n",
      "INFO: org.esa.snap.core.util.EngineVersionCheckActivator: Please check regularly for new updates for the best SNAP experience.\n"
     ]
    },
    {
     "name": "stdout",
     "output_type": "stream",
     "text": [
      "Executing processing graph\n",
      ".16%..32%.49%.65%.81%. done.\n"
     ]
    },
    {
     "name": "stderr",
     "output_type": "stream",
     "text": [
      "INFO: org.esa.snap.core.gpf.operators.tooladapter.ToolAdapterIO: Initializing external tool adapters\n",
      "INFO: org.esa.snap.core.util.EngineVersionCheckActivator: Please check regularly for new updates for the best SNAP experience.\n"
     ]
    },
    {
     "name": "stdout",
     "output_type": "stream",
     "text": [
      "Executing processing graph\n",
      ".16%..32%.49%.65%.81%. done.\n"
     ]
    },
    {
     "name": "stderr",
     "output_type": "stream",
     "text": [
      "INFO: org.esa.snap.core.gpf.operators.tooladapter.ToolAdapterIO: Initializing external tool adapters\n",
      "INFO: org.esa.snap.core.util.EngineVersionCheckActivator: Please check regularly for new updates for the best SNAP experience.\n"
     ]
    },
    {
     "name": "stdout",
     "output_type": "stream",
     "text": [
      "Executing processing graph\n",
      ".16%..32%.49%.65%.81%. done.\n"
     ]
    },
    {
     "name": "stderr",
     "output_type": "stream",
     "text": [
      "INFO: org.esa.snap.core.gpf.operators.tooladapter.ToolAdapterIO: Initializing external tool adapters\n",
      "INFO: org.esa.snap.core.util.EngineVersionCheckActivator: Please check regularly for new updates for the best SNAP experience.\n"
     ]
    },
    {
     "name": "stdout",
     "output_type": "stream",
     "text": [
      "Executing processing graph\n",
      ".16%..32%.49%.65%.81%. done.\n"
     ]
    },
    {
     "name": "stderr",
     "output_type": "stream",
     "text": [
      "INFO: org.esa.snap.core.gpf.operators.tooladapter.ToolAdapterIO: Initializing external tool adapters\n",
      "INFO: org.esa.snap.core.util.EngineVersionCheckActivator: Please check regularly for new updates for the best SNAP experience.\n"
     ]
    },
    {
     "name": "stdout",
     "output_type": "stream",
     "text": [
      "Executing processing graph\n",
      ".16%..32%.49%.65%.81%. done.\n"
     ]
    },
    {
     "name": "stderr",
     "output_type": "stream",
     "text": [
      "INFO: org.esa.snap.core.gpf.operators.tooladapter.ToolAdapterIO: Initializing external tool adapters\n",
      "INFO: org.esa.snap.core.util.EngineVersionCheckActivator: Please check regularly for new updates for the best SNAP experience.\n"
     ]
    },
    {
     "name": "stdout",
     "output_type": "stream",
     "text": [
      "Executing processing graph\n",
      ".16%..32%.49%.65%.81%. done.\n"
     ]
    },
    {
     "name": "stderr",
     "output_type": "stream",
     "text": [
      "INFO: org.esa.snap.core.gpf.operators.tooladapter.ToolAdapterIO: Initializing external tool adapters\n",
      "INFO: org.esa.snap.core.util.EngineVersionCheckActivator: Please check regularly for new updates for the best SNAP experience.\n"
     ]
    },
    {
     "name": "stdout",
     "output_type": "stream",
     "text": [
      "Executing processing graph\n",
      ".16%..32%.49%.65%.81%. done.\n"
     ]
    },
    {
     "name": "stderr",
     "output_type": "stream",
     "text": [
      "INFO: org.esa.snap.core.gpf.operators.tooladapter.ToolAdapterIO: Initializing external tool adapters\n",
      "INFO: org.esa.snap.core.util.EngineVersionCheckActivator: Please check regularly for new updates for the best SNAP experience.\n"
     ]
    },
    {
     "name": "stdout",
     "output_type": "stream",
     "text": [
      "Executing processing graph\n",
      ".16%..32%.49%.65%.81%. done.\n"
     ]
    },
    {
     "name": "stderr",
     "output_type": "stream",
     "text": [
      "INFO: org.esa.snap.core.gpf.operators.tooladapter.ToolAdapterIO: Initializing external tool adapters\n",
      "INFO: org.esa.snap.core.util.EngineVersionCheckActivator: Please check regularly for new updates for the best SNAP experience.\n"
     ]
    },
    {
     "name": "stdout",
     "output_type": "stream",
     "text": [
      "Executing processing graph\n",
      ".16%..32%.49%.65%.81%. done.\n"
     ]
    },
    {
     "name": "stderr",
     "output_type": "stream",
     "text": [
      "INFO: org.esa.snap.core.gpf.operators.tooladapter.ToolAdapterIO: Initializing external tool adapters\n",
      "INFO: org.esa.snap.core.util.EngineVersionCheckActivator: Please check regularly for new updates for the best SNAP experience.\n"
     ]
    },
    {
     "name": "stdout",
     "output_type": "stream",
     "text": [
      "Executing processing graph\n",
      ".16%..32%.49%.65%.81%. done.\n"
     ]
    },
    {
     "name": "stderr",
     "output_type": "stream",
     "text": [
      "INFO: org.esa.snap.core.gpf.operators.tooladapter.ToolAdapterIO: Initializing external tool adapters\n",
      "INFO: org.esa.snap.core.util.EngineVersionCheckActivator: Please check regularly for new updates for the best SNAP experience.\n"
     ]
    },
    {
     "name": "stdout",
     "output_type": "stream",
     "text": [
      "Executing processing graph\n",
      ".16%..32%.49%.65%.81%. done.\n"
     ]
    },
    {
     "name": "stderr",
     "output_type": "stream",
     "text": [
      "INFO: org.esa.snap.core.gpf.operators.tooladapter.ToolAdapterIO: Initializing external tool adapters\n",
      "INFO: org.esa.snap.core.util.EngineVersionCheckActivator: Please check regularly for new updates for the best SNAP experience.\n"
     ]
    },
    {
     "name": "stdout",
     "output_type": "stream",
     "text": [
      "Executing processing graph\n",
      ".16%..32%.49%.65%.81%. done.\n"
     ]
    },
    {
     "name": "stderr",
     "output_type": "stream",
     "text": [
      "INFO: org.esa.snap.core.gpf.operators.tooladapter.ToolAdapterIO: Initializing external tool adapters\n",
      "INFO: org.esa.snap.core.util.EngineVersionCheckActivator: Please check regularly for new updates for the best SNAP experience.\n"
     ]
    },
    {
     "name": "stdout",
     "output_type": "stream",
     "text": [
      "Executing processing graph\n",
      ".16%..32%.49%.65%.81%. done.\n"
     ]
    },
    {
     "name": "stderr",
     "output_type": "stream",
     "text": [
      "INFO: org.esa.snap.core.gpf.operators.tooladapter.ToolAdapterIO: Initializing external tool adapters\n",
      "INFO: org.esa.snap.core.util.EngineVersionCheckActivator: Please check regularly for new updates for the best SNAP experience.\n"
     ]
    },
    {
     "name": "stdout",
     "output_type": "stream",
     "text": [
      "Executing processing graph\n",
      ".16%..32%.49%.65%.81%. done.\n"
     ]
    },
    {
     "name": "stderr",
     "output_type": "stream",
     "text": [
      "INFO: org.esa.snap.core.gpf.operators.tooladapter.ToolAdapterIO: Initializing external tool adapters\n",
      "INFO: org.esa.snap.core.util.EngineVersionCheckActivator: Please check regularly for new updates for the best SNAP experience.\n"
     ]
    },
    {
     "name": "stdout",
     "output_type": "stream",
     "text": [
      "Executing processing graph\n",
      ".16%..32%.49%.65%.81%. done.\n"
     ]
    },
    {
     "name": "stderr",
     "output_type": "stream",
     "text": [
      "INFO: org.esa.snap.core.gpf.operators.tooladapter.ToolAdapterIO: Initializing external tool adapters\n",
      "INFO: org.esa.snap.core.util.EngineVersionCheckActivator: Please check regularly for new updates for the best SNAP experience.\n"
     ]
    },
    {
     "name": "stdout",
     "output_type": "stream",
     "text": [
      "Executing processing graph\n",
      ".16%..32%.49%.65%.81%. done.\n"
     ]
    },
    {
     "name": "stderr",
     "output_type": "stream",
     "text": [
      "INFO: org.esa.snap.core.gpf.operators.tooladapter.ToolAdapterIO: Initializing external tool adapters\n",
      "INFO: org.esa.snap.core.util.EngineVersionCheckActivator: Please check regularly for new updates for the best SNAP experience.\n"
     ]
    },
    {
     "name": "stdout",
     "output_type": "stream",
     "text": [
      "Executing processing graph\n",
      ".16%..32%.49%.65%.81%. done.\n"
     ]
    },
    {
     "name": "stderr",
     "output_type": "stream",
     "text": [
      "INFO: org.esa.snap.core.gpf.operators.tooladapter.ToolAdapterIO: Initializing external tool adapters\n",
      "INFO: org.esa.snap.core.util.EngineVersionCheckActivator: Please check regularly for new updates for the best SNAP experience.\n"
     ]
    },
    {
     "name": "stdout",
     "output_type": "stream",
     "text": [
      "Executing processing graph\n",
      ".16%..32%.49%.65%.81%. done.\n"
     ]
    },
    {
     "name": "stderr",
     "output_type": "stream",
     "text": [
      "INFO: org.esa.snap.core.gpf.operators.tooladapter.ToolAdapterIO: Initializing external tool adapters\n",
      "INFO: org.esa.snap.core.util.EngineVersionCheckActivator: Please check regularly for new updates for the best SNAP experience.\n"
     ]
    },
    {
     "name": "stdout",
     "output_type": "stream",
     "text": [
      "Executing processing graph\n",
      ".16%..32%.49%.65%.81%. done.\n"
     ]
    },
    {
     "name": "stderr",
     "output_type": "stream",
     "text": [
      "INFO: org.esa.snap.core.gpf.operators.tooladapter.ToolAdapterIO: Initializing external tool adapters\n",
      "INFO: org.esa.snap.core.util.EngineVersionCheckActivator: Please check regularly for new updates for the best SNAP experience.\n"
     ]
    },
    {
     "name": "stdout",
     "output_type": "stream",
     "text": [
      "Executing processing graph\n",
      ".16%..32%.49%.65%.81%. done.\n"
     ]
    },
    {
     "name": "stderr",
     "output_type": "stream",
     "text": [
      "INFO: org.esa.snap.core.gpf.operators.tooladapter.ToolAdapterIO: Initializing external tool adapters\n",
      "INFO: org.esa.snap.core.util.EngineVersionCheckActivator: Please check regularly for new updates for the best SNAP experience.\n"
     ]
    },
    {
     "name": "stdout",
     "output_type": "stream",
     "text": [
      "Executing processing graph\n",
      ".16%..32%.49%.65%.81%. done.\n"
     ]
    },
    {
     "name": "stderr",
     "output_type": "stream",
     "text": [
      "INFO: org.esa.snap.core.gpf.operators.tooladapter.ToolAdapterIO: Initializing external tool adapters\n",
      "INFO: org.esa.snap.core.util.EngineVersionCheckActivator: Please check regularly for new updates for the best SNAP experience.\n"
     ]
    },
    {
     "name": "stdout",
     "output_type": "stream",
     "text": [
      "Executing processing graph\n",
      ".16%..32%.49%.65%.81%. done.\n"
     ]
    },
    {
     "name": "stderr",
     "output_type": "stream",
     "text": [
      "INFO: org.esa.snap.core.gpf.operators.tooladapter.ToolAdapterIO: Initializing external tool adapters\n",
      "INFO: org.esa.snap.core.util.EngineVersionCheckActivator: Please check regularly for new updates for the best SNAP experience.\n"
     ]
    },
    {
     "name": "stdout",
     "output_type": "stream",
     "text": [
      "Executing processing graph\n",
      ".16%..32%.49%.65%.81%. done.\n"
     ]
    },
    {
     "name": "stderr",
     "output_type": "stream",
     "text": [
      "INFO: org.esa.snap.core.gpf.operators.tooladapter.ToolAdapterIO: Initializing external tool adapters\n",
      "INFO: org.esa.snap.core.util.EngineVersionCheckActivator: Please check regularly for new updates for the best SNAP experience.\n"
     ]
    },
    {
     "name": "stdout",
     "output_type": "stream",
     "text": [
      "Executing processing graph\n",
      ".16%..32%.49%.65%.81%. done.\n"
     ]
    },
    {
     "name": "stderr",
     "output_type": "stream",
     "text": [
      "INFO: org.esa.snap.core.gpf.operators.tooladapter.ToolAdapterIO: Initializing external tool adapters\n",
      "INFO: org.esa.snap.core.util.EngineVersionCheckActivator: Please check regularly for new updates for the best SNAP experience.\n"
     ]
    },
    {
     "name": "stdout",
     "output_type": "stream",
     "text": [
      "Executing processing graph\n",
      ".16%..32%.49%.65%.81%. done.\n"
     ]
    },
    {
     "name": "stderr",
     "output_type": "stream",
     "text": [
      "INFO: org.esa.snap.core.gpf.operators.tooladapter.ToolAdapterIO: Initializing external tool adapters\n",
      "INFO: org.esa.snap.core.util.EngineVersionCheckActivator: Please check regularly for new updates for the best SNAP experience.\n"
     ]
    },
    {
     "name": "stdout",
     "output_type": "stream",
     "text": [
      "Executing processing graph\n",
      ".16%..32%.49%.65%.81%. done.\n"
     ]
    },
    {
     "name": "stderr",
     "output_type": "stream",
     "text": [
      "INFO: org.esa.snap.core.gpf.operators.tooladapter.ToolAdapterIO: Initializing external tool adapters\n",
      "INFO: org.esa.snap.core.util.EngineVersionCheckActivator: Please check regularly for new updates for the best SNAP experience.\n"
     ]
    },
    {
     "name": "stdout",
     "output_type": "stream",
     "text": [
      "Executing processing graph\n",
      ".16%..32%.49%.65%.81%. done.\n"
     ]
    },
    {
     "name": "stderr",
     "output_type": "stream",
     "text": [
      "INFO: org.esa.snap.core.gpf.operators.tooladapter.ToolAdapterIO: Initializing external tool adapters\n",
      "INFO: org.esa.snap.core.util.EngineVersionCheckActivator: Please check regularly for new updates for the best SNAP experience.\n"
     ]
    },
    {
     "name": "stdout",
     "output_type": "stream",
     "text": [
      "Executing processing graph\n",
      ".16%..32%.49%.65%.81%. done.\n"
     ]
    },
    {
     "name": "stderr",
     "output_type": "stream",
     "text": [
      "INFO: org.esa.snap.core.gpf.operators.tooladapter.ToolAdapterIO: Initializing external tool adapters\n",
      "INFO: org.esa.snap.core.util.EngineVersionCheckActivator: Please check regularly for new updates for the best SNAP experience.\n"
     ]
    },
    {
     "name": "stdout",
     "output_type": "stream",
     "text": [
      "Executing processing graph\n",
      ".16%..32%.49%.65%.81%. done.\n"
     ]
    },
    {
     "name": "stderr",
     "output_type": "stream",
     "text": [
      "INFO: org.esa.snap.core.gpf.operators.tooladapter.ToolAdapterIO: Initializing external tool adapters\n",
      "INFO: org.esa.snap.core.util.EngineVersionCheckActivator: Please check regularly for new updates for the best SNAP experience.\n"
     ]
    },
    {
     "name": "stdout",
     "output_type": "stream",
     "text": [
      "Executing processing graph\n",
      ".16%..32%.49%.65%.81%. done.\n"
     ]
    },
    {
     "name": "stderr",
     "output_type": "stream",
     "text": [
      "INFO: org.esa.snap.core.gpf.operators.tooladapter.ToolAdapterIO: Initializing external tool adapters\n",
      "INFO: org.esa.snap.core.util.EngineVersionCheckActivator: Please check regularly for new updates for the best SNAP experience.\n"
     ]
    },
    {
     "name": "stdout",
     "output_type": "stream",
     "text": [
      "Executing processing graph\n",
      ".16%..32%.49%.65%.81%. done.\n"
     ]
    },
    {
     "name": "stderr",
     "output_type": "stream",
     "text": [
      "INFO: org.esa.snap.core.gpf.operators.tooladapter.ToolAdapterIO: Initializing external tool adapters\n",
      "INFO: org.esa.snap.core.util.EngineVersionCheckActivator: Please check regularly for new updates for the best SNAP experience.\n"
     ]
    },
    {
     "name": "stdout",
     "output_type": "stream",
     "text": [
      "Executing processing graph\n",
      ".16%..32%.49%.65%.81%. done.\n"
     ]
    },
    {
     "name": "stderr",
     "output_type": "stream",
     "text": [
      "INFO: org.esa.snap.core.gpf.operators.tooladapter.ToolAdapterIO: Initializing external tool adapters\n",
      "INFO: org.esa.snap.core.util.EngineVersionCheckActivator: Please check regularly for new updates for the best SNAP experience.\n"
     ]
    },
    {
     "name": "stdout",
     "output_type": "stream",
     "text": [
      "Executing processing graph\n",
      ".16%..32%.49%.65%.81%. done.\n"
     ]
    },
    {
     "name": "stderr",
     "output_type": "stream",
     "text": [
      "INFO: org.esa.snap.core.gpf.operators.tooladapter.ToolAdapterIO: Initializing external tool adapters\n",
      "INFO: org.esa.snap.core.util.EngineVersionCheckActivator: Please check regularly for new updates for the best SNAP experience.\n"
     ]
    },
    {
     "name": "stdout",
     "output_type": "stream",
     "text": [
      "Executing processing graph\n",
      ".16%..32%.49%.65%.81%. done.\n"
     ]
    },
    {
     "name": "stderr",
     "output_type": "stream",
     "text": [
      "INFO: org.esa.snap.core.gpf.operators.tooladapter.ToolAdapterIO: Initializing external tool adapters\n",
      "INFO: org.esa.snap.core.util.EngineVersionCheckActivator: Please check regularly for new updates for the best SNAP experience.\n"
     ]
    },
    {
     "name": "stdout",
     "output_type": "stream",
     "text": [
      "Executing processing graph\n",
      ".16%..32%.49%.65%.81%. done.\n"
     ]
    },
    {
     "name": "stderr",
     "output_type": "stream",
     "text": [
      "INFO: org.esa.snap.core.gpf.operators.tooladapter.ToolAdapterIO: Initializing external tool adapters\n",
      "INFO: org.esa.snap.core.util.EngineVersionCheckActivator: Please check regularly for new updates for the best SNAP experience.\n"
     ]
    },
    {
     "name": "stdout",
     "output_type": "stream",
     "text": [
      "Executing processing graph\n",
      ".16%..32%.49%.65%.81%. done.\n"
     ]
    },
    {
     "name": "stderr",
     "output_type": "stream",
     "text": [
      "INFO: org.esa.snap.core.gpf.operators.tooladapter.ToolAdapterIO: Initializing external tool adapters\n",
      "INFO: org.esa.snap.core.util.EngineVersionCheckActivator: Please check regularly for new updates for the best SNAP experience.\n"
     ]
    },
    {
     "name": "stdout",
     "output_type": "stream",
     "text": [
      "Executing processing graph\n",
      ".16%..32%.49%.65%.81%. done.\n"
     ]
    },
    {
     "name": "stderr",
     "output_type": "stream",
     "text": [
      "INFO: org.esa.snap.core.gpf.operators.tooladapter.ToolAdapterIO: Initializing external tool adapters\n",
      "INFO: org.esa.snap.core.util.EngineVersionCheckActivator: Please check regularly for new updates for the best SNAP experience.\n"
     ]
    },
    {
     "name": "stdout",
     "output_type": "stream",
     "text": [
      "Executing processing graph\n",
      ".16%..32%.49%.65%.81%. done.\n"
     ]
    },
    {
     "name": "stderr",
     "output_type": "stream",
     "text": [
      "INFO: org.esa.snap.core.gpf.operators.tooladapter.ToolAdapterIO: Initializing external tool adapters\n",
      "INFO: org.esa.snap.core.util.EngineVersionCheckActivator: Please check regularly for new updates for the best SNAP experience.\n"
     ]
    },
    {
     "name": "stdout",
     "output_type": "stream",
     "text": [
      "Executing processing graph\n",
      ".16%..32%.49%.65%.81%. done.\n"
     ]
    },
    {
     "name": "stderr",
     "output_type": "stream",
     "text": [
      "INFO: org.esa.snap.core.gpf.operators.tooladapter.ToolAdapterIO: Initializing external tool adapters\n",
      "INFO: org.esa.snap.core.util.EngineVersionCheckActivator: Please check regularly for new updates for the best SNAP experience.\n"
     ]
    },
    {
     "name": "stdout",
     "output_type": "stream",
     "text": [
      "Executing processing graph\n",
      ".16%..32%.49%.65%.81%. done.\n"
     ]
    },
    {
     "name": "stderr",
     "output_type": "stream",
     "text": [
      "INFO: org.esa.snap.core.gpf.operators.tooladapter.ToolAdapterIO: Initializing external tool adapters\n",
      "INFO: org.esa.snap.core.util.EngineVersionCheckActivator: Please check regularly for new updates for the best SNAP experience.\n"
     ]
    },
    {
     "name": "stdout",
     "output_type": "stream",
     "text": [
      "Executing processing graph\n",
      ".16%..32%.49%.65%.81%. done.\n"
     ]
    },
    {
     "name": "stderr",
     "output_type": "stream",
     "text": [
      "INFO: org.esa.snap.core.gpf.operators.tooladapter.ToolAdapterIO: Initializing external tool adapters\n",
      "INFO: org.esa.snap.core.util.EngineVersionCheckActivator: Please check regularly for new updates for the best SNAP experience.\n"
     ]
    },
    {
     "name": "stdout",
     "output_type": "stream",
     "text": [
      "Executing processing graph\n",
      ".16%..32%.49%.65%.81%. done.\n"
     ]
    },
    {
     "name": "stderr",
     "output_type": "stream",
     "text": [
      "INFO: org.esa.snap.core.gpf.operators.tooladapter.ToolAdapterIO: Initializing external tool adapters\n",
      "INFO: org.esa.snap.core.util.EngineVersionCheckActivator: Please check regularly for new updates for the best SNAP experience.\n"
     ]
    },
    {
     "name": "stdout",
     "output_type": "stream",
     "text": [
      "Executing processing graph\n",
      ".16%..32%.49%.65%.81%. done.\n"
     ]
    },
    {
     "name": "stderr",
     "output_type": "stream",
     "text": [
      "INFO: org.esa.snap.core.gpf.operators.tooladapter.ToolAdapterIO: Initializing external tool adapters\n",
      "INFO: org.esa.snap.core.util.EngineVersionCheckActivator: Please check regularly for new updates for the best SNAP experience.\n"
     ]
    },
    {
     "name": "stdout",
     "output_type": "stream",
     "text": [
      "Executing processing graph\n",
      ".16%..32%.49%.65%.81%. done.\n"
     ]
    },
    {
     "name": "stderr",
     "output_type": "stream",
     "text": [
      "INFO: org.esa.snap.core.gpf.operators.tooladapter.ToolAdapterIO: Initializing external tool adapters\n",
      "INFO: org.esa.snap.core.util.EngineVersionCheckActivator: Please check regularly for new updates for the best SNAP experience.\n"
     ]
    },
    {
     "name": "stdout",
     "output_type": "stream",
     "text": [
      "Executing processing graph\n",
      ".16%..32%.49%.65%.81%. done.\n"
     ]
    },
    {
     "name": "stderr",
     "output_type": "stream",
     "text": [
      "INFO: org.esa.snap.core.gpf.operators.tooladapter.ToolAdapterIO: Initializing external tool adapters\n",
      "INFO: org.esa.snap.core.util.EngineVersionCheckActivator: Please check regularly for new updates for the best SNAP experience.\n"
     ]
    },
    {
     "name": "stdout",
     "output_type": "stream",
     "text": [
      "Executing processing graph\n",
      ".16%..32%.49%.65%.81%. done.\n"
     ]
    },
    {
     "name": "stderr",
     "output_type": "stream",
     "text": [
      "INFO: org.esa.snap.core.gpf.operators.tooladapter.ToolAdapterIO: Initializing external tool adapters\n",
      "INFO: org.esa.snap.core.util.EngineVersionCheckActivator: Please check regularly for new updates for the best SNAP experience.\n"
     ]
    },
    {
     "name": "stdout",
     "output_type": "stream",
     "text": [
      "Executing processing graph\n",
      ".16%..32%.49%.65%.81%. done.\n"
     ]
    },
    {
     "name": "stderr",
     "output_type": "stream",
     "text": [
      "INFO: org.esa.snap.core.gpf.operators.tooladapter.ToolAdapterIO: Initializing external tool adapters\n",
      "INFO: org.esa.snap.core.util.EngineVersionCheckActivator: Please check regularly for new updates for the best SNAP experience.\n"
     ]
    },
    {
     "name": "stdout",
     "output_type": "stream",
     "text": [
      "Executing processing graph\n",
      ".16%..32%.49%.65%.81%. done.\n"
     ]
    },
    {
     "name": "stderr",
     "output_type": "stream",
     "text": [
      "INFO: org.esa.snap.core.gpf.operators.tooladapter.ToolAdapterIO: Initializing external tool adapters\n",
      "INFO: org.esa.snap.core.util.EngineVersionCheckActivator: Please check regularly for new updates for the best SNAP experience.\n"
     ]
    },
    {
     "name": "stdout",
     "output_type": "stream",
     "text": [
      "Executing processing graph\n",
      ".16%..32%.49%.65%.81%. done.\n"
     ]
    },
    {
     "name": "stderr",
     "output_type": "stream",
     "text": [
      "INFO: org.esa.snap.core.gpf.operators.tooladapter.ToolAdapterIO: Initializing external tool adapters\n",
      "INFO: org.esa.snap.core.util.EngineVersionCheckActivator: Please check regularly for new updates for the best SNAP experience.\n"
     ]
    },
    {
     "name": "stdout",
     "output_type": "stream",
     "text": [
      "Executing processing graph\n",
      ".16%..32%.49%.65%.81%. done.\n"
     ]
    },
    {
     "name": "stderr",
     "output_type": "stream",
     "text": [
      "INFO: org.esa.snap.core.gpf.operators.tooladapter.ToolAdapterIO: Initializing external tool adapters\n",
      "INFO: org.esa.snap.core.util.EngineVersionCheckActivator: Please check regularly for new updates for the best SNAP experience.\n"
     ]
    },
    {
     "name": "stdout",
     "output_type": "stream",
     "text": [
      "Executing processing graph\n",
      ".16%..32%.49%.65%.81%. done.\n"
     ]
    },
    {
     "name": "stderr",
     "output_type": "stream",
     "text": [
      "INFO: org.esa.snap.core.gpf.operators.tooladapter.ToolAdapterIO: Initializing external tool adapters\n",
      "INFO: org.esa.snap.core.util.EngineVersionCheckActivator: Please check regularly for new updates for the best SNAP experience.\n"
     ]
    },
    {
     "name": "stdout",
     "output_type": "stream",
     "text": [
      "Executing processing graph\n",
      ".16%..32%.49%.65%.81%. done.\n"
     ]
    },
    {
     "name": "stderr",
     "output_type": "stream",
     "text": [
      "INFO: org.esa.snap.core.gpf.operators.tooladapter.ToolAdapterIO: Initializing external tool adapters\n",
      "INFO: org.esa.snap.core.util.EngineVersionCheckActivator: Please check regularly for new updates for the best SNAP experience.\n"
     ]
    },
    {
     "name": "stdout",
     "output_type": "stream",
     "text": [
      "Executing processing graph\n",
      ".16%..32%.49%.65%.81%. done.\n"
     ]
    },
    {
     "name": "stderr",
     "output_type": "stream",
     "text": [
      "INFO: org.esa.snap.core.gpf.operators.tooladapter.ToolAdapterIO: Initializing external tool adapters\n",
      "INFO: org.esa.snap.core.util.EngineVersionCheckActivator: Please check regularly for new updates for the best SNAP experience.\n"
     ]
    },
    {
     "name": "stdout",
     "output_type": "stream",
     "text": [
      "Executing processing graph\n",
      ".16%..32%.49%.65%.81%. done.\n"
     ]
    },
    {
     "name": "stderr",
     "output_type": "stream",
     "text": [
      "INFO: org.esa.snap.core.gpf.operators.tooladapter.ToolAdapterIO: Initializing external tool adapters\n",
      "INFO: org.esa.snap.core.util.EngineVersionCheckActivator: Please check regularly for new updates for the best SNAP experience.\n"
     ]
    },
    {
     "name": "stdout",
     "output_type": "stream",
     "text": [
      "Executing processing graph\n",
      ".16%..32%.49%.65%.81%. done.\n"
     ]
    },
    {
     "name": "stderr",
     "output_type": "stream",
     "text": [
      "INFO: org.esa.snap.core.gpf.operators.tooladapter.ToolAdapterIO: Initializing external tool adapters\n",
      "INFO: org.esa.snap.core.util.EngineVersionCheckActivator: Please check regularly for new updates for the best SNAP experience.\n"
     ]
    },
    {
     "name": "stdout",
     "output_type": "stream",
     "text": [
      "Executing processing graph\n",
      ".16%..32%.49%.65%.81%. done.\n"
     ]
    }
   ],
   "source": [
    "mintpy_folder = os.path.join(output_folder, 'mintpy')\n",
    "os.makedirs(mintpy_folder)\n",
    "os.makedirs(os.path.join(mintpy_folder, 'interferograms'))\n",
    "for filename in glob.glob(f'{os.path.join(output_folder, \"*.tif\")}'):\n",
    "\n",
    "    date_pair = os.path.basename(filename).replace(\"geocoded_interferogram_\", \"\")[:-4]\n",
    "    folder_interferogram = os.path.join(mintpy_folder, 'interferograms', date_pair)\n",
    "    os.makedirs(folder_interferogram)\n",
    "\n",
    "    metadata = subprocess.run(\n",
    "        [\"tiffinfo\", filename],\n",
    "        stdout=subprocess.PIPE,  # capture standard output\n",
    "        stderr=subprocess.PIPE,  # capture warnings/errors if needed\n",
    "        text=True                # decode bytes to str\n",
    "    ).stdout\n",
    "\n",
    "    band_names = re.findall(r\"<BAND_NAME>(.*?)</BAND_NAME>\", metadata)\n",
    "\n",
    "    for b in band_names:\n",
    "\n",
    "        if b.startswith(\"Phase\"):\n",
    "            output_filename = os.path.join(folder_interferogram, f'{date_pair}_filt_int_sub_tc')\n",
    "        elif b.startswith(\"Unw\"):\n",
    "            output_filename = os.path.join(folder_interferogram, f'{date_pair}_unw_tc')\n",
    "        elif b.startswith(\"coh\"):\n",
    "            output_filename = os.path.join(folder_interferogram, f'{date_pair}_coh_tc')\n",
    "        elif b == 'elevation':\n",
    "            output_filename = os.path.join(mintpy_folder, 'dem_tc')\n",
    "\n",
    "        cmd_subset = (\n",
    "            f'gpt \"{graph_subset}\" -Pinput_filename=\"{filename}\" '\n",
    "            f'-Pband_name=\"{b}\" -Pregion=\"{aoi}\" '\n",
    "            f'-Poutput_filename=\"{output_filename}\"'\n",
    "        )\n",
    "        os.system(cmd_subset)"
   ]
  },
  {
   "cell_type": "markdown",
   "id": "2cad9a49-0310-4d87-9353-a804488747be",
   "metadata": {},
   "source": [
    "## Create the MintPy config file"
   ]
  },
  {
   "cell_type": "markdown",
   "id": "30a1c857-343d-4059-b877-70ad7d511998",
   "metadata": {},
   "source": [
    "Define reference latitude and longitude:"
   ]
  },
  {
   "cell_type": "code",
   "execution_count": 16,
   "id": "c1e672fb-41cc-4b60-920c-1fe88e55556d",
   "metadata": {},
   "outputs": [],
   "source": [
    "ref_lat = -33\n",
    "ref_lon = 18.05"
   ]
  },
  {
   "cell_type": "code",
   "execution_count": 17,
   "id": "ee676c31-704e-4515-b244-addd6b5dc0e7",
   "metadata": {},
   "outputs": [],
   "source": [
    "config_filename = os.path.join(mintpy_folder, 'mintpy_config.txt')\n",
    "\n",
    "unw_files = os.path.join(mintpy_folder, 'interferograms', '*', '*', 'Unw_*.img')\n",
    "coh_files = os.path.join(mintpy_folder, 'interferograms', '*', '*', 'coh_*.img')\n",
    "dem_file  = os.path.join(mintpy_folder, 'dem_tc.data', 'elevation.img')\n",
    "\n",
    "config_txt = f\"\"\"\n",
    "mintpy.load.processor   = snap\n",
    "mintpy.load.unwFile     = {unw_files}\n",
    "mintpy.load.corFile     = {coh_files}\n",
    "mintpy.load.demFile     = {dem_file}\n",
    "\n",
    "mintpy.reference.lalo   = {ref_lat}, {ref_lon}\n",
    "\n",
    "mintpy.networkInversion.weightFunc              = var\n",
    "mintpy.deramp                                   = linear\n",
    "mintpy.topographicResidual.pixelwiseGeometry    = no\n",
    "\"\"\"\n",
    "\n",
    "with open(config_filename, \"w\") as file:\n",
    "    file.write(config_txt)"
   ]
  },
  {
   "cell_type": "markdown",
   "id": "5f10cbcb-ffe9-46bd-9909-dbf1ebcfa5b6",
   "metadata": {},
   "source": [
    "## Run Mintpy"
   ]
  },
  {
   "cell_type": "code",
   "execution_count": 18,
   "id": "3f705b46-c295-4ccf-8dca-fbcdae3c3c21",
   "metadata": {},
   "outputs": [
    {
     "name": "stdout",
     "output_type": "stream",
     "text": [
      "smallbaselineApp.py /home/mcallegari/PROJECT_DATA/FROSTINI/test_MintPy/WCapeSenAT29_test/mintpy/mintpy_config.txt\n",
      "\n",
      "___________________________________________________________\n",
      "\n",
      "  /##      /## /##             /##     /#######\n",
      " | ###    /###|__/            | ##    | ##__  ##\n",
      " | ####  /#### /## /#######  /######  | ##  \\ ## /##   /##\n",
      " | ## ##/## ##| ##| ##__  ##|_  ##_/  | #######/| ##  | ##\n",
      " | ##  ###| ##| ##| ##  \\ ##  | ##    | ##____/ | ##  | ##\n",
      " | ##\\  # | ##| ##| ##  | ##  | ## /##| ##      | ##  | ##\n",
      " | ## \\/  | ##| ##| ##  | ##  |  ####/| ##      |  #######\n",
      " |__/     |__/|__/|__/  |__/   \\___/  |__/       \\____  ##\n",
      "                                                 /##  | ##\n",
      "                                                |  ######/\n",
      "   Miami InSAR Time-series software in Python    \\______/\n",
      "          MintPy 1.6.2, 2025-07-07\n",
      "___________________________________________________________\n",
      "\n",
      "--RUN-at-2025-10-23 16:12:50.075346--\n",
      "Current directory: /mnt/CEPH_PROJECTS/FROSTINI/test_MintPy/WCapeSenAT29_test/mintpy\n",
      "Run routine processing with smallbaselineApp.py on steps: ['load_data', 'modify_network', 'reference_point', 'quick_overview', 'correct_unwrap_error', 'invert_network', 'correct_LOD', 'correct_SET', 'correct_ionosphere', 'correct_troposphere', 'deramp', 'correct_topography', 'residual_RMS', 'reference_date', 'velocity', 'geocode', 'google_earth', 'hdfeos5']\n",
      "Remaining steps: ['modify_network', 'reference_point', 'quick_overview', 'correct_unwrap_error', 'invert_network', 'correct_LOD', 'correct_SET', 'correct_ionosphere', 'correct_troposphere', 'deramp', 'correct_topography', 'residual_RMS', 'reference_date', 'velocity', 'geocode', 'google_earth', 'hdfeos5']\n",
      "--------------------------------------------------\n",
      "Project name: mintpy_config\n",
      "Go to work directory: /mnt/CEPH_PROJECTS/FROSTINI/test_MintPy/WCapeSenAT29_test/mintpy\n",
      "copy default template file /home/mcallegari/anaconda3/envs/cloudinsar/lib/python3.13/site-packages/mintpy/defaults/smallbaselineApp.cfg to work directory\n",
      "read custom template file: /home/mcallegari/PROJECT_DATA/FROSTINI/test_MintPy/WCapeSenAT29_test/mintpy/mintpy_config.txt\n",
      "update default template based on input custom template\n",
      "    mintpy.load.processor: auto --> snap\n",
      "    mintpy.load.unwFile: auto --> /home/mcallegari/PROJECT_DATA/FROSTINI/test_MintPy/WCapeSenAT29_test/mintpy/interferograms/*/*/Unw_*.img\n",
      "    mintpy.load.corFile: auto --> /home/mcallegari/PROJECT_DATA/FROSTINI/test_MintPy/WCapeSenAT29_test/mintpy/interferograms/*/*/coh_*.img\n",
      "    mintpy.load.demFile: auto --> /home/mcallegari/PROJECT_DATA/FROSTINI/test_MintPy/WCapeSenAT29_test/mintpy/dem_tc.data/elevation.img\n",
      "    mintpy.reference.lalo: auto --> -33, 18.05\n",
      "    mintpy.networkInversion.weightFunc: auto --> var\n",
      "    mintpy.deramp: auto --> linear\n",
      "    mintpy.topographicResidual.pixelwiseGeometry: auto --> no\n",
      "copy mintpy_config.txt    to inputs   directory for backup.\n",
      "copy smallbaselineApp.cfg to inputs   directory for backup.\n",
      "copy mintpy_config.txt    to pic      directory for backup.\n",
      "copy smallbaselineApp.cfg to pic      directory for backup.\n",
      "read default template file: /mnt/CEPH_PROJECTS/FROSTINI/test_MintPy/WCapeSenAT29_test/mintpy/smallbaselineApp.cfg\n",
      "\n",
      "\n",
      "******************** step - load_data ********************\n",
      "\n",
      "load_data.py --template /mnt/CEPH_PROJECTS/FROSTINI/test_MintPy/WCapeSenAT29_test/mintpy/smallbaselineApp.cfg /home/mcallegari/PROJECT_DATA/FROSTINI/test_MintPy/WCapeSenAT29_test/mintpy/mintpy_config.txt --project mintpy_config\n",
      "processor : snap\n",
      "SAR platform/sensor : unknown from project name \"mintpy_config\"\n",
      "--------------------------------------------------\n",
      "prepare metadata files for snap products\n",
      "prep_snap.py \"/home/mcallegari/PROJECT_DATA/FROSTINI/test_MintPy/WCapeSenAT29_test/mintpy/interferograms/*/*/Unw_*.img\"\n",
      "write metadata to Unw_Phase_ifg_03Mar2019_15Mar2019_VV.img.rsc \n",
      "write metadata to Unw_Phase_ifg_03Mar2019_27Mar2019_VV.img.rsc \n",
      "write metadata to Unw_Phase_ifg_03Mar2019_08Apr2019_VV.img.rsc \n",
      "write metadata to Unw_Phase_ifg_15Mar2019_27Mar2019_VV.img.rsc \n",
      "write metadata to Unw_Phase_ifg_15Mar2019_08Apr2019_VV.img.rsc \n",
      "write metadata to Unw_Phase_ifg_15Mar2019_20Apr2019_VV.img.rsc \n",
      "write metadata to Unw_Phase_ifg_27Mar2019_08Apr2019_VV.img.rsc \n",
      "write metadata to Unw_Phase_ifg_27Mar2019_20Apr2019_VV.img.rsc \n",
      "write metadata to Unw_Phase_ifg_27Mar2019_02May2019_VV.img.rsc \n",
      "write metadata to Unw_Phase_ifg_08Apr2019_20Apr2019_VV.img.rsc \n",
      "write metadata to Unw_Phase_ifg_08Apr2019_02May2019_VV.img.rsc \n",
      "write metadata to Unw_Phase_ifg_08Apr2019_14May2019_VV.img.rsc \n",
      "write metadata to Unw_Phase_ifg_20Apr2019_02May2019_VV.img.rsc \n",
      "write metadata to Unw_Phase_ifg_20Apr2019_14May2019_VV.img.rsc \n",
      "write metadata to Unw_Phase_ifg_20Apr2019_26May2019_VV.img.rsc \n",
      "write metadata to Unw_Phase_ifg_02May2019_14May2019_VV.img.rsc \n",
      "write metadata to Unw_Phase_ifg_02May2019_26May2019_VV.img.rsc \n",
      "write metadata to Unw_Phase_ifg_02May2019_07Jun2019_VV.img.rsc \n",
      "write metadata to Unw_Phase_ifg_14May2019_26May2019_VV.img.rsc \n",
      "write metadata to Unw_Phase_ifg_14May2019_07Jun2019_VV.img.rsc \n",
      "write metadata to Unw_Phase_ifg_14May2019_19Jun2019_VV.img.rsc \n",
      "prep_snap.py \"/home/mcallegari/PROJECT_DATA/FROSTINI/test_MintPy/WCapeSenAT29_test/mintpy/interferograms/*/*/coh_*.img\"\n",
      "write metadata to coh_IW3_VV_03Mar2019_15Mar2019.img.rsc \n",
      "write metadata to coh_IW3_VV_03Mar2019_27Mar2019.img.rsc \n",
      "write metadata to coh_IW3_VV_03Mar2019_08Apr2019.img.rsc \n",
      "write metadata to coh_IW3_VV_15Mar2019_27Mar2019.img.rsc \n",
      "write metadata to coh_IW3_VV_15Mar2019_08Apr2019.img.rsc \n",
      "write metadata to coh_IW3_VV_15Mar2019_20Apr2019.img.rsc \n",
      "write metadata to coh_IW3_VV_27Mar2019_08Apr2019.img.rsc \n",
      "write metadata to coh_IW3_VV_27Mar2019_20Apr2019.img.rsc \n",
      "write metadata to coh_IW3_VV_27Mar2019_02May2019.img.rsc \n",
      "write metadata to coh_IW3_VV_08Apr2019_20Apr2019.img.rsc \n",
      "write metadata to coh_IW3_VV_08Apr2019_02May2019.img.rsc \n",
      "write metadata to coh_IW3_VV_08Apr2019_14May2019.img.rsc \n",
      "write metadata to coh_IW3_VV_20Apr2019_02May2019.img.rsc \n",
      "write metadata to coh_IW3_VV_20Apr2019_14May2019.img.rsc \n",
      "write metadata to coh_IW3_VV_20Apr2019_26May2019.img.rsc \n",
      "write metadata to coh_IW3_VV_02May2019_14May2019.img.rsc \n",
      "write metadata to coh_IW3_VV_02May2019_26May2019.img.rsc \n",
      "write metadata to coh_IW3_VV_02May2019_07Jun2019.img.rsc \n",
      "write metadata to coh_IW3_VV_14May2019_26May2019.img.rsc \n",
      "write metadata to coh_IW3_VV_14May2019_07Jun2019.img.rsc \n",
      "write metadata to coh_IW3_VV_14May2019_19Jun2019.img.rsc \n",
      "prep_snap.py /home/mcallegari/PROJECT_DATA/FROSTINI/test_MintPy/WCapeSenAT29_test/mintpy/dem_tc.data/elevation.img\n",
      "write metadata to elevation.img.rsc \n",
      "--------------------------------------------------\n",
      "updateMode : True\n",
      "compression: default\n",
      "multilook x/ystep: 1/1\n",
      "multilook method : nearest\n",
      "\n",
      "********************************************************************************\n",
      "WARNING: NOT all input unwrapped interferograms have the same row/column number!\n",
      "Minimum size is: (613, 1559)\n",
      "------------------------------\n",
      "The following dates have different size:\n",
      "\t190303-190315\t(613, 1560)\n",
      "\t190303-190327\t(613, 1560)\n",
      "\t190303-190408\t(613, 1560)\n",
      "\t190420-190502\t(613, 1560)\n",
      "\t190420-190514\t(613, 1560)\n",
      "\t190420-190526\t(613, 1560)\n",
      "------------------------------\n",
      "Assuming the interferograms above have:\n",
      "\textra line(s) at the bottom OR\n",
      "\textra column(s) at the right\n",
      "Continue to load data using subset of the minimum size.\n",
      "********************************************************************************\n",
      "\n",
      "box to read for datasets in y/x: (0, 0, 1559, 613)\n",
      "--------------------------------------------------\n",
      "searching geometry files info\n",
      "input data files:\n",
      "height          : /home/mcallegari/PROJECT_DATA/FROSTINI/test_MintPy/WCapeSenAT29_test/mintpy/dem_tc.data/elevation.img\n",
      "--------------------------------------------------\n",
      "create HDF5 file /mnt/CEPH_PROJECTS/FROSTINI/test_MintPy/WCapeSenAT29_test/mintpy/inputs/geometryGeo.h5 with w mode\n",
      "create dataset /height             of <class 'numpy.float32'>   in size of (613, 1559) with compression = lzf\n",
      "geocoded input, use constant value from metadata INCIDENCE_ANGLE\n",
      "create dataset /incidenceAngle     of <class 'numpy.float32'>   in size of (613, 1559) with compression = lzf\n",
      "prepare slantRangeDistance ...\n",
      "geocoded input, use constant value from metadata SLANT_RANGE_DISTANCE\n",
      "create dataset /slantRangeDistance of <class 'numpy.float32'>   in size of (613, 1559) with compression = lzf\n",
      "update LENGTH, WIDTH, Y/XMAX\n",
      "update/add SUBSET_XMIN/YMIN/XMAX/YMAX: 0/0/1559/613\n",
      "update Y/X_FIRST\n",
      "Finished writing to /mnt/CEPH_PROJECTS/FROSTINI/test_MintPy/WCapeSenAT29_test/mintpy/inputs/geometryGeo.h5\n",
      "--------------------------------------------------\n",
      "searching interferogram pairs info\n",
      "input data files:\n",
      "unwrapPhase     : /home/mcallegari/PROJECT_DATA/FROSTINI/test_MintPy/WCapeSenAT29_test/mintpy/interferograms/*/*/Unw_*.img\n",
      "coherence       : /home/mcallegari/PROJECT_DATA/FROSTINI/test_MintPy/WCapeSenAT29_test/mintpy/interferograms/*/*/coh_*.img\n",
      "number of unwrapPhase     : 21\n",
      "number of coherence       : 21\n",
      "--------------------------------------------------\n",
      "create HDF5 file /mnt/CEPH_PROJECTS/FROSTINI/test_MintPy/WCapeSenAT29_test/mintpy/inputs/ifgramStack.h5 with w mode\n",
      "create dataset /unwrapPhase of <class 'numpy.float32'>   in size of (21, 613, 1559) with compression = None\n",
      "[==================================================] 20190514_20190619    0s /     0s\n",
      "create dataset /coherence   of <class 'numpy.float32'>   in size of (21, 613, 1559) with compression = None\n",
      "[==================================================] 20190514_20190619    0s /     0s\n",
      "create dataset /date        of <class 'numpy.bytes_'>    in size of (21, 2)\n",
      "create dataset /bperp       of <class 'numpy.float32'>   in size of (21,)\n",
      "create dataset /dropIfgram  of <class 'numpy.bool'>      in size of (21,)\n",
      "add extra metadata: {'PROJECT_NAME': 'mintpy_config'}\n",
      "update metadata due to subset\n",
      "update LENGTH, WIDTH, Y/XMAX\n",
      "update/add SUBSET_XMIN/YMIN/XMAX/YMAX: 0/0/1559/613\n",
      "update Y/X_FIRST\n",
      "Finished writing to /mnt/CEPH_PROJECTS/FROSTINI/test_MintPy/WCapeSenAT29_test/mintpy/inputs/ifgramStack.h5\n",
      "--------------------------------------------------\n",
      "searching ionosphere pairs info\n",
      "input data files:\n",
      "WARNING: No data files found for the required dataset: ['unwrapPhase']! Skip loading for ionosphere stack.\n",
      "--------------------------------------------------\n",
      "searching offset pairs info\n",
      "input data files:\n",
      "WARNING: No data files found for the required dataset: ['rangeOffset', 'azimuthOffset']! Skip loading for offset stack.\n",
      "time used: 00 mins 1.2 secs.\n",
      "\n",
      "No lookup table (longitude or rangeCoord) found in files.\n",
      "Input data seems to be geocoded. Lookup file not needed.\n",
      "Loaded dataset are processed by InSAR software: snap\n",
      "Loaded dataset are in GEO coordinates\n",
      "Interferogram Stack: /mnt/CEPH_PROJECTS/FROSTINI/test_MintPy/WCapeSenAT29_test/mintpy/inputs/ifgramStack.h5\n",
      "Geometry      File : /mnt/CEPH_PROJECTS/FROSTINI/test_MintPy/WCapeSenAT29_test/mintpy/inputs/geometryGeo.h5\n",
      "Lookup Table  File : None\n",
      "--------------------------------------------------\n",
      "updating metadata based on custom template file mintpy_config.txt for file: ifgramStack.h5\n",
      "\n",
      "\n",
      "******************** step - modify_network ********************\n",
      "Input data seems to be geocoded. Lookup file not needed.\n",
      "\n",
      "modify_network.py /mnt/CEPH_PROJECTS/FROSTINI/test_MintPy/WCapeSenAT29_test/mintpy/inputs/ifgramStack.h5 -t /mnt/CEPH_PROJECTS/FROSTINI/test_MintPy/WCapeSenAT29_test/mintpy/smallbaselineApp.cfg\n",
      "read options from template file: smallbaselineApp.cfg\n",
      "No lookup table (longitude or rangeCoord) found in files.\n",
      "No input option found to remove interferogram\n",
      "Keep all interferograms by enable --reset option\n",
      "--------------------------------------------------\n",
      "reset dataset 'dropIfgram' to True for all interferograms for file: /mnt/CEPH_PROJECTS/FROSTINI/test_MintPy/WCapeSenAT29_test/mintpy/inputs/ifgramStack.h5\n",
      "All dropIfgram are already True, no need to reset.\n",
      "\n",
      "plot_network.py /mnt/CEPH_PROJECTS/FROSTINI/test_MintPy/WCapeSenAT29_test/mintpy/inputs/ifgramStack.h5 -t /mnt/CEPH_PROJECTS/FROSTINI/test_MintPy/WCapeSenAT29_test/mintpy/smallbaselineApp.cfg --nodisplay -d coherence -v 0.2 1.0\n",
      "read options from template file: smallbaselineApp.cfg\n",
      "read temporal/spatial baseline info from file: /mnt/CEPH_PROJECTS/FROSTINI/test_MintPy/WCapeSenAT29_test/mintpy/inputs/ifgramStack.h5\n",
      "open ifgramStack file: ifgramStack.h5\n",
      "calculating spatial mean of coherence in file /mnt/CEPH_PROJECTS/FROSTINI/test_MintPy/WCapeSenAT29_test/mintpy/inputs/ifgramStack.h5 ...\n",
      "[==================================================] 21/21    0s /     0s"
     ]
    },
    {
     "name": "stderr",
     "output_type": "stream",
     "text": [
      "/home/mcallegari/anaconda3/envs/cloudinsar/lib/python3.13/site-packages/mintpy/utils/utils1.py:198: UserWarning: Input line 1 contained no data and will not be counted towards `max_rows=50000`.  This differs from the behaviour in NumPy <=1.22 which counted lines rather than rows.  If desired, the previous behaviour can be achieved by using `itertools.islice`.\n",
      "Please see the 1.23 release notes for an example on how to do this.  If you wish to ignore this warning, use `warnings.filterwarnings`.  This warning is expected to be removed in the future and is given only once per `loadtxt` call.\n",
      "  txtContent = np.loadtxt(fname, dtype=bytes).astype(str)\n"
     ]
    },
    {
     "name": "stdout",
     "output_type": "stream",
     "text": [
      " \n",
      "write average value in space into text file: coherenceSpatialAvg.txt\n",
      "number of acquisitions: 10\n",
      "number of interferograms: 21\n",
      "shift all perp baseline by 81.36494445800781 to zero mean for plotting\n",
      "--------------------------------------------------\n",
      "number of interferograms marked as drop: 0\n",
      "number of interferograms marked as keep: 21\n",
      "number of acquisitions marked as drop: 0\n",
      "save figure to pbaseHistory.pdf\n",
      "save figure to coherenceMatrix.pdf\n",
      "save figure to coherenceHistory.pdf\n",
      "max perpendicular baseline: 168.00 m\n",
      "max temporal      baseline: 36.0 days\n",
      "showing coherence\n",
      "data range: [0.3712, 0.5412]\n",
      "display range: [0.2, 1.0]\n",
      "save figure to network.pdf\n",
      "\n",
      "\n",
      "******************** step - reference_point ********************\n",
      "Input data seems to be geocoded. Lookup file not needed.\n",
      "\n",
      "generate_mask.py /mnt/CEPH_PROJECTS/FROSTINI/test_MintPy/WCapeSenAT29_test/mintpy/inputs/ifgramStack.h5 --nonzero -o /mnt/CEPH_PROJECTS/FROSTINI/test_MintPy/WCapeSenAT29_test/mintpy/maskConnComp.h5 --update\n",
      "input ifgramStack file: /mnt/CEPH_PROJECTS/FROSTINI/test_MintPy/WCapeSenAT29_test/mintpy/inputs/ifgramStack.h5\n",
      "--------------------------------------------------\n",
      "update mode: ON\n",
      "1) output file /mnt/CEPH_PROJECTS/FROSTINI/test_MintPy/WCapeSenAT29_test/mintpy/maskConnComp.h5 NOT exist.\n",
      "run or skip: run.\n",
      "calculate the common mask of pixels with non-zero unwrapPhase value\n",
      "[==================================================] 21/21    0s /     0s\n",
      "create HDF5 file: /mnt/CEPH_PROJECTS/FROSTINI/test_MintPy/WCapeSenAT29_test/mintpy/maskConnComp.h5 with w mode\n",
      "create dataset /mask of bool       in size of (613, 1559)          with compression=None\n",
      "finished writing to /mnt/CEPH_PROJECTS/FROSTINI/test_MintPy/WCapeSenAT29_test/mintpy/maskConnComp.h5\n",
      "time used: 00 mins 0.1 secs.\n",
      "\n",
      "temporal_average.py /mnt/CEPH_PROJECTS/FROSTINI/test_MintPy/WCapeSenAT29_test/mintpy/inputs/ifgramStack.h5 --dataset coherence -o /mnt/CEPH_PROJECTS/FROSTINI/test_MintPy/WCapeSenAT29_test/mintpy/avgSpatialCoh.h5 --update\n",
      "--------------------------------------------------\n",
      "update mode: ON\n",
      "1) output file /mnt/CEPH_PROJECTS/FROSTINI/test_MintPy/WCapeSenAT29_test/mintpy/avgSpatialCoh.h5 NOT exist.\n",
      "run or skip: run.\n",
      "calculate the temporal average of coherence in file /mnt/CEPH_PROJECTS/FROSTINI/test_MintPy/WCapeSenAT29_test/mintpy/inputs/ifgramStack.h5 ...\n",
      "[==================================================] lines 613/613    0s /     0s"
     ]
    },
    {
     "name": "stderr",
     "output_type": "stream",
     "text": [
      "/home/mcallegari/anaconda3/envs/cloudinsar/lib/python3.13/site-packages/mintpy/objects/stack.py:1059: RuntimeWarning: Mean of empty slice\n",
      "  dmean[r0:r1, :] = np.nanmean(data, axis=0)\n",
      "<frozen genericpath>:39: RuntimeWarning: bool is used as a file descriptor\n"
     ]
    },
    {
     "name": "stdout",
     "output_type": "stream",
     "text": [
      " \n",
      "create HDF5 file: /mnt/CEPH_PROJECTS/FROSTINI/test_MintPy/WCapeSenAT29_test/mintpy/avgSpatialCoh.h5 with w mode\n",
      "create dataset /coherence of float32    in size of (613, 1559)          with compression=None\n",
      "finished writing to /mnt/CEPH_PROJECTS/FROSTINI/test_MintPy/WCapeSenAT29_test/mintpy/avgSpatialCoh.h5\n",
      "time used: 00 mins 0.1 secs\n",
      "\n",
      "Input data seems to be geocoded. Lookup file not needed.\n",
      "\n",
      "reference_point.py /mnt/CEPH_PROJECTS/FROSTINI/test_MintPy/WCapeSenAT29_test/mintpy/inputs/ifgramStack.h5 -t /mnt/CEPH_PROJECTS/FROSTINI/test_MintPy/WCapeSenAT29_test/mintpy/smallbaselineApp.cfg -c /mnt/CEPH_PROJECTS/FROSTINI/test_MintPy/WCapeSenAT29_test/mintpy/avgSpatialCoh.h5\n",
      "--------------------------------------------------\n",
      "reading reference info from template: /mnt/CEPH_PROJECTS/FROSTINI/test_MintPy/WCapeSenAT29_test/mintpy/smallbaselineApp.cfg\n",
      "input reference point in lat/lon: (-33.0, 18.05)\n",
      "input reference point in y/x: (222, 167)\n",
      "mask: maskConnComp.h5\n",
      "--------------------------------------------------\n",
      "calculate the temporal average of unwrapPhase in file /mnt/CEPH_PROJECTS/FROSTINI/test_MintPy/WCapeSenAT29_test/mintpy/inputs/ifgramStack.h5 ...\n",
      "[==================================================] lines 613/613    0s /     0s\n",
      "Add/update ref_x/y attribute to file: /mnt/CEPH_PROJECTS/FROSTINI/test_MintPy/WCapeSenAT29_test/mintpy/inputs/ifgramStack.h5\n",
      "{'REF_Y': '222', 'REF_X': '167', 'REF_LAT': '-32.999952549430866', 'REF_LON': '18.049968354336382'}\n",
      "touch avgSpatialCoh.h5\n",
      "touch maskConnComp.h5\n",
      "\n",
      "\n",
      "******************** step - quick_overview ********************\n",
      "Input data seems to be geocoded. Lookup file not needed.\n",
      "\n",
      "temporal_average.py /mnt/CEPH_PROJECTS/FROSTINI/test_MintPy/WCapeSenAT29_test/mintpy/inputs/ifgramStack.h5 --dataset unwrapPhase -o /mnt/CEPH_PROJECTS/FROSTINI/test_MintPy/WCapeSenAT29_test/mintpy/avgPhaseVelocity.h5 --update\n",
      "--------------------------------------------------\n",
      "update mode: ON\n",
      "1) output file /mnt/CEPH_PROJECTS/FROSTINI/test_MintPy/WCapeSenAT29_test/mintpy/avgPhaseVelocity.h5 NOT exist.\n",
      "run or skip: run.\n",
      "calculate the temporal average of unwrapPhase in file /mnt/CEPH_PROJECTS/FROSTINI/test_MintPy/WCapeSenAT29_test/mintpy/inputs/ifgramStack.h5 ...\n",
      "[==================================================] lines 613/613    0s /     0s\n",
      "create HDF5 file: /mnt/CEPH_PROJECTS/FROSTINI/test_MintPy/WCapeSenAT29_test/mintpy/avgPhaseVelocity.h5 with w mode\n",
      "create dataset /velocity of float32    in size of (613, 1559)          with compression=None\n",
      "finished writing to /mnt/CEPH_PROJECTS/FROSTINI/test_MintPy/WCapeSenAT29_test/mintpy/avgPhaseVelocity.h5\n",
      "time used: 00 mins 0.1 secs\n",
      "\n",
      "\n",
      "unwrap_error_phase_closure.py /mnt/CEPH_PROJECTS/FROSTINI/test_MintPy/WCapeSenAT29_test/mintpy/inputs/ifgramStack.h5 --water-mask /mnt/CEPH_PROJECTS/FROSTINI/test_MintPy/WCapeSenAT29_test/mintpy/waterMask.h5 --action calculate --update\n",
      "open ifgramStack file: ifgramStack.h5\n",
      "number of interferograms: 21\n",
      "number of triplets: 17\n",
      "used dataset name: unwrapPhase\n",
      "calculating the number of triplets with non-zero integer ambiguity of closure phase ...\n",
      "    block by block with size up to (620, 1559), 1 blocks in total\n",
      "reference pixel in y/x: (222, 167) from dataset: unwrapPhase\n",
      "[==================================================] line 0 / 613 \n",
      "mask out pixels with zero in file: /mnt/CEPH_PROJECTS/FROSTINI/test_MintPy/WCapeSenAT29_test/mintpy/avgSpatialCoh.h5\n",
      "mask out invalid pixels (values == num of triplets)\n",
      "write to file /mnt/CEPH_PROJECTS/FROSTINI/test_MintPy/WCapeSenAT29_test/mintpy/numTriNonzeroIntAmbiguity.h5\n",
      "create HDF5 file: /mnt/CEPH_PROJECTS/FROSTINI/test_MintPy/WCapeSenAT29_test/mintpy/numTriNonzeroIntAmbiguity.h5 with w mode\n",
      "create dataset /mask of float32    in size of (613, 1559)          with compression=None\n",
      "finished writing to /mnt/CEPH_PROJECTS/FROSTINI/test_MintPy/WCapeSenAT29_test/mintpy/numTriNonzeroIntAmbiguity.h5\n",
      "plot and save figure to file /mnt/CEPH_PROJECTS/FROSTINI/test_MintPy/WCapeSenAT29_test/mintpy/numTriNonzeroIntAmbiguity.png\n",
      "time used: 00 mins 1.1 secs\n",
      "Done.\n",
      "\n",
      "\n",
      "******************** step - correct_unwrap_error ********************\n",
      "phase-unwrapping error correction is OFF.\n",
      "\n",
      "\n",
      "******************** step - invert_network ********************\n",
      "Input data seems to be geocoded. Lookup file not needed.\n",
      "\n",
      "ifgram_inversion.py /mnt/CEPH_PROJECTS/FROSTINI/test_MintPy/WCapeSenAT29_test/mintpy/inputs/ifgramStack.h5 -t /mnt/CEPH_PROJECTS/FROSTINI/test_MintPy/WCapeSenAT29_test/mintpy/smallbaselineApp.cfg --update\n",
      "read input option from template file: /mnt/CEPH_PROJECTS/FROSTINI/test_MintPy/WCapeSenAT29_test/mintpy/smallbaselineApp.cfg\n",
      "use dataset \"unwrapPhase\" by default\n",
      "--------------------------------------------------\n",
      "update mode: ON\n",
      "1) NOT ALL output files found: ['timeseries.h5', 'temporalCoherence.h5', 'numInvIfgram.h5'].\n",
      "run or skip: run.\n",
      "save the original settings of ['OMP_NUM_THREADS', 'OPENBLAS_NUM_THREADS', 'MKL_NUM_THREADS', 'NUMEXPR_NUM_THREADS', 'VECLIB_MAXIMUM_THREADS']\n",
      "set OMP_NUM_THREADS = 1\n",
      "set OPENBLAS_NUM_THREADS = 1\n",
      "set MKL_NUM_THREADS = 1\n",
      "set NUMEXPR_NUM_THREADS = 1\n",
      "set VECLIB_MAXIMUM_THREADS = 1\n",
      "reference pixel in y/x: (222, 167) from dataset: unwrapPhase\n",
      "-------------------------------------------------------------------------------\n",
      "least-squares solution with L2 min-norm on: deformation velocity\n",
      "minimum redundancy: 1.0\n",
      "weight function: var\n",
      "calculate covariance: False \n",
      "mask: no\n",
      "-------------------------------------------------------------------------------\n",
      "number of interferograms: 21\n",
      "number of acquisitions  : 10\n",
      "number of lines   : 613\n",
      "number of columns : 1559\n",
      "--------------------------------------------------\n",
      "create HDF5 file: timeseries.h5 with w mode\n",
      "create dataset  : date       of |S8                       in size of (10,)                with compression = None\n",
      "create dataset  : bperp      of <class 'numpy.float32'>   in size of (10,)                with compression = None\n",
      "create dataset  : timeseries of <class 'numpy.float32'>   in size of (10, 613, 1559)      with compression = None\n",
      "close  HDF5 file: timeseries.h5\n",
      "--------------------------------------------------\n",
      "create HDF5 file: temporalCoherence.h5 with w mode\n",
      "create dataset  : temporalCoherence of <class 'numpy.float32'>   in size of (613, 1559)          with compression = None\n",
      "close  HDF5 file: temporalCoherence.h5\n",
      "--------------------------------------------------\n",
      "create HDF5 file: numInvIfgram.h5 with w mode\n",
      "create dataset  : mask of <class 'numpy.float32'>   in size of (613, 1559)          with compression = None\n",
      "close  HDF5 file: numInvIfgram.h5\n",
      "calculating weight from spatial coherence ...\n",
      "reading coherence in (0, 0, 1559, 613) * 21 ...\n",
      "convert coherence to weight in chunks of 100000 pixels: 10 chunks in total ...\n",
      "convert coherence to weight using inverse of phase variance\n",
      "    with phase PDF for distributed scatterers from Tough et al. (1995)\n",
      "    number of independent looks L=2\n",
      "chunk 1 / 10\n",
      "chunk 2 / 10\n",
      "chunk 3 / 10\n",
      "chunk 4 / 10\n",
      "chunk 5 / 10\n",
      "chunk 6 / 10\n",
      "chunk 7 / 10\n",
      "chunk 8 / 10\n",
      "chunk 9 / 10\n",
      "chunk 10 / 10\n",
      "reading unwrapPhase in (0, 0, 1559, 613) * 21 ...\n",
      "use input reference value\n",
      "convert zero value in unwrapPhase to NaN (no-data value)\n",
      "skip pixels with unwrapPhase = NaN in all interferograms\n",
      "skip pixels with zero value in file: avgSpatialCoh.h5\n",
      "number of pixels to invert: 927397 out of 955667 (97.0%)\n",
      "estimating time-series via WLS pixel-by-pixel ...\n",
      "[==================================================] 927397/927397 pixels  115s /     2s\n",
      "converting LOS phase unit from radian to meter\n",
      "--------------------------------------------------\n",
      "open  HDF5 file timeseries.h5 in a mode\n",
      "writing dataset /timeseries                block: [0, 10, 0, 613, 0, 1559]\n",
      "close HDF5 file timeseries.h5.\n",
      "--------------------------------------------------\n",
      "open  HDF5 file temporalCoherence.h5 in a mode\n",
      "writing dataset /temporalCoherence         block: [0, 613, 0, 1559]\n",
      "close HDF5 file temporalCoherence.h5.\n",
      "--------------------------------------------------\n",
      "open  HDF5 file numInvIfgram.h5 in a mode\n",
      "writing dataset /mask                      block: [0, 613, 0, 1559]\n",
      "close HDF5 file numInvIfgram.h5.\n",
      "--------------------------------------------------\n",
      "update values on the reference pixel: (222, 167)\n",
      "set temporalCoherence on the reference pixel to 1.\n",
      "set  # of observations on the reference pixel as 21\n",
      "roll back to the original settings of ['OMP_NUM_THREADS', 'OPENBLAS_NUM_THREADS', 'MKL_NUM_THREADS', 'NUMEXPR_NUM_THREADS', 'VECLIB_MAXIMUM_THREADS']\n",
      "remove env variable OMP_NUM_THREADS\n",
      "remove env variable OPENBLAS_NUM_THREADS\n",
      "remove env variable MKL_NUM_THREADS\n",
      "remove env variable NUMEXPR_NUM_THREADS\n",
      "remove env variable VECLIB_MAXIMUM_THREADS\n",
      "time used: 01 mins 57.5 secs.\n",
      "\n",
      "Input data seems to be geocoded. Lookup file not needed.\n",
      "\n",
      "generate_mask.py /mnt/CEPH_PROJECTS/FROSTINI/test_MintPy/WCapeSenAT29_test/mintpy/temporalCoherence.h5 -m 0.7 -o /mnt/CEPH_PROJECTS/FROSTINI/test_MintPy/WCapeSenAT29_test/mintpy/maskTempCoh.h5\n",
      "update mode: ON\n",
      "run or skip: run\n",
      "input temporalCoherence file: /mnt/CEPH_PROJECTS/FROSTINI/test_MintPy/WCapeSenAT29_test/mintpy/temporalCoherence.h5\n",
      "read /mnt/CEPH_PROJECTS/FROSTINI/test_MintPy/WCapeSenAT29_test/mintpy/temporalCoherence.h5\n",
      "create initial mask with the same size as the input file and all = 1\n",
      "all pixels with nan value = 0\n",
      "exclude pixels with value < 0.7\n",
      "create HDF5 file: /mnt/CEPH_PROJECTS/FROSTINI/test_MintPy/WCapeSenAT29_test/mintpy/maskTempCoh.h5 with w mode\n",
      "create dataset /mask of bool       in size of (613, 1559)          with compression=None\n",
      "finished writing to /mnt/CEPH_PROJECTS/FROSTINI/test_MintPy/WCapeSenAT29_test/mintpy/maskTempCoh.h5\n",
      "time used: 00 mins 0.0 secs.\n",
      "number of reliable pixels: 873984\n",
      "\n",
      "\n",
      "******************** step - correct_LOD ********************\n",
      "Input data seems to be geocoded. Lookup file not needed.\n",
      "No local oscillator drift correction is needed for sen.\n",
      "\n",
      "\n",
      "******************** step - correct_SET ********************\n",
      "Input data seems to be geocoded. Lookup file not needed.\n",
      "No solid Earth tides correction.\n",
      "\n",
      "\n",
      "******************** step - correct_ionosphere ********************\n",
      "Input data seems to be geocoded. Lookup file not needed.\n",
      "No ionospheric delay correction.\n",
      "\n",
      "\n",
      "******************** step - correct_troposphere ********************\n",
      "Input data seems to be geocoded. Lookup file not needed.\n",
      "Atmospheric correction using Weather Re-analysis dataset (PyAPS, Jolivet et al., 2011)\n",
      "Weather Re-analysis dataset: ERA5\n",
      "\n",
      "tropo_pyaps3.py -f /mnt/CEPH_PROJECTS/FROSTINI/test_MintPy/WCapeSenAT29_test/mintpy/timeseries.h5 --model ERA5 -g /mnt/CEPH_PROJECTS/FROSTINI/test_MintPy/WCapeSenAT29_test/mintpy/inputs/geometryGeo.h5 -w /home/mcallegari/MintPy/WEATHER_DIR\n",
      "weather model: ERA5 - dry (hydrostatic) and wet delay\n",
      "weather directory: /home/mcallegari/MintPy/WEATHER_DIR\n",
      "output tropospheric delay     time-series file: /mnt/CEPH_PROJECTS/FROSTINI/test_MintPy/WCapeSenAT29_test/mintpy/inputs/ERA5.h5\n",
      "output corrected displacement time-series file: /mnt/CEPH_PROJECTS/FROSTINI/test_MintPy/WCapeSenAT29_test/mintpy/timeseries_ERA5.h5\n",
      "read dates/time info from file: /mnt/CEPH_PROJECTS/FROSTINI/test_MintPy/WCapeSenAT29_test/mintpy/timeseries.h5\n",
      "time of cloest available product: 18:00 UTC\n",
      "\n",
      "--------------------------------------------------------------------------------\n",
      "Download global atmospheric model files...\n",
      "update mode: ON\n",
      "output file: /mnt/CEPH_PROJECTS/FROSTINI/test_MintPy/WCapeSenAT29_test/mintpy/inputs/ERA5.h5\n",
      "1) output file either do NOT exist or is NOT newer than all GRIB files.\n",
      "run or skip: run\n",
      "--------------------------------------------------\n",
      "downloading weather model data using PyAPS (version 0.3.7) ...\n",
      "common file size: 749250 bytes\n",
      "number of grib files existed    : 10\n",
      "number of grib files to download: 0\n",
      "--------------------------------------------------\n",
      "\n",
      "--------------------------------------------------------------------------------\n",
      "Calculate tropospheric delay and write to HDF5 file...\n",
      "update mode: ON\n",
      "output file: /mnt/CEPH_PROJECTS/FROSTINI/test_MintPy/WCapeSenAT29_test/mintpy/inputs/ERA5.h5\n",
      "1) output file either do NOT exist or is NOT newer than all GRIB files.\n",
      "run or skip: run\n",
      "open geometry file: geometryGeo.h5\n",
      "reading incidenceAngle  data from file: /mnt/CEPH_PROJECTS/FROSTINI/test_MintPy/WCapeSenAT29_test/mintpy/inputs/geometryGeo.h5 ...\n",
      "reading height          data from file: /mnt/CEPH_PROJECTS/FROSTINI/test_MintPy/WCapeSenAT29_test/mintpy/inputs/geometryGeo.h5 ...\n",
      "--------------------------------------------------\n",
      "create HDF5 file: /mnt/CEPH_PROJECTS/FROSTINI/test_MintPy/WCapeSenAT29_test/mintpy/inputs/ERA5.h5 with w mode\n",
      "create dataset  : date       of |S8                       in size of (10,)                with compression = None\n",
      "create dataset  : timeseries of <class 'numpy.float32'>   in size of (10, 613, 1559)      with compression = None\n",
      "close  HDF5 file: /mnt/CEPH_PROJECTS/FROSTINI/test_MintPy/WCapeSenAT29_test/mintpy/inputs/ERA5.h5\n",
      "--------------------------------------------------\n",
      "calculating absolute delay for each date using PyAPS (Jolivet et al., 2011; 2014) ...\n",
      "number of grib files used: 10\n",
      "[==================================================] ERA5_S40_S30_E10_E30_20190619_18.grb   10s /     1s\n",
      "\n",
      "--------------------------------------------------------------------------------\n",
      "Applying tropospheric correction to displacement file...\n",
      "correcting delay via diff.py\n",
      "diff.py /mnt/CEPH_PROJECTS/FROSTINI/test_MintPy/WCapeSenAT29_test/mintpy/timeseries.h5 /mnt/CEPH_PROJECTS/FROSTINI/test_MintPy/WCapeSenAT29_test/mintpy/inputs/ERA5.h5 -o /mnt/CEPH_PROJECTS/FROSTINI/test_MintPy/WCapeSenAT29_test/mintpy/timeseries_ERA5.h5 --force\n",
      "/mnt/CEPH_PROJECTS/FROSTINI/test_MintPy/WCapeSenAT29_test/mintpy/timeseries.h5 - ['/mnt/CEPH_PROJECTS/FROSTINI/test_MintPy/WCapeSenAT29_test/mintpy/inputs/ERA5.h5'] --> /mnt/CEPH_PROJECTS/FROSTINI/test_MintPy/WCapeSenAT29_test/mintpy/timeseries_ERA5.h5\n",
      "the 1st input file is: timeseries\n",
      "--------------------------------------------------\n",
      "grab metadata from ref_file: /mnt/CEPH_PROJECTS/FROSTINI/test_MintPy/WCapeSenAT29_test/mintpy/timeseries.h5\n",
      "grab dataset structure from ref_file: /mnt/CEPH_PROJECTS/FROSTINI/test_MintPy/WCapeSenAT29_test/mintpy/timeseries.h5\n",
      "create HDF5 file: /mnt/CEPH_PROJECTS/FROSTINI/test_MintPy/WCapeSenAT29_test/mintpy/timeseries_ERA5.h5 with w mode\n",
      "create dataset  : bperp      of float32                   in size of (10,)                with compression = None\n",
      "create dataset  : date       of |S8                       in size of (10,)                with compression = None\n",
      "create dataset  : timeseries of float32                   in size of (10, 613, 1559)      with compression = None\n",
      "close  HDF5 file: /mnt/CEPH_PROJECTS/FROSTINI/test_MintPy/WCapeSenAT29_test/mintpy/timeseries_ERA5.h5\n",
      "read from file: /mnt/CEPH_PROJECTS/FROSTINI/test_MintPy/WCapeSenAT29_test/mintpy/inputs/ERA5.h5\n",
      "* referencing data from ERA5.h5 to y/x: 222/167\n",
      "* referencing data from ERA5.h5 to date: 20190303\n",
      "read from file: /mnt/CEPH_PROJECTS/FROSTINI/test_MintPy/WCapeSenAT29_test/mintpy/timeseries.h5\n",
      "--------------------------------------------------\n",
      "open  HDF5 file /mnt/CEPH_PROJECTS/FROSTINI/test_MintPy/WCapeSenAT29_test/mintpy/timeseries_ERA5.h5 in a mode\n",
      "writing dataset /timeseries                block: [0, 10, 0, 613, 0, 1559]\n",
      "close HDF5 file /mnt/CEPH_PROJECTS/FROSTINI/test_MintPy/WCapeSenAT29_test/mintpy/timeseries_ERA5.h5.\n",
      "time used: 00 mins 0.3 secs\n",
      "\n",
      "\n",
      "******************** step - deramp ********************\n",
      "Remove for each acquisition a phase ramp: linear\n",
      "\n",
      "remove_ramp.py /mnt/CEPH_PROJECTS/FROSTINI/test_MintPy/WCapeSenAT29_test/mintpy/timeseries_ERA5.h5 -s linear -m maskTempCoh.h5 -o /mnt/CEPH_PROJECTS/FROSTINI/test_MintPy/WCapeSenAT29_test/mintpy/timeseries_ERA5_ramp.h5 --update\n",
      "--------------------------------------------------\n",
      "update mode: ON\n",
      "1) output file /mnt/CEPH_PROJECTS/FROSTINI/test_MintPy/WCapeSenAT29_test/mintpy/timeseries_ERA5_ramp.h5 NOT found.\n",
      "run or skip: run.\n",
      "remove linear ramp from file: /mnt/CEPH_PROJECTS/FROSTINI/test_MintPy/WCapeSenAT29_test/mintpy/timeseries_ERA5.h5\n",
      "read mask file: maskTempCoh.h5\n",
      "--------------------------------------------------\n",
      "grab metadata from ref_file: /mnt/CEPH_PROJECTS/FROSTINI/test_MintPy/WCapeSenAT29_test/mintpy/timeseries_ERA5.h5\n",
      "grab dataset structure from ref_file: /mnt/CEPH_PROJECTS/FROSTINI/test_MintPy/WCapeSenAT29_test/mintpy/timeseries_ERA5.h5\n",
      "create HDF5 file: /mnt/CEPH_PROJECTS/FROSTINI/test_MintPy/WCapeSenAT29_test/mintpy/timeseries_ERA5_ramp.h5 with w mode\n",
      "create dataset  : bperp      of float32                   in size of (10,)                with compression = None\n",
      "create dataset  : date       of |S8                       in size of (10,)                with compression = None\n",
      "create dataset  : timeseries of float32                   in size of (10, 613, 1559)      with compression = None\n",
      "close  HDF5 file: /mnt/CEPH_PROJECTS/FROSTINI/test_MintPy/WCapeSenAT29_test/mintpy/timeseries_ERA5_ramp.h5\n",
      "estimating phase ramp one date at a time ...\n",
      "[==================================================] 10/10   1s /     0s\n",
      "finished writing to file: /mnt/CEPH_PROJECTS/FROSTINI/test_MintPy/WCapeSenAT29_test/mintpy/timeseries_ERA5_ramp.h5\n",
      "add/update the following metadata to file:\n",
      "add/update mintpy.deramp = linear\n",
      "add/update mintpy.deramp.maskFile = maskTempCoh.h5\n",
      "time used: 00 mins 1.4 secs.\n",
      "\n",
      "\n",
      "******************** step - correct_topography ********************\n",
      "Input data seems to be geocoded. Lookup file not needed.\n",
      "\n",
      "dem_error.py /mnt/CEPH_PROJECTS/FROSTINI/test_MintPy/WCapeSenAT29_test/mintpy/timeseries_ERA5_ramp.h5 -t /mnt/CEPH_PROJECTS/FROSTINI/test_MintPy/WCapeSenAT29_test/mintpy/smallbaselineApp.cfg -o /mnt/CEPH_PROJECTS/FROSTINI/test_MintPy/WCapeSenAT29_test/mintpy/timeseries_ERA5_ramp_demErr.h5 --update\n",
      "read options from template file: smallbaselineApp.cfg\n",
      "--------------------------------------------------\n",
      "update mode: ON\n",
      "1) output file /mnt/CEPH_PROJECTS/FROSTINI/test_MintPy/WCapeSenAT29_test/mintpy/timeseries_ERA5_ramp_demErr.h5 NOT found.\n",
      "run or skip: run.\n",
      "save the original settings of ['OMP_NUM_THREADS', 'OPENBLAS_NUM_THREADS', 'MKL_NUM_THREADS', 'NUMEXPR_NUM_THREADS', 'VECLIB_MAXIMUM_THREADS']\n",
      "set OMP_NUM_THREADS = 1\n",
      "set OPENBLAS_NUM_THREADS = 1\n",
      "set MKL_NUM_THREADS = 1\n",
      "set NUMEXPR_NUM_THREADS = 1\n",
      "set VECLIB_MAXIMUM_THREADS = 1\n",
      "open timeseries file: timeseries_ERA5_ramp.h5\n",
      "--------------------------------------------------------------------------------\n",
      "correct topographic phase residual (DEM error) (Fattahi & Amelung, 2013, IEEE-TGRS)\n",
      "ordinal least squares (OLS) inversion with L2-norm minimization on: phase\n",
      "temporal deformation model: polynomial order = 2\n",
      "--------------------------------------------------------------------------------\n",
      "add/update the following configuration metadata to file:\n",
      "['polyOrder', 'phaseVelocity', 'stepDate', 'excludeDate']\n",
      "--------------------------------------------------\n",
      "create HDF5 file: demErr.h5 with w mode\n",
      "create dataset  : dem of <class 'numpy.float32'>   in size of (613, 1559)          with compression = None\n",
      "close  HDF5 file: demErr.h5\n",
      "--------------------------------------------------\n",
      "grab dataset structure from ref_file: /mnt/CEPH_PROJECTS/FROSTINI/test_MintPy/WCapeSenAT29_test/mintpy/timeseries_ERA5_ramp.h5\n",
      "create HDF5 file: /mnt/CEPH_PROJECTS/FROSTINI/test_MintPy/WCapeSenAT29_test/mintpy/timeseries_ERA5_ramp_demErr.h5 with w mode\n",
      "create dataset  : bperp      of float32                   in size of (10,)                with compression = None\n",
      "create dataset  : date       of |S8                       in size of (10,)                with compression = None\n",
      "create dataset  : timeseries of float32                   in size of (10, 613, 1559)      with compression = None\n",
      "close  HDF5 file: /mnt/CEPH_PROJECTS/FROSTINI/test_MintPy/WCapeSenAT29_test/mintpy/timeseries_ERA5_ramp_demErr.h5\n",
      "--------------------------------------------------\n",
      "grab dataset structure from ref_file: /mnt/CEPH_PROJECTS/FROSTINI/test_MintPy/WCapeSenAT29_test/mintpy/timeseries_ERA5_ramp.h5\n",
      "create HDF5 file: /mnt/CEPH_PROJECTS/FROSTINI/test_MintPy/WCapeSenAT29_test/mintpy/timeseriesResidual.h5 with w mode\n",
      "create dataset  : bperp      of float32                   in size of (10,)                with compression = None\n",
      "create dataset  : date       of |S8                       in size of (10,)                with compression = None\n",
      "create dataset  : timeseries of float32                   in size of (10, 613, 1559)      with compression = None\n",
      "close  HDF5 file: /mnt/CEPH_PROJECTS/FROSTINI/test_MintPy/WCapeSenAT29_test/mintpy/timeseriesResidual.h5\n",
      "read mean incidenceAngle, slantRangeDistance, bperp value from timeseries file\n",
      "near   incidence angle : 40.8664 degree\n",
      "center incidence angle : 42.1467 degree\n",
      "far    incidence angle : 43.4270 degree\n",
      "near   range : 905477.57 m\n",
      "center range : 921057.57 m\n",
      "far    range : 936637.57 m\n",
      "skip pixels with ZERO in ALL acquisitions\n",
      "skip pixels with NaN  in ANY acquisitions\n",
      "skip pixels with ZERO temporal coherence\n",
      "number of pixels to invert: 927236 out of 955667 (97.0%)\n",
      "estimating DEM error ...\n",
      "--------------------------------------------------\n",
      "open  HDF5 file demErr.h5 in a mode\n",
      "writing dataset /dem                       block: [0, 613, 0, 1559]\n",
      "close HDF5 file demErr.h5.\n",
      "--------------------------------------------------\n",
      "open  HDF5 file /mnt/CEPH_PROJECTS/FROSTINI/test_MintPy/WCapeSenAT29_test/mintpy/timeseries_ERA5_ramp_demErr.h5 in a mode\n",
      "writing dataset /timeseries                block: [0, 10, 0, 613, 0, 1559]\n",
      "close HDF5 file /mnt/CEPH_PROJECTS/FROSTINI/test_MintPy/WCapeSenAT29_test/mintpy/timeseries_ERA5_ramp_demErr.h5.\n",
      "--------------------------------------------------\n",
      "open  HDF5 file /mnt/CEPH_PROJECTS/FROSTINI/test_MintPy/WCapeSenAT29_test/mintpy/timeseriesResidual.h5 in a mode\n",
      "writing dataset /timeseries                block: [0, 10, 0, 613, 0, 1559]\n",
      "close HDF5 file /mnt/CEPH_PROJECTS/FROSTINI/test_MintPy/WCapeSenAT29_test/mintpy/timeseriesResidual.h5.\n",
      "roll back to the original settings of ['OMP_NUM_THREADS', 'OPENBLAS_NUM_THREADS', 'MKL_NUM_THREADS', 'NUMEXPR_NUM_THREADS', 'VECLIB_MAXIMUM_THREADS']\n",
      "remove env variable OMP_NUM_THREADS\n",
      "remove env variable OPENBLAS_NUM_THREADS\n",
      "remove env variable MKL_NUM_THREADS\n",
      "remove env variable NUMEXPR_NUM_THREADS\n",
      "remove env variable VECLIB_MAXIMUM_THREADS\n",
      "time used: 00 mins 0.7 secs.\n",
      "\n",
      "\n",
      "******************** step - residual_RMS ********************\n",
      "\n",
      "timeseries_rms.py timeseriesResidual.h5 -t /mnt/CEPH_PROJECTS/FROSTINI/test_MintPy/WCapeSenAT29_test/mintpy/smallbaselineApp.cfg\n",
      "read options from template file: smallbaselineApp.cfg\n",
      "remove quadratic ramp from file: timeseriesResidual.h5\n",
      "read mask file: maskTempCoh.h5\n",
      "--------------------------------------------------\n",
      "grab metadata from ref_file: timeseriesResidual.h5\n",
      "grab dataset structure from ref_file: timeseriesResidual.h5\n",
      "create HDF5 file: timeseriesResidual_ramp.h5 with w mode\n",
      "create dataset  : bperp      of float32                   in size of (10,)                with compression = None\n",
      "create dataset  : date       of |S8                       in size of (10,)                with compression = None\n",
      "create dataset  : timeseries of float32                   in size of (10, 613, 1559)      with compression = None\n",
      "close  HDF5 file: timeseriesResidual_ramp.h5\n",
      "estimating phase ramp one date at a time ...\n",
      "[==================================================] 10/10   1s /     0s\n",
      "finished writing to file: timeseriesResidual_ramp.h5\n",
      "time used: 00 mins 2.2 secs.\n",
      "\n",
      "calculating residual RMS for each epoch from file: timeseriesResidual_ramp.h5\n",
      "read mask from file: maskTempCoh.h5\n",
      "reading timeseries data from file: timeseriesResidual_ramp.h5 ...\n",
      "[==================================================] 10/10   0s /     0s"
     ]
    },
    {
     "name": "stderr",
     "output_type": "stream",
     "text": [
      "/home/mcallegari/anaconda3/envs/cloudinsar/lib/python3.13/site-packages/mintpy/utils/utils1.py:150: UserWarning: Input line 1 contained no data and will not be counted towards `max_rows=50000`.  This differs from the behaviour in NumPy <=1.22 which counted lines rather than rows.  If desired, the previous behaviour can be achieved by using `itertools.islice`.\n",
      "Please see the 1.23 release notes for an example on how to do this.  If you wish to ignore this warning, use `warnings.filterwarnings`.  This warning is expected to be removed in the future and is given only once per `loadtxt` call.\n",
      "  fc = np.loadtxt(rms_file, dtype=bytes).astype(str)\n",
      "/home/mcallegari/anaconda3/envs/cloudinsar/lib/python3.13/site-packages/mintpy/utils/plot.py:1029: UserWarning: Input line 1 contained no data and will not be counted towards `max_rows=50000`.  This differs from the behaviour in NumPy <=1.22 which counted lines rather than rows.  If desired, the previous behaviour can be achieved by using `itertools.islice`.\n",
      "Please see the 1.23 release notes for an example on how to do this.  If you wish to ignore this warning, use `warnings.filterwarnings`.  This warning is expected to be removed in the future and is given only once per `loadtxt` call.\n",
      "  fc = np.loadtxt(rms_file, dtype=bytes).astype(str)\n"
     ]
    },
    {
     "name": "stdout",
     "output_type": "stream",
     "text": [
      " \n",
      "save timeseries RMS to text file: /mnt/CEPH_PROJECTS/FROSTINI/test_MintPy/WCapeSenAT29_test/mintpy/rms_timeseriesResidual_ramp.txt\n",
      "read timeseries residual RMS from file: /mnt/CEPH_PROJECTS/FROSTINI/test_MintPy/WCapeSenAT29_test/mintpy/rms_timeseriesResidual_ramp.txt\n",
      "--------------------------------------------------\n",
      "date with min RMS: 20190408 - 0.0017\n",
      "save date to file: reference_date.txt\n",
      "--------------------------------------------------\n",
      "date(s) with RMS > 3.0 * median RMS (0.0101)\n",
      "None.\n",
      "save figure to file: /mnt/CEPH_PROJECTS/FROSTINI/test_MintPy/WCapeSenAT29_test/mintpy/rms_timeseriesResidual_ramp.pdf\n",
      "\n",
      "\n",
      "******************** step - reference_date ********************\n",
      "\n",
      "reference_date.py -t /mnt/CEPH_PROJECTS/FROSTINI/test_MintPy/WCapeSenAT29_test/mintpy/smallbaselineApp.cfg /mnt/CEPH_PROJECTS/FROSTINI/test_MintPy/WCapeSenAT29_test/mintpy/timeseries.h5 /mnt/CEPH_PROJECTS/FROSTINI/test_MintPy/WCapeSenAT29_test/mintpy/timeseries_ERA5.h5 /mnt/CEPH_PROJECTS/FROSTINI/test_MintPy/WCapeSenAT29_test/mintpy/timeseries_ERA5_ramp.h5 /mnt/CEPH_PROJECTS/FROSTINI/test_MintPy/WCapeSenAT29_test/mintpy/timeseries_ERA5_ramp_demErr.h5\n",
      "read reference date from file: reference_date.txt\n",
      "input reference date: 20190408\n",
      "--------------------------------------------------\n",
      "change reference date for file: /mnt/CEPH_PROJECTS/FROSTINI/test_MintPy/WCapeSenAT29_test/mintpy/timeseries.h5\n",
      "reading data ...\n",
      "referencing in time ...\n",
      "--------------------------------------------------\n",
      "open  HDF5 file /mnt/CEPH_PROJECTS/FROSTINI/test_MintPy/WCapeSenAT29_test/mintpy/timeseries.h5 in r+ mode\n",
      "writing dataset /timeseries                block: (0, 10, 0, 613, 0, 1559)\n",
      "close HDF5 file /mnt/CEPH_PROJECTS/FROSTINI/test_MintPy/WCapeSenAT29_test/mintpy/timeseries.h5.\n",
      "update \"REF_DATE\" attribute value to 20190408\n",
      "--------------------------------------------------\n",
      "change reference date for file: /mnt/CEPH_PROJECTS/FROSTINI/test_MintPy/WCapeSenAT29_test/mintpy/timeseries_ERA5.h5\n",
      "reading data ...\n",
      "referencing in time ...\n",
      "--------------------------------------------------\n",
      "open  HDF5 file /mnt/CEPH_PROJECTS/FROSTINI/test_MintPy/WCapeSenAT29_test/mintpy/timeseries_ERA5.h5 in r+ mode\n",
      "writing dataset /timeseries                block: (0, 10, 0, 613, 0, 1559)\n",
      "close HDF5 file /mnt/CEPH_PROJECTS/FROSTINI/test_MintPy/WCapeSenAT29_test/mintpy/timeseries_ERA5.h5.\n",
      "update \"REF_DATE\" attribute value to 20190408\n",
      "--------------------------------------------------\n",
      "change reference date for file: /mnt/CEPH_PROJECTS/FROSTINI/test_MintPy/WCapeSenAT29_test/mintpy/timeseries_ERA5_ramp.h5\n",
      "reading data ...\n",
      "referencing in time ...\n",
      "--------------------------------------------------\n",
      "open  HDF5 file /mnt/CEPH_PROJECTS/FROSTINI/test_MintPy/WCapeSenAT29_test/mintpy/timeseries_ERA5_ramp.h5 in r+ mode\n",
      "writing dataset /timeseries                block: (0, 10, 0, 613, 0, 1559)\n",
      "close HDF5 file /mnt/CEPH_PROJECTS/FROSTINI/test_MintPy/WCapeSenAT29_test/mintpy/timeseries_ERA5_ramp.h5.\n",
      "update \"REF_DATE\" attribute value to 20190408\n",
      "--------------------------------------------------\n",
      "change reference date for file: /mnt/CEPH_PROJECTS/FROSTINI/test_MintPy/WCapeSenAT29_test/mintpy/timeseries_ERA5_ramp_demErr.h5\n",
      "reading data ...\n",
      "referencing in time ...\n",
      "--------------------------------------------------\n",
      "open  HDF5 file /mnt/CEPH_PROJECTS/FROSTINI/test_MintPy/WCapeSenAT29_test/mintpy/timeseries_ERA5_ramp_demErr.h5 in r+ mode\n",
      "writing dataset /timeseries                block: (0, 10, 0, 613, 0, 1559)\n",
      "close HDF5 file /mnt/CEPH_PROJECTS/FROSTINI/test_MintPy/WCapeSenAT29_test/mintpy/timeseries_ERA5_ramp_demErr.h5.\n",
      "update \"REF_DATE\" attribute value to 20190408\n",
      "time used: 00 mins 4.3 secs.\n",
      "\n",
      "\n",
      "******************** step - velocity ********************\n",
      "\n",
      "timeseries2velocity.py /mnt/CEPH_PROJECTS/FROSTINI/test_MintPy/WCapeSenAT29_test/mintpy/timeseries_ERA5_ramp_demErr.h5 -t /mnt/CEPH_PROJECTS/FROSTINI/test_MintPy/WCapeSenAT29_test/mintpy/smallbaselineApp.cfg -o /mnt/CEPH_PROJECTS/FROSTINI/test_MintPy/WCapeSenAT29_test/mintpy/velocity.h5 --update\n",
      "read options from template file: smallbaselineApp.cfg\n",
      "update mode: ON\n",
      "1) output file /mnt/CEPH_PROJECTS/FROSTINI/test_MintPy/WCapeSenAT29_test/mintpy/velocity.h5 NOT found.\n",
      "run or skip: run.\n",
      "open timeseries file: timeseries_ERA5_ramp_demErr.h5\n",
      "exclude date: []\n",
      "--------------------------------------------------\n",
      "dates from input file: 10\n",
      "['20190303', '20190315', '20190327', '20190408', '20190420', '20190502', '20190514', '20190526', '20190607', '20190619']\n",
      "--------------------------------------------------\n",
      "using all dates to calculate the time function\n",
      "--------------------------------------------------\n",
      "estimate deformation model with the following assumed time functions:\n",
      "    polynomial : 1\n",
      "    periodic   : []\n",
      "    stepDate   : []\n",
      "    polyline   : []\n",
      "    exp        : {}\n",
      "    log        : {}\n",
      "add/update the following configuration metadata:\n",
      "['startDate', 'endDate', 'excludeDate', 'polynomial', 'periodic', 'stepDate', 'exp', 'log', 'uncertaintyQuantification', 'timeSeriesCovFile', 'bootstrapCount']\n",
      "--------------------------------------------------\n",
      "create HDF5 file: /mnt/CEPH_PROJECTS/FROSTINI/test_MintPy/WCapeSenAT29_test/mintpy/velocity.h5 with w mode\n",
      "create dataset  : intercept    of <class 'numpy.float32'>   in size of (613, 1559)          with compression = None\n",
      "create dataset  : interceptStd of <class 'numpy.float32'>   in size of (613, 1559)          with compression = None\n",
      "create dataset  : velocity     of <class 'numpy.float32'>   in size of (613, 1559)          with compression = None\n",
      "create dataset  : velocityStd  of <class 'numpy.float32'>   in size of (613, 1559)          with compression = None\n",
      "create dataset  : residue      of <class 'numpy.float32'>   in size of (613, 1559)          with compression = None\n",
      "add /intercept    attribute: UNIT = m\n",
      "add /interceptStd attribute: UNIT = m\n",
      "add /velocity     attribute: UNIT = m/year\n",
      "add /velocityStd  attribute: UNIT = m/year\n",
      "add /residue      attribute: UNIT = m\n",
      "close  HDF5 file: /mnt/CEPH_PROJECTS/FROSTINI/test_MintPy/WCapeSenAT29_test/mintpy/velocity.h5\n",
      "reading data from file /mnt/CEPH_PROJECTS/FROSTINI/test_MintPy/WCapeSenAT29_test/mintpy/timeseries_ERA5_ramp_demErr.h5 ...\n",
      "skip pixels with zero/nan value in all acquisitions\n",
      "number of pixels to invert: 927237 out of 955667 (97.0%)\n",
      "estimating time functions via linalg.lstsq ...\n",
      "estimating time functions STD from time-series fitting residual ...\n",
      "--------------------------------------------------\n",
      "open  HDF5 file /mnt/CEPH_PROJECTS/FROSTINI/test_MintPy/WCapeSenAT29_test/mintpy/velocity.h5 in a mode\n",
      "writing dataset /intercept                 block: [0, 613, 0, 1559]\n",
      "close HDF5 file /mnt/CEPH_PROJECTS/FROSTINI/test_MintPy/WCapeSenAT29_test/mintpy/velocity.h5.\n",
      "--------------------------------------------------\n",
      "open  HDF5 file /mnt/CEPH_PROJECTS/FROSTINI/test_MintPy/WCapeSenAT29_test/mintpy/velocity.h5 in a mode\n",
      "writing dataset /interceptStd              block: [0, 613, 0, 1559]\n",
      "close HDF5 file /mnt/CEPH_PROJECTS/FROSTINI/test_MintPy/WCapeSenAT29_test/mintpy/velocity.h5.\n",
      "--------------------------------------------------\n",
      "open  HDF5 file /mnt/CEPH_PROJECTS/FROSTINI/test_MintPy/WCapeSenAT29_test/mintpy/velocity.h5 in a mode\n",
      "writing dataset /velocity                  block: [0, 613, 0, 1559]\n",
      "close HDF5 file /mnt/CEPH_PROJECTS/FROSTINI/test_MintPy/WCapeSenAT29_test/mintpy/velocity.h5.\n",
      "--------------------------------------------------\n",
      "open  HDF5 file /mnt/CEPH_PROJECTS/FROSTINI/test_MintPy/WCapeSenAT29_test/mintpy/velocity.h5 in a mode\n",
      "writing dataset /velocityStd               block: [0, 613, 0, 1559]\n",
      "close HDF5 file /mnt/CEPH_PROJECTS/FROSTINI/test_MintPy/WCapeSenAT29_test/mintpy/velocity.h5.\n",
      "--------------------------------------------------\n",
      "open  HDF5 file /mnt/CEPH_PROJECTS/FROSTINI/test_MintPy/WCapeSenAT29_test/mintpy/velocity.h5 in a mode\n",
      "writing dataset /residue                   block: [0, 613, 0, 1559]\n",
      "close HDF5 file /mnt/CEPH_PROJECTS/FROSTINI/test_MintPy/WCapeSenAT29_test/mintpy/velocity.h5.\n",
      "time used: 00 mins 0.3 secs.\n",
      "\n",
      "timeseries2velocity.py /mnt/CEPH_PROJECTS/FROSTINI/test_MintPy/WCapeSenAT29_test/mintpy/inputs/ERA5.h5 -t /mnt/CEPH_PROJECTS/FROSTINI/test_MintPy/WCapeSenAT29_test/mintpy/smallbaselineApp.cfg -o /mnt/CEPH_PROJECTS/FROSTINI/test_MintPy/WCapeSenAT29_test/mintpy/velocityERA5.h5 --update --ref-date 20190408 --ref-yx 222 167"
     ]
    },
    {
     "name": "stderr",
     "output_type": "stream",
     "text": [
      "/home/mcallegari/anaconda3/envs/cloudinsar/lib/python3.13/site-packages/mintpy/view.py:1366: UserWarning: Ignoring specified arguments in this call because figure with num: 1 already exists\n",
      "  fig, axs = plt.subplots(\n",
      "/home/mcallegari/anaconda3/envs/cloudinsar/lib/python3.13/site-packages/mintpy/view.py:1366: UserWarning: Ignoring specified arguments in this call because figure with num: 1 already exists\n",
      "  fig, axs = plt.subplots(\n",
      "/home/mcallegari/anaconda3/envs/cloudinsar/lib/python3.13/site-packages/mintpy/view.py:1366: UserWarning: Ignoring specified arguments in this call because figure with num: 1 already exists\n",
      "  fig, axs = plt.subplots(\n"
     ]
    },
    {
     "name": "stdout",
     "output_type": "stream",
     "text": [
      "\n",
      "read options from template file: smallbaselineApp.cfg\n",
      "update mode: ON\n",
      "1) output file /mnt/CEPH_PROJECTS/FROSTINI/test_MintPy/WCapeSenAT29_test/mintpy/velocityERA5.h5 NOT found.\n",
      "run or skip: run.\n",
      "open timeseries file: ERA5.h5\n",
      "exclude date: []\n",
      "--------------------------------------------------\n",
      "dates from input file: 10\n",
      "['20190303', '20190315', '20190327', '20190408', '20190420', '20190502', '20190514', '20190526', '20190607', '20190619']\n",
      "--------------------------------------------------\n",
      "using all dates to calculate the time function\n",
      "--------------------------------------------------\n",
      "estimate deformation model with the following assumed time functions:\n",
      "    polynomial : 1\n",
      "    periodic   : []\n",
      "    stepDate   : []\n",
      "    polyline   : []\n",
      "    exp        : {}\n",
      "    log        : {}\n",
      "add/update the following configuration metadata:\n",
      "['startDate', 'endDate', 'excludeDate', 'polynomial', 'periodic', 'stepDate', 'exp', 'log', 'uncertaintyQuantification', 'timeSeriesCovFile', 'bootstrapCount']\n",
      "--------------------------------------------------\n",
      "create HDF5 file: /mnt/CEPH_PROJECTS/FROSTINI/test_MintPy/WCapeSenAT29_test/mintpy/velocityERA5.h5 with w mode\n",
      "create dataset  : intercept    of <class 'numpy.float32'>   in size of (613, 1559)          with compression = None\n",
      "create dataset  : interceptStd of <class 'numpy.float32'>   in size of (613, 1559)          with compression = None\n",
      "create dataset  : velocity     of <class 'numpy.float32'>   in size of (613, 1559)          with compression = None\n",
      "create dataset  : velocityStd  of <class 'numpy.float32'>   in size of (613, 1559)          with compression = None\n",
      "create dataset  : residue      of <class 'numpy.float32'>   in size of (613, 1559)          with compression = None\n",
      "add /intercept    attribute: UNIT = m\n",
      "add /interceptStd attribute: UNIT = m\n",
      "add /velocity     attribute: UNIT = m/year\n",
      "add /velocityStd  attribute: UNIT = m/year\n",
      "add /residue      attribute: UNIT = m\n",
      "close  HDF5 file: /mnt/CEPH_PROJECTS/FROSTINI/test_MintPy/WCapeSenAT29_test/mintpy/velocityERA5.h5\n",
      "reading data from file /mnt/CEPH_PROJECTS/FROSTINI/test_MintPy/WCapeSenAT29_test/mintpy/inputs/ERA5.h5 ...\n",
      "referecing to date: 20190408\n",
      "referencing to point (y, x): (222, 167)\n",
      "skip pixels with zero/nan value in all acquisitions\n",
      "number of pixels to invert: 955667 out of 955667 (100.0%)\n",
      "estimating time functions via linalg.lstsq ...\n",
      "estimating time functions STD from time-series fitting residual ...\n",
      "--------------------------------------------------\n",
      "open  HDF5 file /mnt/CEPH_PROJECTS/FROSTINI/test_MintPy/WCapeSenAT29_test/mintpy/velocityERA5.h5 in a mode\n",
      "writing dataset /intercept                 block: [0, 613, 0, 1559]\n",
      "close HDF5 file /mnt/CEPH_PROJECTS/FROSTINI/test_MintPy/WCapeSenAT29_test/mintpy/velocityERA5.h5.\n",
      "--------------------------------------------------\n",
      "open  HDF5 file /mnt/CEPH_PROJECTS/FROSTINI/test_MintPy/WCapeSenAT29_test/mintpy/velocityERA5.h5 in a mode\n",
      "writing dataset /interceptStd              block: [0, 613, 0, 1559]\n",
      "close HDF5 file /mnt/CEPH_PROJECTS/FROSTINI/test_MintPy/WCapeSenAT29_test/mintpy/velocityERA5.h5.\n",
      "--------------------------------------------------\n",
      "open  HDF5 file /mnt/CEPH_PROJECTS/FROSTINI/test_MintPy/WCapeSenAT29_test/mintpy/velocityERA5.h5 in a mode\n",
      "writing dataset /velocity                  block: [0, 613, 0, 1559]\n",
      "close HDF5 file /mnt/CEPH_PROJECTS/FROSTINI/test_MintPy/WCapeSenAT29_test/mintpy/velocityERA5.h5.\n",
      "--------------------------------------------------\n",
      "open  HDF5 file /mnt/CEPH_PROJECTS/FROSTINI/test_MintPy/WCapeSenAT29_test/mintpy/velocityERA5.h5 in a mode\n",
      "writing dataset /velocityStd               block: [0, 613, 0, 1559]\n",
      "close HDF5 file /mnt/CEPH_PROJECTS/FROSTINI/test_MintPy/WCapeSenAT29_test/mintpy/velocityERA5.h5.\n",
      "--------------------------------------------------\n",
      "open  HDF5 file /mnt/CEPH_PROJECTS/FROSTINI/test_MintPy/WCapeSenAT29_test/mintpy/velocityERA5.h5 in a mode\n",
      "writing dataset /residue                   block: [0, 613, 0, 1559]\n",
      "close HDF5 file /mnt/CEPH_PROJECTS/FROSTINI/test_MintPy/WCapeSenAT29_test/mintpy/velocityERA5.h5.\n",
      "time used: 00 mins 0.3 secs.\n",
      "\n",
      "\n",
      "******************** step - geocode ********************\n",
      "dataset is geocoded, skip geocoding and continue.\n",
      "\n",
      "\n",
      "******************** step - google_earth ********************\n",
      "creating Google Earth KMZ file for geocoded velocity file: ...\n",
      "\n",
      "save_kmz.py /mnt/CEPH_PROJECTS/FROSTINI/test_MintPy/WCapeSenAT29_test/mintpy/velocity.h5 -o /mnt/CEPH_PROJECTS/FROSTINI/test_MintPy/WCapeSenAT29_test/mintpy/velocity.kmz\n",
      "data   coverage in y/x: (0, 0, 1559, 613)\n",
      "subset coverage in y/x: (0, 0, 1559, 613)\n",
      "update LENGTH, WIDTH, Y/XMAX\n",
      "update/add SUBSET_XMIN/YMIN/XMAX/YMAX: 0/0/1559/613\n",
      "update Y/X_FIRST\n",
      "update REF_Y/X\n",
      "read mask from file: maskTempCoh.h5\n",
      "masking out pixels with zero value in file: None\n",
      "colormap: jet\n",
      "plotting data ...\n",
      "figure size : [20.0, 7.9]\n",
      "show reference point\n",
      "writing /mnt/CEPH_PROJECTS/FROSTINI/test_MintPy/WCapeSenAT29_test/mintpy/velocity_data.png with dpi=600\n",
      "writing /mnt/CEPH_PROJECTS/FROSTINI/test_MintPy/WCapeSenAT29_test/mintpy/velocity_cbar.png\n",
      "writing /mnt/CEPH_PROJECTS/FROSTINI/test_MintPy/WCapeSenAT29_test/mintpy/velocity.kml\n",
      "remove /mnt/CEPH_PROJECTS/FROSTINI/test_MintPy/WCapeSenAT29_test/mintpy/velocity.kml\n",
      "remove /mnt/CEPH_PROJECTS/FROSTINI/test_MintPy/WCapeSenAT29_test/mintpy/velocity_data.png\n",
      "remove /mnt/CEPH_PROJECTS/FROSTINI/test_MintPy/WCapeSenAT29_test/mintpy/velocity_cbar.png\n",
      "merged all files to /mnt/CEPH_PROJECTS/FROSTINI/test_MintPy/WCapeSenAT29_test/mintpy/velocity.kmz\n",
      "\n",
      "\n",
      "******************** step - hdfeos5 ********************\n",
      "save time-series to HDF-EOS5 format is OFF.\n",
      "\n",
      "******************** plot & save to pic ********************\n",
      "Input data seems to be geocoded. Lookup file not needed.\n",
      "view.py --dpi 150 --noverbose --nodisplay --update --memory 4.0 velocity.h5 --dem inputs/geometryGeo.h5 --mask maskTempCoh.h5\n",
      "WARNING: elevation range (31.5-204.7 m) < 2 contour levels (400.0 m) --> skip plotting DEM contour and continue\n",
      "view.py --dpi 150 --noverbose --nodisplay --update --memory 4.0 temporalCoherence.h5 -c gray -v 0 1\n",
      "view.py --dpi 150 --noverbose --nodisplay --update --memory 4.0 maskTempCoh.h5 -c gray -v 0 1\n",
      "view.py --dpi 150 --noverbose --nodisplay --update --memory 4.0 inputs/geometryGeo.h5\n",
      "view.py --dpi 150 --noverbose --nodisplay --update --memory 4.0 inputs/ifgramStack.h5 unwrapPhase- --zero-mask --wrap -c cmy\n",
      "view.py --dpi 150 --noverbose --nodisplay --update --memory 4.0 inputs/ifgramStack.h5 unwrapPhase- --zero-mask\n",
      "view.py --dpi 150 --noverbose --nodisplay --update --memory 4.0 inputs/ifgramStack.h5 coherence- --mask no -v 0 1\n",
      "view.py --dpi 150 --noverbose --nodisplay --update --memory 4.0 avgPhaseVelocity.h5\n",
      "view.py --dpi 150 --noverbose --nodisplay --update --memory 4.0 avgSpatialCoh.h5 -c gray -v 0 1\n",
      "view.py --dpi 150 --noverbose --nodisplay --update --memory 4.0 maskConnComp.h5 -c gray -v 0 1\n",
      "view.py --dpi 150 --noverbose --nodisplay --update --memory 4.0 timeseries.h5 --noaxis -u cm --wrap --wrap-range -5 5\n",
      "view.py --dpi 150 --noverbose --nodisplay --update --memory 4.0 timeseries_ERA5.h5 --noaxis -u cm --wrap --wrap-range -5 5\n",
      "view.py --dpi 150 --noverbose --nodisplay --update --memory 4.0 timeseries_ERA5_ramp.h5 --noaxis -u cm --wrap --wrap-range -5 5\n",
      "view.py --dpi 150 --noverbose --nodisplay --update --memory 4.0 timeseries_ERA5_ramp_demErr.h5 --noaxis -u cm --wrap --wrap-range -5 5\n",
      "view.py --dpi 150 --noverbose --nodisplay --update --memory 4.0 velocityERA5.h5 --mask no\n",
      "view.py --dpi 150 --noverbose --nodisplay --update --memory 4.0 numInvIfgram.h5 --mask no\n",
      "copy *.txt files into ./pic directory.\n",
      "move *.png/pdf/kmz files to ./pic directory.\n",
      "time used: 00 mins 26.7 secs.\n",
      "Explore more info & visualization options with the following scripts:\n",
      "        info.py                    # check HDF5 file structure and metadata\n",
      "        view.py                    # 2D map view\n",
      "        tsview.py                  # 1D point time-series (interactive)\n",
      "        transect.py                # 1D profile (interactive)\n",
      "        plot_coherence_matrix.py   # plot coherence matrix for one pixel (interactive)\n",
      "        plot_network.py            # plot network configuration of the dataset\n",
      "        plot_transection.py        # plot 1D profile along a line of a 2D matrix (interactive)\n",
      "        save_kmz.py                # generate Google Earth KMZ file in raster image\n",
      "        save_kmz_timeseries.py     # generate Google Earth KMZ file in points for time-series (interactive)\n",
      "        \n",
      "Go back to directory: /mnt/CEPH_PROJECTS/FROSTINI/test_MintPy/WCapeSenAT29_test/mintpy\n",
      "\n",
      "################################################\n",
      "   Normal end of smallbaselineApp processing!\n",
      "################################################\n",
      "Time used: 02 mins 57.8 secs\n",
      "\n"
     ]
    },
    {
     "data": {
      "text/plain": [
       "0"
      ]
     },
     "execution_count": 18,
     "metadata": {},
     "output_type": "execute_result"
    }
   ],
   "source": [
    "cmd_mintpy = f'smallbaselineApp.py {config_filename}'\n",
    "print(cmd_mintpy)\n",
    "os.chdir(mintpy_folder)\n",
    "os.system(cmd_mintpy)"
   ]
  },
  {
   "cell_type": "code",
   "execution_count": 13,
   "id": "dbf8a9be-2e96-4794-999b-ac88f83508be",
   "metadata": {},
   "outputs": [],
   "source": [
    "os.chdir(work_dir)"
   ]
  },
  {
   "cell_type": "code",
   "execution_count": null,
   "id": "d6fd44a9-5d72-4326-bcc5-0a17ffde46ab",
   "metadata": {},
   "outputs": [],
   "source": []
  }
 ],
 "metadata": {
  "kernelspec": {
   "display_name": "Python 3 (ipykernel)",
   "language": "python",
   "name": "python3"
  },
  "language_info": {
   "codemirror_mode": {
    "name": "ipython",
    "version": 3
   },
   "file_extension": ".py",
   "mimetype": "text/x-python",
   "name": "python",
   "nbconvert_exporter": "python",
   "pygments_lexer": "ipython3",
   "version": "3.13.3"
  }
 },
 "nbformat": 4,
 "nbformat_minor": 5
}
