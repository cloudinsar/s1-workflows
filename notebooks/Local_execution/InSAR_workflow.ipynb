{
 "cells": [
  {
   "cell_type": "markdown",
   "id": "9d9cdb68-3447-411d-8e2f-49c65385e8d2",
   "metadata": {},
   "source": [
    "# InSAR workflow"
   ]
  },
  {
   "cell_type": "markdown",
   "id": "16510f23-5a8b-453b-b162-8beaf4c10160",
   "metadata": {},
   "source": [
    "This notebook contain an example on how to execute the InSAR workflow on a local machine with SNAP installed. This workflow can produce geocoded InSAR coherence and flattened + topographic corrected + multilooked + filtered wrapped and unwrapped interferogram"
   ]
  },
  {
   "cell_type": "code",
   "execution_count": 1,
   "id": "aed3f204-a2fe-4821-87cb-da074012a048",
   "metadata": {},
   "outputs": [],
   "source": [
    "import urllib\n",
    "import json\n",
    "from IPython.display import JSON\n",
    "\n",
    "from datetime import datetime\n",
    "\n",
    "import glob\n",
    "import os\n",
    "import subprocess\n",
    "import shutil"
   ]
  },
  {
   "cell_type": "markdown",
   "id": "88a442b0-9f82-4a56-8078-5653b1fa9bc1",
   "metadata": {},
   "source": [
    "## Input definition"
   ]
  },
  {
   "cell_type": "code",
   "execution_count": 2,
   "id": "b2ea580f-8ba6-40e5-ba8c-be31e59b309f",
   "metadata": {},
   "outputs": [],
   "source": [
    "burstId = 249435\n",
    "sub_swath = 'IW2'\n",
    "InSAR_pairs = [\n",
    "    '20240809_20240821',\n",
    "    '20240821_20240902'\n",
    "]\n",
    "\n",
    "# Coherence window size\n",
    "cohWinRg, cohWinAz = (10, 2)\n",
    "\n",
    "# Multillok parameters\n",
    "nRgLooks, nAzLooks = (4, 1)"
   ]
  },
  {
   "cell_type": "code",
   "execution_count": 3,
   "id": "d4a9c6f8-2b99-4bfb-90df-6f33a1fc0aee",
   "metadata": {},
   "outputs": [],
   "source": [
    "graph_interferogram = '../graphs/interferogram_sarGeometry.xml'\n",
    "graph_snaphu_export = '../graphs/snaphu_export.xml'\n",
    "graph_geocode = '../graphs/geocode_snaphuInterferogram.xml'"
   ]
  },
  {
   "cell_type": "code",
   "execution_count": 4,
   "id": "b7b1cc6c-8e07-43cc-8be0-c0d5763cd5cf",
   "metadata": {},
   "outputs": [
    {
     "name": "stdout",
     "output_type": "stream",
     "text": [
      "output_folder: /home/mcallegari/PROJECT_DATA/ESA_ClouDInSAR/Test/InSAR_workflow\n"
     ]
    }
   ],
   "source": [
    "if os.path.exists(\"../CDSE_SECRET\"):\n",
    "    with open(\"../CDSE_SECRET\", \"r\") as file:\n",
    "        lines = file.readlines()\n",
    "    CDSE_ACCESS_KEY = lines[0].strip().split(\": \")[1]\n",
    "    CDSE_SECRET_KEY = lines[1].strip().split(\": \")[1]\n",
    "else:\n",
    "    # get from environment vatiables:\n",
    "    CDSE_ACCESS_KEY = os.environ.get(\"AWS_ACCESS_KEY_ID\", None)\n",
    "    CDSE_SECRET_KEY = os.environ.get(\"AWS_SECRET_ACCESS_KEY\", None)\n",
    "\n",
    "\n",
    "output_folder = '/home/mcallegari/PROJECT_DATA/ESA_ClouDInSAR/Test/InSAR_workflow'\n",
    "if not os.path.exists(output_folder):\n",
    "    output_folder = os.path.abspath(\"output\")\n",
    "print(\"output_folder: \" + str(output_folder))"
   ]
  },
  {
   "cell_type": "markdown",
   "id": "2bd34375-5140-4f10-aef8-5d3766c66050",
   "metadata": {},
   "source": [
    "## Burst download"
   ]
  },
  {
   "cell_type": "code",
   "execution_count": 5,
   "id": "2fa4661c-baa3-4cb2-bdd8-7876824e0fa7",
   "metadata": {},
   "outputs": [
    {
     "name": "stdout",
     "output_type": "stream",
     "text": [
      "Input file size is 26484, 1512\n",
      "0...10...20...30...40...50...60...70...80...90...100 - done.\n",
      "Input file size is 26484, 1512\n",
      "0...10...20...30...40...50...60...70...80...90...100 - done.\n",
      "Input file size is 26484, 1512\n",
      "0...10...20...30...40...50...60...70...80...90...100 - done.\n"
     ]
    }
   ],
   "source": [
    "date_list = [datetime.strptime(date, \"%Y%m%d\") for date in list(set('_'.join(InSAR_pairs).split('_')))]\n",
    "\n",
    "for date in date_list:\n",
    "\n",
    "    https_request = f\"https://catalogue.dataspace.copernicus.eu/odata/v1/Bursts?$filter=\" + urllib.parse.quote(\n",
    "    f\"ContentDate/Start ge {date.strftime('%Y-%m-%d')}T00:00:00.000Z and ContentDate/Start le {date.strftime('%Y-%m-%d')}T23:59:59.000Z and \"\n",
    "    f\"PolarisationChannels eq 'VV' and \"\n",
    "    f\"BurstId eq {burstId} and \"\n",
    "    f\"SwathIdentifier eq '{sub_swath}'\"\n",
    "    )\n",
    "\n",
    "    with urllib.request.urlopen(https_request) as response:\n",
    "        content = response.read().decode()\n",
    "    bursts = json.loads(content)\n",
    "    ParentProductName = bursts['value'][0]['ParentProductName']\n",
    "\n",
    "    burst_extract_cmd = (\n",
    "        f\"docker run -v {output_folder}:/home/ubuntu \"\n",
    "        f\"-e AWS_ACCESS_KEY_ID={CDSE_ACCESS_KEY} -e AWS_SECRET_ACCESS_KEY={CDSE_SECRET_KEY} \"\n",
    "        f\"cdse_utilities sentinel1_burst_extractor.sh -o /home/ubuntu \"\n",
    "        f\"-n {ParentProductName} -p vv -s {sub_swath.lower()} -r {burstId}\"\n",
    "    )\n",
    "\n",
    "    #print(burst_extract_cmd)\n",
    "    os.system(burst_extract_cmd)\n",
    "    "
   ]
  },
  {
   "cell_type": "markdown",
   "id": "4e3e06a0-114d-4d75-bad9-ebaeddee7991",
   "metadata": {},
   "source": [
    "## Sentinel-1 InSAR processing"
   ]
  },
  {
   "cell_type": "code",
   "execution_count": 6,
   "id": "39105167-ff54-4f86-9073-bbd2e3677188",
   "metadata": {},
   "outputs": [
    {
     "name": "stderr",
     "output_type": "stream",
     "text": [
      "INFO: org.esa.snap.core.gpf.operators.tooladapter.ToolAdapterIO: Initializing external tool adapters\n",
      "INFO: org.esa.snap.core.util.EngineVersionCheckActivator: Please check regularly for new updates for the best SNAP experience.\n"
     ]
    },
    {
     "name": "stdout",
     "output_type": "stream",
     "text": [
      "Executing processing graph\n",
      "....11%....21%....31%....41%....52%....62%....72%....82%.... done.\n"
     ]
    },
    {
     "name": "stderr",
     "output_type": "stream",
     "text": [
      "-- org.jblas INFO Deleting /tmp/jblas999666024128013715/libjblas_arch_flavor.so\n",
      "-- org.jblas INFO Deleting /tmp/jblas999666024128013715/libjblas.so\n",
      "-- org.jblas INFO Deleting /tmp/jblas999666024128013715/libgfortran-5.so\n",
      "-- org.jblas INFO Deleting /tmp/jblas999666024128013715/libquadmath-0.so\n",
      "-- org.jblas INFO Deleting /tmp/jblas999666024128013715\n",
      "INFO: org.esa.snap.core.gpf.operators.tooladapter.ToolAdapterIO: Initializing external tool adapters\n",
      "INFO: org.esa.snap.core.util.EngineVersionCheckActivator: Please check regularly for new updates for the best SNAP experience.\n"
     ]
    },
    {
     "name": "stdout",
     "output_type": "stream",
     "text": [
      "Executing processing graph\n",
      "....11%...21%....33%....44%...54%....66%....78%....89% done.\n",
      "\n",
      "snaphu v2.0.4\n",
      "27 parameters input from file snaphu.conf (84 lines total)\n"
     ]
    },
    {
     "name": "stderr",
     "output_type": "stream",
     "text": [
      "-- org.jblas INFO Deleting /tmp/jblas15555553616423710039/libjblas_arch_flavor.so\n",
      "-- org.jblas INFO Deleting /tmp/jblas15555553616423710039/libjblas.so\n",
      "-- org.jblas INFO Deleting /tmp/jblas15555553616423710039/libgfortran-5.so\n",
      "-- org.jblas INFO Deleting /tmp/jblas15555553616423710039/libquadmath-0.so\n",
      "-- org.jblas INFO Deleting /tmp/jblas15555553616423710039\n",
      "WARNING: Tile overlap is small (may give bad results)\n"
     ]
    },
    {
     "name": "stdout",
     "output_type": "stream",
     "text": [
      "Logging run-time parameters to file snaphu.log\n",
      "Creating temporary directory snaphu_tiles_1644955\n",
      "Unwrapping tile at row 0, column 0 (pid 1644960)\n",
      "Unwrapping tile at row 0, column 1 (pid 1644963)\n",
      "Unwrapping tile at row 0, column 2 (pid 1645019)\n",
      "Unwrapping tile at row 0, column 3 (pid 1645060)\n",
      "Unwrapping tile at row 0, column 4 (pid 1645067)\n",
      "Unwrapping tile at row 0, column 5 (pid 1645087)\n",
      "Unwrapping tile at row 0, column 6 (pid 1645098)\n",
      "Unwrapping tile at row 0, column 7 (pid 1645124)\n",
      "Unwrapping tile at row 0, column 8 (pid 1645128)\n",
      "Unwrapping tile at row 0, column 9 (pid 1645131)\n",
      "Unwrapping tile at row 1, column 0 (pid 1645134)\n",
      "Unwrapping tile at row 1, column 1 (pid 1645135)\n",
      "Unwrapping tile at row 1, column 2 (pid 1645169)\n",
      "Unwrapping tile at row 1, column 3 (pid 1645173)\n",
      "Unwrapping tile at row 1, column 4 (pid 1645175)\n",
      "Unwrapping tile at row 1, column 5 (pid 1645176)\n",
      "Unwrapping tile at row 1, column 6 (pid 1645192)\n",
      "Unwrapping tile at row 1, column 7 (pid 1645194)\n",
      "Unwrapping tile at row 1, column 8 (pid 1645195)\n",
      "Unwrapping tile at row 1, column 9 (pid 1645197)\n",
      "Unwrapping tile at row 2, column 0 (pid 1645202)\n",
      "Unwrapping tile at row 2, column 1 (pid 1645210)\n",
      "Unwrapping tile at row 2, column 2 (pid 1645213)\n",
      "Unwrapping tile at row 2, column 3 (pid 1645215)\n",
      "Unwrapping tile at row 2, column 4 (pid 1645216)\n",
      "Unwrapping tile at row 2, column 5 (pid 1645225)\n",
      "Unwrapping tile at row 2, column 6 (pid 1645227)\n",
      "Unwrapping tile at row 2, column 7 (pid 1645228)\n",
      "Unwrapping tile at row 2, column 8 (pid 1645229)\n",
      "Unwrapping tile at row 2, column 9 (pid 1645231)\n",
      "Unwrapping tile at row 3, column 0 (pid 1645239)\n",
      "Unwrapping tile at row 3, column 1 (pid 1645242)\n",
      "Unwrapping tile at row 3, column 2 (pid 1645243)\n",
      "Unwrapping tile at row 3, column 3 (pid 1645244)\n",
      "Unwrapping tile at row 3, column 4 (pid 1645245)\n",
      "Unwrapping tile at row 3, column 5 (pid 1645254)\n",
      "Unwrapping tile at row 3, column 6 (pid 1645255)\n",
      "Unwrapping tile at row 3, column 7 (pid 1645256)\n",
      "Unwrapping tile at row 3, column 8 (pid 1645257)\n",
      "Unwrapping tile at row 3, column 9 (pid 1645259)\n",
      "Unwrapping tile at row 4, column 0 (pid 1645263)\n",
      "Unwrapping tile at row 4, column 1 (pid 1645273)\n",
      "Unwrapping tile at row 4, column 2 (pid 1645274)\n",
      "Unwrapping tile at row 4, column 3 (pid 1645275)\n",
      "Unwrapping tile at row 4, column 4 (pid 1645284)\n",
      "Unwrapping tile at row 4, column 5 (pid 1645295)\n",
      "Unwrapping tile at row 4, column 6 (pid 1645296)\n",
      "Unwrapping tile at row 4, column 7 (pid 1645297)\n",
      "Unwrapping tile at row 4, column 8 (pid 1645299)\n",
      "Unwrapping tile at row 4, column 9 (pid 1645301)\n",
      "Unwrapping tile at row 5, column 0 (pid 1645311)\n",
      "Unwrapping tile at row 5, column 1 (pid 1645312)\n",
      "Unwrapping tile at row 5, column 2 (pid 1645313)\n",
      "Unwrapping tile at row 5, column 3 (pid 1645314)\n",
      "Unwrapping tile at row 5, column 4 (pid 1645316)\n",
      "Unwrapping tile at row 5, column 5 (pid 1645325)\n",
      "Unwrapping tile at row 5, column 6 (pid 1645326)\n",
      "Unwrapping tile at row 5, column 7 (pid 1645328)\n",
      "Unwrapping tile at row 5, column 8 (pid 1645329)\n",
      "Unwrapping tile at row 5, column 9 (pid 1645332)\n",
      "Unwrapping tile at row 6, column 0 (pid 1645341)\n",
      "Unwrapping tile at row 6, column 1 (pid 1645344)\n",
      "Unwrapping tile at row 6, column 2 (pid 1645345)\n",
      "Unwrapping tile at row 6, column 3 (pid 1645347)\n",
      "Unwrapping tile at row 6, column 4 (pid 1645349)\n",
      "Unwrapping tile at row 6, column 5 (pid 1645357)\n",
      "Unwrapping tile at row 6, column 6 (pid 1645358)\n",
      "Unwrapping tile at row 6, column 7 (pid 1645361)\n",
      "Unwrapping tile at row 6, column 8 (pid 1645363)\n",
      "Unwrapping tile at row 6, column 9 (pid 1645365)\n",
      "Unwrapping tile at row 7, column 0 (pid 1645373)\n",
      "Unwrapping tile at row 7, column 1 (pid 1645374)\n",
      "Unwrapping tile at row 7, column 2 (pid 1645383)\n",
      "Unwrapping tile at row 7, column 3 (pid 1645385)\n",
      "Unwrapping tile at row 7, column 4 (pid 1645386)\n",
      "Unwrapping tile at row 7, column 5 (pid 1645395)\n",
      "Unwrapping tile at row 7, column 6 (pid 1645396)\n",
      "Unwrapping tile at row 7, column 7 (pid 1645398)\n",
      "Unwrapping tile at row 7, column 8 (pid 1645400)\n",
      "Unwrapping tile at row 7, column 9 (pid 1645402)\n",
      "Unwrapping tile at row 8, column 0 (pid 1645410)\n",
      "Unwrapping tile at row 8, column 1 (pid 1645411)\n",
      "Unwrapping tile at row 8, column 2 (pid 1645412)\n",
      "Unwrapping tile at row 8, column 3 (pid 1645414)\n",
      "Unwrapping tile at row 8, column 4 (pid 1645415)\n",
      "Unwrapping tile at row 8, column 5 (pid 1645424)\n",
      "Unwrapping tile at row 8, column 6 (pid 1645427)\n",
      "Unwrapping tile at row 8, column 7 (pid 1645428)\n",
      "Unwrapping tile at row 8, column 8 (pid 1645431)\n",
      "Unwrapping tile at row 8, column 9 (pid 1645432)\n",
      "Unwrapping tile at row 9, column 0 (pid 1645441)\n",
      "Unwrapping tile at row 9, column 1 (pid 1645446)\n",
      "Unwrapping tile at row 9, column 2 (pid 1645447)\n",
      "Unwrapping tile at row 9, column 3 (pid 1645450)\n",
      "Unwrapping tile at row 9, column 4 (pid 1645451)\n",
      "Unwrapping tile at row 9, column 5 (pid 1645463)\n",
      "Unwrapping tile at row 9, column 6 (pid 1645465)\n",
      "Unwrapping tile at row 9, column 7 (pid 1645468)\n",
      "Unwrapping tile at row 9, column 8 (pid 1645469)\n",
      "Unwrapping tile at row 9, column 9 (pid 1645470)\n",
      "Assembling tiles\n",
      "Running optimizer for secondary network\n",
      "Number of nodes in secondary network: 26528\n",
      "Flow increment: 1  (Total improvements: 0)\n",
      "Treesize: 26528      Pivots: 4162        Improvements: 220        \n",
      "Flow increment: 2  (Total improvements: 220)\n",
      "Treesize: 26528      Pivots: 3           Improvements: 0          \n",
      "Flow increment: 3  (Total improvements: 220)\n",
      "Treesize: 26528      Pivots: 0           Improvements: 0          \n",
      "Flow increment: 4  (Total improvements: 220)\n",
      "Treesize: 26528      Pivots: 0           Improvements: 0          \n",
      "Integrating secondary flows\n",
      "Output written to file UnwPhase_ifg_IW2_VV_09Aug2024_21Aug2024.snaphu.img\n"
     ]
    },
    {
     "name": "stderr",
     "output_type": "stream",
     "text": [
      "130 incremental costs clipped to avoid overflow (0.002%)\n",
      "114 incremental costs clipped to avoid overflow (0.001%)\n",
      "114 incremental costs clipped to avoid overflow (0.001%)\n",
      "114 incremental costs clipped to avoid overflow (0.001%)\n"
     ]
    },
    {
     "name": "stdout",
     "output_type": "stream",
     "text": [
      "Removing temporary directory snaphu_tiles_1644955\n",
      "SUGGESTION: Try increasing tile overlap and/or size if solution has edge artifacts\n",
      "Program snaphu done\n",
      "Elapsed processor time:   0:10:18.32\n",
      "Elapsed wall clock time:  0:01:56\n"
     ]
    },
    {
     "name": "stderr",
     "output_type": "stream",
     "text": [
      "INFO: org.esa.snap.core.gpf.operators.tooladapter.ToolAdapterIO: Initializing external tool adapters\n",
      "INFO: org.esa.snap.core.util.EngineVersionCheckActivator: Please check regularly for new updates for the best SNAP experience.\n"
     ]
    },
    {
     "name": "stdout",
     "output_type": "stream",
     "text": [
      "Executing processing graph\n"
     ]
    },
    {
     "name": "stderr",
     "output_type": "stream",
     "text": [
      "2078 [main] INFO hdf.hdflib.HDFLibrary - HDF4 library: \n",
      "2079 [main] INFO hdf.hdflib.HDFLibrary -  successfully loaded.\n",
      "2082 [main] INFO hdf.hdf5lib.H5 - HDF5 library: \n",
      "2083 [main] INFO hdf.hdf5lib.H5 -  successfully loaded.\n"
     ]
    },
    {
     "name": "stdout",
     "output_type": "stream",
     "text": [
      "....11%...21%....33%....44%...54%....66%....78%....89% done.\n"
     ]
    },
    {
     "name": "stderr",
     "output_type": "stream",
     "text": [
      "INFO: org.esa.snap.core.gpf.operators.tooladapter.ToolAdapterIO: Initializing external tool adapters\n",
      "INFO: org.esa.snap.core.util.EngineVersionCheckActivator: Please check regularly for new updates for the best SNAP experience.\n"
     ]
    },
    {
     "name": "stdout",
     "output_type": "stream",
     "text": [
      "Executing processing graph\n"
     ]
    },
    {
     "name": "stderr",
     "output_type": "stream",
     "text": [
      "INFO: eu.esa.sar.commons.io.ImageIOFile: Using FileCacheImageInputStream\n",
      "WARNING: org.jlinda.core.Baseline: Max. error bperp modeling at 3D datapoints: 7.191082673161104m\n",
      "WARNING: org.jlinda.core.Baseline: Max. error bperp modeling at 3D datapoints: 7.1904615468048565m\n"
     ]
    },
    {
     "name": "stdout",
     "output_type": "stream",
     "text": [
      "....11%....21%....31%....41%....52%....62%....72%....82%.... done.\n"
     ]
    },
    {
     "name": "stderr",
     "output_type": "stream",
     "text": [
      "-- org.jblas INFO Deleting /tmp/jblas16812560769132749437/libjblas_arch_flavor.so\n",
      "-- org.jblas INFO Deleting /tmp/jblas16812560769132749437/libjblas.so\n",
      "-- org.jblas INFO Deleting /tmp/jblas16812560769132749437/libgfortran-5.so\n",
      "-- org.jblas INFO Deleting /tmp/jblas16812560769132749437/libquadmath-0.so\n",
      "-- org.jblas INFO Deleting /tmp/jblas16812560769132749437\n",
      "INFO: org.esa.snap.core.gpf.operators.tooladapter.ToolAdapterIO: Initializing external tool adapters\n",
      "INFO: org.esa.snap.core.util.EngineVersionCheckActivator: Please check regularly for new updates for the best SNAP experience.\n"
     ]
    },
    {
     "name": "stdout",
     "output_type": "stream",
     "text": [
      "Executing processing graph\n",
      "....11%...21%....33%....44%...54%....66%....78%....89% done.\n",
      "\n",
      "snaphu v2.0.4\n",
      "27 parameters input from file snaphu.conf (84 lines total)\n"
     ]
    },
    {
     "name": "stderr",
     "output_type": "stream",
     "text": [
      "-- org.jblas INFO Deleting /tmp/jblas17210353018495342326/libjblas_arch_flavor.so\n",
      "-- org.jblas INFO Deleting /tmp/jblas17210353018495342326/libjblas.so\n",
      "-- org.jblas INFO Deleting /tmp/jblas17210353018495342326/libgfortran-5.so\n",
      "-- org.jblas INFO Deleting /tmp/jblas17210353018495342326/libquadmath-0.so\n",
      "-- org.jblas INFO Deleting /tmp/jblas17210353018495342326\n",
      "WARNING: Tile overlap is small (may give bad results)\n"
     ]
    },
    {
     "name": "stdout",
     "output_type": "stream",
     "text": [
      "Logging run-time parameters to file snaphu.log\n",
      "Creating temporary directory snaphu_tiles_1646199\n",
      "Unwrapping tile at row 0, column 0 (pid 1646217)\n",
      "Unwrapping tile at row 0, column 1 (pid 1646221)\n",
      "Unwrapping tile at row 0, column 2 (pid 1646225)\n",
      "Unwrapping tile at row 0, column 3 (pid 1646228)\n",
      "Unwrapping tile at row 0, column 4 (pid 1646230)\n",
      "Unwrapping tile at row 0, column 5 (pid 1646240)\n",
      "Unwrapping tile at row 0, column 6 (pid 1646246)\n",
      "Unwrapping tile at row 0, column 7 (pid 1646248)\n",
      "Unwrapping tile at row 0, column 8 (pid 1646250)\n",
      "Unwrapping tile at row 0, column 9 (pid 1646254)\n",
      "Unwrapping tile at row 1, column 0 (pid 1646263)\n",
      "Unwrapping tile at row 1, column 1 (pid 1646265)\n",
      "Unwrapping tile at row 1, column 2 (pid 1646267)\n",
      "Unwrapping tile at row 1, column 3 (pid 1646268)\n",
      "Unwrapping tile at row 1, column 4 (pid 1646269)\n",
      "Unwrapping tile at row 1, column 5 (pid 1646281)\n",
      "Unwrapping tile at row 1, column 6 (pid 1646282)\n",
      "Unwrapping tile at row 1, column 7 (pid 1646286)\n",
      "Unwrapping tile at row 1, column 8 (pid 1646292)\n",
      "Unwrapping tile at row 1, column 9 (pid 1646293)\n",
      "Unwrapping tile at row 2, column 0 (pid 1646303)\n",
      "Unwrapping tile at row 2, column 1 (pid 1646304)\n",
      "Unwrapping tile at row 2, column 2 (pid 1646305)\n",
      "Unwrapping tile at row 2, column 3 (pid 1646307)\n",
      "Unwrapping tile at row 2, column 4 (pid 1646308)\n",
      "Unwrapping tile at row 2, column 5 (pid 1646321)\n",
      "Unwrapping tile at row 2, column 6 (pid 1646322)\n",
      "Unwrapping tile at row 2, column 7 (pid 1646323)\n",
      "Unwrapping tile at row 2, column 8 (pid 1646332)\n",
      "Unwrapping tile at row 2, column 9 (pid 1646342)\n",
      "Unwrapping tile at row 3, column 0 (pid 1646343)\n",
      "Unwrapping tile at row 3, column 1 (pid 1646344)\n",
      "Unwrapping tile at row 3, column 2 (pid 1646349)\n",
      "Unwrapping tile at row 3, column 3 (pid 1646350)\n",
      "Unwrapping tile at row 3, column 4 (pid 1646362)\n",
      "Unwrapping tile at row 3, column 5 (pid 1646363)\n",
      "Unwrapping tile at row 3, column 6 (pid 1646364)\n",
      "Unwrapping tile at row 3, column 7 (pid 1646365)\n",
      "Unwrapping tile at row 3, column 8 (pid 1646367)\n",
      "Unwrapping tile at row 3, column 9 (pid 1646375)\n",
      "Unwrapping tile at row 4, column 0 (pid 1646376)\n",
      "Unwrapping tile at row 4, column 1 (pid 1646377)\n",
      "Unwrapping tile at row 4, column 2 (pid 1646379)\n",
      "Unwrapping tile at row 4, column 3 (pid 1646382)\n",
      "Unwrapping tile at row 4, column 4 (pid 1646391)\n",
      "Unwrapping tile at row 4, column 5 (pid 1646392)\n",
      "Unwrapping tile at row 4, column 6 (pid 1646393)\n",
      "Unwrapping tile at row 4, column 7 (pid 1646395)\n",
      "Unwrapping tile at row 4, column 8 (pid 1646403)\n",
      "Unwrapping tile at row 4, column 9 (pid 1646404)\n",
      "Unwrapping tile at row 5, column 0 (pid 1646406)\n",
      "Unwrapping tile at row 5, column 1 (pid 1646408)\n",
      "Unwrapping tile at row 5, column 2 (pid 1646411)\n",
      "Unwrapping tile at row 5, column 3 (pid 1646420)\n",
      "Unwrapping tile at row 5, column 4 (pid 1646421)\n",
      "Unwrapping tile at row 5, column 5 (pid 1646431)\n",
      "Unwrapping tile at row 5, column 6 (pid 1646432)\n",
      "Unwrapping tile at row 5, column 7 (pid 1646441)\n",
      "Unwrapping tile at row 5, column 8 (pid 1646442)\n",
      "Unwrapping tile at row 5, column 9 (pid 1646444)\n",
      "Unwrapping tile at row 6, column 0 (pid 1646446)\n",
      "Unwrapping tile at row 6, column 1 (pid 1646449)\n",
      "Unwrapping tile at row 6, column 2 (pid 1646450)\n",
      "Unwrapping tile at row 6, column 3 (pid 1646460)\n",
      "Unwrapping tile at row 6, column 4 (pid 1646461)\n",
      "Unwrapping tile at row 6, column 5 (pid 1646463)\n",
      "Unwrapping tile at row 6, column 6 (pid 1646464)\n",
      "Unwrapping tile at row 6, column 7 (pid 1646473)\n",
      "Unwrapping tile at row 6, column 8 (pid 1646475)\n",
      "Unwrapping tile at row 6, column 9 (pid 1646477)\n",
      "Unwrapping tile at row 7, column 0 (pid 1646479)\n",
      "Unwrapping tile at row 7, column 1 (pid 1646480)\n",
      "Unwrapping tile at row 7, column 2 (pid 1646491)\n",
      "Unwrapping tile at row 7, column 3 (pid 1646492)\n",
      "Unwrapping tile at row 7, column 4 (pid 1646494)\n",
      "Unwrapping tile at row 7, column 5 (pid 1646495)\n",
      "Unwrapping tile at row 7, column 6 (pid 1646496)\n",
      "Unwrapping tile at row 7, column 7 (pid 1646504)\n",
      "Unwrapping tile at row 7, column 8 (pid 1646506)\n",
      "Unwrapping tile at row 7, column 9 (pid 1646509)\n",
      "Unwrapping tile at row 8, column 0 (pid 1646511)\n",
      "Unwrapping tile at row 8, column 1 (pid 1646512)\n",
      "Unwrapping tile at row 8, column 2 (pid 1646514)\n",
      "Unwrapping tile at row 8, column 3 (pid 1646523)\n",
      "Unwrapping tile at row 8, column 4 (pid 1646533)\n",
      "Unwrapping tile at row 8, column 5 (pid 1646534)\n",
      "Unwrapping tile at row 8, column 6 (pid 1646535)\n",
      "Unwrapping tile at row 8, column 7 (pid 1646544)\n",
      "Unwrapping tile at row 8, column 8 (pid 1646545)\n",
      "Unwrapping tile at row 8, column 9 (pid 1646548)\n",
      "Unwrapping tile at row 9, column 0 (pid 1646549)\n",
      "Unwrapping tile at row 9, column 1 (pid 1646550)\n",
      "Unwrapping tile at row 9, column 2 (pid 1646558)\n",
      "Unwrapping tile at row 9, column 3 (pid 1646560)\n",
      "Unwrapping tile at row 9, column 4 (pid 1646561)\n",
      "Unwrapping tile at row 9, column 5 (pid 1646562)\n",
      "Unwrapping tile at row 9, column 6 (pid 1646564)\n",
      "Unwrapping tile at row 9, column 7 (pid 1646573)\n",
      "Unwrapping tile at row 9, column 8 (pid 1646576)\n",
      "Unwrapping tile at row 9, column 9 (pid 1646577)\n",
      "Assembling tiles\n",
      "Running optimizer for secondary network\n",
      "Number of nodes in secondary network: 25887\n",
      "Flow increment: 1  (Total improvements: 0)\n",
      "Treesize: 25887      Pivots: 2908        Improvements: 185        \n",
      "Flow increment: 2  (Total improvements: 185)\n",
      "Treesize: 25887      Pivots: 4           Improvements: 0          \n",
      "Flow increment: 3  (Total improvements: 185)\n",
      "Treesize: 25887      Pivots: 0           Improvements: 0          \n",
      "Flow increment: 4  (Total improvements: 185)\n",
      "Treesize: 25887      Pivots: 0           Improvements: 0          \n",
      "Integrating secondary flows\n",
      "Output written to file UnwPhase_ifg_IW2_VV_21Aug2024_02Sep2024.snaphu.img\n",
      "Removing temporary directory snaphu_tiles_1646199\n",
      "SUGGESTION: Try increasing tile overlap and/or size if solution has edge artifacts\n",
      "Program snaphu done\n",
      "Elapsed processor time:   0:10:02.79\n",
      "Elapsed wall clock time:  0:01:56\n"
     ]
    },
    {
     "name": "stderr",
     "output_type": "stream",
     "text": [
      "127 incremental costs clipped to avoid overflow (0.002%)\n",
      "120 incremental costs clipped to avoid overflow (0.001%)\n",
      "120 incremental costs clipped to avoid overflow (0.001%)\n",
      "120 incremental costs clipped to avoid overflow (0.001%)\n",
      "INFO: org.esa.snap.core.gpf.operators.tooladapter.ToolAdapterIO: Initializing external tool adapters\n",
      "INFO: org.esa.snap.core.util.EngineVersionCheckActivator: Please check regularly for new updates for the best SNAP experience.\n"
     ]
    },
    {
     "name": "stdout",
     "output_type": "stream",
     "text": [
      "Executing processing graph\n"
     ]
    },
    {
     "name": "stderr",
     "output_type": "stream",
     "text": [
      "1936 [main] INFO hdf.hdflib.HDFLibrary - HDF4 library: \n",
      "1937 [main] INFO hdf.hdflib.HDFLibrary -  successfully loaded.\n",
      "1940 [main] INFO hdf.hdf5lib.H5 - HDF5 library: \n",
      "1940 [main] INFO hdf.hdf5lib.H5 -  successfully loaded.\n"
     ]
    },
    {
     "name": "stdout",
     "output_type": "stream",
     "text": [
      "....11%...21%....33%....44%...54%....66%....78%....89% done.\n"
     ]
    }
   ],
   "source": [
    "for pair in InSAR_pairs:\n",
    "\n",
    "    # Create the interferogram\n",
    "    prm_filename = glob.glob(os.path.join(output_folder, f'*{pair.split(\"_\")[0]}*', 'manifest.safe'))[0]\n",
    "    sec_filename = glob.glob(os.path.join(output_folder, f'*{pair.split(\"_\")[1]}*', 'manifest.safe'))[0]\n",
    "    tmp_folder = os.path.join(output_folder, 'tmp')\n",
    "    os.makedirs(tmp_folder, exist_ok=True)\n",
    "    phase_filename = os.path.join(tmp_folder, f'phase_coh_{pair}.dim')\n",
    "    cmd_interferogram = (\n",
    "        f'gpt \"{graph_interferogram}\" -Pprm_filename=\"{prm_filename}\" -Psec_filename=\"{sec_filename}\" '\n",
    "        f'-PcohWinRg={cohWinRg} -PcohWinAz={cohWinAz} '\n",
    "        f'-PnRgLooks={nRgLooks} -PnAzLooks={nAzLooks} '\n",
    "        f'-Poutput_filename=\"{phase_filename}\" '\n",
    "        f'-c 8192M'\n",
    "    )\n",
    "    os.system(cmd_interferogram)\n",
    "\n",
    "    # Prepare the snaphu export for unwrapping\n",
    "    cmd_snaphu_export = (\n",
    "        f'gpt \"{graph_snaphu_export}\" -Pphase_filename=\"{phase_filename}\" -Poutput_folder_snaphu=\"{tmp_folder}\" '\n",
    "    )\n",
    "    os.system(cmd_snaphu_export)\n",
    "\n",
    "    # Unwrapping with snaphu\n",
    "    snaphu_conf_filename = glob.glob(os.path.join(tmp_folder, '**/snaphu.conf'))[0]\n",
    "    with open(snaphu_conf_filename, 'r') as file:\n",
    "        for line in file:\n",
    "            if line.startswith('#'):\n",
    "                line = line[1:].lstrip()  # Remove the '#' symbol and whitespaces at the beginning\n",
    "                if line.startswith('snaphu'):\n",
    "                    cmd_unwrapping = line.rstrip()\n",
    "                    break\n",
    "    work_dir = os.getcwd()\n",
    "    os.chdir(os.path.dirname(snaphu_conf_filename))\n",
    "    os.system(cmd_unwrapping)\n",
    "    os.chdir(work_dir)\n",
    "\n",
    "    # Geocode the result (interferogram, unwrapped interferogram, coherence)\n",
    "    prm_date, sec_date = [datetime.strptime(date, \"%Y%m%d\") for date in pair.split('_')]\n",
    "    phase_bandname = f'Phase_ifg_{sub_swath}_VV_{prm_date.strftime(\"%d%b%Y\")}_{sec_date.strftime(\"%d%b%Y\")}'\n",
    "    unw_phase_bandname = f'Unw_Phase_ifg_{prm_date.strftime(\"%d%b%Y\")}_{sec_date.strftime(\"%d%b%Y\")}'\n",
    "    coh_bandname = f'coh_{sub_swath}_VV_{prm_date.strftime(\"%d%b%Y\")}_{sec_date.strftime(\"%d%b%Y\")}'\n",
    "    unw_phase_filename = glob.glob(os.path.join(tmp_folder, '**/UnwPhase*.hdr'))[0]\n",
    "    cmd_geocode = (\n",
    "        f'gpt \"{graph_geocode}\" -Pinterferogram_filename=\"{phase_filename}\" -Punw_interferogram_filename=\"{unw_phase_filename}\" '\n",
    "        f'-Pphase_coh_bandnames=\"{phase_bandname},{unw_phase_bandname},{coh_bandname}\" '\n",
    "        f'-Poutput_filename=\"{os.path.join(output_folder, f'geocoded_interferogram_{pair}.tif')}\"'\n",
    "    )\n",
    "    os.system(cmd_geocode)\n",
    "    shutil.rmtree(tmp_folder)\n",
    "    "
   ]
  },
  {
   "cell_type": "code",
   "execution_count": null,
   "id": "9ddf6866-9df8-4809-a039-b062f5e08d42",
   "metadata": {},
   "outputs": [],
   "source": []
  }
 ],
 "metadata": {
  "kernelspec": {
   "display_name": "Python 3 (ipykernel)",
   "language": "python",
   "name": "python3"
  },
  "language_info": {
   "codemirror_mode": {
    "name": "ipython",
    "version": 3
   },
   "file_extension": ".py",
   "mimetype": "text/x-python",
   "name": "python",
   "nbconvert_exporter": "python",
   "pygments_lexer": "ipython3",
   "version": "3.13.3"
  }
 },
 "nbformat": 4,
 "nbformat_minor": 5
}
