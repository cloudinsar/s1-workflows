{
 "cells": [
  {
   "cell_type": "markdown",
   "id": "9d9cdb68-3447-411d-8e2f-49c65385e8d2",
   "metadata": {},
   "source": [
    "# Sentinel-1 SLC preprocessing"
   ]
  },
  {
   "cell_type": "markdown",
   "id": "16510f23-5a8b-453b-b162-8beaf4c10160",
   "metadata": {},
   "source": [
    "This notebook contain an example on how to execute the Sentinel-1 SLC preprocessing on a local machine with SNAP installed. This workflow can produce a stack of coregistered Sentinel-1 SLC bursts"
   ]
  },
  {
   "cell_type": "code",
   "execution_count": 1,
   "id": "aed3f204-a2fe-4821-87cb-da074012a048",
   "metadata": {},
   "outputs": [],
   "source": [
    "import urllib\n",
    "import json\n",
    "from IPython.display import JSON\n",
    "\n",
    "from datetime import datetime\n",
    "\n",
    "import glob\n",
    "import os\n",
    "import subprocess\n",
    "import shutil"
   ]
  },
  {
   "cell_type": "markdown",
   "id": "88a442b0-9f82-4a56-8078-5653b1fa9bc1",
   "metadata": {},
   "source": [
    "## Input definition"
   ]
  },
  {
   "cell_type": "code",
   "execution_count": 2,
   "id": "b2ea580f-8ba6-40e5-ba8c-be31e59b309f",
   "metadata": {},
   "outputs": [],
   "source": [
    "burstId = 249435\n",
    "sub_swath = 'IW2'\n",
    "polarization = 'VV'\n",
    "start_date = '2024-08-01'\n",
    "end_date = '2024-09-30'\n",
    "mst_date = '20240809'"
   ]
  },
  {
   "cell_type": "code",
   "execution_count": 3,
   "id": "d4a9c6f8-2b99-4bfb-90df-6f33a1fc0aee",
   "metadata": {},
   "outputs": [],
   "source": [
    "graph_mst_filename = '../graphs/pre-processing_2images_SaveMst_GeoTiff.xml'\n",
    "graph_slv_filename = '../graphs/pre-processing_2images_SaveOnlySlv_GeoTiff.xml'"
   ]
  },
  {
   "cell_type": "code",
   "execution_count": 4,
   "id": "b7b1cc6c-8e07-43cc-8be0-c0d5763cd5cf",
   "metadata": {},
   "outputs": [
    {
     "name": "stdout",
     "output_type": "stream",
     "text": [
      "output_folder: /home/mcallegari/PROJECT_DATA/ESA_ClouDInSAR/Test/SLC_preprocessing\n"
     ]
    }
   ],
   "source": [
    "if os.path.exists(\"../CDSE_SECRET\"):\n",
    "    with open(\"../CDSE_SECRET\", \"r\") as file:\n",
    "        lines = file.readlines()\n",
    "    CDSE_ACCESS_KEY = lines[0].strip().split(\": \")[1]\n",
    "    CDSE_SECRET_KEY = lines[1].strip().split(\": \")[1]\n",
    "else:\n",
    "    # get from environment vatiables:\n",
    "    CDSE_ACCESS_KEY = os.environ.get(\"AWS_ACCESS_KEY_ID\", None)\n",
    "    CDSE_SECRET_KEY = os.environ.get(\"AWS_SECRET_ACCESS_KEY\", None)\n",
    "\n",
    "\n",
    "output_folder = '/home/mcallegari/PROJECT_DATA/ESA_ClouDInSAR/Test/SLC_preprocessing'\n",
    "if not os.path.exists(output_folder):\n",
    "    output_folder = os.path.abspath(\"output\")\n",
    "print(\"output_folder: \" + str(output_folder))"
   ]
  },
  {
   "cell_type": "markdown",
   "id": "2bd34375-5140-4f10-aef8-5d3766c66050",
   "metadata": {},
   "source": [
    "## Burst download"
   ]
  },
  {
   "cell_type": "code",
   "execution_count": 5,
   "id": "2fa4661c-baa3-4cb2-bdd8-7876824e0fa7",
   "metadata": {},
   "outputs": [
    {
     "data": {
      "application/json": {
       "@odata.context": "$metadata#Bursts",
       "value": [
        {
         "@odata.mediaContentType": "application/octet-stream",
         "AbsoluteBurstId": 118432722,
         "AzimuthAnxTime": 758.9082163259,
         "AzimuthTime": "2024-08-09T17:07:38.369225Z",
         "BeginningDateTime": "2024-08-09T17:07:39.388219Z",
         "BurstId": 249435,
         "ByteOffset": 961160571,
         "ContentDate": {
          "End": "2024-08-09T17:07:40.429808Z",
          "Start": "2024-08-09T17:07:39.388219Z"
         },
         "ContentType": "application/octet-stream",
         "DatatakeID": 440377,
         "EndingDateTime": "2024-08-09T17:07:40.429808Z",
         "Footprint": "geography'SRID=4326;POLYGON ((10.716537 46.607214, 11.318136 46.678586, 11.886991 46.742882, 11.839823 46.935138, 11.269963 46.866635, 10.667332 46.791043, 10.716537 46.607214))'",
         "GeoFootprint": {
          "coordinates": [
           [
            [
             10.716537,
             46.607214
            ],
            [
             11.318136,
             46.678586
            ],
            [
             11.886991,
             46.742882
            ],
            [
             11.839823,
             46.935138
            ],
            [
             11.269963,
             46.866635
            ],
            [
             10.667332,
             46.791043
            ],
            [
             10.716537,
             46.607214
            ]
           ]
          ],
          "type": "Polygon"
         },
         "Id": "79d441c3-c4d8-4fbd-aa92-81994d9b949c",
         "Lines": 9072,
         "LinesPerBurst": 1512,
         "Name": "S1A-SLC-20240809T170739-249435-IW2-VV-440377",
         "OperationalMode": "IW",
         "OrbitDirection": "ASCENDING",
         "ParentProductId": "76f91e85-9cd5-450a-b7f2-a56664cf1596",
         "ParentProductName": "S1A_IW_SLC__1SDV_20240809T170720_20240809T170746_055139_06B839_A6A0.SAFE",
         "ParentProductType": "IW_SLC__1S",
         "PlatformSerialIdentifier": "A",
         "PolarisationChannels": "VV",
         "RelativeOrbitNumber": 117,
         "S3Path": "/eodata/Sentinel-1/SAR/IW_SLC__1S/2024/08/09/S1A_IW_SLC__1SDV_20240809T170720_20240809T170746_055139_06B839_A6A0.SAFE/measurement/s1a-iw2-slc-vv-20240809t170721-20240809t170746-055139-06b839-005.tiff",
         "SamplesPerBurst": 26484,
         "SwathIdentifier": "IW2"
        },
        {
         "@odata.mediaContentType": "application/octet-stream",
         "AbsoluteBurstId": 119184497,
         "AzimuthAnxTime": 758.9118988821999,
         "AzimuthTime": "2024-09-02T17:07:38.896704Z",
         "BeginningDateTime": "2024-09-02T17:07:39.915716Z",
         "BurstId": 249435,
         "ByteOffset": 961160571,
         "ContentDate": {
          "End": "2024-09-02T17:07:40.957305Z",
          "Start": "2024-09-02T17:07:39.915716Z"
         },
         "ContentType": "application/octet-stream",
         "DatatakeID": 443669,
         "EndingDateTime": "2024-09-02T17:07:40.957305Z",
         "Footprint": "geography'SRID=4326;POLYGON ((10.716537 46.607214, 11.318136 46.678586, 11.886991 46.742882, 11.839823 46.935138, 11.269963 46.866635, 10.667332 46.791043, 10.716537 46.607214))'",
         "GeoFootprint": {
          "coordinates": [
           [
            [
             10.716537,
             46.607214
            ],
            [
             11.318136,
             46.678586
            ],
            [
             11.886991,
             46.742882
            ],
            [
             11.839823,
             46.935138
            ],
            [
             11.269963,
             46.866635
            ],
            [
             10.667332,
             46.791043
            ],
            [
             10.716537,
             46.607214
            ]
           ]
          ],
          "type": "Polygon"
         },
         "Id": "ba7b2ef4-7ce9-4b62-9979-0024c64ce1f8",
         "Lines": 9072,
         "LinesPerBurst": 1512,
         "Name": "S1A-SLC-20240902T170739-249435-IW2-VV-443669",
         "OperationalMode": "IW",
         "OrbitDirection": "ASCENDING",
         "ParentProductId": "07c64659-630a-4272-8c8a-9bc2d7480701",
         "ParentProductName": "S1A_IW_SLC__1SDV_20240902T170720_20240902T170747_055489_06C515_EEB7.SAFE",
         "ParentProductType": "IW_SLC__1S",
         "PlatformSerialIdentifier": "A",
         "PolarisationChannels": "VV",
         "RelativeOrbitNumber": 117,
         "S3Path": "/eodata/Sentinel-1/SAR/IW_SLC__1S/2024/09/02/S1A_IW_SLC__1SDV_20240902T170720_20240902T170747_055489_06C515_EEB7.SAFE/measurement/s1a-iw2-slc-vv-20240902t170722-20240902t170747-055489-06c515-005.tiff",
         "SamplesPerBurst": 26484,
         "SwathIdentifier": "IW2"
        },
        {
         "@odata.mediaContentType": "application/octet-stream",
         "AbsoluteBurstId": 119936271,
         "AzimuthAnxTime": 758.8960862133,
         "AzimuthTime": "2024-09-26T17:07:39.546903Z",
         "BeginningDateTime": "2024-09-26T17:07:40.576192Z",
         "BurstId": 249435,
         "ByteOffset": 961160571,
         "ContentDate": {
          "End": "2024-09-26T17:07:41.617781Z",
          "Start": "2024-09-26T17:07:40.576192Z"
         },
         "ContentType": "application/octet-stream",
         "DatatakeID": 447213,
         "EndingDateTime": "2024-09-26T17:07:41.617781Z",
         "Footprint": "geography'SRID=4326;POLYGON ((10.716537 46.607214, 11.318136 46.678586, 11.886991 46.742882, 11.839823 46.935138, 11.269963 46.866635, 10.667332 46.791043, 10.716537 46.607214))'",
         "GeoFootprint": {
          "coordinates": [
           [
            [
             10.716537,
             46.607214
            ],
            [
             11.318136,
             46.678586
            ],
            [
             11.886991,
             46.742882
            ],
            [
             11.839823,
             46.935138
            ],
            [
             11.269963,
             46.866635
            ],
            [
             10.667332,
             46.791043
            ],
            [
             10.716537,
             46.607214
            ]
           ]
          ],
          "type": "Polygon"
         },
         "Id": "e124b208-78d1-4977-a6e5-b6d20a2d0b91",
         "Lines": 9072,
         "LinesPerBurst": 1512,
         "Name": "S1A-SLC-20240926T170740-249435-IW2-VV-447213",
         "OperationalMode": "IW",
         "OrbitDirection": "ASCENDING",
         "ParentProductId": "d3099ddd-ac44-467c-9c26-3242bb9d5721",
         "ParentProductName": "S1A_IW_SLC__1SDV_20240926T170721_20240926T170748_055839_06D2ED_BD8F.SAFE",
         "ParentProductType": "IW_SLC__1S",
         "PlatformSerialIdentifier": "A",
         "PolarisationChannels": "VV",
         "RelativeOrbitNumber": 117,
         "S3Path": "/eodata/Sentinel-1/SAR/IW_SLC__1S/2024/09/26/S1A_IW_SLC__1SDV_20240926T170721_20240926T170748_055839_06D2ED_BD8F.SAFE/measurement/s1a-iw2-slc-vv-20240926t170723-20240926t170748-055839-06d2ed-005.tiff",
         "SamplesPerBurst": 26484,
         "SwathIdentifier": "IW2"
        },
        {
         "@odata.mediaContentType": "application/octet-stream",
         "AbsoluteBurstId": 119560384,
         "AzimuthAnxTime": 758.9064358822,
         "AzimuthTime": "2024-09-14T17:07:39.492507Z",
         "BeginningDateTime": "2024-09-14T17:07:40.507406Z",
         "BurstId": 249435,
         "ByteOffset": 943762395,
         "ContentDate": {
          "End": "2024-09-14T17:07:41.547617Z",
          "Start": "2024-09-14T17:07:40.507406Z"
         },
         "ContentType": "application/octet-stream",
         "DatatakeID": 445439,
         "EndingDateTime": "2024-09-14T17:07:41.547617Z",
         "Footprint": "geography'SRID=4326;POLYGON ((10.716537 46.607214, 11.318136 46.678586, 11.886991 46.742882, 11.839823 46.935138, 11.269963 46.866635, 10.667332 46.791043, 10.716537 46.607214))'",
         "GeoFootprint": {
          "coordinates": [
           [
            [
             10.716537,
             46.607214
            ],
            [
             11.318136,
             46.678586
            ],
            [
             11.886991,
             46.742882
            ],
            [
             11.839823,
             46.935138
            ],
            [
             11.269963,
             46.866635
            ],
            [
             10.667332,
             46.791043
            ],
            [
             10.716537,
             46.607214
            ]
           ]
          ],
          "type": "Polygon"
         },
         "Id": "06b79f15-0b15-4344-b00b-42f9d87138b5",
         "Lines": 9060,
         "LinesPerBurst": 1510,
         "Name": "S1A-SLC-20240914T170740-249435-IW2-VV-445439",
         "OperationalMode": "IW",
         "OrbitDirection": "ASCENDING",
         "ParentProductId": "87e7fe78-78e1-4f24-89f8-b83da7e91f11",
         "ParentProductName": "S1A_IW_SLC__1SDV_20240914T170721_20240914T170748_055664_06CBFF_A704.SAFE",
         "ParentProductType": "IW_SLC__1S",
         "PlatformSerialIdentifier": "A",
         "PolarisationChannels": "VV",
         "RelativeOrbitNumber": 117,
         "S3Path": "/eodata/Sentinel-1/SAR/IW_SLC__1S/2024/09/14/S1A_IW_SLC__1SDV_20240914T170721_20240914T170748_055664_06CBFF_A704.SAFE/measurement/s1a-iw2-slc-vv-20240914t170722-20240914t170748-055664-06cbff-005.tiff",
         "SamplesPerBurst": 26039,
         "SwathIdentifier": "IW2"
        },
        {
         "@odata.mediaContentType": "application/octet-stream",
         "AbsoluteBurstId": 118808609,
         "AzimuthAnxTime": 758.9065603258999,
         "AzimuthTime": "2024-08-21T17:07:38.701763Z",
         "BeginningDateTime": "2024-08-21T17:07:39.722814Z",
         "BurstId": 249435,
         "ByteOffset": 961160571,
         "ContentDate": {
          "End": "2024-08-21T17:07:40.764403Z",
          "Start": "2024-08-21T17:07:39.722814Z"
         },
         "ContentType": "application/octet-stream",
         "DatatakeID": 442005,
         "EndingDateTime": "2024-08-21T17:07:40.764403Z",
         "Footprint": "geography'SRID=4326;POLYGON ((10.716537 46.607214, 11.318136 46.678586, 11.886991 46.742882, 11.839823 46.935138, 11.269963 46.866635, 10.667332 46.791043, 10.716537 46.607214))'",
         "GeoFootprint": {
          "coordinates": [
           [
            [
             10.716537,
             46.607214
            ],
            [
             11.318136,
             46.678586
            ],
            [
             11.886991,
             46.742882
            ],
            [
             11.839823,
             46.935138
            ],
            [
             11.269963,
             46.866635
            ],
            [
             10.667332,
             46.791043
            ],
            [
             10.716537,
             46.607214
            ]
           ]
          ],
          "type": "Polygon"
         },
         "Id": "f5986f95-9a5f-4efa-84eb-29e6f97f950b",
         "Lines": 9072,
         "LinesPerBurst": 1512,
         "Name": "S1A-SLC-20240821T170739-249435-IW2-VV-442005",
         "OperationalMode": "IW",
         "OrbitDirection": "ASCENDING",
         "ParentProductId": "7cdcacc9-388c-4cfa-ad22-1bba0edee787",
         "ParentProductName": "S1A_IW_SLC__1SDV_20240821T170720_20240821T170747_055314_06BE95_CC41.SAFE",
         "ParentProductType": "IW_SLC__1S",
         "PlatformSerialIdentifier": "A",
         "PolarisationChannels": "VV",
         "RelativeOrbitNumber": 117,
         "S3Path": "/eodata/Sentinel-1/SAR/IW_SLC__1S/2024/08/21/S1A_IW_SLC__1SDV_20240821T170720_20240821T170747_055314_06BE95_CC41.SAFE/measurement/s1a-iw2-slc-vv-20240821t170722-20240821t170747-055314-06be95-005.tiff",
         "SamplesPerBurst": 26484,
         "SwathIdentifier": "IW2"
        }
       ]
      },
      "text/plain": [
       "<IPython.core.display.JSON object>"
      ]
     },
     "execution_count": 5,
     "metadata": {
      "application/json": {
       "expanded": false,
       "root": "root"
      }
     },
     "output_type": "execute_result"
    }
   ],
   "source": [
    "https_request = f\"https://catalogue.dataspace.copernicus.eu/odata/v1/Bursts?$filter=\" + urllib.parse.quote(\n",
    "    f\"ContentDate/Start ge {start_date}T00:00:00.000Z and ContentDate/Start le {end_date}T23:59:59.000Z and \"\n",
    "    f\"PolarisationChannels eq '{polarization}' and \"\n",
    "    f\"BurstId eq {burstId} and \"\n",
    "    f\"SwathIdentifier eq '{sub_swath}'\"\n",
    ") + \"&$top=1000\"\n",
    "\n",
    "with urllib.request.urlopen(https_request) as response:\n",
    "    content = response.read().decode()\n",
    "bursts = json.loads(content)\n",
    "JSON(bursts)"
   ]
  },
  {
   "cell_type": "code",
   "execution_count": 6,
   "id": "a0bdbf6d-93d5-46a4-8290-e65f3ba75720",
   "metadata": {},
   "outputs": [
    {
     "name": "stdout",
     "output_type": "stream",
     "text": [
      "Input file size is 26484, 1512\n",
      "0...10...20...30...40...50...60...70...80...90...100 - done.\n",
      "Input file size is 26484, 1512\n",
      "0...10...20...30...40...50...60...70...80...90...100 - done.\n",
      "Input file size is 26484, 1512\n",
      "0...10...20...30...40...50...60...70...80...90...100 - done.\n",
      "Input file size is 26039, 1510\n",
      "0...10...20...30...40...50...60...70...80...90...100 - done.\n",
      "Input file size is 26484, 1512\n",
      "0...10...20...30...40...50...60...70...80...90...100 - done.\n"
     ]
    }
   ],
   "source": [
    "for b in bursts['value']:\n",
    "    \n",
    "    burst_extract_cmd = (\n",
    "        f\"docker run -v {output_folder}:/home/ubuntu \"\n",
    "        f\"-e AWS_ACCESS_KEY_ID={CDSE_ACCESS_KEY} -e AWS_SECRET_ACCESS_KEY={CDSE_SECRET_KEY} \"\n",
    "        f\"cdse_utilities sentinel1_burst_extractor.sh -o /home/ubuntu \"\n",
    "        f\"-n {b['ParentProductName']} -p {polarization.lower()} -s {sub_swath.lower()} -r {burstId}\"\n",
    "    )\n",
    "\n",
    "    #print(burst_extract_cmd)\n",
    "    os.system(burst_extract_cmd)"
   ]
  },
  {
   "cell_type": "markdown",
   "id": "4e3e06a0-114d-4d75-bad9-ebaeddee7991",
   "metadata": {},
   "source": [
    "## Sentinel-1 SLC preprocessing"
   ]
  },
  {
   "cell_type": "markdown",
   "id": "3b815ed9-5c81-447b-bf72-a0a615cd3ffc",
   "metadata": {},
   "source": [
    "Input preparation"
   ]
  },
  {
   "cell_type": "code",
   "execution_count": 7,
   "id": "3023081c-84c7-4b64-ba7d-1efa3008f629",
   "metadata": {},
   "outputs": [],
   "source": [
    "mst_filename = glob.glob(os.path.join(output_folder, f'*{mst_date}*', 'manifest.safe'))[0]\n",
    "\n",
    "slv_filename_list = glob.glob(os.path.join(output_folder, f'*SAFE', 'manifest.safe'))\n",
    "slv_filename_list.remove(mst_filename)"
   ]
  },
  {
   "cell_type": "markdown",
   "id": "09c15542-edf5-44bf-82df-a3fbb40c4ffa",
   "metadata": {},
   "source": [
    "Run the first preprocessing saving the master with the associated lat/lon grid"
   ]
  },
  {
   "cell_type": "code",
   "execution_count": 8,
   "id": "861de92e-eff8-49c7-896e-6e3011863a04",
   "metadata": {},
   "outputs": [
    {
     "name": "stdout",
     "output_type": "stream",
     "text": [
      "gpt \"../graphs/pre-processing_2images_SaveMst_GeoTiff.xml\" -Pmst_filename=\"/home/mcallegari/PROJECT_DATA/ESA_ClouDInSAR/Test/SLC_preprocessing/S1A_SLC_20240809T170739_249435_IW2_VV_440377.SAFE/manifest.safe\" -Pslv_filename=\"/home/mcallegari/PROJECT_DATA/ESA_ClouDInSAR/Test/SLC_preprocessing/S1A_SLC_20240821T170739_249435_IW2_VV_442005.SAFE/manifest.safe\" -Pi_q_mst_bandnames=\"i_IW2_VV_mst_09Aug2024,q_IW2_VV_mst_09Aug2024\" -Pi_q_slv_bandnames=\"i_IW2_VV_slv1_21Aug2024,q_IW2_VV_slv1_21Aug2024\" -Poutput_mst_filename=\"/home/mcallegari/PROJECT_DATA/ESA_ClouDInSAR/Test/SLC_preprocessing/S1_slc_20240809.tif\" -Poutput_slv_filename=\"/home/mcallegari/PROJECT_DATA/ESA_ClouDInSAR/Test/SLC_preprocessing/S1_slc_20240821.tif\" -Ppolarisation=\"VV\"\n"
     ]
    },
    {
     "name": "stderr",
     "output_type": "stream",
     "text": [
      "INFO: org.esa.snap.core.gpf.operators.tooladapter.ToolAdapterIO: Initializing external tool adapters\n",
      "INFO: org.esa.snap.core.util.EngineVersionCheckActivator: Please check regularly for new updates for the best SNAP experience.\n"
     ]
    },
    {
     "name": "stdout",
     "output_type": "stream",
     "text": [
      "Executing processing graph\n"
     ]
    },
    {
     "name": "stderr",
     "output_type": "stream",
     "text": [
      "1383 [main] INFO hdf.hdflib.HDFLibrary - HDF4 library: \n",
      "1384 [main] INFO hdf.hdflib.HDFLibrary -  successfully loaded.\n",
      "1387 [main] INFO hdf.hdf5lib.H5 - HDF5 library: \n",
      "1387 [main] INFO hdf.hdf5lib.H5 -  successfully loaded.\n",
      "INFO: eu.esa.sar.commons.io.ImageIOFile: Using FileCacheImageInputStream\n"
     ]
    },
    {
     "name": "stdout",
     "output_type": "stream",
     "text": [
      "....10%....20%....30%....40%....50%....60%....70%....80%....90% done.\n"
     ]
    },
    {
     "name": "stderr",
     "output_type": "stream",
     "text": [
      "-- org.jblas INFO Deleting /tmp/jblas2117985447933282453/libjblas_arch_flavor.so\n",
      "-- org.jblas INFO Deleting /tmp/jblas2117985447933282453/libjblas.so\n",
      "-- org.jblas INFO Deleting /tmp/jblas2117985447933282453/libgfortran-5.so\n",
      "-- org.jblas INFO Deleting /tmp/jblas2117985447933282453/libquadmath-0.so\n",
      "-- org.jblas INFO Deleting /tmp/jblas2117985447933282453\n"
     ]
    },
    {
     "data": {
      "text/plain": [
       "0"
      ]
     },
     "execution_count": 8,
     "metadata": {},
     "output_type": "execute_result"
    }
   ],
   "source": [
    "mst_bandname = f'{sub_swath}_VV_mst_{datetime.strptime(mst_date, \"%Y%m%d\").strftime(\"%d%b%Y\")}'\n",
    "\n",
    "slv_filename = slv_filename_list[0]\n",
    "slv_date = os.path.basename(os.path.dirname(slv_filename)).split('_')[2][:8]\n",
    "slv_bandname = f'{sub_swath}_VV_slv1_{datetime.strptime(slv_date, \"%Y%m%d\").strftime(\"%d%b%Y\")}'\n",
    "\n",
    "output_mst_filename = os.path.join(output_folder, f'S1_slc_{mst_date}.tif')\n",
    "output_slv_filename = os.path.join(output_folder, f'S1_slc_{slv_date}.tif')\n",
    "\n",
    "cmd = (\n",
    "    f'gpt \"{graph_mst_filename}\" -Pmst_filename=\"{mst_filename}\" -Pslv_filename=\"{slv_filename}\" '\n",
    "    f'-Pi_q_mst_bandnames=\"i_{mst_bandname},q_{mst_bandname}\" '\n",
    "    f'-Pi_q_slv_bandnames=\"i_{slv_bandname},q_{slv_bandname}\" '\n",
    "    f'-Poutput_mst_filename=\"{output_mst_filename}\" -Poutput_slv_filename=\"{output_slv_filename}\" -Ppolarisation=\"VV\"'\n",
    ")\n",
    "\n",
    "print(cmd)\n",
    "os.system(cmd)"
   ]
  },
  {
   "cell_type": "markdown",
   "id": "4fae5ed3-447b-49d7-bdf9-0c97052c8d4a",
   "metadata": {},
   "source": [
    "Run the preprocessing for the remaining slave images"
   ]
  },
  {
   "cell_type": "code",
   "execution_count": 9,
   "id": "eacd5c3f-ff12-4a97-ab67-950a98c45c8d",
   "metadata": {},
   "outputs": [
    {
     "name": "stdout",
     "output_type": "stream",
     "text": [
      "gpt \"../graphs/pre-processing_2images_SaveOnlySlv_GeoTiff.xml\" -Pmst_filename=\"/home/mcallegari/PROJECT_DATA/ESA_ClouDInSAR/Test/SLC_preprocessing/S1A_SLC_20240809T170739_249435_IW2_VV_440377.SAFE/manifest.safe\" -Pslv_filename=\"/home/mcallegari/PROJECT_DATA/ESA_ClouDInSAR/Test/SLC_preprocessing/S1A_SLC_20240914T170740_249435_IW2_VV_445439.SAFE/manifest.safe\" -Pi_q_slv_bandnames=\"i_IW2_VV_slv1_14Sep2024,q_IW2_VV_slv1_14Sep2024\" -Poutput_slv_filename=\"/home/mcallegari/PROJECT_DATA/ESA_ClouDInSAR/Test/SLC_preprocessing/S1_slc_20240914.tif\" -Ppolarisation=\"VV\"\n"
     ]
    },
    {
     "name": "stderr",
     "output_type": "stream",
     "text": [
      "INFO: org.esa.snap.core.gpf.operators.tooladapter.ToolAdapterIO: Initializing external tool adapters\n",
      "INFO: org.esa.snap.core.util.EngineVersionCheckActivator: Please check regularly for new updates for the best SNAP experience.\n"
     ]
    },
    {
     "name": "stdout",
     "output_type": "stream",
     "text": [
      "Executing processing graph\n"
     ]
    },
    {
     "name": "stderr",
     "output_type": "stream",
     "text": [
      "1769 [main] INFO hdf.hdflib.HDFLibrary - HDF4 library: \n",
      "1769 [main] INFO hdf.hdflib.HDFLibrary -  successfully loaded.\n",
      "1774 [main] INFO hdf.hdf5lib.H5 - HDF5 library: \n",
      "1774 [main] INFO hdf.hdf5lib.H5 -  successfully loaded.\n",
      "INFO: eu.esa.sar.commons.io.ImageIOFile: Using FileCacheImageInputStream\n"
     ]
    },
    {
     "name": "stdout",
     "output_type": "stream",
     "text": [
      "....10%....20%....30%....40%....50%....60%....70%....80%....90% done.\n"
     ]
    },
    {
     "name": "stderr",
     "output_type": "stream",
     "text": [
      "-- org.jblas INFO Deleting /tmp/jblas16348386651142268960/libjblas_arch_flavor.so\n",
      "-- org.jblas INFO Deleting /tmp/jblas16348386651142268960/libjblas.so\n",
      "-- org.jblas INFO Deleting /tmp/jblas16348386651142268960/libgfortran-5.so\n",
      "-- org.jblas INFO Deleting /tmp/jblas16348386651142268960/libquadmath-0.so\n",
      "-- org.jblas INFO Deleting /tmp/jblas16348386651142268960\n"
     ]
    },
    {
     "name": "stdout",
     "output_type": "stream",
     "text": [
      "gpt \"../graphs/pre-processing_2images_SaveOnlySlv_GeoTiff.xml\" -Pmst_filename=\"/home/mcallegari/PROJECT_DATA/ESA_ClouDInSAR/Test/SLC_preprocessing/S1A_SLC_20240809T170739_249435_IW2_VV_440377.SAFE/manifest.safe\" -Pslv_filename=\"/home/mcallegari/PROJECT_DATA/ESA_ClouDInSAR/Test/SLC_preprocessing/S1A_SLC_20240926T170740_249435_IW2_VV_447213.SAFE/manifest.safe\" -Pi_q_slv_bandnames=\"i_IW2_VV_slv1_26Sep2024,q_IW2_VV_slv1_26Sep2024\" -Poutput_slv_filename=\"/home/mcallegari/PROJECT_DATA/ESA_ClouDInSAR/Test/SLC_preprocessing/S1_slc_20240926.tif\" -Ppolarisation=\"VV\"\n"
     ]
    },
    {
     "name": "stderr",
     "output_type": "stream",
     "text": [
      "INFO: org.esa.snap.core.gpf.operators.tooladapter.ToolAdapterIO: Initializing external tool adapters\n",
      "INFO: org.esa.snap.core.util.EngineVersionCheckActivator: Please check regularly for new updates for the best SNAP experience.\n"
     ]
    },
    {
     "name": "stdout",
     "output_type": "stream",
     "text": [
      "Executing processing graph\n"
     ]
    },
    {
     "name": "stderr",
     "output_type": "stream",
     "text": [
      "1296 [main] INFO hdf.hdflib.HDFLibrary - HDF4 library: \n",
      "1296 [main] INFO hdf.hdflib.HDFLibrary -  successfully loaded.\n",
      "1300 [main] INFO hdf.hdf5lib.H5 - HDF5 library: \n",
      "1300 [main] INFO hdf.hdf5lib.H5 -  successfully loaded.\n",
      "INFO: eu.esa.sar.commons.io.ImageIOFile: Using FileCacheImageInputStream\n"
     ]
    },
    {
     "name": "stdout",
     "output_type": "stream",
     "text": [
      "....10%....20%....30%....40%....50%....60%....70%....80%....90% done.\n"
     ]
    },
    {
     "name": "stderr",
     "output_type": "stream",
     "text": [
      "-- org.jblas INFO Deleting /tmp/jblas9049504099930197883/libjblas_arch_flavor.so\n",
      "-- org.jblas INFO Deleting /tmp/jblas9049504099930197883/libjblas.so\n",
      "-- org.jblas INFO Deleting /tmp/jblas9049504099930197883/libgfortran-5.so\n",
      "-- org.jblas INFO Deleting /tmp/jblas9049504099930197883/libquadmath-0.so\n",
      "-- org.jblas INFO Deleting /tmp/jblas9049504099930197883\n"
     ]
    },
    {
     "name": "stdout",
     "output_type": "stream",
     "text": [
      "gpt \"../graphs/pre-processing_2images_SaveOnlySlv_GeoTiff.xml\" -Pmst_filename=\"/home/mcallegari/PROJECT_DATA/ESA_ClouDInSAR/Test/SLC_preprocessing/S1A_SLC_20240809T170739_249435_IW2_VV_440377.SAFE/manifest.safe\" -Pslv_filename=\"/home/mcallegari/PROJECT_DATA/ESA_ClouDInSAR/Test/SLC_preprocessing/S1A_SLC_20240902T170739_249435_IW2_VV_443669.SAFE/manifest.safe\" -Pi_q_slv_bandnames=\"i_IW2_VV_slv1_02Sep2024,q_IW2_VV_slv1_02Sep2024\" -Poutput_slv_filename=\"/home/mcallegari/PROJECT_DATA/ESA_ClouDInSAR/Test/SLC_preprocessing/S1_slc_20240902.tif\" -Ppolarisation=\"VV\"\n"
     ]
    },
    {
     "name": "stderr",
     "output_type": "stream",
     "text": [
      "INFO: org.esa.snap.core.gpf.operators.tooladapter.ToolAdapterIO: Initializing external tool adapters\n",
      "INFO: org.esa.snap.core.util.EngineVersionCheckActivator: Please check regularly for new updates for the best SNAP experience.\n"
     ]
    },
    {
     "name": "stdout",
     "output_type": "stream",
     "text": [
      "Executing processing graph\n"
     ]
    },
    {
     "name": "stderr",
     "output_type": "stream",
     "text": [
      "1143 [main] INFO hdf.hdflib.HDFLibrary - HDF4 library: \n",
      "1143 [main] INFO hdf.hdflib.HDFLibrary -  successfully loaded.\n",
      "1146 [main] INFO hdf.hdf5lib.H5 - HDF5 library: \n",
      "1146 [main] INFO hdf.hdf5lib.H5 -  successfully loaded.\n"
     ]
    },
    {
     "name": "stdout",
     "output_type": "stream",
     "text": [
      "....10%....20%....30%....40%....50%....60%....70%....80%....90% done.\n"
     ]
    },
    {
     "name": "stderr",
     "output_type": "stream",
     "text": [
      "-- org.jblas INFO Deleting /tmp/jblas1759550498567934752/libjblas_arch_flavor.so\n",
      "-- org.jblas INFO Deleting /tmp/jblas1759550498567934752/libjblas.so\n",
      "-- org.jblas INFO Deleting /tmp/jblas1759550498567934752/libgfortran-5.so\n",
      "-- org.jblas INFO Deleting /tmp/jblas1759550498567934752/libquadmath-0.so\n",
      "-- org.jblas INFO Deleting /tmp/jblas1759550498567934752\n"
     ]
    }
   ],
   "source": [
    "for slv_filename in slv_filename_list[1:]:\n",
    "\n",
    "    slv_date = os.path.basename(os.path.dirname(slv_filename)).split('_')[2][:8]\n",
    "    slv_bandname = f'{sub_swath}_VV_slv1_{datetime.strptime(slv_date, \"%Y%m%d\").strftime(\"%d%b%Y\")}'\n",
    "    output_slv_filename = os.path.join(output_folder, f'S1_slc_{slv_date}.tif')\n",
    "\n",
    "    cmd = (\n",
    "        f'gpt \"{graph_slv_filename}\" -Pmst_filename=\"{mst_filename}\" -Pslv_filename=\"{slv_filename}\" '\n",
    "        f'-Pi_q_slv_bandnames=\"i_{slv_bandname},q_{slv_bandname}\" '\n",
    "        f'-Poutput_slv_filename=\"{output_slv_filename}\" -Ppolarisation=\"VV\"'\n",
    "    )\n",
    "    \n",
    "    print(cmd)\n",
    "    os.system(cmd)"
   ]
  },
  {
   "cell_type": "code",
   "execution_count": null,
   "id": "804abfdc-cbea-4f3b-9938-be8481bfc650",
   "metadata": {},
   "outputs": [],
   "source": []
  }
 ],
 "metadata": {
  "kernelspec": {
   "display_name": "Python 3 (ipykernel)",
   "language": "python",
   "name": "python3"
  },
  "language_info": {
   "codemirror_mode": {
    "name": "ipython",
    "version": 3
   },
   "file_extension": ".py",
   "mimetype": "text/x-python",
   "name": "python",
   "nbconvert_exporter": "python",
   "pygments_lexer": "ipython3",
   "version": "3.13.3"
  }
 },
 "nbformat": 4,
 "nbformat_minor": 5
}
