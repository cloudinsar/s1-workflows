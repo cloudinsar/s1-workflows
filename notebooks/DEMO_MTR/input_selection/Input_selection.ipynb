{
 "cells": [
  {
   "cell_type": "markdown",
   "id": "5e2a512e-491f-44e7-8ac6-a8d190182b6f",
   "metadata": {},
   "source": [
    "# ESA ClouDInSAR - InSAR Workflow Input Selection"
   ]
  },
  {
   "cell_type": "markdown",
   "id": "c0226e09-6fb2-4ce9-834f-49cb64c2d033",
   "metadata": {},
   "source": [
    "## 1. Setup"
   ]
  },
  {
   "cell_type": "markdown",
   "id": "33756111-7bbb-4cee-95d5-b8b580b2f859",
   "metadata": {},
   "source": [
    "Open the python notebook in CDSE JupyterLab and select the `esa-snap` kernel. Then install some additional needed libraries:"
   ]
  },
  {
   "cell_type": "code",
   "execution_count": 1,
   "id": "da20df10-1caa-4d18-934e-7a8fd9811898",
   "metadata": {},
   "outputs": [
    {
     "name": "stdout",
     "output_type": "stream",
     "text": [
      "Requirement already satisfied: shapely in /opt/conda/envs/esa-snap/lib/python3.12/site-packages (2.1.1)\n",
      "Requirement already satisfied: folium in /opt/conda/envs/esa-snap/lib/python3.12/site-packages (0.20.0)\n",
      "Requirement already satisfied: numpy>=1.21 in /opt/conda/envs/esa-snap/lib/python3.12/site-packages (from shapely) (2.3.0)\n",
      "Requirement already satisfied: branca>=0.6.0 in /opt/conda/envs/esa-snap/lib/python3.12/site-packages (from folium) (0.8.1)\n",
      "Requirement already satisfied: jinja2>=2.9 in /opt/conda/envs/esa-snap/lib/python3.12/site-packages (from folium) (3.1.6)\n",
      "Requirement already satisfied: requests in /opt/conda/envs/esa-snap/lib/python3.12/site-packages (from folium) (2.32.4)\n",
      "Requirement already satisfied: xyzservices in /opt/conda/envs/esa-snap/lib/python3.12/site-packages (from folium) (2025.4.0)\n",
      "Requirement already satisfied: MarkupSafe>=2.0 in /opt/conda/envs/esa-snap/lib/python3.12/site-packages (from jinja2>=2.9->folium) (3.0.2)\n",
      "Requirement already satisfied: charset_normalizer<4,>=2 in /opt/conda/envs/esa-snap/lib/python3.12/site-packages (from requests->folium) (3.4.2)\n",
      "Requirement already satisfied: idna<4,>=2.5 in /opt/conda/envs/esa-snap/lib/python3.12/site-packages (from requests->folium) (3.10)\n",
      "Requirement already satisfied: urllib3<3,>=1.21.1 in /opt/conda/envs/esa-snap/lib/python3.12/site-packages (from requests->folium) (2.4.0)\n",
      "Requirement already satisfied: certifi>=2017.4.17 in /opt/conda/envs/esa-snap/lib/python3.12/site-packages (from requests->folium) (2025.4.26)\n",
      "Note: you may need to restart the kernel to use updated packages.\n"
     ]
    }
   ],
   "source": [
    "pip install shapely folium"
   ]
  },
  {
   "cell_type": "markdown",
   "id": "399d25d8-5232-4a58-a107-f88ca186a8ca",
   "metadata": {},
   "source": [
    "## 2. Import the s1_burst_lib python module"
   ]
  },
  {
   "cell_type": "code",
   "execution_count": 1,
   "id": "407c77cb-ad21-4b94-bdfa-0f0f94513963",
   "metadata": {},
   "outputs": [
    {
     "name": "stderr",
     "output_type": "stream",
     "text": [
      "Error while parsing JAI registry file \"file:/home/mcallegari/esa_snap/snap/modules/ext/org.esa.snap.snap-gpf/org-jaitools/jt-vectorize.jar!/META-INF/registryFile.jai\" :\n",
      "Error in registry file at line number #4\n",
      "A descriptor is already registered against the name \"Vectorize\" under registry mode \"rendered\"\n",
      "Error while parsing JAI registry file \"file:/home/mcallegari/esa_snap/snap/modules/ext/org.esa.snap.snap-core/org-geotools/gt-coverage.jar!/META-INF/registryFile.jai\" :\n",
      "Error in registry file at line number #31\n",
      "A descriptor is already registered against the name \"org.geotools.ColorReduction\" under registry mode \"rendered\"\n",
      "Error in registry file at line number #32\n",
      "A descriptor is already registered against the name \"org.geotools.ColorInversion\" under registry mode \"rendered\"\n",
      "Error while parsing JAI registry file \"file:/home/mcallegari/esa_snap/snap/modules/ext/org.esa.snap.snap-core/org-jaitools/jt-zonalstats.jar!/META-INF/registryFile.jai\" :\n",
      "Error in registry file at line number #4\n",
      "A descriptor is already registered against the name \"ZonalStats\" under registry mode \"rendered\"\n",
      "SLF4J: Class path contains multiple SLF4J bindings.\n",
      "SLF4J: Found binding in [jar:file:/home/mcallegari/esa_snap/snap/modules/org.esa.snap.snap-netcdf/org-slf4j/slf4j-simple.jar!/org/slf4j/impl/StaticLoggerBinder.class]\n",
      "SLF4J: Found binding in [jar:file:/home/mcallegari/esa_snap/snap/modules/ext/org.esa.snap.snap-netcdf/org-slf4j/slf4j-simple.jar!/org/slf4j/impl/StaticLoggerBinder.class]\n",
      "SLF4J: See http://www.slf4j.org/codes.html#multiple_bindings for an explanation.\n",
      "SLF4J: Actual binding is of type [org.slf4j.impl.SimpleLoggerFactory]\n",
      "INFO: org.esa.snap.core.gpf.operators.tooladapter.ToolAdapterIO: Initializing external tool adapters\n",
      "INFO: org.esa.snap.core.util.EngineVersionCheckActivator: Please check regularly for new updates for the best SNAP experience.\n"
     ]
    }
   ],
   "source": [
    "import s1_burst_lib\n",
    "from IPython.display import JSON"
   ]
  },
  {
   "cell_type": "markdown",
   "id": "e68b062e-f332-4638-9c4c-319e5e95d907",
   "metadata": {},
   "source": [
    "## 3. Input definition"
   ]
  },
  {
   "cell_type": "markdown",
   "id": "b63c97bf-3680-4b4c-9209-ca3d291d8e96",
   "metadata": {},
   "source": [
    "Set the temporal range of interest, polarization and area of interest as WKT"
   ]
  },
  {
   "cell_type": "code",
   "execution_count": 2,
   "id": "7bdc23ba-cbd0-4021-9809-1d2606cdb1ca",
   "metadata": {
    "tags": []
   },
   "outputs": [],
   "source": [
    "start_date = \"2024-01-01\"\n",
    "end_date = \"2024-12-31\"\n",
    "\n",
    "aoi = \"POLYGON ((11.28 46.47, 11.28 46.52, 11.44 46.52, 11.44 46.47, 11.28 46.47))\" # e.g. 'POLYGON ((11.28 46.47, 11.28 46.52, 11.44 46.52, 11.44 46.47, 11.28 46.47))'\n",
    "\n",
    "pol = \"VV\""
   ]
  },
  {
   "cell_type": "markdown",
   "id": "06bf1133-e7bd-45d3-8f33-d3ef58c0d5e4",
   "metadata": {},
   "source": [
    "## 4. Select burst ID and subswath ID"
   ]
  },
  {
   "cell_type": "markdown",
   "id": "5eec519a-e123-429d-bc1b-fa37cceacaf5",
   "metadata": {},
   "source": [
    "Retrieve the Sentinel-1 bursts"
   ]
  },
  {
   "cell_type": "code",
   "execution_count": 3,
   "id": "5ea3fafe-19a1-4118-8625-b6fcaaecd98f",
   "metadata": {},
   "outputs": [],
   "source": [
    "s1_bursts = s1_burst_lib.retrieve_bursts(start_date, end_date, pol, aoi)"
   ]
  },
  {
   "cell_type": "code",
   "execution_count": 4,
   "id": "7da21158-6fcd-4cc1-bf95-a2dc38290664",
   "metadata": {},
   "outputs": [
    {
     "data": {
      "application/json": {
       "@odata.context": "$metadata#Bursts",
       "value": [
        {
         "@odata.mediaContentType": "application/octet-stream",
         "AbsoluteBurstId": 111995905,
         "AzimuthAnxTime": 2200.7828008788,
         "AzimuthTime": "2024-01-17T05:19:21.199670Z",
         "BeginningDateTime": "2024-01-17T05:19:22.342784Z",
         "BurstId": 202703,
         "ByteOffset": 1256856515,
         "ContentDate": {
          "End": "2024-01-17T05:19:23.247389Z",
          "Start": "2024-01-17T05:19:22.342784Z"
         },
         "ContentType": "application/octet-stream",
         "DatatakeID": 413042,
         "EndingDateTime": "2024-01-17T05:19:23.247389Z",
         "Footprint": "geography'SRID=4326;POLYGON ((12.089482 46.634916, 11.563369 46.69639, 11.056374 46.753309, 11.010245 46.548522, 11.516373 46.496209, 12.041638 46.439349, 12.089482 46.634916))'",
         "GeoFootprint": {
          "coordinates": [
           [
            [
             12.089482,
             46.634916
            ],
            [
             11.563369,
             46.69639
            ],
            [
             11.056374,
             46.753309
            ],
            [
             11.010245,
             46.548522
            ],
            [
             11.516373,
             46.496209
            ],
            [
             12.041638,
             46.439349
            ],
            [
             12.089482,
             46.634916
            ]
           ]
          ],
          "type": "Polygon"
         },
         "Id": "b2fdff82-bddb-4831-87c2-ab78fa2f8504",
         "Lines": 12200,
         "LinesPerBurst": 1525,
         "Name": "S1A-SLC-20240117T051922-202703-IW3-VV-413042",
         "OperationalMode": "IW",
         "OrbitDirection": "DESCENDING",
         "ParentProductId": "e987f2e0-f3f7-46dc-acdb-9b429bb3520a",
         "ParentProductName": "S1A_IW_SLC__1SDV_20240117T051858_20240117T051925_052142_064D72_117D.SAFE",
         "ParentProductType": "IW_SLC__1S",
         "PlatformSerialIdentifier": "A",
         "PolarisationChannels": "VV",
         "RelativeOrbitNumber": 95,
         "S3Path": "/eodata/Sentinel-1/SAR/IW_SLC__1S/2024/01/17/S1A_IW_SLC__1SDV_20240117T051858_20240117T051925_052142_064D72_117D.SAFE/measurement/s1a-iw3-slc-vv-20240117t051859-20240117t051924-052142-064d72-006.tiff",
         "SamplesPerBurst": 25753,
         "SwathIdentifier": "IW3"
        },
        {
         "@odata.mediaContentType": "application/octet-stream",
         "AbsoluteBurstId": 111620017,
         "AzimuthAnxTime": 2200.7742954351,
         "AzimuthTime": "2024-01-05T05:19:22.201054Z",
         "BeginningDateTime": "2024-01-05T05:19:23.342113Z",
         "BurstId": 202703,
         "ByteOffset": 1256856515,
         "ContentDate": {
          "End": "2024-01-05T05:19:24.246718Z",
          "Start": "2024-01-05T05:19:23.342113Z"
         },
         "ContentType": "application/octet-stream",
         "DatatakeID": 411524,
         "EndingDateTime": "2024-01-05T05:19:24.246718Z",
         "Footprint": "geography'SRID=4326;POLYGON ((12.089482 46.634916, 11.563369 46.69639, 11.056374 46.753309, 11.010245 46.548522, 11.516373 46.496209, 12.041638 46.439349, 12.089482 46.634916))'",
         "GeoFootprint": {
          "coordinates": [
           [
            [
             12.089482,
             46.634916
            ],
            [
             11.563369,
             46.69639
            ],
            [
             11.056374,
             46.753309
            ],
            [
             11.010245,
             46.548522
            ],
            [
             11.516373,
             46.496209
            ],
            [
             12.041638,
             46.439349
            ],
            [
             12.089482,
             46.634916
            ]
           ]
          ],
          "type": "Polygon"
         },
         "Id": "356d29f3-6f6b-4ce0-9ab4-7a9399c0ce57",
         "Lines": 12200,
         "LinesPerBurst": 1525,
         "Name": "S1A-SLC-20240105T051923-202703-IW3-VV-411524",
         "OperationalMode": "IW",
         "OrbitDirection": "DESCENDING",
         "ParentProductId": "b260e98a-7421-4d1b-9934-acfe33fbdf63",
         "ParentProductName": "S1A_IW_SLC__1SDV_20240105T051859_20240105T051926_051967_064784_6E16.SAFE",
         "ParentProductType": "IW_SLC__1S",
         "PlatformSerialIdentifier": "A",
         "PolarisationChannels": "VV",
         "RelativeOrbitNumber": 95,
         "S3Path": "/eodata/Sentinel-1/SAR/IW_SLC__1S/2024/01/05/S1A_IW_SLC__1SDV_20240105T051859_20240105T051926_051967_064784_6E16.SAFE/measurement/s1a-iw3-slc-vv-20240105t051900-20240105t051925-051967-064784-006.tiff",
         "SamplesPerBurst": 25753,
         "SwathIdentifier": "IW3"
        },
        {
         "@odata.mediaContentType": "application/octet-stream",
         "AbsoluteBurstId": 112747680,
         "AzimuthAnxTime": 2200.7852009914,
         "AzimuthTime": "2024-02-10T05:19:20.726854Z",
         "BeginningDateTime": "2024-02-10T05:19:21.859691Z",
         "BurstId": 202703,
         "ByteOffset": 1256856515,
         "ContentDate": {
          "End": "2024-02-10T05:19:22.764296Z",
          "Start": "2024-02-10T05:19:21.859691Z"
         },
         "ContentType": "application/octet-stream",
         "DatatakeID": 416062,
         "EndingDateTime": "2024-02-10T05:19:22.764296Z",
         "Footprint": "geography'SRID=4326;POLYGON ((12.089482 46.634916, 11.563369 46.69639, 11.056374 46.753309, 11.010245 46.548522, 11.516373 46.496209, 12.041638 46.439349, 12.089482 46.634916))'",
         "GeoFootprint": {
          "coordinates": [
           [
            [
             12.089482,
             46.634916
            ],
            [
             11.563369,
             46.69639
            ],
            [
             11.056374,
             46.753309
            ],
            [
             11.010245,
             46.548522
            ],
            [
             11.516373,
             46.496209
            ],
            [
             12.041638,
             46.439349
            ],
            [
             12.089482,
             46.634916
            ]
           ]
          ],
          "type": "Polygon"
         },
         "Id": "54f596a2-41b6-4837-8275-d08b1d1bb8f2",
         "Lines": 12200,
         "LinesPerBurst": 1525,
         "Name": "S1A-SLC-20240210T051921-202703-IW3-VV-416062",
         "OperationalMode": "IW",
         "OrbitDirection": "DESCENDING",
         "ParentProductId": "4287c4fc-4f7b-4cca-a78b-3bbfdc6ba1bb",
         "ParentProductName": "S1A_IW_SLC__1SDV_20240210T051857_20240210T051924_052492_06593E_2ACF.SAFE",
         "ParentProductType": "IW_SLC__1S",
         "PlatformSerialIdentifier": "A",
         "PolarisationChannels": "VV",
         "RelativeOrbitNumber": 95,
         "S3Path": "/eodata/Sentinel-1/SAR/IW_SLC__1S/2024/02/10/S1A_IW_SLC__1SDV_20240210T051857_20240210T051924_052492_06593E_2ACF.SAFE/measurement/s1a-iw3-slc-vv-20240210t051858-20240210t051923-052492-06593e-006.tiff",
         "SamplesPerBurst": 25753,
         "SwathIdentifier": "IW3"
        },
        {
         "@odata.mediaContentType": "application/octet-stream",
         "AbsoluteBurstId": 113875342,
         "AzimuthAnxTime": 2200.7433968788,
         "AzimuthTime": "2024-03-17T05:19:21.066939Z",
         "BeginningDateTime": "2024-03-17T05:19:22.226497Z",
         "BurstId": 202703,
         "ByteOffset": 1256856515,
         "ContentDate": {
          "End": "2024-03-17T05:19:23.131102Z",
          "Start": "2024-03-17T05:19:22.226497Z"
         },
         "ContentType": "application/octet-stream",
         "DatatakeID": 420678,
         "EndingDateTime": "2024-03-17T05:19:23.131102Z",
         "Footprint": "geography'SRID=4326;POLYGON ((12.089482 46.634916, 11.563369 46.69639, 11.056374 46.753309, 11.010245 46.548522, 11.516373 46.496209, 12.041638 46.439349, 12.089482 46.634916))'",
         "GeoFootprint": {
          "coordinates": [
           [
            [
             12.089482,
             46.634916
            ],
            [
             11.563369,
             46.69639
            ],
            [
             11.056374,
             46.753309
            ],
            [
             11.010245,
             46.548522
            ],
            [
             11.516373,
             46.496209
            ],
            [
             12.041638,
             46.439349
            ],
            [
             12.089482,
             46.634916
            ]
           ]
          ],
          "type": "Polygon"
         },
         "Id": "1a06b608-6c1e-474a-a425-8b17e09a7819",
         "Lines": 12200,
         "LinesPerBurst": 1525,
         "Name": "S1A-SLC-20240317T051922-202703-IW3-VV-420678",
         "OperationalMode": "IW",
         "OrbitDirection": "DESCENDING",
         "ParentProductId": "6cfe0401-998a-4bd7-b6a5-16988c081f3b",
         "ParentProductName": "S1A_IW_SLC__1SDV_20240317T051858_20240317T051925_053017_066B46_C173.SAFE",
         "ParentProductType": "IW_SLC__1S",
         "PlatformSerialIdentifier": "A",
         "PolarisationChannels": "VV",
         "RelativeOrbitNumber": 95,
         "S3Path": "/eodata/Sentinel-1/SAR/IW_SLC__1S/2024/03/17/S1A_IW_SLC__1SDV_20240317T051858_20240317T051925_053017_066B46_C173.SAFE/measurement/s1a-iw3-slc-vv-20240317t051859-20240317t051924-053017-066b46-006.tiff",
         "SamplesPerBurst": 25753,
         "SwathIdentifier": "IW3"
        },
        {
         "@odata.mediaContentType": "application/octet-stream",
         "AbsoluteBurstId": 113499454,
         "AzimuthAnxTime": 2200.7397523225,
         "AzimuthTime": "2024-03-05T05:19:20.910591Z",
         "BeginningDateTime": "2024-03-05T05:19:22.074260Z",
         "BurstId": 202703,
         "ByteOffset": 1256856515,
         "ContentDate": {
          "End": "2024-03-05T05:19:22.978865Z",
          "Start": "2024-03-05T05:19:22.074260Z"
         },
         "ContentType": "application/octet-stream",
         "DatatakeID": 419114,
         "EndingDateTime": "2024-03-05T05:19:22.978865Z",
         "Footprint": "geography'SRID=4326;POLYGON ((12.089482 46.634916, 11.563369 46.69639, 11.056374 46.753309, 11.010245 46.548522, 11.516373 46.496209, 12.041638 46.439349, 12.089482 46.634916))'",
         "GeoFootprint": {
          "coordinates": [
           [
            [
             12.089482,
             46.634916
            ],
            [
             11.563369,
             46.69639
            ],
            [
             11.056374,
             46.753309
            ],
            [
             11.010245,
             46.548522
            ],
            [
             11.516373,
             46.496209
            ],
            [
             12.041638,
             46.439349
            ],
            [
             12.089482,
             46.634916
            ]
           ]
          ],
          "type": "Polygon"
         },
         "Id": "17d19537-3067-47f0-b748-39dbffa98caa",
         "Lines": 12200,
         "LinesPerBurst": 1525,
         "Name": "S1A-SLC-20240305T051922-202703-IW3-VV-419114",
         "OperationalMode": "IW",
         "OrbitDirection": "DESCENDING",
         "ParentProductId": "2fad47c5-bfc2-4a53-b512-1e84c050e0bc",
         "ParentProductName": "S1A_IW_SLC__1SDV_20240305T051857_20240305T051924_052842_06652A_CD5C.SAFE",
         "ParentProductType": "IW_SLC__1S",
         "PlatformSerialIdentifier": "A",
         "PolarisationChannels": "VV",
         "RelativeOrbitNumber": 95,
         "S3Path": "/eodata/Sentinel-1/SAR/IW_SLC__1S/2024/03/05/S1A_IW_SLC__1SDV_20240305T051857_20240305T051924_052842_06652A_CD5C.SAFE/measurement/s1a-iw3-slc-vv-20240305t051858-20240305t051924-052842-06652a-006.tiff",
         "SamplesPerBurst": 25753,
         "SwathIdentifier": "IW3"
        },
        {
         "@odata.mediaContentType": "application/octet-stream",
         "AbsoluteBurstId": 114251229,
         "AzimuthAnxTime": 2200.7599694351,
         "AzimuthTime": "2024-03-29T05:19:21.388205Z",
         "BeginningDateTime": "2024-03-29T05:19:22.523097Z",
         "BurstId": 202703,
         "ByteOffset": 1256856515,
         "ContentDate": {
          "End": "2024-03-29T05:19:23.427702Z",
          "Start": "2024-03-29T05:19:22.523097Z"
         },
         "ContentType": "application/octet-stream",
         "DatatakeID": 422389,
         "EndingDateTime": "2024-03-29T05:19:23.427702Z",
         "Footprint": "geography'SRID=4326;POLYGON ((12.089482 46.634916, 11.563369 46.69639, 11.056374 46.753309, 11.010245 46.548522, 11.516373 46.496209, 12.041638 46.439349, 12.089482 46.634916))'",
         "GeoFootprint": {
          "coordinates": [
           [
            [
             12.089482,
             46.634916
            ],
            [
             11.563369,
             46.69639
            ],
            [
             11.056374,
             46.753309
            ],
            [
             11.010245,
             46.548522
            ],
            [
             11.516373,
             46.496209
            ],
            [
             12.041638,
             46.439349
            ],
            [
             12.089482,
             46.634916
            ]
           ]
          ],
          "type": "Polygon"
         },
         "Id": "ad0b0c1b-2116-472a-b251-f5c2f05aa24f",
         "Lines": 12200,
         "LinesPerBurst": 1525,
         "Name": "S1A-SLC-20240329T051922-202703-IW3-VV-422389",
         "OperationalMode": "IW",
         "OrbitDirection": "DESCENDING",
         "ParentProductId": "c34fee14-da3f-4846-b398-4f1437bded5d",
         "ParentProductName": "S1A_IW_SLC__1SDV_20240329T051858_20240329T051925_053192_0671F5_811C.SAFE",
         "ParentProductType": "IW_SLC__1S",
         "PlatformSerialIdentifier": "A",
         "PolarisationChannels": "VV",
         "RelativeOrbitNumber": 95,
         "S3Path": "/eodata/Sentinel-1/SAR/IW_SLC__1S/2024/03/29/S1A_IW_SLC__1SDV_20240329T051858_20240329T051925_053192_0671F5_811C.SAFE/measurement/s1a-iw3-slc-vv-20240329t051859-20240329t051924-053192-0671f5-006.tiff",
         "SamplesPerBurst": 25753,
         "SwathIdentifier": "IW3"
        },
        {
         "@odata.mediaContentType": "application/octet-stream",
         "AbsoluteBurstId": 113123567,
         "AzimuthAnxTime": 2200.7714674351,
         "AzimuthTime": "2024-02-22T05:19:20.726319Z",
         "BeginningDateTime": "2024-02-22T05:19:21.865337Z",
         "BurstId": 202703,
         "ByteOffset": 1256856515,
         "ContentDate": {
          "End": "2024-02-22T05:19:22.769942Z",
          "Start": "2024-02-22T05:19:21.865337Z"
         },
         "ContentType": "application/octet-stream",
         "DatatakeID": 417590,
         "EndingDateTime": "2024-02-22T05:19:22.769942Z",
         "Footprint": "geography'SRID=4326;POLYGON ((12.089482 46.634916, 11.563369 46.69639, 11.056374 46.753309, 11.010245 46.548522, 11.516373 46.496209, 12.041638 46.439349, 12.089482 46.634916))'",
         "GeoFootprint": {
          "coordinates": [
           [
            [
             12.089482,
             46.634916
            ],
            [
             11.563369,
             46.69639
            ],
            [
             11.056374,
             46.753309
            ],
            [
             11.010245,
             46.548522
            ],
            [
             11.516373,
             46.496209
            ],
            [
             12.041638,
             46.439349
            ],
            [
             12.089482,
             46.634916
            ]
           ]
          ],
          "type": "Polygon"
         },
         "Id": "6b6ed22e-cb71-496d-ac10-dbaf9cb43d39",
         "Lines": 12200,
         "LinesPerBurst": 1525,
         "Name": "S1A-SLC-20240222T051921-202703-IW3-VV-417590",
         "OperationalMode": "IW",
         "OrbitDirection": "DESCENDING",
         "ParentProductId": "f5bcceff-a292-494f-ba39-8c5a93434965",
         "ParentProductName": "S1A_IW_SLC__1SDV_20240222T051857_20240222T051924_052667_065F36_49E7.SAFE",
         "ParentProductType": "IW_SLC__1S",
         "PlatformSerialIdentifier": "A",
         "PolarisationChannels": "VV",
         "RelativeOrbitNumber": 95,
         "S3Path": "/eodata/Sentinel-1/SAR/IW_SLC__1S/2024/02/22/S1A_IW_SLC__1SDV_20240222T051857_20240222T051924_052667_065F36_49E7.SAFE/measurement/s1a-iw3-slc-vv-20240222t051858-20240222t051923-052667-065f36-006.tiff",
         "SamplesPerBurst": 25753,
         "SwathIdentifier": "IW3"
        },
        {
         "@odata.mediaContentType": "application/octet-stream",
         "AbsoluteBurstId": 112371792,
         "AzimuthAnxTime": 2200.7847409914,
         "AzimuthTime": "2024-01-29T05:19:21.335548Z",
         "BeginningDateTime": "2024-01-29T05:19:22.470439Z",
         "BurstId": 202703,
         "ByteOffset": 1256856515,
         "ContentDate": {
          "End": "2024-01-29T05:19:23.375044Z",
          "Start": "2024-01-29T05:19:22.470439Z"
         },
         "ContentType": "application/octet-stream",
         "DatatakeID": 414556,
         "EndingDateTime": "2024-01-29T05:19:23.375044Z",
         "Footprint": "geography'SRID=4326;POLYGON ((12.089482 46.634916, 11.563369 46.69639, 11.056374 46.753309, 11.010245 46.548522, 11.516373 46.496209, 12.041638 46.439349, 12.089482 46.634916))'",
         "GeoFootprint": {
          "coordinates": [
           [
            [
             12.089482,
             46.634916
            ],
            [
             11.563369,
             46.69639
            ],
            [
             11.056374,
             46.753309
            ],
            [
             11.010245,
             46.548522
            ],
            [
             11.516373,
             46.496209
            ],
            [
             12.041638,
             46.439349
            ],
            [
             12.089482,
             46.634916
            ]
           ]
          ],
          "type": "Polygon"
         },
         "Id": "91532db6-18a6-4497-a31b-dd27f9cad208",
         "Lines": 12200,
         "LinesPerBurst": 1525,
         "Name": "S1A-SLC-20240129T051922-202703-IW3-VV-414556",
         "OperationalMode": "IW",
         "OrbitDirection": "DESCENDING",
         "ParentProductId": "434bc3fc-1c1c-4ce5-9fb5-7a2f16accae6",
         "ParentProductName": "S1A_IW_SLC__1SDV_20240129T051858_20240129T051925_052317_06535C_E52D.SAFE",
         "ParentProductType": "IW_SLC__1S",
         "PlatformSerialIdentifier": "A",
         "PolarisationChannels": "VV",
         "RelativeOrbitNumber": 95,
         "S3Path": "/eodata/Sentinel-1/SAR/IW_SLC__1S/2024/01/29/S1A_IW_SLC__1SDV_20240129T051858_20240129T051925_052317_06535C_E52D.SAFE/measurement/s1a-iw3-slc-vv-20240129t051859-20240129t051924-052317-06535c-006.tiff",
         "SamplesPerBurst": 25753,
         "SwathIdentifier": "IW3"
        },
        {
         "@odata.mediaContentType": "application/octet-stream",
         "AbsoluteBurstId": 116130666,
         "AzimuthAnxTime": 2200.7383068788,
         "AzimuthTime": "2024-05-28T05:19:22.128318Z",
         "BeginningDateTime": "2024-05-28T05:19:23.277599Z",
         "BurstId": 202703,
         "ByteOffset": 1256905315,
         "ContentDate": {
          "End": "2024-05-28T05:19:24.182204Z",
          "Start": "2024-05-28T05:19:23.277599Z"
         },
         "ContentType": "application/octet-stream",
         "DatatakeID": 430828,
         "EndingDateTime": "2024-05-28T05:19:24.182204Z",
         "Footprint": "geography'SRID=4326;POLYGON ((12.089482 46.634916, 11.563369 46.69639, 11.056374 46.753309, 11.010245 46.548522, 11.516373 46.496209, 12.041638 46.439349, 12.089482 46.634916))'",
         "GeoFootprint": {
          "coordinates": [
           [
            [
             12.089482,
             46.634916
            ],
            [
             11.563369,
             46.69639
            ],
            [
             11.056374,
             46.753309
            ],
            [
             11.010245,
             46.548522
            ],
            [
             11.516373,
             46.496209
            ],
            [
             12.041638,
             46.439349
            ],
            [
             12.089482,
             46.634916
            ]
           ]
          ],
          "type": "Polygon"
         },
         "Id": "98860e0a-d087-49e1-a026-66d3e43e8b3a",
         "Lines": 12200,
         "LinesPerBurst": 1525,
         "Name": "S1A-SLC-20240528T051923-202703-IW3-VV-430828",
         "OperationalMode": "IW",
         "OrbitDirection": "DESCENDING",
         "ParentProductId": "4f9ad528-2f22-4d88-9f45-8213f866d4e2",
         "ParentProductName": "S1A_IW_SLC__1SDV_20240528T051859_20240528T051926_054067_0692EC_8360.SAFE",
         "ParentProductType": "IW_SLC__1S",
         "PlatformSerialIdentifier": "A",
         "PolarisationChannels": "VV",
         "RelativeOrbitNumber": 95,
         "S3Path": "/eodata/Sentinel-1/SAR/IW_SLC__1S/2024/05/28/S1A_IW_SLC__1SDV_20240528T051859_20240528T051926_054067_0692EC_8360.SAFE/measurement/s1a-iw3-slc-vv-20240528t051900-20240528t051925-054067-0692ec-006.tiff",
         "SamplesPerBurst": 25754,
         "SwathIdentifier": "IW3"
        },
        {
         "@odata.mediaContentType": "application/octet-stream",
         "AbsoluteBurstId": 115378891,
         "AzimuthAnxTime": 2200.7209538788,
         "AzimuthTime": "2024-05-04T05:19:22.328400Z",
         "BeginningDateTime": "2024-05-04T05:19:23.496181Z",
         "BurstId": 202703,
         "ByteOffset": 1256856515,
         "ContentDate": {
          "End": "2024-05-04T05:19:24.400786Z",
          "Start": "2024-05-04T05:19:23.496181Z"
         },
         "ContentType": "application/octet-stream",
         "DatatakeID": 427668,
         "EndingDateTime": "2024-05-04T05:19:24.400786Z",
         "Footprint": "geography'SRID=4326;POLYGON ((12.089482 46.634916, 11.563369 46.69639, 11.056374 46.753309, 11.010245 46.548522, 11.516373 46.496209, 12.041638 46.439349, 12.089482 46.634916))'",
         "GeoFootprint": {
          "coordinates": [
           [
            [
             12.089482,
             46.634916
            ],
            [
             11.563369,
             46.69639
            ],
            [
             11.056374,
             46.753309
            ],
            [
             11.010245,
             46.548522
            ],
            [
             11.516373,
             46.496209
            ],
            [
             12.041638,
             46.439349
            ],
            [
             12.089482,
             46.634916
            ]
           ]
          ],
          "type": "Polygon"
         },
         "Id": "25c24091-80b9-4e86-862a-2dd0c8ab83fc",
         "Lines": 12200,
         "LinesPerBurst": 1525,
         "Name": "S1A-SLC-20240504T051923-202703-IW3-VV-427668",
         "OperationalMode": "IW",
         "OrbitDirection": "DESCENDING",
         "ParentProductId": "83fced40-0cd0-4197-b34b-c3e84c817952",
         "ParentProductName": "S1A_IW_SLC__1SDV_20240504T051859_20240504T051926_053717_068694_D39E.SAFE",
         "ParentProductType": "IW_SLC__1S",
         "PlatformSerialIdentifier": "A",
         "PolarisationChannels": "VV",
         "RelativeOrbitNumber": 95,
         "S3Path": "/eodata/Sentinel-1/SAR/IW_SLC__1S/2024/05/04/S1A_IW_SLC__1SDV_20240504T051859_20240504T051926_053717_068694_D39E.SAFE/measurement/s1a-iw3-slc-vv-20240504t051900-20240504t051925-053717-068694-006.tiff",
         "SamplesPerBurst": 25753,
         "SwathIdentifier": "IW3"
        },
        {
         "@odata.mediaContentType": "application/octet-stream",
         "AbsoluteBurstId": 114627116,
         "AzimuthAnxTime": 2200.7481605477,
         "AzimuthTime": "2024-04-10T05:19:20.723222Z",
         "BeginningDateTime": "2024-04-10T05:19:21.862239Z",
         "BurstId": 202703,
         "ByteOffset": 1256856515,
         "ContentDate": {
          "End": "2024-04-10T05:19:22.766844Z",
          "Start": "2024-04-10T05:19:21.862239Z"
         },
         "ContentType": "application/octet-stream",
         "DatatakeID": 424142,
         "EndingDateTime": "2024-04-10T05:19:22.766844Z",
         "Footprint": "geography'SRID=4326;POLYGON ((12.089482 46.634916, 11.563369 46.69639, 11.056374 46.753309, 11.010245 46.548522, 11.516373 46.496209, 12.041638 46.439349, 12.089482 46.634916))'",
         "GeoFootprint": {
          "coordinates": [
           [
            [
             12.089482,
             46.634916
            ],
            [
             11.563369,
             46.69639
            ],
            [
             11.056374,
             46.753309
            ],
            [
             11.010245,
             46.548522
            ],
            [
             11.516373,
             46.496209
            ],
            [
             12.041638,
             46.439349
            ],
            [
             12.089482,
             46.634916
            ]
           ]
          ],
          "type": "Polygon"
         },
         "Id": "41b36ae9-eadb-4058-b0f3-2029899c19e9",
         "Lines": 12200,
         "LinesPerBurst": 1525,
         "Name": "S1A-SLC-20240410T051921-202703-IW3-VV-424142",
         "OperationalMode": "IW",
         "OrbitDirection": "DESCENDING",
         "ParentProductId": "a84eced2-1796-4be8-9a58-3bd6c807d65f",
         "ParentProductName": "S1A_IW_SLC__1SDV_20240410T051857_20240410T051924_053367_0678CE_5894.SAFE",
         "ParentProductType": "IW_SLC__1S",
         "PlatformSerialIdentifier": "A",
         "PolarisationChannels": "VV",
         "RelativeOrbitNumber": 95,
         "S3Path": "/eodata/Sentinel-1/SAR/IW_SLC__1S/2024/04/10/S1A_IW_SLC__1SDV_20240410T051857_20240410T051924_053367_0678CE_5894.SAFE/measurement/s1a-iw3-slc-vv-20240410t051858-20240410t051923-053367-0678ce-006.tiff",
         "SamplesPerBurst": 25753,
         "SwathIdentifier": "IW3"
        },
        {
         "@odata.mediaContentType": "application/octet-stream",
         "AbsoluteBurstId": 116882441,
         "AzimuthAnxTime": 2200.7305608788,
         "AzimuthTime": "2024-06-21T05:19:21.044971Z",
         "BeginningDateTime": "2024-06-21T05:19:22.200420Z",
         "BurstId": 202703,
         "ByteOffset": 1243889115,
         "ContentDate": {
          "End": "2024-06-21T05:19:23.104432Z",
          "Start": "2024-06-21T05:19:22.200420Z"
         },
         "ContentType": "application/octet-stream",
         "DatatakeID": 433926,
         "EndingDateTime": "2024-06-21T05:19:23.104432Z",
         "Footprint": "geography'SRID=4326;POLYGON ((12.089482 46.634916, 11.563369 46.69639, 11.056374 46.753309, 11.010245 46.548522, 11.516373 46.496209, 12.041638 46.439349, 12.089482 46.634916))'",
         "GeoFootprint": {
          "coordinates": [
           [
            [
             12.089482,
             46.634916
            ],
            [
             11.563369,
             46.69639
            ],
            [
             11.056374,
             46.753309
            ],
            [
             11.010245,
             46.548522
            ],
            [
             11.516373,
             46.496209
            ],
            [
             12.041638,
             46.439349
            ],
            [
             12.089482,
             46.634916
            ]
           ]
          ],
          "type": "Polygon"
         },
         "Id": "08b9f6f8-5b0e-44a7-a4f7-1466a15e368d",
         "Lines": 12192,
         "LinesPerBurst": 1524,
         "Name": "S1A-SLC-20240621T051922-202703-IW3-VV-433926",
         "OperationalMode": "IW",
         "OrbitDirection": "DESCENDING",
         "ParentProductId": "bf2ffedb-714e-445f-88af-4fa6e9717991",
         "ParentProductName": "S1A_IW_SLC__1SDV_20240621T051858_20240621T051924_054417_069F06_69F8.SAFE",
         "ParentProductType": "IW_SLC__1S",
         "PlatformSerialIdentifier": "A",
         "PolarisationChannels": "VV",
         "RelativeOrbitNumber": 95,
         "S3Path": "/eodata/Sentinel-1/SAR/IW_SLC__1S/2024/06/21/S1A_IW_SLC__1SDV_20240621T051858_20240621T051924_054417_069F06_69F8.SAFE/measurement/s1a-iw3-slc-vv-20240621t051858-20240621t051924-054417-069f06-006.tiff",
         "SamplesPerBurst": 25504,
         "SwathIdentifier": "IW3"
        },
        {
         "@odata.mediaContentType": "application/octet-stream",
         "AbsoluteBurstId": 116506553,
         "AzimuthAnxTime": 2200.7402505477,
         "AzimuthTime": "2024-06-09T05:19:21.507178Z",
         "BeginningDateTime": "2024-06-09T05:19:22.656459Z",
         "BurstId": 202703,
         "ByteOffset": 1256856515,
         "ContentDate": {
          "End": "2024-06-09T05:19:23.561064Z",
          "Start": "2024-06-09T05:19:22.656459Z"
         },
         "ContentType": "application/octet-stream",
         "DatatakeID": 432378,
         "EndingDateTime": "2024-06-09T05:19:23.561064Z",
         "Footprint": "geography'SRID=4326;POLYGON ((12.089482 46.634916, 11.563369 46.69639, 11.056374 46.753309, 11.010245 46.548522, 11.516373 46.496209, 12.041638 46.439349, 12.089482 46.634916))'",
         "GeoFootprint": {
          "coordinates": [
           [
            [
             12.089482,
             46.634916
            ],
            [
             11.563369,
             46.69639
            ],
            [
             11.056374,
             46.753309
            ],
            [
             11.010245,
             46.548522
            ],
            [
             11.516373,
             46.496209
            ],
            [
             12.041638,
             46.439349
            ],
            [
             12.089482,
             46.634916
            ]
           ]
          ],
          "type": "Polygon"
         },
         "Id": "a982b557-b7b5-4582-b59a-fefb888b13c3",
         "Lines": 12200,
         "LinesPerBurst": 1525,
         "Name": "S1A-SLC-20240609T051922-202703-IW3-VV-432378",
         "OperationalMode": "IW",
         "OrbitDirection": "DESCENDING",
         "ParentProductId": "9bed9465-313d-40a3-b852-8339f7955fc8",
         "ParentProductName": "S1A_IW_SLC__1SDV_20240609T051858_20240609T051925_054242_0698FA_909E.SAFE",
         "ParentProductType": "IW_SLC__1S",
         "PlatformSerialIdentifier": "A",
         "PolarisationChannels": "VV",
         "RelativeOrbitNumber": 95,
         "S3Path": "/eodata/Sentinel-1/SAR/IW_SLC__1S/2024/06/09/S1A_IW_SLC__1SDV_20240609T051858_20240609T051925_054242_0698FA_909E.SAFE/measurement/s1a-iw3-slc-vv-20240609t051859-20240609t051924-054242-0698fa-006.tiff",
         "SamplesPerBurst": 25753,
         "SwathIdentifier": "IW3"
        },
        {
         "@odata.mediaContentType": "application/octet-stream",
         "AbsoluteBurstId": 115003004,
         "AzimuthAnxTime": 2200.7298219914,
         "AzimuthTime": "2024-04-22T05:19:21.996267Z",
         "BeginningDateTime": "2024-04-22T05:19:23.151714Z",
         "BurstId": 202703,
         "ByteOffset": 1256856515,
         "ContentDate": {
          "End": "2024-04-22T05:19:24.056319Z",
          "Start": "2024-04-22T05:19:23.151714Z"
         },
         "ContentType": "application/octet-stream",
         "DatatakeID": 425907,
         "EndingDateTime": "2024-04-22T05:19:24.056319Z",
         "Footprint": "geography'SRID=4326;POLYGON ((12.089482 46.634916, 11.563369 46.69639, 11.056374 46.753309, 11.010245 46.548522, 11.516373 46.496209, 12.041638 46.439349, 12.089482 46.634916))'",
         "GeoFootprint": {
          "coordinates": [
           [
            [
             12.089482,
             46.634916
            ],
            [
             11.563369,
             46.69639
            ],
            [
             11.056374,
             46.753309
            ],
            [
             11.010245,
             46.548522
            ],
            [
             11.516373,
             46.496209
            ],
            [
             12.041638,
             46.439349
            ],
            [
             12.089482,
             46.634916
            ]
           ]
          ],
          "type": "Polygon"
         },
         "Id": "fcca1fcb-a404-415a-8a2e-36f3d2d1ebc3",
         "Lines": 12200,
         "LinesPerBurst": 1525,
         "Name": "S1A-SLC-20240422T051923-202703-IW3-VV-425907",
         "OperationalMode": "IW",
         "OrbitDirection": "DESCENDING",
         "ParentProductId": "c8c2130e-05a2-47ca-83e9-f45b8779695e",
         "ParentProductName": "S1A_IW_SLC__1SDV_20240422T051858_20240422T051925_053542_067FB3_D6AA.SAFE",
         "ParentProductType": "IW_SLC__1S",
         "PlatformSerialIdentifier": "A",
         "PolarisationChannels": "VV",
         "RelativeOrbitNumber": 95,
         "S3Path": "/eodata/Sentinel-1/SAR/IW_SLC__1S/2024/04/22/S1A_IW_SLC__1SDV_20240422T051858_20240422T051925_053542_067FB3_D6AA.SAFE/measurement/s1a-iw3-slc-vv-20240422t051859-20240422t051925-053542-067fb3-006.tiff",
         "SamplesPerBurst": 25753,
         "SwathIdentifier": "IW3"
        },
        {
         "@odata.mediaContentType": "application/octet-stream",
         "AbsoluteBurstId": 115754779,
         "AzimuthAnxTime": 2200.7590684351,
         "AzimuthTime": "2024-05-16T05:19:22.044834Z",
         "BeginningDateTime": "2024-05-16T05:19:23.185893Z",
         "BurstId": 202703,
         "ByteOffset": 1256856515,
         "ContentDate": {
          "End": "2024-05-16T05:19:24.090498Z",
          "Start": "2024-05-16T05:19:23.185893Z"
         },
         "ContentType": "application/octet-stream",
         "DatatakeID": 429270,
         "EndingDateTime": "2024-05-16T05:19:24.090498Z",
         "Footprint": "geography'SRID=4326;POLYGON ((12.089482 46.634916, 11.563369 46.69639, 11.056374 46.753309, 11.010245 46.548522, 11.516373 46.496209, 12.041638 46.439349, 12.089482 46.634916))'",
         "GeoFootprint": {
          "coordinates": [
           [
            [
             12.089482,
             46.634916
            ],
            [
             11.563369,
             46.69639
            ],
            [
             11.056374,
             46.753309
            ],
            [
             11.010245,
             46.548522
            ],
            [
             11.516373,
             46.496209
            ],
            [
             12.041638,
             46.439349
            ],
            [
             12.089482,
             46.634916
            ]
           ]
          ],
          "type": "Polygon"
         },
         "Id": "6d587e12-1983-412d-8b4c-3a5e72add47c",
         "Lines": 12200,
         "LinesPerBurst": 1525,
         "Name": "S1A-SLC-20240516T051923-202703-IW3-VV-429270",
         "OperationalMode": "IW",
         "OrbitDirection": "DESCENDING",
         "ParentProductId": "9fff4663-85a2-41fe-94b9-78115accaa70",
         "ParentProductName": "S1A_IW_SLC__1SDV_20240516T051859_20240516T051926_053892_068CD6_CE05.SAFE",
         "ParentProductType": "IW_SLC__1S",
         "PlatformSerialIdentifier": "A",
         "PolarisationChannels": "VV",
         "RelativeOrbitNumber": 95,
         "S3Path": "/eodata/Sentinel-1/SAR/IW_SLC__1S/2024/05/16/S1A_IW_SLC__1SDV_20240516T051859_20240516T051926_053892_068CD6_CE05.SAFE/measurement/s1a-iw3-slc-vv-20240516t051859-20240516t051925-053892-068cd6-006.tiff",
         "SamplesPerBurst": 25753,
         "SwathIdentifier": "IW3"
        },
        {
         "@odata.mediaContentType": "application/octet-stream",
         "AbsoluteBurstId": 119889540,
         "AzimuthAnxTime": 2200.7459948788,
         "AzimuthTime": "2024-09-25T05:19:20.669149Z",
         "BeginningDateTime": "2024-09-25T05:19:21.824596Z",
         "BurstId": 202703,
         "ByteOffset": 1256856515,
         "ContentDate": {
          "End": "2024-09-25T05:19:22.729201Z",
          "Start": "2024-09-25T05:19:21.824596Z"
         },
         "ContentType": "application/octet-stream",
         "DatatakeID": 446986,
         "EndingDateTime": "2024-09-25T05:19:22.729201Z",
         "Footprint": "geography'SRID=4326;POLYGON ((12.089482 46.634916, 11.563369 46.69639, 11.056374 46.753309, 11.010245 46.548522, 11.516373 46.496209, 12.041638 46.439349, 12.089482 46.634916))'",
         "GeoFootprint": {
          "coordinates": [
           [
            [
             12.089482,
             46.634916
            ],
            [
             11.563369,
             46.69639
            ],
            [
             11.056374,
             46.753309
            ],
            [
             11.010245,
             46.548522
            ],
            [
             11.516373,
             46.496209
            ],
            [
             12.041638,
             46.439349
            ],
            [
             12.089482,
             46.634916
            ]
           ]
          ],
          "type": "Polygon"
         },
         "Id": "58f70b98-1b65-40e9-8a84-f0f1fcad127f",
         "Lines": 12200,
         "LinesPerBurst": 1525,
         "Name": "S1A-SLC-20240925T051921-202703-IW3-VV-446986",
         "OperationalMode": "IW",
         "OrbitDirection": "DESCENDING",
         "ParentProductId": "1dbda6bd-d5e3-488d-a1d9-9e8fa1ad770d",
         "ParentProductName": "S1A_IW_SLC__1SDV_20240925T051857_20240925T051924_055817_06D20A_10F5.SAFE",
         "ParentProductType": "IW_SLC__1S",
         "PlatformSerialIdentifier": "A",
         "PolarisationChannels": "VV",
         "RelativeOrbitNumber": 95,
         "S3Path": "/eodata/Sentinel-1/SAR/IW_SLC__1S/2024/09/25/S1A_IW_SLC__1SDV_20240925T051857_20240925T051924_055817_06D20A_10F5.SAFE/measurement/s1a-iw3-slc-vv-20240925t051858-20240925t051923-055817-06d20a-006.tiff",
         "SamplesPerBurst": 25753,
         "SwathIdentifier": "IW3"
        },
        {
         "@odata.mediaContentType": "application/octet-stream",
         "AbsoluteBurstId": 118761878,
         "AzimuthAnxTime": 2200.7588899914,
         "AzimuthTime": "2024-08-20T05:19:19.937626Z",
         "BeginningDateTime": "2024-08-20T05:19:21.078700Z",
         "BurstId": 202703,
         "ByteOffset": 1243889115,
         "ContentDate": {
          "End": "2024-08-20T05:19:21.982712Z",
          "Start": "2024-08-20T05:19:21.078700Z"
         },
         "ContentType": "application/octet-stream",
         "DatatakeID": 441784,
         "EndingDateTime": "2024-08-20T05:19:21.982712Z",
         "Footprint": "geography'SRID=4326;POLYGON ((12.089482 46.634916, 11.563369 46.69639, 11.056374 46.753309, 11.010245 46.548522, 11.516373 46.496209, 12.041638 46.439349, 12.089482 46.634916))'",
         "GeoFootprint": {
          "coordinates": [
           [
            [
             12.089482,
             46.634916
            ],
            [
             11.563369,
             46.69639
            ],
            [
             11.056374,
             46.753309
            ],
            [
             11.010245,
             46.548522
            ],
            [
             11.516373,
             46.496209
            ],
            [
             12.041638,
             46.439349
            ],
            [
             12.089482,
             46.634916
            ]
           ]
          ],
          "type": "Polygon"
         },
         "Id": "0a2e5b82-fd13-47bb-8253-f5c886ad4bc5",
         "Lines": 12192,
         "LinesPerBurst": 1524,
         "Name": "S1A-SLC-20240820T051921-202703-IW3-VV-441784",
         "OperationalMode": "IW",
         "OrbitDirection": "DESCENDING",
         "ParentProductId": "691efab6-32d8-481a-aa9d-5f2ffa03065b",
         "ParentProductName": "S1A_IW_SLC__1SDV_20240820T051856_20240820T051923_055292_06BDB8_0B78.SAFE",
         "ParentProductType": "IW_SLC__1S",
         "PlatformSerialIdentifier": "A",
         "PolarisationChannels": "VV",
         "RelativeOrbitNumber": 95,
         "S3Path": "/eodata/Sentinel-1/SAR/IW_SLC__1S/2024/08/20/S1A_IW_SLC__1SDV_20240820T051856_20240820T051923_055292_06BDB8_0B78.SAFE/measurement/s1a-iw3-slc-vv-20240820t051857-20240820t051923-055292-06bdb8-006.tiff",
         "SamplesPerBurst": 25504,
         "SwathIdentifier": "IW3"
        },
        {
         "@odata.mediaContentType": "application/octet-stream",
         "AbsoluteBurstId": 117258328,
         "AzimuthAnxTime": 2200.7500579914,
         "AzimuthTime": "2024-07-03T05:19:20.181299Z",
         "BeginningDateTime": "2024-07-03T05:19:21.332637Z",
         "BurstId": 202703,
         "ByteOffset": 1244718171,
         "ContentDate": {
          "End": "2024-07-03T05:19:22.236649Z",
          "Start": "2024-07-03T05:19:21.332637Z"
         },
         "ContentType": "application/octet-stream",
         "DatatakeID": 435485,
         "EndingDateTime": "2024-07-03T05:19:22.236649Z",
         "Footprint": "geography'SRID=4326;POLYGON ((12.089482 46.634916, 11.563369 46.69639, 11.056374 46.753309, 11.010245 46.548522, 11.516373 46.496209, 12.041638 46.439349, 12.089482 46.634916))'",
         "GeoFootprint": {
          "coordinates": [
           [
            [
             12.089482,
             46.634916
            ],
            [
             11.563369,
             46.69639
            ],
            [
             11.056374,
             46.753309
            ],
            [
             11.010245,
             46.548522
            ],
            [
             11.516373,
             46.496209
            ],
            [
             12.041638,
             46.439349
            ],
            [
             12.089482,
             46.634916
            ]
           ]
          ],
          "type": "Polygon"
         },
         "Id": "542ac9b5-6153-4bdf-9ded-372b4be0fb68",
         "Lines": 12192,
         "LinesPerBurst": 1524,
         "Name": "S1A-SLC-20240703T051921-202703-IW3-VV-435485",
         "OperationalMode": "IW",
         "OrbitDirection": "DESCENDING",
         "ParentProductId": "6d035f95-c97a-4e6b-9717-1943019a5653",
         "ParentProductName": "S1A_IW_SLC__1SDV_20240703T051857_20240703T051924_054592_06A51D_4FE2.SAFE",
         "ParentProductType": "IW_SLC__1S",
         "PlatformSerialIdentifier": "A",
         "PolarisationChannels": "VV",
         "RelativeOrbitNumber": 95,
         "S3Path": "/eodata/Sentinel-1/SAR/IW_SLC__1S/2024/07/03/S1A_IW_SLC__1SDV_20240703T051857_20240703T051924_054592_06A51D_4FE2.SAFE/measurement/s1a-iw3-slc-vv-20240703t051858-20240703t051923-054592-06a51d-006.tiff",
         "SamplesPerBurst": 25521,
         "SwathIdentifier": "IW3"
        },
        {
         "@odata.mediaContentType": "application/octet-stream",
         "AbsoluteBurstId": 118385990,
         "AzimuthAnxTime": 2200.7515239914,
         "AzimuthTime": "2024-08-08T05:19:19.660864Z",
         "BeginningDateTime": "2024-08-08T05:19:20.810146Z",
         "BurstId": 202703,
         "ByteOffset": 1244718171,
         "ContentDate": {
          "End": "2024-08-08T05:19:21.714158Z",
          "Start": "2024-08-08T05:19:20.810146Z"
         },
         "ContentType": "application/octet-stream",
         "DatatakeID": 440149,
         "EndingDateTime": "2024-08-08T05:19:21.714158Z",
         "Footprint": "geography'SRID=4326;POLYGON ((12.089482 46.634916, 11.563369 46.69639, 11.056374 46.753309, 11.010245 46.548522, 11.516373 46.496209, 12.041638 46.439349, 12.089482 46.634916))'",
         "GeoFootprint": {
          "coordinates": [
           [
            [
             12.089482,
             46.634916
            ],
            [
             11.563369,
             46.69639
            ],
            [
             11.056374,
             46.753309
            ],
            [
             11.010245,
             46.548522
            ],
            [
             11.516373,
             46.496209
            ],
            [
             12.041638,
             46.439349
            ],
            [
             12.089482,
             46.634916
            ]
           ]
          ],
          "type": "Polygon"
         },
         "Id": "049fda70-48ce-4964-9e27-5b51ace58e82",
         "Lines": 12192,
         "LinesPerBurst": 1524,
         "Name": "S1A-SLC-20240808T051920-202703-IW3-VV-440149",
         "OperationalMode": "IW",
         "OrbitDirection": "DESCENDING",
         "ParentProductId": "e841a757-c597-47ea-a0f8-4f0511f1e2d1",
         "ParentProductName": "S1A_IW_SLC__1SDV_20240808T051856_20240808T051923_055117_06B755_985C.SAFE",
         "ParentProductType": "IW_SLC__1S",
         "PlatformSerialIdentifier": "A",
         "PolarisationChannels": "VV",
         "RelativeOrbitNumber": 95,
         "S3Path": "/eodata/Sentinel-1/SAR/IW_SLC__1S/2024/08/08/S1A_IW_SLC__1SDV_20240808T051856_20240808T051923_055117_06B755_985C.SAFE/measurement/s1a-iw3-slc-vv-20240808t051857-20240808t051922-055117-06b755-006.tiff",
         "SamplesPerBurst": 25521,
         "SwathIdentifier": "IW3"
        },
        {
         "@odata.mediaContentType": "application/octet-stream",
         "AbsoluteBurstId": 117634215,
         "AzimuthAnxTime": 2200.7465665477,
         "AzimuthTime": "2024-07-15T05:19:20.061431Z",
         "BeginningDateTime": "2024-07-15T05:19:21.214824Z",
         "BurstId": 202703,
         "ByteOffset": 1244718171,
         "ContentDate": {
          "End": "2024-07-15T05:19:22.118836Z",
          "Start": "2024-07-15T05:19:21.214824Z"
         },
         "ContentType": "application/octet-stream",
         "DatatakeID": 437034,
         "EndingDateTime": "2024-07-15T05:19:22.118836Z",
         "Footprint": "geography'SRID=4326;POLYGON ((12.089482 46.634916, 11.563369 46.69639, 11.056374 46.753309, 11.010245 46.548522, 11.516373 46.496209, 12.041638 46.439349, 12.089482 46.634916))'",
         "GeoFootprint": {
          "coordinates": [
           [
            [
             12.089482,
             46.634916
            ],
            [
             11.563369,
             46.69639
            ],
            [
             11.056374,
             46.753309
            ],
            [
             11.010245,
             46.548522
            ],
            [
             11.516373,
             46.496209
            ],
            [
             12.041638,
             46.439349
            ],
            [
             12.089482,
             46.634916
            ]
           ]
          ],
          "type": "Polygon"
         },
         "Id": "32f38ebc-6ab8-41cd-bfef-4adb99034274",
         "Lines": 12192,
         "LinesPerBurst": 1524,
         "Name": "S1A-SLC-20240715T051921-202703-IW3-VV-437034",
         "OperationalMode": "IW",
         "OrbitDirection": "DESCENDING",
         "ParentProductId": "47fa9b5b-c815-483e-a39f-7921b9b12e03",
         "ParentProductName": "S1A_IW_SLC__1SDV_20240715T051857_20240715T051924_054767_06AB2A_4E87.SAFE",
         "ParentProductType": "IW_SLC__1S",
         "PlatformSerialIdentifier": "A",
         "PolarisationChannels": "VV",
         "RelativeOrbitNumber": 95,
         "S3Path": "/eodata/Sentinel-1/SAR/IW_SLC__1S/2024/07/15/S1A_IW_SLC__1SDV_20240715T051857_20240715T051924_054767_06AB2A_4E87.SAFE/measurement/s1a-iw3-slc-vv-20240715t051857-20240715t051923-054767-06ab2a-006.tiff",
         "SamplesPerBurst": 25521,
         "SwathIdentifier": "IW3"
        },
        {
         "@odata.mediaContentType": "application/octet-stream",
         "AbsoluteBurstId": 119513652,
         "AzimuthAnxTime": 2200.7637695477,
         "AzimuthTime": "2024-09-13T05:19:20.547315Z",
         "BeginningDateTime": "2024-09-13T05:19:21.684276Z",
         "BurstId": 202703,
         "ByteOffset": 1256856515,
         "ContentDate": {
          "End": "2024-09-13T05:19:22.588881Z",
          "Start": "2024-09-13T05:19:21.684276Z"
         },
         "ContentType": "application/octet-stream",
         "DatatakeID": 445216,
         "EndingDateTime": "2024-09-13T05:19:22.588881Z",
         "Footprint": "geography'SRID=4326;POLYGON ((12.089482 46.634916, 11.563369 46.69639, 11.056374 46.753309, 11.010245 46.548522, 11.516373 46.496209, 12.041638 46.439349, 12.089482 46.634916))'",
         "GeoFootprint": {
          "coordinates": [
           [
            [
             12.089482,
             46.634916
            ],
            [
             11.563369,
             46.69639
            ],
            [
             11.056374,
             46.753309
            ],
            [
             11.010245,
             46.548522
            ],
            [
             11.516373,
             46.496209
            ],
            [
             12.041638,
             46.439349
            ],
            [
             12.089482,
             46.634916
            ]
           ]
          ],
          "type": "Polygon"
         },
         "Id": "5bb2ee8c-a7fc-42a2-9ccd-b3fe9a24fb8d",
         "Lines": 12200,
         "LinesPerBurst": 1525,
         "Name": "S1A-SLC-20240913T051921-202703-IW3-VV-445216",
         "OperationalMode": "IW",
         "OrbitDirection": "DESCENDING",
         "ParentProductId": "71145ac3-461a-443b-b91c-817d01b55dd4",
         "ParentProductName": "S1A_IW_SLC__1SDV_20240913T051857_20240913T051924_055642_06CB20_978C.SAFE",
         "ParentProductType": "IW_SLC__1S",
         "PlatformSerialIdentifier": "A",
         "PolarisationChannels": "VV",
         "RelativeOrbitNumber": 95,
         "S3Path": "/eodata/Sentinel-1/SAR/IW_SLC__1S/2024/09/13/S1A_IW_SLC__1SDV_20240913T051857_20240913T051924_055642_06CB20_978C.SAFE/measurement/s1a-iw3-slc-vv-20240913t051858-20240913t051923-055642-06cb20-006.tiff",
         "SamplesPerBurst": 25753,
         "SwathIdentifier": "IW3"
        },
        {
         "@odata.mediaContentType": "application/octet-stream",
         "AbsoluteBurstId": 118010103,
         "AzimuthAnxTime": 2200.7474325477,
         "AzimuthTime": "2024-07-27T05:19:19.278453Z",
         "BeginningDateTime": "2024-07-27T05:19:20.429805Z",
         "BurstId": 202703,
         "ByteOffset": 1243889115,
         "ContentDate": {
          "End": "2024-07-27T05:19:21.333817Z",
          "Start": "2024-07-27T05:19:20.429805Z"
         },
         "ContentType": "application/octet-stream",
         "DatatakeID": 438593,
         "EndingDateTime": "2024-07-27T05:19:21.333817Z",
         "Footprint": "geography'SRID=4326;POLYGON ((12.089482 46.634916, 11.563369 46.69639, 11.056374 46.753309, 11.010245 46.548522, 11.516373 46.496209, 12.041638 46.439349, 12.089482 46.634916))'",
         "GeoFootprint": {
          "coordinates": [
           [
            [
             12.089482,
             46.634916
            ],
            [
             11.563369,
             46.69639
            ],
            [
             11.056374,
             46.753309
            ],
            [
             11.010245,
             46.548522
            ],
            [
             11.516373,
             46.496209
            ],
            [
             12.041638,
             46.439349
            ],
            [
             12.089482,
             46.634916
            ]
           ]
          ],
          "type": "Polygon"
         },
         "Id": "229096ad-a741-4b32-a0b6-54b94a551037",
         "Lines": 12192,
         "LinesPerBurst": 1524,
         "Name": "S1A-SLC-20240727T051920-202703-IW3-VV-438593",
         "OperationalMode": "IW",
         "OrbitDirection": "DESCENDING",
         "ParentProductId": "1d4e97b9-b494-4187-b868-1bb46c79e9fb",
         "ParentProductName": "S1A_IW_SLC__1SDV_20240727T051856_20240727T051923_054942_06B141_2816.SAFE",
         "ParentProductType": "IW_SLC__1S",
         "PlatformSerialIdentifier": "A",
         "PolarisationChannels": "VV",
         "RelativeOrbitNumber": 95,
         "S3Path": "/eodata/Sentinel-1/SAR/IW_SLC__1S/2024/07/27/S1A_IW_SLC__1SDV_20240727T051856_20240727T051923_054942_06B141_2816.SAFE/measurement/s1a-iw3-slc-vv-20240727t051857-20240727t051922-054942-06b141-006.tiff",
         "SamplesPerBurst": 25504,
         "SwathIdentifier": "IW3"
        },
        {
         "@odata.mediaContentType": "application/octet-stream",
         "AbsoluteBurstId": 120265427,
         "AzimuthAnxTime": 2200.7548119914,
         "AzimuthTime": "2024-10-07T05:19:21.627635Z",
         "BeginningDateTime": "2024-10-07T05:19:22.770748Z",
         "BurstId": 202703,
         "ByteOffset": 1256856515,
         "ContentDate": {
          "End": "2024-10-07T05:19:23.675353Z",
          "Start": "2024-10-07T05:19:22.770748Z"
         },
         "ContentType": "application/octet-stream",
         "DatatakeID": 448752,
         "EndingDateTime": "2024-10-07T05:19:23.675353Z",
         "Footprint": "geography'SRID=4326;POLYGON ((12.089482 46.634916, 11.563369 46.69639, 11.056374 46.753309, 11.010245 46.548522, 11.516373 46.496209, 12.041638 46.439349, 12.089482 46.634916))'",
         "GeoFootprint": {
          "coordinates": [
           [
            [
             12.089482,
             46.634916
            ],
            [
             11.563369,
             46.69639
            ],
            [
             11.056374,
             46.753309
            ],
            [
             11.010245,
             46.548522
            ],
            [
             11.516373,
             46.496209
            ],
            [
             12.041638,
             46.439349
            ],
            [
             12.089482,
             46.634916
            ]
           ]
          ],
          "type": "Polygon"
         },
         "Id": "9eba982a-209a-4ce8-9a81-aa44dfa8a60b",
         "Lines": 12200,
         "LinesPerBurst": 1525,
         "Name": "S1A-SLC-20241007T051922-202703-IW3-VV-448752",
         "OperationalMode": "IW",
         "OrbitDirection": "DESCENDING",
         "ParentProductId": "39c03d4b-8afb-4a0b-ad70-1c204593e67c",
         "ParentProductName": "S1A_IW_SLC__1SDV_20241007T051858_20241007T051925_055992_06D8F0_B9EE.SAFE",
         "ParentProductType": "IW_SLC__1S",
         "PlatformSerialIdentifier": "A",
         "PolarisationChannels": "VV",
         "RelativeOrbitNumber": 95,
         "S3Path": "/eodata/Sentinel-1/SAR/IW_SLC__1S/2024/10/07/S1A_IW_SLC__1SDV_20241007T051858_20241007T051925_055992_06D8F0_B9EE.SAFE/measurement/s1a-iw3-slc-vv-20241007t051859-20241007t051924-055992-06d8f0-006.tiff",
         "SamplesPerBurst": 25753,
         "SwathIdentifier": "IW3"
        },
        {
         "@odata.mediaContentType": "application/octet-stream",
         "AbsoluteBurstId": 121768977,
         "AzimuthAnxTime": 2200.7833704351,
         "AzimuthTime": "2024-11-24T05:19:20.039662Z",
         "BeginningDateTime": "2024-11-24T05:19:21.180721Z",
         "BurstId": 202703,
         "ByteOffset": 1256856515,
         "ContentDate": {
          "End": "2024-11-24T05:19:22.085326Z",
          "Start": "2024-11-24T05:19:21.180721Z"
         },
         "ContentType": "application/octet-stream",
         "DatatakeID": 455875,
         "EndingDateTime": "2024-11-24T05:19:22.085326Z",
         "Footprint": "geography'SRID=4326;POLYGON ((12.089482 46.634916, 11.563369 46.69639, 11.056374 46.753309, 11.010245 46.548522, 11.516373 46.496209, 12.041638 46.439349, 12.089482 46.634916))'",
         "GeoFootprint": {
          "coordinates": [
           [
            [
             12.089482,
             46.634916
            ],
            [
             11.563369,
             46.69639
            ],
            [
             11.056374,
             46.753309
            ],
            [
             11.010245,
             46.548522
            ],
            [
             11.516373,
             46.496209
            ],
            [
             12.041638,
             46.439349
            ],
            [
             12.089482,
             46.634916
            ]
           ]
          ],
          "type": "Polygon"
         },
         "Id": "0d371c7e-a79e-4a53-bf3f-c90f14aa8a78",
         "Lines": 12200,
         "LinesPerBurst": 1525,
         "Name": "S1A-SLC-20241124T051921-202703-IW3-VV-455875",
         "OperationalMode": "IW",
         "OrbitDirection": "DESCENDING",
         "ParentProductId": "5e343c48-bbe8-4a8e-8fa9-d67371257daa",
         "ParentProductName": "S1A_IW_SLC__1SDV_20241124T051857_20241124T051923_056692_06F4C3_F656.SAFE",
         "ParentProductType": "IW_SLC__1S",
         "PlatformSerialIdentifier": "A",
         "PolarisationChannels": "VV",
         "RelativeOrbitNumber": 95,
         "S3Path": "/eodata/Sentinel-1/SAR/IW_SLC__1S/2024/11/24/S1A_IW_SLC__1SDV_20241124T051857_20241124T051923_056692_06F4C3_F656.SAFE/measurement/s1a-iw3-slc-vv-20241124t051857-20241124t051923-056692-06f4c3-006.tiff",
         "SamplesPerBurst": 25753,
         "SwathIdentifier": "IW3"
        },
        {
         "@odata.mediaContentType": "application/octet-stream",
         "AbsoluteBurstId": 122144864,
         "AzimuthAnxTime": 2200.7853515477,
         "AzimuthTime": "2024-12-06T05:19:19.038387Z",
         "BeginningDateTime": "2024-12-06T05:19:20.175334Z",
         "BurstId": 202703,
         "ByteOffset": 1256856515,
         "ContentDate": {
          "End": "2024-12-06T05:19:21.079939Z",
          "Start": "2024-12-06T05:19:20.175334Z"
         },
         "ContentType": "application/octet-stream",
         "DatatakeID": 457644,
         "EndingDateTime": "2024-12-06T05:19:21.079939Z",
         "Footprint": "geography'SRID=4326;POLYGON ((12.089482 46.634916, 11.563369 46.69639, 11.056374 46.753309, 11.010245 46.548522, 11.516373 46.496209, 12.041638 46.439349, 12.089482 46.634916))'",
         "GeoFootprint": {
          "coordinates": [
           [
            [
             12.089482,
             46.634916
            ],
            [
             11.563369,
             46.69639
            ],
            [
             11.056374,
             46.753309
            ],
            [
             11.010245,
             46.548522
            ],
            [
             11.516373,
             46.496209
            ],
            [
             12.041638,
             46.439349
            ],
            [
             12.089482,
             46.634916
            ]
           ]
          ],
          "type": "Polygon"
         },
         "Id": "a06135da-2ab7-4da9-ae75-03257ecde72a",
         "Lines": 12200,
         "LinesPerBurst": 1525,
         "Name": "S1A-SLC-20241206T051920-202703-IW3-VV-457644",
         "OperationalMode": "IW",
         "OrbitDirection": "DESCENDING",
         "ParentProductId": "ab43ce7b-83d7-43a3-8520-5e221516f917",
         "ParentProductName": "S1A_IW_SLC__1SDV_20241206T051856_20241206T051922_056867_06FBAC_5996.SAFE",
         "ParentProductType": "IW_SLC__1S",
         "PlatformSerialIdentifier": "A",
         "PolarisationChannels": "VV",
         "RelativeOrbitNumber": 95,
         "S3Path": "/eodata/Sentinel-1/SAR/IW_SLC__1S/2024/12/06/S1A_IW_SLC__1SDV_20241206T051856_20241206T051922_056867_06FBAC_5996.SAFE/measurement/s1a-iw3-slc-vv-20241206t051856-20241206t051922-056867-06fbac-006.tiff",
         "SamplesPerBurst": 25753,
         "SwathIdentifier": "IW3"
        },
        {
         "@odata.mediaContentType": "application/octet-stream",
         "AbsoluteBurstId": 121393089,
         "AzimuthAnxTime": 2200.7718289914,
         "AzimuthTime": "2024-11-12T05:19:20.741032Z",
         "BeginningDateTime": "2024-11-12T05:19:21.882091Z",
         "BurstId": 202703,
         "ByteOffset": 1256856515,
         "ContentDate": {
          "End": "2024-11-12T05:19:22.786696Z",
          "Start": "2024-11-12T05:19:21.882091Z"
         },
         "ContentType": "application/octet-stream",
         "DatatakeID": 454084,
         "EndingDateTime": "2024-11-12T05:19:22.786696Z",
         "Footprint": "geography'SRID=4326;POLYGON ((12.089482 46.634916, 11.563369 46.69639, 11.056374 46.753309, 11.010245 46.548522, 11.516373 46.496209, 12.041638 46.439349, 12.089482 46.634916))'",
         "GeoFootprint": {
          "coordinates": [
           [
            [
             12.089482,
             46.634916
            ],
            [
             11.563369,
             46.69639
            ],
            [
             11.056374,
             46.753309
            ],
            [
             11.010245,
             46.548522
            ],
            [
             11.516373,
             46.496209
            ],
            [
             12.041638,
             46.439349
            ],
            [
             12.089482,
             46.634916
            ]
           ]
          ],
          "type": "Polygon"
         },
         "Id": "f3b87b19-5465-4a59-ab9c-1a7fec47b369",
         "Lines": 12200,
         "LinesPerBurst": 1525,
         "Name": "S1A-SLC-20241112T051921-202703-IW3-VV-454084",
         "OperationalMode": "IW",
         "OrbitDirection": "DESCENDING",
         "ParentProductId": "b4a95377-b0dc-43bd-87a2-c42e97b8b6db",
         "ParentProductName": "S1A_IW_SLC__1SDV_20241112T051857_20241112T051924_056517_06EDC4_FF12.SAFE",
         "ParentProductType": "IW_SLC__1S",
         "PlatformSerialIdentifier": "A",
         "PolarisationChannels": "VV",
         "RelativeOrbitNumber": 95,
         "S3Path": "/eodata/Sentinel-1/SAR/IW_SLC__1S/2024/11/12/S1A_IW_SLC__1SDV_20241112T051857_20241112T051924_056517_06EDC4_FF12.SAFE/measurement/s1a-iw3-slc-vv-20241112t051858-20241112t051923-056517-06edc4-006.tiff",
         "SamplesPerBurst": 25753,
         "SwathIdentifier": "IW3"
        },
        {
         "@odata.mediaContentType": "application/octet-stream",
         "AbsoluteBurstId": 120641314,
         "AzimuthAnxTime": 2200.755818104,
         "AzimuthTime": "2024-10-19T05:19:21.413645Z",
         "BeginningDateTime": "2024-10-19T05:19:22.556758Z",
         "BurstId": 202703,
         "ByteOffset": 1256905315,
         "ContentDate": {
          "End": "2024-10-19T05:19:23.461363Z",
          "Start": "2024-10-19T05:19:22.556758Z"
         },
         "ContentType": "application/octet-stream",
         "DatatakeID": 450524,
         "EndingDateTime": "2024-10-19T05:19:23.461363Z",
         "Footprint": "geography'SRID=4326;POLYGON ((12.089482 46.634916, 11.563369 46.69639, 11.056374 46.753309, 11.010245 46.548522, 11.516373 46.496209, 12.041638 46.439349, 12.089482 46.634916))'",
         "GeoFootprint": {
          "coordinates": [
           [
            [
             12.089482,
             46.634916
            ],
            [
             11.563369,
             46.69639
            ],
            [
             11.056374,
             46.753309
            ],
            [
             11.010245,
             46.548522
            ],
            [
             11.516373,
             46.496209
            ],
            [
             12.041638,
             46.439349
            ],
            [
             12.089482,
             46.634916
            ]
           ]
          ],
          "type": "Polygon"
         },
         "Id": "05a4ba4e-fafd-4958-bfa7-a4600e50c516",
         "Lines": 12200,
         "LinesPerBurst": 1525,
         "Name": "S1A-SLC-20241019T051922-202703-IW3-VV-450524",
         "OperationalMode": "IW",
         "OrbitDirection": "DESCENDING",
         "ParentProductId": "13e2ad92-6d42-493d-b01c-7dae363b7aeb",
         "ParentProductName": "S1A_IW_SLC__1SDV_20241019T051858_20241019T051925_056167_06DFDC_03C3.SAFE",
         "ParentProductType": "IW_SLC__1S",
         "PlatformSerialIdentifier": "A",
         "PolarisationChannels": "VV",
         "RelativeOrbitNumber": 95,
         "S3Path": "/eodata/Sentinel-1/SAR/IW_SLC__1S/2024/10/19/S1A_IW_SLC__1SDV_20241019T051858_20241019T051925_056167_06DFDC_03C3.SAFE/measurement/s1a-iw3-slc-vv-20241019t051859-20241019t051924-056167-06dfdc-006.tiff",
         "SamplesPerBurst": 25754,
         "SwathIdentifier": "IW3"
        },
        {
         "@odata.mediaContentType": "application/octet-stream",
         "AbsoluteBurstId": 121017202,
         "AzimuthAnxTime": 2200.7768749914,
         "AzimuthTime": "2024-10-31T05:19:21.399161Z",
         "BeginningDateTime": "2024-10-31T05:19:22.534053Z",
         "BurstId": 202703,
         "ByteOffset": 1256856515,
         "ContentDate": {
          "End": "2024-10-31T05:19:23.438658Z",
          "Start": "2024-10-31T05:19:22.534053Z"
         },
         "ContentType": "application/octet-stream",
         "DatatakeID": 452300,
         "EndingDateTime": "2024-10-31T05:19:23.438658Z",
         "Footprint": "geography'SRID=4326;POLYGON ((12.089482 46.634916, 11.563369 46.69639, 11.056374 46.753309, 11.010245 46.548522, 11.516373 46.496209, 12.041638 46.439349, 12.089482 46.634916))'",
         "GeoFootprint": {
          "coordinates": [
           [
            [
             12.089482,
             46.634916
            ],
            [
             11.563369,
             46.69639
            ],
            [
             11.056374,
             46.753309
            ],
            [
             11.010245,
             46.548522
            ],
            [
             11.516373,
             46.496209
            ],
            [
             12.041638,
             46.439349
            ],
            [
             12.089482,
             46.634916
            ]
           ]
          ],
          "type": "Polygon"
         },
         "Id": "8e2b6713-0ac0-4bcc-af20-717d480e5ede",
         "Lines": 12200,
         "LinesPerBurst": 1525,
         "Name": "S1A-SLC-20241031T051922-202703-IW3-VV-452300",
         "OperationalMode": "IW",
         "OrbitDirection": "DESCENDING",
         "ParentProductId": "682fffbd-9948-44ca-a3d1-2a85be9f427b",
         "ParentProductName": "S1A_IW_SLC__1SDV_20241031T051858_20241031T051925_056342_06E6CC_B616.SAFE",
         "ParentProductType": "IW_SLC__1S",
         "PlatformSerialIdentifier": "A",
         "PolarisationChannels": "VV",
         "RelativeOrbitNumber": 95,
         "S3Path": "/eodata/Sentinel-1/SAR/IW_SLC__1S/2024/10/31/S1A_IW_SLC__1SDV_20241031T051858_20241031T051925_056342_06E6CC_B616.SAFE/measurement/s1a-iw3-slc-vv-20241031t051859-20241031t051924-056342-06e6cc-006.tiff",
         "SamplesPerBurst": 25753,
         "SwathIdentifier": "IW3"
        },
        {
         "@odata.mediaContentType": "application/octet-stream",
         "AbsoluteBurstId": 122896639,
         "AzimuthAnxTime": 2200.7937729914,
         "AzimuthTime": "2024-12-30T05:19:17.197989Z",
         "BeginningDateTime": "2024-12-30T05:19:18.332881Z",
         "BurstId": 202703,
         "ByteOffset": 1256856515,
         "ContentDate": {
          "End": "2024-12-30T05:19:19.237486Z",
          "Start": "2024-12-30T05:19:18.332881Z"
         },
         "ContentType": "application/octet-stream",
         "DatatakeID": 461194,
         "EndingDateTime": "2024-12-30T05:19:19.237486Z",
         "Footprint": "geography'SRID=4326;POLYGON ((12.089482 46.634916, 11.563369 46.69639, 11.056374 46.753309, 11.010245 46.548522, 11.516373 46.496209, 12.041638 46.439349, 12.089482 46.634916))'",
         "GeoFootprint": {
          "coordinates": [
           [
            [
             12.089482,
             46.634916
            ],
            [
             11.563369,
             46.69639
            ],
            [
             11.056374,
             46.753309
            ],
            [
             11.010245,
             46.548522
            ],
            [
             11.516373,
             46.496209
            ],
            [
             12.041638,
             46.439349
            ],
            [
             12.089482,
             46.634916
            ]
           ]
          ],
          "type": "Polygon"
         },
         "Id": "63266c3f-e409-4a9a-ab38-042004a35d91",
         "Lines": 12200,
         "LinesPerBurst": 1525,
         "Name": "S1A-SLC-20241230T051918-202703-IW3-VV-461194",
         "OperationalMode": "IW",
         "OrbitDirection": "DESCENDING",
         "ParentProductId": "6ee62120-5577-435b-b868-55296bb7f692",
         "ParentProductName": "S1A_IW_SLC__1SDV_20241230T051854_20241230T051921_057217_07098A_8613.SAFE",
         "ParentProductType": "IW_SLC__1S",
         "PlatformSerialIdentifier": "A",
         "PolarisationChannels": "VV",
         "RelativeOrbitNumber": 95,
         "S3Path": "/eodata/Sentinel-1/SAR/IW_SLC__1S/2024/12/30/S1A_IW_SLC__1SDV_20241230T051854_20241230T051921_057217_07098A_8613.SAFE/measurement/s1a-iw3-slc-vv-20241230t051855-20241230t051920-057217-07098a-006.tiff",
         "SamplesPerBurst": 25753,
         "SwathIdentifier": "IW3"
        },
        {
         "@odata.mediaContentType": "application/octet-stream",
         "AbsoluteBurstId": 122520751,
         "AzimuthAnxTime": 2200.7965835477,
         "AzimuthTime": "2024-12-18T05:19:17.715084Z",
         "BeginningDateTime": "2024-12-18T05:19:18.852046Z",
         "BurstId": 202703,
         "ByteOffset": 1256856515,
         "ContentDate": {
          "End": "2024-12-18T05:19:19.756651Z",
          "Start": "2024-12-18T05:19:18.852046Z"
         },
         "ContentType": "application/octet-stream",
         "DatatakeID": 459422,
         "EndingDateTime": "2024-12-18T05:19:19.756651Z",
         "Footprint": "geography'SRID=4326;POLYGON ((12.089482 46.634916, 11.563369 46.69639, 11.056374 46.753309, 11.010245 46.548522, 11.516373 46.496209, 12.041638 46.439349, 12.089482 46.634916))'",
         "GeoFootprint": {
          "coordinates": [
           [
            [
             12.089482,
             46.634916
            ],
            [
             11.563369,
             46.69639
            ],
            [
             11.056374,
             46.753309
            ],
            [
             11.010245,
             46.548522
            ],
            [
             11.516373,
             46.496209
            ],
            [
             12.041638,
             46.439349
            ],
            [
             12.089482,
             46.634916
            ]
           ]
          ],
          "type": "Polygon"
         },
         "Id": "a17ee950-db17-4b2e-9610-6eadb8796091",
         "Lines": 12200,
         "LinesPerBurst": 1525,
         "Name": "S1A-SLC-20241218T051918-202703-IW3-VV-459422",
         "OperationalMode": "IW",
         "OrbitDirection": "DESCENDING",
         "ParentProductId": "ee96f87b-c3aa-4525-9a92-987ea9ea52e5",
         "ParentProductName": "S1A_IW_SLC__1SDV_20241218T051854_20241218T051921_057042_07029E_A70C.SAFE",
         "ParentProductType": "IW_SLC__1S",
         "PlatformSerialIdentifier": "A",
         "PolarisationChannels": "VV",
         "RelativeOrbitNumber": 95,
         "S3Path": "/eodata/Sentinel-1/SAR/IW_SLC__1S/2024/12/18/S1A_IW_SLC__1SDV_20241218T051854_20241218T051921_057042_07029E_A70C.SAFE/measurement/s1a-iw3-slc-vv-20241218t051855-20241218t051920-057042-07029e-006.tiff",
         "SamplesPerBurst": 25753,
         "SwathIdentifier": "IW3"
        },
        {
         "@odata.mediaContentType": "application/octet-stream",
         "AbsoluteBurstId": 113499455,
         "AzimuthAnxTime": 2203.5003641109,
         "AzimuthTime": "2024-03-05T05:19:23.671203Z",
         "BeginningDateTime": "2024-03-05T05:19:24.832536Z",
         "BurstId": 202704,
         "ByteOffset": 110115,
         "ContentDate": {
          "End": "2024-03-05T05:19:25.737141Z",
          "Start": "2024-03-05T05:19:24.832536Z"
         },
         "ContentType": "application/octet-stream",
         "DatatakeID": 419114,
         "EndingDateTime": "2024-03-05T05:19:25.737141Z",
         "Footprint": "geography'SRID=4326;POLYGON ((12.049022 46.469577, 11.524545 46.531064, 11.019128 46.588009, 10.97311 46.383218, 11.477674 46.330878, 12.001315 46.274004, 12.049022 46.469577))'",
         "GeoFootprint": {
          "coordinates": [
           [
            [
             12.049022,
             46.469577
            ],
            [
             11.524545,
             46.531064
            ],
            [
             11.019128,
             46.588009
            ],
            [
             10.97311,
             46.383218
            ],
            [
             11.477674,
             46.330878
            ],
            [
             12.001315,
             46.274004
            ],
            [
             12.049022,
             46.469577
            ]
           ]
          ],
          "type": "Polygon"
         },
         "Id": "912f91e0-89b2-462b-98a7-0454966196d9",
         "Lines": 0,
         "LinesPerBurst": 1525,
         "Name": "S1A-SLC-20240305T051924-202704-IW3-VV-419114",
         "OperationalMode": "IW",
         "OrbitDirection": "DESCENDING",
         "ParentProductId": "4a9cf612-7cfa-4a75-984c-bdedf4ad7293",
         "ParentProductName": "S1A_IW_SLC__1SDV_20240305T051922_20240305T051949_052842_06652A_4826.SAFE",
         "ParentProductType": "IW_SLC__1S",
         "PlatformSerialIdentifier": "A",
         "PolarisationChannels": "VV",
         "RelativeOrbitNumber": 95,
         "S3Path": "/eodata/Sentinel-1/SAR/IW_SLC__1S/2024/03/05/S1A_IW_SLC__1SDV_20240305T051922_20240305T051949_052842_06652A_4826.SAFE/measurement/s1a-iw3-slc-vv-20240305t051923-20240305t051948-052842-06652a-006.tiff",
         "SamplesPerBurst": 25753,
         "SwathIdentifier": "IW3"
        },
        {
         "@odata.mediaContentType": "application/octet-stream",
         "AbsoluteBurstId": 114251230,
         "AzimuthAnxTime": 2203.5185265546,
         "AzimuthTime": "2024-03-29T05:19:24.146763Z",
         "BeginningDateTime": "2024-03-29T05:19:25.281373Z",
         "BurstId": 202704,
         "ByteOffset": 110115,
         "ContentDate": {
          "End": "2024-03-29T05:19:26.185978Z",
          "Start": "2024-03-29T05:19:25.281373Z"
         },
         "ContentType": "application/octet-stream",
         "DatatakeID": 422389,
         "EndingDateTime": "2024-03-29T05:19:26.185978Z",
         "Footprint": "geography'SRID=4326;POLYGON ((12.049022 46.469577, 11.524545 46.531064, 11.019128 46.588009, 10.97311 46.383218, 11.477674 46.330878, 12.001315 46.274004, 12.049022 46.469577))'",
         "GeoFootprint": {
          "coordinates": [
           [
            [
             12.049022,
             46.469577
            ],
            [
             11.524545,
             46.531064
            ],
            [
             11.019128,
             46.588009
            ],
            [
             10.97311,
             46.383218
            ],
            [
             11.477674,
             46.330878
            ],
            [
             12.001315,
             46.274004
            ],
            [
             12.049022,
             46.469577
            ]
           ]
          ],
          "type": "Polygon"
         },
         "Id": "0552ec35-4adc-461e-8933-a45536096f56",
         "Lines": 0,
         "LinesPerBurst": 1525,
         "Name": "S1A-SLC-20240329T051925-202704-IW3-VV-422389",
         "OperationalMode": "IW",
         "OrbitDirection": "DESCENDING",
         "ParentProductId": "e0eecd15-5cc9-4e70-8e6a-67994b7da774",
         "ParentProductName": "S1A_IW_SLC__1SDV_20240329T051923_20240329T051950_053192_0671F5_38E4.SAFE",
         "ParentProductType": "IW_SLC__1S",
         "PlatformSerialIdentifier": "A",
         "PolarisationChannels": "VV",
         "RelativeOrbitNumber": 95,
         "S3Path": "/eodata/Sentinel-1/SAR/IW_SLC__1S/2024/03/29/S1A_IW_SLC__1SDV_20240329T051923_20240329T051950_053192_0671F5_38E4.SAFE/measurement/s1a-iw3-slc-vv-20240329t051924-20240329t051949-053192-0671f5-006.tiff",
         "SamplesPerBurst": 25753,
         "SwathIdentifier": "IW3"
        },
        {
         "@odata.mediaContentType": "application/octet-stream",
         "AbsoluteBurstId": 111995906,
         "AzimuthAnxTime": 2203.5434125546,
         "AzimuthTime": "2024-01-17T05:19:23.960282Z",
         "BeginningDateTime": "2024-01-17T05:19:25.101060Z",
         "BurstId": 202704,
         "ByteOffset": 110115,
         "ContentDate": {
          "End": "2024-01-17T05:19:26.005665Z",
          "Start": "2024-01-17T05:19:25.101060Z"
         },
         "ContentType": "application/octet-stream",
         "DatatakeID": 413042,
         "EndingDateTime": "2024-01-17T05:19:26.005665Z",
         "Footprint": "geography'SRID=4326;POLYGON ((12.049022 46.469577, 11.524545 46.531064, 11.019128 46.588009, 10.97311 46.383218, 11.477674 46.330878, 12.001315 46.274004, 12.049022 46.469577))'",
         "GeoFootprint": {
          "coordinates": [
           [
            [
             12.049022,
             46.469577
            ],
            [
             11.524545,
             46.531064
            ],
            [
             11.019128,
             46.588009
            ],
            [
             10.97311,
             46.383218
            ],
            [
             11.477674,
             46.330878
            ],
            [
             12.001315,
             46.274004
            ],
            [
             12.049022,
             46.469577
            ]
           ]
          ],
          "type": "Polygon"
         },
         "Id": "5272b7df-ee3e-4fd3-9fae-c72e061261d3",
         "Lines": 0,
         "LinesPerBurst": 1525,
         "Name": "S1A-SLC-20240117T051925-202704-IW3-VV-413042",
         "OperationalMode": "IW",
         "OrbitDirection": "DESCENDING",
         "ParentProductId": "2b75e15f-5eb5-42c6-8e0d-b430a2a3f281",
         "ParentProductName": "S1A_IW_SLC__1SDV_20240117T051923_20240117T051949_052142_064D72_7FCA.SAFE",
         "ParentProductType": "IW_SLC__1S",
         "PlatformSerialIdentifier": "A",
         "PolarisationChannels": "VV",
         "RelativeOrbitNumber": 95,
         "S3Path": "/eodata/Sentinel-1/SAR/IW_SLC__1S/2024/01/17/S1A_IW_SLC__1SDV_20240117T051923_20240117T051949_052142_064D72_7FCA.SAFE/measurement/s1a-iw3-slc-vv-20240117t051923-20240117t051949-052142-064d72-006.tiff",
         "SamplesPerBurst": 25753,
         "SwathIdentifier": "IW3"
        },
        {
         "@odata.mediaContentType": "application/octet-stream",
         "AbsoluteBurstId": 113123568,
         "AzimuthAnxTime": 2203.5300245546,
         "AzimuthTime": "2024-02-22T05:19:23.484877Z",
         "BeginningDateTime": "2024-02-22T05:19:24.623613Z",
         "BurstId": 202704,
         "ByteOffset": 110115,
         "ContentDate": {
          "End": "2024-02-22T05:19:25.528218Z",
          "Start": "2024-02-22T05:19:24.623613Z"
         },
         "ContentType": "application/octet-stream",
         "DatatakeID": 417590,
         "EndingDateTime": "2024-02-22T05:19:25.528218Z",
         "Footprint": "geography'SRID=4326;POLYGON ((12.049022 46.469577, 11.524545 46.531064, 11.019128 46.588009, 10.97311 46.383218, 11.477674 46.330878, 12.001315 46.274004, 12.049022 46.469577))'",
         "GeoFootprint": {
          "coordinates": [
           [
            [
             12.049022,
             46.469577
            ],
            [
             11.524545,
             46.531064
            ],
            [
             11.019128,
             46.588009
            ],
            [
             10.97311,
             46.383218
            ],
            [
             11.477674,
             46.330878
            ],
            [
             12.001315,
             46.274004
            ],
            [
             12.049022,
             46.469577
            ]
           ]
          ],
          "type": "Polygon"
         },
         "Id": "8d56b34a-bc55-4b93-960c-7949b16576c7",
         "Lines": 0,
         "LinesPerBurst": 1525,
         "Name": "S1A-SLC-20240222T051924-202704-IW3-VV-417590",
         "OperationalMode": "IW",
         "OrbitDirection": "DESCENDING",
         "ParentProductId": "eb4a2aa2-c7af-4676-aa9d-dc927cfb15c3",
         "ParentProductName": "S1A_IW_SLC__1SDV_20240222T051922_20240222T051949_052667_065F36_7221.SAFE",
         "ParentProductType": "IW_SLC__1S",
         "PlatformSerialIdentifier": "A",
         "PolarisationChannels": "VV",
         "RelativeOrbitNumber": 95,
         "S3Path": "/eodata/Sentinel-1/SAR/IW_SLC__1S/2024/02/22/S1A_IW_SLC__1SDV_20240222T051922_20240222T051949_052667_065F36_7221.SAFE/measurement/s1a-iw3-slc-vv-20240222t051923-20240222t051948-052667-065f36-006.tiff",
         "SamplesPerBurst": 25753,
         "SwathIdentifier": "IW3"
        },
        {
         "@odata.mediaContentType": "application/octet-stream",
         "AbsoluteBurstId": 112747681,
         "AzimuthAnxTime": 2203.5437575546,
         "AzimuthTime": "2024-02-10T05:19:23.485411Z",
         "BeginningDateTime": "2024-02-10T05:19:24.617967Z",
         "BurstId": 202704,
         "ByteOffset": 110115,
         "ContentDate": {
          "End": "2024-02-10T05:19:25.522572Z",
          "Start": "2024-02-10T05:19:24.617967Z"
         },
         "ContentType": "application/octet-stream",
         "DatatakeID": 416062,
         "EndingDateTime": "2024-02-10T05:19:25.522572Z",
         "Footprint": "geography'SRID=4326;POLYGON ((12.049022 46.469577, 11.524545 46.531064, 11.019128 46.588009, 10.97311 46.383218, 11.477674 46.330878, 12.001315 46.274004, 12.049022 46.469577))'",
         "GeoFootprint": {
          "coordinates": [
           [
            [
             12.049022,
             46.469577
            ],
            [
             11.524545,
             46.531064
            ],
            [
             11.019128,
             46.588009
            ],
            [
             10.97311,
             46.383218
            ],
            [
             11.477674,
             46.330878
            ],
            [
             12.001315,
             46.274004
            ],
            [
             12.049022,
             46.469577
            ]
           ]
          ],
          "type": "Polygon"
         },
         "Id": "428a2494-72ff-4977-ba57-11474a8856c4",
         "Lines": 0,
         "LinesPerBurst": 1525,
         "Name": "S1A-SLC-20240210T051924-202704-IW3-VV-416062",
         "OperationalMode": "IW",
         "OrbitDirection": "DESCENDING",
         "ParentProductId": "35779f91-86ac-4723-9985-06bb0b6d6170",
         "ParentProductName": "S1A_IW_SLC__1SDV_20240210T051922_20240210T051949_052492_06593E_2E41.SAFE",
         "ParentProductType": "IW_SLC__1S",
         "PlatformSerialIdentifier": "A",
         "PolarisationChannels": "VV",
         "RelativeOrbitNumber": 95,
         "S3Path": "/eodata/Sentinel-1/SAR/IW_SLC__1S/2024/02/10/S1A_IW_SLC__1SDV_20240210T051922_20240210T051949_052492_06593E_2E41.SAFE/measurement/s1a-iw3-slc-vv-20240210t051923-20240210t051948-052492-06593e-006.tiff",
         "SamplesPerBurst": 25753,
         "SwathIdentifier": "IW3"
        },
        {
         "@odata.mediaContentType": "application/octet-stream",
         "AbsoluteBurstId": 113875343,
         "AzimuthAnxTime": 2203.5019535546,
         "AzimuthTime": "2024-03-17T05:19:23.825496Z",
         "BeginningDateTime": "2024-03-17T05:19:24.984773Z",
         "BurstId": 202704,
         "ByteOffset": 110115,
         "ContentDate": {
          "End": "2024-03-17T05:19:25.889378Z",
          "Start": "2024-03-17T05:19:24.984773Z"
         },
         "ContentType": "application/octet-stream",
         "DatatakeID": 420678,
         "EndingDateTime": "2024-03-17T05:19:25.889378Z",
         "Footprint": "geography'SRID=4326;POLYGON ((12.049022 46.469577, 11.524545 46.531064, 11.019128 46.588009, 10.97311 46.383218, 11.477674 46.330878, 12.001315 46.274004, 12.049022 46.469577))'",
         "GeoFootprint": {
          "coordinates": [
           [
            [
             12.049022,
             46.469577
            ],
            [
             11.524545,
             46.531064
            ],
            [
             11.019128,
             46.588009
            ],
            [
             10.97311,
             46.383218
            ],
            [
             11.477674,
             46.330878
            ],
            [
             12.001315,
             46.274004
            ],
            [
             12.049022,
             46.469577
            ]
           ]
          ],
          "type": "Polygon"
         },
         "Id": "7569aef8-80cc-4037-ba0a-b3e6667cc77a",
         "Lines": 0,
         "LinesPerBurst": 1525,
         "Name": "S1A-SLC-20240317T051924-202704-IW3-VV-420678",
         "OperationalMode": "IW",
         "OrbitDirection": "DESCENDING",
         "ParentProductId": "3949756f-732b-4de7-aacd-d8a377d4ed2c",
         "ParentProductName": "S1A_IW_SLC__1SDV_20240317T051922_20240317T051949_053017_066B46_9D25.SAFE",
         "ParentProductType": "IW_SLC__1S",
         "PlatformSerialIdentifier": "A",
         "PolarisationChannels": "VV",
         "RelativeOrbitNumber": 95,
         "S3Path": "/eodata/Sentinel-1/SAR/IW_SLC__1S/2024/03/17/S1A_IW_SLC__1SDV_20240317T051922_20240317T051949_053017_066B46_9D25.SAFE/measurement/s1a-iw3-slc-vv-20240317t051923-20240317t051949-053017-066b46-006.tiff",
         "SamplesPerBurst": 25753,
         "SwathIdentifier": "IW3"
        },
        {
         "@odata.mediaContentType": "application/octet-stream",
         "AbsoluteBurstId": 112371793,
         "AzimuthAnxTime": 2203.5453531109,
         "AzimuthTime": "2024-01-29T05:19:24.096160Z",
         "BeginningDateTime": "2024-01-29T05:19:25.228715Z",
         "BurstId": 202704,
         "ByteOffset": 110115,
         "ContentDate": {
          "End": "2024-01-29T05:19:26.133320Z",
          "Start": "2024-01-29T05:19:25.228715Z"
         },
         "ContentType": "application/octet-stream",
         "DatatakeID": 414556,
         "EndingDateTime": "2024-01-29T05:19:26.133320Z",
         "Footprint": "geography'SRID=4326;POLYGON ((12.049022 46.469577, 11.524545 46.531064, 11.019128 46.588009, 10.97311 46.383218, 11.477674 46.330878, 12.001315 46.274004, 12.049022 46.469577))'",
         "GeoFootprint": {
          "coordinates": [
           [
            [
             12.049022,
             46.469577
            ],
            [
             11.524545,
             46.531064
            ],
            [
             11.019128,
             46.588009
            ],
            [
             10.97311,
             46.383218
            ],
            [
             11.477674,
             46.330878
            ],
            [
             12.001315,
             46.274004
            ],
            [
             12.049022,
             46.469577
            ]
           ]
          ],
          "type": "Polygon"
         },
         "Id": "853d079e-8d83-4fdb-9e6b-62cba9b24a1d",
         "Lines": 0,
         "LinesPerBurst": 1525,
         "Name": "S1A-SLC-20240129T051925-202704-IW3-VV-414556",
         "OperationalMode": "IW",
         "OrbitDirection": "DESCENDING",
         "ParentProductId": "093228ad-dfa5-4768-9227-c4d8bb043451",
         "ParentProductName": "S1A_IW_SLC__1SDV_20240129T051923_20240129T051950_052317_06535C_5159.SAFE",
         "ParentProductType": "IW_SLC__1S",
         "PlatformSerialIdentifier": "A",
         "PolarisationChannels": "VV",
         "RelativeOrbitNumber": 95,
         "S3Path": "/eodata/Sentinel-1/SAR/IW_SLC__1S/2024/01/29/S1A_IW_SLC__1SDV_20240129T051923_20240129T051950_052317_06535C_5159.SAFE/measurement/s1a-iw3-slc-vv-20240129t051924-20240129t051949-052317-06535c-006.tiff",
         "SamplesPerBurst": 25753,
         "SwathIdentifier": "IW3"
        },
        {
         "@odata.mediaContentType": "application/octet-stream",
         "AbsoluteBurstId": 111620018,
         "AzimuthAnxTime": 2203.5349075546,
         "AzimuthTime": "2024-01-05T05:19:24.961667Z",
         "BeginningDateTime": "2024-01-05T05:19:26.100389Z",
         "BurstId": 202704,
         "ByteOffset": 110115,
         "ContentDate": {
          "End": "2024-01-05T05:19:27.004994Z",
          "Start": "2024-01-05T05:19:26.100389Z"
         },
         "ContentType": "application/octet-stream",
         "DatatakeID": 411524,
         "EndingDateTime": "2024-01-05T05:19:27.004994Z",
         "Footprint": "geography'SRID=4326;POLYGON ((12.049022 46.469577, 11.524545 46.531064, 11.019128 46.588009, 10.97311 46.383218, 11.477674 46.330878, 12.001315 46.274004, 12.049022 46.469577))'",
         "GeoFootprint": {
          "coordinates": [
           [
            [
             12.049022,
             46.469577
            ],
            [
             11.524545,
             46.531064
            ],
            [
             11.019128,
             46.588009
            ],
            [
             10.97311,
             46.383218
            ],
            [
             11.477674,
             46.330878
            ],
            [
             12.001315,
             46.274004
            ],
            [
             12.049022,
             46.469577
            ]
           ]
          ],
          "type": "Polygon"
         },
         "Id": "c4114efc-b486-4f34-805e-927a4c911df8",
         "Lines": 0,
         "LinesPerBurst": 1525,
         "Name": "S1A-SLC-20240105T051926-202704-IW3-VV-411524",
         "OperationalMode": "IW",
         "OrbitDirection": "DESCENDING",
         "ParentProductId": "bde8f274-fb1d-484f-8ae3-b8860647381d",
         "ParentProductName": "S1A_IW_SLC__1SDV_20240105T051924_20240105T051950_051967_064784_9707.SAFE",
         "ParentProductType": "IW_SLC__1S",
         "PlatformSerialIdentifier": "A",
         "PolarisationChannels": "VV",
         "RelativeOrbitNumber": 95,
         "S3Path": "/eodata/Sentinel-1/SAR/IW_SLC__1S/2024/01/05/S1A_IW_SLC__1SDV_20240105T051924_20240105T051950_051967_064784_9707.SAFE/measurement/s1a-iw3-slc-vv-20240105t051924-20240105t051950-051967-064784-006.tiff",
         "SamplesPerBurst": 25753,
         "SwathIdentifier": "IW3"
        },
        {
         "@odata.mediaContentType": "application/octet-stream",
         "AbsoluteBurstId": 116882442,
         "AzimuthAnxTime": 2203.4870619983,
         "AzimuthTime": "2024-06-21T05:19:23.801472Z",
         "BeginningDateTime": "2024-06-21T05:19:24.958696Z",
         "BurstId": 202704,
         "ByteOffset": 110043,
         "ContentDate": {
          "End": "2024-06-21T05:19:25.862708Z",
          "Start": "2024-06-21T05:19:24.958696Z"
         },
         "ContentType": "application/octet-stream",
         "DatatakeID": 433926,
         "EndingDateTime": "2024-06-21T05:19:25.862708Z",
         "Footprint": "geography'SRID=4326;POLYGON ((12.049022 46.469577, 11.524545 46.531064, 11.019128 46.588009, 10.97311 46.383218, 11.477674 46.330878, 12.001315 46.274004, 12.049022 46.469577))'",
         "GeoFootprint": {
          "coordinates": [
           [
            [
             12.049022,
             46.469577
            ],
            [
             11.524545,
             46.531064
            ],
            [
             11.019128,
             46.588009
            ],
            [
             10.97311,
             46.383218
            ],
            [
             11.477674,
             46.330878
            ],
            [
             12.001315,
             46.274004
            ],
            [
             12.049022,
             46.469577
            ]
           ]
          ],
          "type": "Polygon"
         },
         "Id": "1d4e9620-10df-4cb9-bc3b-a77b3fdff656",
         "Lines": 0,
         "LinesPerBurst": 1524,
         "Name": "S1A-SLC-20240621T051924-202704-IW3-VV-433926",
         "OperationalMode": "IW",
         "OrbitDirection": "DESCENDING",
         "ParentProductId": "30ddf9ed-5a53-41f1-97d6-c7d32ccd43b3",
         "ParentProductName": "S1A_IW_SLC__1SDV_20240621T051922_20240621T051949_054417_069F06_F75D.SAFE",
         "ParentProductType": "IW_SLC__1S",
         "PlatformSerialIdentifier": "A",
         "PolarisationChannels": "VV",
         "RelativeOrbitNumber": 95,
         "S3Path": "/eodata/Sentinel-1/SAR/IW_SLC__1S/2024/06/21/S1A_IW_SLC__1SDV_20240621T051922_20240621T051949_054417_069F06_F75D.SAFE/measurement/s1a-iw3-slc-vv-20240621t051923-20240621t051948-054417-069f06-006.tiff",
         "SamplesPerBurst": 25504,
         "SwathIdentifier": "IW3"
        },
        {
         "@odata.mediaContentType": "application/octet-stream",
         "AbsoluteBurstId": 116130667,
         "AzimuthAnxTime": 2203.4948079983,
         "AzimuthTime": "2024-05-28T05:19:24.884819Z",
         "BeginningDateTime": "2024-05-28T05:19:26.035875Z",
         "BurstId": 202704,
         "ByteOffset": 110115,
         "ContentDate": {
          "End": "2024-05-28T05:19:26.940480Z",
          "Start": "2024-05-28T05:19:26.035875Z"
         },
         "ContentType": "application/octet-stream",
         "DatatakeID": 430828,
         "EndingDateTime": "2024-05-28T05:19:26.940480Z",
         "Footprint": "geography'SRID=4326;POLYGON ((12.049022 46.469577, 11.524545 46.531064, 11.019128 46.588009, 10.97311 46.383218, 11.477674 46.330878, 12.001315 46.274004, 12.049022 46.469577))'",
         "GeoFootprint": {
          "coordinates": [
           [
            [
             12.049022,
             46.469577
            ],
            [
             11.524545,
             46.531064
            ],
            [
             11.019128,
             46.588009
            ],
            [
             10.97311,
             46.383218
            ],
            [
             11.477674,
             46.330878
            ],
            [
             12.001315,
             46.274004
            ],
            [
             12.049022,
             46.469577
            ]
           ]
          ],
          "type": "Polygon"
         },
         "Id": "ef05c746-e2ba-4273-9ab2-c6d5ac8de3fe",
         "Lines": 0,
         "LinesPerBurst": 1525,
         "Name": "S1A-SLC-20240528T051926-202704-IW3-VV-430828",
         "OperationalMode": "IW",
         "OrbitDirection": "DESCENDING",
         "ParentProductId": "69a263e3-e8ad-46d5-ab12-f162e89e90ff",
         "ParentProductName": "S1A_IW_SLC__1SDV_20240528T051923_20240528T051950_054067_0692EC_85F2.SAFE",
         "ParentProductType": "IW_SLC__1S",
         "PlatformSerialIdentifier": "A",
         "PolarisationChannels": "VV",
         "RelativeOrbitNumber": 95,
         "S3Path": "/eodata/Sentinel-1/SAR/IW_SLC__1S/2024/05/28/S1A_IW_SLC__1SDV_20240528T051923_20240528T051950_054067_0692EC_85F2.SAFE/measurement/s1a-iw3-slc-vv-20240528t051924-20240528t051950-054067-0692ec-006.tiff",
         "SamplesPerBurst": 25753,
         "SwathIdentifier": "IW3"
        },
        {
         "@odata.mediaContentType": "application/octet-stream",
         "AbsoluteBurstId": 115378892,
         "AzimuthAnxTime": 2203.4774549983,
         "AzimuthTime": "2024-05-04T05:19:25.084901Z",
         "BeginningDateTime": "2024-05-04T05:19:26.254457Z",
         "BurstId": 202704,
         "ByteOffset": 110115,
         "ContentDate": {
          "End": "2024-05-04T05:19:27.159062Z",
          "Start": "2024-05-04T05:19:26.254457Z"
         },
         "ContentType": "application/octet-stream",
         "DatatakeID": 427668,
         "EndingDateTime": "2024-05-04T05:19:27.159062Z",
         "Footprint": "geography'SRID=4326;POLYGON ((12.049022 46.469577, 11.524545 46.531064, 11.019128 46.588009, 10.97311 46.383218, 11.477674 46.330878, 12.001315 46.274004, 12.049022 46.469577))'",
         "GeoFootprint": {
          "coordinates": [
           [
            [
             12.049022,
             46.469577
            ],
            [
             11.524545,
             46.531064
            ],
            [
             11.019128,
             46.588009
            ],
            [
             10.97311,
             46.383218
            ],
            [
             11.477674,
             46.330878
            ],
            [
             12.001315,
             46.274004
            ],
            [
             12.049022,
             46.469577
            ]
           ]
          ],
          "type": "Polygon"
         },
         "Id": "a9d9a430-c343-414d-a1ae-c9fb3d90fb71",
         "Lines": 0,
         "LinesPerBurst": 1525,
         "Name": "S1A-SLC-20240504T051926-202704-IW3-VV-427668",
         "OperationalMode": "IW",
         "OrbitDirection": "DESCENDING",
         "ParentProductId": "79cdef56-47f1-4a60-884b-8e4f5056553f",
         "ParentProductName": "S1A_IW_SLC__1SDV_20240504T051924_20240504T051951_053717_068694_910F.SAFE",
         "ParentProductType": "IW_SLC__1S",
         "PlatformSerialIdentifier": "A",
         "PolarisationChannels": "VV",
         "RelativeOrbitNumber": 95,
         "S3Path": "/eodata/Sentinel-1/SAR/IW_SLC__1S/2024/05/04/S1A_IW_SLC__1SDV_20240504T051924_20240504T051951_053717_068694_910F.SAFE/measurement/s1a-iw3-slc-vv-20240504t051925-20240504t051950-053717-068694-006.tiff",
         "SamplesPerBurst": 25753,
         "SwathIdentifier": "IW3"
        },
        {
         "@odata.mediaContentType": "application/octet-stream",
         "AbsoluteBurstId": 115754780,
         "AzimuthAnxTime": 2203.517624442,
         "AzimuthTime": "2024-05-16T05:19:24.803390Z",
         "BeginningDateTime": "2024-05-16T05:19:25.944169Z",
         "BurstId": 202704,
         "ByteOffset": 110115,
         "ContentDate": {
          "End": "2024-05-16T05:19:26.848774Z",
          "Start": "2024-05-16T05:19:25.944169Z"
         },
         "ContentType": "application/octet-stream",
         "DatatakeID": 429270,
         "EndingDateTime": "2024-05-16T05:19:26.848774Z",
         "Footprint": "geography'SRID=4326;POLYGON ((12.049022 46.469577, 11.524545 46.531064, 11.019128 46.588009, 10.97311 46.383218, 11.477674 46.330878, 12.001315 46.274004, 12.049022 46.469577))'",
         "GeoFootprint": {
          "coordinates": [
           [
            [
             12.049022,
             46.469577
            ],
            [
             11.524545,
             46.531064
            ],
            [
             11.019128,
             46.588009
            ],
            [
             10.97311,
             46.383218
            ],
            [
             11.477674,
             46.330878
            ],
            [
             12.001315,
             46.274004
            ],
            [
             12.049022,
             46.469577
            ]
           ]
          ],
          "type": "Polygon"
         },
         "Id": "85f0aaa0-cff8-4f66-a14c-96f1480e8cb7",
         "Lines": 0,
         "LinesPerBurst": 1525,
         "Name": "S1A-SLC-20240516T051925-202704-IW3-VV-429270",
         "OperationalMode": "IW",
         "OrbitDirection": "DESCENDING",
         "ParentProductId": "65c22594-696a-42ba-a0d8-dd50525b3e23",
         "ParentProductName": "S1A_IW_SLC__1SDV_20240516T051923_20240516T051950_053892_068CD6_4C5F.SAFE",
         "ParentProductType": "IW_SLC__1S",
         "PlatformSerialIdentifier": "A",
         "PolarisationChannels": "VV",
         "RelativeOrbitNumber": 95,
         "S3Path": "/eodata/Sentinel-1/SAR/IW_SLC__1S/2024/05/16/S1A_IW_SLC__1SDV_20240516T051923_20240516T051950_053892_068CD6_4C5F.SAFE/measurement/s1a-iw3-slc-vv-20240516t051924-20240516t051950-053892-068cd6-006.tiff",
         "SamplesPerBurst": 25753,
         "SwathIdentifier": "IW3"
        },
        {
         "@odata.mediaContentType": "application/octet-stream",
         "AbsoluteBurstId": 116506554,
         "AzimuthAnxTime": 2203.4967519983,
         "AzimuthTime": "2024-06-09T05:19:24.263679Z",
         "BeginningDateTime": "2024-06-09T05:19:25.414735Z",
         "BurstId": 202704,
         "ByteOffset": 110115,
         "ContentDate": {
          "End": "2024-06-09T05:19:26.319340Z",
          "Start": "2024-06-09T05:19:25.414735Z"
         },
         "ContentType": "application/octet-stream",
         "DatatakeID": 432378,
         "EndingDateTime": "2024-06-09T05:19:26.319340Z",
         "Footprint": "geography'SRID=4326;POLYGON ((12.049022 46.469577, 11.524545 46.531064, 11.019128 46.588009, 10.97311 46.383218, 11.477674 46.330878, 12.001315 46.274004, 12.049022 46.469577))'",
         "GeoFootprint": {
          "coordinates": [
           [
            [
             12.049022,
             46.469577
            ],
            [
             11.524545,
             46.531064
            ],
            [
             11.019128,
             46.588009
            ],
            [
             10.97311,
             46.383218
            ],
            [
             11.477674,
             46.330878
            ],
            [
             12.001315,
             46.274004
            ],
            [
             12.049022,
             46.469577
            ]
           ]
          ],
          "type": "Polygon"
         },
         "Id": "8dc7b222-08d3-4f7d-805a-c2e197506fb8",
         "Lines": 0,
         "LinesPerBurst": 1525,
         "Name": "S1A-SLC-20240609T051925-202704-IW3-VV-432378",
         "OperationalMode": "IW",
         "OrbitDirection": "DESCENDING",
         "ParentProductId": "7e59e36a-138a-428c-b283-eb617d5bf783",
         "ParentProductName": "S1A_IW_SLC__1SDV_20240609T051923_20240609T051950_054242_0698FA_FE4D.SAFE",
         "ParentProductType": "IW_SLC__1S",
         "PlatformSerialIdentifier": "A",
         "PolarisationChannels": "VV",
         "RelativeOrbitNumber": 95,
         "S3Path": "/eodata/Sentinel-1/SAR/IW_SLC__1S/2024/06/09/S1A_IW_SLC__1SDV_20240609T051923_20240609T051950_054242_0698FA_FE4D.SAFE/measurement/s1a-iw3-slc-vv-20240609t051924-20240609t051949-054242-0698fa-006.tiff",
         "SamplesPerBurst": 25754,
         "SwathIdentifier": "IW3"
        },
        {
         "@odata.mediaContentType": "application/octet-stream",
         "AbsoluteBurstId": 114627117,
         "AzimuthAnxTime": 2203.5046619983,
         "AzimuthTime": "2024-04-10T05:19:23.479723Z",
         "BeginningDateTime": "2024-04-10T05:19:24.620515Z",
         "BurstId": 202704,
         "ByteOffset": 110115,
         "ContentDate": {
          "End": "2024-04-10T05:19:25.525120Z",
          "Start": "2024-04-10T05:19:24.620515Z"
         },
         "ContentType": "application/octet-stream",
         "DatatakeID": 424142,
         "EndingDateTime": "2024-04-10T05:19:25.525120Z",
         "Footprint": "geography'SRID=4326;POLYGON ((12.049022 46.469577, 11.524545 46.531064, 11.019128 46.588009, 10.97311 46.383218, 11.477674 46.330878, 12.001315 46.274004, 12.049022 46.469577))'",
         "GeoFootprint": {
          "coordinates": [
           [
            [
             12.049022,
             46.469577
            ],
            [
             11.524545,
             46.531064
            ],
            [
             11.019128,
             46.588009
            ],
            [
             10.97311,
             46.383218
            ],
            [
             11.477674,
             46.330878
            ],
            [
             12.001315,
             46.274004
            ],
            [
             12.049022,
             46.469577
            ]
           ]
          ],
          "type": "Polygon"
         },
         "Id": "4c9d3d15-d3a3-4cd1-8df1-e1857ce3abbb",
         "Lines": 0,
         "LinesPerBurst": 1525,
         "Name": "S1A-SLC-20240410T051924-202704-IW3-VV-424142",
         "OperationalMode": "IW",
         "OrbitDirection": "DESCENDING",
         "ParentProductId": "28c4a7cb-d990-4fe9-ad9e-5bb0708cdddf",
         "ParentProductName": "S1A_IW_SLC__1SDV_20240410T051922_20240410T051949_053367_0678CE_7C59.SAFE",
         "ParentProductType": "IW_SLC__1S",
         "PlatformSerialIdentifier": "A",
         "PolarisationChannels": "VV",
         "RelativeOrbitNumber": 95,
         "S3Path": "/eodata/Sentinel-1/SAR/IW_SLC__1S/2024/04/10/S1A_IW_SLC__1SDV_20240410T051922_20240410T051949_053367_0678CE_7C59.SAFE/measurement/s1a-iw3-slc-vv-20240410t051923-20240410t051948-053367-0678ce-006.tiff",
         "SamplesPerBurst": 25753,
         "SwathIdentifier": "IW3"
        },
        {
         "@odata.mediaContentType": "application/octet-stream",
         "AbsoluteBurstId": 115003005,
         "AzimuthAnxTime": 2203.4863229983,
         "AzimuthTime": "2024-04-22T05:19:24.752768Z",
         "BeginningDateTime": "2024-04-22T05:19:25.909990Z",
         "BurstId": 202704,
         "ByteOffset": 110115,
         "ContentDate": {
          "End": "2024-04-22T05:19:26.814595Z",
          "Start": "2024-04-22T05:19:25.909990Z"
         },
         "ContentType": "application/octet-stream",
         "DatatakeID": 425907,
         "EndingDateTime": "2024-04-22T05:19:26.814595Z",
         "Footprint": "geography'SRID=4326;POLYGON ((12.049022 46.469577, 11.524545 46.531064, 11.019128 46.588009, 10.97311 46.383218, 11.477674 46.330878, 12.001315 46.274004, 12.049022 46.469577))'",
         "GeoFootprint": {
          "coordinates": [
           [
            [
             12.049022,
             46.469577
            ],
            [
             11.524545,
             46.531064
            ],
            [
             11.019128,
             46.588009
            ],
            [
             10.97311,
             46.383218
            ],
            [
             11.477674,
             46.330878
            ],
            [
             12.001315,
             46.274004
            ],
            [
             12.049022,
             46.469577
            ]
           ]
          ],
          "type": "Polygon"
         },
         "Id": "d4351e13-e8d1-4b60-adda-5454441bf09b",
         "Lines": 0,
         "LinesPerBurst": 1525,
         "Name": "S1A-SLC-20240422T051925-202704-IW3-VV-425907",
         "OperationalMode": "IW",
         "OrbitDirection": "DESCENDING",
         "ParentProductId": "3c2a5ea6-092e-431e-88d7-226ec5892648",
         "ParentProductName": "S1A_IW_SLC__1SDV_20240422T051923_20240422T051950_053542_067FB3_7F8C.SAFE",
         "ParentProductType": "IW_SLC__1S",
         "PlatformSerialIdentifier": "A",
         "PolarisationChannels": "VV",
         "RelativeOrbitNumber": 95,
         "S3Path": "/eodata/Sentinel-1/SAR/IW_SLC__1S/2024/04/22/S1A_IW_SLC__1SDV_20240422T051923_20240422T051950_053542_067FB3_7F8C.SAFE/measurement/s1a-iw3-slc-vv-20240422t051924-20240422t051949-053542-067fb3-006.tiff",
         "SamplesPerBurst": 25754,
         "SwathIdentifier": "IW3"
        },
        {
         "@odata.mediaContentType": "application/octet-stream",
         "AbsoluteBurstId": 118010104,
         "AzimuthAnxTime": 2203.5039329983,
         "AzimuthTime": "2024-07-27T05:19:22.034953Z",
         "BeginningDateTime": "2024-07-27T05:19:23.188081Z",
         "BurstId": 202704,
         "ByteOffset": 110043,
         "ContentDate": {
          "End": "2024-07-27T05:19:24.092093Z",
          "Start": "2024-07-27T05:19:23.188081Z"
         },
         "ContentType": "application/octet-stream",
         "DatatakeID": 438593,
         "EndingDateTime": "2024-07-27T05:19:24.092093Z",
         "Footprint": "geography'SRID=4326;POLYGON ((12.049022 46.469577, 11.524545 46.531064, 11.019128 46.588009, 10.97311 46.383218, 11.477674 46.330878, 12.001315 46.274004, 12.049022 46.469577))'",
         "GeoFootprint": {
          "coordinates": [
           [
            [
             12.049022,
             46.469577
            ],
            [
             11.524545,
             46.531064
            ],
            [
             11.019128,
             46.588009
            ],
            [
             10.97311,
             46.383218
            ],
            [
             11.477674,
             46.330878
            ],
            [
             12.001315,
             46.274004
            ],
            [
             12.049022,
             46.469577
            ]
           ]
          ],
          "type": "Polygon"
         },
         "Id": "16af66a5-43fe-4063-b8b7-f899d516b0d8",
         "Lines": 0,
         "LinesPerBurst": 1524,
         "Name": "S1A-SLC-20240727T051923-202704-IW3-VV-438593",
         "OperationalMode": "IW",
         "OrbitDirection": "DESCENDING",
         "ParentProductId": "3f9a4496-d4cf-4c97-b833-2c280c440253",
         "ParentProductName": "S1A_IW_SLC__1SDV_20240727T051921_20240727T051948_054942_06B141_F2D9.SAFE",
         "ParentProductType": "IW_SLC__1S",
         "PlatformSerialIdentifier": "A",
         "PolarisationChannels": "VV",
         "RelativeOrbitNumber": 95,
         "S3Path": "/eodata/Sentinel-1/SAR/IW_SLC__1S/2024/07/27/S1A_IW_SLC__1SDV_20240727T051921_20240727T051948_054942_06B141_F2D9.SAFE/measurement/s1a-iw3-slc-vv-20240727t051922-20240727t051947-054942-06b141-006.tiff",
         "SamplesPerBurst": 25506,
         "SwathIdentifier": "IW3"
        },
        {
         "@odata.mediaContentType": "application/octet-stream",
         "AbsoluteBurstId": 118761879,
         "AzimuthAnxTime": 2203.5153909983,
         "AzimuthTime": "2024-08-20T05:19:22.694127Z",
         "BeginningDateTime": "2024-08-20T05:19:23.836976Z",
         "BurstId": 202704,
         "ByteOffset": 110043,
         "ContentDate": {
          "End": "2024-08-20T05:19:24.740988Z",
          "Start": "2024-08-20T05:19:23.836976Z"
         },
         "ContentType": "application/octet-stream",
         "DatatakeID": 441784,
         "EndingDateTime": "2024-08-20T05:19:24.740988Z",
         "Footprint": "geography'SRID=4326;POLYGON ((12.049022 46.469577, 11.524545 46.531064, 11.019128 46.588009, 10.97311 46.383218, 11.477674 46.330878, 12.001315 46.274004, 12.049022 46.469577))'",
         "GeoFootprint": {
          "coordinates": [
           [
            [
             12.049022,
             46.469577
            ],
            [
             11.524545,
             46.531064
            ],
            [
             11.019128,
             46.588009
            ],
            [
             10.97311,
             46.383218
            ],
            [
             11.477674,
             46.330878
            ],
            [
             12.001315,
             46.274004
            ],
            [
             12.049022,
             46.469577
            ]
           ]
          ],
          "type": "Polygon"
         },
         "Id": "d6437334-7357-4740-8bb9-06e12345c347",
         "Lines": 0,
         "LinesPerBurst": 1524,
         "Name": "S1A-SLC-20240820T051923-202704-IW3-VV-441784",
         "OperationalMode": "IW",
         "OrbitDirection": "DESCENDING",
         "ParentProductId": "356ea388-7640-4501-adda-107b7e6088b3",
         "ParentProductName": "S1A_IW_SLC__1SDV_20240820T051921_20240820T051948_055292_06BDB8_AE12.SAFE",
         "ParentProductType": "IW_SLC__1S",
         "PlatformSerialIdentifier": "A",
         "PolarisationChannels": "VV",
         "RelativeOrbitNumber": 95,
         "S3Path": "/eodata/Sentinel-1/SAR/IW_SLC__1S/2024/08/20/S1A_IW_SLC__1SDV_20240820T051921_20240820T051948_055292_06BDB8_AE12.SAFE/measurement/s1a-iw3-slc-vv-20240820t051922-20240820t051947-055292-06bdb8-006.tiff",
         "SamplesPerBurst": 25504,
         "SwathIdentifier": "IW3"
        },
        {
         "@odata.mediaContentType": "application/octet-stream",
         "AbsoluteBurstId": 118385991,
         "AzimuthAnxTime": 2203.5100809983,
         "AzimuthTime": "2024-08-08T05:19:22.419421Z",
         "BeginningDateTime": "2024-08-08T05:19:23.568422Z",
         "BurstId": 202704,
         "ByteOffset": 110043,
         "ContentDate": {
          "End": "2024-08-08T05:19:24.472434Z",
          "Start": "2024-08-08T05:19:23.568422Z"
         },
         "ContentType": "application/octet-stream",
         "DatatakeID": 440149,
         "EndingDateTime": "2024-08-08T05:19:24.472434Z",
         "Footprint": "geography'SRID=4326;POLYGON ((12.049022 46.469577, 11.524545 46.531064, 11.019128 46.588009, 10.97311 46.383218, 11.477674 46.330878, 12.001315 46.274004, 12.049022 46.469577))'",
         "GeoFootprint": {
          "coordinates": [
           [
            [
             12.049022,
             46.469577
            ],
            [
             11.524545,
             46.531064
            ],
            [
             11.019128,
             46.588009
            ],
            [
             10.97311,
             46.383218
            ],
            [
             11.477674,
             46.330878
            ],
            [
             12.001315,
             46.274004
            ],
            [
             12.049022,
             46.469577
            ]
           ]
          ],
          "type": "Polygon"
         },
         "Id": "a7e0492f-a809-4f6d-8f7b-53d2767bdeb0",
         "Lines": 0,
         "LinesPerBurst": 1524,
         "Name": "S1A-SLC-20240808T051923-202704-IW3-VV-440149",
         "OperationalMode": "IW",
         "OrbitDirection": "DESCENDING",
         "ParentProductId": "9d112d74-447c-45ba-8967-01755df6842e",
         "ParentProductName": "S1A_IW_SLC__1SDV_20240808T051921_20240808T051948_055117_06B755_2288.SAFE",
         "ParentProductType": "IW_SLC__1S",
         "PlatformSerialIdentifier": "A",
         "PolarisationChannels": "VV",
         "RelativeOrbitNumber": 95,
         "S3Path": "/eodata/Sentinel-1/SAR/IW_SLC__1S/2024/08/08/S1A_IW_SLC__1SDV_20240808T051921_20240808T051948_055117_06B755_2288.SAFE/measurement/s1a-iw3-slc-vv-20240808t051922-20240808t051947-055117-06b755-006.tiff",
         "SamplesPerBurst": 25521,
         "SwathIdentifier": "IW3"
        },
        {
         "@odata.mediaContentType": "application/octet-stream",
         "AbsoluteBurstId": 119889541,
         "AzimuthAnxTime": 2203.5024959983,
         "AzimuthTime": "2024-09-25T05:19:23.425650Z",
         "BeginningDateTime": "2024-09-25T05:19:24.582872Z",
         "BurstId": 202704,
         "ByteOffset": 110115,
         "ContentDate": {
          "End": "2024-09-25T05:19:25.487477Z",
          "Start": "2024-09-25T05:19:24.582872Z"
         },
         "ContentType": "application/octet-stream",
         "DatatakeID": 446986,
         "EndingDateTime": "2024-09-25T05:19:25.487477Z",
         "Footprint": "geography'SRID=4326;POLYGON ((12.049022 46.469577, 11.524545 46.531064, 11.019128 46.588009, 10.97311 46.383218, 11.477674 46.330878, 12.001315 46.274004, 12.049022 46.469577))'",
         "GeoFootprint": {
          "coordinates": [
           [
            [
             12.049022,
             46.469577
            ],
            [
             11.524545,
             46.531064
            ],
            [
             11.019128,
             46.588009
            ],
            [
             10.97311,
             46.383218
            ],
            [
             11.477674,
             46.330878
            ],
            [
             12.001315,
             46.274004
            ],
            [
             12.049022,
             46.469577
            ]
           ]
          ],
          "type": "Polygon"
         },
         "Id": "1aa5f495-b650-4d30-b2d6-3755cdc425f7",
         "Lines": 0,
         "LinesPerBurst": 1525,
         "Name": "S1A-SLC-20240925T051924-202704-IW3-VV-446986",
         "OperationalMode": "IW",
         "OrbitDirection": "DESCENDING",
         "ParentProductId": "2fab3772-d67a-4b15-8e11-c62cff5e8f5d",
         "ParentProductName": "S1A_IW_SLC__1SDV_20240925T051922_20240925T051949_055817_06D20A_BA22.SAFE",
         "ParentProductType": "IW_SLC__1S",
         "PlatformSerialIdentifier": "A",
         "PolarisationChannels": "VV",
         "RelativeOrbitNumber": 95,
         "S3Path": "/eodata/Sentinel-1/SAR/IW_SLC__1S/2024/09/25/S1A_IW_SLC__1SDV_20240925T051922_20240925T051949_055817_06D20A_BA22.SAFE/measurement/s1a-iw3-slc-vv-20240925t051923-20240925t051948-055817-06d20a-006.tiff",
         "SamplesPerBurst": 25753,
         "SwathIdentifier": "IW3"
        },
        {
         "@odata.mediaContentType": "application/octet-stream",
         "AbsoluteBurstId": 117258329,
         "AzimuthAnxTime": 2203.5065589983,
         "AzimuthTime": "2024-07-03T05:19:22.937800Z",
         "BeginningDateTime": "2024-07-03T05:19:24.090913Z",
         "BurstId": 202704,
         "ByteOffset": 110043,
         "ContentDate": {
          "End": "2024-07-03T05:19:24.994925Z",
          "Start": "2024-07-03T05:19:24.090913Z"
         },
         "ContentType": "application/octet-stream",
         "DatatakeID": 435485,
         "EndingDateTime": "2024-07-03T05:19:24.994925Z",
         "Footprint": "geography'SRID=4326;POLYGON ((12.049022 46.469577, 11.524545 46.531064, 11.019128 46.588009, 10.97311 46.383218, 11.477674 46.330878, 12.001315 46.274004, 12.049022 46.469577))'",
         "GeoFootprint": {
          "coordinates": [
           [
            [
             12.049022,
             46.469577
            ],
            [
             11.524545,
             46.531064
            ],
            [
             11.019128,
             46.588009
            ],
            [
             10.97311,
             46.383218
            ],
            [
             11.477674,
             46.330878
            ],
            [
             12.001315,
             46.274004
            ],
            [
             12.049022,
             46.469577
            ]
           ]
          ],
          "type": "Polygon"
         },
         "Id": "20d75093-f6d2-4073-ac22-3f09f7683347",
         "Lines": 0,
         "LinesPerBurst": 1524,
         "Name": "S1A-SLC-20240703T051924-202704-IW3-VV-435485",
         "OperationalMode": "IW",
         "OrbitDirection": "DESCENDING",
         "ParentProductId": "b7d4b18f-a650-4748-9c21-a6f1764d1aba",
         "ParentProductName": "S1A_IW_SLC__1SDV_20240703T051921_20240703T051948_054592_06A51D_DB2D.SAFE",
         "ParentProductType": "IW_SLC__1S",
         "PlatformSerialIdentifier": "A",
         "PolarisationChannels": "VV",
         "RelativeOrbitNumber": 95,
         "S3Path": "/eodata/Sentinel-1/SAR/IW_SLC__1S/2024/07/03/S1A_IW_SLC__1SDV_20240703T051921_20240703T051948_054592_06A51D_DB2D.SAFE/measurement/s1a-iw3-slc-vv-20240703t051922-20240703t051948-054592-06a51d-006.tiff",
         "SamplesPerBurst": 25521,
         "SwathIdentifier": "IW3"
        },
        {
         "@odata.mediaContentType": "application/octet-stream",
         "AbsoluteBurstId": 117634216,
         "AzimuthAnxTime": 2203.5030679983,
         "AzimuthTime": "2024-07-15T05:19:22.817932Z",
         "BeginningDateTime": "2024-07-15T05:19:23.973100Z",
         "BurstId": 202704,
         "ByteOffset": 110043,
         "ContentDate": {
          "End": "2024-07-15T05:19:24.877112Z",
          "Start": "2024-07-15T05:19:23.973100Z"
         },
         "ContentType": "application/octet-stream",
         "DatatakeID": 437034,
         "EndingDateTime": "2024-07-15T05:19:24.877112Z",
         "Footprint": "geography'SRID=4326;POLYGON ((12.049022 46.469577, 11.524545 46.531064, 11.019128 46.588009, 10.97311 46.383218, 11.477674 46.330878, 12.001315 46.274004, 12.049022 46.469577))'",
         "GeoFootprint": {
          "coordinates": [
           [
            [
             12.049022,
             46.469577
            ],
            [
             11.524545,
             46.531064
            ],
            [
             11.019128,
             46.588009
            ],
            [
             10.97311,
             46.383218
            ],
            [
             11.477674,
             46.330878
            ],
            [
             12.001315,
             46.274004
            ],
            [
             12.049022,
             46.469577
            ]
           ]
          ],
          "type": "Polygon"
         },
         "Id": "88c26790-a996-42b1-9689-4a15eec9a8d3",
         "Lines": 0,
         "LinesPerBurst": 1524,
         "Name": "S1A-SLC-20240715T051923-202704-IW3-VV-437034",
         "OperationalMode": "IW",
         "OrbitDirection": "DESCENDING",
         "ParentProductId": "ec9c3c40-a22d-47f7-ad55-36cded3a214d",
         "ParentProductName": "S1A_IW_SLC__1SDV_20240715T051921_20240715T051948_054767_06AB2A_E557.SAFE",
         "ParentProductType": "IW_SLC__1S",
         "PlatformSerialIdentifier": "A",
         "PolarisationChannels": "VV",
         "RelativeOrbitNumber": 95,
         "S3Path": "/eodata/Sentinel-1/SAR/IW_SLC__1S/2024/07/15/S1A_IW_SLC__1SDV_20240715T051921_20240715T051948_054767_06AB2A_E557.SAFE/measurement/s1a-iw3-slc-vv-20240715t051922-20240715t051948-054767-06ab2a-006.tiff",
         "SamplesPerBurst": 25521,
         "SwathIdentifier": "IW3"
        },
        {
         "@odata.mediaContentType": "application/octet-stream",
         "AbsoluteBurstId": 119513653,
         "AzimuthAnxTime": 2203.5202699983,
         "AzimuthTime": "2024-09-13T05:19:23.303815Z",
         "BeginningDateTime": "2024-09-13T05:19:24.442552Z",
         "BurstId": 202704,
         "ByteOffset": 110115,
         "ContentDate": {
          "End": "2024-09-13T05:19:25.347157Z",
          "Start": "2024-09-13T05:19:24.442552Z"
         },
         "ContentType": "application/octet-stream",
         "DatatakeID": 445216,
         "EndingDateTime": "2024-09-13T05:19:25.347157Z",
         "Footprint": "geography'SRID=4326;POLYGON ((12.049022 46.469577, 11.524545 46.531064, 11.019128 46.588009, 10.97311 46.383218, 11.477674 46.330878, 12.001315 46.274004, 12.049022 46.469577))'",
         "GeoFootprint": {
          "coordinates": [
           [
            [
             12.049022,
             46.469577
            ],
            [
             11.524545,
             46.531064
            ],
            [
             11.019128,
             46.588009
            ],
            [
             10.97311,
             46.383218
            ],
            [
             11.477674,
             46.330878
            ],
            [
             12.001315,
             46.274004
            ],
            [
             12.049022,
             46.469577
            ]
           ]
          ],
          "type": "Polygon"
         },
         "Id": "15ba3faa-0355-4cc8-81a1-ffccdb4c3fbf",
         "Lines": 0,
         "LinesPerBurst": 1525,
         "Name": "S1A-SLC-20240913T051924-202704-IW3-VV-445216",
         "OperationalMode": "IW",
         "OrbitDirection": "DESCENDING",
         "ParentProductId": "21fac80e-4518-48a9-b820-d04a49ead489",
         "ParentProductName": "S1A_IW_SLC__1SDV_20240913T051922_20240913T051949_055642_06CB20_06CA.SAFE",
         "ParentProductType": "IW_SLC__1S",
         "PlatformSerialIdentifier": "A",
         "PolarisationChannels": "VV",
         "RelativeOrbitNumber": 95,
         "S3Path": "/eodata/Sentinel-1/SAR/IW_SLC__1S/2024/09/13/S1A_IW_SLC__1SDV_20240913T051922_20240913T051949_055642_06CB20_06CA.SAFE/measurement/s1a-iw3-slc-vv-20240913t051923-20240913t051948-055642-06cb20-006.tiff",
         "SamplesPerBurst": 25753,
         "SwathIdentifier": "IW3"
        },
        {
         "@odata.mediaContentType": "application/octet-stream",
         "AbsoluteBurstId": 122520752,
         "AzimuthAnxTime": 2203.5530839983,
         "AzimuthTime": "2024-12-18T05:19:20.471584Z",
         "BeginningDateTime": "2024-12-18T05:19:21.610322Z",
         "BurstId": 202704,
         "ByteOffset": 110115,
         "ContentDate": {
          "End": "2024-12-18T05:19:22.514927Z",
          "Start": "2024-12-18T05:19:21.610322Z"
         },
         "ContentType": "application/octet-stream",
         "DatatakeID": 459422,
         "EndingDateTime": "2024-12-18T05:19:22.514927Z",
         "Footprint": "geography'SRID=4326;POLYGON ((12.049022 46.469577, 11.524545 46.531064, 11.019128 46.588009, 10.97311 46.383218, 11.477674 46.330878, 12.001315 46.274004, 12.049022 46.469577))'",
         "GeoFootprint": {
          "coordinates": [
           [
            [
             12.049022,
             46.469577
            ],
            [
             11.524545,
             46.531064
            ],
            [
             11.019128,
             46.588009
            ],
            [
             10.97311,
             46.383218
            ],
            [
             11.477674,
             46.330878
            ],
            [
             12.001315,
             46.274004
            ],
            [
             12.049022,
             46.469577
            ]
           ]
          ],
          "type": "Polygon"
         },
         "Id": "73425d15-0409-4f1a-916d-e7f5c1500687",
         "Lines": 0,
         "LinesPerBurst": 1525,
         "Name": "S1A-SLC-20241218T051921-202704-IW3-VV-459422",
         "OperationalMode": "IW",
         "OrbitDirection": "DESCENDING",
         "ParentProductId": "6a4144e2-5faa-4b86-b21a-7207629d5b90",
         "ParentProductName": "S1A_IW_SLC__1SDV_20241218T051919_20241218T051946_057042_07029E_8F59.SAFE",
         "ParentProductType": "IW_SLC__1S",
         "PlatformSerialIdentifier": "A",
         "PolarisationChannels": "VV",
         "RelativeOrbitNumber": 95,
         "S3Path": "/eodata/Sentinel-1/SAR/IW_SLC__1S/2024/12/18/S1A_IW_SLC__1SDV_20241218T051919_20241218T051946_057042_07029E_8F59.SAFE/measurement/s1a-iw3-slc-vv-20241218t051920-20241218t051945-057042-07029e-006.tiff",
         "SamplesPerBurst": 25753,
         "SwathIdentifier": "IW3"
        },
        {
         "@odata.mediaContentType": "application/octet-stream",
         "AbsoluteBurstId": 120265428,
         "AzimuthAnxTime": 2203.5113129983,
         "AzimuthTime": "2024-10-07T05:19:24.384136Z",
         "BeginningDateTime": "2024-10-07T05:19:25.529024Z",
         "BurstId": 202704,
         "ByteOffset": 110115,
         "ContentDate": {
          "End": "2024-10-07T05:19:26.433629Z",
          "Start": "2024-10-07T05:19:25.529024Z"
         },
         "ContentType": "application/octet-stream",
         "DatatakeID": 448752,
         "EndingDateTime": "2024-10-07T05:19:26.433629Z",
         "Footprint": "geography'SRID=4326;POLYGON ((12.049022 46.469577, 11.524545 46.531064, 11.019128 46.588009, 10.97311 46.383218, 11.477674 46.330878, 12.001315 46.274004, 12.049022 46.469577))'",
         "GeoFootprint": {
          "coordinates": [
           [
            [
             12.049022,
             46.469577
            ],
            [
             11.524545,
             46.531064
            ],
            [
             11.019128,
             46.588009
            ],
            [
             10.97311,
             46.383218
            ],
            [
             11.477674,
             46.330878
            ],
            [
             12.001315,
             46.274004
            ],
            [
             12.049022,
             46.469577
            ]
           ]
          ],
          "type": "Polygon"
         },
         "Id": "6207fbb5-c6d7-4b31-a77b-3a06eb481175",
         "Lines": 0,
         "LinesPerBurst": 1525,
         "Name": "S1A-SLC-20241007T051925-202704-IW3-VV-448752",
         "OperationalMode": "IW",
         "OrbitDirection": "DESCENDING",
         "ParentProductId": "aafbf96a-3708-41c2-ba70-cd92c13beb26",
         "ParentProductName": "S1A_IW_SLC__1SDV_20241007T051923_20241007T051950_055992_06D8F0_BD36.SAFE",
         "ParentProductType": "IW_SLC__1S",
         "PlatformSerialIdentifier": "A",
         "PolarisationChannels": "VV",
         "RelativeOrbitNumber": 95,
         "S3Path": "/eodata/Sentinel-1/SAR/IW_SLC__1S/2024/10/07/S1A_IW_SLC__1SDV_20241007T051923_20241007T051950_055992_06D8F0_BD36.SAFE/measurement/s1a-iw3-slc-vv-20241007t051924-20241007t051949-055992-06d8f0-006.tiff",
         "SamplesPerBurst": 25753,
         "SwathIdentifier": "IW3"
        },
        {
         "@odata.mediaContentType": "application/octet-stream",
         "AbsoluteBurstId": 121768978,
         "AzimuthAnxTime": 2203.5419269983,
         "AzimuthTime": "2024-11-24T05:19:22.798219Z",
         "BeginningDateTime": "2024-11-24T05:19:23.938997Z",
         "BurstId": 202704,
         "ByteOffset": 110115,
         "ContentDate": {
          "End": "2024-11-24T05:19:24.843602Z",
          "Start": "2024-11-24T05:19:23.938997Z"
         },
         "ContentType": "application/octet-stream",
         "DatatakeID": 455875,
         "EndingDateTime": "2024-11-24T05:19:24.843602Z",
         "Footprint": "geography'SRID=4326;POLYGON ((12.049022 46.469577, 11.524545 46.531064, 11.019128 46.588009, 10.97311 46.383218, 11.477674 46.330878, 12.001315 46.274004, 12.049022 46.469577))'",
         "GeoFootprint": {
          "coordinates": [
           [
            [
             12.049022,
             46.469577
            ],
            [
             11.524545,
             46.531064
            ],
            [
             11.019128,
             46.588009
            ],
            [
             10.97311,
             46.383218
            ],
            [
             11.477674,
             46.330878
            ],
            [
             12.001315,
             46.274004
            ],
            [
             12.049022,
             46.469577
            ]
           ]
          ],
          "type": "Polygon"
         },
         "Id": "4cd445a6-d916-4266-9472-905b45322686",
         "Lines": 0,
         "LinesPerBurst": 1525,
         "Name": "S1A-SLC-20241124T051923-202704-IW3-VV-455875",
         "OperationalMode": "IW",
         "OrbitDirection": "DESCENDING",
         "ParentProductId": "8e833ef9-7eae-4fd1-bfb6-f9d933974210",
         "ParentProductName": "S1A_IW_SLC__1SDV_20241124T051921_20241124T051948_056692_06F4C3_1D87.SAFE",
         "ParentProductType": "IW_SLC__1S",
         "PlatformSerialIdentifier": "A",
         "PolarisationChannels": "VV",
         "RelativeOrbitNumber": 95,
         "S3Path": "/eodata/Sentinel-1/SAR/IW_SLC__1S/2024/11/24/S1A_IW_SLC__1SDV_20241124T051921_20241124T051948_056692_06F4C3_1D87.SAFE/measurement/s1a-iw3-slc-vv-20241124t051922-20241124t051947-056692-06f4c3-006.tiff",
         "SamplesPerBurst": 25753,
         "SwathIdentifier": "IW3"
        },
        {
         "@odata.mediaContentType": "application/octet-stream",
         "AbsoluteBurstId": 121393090,
         "AzimuthAnxTime": 2203.5283299983,
         "AzimuthTime": "2024-11-12T05:19:23.497533Z",
         "BeginningDateTime": "2024-11-12T05:19:24.640367Z",
         "BurstId": 202704,
         "ByteOffset": 110115,
         "ContentDate": {
          "End": "2024-11-12T05:19:25.544972Z",
          "Start": "2024-11-12T05:19:24.640367Z"
         },
         "ContentType": "application/octet-stream",
         "DatatakeID": 454084,
         "EndingDateTime": "2024-11-12T05:19:25.544972Z",
         "Footprint": "geography'SRID=4326;POLYGON ((12.049022 46.469577, 11.524545 46.531064, 11.019128 46.588009, 10.97311 46.383218, 11.477674 46.330878, 12.001315 46.274004, 12.049022 46.469577))'",
         "GeoFootprint": {
          "coordinates": [
           [
            [
             12.049022,
             46.469577
            ],
            [
             11.524545,
             46.531064
            ],
            [
             11.019128,
             46.588009
            ],
            [
             10.97311,
             46.383218
            ],
            [
             11.477674,
             46.330878
            ],
            [
             12.001315,
             46.274004
            ],
            [
             12.049022,
             46.469577
            ]
           ]
          ],
          "type": "Polygon"
         },
         "Id": "37f4627d-0016-47bc-9ed9-1b16e6563c52",
         "Lines": 0,
         "LinesPerBurst": 1525,
         "Name": "S1A-SLC-20241112T051924-202704-IW3-VV-454084",
         "OperationalMode": "IW",
         "OrbitDirection": "DESCENDING",
         "ParentProductId": "66883b11-5216-4233-97da-c0f59f6c0524",
         "ParentProductName": "S1A_IW_SLC__1SDV_20241112T051922_20241112T051949_056517_06EDC4_8B18.SAFE",
         "ParentProductType": "IW_SLC__1S",
         "PlatformSerialIdentifier": "A",
         "PolarisationChannels": "VV",
         "RelativeOrbitNumber": 95,
         "S3Path": "/eodata/Sentinel-1/SAR/IW_SLC__1S/2024/11/12/S1A_IW_SLC__1SDV_20241112T051922_20241112T051949_056517_06EDC4_8B18.SAFE/measurement/s1a-iw3-slc-vv-20241112t051923-20241112t051948-056517-06edc4-006.tiff",
         "SamplesPerBurst": 25753,
         "SwathIdentifier": "IW3"
        },
        {
         "@odata.mediaContentType": "application/octet-stream",
         "AbsoluteBurstId": 122896640,
         "AzimuthAnxTime": 2203.5502739983,
         "AzimuthTime": "2024-12-30T05:19:19.954490Z",
         "BeginningDateTime": "2024-12-30T05:19:21.091157Z",
         "BurstId": 202704,
         "ByteOffset": 110115,
         "ContentDate": {
          "End": "2024-12-30T05:19:21.995762Z",
          "Start": "2024-12-30T05:19:21.091157Z"
         },
         "ContentType": "application/octet-stream",
         "DatatakeID": 461194,
         "EndingDateTime": "2024-12-30T05:19:21.995762Z",
         "Footprint": "geography'SRID=4326;POLYGON ((12.049022 46.469577, 11.524545 46.531064, 11.019128 46.588009, 10.97311 46.383218, 11.477674 46.330878, 12.001315 46.274004, 12.049022 46.469577))'",
         "GeoFootprint": {
          "coordinates": [
           [
            [
             12.049022,
             46.469577
            ],
            [
             11.524545,
             46.531064
            ],
            [
             11.019128,
             46.588009
            ],
            [
             10.97311,
             46.383218
            ],
            [
             11.477674,
             46.330878
            ],
            [
             12.001315,
             46.274004
            ],
            [
             12.049022,
             46.469577
            ]
           ]
          ],
          "type": "Polygon"
         },
         "Id": "7d7068b4-b577-4e49-a6be-3312127314c9",
         "Lines": 0,
         "LinesPerBurst": 1525,
         "Name": "S1A-SLC-20241230T051921-202704-IW3-VV-461194",
         "OperationalMode": "IW",
         "OrbitDirection": "DESCENDING",
         "ParentProductId": "58775c94-1b70-40ac-a7fd-ec1a768e2cc3",
         "ParentProductName": "S1A_IW_SLC__1SDV_20241230T051918_20241230T051945_057217_07098A_7518.SAFE",
         "ParentProductType": "IW_SLC__1S",
         "PlatformSerialIdentifier": "A",
         "PolarisationChannels": "VV",
         "RelativeOrbitNumber": 95,
         "S3Path": "/eodata/Sentinel-1/SAR/IW_SLC__1S/2024/12/30/S1A_IW_SLC__1SDV_20241230T051918_20241230T051945_057217_07098A_7518.SAFE/measurement/s1a-iw3-slc-vv-20241230t051919-20241230t051945-057217-07098a-006.tiff",
         "SamplesPerBurst": 25753,
         "SwathIdentifier": "IW3"
        },
        {
         "@odata.mediaContentType": "application/octet-stream",
         "AbsoluteBurstId": 121017203,
         "AzimuthAnxTime": 2203.531320442,
         "AzimuthTime": "2024-10-31T05:19:24.153606Z",
         "BeginningDateTime": "2024-10-31T05:19:25.292329Z",
         "BurstId": 202704,
         "ByteOffset": 110115,
         "ContentDate": {
          "End": "2024-10-31T05:19:26.196934Z",
          "Start": "2024-10-31T05:19:25.292329Z"
         },
         "ContentType": "application/octet-stream",
         "DatatakeID": 452300,
         "EndingDateTime": "2024-10-31T05:19:26.196934Z",
         "Footprint": "geography'SRID=4326;POLYGON ((12.049022 46.469577, 11.524545 46.531064, 11.019128 46.588009, 10.97311 46.383218, 11.477674 46.330878, 12.001315 46.274004, 12.049022 46.469577))'",
         "GeoFootprint": {
          "coordinates": [
           [
            [
             12.049022,
             46.469577
            ],
            [
             11.524545,
             46.531064
            ],
            [
             11.019128,
             46.588009
            ],
            [
             10.97311,
             46.383218
            ],
            [
             11.477674,
             46.330878
            ],
            [
             12.001315,
             46.274004
            ],
            [
             12.049022,
             46.469577
            ]
           ]
          ],
          "type": "Polygon"
         },
         "Id": "40d80a84-bd63-4f4e-a6ef-01b63e3cc76c",
         "Lines": 0,
         "LinesPerBurst": 1525,
         "Name": "S1A-SLC-20241031T051925-202704-IW3-VV-452300",
         "OperationalMode": "IW",
         "OrbitDirection": "DESCENDING",
         "ParentProductId": "9dfda48b-d98b-481a-a816-8f660cc81dad",
         "ParentProductName": "S1A_IW_SLC__1SDV_20241031T051923_20241031T051950_056342_06E6CC_0A12.SAFE",
         "ParentProductType": "IW_SLC__1S",
         "PlatformSerialIdentifier": "A",
         "PolarisationChannels": "VV",
         "RelativeOrbitNumber": 95,
         "S3Path": "/eodata/Sentinel-1/SAR/IW_SLC__1S/2024/10/31/S1A_IW_SLC__1SDV_20241031T051923_20241031T051950_056342_06E6CC_0A12.SAFE/measurement/s1a-iw3-slc-vv-20241031t051924-20241031t051949-056342-06e6cc-006.tiff",
         "SamplesPerBurst": 25753,
         "SwathIdentifier": "IW3"
        },
        {
         "@odata.mediaContentType": "application/octet-stream",
         "AbsoluteBurstId": 122144865,
         "AzimuthAnxTime": 2203.5418519983,
         "AzimuthTime": "2024-12-06T05:19:21.794887Z",
         "BeginningDateTime": "2024-12-06T05:19:22.933610Z",
         "BurstId": 202704,
         "ByteOffset": 110115,
         "ContentDate": {
          "End": "2024-12-06T05:19:23.838215Z",
          "Start": "2024-12-06T05:19:22.933610Z"
         },
         "ContentType": "application/octet-stream",
         "DatatakeID": 457644,
         "EndingDateTime": "2024-12-06T05:19:23.838215Z",
         "Footprint": "geography'SRID=4326;POLYGON ((12.049022 46.469577, 11.524545 46.531064, 11.019128 46.588009, 10.97311 46.383218, 11.477674 46.330878, 12.001315 46.274004, 12.049022 46.469577))'",
         "GeoFootprint": {
          "coordinates": [
           [
            [
             12.049022,
             46.469577
            ],
            [
             11.524545,
             46.531064
            ],
            [
             11.019128,
             46.588009
            ],
            [
             10.97311,
             46.383218
            ],
            [
             11.477674,
             46.330878
            ],
            [
             12.001315,
             46.274004
            ],
            [
             12.049022,
             46.469577
            ]
           ]
          ],
          "type": "Polygon"
         },
         "Id": "6ea1fade-81b9-4433-aea7-454d4498b281",
         "Lines": 0,
         "LinesPerBurst": 1525,
         "Name": "S1A-SLC-20241206T051922-202704-IW3-VV-457644",
         "OperationalMode": "IW",
         "OrbitDirection": "DESCENDING",
         "ParentProductId": "4f7346fe-0fb8-4aaf-9957-0c9606c39e08",
         "ParentProductName": "S1A_IW_SLC__1SDV_20241206T051920_20241206T051947_056867_06FBAC_BD99.SAFE",
         "ParentProductType": "IW_SLC__1S",
         "PlatformSerialIdentifier": "A",
         "PolarisationChannels": "VV",
         "RelativeOrbitNumber": 95,
         "S3Path": "/eodata/Sentinel-1/SAR/IW_SLC__1S/2024/12/06/S1A_IW_SLC__1SDV_20241206T051920_20241206T051947_056867_06FBAC_BD99.SAFE/measurement/s1a-iw3-slc-vv-20241206t051921-20241206t051946-056867-06fbac-006.tiff",
         "SamplesPerBurst": 25753,
         "SwathIdentifier": "IW3"
        },
        {
         "@odata.mediaContentType": "application/octet-stream",
         "AbsoluteBurstId": 120641315,
         "AzimuthAnxTime": 2203.510263442,
         "AzimuthTime": "2024-10-19T05:19:24.168090Z",
         "BeginningDateTime": "2024-10-19T05:19:25.315034Z",
         "BurstId": 202704,
         "ByteOffset": 110115,
         "ContentDate": {
          "End": "2024-10-19T05:19:26.219639Z",
          "Start": "2024-10-19T05:19:25.315034Z"
         },
         "ContentType": "application/octet-stream",
         "DatatakeID": 450524,
         "EndingDateTime": "2024-10-19T05:19:26.219639Z",
         "Footprint": "geography'SRID=4326;POLYGON ((12.049022 46.469577, 11.524545 46.531064, 11.019128 46.588009, 10.97311 46.383218, 11.477674 46.330878, 12.001315 46.274004, 12.049022 46.469577))'",
         "GeoFootprint": {
          "coordinates": [
           [
            [
             12.049022,
             46.469577
            ],
            [
             11.524545,
             46.531064
            ],
            [
             11.019128,
             46.588009
            ],
            [
             10.97311,
             46.383218
            ],
            [
             11.477674,
             46.330878
            ],
            [
             12.001315,
             46.274004
            ],
            [
             12.049022,
             46.469577
            ]
           ]
          ],
          "type": "Polygon"
         },
         "Id": "98524f41-587c-49d9-a1ac-625c15117522",
         "Lines": 0,
         "LinesPerBurst": 1525,
         "Name": "S1A-SLC-20241019T051925-202704-IW3-VV-450524",
         "OperationalMode": "IW",
         "OrbitDirection": "DESCENDING",
         "ParentProductId": "aa47c1ce-d274-49f4-9b1a-44aa7ed005ba",
         "ParentProductName": "S1A_IW_SLC__1SDV_20241019T051923_20241019T051950_056167_06DFDC_645E.SAFE",
         "ParentProductType": "IW_SLC__1S",
         "PlatformSerialIdentifier": "A",
         "PolarisationChannels": "VV",
         "RelativeOrbitNumber": 95,
         "S3Path": "/eodata/Sentinel-1/SAR/IW_SLC__1S/2024/10/19/S1A_IW_SLC__1SDV_20241019T051923_20241019T051950_056167_06DFDC_645E.SAFE/measurement/s1a-iw3-slc-vv-20241019t051924-20241019t051949-056167-06dfdc-006.tiff",
         "SamplesPerBurst": 25753,
         "SwathIdentifier": "IW3"
        },
        {
         "@odata.mediaContentType": "application/octet-stream",
         "AbsoluteBurstId": 113656252,
         "AzimuthAnxTime": 2196.8304638771,
         "AzimuthTime": "2024-03-10T05:27:30.429549Z",
         "BeginningDateTime": "2024-03-10T05:27:31.577921Z",
         "BurstId": 359501,
         "ByteOffset": 1109514331,
         "ContentDate": {
          "End": "2024-03-10T05:27:32.456130Z",
          "Start": "2024-03-10T05:27:31.577921Z"
         },
         "ContentType": "application/octet-stream",
         "DatatakeID": 419746,
         "EndingDateTime": "2024-03-10T05:27:32.456130Z",
         "Footprint": "geography'SRID=4326;POLYGON ((12.306189 46.586499, 11.729773 46.66502, 11.194249 46.735345, 11.139994 46.531867, 11.674696 46.466093, 12.250223 46.392142, 12.306189 46.586499))'",
         "GeoFootprint": {
          "coordinates": [
           [
            [
             12.306189,
             46.586499
            ],
            [
             11.729773,
             46.66502
            ],
            [
             11.194249,
             46.735345
            ],
            [
             11.139994,
             46.531867
            ],
            [
             11.674696,
             46.466093
            ],
            [
             12.250223,
             46.392142
            ],
            [
             12.306189,
             46.586499
            ]
           ]
          ],
          "type": "Polygon"
         },
         "Id": "9d1c272b-ae4b-4884-aebb-e09deba90304",
         "Lines": 12064,
         "LinesPerBurst": 1508,
         "Name": "S1A-SLC-20240310T052731-359501-IW1-VV-419746",
         "OperationalMode": "IW",
         "OrbitDirection": "DESCENDING",
         "ParentProductId": "6c00c640-c57b-4337-bceb-a614eef0db9b",
         "ParentProductName": "S1A_IW_SLC__1SDV_20240310T052706_20240310T052733_052915_0667A2_DE80.SAFE",
         "ParentProductType": "IW_SLC__1S",
         "PlatformSerialIdentifier": "A",
         "PolarisationChannels": "VV",
         "RelativeOrbitNumber": 168,
         "S3Path": "/eodata/Sentinel-1/SAR/IW_SLC__1S/2024/03/10/S1A_IW_SLC__1SDV_20240310T052706_20240310T052733_052915_0667A2_DE80.SAFE/measurement/s1a-iw1-slc-vv-20240310t052708-20240310t052733-052915-0667a2-004.tiff",
         "SamplesPerBurst": 22990,
         "SwathIdentifier": "IW1"
        },
        {
         "@odata.mediaContentType": "application/octet-stream",
         "AbsoluteBurstId": 112528589,
         "AzimuthAnxTime": 2196.8579238771,
         "AzimuthTime": "2024-02-03T05:27:30.790724Z",
         "BeginningDateTime": "2024-02-03T05:27:31.924708Z",
         "BurstId": 359501,
         "ByteOffset": 1109514331,
         "ContentDate": {
          "End": "2024-02-03T05:27:32.802917Z",
          "Start": "2024-02-03T05:27:31.924708Z"
         },
         "ContentType": "application/octet-stream",
         "DatatakeID": 415185,
         "EndingDateTime": "2024-02-03T05:27:32.802917Z",
         "Footprint": "geography'SRID=4326;POLYGON ((12.306189 46.586499, 11.729773 46.66502, 11.194249 46.735345, 11.139994 46.531867, 11.674696 46.466093, 12.250223 46.392142, 12.306189 46.586499))'",
         "GeoFootprint": {
          "coordinates": [
           [
            [
             12.306189,
             46.586499
            ],
            [
             11.729773,
             46.66502
            ],
            [
             11.194249,
             46.735345
            ],
            [
             11.139994,
             46.531867
            ],
            [
             11.674696,
             46.466093
            ],
            [
             12.250223,
             46.392142
            ],
            [
             12.306189,
             46.586499
            ]
           ]
          ],
          "type": "Polygon"
         },
         "Id": "9ac90bc5-8031-4854-8486-6758529d3126",
         "Lines": 12064,
         "LinesPerBurst": 1508,
         "Name": "S1A-SLC-20240203T052731-359501-IW1-VV-415185",
         "OperationalMode": "IW",
         "OrbitDirection": "DESCENDING",
         "ParentProductId": "097dba30-8fc4-4e85-80b9-e6cc60592000",
         "ParentProductName": "S1A_IW_SLC__1SDV_20240203T052706_20240203T052733_052390_0655D1_9662.SAFE",
         "ParentProductType": "IW_SLC__1S",
         "PlatformSerialIdentifier": "A",
         "PolarisationChannels": "VV",
         "RelativeOrbitNumber": 168,
         "S3Path": "/eodata/Sentinel-1/SAR/IW_SLC__1S/2024/02/03/S1A_IW_SLC__1SDV_20240203T052706_20240203T052733_052390_0655D1_9662.SAFE/measurement/s1a-iw1-slc-vv-20240203t052708-20240203t052733-052390-0655d1-004.tiff",
         "SamplesPerBurst": 22990,
         "SwathIdentifier": "IW1"
        },
        {
         "@odata.mediaContentType": "application/octet-stream",
         "AbsoluteBurstId": 112904477,
         "AzimuthAnxTime": 2196.866001546,
         "AzimuthTime": "2024-02-15T05:27:30.561342Z",
         "BeginningDateTime": "2024-02-15T05:27:31.683009Z",
         "BurstId": 359501,
         "ByteOffset": 1109466075,
         "ContentDate": {
          "End": "2024-02-15T05:27:32.561218Z",
          "Start": "2024-02-15T05:27:31.683009Z"
         },
         "ContentType": "application/octet-stream",
         "DatatakeID": 416698,
         "EndingDateTime": "2024-02-15T05:27:32.561218Z",
         "Footprint": "geography'SRID=4326;POLYGON ((12.306189 46.586499, 11.729773 46.66502, 11.194249 46.735345, 11.139994 46.531867, 11.674696 46.466093, 12.250223 46.392142, 12.306189 46.586499))'",
         "GeoFootprint": {
          "coordinates": [
           [
            [
             12.306189,
             46.586499
            ],
            [
             11.729773,
             46.66502
            ],
            [
             11.194249,
             46.735345
            ],
            [
             11.139994,
             46.531867
            ],
            [
             11.674696,
             46.466093
            ],
            [
             12.250223,
             46.392142
            ],
            [
             12.306189,
             46.586499
            ]
           ]
          ],
          "type": "Polygon"
         },
         "Id": "f16ea642-01c1-4156-891b-a6e4ba0d1830",
         "Lines": 12064,
         "LinesPerBurst": 1508,
         "Name": "S1A-SLC-20240215T052731-359501-IW1-VV-416698",
         "OperationalMode": "IW",
         "OrbitDirection": "DESCENDING",
         "ParentProductId": "e4660bf9-3279-4ff9-99a3-c08c775a7f28",
         "ParentProductName": "S1A_IW_SLC__1SDV_20240215T052706_20240215T052733_052565_065BBA_EC8A.SAFE",
         "ParentProductType": "IW_SLC__1S",
         "PlatformSerialIdentifier": "A",
         "PolarisationChannels": "VV",
         "RelativeOrbitNumber": 168,
         "S3Path": "/eodata/Sentinel-1/SAR/IW_SLC__1S/2024/02/15/S1A_IW_SLC__1SDV_20240215T052706_20240215T052733_052565_065BBA_EC8A.SAFE/measurement/s1a-iw1-slc-vv-20240215t052708-20240215t052733-052565-065bba-004.tiff",
         "SamplesPerBurst": 22989,
         "SwathIdentifier": "IW1"
        },
        {
         "@odata.mediaContentType": "application/octet-stream",
         "AbsoluteBurstId": 111776815,
         "AzimuthAnxTime": 2196.8495043208,
         "AzimuthTime": "2024-01-10T05:27:31.570214Z",
         "BeginningDateTime": "2024-01-10T05:27:32.702159Z",
         "BurstId": 359501,
         "ByteOffset": 1109514331,
         "ContentDate": {
          "End": "2024-01-10T05:27:33.580368Z",
          "Start": "2024-01-10T05:27:32.702159Z"
         },
         "ContentType": "application/octet-stream",
         "DatatakeID": 412164,
         "EndingDateTime": "2024-01-10T05:27:33.580368Z",
         "Footprint": "geography'SRID=4326;POLYGON ((12.306189 46.586499, 11.729773 46.66502, 11.194249 46.735345, 11.139994 46.531867, 11.674696 46.466093, 12.250223 46.392142, 12.306189 46.586499))'",
         "GeoFootprint": {
          "coordinates": [
           [
            [
             12.306189,
             46.586499
            ],
            [
             11.729773,
             46.66502
            ],
            [
             11.194249,
             46.735345
            ],
            [
             11.139994,
             46.531867
            ],
            [
             11.674696,
             46.466093
            ],
            [
             12.250223,
             46.392142
            ],
            [
             12.306189,
             46.586499
            ]
           ]
          ],
          "type": "Polygon"
         },
         "Id": "6ff78f42-2b2b-40e9-af93-3b77684de9d1",
         "Lines": 12064,
         "LinesPerBurst": 1508,
         "Name": "S1A-SLC-20240110T052732-359501-IW1-VV-412164",
         "OperationalMode": "IW",
         "OrbitDirection": "DESCENDING",
         "ParentProductId": "60f32d8e-62b3-44ef-ac5b-7d5f0714733b",
         "ParentProductName": "S1A_IW_SLC__1SDV_20240110T052707_20240110T052734_052040_064A04_4385.SAFE",
         "ParentProductType": "IW_SLC__1S",
         "PlatformSerialIdentifier": "A",
         "PolarisationChannels": "VV",
         "RelativeOrbitNumber": 168,
         "S3Path": "/eodata/Sentinel-1/SAR/IW_SLC__1S/2024/01/10/S1A_IW_SLC__1SDV_20240110T052707_20240110T052734_052040_064A04_4385.SAFE/measurement/s1a-iw1-slc-vv-20240110t052709-20240110t052734-052040-064a04-004.tiff",
         "SamplesPerBurst": 22990,
         "SwathIdentifier": "IW1"
        },
        {
         "@odata.mediaContentType": "application/octet-stream",
         "AbsoluteBurstId": 114032139,
         "AzimuthAnxTime": 2196.8371899897,
         "AzimuthTime": "2024-03-22T05:27:30.927775Z",
         "BeginningDateTime": "2024-03-22T05:27:32.059702Z",
         "BurstId": 359501,
         "ByteOffset": 1109514331,
         "ContentDate": {
          "End": "2024-03-22T05:27:32.937911Z",
          "Start": "2024-03-22T05:27:32.059702Z"
         },
         "ContentType": "application/octet-stream",
         "DatatakeID": 421411,
         "EndingDateTime": "2024-03-22T05:27:32.937911Z",
         "Footprint": "geography'SRID=4326;POLYGON ((12.306189 46.586499, 11.729773 46.66502, 11.194249 46.735345, 11.139994 46.531867, 11.674696 46.466093, 12.250223 46.392142, 12.306189 46.586499))'",
         "GeoFootprint": {
          "coordinates": [
           [
            [
             12.306189,
             46.586499
            ],
            [
             11.729773,
             46.66502
            ],
            [
             11.194249,
             46.735345
            ],
            [
             11.139994,
             46.531867
            ],
            [
             11.674696,
             46.466093
            ],
            [
             12.250223,
             46.392142
            ],
            [
             12.306189,
             46.586499
            ]
           ]
          ],
          "type": "Polygon"
         },
         "Id": "3dd05cf9-9f6a-4bf5-933a-3cdd5bc9b5d5",
         "Lines": 12064,
         "LinesPerBurst": 1508,
         "Name": "S1A-SLC-20240322T052732-359501-IW1-VV-421411",
         "OperationalMode": "IW",
         "OrbitDirection": "DESCENDING",
         "ParentProductId": "aaf83f87-9634-416e-ab1f-26bf684ec027",
         "ParentProductName": "S1A_IW_SLC__1SDV_20240322T052707_20240322T052734_053090_066E23_5055.SAFE",
         "ParentProductType": "IW_SLC__1S",
         "PlatformSerialIdentifier": "A",
         "PolarisationChannels": "VV",
         "RelativeOrbitNumber": 168,
         "S3Path": "/eodata/Sentinel-1/SAR/IW_SLC__1S/2024/03/22/S1A_IW_SLC__1SDV_20240322T052707_20240322T052734_053090_066E23_5055.SAFE/measurement/s1a-iw1-slc-vv-20240322t052708-20240322t052734-053090-066e23-004.tiff",
         "SamplesPerBurst": 22990,
         "SwathIdentifier": "IW1"
        },
        {
         "@odata.mediaContentType": "application/octet-stream",
         "AbsoluteBurstId": 112152702,
         "AzimuthAnxTime": 2196.8605728771,
         "AzimuthTime": "2024-01-22T05:27:31.280313Z",
         "BeginningDateTime": "2024-01-22T05:27:32.412242Z",
         "BurstId": 359501,
         "ByteOffset": 1109514331,
         "ContentDate": {
          "End": "2024-01-22T05:27:33.290451Z",
          "Start": "2024-01-22T05:27:32.412242Z"
         },
         "ContentType": "application/octet-stream",
         "DatatakeID": 413670,
         "EndingDateTime": "2024-01-22T05:27:33.290451Z",
         "Footprint": "geography'SRID=4326;POLYGON ((12.306189 46.586499, 11.729773 46.66502, 11.194249 46.735345, 11.139994 46.531867, 11.674696 46.466093, 12.250223 46.392142, 12.306189 46.586499))'",
         "GeoFootprint": {
          "coordinates": [
           [
            [
             12.306189,
             46.586499
            ],
            [
             11.729773,
             46.66502
            ],
            [
             11.194249,
             46.735345
            ],
            [
             11.139994,
             46.531867
            ],
            [
             11.674696,
             46.466093
            ],
            [
             12.250223,
             46.392142
            ],
            [
             12.306189,
             46.586499
            ]
           ]
          ],
          "type": "Polygon"
         },
         "Id": "d17533d5-ae15-4eba-b1e1-928ed4aa4aea",
         "Lines": 12064,
         "LinesPerBurst": 1508,
         "Name": "S1A-SLC-20240122T052732-359501-IW1-VV-413670",
         "OperationalMode": "IW",
         "OrbitDirection": "DESCENDING",
         "ParentProductId": "9fe843ee-6ba5-482f-80b5-0197a1e39bf3",
         "ParentProductName": "S1A_IW_SLC__1SDV_20240122T052707_20240122T052734_052215_064FE6_2353.SAFE",
         "ParentProductType": "IW_SLC__1S",
         "PlatformSerialIdentifier": "A",
         "PolarisationChannels": "VV",
         "RelativeOrbitNumber": 168,
         "S3Path": "/eodata/Sentinel-1/SAR/IW_SLC__1S/2024/01/22/S1A_IW_SLC__1SDV_20240122T052707_20240122T052734_052215_064FE6_2353.SAFE/measurement/s1a-iw1-slc-vv-20240122t052709-20240122t052734-052215-064fe6-004.tiff",
         "SamplesPerBurst": 22990,
         "SwathIdentifier": "IW1"
        },
        {
         "@odata.mediaContentType": "application/octet-stream",
         "AbsoluteBurstId": 113280364,
         "AzimuthAnxTime": 2196.8293318771,
         "AzimuthTime": "2024-02-27T05:27:30.439167Z",
         "BeginningDateTime": "2024-02-27T05:27:31.589594Z",
         "BurstId": 359501,
         "ByteOffset": 1109514331,
         "ContentDate": {
          "End": "2024-02-27T05:27:32.467803Z",
          "Start": "2024-02-27T05:27:31.589594Z"
         },
         "ContentType": "application/octet-stream",
         "DatatakeID": 418227,
         "EndingDateTime": "2024-02-27T05:27:32.467803Z",
         "Footprint": "geography'SRID=4326;POLYGON ((12.306189 46.586499, 11.729773 46.66502, 11.194249 46.735345, 11.139994 46.531867, 11.674696 46.466093, 12.250223 46.392142, 12.306189 46.586499))'",
         "GeoFootprint": {
          "coordinates": [
           [
            [
             12.306189,
             46.586499
            ],
            [
             11.729773,
             46.66502
            ],
            [
             11.194249,
             46.735345
            ],
            [
             11.139994,
             46.531867
            ],
            [
             11.674696,
             46.466093
            ],
            [
             12.250223,
             46.392142
            ],
            [
             12.306189,
             46.586499
            ]
           ]
          ],
          "type": "Polygon"
         },
         "Id": "930123c7-bb55-4637-b72f-e8b9b6de15f5",
         "Lines": 12064,
         "LinesPerBurst": 1508,
         "Name": "S1A-SLC-20240227T052731-359501-IW1-VV-418227",
         "OperationalMode": "IW",
         "OrbitDirection": "DESCENDING",
         "ParentProductId": "0739e9b0-b0a4-4813-bc90-e7826ce7aef5",
         "ParentProductName": "S1A_IW_SLC__1SDV_20240227T052706_20240227T052733_052740_0661B3_0C71.SAFE",
         "ParentProductType": "IW_SLC__1S",
         "PlatformSerialIdentifier": "A",
         "PolarisationChannels": "VV",
         "RelativeOrbitNumber": 168,
         "S3Path": "/eodata/Sentinel-1/SAR/IW_SLC__1S/2024/02/27/S1A_IW_SLC__1SDV_20240227T052706_20240227T052733_052740_0661B3_0C71.SAFE/measurement/s1a-iw1-slc-vv-20240227t052708-20240227t052733-052740-0661b3-004.tiff",
         "SamplesPerBurst": 22990,
         "SwathIdentifier": "IW1"
        },
        {
         "@odata.mediaContentType": "application/octet-stream",
         "AbsoluteBurstId": 115911576,
         "AzimuthAnxTime": 2196.8321714334,
         "AzimuthTime": "2024-05-21T05:27:31.612252Z",
         "BeginningDateTime": "2024-05-21T05:27:32.744181Z",
         "BurstId": 359501,
         "ByteOffset": 1109514331,
         "ContentDate": {
          "End": "2024-05-21T05:27:33.622390Z",
          "Start": "2024-05-21T05:27:32.744181Z"
         },
         "ContentType": "application/octet-stream",
         "DatatakeID": 429917,
         "EndingDateTime": "2024-05-21T05:27:33.622390Z",
         "Footprint": "geography'SRID=4326;POLYGON ((12.306189 46.586499, 11.729773 46.66502, 11.194249 46.735345, 11.139994 46.531867, 11.674696 46.466093, 12.250223 46.392142, 12.306189 46.586499))'",
         "GeoFootprint": {
          "coordinates": [
           [
            [
             12.306189,
             46.586499
            ],
            [
             11.729773,
             46.66502
            ],
            [
             11.194249,
             46.735345
            ],
            [
             11.139994,
             46.531867
            ],
            [
             11.674696,
             46.466093
            ],
            [
             12.250223,
             46.392142
            ],
            [
             12.306189,
             46.586499
            ]
           ]
          ],
          "type": "Polygon"
         },
         "Id": "348c094a-7567-4aa1-9e5f-e2cf79c6ad9e",
         "Lines": 12064,
         "LinesPerBurst": 1508,
         "Name": "S1A-SLC-20240521T052732-359501-IW1-VV-429917",
         "OperationalMode": "IW",
         "OrbitDirection": "DESCENDING",
         "ParentProductId": "80ecc463-231b-484f-ac69-e9bd02a6006c",
         "ParentProductName": "S1A_IW_SLC__1SDV_20240521T052707_20240521T052734_053965_068F5D_CE46.SAFE",
         "ParentProductType": "IW_SLC__1S",
         "PlatformSerialIdentifier": "A",
         "PolarisationChannels": "VV",
         "RelativeOrbitNumber": 168,
         "S3Path": "/eodata/Sentinel-1/SAR/IW_SLC__1S/2024/05/21/S1A_IW_SLC__1SDV_20240521T052707_20240521T052734_053965_068F5D_CE46.SAFE/measurement/s1a-iw1-slc-vv-20240521t052709-20240521t052734-053965-068f5d-004.tiff",
         "SamplesPerBurst": 22990,
         "SwathIdentifier": "IW1"
        },
        {
         "@odata.mediaContentType": "application/octet-stream",
         "AbsoluteBurstId": 116287463,
         "AzimuthAnxTime": 2196.8242484334,
         "AzimuthTime": "2024-06-02T05:27:31.651862Z",
         "BeginningDateTime": "2024-06-02T05:27:32.789973Z",
         "BurstId": 359501,
         "ByteOffset": 1109514331,
         "ContentDate": {
          "End": "2024-06-02T05:27:33.668182Z",
          "Start": "2024-06-02T05:27:32.789973Z"
         },
         "ContentType": "application/octet-stream",
         "DatatakeID": 431470,
         "EndingDateTime": "2024-06-02T05:27:33.668182Z",
         "Footprint": "geography'SRID=4326;POLYGON ((12.306189 46.586499, 11.729773 46.66502, 11.194249 46.735345, 11.139994 46.531867, 11.674696 46.466093, 12.250223 46.392142, 12.306189 46.586499))'",
         "GeoFootprint": {
          "coordinates": [
           [
            [
             12.306189,
             46.586499
            ],
            [
             11.729773,
             46.66502
            ],
            [
             11.194249,
             46.735345
            ],
            [
             11.139994,
             46.531867
            ],
            [
             11.674696,
             46.466093
            ],
            [
             12.250223,
             46.392142
            ],
            [
             12.306189,
             46.586499
            ]
           ]
          ],
          "type": "Polygon"
         },
         "Id": "39ecf860-b78b-41f0-92f3-3e8ac89d7477",
         "Lines": 12064,
         "LinesPerBurst": 1508,
         "Name": "S1A-SLC-20240602T052732-359501-IW1-VV-431470",
         "OperationalMode": "IW",
         "OrbitDirection": "DESCENDING",
         "ParentProductId": "d82cbc2d-6ef4-4040-89db-e8cd28f07002",
         "ParentProductName": "S1A_IW_SLC__1SDV_20240602T052707_20240602T052734_054140_06956E_BF75.SAFE",
         "ParentProductType": "IW_SLC__1S",
         "PlatformSerialIdentifier": "A",
         "PolarisationChannels": "VV",
         "RelativeOrbitNumber": 168,
         "S3Path": "/eodata/Sentinel-1/SAR/IW_SLC__1S/2024/06/02/S1A_IW_SLC__1SDV_20240602T052707_20240602T052734_054140_06956E_BF75.SAFE/measurement/s1a-iw1-slc-vv-20240602t052709-20240602t052734-054140-06956e-004.tiff",
         "SamplesPerBurst": 22990,
         "SwathIdentifier": "IW1"
        },
        {
         "@odata.mediaContentType": "application/octet-stream",
         "AbsoluteBurstId": 117039238,
         "AzimuthAnxTime": 2196.8181334334,
         "AzimuthTime": "2024-06-26T05:27:30.429288Z",
         "BeginningDateTime": "2024-06-26T05:27:31.577677Z",
         "BurstId": 359501,
         "ByteOffset": 1102710235,
         "ContentDate": {
          "End": "2024-06-26T05:27:32.455886Z",
          "Start": "2024-06-26T05:27:31.577677Z"
         },
         "ContentType": "application/octet-stream",
         "DatatakeID": 434578,
         "EndingDateTime": "2024-06-26T05:27:32.455886Z",
         "Footprint": "geography'SRID=4326;POLYGON ((12.306189 46.586499, 11.729773 46.66502, 11.194249 46.735345, 11.139994 46.531867, 11.674696 46.466093, 12.250223 46.392142, 12.306189 46.586499))'",
         "GeoFootprint": {
          "coordinates": [
           [
            [
             12.306189,
             46.586499
            ],
            [
             11.729773,
             46.66502
            ],
            [
             11.194249,
             46.735345
            ],
            [
             11.139994,
             46.531867
            ],
            [
             11.674696,
             46.466093
            ],
            [
             12.250223,
             46.392142
            ],
            [
             12.306189,
             46.586499
            ]
           ]
          ],
          "type": "Polygon"
         },
         "Id": "5089d0cf-d251-411a-b3d2-b06282021dbc",
         "Lines": 12064,
         "LinesPerBurst": 1508,
         "Name": "S1A-SLC-20240626T052731-359501-IW1-VV-434578",
         "OperationalMode": "IW",
         "OrbitDirection": "DESCENDING",
         "ParentProductId": "5e9275eb-cc39-491c-9494-379dfc81c072",
         "ParentProductName": "S1A_IW_SLC__1SDV_20240626T052706_20240626T052733_054490_06A192_862B.SAFE",
         "ParentProductType": "IW_SLC__1S",
         "PlatformSerialIdentifier": "A",
         "PolarisationChannels": "VV",
         "RelativeOrbitNumber": 168,
         "S3Path": "/eodata/Sentinel-1/SAR/IW_SLC__1S/2024/06/26/S1A_IW_SLC__1SDV_20240626T052706_20240626T052733_054490_06A192_862B.SAFE/measurement/s1a-iw1-slc-vv-20240626t052708-20240626t052733-054490-06a192-004.tiff",
         "SamplesPerBurst": 22849,
         "SwathIdentifier": "IW1"
        },
        {
         "@odata.mediaContentType": "application/octet-stream",
         "AbsoluteBurstId": 115535688,
         "AzimuthAnxTime": 2196.8042369897,
         "AzimuthTime": "2024-05-09T05:27:32.273300Z",
         "BeginningDateTime": "2024-05-09T05:27:33.429896Z",
         "BurstId": 359501,
         "ByteOffset": 1109514331,
         "ContentDate": {
          "End": "2024-05-09T05:27:34.308105Z",
          "Start": "2024-05-09T05:27:33.429896Z"
         },
         "ContentType": "application/octet-stream",
         "DatatakeID": 428381,
         "EndingDateTime": "2024-05-09T05:27:34.308105Z",
         "Footprint": "geography'SRID=4326;POLYGON ((12.306189 46.586499, 11.729773 46.66502, 11.194249 46.735345, 11.139994 46.531867, 11.674696 46.466093, 12.250223 46.392142, 12.306189 46.586499))'",
         "GeoFootprint": {
          "coordinates": [
           [
            [
             12.306189,
             46.586499
            ],
            [
             11.729773,
             46.66502
            ],
            [
             11.194249,
             46.735345
            ],
            [
             11.139994,
             46.531867
            ],
            [
             11.674696,
             46.466093
            ],
            [
             12.250223,
             46.392142
            ],
            [
             12.306189,
             46.586499
            ]
           ]
          ],
          "type": "Polygon"
         },
         "Id": "0cb70c60-c520-412b-b0bc-0f8098fb2e75",
         "Lines": 12064,
         "LinesPerBurst": 1508,
         "Name": "S1A-SLC-20240509T052733-359501-IW1-VV-428381",
         "OperationalMode": "IW",
         "OrbitDirection": "DESCENDING",
         "ParentProductId": "eccee6db-e573-4d41-b94a-56c14e1daeb9",
         "ParentProductName": "S1A_IW_SLC__1SDV_20240509T052708_20240509T052735_053790_06895D_1B59.SAFE",
         "ParentProductType": "IW_SLC__1S",
         "PlatformSerialIdentifier": "A",
         "PolarisationChannels": "VV",
         "RelativeOrbitNumber": 168,
         "S3Path": "/eodata/Sentinel-1/SAR/IW_SLC__1S/2024/05/09/S1A_IW_SLC__1SDV_20240509T052708_20240509T052735_053790_06895D_1B59.SAFE/measurement/s1a-iw1-slc-vv-20240509t052710-20240509t052735-053790-06895d-004.tiff",
         "SamplesPerBurst": 22990,
         "SwathIdentifier": "IW1"
        },
        {
         "@odata.mediaContentType": "application/octet-stream",
         "AbsoluteBurstId": 115159801,
         "AzimuthAnxTime": 2196.8155684334,
         "AzimuthTime": "2024-04-27T05:27:32.016584Z",
         "BeginningDateTime": "2024-04-27T05:27:33.164958Z",
         "BurstId": 359501,
         "ByteOffset": 1109514331,
         "ContentDate": {
          "End": "2024-04-27T05:27:34.043167Z",
          "Start": "2024-04-27T05:27:33.164958Z"
         },
         "ContentType": "application/octet-stream",
         "DatatakeID": 426636,
         "EndingDateTime": "2024-04-27T05:27:34.043167Z",
         "Footprint": "geography'SRID=4326;POLYGON ((12.306189 46.586499, 11.729773 46.66502, 11.194249 46.735345, 11.139994 46.531867, 11.674696 46.466093, 12.250223 46.392142, 12.306189 46.586499))'",
         "GeoFootprint": {
          "coordinates": [
           [
            [
             12.306189,
             46.586499
            ],
            [
             11.729773,
             46.66502
            ],
            [
             11.194249,
             46.735345
            ],
            [
             11.139994,
             46.531867
            ],
            [
             11.674696,
             46.466093
            ],
            [
             12.250223,
             46.392142
            ],
            [
             12.306189,
             46.586499
            ]
           ]
          ],
          "type": "Polygon"
         },
         "Id": "83bdec60-90fe-4a58-bd74-b1893cb734d9",
         "Lines": 12064,
         "LinesPerBurst": 1508,
         "Name": "S1A-SLC-20240427T052733-359501-IW1-VV-426636",
         "OperationalMode": "IW",
         "OrbitDirection": "DESCENDING",
         "ParentProductId": "dfb9f6ac-82ed-49cf-9422-1a8b4885f9c9",
         "ParentProductName": "S1A_IW_SLC__1SDV_20240427T052708_20240427T052735_053615_06828C_3A28.SAFE",
         "ParentProductType": "IW_SLC__1S",
         "PlatformSerialIdentifier": "A",
         "PolarisationChannels": "VV",
         "RelativeOrbitNumber": 168,
         "S3Path": "/eodata/Sentinel-1/SAR/IW_SLC__1S/2024/04/27/S1A_IW_SLC__1SDV_20240427T052708_20240427T052735_053615_06828C_3A28.SAFE/measurement/s1a-iw1-slc-vv-20240427t052709-20240427t052735-053615-06828c-004.tiff",
         "SamplesPerBurst": 22990,
         "SwathIdentifier": "IW1"
        },
        {
         "@odata.mediaContentType": "application/octet-stream",
         "AbsoluteBurstId": 114783914,
         "AzimuthAnxTime": 2196.842512546,
         "AzimuthTime": "2024-04-15T05:27:31.111920Z",
         "BeginningDateTime": "2024-04-15T05:27:32.237681Z",
         "BurstId": 359501,
         "ByteOffset": 1109514331,
         "ContentDate": {
          "End": "2024-04-15T05:27:33.115890Z",
          "Start": "2024-04-15T05:27:32.237681Z"
         },
         "ContentType": "application/octet-stream",
         "DatatakeID": 424876,
         "EndingDateTime": "2024-04-15T05:27:33.115890Z",
         "Footprint": "geography'SRID=4326;POLYGON ((12.306189 46.586499, 11.729773 46.66502, 11.194249 46.735345, 11.139994 46.531867, 11.674696 46.466093, 12.250223 46.392142, 12.306189 46.586499))'",
         "GeoFootprint": {
          "coordinates": [
           [
            [
             12.306189,
             46.586499
            ],
            [
             11.729773,
             46.66502
            ],
            [
             11.194249,
             46.735345
            ],
            [
             11.139994,
             46.531867
            ],
            [
             11.674696,
             46.466093
            ],
            [
             12.250223,
             46.392142
            ],
            [
             12.306189,
             46.586499
            ]
           ]
          ],
          "type": "Polygon"
         },
         "Id": "bd80cbec-160f-4bac-a0b9-0f002dca999f",
         "Lines": 12064,
         "LinesPerBurst": 1508,
         "Name": "S1A-SLC-20240415T052732-359501-IW1-VV-424876",
         "OperationalMode": "IW",
         "OrbitDirection": "DESCENDING",
         "ParentProductId": "d70f04e4-83f4-4d3c-a843-8d40782c94a2",
         "ParentProductName": "S1A_IW_SLC__1SDV_20240415T052707_20240415T052734_053440_067BAC_B31A.SAFE",
         "ParentProductType": "IW_SLC__1S",
         "PlatformSerialIdentifier": "A",
         "PolarisationChannels": "VV",
         "RelativeOrbitNumber": 168,
         "S3Path": "/eodata/Sentinel-1/SAR/IW_SLC__1S/2024/04/15/S1A_IW_SLC__1SDV_20240415T052707_20240415T052734_053440_067BAC_B31A.SAFE/measurement/s1a-iw1-slc-vv-20240415t052709-20240415t052734-053440-067bac-004.tiff",
         "SamplesPerBurst": 22990,
         "SwathIdentifier": "IW1"
        },
        {
         "@odata.mediaContentType": "application/octet-stream",
         "AbsoluteBurstId": 114408026,
         "AzimuthAnxTime": 2196.8323119897,
         "AzimuthTime": "2024-04-03T05:27:31.531724Z",
         "BeginningDateTime": "2024-04-03T05:27:32.659556Z",
         "BurstId": 359501,
         "ByteOffset": 1109514331,
         "ContentDate": {
          "End": "2024-04-03T05:27:33.537765Z",
          "Start": "2024-04-03T05:27:32.659556Z"
         },
         "ContentType": "application/octet-stream",
         "DatatakeID": 423097,
         "EndingDateTime": "2024-04-03T05:27:33.537765Z",
         "Footprint": "geography'SRID=4326;POLYGON ((12.306189 46.586499, 11.729773 46.66502, 11.194249 46.735345, 11.139994 46.531867, 11.674696 46.466093, 12.250223 46.392142, 12.306189 46.586499))'",
         "GeoFootprint": {
          "coordinates": [
           [
            [
             12.306189,
             46.586499
            ],
            [
             11.729773,
             46.66502
            ],
            [
             11.194249,
             46.735345
            ],
            [
             11.139994,
             46.531867
            ],
            [
             11.674696,
             46.466093
            ],
            [
             12.250223,
             46.392142
            ],
            [
             12.306189,
             46.586499
            ]
           ]
          ],
          "type": "Polygon"
         },
         "Id": "871e356a-8d4f-4416-8194-b35697c7deba",
         "Lines": 12064,
         "LinesPerBurst": 1508,
         "Name": "S1A-SLC-20240403T052732-359501-IW1-VV-423097",
         "OperationalMode": "IW",
         "OrbitDirection": "DESCENDING",
         "ParentProductId": "b08bb845-4564-44cb-88f7-c4034b9a0252",
         "ParentProductName": "S1A_IW_SLC__1SDV_20240403T052707_20240403T052734_053265_0674B9_DBCC.SAFE",
         "ParentProductType": "IW_SLC__1S",
         "PlatformSerialIdentifier": "A",
         "PolarisationChannels": "VV",
         "RelativeOrbitNumber": 168,
         "S3Path": "/eodata/Sentinel-1/SAR/IW_SLC__1S/2024/04/03/S1A_IW_SLC__1SDV_20240403T052707_20240403T052734_053265_0674B9_DBCC.SAFE/measurement/s1a-iw1-slc-vv-20240403t052709-20240403t052734-053265-0674b9-004.tiff",
         "SamplesPerBurst": 22990,
         "SwathIdentifier": "IW1"
        },
        {
         "@odata.mediaContentType": "application/octet-stream",
         "AbsoluteBurstId": 116663351,
         "AzimuthAnxTime": 2196.8217874334,
         "AzimuthTime": "2024-06-14T05:27:31.171051Z",
         "BeginningDateTime": "2024-06-14T05:27:32.313258Z",
         "BurstId": 359501,
         "ByteOffset": 1109562587,
         "ContentDate": {
          "End": "2024-06-14T05:27:33.191467Z",
          "Start": "2024-06-14T05:27:32.313258Z"
         },
         "ContentType": "application/octet-stream",
         "DatatakeID": 433018,
         "EndingDateTime": "2024-06-14T05:27:33.191467Z",
         "Footprint": "geography'SRID=4326;POLYGON ((12.306189 46.586499, 11.729773 46.66502, 11.194249 46.735345, 11.139994 46.531867, 11.674696 46.466093, 12.250223 46.392142, 12.306189 46.586499))'",
         "GeoFootprint": {
          "coordinates": [
           [
            [
             12.306189,
             46.586499
            ],
            [
             11.729773,
             46.66502
            ],
            [
             11.194249,
             46.735345
            ],
            [
             11.139994,
             46.531867
            ],
            [
             11.674696,
             46.466093
            ],
            [
             12.250223,
             46.392142
            ],
            [
             12.306189,
             46.586499
            ]
           ]
          ],
          "type": "Polygon"
         },
         "Id": "d75e5374-3210-44ea-9185-592381c2d773",
         "Lines": 12064,
         "LinesPerBurst": 1508,
         "Name": "S1A-SLC-20240614T052732-359501-IW1-VV-433018",
         "OperationalMode": "IW",
         "OrbitDirection": "DESCENDING",
         "ParentProductId": "7cec3d73-8a51-4c1e-8b3b-6ed6a10ed45e",
         "ParentProductName": "S1A_IW_SLC__1SDV_20240614T052707_20240614T052734_054315_069B7A_7025.SAFE",
         "ParentProductType": "IW_SLC__1S",
         "PlatformSerialIdentifier": "A",
         "PolarisationChannels": "VV",
         "RelativeOrbitNumber": 168,
         "S3Path": "/eodata/Sentinel-1/SAR/IW_SLC__1S/2024/06/14/S1A_IW_SLC__1SDV_20240614T052707_20240614T052734_054315_069B7A_7025.SAFE/measurement/s1a-iw1-slc-vv-20240614t052709-20240614t052734-054315-069b7a-004.tiff",
         "SamplesPerBurst": 22991,
         "SwathIdentifier": "IW1"
        },
        {
         "@odata.mediaContentType": "application/octet-stream",
         "AbsoluteBurstId": 117415125,
         "AzimuthAnxTime": 2196.8390304334,
         "AzimuthTime": "2024-07-08T05:27:30.166231Z",
         "BeginningDateTime": "2024-07-08T05:27:31.302271Z",
         "BurstId": 359501,
         "ByteOffset": 1102710235,
         "ContentDate": {
          "End": "2024-07-08T05:27:32.180480Z",
          "Start": "2024-07-08T05:27:31.302271Z"
         },
         "ContentType": "application/octet-stream",
         "DatatakeID": 436135,
         "EndingDateTime": "2024-07-08T05:27:32.180480Z",
         "Footprint": "geography'SRID=4326;POLYGON ((12.306189 46.586499, 11.729773 46.66502, 11.194249 46.735345, 11.139994 46.531867, 11.674696 46.466093, 12.250223 46.392142, 12.306189 46.586499))'",
         "GeoFootprint": {
          "coordinates": [
           [
            [
             12.306189,
             46.586499
            ],
            [
             11.729773,
             46.66502
            ],
            [
             11.194249,
             46.735345
            ],
            [
             11.139994,
             46.531867
            ],
            [
             11.674696,
             46.466093
            ],
            [
             12.250223,
             46.392142
            ],
            [
             12.306189,
             46.586499
            ]
           ]
          ],
          "type": "Polygon"
         },
         "Id": "94e49b4b-4c62-4c06-9142-286622ddcff4",
         "Lines": 12064,
         "LinesPerBurst": 1508,
         "Name": "S1A-SLC-20240708T052731-359501-IW1-VV-436135",
         "OperationalMode": "IW",
         "OrbitDirection": "DESCENDING",
         "ParentProductId": "e56bebfd-2f1e-493a-8768-5a0a681daf72",
         "ParentProductName": "S1A_IW_SLC__1SDV_20240708T052706_20240708T052733_054665_06A7A7_F128.SAFE",
         "ParentProductType": "IW_SLC__1S",
         "PlatformSerialIdentifier": "A",
         "PolarisationChannels": "VV",
         "RelativeOrbitNumber": 168,
         "S3Path": "/eodata/Sentinel-1/SAR/IW_SLC__1S/2024/07/08/S1A_IW_SLC__1SDV_20240708T052706_20240708T052733_054665_06A7A7_F128.SAFE/measurement/s1a-iw1-slc-vv-20240708t052708-20240708t052733-054665-06a7a7-004.tiff",
         "SamplesPerBurst": 22849,
         "SwathIdentifier": "IW1"
        },
        {
         "@odata.mediaContentType": "application/octet-stream",
         "AbsoluteBurstId": 117791013,
         "AzimuthAnxTime": 2196.8333429897,
         "AzimuthTime": "2024-07-20T05:27:29.424311Z",
         "BeginningDateTime": "2024-07-20T05:27:30.564463Z",
         "BurstId": 359501,
         "ByteOffset": 1102758491,
         "ContentDate": {
          "End": "2024-07-20T05:27:31.442672Z",
          "Start": "2024-07-20T05:27:30.564463Z"
         },
         "ContentType": "application/octet-stream",
         "DatatakeID": 437683,
         "EndingDateTime": "2024-07-20T05:27:31.442672Z",
         "Footprint": "geography'SRID=4326;POLYGON ((12.306189 46.586499, 11.729773 46.66502, 11.194249 46.735345, 11.139994 46.531867, 11.674696 46.466093, 12.250223 46.392142, 12.306189 46.586499))'",
         "GeoFootprint": {
          "coordinates": [
           [
            [
             12.306189,
             46.586499
            ],
            [
             11.729773,
             46.66502
            ],
            [
             11.194249,
             46.735345
            ],
            [
             11.139994,
             46.531867
            ],
            [
             11.674696,
             46.466093
            ],
            [
             12.250223,
             46.392142
            ],
            [
             12.306189,
             46.586499
            ]
           ]
          ],
          "type": "Polygon"
         },
         "Id": "12f479f4-d532-42c8-aabc-10b4116f6bc8",
         "Lines": 12064,
         "LinesPerBurst": 1508,
         "Name": "S1A-SLC-20240720T052730-359501-IW1-VV-437683",
         "OperationalMode": "IW",
         "OrbitDirection": "DESCENDING",
         "ParentProductId": "aceb38d9-1da8-43b0-b612-74317e51d557",
         "ParentProductName": "S1A_IW_SLC__1SDV_20240720T052705_20240720T052732_054840_06ADB3_2E3D.SAFE",
         "ParentProductType": "IW_SLC__1S",
         "PlatformSerialIdentifier": "A",
         "PolarisationChannels": "VV",
         "RelativeOrbitNumber": 168,
         "S3Path": "/eodata/Sentinel-1/SAR/IW_SLC__1S/2024/07/20/S1A_IW_SLC__1SDV_20240720T052705_20240720T052732_054840_06ADB3_2E3D.SAFE/measurement/s1a-iw1-slc-vv-20240720t052707-20240720t052732-054840-06adb3-004.tiff",
         "SamplesPerBurst": 22850,
         "SwathIdentifier": "IW1"
        },
        {
         "@odata.mediaContentType": "application/octet-stream",
         "AbsoluteBurstId": 119294562,
         "AzimuthAnxTime": 2196.8570699897,
         "AzimuthTime": "2024-09-06T05:27:29.965665Z",
         "BeginningDateTime": "2024-09-06T05:27:31.091426Z",
         "BurstId": 359501,
         "ByteOffset": 1109514331,
         "ContentDate": {
          "End": "2024-09-06T05:27:31.969635Z",
          "Start": "2024-09-06T05:27:31.091426Z"
         },
         "ContentType": "application/octet-stream",
         "DatatakeID": 444181,
         "EndingDateTime": "2024-09-06T05:27:31.969635Z",
         "Footprint": "geography'SRID=4326;POLYGON ((12.306189 46.586499, 11.729773 46.66502, 11.194249 46.735345, 11.139994 46.531867, 11.674696 46.466093, 12.250223 46.392142, 12.306189 46.586499))'",
         "GeoFootprint": {
          "coordinates": [
           [
            [
             12.306189,
             46.586499
            ],
            [
             11.729773,
             46.66502
            ],
            [
             11.194249,
             46.735345
            ],
            [
             11.139994,
             46.531867
            ],
            [
             11.674696,
             46.466093
            ],
            [
             12.250223,
             46.392142
            ],
            [
             12.306189,
             46.586499
            ]
           ]
          ],
          "type": "Polygon"
         },
         "Id": "d0603d3b-b619-4299-ba88-bb8a5eaf5d66",
         "Lines": 12064,
         "LinesPerBurst": 1508,
         "Name": "S1A-SLC-20240906T052731-359501-IW1-VV-444181",
         "OperationalMode": "IW",
         "OrbitDirection": "DESCENDING",
         "ParentProductId": "4ad72c4f-2c14-4d05-8421-d6656bcb6a08",
         "ParentProductName": "S1A_IW_SLC__1SDV_20240906T052706_20240906T052733_055540_06C715_7A78.SAFE",
         "ParentProductType": "IW_SLC__1S",
         "PlatformSerialIdentifier": "A",
         "PolarisationChannels": "VV",
         "RelativeOrbitNumber": 168,
         "S3Path": "/eodata/Sentinel-1/SAR/IW_SLC__1S/2024/09/06/S1A_IW_SLC__1SDV_20240906T052706_20240906T052733_055540_06C715_7A78.SAFE/measurement/s1a-iw1-slc-vv-20240906t052707-20240906t052733-055540-06c715-004.tiff",
         "SamplesPerBurst": 22990,
         "SwathIdentifier": "IW1"
        },
        {
         "@odata.mediaContentType": "application/octet-stream",
         "AbsoluteBurstId": 118918675,
         "AzimuthAnxTime": 2196.8473464334,
         "AzimuthTime": "2024-08-25T05:27:29.758207Z",
         "BeginningDateTime": "2024-08-25T05:27:30.892207Z",
         "BurstId": 359501,
         "ByteOffset": 1098362195,
         "ContentDate": {
          "End": "2024-08-25T05:27:31.769834Z",
          "Start": "2024-08-25T05:27:30.892207Z"
         },
         "ContentType": "application/octet-stream",
         "DatatakeID": 442501,
         "EndingDateTime": "2024-08-25T05:27:31.769834Z",
         "Footprint": "geography'SRID=4326;POLYGON ((12.306189 46.586499, 11.729773 46.66502, 11.194249 46.735345, 11.139994 46.531867, 11.674696 46.466093, 12.250223 46.392142, 12.306189 46.586499))'",
         "GeoFootprint": {
          "coordinates": [
           [
            [
             12.306189,
             46.586499
            ],
            [
             11.729773,
             46.66502
            ],
            [
             11.194249,
             46.735345
            ],
            [
             11.139994,
             46.531867
            ],
            [
             11.674696,
             46.466093
            ],
            [
             12.250223,
             46.392142
            ],
            [
             12.306189,
             46.586499
            ]
           ]
          ],
          "type": "Polygon"
         },
         "Id": "c186f614-9ddd-49ae-8147-7801b79ba597",
         "Lines": 12056,
         "LinesPerBurst": 1507,
         "Name": "S1A-SLC-20240825T052730-359501-IW1-VV-442501",
         "OperationalMode": "IW",
         "OrbitDirection": "DESCENDING",
         "ParentProductId": "c9e2dedc-f9c5-4c8e-a256-5552b1eee2f2",
         "ParentProductName": "S1A_IW_SLC__1SDV_20240825T052705_20240825T052732_055365_06C085_FFD2.SAFE",
         "ParentProductType": "IW_SLC__1S",
         "PlatformSerialIdentifier": "A",
         "PolarisationChannels": "VV",
         "RelativeOrbitNumber": 168,
         "S3Path": "/eodata/Sentinel-1/SAR/IW_SLC__1S/2024/08/25/S1A_IW_SLC__1SDV_20240825T052705_20240825T052732_055365_06C085_FFD2.SAFE/measurement/s1a-iw1-slc-vv-20240825t052707-20240825t052732-055365-06c085-004.tiff",
         "SamplesPerBurst": 22774,
         "SwathIdentifier": "IW1"
        },
        {
         "@odata.mediaContentType": "application/octet-stream",
         "AbsoluteBurstId": 119670450,
         "AzimuthAnxTime": 2196.8452894334,
         "AzimuthTime": "2024-09-18T05:27:30.579961Z",
         "BeginningDateTime": "2024-09-18T05:27:31.709834Z",
         "BurstId": 359501,
         "ByteOffset": 1109514331,
         "ContentDate": {
          "End": "2024-09-18T05:27:32.588043Z",
          "Start": "2024-09-18T05:27:31.709834Z"
         },
         "ContentType": "application/octet-stream",
         "DatatakeID": 445953,
         "EndingDateTime": "2024-09-18T05:27:32.588043Z",
         "Footprint": "geography'SRID=4326;POLYGON ((12.306189 46.586499, 11.729773 46.66502, 11.194249 46.735345, 11.139994 46.531867, 11.674696 46.466093, 12.250223 46.392142, 12.306189 46.586499))'",
         "GeoFootprint": {
          "coordinates": [
           [
            [
             12.306189,
             46.586499
            ],
            [
             11.729773,
             46.66502
            ],
            [
             11.194249,
             46.735345
            ],
            [
             11.139994,
             46.531867
            ],
            [
             11.674696,
             46.466093
            ],
            [
             12.250223,
             46.392142
            ],
            [
             12.306189,
             46.586499
            ]
           ]
          ],
          "type": "Polygon"
         },
         "Id": "084c0eac-2e84-4a1c-acad-6c48f2b462b2",
         "Lines": 12064,
         "LinesPerBurst": 1508,
         "Name": "S1A-SLC-20240918T052731-359501-IW1-VV-445953",
         "OperationalMode": "IW",
         "OrbitDirection": "DESCENDING",
         "ParentProductId": "cacfd541-2c95-4dd0-9334-84b897f11770",
         "ParentProductName": "S1A_IW_SLC__1SDV_20240918T052706_20240918T052733_055715_06CE01_2BD0.SAFE",
         "ParentProductType": "IW_SLC__1S",
         "PlatformSerialIdentifier": "A",
         "PolarisationChannels": "VV",
         "RelativeOrbitNumber": 168,
         "S3Path": "/eodata/Sentinel-1/SAR/IW_SLC__1S/2024/09/18/S1A_IW_SLC__1SDV_20240918T052706_20240918T052733_055715_06CE01_2BD0.SAFE/measurement/s1a-iw1-slc-vv-20240918t052708-20240918t052733-055715-06ce01-004.tiff",
         "SamplesPerBurst": 22990,
         "SwathIdentifier": "IW1"
        },
        {
         "@odata.mediaContentType": "application/octet-stream",
         "AbsoluteBurstId": 118166900,
         "AzimuthAnxTime": 2196.8351619897,
         "AzimuthTime": "2024-08-01T05:27:29.604941Z",
         "BeginningDateTime": "2024-08-01T05:27:30.743037Z",
         "BurstId": 359501,
         "ByteOffset": 1098362195,
         "ContentDate": {
          "End": "2024-08-01T05:27:31.620664Z",
          "Start": "2024-08-01T05:27:30.743037Z"
         },
         "ContentType": "application/octet-stream",
         "DatatakeID": 439246,
         "EndingDateTime": "2024-08-01T05:27:31.620664Z",
         "Footprint": "geography'SRID=4326;POLYGON ((12.306189 46.586499, 11.729773 46.66502, 11.194249 46.735345, 11.139994 46.531867, 11.674696 46.466093, 12.250223 46.392142, 12.306189 46.586499))'",
         "GeoFootprint": {
          "coordinates": [
           [
            [
             12.306189,
             46.586499
            ],
            [
             11.729773,
             46.66502
            ],
            [
             11.194249,
             46.735345
            ],
            [
             11.139994,
             46.531867
            ],
            [
             11.674696,
             46.466093
            ],
            [
             12.250223,
             46.392142
            ],
            [
             12.306189,
             46.586499
            ]
           ]
          ],
          "type": "Polygon"
         },
         "Id": "3baab65d-a412-4f62-bc2f-5544fcff5b23",
         "Lines": 12056,
         "LinesPerBurst": 1507,
         "Name": "S1A-SLC-20240801T052730-359501-IW1-VV-439246",
         "OperationalMode": "IW",
         "OrbitDirection": "DESCENDING",
         "ParentProductId": "3a35bb12-3ef8-4c12-add9-b6a9589b8612",
         "ParentProductName": "S1A_IW_SLC__1SDV_20240801T052705_20240801T052732_055015_06B3CE_652A.SAFE",
         "ParentProductType": "IW_SLC__1S",
         "PlatformSerialIdentifier": "A",
         "PolarisationChannels": "VV",
         "RelativeOrbitNumber": 168,
         "S3Path": "/eodata/Sentinel-1/SAR/IW_SLC__1S/2024/08/01/S1A_IW_SLC__1SDV_20240801T052705_20240801T052732_055015_06B3CE_652A.SAFE/measurement/s1a-iw1-slc-vv-20240801t052707-20240801t052732-055015-06b3ce-004.tiff",
         "SamplesPerBurst": 22774,
         "SwathIdentifier": "IW1"
        },
        {
         "@odata.mediaContentType": "application/octet-stream",
         "AbsoluteBurstId": 120046337,
         "AzimuthAnxTime": 2196.8338374334,
         "AzimuthTime": "2024-09-30T05:27:30.752392Z",
         "BeginningDateTime": "2024-09-30T05:27:31.892542Z",
         "BurstId": 359501,
         "ByteOffset": 1109514331,
         "ContentDate": {
          "End": "2024-09-30T05:27:32.770751Z",
          "Start": "2024-09-30T05:27:31.892542Z"
         },
         "ContentType": "application/octet-stream",
         "DatatakeID": 447729,
         "EndingDateTime": "2024-09-30T05:27:32.770751Z",
         "Footprint": "geography'SRID=4326;POLYGON ((12.306189 46.586499, 11.729773 46.66502, 11.194249 46.735345, 11.139994 46.531867, 11.674696 46.466093, 12.250223 46.392142, 12.306189 46.586499))'",
         "GeoFootprint": {
          "coordinates": [
           [
            [
             12.306189,
             46.586499
            ],
            [
             11.729773,
             46.66502
            ],
            [
             11.194249,
             46.735345
            ],
            [
             11.139994,
             46.531867
            ],
            [
             11.674696,
             46.466093
            ],
            [
             12.250223,
             46.392142
            ],
            [
             12.306189,
             46.586499
            ]
           ]
          ],
          "type": "Polygon"
         },
         "Id": "e61768cc-48fb-4274-8cbf-c65644f961f8",
         "Lines": 12064,
         "LinesPerBurst": 1508,
         "Name": "S1A-SLC-20240930T052731-359501-IW1-VV-447729",
         "OperationalMode": "IW",
         "OrbitDirection": "DESCENDING",
         "ParentProductId": "a0371162-f8c7-4df7-ac22-4e8d88b521a2",
         "ParentProductName": "S1A_IW_SLC__1SDV_20240930T052706_20240930T052733_055890_06D4F1_3CF5.SAFE",
         "ParentProductType": "IW_SLC__1S",
         "PlatformSerialIdentifier": "A",
         "PolarisationChannels": "VV",
         "RelativeOrbitNumber": 168,
         "S3Path": "/eodata/Sentinel-1/SAR/IW_SLC__1S/2024/09/30/S1A_IW_SLC__1SDV_20240930T052706_20240930T052733_055890_06D4F1_3CF5.SAFE/measurement/s1a-iw1-slc-vv-20240930t052708-20240930t052733-055890-06d4f1-004.tiff",
         "SamplesPerBurst": 22990,
         "SwathIdentifier": "IW1"
        },
        {
         "@odata.mediaContentType": "application/octet-stream",
         "AbsoluteBurstId": 118542787,
         "AzimuthAnxTime": 2196.8337939897,
         "AzimuthTime": "2024-08-13T05:27:29.236707Z",
         "BeginningDateTime": "2024-08-13T05:27:30.370692Z",
         "BurstId": 359501,
         "ByteOffset": 1102710235,
         "ContentDate": {
          "End": "2024-08-13T05:27:31.248901Z",
          "Start": "2024-08-13T05:27:30.370692Z"
         },
         "ContentType": "application/octet-stream",
         "DatatakeID": 440839,
         "EndingDateTime": "2024-08-13T05:27:31.248901Z",
         "Footprint": "geography'SRID=4326;POLYGON ((12.306189 46.586499, 11.729773 46.66502, 11.194249 46.735345, 11.139994 46.531867, 11.674696 46.466093, 12.250223 46.392142, 12.306189 46.586499))'",
         "GeoFootprint": {
          "coordinates": [
           [
            [
             12.306189,
             46.586499
            ],
            [
             11.729773,
             46.66502
            ],
            [
             11.194249,
             46.735345
            ],
            [
             11.139994,
             46.531867
            ],
            [
             11.674696,
             46.466093
            ],
            [
             12.250223,
             46.392142
            ],
            [
             12.306189,
             46.586499
            ]
           ]
          ],
          "type": "Polygon"
         },
         "Id": "501b00a8-5190-4b49-95ce-03eaeb49611a",
         "Lines": 12064,
         "LinesPerBurst": 1508,
         "Name": "S1A-SLC-20240813T052730-359501-IW1-VV-440839",
         "OperationalMode": "IW",
         "OrbitDirection": "DESCENDING",
         "ParentProductId": "352e9a53-dc83-45c7-bef3-8e82259de9b9",
         "ParentProductName": "S1A_IW_SLC__1SDV_20240813T052705_20240813T052732_055190_06BA07_54EF.SAFE",
         "ParentProductType": "IW_SLC__1S",
         "PlatformSerialIdentifier": "A",
         "PolarisationChannels": "VV",
         "RelativeOrbitNumber": 168,
         "S3Path": "/eodata/Sentinel-1/SAR/IW_SLC__1S/2024/08/13/S1A_IW_SLC__1SDV_20240813T052705_20240813T052732_055190_06BA07_54EF.SAFE/measurement/s1a-iw1-slc-vv-20240813t052707-20240813t052732-055190-06ba07-004.tiff",
         "SamplesPerBurst": 22849,
         "SwathIdentifier": "IW1"
        },
        {
         "@odata.mediaContentType": "application/octet-stream",
         "AbsoluteBurstId": 122301661,
         "AzimuthAnxTime": 2196.8733209897,
         "AzimuthTime": "2024-12-11T05:27:28.649917Z",
         "BeginningDateTime": "2024-12-11T05:27:29.777751Z",
         "BurstId": 359501,
         "ByteOffset": 1109514331,
         "ContentDate": {
          "End": "2024-12-11T05:27:30.655960Z",
          "Start": "2024-12-11T05:27:29.777751Z"
         },
         "ContentType": "application/octet-stream",
         "DatatakeID": 458373,
         "EndingDateTime": "2024-12-11T05:27:30.655960Z",
         "Footprint": "geography'SRID=4326;POLYGON ((12.306189 46.586499, 11.729773 46.66502, 11.194249 46.735345, 11.139994 46.531867, 11.674696 46.466093, 12.250223 46.392142, 12.306189 46.586499))'",
         "GeoFootprint": {
          "coordinates": [
           [
            [
             12.306189,
             46.586499
            ],
            [
             11.729773,
             46.66502
            ],
            [
             11.194249,
             46.735345
            ],
            [
             11.139994,
             46.531867
            ],
            [
             11.674696,
             46.466093
            ],
            [
             12.250223,
             46.392142
            ],
            [
             12.306189,
             46.586499
            ]
           ]
          ],
          "type": "Polygon"
         },
         "Id": "c92bf560-a358-43f6-8dff-09ece41617de",
         "Lines": 12064,
         "LinesPerBurst": 1508,
         "Name": "S1A-SLC-20241211T052729-359501-IW1-VV-458373",
         "OperationalMode": "IW",
         "OrbitDirection": "DESCENDING",
         "ParentProductId": "afc3389e-b4cf-499f-b29f-96b433f502c3",
         "ParentProductName": "S1A_IW_SLC__1SDV_20241211T052704_20241211T052731_056940_06FE85_F992.SAFE",
         "ParentProductType": "IW_SLC__1S",
         "PlatformSerialIdentifier": "A",
         "PolarisationChannels": "VV",
         "RelativeOrbitNumber": 168,
         "S3Path": "/eodata/Sentinel-1/SAR/IW_SLC__1S/2024/12/11/S1A_IW_SLC__1SDV_20241211T052704_20241211T052731_056940_06FE85_F992.SAFE/measurement/s1a-iw1-slc-vv-20241211t052706-20241211t052731-056940-06fe85-004.tiff",
         "SamplesPerBurst": 22990,
         "SwathIdentifier": "IW1"
        },
        {
         "@odata.mediaContentType": "application/octet-stream",
         "AbsoluteBurstId": 121173999,
         "AzimuthAnxTime": 2196.847110546,
         "AzimuthTime": "2024-11-05T05:27:30.733369Z",
         "BeginningDateTime": "2024-11-05T05:27:31.861186Z",
         "BurstId": 359501,
         "ByteOffset": 1109514331,
         "ContentDate": {
          "End": "2024-11-05T05:27:32.739395Z",
          "Start": "2024-11-05T05:27:31.861186Z"
         },
         "ContentType": "application/octet-stream",
         "DatatakeID": 453045,
         "EndingDateTime": "2024-11-05T05:27:32.739395Z",
         "Footprint": "geography'SRID=4326;POLYGON ((12.306189 46.586499, 11.729773 46.66502, 11.194249 46.735345, 11.139994 46.531867, 11.674696 46.466093, 12.250223 46.392142, 12.306189 46.586499))'",
         "GeoFootprint": {
          "coordinates": [
           [
            [
             12.306189,
             46.586499
            ],
            [
             11.729773,
             46.66502
            ],
            [
             11.194249,
             46.735345
            ],
            [
             11.139994,
             46.531867
            ],
            [
             11.674696,
             46.466093
            ],
            [
             12.250223,
             46.392142
            ],
            [
             12.306189,
             46.586499
            ]
           ]
          ],
          "type": "Polygon"
         },
         "Id": "8743c6e0-4acc-4e96-99f9-0fe9d6d16dfe",
         "Lines": 12064,
         "LinesPerBurst": 1508,
         "Name": "S1A-SLC-20241105T052731-359501-IW1-VV-453045",
         "OperationalMode": "IW",
         "OrbitDirection": "DESCENDING",
         "ParentProductId": "46a772dd-e60e-4af1-82be-76bbfc3dab4e",
         "ParentProductName": "S1A_IW_SLC__1SDV_20241105T052706_20241105T052733_056415_06E9B5_9866.SAFE",
         "ParentProductType": "IW_SLC__1S",
         "PlatformSerialIdentifier": "A",
         "PolarisationChannels": "VV",
         "RelativeOrbitNumber": 168,
         "S3Path": "/eodata/Sentinel-1/SAR/IW_SLC__1S/2024/11/05/S1A_IW_SLC__1SDV_20241105T052706_20241105T052733_056415_06E9B5_9866.SAFE/measurement/s1a-iw1-slc-vv-20241105t052708-20241105t052733-056415-06e9b5-004.tiff",
         "SamplesPerBurst": 22990,
         "SwathIdentifier": "IW1"
        },
        {
         "@odata.mediaContentType": "application/octet-stream",
         "AbsoluteBurstId": 120798112,
         "AzimuthAnxTime": 2196.8435409897,
         "AzimuthTime": "2024-10-24T05:27:30.401245Z",
         "BeginningDateTime": "2024-10-24T05:27:31.529063Z",
         "BurstId": 359501,
         "ByteOffset": 1109514331,
         "ContentDate": {
          "End": "2024-10-24T05:27:32.407272Z",
          "Start": "2024-10-24T05:27:31.529063Z"
         },
         "ContentType": "application/octet-stream",
         "DatatakeID": 451266,
         "EndingDateTime": "2024-10-24T05:27:32.407272Z",
         "Footprint": "geography'SRID=4326;POLYGON ((12.306189 46.586499, 11.729773 46.66502, 11.194249 46.735345, 11.139994 46.531867, 11.674696 46.466093, 12.250223 46.392142, 12.306189 46.586499))'",
         "GeoFootprint": {
          "coordinates": [
           [
            [
             12.306189,
             46.586499
            ],
            [
             11.729773,
             46.66502
            ],
            [
             11.194249,
             46.735345
            ],
            [
             11.139994,
             46.531867
            ],
            [
             11.674696,
             46.466093
            ],
            [
             12.250223,
             46.392142
            ],
            [
             12.306189,
             46.586499
            ]
           ]
          ],
          "type": "Polygon"
         },
         "Id": "265da92b-a1a7-4b41-89d5-90b1c5a08057",
         "Lines": 12064,
         "LinesPerBurst": 1508,
         "Name": "S1A-SLC-20241024T052731-359501-IW1-VV-451266",
         "OperationalMode": "IW",
         "OrbitDirection": "DESCENDING",
         "ParentProductId": "d2b7af94-0ff3-4851-b4e4-a170762b69e9",
         "ParentProductName": "S1A_IW_SLC__1SDV_20241024T052706_20241024T052733_056240_06E2C2_06D7.SAFE",
         "ParentProductType": "IW_SLC__1S",
         "PlatformSerialIdentifier": "A",
         "PolarisationChannels": "VV",
         "RelativeOrbitNumber": 168,
         "S3Path": "/eodata/Sentinel-1/SAR/IW_SLC__1S/2024/10/24/S1A_IW_SLC__1SDV_20241024T052706_20241024T052733_056240_06E2C2_06D7.SAFE/measurement/s1a-iw1-slc-vv-20241024t052708-20241024t052733-056240-06e2c2-004.tiff",
         "SamplesPerBurst": 22990,
         "SwathIdentifier": "IW1"
        },
        {
         "@odata.mediaContentType": "application/octet-stream",
         "AbsoluteBurstId": 113546184,
         "AzimuthAnxTime": 753.3762682167,
         "AzimuthTime": "2024-03-06T17:07:34.081328Z",
         "BeginningDateTime": "2024-03-06T17:07:35.115272Z",
         "BurstId": 249433,
         "ByteOffset": 640810107,
         "ContentDate": {
          "End": "2024-03-06T17:07:36.156861Z",
          "Start": "2024-03-06T17:07:35.115272Z"
         },
         "ContentType": "application/octet-stream",
         "DatatakeID": 419312,
         "EndingDateTime": "2024-03-06T17:07:36.156861Z",
         "Footprint": "geography'SRID=4326;POLYGON ((10.804564 46.276581, 11.402422 46.34791, 11.967742 46.412202, 11.920848 46.604472, 11.354552 46.535976, 10.755691 46.460429, 10.804564 46.276581))'",
         "GeoFootprint": {
          "coordinates": [
           [
            [
             10.804564,
             46.276581
            ],
            [
             11.402422,
             46.34791
            ],
            [
             11.967742,
             46.412202
            ],
            [
             11.920848,
             46.604472
            ],
            [
             11.354552,
             46.535976
            ],
            [
             10.755691,
             46.460429
            ],
            [
             10.804564,
             46.276581
            ]
           ]
          ],
          "type": "Polygon"
         },
         "Id": "5173a9ef-b928-423f-b049-7464e57cf7e7",
         "Lines": 6048,
         "LinesPerBurst": 1512,
         "Name": "S1A-SLC-20240306T170735-249433-IW2-VV-419312",
         "OperationalMode": "IW",
         "OrbitDirection": "ASCENDING",
         "ParentProductId": "a8831289-54ef-43be-84b7-f6fcd7e95790",
         "ParentProductName": "S1A_IW_SLC__1SDV_20240306T170721_20240306T170748_052864_0665F0_9D32.SAFE",
         "ParentProductType": "IW_SLC__1S",
         "PlatformSerialIdentifier": "A",
         "PolarisationChannels": "VV",
         "RelativeOrbitNumber": 117,
         "S3Path": "/eodata/Sentinel-1/SAR/IW_SLC__1S/2024/03/06/S1A_IW_SLC__1SDV_20240306T170721_20240306T170748_052864_0665F0_9D32.SAFE/measurement/s1a-iw2-slc-vv-20240306t170723-20240306t170748-052864-0665f0-005.tiff",
         "SamplesPerBurst": 26484,
         "SwathIdentifier": "IW2"
        },
        {
         "@odata.mediaContentType": "application/octet-stream",
         "AbsoluteBurstId": 113170297,
         "AzimuthAnxTime": 753.400542773,
         "AzimuthTime": "2024-02-23T17:07:34.005837Z",
         "BeginningDateTime": "2024-02-23T17:07:35.015113Z",
         "BurstId": 249433,
         "ByteOffset": 640810107,
         "ContentDate": {
          "End": "2024-02-23T17:07:36.056702Z",
          "Start": "2024-02-23T17:07:35.015113Z"
         },
         "ContentType": "application/octet-stream",
         "DatatakeID": 417788,
         "EndingDateTime": "2024-02-23T17:07:36.056702Z",
         "Footprint": "geography'SRID=4326;POLYGON ((10.804564 46.276581, 11.402422 46.34791, 11.967742 46.412202, 11.920848 46.604472, 11.354552 46.535976, 10.755691 46.460429, 10.804564 46.276581))'",
         "GeoFootprint": {
          "coordinates": [
           [
            [
             10.804564,
             46.276581
            ],
            [
             11.402422,
             46.34791
            ],
            [
             11.967742,
             46.412202
            ],
            [
             11.920848,
             46.604472
            ],
            [
             11.354552,
             46.535976
            ],
            [
             10.755691,
             46.460429
            ],
            [
             10.804564,
             46.276581
            ]
           ]
          ],
          "type": "Polygon"
         },
         "Id": "f2bb7f35-4a46-4094-9623-31216cacf50a",
         "Lines": 6048,
         "LinesPerBurst": 1512,
         "Name": "S1A-SLC-20240223T170735-249433-IW2-VV-417788",
         "OperationalMode": "IW",
         "OrbitDirection": "ASCENDING",
         "ParentProductId": "418e6b2f-d15f-405b-8480-92a1ebcbae3a",
         "ParentProductName": "S1A_IW_SLC__1SDV_20240223T170721_20240223T170748_052689_065FFC_3817.SAFE",
         "ParentProductType": "IW_SLC__1S",
         "PlatformSerialIdentifier": "A",
         "PolarisationChannels": "VV",
         "RelativeOrbitNumber": 117,
         "S3Path": "/eodata/Sentinel-1/SAR/IW_SLC__1S/2024/02/23/S1A_IW_SLC__1SDV_20240223T170721_20240223T170748_052689_065FFC_3817.SAFE/measurement/s1a-iw2-slc-vv-20240223t170722-20240223t170748-052689-065ffc-005.tiff",
         "SamplesPerBurst": 26484,
         "SwathIdentifier": "IW2"
        },
        {
         "@odata.mediaContentType": "application/octet-stream",
         "AbsoluteBurstId": 113922071,
         "AzimuthAnxTime": 753.390935773,
         "AzimuthTime": "2024-03-18T17:07:34.463652Z",
         "BeginningDateTime": "2024-03-18T17:07:35.483207Z",
         "BurstId": 249433,
         "ByteOffset": 640810107,
         "ContentDate": {
          "End": "2024-03-18T17:07:36.524796Z",
          "Start": "2024-03-18T17:07:35.483207Z"
         },
         "ContentType": "application/octet-stream",
         "DatatakeID": 420903,
         "EndingDateTime": "2024-03-18T17:07:36.524796Z",
         "Footprint": "geography'SRID=4326;POLYGON ((10.804564 46.276581, 11.402422 46.34791, 11.967742 46.412202, 11.920848 46.604472, 11.354552 46.535976, 10.755691 46.460429, 10.804564 46.276581))'",
         "GeoFootprint": {
          "coordinates": [
           [
            [
             10.804564,
             46.276581
            ],
            [
             11.402422,
             46.34791
            ],
            [
             11.967742,
             46.412202
            ],
            [
             11.920848,
             46.604472
            ],
            [
             11.354552,
             46.535976
            ],
            [
             10.755691,
             46.460429
            ],
            [
             10.804564,
             46.276581
            ]
           ]
          ],
          "type": "Polygon"
         },
         "Id": "84dd36a4-41af-4353-90d7-f9f06b44d462",
         "Lines": 6048,
         "LinesPerBurst": 1512,
         "Name": "S1A-SLC-20240318T170735-249433-IW2-VV-420903",
         "OperationalMode": "IW",
         "OrbitDirection": "ASCENDING",
         "ParentProductId": "96674c1c-66c8-4215-abee-2784cfd12bc4",
         "ParentProductName": "S1A_IW_SLC__1SDV_20240318T170721_20240318T170748_053039_066C27_017D.SAFE",
         "ParentProductType": "IW_SLC__1S",
         "PlatformSerialIdentifier": "A",
         "PolarisationChannels": "VV",
         "RelativeOrbitNumber": 117,
         "S3Path": "/eodata/Sentinel-1/SAR/IW_SLC__1S/2024/03/18/S1A_IW_SLC__1SDV_20240318T170721_20240318T170748_053039_066C27_017D.SAFE/measurement/s1a-iw2-slc-vv-20240318t170723-20240318t170748-053039-066c27-005.tiff",
         "SamplesPerBurst": 26484,
         "SwathIdentifier": "IW2"
        },
        {
         "@odata.mediaContentType": "application/octet-stream",
         "AbsoluteBurstId": 111666747,
         "AzimuthAnxTime": 753.399827773,
         "AzimuthTime": "2024-01-06T17:07:35.472592Z",
         "BeginningDateTime": "2024-01-06T17:07:36.481864Z",
         "BurstId": 249433,
         "ByteOffset": 640810107,
         "ContentDate": {
          "End": "2024-01-06T17:07:37.523453Z",
          "Start": "2024-01-06T17:07:36.481864Z"
         },
         "ContentType": "application/octet-stream",
         "DatatakeID": 411720,
         "EndingDateTime": "2024-01-06T17:07:37.523453Z",
         "Footprint": "geography'SRID=4326;POLYGON ((10.804564 46.276581, 11.402422 46.34791, 11.967742 46.412202, 11.920848 46.604472, 11.354552 46.535976, 10.755691 46.460429, 10.804564 46.276581))'",
         "GeoFootprint": {
          "coordinates": [
           [
            [
             10.804564,
             46.276581
            ],
            [
             11.402422,
             46.34791
            ],
            [
             11.967742,
             46.412202
            ],
            [
             11.920848,
             46.604472
            ],
            [
             11.354552,
             46.535976
            ],
            [
             10.755691,
             46.460429
            ],
            [
             10.804564,
             46.276581
            ]
           ]
          ],
          "type": "Polygon"
         },
         "Id": "a4023017-8f82-4b1a-9f42-c2076b7848b5",
         "Lines": 6048,
         "LinesPerBurst": 1512,
         "Name": "S1A-SLC-20240106T170736-249433-IW2-VV-411720",
         "OperationalMode": "IW",
         "OrbitDirection": "ASCENDING",
         "ParentProductId": "dbbfcf28-c7e6-4248-82ad-96e8a4d5ee06",
         "ParentProductName": "S1A_IW_SLC__1SDV_20240106T170722_20240106T170749_051989_064848_8293.SAFE",
         "ParentProductType": "IW_SLC__1S",
         "PlatformSerialIdentifier": "A",
         "PolarisationChannels": "VV",
         "RelativeOrbitNumber": 117,
         "S3Path": "/eodata/Sentinel-1/SAR/IW_SLC__1S/2024/01/06/S1A_IW_SLC__1SDV_20240106T170722_20240106T170749_051989_064848_8293.SAFE/measurement/s1a-iw2-slc-vv-20240106t170724-20240106t170749-051989-064848-005.tiff",
         "SamplesPerBurst": 26484,
         "SwathIdentifier": "IW2"
        },
        {
         "@odata.mediaContentType": "application/octet-stream",
         "AbsoluteBurstId": 112042634,
         "AzimuthAnxTime": 753.4033773292999,
         "AzimuthTime": "2024-01-18T17:07:34.720496Z",
         "BeginningDateTime": "2024-01-18T17:07:35.727714Z",
         "BurstId": 249433,
         "ByteOffset": 640785915,
         "ContentDate": {
          "End": "2024-01-18T17:07:36.769303Z",
          "Start": "2024-01-18T17:07:35.727714Z"
         },
         "ContentType": "application/octet-stream",
         "DatatakeID": 413240,
         "EndingDateTime": "2024-01-18T17:07:36.769303Z",
         "Footprint": "geography'SRID=4326;POLYGON ((10.804564 46.276581, 11.402422 46.34791, 11.967742 46.412202, 11.920848 46.604472, 11.354552 46.535976, 10.755691 46.460429, 10.804564 46.276581))'",
         "GeoFootprint": {
          "coordinates": [
           [
            [
             10.804564,
             46.276581
            ],
            [
             11.402422,
             46.34791
            ],
            [
             11.967742,
             46.412202
            ],
            [
             11.920848,
             46.604472
            ],
            [
             11.354552,
             46.535976
            ],
            [
             10.755691,
             46.460429
            ],
            [
             10.804564,
             46.276581
            ]
           ]
          ],
          "type": "Polygon"
         },
         "Id": "1d2df4ce-382b-4307-96fe-1eaf29b8a164",
         "Lines": 6048,
         "LinesPerBurst": 1512,
         "Name": "S1A-SLC-20240118T170735-249433-IW2-VV-413240",
         "OperationalMode": "IW",
         "OrbitDirection": "ASCENDING",
         "ParentProductId": "2f469f6e-ffa8-41cb-96ad-d862239a23df",
         "ParentProductName": "S1A_IW_SLC__1SDV_20240118T170721_20240118T170748_052164_064E38_D3B2.SAFE",
         "ParentProductType": "IW_SLC__1S",
         "PlatformSerialIdentifier": "A",
         "PolarisationChannels": "VV",
         "RelativeOrbitNumber": 117,
         "S3Path": "/eodata/Sentinel-1/SAR/IW_SLC__1S/2024/01/18/S1A_IW_SLC__1SDV_20240118T170721_20240118T170748_052164_064E38_D3B2.SAFE/measurement/s1a-iw2-slc-vv-20240118t170723-20240118t170748-052164-064e38-005.tiff",
         "SamplesPerBurst": 26483,
         "SwathIdentifier": "IW2"
        },
        {
         "@odata.mediaContentType": "application/octet-stream",
         "AbsoluteBurstId": 112794409,
         "AzimuthAnxTime": 753.4001552166999,
         "AzimuthTime": "2024-02-11T17:07:34.099622Z",
         "BeginningDateTime": "2024-02-11T17:07:35.110969Z",
         "BurstId": 249433,
         "ByteOffset": 640810107,
         "ContentDate": {
          "End": "2024-02-11T17:07:36.152558Z",
          "Start": "2024-02-11T17:07:35.110969Z"
         },
         "ContentType": "application/octet-stream",
         "DatatakeID": 416265,
         "EndingDateTime": "2024-02-11T17:07:36.152558Z",
         "Footprint": "geography'SRID=4326;POLYGON ((10.804564 46.276581, 11.402422 46.34791, 11.967742 46.412202, 11.920848 46.604472, 11.354552 46.535976, 10.755691 46.460429, 10.804564 46.276581))'",
         "GeoFootprint": {
          "coordinates": [
           [
            [
             10.804564,
             46.276581
            ],
            [
             11.402422,
             46.34791
            ],
            [
             11.967742,
             46.412202
            ],
            [
             11.920848,
             46.604472
            ],
            [
             11.354552,
             46.535976
            ],
            [
             10.755691,
             46.460429
            ],
            [
             10.804564,
             46.276581
            ]
           ]
          ],
          "type": "Polygon"
         },
         "Id": "6e23aee3-5530-4bd0-a4d8-4fac7eaecfa4",
         "Lines": 6048,
         "LinesPerBurst": 1512,
         "Name": "S1A-SLC-20240211T170735-249433-IW2-VV-416265",
         "OperationalMode": "IW",
         "OrbitDirection": "ASCENDING",
         "ParentProductId": "ced40264-ca1d-47aa-963e-4754624aa3b3",
         "ParentProductName": "S1A_IW_SLC__1SDV_20240211T170721_20240211T170748_052514_065A09_E4A5.SAFE",
         "ParentProductType": "IW_SLC__1S",
         "PlatformSerialIdentifier": "A",
         "PolarisationChannels": "VV",
         "RelativeOrbitNumber": 117,
         "S3Path": "/eodata/Sentinel-1/SAR/IW_SLC__1S/2024/02/11/S1A_IW_SLC__1SDV_20240211T170721_20240211T170748_052514_065A09_E4A5.SAFE/measurement/s1a-iw2-slc-vv-20240211t170723-20240211t170748-052514-065a09-005.tiff",
         "SamplesPerBurst": 26484,
         "SwathIdentifier": "IW2"
        },
        {
         "@odata.mediaContentType": "application/octet-stream",
         "AbsoluteBurstId": 112418522,
         "AzimuthAnxTime": 753.403015773,
         "AzimuthTime": "2024-01-30T17:07:34.516012Z",
         "BeginningDateTime": "2024-01-30T17:07:35.523231Z",
         "BurstId": 249433,
         "ByteOffset": 640810107,
         "ContentDate": {
          "End": "2024-01-30T17:07:36.564820Z",
          "Start": "2024-01-30T17:07:35.523231Z"
         },
         "ContentType": "application/octet-stream",
         "DatatakeID": 414757,
         "EndingDateTime": "2024-01-30T17:07:36.564820Z",
         "Footprint": "geography'SRID=4326;POLYGON ((10.804564 46.276581, 11.402422 46.34791, 11.967742 46.412202, 11.920848 46.604472, 11.354552 46.535976, 10.755691 46.460429, 10.804564 46.276581))'",
         "GeoFootprint": {
          "coordinates": [
           [
            [
             10.804564,
             46.276581
            ],
            [
             11.402422,
             46.34791
            ],
            [
             11.967742,
             46.412202
            ],
            [
             11.920848,
             46.604472
            ],
            [
             11.354552,
             46.535976
            ],
            [
             10.755691,
             46.460429
            ],
            [
             10.804564,
             46.276581
            ]
           ]
          ],
          "type": "Polygon"
         },
         "Id": "5cfcb5d2-eb25-4f4f-b472-04e6c146de99",
         "Lines": 6048,
         "LinesPerBurst": 1512,
         "Name": "S1A-SLC-20240130T170735-249433-IW2-VV-414757",
         "OperationalMode": "IW",
         "OrbitDirection": "ASCENDING",
         "ParentProductId": "66173580-3b94-4cae-aa7d-7832cb1d626e",
         "ParentProductName": "S1A_IW_SLC__1SDV_20240130T170721_20240130T170748_052339_065425_776A.SAFE",
         "ParentProductType": "IW_SLC__1S",
         "PlatformSerialIdentifier": "A",
         "PolarisationChannels": "VV",
         "RelativeOrbitNumber": 117,
         "S3Path": "/eodata/Sentinel-1/SAR/IW_SLC__1S/2024/01/30/S1A_IW_SLC__1SDV_20240130T170721_20240130T170748_052339_065425_776A.SAFE/measurement/s1a-iw2-slc-vv-20240130t170723-20240130t170748-052339-065425-005.tiff",
         "SamplesPerBurst": 26484,
         "SwathIdentifier": "IW2"
        },
        {
         "@odata.mediaContentType": "application/octet-stream",
         "AbsoluteBurstId": 114297959,
         "AzimuthAnxTime": 753.387724773,
         "AzimuthTime": "2024-03-30T17:07:34.908411Z",
         "BeginningDateTime": "2024-03-30T17:07:35.925910Z",
         "BurstId": 249433,
         "ByteOffset": 640810107,
         "ContentDate": {
          "End": "2024-03-30T17:07:36.967499Z",
          "Start": "2024-03-30T17:07:35.925910Z"
         },
         "ContentType": "application/octet-stream",
         "DatatakeID": 422605,
         "EndingDateTime": "2024-03-30T17:07:36.967499Z",
         "Footprint": "geography'SRID=4326;POLYGON ((10.804564 46.276581, 11.402422 46.34791, 11.967742 46.412202, 11.920848 46.604472, 11.354552 46.535976, 10.755691 46.460429, 10.804564 46.276581))'",
         "GeoFootprint": {
          "coordinates": [
           [
            [
             10.804564,
             46.276581
            ],
            [
             11.402422,
             46.34791
            ],
            [
             11.967742,
             46.412202
            ],
            [
             11.920848,
             46.604472
            ],
            [
             11.354552,
             46.535976
            ],
            [
             10.755691,
             46.460429
            ],
            [
             10.804564,
             46.276581
            ]
           ]
          ],
          "type": "Polygon"
         },
         "Id": "e46bdc0e-48f6-4a89-a950-0838b14f8a5e",
         "Lines": 6048,
         "LinesPerBurst": 1512,
         "Name": "S1A-SLC-20240330T170735-249433-IW2-VV-422605",
         "OperationalMode": "IW",
         "OrbitDirection": "ASCENDING",
         "ParentProductId": "003abaff-38af-444f-9987-3945a0209807",
         "ParentProductName": "S1A_IW_SLC__1SDV_20240330T170722_20240330T170749_053214_0672CD_0A27.SAFE",
         "ParentProductType": "IW_SLC__1S",
         "PlatformSerialIdentifier": "A",
         "PolarisationChannels": "VV",
         "RelativeOrbitNumber": 117,
         "S3Path": "/eodata/Sentinel-1/SAR/IW_SLC__1S/2024/03/30/S1A_IW_SLC__1SDV_20240330T170722_20240330T170749_053214_0672CD_0A27.SAFE/measurement/s1a-iw2-slc-vv-20240330t170723-20240330t170749-053214-0672cd-005.tiff",
         "SamplesPerBurst": 26484,
         "SwathIdentifier": "IW2"
        },
        {
         "@odata.mediaContentType": "application/octet-stream",
         "AbsoluteBurstId": 115049733,
         "AzimuthAnxTime": 753.3693233293,
         "AzimuthTime": "2024-04-23T17:07:34.981613Z",
         "BeginningDateTime": "2024-04-23T17:07:36.015571Z",
         "BurstId": 249433,
         "ByteOffset": 640810107,
         "ContentDate": {
          "End": "2024-04-23T17:07:37.057160Z",
          "Start": "2024-04-23T17:07:36.015571Z"
         },
         "ContentType": "application/octet-stream",
         "DatatakeID": 426128,
         "EndingDateTime": "2024-04-23T17:07:37.057160Z",
         "Footprint": "geography'SRID=4326;POLYGON ((10.804564 46.276581, 11.402422 46.34791, 11.967742 46.412202, 11.920848 46.604472, 11.354552 46.535976, 10.755691 46.460429, 10.804564 46.276581))'",
         "GeoFootprint": {
          "coordinates": [
           [
            [
             10.804564,
             46.276581
            ],
            [
             11.402422,
             46.34791
            ],
            [
             11.967742,
             46.412202
            ],
            [
             11.920848,
             46.604472
            ],
            [
             11.354552,
             46.535976
            ],
            [
             10.755691,
             46.460429
            ],
            [
             10.804564,
             46.276581
            ]
           ]
          ],
          "type": "Polygon"
         },
         "Id": "bd2dbdf5-0b88-45d8-8e38-6a1bedcbd113",
         "Lines": 6048,
         "LinesPerBurst": 1512,
         "Name": "S1A-SLC-20240423T170736-249433-IW2-VV-426128",
         "OperationalMode": "IW",
         "OrbitDirection": "ASCENDING",
         "ParentProductId": "d7f5c431-93bc-4342-8496-18f4719930db",
         "ParentProductName": "S1A_IW_SLC__1SDV_20240423T170722_20240423T170749_053564_068090_844F.SAFE",
         "ParentProductType": "IW_SLC__1S",
         "PlatformSerialIdentifier": "A",
         "PolarisationChannels": "VV",
         "RelativeOrbitNumber": 117,
         "S3Path": "/eodata/Sentinel-1/SAR/IW_SLC__1S/2024/04/23/S1A_IW_SLC__1SDV_20240423T170722_20240423T170749_053564_068090_844F.SAFE/measurement/s1a-iw2-slc-vv-20240423t170723-20240423t170749-053564-068090-005.tiff",
         "SamplesPerBurst": 26484,
         "SwathIdentifier": "IW2"
        },
        {
         "@odata.mediaContentType": "application/octet-stream",
         "AbsoluteBurstId": 115425621,
         "AzimuthAnxTime": 753.3662172167,
         "AzimuthTime": "2024-05-05T17:07:35.757929Z",
         "BeginningDateTime": "2024-05-05T17:07:36.795982Z",
         "BurstId": 249433,
         "ByteOffset": 640810107,
         "ContentDate": {
          "End": "2024-05-05T17:07:37.837571Z",
          "Start": "2024-05-05T17:07:36.795982Z"
         },
         "ContentType": "application/octet-stream",
         "DatatakeID": 427895,
         "EndingDateTime": "2024-05-05T17:07:37.837571Z",
         "Footprint": "geography'SRID=4326;POLYGON ((10.804564 46.276581, 11.402422 46.34791, 11.967742 46.412202, 11.920848 46.604472, 11.354552 46.535976, 10.755691 46.460429, 10.804564 46.276581))'",
         "GeoFootprint": {
          "coordinates": [
           [
            [
             10.804564,
             46.276581
            ],
            [
             11.402422,
             46.34791
            ],
            [
             11.967742,
             46.412202
            ],
            [
             11.920848,
             46.604472
            ],
            [
             11.354552,
             46.535976
            ],
            [
             10.755691,
             46.460429
            ],
            [
             10.804564,
             46.276581
            ]
           ]
          ],
          "type": "Polygon"
         },
         "Id": "cf730b8e-d3b9-4bc6-8f2e-06cbe2bf2106",
         "Lines": 6048,
         "LinesPerBurst": 1512,
         "Name": "S1A-SLC-20240505T170736-249433-IW2-VV-427895",
         "OperationalMode": "IW",
         "OrbitDirection": "ASCENDING",
         "ParentProductId": "72423ec6-be0d-4aed-9b66-462167ea5058",
         "ParentProductName": "S1A_IW_SLC__1SDV_20240505T170722_20240505T170749_053739_068777_4560.SAFE",
         "ParentProductType": "IW_SLC__1S",
         "PlatformSerialIdentifier": "A",
         "PolarisationChannels": "VV",
         "RelativeOrbitNumber": 117,
         "S3Path": "/eodata/Sentinel-1/SAR/IW_SLC__1S/2024/05/05/S1A_IW_SLC__1SDV_20240505T170722_20240505T170749_053739_068777_4560.SAFE/measurement/s1a-iw2-slc-vv-20240505t170724-20240505t170749-053739-068777-005.tiff",
         "SamplesPerBurst": 26484,
         "SwathIdentifier": "IW2"
        },
        {
         "@odata.mediaContentType": "application/octet-stream",
         "AbsoluteBurstId": 115801508,
         "AzimuthAnxTime": 753.3890542167001,
         "AzimuthTime": "2024-05-17T17:07:35.758297Z",
         "BeginningDateTime": "2024-05-17T17:07:36.775794Z",
         "BurstId": 249433,
         "ByteOffset": 640810107,
         "ContentDate": {
          "End": "2024-05-17T17:07:37.817383Z",
          "Start": "2024-05-17T17:07:36.775794Z"
         },
         "ContentType": "application/octet-stream",
         "DatatakeID": 429467,
         "EndingDateTime": "2024-05-17T17:07:37.817383Z",
         "Footprint": "geography'SRID=4326;POLYGON ((10.804564 46.276581, 11.402422 46.34791, 11.967742 46.412202, 11.920848 46.604472, 11.354552 46.535976, 10.755691 46.460429, 10.804564 46.276581))'",
         "GeoFootprint": {
          "coordinates": [
           [
            [
             10.804564,
             46.276581
            ],
            [
             11.402422,
             46.34791
            ],
            [
             11.967742,
             46.412202
            ],
            [
             11.920848,
             46.604472
            ],
            [
             11.354552,
             46.535976
            ],
            [
             10.755691,
             46.460429
            ],
            [
             10.804564,
             46.276581
            ]
           ]
          ],
          "type": "Polygon"
         },
         "Id": "70c056d9-1e0c-4e09-a432-6319f0efa3c5",
         "Lines": 6048,
         "LinesPerBurst": 1512,
         "Name": "S1A-SLC-20240517T170736-249433-IW2-VV-429467",
         "OperationalMode": "IW",
         "OrbitDirection": "ASCENDING",
         "ParentProductId": "7810e0af-fce2-48f2-b830-660dd46b7ba3",
         "ParentProductName": "S1A_IW_SLC__1SDV_20240517T170722_20240517T170749_053914_068D9B_80EB.SAFE",
         "ParentProductType": "IW_SLC__1S",
         "PlatformSerialIdentifier": "A",
         "PolarisationChannels": "VV",
         "RelativeOrbitNumber": 117,
         "S3Path": "/eodata/Sentinel-1/SAR/IW_SLC__1S/2024/05/17/S1A_IW_SLC__1SDV_20240517T170722_20240517T170749_053914_068D9B_80EB.SAFE/measurement/s1a-iw2-slc-vv-20240517t170724-20240517t170749-053914-068d9b-005.tiff",
         "SamplesPerBurst": 26484,
         "SwathIdentifier": "IW2"
        },
        {
         "@odata.mediaContentType": "application/octet-stream",
         "AbsoluteBurstId": 116177396,
         "AzimuthAnxTime": 753.3847362167,
         "AzimuthTime": "2024-05-29T17:07:35.354083Z",
         "BeginningDateTime": "2024-05-29T17:07:36.373649Z",
         "BurstId": 249433,
         "ByteOffset": 640810107,
         "ContentDate": {
          "End": "2024-05-29T17:07:37.415238Z",
          "Start": "2024-05-29T17:07:36.373649Z"
         },
         "ContentType": "application/octet-stream",
         "DatatakeID": 431024,
         "EndingDateTime": "2024-05-29T17:07:37.415238Z",
         "Footprint": "geography'SRID=4326;POLYGON ((10.804564 46.276581, 11.402422 46.34791, 11.967742 46.412202, 11.920848 46.604472, 11.354552 46.535976, 10.755691 46.460429, 10.804564 46.276581))'",
         "GeoFootprint": {
          "coordinates": [
           [
            [
             10.804564,
             46.276581
            ],
            [
             11.402422,
             46.34791
            ],
            [
             11.967742,
             46.412202
            ],
            [
             11.920848,
             46.604472
            ],
            [
             11.354552,
             46.535976
            ],
            [
             10.755691,
             46.460429
            ],
            [
             10.804564,
             46.276581
            ]
           ]
          ],
          "type": "Polygon"
         },
         "Id": "7619d7bb-1ac5-4c5a-8992-f10628e24a14",
         "Lines": 6048,
         "LinesPerBurst": 1512,
         "Name": "S1A-SLC-20240529T170736-249433-IW2-VV-431024",
         "OperationalMode": "IW",
         "OrbitDirection": "ASCENDING",
         "ParentProductId": "d25f64c2-7367-48ac-b486-27ee7558cb8a",
         "ParentProductName": "S1A_IW_SLC__1SDV_20240529T170722_20240529T170749_054089_0693B0_613D.SAFE",
         "ParentProductType": "IW_SLC__1S",
         "PlatformSerialIdentifier": "A",
         "PolarisationChannels": "VV",
         "RelativeOrbitNumber": 117,
         "S3Path": "/eodata/Sentinel-1/SAR/IW_SLC__1S/2024/05/29/S1A_IW_SLC__1SDV_20240529T170722_20240529T170749_054089_0693B0_613D.SAFE/measurement/s1a-iw2-slc-vv-20240529t170724-20240529t170749-054089-0693b0-005.tiff",
         "SamplesPerBurst": 26484,
         "SwathIdentifier": "IW2"
        },
        {
         "@odata.mediaContentType": "application/octet-stream",
         "AbsoluteBurstId": 116553283,
         "AzimuthAnxTime": 753.3842886604,
         "AzimuthTime": "2024-06-10T17:07:34.759545Z",
         "BeginningDateTime": "2024-06-10T17:07:35.781150Z",
         "BurstId": 249433,
         "ByteOffset": 640810107,
         "ContentDate": {
          "End": "2024-06-10T17:07:36.822739Z",
          "Start": "2024-06-10T17:07:35.781150Z"
         },
         "ContentType": "application/octet-stream",
         "DatatakeID": 432571,
         "EndingDateTime": "2024-06-10T17:07:36.822739Z",
         "Footprint": "geography'SRID=4326;POLYGON ((10.804564 46.276581, 11.402422 46.34791, 11.967742 46.412202, 11.920848 46.604472, 11.354552 46.535976, 10.755691 46.460429, 10.804564 46.276581))'",
         "GeoFootprint": {
          "coordinates": [
           [
            [
             10.804564,
             46.276581
            ],
            [
             11.402422,
             46.34791
            ],
            [
             11.967742,
             46.412202
            ],
            [
             11.920848,
             46.604472
            ],
            [
             11.354552,
             46.535976
            ],
            [
             10.755691,
             46.460429
            ],
            [
             10.804564,
             46.276581
            ]
           ]
          ],
          "type": "Polygon"
         },
         "Id": "ba26c2a6-10bb-413e-8b63-b3e66a7f3294",
         "Lines": 6048,
         "LinesPerBurst": 1512,
         "Name": "S1A-SLC-20240610T170735-249433-IW2-VV-432571",
         "OperationalMode": "IW",
         "OrbitDirection": "ASCENDING",
         "ParentProductId": "709f49b4-08c2-49db-91c8-f1f387b9811c",
         "ParentProductName": "S1A_IW_SLC__1SDV_20240610T170721_20240610T170748_054264_0699BB_8D56.SAFE",
         "ParentProductType": "IW_SLC__1S",
         "PlatformSerialIdentifier": "A",
         "PolarisationChannels": "VV",
         "RelativeOrbitNumber": 117,
         "S3Path": "/eodata/Sentinel-1/SAR/IW_SLC__1S/2024/06/10/S1A_IW_SLC__1SDV_20240610T170721_20240610T170748_054264_0699BB_8D56.SAFE/measurement/s1a-iw2-slc-vv-20240610t170723-20240610t170748-054264-0699bb-005.tiff",
         "SamplesPerBurst": 26484,
         "SwathIdentifier": "IW2"
        },
        {
         "@odata.mediaContentType": "application/octet-stream",
         "AbsoluteBurstId": 114673846,
         "AzimuthAnxTime": 753.387731773,
         "AzimuthTime": "2024-04-11T17:07:33.849590Z",
         "BeginningDateTime": "2024-04-11T17:07:34.867088Z",
         "BurstId": 249433,
         "ByteOffset": 640810107,
         "ContentDate": {
          "End": "2024-04-11T17:07:35.908677Z",
          "Start": "2024-04-11T17:07:34.867088Z"
         },
         "ContentType": "application/octet-stream",
         "DatatakeID": 424366,
         "EndingDateTime": "2024-04-11T17:07:35.908677Z",
         "Footprint": "geography'SRID=4326;POLYGON ((10.804564 46.276581, 11.402422 46.34791, 11.967742 46.412202, 11.920848 46.604472, 11.354552 46.535976, 10.755691 46.460429, 10.804564 46.276581))'",
         "GeoFootprint": {
          "coordinates": [
           [
            [
             10.804564,
             46.276581
            ],
            [
             11.402422,
             46.34791
            ],
            [
             11.967742,
             46.412202
            ],
            [
             11.920848,
             46.604472
            ],
            [
             11.354552,
             46.535976
            ],
            [
             10.755691,
             46.460429
            ],
            [
             10.804564,
             46.276581
            ]
           ]
          ],
          "type": "Polygon"
         },
         "Id": "01cd5555-27f8-401c-8113-1ca2239a234e",
         "Lines": 6048,
         "LinesPerBurst": 1512,
         "Name": "S1A-SLC-20240411T170734-249433-IW2-VV-424366",
         "OperationalMode": "IW",
         "OrbitDirection": "ASCENDING",
         "ParentProductId": "ec2b4c74-5412-46aa-b43a-f87d7290f00c",
         "ParentProductName": "S1A_IW_SLC__1SDV_20240411T170721_20240411T170747_053389_0679AE_5A2F.SAFE",
         "ParentProductType": "IW_SLC__1S",
         "PlatformSerialIdentifier": "A",
         "PolarisationChannels": "VV",
         "RelativeOrbitNumber": 117,
         "S3Path": "/eodata/Sentinel-1/SAR/IW_SLC__1S/2024/04/11/S1A_IW_SLC__1SDV_20240411T170721_20240411T170747_053389_0679AE_5A2F.SAFE/measurement/s1a-iw2-slc-vv-20240411t170722-20240411t170747-053389-0679ae-005.tiff",
         "SamplesPerBurst": 26484,
         "SwathIdentifier": "IW2"
        },
        {
         "@odata.mediaContentType": "application/octet-stream",
         "AbsoluteBurstId": 116929170,
         "AzimuthAnxTime": 753.3835552167001,
         "AzimuthTime": "2024-06-22T17:07:34.356393Z",
         "BeginningDateTime": "2024-06-22T17:07:35.377998Z",
         "BurstId": 249433,
         "ByteOffset": 640810107,
         "ContentDate": {
          "End": "2024-06-22T17:07:36.419587Z",
          "Start": "2024-06-22T17:07:35.377998Z"
         },
         "ContentType": "application/octet-stream",
         "DatatakeID": 434118,
         "EndingDateTime": "2024-06-22T17:07:36.419587Z",
         "Footprint": "geography'SRID=4326;POLYGON ((10.804564 46.276581, 11.402422 46.34791, 11.967742 46.412202, 11.920848 46.604472, 11.354552 46.535976, 10.755691 46.460429, 10.804564 46.276581))'",
         "GeoFootprint": {
          "coordinates": [
           [
            [
             10.804564,
             46.276581
            ],
            [
             11.402422,
             46.34791
            ],
            [
             11.967742,
             46.412202
            ],
            [
             11.920848,
             46.604472
            ],
            [
             11.354552,
             46.535976
            ],
            [
             10.755691,
             46.460429
            ],
            [
             10.804564,
             46.276581
            ]
           ]
          ],
          "type": "Polygon"
         },
         "Id": "2a432728-0ef9-4542-b4d7-2cb656ab1dab",
         "Lines": 6048,
         "LinesPerBurst": 1512,
         "Name": "S1A-SLC-20240622T170735-249433-IW2-VV-434118",
         "OperationalMode": "IW",
         "OrbitDirection": "ASCENDING",
         "ParentProductId": "becfa80b-5a53-4acf-9826-eb2f8ad40488",
         "ParentProductName": "S1A_IW_SLC__1SDV_20240622T170721_20240622T170748_054439_069FC6_BC60.SAFE",
         "ParentProductType": "IW_SLC__1S",
         "PlatformSerialIdentifier": "A",
         "PolarisationChannels": "VV",
         "RelativeOrbitNumber": 117,
         "S3Path": "/eodata/Sentinel-1/SAR/IW_SLC__1S/2024/06/22/S1A_IW_SLC__1SDV_20240622T170721_20240622T170748_054439_069FC6_BC60.SAFE/measurement/s1a-iw2-slc-vv-20240622t170723-20240622t170748-054439-069fc6-005.tiff",
         "SamplesPerBurst": 26484,
         "SwathIdentifier": "IW2"
        },
        {
         "@odata.mediaContentType": "application/octet-stream",
         "AbsoluteBurstId": 117305058,
         "AzimuthAnxTime": 753.382596773,
         "AzimuthTime": "2024-07-04T17:07:33.649146Z",
         "BeginningDateTime": "2024-07-04T17:07:34.676917Z",
         "BurstId": 249433,
         "ByteOffset": 640810107,
         "ContentDate": {
          "End": "2024-07-04T17:07:35.718506Z",
          "Start": "2024-07-04T17:07:34.676917Z"
         },
         "ContentType": "application/octet-stream",
         "DatatakeID": 435681,
         "EndingDateTime": "2024-07-04T17:07:35.718506Z",
         "Footprint": "geography'SRID=4326;POLYGON ((10.804564 46.276581, 11.402422 46.34791, 11.967742 46.412202, 11.920848 46.604472, 11.354552 46.535976, 10.755691 46.460429, 10.804564 46.276581))'",
         "GeoFootprint": {
          "coordinates": [
           [
            [
             10.804564,
             46.276581
            ],
            [
             11.402422,
             46.34791
            ],
            [
             11.967742,
             46.412202
            ],
            [
             11.920848,
             46.604472
            ],
            [
             11.354552,
             46.535976
            ],
            [
             10.755691,
             46.460429
            ],
            [
             10.804564,
             46.276581
            ]
           ]
          ],
          "type": "Polygon"
         },
         "Id": "55fe6b25-3741-46e6-9a5d-028fbfa15cf7",
         "Lines": 6048,
         "LinesPerBurst": 1512,
         "Name": "S1A-SLC-20240704T170734-249433-IW2-VV-435681",
         "OperationalMode": "IW",
         "OrbitDirection": "ASCENDING",
         "ParentProductId": "c642b371-1496-46c1-9f71-15eb5debf61d",
         "ParentProductName": "S1A_IW_SLC__1SDV_20240704T170720_20240704T170747_054614_06A5E1_DA7D.SAFE",
         "ParentProductType": "IW_SLC__1S",
         "PlatformSerialIdentifier": "A",
         "PolarisationChannels": "VV",
         "RelativeOrbitNumber": 117,
         "S3Path": "/eodata/Sentinel-1/SAR/IW_SLC__1S/2024/07/04/S1A_IW_SLC__1SDV_20240704T170720_20240704T170747_054614_06A5E1_DA7D.SAFE/measurement/s1a-iw2-slc-vv-20240704t170722-20240704t170747-054614-06a5e1-005.tiff",
         "SamplesPerBurst": 26484,
         "SwathIdentifier": "IW2"
        },
        {
         "@odata.mediaContentType": "application/octet-stream",
         "AbsoluteBurstId": 118432720,
         "AzimuthAnxTime": 753.3911032167,
         "AzimuthTime": "2024-08-09T17:07:32.852112Z",
         "BeginningDateTime": "2024-08-09T17:07:33.871665Z",
         "BurstId": 249433,
         "ByteOffset": 640810107,
         "ContentDate": {
          "End": "2024-08-09T17:07:34.913254Z",
          "Start": "2024-08-09T17:07:33.871665Z"
         },
         "ContentType": "application/octet-stream",
         "DatatakeID": 440377,
         "EndingDateTime": "2024-08-09T17:07:34.913254Z",
         "Footprint": "geography'SRID=4326;POLYGON ((10.804564 46.276581, 11.402422 46.34791, 11.967742 46.412202, 11.920848 46.604472, 11.354552 46.535976, 10.755691 46.460429, 10.804564 46.276581))'",
         "GeoFootprint": {
          "coordinates": [
           [
            [
             10.804564,
             46.276581
            ],
            [
             11.402422,
             46.34791
            ],
            [
             11.967742,
             46.412202
            ],
            [
             11.920848,
             46.604472
            ],
            [
             11.354552,
             46.535976
            ],
            [
             10.755691,
             46.460429
            ],
            [
             10.804564,
             46.276581
            ]
           ]
          ],
          "type": "Polygon"
         },
         "Id": "46dfa2d8-945c-4c61-a9c3-3277020c9819",
         "Lines": 6048,
         "LinesPerBurst": 1512,
         "Name": "S1A-SLC-20240809T170733-249433-IW2-VV-440377",
         "OperationalMode": "IW",
         "OrbitDirection": "ASCENDING",
         "ParentProductId": "76f91e85-9cd5-450a-b7f2-a56664cf1596",
         "ParentProductName": "S1A_IW_SLC__1SDV_20240809T170720_20240809T170746_055139_06B839_A6A0.SAFE",
         "ParentProductType": "IW_SLC__1S",
         "PlatformSerialIdentifier": "A",
         "PolarisationChannels": "VV",
         "RelativeOrbitNumber": 117,
         "S3Path": "/eodata/Sentinel-1/SAR/IW_SLC__1S/2024/08/09/S1A_IW_SLC__1SDV_20240809T170720_20240809T170746_055139_06B839_A6A0.SAFE/measurement/s1a-iw2-slc-vv-20240809t170721-20240809t170746-055139-06b839-005.tiff",
         "SamplesPerBurst": 26484,
         "SwathIdentifier": "IW2"
        },
        {
         "@odata.mediaContentType": "application/octet-stream",
         "AbsoluteBurstId": 119184495,
         "AzimuthAnxTime": 753.394785773,
         "AzimuthTime": "2024-09-02T17:07:33.379591Z",
         "BeginningDateTime": "2024-09-02T17:07:34.399162Z",
         "BurstId": 249433,
         "ByteOffset": 640810107,
         "ContentDate": {
          "End": "2024-09-02T17:07:35.440751Z",
          "Start": "2024-09-02T17:07:34.399162Z"
         },
         "ContentType": "application/octet-stream",
         "DatatakeID": 443669,
         "EndingDateTime": "2024-09-02T17:07:35.440751Z",
         "Footprint": "geography'SRID=4326;POLYGON ((10.804564 46.276581, 11.402422 46.34791, 11.967742 46.412202, 11.920848 46.604472, 11.354552 46.535976, 10.755691 46.460429, 10.804564 46.276581))'",
         "GeoFootprint": {
          "coordinates": [
           [
            [
             10.804564,
             46.276581
            ],
            [
             11.402422,
             46.34791
            ],
            [
             11.967742,
             46.412202
            ],
            [
             11.920848,
             46.604472
            ],
            [
             11.354552,
             46.535976
            ],
            [
             10.755691,
             46.460429
            ],
            [
             10.804564,
             46.276581
            ]
           ]
          ],
          "type": "Polygon"
         },
         "Id": "d94f0e34-1a72-46ff-a7ca-6189fae5761c",
         "Lines": 6048,
         "LinesPerBurst": 1512,
         "Name": "S1A-SLC-20240902T170734-249433-IW2-VV-443669",
         "OperationalMode": "IW",
         "OrbitDirection": "ASCENDING",
         "ParentProductId": "07c64659-630a-4272-8c8a-9bc2d7480701",
         "ParentProductName": "S1A_IW_SLC__1SDV_20240902T170720_20240902T170747_055489_06C515_EEB7.SAFE",
         "ParentProductType": "IW_SLC__1S",
         "PlatformSerialIdentifier": "A",
         "PolarisationChannels": "VV",
         "RelativeOrbitNumber": 117,
         "S3Path": "/eodata/Sentinel-1/SAR/IW_SLC__1S/2024/09/02/S1A_IW_SLC__1SDV_20240902T170720_20240902T170747_055489_06C515_EEB7.SAFE/measurement/s1a-iw2-slc-vv-20240902t170722-20240902t170747-055489-06c515-005.tiff",
         "SamplesPerBurst": 26484,
         "SwathIdentifier": "IW2"
        },
        {
         "@odata.mediaContentType": "application/octet-stream",
         "AbsoluteBurstId": 119936269,
         "AzimuthAnxTime": 753.3810286603999,
         "AzimuthTime": "2024-09-26T17:07:34.031846Z",
         "BeginningDateTime": "2024-09-26T17:07:35.059638Z",
         "BurstId": 249433,
         "ByteOffset": 640810107,
         "ContentDate": {
          "End": "2024-09-26T17:07:36.101227Z",
          "Start": "2024-09-26T17:07:35.059638Z"
         },
         "ContentType": "application/octet-stream",
         "DatatakeID": 447213,
         "EndingDateTime": "2024-09-26T17:07:36.101227Z",
         "Footprint": "geography'SRID=4326;POLYGON ((10.804564 46.276581, 11.402422 46.34791, 11.967742 46.412202, 11.920848 46.604472, 11.354552 46.535976, 10.755691 46.460429, 10.804564 46.276581))'",
         "GeoFootprint": {
          "coordinates": [
           [
            [
             10.804564,
             46.276581
            ],
            [
             11.402422,
             46.34791
            ],
            [
             11.967742,
             46.412202
            ],
            [
             11.920848,
             46.604472
            ],
            [
             11.354552,
             46.535976
            ],
            [
             10.755691,
             46.460429
            ],
            [
             10.804564,
             46.276581
            ]
           ]
          ],
          "type": "Polygon"
         },
         "Id": "4ee71fef-8577-4f23-9c1d-8dd89b0e6cf1",
         "Lines": 6048,
         "LinesPerBurst": 1512,
         "Name": "S1A-SLC-20240926T170735-249433-IW2-VV-447213",
         "OperationalMode": "IW",
         "OrbitDirection": "ASCENDING",
         "ParentProductId": "d3099ddd-ac44-467c-9c26-3242bb9d5721",
         "ParentProductName": "S1A_IW_SLC__1SDV_20240926T170721_20240926T170748_055839_06D2ED_BD8F.SAFE",
         "ParentProductType": "IW_SLC__1S",
         "PlatformSerialIdentifier": "A",
         "PolarisationChannels": "VV",
         "RelativeOrbitNumber": 117,
         "S3Path": "/eodata/Sentinel-1/SAR/IW_SLC__1S/2024/09/26/S1A_IW_SLC__1SDV_20240926T170721_20240926T170748_055839_06D2ED_BD8F.SAFE/measurement/s1a-iw2-slc-vv-20240926t170723-20240926t170748-055839-06d2ed-005.tiff",
         "SamplesPerBurst": 26484,
         "SwathIdentifier": "IW2"
        },
        {
         "@odata.mediaContentType": "application/octet-stream",
         "AbsoluteBurstId": 117680945,
         "AzimuthAnxTime": 753.3872392167,
         "AzimuthTime": "2024-07-16T17:07:33.196087Z",
         "BeginningDateTime": "2024-07-16T17:07:34.219749Z",
         "BurstId": 249433,
         "ByteOffset": 640810107,
         "ContentDate": {
          "End": "2024-07-16T17:07:35.261338Z",
          "Start": "2024-07-16T17:07:34.219749Z"
         },
         "ContentType": "application/octet-stream",
         "DatatakeID": 437229,
         "EndingDateTime": "2024-07-16T17:07:35.261338Z",
         "Footprint": "geography'SRID=4326;POLYGON ((10.804564 46.276581, 11.402422 46.34791, 11.967742 46.412202, 11.920848 46.604472, 11.354552 46.535976, 10.755691 46.460429, 10.804564 46.276581))'",
         "GeoFootprint": {
          "coordinates": [
           [
            [
             10.804564,
             46.276581
            ],
            [
             11.402422,
             46.34791
            ],
            [
             11.967742,
             46.412202
            ],
            [
             11.920848,
             46.604472
            ],
            [
             11.354552,
             46.535976
            ],
            [
             10.755691,
             46.460429
            ],
            [
             10.804564,
             46.276581
            ]
           ]
          ],
          "type": "Polygon"
         },
         "Id": "43bedf38-56b5-4f7c-9871-9a07193a3a38",
         "Lines": 6048,
         "LinesPerBurst": 1512,
         "Name": "S1A-SLC-20240716T170734-249433-IW2-VV-437229",
         "OperationalMode": "IW",
         "OrbitDirection": "ASCENDING",
         "ParentProductId": "386d1330-3556-47cb-a8b6-0d0267cf23a8",
         "ParentProductName": "S1A_IW_SLC__1SDV_20240716T170720_20240716T170747_054789_06ABED_BBFD.SAFE",
         "ParentProductType": "IW_SLC__1S",
         "PlatformSerialIdentifier": "A",
         "PolarisationChannels": "VV",
         "RelativeOrbitNumber": 117,
         "S3Path": "/eodata/Sentinel-1/SAR/IW_SLC__1S/2024/07/16/S1A_IW_SLC__1SDV_20240716T170720_20240716T170747_054789_06ABED_BBFD.SAFE/measurement/s1a-iw2-slc-vv-20240716t170722-20240716t170747-054789-06abed-005.tiff",
         "SamplesPerBurst": 26484,
         "SwathIdentifier": "IW2"
        },
        {
         "@odata.mediaContentType": "application/octet-stream",
         "AbsoluteBurstId": 119560382,
         "AzimuthAnxTime": 753.3913783293,
         "AzimuthTime": "2024-09-14T17:07:33.977449Z",
         "BeginningDateTime": "2024-09-14T17:07:34.990852Z",
         "BurstId": 249433,
         "ByteOffset": 629211275,
         "ContentDate": {
          "End": "2024-09-14T17:07:36.031063Z",
          "Start": "2024-09-14T17:07:34.990852Z"
         },
         "ContentType": "application/octet-stream",
         "DatatakeID": 445439,
         "EndingDateTime": "2024-09-14T17:07:36.031063Z",
         "Footprint": "geography'SRID=4326;POLYGON ((10.804564 46.276581, 11.402422 46.34791, 11.967742 46.412202, 11.920848 46.604472, 11.354552 46.535976, 10.755691 46.460429, 10.804564 46.276581))'",
         "GeoFootprint": {
          "coordinates": [
           [
            [
             10.804564,
             46.276581
            ],
            [
             11.402422,
             46.34791
            ],
            [
             11.967742,
             46.412202
            ],
            [
             11.920848,
             46.604472
            ],
            [
             11.354552,
             46.535976
            ],
            [
             10.755691,
             46.460429
            ],
            [
             10.804564,
             46.276581
            ]
           ]
          ],
          "type": "Polygon"
         },
         "Id": "c4df4759-8a66-4c82-b888-23ae35bc2e1f",
         "Lines": 6040,
         "LinesPerBurst": 1510,
         "Name": "S1A-SLC-20240914T170734-249433-IW2-VV-445439",
         "OperationalMode": "IW",
         "OrbitDirection": "ASCENDING",
         "ParentProductId": "87e7fe78-78e1-4f24-89f8-b83da7e91f11",
         "ParentProductName": "S1A_IW_SLC__1SDV_20240914T170721_20240914T170748_055664_06CBFF_A704.SAFE",
         "ParentProductType": "IW_SLC__1S",
         "PlatformSerialIdentifier": "A",
         "PolarisationChannels": "VV",
         "RelativeOrbitNumber": 117,
         "S3Path": "/eodata/Sentinel-1/SAR/IW_SLC__1S/2024/09/14/S1A_IW_SLC__1SDV_20240914T170721_20240914T170748_055664_06CBFF_A704.SAFE/measurement/s1a-iw2-slc-vv-20240914t170722-20240914t170748-055664-06cbff-005.tiff",
         "SamplesPerBurst": 26039,
         "SwathIdentifier": "IW2"
        },
        {
         "@odata.mediaContentType": "application/octet-stream",
         "AbsoluteBurstId": 118808607,
         "AzimuthAnxTime": 753.3894472167,
         "AzimuthTime": "2024-08-21T17:07:33.184650Z",
         "BeginningDateTime": "2024-08-21T17:07:34.206260Z",
         "BurstId": 249433,
         "ByteOffset": 640810107,
         "ContentDate": {
          "End": "2024-08-21T17:07:35.247849Z",
          "Start": "2024-08-21T17:07:34.206260Z"
         },
         "ContentType": "application/octet-stream",
         "DatatakeID": 442005,
         "EndingDateTime": "2024-08-21T17:07:35.247849Z",
         "Footprint": "geography'SRID=4326;POLYGON ((10.804564 46.276581, 11.402422 46.34791, 11.967742 46.412202, 11.920848 46.604472, 11.354552 46.535976, 10.755691 46.460429, 10.804564 46.276581))'",
         "GeoFootprint": {
          "coordinates": [
           [
            [
             10.804564,
             46.276581
            ],
            [
             11.402422,
             46.34791
            ],
            [
             11.967742,
             46.412202
            ],
            [
             11.920848,
             46.604472
            ],
            [
             11.354552,
             46.535976
            ],
            [
             10.755691,
             46.460429
            ],
            [
             10.804564,
             46.276581
            ]
           ]
          ],
          "type": "Polygon"
         },
         "Id": "c3846ba1-6257-42a0-ba9a-4740b9bbfb30",
         "Lines": 6048,
         "LinesPerBurst": 1512,
         "Name": "S1A-SLC-20240821T170734-249433-IW2-VV-442005",
         "OperationalMode": "IW",
         "OrbitDirection": "ASCENDING",
         "ParentProductId": "7cdcacc9-388c-4cfa-ad22-1bba0edee787",
         "ParentProductName": "S1A_IW_SLC__1SDV_20240821T170720_20240821T170747_055314_06BE95_CC41.SAFE",
         "ParentProductType": "IW_SLC__1S",
         "PlatformSerialIdentifier": "A",
         "PolarisationChannels": "VV",
         "RelativeOrbitNumber": 117,
         "S3Path": "/eodata/Sentinel-1/SAR/IW_SLC__1S/2024/08/21/S1A_IW_SLC__1SDV_20240821T170720_20240821T170747_055314_06BE95_CC41.SAFE/measurement/s1a-iw2-slc-vv-20240821t170722-20240821t170747-055314-06be95-005.tiff",
         "SamplesPerBurst": 26484,
         "SwathIdentifier": "IW2"
        },
        {
         "@odata.mediaContentType": "application/octet-stream",
         "AbsoluteBurstId": 118056832,
         "AzimuthAnxTime": 753.3875902167,
         "AzimuthTime": "2024-07-28T17:07:32.822469Z",
         "BeginningDateTime": "2024-07-28T17:07:33.844077Z",
         "BurstId": 249433,
         "ByteOffset": 640810107,
         "ContentDate": {
          "End": "2024-07-28T17:07:34.885666Z",
          "Start": "2024-07-28T17:07:33.844077Z"
         },
         "ContentType": "application/octet-stream",
         "DatatakeID": 438794,
         "EndingDateTime": "2024-07-28T17:07:34.885666Z",
         "Footprint": "geography'SRID=4326;POLYGON ((10.804564 46.276581, 11.402422 46.34791, 11.967742 46.412202, 11.920848 46.604472, 11.354552 46.535976, 10.755691 46.460429, 10.804564 46.276581))'",
         "GeoFootprint": {
          "coordinates": [
           [
            [
             10.804564,
             46.276581
            ],
            [
             11.402422,
             46.34791
            ],
            [
             11.967742,
             46.412202
            ],
            [
             11.920848,
             46.604472
            ],
            [
             11.354552,
             46.535976
            ],
            [
             10.755691,
             46.460429
            ],
            [
             10.804564,
             46.276581
            ]
           ]
          ],
          "type": "Polygon"
         },
         "Id": "7beaca36-24d7-4937-a22a-946d1fae2e54",
         "Lines": 6048,
         "LinesPerBurst": 1512,
         "Name": "S1A-SLC-20240728T170733-249433-IW2-VV-438794",
         "OperationalMode": "IW",
         "OrbitDirection": "ASCENDING",
         "ParentProductId": "63d7ba11-6d2b-4210-9086-a27befb88146",
         "ParentProductName": "S1A_IW_SLC__1SDV_20240728T170719_20240728T170746_054964_06B20A_1E10.SAFE",
         "ParentProductType": "IW_SLC__1S",
         "PlatformSerialIdentifier": "A",
         "PolarisationChannels": "VV",
         "RelativeOrbitNumber": 117,
         "S3Path": "/eodata/Sentinel-1/SAR/IW_SLC__1S/2024/07/28/S1A_IW_SLC__1SDV_20240728T170719_20240728T170746_054964_06B20A_1E10.SAFE/measurement/s1a-iw2-slc-vv-20240728t170721-20240728t170746-054964-06b20a-005.tiff",
         "SamplesPerBurst": 26484,
         "SwathIdentifier": "IW2"
        },
        {
         "@odata.mediaContentType": "application/octet-stream",
         "AbsoluteBurstId": 122943368,
         "AzimuthAnxTime": 753.4016982167,
         "AzimuthTime": "2024-12-31T17:07:30.157850Z",
         "BeginningDateTime": "2024-12-31T17:07:31.167136Z",
         "BurstId": 249433,
         "ByteOffset": 640810107,
         "ContentDate": {
          "End": "2024-12-31T17:07:32.208725Z",
          "Start": "2024-12-31T17:07:31.167136Z"
         },
         "ContentType": "application/octet-stream",
         "DatatakeID": 461421,
         "EndingDateTime": "2024-12-31T17:07:32.208725Z",
         "Footprint": "geography'SRID=4326;POLYGON ((10.804564 46.276581, 11.402422 46.34791, 11.967742 46.412202, 11.920848 46.604472, 11.354552 46.535976, 10.755691 46.460429, 10.804564 46.276581))'",
         "GeoFootprint": {
          "coordinates": [
           [
            [
             10.804564,
             46.276581
            ],
            [
             11.402422,
             46.34791
            ],
            [
             11.967742,
             46.412202
            ],
            [
             11.920848,
             46.604472
            ],
            [
             11.354552,
             46.535976
            ],
            [
             10.755691,
             46.460429
            ],
            [
             10.804564,
             46.276581
            ]
           ]
          ],
          "type": "Polygon"
         },
         "Id": "5e840f1f-b833-457e-ae42-de53c3296bf7",
         "Lines": 6048,
         "LinesPerBurst": 1512,
         "Name": "S1A-SLC-20241231T170731-249433-IW2-VV-461421",
         "OperationalMode": "IW",
         "OrbitDirection": "ASCENDING",
         "ParentProductId": "86b4a189-aece-430e-ad37-0b0bae95d770",
         "ParentProductName": "S1A_IW_SLC__1SDV_20241231T170717_20241231T170744_057239_070A6D_31B7.SAFE",
         "ParentProductType": "IW_SLC__1S",
         "PlatformSerialIdentifier": "A",
         "PolarisationChannels": "VV",
         "RelativeOrbitNumber": 117,
         "S3Path": "/eodata/Sentinel-1/SAR/IW_SLC__1S/2024/12/31/S1A_IW_SLC__1SDV_20241231T170717_20241231T170744_057239_070A6D_31B7.SAFE/measurement/s1a-iw2-slc-vv-20241231t170719-20241231t170744-057239-070a6d-005.tiff",
         "SamplesPerBurst": 26484,
         "SwathIdentifier": "IW2"
        },
        {
         "@odata.mediaContentType": "application/octet-stream",
         "AbsoluteBurstId": 120312157,
         "AzimuthAnxTime": 753.3821013293,
         "AzimuthTime": "2024-10-08T17:07:35.005379Z",
         "BeginningDateTime": "2024-10-08T17:07:36.029044Z",
         "BurstId": 249433,
         "ByteOffset": 640810107,
         "ContentDate": {
          "End": "2024-10-08T17:07:37.070633Z",
          "Start": "2024-10-08T17:07:36.029044Z"
         },
         "ContentType": "application/octet-stream",
         "DatatakeID": 448979,
         "EndingDateTime": "2024-10-08T17:07:37.070633Z",
         "Footprint": "geography'SRID=4326;POLYGON ((10.804564 46.276581, 11.402422 46.34791, 11.967742 46.412202, 11.920848 46.604472, 11.354552 46.535976, 10.755691 46.460429, 10.804564 46.276581))'",
         "GeoFootprint": {
          "coordinates": [
           [
            [
             10.804564,
             46.276581
            ],
            [
             11.402422,
             46.34791
            ],
            [
             11.967742,
             46.412202
            ],
            [
             11.920848,
             46.604472
            ],
            [
             11.354552,
             46.535976
            ],
            [
             10.755691,
             46.460429
            ],
            [
             10.804564,
             46.276581
            ]
           ]
          ],
          "type": "Polygon"
         },
         "Id": "a2fd8bab-1514-42e6-bb72-0cd5df151255",
         "Lines": 6048,
         "LinesPerBurst": 1512,
         "Name": "S1A-SLC-20241008T170736-249433-IW2-VV-448979",
         "OperationalMode": "IW",
         "OrbitDirection": "ASCENDING",
         "ParentProductId": "cd70dfb2-7d21-4104-b10c-57d20338ad19",
         "ParentProductName": "S1A_IW_SLC__1SDV_20241008T170722_20241008T170749_056014_06D9D3_B5FB.SAFE",
         "ParentProductType": "IW_SLC__1S",
         "PlatformSerialIdentifier": "A",
         "PolarisationChannels": "VV",
         "RelativeOrbitNumber": 117,
         "S3Path": "/eodata/Sentinel-1/SAR/IW_SLC__1S/2024/10/08/S1A_IW_SLC__1SDV_20241008T170722_20241008T170749_056014_06D9D3_B5FB.SAFE/measurement/s1a-iw2-slc-vv-20241008t170723-20241008t170749-056014-06d9d3-005.tiff",
         "SamplesPerBurst": 26484,
         "SwathIdentifier": "IW2"
        },
        {
         "@odata.mediaContentType": "application/octet-stream",
         "AbsoluteBurstId": 121439819,
         "AzimuthAnxTime": 753.392911773,
         "AzimuthTime": "2024-11-13T17:07:33.994031Z",
         "BeginningDateTime": "2024-11-13T17:07:35.011527Z",
         "BurstId": 249433,
         "ByteOffset": 640810107,
         "ContentDate": {
          "End": "2024-11-13T17:07:36.053116Z",
          "Start": "2024-11-13T17:07:35.011527Z"
         },
         "ContentType": "application/octet-stream",
         "DatatakeID": 454312,
         "EndingDateTime": "2024-11-13T17:07:36.053116Z",
         "Footprint": "geography'SRID=4326;POLYGON ((10.804564 46.276581, 11.402422 46.34791, 11.967742 46.412202, 11.920848 46.604472, 11.354552 46.535976, 10.755691 46.460429, 10.804564 46.276581))'",
         "GeoFootprint": {
          "coordinates": [
           [
            [
             10.804564,
             46.276581
            ],
            [
             11.402422,
             46.34791
            ],
            [
             11.967742,
             46.412202
            ],
            [
             11.920848,
             46.604472
            ],
            [
             11.354552,
             46.535976
            ],
            [
             10.755691,
             46.460429
            ],
            [
             10.804564,
             46.276581
            ]
           ]
          ],
          "type": "Polygon"
         },
         "Id": "4211255e-0830-4e44-a92b-2179eea54dd6",
         "Lines": 6048,
         "LinesPerBurst": 1512,
         "Name": "S1A-SLC-20241113T170735-249433-IW2-VV-454312",
         "OperationalMode": "IW",
         "OrbitDirection": "ASCENDING",
         "ParentProductId": "c4911f81-7201-466c-abe5-8c215af13e19",
         "ParentProductName": "S1A_IW_SLC__1SDV_20241113T170721_20241113T170748_056539_06EEA8_D74F.SAFE",
         "ParentProductType": "IW_SLC__1S",
         "PlatformSerialIdentifier": "A",
         "PolarisationChannels": "VV",
         "RelativeOrbitNumber": 117,
         "S3Path": "/eodata/Sentinel-1/SAR/IW_SLC__1S/2024/11/13/S1A_IW_SLC__1SDV_20241113T170721_20241113T170748_056539_06EEA8_D74F.SAFE/measurement/s1a-iw2-slc-vv-20241113t170722-20241113t170748-056539-06eea8-005.tiff",
         "SamplesPerBurst": 26484,
         "SwathIdentifier": "IW2"
        },
        {
         "@odata.mediaContentType": "application/octet-stream",
         "AbsoluteBurstId": 122191594,
         "AzimuthAnxTime": 753.4068013292999,
         "AzimuthTime": "2024-12-07T17:07:32.267337Z",
         "BeginningDateTime": "2024-12-07T17:07:33.272514Z",
         "BurstId": 249433,
         "ByteOffset": 640810107,
         "ContentDate": {
          "End": "2024-12-07T17:07:34.314103Z",
          "Start": "2024-12-07T17:07:33.272514Z"
         },
         "ContentType": "application/octet-stream",
         "DatatakeID": 457860,
         "EndingDateTime": "2024-12-07T17:07:34.314103Z",
         "Footprint": "geography'SRID=4326;POLYGON ((10.804564 46.276581, 11.402422 46.34791, 11.967742 46.412202, 11.920848 46.604472, 11.354552 46.535976, 10.755691 46.460429, 10.804564 46.276581))'",
         "GeoFootprint": {
          "coordinates": [
           [
            [
             10.804564,
             46.276581
            ],
            [
             11.402422,
             46.34791
            ],
            [
             11.967742,
             46.412202
            ],
            [
             11.920848,
             46.604472
            ],
            [
             11.354552,
             46.535976
            ],
            [
             10.755691,
             46.460429
            ],
            [
             10.804564,
             46.276581
            ]
           ]
          ],
          "type": "Polygon"
         },
         "Id": "da5a35d4-d9a0-495c-b231-5cb34cb0f1c1",
         "Lines": 6048,
         "LinesPerBurst": 1512,
         "Name": "S1A-SLC-20241207T170733-249433-IW2-VV-457860",
         "OperationalMode": "IW",
         "OrbitDirection": "ASCENDING",
         "ParentProductId": "78d0c354-dff1-4749-a147-0177dca0e45a",
         "ParentProductName": "S1A_IW_SLC__1SDV_20241207T170719_20241207T170746_056889_06FC84_9C13.SAFE",
         "ParentProductType": "IW_SLC__1S",
         "PlatformSerialIdentifier": "A",
         "PolarisationChannels": "VV",
         "RelativeOrbitNumber": 117,
         "S3Path": "/eodata/Sentinel-1/SAR/IW_SLC__1S/2024/12/07/S1A_IW_SLC__1SDV_20241207T170719_20241207T170746_056889_06FC84_9C13.SAFE/measurement/s1a-iw2-slc-vv-20241207t170721-20241207t170746-056889-06fc84-005.tiff",
         "SamplesPerBurst": 26484,
         "SwathIdentifier": "IW2"
        },
        {
         "@odata.mediaContentType": "application/octet-stream",
         "AbsoluteBurstId": 121063931,
         "AzimuthAnxTime": 753.395392773,
         "AzimuthTime": "2024-11-01T17:07:34.532199Z",
         "BeginningDateTime": "2024-11-01T17:07:35.545585Z",
         "BurstId": 249433,
         "ByteOffset": 640810107,
         "ContentDate": {
          "End": "2024-11-01T17:07:36.587174Z",
          "Start": "2024-11-01T17:07:35.545585Z"
         },
         "ContentType": "application/octet-stream",
         "DatatakeID": 452529,
         "EndingDateTime": "2024-11-01T17:07:36.587174Z",
         "Footprint": "geography'SRID=4326;POLYGON ((10.804564 46.276581, 11.402422 46.34791, 11.967742 46.412202, 11.920848 46.604472, 11.354552 46.535976, 10.755691 46.460429, 10.804564 46.276581))'",
         "GeoFootprint": {
          "coordinates": [
           [
            [
             10.804564,
             46.276581
            ],
            [
             11.402422,
             46.34791
            ],
            [
             11.967742,
             46.412202
            ],
            [
             11.920848,
             46.604472
            ],
            [
             11.354552,
             46.535976
            ],
            [
             10.755691,
             46.460429
            ],
            [
             10.804564,
             46.276581
            ]
           ]
          ],
          "type": "Polygon"
         },
         "Id": "4b46d3f2-ade1-4c91-b454-ad561fe42a17",
         "Lines": 6048,
         "LinesPerBurst": 1512,
         "Name": "S1A-SLC-20241101T170735-249433-IW2-VV-452529",
         "OperationalMode": "IW",
         "OrbitDirection": "ASCENDING",
         "ParentProductId": "20254802-eaaf-41fd-ba7a-0b1ba953d8e0",
         "ParentProductName": "S1A_IW_SLC__1SDV_20241101T170721_20241101T170748_056364_06E7B1_DB51.SAFE",
         "ParentProductType": "IW_SLC__1S",
         "PlatformSerialIdentifier": "A",
         "PolarisationChannels": "VV",
         "RelativeOrbitNumber": 117,
         "S3Path": "/eodata/Sentinel-1/SAR/IW_SLC__1S/2024/11/01/S1A_IW_SLC__1SDV_20241101T170721_20241101T170748_056364_06E7B1_DB51.SAFE/measurement/s1a-iw2-slc-vv-20241101t170723-20241101t170748-056364-06e7b1-005.tiff",
         "SamplesPerBurst": 26484,
         "SwathIdentifier": "IW2"
        },
        {
         "@odata.mediaContentType": "application/octet-stream",
         "AbsoluteBurstId": 120688044,
         "AzimuthAnxTime": 753.394196773,
         "AzimuthTime": "2024-10-20T17:07:34.695997Z",
         "BeginningDateTime": "2024-10-20T17:07:35.707328Z",
         "BurstId": 249433,
         "ByteOffset": 640810107,
         "ContentDate": {
          "End": "2024-10-20T17:07:36.748917Z",
          "Start": "2024-10-20T17:07:35.707328Z"
         },
         "ContentType": "application/octet-stream",
         "DatatakeID": 450751,
         "EndingDateTime": "2024-10-20T17:07:36.748917Z",
         "Footprint": "geography'SRID=4326;POLYGON ((10.804564 46.276581, 11.402422 46.34791, 11.967742 46.412202, 11.920848 46.604472, 11.354552 46.535976, 10.755691 46.460429, 10.804564 46.276581))'",
         "GeoFootprint": {
          "coordinates": [
           [
            [
             10.804564,
             46.276581
            ],
            [
             11.402422,
             46.34791
            ],
            [
             11.967742,
             46.412202
            ],
            [
             11.920848,
             46.604472
            ],
            [
             11.354552,
             46.535976
            ],
            [
             10.755691,
             46.460429
            ],
            [
             10.804564,
             46.276581
            ]
           ]
          ],
          "type": "Polygon"
         },
         "Id": "e8cdc174-2f43-479e-8837-094a83dedb4d",
         "Lines": 6048,
         "LinesPerBurst": 1512,
         "Name": "S1A-SLC-20241020T170735-249433-IW2-VV-450751",
         "OperationalMode": "IW",
         "OrbitDirection": "ASCENDING",
         "ParentProductId": "7deb4d96-ee58-47f9-ba97-504ad4038b9c",
         "ParentProductName": "S1A_IW_SLC__1SDV_20241020T170721_20241020T170748_056189_06E0BF_58BA.SAFE",
         "ParentProductType": "IW_SLC__1S",
         "PlatformSerialIdentifier": "A",
         "PolarisationChannels": "VV",
         "RelativeOrbitNumber": 117,
         "S3Path": "/eodata/Sentinel-1/SAR/IW_SLC__1S/2024/10/20/S1A_IW_SLC__1SDV_20241020T170721_20241020T170748_056189_06E0BF_58BA.SAFE/measurement/s1a-iw2-slc-vv-20241020t170723-20241020t170748-056189-06e0bf-005.tiff",
         "SamplesPerBurst": 26484,
         "SwathIdentifier": "IW2"
        },
        {
         "@odata.mediaContentType": "application/octet-stream",
         "AbsoluteBurstId": 121815706,
         "AzimuthAnxTime": 753.3967382167,
         "AzimuthTime": "2024-11-25T17:07:33.253713Z",
         "BeginningDateTime": "2024-11-25T17:07:34.267112Z",
         "BurstId": 249433,
         "ByteOffset": 640810107,
         "ContentDate": {
          "End": "2024-11-25T17:07:35.308701Z",
          "Start": "2024-11-25T17:07:34.267112Z"
         },
         "ContentType": "application/octet-stream",
         "DatatakeID": 456102,
         "EndingDateTime": "2024-11-25T17:07:35.308701Z",
         "Footprint": "geography'SRID=4326;POLYGON ((10.804564 46.276581, 11.402422 46.34791, 11.967742 46.412202, 11.920848 46.604472, 11.354552 46.535976, 10.755691 46.460429, 10.804564 46.276581))'",
         "GeoFootprint": {
          "coordinates": [
           [
            [
             10.804564,
             46.276581
            ],
            [
             11.402422,
             46.34791
            ],
            [
             11.967742,
             46.412202
            ],
            [
             11.920848,
             46.604472
            ],
            [
             11.354552,
             46.535976
            ],
            [
             10.755691,
             46.460429
            ],
            [
             10.804564,
             46.276581
            ]
           ]
          ],
          "type": "Polygon"
         },
         "Id": "cb7ad020-1353-4439-ad5a-a5f6934e819a",
         "Lines": 6048,
         "LinesPerBurst": 1512,
         "Name": "S1A-SLC-20241125T170734-249433-IW2-VV-456102",
         "OperationalMode": "IW",
         "OrbitDirection": "ASCENDING",
         "ParentProductId": "05b3e04d-f533-4d63-a273-d694c14715e8",
         "ParentProductName": "S1A_IW_SLC__1SDV_20241125T170720_20241125T170747_056714_06F5A6_8E5C.SAFE",
         "ParentProductType": "IW_SLC__1S",
         "PlatformSerialIdentifier": "A",
         "PolarisationChannels": "VV",
         "RelativeOrbitNumber": 117,
         "S3Path": "/eodata/Sentinel-1/SAR/IW_SLC__1S/2024/11/25/S1A_IW_SLC__1SDV_20241125T170720_20241125T170747_056714_06F5A6_8E5C.SAFE/measurement/s1a-iw2-slc-vv-20241125t170722-20241125t170747-056714-06f5a6-005.tiff",
         "SamplesPerBurst": 26484,
         "SwathIdentifier": "IW2"
        },
        {
         "@odata.mediaContentType": "application/octet-stream",
         "AbsoluteBurstId": 122567481,
         "AzimuthAnxTime": 753.403034773,
         "AzimuthTime": "2024-12-19T17:07:31.027922Z",
         "BeginningDateTime": "2024-12-19T17:07:32.037208Z",
         "BurstId": 249433,
         "ByteOffset": 640810107,
         "ContentDate": {
          "End": "2024-12-19T17:07:33.078797Z",
          "Start": "2024-12-19T17:07:32.037208Z"
         },
         "ContentType": "application/octet-stream",
         "DatatakeID": 459655,
         "EndingDateTime": "2024-12-19T17:07:33.078797Z",
         "Footprint": "geography'SRID=4326;POLYGON ((10.804564 46.276581, 11.402422 46.34791, 11.967742 46.412202, 11.920848 46.604472, 11.354552 46.535976, 10.755691 46.460429, 10.804564 46.276581))'",
         "GeoFootprint": {
          "coordinates": [
           [
            [
             10.804564,
             46.276581
            ],
            [
             11.402422,
             46.34791
            ],
            [
             11.967742,
             46.412202
            ],
            [
             11.920848,
             46.604472
            ],
            [
             11.354552,
             46.535976
            ],
            [
             10.755691,
             46.460429
            ],
            [
             10.804564,
             46.276581
            ]
           ]
          ],
          "type": "Polygon"
         },
         "Id": "4d0d68df-82ce-4106-961e-b287ea89181a",
         "Lines": 6048,
         "LinesPerBurst": 1512,
         "Name": "S1A-SLC-20241219T170732-249433-IW2-VV-459655",
         "OperationalMode": "IW",
         "OrbitDirection": "ASCENDING",
         "ParentProductId": "91b7050b-ebba-4f8b-8517-be5511557c66",
         "ParentProductName": "S1A_IW_SLC__1SDV_20241219T170718_20241219T170745_057064_070387_3CFE.SAFE",
         "ParentProductType": "IW_SLC__1S",
         "PlatformSerialIdentifier": "A",
         "PolarisationChannels": "VV",
         "RelativeOrbitNumber": 117,
         "S3Path": "/eodata/Sentinel-1/SAR/IW_SLC__1S/2024/12/19/S1A_IW_SLC__1SDV_20241219T170718_20241219T170745_057064_070387_3CFE.SAFE/measurement/s1a-iw2-slc-vv-20241219t170719-20241219t170745-057064-070387-005.tiff",
         "SamplesPerBurst": 26484,
         "SwathIdentifier": "IW2"
        },
        {
         "@odata.mediaContentType": "application/octet-stream",
         "AbsoluteBurstId": 113546185,
         "AzimuthAnxTime": 756.1348247713,
         "AzimuthTime": "2024-03-06T17:07:36.839885Z",
         "BeginningDateTime": "2024-03-06T17:07:37.873549Z",
         "BurstId": 249434,
         "ByteOffset": 800985339,
         "ContentDate": {
          "End": "2024-03-06T17:07:38.915138Z",
          "Start": "2024-03-06T17:07:37.873549Z"
         },
         "ContentType": "application/octet-stream",
         "DatatakeID": 419312,
         "EndingDateTime": "2024-03-06T17:07:38.915138Z",
         "Footprint": "geography'SRID=4326;POLYGON ((10.760624 46.441904, 11.360345 46.513254, 11.927424 46.577547, 11.880394 46.76981, 11.312324 46.701311, 10.711586 46.625741, 10.760624 46.441904))'",
         "GeoFootprint": {
          "coordinates": [
           [
            [
             10.760624,
             46.441904
            ],
            [
             11.360345,
             46.513254
            ],
            [
             11.927424,
             46.577547
            ],
            [
             11.880394,
             46.76981
            ],
            [
             11.312324,
             46.701311
            ],
            [
             10.711586,
             46.625741
            ],
            [
             10.760624,
             46.441904
            ]
           ]
          ],
          "type": "Polygon"
         },
         "Id": "4603d848-0aa7-4f90-ae93-b5ea4637c6b9",
         "Lines": 7560,
         "LinesPerBurst": 1512,
         "Name": "S1A-SLC-20240306T170737-249434-IW2-VV-419312",
         "OperationalMode": "IW",
         "OrbitDirection": "ASCENDING",
         "ParentProductId": "a8831289-54ef-43be-84b7-f6fcd7e95790",
         "ParentProductName": "S1A_IW_SLC__1SDV_20240306T170721_20240306T170748_052864_0665F0_9D32.SAFE",
         "ParentProductType": "IW_SLC__1S",
         "PlatformSerialIdentifier": "A",
         "PolarisationChannels": "VV",
         "RelativeOrbitNumber": 117,
         "S3Path": "/eodata/Sentinel-1/SAR/IW_SLC__1S/2024/03/06/S1A_IW_SLC__1SDV_20240306T170721_20240306T170748_052864_0665F0_9D32.SAFE/measurement/s1a-iw2-slc-vv-20240306t170723-20240306t170748-052864-0665f0-005.tiff",
         "SamplesPerBurst": 26484,
         "SwathIdentifier": "IW2"
        },
        {
         "@odata.mediaContentType": "application/octet-stream",
         "AbsoluteBurstId": 113170298,
         "AzimuthAnxTime": 756.1611548838999,
         "AzimuthTime": "2024-02-23T17:07:36.766449Z",
         "BeginningDateTime": "2024-02-23T17:07:37.773390Z",
         "BurstId": 249434,
         "ByteOffset": 800985339,
         "ContentDate": {
          "End": "2024-02-23T17:07:38.814979Z",
          "Start": "2024-02-23T17:07:37.773390Z"
         },
         "ContentType": "application/octet-stream",
         "DatatakeID": 417788,
         "EndingDateTime": "2024-02-23T17:07:38.814979Z",
         "Footprint": "geography'SRID=4326;POLYGON ((10.760624 46.441904, 11.360345 46.513254, 11.927424 46.577547, 11.880394 46.76981, 11.312324 46.701311, 10.711586 46.625741, 10.760624 46.441904))'",
         "GeoFootprint": {
          "coordinates": [
           [
            [
             10.760624,
             46.441904
            ],
            [
             11.360345,
             46.513254
            ],
            [
             11.927424,
             46.577547
            ],
            [
             11.880394,
             46.76981
            ],
            [
             11.312324,
             46.701311
            ],
            [
             10.711586,
             46.625741
            ],
            [
             10.760624,
             46.441904
            ]
           ]
          ],
          "type": "Polygon"
         },
         "Id": "577aef79-763c-4d26-93b5-cae81a314efb",
         "Lines": 7560,
         "LinesPerBurst": 1512,
         "Name": "S1A-SLC-20240223T170737-249434-IW2-VV-417788",
         "OperationalMode": "IW",
         "OrbitDirection": "ASCENDING",
         "ParentProductId": "418e6b2f-d15f-405b-8480-92a1ebcbae3a",
         "ParentProductName": "S1A_IW_SLC__1SDV_20240223T170721_20240223T170748_052689_065FFC_3817.SAFE",
         "ParentProductType": "IW_SLC__1S",
         "PlatformSerialIdentifier": "A",
         "PolarisationChannels": "VV",
         "RelativeOrbitNumber": 117,
         "S3Path": "/eodata/Sentinel-1/SAR/IW_SLC__1S/2024/02/23/S1A_IW_SLC__1SDV_20240223T170721_20240223T170748_052689_065FFC_3817.SAFE/measurement/s1a-iw2-slc-vv-20240223t170722-20240223t170748-052689-065ffc-005.tiff",
         "SamplesPerBurst": 26484,
         "SwathIdentifier": "IW2"
        },
        {
         "@odata.mediaContentType": "application/octet-stream",
         "AbsoluteBurstId": 113922072,
         "AzimuthAnxTime": 756.1515478839001,
         "AzimuthTime": "2024-03-18T17:07:37.224264Z",
         "BeginningDateTime": "2024-03-18T17:07:38.241484Z",
         "BurstId": 249434,
         "ByteOffset": 800985339,
         "ContentDate": {
          "End": "2024-03-18T17:07:39.283073Z",
          "Start": "2024-03-18T17:07:38.241484Z"
         },
         "ContentType": "application/octet-stream",
         "DatatakeID": 420903,
         "EndingDateTime": "2024-03-18T17:07:39.283073Z",
         "Footprint": "geography'SRID=4326;POLYGON ((10.760624 46.441904, 11.360345 46.513254, 11.927424 46.577547, 11.880394 46.76981, 11.312324 46.701311, 10.711586 46.625741, 10.760624 46.441904))'",
         "GeoFootprint": {
          "coordinates": [
           [
            [
             10.760624,
             46.441904
            ],
            [
             11.360345,
             46.513254
            ],
            [
             11.927424,
             46.577547
            ],
            [
             11.880394,
             46.76981
            ],
            [
             11.312324,
             46.701311
            ],
            [
             10.711586,
             46.625741
            ],
            [
             10.760624,
             46.441904
            ]
           ]
          ],
          "type": "Polygon"
         },
         "Id": "0bf10470-d19c-4721-9cd3-eef11f717605",
         "Lines": 7560,
         "LinesPerBurst": 1512,
         "Name": "S1A-SLC-20240318T170738-249434-IW2-VV-420903",
         "OperationalMode": "IW",
         "OrbitDirection": "ASCENDING",
         "ParentProductId": "96674c1c-66c8-4215-abee-2784cfd12bc4",
         "ParentProductName": "S1A_IW_SLC__1SDV_20240318T170721_20240318T170748_053039_066C27_017D.SAFE",
         "ParentProductType": "IW_SLC__1S",
         "PlatformSerialIdentifier": "A",
         "PolarisationChannels": "VV",
         "RelativeOrbitNumber": 117,
         "S3Path": "/eodata/Sentinel-1/SAR/IW_SLC__1S/2024/03/18/S1A_IW_SLC__1SDV_20240318T170721_20240318T170748_053039_066C27_017D.SAFE/measurement/s1a-iw2-slc-vv-20240318t170723-20240318t170748-053039-066c27-005.tiff",
         "SamplesPerBurst": 26484,
         "SwathIdentifier": "IW2"
        },
        {
         "@odata.mediaContentType": "application/octet-stream",
         "AbsoluteBurstId": 111666748,
         "AzimuthAnxTime": 756.1583843276,
         "AzimuthTime": "2024-01-06T17:07:38.231148Z",
         "BeginningDateTime": "2024-01-06T17:07:39.240141Z",
         "BurstId": 249434,
         "ByteOffset": 800985339,
         "ContentDate": {
          "End": "2024-01-06T17:07:40.281730Z",
          "Start": "2024-01-06T17:07:39.240141Z"
         },
         "ContentType": "application/octet-stream",
         "DatatakeID": 411720,
         "EndingDateTime": "2024-01-06T17:07:40.281730Z",
         "Footprint": "geography'SRID=4326;POLYGON ((10.760624 46.441904, 11.360345 46.513254, 11.927424 46.577547, 11.880394 46.76981, 11.312324 46.701311, 10.711586 46.625741, 10.760624 46.441904))'",
         "GeoFootprint": {
          "coordinates": [
           [
            [
             10.760624,
             46.441904
            ],
            [
             11.360345,
             46.513254
            ],
            [
             11.927424,
             46.577547
            ],
            [
             11.880394,
             46.76981
            ],
            [
             11.312324,
             46.701311
            ],
            [
             10.711586,
             46.625741
            ],
            [
             10.760624,
             46.441904
            ]
           ]
          ],
          "type": "Polygon"
         },
         "Id": "ceac16b3-2c99-423b-a4b3-8a1752fc2f56",
         "Lines": 7560,
         "LinesPerBurst": 1512,
         "Name": "S1A-SLC-20240106T170739-249434-IW2-VV-411720",
         "OperationalMode": "IW",
         "OrbitDirection": "ASCENDING",
         "ParentProductId": "dbbfcf28-c7e6-4248-82ad-96e8a4d5ee06",
         "ParentProductName": "S1A_IW_SLC__1SDV_20240106T170722_20240106T170749_051989_064848_8293.SAFE",
         "ParentProductType": "IW_SLC__1S",
         "PlatformSerialIdentifier": "A",
         "PolarisationChannels": "VV",
         "RelativeOrbitNumber": 117,
         "S3Path": "/eodata/Sentinel-1/SAR/IW_SLC__1S/2024/01/06/S1A_IW_SLC__1SDV_20240106T170722_20240106T170749_051989_064848_8293.SAFE/measurement/s1a-iw2-slc-vv-20240106t170724-20240106t170749-051989-064848-005.tiff",
         "SamplesPerBurst": 26484,
         "SwathIdentifier": "IW2"
        },
        {
         "@odata.mediaContentType": "application/octet-stream",
         "AbsoluteBurstId": 112042635,
         "AzimuthAnxTime": 756.1639894401999,
         "AzimuthTime": "2024-01-18T17:07:37.481108Z",
         "BeginningDateTime": "2024-01-18T17:07:38.485991Z",
         "BurstId": 249434,
         "ByteOffset": 800955099,
         "ContentDate": {
          "End": "2024-01-18T17:07:39.527580Z",
          "Start": "2024-01-18T17:07:38.485991Z"
         },
         "ContentType": "application/octet-stream",
         "DatatakeID": 413240,
         "EndingDateTime": "2024-01-18T17:07:39.527580Z",
         "Footprint": "geography'SRID=4326;POLYGON ((10.760624 46.441904, 11.360345 46.513254, 11.927424 46.577547, 11.880394 46.76981, 11.312324 46.701311, 10.711586 46.625741, 10.760624 46.441904))'",
         "GeoFootprint": {
          "coordinates": [
           [
            [
             10.760624,
             46.441904
            ],
            [
             11.360345,
             46.513254
            ],
            [
             11.927424,
             46.577547
            ],
            [
             11.880394,
             46.76981
            ],
            [
             11.312324,
             46.701311
            ],
            [
             10.711586,
             46.625741
            ],
            [
             10.760624,
             46.441904
            ]
           ]
          ],
          "type": "Polygon"
         },
         "Id": "1dfbef15-2da0-4fd3-aa50-9e82cad1bac2",
         "Lines": 7560,
         "LinesPerBurst": 1512,
         "Name": "S1A-SLC-20240118T170738-249434-IW2-VV-413240",
         "OperationalMode": "IW",
         "OrbitDirection": "ASCENDING",
         "ParentProductId": "2f469f6e-ffa8-41cb-96ad-d862239a23df",
         "ParentProductName": "S1A_IW_SLC__1SDV_20240118T170721_20240118T170748_052164_064E38_D3B2.SAFE",
         "ParentProductType": "IW_SLC__1S",
         "PlatformSerialIdentifier": "A",
         "PolarisationChannels": "VV",
         "RelativeOrbitNumber": 117,
         "S3Path": "/eodata/Sentinel-1/SAR/IW_SLC__1S/2024/01/18/S1A_IW_SLC__1SDV_20240118T170721_20240118T170748_052164_064E38_D3B2.SAFE/measurement/s1a-iw2-slc-vv-20240118t170723-20240118t170748-052164-064e38-005.tiff",
         "SamplesPerBurst": 26483,
         "SwathIdentifier": "IW2"
        },
        {
         "@odata.mediaContentType": "application/octet-stream",
         "AbsoluteBurstId": 112794410,
         "AzimuthAnxTime": 756.1587117713,
         "AzimuthTime": "2024-02-11T17:07:36.858179Z",
         "BeginningDateTime": "2024-02-11T17:07:37.869246Z",
         "BurstId": 249434,
         "ByteOffset": 800985339,
         "ContentDate": {
          "End": "2024-02-11T17:07:38.910835Z",
          "Start": "2024-02-11T17:07:37.869246Z"
         },
         "ContentType": "application/octet-stream",
         "DatatakeID": 416265,
         "EndingDateTime": "2024-02-11T17:07:38.910835Z",
         "Footprint": "geography'SRID=4326;POLYGON ((10.760624 46.441904, 11.360345 46.513254, 11.927424 46.577547, 11.880394 46.76981, 11.312324 46.701311, 10.711586 46.625741, 10.760624 46.441904))'",
         "GeoFootprint": {
          "coordinates": [
           [
            [
             10.760624,
             46.441904
            ],
            [
             11.360345,
             46.513254
            ],
            [
             11.927424,
             46.577547
            ],
            [
             11.880394,
             46.76981
            ],
            [
             11.312324,
             46.701311
            ],
            [
             10.711586,
             46.625741
            ],
            [
             10.760624,
             46.441904
            ]
           ]
          ],
          "type": "Polygon"
         },
         "Id": "87bc0c6e-884c-4b6d-9fbd-fb95142f6670",
         "Lines": 7560,
         "LinesPerBurst": 1512,
         "Name": "S1A-SLC-20240211T170737-249434-IW2-VV-416265",
         "OperationalMode": "IW",
         "OrbitDirection": "ASCENDING",
         "ParentProductId": "ced40264-ca1d-47aa-963e-4754624aa3b3",
         "ParentProductName": "S1A_IW_SLC__1SDV_20240211T170721_20240211T170748_052514_065A09_E4A5.SAFE",
         "ParentProductType": "IW_SLC__1S",
         "PlatformSerialIdentifier": "A",
         "PolarisationChannels": "VV",
         "RelativeOrbitNumber": 117,
         "S3Path": "/eodata/Sentinel-1/SAR/IW_SLC__1S/2024/02/11/S1A_IW_SLC__1SDV_20240211T170721_20240211T170748_052514_065A09_E4A5.SAFE/measurement/s1a-iw2-slc-vv-20240211t170723-20240211t170748-052514-065a09-005.tiff",
         "SamplesPerBurst": 26484,
         "SwathIdentifier": "IW2"
        },
        {
         "@odata.mediaContentType": "application/octet-stream",
         "AbsoluteBurstId": 112418523,
         "AzimuthAnxTime": 756.1615723276,
         "AzimuthTime": "2024-01-30T17:07:37.274568Z",
         "BeginningDateTime": "2024-01-30T17:07:38.281508Z",
         "BurstId": 249434,
         "ByteOffset": 800985339,
         "ContentDate": {
          "End": "2024-01-30T17:07:39.323097Z",
          "Start": "2024-01-30T17:07:38.281508Z"
         },
         "ContentType": "application/octet-stream",
         "DatatakeID": 414757,
         "EndingDateTime": "2024-01-30T17:07:39.323097Z",
         "Footprint": "geography'SRID=4326;POLYGON ((10.760624 46.441904, 11.360345 46.513254, 11.927424 46.577547, 11.880394 46.76981, 11.312324 46.701311, 10.711586 46.625741, 10.760624 46.441904))'",
         "GeoFootprint": {
          "coordinates": [
           [
            [
             10.760624,
             46.441904
            ],
            [
             11.360345,
             46.513254
            ],
            [
             11.927424,
             46.577547
            ],
            [
             11.880394,
             46.76981
            ],
            [
             11.312324,
             46.701311
            ],
            [
             10.711586,
             46.625741
            ],
            [
             10.760624,
             46.441904
            ]
           ]
          ],
          "type": "Polygon"
         },
         "Id": "630e3fda-a397-4cb0-bb1e-7d30bc37319e",
         "Lines": 7560,
         "LinesPerBurst": 1512,
         "Name": "S1A-SLC-20240130T170738-249434-IW2-VV-414757",
         "OperationalMode": "IW",
         "OrbitDirection": "ASCENDING",
         "ParentProductId": "66173580-3b94-4cae-aa7d-7832cb1d626e",
         "ParentProductName": "S1A_IW_SLC__1SDV_20240130T170721_20240130T170748_052339_065425_776A.SAFE",
         "ParentProductType": "IW_SLC__1S",
         "PlatformSerialIdentifier": "A",
         "PolarisationChannels": "VV",
         "RelativeOrbitNumber": 117,
         "S3Path": "/eodata/Sentinel-1/SAR/IW_SLC__1S/2024/01/30/S1A_IW_SLC__1SDV_20240130T170721_20240130T170748_052339_065425_776A.SAFE/measurement/s1a-iw2-slc-vv-20240130t170723-20240130t170748-052339-065425-005.tiff",
         "SamplesPerBurst": 26484,
         "SwathIdentifier": "IW2"
        },
        {
         "@odata.mediaContentType": "application/octet-stream",
         "AbsoluteBurstId": 114297960,
         "AzimuthAnxTime": 756.1462813275999,
         "AzimuthTime": "2024-03-30T17:07:37.666967Z",
         "BeginningDateTime": "2024-03-30T17:07:38.684187Z",
         "BurstId": 249434,
         "ByteOffset": 800985339,
         "ContentDate": {
          "End": "2024-03-30T17:07:39.725776Z",
          "Start": "2024-03-30T17:07:38.684187Z"
         },
         "ContentType": "application/octet-stream",
         "DatatakeID": 422605,
         "EndingDateTime": "2024-03-30T17:07:39.725776Z",
         "Footprint": "geography'SRID=4326;POLYGON ((10.760624 46.441904, 11.360345 46.513254, 11.927424 46.577547, 11.880394 46.76981, 11.312324 46.701311, 10.711586 46.625741, 10.760624 46.441904))'",
         "GeoFootprint": {
          "coordinates": [
           [
            [
             10.760624,
             46.441904
            ],
            [
             11.360345,
             46.513254
            ],
            [
             11.927424,
             46.577547
            ],
            [
             11.880394,
             46.76981
            ],
            [
             11.312324,
             46.701311
            ],
            [
             10.711586,
             46.625741
            ],
            [
             10.760624,
             46.441904
            ]
           ]
          ],
          "type": "Polygon"
         },
         "Id": "16763efb-0cb5-48fa-b553-063c478df345",
         "Lines": 7560,
         "LinesPerBurst": 1512,
         "Name": "S1A-SLC-20240330T170738-249434-IW2-VV-422605",
         "OperationalMode": "IW",
         "OrbitDirection": "ASCENDING",
         "ParentProductId": "003abaff-38af-444f-9987-3945a0209807",
         "ParentProductName": "S1A_IW_SLC__1SDV_20240330T170722_20240330T170749_053214_0672CD_0A27.SAFE",
         "ParentProductType": "IW_SLC__1S",
         "PlatformSerialIdentifier": "A",
         "PolarisationChannels": "VV",
         "RelativeOrbitNumber": 117,
         "S3Path": "/eodata/Sentinel-1/SAR/IW_SLC__1S/2024/03/30/S1A_IW_SLC__1SDV_20240330T170722_20240330T170749_053214_0672CD_0A27.SAFE/measurement/s1a-iw2-slc-vv-20240330t170723-20240330t170749-053214-0672cd-005.tiff",
         "SamplesPerBurst": 26484,
         "SwathIdentifier": "IW2"
        },
        {
         "@odata.mediaContentType": "application/octet-stream",
         "AbsoluteBurstId": 115049734,
         "AzimuthAnxTime": 756.1299354401999,
         "AzimuthTime": "2024-04-23T17:07:37.742225Z",
         "BeginningDateTime": "2024-04-23T17:07:38.773848Z",
         "BurstId": 249434,
         "ByteOffset": 800985339,
         "ContentDate": {
          "End": "2024-04-23T17:07:39.815437Z",
          "Start": "2024-04-23T17:07:38.773848Z"
         },
         "ContentType": "application/octet-stream",
         "DatatakeID": 426128,
         "EndingDateTime": "2024-04-23T17:07:39.815437Z",
         "Footprint": "geography'SRID=4326;POLYGON ((10.760624 46.441904, 11.360345 46.513254, 11.927424 46.577547, 11.880394 46.76981, 11.312324 46.701311, 10.711586 46.625741, 10.760624 46.441904))'",
         "GeoFootprint": {
          "coordinates": [
           [
            [
             10.760624,
             46.441904
            ],
            [
             11.360345,
             46.513254
            ],
            [
             11.927424,
             46.577547
            ],
            [
             11.880394,
             46.76981
            ],
            [
             11.312324,
             46.701311
            ],
            [
             10.711586,
             46.625741
            ],
            [
             10.760624,
             46.441904
            ]
           ]
          ],
          "type": "Polygon"
         },
         "Id": "e68e824d-d591-4467-b1b6-088c1ef17571",
         "Lines": 7560,
         "LinesPerBurst": 1512,
         "Name": "S1A-SLC-20240423T170738-249434-IW2-VV-426128",
         "OperationalMode": "IW",
         "OrbitDirection": "ASCENDING",
         "ParentProductId": "d7f5c431-93bc-4342-8496-18f4719930db",
         "ParentProductName": "S1A_IW_SLC__1SDV_20240423T170722_20240423T170749_053564_068090_844F.SAFE",
         "ParentProductType": "IW_SLC__1S",
         "PlatformSerialIdentifier": "A",
         "PolarisationChannels": "VV",
         "RelativeOrbitNumber": 117,
         "S3Path": "/eodata/Sentinel-1/SAR/IW_SLC__1S/2024/04/23/S1A_IW_SLC__1SDV_20240423T170722_20240423T170749_053564_068090_844F.SAFE/measurement/s1a-iw2-slc-vv-20240423t170723-20240423t170749-053564-068090-005.tiff",
         "SamplesPerBurst": 26484,
         "SwathIdentifier": "IW2"
        },
        {
         "@odata.mediaContentType": "application/octet-stream",
         "AbsoluteBurstId": 115425622,
         "AzimuthAnxTime": 756.1268293275999,
         "AzimuthTime": "2024-05-05T17:07:38.518541Z",
         "BeginningDateTime": "2024-05-05T17:07:39.554259Z",
         "BurstId": 249434,
         "ByteOffset": 800985339,
         "ContentDate": {
          "End": "2024-05-05T17:07:40.595848Z",
          "Start": "2024-05-05T17:07:39.554259Z"
         },
         "ContentType": "application/octet-stream",
         "DatatakeID": 427895,
         "EndingDateTime": "2024-05-05T17:07:40.595848Z",
         "Footprint": "geography'SRID=4326;POLYGON ((10.760624 46.441904, 11.360345 46.513254, 11.927424 46.577547, 11.880394 46.76981, 11.312324 46.701311, 10.711586 46.625741, 10.760624 46.441904))'",
         "GeoFootprint": {
          "coordinates": [
           [
            [
             10.760624,
             46.441904
            ],
            [
             11.360345,
             46.513254
            ],
            [
             11.927424,
             46.577547
            ],
            [
             11.880394,
             46.76981
            ],
            [
             11.312324,
             46.701311
            ],
            [
             10.711586,
             46.625741
            ],
            [
             10.760624,
             46.441904
            ]
           ]
          ],
          "type": "Polygon"
         },
         "Id": "455822e3-d426-4ed1-8b0a-26f16cd3f812",
         "Lines": 7560,
         "LinesPerBurst": 1512,
         "Name": "S1A-SLC-20240505T170739-249434-IW2-VV-427895",
         "OperationalMode": "IW",
         "OrbitDirection": "ASCENDING",
         "ParentProductId": "72423ec6-be0d-4aed-9b66-462167ea5058",
         "ParentProductName": "S1A_IW_SLC__1SDV_20240505T170722_20240505T170749_053739_068777_4560.SAFE",
         "ParentProductType": "IW_SLC__1S",
         "PlatformSerialIdentifier": "A",
         "PolarisationChannels": "VV",
         "RelativeOrbitNumber": 117,
         "S3Path": "/eodata/Sentinel-1/SAR/IW_SLC__1S/2024/05/05/S1A_IW_SLC__1SDV_20240505T170722_20240505T170749_053739_068777_4560.SAFE/measurement/s1a-iw2-slc-vv-20240505t170724-20240505t170749-053739-068777-005.tiff",
         "SamplesPerBurst": 26484,
         "SwathIdentifier": "IW2"
        },
        {
         "@odata.mediaContentType": "application/octet-stream",
         "AbsoluteBurstId": 115801509,
         "AzimuthAnxTime": 756.1496663276,
         "AzimuthTime": "2024-05-17T17:07:38.518909Z",
         "BeginningDateTime": "2024-05-17T17:07:39.534071Z",
         "BurstId": 249434,
         "ByteOffset": 800985339,
         "ContentDate": {
          "End": "2024-05-17T17:07:40.575660Z",
          "Start": "2024-05-17T17:07:39.534071Z"
         },
         "ContentType": "application/octet-stream",
         "DatatakeID": 429467,
         "EndingDateTime": "2024-05-17T17:07:40.575660Z",
         "Footprint": "geography'SRID=4326;POLYGON ((10.760624 46.441904, 11.360345 46.513254, 11.927424 46.577547, 11.880394 46.76981, 11.312324 46.701311, 10.711586 46.625741, 10.760624 46.441904))'",
         "GeoFootprint": {
          "coordinates": [
           [
            [
             10.760624,
             46.441904
            ],
            [
             11.360345,
             46.513254
            ],
            [
             11.927424,
             46.577547
            ],
            [
             11.880394,
             46.76981
            ],
            [
             11.312324,
             46.701311
            ],
            [
             10.711586,
             46.625741
            ],
            [
             10.760624,
             46.441904
            ]
           ]
          ],
          "type": "Polygon"
         },
         "Id": "68bf7eac-75a3-447d-8cad-3a3411e20c29",
         "Lines": 7560,
         "LinesPerBurst": 1512,
         "Name": "S1A-SLC-20240517T170739-249434-IW2-VV-429467",
         "OperationalMode": "IW",
         "OrbitDirection": "ASCENDING",
         "ParentProductId": "7810e0af-fce2-48f2-b830-660dd46b7ba3",
         "ParentProductName": "S1A_IW_SLC__1SDV_20240517T170722_20240517T170749_053914_068D9B_80EB.SAFE",
         "ParentProductType": "IW_SLC__1S",
         "PlatformSerialIdentifier": "A",
         "PolarisationChannels": "VV",
         "RelativeOrbitNumber": 117,
         "S3Path": "/eodata/Sentinel-1/SAR/IW_SLC__1S/2024/05/17/S1A_IW_SLC__1SDV_20240517T170722_20240517T170749_053914_068D9B_80EB.SAFE/measurement/s1a-iw2-slc-vv-20240517t170724-20240517t170749-053914-068d9b-005.tiff",
         "SamplesPerBurst": 26484,
         "SwathIdentifier": "IW2"
        },
        {
         "@odata.mediaContentType": "application/octet-stream",
         "AbsoluteBurstId": 116177397,
         "AzimuthAnxTime": 756.1432927713,
         "AzimuthTime": "2024-05-29T17:07:38.112640Z",
         "BeginningDateTime": "2024-05-29T17:07:39.131926Z",
         "BurstId": 249434,
         "ByteOffset": 800985339,
         "ContentDate": {
          "End": "2024-05-29T17:07:40.173515Z",
          "Start": "2024-05-29T17:07:39.131926Z"
         },
         "ContentType": "application/octet-stream",
         "DatatakeID": 431024,
         "EndingDateTime": "2024-05-29T17:07:40.173515Z",
         "Footprint": "geography'SRID=4326;POLYGON ((10.760624 46.441904, 11.360345 46.513254, 11.927424 46.577547, 11.880394 46.76981, 11.312324 46.701311, 10.711586 46.625741, 10.760624 46.441904))'",
         "GeoFootprint": {
          "coordinates": [
           [
            [
             10.760624,
             46.441904
            ],
            [
             11.360345,
             46.513254
            ],
            [
             11.927424,
             46.577547
            ],
            [
             11.880394,
             46.76981
            ],
            [
             11.312324,
             46.701311
            ],
            [
             10.711586,
             46.625741
            ],
            [
             10.760624,
             46.441904
            ]
           ]
          ],
          "type": "Polygon"
         },
         "Id": "f912746b-496a-454a-a157-26455dffb2d9",
         "Lines": 7560,
         "LinesPerBurst": 1512,
         "Name": "S1A-SLC-20240529T170739-249434-IW2-VV-431024",
         "OperationalMode": "IW",
         "OrbitDirection": "ASCENDING",
         "ParentProductId": "d25f64c2-7367-48ac-b486-27ee7558cb8a",
         "ParentProductName": "S1A_IW_SLC__1SDV_20240529T170722_20240529T170749_054089_0693B0_613D.SAFE",
         "ParentProductType": "IW_SLC__1S",
         "PlatformSerialIdentifier": "A",
         "PolarisationChannels": "VV",
         "RelativeOrbitNumber": 117,
         "S3Path": "/eodata/Sentinel-1/SAR/IW_SLC__1S/2024/05/29/S1A_IW_SLC__1SDV_20240529T170722_20240529T170749_054089_0693B0_613D.SAFE/measurement/s1a-iw2-slc-vv-20240529t170724-20240529t170749-054089-0693b0-005.tiff",
         "SamplesPerBurst": 26484,
         "SwathIdentifier": "IW2"
        },
        {
         "@odata.mediaContentType": "application/octet-stream",
         "AbsoluteBurstId": 116553284,
         "AzimuthAnxTime": 756.142845215,
         "AzimuthTime": "2024-06-10T17:07:37.518101Z",
         "BeginningDateTime": "2024-06-10T17:07:38.539427Z",
         "BurstId": 249434,
         "ByteOffset": 800985339,
         "ContentDate": {
          "End": "2024-06-10T17:07:39.581016Z",
          "Start": "2024-06-10T17:07:38.539427Z"
         },
         "ContentType": "application/octet-stream",
         "DatatakeID": 432571,
         "EndingDateTime": "2024-06-10T17:07:39.581016Z",
         "Footprint": "geography'SRID=4326;POLYGON ((10.760624 46.441904, 11.360345 46.513254, 11.927424 46.577547, 11.880394 46.76981, 11.312324 46.701311, 10.711586 46.625741, 10.760624 46.441904))'",
         "GeoFootprint": {
          "coordinates": [
           [
            [
             10.760624,
             46.441904
            ],
            [
             11.360345,
             46.513254
            ],
            [
             11.927424,
             46.577547
            ],
            [
             11.880394,
             46.76981
            ],
            [
             11.312324,
             46.701311
            ],
            [
             10.711586,
             46.625741
            ],
            [
             10.760624,
             46.441904
            ]
           ]
          ],
          "type": "Polygon"
         },
         "Id": "35cbbe71-7048-401e-a870-8e788fd7e615",
         "Lines": 7560,
         "LinesPerBurst": 1512,
         "Name": "S1A-SLC-20240610T170738-249434-IW2-VV-432571",
         "OperationalMode": "IW",
         "OrbitDirection": "ASCENDING",
         "ParentProductId": "709f49b4-08c2-49db-91c8-f1f387b9811c",
         "ParentProductName": "S1A_IW_SLC__1SDV_20240610T170721_20240610T170748_054264_0699BB_8D56.SAFE",
         "ParentProductType": "IW_SLC__1S",
         "PlatformSerialIdentifier": "A",
         "PolarisationChannels": "VV",
         "RelativeOrbitNumber": 117,
         "S3Path": "/eodata/Sentinel-1/SAR/IW_SLC__1S/2024/06/10/S1A_IW_SLC__1SDV_20240610T170721_20240610T170748_054264_0699BB_8D56.SAFE/measurement/s1a-iw2-slc-vv-20240610t170723-20240610t170748-054264-0699bb-005.tiff",
         "SamplesPerBurst": 26484,
         "SwathIdentifier": "IW2"
        },
        {
         "@odata.mediaContentType": "application/octet-stream",
         "AbsoluteBurstId": 114673847,
         "AzimuthAnxTime": 756.1462883276,
         "AzimuthTime": "2024-04-11T17:07:36.608146Z",
         "BeginningDateTime": "2024-04-11T17:07:37.625365Z",
         "BurstId": 249434,
         "ByteOffset": 800985339,
         "ContentDate": {
          "End": "2024-04-11T17:07:38.666954Z",
          "Start": "2024-04-11T17:07:37.625365Z"
         },
         "ContentType": "application/octet-stream",
         "DatatakeID": 424366,
         "EndingDateTime": "2024-04-11T17:07:38.666954Z",
         "Footprint": "geography'SRID=4326;POLYGON ((10.760624 46.441904, 11.360345 46.513254, 11.927424 46.577547, 11.880394 46.76981, 11.312324 46.701311, 10.711586 46.625741, 10.760624 46.441904))'",
         "GeoFootprint": {
          "coordinates": [
           [
            [
             10.760624,
             46.441904
            ],
            [
             11.360345,
             46.513254
            ],
            [
             11.927424,
             46.577547
            ],
            [
             11.880394,
             46.76981
            ],
            [
             11.312324,
             46.701311
            ],
            [
             10.711586,
             46.625741
            ],
            [
             10.760624,
             46.441904
            ]
           ]
          ],
          "type": "Polygon"
         },
         "Id": "8ec96996-f8a2-4fcf-ad8b-65c1dd67fdc4",
         "Lines": 7560,
         "LinesPerBurst": 1512,
         "Name": "S1A-SLC-20240411T170737-249434-IW2-VV-424366",
         "OperationalMode": "IW",
         "OrbitDirection": "ASCENDING",
         "ParentProductId": "ec2b4c74-5412-46aa-b43a-f87d7290f00c",
         "ParentProductName": "S1A_IW_SLC__1SDV_20240411T170721_20240411T170747_053389_0679AE_5A2F.SAFE",
         "ParentProductType": "IW_SLC__1S",
         "PlatformSerialIdentifier": "A",
         "PolarisationChannels": "VV",
         "RelativeOrbitNumber": 117,
         "S3Path": "/eodata/Sentinel-1/SAR/IW_SLC__1S/2024/04/11/S1A_IW_SLC__1SDV_20240411T170721_20240411T170747_053389_0679AE_5A2F.SAFE/measurement/s1a-iw2-slc-vv-20240411t170722-20240411t170747-053389-0679ae-005.tiff",
         "SamplesPerBurst": 26484,
         "SwathIdentifier": "IW2"
        },
        {
         "@odata.mediaContentType": "application/octet-stream",
         "AbsoluteBurstId": 116929171,
         "AzimuthAnxTime": 756.1421117713,
         "AzimuthTime": "2024-06-22T17:07:37.114950Z",
         "BeginningDateTime": "2024-06-22T17:07:38.136275Z",
         "BurstId": 249434,
         "ByteOffset": 800985339,
         "ContentDate": {
          "End": "2024-06-22T17:07:39.177864Z",
          "Start": "2024-06-22T17:07:38.136275Z"
         },
         "ContentType": "application/octet-stream",
         "DatatakeID": 434118,
         "EndingDateTime": "2024-06-22T17:07:39.177864Z",
         "Footprint": "geography'SRID=4326;POLYGON ((10.760624 46.441904, 11.360345 46.513254, 11.927424 46.577547, 11.880394 46.76981, 11.312324 46.701311, 10.711586 46.625741, 10.760624 46.441904))'",
         "GeoFootprint": {
          "coordinates": [
           [
            [
             10.760624,
             46.441904
            ],
            [
             11.360345,
             46.513254
            ],
            [
             11.927424,
             46.577547
            ],
            [
             11.880394,
             46.76981
            ],
            [
             11.312324,
             46.701311
            ],
            [
             10.711586,
             46.625741
            ],
            [
             10.760624,
             46.441904
            ]
           ]
          ],
          "type": "Polygon"
         },
         "Id": "5a89c036-33d5-4f07-9d0c-a648f23bce55",
         "Lines": 7560,
         "LinesPerBurst": 1512,
         "Name": "S1A-SLC-20240622T170738-249434-IW2-VV-434118",
         "OperationalMode": "IW",
         "OrbitDirection": "ASCENDING",
         "ParentProductId": "becfa80b-5a53-4acf-9826-eb2f8ad40488",
         "ParentProductName": "S1A_IW_SLC__1SDV_20240622T170721_20240622T170748_054439_069FC6_BC60.SAFE",
         "ParentProductType": "IW_SLC__1S",
         "PlatformSerialIdentifier": "A",
         "PolarisationChannels": "VV",
         "RelativeOrbitNumber": 117,
         "S3Path": "/eodata/Sentinel-1/SAR/IW_SLC__1S/2024/06/22/S1A_IW_SLC__1SDV_20240622T170721_20240622T170748_054439_069FC6_BC60.SAFE/measurement/s1a-iw2-slc-vv-20240622t170723-20240622t170748-054439-069fc6-005.tiff",
         "SamplesPerBurst": 26484,
         "SwathIdentifier": "IW2"
        },
        {
         "@odata.mediaContentType": "application/octet-stream",
         "AbsoluteBurstId": 117305059,
         "AzimuthAnxTime": 756.1411533276,
         "AzimuthTime": "2024-07-04T17:07:36.407702Z",
         "BeginningDateTime": "2024-07-04T17:07:37.435194Z",
         "BurstId": 249434,
         "ByteOffset": 800985339,
         "ContentDate": {
          "End": "2024-07-04T17:07:38.476783Z",
          "Start": "2024-07-04T17:07:37.435194Z"
         },
         "ContentType": "application/octet-stream",
         "DatatakeID": 435681,
         "EndingDateTime": "2024-07-04T17:07:38.476783Z",
         "Footprint": "geography'SRID=4326;POLYGON ((10.760624 46.441904, 11.360345 46.513254, 11.927424 46.577547, 11.880394 46.76981, 11.312324 46.701311, 10.711586 46.625741, 10.760624 46.441904))'",
         "GeoFootprint": {
          "coordinates": [
           [
            [
             10.760624,
             46.441904
            ],
            [
             11.360345,
             46.513254
            ],
            [
             11.927424,
             46.577547
            ],
            [
             11.880394,
             46.76981
            ],
            [
             11.312324,
             46.701311
            ],
            [
             10.711586,
             46.625741
            ],
            [
             10.760624,
             46.441904
            ]
           ]
          ],
          "type": "Polygon"
         },
         "Id": "2f450d4a-e7ad-494c-8f30-c8aab68853e6",
         "Lines": 7560,
         "LinesPerBurst": 1512,
         "Name": "S1A-SLC-20240704T170737-249434-IW2-VV-435681",
         "OperationalMode": "IW",
         "OrbitDirection": "ASCENDING",
         "ParentProductId": "c642b371-1496-46c1-9f71-15eb5debf61d",
         "ParentProductName": "S1A_IW_SLC__1SDV_20240704T170720_20240704T170747_054614_06A5E1_DA7D.SAFE",
         "ParentProductType": "IW_SLC__1S",
         "PlatformSerialIdentifier": "A",
         "PolarisationChannels": "VV",
         "RelativeOrbitNumber": 117,
         "S3Path": "/eodata/Sentinel-1/SAR/IW_SLC__1S/2024/07/04/S1A_IW_SLC__1SDV_20240704T170720_20240704T170747_054614_06A5E1_DA7D.SAFE/measurement/s1a-iw2-slc-vv-20240704t170722-20240704t170747-054614-06a5e1-005.tiff",
         "SamplesPerBurst": 26484,
         "SwathIdentifier": "IW2"
        },
        {
         "@odata.mediaContentType": "application/octet-stream",
         "AbsoluteBurstId": 118432721,
         "AzimuthAnxTime": 756.1496597713,
         "AzimuthTime": "2024-08-09T17:07:35.610669Z",
         "BeginningDateTime": "2024-08-09T17:07:36.629942Z",
         "BurstId": 249434,
         "ByteOffset": 800985339,
         "ContentDate": {
          "End": "2024-08-09T17:07:37.671531Z",
          "Start": "2024-08-09T17:07:36.629942Z"
         },
         "ContentType": "application/octet-stream",
         "DatatakeID": 440377,
         "EndingDateTime": "2024-08-09T17:07:37.671531Z",
         "Footprint": "geography'SRID=4326;POLYGON ((10.760624 46.441904, 11.360345 46.513254, 11.927424 46.577547, 11.880394 46.76981, 11.312324 46.701311, 10.711586 46.625741, 10.760624 46.441904))'",
         "GeoFootprint": {
          "coordinates": [
           [
            [
             10.760624,
             46.441904
            ],
            [
             11.360345,
             46.513254
            ],
            [
             11.927424,
             46.577547
            ],
            [
             11.880394,
             46.76981
            ],
            [
             11.312324,
             46.701311
            ],
            [
             10.711586,
             46.625741
            ],
            [
             10.760624,
             46.441904
            ]
           ]
          ],
          "type": "Polygon"
         },
         "Id": "5e75ab93-aa85-420f-96c4-a626be0fc175",
         "Lines": 7560,
         "LinesPerBurst": 1512,
         "Name": "S1A-SLC-20240809T170736-249434-IW2-VV-440377",
         "OperationalMode": "IW",
         "OrbitDirection": "ASCENDING",
         "ParentProductId": "76f91e85-9cd5-450a-b7f2-a56664cf1596",
         "ParentProductName": "S1A_IW_SLC__1SDV_20240809T170720_20240809T170746_055139_06B839_A6A0.SAFE",
         "ParentProductType": "IW_SLC__1S",
         "PlatformSerialIdentifier": "A",
         "PolarisationChannels": "VV",
         "RelativeOrbitNumber": 117,
         "S3Path": "/eodata/Sentinel-1/SAR/IW_SLC__1S/2024/08/09/S1A_IW_SLC__1SDV_20240809T170720_20240809T170746_055139_06B839_A6A0.SAFE/measurement/s1a-iw2-slc-vv-20240809t170721-20240809t170746-055139-06b839-005.tiff",
         "SamplesPerBurst": 26484,
         "SwathIdentifier": "IW2"
        },
        {
         "@odata.mediaContentType": "application/octet-stream",
         "AbsoluteBurstId": 119184496,
         "AzimuthAnxTime": 756.1533423276,
         "AzimuthTime": "2024-09-02T17:07:36.138147Z",
         "BeginningDateTime": "2024-09-02T17:07:37.157439Z",
         "BurstId": 249434,
         "ByteOffset": 800985339,
         "ContentDate": {
          "End": "2024-09-02T17:07:38.199028Z",
          "Start": "2024-09-02T17:07:37.157439Z"
         },
         "ContentType": "application/octet-stream",
         "DatatakeID": 443669,
         "EndingDateTime": "2024-09-02T17:07:38.199028Z",
         "Footprint": "geography'SRID=4326;POLYGON ((10.760624 46.441904, 11.360345 46.513254, 11.927424 46.577547, 11.880394 46.76981, 11.312324 46.701311, 10.711586 46.625741, 10.760624 46.441904))'",
         "GeoFootprint": {
          "coordinates": [
           [
            [
             10.760624,
             46.441904
            ],
            [
             11.360345,
             46.513254
            ],
            [
             11.927424,
             46.577547
            ],
            [
             11.880394,
             46.76981
            ],
            [
             11.312324,
             46.701311
            ],
            [
             10.711586,
             46.625741
            ],
            [
             10.760624,
             46.441904
            ]
           ]
          ],
          "type": "Polygon"
         },
         "Id": "690e9a8c-54db-4748-9fae-a95b65d6ae56",
         "Lines": 7560,
         "LinesPerBurst": 1512,
         "Name": "S1A-SLC-20240902T170737-249434-IW2-VV-443669",
         "OperationalMode": "IW",
         "OrbitDirection": "ASCENDING",
         "ParentProductId": "07c64659-630a-4272-8c8a-9bc2d7480701",
         "ParentProductName": "S1A_IW_SLC__1SDV_20240902T170720_20240902T170747_055489_06C515_EEB7.SAFE",
         "ParentProductType": "IW_SLC__1S",
         "PlatformSerialIdentifier": "A",
         "PolarisationChannels": "VV",
         "RelativeOrbitNumber": 117,
         "S3Path": "/eodata/Sentinel-1/SAR/IW_SLC__1S/2024/09/02/S1A_IW_SLC__1SDV_20240902T170720_20240902T170747_055489_06C515_EEB7.SAFE/measurement/s1a-iw2-slc-vv-20240902t170722-20240902t170747-055489-06c515-005.tiff",
         "SamplesPerBurst": 26484,
         "SwathIdentifier": "IW2"
        },
        {
         "@odata.mediaContentType": "application/octet-stream",
         "AbsoluteBurstId": 119936270,
         "AzimuthAnxTime": 756.139585215,
         "AzimuthTime": "2024-09-26T17:07:36.790402Z",
         "BeginningDateTime": "2024-09-26T17:07:37.817915Z",
         "BurstId": 249434,
         "ByteOffset": 800985339,
         "ContentDate": {
          "End": "2024-09-26T17:07:38.859504Z",
          "Start": "2024-09-26T17:07:37.817915Z"
         },
         "ContentType": "application/octet-stream",
         "DatatakeID": 447213,
         "EndingDateTime": "2024-09-26T17:07:38.859504Z",
         "Footprint": "geography'SRID=4326;POLYGON ((10.760624 46.441904, 11.360345 46.513254, 11.927424 46.577547, 11.880394 46.76981, 11.312324 46.701311, 10.711586 46.625741, 10.760624 46.441904))'",
         "GeoFootprint": {
          "coordinates": [
           [
            [
             10.760624,
             46.441904
            ],
            [
             11.360345,
             46.513254
            ],
            [
             11.927424,
             46.577547
            ],
            [
             11.880394,
             46.76981
            ],
            [
             11.312324,
             46.701311
            ],
            [
             10.711586,
             46.625741
            ],
            [
             10.760624,
             46.441904
            ]
           ]
          ],
          "type": "Polygon"
         },
         "Id": "d28ee8a9-4e4b-4273-9405-26548d2150b9",
         "Lines": 7560,
         "LinesPerBurst": 1512,
         "Name": "S1A-SLC-20240926T170737-249434-IW2-VV-447213",
         "OperationalMode": "IW",
         "OrbitDirection": "ASCENDING",
         "ParentProductId": "d3099ddd-ac44-467c-9c26-3242bb9d5721",
         "ParentProductName": "S1A_IW_SLC__1SDV_20240926T170721_20240926T170748_055839_06D2ED_BD8F.SAFE",
         "ParentProductType": "IW_SLC__1S",
         "PlatformSerialIdentifier": "A",
         "PolarisationChannels": "VV",
         "RelativeOrbitNumber": 117,
         "S3Path": "/eodata/Sentinel-1/SAR/IW_SLC__1S/2024/09/26/S1A_IW_SLC__1SDV_20240926T170721_20240926T170748_055839_06D2ED_BD8F.SAFE/measurement/s1a-iw2-slc-vv-20240926t170723-20240926t170748-055839-06d2ed-005.tiff",
         "SamplesPerBurst": 26484,
         "SwathIdentifier": "IW2"
        },
        {
         "@odata.mediaContentType": "application/octet-stream",
         "AbsoluteBurstId": 117680946,
         "AzimuthAnxTime": 756.1478513275999,
         "AzimuthTime": "2024-07-16T17:07:35.956699Z",
         "BeginningDateTime": "2024-07-16T17:07:36.978026Z",
         "BurstId": 249434,
         "ByteOffset": 800985339,
         "ContentDate": {
          "End": "2024-07-16T17:07:38.019615Z",
          "Start": "2024-07-16T17:07:36.978026Z"
         },
         "ContentType": "application/octet-stream",
         "DatatakeID": 437229,
         "EndingDateTime": "2024-07-16T17:07:38.019615Z",
         "Footprint": "geography'SRID=4326;POLYGON ((10.760624 46.441904, 11.360345 46.513254, 11.927424 46.577547, 11.880394 46.76981, 11.312324 46.701311, 10.711586 46.625741, 10.760624 46.441904))'",
         "GeoFootprint": {
          "coordinates": [
           [
            [
             10.760624,
             46.441904
            ],
            [
             11.360345,
             46.513254
            ],
            [
             11.927424,
             46.577547
            ],
            [
             11.880394,
             46.76981
            ],
            [
             11.312324,
             46.701311
            ],
            [
             10.711586,
             46.625741
            ],
            [
             10.760624,
             46.441904
            ]
           ]
          ],
          "type": "Polygon"
         },
         "Id": "795a1037-2a38-4552-a55d-889ea7d1589d",
         "Lines": 7560,
         "LinesPerBurst": 1512,
         "Name": "S1A-SLC-20240716T170736-249434-IW2-VV-437229",
         "OperationalMode": "IW",
         "OrbitDirection": "ASCENDING",
         "ParentProductId": "386d1330-3556-47cb-a8b6-0d0267cf23a8",
         "ParentProductName": "S1A_IW_SLC__1SDV_20240716T170720_20240716T170747_054789_06ABED_BBFD.SAFE",
         "ParentProductType": "IW_SLC__1S",
         "PlatformSerialIdentifier": "A",
         "PolarisationChannels": "VV",
         "RelativeOrbitNumber": 117,
         "S3Path": "/eodata/Sentinel-1/SAR/IW_SLC__1S/2024/07/16/S1A_IW_SLC__1SDV_20240716T170720_20240716T170747_054789_06ABED_BBFD.SAFE/measurement/s1a-iw2-slc-vv-20240716t170722-20240716t170747-054789-06abed-005.tiff",
         "SamplesPerBurst": 26484,
         "SwathIdentifier": "IW2"
        },
        {
         "@odata.mediaContentType": "application/octet-stream",
         "AbsoluteBurstId": 119560383,
         "AzimuthAnxTime": 756.1499348839,
         "AzimuthTime": "2024-09-14T17:07:36.736006Z",
         "BeginningDateTime": "2024-09-14T17:07:37.749129Z",
         "BurstId": 249434,
         "ByteOffset": 786486835,
         "ContentDate": {
          "End": "2024-09-14T17:07:38.789340Z",
          "Start": "2024-09-14T17:07:37.749129Z"
         },
         "ContentType": "application/octet-stream",
         "DatatakeID": 445439,
         "EndingDateTime": "2024-09-14T17:07:38.789340Z",
         "Footprint": "geography'SRID=4326;POLYGON ((10.760624 46.441904, 11.360345 46.513254, 11.927424 46.577547, 11.880394 46.76981, 11.312324 46.701311, 10.711586 46.625741, 10.760624 46.441904))'",
         "GeoFootprint": {
          "coordinates": [
           [
            [
             10.760624,
             46.441904
            ],
            [
             11.360345,
             46.513254
            ],
            [
             11.927424,
             46.577547
            ],
            [
             11.880394,
             46.76981
            ],
            [
             11.312324,
             46.701311
            ],
            [
             10.711586,
             46.625741
            ],
            [
             10.760624,
             46.441904
            ]
           ]
          ],
          "type": "Polygon"
         },
         "Id": "030cb6d7-e6cb-48a2-8683-ce56b5abf5a6",
         "Lines": 7550,
         "LinesPerBurst": 1510,
         "Name": "S1A-SLC-20240914T170737-249434-IW2-VV-445439",
         "OperationalMode": "IW",
         "OrbitDirection": "ASCENDING",
         "ParentProductId": "87e7fe78-78e1-4f24-89f8-b83da7e91f11",
         "ParentProductName": "S1A_IW_SLC__1SDV_20240914T170721_20240914T170748_055664_06CBFF_A704.SAFE",
         "ParentProductType": "IW_SLC__1S",
         "PlatformSerialIdentifier": "A",
         "PolarisationChannels": "VV",
         "RelativeOrbitNumber": 117,
         "S3Path": "/eodata/Sentinel-1/SAR/IW_SLC__1S/2024/09/14/S1A_IW_SLC__1SDV_20240914T170721_20240914T170748_055664_06CBFF_A704.SAFE/measurement/s1a-iw2-slc-vv-20240914t170722-20240914t170748-055664-06cbff-005.tiff",
         "SamplesPerBurst": 26039,
         "SwathIdentifier": "IW2"
        },
        {
         "@odata.mediaContentType": "application/octet-stream",
         "AbsoluteBurstId": 118808608,
         "AzimuthAnxTime": 756.1480037713,
         "AzimuthTime": "2024-08-21T17:07:35.943207Z",
         "BeginningDateTime": "2024-08-21T17:07:36.964537Z",
         "BurstId": 249434,
         "ByteOffset": 800985339,
         "ContentDate": {
          "End": "2024-08-21T17:07:38.006126Z",
          "Start": "2024-08-21T17:07:36.964537Z"
         },
         "ContentType": "application/octet-stream",
         "DatatakeID": 442005,
         "EndingDateTime": "2024-08-21T17:07:38.006126Z",
         "Footprint": "geography'SRID=4326;POLYGON ((10.760624 46.441904, 11.360345 46.513254, 11.927424 46.577547, 11.880394 46.76981, 11.312324 46.701311, 10.711586 46.625741, 10.760624 46.441904))'",
         "GeoFootprint": {
          "coordinates": [
           [
            [
             10.760624,
             46.441904
            ],
            [
             11.360345,
             46.513254
            ],
            [
             11.927424,
             46.577547
            ],
            [
             11.880394,
             46.76981
            ],
            [
             11.312324,
             46.701311
            ],
            [
             10.711586,
             46.625741
            ],
            [
             10.760624,
             46.441904
            ]
           ]
          ],
          "type": "Polygon"
         },
         "Id": "1d428368-c28b-4621-82b9-e0a8d5ed7974",
         "Lines": 7560,
         "LinesPerBurst": 1512,
         "Name": "S1A-SLC-20240821T170736-249434-IW2-VV-442005",
         "OperationalMode": "IW",
         "OrbitDirection": "ASCENDING",
         "ParentProductId": "7cdcacc9-388c-4cfa-ad22-1bba0edee787",
         "ParentProductName": "S1A_IW_SLC__1SDV_20240821T170720_20240821T170747_055314_06BE95_CC41.SAFE",
         "ParentProductType": "IW_SLC__1S",
         "PlatformSerialIdentifier": "A",
         "PolarisationChannels": "VV",
         "RelativeOrbitNumber": 117,
         "S3Path": "/eodata/Sentinel-1/SAR/IW_SLC__1S/2024/08/21/S1A_IW_SLC__1SDV_20240821T170720_20240821T170747_055314_06BE95_CC41.SAFE/measurement/s1a-iw2-slc-vv-20240821t170722-20240821t170747-055314-06be95-005.tiff",
         "SamplesPerBurst": 26484,
         "SwathIdentifier": "IW2"
        },
        {
         "@odata.mediaContentType": "application/octet-stream",
         "AbsoluteBurstId": 118056833,
         "AzimuthAnxTime": 756.1461467713,
         "AzimuthTime": "2024-07-28T17:07:35.581026Z",
         "BeginningDateTime": "2024-07-28T17:07:36.602354Z",
         "BurstId": 249434,
         "ByteOffset": 800985339,
         "ContentDate": {
          "End": "2024-07-28T17:07:37.643943Z",
          "Start": "2024-07-28T17:07:36.602354Z"
         },
         "ContentType": "application/octet-stream",
         "DatatakeID": 438794,
         "EndingDateTime": "2024-07-28T17:07:37.643943Z",
         "Footprint": "geography'SRID=4326;POLYGON ((10.760624 46.441904, 11.360345 46.513254, 11.927424 46.577547, 11.880394 46.76981, 11.312324 46.701311, 10.711586 46.625741, 10.760624 46.441904))'",
         "GeoFootprint": {
          "coordinates": [
           [
            [
             10.760624,
             46.441904
            ],
            [
             11.360345,
             46.513254
            ],
            [
             11.927424,
             46.577547
            ],
            [
             11.880394,
             46.76981
            ],
            [
             11.312324,
             46.701311
            ],
            [
             10.711586,
             46.625741
            ],
            [
             10.760624,
             46.441904
            ]
           ]
          ],
          "type": "Polygon"
         },
         "Id": "c721a324-eaef-42c9-a5f9-7829ee5facc3",
         "Lines": 7560,
         "LinesPerBurst": 1512,
         "Name": "S1A-SLC-20240728T170736-249434-IW2-VV-438794",
         "OperationalMode": "IW",
         "OrbitDirection": "ASCENDING",
         "ParentProductId": "63d7ba11-6d2b-4210-9086-a27befb88146",
         "ParentProductName": "S1A_IW_SLC__1SDV_20240728T170719_20240728T170746_054964_06B20A_1E10.SAFE",
         "ParentProductType": "IW_SLC__1S",
         "PlatformSerialIdentifier": "A",
         "PolarisationChannels": "VV",
         "RelativeOrbitNumber": 117,
         "S3Path": "/eodata/Sentinel-1/SAR/IW_SLC__1S/2024/07/28/S1A_IW_SLC__1SDV_20240728T170719_20240728T170746_054964_06B20A_1E10.SAFE/measurement/s1a-iw2-slc-vv-20240728t170721-20240728t170746-054964-06b20a-005.tiff",
         "SamplesPerBurst": 26484,
         "SwathIdentifier": "IW2"
        },
        {
         "@odata.mediaContentType": "application/octet-stream",
         "AbsoluteBurstId": 122943369,
         "AzimuthAnxTime": 756.1602547713,
         "AzimuthTime": "2024-12-31T17:07:32.916407Z",
         "BeginningDateTime": "2024-12-31T17:07:33.925413Z",
         "BurstId": 249434,
         "ByteOffset": 800985339,
         "ContentDate": {
          "End": "2024-12-31T17:07:34.967002Z",
          "Start": "2024-12-31T17:07:33.925413Z"
         },
         "ContentType": "application/octet-stream",
         "DatatakeID": 461421,
         "EndingDateTime": "2024-12-31T17:07:34.967002Z",
         "Footprint": "geography'SRID=4326;POLYGON ((10.760624 46.441904, 11.360345 46.513254, 11.927424 46.577547, 11.880394 46.76981, 11.312324 46.701311, 10.711586 46.625741, 10.760624 46.441904))'",
         "GeoFootprint": {
          "coordinates": [
           [
            [
             10.760624,
             46.441904
            ],
            [
             11.360345,
             46.513254
            ],
            [
             11.927424,
             46.577547
            ],
            [
             11.880394,
             46.76981
            ],
            [
             11.312324,
             46.701311
            ],
            [
             10.711586,
             46.625741
            ],
            [
             10.760624,
             46.441904
            ]
           ]
          ],
          "type": "Polygon"
         },
         "Id": "150278ad-345d-483c-a141-197dbe98aca6",
         "Lines": 7560,
         "LinesPerBurst": 1512,
         "Name": "S1A-SLC-20241231T170733-249434-IW2-VV-461421",
         "OperationalMode": "IW",
         "OrbitDirection": "ASCENDING",
         "ParentProductId": "86b4a189-aece-430e-ad37-0b0bae95d770",
         "ParentProductName": "S1A_IW_SLC__1SDV_20241231T170717_20241231T170744_057239_070A6D_31B7.SAFE",
         "ParentProductType": "IW_SLC__1S",
         "PlatformSerialIdentifier": "A",
         "PolarisationChannels": "VV",
         "RelativeOrbitNumber": 117,
         "S3Path": "/eodata/Sentinel-1/SAR/IW_SLC__1S/2024/12/31/S1A_IW_SLC__1SDV_20241231T170717_20241231T170744_057239_070A6D_31B7.SAFE/measurement/s1a-iw2-slc-vv-20241231t170719-20241231t170744-057239-070a6d-005.tiff",
         "SamplesPerBurst": 26484,
         "SwathIdentifier": "IW2"
        },
        {
         "@odata.mediaContentType": "application/octet-stream",
         "AbsoluteBurstId": 120312158,
         "AzimuthAnxTime": 756.1386023276,
         "AzimuthTime": "2024-10-08T17:07:37.761880Z",
         "BeginningDateTime": "2024-10-08T17:07:38.787321Z",
         "BurstId": 249434,
         "ByteOffset": 800985339,
         "ContentDate": {
          "End": "2024-10-08T17:07:39.828910Z",
          "Start": "2024-10-08T17:07:38.787321Z"
         },
         "ContentType": "application/octet-stream",
         "DatatakeID": 448979,
         "EndingDateTime": "2024-10-08T17:07:39.828910Z",
         "Footprint": "geography'SRID=4326;POLYGON ((10.760624 46.441904, 11.360345 46.513254, 11.927424 46.577547, 11.880394 46.76981, 11.312324 46.701311, 10.711586 46.625741, 10.760624 46.441904))'",
         "GeoFootprint": {
          "coordinates": [
           [
            [
             10.760624,
             46.441904
            ],
            [
             11.360345,
             46.513254
            ],
            [
             11.927424,
             46.577547
            ],
            [
             11.880394,
             46.76981
            ],
            [
             11.312324,
             46.701311
            ],
            [
             10.711586,
             46.625741
            ],
            [
             10.760624,
             46.441904
            ]
           ]
          ],
          "type": "Polygon"
         },
         "Id": "884f5088-dbf4-4355-8293-a241d01e45a3",
         "Lines": 7560,
         "LinesPerBurst": 1512,
         "Name": "S1A-SLC-20241008T170738-249434-IW2-VV-448979",
         "OperationalMode": "IW",
         "OrbitDirection": "ASCENDING",
         "ParentProductId": "cd70dfb2-7d21-4104-b10c-57d20338ad19",
         "ParentProductName": "S1A_IW_SLC__1SDV_20241008T170722_20241008T170749_056014_06D9D3_B5FB.SAFE",
         "ParentProductType": "IW_SLC__1S",
         "PlatformSerialIdentifier": "A",
         "PolarisationChannels": "VV",
         "RelativeOrbitNumber": 117,
         "S3Path": "/eodata/Sentinel-1/SAR/IW_SLC__1S/2024/10/08/S1A_IW_SLC__1SDV_20241008T170722_20241008T170749_056014_06D9D3_B5FB.SAFE/measurement/s1a-iw2-slc-vv-20241008t170723-20241008t170749-056014-06d9d3-005.tiff",
         "SamplesPerBurst": 26484,
         "SwathIdentifier": "IW2"
        },
        {
         "@odata.mediaContentType": "application/octet-stream",
         "AbsoluteBurstId": 121439820,
         "AzimuthAnxTime": 756.1514683276,
         "AzimuthTime": "2024-11-13T17:07:36.752587Z",
         "BeginningDateTime": "2024-11-13T17:07:37.769804Z",
         "BurstId": 249434,
         "ByteOffset": 800985339,
         "ContentDate": {
          "End": "2024-11-13T17:07:38.811393Z",
          "Start": "2024-11-13T17:07:37.769804Z"
         },
         "ContentType": "application/octet-stream",
         "DatatakeID": 454312,
         "EndingDateTime": "2024-11-13T17:07:38.811393Z",
         "Footprint": "geography'SRID=4326;POLYGON ((10.760624 46.441904, 11.360345 46.513254, 11.927424 46.577547, 11.880394 46.76981, 11.312324 46.701311, 10.711586 46.625741, 10.760624 46.441904))'",
         "GeoFootprint": {
          "coordinates": [
           [
            [
             10.760624,
             46.441904
            ],
            [
             11.360345,
             46.513254
            ],
            [
             11.927424,
             46.577547
            ],
            [
             11.880394,
             46.76981
            ],
            [
             11.312324,
             46.701311
            ],
            [
             10.711586,
             46.625741
            ],
            [
             10.760624,
             46.441904
            ]
           ]
          ],
          "type": "Polygon"
         },
         "Id": "4d58ba9e-effa-4306-93ee-f5c581c9e829",
         "Lines": 7560,
         "LinesPerBurst": 1512,
         "Name": "S1A-SLC-20241113T170737-249434-IW2-VV-454312",
         "OperationalMode": "IW",
         "OrbitDirection": "ASCENDING",
         "ParentProductId": "c4911f81-7201-466c-abe5-8c215af13e19",
         "ParentProductName": "S1A_IW_SLC__1SDV_20241113T170721_20241113T170748_056539_06EEA8_D74F.SAFE",
         "ParentProductType": "IW_SLC__1S",
         "PlatformSerialIdentifier": "A",
         "PolarisationChannels": "VV",
         "RelativeOrbitNumber": 117,
         "S3Path": "/eodata/Sentinel-1/SAR/IW_SLC__1S/2024/11/13/S1A_IW_SLC__1SDV_20241113T170721_20241113T170748_056539_06EEA8_D74F.SAFE/measurement/s1a-iw2-slc-vv-20241113t170722-20241113t170748-056539-06eea8-005.tiff",
         "SamplesPerBurst": 26484,
         "SwathIdentifier": "IW2"
        },
        {
         "@odata.mediaContentType": "application/octet-stream",
         "AbsoluteBurstId": 122191595,
         "AzimuthAnxTime": 756.1653578838999,
         "AzimuthTime": "2024-12-07T17:07:35.025894Z",
         "BeginningDateTime": "2024-12-07T17:07:36.030791Z",
         "BurstId": 249434,
         "ByteOffset": 800985339,
         "ContentDate": {
          "End": "2024-12-07T17:07:37.072380Z",
          "Start": "2024-12-07T17:07:36.030791Z"
         },
         "ContentType": "application/octet-stream",
         "DatatakeID": 457860,
         "EndingDateTime": "2024-12-07T17:07:37.072380Z",
         "Footprint": "geography'SRID=4326;POLYGON ((10.760624 46.441904, 11.360345 46.513254, 11.927424 46.577547, 11.880394 46.76981, 11.312324 46.701311, 10.711586 46.625741, 10.760624 46.441904))'",
         "GeoFootprint": {
          "coordinates": [
           [
            [
             10.760624,
             46.441904
            ],
            [
             11.360345,
             46.513254
            ],
            [
             11.927424,
             46.577547
            ],
            [
             11.880394,
             46.76981
            ],
            [
             11.312324,
             46.701311
            ],
            [
             10.711586,
             46.625741
            ],
            [
             10.760624,
             46.441904
            ]
           ]
          ],
          "type": "Polygon"
         },
         "Id": "4807f324-f271-4615-b56e-a660c66ae8d6",
         "Lines": 7560,
         "LinesPerBurst": 1512,
         "Name": "S1A-SLC-20241207T170736-249434-IW2-VV-457860",
         "OperationalMode": "IW",
         "OrbitDirection": "ASCENDING",
         "ParentProductId": "78d0c354-dff1-4749-a147-0177dca0e45a",
         "ParentProductName": "S1A_IW_SLC__1SDV_20241207T170719_20241207T170746_056889_06FC84_9C13.SAFE",
         "ParentProductType": "IW_SLC__1S",
         "PlatformSerialIdentifier": "A",
         "PolarisationChannels": "VV",
         "RelativeOrbitNumber": 117,
         "S3Path": "/eodata/Sentinel-1/SAR/IW_SLC__1S/2024/12/07/S1A_IW_SLC__1SDV_20241207T170719_20241207T170746_056889_06FC84_9C13.SAFE/measurement/s1a-iw2-slc-vv-20241207t170721-20241207t170746-056889-06fc84-005.tiff",
         "SamplesPerBurst": 26484,
         "SwathIdentifier": "IW2"
        },
        {
         "@odata.mediaContentType": "application/octet-stream",
         "AbsoluteBurstId": 121063932,
         "AzimuthAnxTime": 756.1539493276,
         "AzimuthTime": "2024-11-01T17:07:37.290755Z",
         "BeginningDateTime": "2024-11-01T17:07:38.303862Z",
         "BurstId": 249434,
         "ByteOffset": 800985339,
         "ContentDate": {
          "End": "2024-11-01T17:07:39.345451Z",
          "Start": "2024-11-01T17:07:38.303862Z"
         },
         "ContentType": "application/octet-stream",
         "DatatakeID": 452529,
         "EndingDateTime": "2024-11-01T17:07:39.345451Z",
         "Footprint": "geography'SRID=4326;POLYGON ((10.760624 46.441904, 11.360345 46.513254, 11.927424 46.577547, 11.880394 46.76981, 11.312324 46.701311, 10.711586 46.625741, 10.760624 46.441904))'",
         "GeoFootprint": {
          "coordinates": [
           [
            [
             10.760624,
             46.441904
            ],
            [
             11.360345,
             46.513254
            ],
            [
             11.927424,
             46.577547
            ],
            [
             11.880394,
             46.76981
            ],
            [
             11.312324,
             46.701311
            ],
            [
             10.711586,
             46.625741
            ],
            [
             10.760624,
             46.441904
            ]
           ]
          ],
          "type": "Polygon"
         },
         "Id": "2d7b3eb2-e35f-400c-a513-8ce52fbb7c45",
         "Lines": 7560,
         "LinesPerBurst": 1512,
         "Name": "S1A-SLC-20241101T170738-249434-IW2-VV-452529",
         "OperationalMode": "IW",
         "OrbitDirection": "ASCENDING",
         "ParentProductId": "20254802-eaaf-41fd-ba7a-0b1ba953d8e0",
         "ParentProductName": "S1A_IW_SLC__1SDV_20241101T170721_20241101T170748_056364_06E7B1_DB51.SAFE",
         "ParentProductType": "IW_SLC__1S",
         "PlatformSerialIdentifier": "A",
         "PolarisationChannels": "VV",
         "RelativeOrbitNumber": 117,
         "S3Path": "/eodata/Sentinel-1/SAR/IW_SLC__1S/2024/11/01/S1A_IW_SLC__1SDV_20241101T170721_20241101T170748_056364_06E7B1_DB51.SAFE/measurement/s1a-iw2-slc-vv-20241101t170723-20241101t170748-056364-06e7b1-005.tiff",
         "SamplesPerBurst": 26484,
         "SwathIdentifier": "IW2"
        },
        {
         "@odata.mediaContentType": "application/octet-stream",
         "AbsoluteBurstId": 120688045,
         "AzimuthAnxTime": 756.1506977713,
         "AzimuthTime": "2024-10-20T17:07:37.452498Z",
         "BeginningDateTime": "2024-10-20T17:07:38.465605Z",
         "BurstId": 249434,
         "ByteOffset": 800985339,
         "ContentDate": {
          "End": "2024-10-20T17:07:39.507194Z",
          "Start": "2024-10-20T17:07:38.465605Z"
         },
         "ContentType": "application/octet-stream",
         "DatatakeID": 450751,
         "EndingDateTime": "2024-10-20T17:07:39.507194Z",
         "Footprint": "geography'SRID=4326;POLYGON ((10.760624 46.441904, 11.360345 46.513254, 11.927424 46.577547, 11.880394 46.76981, 11.312324 46.701311, 10.711586 46.625741, 10.760624 46.441904))'",
         "GeoFootprint": {
          "coordinates": [
           [
            [
             10.760624,
             46.441904
            ],
            [
             11.360345,
             46.513254
            ],
            [
             11.927424,
             46.577547
            ],
            [
             11.880394,
             46.76981
            ],
            [
             11.312324,
             46.701311
            ],
            [
             10.711586,
             46.625741
            ],
            [
             10.760624,
             46.441904
            ]
           ]
          ],
          "type": "Polygon"
         },
         "Id": "ab2643e6-9a5c-4b34-9383-a336e8c1ddf5",
         "Lines": 7560,
         "LinesPerBurst": 1512,
         "Name": "S1A-SLC-20241020T170738-249434-IW2-VV-450751",
         "OperationalMode": "IW",
         "OrbitDirection": "ASCENDING",
         "ParentProductId": "7deb4d96-ee58-47f9-ba97-504ad4038b9c",
         "ParentProductName": "S1A_IW_SLC__1SDV_20241020T170721_20241020T170748_056189_06E0BF_58BA.SAFE",
         "ParentProductType": "IW_SLC__1S",
         "PlatformSerialIdentifier": "A",
         "PolarisationChannels": "VV",
         "RelativeOrbitNumber": 117,
         "S3Path": "/eodata/Sentinel-1/SAR/IW_SLC__1S/2024/10/20/S1A_IW_SLC__1SDV_20241020T170721_20241020T170748_056189_06E0BF_58BA.SAFE/measurement/s1a-iw2-slc-vv-20241020t170723-20241020t170748-056189-06e0bf-005.tiff",
         "SamplesPerBurst": 26484,
         "SwathIdentifier": "IW2"
        },
        {
         "@odata.mediaContentType": "application/octet-stream",
         "AbsoluteBurstId": 121815707,
         "AzimuthAnxTime": 756.1552947713,
         "AzimuthTime": "2024-11-25T17:07:36.012270Z",
         "BeginningDateTime": "2024-11-25T17:07:37.025389Z",
         "BurstId": 249434,
         "ByteOffset": 800985339,
         "ContentDate": {
          "End": "2024-11-25T17:07:38.066978Z",
          "Start": "2024-11-25T17:07:37.025389Z"
         },
         "ContentType": "application/octet-stream",
         "DatatakeID": 456102,
         "EndingDateTime": "2024-11-25T17:07:38.066978Z",
         "Footprint": "geography'SRID=4326;POLYGON ((10.760624 46.441904, 11.360345 46.513254, 11.927424 46.577547, 11.880394 46.76981, 11.312324 46.701311, 10.711586 46.625741, 10.760624 46.441904))'",
         "GeoFootprint": {
          "coordinates": [
           [
            [
             10.760624,
             46.441904
            ],
            [
             11.360345,
             46.513254
            ],
            [
             11.927424,
             46.577547
            ],
            [
             11.880394,
             46.76981
            ],
            [
             11.312324,
             46.701311
            ],
            [
             10.711586,
             46.625741
            ],
            [
             10.760624,
             46.441904
            ]
           ]
          ],
          "type": "Polygon"
         },
         "Id": "989b42d4-156f-4cac-bc95-946588c5607a",
         "Lines": 7560,
         "LinesPerBurst": 1512,
         "Name": "S1A-SLC-20241125T170737-249434-IW2-VV-456102",
         "OperationalMode": "IW",
         "OrbitDirection": "ASCENDING",
         "ParentProductId": "05b3e04d-f533-4d63-a273-d694c14715e8",
         "ParentProductName": "S1A_IW_SLC__1SDV_20241125T170720_20241125T170747_056714_06F5A6_8E5C.SAFE",
         "ParentProductType": "IW_SLC__1S",
         "PlatformSerialIdentifier": "A",
         "PolarisationChannels": "VV",
         "RelativeOrbitNumber": 117,
         "S3Path": "/eodata/Sentinel-1/SAR/IW_SLC__1S/2024/11/25/S1A_IW_SLC__1SDV_20241125T170720_20241125T170747_056714_06F5A6_8E5C.SAFE/measurement/s1a-iw2-slc-vv-20241125t170722-20241125t170747-056714-06f5a6-005.tiff",
         "SamplesPerBurst": 26484,
         "SwathIdentifier": "IW2"
        },
        {
         "@odata.mediaContentType": "application/octet-stream",
         "AbsoluteBurstId": 122567482,
         "AzimuthAnxTime": 756.1615913275999,
         "AzimuthTime": "2024-12-19T17:07:33.786478Z",
         "BeginningDateTime": "2024-12-19T17:07:34.795485Z",
         "BurstId": 249434,
         "ByteOffset": 800985339,
         "ContentDate": {
          "End": "2024-12-19T17:07:35.837074Z",
          "Start": "2024-12-19T17:07:34.795485Z"
         },
         "ContentType": "application/octet-stream",
         "DatatakeID": 459655,
         "EndingDateTime": "2024-12-19T17:07:35.837074Z",
         "Footprint": "geography'SRID=4326;POLYGON ((10.760624 46.441904, 11.360345 46.513254, 11.927424 46.577547, 11.880394 46.76981, 11.312324 46.701311, 10.711586 46.625741, 10.760624 46.441904))'",
         "GeoFootprint": {
          "coordinates": [
           [
            [
             10.760624,
             46.441904
            ],
            [
             11.360345,
             46.513254
            ],
            [
             11.927424,
             46.577547
            ],
            [
             11.880394,
             46.76981
            ],
            [
             11.312324,
             46.701311
            ],
            [
             10.711586,
             46.625741
            ],
            [
             10.760624,
             46.441904
            ]
           ]
          ],
          "type": "Polygon"
         },
         "Id": "3a29f134-b9d0-4da9-b7d7-3e112d5c9d0c",
         "Lines": 7560,
         "LinesPerBurst": 1512,
         "Name": "S1A-SLC-20241219T170734-249434-IW2-VV-459655",
         "OperationalMode": "IW",
         "OrbitDirection": "ASCENDING",
         "ParentProductId": "91b7050b-ebba-4f8b-8517-be5511557c66",
         "ParentProductName": "S1A_IW_SLC__1SDV_20241219T170718_20241219T170745_057064_070387_3CFE.SAFE",
         "ParentProductType": "IW_SLC__1S",
         "PlatformSerialIdentifier": "A",
         "PolarisationChannels": "VV",
         "RelativeOrbitNumber": 117,
         "S3Path": "/eodata/Sentinel-1/SAR/IW_SLC__1S/2024/12/19/S1A_IW_SLC__1SDV_20241219T170718_20241219T170745_057064_070387_3CFE.SAFE/measurement/s1a-iw2-slc-vv-20241219t170719-20241219t170745-057064-070387-005.tiff",
         "SamplesPerBurst": 26484,
         "SwathIdentifier": "IW2"
        },
        {
         "@odata.mediaContentType": "application/octet-stream",
         "AbsoluteBurstId": 121925774,
         "AzimuthAnxTime": 2196.8711829897,
         "AzimuthTime": "2024-11-29T05:27:29.624996Z",
         "BeginningDateTime": "2024-11-29T05:27:30.750773Z",
         "BurstId": 359501,
         "ByteOffset": 1109514331,
         "ContentDate": {
          "End": "2024-11-29T05:27:31.628982Z",
          "Start": "2024-11-29T05:27:30.750773Z"
         },
         "ContentType": "application/octet-stream",
         "DatatakeID": 456621,
         "EndingDateTime": "2024-11-29T05:27:31.628982Z",
         "Footprint": "geography'SRID=4326;POLYGON ((12.306189 46.586499, 11.729773 46.66502, 11.194249 46.735345, 11.139994 46.531867, 11.674696 46.466093, 12.250223 46.392142, 12.306189 46.586499))'",
         "GeoFootprint": {
          "coordinates": [
           [
            [
             12.306189,
             46.586499
            ],
            [
             11.729773,
             46.66502
            ],
            [
             11.194249,
             46.735345
            ],
            [
             11.139994,
             46.531867
            ],
            [
             11.674696,
             46.466093
            ],
            [
             12.250223,
             46.392142
            ],
            [
             12.306189,
             46.586499
            ]
           ]
          ],
          "type": "Polygon"
         },
         "Id": "57ef111c-f364-45e8-9f53-36f19f2aa76d",
         "Lines": 12064,
         "LinesPerBurst": 1508,
         "Name": "S1A-SLC-20241129T052730-359501-IW1-VV-456621",
         "OperationalMode": "IW",
         "OrbitDirection": "DESCENDING",
         "ParentProductId": "9c169d34-d513-4a6d-93ad-885b685cad77",
         "ParentProductName": "S1A_IW_SLC__1SDV_20241129T052705_20241129T052732_056765_06F7AD_163B.SAFE",
         "ParentProductType": "IW_SLC__1S",
         "PlatformSerialIdentifier": "A",
         "PolarisationChannels": "VV",
         "RelativeOrbitNumber": 168,
         "S3Path": "/eodata/Sentinel-1/SAR/IW_SLC__1S/2024/11/29/S1A_IW_SLC__1SDV_20241129T052705_20241129T052732_056765_06F7AD_163B.SAFE/measurement/s1a-iw1-slc-vv-20241129t052707-20241129t052732-056765-06f7ad-004.tiff",
         "SamplesPerBurst": 22990,
         "SwathIdentifier": "IW1"
        },
        {
         "@odata.mediaContentType": "application/octet-stream",
         "AbsoluteBurstId": 122677549,
         "AzimuthAnxTime": 2196.8744934334,
         "AzimuthTime": "2024-12-23T05:27:27.442485Z",
         "BeginningDateTime": "2024-12-23T05:27:28.568263Z",
         "BurstId": 359501,
         "ByteOffset": 1109514331,
         "ContentDate": {
          "End": "2024-12-23T05:27:29.446472Z",
          "Start": "2024-12-23T05:27:28.568263Z"
         },
         "ContentType": "application/octet-stream",
         "DatatakeID": 460176,
         "EndingDateTime": "2024-12-23T05:27:29.446472Z",
         "Footprint": "geography'SRID=4326;POLYGON ((12.306189 46.586499, 11.729773 46.66502, 11.194249 46.735345, 11.139994 46.531867, 11.674696 46.466093, 12.250223 46.392142, 12.306189 46.586499))'",
         "GeoFootprint": {
          "coordinates": [
           [
            [
             12.306189,
             46.586499
            ],
            [
             11.729773,
             46.66502
            ],
            [
             11.194249,
             46.735345
            ],
            [
             11.139994,
             46.531867
            ],
            [
             11.674696,
             46.466093
            ],
            [
             12.250223,
             46.392142
            ],
            [
             12.306189,
             46.586499
            ]
           ]
          ],
          "type": "Polygon"
         },
         "Id": "4148cd05-83fc-44a4-a0fa-649321b05311",
         "Lines": 12064,
         "LinesPerBurst": 1508,
         "Name": "S1A-SLC-20241223T052728-359501-IW1-VV-460176",
         "OperationalMode": "IW",
         "OrbitDirection": "DESCENDING",
         "ParentProductId": "09931144-fffb-4f7a-be88-9fa29b521bba",
         "ParentProductName": "S1A_IW_SLC__1SDV_20241223T052703_20241223T052730_057115_070590_A05E.SAFE",
         "ParentProductType": "IW_SLC__1S",
         "PlatformSerialIdentifier": "A",
         "PolarisationChannels": "VV",
         "RelativeOrbitNumber": 168,
         "S3Path": "/eodata/Sentinel-1/SAR/IW_SLC__1S/2024/12/23/S1A_IW_SLC__1SDV_20241223T052703_20241223T052730_057115_070590_A05E.SAFE/measurement/s1a-iw1-slc-vv-20241223t052705-20241223t052730-057115-070590-004.tiff",
         "SamplesPerBurst": 22990,
         "SwathIdentifier": "IW1"
        },
        {
         "@odata.mediaContentType": "application/octet-stream",
         "AbsoluteBurstId": 120422224,
         "AzimuthAnxTime": 2196.8334469897,
         "AzimuthTime": "2024-10-12T05:27:30.713260Z",
         "BeginningDateTime": "2024-10-12T05:27:31.849299Z",
         "BurstId": 359501,
         "ByteOffset": 1109514331,
         "ContentDate": {
          "End": "2024-10-12T05:27:32.727508Z",
          "Start": "2024-10-12T05:27:31.849299Z"
         },
         "ContentType": "application/octet-stream",
         "DatatakeID": 449492,
         "EndingDateTime": "2024-10-12T05:27:32.727508Z",
         "Footprint": "geography'SRID=4326;POLYGON ((12.306189 46.586499, 11.729773 46.66502, 11.194249 46.735345, 11.139994 46.531867, 11.674696 46.466093, 12.250223 46.392142, 12.306189 46.586499))'",
         "GeoFootprint": {
          "coordinates": [
           [
            [
             12.306189,
             46.586499
            ],
            [
             11.729773,
             46.66502
            ],
            [
             11.194249,
             46.735345
            ],
            [
             11.139994,
             46.531867
            ],
            [
             11.674696,
             46.466093
            ],
            [
             12.250223,
             46.392142
            ],
            [
             12.306189,
             46.586499
            ]
           ]
          ],
          "type": "Polygon"
         },
         "Id": "9b87d0e3-bc4a-4208-bae2-95463464e0c3",
         "Lines": 12064,
         "LinesPerBurst": 1508,
         "Name": "S1A-SLC-20241012T052731-359501-IW1-VV-449492",
         "OperationalMode": "IW",
         "OrbitDirection": "DESCENDING",
         "ParentProductId": "ca3594c4-87ed-4afd-9404-2c061a570909",
         "ParentProductName": "S1A_IW_SLC__1SDV_20241012T052706_20241012T052733_056065_06DBD4_0019.SAFE",
         "ParentProductType": "IW_SLC__1S",
         "PlatformSerialIdentifier": "A",
         "PolarisationChannels": "VV",
         "RelativeOrbitNumber": 168,
         "S3Path": "/eodata/Sentinel-1/SAR/IW_SLC__1S/2024/10/12/S1A_IW_SLC__1SDV_20241012T052706_20241012T052733_056065_06DBD4_0019.SAFE/measurement/s1a-iw1-slc-vv-20241012t052708-20241012t052733-056065-06dbd4-004.tiff",
         "SamplesPerBurst": 22990,
         "SwathIdentifier": "IW1"
        },
        {
         "@odata.mediaContentType": "application/octet-stream",
         "AbsoluteBurstId": 121549886,
         "AzimuthAnxTime": 2196.854465546,
         "AzimuthTime": "2024-11-17T05:27:30.494024Z",
         "BeginningDateTime": "2024-11-17T05:27:31.623911Z",
         "BurstId": 359501,
         "ByteOffset": 1109514331,
         "ContentDate": {
          "End": "2024-11-17T05:27:32.502120Z",
          "Start": "2024-11-17T05:27:31.623911Z"
         },
         "ContentType": "application/octet-stream",
         "DatatakeID": 454833,
         "EndingDateTime": "2024-11-17T05:27:32.502120Z",
         "Footprint": "geography'SRID=4326;POLYGON ((12.306189 46.586499, 11.729773 46.66502, 11.194249 46.735345, 11.139994 46.531867, 11.674696 46.466093, 12.250223 46.392142, 12.306189 46.586499))'",
         "GeoFootprint": {
          "coordinates": [
           [
            [
             12.306189,
             46.586499
            ],
            [
             11.729773,
             46.66502
            ],
            [
             11.194249,
             46.735345
            ],
            [
             11.139994,
             46.531867
            ],
            [
             11.674696,
             46.466093
            ],
            [
             12.250223,
             46.392142
            ],
            [
             12.306189,
             46.586499
            ]
           ]
          ],
          "type": "Polygon"
         },
         "Id": "4e334382-4814-42dc-abeb-6067f1f1022e",
         "Lines": 12064,
         "LinesPerBurst": 1508,
         "Name": "S1A-SLC-20241117T052731-359501-IW1-VV-454833",
         "OperationalMode": "IW",
         "OrbitDirection": "DESCENDING",
         "ParentProductId": "5690e6e1-fe22-4c1f-8d9c-718559649b24",
         "ParentProductName": "S1A_IW_SLC__1SDV_20241117T052706_20241117T052733_056590_06F0B1_7C65.SAFE",
         "ParentProductType": "IW_SLC__1S",
         "PlatformSerialIdentifier": "A",
         "PolarisationChannels": "VV",
         "RelativeOrbitNumber": 168,
         "S3Path": "/eodata/Sentinel-1/SAR/IW_SLC__1S/2024/11/17/S1A_IW_SLC__1SDV_20241117T052706_20241117T052733_056590_06F0B1_7C65.SAFE/measurement/s1a-iw1-slc-vv-20241117t052708-20241117t052733-056590-06f0b1-004.tiff",
         "SamplesPerBurst": 22990,
         "SwathIdentifier": "IW1"
        },
        {
         "@odata.mediaContentType": "application/octet-stream",
         "AbsoluteBurstId": 112152703,
         "AzimuthAnxTime": 2199.6191291092,
         "AzimuthTime": "2024-01-22T05:27:34.038869Z",
         "BeginningDateTime": "2024-01-22T05:27:35.170518Z",
         "BurstId": 359502,
         "ByteOffset": 108891,
         "ContentDate": {
          "End": "2024-01-22T05:27:36.048727Z",
          "Start": "2024-01-22T05:27:35.170518Z"
         },
         "ContentType": "application/octet-stream",
         "DatatakeID": 413670,
         "EndingDateTime": "2024-01-22T05:27:36.048727Z",
         "Footprint": "geography'SRID=4326;POLYGON ((12.258601 46.421295, 11.684 46.499758, 11.150156 46.570046, 11.096085 46.366558, 11.629119 46.30082, 12.202845 46.226925, 12.258601 46.421295))'",
         "GeoFootprint": {
          "coordinates": [
           [
            [
             12.258601,
             46.421295
            ],
            [
             11.684,
             46.499758
            ],
            [
             11.150156,
             46.570046
            ],
            [
             11.096085,
             46.366558
            ],
            [
             11.629119,
             46.30082
            ],
            [
             12.202845,
             46.226925
            ],
            [
             12.258601,
             46.421295
            ]
           ]
          ],
          "type": "Polygon"
         },
         "Id": "077edb6e-5f4d-4ac1-abbc-f6cdae13413c",
         "Lines": 0,
         "LinesPerBurst": 1508,
         "Name": "S1A-SLC-20240122T052735-359502-IW1-VV-413670",
         "OperationalMode": "IW",
         "OrbitDirection": "DESCENDING",
         "ParentProductId": "56be2ebb-c95a-40d8-a517-465d226a1238",
         "ParentProductName": "S1A_IW_SLC__1SDV_20240122T052732_20240122T052759_052215_064FE6_8969.SAFE",
         "ParentProductType": "IW_SLC__1S",
         "PlatformSerialIdentifier": "A",
         "PolarisationChannels": "VV",
         "RelativeOrbitNumber": 168,
         "S3Path": "/eodata/Sentinel-1/SAR/IW_SLC__1S/2024/01/22/S1A_IW_SLC__1SDV_20240122T052732_20240122T052759_052215_064FE6_8969.SAFE/measurement/s1a-iw1-slc-vv-20240122t052734-20240122t052759-052215-064fe6-004.tiff",
         "SamplesPerBurst": 22990,
         "SwathIdentifier": "IW1"
        },
        {
         "@odata.mediaContentType": "application/octet-stream",
         "AbsoluteBurstId": 113280365,
         "AzimuthAnxTime": 2199.5858325529,
         "AzimuthTime": "2024-02-27T05:27:33.195668Z",
         "BeginningDateTime": "2024-02-27T05:27:34.347870Z",
         "BurstId": 359502,
         "ByteOffset": 108891,
         "ContentDate": {
          "End": "2024-02-27T05:27:35.226079Z",
          "Start": "2024-02-27T05:27:34.347870Z"
         },
         "ContentType": "application/octet-stream",
         "DatatakeID": 418227,
         "EndingDateTime": "2024-02-27T05:27:35.226079Z",
         "Footprint": "geography'SRID=4326;POLYGON ((12.258601 46.421295, 11.684 46.499758, 11.150156 46.570046, 11.096085 46.366558, 11.629119 46.30082, 12.202845 46.226925, 12.258601 46.421295))'",
         "GeoFootprint": {
          "coordinates": [
           [
            [
             12.258601,
             46.421295
            ],
            [
             11.684,
             46.499758
            ],
            [
             11.150156,
             46.570046
            ],
            [
             11.096085,
             46.366558
            ],
            [
             11.629119,
             46.30082
            ],
            [
             12.202845,
             46.226925
            ],
            [
             12.258601,
             46.421295
            ]
           ]
          ],
          "type": "Polygon"
         },
         "Id": "be0c1f37-a90b-4586-b362-e0c9d5224f87",
         "Lines": 0,
         "LinesPerBurst": 1508,
         "Name": "S1A-SLC-20240227T052734-359502-IW1-VV-418227",
         "OperationalMode": "IW",
         "OrbitDirection": "DESCENDING",
         "ParentProductId": "cfda4c63-fb44-473b-872b-354949664e7e",
         "ParentProductName": "S1A_IW_SLC__1SDV_20240227T052731_20240227T052758_052740_0661B3_DFA1.SAFE",
         "ParentProductType": "IW_SLC__1S",
         "PlatformSerialIdentifier": "A",
         "PolarisationChannels": "VV",
         "RelativeOrbitNumber": 168,
         "S3Path": "/eodata/Sentinel-1/SAR/IW_SLC__1S/2024/02/27/S1A_IW_SLC__1SDV_20240227T052731_20240227T052758_052740_0661B3_DFA1.SAFE/measurement/s1a-iw1-slc-vv-20240227t052733-20240227t052758-052740-0661b3-004.tiff",
         "SamplesPerBurst": 22990,
         "SwathIdentifier": "IW1"
        },
        {
         "@odata.mediaContentType": "application/octet-stream",
         "AbsoluteBurstId": 111776816,
         "AzimuthAnxTime": 2199.6080601092,
         "AzimuthTime": "2024-01-10T05:27:34.328770Z",
         "BeginningDateTime": "2024-01-10T05:27:35.460435Z",
         "BurstId": 359502,
         "ByteOffset": 108891,
         "ContentDate": {
          "End": "2024-01-10T05:27:36.338644Z",
          "Start": "2024-01-10T05:27:35.460435Z"
         },
         "ContentType": "application/octet-stream",
         "DatatakeID": 412164,
         "EndingDateTime": "2024-01-10T05:27:36.338644Z",
         "Footprint": "geography'SRID=4326;POLYGON ((12.258601 46.421295, 11.684 46.499758, 11.150156 46.570046, 11.096085 46.366558, 11.629119 46.30082, 12.202845 46.226925, 12.258601 46.421295))'",
         "GeoFootprint": {
          "coordinates": [
           [
            [
             12.258601,
             46.421295
            ],
            [
             11.684,
             46.499758
            ],
            [
             11.150156,
             46.570046
            ],
            [
             11.096085,
             46.366558
            ],
            [
             11.629119,
             46.30082
            ],
            [
             12.202845,
             46.226925
            ],
            [
             12.258601,
             46.421295
            ]
           ]
          ],
          "type": "Polygon"
         },
         "Id": "fc2a5126-f7a4-46ff-90b0-382c964c53fd",
         "Lines": 0,
         "LinesPerBurst": 1508,
         "Name": "S1A-SLC-20240110T052735-359502-IW1-VV-412164",
         "OperationalMode": "IW",
         "OrbitDirection": "DESCENDING",
         "ParentProductId": "9d885961-6e7d-4a7b-ac95-367fa5b85f75",
         "ParentProductName": "S1A_IW_SLC__1SDV_20240110T052732_20240110T052759_052040_064A04_CF73.SAFE",
         "ParentProductType": "IW_SLC__1S",
         "PlatformSerialIdentifier": "A",
         "PolarisationChannels": "VV",
         "RelativeOrbitNumber": 168,
         "S3Path": "/eodata/Sentinel-1/SAR/IW_SLC__1S/2024/01/10/S1A_IW_SLC__1SDV_20240110T052732_20240110T052759_052040_064A04_CF73.SAFE/measurement/s1a-iw1-slc-vv-20240110t052734-20240110t052759-052040-064a04-004.tiff",
         "SamplesPerBurst": 22990,
         "SwathIdentifier": "IW1"
        },
        {
         "@odata.mediaContentType": "application/octet-stream",
         "AbsoluteBurstId": 112904478,
         "AzimuthAnxTime": 2199.6225025529,
         "AzimuthTime": "2024-02-15T05:27:33.317843Z",
         "BeginningDateTime": "2024-02-15T05:27:34.441285Z",
         "BurstId": 359502,
         "ByteOffset": 108891,
         "ContentDate": {
          "End": "2024-02-15T05:27:35.319494Z",
          "Start": "2024-02-15T05:27:34.441285Z"
         },
         "ContentType": "application/octet-stream",
         "DatatakeID": 416698,
         "EndingDateTime": "2024-02-15T05:27:35.319494Z",
         "Footprint": "geography'SRID=4326;POLYGON ((12.258601 46.421295, 11.684 46.499758, 11.150156 46.570046, 11.096085 46.366558, 11.629119 46.30082, 12.202845 46.226925, 12.258601 46.421295))'",
         "GeoFootprint": {
          "coordinates": [
           [
            [
             12.258601,
             46.421295
            ],
            [
             11.684,
             46.499758
            ],
            [
             11.150156,
             46.570046
            ],
            [
             11.096085,
             46.366558
            ],
            [
             11.629119,
             46.30082
            ],
            [
             12.202845,
             46.226925
            ],
            [
             12.258601,
             46.421295
            ]
           ]
          ],
          "type": "Polygon"
         },
         "Id": "27391a5d-28a9-4b87-a91c-831e4ae6a834",
         "Lines": 0,
         "LinesPerBurst": 1508,
         "Name": "S1A-SLC-20240215T052734-359502-IW1-VV-416698",
         "OperationalMode": "IW",
         "OrbitDirection": "DESCENDING",
         "ParentProductId": "994d11e4-7d0a-474f-b481-85d1e1fbb037",
         "ParentProductName": "S1A_IW_SLC__1SDV_20240215T052731_20240215T052758_052565_065BBA_6C1A.SAFE",
         "ParentProductType": "IW_SLC__1S",
         "PlatformSerialIdentifier": "A",
         "PolarisationChannels": "VV",
         "RelativeOrbitNumber": 168,
         "S3Path": "/eodata/Sentinel-1/SAR/IW_SLC__1S/2024/02/15/S1A_IW_SLC__1SDV_20240215T052731_20240215T052758_052565_065BBA_6C1A.SAFE/measurement/s1a-iw1-slc-vv-20240215t052733-20240215t052758-052565-065bba-004.tiff",
         "SamplesPerBurst": 22990,
         "SwathIdentifier": "IW1"
        },
        {
         "@odata.mediaContentType": "application/octet-stream",
         "AbsoluteBurstId": 114032140,
         "AzimuthAnxTime": 2199.5936911092,
         "AzimuthTime": "2024-03-22T05:27:33.684276Z",
         "BeginningDateTime": "2024-03-22T05:27:34.817978Z",
         "BurstId": 359502,
         "ByteOffset": 108891,
         "ContentDate": {
          "End": "2024-03-22T05:27:35.696187Z",
          "Start": "2024-03-22T05:27:34.817978Z"
         },
         "ContentType": "application/octet-stream",
         "DatatakeID": 421411,
         "EndingDateTime": "2024-03-22T05:27:35.696187Z",
         "Footprint": "geography'SRID=4326;POLYGON ((12.258601 46.421295, 11.684 46.499758, 11.150156 46.570046, 11.096085 46.366558, 11.629119 46.30082, 12.202845 46.226925, 12.258601 46.421295))'",
         "GeoFootprint": {
          "coordinates": [
           [
            [
             12.258601,
             46.421295
            ],
            [
             11.684,
             46.499758
            ],
            [
             11.150156,
             46.570046
            ],
            [
             11.096085,
             46.366558
            ],
            [
             11.629119,
             46.30082
            ],
            [
             12.202845,
             46.226925
            ],
            [
             12.258601,
             46.421295
            ]
           ]
          ],
          "type": "Polygon"
         },
         "Id": "7e6803bf-c070-4ff9-9dee-b96b4206af55",
         "Lines": 0,
         "LinesPerBurst": 1508,
         "Name": "S1A-SLC-20240322T052734-359502-IW1-VV-421411",
         "OperationalMode": "IW",
         "OrbitDirection": "DESCENDING",
         "ParentProductId": "70fa048b-147a-4042-a185-e9ed31d70810",
         "ParentProductName": "S1A_IW_SLC__1SDV_20240322T052731_20240322T052758_053090_066E23_9929.SAFE",
         "ParentProductType": "IW_SLC__1S",
         "PlatformSerialIdentifier": "A",
         "PolarisationChannels": "VV",
         "RelativeOrbitNumber": 168,
         "S3Path": "/eodata/Sentinel-1/SAR/IW_SLC__1S/2024/03/22/S1A_IW_SLC__1SDV_20240322T052731_20240322T052758_053090_066E23_9929.SAFE/measurement/s1a-iw1-slc-vv-20240322t052733-20240322t052758-053090-066e23-004.tiff",
         "SamplesPerBurst": 22990,
         "SwathIdentifier": "IW1"
        },
        {
         "@odata.mediaContentType": "application/octet-stream",
         "AbsoluteBurstId": 112528590,
         "AzimuthAnxTime": 2199.6164801092,
         "AzimuthTime": "2024-02-03T05:27:33.549280Z",
         "BeginningDateTime": "2024-02-03T05:27:34.682984Z",
         "BurstId": 359502,
         "ByteOffset": 108891,
         "ContentDate": {
          "End": "2024-02-03T05:27:35.561193Z",
          "Start": "2024-02-03T05:27:34.682984Z"
         },
         "ContentType": "application/octet-stream",
         "DatatakeID": 415185,
         "EndingDateTime": "2024-02-03T05:27:35.561193Z",
         "Footprint": "geography'SRID=4326;POLYGON ((12.258601 46.421295, 11.684 46.499758, 11.150156 46.570046, 11.096085 46.366558, 11.629119 46.30082, 12.202845 46.226925, 12.258601 46.421295))'",
         "GeoFootprint": {
          "coordinates": [
           [
            [
             12.258601,
             46.421295
            ],
            [
             11.684,
             46.499758
            ],
            [
             11.150156,
             46.570046
            ],
            [
             11.096085,
             46.366558
            ],
            [
             11.629119,
             46.30082
            ],
            [
             12.202845,
             46.226925
            ],
            [
             12.258601,
             46.421295
            ]
           ]
          ],
          "type": "Polygon"
         },
         "Id": "8caa0553-3db9-4094-ab0b-717999f18eba",
         "Lines": 0,
         "LinesPerBurst": 1508,
         "Name": "S1A-SLC-20240203T052734-359502-IW1-VV-415185",
         "OperationalMode": "IW",
         "OrbitDirection": "DESCENDING",
         "ParentProductId": "de2c78c6-fe3c-48e1-85fd-bbfeb952ef6a",
         "ParentProductName": "S1A_IW_SLC__1SDV_20240203T052731_20240203T052758_052390_0655D1_851F.SAFE",
         "ParentProductType": "IW_SLC__1S",
         "PlatformSerialIdentifier": "A",
         "PolarisationChannels": "VV",
         "RelativeOrbitNumber": 168,
         "S3Path": "/eodata/Sentinel-1/SAR/IW_SLC__1S/2024/02/03/S1A_IW_SLC__1SDV_20240203T052731_20240203T052758_052390_0655D1_851F.SAFE/measurement/s1a-iw1-slc-vv-20240203t052733-20240203t052758-052390-0655d1-004.tiff",
         "SamplesPerBurst": 22990,
         "SwathIdentifier": "IW1"
        },
        {
         "@odata.mediaContentType": "application/octet-stream",
         "AbsoluteBurstId": 113656253,
         "AzimuthAnxTime": 2199.5869645529,
         "AzimuthTime": "2024-03-10T05:27:33.186050Z",
         "BeginningDateTime": "2024-03-10T05:27:34.336197Z",
         "BurstId": 359502,
         "ByteOffset": 108891,
         "ContentDate": {
          "End": "2024-03-10T05:27:35.214406Z",
          "Start": "2024-03-10T05:27:34.336197Z"
         },
         "ContentType": "application/octet-stream",
         "DatatakeID": 419746,
         "EndingDateTime": "2024-03-10T05:27:35.214406Z",
         "Footprint": "geography'SRID=4326;POLYGON ((12.258601 46.421295, 11.684 46.499758, 11.150156 46.570046, 11.096085 46.366558, 11.629119 46.30082, 12.202845 46.226925, 12.258601 46.421295))'",
         "GeoFootprint": {
          "coordinates": [
           [
            [
             12.258601,
             46.421295
            ],
            [
             11.684,
             46.499758
            ],
            [
             11.150156,
             46.570046
            ],
            [
             11.096085,
             46.366558
            ],
            [
             11.629119,
             46.30082
            ],
            [
             12.202845,
             46.226925
            ],
            [
             12.258601,
             46.421295
            ]
           ]
          ],
          "type": "Polygon"
         },
         "Id": "37b8443f-581e-4ddf-9dac-44a3b146ad54",
         "Lines": 0,
         "LinesPerBurst": 1508,
         "Name": "S1A-SLC-20240310T052734-359502-IW1-VV-419746",
         "OperationalMode": "IW",
         "OrbitDirection": "DESCENDING",
         "ParentProductId": "f013ee30-f97c-4273-82d7-d3e10ecb3c94",
         "ParentProductName": "S1A_IW_SLC__1SDV_20240310T052731_20240310T052758_052915_0667A2_05A3.SAFE",
         "ParentProductType": "IW_SLC__1S",
         "PlatformSerialIdentifier": "A",
         "PolarisationChannels": "VV",
         "RelativeOrbitNumber": 168,
         "S3Path": "/eodata/Sentinel-1/SAR/IW_SLC__1S/2024/03/10/S1A_IW_SLC__1SDV_20240310T052731_20240310T052758_052915_0667A2_05A3.SAFE/measurement/s1a-iw1-slc-vv-20240310t052733-20240310t052758-052915-0667a2-004.tiff",
         "SamplesPerBurst": 22990,
         "SwathIdentifier": "IW1"
        },
        {
         "@odata.mediaContentType": "application/octet-stream",
         "AbsoluteBurstId": 114408027,
         "AzimuthAnxTime": 2199.5908691092,
         "AzimuthTime": "2024-04-03T05:27:34.290281Z",
         "BeginningDateTime": "2024-04-03T05:27:35.417832Z",
         "BurstId": 359502,
         "ByteOffset": 108891,
         "ContentDate": {
          "End": "2024-04-03T05:27:36.296041Z",
          "Start": "2024-04-03T05:27:35.417832Z"
         },
         "ContentType": "application/octet-stream",
         "DatatakeID": 423097,
         "EndingDateTime": "2024-04-03T05:27:36.296041Z",
         "Footprint": "geography'SRID=4326;POLYGON ((12.258601 46.421295, 11.684 46.499758, 11.150156 46.570046, 11.096085 46.366558, 11.629119 46.30082, 12.202845 46.226925, 12.258601 46.421295))'",
         "GeoFootprint": {
          "coordinates": [
           [
            [
             12.258601,
             46.421295
            ],
            [
             11.684,
             46.499758
            ],
            [
             11.150156,
             46.570046
            ],
            [
             11.096085,
             46.366558
            ],
            [
             11.629119,
             46.30082
            ],
            [
             12.202845,
             46.226925
            ],
            [
             12.258601,
             46.421295
            ]
           ]
          ],
          "type": "Polygon"
         },
         "Id": "bc7a7f9b-e3d5-4511-a8b6-8ae7863cf6a8",
         "Lines": 0,
         "LinesPerBurst": 1508,
         "Name": "S1A-SLC-20240403T052735-359502-IW1-VV-423097",
         "OperationalMode": "IW",
         "OrbitDirection": "DESCENDING",
         "ParentProductId": "6d024665-a4d0-41d3-9cad-898801904c33",
         "ParentProductName": "S1A_IW_SLC__1SDV_20240403T052732_20240403T052759_053265_0674B9_82D5.SAFE",
         "ParentProductType": "IW_SLC__1S",
         "PlatformSerialIdentifier": "A",
         "PolarisationChannels": "VV",
         "RelativeOrbitNumber": 168,
         "S3Path": "/eodata/Sentinel-1/SAR/IW_SLC__1S/2024/04/03/S1A_IW_SLC__1SDV_20240403T052732_20240403T052759_053265_0674B9_82D5.SAFE/measurement/s1a-iw1-slc-vv-20240403t052734-20240403t052759-053265-0674b9-004.tiff",
         "SamplesPerBurst": 22990,
         "SwathIdentifier": "IW1"
        },
        {
         "@odata.mediaContentType": "application/octet-stream",
         "AbsoluteBurstId": 115535689,
         "AzimuthAnxTime": 2199.5607381092,
         "AzimuthTime": "2024-05-09T05:27:35.029801Z",
         "BeginningDateTime": "2024-05-09T05:27:36.188172Z",
         "BurstId": 359502,
         "ByteOffset": 108891,
         "ContentDate": {
          "End": "2024-05-09T05:27:37.066381Z",
          "Start": "2024-05-09T05:27:36.188172Z"
         },
         "ContentType": "application/octet-stream",
         "DatatakeID": 428381,
         "EndingDateTime": "2024-05-09T05:27:37.066381Z",
         "Footprint": "geography'SRID=4326;POLYGON ((12.258601 46.421295, 11.684 46.499758, 11.150156 46.570046, 11.096085 46.366558, 11.629119 46.30082, 12.202845 46.226925, 12.258601 46.421295))'",
         "GeoFootprint": {
          "coordinates": [
           [
            [
             12.258601,
             46.421295
            ],
            [
             11.684,
             46.499758
            ],
            [
             11.150156,
             46.570046
            ],
            [
             11.096085,
             46.366558
            ],
            [
             11.629119,
             46.30082
            ],
            [
             12.202845,
             46.226925
            ],
            [
             12.258601,
             46.421295
            ]
           ]
          ],
          "type": "Polygon"
         },
         "Id": "3ae6f7d4-386b-4832-8703-8ee4a8ef4901",
         "Lines": 0,
         "LinesPerBurst": 1508,
         "Name": "S1A-SLC-20240509T052736-359502-IW1-VV-428381",
         "OperationalMode": "IW",
         "OrbitDirection": "DESCENDING",
         "ParentProductId": "af98ebcb-4009-47ee-8a04-bbb84425a765",
         "ParentProductName": "S1A_IW_SLC__1SDV_20240509T052733_20240509T052800_053790_06895D_E8BF.SAFE",
         "ParentProductType": "IW_SLC__1S",
         "PlatformSerialIdentifier": "A",
         "PolarisationChannels": "VV",
         "RelativeOrbitNumber": 168,
         "S3Path": "/eodata/Sentinel-1/SAR/IW_SLC__1S/2024/05/09/S1A_IW_SLC__1SDV_20240509T052733_20240509T052800_053790_06895D_E8BF.SAFE/measurement/s1a-iw1-slc-vv-20240509t052735-20240509t052800-053790-06895d-004.tiff",
         "SamplesPerBurst": 22990,
         "SwathIdentifier": "IW1"
        },
        {
         "@odata.mediaContentType": "application/octet-stream",
         "AbsoluteBurstId": 115911577,
         "AzimuthAnxTime": 2199.5886721092,
         "AzimuthTime": "2024-05-21T05:27:34.368753Z",
         "BeginningDateTime": "2024-05-21T05:27:35.502457Z",
         "BurstId": 359502,
         "ByteOffset": 108891,
         "ContentDate": {
          "End": "2024-05-21T05:27:36.380666Z",
          "Start": "2024-05-21T05:27:35.502457Z"
         },
         "ContentType": "application/octet-stream",
         "DatatakeID": 429917,
         "EndingDateTime": "2024-05-21T05:27:36.380666Z",
         "Footprint": "geography'SRID=4326;POLYGON ((12.258601 46.421295, 11.684 46.499758, 11.150156 46.570046, 11.096085 46.366558, 11.629119 46.30082, 12.202845 46.226925, 12.258601 46.421295))'",
         "GeoFootprint": {
          "coordinates": [
           [
            [
             12.258601,
             46.421295
            ],
            [
             11.684,
             46.499758
            ],
            [
             11.150156,
             46.570046
            ],
            [
             11.096085,
             46.366558
            ],
            [
             11.629119,
             46.30082
            ],
            [
             12.202845,
             46.226925
            ],
            [
             12.258601,
             46.421295
            ]
           ]
          ],
          "type": "Polygon"
         },
         "Id": "99978059-8fb7-4be5-984b-193d914fb490",
         "Lines": 0,
         "LinesPerBurst": 1508,
         "Name": "S1A-SLC-20240521T052735-359502-IW1-VV-429917",
         "OperationalMode": "IW",
         "OrbitDirection": "DESCENDING",
         "ParentProductId": "5fed961b-dc55-45f7-bb35-f11b584fb5f1",
         "ParentProductName": "S1A_IW_SLC__1SDV_20240521T052732_20240521T052759_053965_068F5D_5DDB.SAFE",
         "ParentProductType": "IW_SLC__1S",
         "PlatformSerialIdentifier": "A",
         "PolarisationChannels": "VV",
         "RelativeOrbitNumber": 168,
         "S3Path": "/eodata/Sentinel-1/SAR/IW_SLC__1S/2024/05/21/S1A_IW_SLC__1SDV_20240521T052732_20240521T052759_053965_068F5D_5DDB.SAFE/measurement/s1a-iw1-slc-vv-20240521t052734-20240521t052759-053965-068f5d-004.tiff",
         "SamplesPerBurst": 22990,
         "SwathIdentifier": "IW1"
        },
        {
         "@odata.mediaContentType": "application/octet-stream",
         "AbsoluteBurstId": 116663352,
         "AzimuthAnxTime": 2199.5803441092,
         "AzimuthTime": "2024-06-14T05:27:33.929608Z",
         "BeginningDateTime": "2024-06-14T05:27:35.071534Z",
         "BurstId": 359502,
         "ByteOffset": 108891,
         "ContentDate": {
          "End": "2024-06-14T05:27:35.949743Z",
          "Start": "2024-06-14T05:27:35.071534Z"
         },
         "ContentType": "application/octet-stream",
         "DatatakeID": 433018,
         "EndingDateTime": "2024-06-14T05:27:35.949743Z",
         "Footprint": "geography'SRID=4326;POLYGON ((12.258601 46.421295, 11.684 46.499758, 11.150156 46.570046, 11.096085 46.366558, 11.629119 46.30082, 12.202845 46.226925, 12.258601 46.421295))'",
         "GeoFootprint": {
          "coordinates": [
           [
            [
             12.258601,
             46.421295
            ],
            [
             11.684,
             46.499758
            ],
            [
             11.150156,
             46.570046
            ],
            [
             11.096085,
             46.366558
            ],
            [
             11.629119,
             46.30082
            ],
            [
             12.202845,
             46.226925
            ],
            [
             12.258601,
             46.421295
            ]
           ]
          ],
          "type": "Polygon"
         },
         "Id": "c0bd1253-ec42-47b1-b3ca-a6b3f88ff4cc",
         "Lines": 0,
         "LinesPerBurst": 1508,
         "Name": "S1A-SLC-20240614T052735-359502-IW1-VV-433018",
         "OperationalMode": "IW",
         "OrbitDirection": "DESCENDING",
         "ParentProductId": "46281e57-0f09-4248-be9e-7bbdac7a1211",
         "ParentProductName": "S1A_IW_SLC__1SDV_20240614T052732_20240614T052759_054315_069B7A_CF04.SAFE",
         "ParentProductType": "IW_SLC__1S",
         "PlatformSerialIdentifier": "A",
         "PolarisationChannels": "VV",
         "RelativeOrbitNumber": 168,
         "S3Path": "/eodata/Sentinel-1/SAR/IW_SLC__1S/2024/06/14/S1A_IW_SLC__1SDV_20240614T052732_20240614T052759_054315_069B7A_CF04.SAFE/measurement/s1a-iw1-slc-vv-20240614t052733-20240614t052759-054315-069b7a-004.tiff",
         "SamplesPerBurst": 22991,
         "SwathIdentifier": "IW1"
        },
        {
         "@odata.mediaContentType": "application/octet-stream",
         "AbsoluteBurstId": 114783915,
         "AzimuthAnxTime": 2199.5990141092,
         "AzimuthTime": "2024-04-15T05:27:33.868421Z",
         "BeginningDateTime": "2024-04-15T05:27:34.995957Z",
         "BurstId": 359502,
         "ByteOffset": 108891,
         "ContentDate": {
          "End": "2024-04-15T05:27:35.874166Z",
          "Start": "2024-04-15T05:27:34.995957Z"
         },
         "ContentType": "application/octet-stream",
         "DatatakeID": 424876,
         "EndingDateTime": "2024-04-15T05:27:35.874166Z",
         "Footprint": "geography'SRID=4326;POLYGON ((12.258601 46.421295, 11.684 46.499758, 11.150156 46.570046, 11.096085 46.366558, 11.629119 46.30082, 12.202845 46.226925, 12.258601 46.421295))'",
         "GeoFootprint": {
          "coordinates": [
           [
            [
             12.258601,
             46.421295
            ],
            [
             11.684,
             46.499758
            ],
            [
             11.150156,
             46.570046
            ],
            [
             11.096085,
             46.366558
            ],
            [
             11.629119,
             46.30082
            ],
            [
             12.202845,
             46.226925
            ],
            [
             12.258601,
             46.421295
            ]
           ]
          ],
          "type": "Polygon"
         },
         "Id": "f911d9fb-6978-4936-937a-2b74bfb02411",
         "Lines": 0,
         "LinesPerBurst": 1508,
         "Name": "S1A-SLC-20240415T052734-359502-IW1-VV-424876",
         "OperationalMode": "IW",
         "OrbitDirection": "DESCENDING",
         "ParentProductId": "3d4cb87b-da5c-4932-bfad-9c402b402bf0",
         "ParentProductName": "S1A_IW_SLC__1SDV_20240415T052732_20240415T052759_053440_067BAC_676F.SAFE",
         "ParentProductType": "IW_SLC__1S",
         "PlatformSerialIdentifier": "A",
         "PolarisationChannels": "VV",
         "RelativeOrbitNumber": 168,
         "S3Path": "/eodata/Sentinel-1/SAR/IW_SLC__1S/2024/04/15/S1A_IW_SLC__1SDV_20240415T052732_20240415T052759_053440_067BAC_676F.SAFE/measurement/s1a-iw1-slc-vv-20240415t052733-20240415t052759-053440-067bac-004.tiff",
         "SamplesPerBurst": 22990,
         "SwathIdentifier": "IW1"
        },
        {
         "@odata.mediaContentType": "application/octet-stream",
         "AbsoluteBurstId": 115159802,
         "AzimuthAnxTime": 2199.5720691092,
         "AzimuthTime": "2024-04-27T05:27:34.773085Z",
         "BeginningDateTime": "2024-04-27T05:27:35.923234Z",
         "BurstId": 359502,
         "ByteOffset": 108891,
         "ContentDate": {
          "End": "2024-04-27T05:27:36.801443Z",
          "Start": "2024-04-27T05:27:35.923234Z"
         },
         "ContentType": "application/octet-stream",
         "DatatakeID": 426636,
         "EndingDateTime": "2024-04-27T05:27:36.801443Z",
         "Footprint": "geography'SRID=4326;POLYGON ((12.258601 46.421295, 11.684 46.499758, 11.150156 46.570046, 11.096085 46.366558, 11.629119 46.30082, 12.202845 46.226925, 12.258601 46.421295))'",
         "GeoFootprint": {
          "coordinates": [
           [
            [
             12.258601,
             46.421295
            ],
            [
             11.684,
             46.499758
            ],
            [
             11.150156,
             46.570046
            ],
            [
             11.096085,
             46.366558
            ],
            [
             11.629119,
             46.30082
            ],
            [
             12.202845,
             46.226925
            ],
            [
             12.258601,
             46.421295
            ]
           ]
          ],
          "type": "Polygon"
         },
         "Id": "d4057645-541f-4691-a0a8-d92a970aac64",
         "Lines": 0,
         "LinesPerBurst": 1508,
         "Name": "S1A-SLC-20240427T052735-359502-IW1-VV-426636",
         "OperationalMode": "IW",
         "OrbitDirection": "DESCENDING",
         "ParentProductId": "19db3043-44f3-4f90-b1bf-e7cbf38a8f29",
         "ParentProductName": "S1A_IW_SLC__1SDV_20240427T052732_20240427T052759_053615_06828C_54A3.SAFE",
         "ParentProductType": "IW_SLC__1S",
         "PlatformSerialIdentifier": "A",
         "PolarisationChannels": "VV",
         "RelativeOrbitNumber": 168,
         "S3Path": "/eodata/Sentinel-1/SAR/IW_SLC__1S/2024/04/27/S1A_IW_SLC__1SDV_20240427T052732_20240427T052759_053615_06828C_54A3.SAFE/measurement/s1a-iw1-slc-vv-20240427t052734-20240427t052759-053615-06828c-004.tiff",
         "SamplesPerBurst": 22990,
         "SwathIdentifier": "IW1"
        },
        {
         "@odata.mediaContentType": "application/octet-stream",
         "AbsoluteBurstId": 116287464,
         "AzimuthAnxTime": 2199.5828051092,
         "AzimuthTime": "2024-06-02T05:27:34.410419Z",
         "BeginningDateTime": "2024-06-02T05:27:35.548249Z",
         "BurstId": 359502,
         "ByteOffset": 108891,
         "ContentDate": {
          "End": "2024-06-02T05:27:36.426458Z",
          "Start": "2024-06-02T05:27:35.548249Z"
         },
         "ContentType": "application/octet-stream",
         "DatatakeID": 431470,
         "EndingDateTime": "2024-06-02T05:27:36.426458Z",
         "Footprint": "geography'SRID=4326;POLYGON ((12.258601 46.421295, 11.684 46.499758, 11.150156 46.570046, 11.096085 46.366558, 11.629119 46.30082, 12.202845 46.226925, 12.258601 46.421295))'",
         "GeoFootprint": {
          "coordinates": [
           [
            [
             12.258601,
             46.421295
            ],
            [
             11.684,
             46.499758
            ],
            [
             11.150156,
             46.570046
            ],
            [
             11.096085,
             46.366558
            ],
            [
             11.629119,
             46.30082
            ],
            [
             12.202845,
             46.226925
            ],
            [
             12.258601,
             46.421295
            ]
           ]
          ],
          "type": "Polygon"
         },
         "Id": "de5819eb-383c-4277-a0a1-f185c46f2b97",
         "Lines": 0,
         "LinesPerBurst": 1508,
         "Name": "S1A-SLC-20240602T052735-359502-IW1-VV-431470",
         "OperationalMode": "IW",
         "OrbitDirection": "DESCENDING",
         "ParentProductId": "5eab844b-d619-4a49-94b2-760f5bdfdd09",
         "ParentProductName": "S1A_IW_SLC__1SDV_20240602T052732_20240602T052759_054140_06956E_2DD2.SAFE",
         "ParentProductType": "IW_SLC__1S",
         "PlatformSerialIdentifier": "A",
         "PolarisationChannels": "VV",
         "RelativeOrbitNumber": 168,
         "S3Path": "/eodata/Sentinel-1/SAR/IW_SLC__1S/2024/06/02/S1A_IW_SLC__1SDV_20240602T052732_20240602T052759_054140_06956E_2DD2.SAFE/measurement/s1a-iw1-slc-vv-20240602t052734-20240602t052759-054140-06956e-004.tiff",
         "SamplesPerBurst": 22990,
         "SwathIdentifier": "IW1"
        },
        {
         "@odata.mediaContentType": "application/octet-stream",
         "AbsoluteBurstId": 117039239,
         "AzimuthAnxTime": 2199.5746335529,
         "AzimuthTime": "2024-06-26T05:27:33.185789Z",
         "BeginningDateTime": "2024-06-26T05:27:34.335953Z",
         "BurstId": 359502,
         "ByteOffset": 108891,
         "ContentDate": {
          "End": "2024-06-26T05:27:35.214162Z",
          "Start": "2024-06-26T05:27:34.335953Z"
         },
         "ContentType": "application/octet-stream",
         "DatatakeID": 434578,
         "EndingDateTime": "2024-06-26T05:27:35.214162Z",
         "Footprint": "geography'SRID=4326;POLYGON ((12.258601 46.421295, 11.684 46.499758, 11.150156 46.570046, 11.096085 46.366558, 11.629119 46.30082, 12.202845 46.226925, 12.258601 46.421295))'",
         "GeoFootprint": {
          "coordinates": [
           [
            [
             12.258601,
             46.421295
            ],
            [
             11.684,
             46.499758
            ],
            [
             11.150156,
             46.570046
            ],
            [
             11.096085,
             46.366558
            ],
            [
             11.629119,
             46.30082
            ],
            [
             12.202845,
             46.226925
            ],
            [
             12.258601,
             46.421295
            ]
           ]
          ],
          "type": "Polygon"
         },
         "Id": "55533073-9629-4443-b310-1743d16679df",
         "Lines": 0,
         "LinesPerBurst": 1508,
         "Name": "S1A-SLC-20240626T052734-359502-IW1-VV-434578",
         "OperationalMode": "IW",
         "OrbitDirection": "DESCENDING",
         "ParentProductId": "715272ae-ab2a-4ccb-9bc1-7544084805e8",
         "ParentProductName": "S1A_IW_SLC__1SDV_20240626T052731_20240626T052758_054490_06A192_232D.SAFE",
         "ParentProductType": "IW_SLC__1S",
         "PlatformSerialIdentifier": "A",
         "PolarisationChannels": "VV",
         "RelativeOrbitNumber": 168,
         "S3Path": "/eodata/Sentinel-1/SAR/IW_SLC__1S/2024/06/26/S1A_IW_SLC__1SDV_20240626T052731_20240626T052758_054490_06A192_232D.SAFE/measurement/s1a-iw1-slc-vv-20240626t052733-20240626t052758-054490-06a192-004.tiff",
         "SamplesPerBurst": 22849,
         "SwathIdentifier": "IW1"
        },
        {
         "@odata.mediaContentType": "application/octet-stream",
         "AbsoluteBurstId": 119670451,
         "AzimuthAnxTime": 2199.6038461092,
         "AzimuthTime": "2024-09-18T05:27:33.338518Z",
         "BeginningDateTime": "2024-09-18T05:27:34.468110Z",
         "BurstId": 359502,
         "ByteOffset": 108891,
         "ContentDate": {
          "End": "2024-09-18T05:27:35.346319Z",
          "Start": "2024-09-18T05:27:34.468110Z"
         },
         "ContentType": "application/octet-stream",
         "DatatakeID": 445953,
         "EndingDateTime": "2024-09-18T05:27:35.346319Z",
         "Footprint": "geography'SRID=4326;POLYGON ((12.258601 46.421295, 11.684 46.499758, 11.150156 46.570046, 11.096085 46.366558, 11.629119 46.30082, 12.202845 46.226925, 12.258601 46.421295))'",
         "GeoFootprint": {
          "coordinates": [
           [
            [
             12.258601,
             46.421295
            ],
            [
             11.684,
             46.499758
            ],
            [
             11.150156,
             46.570046
            ],
            [
             11.096085,
             46.366558
            ],
            [
             11.629119,
             46.30082
            ],
            [
             12.202845,
             46.226925
            ],
            [
             12.258601,
             46.421295
            ]
           ]
          ],
          "type": "Polygon"
         },
         "Id": "360b2596-8b8e-4441-9133-67ffd9962dff",
         "Lines": 0,
         "LinesPerBurst": 1508,
         "Name": "S1A-SLC-20240918T052734-359502-IW1-VV-445953",
         "OperationalMode": "IW",
         "OrbitDirection": "DESCENDING",
         "ParentProductId": "99006dd3-74a1-4ae3-8fe2-2d7045ba0d1a",
         "ParentProductName": "S1A_IW_SLC__1SDV_20240918T052731_20240918T052758_055715_06CE01_DB58.SAFE",
         "ParentProductType": "IW_SLC__1S",
         "PlatformSerialIdentifier": "A",
         "PolarisationChannels": "VV",
         "RelativeOrbitNumber": 168,
         "S3Path": "/eodata/Sentinel-1/SAR/IW_SLC__1S/2024/09/18/S1A_IW_SLC__1SDV_20240918T052731_20240918T052758_055715_06CE01_DB58.SAFE/measurement/s1a-iw1-slc-vv-20240918t052733-20240918t052758-055715-06ce01-004.tiff",
         "SamplesPerBurst": 22990,
         "SwathIdentifier": "IW1"
        },
        {
         "@odata.mediaContentType": "application/octet-stream",
         "AbsoluteBurstId": 118918676,
         "AzimuthAnxTime": 2199.6038481092,
         "AzimuthTime": "2024-08-25T05:27:32.514709Z",
         "BeginningDateTime": "2024-08-25T05:27:33.650483Z",
         "BurstId": 359502,
         "ByteOffset": 108819,
         "ContentDate": {
          "End": "2024-08-25T05:27:34.528110Z",
          "Start": "2024-08-25T05:27:33.650483Z"
         },
         "ContentType": "application/octet-stream",
         "DatatakeID": 442501,
         "EndingDateTime": "2024-08-25T05:27:34.528110Z",
         "Footprint": "geography'SRID=4326;POLYGON ((12.258601 46.421295, 11.684 46.499758, 11.150156 46.570046, 11.096085 46.366558, 11.629119 46.30082, 12.202845 46.226925, 12.258601 46.421295))'",
         "GeoFootprint": {
          "coordinates": [
           [
            [
             12.258601,
             46.421295
            ],
            [
             11.684,
             46.499758
            ],
            [
             11.150156,
             46.570046
            ],
            [
             11.096085,
             46.366558
            ],
            [
             11.629119,
             46.30082
            ],
            [
             12.202845,
             46.226925
            ],
            [
             12.258601,
             46.421295
            ]
           ]
          ],
          "type": "Polygon"
         },
         "Id": "e2050636-3d90-4c03-a542-b53bf82eb98d",
         "Lines": 0,
         "LinesPerBurst": 1507,
         "Name": "S1A-SLC-20240825T052733-359502-IW1-VV-442501",
         "OperationalMode": "IW",
         "OrbitDirection": "DESCENDING",
         "ParentProductId": "2a9aca9a-ee3f-4815-963c-cd48c8042879",
         "ParentProductName": "S1A_IW_SLC__1SDV_20240825T052730_20240825T052757_055365_06C085_D122.SAFE",
         "ParentProductType": "IW_SLC__1S",
         "PlatformSerialIdentifier": "A",
         "PolarisationChannels": "VV",
         "RelativeOrbitNumber": 168,
         "S3Path": "/eodata/Sentinel-1/SAR/IW_SLC__1S/2024/08/25/S1A_IW_SLC__1SDV_20240825T052730_20240825T052757_055365_06C085_D122.SAFE/measurement/s1a-iw1-slc-vv-20240825t052732-20240825t052757-055365-06c085-004.tiff",
         "SamplesPerBurst": 22774,
         "SwathIdentifier": "IW1"
        },
        {
         "@odata.mediaContentType": "application/octet-stream",
         "AbsoluteBurstId": 118166901,
         "AzimuthAnxTime": 2199.5937176655,
         "AzimuthTime": "2024-08-01T05:27:32.363497Z",
         "BeginningDateTime": "2024-08-01T05:27:33.501313Z",
         "BurstId": 359502,
         "ByteOffset": 108819,
         "ContentDate": {
          "End": "2024-08-01T05:27:34.378940Z",
          "Start": "2024-08-01T05:27:33.501313Z"
         },
         "ContentType": "application/octet-stream",
         "DatatakeID": 439246,
         "EndingDateTime": "2024-08-01T05:27:34.378940Z",
         "Footprint": "geography'SRID=4326;POLYGON ((12.258601 46.421295, 11.684 46.499758, 11.150156 46.570046, 11.096085 46.366558, 11.629119 46.30082, 12.202845 46.226925, 12.258601 46.421295))'",
         "GeoFootprint": {
          "coordinates": [
           [
            [
             12.258601,
             46.421295
            ],
            [
             11.684,
             46.499758
            ],
            [
             11.150156,
             46.570046
            ],
            [
             11.096085,
             46.366558
            ],
            [
             11.629119,
             46.30082
            ],
            [
             12.202845,
             46.226925
            ],
            [
             12.258601,
             46.421295
            ]
           ]
          ],
          "type": "Polygon"
         },
         "Id": "a7bf8d77-7142-4bd7-bba3-58ffbbde31f9",
         "Lines": 0,
         "LinesPerBurst": 1507,
         "Name": "S1A-SLC-20240801T052733-359502-IW1-VV-439246",
         "OperationalMode": "IW",
         "OrbitDirection": "DESCENDING",
         "ParentProductId": "4793cea0-eb01-471a-9eed-5b4b4ca4c1d5",
         "ParentProductName": "S1A_IW_SLC__1SDV_20240801T052730_20240801T052757_055015_06B3CE_5798.SAFE",
         "ParentProductType": "IW_SLC__1S",
         "PlatformSerialIdentifier": "A",
         "PolarisationChannels": "VV",
         "RelativeOrbitNumber": 168,
         "S3Path": "/eodata/Sentinel-1/SAR/IW_SLC__1S/2024/08/01/S1A_IW_SLC__1SDV_20240801T052730_20240801T052757_055015_06B3CE_5798.SAFE/measurement/s1a-iw1-slc-vv-20240801t052732-20240801t052757-055015-06b3ce-004.tiff",
         "SamplesPerBurst": 22774,
         "SwathIdentifier": "IW1"
        },
        {
         "@odata.mediaContentType": "application/octet-stream",
         "AbsoluteBurstId": 118542788,
         "AzimuthAnxTime": 2199.5923506655,
         "AzimuthTime": "2024-08-13T05:27:31.995264Z",
         "BeginningDateTime": "2024-08-13T05:27:33.128968Z",
         "BurstId": 359502,
         "ByteOffset": 108891,
         "ContentDate": {
          "End": "2024-08-13T05:27:34.007177Z",
          "Start": "2024-08-13T05:27:33.128968Z"
         },
         "ContentType": "application/octet-stream",
         "DatatakeID": 440839,
         "EndingDateTime": "2024-08-13T05:27:34.007177Z",
         "Footprint": "geography'SRID=4326;POLYGON ((12.258601 46.421295, 11.684 46.499758, 11.150156 46.570046, 11.096085 46.366558, 11.629119 46.30082, 12.202845 46.226925, 12.258601 46.421295))'",
         "GeoFootprint": {
          "coordinates": [
           [
            [
             12.258601,
             46.421295
            ],
            [
             11.684,
             46.499758
            ],
            [
             11.150156,
             46.570046
            ],
            [
             11.096085,
             46.366558
            ],
            [
             11.629119,
             46.30082
            ],
            [
             12.202845,
             46.226925
            ],
            [
             12.258601,
             46.421295
            ]
           ]
          ],
          "type": "Polygon"
         },
         "Id": "daf78a1c-19c1-4787-9d8d-9f63b8b6314a",
         "Lines": 0,
         "LinesPerBurst": 1508,
         "Name": "S1A-SLC-20240813T052733-359502-IW1-VV-440839",
         "OperationalMode": "IW",
         "OrbitDirection": "DESCENDING",
         "ParentProductId": "82e7ef84-1e24-4068-8321-1e59617ff8ff",
         "ParentProductName": "S1A_IW_SLC__1SDV_20240813T052730_20240813T052757_055190_06BA07_725E.SAFE",
         "ParentProductType": "IW_SLC__1S",
         "PlatformSerialIdentifier": "A",
         "PolarisationChannels": "VV",
         "RelativeOrbitNumber": 168,
         "S3Path": "/eodata/Sentinel-1/SAR/IW_SLC__1S/2024/08/13/S1A_IW_SLC__1SDV_20240813T052730_20240813T052757_055190_06BA07_725E.SAFE/measurement/s1a-iw1-slc-vv-20240813t052731-20240813t052757-055190-06ba07-004.tiff",
         "SamplesPerBurst": 22849,
         "SwathIdentifier": "IW1"
        },
        {
         "@odata.mediaContentType": "application/octet-stream",
         "AbsoluteBurstId": 117791014,
         "AzimuthAnxTime": 2199.5919001092,
         "AzimuthTime": "2024-07-20T05:27:32.182868Z",
         "BeginningDateTime": "2024-07-20T05:27:33.322739Z",
         "BurstId": 359502,
         "ByteOffset": 108891,
         "ContentDate": {
          "End": "2024-07-20T05:27:34.200948Z",
          "Start": "2024-07-20T05:27:33.322739Z"
         },
         "ContentType": "application/octet-stream",
         "DatatakeID": 437683,
         "EndingDateTime": "2024-07-20T05:27:34.200948Z",
         "Footprint": "geography'SRID=4326;POLYGON ((12.258601 46.421295, 11.684 46.499758, 11.150156 46.570046, 11.096085 46.366558, 11.629119 46.30082, 12.202845 46.226925, 12.258601 46.421295))'",
         "GeoFootprint": {
          "coordinates": [
           [
            [
             12.258601,
             46.421295
            ],
            [
             11.684,
             46.499758
            ],
            [
             11.150156,
             46.570046
            ],
            [
             11.096085,
             46.366558
            ],
            [
             11.629119,
             46.30082
            ],
            [
             12.202845,
             46.226925
            ],
            [
             12.258601,
             46.421295
            ]
           ]
          ],
          "type": "Polygon"
         },
         "Id": "1250bcba-54f0-4598-8d70-8081fe10b3ee",
         "Lines": 0,
         "LinesPerBurst": 1508,
         "Name": "S1A-SLC-20240720T052733-359502-IW1-VV-437683",
         "OperationalMode": "IW",
         "OrbitDirection": "DESCENDING",
         "ParentProductId": "00196f96-0374-4f25-9de9-82cdbf9a86d3",
         "ParentProductName": "S1A_IW_SLC__1SDV_20240720T052730_20240720T052757_054840_06ADB3_F7BC.SAFE",
         "ParentProductType": "IW_SLC__1S",
         "PlatformSerialIdentifier": "A",
         "PolarisationChannels": "VV",
         "RelativeOrbitNumber": 168,
         "S3Path": "/eodata/Sentinel-1/SAR/IW_SLC__1S/2024/07/20/S1A_IW_SLC__1SDV_20240720T052730_20240720T052757_054840_06ADB3_F7BC.SAFE/measurement/s1a-iw1-slc-vv-20240720t052732-20240720t052757-054840-06adb3-004.tiff",
         "SamplesPerBurst": 22850,
         "SwathIdentifier": "IW1"
        },
        {
         "@odata.mediaContentType": "application/octet-stream",
         "AbsoluteBurstId": 119294563,
         "AzimuthAnxTime": 2199.6156266655,
         "AzimuthTime": "2024-09-06T05:27:32.724222Z",
         "BeginningDateTime": "2024-09-06T05:27:33.849702Z",
         "BurstId": 359502,
         "ByteOffset": 108891,
         "ContentDate": {
          "End": "2024-09-06T05:27:34.727911Z",
          "Start": "2024-09-06T05:27:33.849702Z"
         },
         "ContentType": "application/octet-stream",
         "DatatakeID": 444181,
         "EndingDateTime": "2024-09-06T05:27:34.727911Z",
         "Footprint": "geography'SRID=4326;POLYGON ((12.258601 46.421295, 11.684 46.499758, 11.150156 46.570046, 11.096085 46.366558, 11.629119 46.30082, 12.202845 46.226925, 12.258601 46.421295))'",
         "GeoFootprint": {
          "coordinates": [
           [
            [
             12.258601,
             46.421295
            ],
            [
             11.684,
             46.499758
            ],
            [
             11.150156,
             46.570046
            ],
            [
             11.096085,
             46.366558
            ],
            [
             11.629119,
             46.30082
            ],
            [
             12.202845,
             46.226925
            ],
            [
             12.258601,
             46.421295
            ]
           ]
          ],
          "type": "Polygon"
         },
         "Id": "389ffad1-3236-4b2e-b641-4463fe67b1c4",
         "Lines": 0,
         "LinesPerBurst": 1508,
         "Name": "S1A-SLC-20240906T052733-359502-IW1-VV-444181",
         "OperationalMode": "IW",
         "OrbitDirection": "DESCENDING",
         "ParentProductId": "13cf3878-7595-45e5-af48-d7dc6175ea71",
         "ParentProductName": "S1A_IW_SLC__1SDV_20240906T052730_20240906T052757_055540_06C715_1360.SAFE",
         "ParentProductType": "IW_SLC__1S",
         "PlatformSerialIdentifier": "A",
         "PolarisationChannels": "VV",
         "RelativeOrbitNumber": 168,
         "S3Path": "/eodata/Sentinel-1/SAR/IW_SLC__1S/2024/09/06/S1A_IW_SLC__1SDV_20240906T052730_20240906T052757_055540_06C715_1360.SAFE/measurement/s1a-iw1-slc-vv-20240906t052732-20240906t052757-055540-06c715-004.tiff",
         "SamplesPerBurst": 22990,
         "SwathIdentifier": "IW1"
        },
        {
         "@odata.mediaContentType": "application/octet-stream",
         "AbsoluteBurstId": 117415126,
         "AzimuthAnxTime": 2199.5975871092,
         "AzimuthTime": "2024-07-08T05:27:32.924788Z",
         "BeginningDateTime": "2024-07-08T05:27:34.060547Z",
         "BurstId": 359502,
         "ByteOffset": 108891,
         "ContentDate": {
          "End": "2024-07-08T05:27:34.938756Z",
          "Start": "2024-07-08T05:27:34.060547Z"
         },
         "ContentType": "application/octet-stream",
         "DatatakeID": 436135,
         "EndingDateTime": "2024-07-08T05:27:34.938756Z",
         "Footprint": "geography'SRID=4326;POLYGON ((12.258601 46.421295, 11.684 46.499758, 11.150156 46.570046, 11.096085 46.366558, 11.629119 46.30082, 12.202845 46.226925, 12.258601 46.421295))'",
         "GeoFootprint": {
          "coordinates": [
           [
            [
             12.258601,
             46.421295
            ],
            [
             11.684,
             46.499758
            ],
            [
             11.150156,
             46.570046
            ],
            [
             11.096085,
             46.366558
            ],
            [
             11.629119,
             46.30082
            ],
            [
             12.202845,
             46.226925
            ],
            [
             12.258601,
             46.421295
            ]
           ]
          ],
          "type": "Polygon"
         },
         "Id": "008be3d9-d207-48eb-9d48-f4c02eae37f9",
         "Lines": 0,
         "LinesPerBurst": 1508,
         "Name": "S1A-SLC-20240708T052734-359502-IW1-VV-436135",
         "OperationalMode": "IW",
         "OrbitDirection": "DESCENDING",
         "ParentProductId": "07605674-7bff-42ae-a3b7-504d26ad081f",
         "ParentProductName": "S1A_IW_SLC__1SDV_20240708T052731_20240708T052758_054665_06A7A7_FC77.SAFE",
         "ParentProductType": "IW_SLC__1S",
         "PlatformSerialIdentifier": "A",
         "PolarisationChannels": "VV",
         "RelativeOrbitNumber": 168,
         "S3Path": "/eodata/Sentinel-1/SAR/IW_SLC__1S/2024/07/08/S1A_IW_SLC__1SDV_20240708T052731_20240708T052758_054665_06A7A7_FC77.SAFE/measurement/s1a-iw1-slc-vv-20240708t052732-20240708t052758-054665-06a7a7-004.tiff",
         "SamplesPerBurst": 22849,
         "SwathIdentifier": "IW1"
        },
        {
         "@odata.mediaContentType": "application/octet-stream",
         "AbsoluteBurstId": 120046338,
         "AzimuthAnxTime": 2199.5923941092,
         "AzimuthTime": "2024-09-30T05:27:33.510949Z",
         "BeginningDateTime": "2024-09-30T05:27:34.650818Z",
         "BurstId": 359502,
         "ByteOffset": 108891,
         "ContentDate": {
          "End": "2024-09-30T05:27:35.529027Z",
          "Start": "2024-09-30T05:27:34.650818Z"
         },
         "ContentType": "application/octet-stream",
         "DatatakeID": 447729,
         "EndingDateTime": "2024-09-30T05:27:35.529027Z",
         "Footprint": "geography'SRID=4326;POLYGON ((12.258601 46.421295, 11.684 46.499758, 11.150156 46.570046, 11.096085 46.366558, 11.629119 46.30082, 12.202845 46.226925, 12.258601 46.421295))'",
         "GeoFootprint": {
          "coordinates": [
           [
            [
             12.258601,
             46.421295
            ],
            [
             11.684,
             46.499758
            ],
            [
             11.150156,
             46.570046
            ],
            [
             11.096085,
             46.366558
            ],
            [
             11.629119,
             46.30082
            ],
            [
             12.202845,
             46.226925
            ],
            [
             12.258601,
             46.421295
            ]
           ]
          ],
          "type": "Polygon"
         },
         "Id": "50d93471-0fe1-44c4-9c4c-7f11456bf5c2",
         "Lines": 0,
         "LinesPerBurst": 1508,
         "Name": "S1A-SLC-20240930T052734-359502-IW1-VV-447729",
         "OperationalMode": "IW",
         "OrbitDirection": "DESCENDING",
         "ParentProductId": "022892fe-b7a0-4c1d-a34c-bb3b117fb216",
         "ParentProductName": "S1A_IW_SLC__1SDV_20240930T052731_20240930T052758_055890_06D4F1_EBFD.SAFE",
         "ParentProductType": "IW_SLC__1S",
         "PlatformSerialIdentifier": "A",
         "PolarisationChannels": "VV",
         "RelativeOrbitNumber": 168,
         "S3Path": "/eodata/Sentinel-1/SAR/IW_SLC__1S/2024/09/30/S1A_IW_SLC__1SDV_20240930T052731_20240930T052758_055890_06D4F1_EBFD.SAFE/measurement/s1a-iw1-slc-vv-20240930t052733-20240930t052758-055890-06d4f1-004.tiff",
         "SamplesPerBurst": 22991,
         "SwathIdentifier": "IW1"
        },
        {
         "@odata.mediaContentType": "application/octet-stream",
         "AbsoluteBurstId": 121174000,
         "AzimuthAnxTime": 2199.6036111092,
         "AzimuthTime": "2024-11-05T05:27:33.489869Z",
         "BeginningDateTime": "2024-11-05T05:27:34.619462Z",
         "BurstId": 359502,
         "ByteOffset": 108891,
         "ContentDate": {
          "End": "2024-11-05T05:27:35.497671Z",
          "Start": "2024-11-05T05:27:34.619462Z"
         },
         "ContentType": "application/octet-stream",
         "DatatakeID": 453045,
         "EndingDateTime": "2024-11-05T05:27:35.497671Z",
         "Footprint": "geography'SRID=4326;POLYGON ((12.258601 46.421295, 11.684 46.499758, 11.150156 46.570046, 11.096085 46.366558, 11.629119 46.30082, 12.202845 46.226925, 12.258601 46.421295))'",
         "GeoFootprint": {
          "coordinates": [
           [
            [
             12.258601,
             46.421295
            ],
            [
             11.684,
             46.499758
            ],
            [
             11.150156,
             46.570046
            ],
            [
             11.096085,
             46.366558
            ],
            [
             11.629119,
             46.30082
            ],
            [
             12.202845,
             46.226925
            ],
            [
             12.258601,
             46.421295
            ]
           ]
          ],
          "type": "Polygon"
         },
         "Id": "8c4d1038-1f7b-4d3e-ac16-3959a59f4b69",
         "Lines": 0,
         "LinesPerBurst": 1508,
         "Name": "S1A-SLC-20241105T052734-359502-IW1-VV-453045",
         "OperationalMode": "IW",
         "OrbitDirection": "DESCENDING",
         "ParentProductId": "5ba0be89-dac7-451d-9a00-968894da280d",
         "ParentProductName": "S1A_IW_SLC__1SDV_20241105T052731_20241105T052758_056415_06E9B5_45F8.SAFE",
         "ParentProductType": "IW_SLC__1S",
         "PlatformSerialIdentifier": "A",
         "PolarisationChannels": "VV",
         "RelativeOrbitNumber": 168,
         "S3Path": "/eodata/Sentinel-1/SAR/IW_SLC__1S/2024/11/05/S1A_IW_SLC__1SDV_20241105T052731_20241105T052758_056415_06E9B5_45F8.SAFE/measurement/s1a-iw1-slc-vv-20241105t052733-20241105t052758-056415-06e9b5-004.tiff",
         "SamplesPerBurst": 22990,
         "SwathIdentifier": "IW1"
        },
        {
         "@odata.mediaContentType": "application/octet-stream",
         "AbsoluteBurstId": 120798113,
         "AzimuthAnxTime": 2199.6000425529,
         "AzimuthTime": "2024-10-24T05:27:33.157747Z",
         "BeginningDateTime": "2024-10-24T05:27:34.287339Z",
         "BurstId": 359502,
         "ByteOffset": 108891,
         "ContentDate": {
          "End": "2024-10-24T05:27:35.165548Z",
          "Start": "2024-10-24T05:27:34.287339Z"
         },
         "ContentType": "application/octet-stream",
         "DatatakeID": 451266,
         "EndingDateTime": "2024-10-24T05:27:35.165548Z",
         "Footprint": "geography'SRID=4326;POLYGON ((12.258601 46.421295, 11.684 46.499758, 11.150156 46.570046, 11.096085 46.366558, 11.629119 46.30082, 12.202845 46.226925, 12.258601 46.421295))'",
         "GeoFootprint": {
          "coordinates": [
           [
            [
             12.258601,
             46.421295
            ],
            [
             11.684,
             46.499758
            ],
            [
             11.150156,
             46.570046
            ],
            [
             11.096085,
             46.366558
            ],
            [
             11.629119,
             46.30082
            ],
            [
             12.202845,
             46.226925
            ],
            [
             12.258601,
             46.421295
            ]
           ]
          ],
          "type": "Polygon"
         },
         "Id": "3b0be0de-0679-4b1b-b1da-f12c14773285",
         "Lines": 0,
         "LinesPerBurst": 1508,
         "Name": "S1A-SLC-20241024T052734-359502-IW1-VV-451266",
         "OperationalMode": "IW",
         "OrbitDirection": "DESCENDING",
         "ParentProductId": "6d8dc2be-2dfe-4357-8ac1-6edd23618754",
         "ParentProductName": "S1A_IW_SLC__1SDV_20241024T052731_20241024T052758_056240_06E2C2_C1B4.SAFE",
         "ParentProductType": "IW_SLC__1S",
         "PlatformSerialIdentifier": "A",
         "PolarisationChannels": "VV",
         "RelativeOrbitNumber": 168,
         "S3Path": "/eodata/Sentinel-1/SAR/IW_SLC__1S/2024/10/24/S1A_IW_SLC__1SDV_20241024T052731_20241024T052758_056240_06E2C2_C1B4.SAFE/measurement/s1a-iw1-slc-vv-20241024t052733-20241024t052758-056240-06e2c2-004.tiff",
         "SamplesPerBurst": 22990,
         "SwathIdentifier": "IW1"
        },
        {
         "@odata.mediaContentType": "application/octet-stream",
         "AbsoluteBurstId": 121549887,
         "AzimuthAnxTime": 2199.6130221092,
         "AzimuthTime": "2024-11-17T05:27:33.252580Z",
         "BeginningDateTime": "2024-11-17T05:27:34.382187Z",
         "BurstId": 359502,
         "ByteOffset": 108891,
         "ContentDate": {
          "End": "2024-11-17T05:27:35.260396Z",
          "Start": "2024-11-17T05:27:34.382187Z"
         },
         "ContentType": "application/octet-stream",
         "DatatakeID": 454833,
         "EndingDateTime": "2024-11-17T05:27:35.260396Z",
         "Footprint": "geography'SRID=4326;POLYGON ((12.258601 46.421295, 11.684 46.499758, 11.150156 46.570046, 11.096085 46.366558, 11.629119 46.30082, 12.202845 46.226925, 12.258601 46.421295))'",
         "GeoFootprint": {
          "coordinates": [
           [
            [
             12.258601,
             46.421295
            ],
            [
             11.684,
             46.499758
            ],
            [
             11.150156,
             46.570046
            ],
            [
             11.096085,
             46.366558
            ],
            [
             11.629119,
             46.30082
            ],
            [
             12.202845,
             46.226925
            ],
            [
             12.258601,
             46.421295
            ]
           ]
          ],
          "type": "Polygon"
         },
         "Id": "8fd75d38-99c8-4cc7-b81a-56417b7e2274",
         "Lines": 0,
         "LinesPerBurst": 1508,
         "Name": "S1A-SLC-20241117T052734-359502-IW1-VV-454833",
         "OperationalMode": "IW",
         "OrbitDirection": "DESCENDING",
         "ParentProductId": "6c230d73-83b7-49b0-b1a8-a23567f2b33a",
         "ParentProductName": "S1A_IW_SLC__1SDV_20241117T052731_20241117T052758_056590_06F0B1_F9C8.SAFE",
         "ParentProductType": "IW_SLC__1S",
         "PlatformSerialIdentifier": "A",
         "PolarisationChannels": "VV",
         "RelativeOrbitNumber": 168,
         "S3Path": "/eodata/Sentinel-1/SAR/IW_SLC__1S/2024/11/17/S1A_IW_SLC__1SDV_20241117T052731_20241117T052758_056590_06F0B1_F9C8.SAFE/measurement/s1a-iw1-slc-vv-20241117t052733-20241117t052758-056590-06f0b1-004.tiff",
         "SamplesPerBurst": 22990,
         "SwathIdentifier": "IW1"
        },
        {
         "@odata.mediaContentType": "application/octet-stream",
         "AbsoluteBurstId": 122677550,
         "AzimuthAnxTime": 2199.6309945529,
         "AzimuthTime": "2024-12-23T05:27:30.198987Z",
         "BeginningDateTime": "2024-12-23T05:27:31.326539Z",
         "BurstId": 359502,
         "ByteOffset": 108891,
         "ContentDate": {
          "End": "2024-12-23T05:27:32.204748Z",
          "Start": "2024-12-23T05:27:31.326539Z"
         },
         "ContentType": "application/octet-stream",
         "DatatakeID": 460176,
         "EndingDateTime": "2024-12-23T05:27:32.204748Z",
         "Footprint": "geography'SRID=4326;POLYGON ((12.258601 46.421295, 11.684 46.499758, 11.150156 46.570046, 11.096085 46.366558, 11.629119 46.30082, 12.202845 46.226925, 12.258601 46.421295))'",
         "GeoFootprint": {
          "coordinates": [
           [
            [
             12.258601,
             46.421295
            ],
            [
             11.684,
             46.499758
            ],
            [
             11.150156,
             46.570046
            ],
            [
             11.096085,
             46.366558
            ],
            [
             11.629119,
             46.30082
            ],
            [
             12.202845,
             46.226925
            ],
            [
             12.258601,
             46.421295
            ]
           ]
          ],
          "type": "Polygon"
         },
         "Id": "d27b8871-bde5-4503-a5e6-18f840957fd2",
         "Lines": 0,
         "LinesPerBurst": 1508,
         "Name": "S1A-SLC-20241223T052731-359502-IW1-VV-460176",
         "OperationalMode": "IW",
         "OrbitDirection": "DESCENDING",
         "ParentProductId": "85c72f1d-71f8-4f75-a182-1e2644c11496",
         "ParentProductName": "S1A_IW_SLC__1SDV_20241223T052728_20241223T052755_057115_070590_864F.SAFE",
         "ParentProductType": "IW_SLC__1S",
         "PlatformSerialIdentifier": "A",
         "PolarisationChannels": "VV",
         "RelativeOrbitNumber": 168,
         "S3Path": "/eodata/Sentinel-1/SAR/IW_SLC__1S/2024/12/23/S1A_IW_SLC__1SDV_20241223T052728_20241223T052755_057115_070590_864F.SAFE/measurement/s1a-iw1-slc-vv-20241223t052730-20241223t052755-057115-070590-004.tiff",
         "SamplesPerBurst": 22990,
         "SwathIdentifier": "IW1"
        },
        {
         "@odata.mediaContentType": "application/octet-stream",
         "AbsoluteBurstId": 122301662,
         "AzimuthAnxTime": 2199.6318781092,
         "AzimuthTime": "2024-12-11T05:27:31.408474Z",
         "BeginningDateTime": "2024-12-11T05:27:32.536027Z",
         "BurstId": 359502,
         "ByteOffset": 108891,
         "ContentDate": {
          "End": "2024-12-11T05:27:33.414236Z",
          "Start": "2024-12-11T05:27:32.536027Z"
         },
         "ContentType": "application/octet-stream",
         "DatatakeID": 458373,
         "EndingDateTime": "2024-12-11T05:27:33.414236Z",
         "Footprint": "geography'SRID=4326;POLYGON ((12.258601 46.421295, 11.684 46.499758, 11.150156 46.570046, 11.096085 46.366558, 11.629119 46.30082, 12.202845 46.226925, 12.258601 46.421295))'",
         "GeoFootprint": {
          "coordinates": [
           [
            [
             12.258601,
             46.421295
            ],
            [
             11.684,
             46.499758
            ],
            [
             11.150156,
             46.570046
            ],
            [
             11.096085,
             46.366558
            ],
            [
             11.629119,
             46.30082
            ],
            [
             12.202845,
             46.226925
            ],
            [
             12.258601,
             46.421295
            ]
           ]
          ],
          "type": "Polygon"
         },
         "Id": "0bcc0ec9-11a9-4036-bbba-59cdaf20661b",
         "Lines": 0,
         "LinesPerBurst": 1508,
         "Name": "S1A-SLC-20241211T052732-359502-IW1-VV-458373",
         "OperationalMode": "IW",
         "OrbitDirection": "DESCENDING",
         "ParentProductId": "bdc6b0ff-905d-4ed2-a956-595d6f56d2d9",
         "ParentProductName": "S1A_IW_SLC__1SDV_20241211T052729_20241211T052756_056940_06FE85_F2C2.SAFE",
         "ParentProductType": "IW_SLC__1S",
         "PlatformSerialIdentifier": "A",
         "PolarisationChannels": "VV",
         "RelativeOrbitNumber": 168,
         "S3Path": "/eodata/Sentinel-1/SAR/IW_SLC__1S/2024/12/11/S1A_IW_SLC__1SDV_20241211T052729_20241211T052756_056940_06FE85_F2C2.SAFE/measurement/s1a-iw1-slc-vv-20241211t052731-20241211t052756-056940-06fe85-004.tiff",
         "SamplesPerBurst": 22990,
         "SwathIdentifier": "IW1"
        },
        {
         "@odata.mediaContentType": "application/octet-stream",
         "AbsoluteBurstId": 121925775,
         "AzimuthAnxTime": 2199.6297391092,
         "AzimuthTime": "2024-11-29T05:27:32.383552Z",
         "BeginningDateTime": "2024-11-29T05:27:33.509049Z",
         "BurstId": 359502,
         "ByteOffset": 108891,
         "ContentDate": {
          "End": "2024-11-29T05:27:34.387258Z",
          "Start": "2024-11-29T05:27:33.509049Z"
         },
         "ContentType": "application/octet-stream",
         "DatatakeID": 456621,
         "EndingDateTime": "2024-11-29T05:27:34.387258Z",
         "Footprint": "geography'SRID=4326;POLYGON ((12.258601 46.421295, 11.684 46.499758, 11.150156 46.570046, 11.096085 46.366558, 11.629119 46.30082, 12.202845 46.226925, 12.258601 46.421295))'",
         "GeoFootprint": {
          "coordinates": [
           [
            [
             12.258601,
             46.421295
            ],
            [
             11.684,
             46.499758
            ],
            [
             11.150156,
             46.570046
            ],
            [
             11.096085,
             46.366558
            ],
            [
             11.629119,
             46.30082
            ],
            [
             12.202845,
             46.226925
            ],
            [
             12.258601,
             46.421295
            ]
           ]
          ],
          "type": "Polygon"
         },
         "Id": "51110316-f849-47ce-98f0-ca2a00251ec8",
         "Lines": 0,
         "LinesPerBurst": 1508,
         "Name": "S1A-SLC-20241129T052733-359502-IW1-VV-456621",
         "OperationalMode": "IW",
         "OrbitDirection": "DESCENDING",
         "ParentProductId": "bcc71367-042d-4f79-b4a9-59a0f1957ef6",
         "ParentProductName": "S1A_IW_SLC__1SDV_20241129T052730_20241129T052757_056765_06F7AD_7A2E.SAFE",
         "ParentProductType": "IW_SLC__1S",
         "PlatformSerialIdentifier": "A",
         "PolarisationChannels": "VV",
         "RelativeOrbitNumber": 168,
         "S3Path": "/eodata/Sentinel-1/SAR/IW_SLC__1S/2024/11/29/S1A_IW_SLC__1SDV_20241129T052730_20241129T052757_056765_06F7AD_7A2E.SAFE/measurement/s1a-iw1-slc-vv-20241129t052732-20241129t052757-056765-06f7ad-004.tiff",
         "SamplesPerBurst": 22990,
         "SwathIdentifier": "IW1"
        },
        {
         "@odata.mediaContentType": "application/octet-stream",
         "AbsoluteBurstId": 120422225,
         "AzimuthAnxTime": 2199.5920031092,
         "AzimuthTime": "2024-10-12T05:27:33.471816Z",
         "BeginningDateTime": "2024-10-12T05:27:34.607575Z",
         "BurstId": 359502,
         "ByteOffset": 108891,
         "ContentDate": {
          "End": "2024-10-12T05:27:35.485784Z",
          "Start": "2024-10-12T05:27:34.607575Z"
         },
         "ContentType": "application/octet-stream",
         "DatatakeID": 449492,
         "EndingDateTime": "2024-10-12T05:27:35.485784Z",
         "Footprint": "geography'SRID=4326;POLYGON ((12.258601 46.421295, 11.684 46.499758, 11.150156 46.570046, 11.096085 46.366558, 11.629119 46.30082, 12.202845 46.226925, 12.258601 46.421295))'",
         "GeoFootprint": {
          "coordinates": [
           [
            [
             12.258601,
             46.421295
            ],
            [
             11.684,
             46.499758
            ],
            [
             11.150156,
             46.570046
            ],
            [
             11.096085,
             46.366558
            ],
            [
             11.629119,
             46.30082
            ],
            [
             12.202845,
             46.226925
            ],
            [
             12.258601,
             46.421295
            ]
           ]
          ],
          "type": "Polygon"
         },
         "Id": "1109607b-c77e-4034-ae89-860730df203a",
         "Lines": 0,
         "LinesPerBurst": 1508,
         "Name": "S1A-SLC-20241012T052734-359502-IW1-VV-449492",
         "OperationalMode": "IW",
         "OrbitDirection": "DESCENDING",
         "ParentProductId": "dc0c5073-dcc5-4153-b2b6-0d71ca0a350f",
         "ParentProductName": "S1A_IW_SLC__1SDV_20241012T052731_20241012T052758_056065_06DBD4_F910.SAFE",
         "ParentProductType": "IW_SLC__1S",
         "PlatformSerialIdentifier": "A",
         "PolarisationChannels": "VV",
         "RelativeOrbitNumber": 168,
         "S3Path": "/eodata/Sentinel-1/SAR/IW_SLC__1S/2024/10/12/S1A_IW_SLC__1SDV_20241012T052731_20241012T052758_056065_06DBD4_F910.SAFE/measurement/s1a-iw1-slc-vv-20241012t052733-20241012t052758-056065-06dbd4-004.tiff",
         "SamplesPerBurst": 22990,
         "SwathIdentifier": "IW1"
        }
       ]
      },
      "text/plain": [
       "<IPython.core.display.JSON object>"
      ]
     },
     "execution_count": 4,
     "metadata": {
      "application/json": {
       "expanded": false,
       "root": "root"
      }
     },
     "output_type": "execute_result"
    }
   ],
   "source": [
    "JSON(s1_bursts)"
   ]
  },
  {
   "cell_type": "markdown",
   "id": "cc7589a9-62ab-40d1-bca8-7a80e255ea0b",
   "metadata": {},
   "source": [
    "Show the Sentinel-1 bursts on a map"
   ]
  },
  {
   "cell_type": "code",
   "execution_count": 5,
   "id": "8effbcfb-8cb1-4cfc-87d4-c311b3a81316",
   "metadata": {},
   "outputs": [
    {
     "data": {
      "text/html": [
       "<div style=\"width:100%;\"><div style=\"position:relative;width:100%;height:0;padding-bottom:60%;\"><span style=\"color:#565656\">Make this Notebook Trusted to load map: File -> Trust Notebook</span><iframe srcdoc=\"&lt;!DOCTYPE html&gt;\n",
       "&lt;html&gt;\n",
       "&lt;head&gt;\n",
       "    \n",
       "    &lt;meta http-equiv=&quot;content-type&quot; content=&quot;text/html; charset=UTF-8&quot; /&gt;\n",
       "    &lt;script src=&quot;https://cdn.jsdelivr.net/npm/leaflet@1.9.3/dist/leaflet.js&quot;&gt;&lt;/script&gt;\n",
       "    &lt;script src=&quot;https://code.jquery.com/jquery-3.7.1.min.js&quot;&gt;&lt;/script&gt;\n",
       "    &lt;script src=&quot;https://cdn.jsdelivr.net/npm/bootstrap@5.2.2/dist/js/bootstrap.bundle.min.js&quot;&gt;&lt;/script&gt;\n",
       "    &lt;script src=&quot;https://cdnjs.cloudflare.com/ajax/libs/Leaflet.awesome-markers/2.0.2/leaflet.awesome-markers.js&quot;&gt;&lt;/script&gt;\n",
       "    &lt;link rel=&quot;stylesheet&quot; href=&quot;https://cdn.jsdelivr.net/npm/leaflet@1.9.3/dist/leaflet.css&quot;/&gt;\n",
       "    &lt;link rel=&quot;stylesheet&quot; href=&quot;https://cdn.jsdelivr.net/npm/bootstrap@5.2.2/dist/css/bootstrap.min.css&quot;/&gt;\n",
       "    &lt;link rel=&quot;stylesheet&quot; href=&quot;https://netdna.bootstrapcdn.com/bootstrap/3.0.0/css/bootstrap-glyphicons.css&quot;/&gt;\n",
       "    &lt;link rel=&quot;stylesheet&quot; href=&quot;https://cdn.jsdelivr.net/npm/@fortawesome/fontawesome-free@6.2.0/css/all.min.css&quot;/&gt;\n",
       "    &lt;link rel=&quot;stylesheet&quot; href=&quot;https://cdnjs.cloudflare.com/ajax/libs/Leaflet.awesome-markers/2.0.2/leaflet.awesome-markers.css&quot;/&gt;\n",
       "    &lt;link rel=&quot;stylesheet&quot; href=&quot;https://cdn.jsdelivr.net/gh/python-visualization/folium/folium/templates/leaflet.awesome.rotate.min.css&quot;/&gt;\n",
       "    \n",
       "            &lt;meta name=&quot;viewport&quot; content=&quot;width=device-width,\n",
       "                initial-scale=1.0, maximum-scale=1.0, user-scalable=no&quot; /&gt;\n",
       "            &lt;style&gt;\n",
       "                #map_8c787a8acdde11127ba42ed6d9f246b4 {\n",
       "                    position: relative;\n",
       "                    width: 100.0%;\n",
       "                    height: 100.0%;\n",
       "                    left: 0.0%;\n",
       "                    top: 0.0%;\n",
       "                }\n",
       "                .leaflet-container { font-size: 1rem; }\n",
       "            &lt;/style&gt;\n",
       "\n",
       "            &lt;style&gt;html, body {\n",
       "                width: 100%;\n",
       "                height: 100%;\n",
       "                margin: 0;\n",
       "                padding: 0;\n",
       "            }\n",
       "            &lt;/style&gt;\n",
       "\n",
       "            &lt;style&gt;#map {\n",
       "                position:absolute;\n",
       "                top:0;\n",
       "                bottom:0;\n",
       "                right:0;\n",
       "                left:0;\n",
       "                }\n",
       "            &lt;/style&gt;\n",
       "\n",
       "            &lt;script&gt;\n",
       "                L_NO_TOUCH = false;\n",
       "                L_DISABLE_3D = false;\n",
       "            &lt;/script&gt;\n",
       "\n",
       "        \n",
       "    &lt;script src=&quot;https://cdn.jsdelivr.net/npm/leaflet.control.layers.tree@1.1.0/L.Control.Layers.Tree.min.js&quot;&gt;&lt;/script&gt;\n",
       "    &lt;link rel=&quot;stylesheet&quot; href=&quot;https://cdn.jsdelivr.net/npm/leaflet.control.layers.tree@1.1.0/L.Control.Layers.Tree.min.css&quot;/&gt;\n",
       "&lt;/head&gt;\n",
       "&lt;body&gt;\n",
       "    \n",
       "    \n",
       "            &lt;div class=&quot;folium-map&quot; id=&quot;map_8c787a8acdde11127ba42ed6d9f246b4&quot; &gt;&lt;/div&gt;\n",
       "        \n",
       "&lt;/body&gt;\n",
       "&lt;script&gt;\n",
       "    \n",
       "    \n",
       "            var map_8c787a8acdde11127ba42ed6d9f246b4 = L.map(\n",
       "                &quot;map_8c787a8acdde11127ba42ed6d9f246b4&quot;,\n",
       "                {\n",
       "                    center: [46.4983675, 11.5088875],\n",
       "                    crs: L.CRS.EPSG3857,\n",
       "                    ...{\n",
       "  &quot;zoom&quot;: 8,\n",
       "  &quot;zoomControl&quot;: true,\n",
       "  &quot;preferCanvas&quot;: false,\n",
       "}\n",
       "\n",
       "                }\n",
       "            );\n",
       "\n",
       "            \n",
       "\n",
       "        \n",
       "    \n",
       "            var tile_layer_7a2e5beb20d50e66f4ab7046d4639f5e = L.tileLayer(\n",
       "                &quot;https://tile.openstreetmap.org/{z}/{x}/{y}.png&quot;,\n",
       "                {\n",
       "  &quot;minZoom&quot;: 0,\n",
       "  &quot;maxZoom&quot;: 19,\n",
       "  &quot;maxNativeZoom&quot;: 19,\n",
       "  &quot;noWrap&quot;: false,\n",
       "  &quot;attribution&quot;: &quot;\\u0026copy; \\u003ca href=\\&quot;https://www.openstreetmap.org/copyright\\&quot;\\u003eOpenStreetMap\\u003c/a\\u003e contributors&quot;,\n",
       "  &quot;subdomains&quot;: &quot;abc&quot;,\n",
       "  &quot;detectRetina&quot;: false,\n",
       "  &quot;tms&quot;: false,\n",
       "  &quot;opacity&quot;: 1,\n",
       "}\n",
       "\n",
       "            );\n",
       "        \n",
       "    \n",
       "            tile_layer_7a2e5beb20d50e66f4ab7046d4639f5e.addTo(map_8c787a8acdde11127ba42ed6d9f246b4);\n",
       "        \n",
       "    \n",
       "            var polygon_15134e14613309f6711a3abdd3c5be7b = L.polygon(\n",
       "                [[46.47, 11.28], [46.52, 11.28], [46.52, 11.44], [46.47, 11.44], [46.47, 11.28]],\n",
       "                {&quot;bubblingMouseEvents&quot;: true, &quot;color&quot;: &quot;blue&quot;, &quot;dashArray&quot;: null, &quot;dashOffset&quot;: null, &quot;fill&quot;: true, &quot;fillColor&quot;: &quot;blue&quot;, &quot;fillOpacity&quot;: 0.4, &quot;fillRule&quot;: &quot;evenodd&quot;, &quot;lineCap&quot;: &quot;round&quot;, &quot;lineJoin&quot;: &quot;round&quot;, &quot;noClip&quot;: false, &quot;opacity&quot;: 1.0, &quot;smoothFactor&quot;: 1.0, &quot;stroke&quot;: true, &quot;weight&quot;: 3}\n",
       "            ).addTo(map_8c787a8acdde11127ba42ed6d9f246b4);\n",
       "        \n",
       "    \n",
       "            var polygon_31476678b3bb8a75f5a1aee11c6878d0 = L.polygon(\n",
       "                [[46.634916, 12.089482], [46.69639, 11.563369], [46.753309, 11.056374], [46.548522, 11.010245], [46.496209, 11.516373], [46.439349, 12.041638], [46.634916, 12.089482]],\n",
       "                {&quot;bubblingMouseEvents&quot;: true, &quot;color&quot;: &quot;red&quot;, &quot;dashArray&quot;: null, &quot;dashOffset&quot;: null, &quot;fill&quot;: false, &quot;fillColor&quot;: &quot;red&quot;, &quot;fillOpacity&quot;: 0.2, &quot;fillRule&quot;: &quot;evenodd&quot;, &quot;lineCap&quot;: &quot;round&quot;, &quot;lineJoin&quot;: &quot;round&quot;, &quot;noClip&quot;: false, &quot;opacity&quot;: 1.0, &quot;smoothFactor&quot;: 1.0, &quot;stroke&quot;: true, &quot;weight&quot;: 3}\n",
       "            ).addTo(map_8c787a8acdde11127ba42ed6d9f246b4);\n",
       "        \n",
       "    \n",
       "            var polygon_0cd6db6344f47b81c661e926917ba7f2 = L.polygon(\n",
       "                [[46.469577, 12.049022], [46.531064, 11.524545], [46.588009, 11.019128], [46.383218, 10.97311], [46.330878, 11.477674], [46.274004, 12.001315], [46.469577, 12.049022]],\n",
       "                {&quot;bubblingMouseEvents&quot;: true, &quot;color&quot;: &quot;red&quot;, &quot;dashArray&quot;: null, &quot;dashOffset&quot;: null, &quot;fill&quot;: false, &quot;fillColor&quot;: &quot;red&quot;, &quot;fillOpacity&quot;: 0.2, &quot;fillRule&quot;: &quot;evenodd&quot;, &quot;lineCap&quot;: &quot;round&quot;, &quot;lineJoin&quot;: &quot;round&quot;, &quot;noClip&quot;: false, &quot;opacity&quot;: 1.0, &quot;smoothFactor&quot;: 1.0, &quot;stroke&quot;: true, &quot;weight&quot;: 3}\n",
       "            ).addTo(map_8c787a8acdde11127ba42ed6d9f246b4);\n",
       "        \n",
       "    \n",
       "            var polygon_f376efe3b97517fd9d7c9f369492bf44 = L.polygon(\n",
       "                [[46.586499, 12.306189], [46.66502, 11.729773], [46.735345, 11.194249], [46.531867, 11.139994], [46.466093, 11.674696], [46.392142, 12.250223], [46.586499, 12.306189]],\n",
       "                {&quot;bubblingMouseEvents&quot;: true, &quot;color&quot;: &quot;red&quot;, &quot;dashArray&quot;: null, &quot;dashOffset&quot;: null, &quot;fill&quot;: false, &quot;fillColor&quot;: &quot;red&quot;, &quot;fillOpacity&quot;: 0.2, &quot;fillRule&quot;: &quot;evenodd&quot;, &quot;lineCap&quot;: &quot;round&quot;, &quot;lineJoin&quot;: &quot;round&quot;, &quot;noClip&quot;: false, &quot;opacity&quot;: 1.0, &quot;smoothFactor&quot;: 1.0, &quot;stroke&quot;: true, &quot;weight&quot;: 3}\n",
       "            ).addTo(map_8c787a8acdde11127ba42ed6d9f246b4);\n",
       "        \n",
       "    \n",
       "            var polygon_7d987c728a83b5142797cd6eabaabd0e = L.polygon(\n",
       "                [[46.421295, 12.258601], [46.499758, 11.684], [46.570046, 11.150156], [46.366558, 11.096085], [46.30082, 11.629119], [46.226925, 12.202845], [46.421295, 12.258601]],\n",
       "                {&quot;bubblingMouseEvents&quot;: true, &quot;color&quot;: &quot;red&quot;, &quot;dashArray&quot;: null, &quot;dashOffset&quot;: null, &quot;fill&quot;: false, &quot;fillColor&quot;: &quot;red&quot;, &quot;fillOpacity&quot;: 0.2, &quot;fillRule&quot;: &quot;evenodd&quot;, &quot;lineCap&quot;: &quot;round&quot;, &quot;lineJoin&quot;: &quot;round&quot;, &quot;noClip&quot;: false, &quot;opacity&quot;: 1.0, &quot;smoothFactor&quot;: 1.0, &quot;stroke&quot;: true, &quot;weight&quot;: 3}\n",
       "            ).addTo(map_8c787a8acdde11127ba42ed6d9f246b4);\n",
       "        \n",
       "    \n",
       "            var polygon_9b2ade5f2bf5e64a3be98ebb5e5f269a = L.polygon(\n",
       "                [[46.276581, 10.804564], [46.34791, 11.402422], [46.412202, 11.967742], [46.604472, 11.920848], [46.535976, 11.354552], [46.460429, 10.755691], [46.276581, 10.804564]],\n",
       "                {&quot;bubblingMouseEvents&quot;: true, &quot;color&quot;: &quot;red&quot;, &quot;dashArray&quot;: null, &quot;dashOffset&quot;: null, &quot;fill&quot;: false, &quot;fillColor&quot;: &quot;red&quot;, &quot;fillOpacity&quot;: 0.2, &quot;fillRule&quot;: &quot;evenodd&quot;, &quot;lineCap&quot;: &quot;round&quot;, &quot;lineJoin&quot;: &quot;round&quot;, &quot;noClip&quot;: false, &quot;opacity&quot;: 1.0, &quot;smoothFactor&quot;: 1.0, &quot;stroke&quot;: true, &quot;weight&quot;: 3}\n",
       "            ).addTo(map_8c787a8acdde11127ba42ed6d9f246b4);\n",
       "        \n",
       "    \n",
       "            var polygon_be174fa3247e9d7b9d215dff75b9f62e = L.polygon(\n",
       "                [[46.441904, 10.760624], [46.513254, 11.360345], [46.577547, 11.927424], [46.76981, 11.880394], [46.701311, 11.312324], [46.625741, 10.711586], [46.441904, 10.760624]],\n",
       "                {&quot;bubblingMouseEvents&quot;: true, &quot;color&quot;: &quot;red&quot;, &quot;dashArray&quot;: null, &quot;dashOffset&quot;: null, &quot;fill&quot;: false, &quot;fillColor&quot;: &quot;red&quot;, &quot;fillOpacity&quot;: 0.2, &quot;fillRule&quot;: &quot;evenodd&quot;, &quot;lineCap&quot;: &quot;round&quot;, &quot;lineJoin&quot;: &quot;round&quot;, &quot;noClip&quot;: false, &quot;opacity&quot;: 1.0, &quot;smoothFactor&quot;: 1.0, &quot;stroke&quot;: true, &quot;weight&quot;: 3}\n",
       "            ).addTo(map_8c787a8acdde11127ba42ed6d9f246b4);\n",
       "        \n",
       "    \n",
       "            L.control.layers.tree(\n",
       "                null,\n",
       "                {\n",
       "  &quot;label&quot;: &quot;Burst Footprints&quot;,\n",
       "  &quot;selectAllCheckbox&quot;: &quot;Un/select all&quot;,\n",
       "  &quot;children&quot;: [\n",
       "{\n",
       "  &quot;label&quot;: &quot;Track 95&quot;,\n",
       "  &quot;selectAllCheckbox&quot;: true,\n",
       "  &quot;children&quot;: [\n",
       "{\n",
       "  &quot;label&quot;: &quot;BurstId: 202703, IW3&quot;,\n",
       "  &quot;layer&quot;: polygon_31476678b3bb8a75f5a1aee11c6878d0,\n",
       "},\n",
       "{\n",
       "  &quot;label&quot;: &quot;BurstId: 202704, IW3&quot;,\n",
       "  &quot;layer&quot;: polygon_0cd6db6344f47b81c661e926917ba7f2,\n",
       "},\n",
       "],\n",
       "},\n",
       "{\n",
       "  &quot;label&quot;: &quot;Track 168&quot;,\n",
       "  &quot;selectAllCheckbox&quot;: true,\n",
       "  &quot;children&quot;: [\n",
       "{\n",
       "  &quot;label&quot;: &quot;BurstId: 359501, IW1&quot;,\n",
       "  &quot;layer&quot;: polygon_f376efe3b97517fd9d7c9f369492bf44,\n",
       "},\n",
       "{\n",
       "  &quot;label&quot;: &quot;BurstId: 359502, IW1&quot;,\n",
       "  &quot;layer&quot;: polygon_7d987c728a83b5142797cd6eabaabd0e,\n",
       "},\n",
       "],\n",
       "},\n",
       "{\n",
       "  &quot;label&quot;: &quot;Track 117&quot;,\n",
       "  &quot;selectAllCheckbox&quot;: true,\n",
       "  &quot;children&quot;: [\n",
       "{\n",
       "  &quot;label&quot;: &quot;BurstId: 249433, IW2&quot;,\n",
       "  &quot;layer&quot;: polygon_9b2ade5f2bf5e64a3be98ebb5e5f269a,\n",
       "},\n",
       "{\n",
       "  &quot;label&quot;: &quot;BurstId: 249434, IW2&quot;,\n",
       "  &quot;layer&quot;: polygon_be174fa3247e9d7b9d215dff75b9f62e,\n",
       "},\n",
       "],\n",
       "},\n",
       "],\n",
       "},\n",
       "                {\n",
       "  &quot;closedSymbol&quot;: &quot;+&quot;,\n",
       "  &quot;openedSymbol&quot;: &quot;-&quot;,\n",
       "  &quot;spaceSymbol&quot;: &quot;\\u0026nbsp;&quot;,\n",
       "  &quot;selectorBack&quot;: false,\n",
       "  &quot;namedToggle&quot;: false,\n",
       "  &quot;collapseAll&quot;: &quot;&quot;,\n",
       "  &quot;expandAll&quot;: &quot;&quot;,\n",
       "  &quot;labelIsSelector&quot;: &quot;both&quot;,\n",
       "}\n",
       "            ).addTo(map_8c787a8acdde11127ba42ed6d9f246b4);\n",
       "        \n",
       "&lt;/script&gt;\n",
       "&lt;/html&gt;\" style=\"position:absolute;width:100%;height:100%;left:0;top:0;border:none !important;\" allowfullscreen webkitallowfullscreen mozallowfullscreen></iframe></div></div>"
      ],
      "text/plain": [
       "<folium.folium.Map at 0x7f0ea557dfd0>"
      ]
     },
     "execution_count": 5,
     "metadata": {},
     "output_type": "execute_result"
    }
   ],
   "source": [
    "m = s1_burst_lib.show_bursts(s1_bursts, aoi)\n",
    "m"
   ]
  },
  {
   "cell_type": "markdown",
   "id": "086fd9b4-8fcb-4314-a069-416c1386c750",
   "metadata": {},
   "source": [
    "Show acquisition calendar"
   ]
  },
  {
   "cell_type": "code",
   "execution_count": 6,
   "id": "836c150a-eabe-47f4-8103-3683a4c0a969",
   "metadata": {},
   "outputs": [
    {
     "data": {
      "image/png": "[encoded data removed]",
      "text/plain": [
       "<Figure size 400x150 with 1 Axes>"
      ]
     },
     "metadata": {},
     "output_type": "display_data"
    },
    {
     "data": {
      "image/png": "[encoded data removed]",
      "text/plain": [
       "<Figure size 400x200 with 1 Axes>"
      ]
     },
     "metadata": {},
     "output_type": "display_data"
    },
    {
     "data": {
      "image/png": "[encoded data removed]",
      "text/plain": [
       "<Figure size 400x200 with 1 Axes>"
      ]
     },
     "metadata": {},
     "output_type": "display_data"
    },
    {
     "data": {
      "image/png": "[encoded data removed]",
      "text/plain": [
       "<Figure size 400x200 with 1 Axes>"
      ]
     },
     "metadata": {},
     "output_type": "display_data"
    },
    {
     "data": {
      "image/png": "[encoded data removed]",
      "text/plain": [
       "<Figure size 400x200 with 1 Axes>"
      ]
     },
     "metadata": {},
     "output_type": "display_data"
    },
    {
     "data": {
      "image/png": "[encoded data removed]",
      "text/plain": [
       "<Figure size 400x200 with 1 Axes>"
      ]
     },
     "metadata": {},
     "output_type": "display_data"
    },
    {
     "data": {
      "image/png": "[encoded data removed]",
      "text/plain": [
       "<Figure size 400x200 with 1 Axes>"
      ]
     },
     "metadata": {},
     "output_type": "display_data"
    },
    {
     "data": {
      "image/png": "[encoded data removed]",
      "text/plain": [
       "<Figure size 400x200 with 1 Axes>"
      ]
     },
     "metadata": {},
     "output_type": "display_data"
    },
    {
     "data": {
      "image/png": "[encoded data removed]",
      "text/plain": [
       "<Figure size 400x200 with 1 Axes>"
      ]
     },
     "metadata": {},
     "output_type": "display_data"
    },
    {
     "data": {
      "image/png": "[encoded data removed]",
      "text/plain": [
       "<Figure size 400x200 with 1 Axes>"
      ]
     },
     "metadata": {},
     "output_type": "display_data"
    },
    {
     "data": {
      "image/png": "[encoded data removed]",
      "text/plain": [
       "<Figure size 400x200 with 1 Axes>"
      ]
     },
     "metadata": {},
     "output_type": "display_data"
    },
    {
     "data": {
      "image/png": "[encoded data removed]",
      "text/plain": [
       "<Figure size 400x200 with 1 Axes>"
      ]
     },
     "metadata": {},
     "output_type": "display_data"
    },
    {
     "data": {
      "image/png": "[encoded data removed]",
      "text/plain": [
       "<Figure size 400x200 with 1 Axes>"
      ]
     },
     "metadata": {},
     "output_type": "display_data"
    }
   ],
   "source": [
    "s1_burst_lib.show_acquisition_calendar(s1_bursts)"
   ]
  },
  {
   "cell_type": "markdown",
   "id": "65c6b893-7bd0-4afd-ad6c-5ed4494c194c",
   "metadata": {},
   "source": [
    "Select bursts"
   ]
  },
  {
   "cell_type": "code",
   "execution_count": 8,
   "id": "868ce84c-6250-4f24-b582-176cfd1a317a",
   "metadata": {},
   "outputs": [],
   "source": [
    "sub_swath_identifier = \"iw2\" # e.g. \"iw2\"\n",
    "burst_id = \"249433\" # e.g. \"249434\""
   ]
  },
  {
   "cell_type": "markdown",
   "id": "8cbfe378-5d65-4eab-8e75-aa1a8931c8a7",
   "metadata": {},
   "source": [
    "## 3. Define InSAR pair list"
   ]
  },
  {
   "cell_type": "markdown",
   "id": "207c3664-780d-48c0-9ea6-162d6e568fde",
   "metadata": {},
   "source": [
    "Insert your [CDSE S3 credentials](https://eodata-s3keysmanager.dataspace.copernicus.eu/panel/s3-credentials)"
   ]
  },
  {
   "cell_type": "code",
   "execution_count": 9,
   "id": "d4f06c8b-c824-4773-bf75-86bc938731f7",
   "metadata": {},
   "outputs": [],
   "source": [
    "# CDSE_ACCESS_KEY = \"\"\n",
    "# CDSE_SECRET_KEY = \"\"\n",
    "\n",
    "with open(\"../../CDSE_SECRET\", \"r\") as file:\n",
    "    lines = file.readlines()\n",
    "CDSE_ACCESS_KEY = lines[0].strip().split(\": \")[1]\n",
    "CDSE_SECRET_KEY = lines[1].strip().split(\": \")[1]"
   ]
  },
  {
   "cell_type": "markdown",
   "id": "1b5c8cf7-b26e-42f5-8265-6992c6dfee40",
   "metadata": {},
   "source": [
    "Download all the metadata of the selected data"
   ]
  },
  {
   "cell_type": "code",
   "execution_count": 10,
   "id": "89ef4bd4-6403-4bde-b64e-6668b536477d",
   "metadata": {},
   "outputs": [
    {
     "data": {
      "text/plain": [
       "['S1A_IW_SLC__1SDV_20240306T170721_20240306T170748_052864_0665F0_9D32.SAFE',\n",
       " 'S1A_IW_SLC__1SDV_20240223T170721_20240223T170748_052689_065FFC_3817.SAFE',\n",
       " 'S1A_IW_SLC__1SDV_20240318T170721_20240318T170748_053039_066C27_017D.SAFE',\n",
       " 'S1A_IW_SLC__1SDV_20240106T170722_20240106T170749_051989_064848_8293.SAFE',\n",
       " 'S1A_IW_SLC__1SDV_20240118T170721_20240118T170748_052164_064E38_D3B2.SAFE',\n",
       " 'S1A_IW_SLC__1SDV_20240211T170721_20240211T170748_052514_065A09_E4A5.SAFE',\n",
       " 'S1A_IW_SLC__1SDV_20240130T170721_20240130T170748_052339_065425_776A.SAFE',\n",
       " 'S1A_IW_SLC__1SDV_20240330T170722_20240330T170749_053214_0672CD_0A27.SAFE',\n",
       " 'S1A_IW_SLC__1SDV_20240423T170722_20240423T170749_053564_068090_844F.SAFE',\n",
       " 'S1A_IW_SLC__1SDV_20240505T170722_20240505T170749_053739_068777_4560.SAFE',\n",
       " 'S1A_IW_SLC__1SDV_20240517T170722_20240517T170749_053914_068D9B_80EB.SAFE',\n",
       " 'S1A_IW_SLC__1SDV_20240529T170722_20240529T170749_054089_0693B0_613D.SAFE',\n",
       " 'S1A_IW_SLC__1SDV_20240610T170721_20240610T170748_054264_0699BB_8D56.SAFE',\n",
       " 'S1A_IW_SLC__1SDV_20240411T170721_20240411T170747_053389_0679AE_5A2F.SAFE',\n",
       " 'S1A_IW_SLC__1SDV_20240622T170721_20240622T170748_054439_069FC6_BC60.SAFE',\n",
       " 'S1A_IW_SLC__1SDV_20240704T170720_20240704T170747_054614_06A5E1_DA7D.SAFE',\n",
       " 'S1A_IW_SLC__1SDV_20240809T170720_20240809T170746_055139_06B839_A6A0.SAFE',\n",
       " 'S1A_IW_SLC__1SDV_20240902T170720_20240902T170747_055489_06C515_EEB7.SAFE',\n",
       " 'S1A_IW_SLC__1SDV_20240926T170721_20240926T170748_055839_06D2ED_BD8F.SAFE',\n",
       " 'S1A_IW_SLC__1SDV_20240716T170720_20240716T170747_054789_06ABED_BBFD.SAFE',\n",
       " 'S1A_IW_SLC__1SDV_20240914T170721_20240914T170748_055664_06CBFF_A704.SAFE',\n",
       " 'S1A_IW_SLC__1SDV_20240821T170720_20240821T170747_055314_06BE95_CC41.SAFE',\n",
       " 'S1A_IW_SLC__1SDV_20240728T170719_20240728T170746_054964_06B20A_1E10.SAFE',\n",
       " 'S1A_IW_SLC__1SDV_20241231T170717_20241231T170744_057239_070A6D_31B7.SAFE',\n",
       " 'S1A_IW_SLC__1SDV_20241008T170722_20241008T170749_056014_06D9D3_B5FB.SAFE',\n",
       " 'S1A_IW_SLC__1SDV_20241113T170721_20241113T170748_056539_06EEA8_D74F.SAFE',\n",
       " 'S1A_IW_SLC__1SDV_20241207T170719_20241207T170746_056889_06FC84_9C13.SAFE',\n",
       " 'S1A_IW_SLC__1SDV_20241101T170721_20241101T170748_056364_06E7B1_DB51.SAFE',\n",
       " 'S1A_IW_SLC__1SDV_20241020T170721_20241020T170748_056189_06E0BF_58BA.SAFE',\n",
       " 'S1A_IW_SLC__1SDV_20241125T170720_20241125T170747_056714_06F5A6_8E5C.SAFE',\n",
       " 'S1A_IW_SLC__1SDV_20241219T170718_20241219T170745_057064_070387_3CFE.SAFE']"
      ]
     },
     "execution_count": 10,
     "metadata": {},
     "output_type": "execute_result"
    }
   ],
   "source": [
    "s1_fileList = s1_burst_lib.download_s1metadata(s1_bursts, sub_swath_identifier, burst_id, CDSE_ACCESS_KEY, CDSE_SECRET_KEY)\n",
    "s1_fileList"
   ]
  },
  {
   "cell_type": "markdown",
   "id": "0302de3f-2f65-468f-8696-85530caeea3f",
   "metadata": {},
   "source": [
    "### 3.1 InSAR pair list for SBAS configuration"
   ]
  },
  {
   "cell_type": "code",
   "execution_count": 11,
   "id": "1a4784f3-dac9-4109-a489-87839aa593ee",
   "metadata": {},
   "outputs": [
    {
     "name": "stderr",
     "output_type": "stream",
     "text": [
      "117981 [main] INFO hdf.hdflib.HDFLibrary - HDF4 library: \n",
      "117982 [main] INFO hdf.hdflib.HDFLibrary -  successfully loaded.\n",
      "117986 [main] INFO hdf.hdf5lib.H5 - HDF5 library: \n",
      "117986 [main] INFO hdf.hdf5lib.H5 -  successfully loaded.\n",
      "INFO: eu.esa.sar.commons.io.ImageIOFile: Using FileCacheImageInputStream\n",
      "INFO: eu.esa.sar.commons.io.ImageIOFile: Using FileCacheImageInputStream\n",
      "INFO: eu.esa.sar.commons.io.ImageIOFile: Using FileCacheImageInputStream\n",
      "INFO: eu.esa.sar.commons.io.ImageIOFile: Using FileCacheImageInputStream\n",
      "INFO: eu.esa.sar.commons.io.ImageIOFile: Using FileCacheImageInputStream\n",
      "INFO: eu.esa.sar.commons.io.ImageIOFile: Using FileCacheImageInputStream\n",
      "INFO: eu.esa.sar.commons.io.ImageIOFile: Using FileCacheImageInputStream\n",
      "INFO: eu.esa.sar.commons.io.ImageIOFile: Using FileCacheImageInputStream\n",
      "INFO: eu.esa.sar.commons.io.ImageIOFile: Using FileCacheImageInputStream\n",
      "INFO: eu.esa.sar.commons.io.ImageIOFile: Using FileCacheImageInputStream\n",
      "INFO: eu.esa.sar.commons.io.ImageIOFile: Using FileCacheImageInputStream\n",
      "WARNING: org.jlinda.core.Baseline: Max. error bperp modeling at 3D datapoints: 14.661354799788104m\n",
      "WARNING: org.jlinda.core.Baseline: Max. error bperp modeling at 3D datapoints: 14.660030281425946m\n",
      "WARNING: org.jlinda.core.Baseline: Max. error bperp modeling at 3D datapoints: 11.671910101484873m\n",
      "WARNING: org.jlinda.core.Baseline: Max. error bperp modeling at 3D datapoints: 5.29081060666451m\n",
      "WARNING: org.jlinda.core.Baseline: Max. error bperp modeling at 3D datapoints: 8.250429480939061m\n",
      "WARNING: org.jlinda.core.Baseline: Max. error bperp modeling at 3D datapoints: 8.489134768226995m\n",
      "WARNING: org.jlinda.core.Baseline: Max. error bperp modeling at 3D datapoints: 25.284204172254952m\n",
      "WARNING: org.jlinda.core.Baseline: Max. error bperp modeling at 3D datapoints: 7.925993941990979m\n",
      "WARNING: org.jlinda.core.Baseline: Max. error bperp modeling at 3D datapoints: 11.675109559550966m\n",
      "WARNING: org.jlinda.core.Baseline: Max. error bperp modeling at 3D datapoints: 9.414279121443048m\n",
      "WARNING: org.jlinda.core.Baseline: Max. error bperp modeling at 3D datapoints: 7.926562494385624m\n",
      "WARNING: org.jlinda.core.Baseline: Max. error bperp modeling at 3D datapoints: 8.25114826248668m\n",
      "WARNING: org.jlinda.core.Baseline: Max. error bperp modeling at 3D datapoints: 2.490918685989695m\n",
      "WARNING: org.jlinda.core.Baseline: Max. error bperp modeling at 3D datapoints: 8.488215636328349m\n",
      "WARNING: org.jlinda.core.Baseline: Max. error bperp modeling at 3D datapoints: 2.489961498796676m\n",
      "WARNING: org.jlinda.core.Baseline: Max. error bperp modeling at 3D datapoints: 25.281639770003792m\n",
      "WARNING: org.jlinda.core.Baseline: Max. error bperp modeling at 3D datapoints: 5.291508597686797m\n",
      "WARNING: org.jlinda.core.Baseline: Max. error bperp modeling at 3D datapoints: 9.482903335306942m\n",
      "WARNING: org.jlinda.core.Baseline: Max. error bperp modeling at 3D datapoints: 14.661354799788104m\n",
      "WARNING: org.jlinda.core.Baseline: Max. error bperp modeling at 3D datapoints: 14.660030281425946m\n",
      "WARNING: org.jlinda.core.Baseline: Max. error bperp modeling at 3D datapoints: 11.671910101484873m\n",
      "WARNING: org.jlinda.core.Baseline: Max. error bperp modeling at 3D datapoints: 5.29081060666451m\n",
      "WARNING: org.jlinda.core.Baseline: Max. error bperp modeling at 3D datapoints: 8.250429480939061m\n",
      "WARNING: org.jlinda.core.Baseline: Max. error bperp modeling at 3D datapoints: 8.489134768226995m\n",
      "WARNING: org.jlinda.core.Baseline: Max. error bperp modeling at 3D datapoints: 25.284204172254952m\n",
      "WARNING: org.jlinda.core.Baseline: Max. error bperp modeling at 3D datapoints: 7.925993941990979m\n",
      "WARNING: org.jlinda.core.Baseline: Max. error bperp modeling at 3D datapoints: 11.675109559550966m\n",
      "WARNING: org.jlinda.core.Baseline: Max. error bperp modeling at 3D datapoints: 9.414279121443048m\n",
      "WARNING: org.jlinda.core.Baseline: Max. error bperp modeling at 3D datapoints: 7.926562494385624m\n",
      "WARNING: org.jlinda.core.Baseline: Max. error bperp modeling at 3D datapoints: 8.25114826248668m\n",
      "WARNING: org.jlinda.core.Baseline: Max. error bperp modeling at 3D datapoints: 2.490918685989695m\n",
      "WARNING: org.jlinda.core.Baseline: Max. error bperp modeling at 3D datapoints: 8.488215636328349m\n",
      "WARNING: org.jlinda.core.Baseline: Max. error bperp modeling at 3D datapoints: 2.489961498796676m\n",
      "WARNING: org.jlinda.core.Baseline: Max. error bperp modeling at 3D datapoints: 25.281639770003792m\n",
      "WARNING: org.jlinda.core.Baseline: Max. error bperp modeling at 3D datapoints: 5.291508597686797m\n",
      "WARNING: org.jlinda.core.Baseline: Max. error bperp modeling at 3D datapoints: 9.482903335306942m\n",
      "/home/mcallegari/anaconda3/envs/cloudinsar/lib/python3.13/site-packages/pandas/plotting/_matplotlib/core.py:981: UserWarning: This axis already has a converter set and is updating to a potentially incompatible converter\n",
      "  return ax.plot(*args, **kwds)\n"
     ]
    },
    {
     "data": {
      "image/png": "[encoded data removed]",
      "text/plain": [
       "<Figure size 640x480 with 1 Axes>"
      ]
     },
     "metadata": {},
     "output_type": "display_data"
    },
    {
     "data": {
      "text/plain": [
       "[['2024-03-06', '2024-03-18'],\n",
       " ['2024-03-06', '2024-03-30'],\n",
       " ['2024-02-23', '2024-03-06'],\n",
       " ['2024-02-23', '2024-03-18'],\n",
       " ['2024-03-18', '2024-03-30'],\n",
       " ['2024-01-06', '2024-01-18'],\n",
       " ['2024-01-06', '2024-01-30'],\n",
       " ['2024-01-18', '2024-02-11'],\n",
       " ['2024-01-18', '2024-01-30'],\n",
       " ['2024-02-11', '2024-03-06'],\n",
       " ['2024-02-11', '2024-02-23'],\n",
       " ['2024-01-30', '2024-02-23'],\n",
       " ['2024-01-30', '2024-02-11'],\n",
       " ['2024-04-23', '2024-05-05'],\n",
       " ['2024-04-23', '2024-05-17'],\n",
       " ['2024-05-05', '2024-05-17'],\n",
       " ['2024-05-05', '2024-05-29'],\n",
       " ['2024-05-17', '2024-05-29'],\n",
       " ['2024-05-17', '2024-06-10'],\n",
       " ['2024-05-29', '2024-06-10'],\n",
       " ['2024-05-29', '2024-06-22'],\n",
       " ['2024-06-10', '2024-06-22'],\n",
       " ['2024-06-10', '2024-07-04'],\n",
       " ['2024-04-11', '2024-04-23'],\n",
       " ['2024-06-22', '2024-07-04'],\n",
       " ['2024-06-22', '2024-07-16'],\n",
       " ['2024-07-04', '2024-07-16'],\n",
       " ['2024-07-04', '2024-07-28'],\n",
       " ['2024-08-09', '2024-09-02'],\n",
       " ['2024-08-09', '2024-08-21'],\n",
       " ['2024-09-02', '2024-09-26'],\n",
       " ['2024-09-02', '2024-09-14'],\n",
       " ['2024-09-26', '2024-10-08'],\n",
       " ['2024-09-26', '2024-10-20'],\n",
       " ['2024-07-16', '2024-08-09'],\n",
       " ['2024-07-16', '2024-07-28'],\n",
       " ['2024-09-14', '2024-09-26'],\n",
       " ['2024-09-14', '2024-10-08'],\n",
       " ['2024-08-21', '2024-09-02'],\n",
       " ['2024-08-21', '2024-09-14'],\n",
       " ['2024-07-28', '2024-08-09'],\n",
       " ['2024-07-28', '2024-08-21'],\n",
       " ['2024-10-08', '2024-10-20'],\n",
       " ['2024-11-13', '2024-12-07'],\n",
       " ['2024-11-13', '2024-11-25'],\n",
       " ['2024-12-07', '2024-12-31'],\n",
       " ['2024-12-07', '2024-12-19'],\n",
       " ['2024-11-01', '2024-11-13'],\n",
       " ['2024-11-01', '2024-11-25'],\n",
       " ['2024-10-20', '2024-11-13'],\n",
       " ['2024-10-20', '2024-11-01'],\n",
       " ['2024-11-25', '2024-12-07'],\n",
       " ['2024-11-25', '2024-12-19'],\n",
       " ['2024-12-19', '2024-12-31']]"
      ]
     },
     "execution_count": 11,
     "metadata": {},
     "output_type": "execute_result"
    }
   ],
   "source": [
    "s1_burst_lib.sbas_pairs(s1_fileList, max_temporal_baseline=24, max_perp_baseline=200)"
   ]
  },
  {
   "cell_type": "markdown",
   "id": "b41bc91d-9bc1-42d9-93da-f33346b70550",
   "metadata": {},
   "source": [
    "### 3.2 InSAR pair list for PS configuration"
   ]
  },
  {
   "cell_type": "code",
   "execution_count": 12,
   "id": "a8723ec2-0246-4510-bc19-1e08b444751c",
   "metadata": {},
   "outputs": [
    {
     "name": "stderr",
     "output_type": "stream",
     "text": [
      "WARNING: org.jlinda.core.Baseline: Max. error bperp modeling at 3D datapoints: 14.661354799788104m\n",
      "WARNING: org.jlinda.core.Baseline: Max. error bperp modeling at 3D datapoints: 14.660030281425946m\n",
      "WARNING: org.jlinda.core.Baseline: Max. error bperp modeling at 3D datapoints: 11.671910101484873m\n",
      "WARNING: org.jlinda.core.Baseline: Max. error bperp modeling at 3D datapoints: 5.29081060666451m\n",
      "WARNING: org.jlinda.core.Baseline: Max. error bperp modeling at 3D datapoints: 8.250429480939061m\n",
      "WARNING: org.jlinda.core.Baseline: Max. error bperp modeling at 3D datapoints: 8.489134768226995m\n",
      "WARNING: org.jlinda.core.Baseline: Max. error bperp modeling at 3D datapoints: 25.284204172254952m\n",
      "WARNING: org.jlinda.core.Baseline: Max. error bperp modeling at 3D datapoints: 7.925993941990979m\n",
      "WARNING: org.jlinda.core.Baseline: Max. error bperp modeling at 3D datapoints: 11.675109559550966m\n",
      "WARNING: org.jlinda.core.Baseline: Max. error bperp modeling at 3D datapoints: 9.414279121443048m\n",
      "WARNING: org.jlinda.core.Baseline: Max. error bperp modeling at 3D datapoints: 7.926562494385624m\n",
      "WARNING: org.jlinda.core.Baseline: Max. error bperp modeling at 3D datapoints: 8.25114826248668m\n",
      "WARNING: org.jlinda.core.Baseline: Max. error bperp modeling at 3D datapoints: 2.490918685989695m\n",
      "WARNING: org.jlinda.core.Baseline: Max. error bperp modeling at 3D datapoints: 8.488215636328349m\n",
      "WARNING: org.jlinda.core.Baseline: Max. error bperp modeling at 3D datapoints: 2.489961498796676m\n",
      "WARNING: org.jlinda.core.Baseline: Max. error bperp modeling at 3D datapoints: 25.281639770003792m\n",
      "WARNING: org.jlinda.core.Baseline: Max. error bperp modeling at 3D datapoints: 5.291508597686797m\n",
      "WARNING: org.jlinda.core.Baseline: Max. error bperp modeling at 3D datapoints: 9.482903335306942m\n",
      "INFO: eu.esa.sar.commons.io.ImageIOFile: Using FileCacheImageInputStream\n",
      "WARNING: org.jlinda.core.Baseline: Max. error bperp modeling at 3D datapoints: 14.661354799788104m\n",
      "WARNING: org.jlinda.core.Baseline: Max. error bperp modeling at 3D datapoints: 14.660030281425946m\n",
      "WARNING: org.jlinda.core.Baseline: Max. error bperp modeling at 3D datapoints: 11.671910101484873m\n",
      "WARNING: org.jlinda.core.Baseline: Max. error bperp modeling at 3D datapoints: 5.29081060666451m\n",
      "WARNING: org.jlinda.core.Baseline: Max. error bperp modeling at 3D datapoints: 8.250429480939061m\n",
      "WARNING: org.jlinda.core.Baseline: Max. error bperp modeling at 3D datapoints: 8.489134768226995m\n",
      "WARNING: org.jlinda.core.Baseline: Max. error bperp modeling at 3D datapoints: 25.284204172254952m\n",
      "WARNING: org.jlinda.core.Baseline: Max. error bperp modeling at 3D datapoints: 7.925993941990979m\n",
      "WARNING: org.jlinda.core.Baseline: Max. error bperp modeling at 3D datapoints: 11.675109559550966m\n",
      "WARNING: org.jlinda.core.Baseline: Max. error bperp modeling at 3D datapoints: 9.414279121443048m\n",
      "WARNING: org.jlinda.core.Baseline: Max. error bperp modeling at 3D datapoints: 7.926562494385624m\n",
      "WARNING: org.jlinda.core.Baseline: Max. error bperp modeling at 3D datapoints: 8.25114826248668m\n",
      "WARNING: org.jlinda.core.Baseline: Max. error bperp modeling at 3D datapoints: 2.490918685989695m\n",
      "WARNING: org.jlinda.core.Baseline: Max. error bperp modeling at 3D datapoints: 8.488215636328349m\n",
      "WARNING: org.jlinda.core.Baseline: Max. error bperp modeling at 3D datapoints: 2.489961498796676m\n",
      "WARNING: org.jlinda.core.Baseline: Max. error bperp modeling at 3D datapoints: 25.281639770003792m\n",
      "WARNING: org.jlinda.core.Baseline: Max. error bperp modeling at 3D datapoints: 5.291508597686797m\n",
      "WARNING: org.jlinda.core.Baseline: Max. error bperp modeling at 3D datapoints: 9.482903335306942m\n",
      "/home/mcallegari/anaconda3/envs/cloudinsar/lib/python3.13/site-packages/pandas/plotting/_matplotlib/core.py:981: UserWarning: This axis already has a converter set and is updating to a potentially incompatible converter\n",
      "  return ax.plot(*args, **kwds)\n"
     ]
    },
    {
     "data": {
      "image/png": "[encoded data removed]",
      "text/plain": [
       "<Figure size 640x480 with 1 Axes>"
      ]
     },
     "metadata": {},
     "output_type": "display_data"
    },
    {
     "data": {
      "text/plain": [
       "[['2024-08-21', '2024-03-06'],\n",
       " ['2024-08-21', '2024-02-23'],\n",
       " ['2024-08-21', '2024-03-18'],\n",
       " ['2024-08-21', '2024-01-06'],\n",
       " ['2024-08-21', '2024-01-18'],\n",
       " ['2024-08-21', '2024-02-11'],\n",
       " ['2024-08-21', '2024-01-30'],\n",
       " ['2024-08-21', '2024-03-30'],\n",
       " ['2024-08-21', '2024-04-23'],\n",
       " ['2024-08-21', '2024-05-05'],\n",
       " ['2024-08-21', '2024-05-17'],\n",
       " ['2024-08-21', '2024-05-29'],\n",
       " ['2024-08-21', '2024-06-10'],\n",
       " ['2024-08-21', '2024-04-11'],\n",
       " ['2024-08-21', '2024-06-22'],\n",
       " ['2024-08-21', '2024-07-04'],\n",
       " ['2024-08-21', '2024-08-09'],\n",
       " ['2024-08-21', '2024-09-02'],\n",
       " ['2024-08-21', '2024-09-26'],\n",
       " ['2024-08-21', '2024-07-16'],\n",
       " ['2024-08-21', '2024-09-14'],\n",
       " ['2024-08-21', '2024-07-28'],\n",
       " ['2024-08-21', '2024-12-31'],\n",
       " ['2024-08-21', '2024-10-08'],\n",
       " ['2024-08-21', '2024-11-13'],\n",
       " ['2024-08-21', '2024-12-07'],\n",
       " ['2024-08-21', '2024-11-01'],\n",
       " ['2024-08-21', '2024-10-20'],\n",
       " ['2024-08-21', '2024-11-25'],\n",
       " ['2024-08-21', '2024-12-19']]"
      ]
     },
     "execution_count": 12,
     "metadata": {},
     "output_type": "execute_result"
    }
   ],
   "source": [
    "s1_burst_lib.ps_pairs(s1_fileList)"
   ]
  },
  {
   "cell_type": "code",
   "execution_count": null,
   "id": "278eba30-0f81-4f19-8040-7886c0fe9b87",
   "metadata": {},
   "outputs": [],
   "source": []
  }
 ],
 "metadata": {
  "kernelspec": {
   "display_name": "Python 3 (ipykernel)",
   "language": "python",
   "name": "python3"
  },
  "language_info": {
   "codemirror_mode": {
    "name": "ipython",
    "version": 3
   },
   "file_extension": ".py",
   "mimetype": "text/x-python",
   "name": "python",
   "nbconvert_exporter": "python",
   "pygments_lexer": "ipython3",
   "version": "3.13.3"
  }
 },
 "nbformat": 4,
 "nbformat_minor": 5
}
