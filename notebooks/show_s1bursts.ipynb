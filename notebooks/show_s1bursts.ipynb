{
 "cells": [
  {
   "cell_type": "code",
   "execution_count": 1,
   "id": "f6b821fd-92ad-4658-aef5-2c4cf980c011",
   "metadata": {},
   "outputs": [
    {
     "name": "stdout",
     "output_type": "stream",
     "text": [
      "Collecting folium\n",
      "  Downloading folium-0.19.4-py2.py3-none-any.whl.metadata (3.8 kB)\n",
      "Collecting branca>=0.6.0 (from folium)\n",
      "  Downloading branca-0.8.1-py3-none-any.whl.metadata (1.5 kB)\n",
      "Collecting jinja2>=2.9 (from folium)\n",
      "  Downloading jinja2-3.1.5-py3-none-any.whl.metadata (2.6 kB)\n",
      "Requirement already satisfied: numpy in /opt/conda/envs/openeo/lib/python3.11/site-packages (from folium) (1.26.4)\n",
      "Requirement already satisfied: requests in /opt/conda/envs/openeo/lib/python3.11/site-packages (from folium) (2.32.3)\n",
      "Collecting xyzservices (from folium)\n",
      "  Downloading xyzservices-2025.1.0-py3-none-any.whl.metadata (4.3 kB)\n",
      "Collecting MarkupSafe>=2.0 (from jinja2>=2.9->folium)\n",
      "  Downloading MarkupSafe-3.0.2-cp311-cp311-manylinux_2_17_x86_64.manylinux2014_x86_64.whl.metadata (4.0 kB)\n",
      "Requirement already satisfied: charset-normalizer<4,>=2 in /opt/conda/envs/openeo/lib/python3.11/site-packages (from requests->folium) (3.4.0)\n",
      "Requirement already satisfied: idna<4,>=2.5 in /opt/conda/envs/openeo/lib/python3.11/site-packages (from requests->folium) (3.10)\n",
      "Requirement already satisfied: urllib3<3,>=1.21.1 in /opt/conda/envs/openeo/lib/python3.11/site-packages (from requests->folium) (2.2.3)\n",
      "Requirement already satisfied: certifi>=2017.4.17 in /opt/conda/envs/openeo/lib/python3.11/site-packages (from requests->folium) (2024.8.30)\n",
      "Downloading folium-0.19.4-py2.py3-none-any.whl (110 kB)\n",
      "\u001b[2K   \u001b[90m━━━━━━━━━━━━━━━━━━━━━━━━━━━━━━━━━━━━━━━━\u001b[0m \u001b[32m110.5/110.5 kB\u001b[0m \u001b[31m2.2 MB/s\u001b[0m eta \u001b[36m0:00:00\u001b[0m \u001b[36m0:00:01\u001b[0m\n",
      "\u001b[?25hDownloading branca-0.8.1-py3-none-any.whl (26 kB)\n",
      "Downloading jinja2-3.1.5-py3-none-any.whl (134 kB)\n",
      "\u001b[2K   \u001b[90m━━━━━━━━━━━━━━━━━━━━━━━━━━━━━━━━━━━━━━━━\u001b[0m \u001b[32m134.6/134.6 kB\u001b[0m \u001b[31m5.1 MB/s\u001b[0m eta \u001b[36m0:00:00\u001b[0m\n",
      "\u001b[?25hDownloading xyzservices-2025.1.0-py3-none-any.whl (88 kB)\n",
      "\u001b[2K   \u001b[90m━━━━━━━━━━━━━━━━━━━━━━━━━━━━━━━━━━━━━━━━\u001b[0m \u001b[32m88.4/88.4 kB\u001b[0m \u001b[31m6.2 MB/s\u001b[0m eta \u001b[36m0:00:00\u001b[0m\n",
      "\u001b[?25hDownloading MarkupSafe-3.0.2-cp311-cp311-manylinux_2_17_x86_64.manylinux2014_x86_64.whl (23 kB)\n",
      "Installing collected packages: xyzservices, MarkupSafe, jinja2, branca, folium\n",
      "Successfully installed MarkupSafe-3.0.2 branca-0.8.1 folium-0.19.4 jinja2-3.1.5 xyzservices-2025.1.0\n"
     ]
    }
   ],
   "source": [
    "!pip install folium"
   ]
  },
  {
   "cell_type": "code",
   "execution_count": 2,
   "id": "1a8ebc92-fb8c-42d7-9d5f-6980edbf9c4d",
   "metadata": {},
   "outputs": [],
   "source": [
    "import urllib\n",
    "import json\n",
    "\n",
    "import numpy as np\n",
    "import pandas as pd\n",
    "\n",
    "from shapely.geometry import shape\n",
    "\n",
    "import folium\n",
    "from folium.plugins import Draw\n",
    "\n",
    "from IPython.display import JSON"
   ]
  },
  {
   "cell_type": "markdown",
   "id": "ad3ff8e2-f7de-4671-8cea-f723283c9880",
   "metadata": {},
   "source": [
    "## 1) Input definition"
   ]
  },
  {
   "cell_type": "code",
   "execution_count": 3,
   "id": "1640048f-132e-4506-ab84-0561a0e9fee1",
   "metadata": {},
   "outputs": [],
   "source": [
    "start_date = '2024-08-14'\n",
    "end_date = '2025-02-14'"
   ]
  },
  {
   "cell_type": "markdown",
   "id": "8ee2d7aa-4fb4-4fca-abf3-d66eabd6840b",
   "metadata": {},
   "source": [
    "### Define an area (or point) of interest by drawing in the map"
   ]
  },
  {
   "cell_type": "code",
   "execution_count": 4,
   "id": "d4fdf1c1-201d-4cf8-b47d-635d37351cea",
   "metadata": {},
   "outputs": [
    {
     "data": {
      "text/html": [
       "<div style=\"width:100%;\"><div style=\"position:relative;width:100%;height:0;padding-bottom:60%;\"><span style=\"color:#565656\">Make this Notebook Trusted to load map: File -> Trust Notebook</span><iframe srcdoc=\"&lt;!DOCTYPE html&gt;\n",
       "&lt;html&gt;\n",
       "&lt;head&gt;\n",
       "    \n",
       "    &lt;meta http-equiv=&quot;content-type&quot; content=&quot;text/html; charset=UTF-8&quot; /&gt;\n",
       "    \n",
       "        &lt;script&gt;\n",
       "            L_NO_TOUCH = false;\n",
       "            L_DISABLE_3D = false;\n",
       "        &lt;/script&gt;\n",
       "    \n",
       "    &lt;style&gt;html, body {width: 100%;height: 100%;margin: 0;padding: 0;}&lt;/style&gt;\n",
       "    &lt;style&gt;#map {position:absolute;top:0;bottom:0;right:0;left:0;}&lt;/style&gt;\n",
       "    &lt;script src=&quot;https://cdn.jsdelivr.net/npm/leaflet@1.9.3/dist/leaflet.js&quot;&gt;&lt;/script&gt;\n",
       "    &lt;script src=&quot;https://code.jquery.com/jquery-3.7.1.min.js&quot;&gt;&lt;/script&gt;\n",
       "    &lt;script src=&quot;https://cdn.jsdelivr.net/npm/bootstrap@5.2.2/dist/js/bootstrap.bundle.min.js&quot;&gt;&lt;/script&gt;\n",
       "    &lt;script src=&quot;https://cdnjs.cloudflare.com/ajax/libs/Leaflet.awesome-markers/2.0.2/leaflet.awesome-markers.js&quot;&gt;&lt;/script&gt;\n",
       "    &lt;link rel=&quot;stylesheet&quot; href=&quot;https://cdn.jsdelivr.net/npm/leaflet@1.9.3/dist/leaflet.css&quot;/&gt;\n",
       "    &lt;link rel=&quot;stylesheet&quot; href=&quot;https://cdn.jsdelivr.net/npm/bootstrap@5.2.2/dist/css/bootstrap.min.css&quot;/&gt;\n",
       "    &lt;link rel=&quot;stylesheet&quot; href=&quot;https://netdna.bootstrapcdn.com/bootstrap/3.0.0/css/bootstrap-glyphicons.css&quot;/&gt;\n",
       "    &lt;link rel=&quot;stylesheet&quot; href=&quot;https://cdn.jsdelivr.net/npm/@fortawesome/fontawesome-free@6.2.0/css/all.min.css&quot;/&gt;\n",
       "    &lt;link rel=&quot;stylesheet&quot; href=&quot;https://cdnjs.cloudflare.com/ajax/libs/Leaflet.awesome-markers/2.0.2/leaflet.awesome-markers.css&quot;/&gt;\n",
       "    &lt;link rel=&quot;stylesheet&quot; href=&quot;https://cdn.jsdelivr.net/gh/python-visualization/folium/folium/templates/leaflet.awesome.rotate.min.css&quot;/&gt;\n",
       "    \n",
       "            &lt;meta name=&quot;viewport&quot; content=&quot;width=device-width,\n",
       "                initial-scale=1.0, maximum-scale=1.0, user-scalable=no&quot; /&gt;\n",
       "            &lt;style&gt;\n",
       "                #map_d0fe083fb429fed8b8c8d4228e3c0989 {\n",
       "                    position: relative;\n",
       "                    width: 100.0%;\n",
       "                    height: 100.0%;\n",
       "                    left: 0.0%;\n",
       "                    top: 0.0%;\n",
       "                }\n",
       "                .leaflet-container { font-size: 1rem; }\n",
       "            &lt;/style&gt;\n",
       "        \n",
       "    &lt;script src=&quot;https://cdnjs.cloudflare.com/ajax/libs/leaflet.draw/1.0.2/leaflet.draw.js&quot;&gt;&lt;/script&gt;\n",
       "    &lt;link rel=&quot;stylesheet&quot; href=&quot;https://cdnjs.cloudflare.com/ajax/libs/leaflet.draw/1.0.2/leaflet.draw.css&quot;/&gt;\n",
       "    \n",
       "            &lt;style&gt;\n",
       "                #export {\n",
       "                    position: absolute;\n",
       "                    top: 5px;\n",
       "                    right: 10px;\n",
       "                    z-index: 999;\n",
       "                    background: white;\n",
       "                    color: black;\n",
       "                    padding: 6px;\n",
       "                    border-radius: 4px;\n",
       "                    font-family: &#x27;Helvetica Neue&#x27;;\n",
       "                    cursor: pointer;\n",
       "                    font-size: 12px;\n",
       "                    text-decoration: none;\n",
       "                    top: 90px;\n",
       "                }\n",
       "            &lt;/style&gt;\n",
       "        \n",
       "&lt;/head&gt;\n",
       "&lt;body&gt;\n",
       "    \n",
       "    \n",
       "            &lt;div class=&quot;folium-map&quot; id=&quot;map_d0fe083fb429fed8b8c8d4228e3c0989&quot; &gt;&lt;/div&gt;\n",
       "        \n",
       "    &lt;a href=&#x27;#&#x27; id=&#x27;export&#x27;&gt;Export&lt;/a&gt;\n",
       "&lt;/body&gt;\n",
       "&lt;script&gt;\n",
       "    \n",
       "    \n",
       "            var map_d0fe083fb429fed8b8c8d4228e3c0989 = L.map(\n",
       "                &quot;map_d0fe083fb429fed8b8c8d4228e3c0989&quot;,\n",
       "                {\n",
       "                    center: [0.0, 0.0],\n",
       "                    crs: L.CRS.EPSG3857,\n",
       "                    ...{\n",
       "  &quot;zoom&quot;: 2,\n",
       "  &quot;zoomControl&quot;: true,\n",
       "  &quot;preferCanvas&quot;: false,\n",
       "}\n",
       "\n",
       "                }\n",
       "            );\n",
       "\n",
       "            \n",
       "\n",
       "        \n",
       "    \n",
       "            var tile_layer_2d087076546e1bc18f2e3e660f369f01 = L.tileLayer(\n",
       "                &quot;https://tile.openstreetmap.org/{z}/{x}/{y}.png&quot;,\n",
       "                {\n",
       "  &quot;minZoom&quot;: 0,\n",
       "  &quot;maxZoom&quot;: 19,\n",
       "  &quot;maxNativeZoom&quot;: 19,\n",
       "  &quot;noWrap&quot;: false,\n",
       "  &quot;attribution&quot;: &quot;\\u0026copy; \\u003ca href=\\&quot;https://www.openstreetmap.org/copyright\\&quot;\\u003eOpenStreetMap\\u003c/a\\u003e contributors&quot;,\n",
       "  &quot;subdomains&quot;: &quot;abc&quot;,\n",
       "  &quot;detectRetina&quot;: false,\n",
       "  &quot;tms&quot;: false,\n",
       "  &quot;opacity&quot;: 1,\n",
       "}\n",
       "\n",
       "            );\n",
       "        \n",
       "    \n",
       "            tile_layer_2d087076546e1bc18f2e3e660f369f01.addTo(map_d0fe083fb429fed8b8c8d4228e3c0989);\n",
       "        \n",
       "    \n",
       "            var options = {\n",
       "              position: &quot;topleft&quot;,\n",
       "              draw: {},\n",
       "              edit: {},\n",
       "            }\n",
       "                // FeatureGroup is to store editable layers.\n",
       "                var drawnItems_draw_control_522ce53d1806a121efb3d062525685eb =\n",
       "                    new L.featureGroup().addTo(\n",
       "                        map_d0fe083fb429fed8b8c8d4228e3c0989\n",
       "                    );\n",
       "\n",
       "            options.edit.featureGroup = drawnItems_draw_control_522ce53d1806a121efb3d062525685eb;\n",
       "            var draw_control_522ce53d1806a121efb3d062525685eb = new L.Control.Draw(\n",
       "                options\n",
       "            ).addTo( map_d0fe083fb429fed8b8c8d4228e3c0989 );\n",
       "            map_d0fe083fb429fed8b8c8d4228e3c0989.on(L.Draw.Event.CREATED, function(e) {\n",
       "                var layer = e.layer,\n",
       "                    type = e.layerType;\n",
       "                var coords = JSON.stringify(layer.toGeoJSON());\n",
       "                layer.on(&#x27;click&#x27;, function() {\n",
       "                    alert(coords);\n",
       "                    console.log(coords);\n",
       "                });\n",
       "                drawnItems_draw_control_522ce53d1806a121efb3d062525685eb.addLayer(layer);\n",
       "            });\n",
       "            map_d0fe083fb429fed8b8c8d4228e3c0989.on(&#x27;draw:created&#x27;, function(e) {\n",
       "                drawnItems_draw_control_522ce53d1806a121efb3d062525685eb.addLayer(e.layer);\n",
       "            });\n",
       "\n",
       "            \n",
       "            document.getElementById(&#x27;export&#x27;).onclick = function(e) {\n",
       "                var data = drawnItems_draw_control_522ce53d1806a121efb3d062525685eb.toGeoJSON();\n",
       "                var convertedData = &#x27;text/json;charset=utf-8,&#x27;\n",
       "                    + encodeURIComponent(JSON.stringify(data));\n",
       "                document.getElementById(&#x27;export&#x27;).setAttribute(\n",
       "                    &#x27;href&#x27;, &#x27;data:&#x27; + convertedData\n",
       "                );\n",
       "                document.getElementById(&#x27;export&#x27;).setAttribute(\n",
       "                    &#x27;download&#x27;, &quot;data.geojson&quot;\n",
       "                );\n",
       "            }\n",
       "            \n",
       "        \n",
       "&lt;/script&gt;\n",
       "&lt;/html&gt;\" style=\"position:absolute;width:100%;height:100%;left:0;top:0;border:none !important;\" allowfullscreen webkitallowfullscreen mozallowfullscreen></iframe></div></div>"
      ],
      "text/plain": [
       "<folium.folium.Map at 0x7fb0c9319950>"
      ]
     },
     "execution_count": 4,
     "metadata": {},
     "output_type": "execute_result"
    }
   ],
   "source": [
    "m = folium.Map(zoom_start=2, location=(0, 0))\n",
    "draw = Draw(export=True)\n",
    "draw.add_to(m)\n",
    "m"
   ]
  },
  {
   "cell_type": "markdown",
   "id": "335ecf19-2d25-42e8-9458-34a64302cd59",
   "metadata": {},
   "source": [
    "Click on the created area of interest and copy the dictionary in the second line of the window that appear and then paste it in the variable `geom` as input to `shape`"
   ]
  },
  {
   "cell_type": "code",
   "execution_count": 5,
   "id": "29f432b9-6915-40e4-a5c1-3850b38c051a",
   "metadata": {},
   "outputs": [],
   "source": [
    "geom = shape(\n",
    "    {\"type\":\"Polygon\",\"coordinates\":[[[11.175842,46.452997],[11.175842,46.549417],[11.340637,46.549417],[11.340637,46.452997],[11.175842,46.452997]]]}\n",
    ")"
   ]
  },
  {
   "cell_type": "markdown",
   "id": "7a7299ba-fdad-41cd-838f-1ccbad90c8ad",
   "metadata": {},
   "source": [
    "### Alternatively upload your area of interest"
   ]
  },
  {
   "cell_type": "code",
   "execution_count": null,
   "id": "e201b1f0-09a2-4862-a443-6c3effbfffca",
   "metadata": {},
   "outputs": [],
   "source": []
  },
  {
   "cell_type": "markdown",
   "id": "104ab20b-99b5-48ac-bb2b-e119433f60c9",
   "metadata": {},
   "source": [
    "## 2) Retrieve the bursts info with https request"
   ]
  },
  {
   "cell_type": "code",
   "execution_count": 6,
   "id": "38a2e886-18a5-411a-976b-6e9df8d1ee60",
   "metadata": {},
   "outputs": [
    {
     "data": {
      "application/json": {
       "@odata.context": "$metadata#Bursts",
       "value": [
        {
         "@odata.mediaContentType": "application/octet-stream",
         "AbsoluteBurstId": 123053436,
         "AzimuthAnxTime": 2196.8730134334,
         "AzimuthTime": "2025-01-04T05:27:26.054223Z",
         "BeginningDateTime": "2025-01-04T05:27:27.186152Z",
         "BurstId": 359501,
         "ByteOffset": 1109514331,
         "ContentDate": {
          "End": "2025-01-04T05:27:28.064362Z",
          "Start": "2025-01-04T05:27:27.186152Z"
         },
         "ContentType": "application/octet-stream",
         "DatatakeID": 461934,
         "EndingDateTime": "2025-01-04T05:27:28.064362Z",
         "Footprint": "geography'SRID=4326;POLYGON ((12.306189 46.586499, 11.729773 46.66502, 11.194249 46.735345, 11.139994 46.531867, 11.674696 46.466093, 12.250223 46.392142, 12.306189 46.586499))'",
         "GeoFootprint": {
          "coordinates": [
           [
            [
             12.306189,
             46.586499
            ],
            [
             11.729773,
             46.66502
            ],
            [
             11.194249,
             46.735345
            ],
            [
             11.139994,
             46.531867
            ],
            [
             11.674696,
             46.466093
            ],
            [
             12.250223,
             46.392142
            ],
            [
             12.306189,
             46.586499
            ]
           ]
          ],
          "type": "Polygon"
         },
         "Id": "e56e8f8e-7484-477c-b8dd-e2cd6f00fb22",
         "Lines": 12064,
         "LinesPerBurst": 1508,
         "Name": "S1A-SLC-20250104T052727-359501-IW1-VV-461934",
         "OperationalMode": "IW",
         "OrbitDirection": "DESCENDING",
         "ParentProductId": "d1da9144-d2cf-48f2-b345-2e3dbcee3c78",
         "ParentProductName": "S1A_IW_SLC__1SDV_20250104T052702_20250104T052729_057290_070C6E_E9C0.SAFE",
         "ParentProductType": "IW_SLC__1S",
         "PlatformSerialIdentifier": "A",
         "PolarisationChannels": "VV",
         "RelativeOrbitNumber": 168,
         "S3Path": "/eodata/Sentinel-1/SAR/IW_SLC__1S/2025/01/04/S1A_IW_SLC__1SDV_20250104T052702_20250104T052729_057290_070C6E_E9C0.SAFE/measurement/s1a-iw1-slc-vv-20250104t052703-20250104t052729-057290-070c6e-004.tiff",
         "SamplesPerBurst": 22990,
         "SwathIdentifier": "IW1"
        },
        {
         "@odata.mediaContentType": "application/octet-stream",
         "AbsoluteBurstId": 123053436,
         "AzimuthAnxTime": 2197.8185686672,
         "AzimuthTime": "2025-01-04T05:27:26.999779Z",
         "BeginningDateTime": "2025-01-04T05:27:28.018354Z",
         "BurstId": 359501,
         "ByteOffset": 109683,
         "ContentDate": {
          "End": "2025-01-04T05:27:29.064766Z",
          "Start": "2025-01-04T05:27:28.018354Z"
         },
         "ContentType": "application/octet-stream",
         "DatatakeID": 461934,
         "EndingDateTime": "2025-01-04T05:27:29.064766Z",
         "Footprint": "geography'SRID=4326;POLYGON ((11.210885 46.663981, 10.609883 46.739546, 10.041572 46.808037, 9.994503 46.61577, 10.56182 46.551482, 11.161802 46.480136, 11.210885 46.663981))'",
         "GeoFootprint": {
          "coordinates": [
           [
            [
             11.210885,
             46.663981
            ],
            [
             10.609883,
             46.739546
            ],
            [
             10.041572,
             46.808037
            ],
            [
             9.994503,
             46.61577
            ],
            [
             10.56182,
             46.551482
            ],
            [
             11.161802,
             46.480136
            ],
            [
             11.210885,
             46.663981
            ]
           ]
          ],
          "type": "Polygon"
         },
         "Id": "583e9924-b6e2-4ca1-80fe-a823db1d9755",
         "Lines": 0,
         "LinesPerBurst": 1519,
         "Name": "S1A-SLC-20250104T052728-359501-IW2-VV-461934",
         "OperationalMode": "IW",
         "OrbitDirection": "DESCENDING",
         "ParentProductId": "cc6f1806-9cc1-430e-8897-cbd24eb68159",
         "ParentProductName": "S1A_IW_SLC__1SDV_20250104T052726_20250104T052753_057290_070C6E_9959.SAFE",
         "ParentProductType": "IW_SLC__1S",
         "PlatformSerialIdentifier": "A",
         "PolarisationChannels": "VV",
         "RelativeOrbitNumber": 168,
         "S3Path": "/eodata/Sentinel-1/SAR/IW_SLC__1S/2025/01/04/S1A_IW_SLC__1SDV_20250104T052726_20250104T052753_057290_070C6E_9959.SAFE/measurement/s1a-iw2-slc-vv-20250104t052726-20250104t052752-057290-070c6e-005.tiff",
         "SamplesPerBurst": 26745,
         "SwathIdentifier": "IW2"
        },
        {
         "@odata.mediaContentType": "application/octet-stream",
         "AbsoluteBurstId": 123053437,
         "AzimuthAnxTime": 2199.6315691092,
         "AzimuthTime": "2025-01-04T05:27:28.812779Z",
         "BeginningDateTime": "2025-01-04T05:27:29.944428Z",
         "BurstId": 359502,
         "ByteOffset": 108891,
         "ContentDate": {
          "End": "2025-01-04T05:27:30.822638Z",
          "Start": "2025-01-04T05:27:29.944428Z"
         },
         "ContentType": "application/octet-stream",
         "DatatakeID": 461934,
         "EndingDateTime": "2025-01-04T05:27:30.822638Z",
         "Footprint": "geography'SRID=4326;POLYGON ((12.258601 46.421295, 11.684 46.499758, 11.150156 46.570046, 11.096085 46.366558, 11.629119 46.30082, 12.202845 46.226925, 12.258601 46.421295))'",
         "GeoFootprint": {
          "coordinates": [
           [
            [
             12.258601,
             46.421295
            ],
            [
             11.684,
             46.499758
            ],
            [
             11.150156,
             46.570046
            ],
            [
             11.096085,
             46.366558
            ],
            [
             11.629119,
             46.30082
            ],
            [
             12.202845,
             46.226925
            ],
            [
             12.258601,
             46.421295
            ]
           ]
          ],
          "type": "Polygon"
         },
         "Id": "aa69de45-b388-4f81-ac53-deaa8ee6b271",
         "Lines": 0,
         "LinesPerBurst": 1508,
         "Name": "S1A-SLC-20250104T052729-359502-IW1-VV-461934",
         "OperationalMode": "IW",
         "OrbitDirection": "DESCENDING",
         "ParentProductId": "cc6f1806-9cc1-430e-8897-cbd24eb68159",
         "ParentProductName": "S1A_IW_SLC__1SDV_20250104T052726_20250104T052753_057290_070C6E_9959.SAFE",
         "ParentProductType": "IW_SLC__1S",
         "PlatformSerialIdentifier": "A",
         "PolarisationChannels": "VV",
         "RelativeOrbitNumber": 168,
         "S3Path": "/eodata/Sentinel-1/SAR/IW_SLC__1S/2025/01/04/S1A_IW_SLC__1SDV_20250104T052726_20250104T052753_057290_070C6E_9959.SAFE/measurement/s1a-iw1-slc-vv-20250104t052728-20250104t052753-057290-070c6e-004.tiff",
         "SamplesPerBurst": 22990,
         "SwathIdentifier": "IW1"
        },
        {
         "@odata.mediaContentType": "application/octet-stream",
         "AbsoluteBurstId": 123272526,
         "AzimuthAnxTime": 2200.8026694351,
         "AzimuthTime": "2025-01-11T05:19:15.967289Z",
         "BeginningDateTime": "2025-01-11T05:19:17.093974Z",
         "BurstId": 202703,
         "ByteOffset": 1256856515,
         "ContentDate": {
          "End": "2025-01-11T05:19:17.998580Z",
          "Start": "2025-01-11T05:19:17.093974Z"
         },
         "ContentType": "application/octet-stream",
         "DatatakeID": 462964,
         "EndingDateTime": "2025-01-11T05:19:17.998580Z",
         "Footprint": "geography'SRID=4326;POLYGON ((12.089482 46.634916, 11.563369 46.69639, 11.056374 46.753309, 11.010245 46.548522, 11.516373 46.496209, 12.041638 46.439349, 12.089482 46.634916))'",
         "GeoFootprint": {
          "coordinates": [
           [
            [
             12.089482,
             46.634916
            ],
            [
             11.563369,
             46.69639
            ],
            [
             11.056374,
             46.753309
            ],
            [
             11.010245,
             46.548522
            ],
            [
             11.516373,
             46.496209
            ],
            [
             12.041638,
             46.439349
            ],
            [
             12.089482,
             46.634916
            ]
           ]
          ],
          "type": "Polygon"
         },
         "Id": "15326dea-4367-4889-a495-6fd3a063e100",
         "Lines": 12200,
         "LinesPerBurst": 1525,
         "Name": "S1A-SLC-20250111T051917-202703-IW3-VV-462964",
         "OperationalMode": "IW",
         "OrbitDirection": "DESCENDING",
         "ParentProductId": "4d9b4e12-07f2-44e9-8c50-82e19dd6c6a1",
         "ParentProductName": "S1A_IW_SLC__1SDV_20250111T051852_20250111T051919_057392_071074_6FEF.SAFE",
         "ParentProductType": "IW_SLC__1S",
         "PlatformSerialIdentifier": "A",
         "PolarisationChannels": "VV",
         "RelativeOrbitNumber": 95,
         "S3Path": "/eodata/Sentinel-1/SAR/IW_SLC__1S/2025/01/11/S1A_IW_SLC__1SDV_20250111T051852_20250111T051919_057392_071074_6FEF.SAFE/measurement/s1a-iw3-slc-vv-20250111t051853-20250111t051919-057392-071074-006.tiff",
         "SamplesPerBurst": 25753,
         "SwathIdentifier": "IW3"
        },
        {
         "@odata.mediaContentType": "application/octet-stream",
         "AbsoluteBurstId": 123272527,
         "AzimuthAnxTime": 2203.5591699983,
         "AzimuthTime": "2025-01-11T05:19:18.723790Z",
         "BeginningDateTime": "2025-01-11T05:19:19.852250Z",
         "BurstId": 202704,
         "ByteOffset": 110115,
         "ContentDate": {
          "End": "2025-01-11T05:19:20.756856Z",
          "Start": "2025-01-11T05:19:19.852250Z"
         },
         "ContentType": "application/octet-stream",
         "DatatakeID": 462964,
         "EndingDateTime": "2025-01-11T05:19:20.756856Z",
         "Footprint": "geography'SRID=4326;POLYGON ((12.049022 46.469577, 11.524545 46.531064, 11.019128 46.588009, 10.97311 46.383218, 11.477674 46.330878, 12.001315 46.274004, 12.049022 46.469577))'",
         "GeoFootprint": {
          "coordinates": [
           [
            [
             12.049022,
             46.469577
            ],
            [
             11.524545,
             46.531064
            ],
            [
             11.019128,
             46.588009
            ],
            [
             10.97311,
             46.383218
            ],
            [
             11.477674,
             46.330878
            ],
            [
             12.001315,
             46.274004
            ],
            [
             12.049022,
             46.469577
            ]
           ]
          ],
          "type": "Polygon"
         },
         "Id": "8bf41893-0bbf-43c4-a01b-88c23905584f",
         "Lines": 0,
         "LinesPerBurst": 1525,
         "Name": "S1A-SLC-20250111T051919-202704-IW3-VV-462964",
         "OperationalMode": "IW",
         "OrbitDirection": "DESCENDING",
         "ParentProductId": "270ed397-fa48-47d3-868d-61c903069c2c",
         "ParentProductName": "S1A_IW_SLC__1SDV_20250111T051917_20250111T051944_057392_071074_1B3D.SAFE",
         "ParentProductType": "IW_SLC__1S",
         "PlatformSerialIdentifier": "A",
         "PolarisationChannels": "VV",
         "RelativeOrbitNumber": 95,
         "S3Path": "/eodata/Sentinel-1/SAR/IW_SLC__1S/2025/01/11/S1A_IW_SLC__1SDV_20250111T051917_20250111T051944_057392_071074_1B3D.SAFE/measurement/s1a-iw3-slc-vv-20250111t051918-20250111t051943-057392-071074-006.tiff",
         "SamplesPerBurst": 25753,
         "SwathIdentifier": "IW3"
        },
        {
         "@odata.mediaContentType": "application/octet-stream",
         "AbsoluteBurstId": 123319256,
         "AzimuthAnxTime": 753.4051543293,
         "AzimuthTime": "2025-01-12T17:07:29.123253Z",
         "BeginningDateTime": "2025-01-12T17:07:30.130485Z",
         "BurstId": 249433,
         "ByteOffset": 640810107,
         "ContentDate": {
          "End": "2025-01-12T17:07:31.172075Z",
          "Start": "2025-01-12T17:07:30.130485Z"
         },
         "ContentType": "application/octet-stream",
         "DatatakeID": 463192,
         "EndingDateTime": "2025-01-12T17:07:31.172075Z",
         "Footprint": "geography'SRID=4326;POLYGON ((10.804564 46.276581, 11.402422 46.34791, 11.967742 46.412202, 11.920848 46.604472, 11.354552 46.535976, 10.755691 46.460429, 10.804564 46.276581))'",
         "GeoFootprint": {
          "coordinates": [
           [
            [
             10.804564,
             46.276581
            ],
            [
             11.402422,
             46.34791
            ],
            [
             11.967742,
             46.412202
            ],
            [
             11.920848,
             46.604472
            ],
            [
             11.354552,
             46.535976
            ],
            [
             10.755691,
             46.460429
            ],
            [
             10.804564,
             46.276581
            ]
           ]
          ],
          "type": "Polygon"
         },
         "Id": "a0929673-23ed-4c60-b4b3-c02bea8824ea",
         "Lines": 6048,
         "LinesPerBurst": 1512,
         "Name": "S1A-SLC-20250112T170730-249433-IW2-VV-463192",
         "OperationalMode": "IW",
         "OrbitDirection": "ASCENDING",
         "ParentProductId": "b72559bc-12c3-4d0d-8812-3fc66a6139eb",
         "ParentProductName": "S1A_IW_SLC__1SDV_20250112T170716_20250112T170743_057414_071158_B31E.SAFE",
         "ParentProductType": "IW_SLC__1S",
         "PlatformSerialIdentifier": "A",
         "PolarisationChannels": "VV",
         "RelativeOrbitNumber": 117,
         "S3Path": "/eodata/Sentinel-1/SAR/IW_SLC__1S/2025/01/12/S1A_IW_SLC__1SDV_20250112T170716_20250112T170743_057414_071158_B31E.SAFE/measurement/s1a-iw2-slc-vv-20250112t170718-20250112t170743-057414-071158-005.tiff",
         "SamplesPerBurst": 26484,
         "SwathIdentifier": "IW2"
        },
        {
         "@odata.mediaContentType": "application/octet-stream",
         "AbsoluteBurstId": 123319257,
         "AzimuthAnxTime": 756.1637108839,
         "AzimuthTime": "2025-01-12T17:07:31.881810Z",
         "BeginningDateTime": "2025-01-12T17:07:32.888762Z",
         "BurstId": 249434,
         "ByteOffset": 800985339,
         "ContentDate": {
          "End": "2025-01-12T17:07:33.930352Z",
          "Start": "2025-01-12T17:07:32.888762Z"
         },
         "ContentType": "application/octet-stream",
         "DatatakeID": 463192,
         "EndingDateTime": "2025-01-12T17:07:33.930352Z",
         "Footprint": "geography'SRID=4326;POLYGON ((10.760624 46.441904, 11.360345 46.513254, 11.927424 46.577547, 11.880394 46.76981, 11.312324 46.701311, 10.711586 46.625741, 10.760624 46.441904))'",
         "GeoFootprint": {
          "coordinates": [
           [
            [
             10.760624,
             46.441904
            ],
            [
             11.360345,
             46.513254
            ],
            [
             11.927424,
             46.577547
            ],
            [
             11.880394,
             46.76981
            ],
            [
             11.312324,
             46.701311
            ],
            [
             10.711586,
             46.625741
            ],
            [
             10.760624,
             46.441904
            ]
           ]
          ],
          "type": "Polygon"
         },
         "Id": "d3c833fd-2c97-4672-b9b6-92e9af93ea40",
         "Lines": 7560,
         "LinesPerBurst": 1512,
         "Name": "S1A-SLC-20250112T170732-249434-IW2-VV-463192",
         "OperationalMode": "IW",
         "OrbitDirection": "ASCENDING",
         "ParentProductId": "b72559bc-12c3-4d0d-8812-3fc66a6139eb",
         "ParentProductName": "S1A_IW_SLC__1SDV_20250112T170716_20250112T170743_057414_071158_B31E.SAFE",
         "ParentProductType": "IW_SLC__1S",
         "PlatformSerialIdentifier": "A",
         "PolarisationChannels": "VV",
         "RelativeOrbitNumber": 117,
         "S3Path": "/eodata/Sentinel-1/SAR/IW_SLC__1S/2025/01/12/S1A_IW_SLC__1SDV_20250112T170716_20250112T170743_057414_071158_B31E.SAFE/measurement/s1a-iw2-slc-vv-20250112t170718-20250112t170743-057414-071158-005.tiff",
         "SamplesPerBurst": 26484,
         "SwathIdentifier": "IW2"
        },
        {
         "@odata.mediaContentType": "application/octet-stream",
         "AbsoluteBurstId": 123429323,
         "AzimuthAnxTime": 2196.8698164334,
         "AzimuthTime": "2025-01-16T05:27:25.174427Z",
         "BeginningDateTime": "2025-01-16T05:27:26.304301Z",
         "BurstId": 359501,
         "ByteOffset": 1109514331,
         "ContentDate": {
          "End": "2025-01-16T05:27:27.182511Z",
          "Start": "2025-01-16T05:27:26.304301Z"
         },
         "ContentType": "application/octet-stream",
         "DatatakeID": 463703,
         "EndingDateTime": "2025-01-16T05:27:27.182511Z",
         "Footprint": "geography'SRID=4326;POLYGON ((12.306189 46.586499, 11.729773 46.66502, 11.194249 46.735345, 11.139994 46.531867, 11.674696 46.466093, 12.250223 46.392142, 12.306189 46.586499))'",
         "GeoFootprint": {
          "coordinates": [
           [
            [
             12.306189,
             46.586499
            ],
            [
             11.729773,
             46.66502
            ],
            [
             11.194249,
             46.735345
            ],
            [
             11.139994,
             46.531867
            ],
            [
             11.674696,
             46.466093
            ],
            [
             12.250223,
             46.392142
            ],
            [
             12.306189,
             46.586499
            ]
           ]
          ],
          "type": "Polygon"
         },
         "Id": "4708a722-c033-4800-99bd-61790d8eb4ab",
         "Lines": 12064,
         "LinesPerBurst": 1508,
         "Name": "S1A-SLC-20250116T052726-359501-IW1-VV-463703",
         "OperationalMode": "IW",
         "OrbitDirection": "DESCENDING",
         "ParentProductId": "4b1b2a7b-48bd-4d89-8e0e-57dc6d6d006a",
         "ParentProductName": "S1A_IW_SLC__1SDV_20250116T052701_20250116T052728_057465_071357_3BCE.SAFE",
         "ParentProductType": "IW_SLC__1S",
         "PlatformSerialIdentifier": "A",
         "PolarisationChannels": "VV",
         "RelativeOrbitNumber": 168,
         "S3Path": "/eodata/Sentinel-1/SAR/IW_SLC__1S/2025/01/16/S1A_IW_SLC__1SDV_20250116T052701_20250116T052728_057465_071357_3BCE.SAFE/measurement/s1a-iw1-slc-vv-20250116t052703-20250116t052728-057465-071357-004.tiff",
         "SamplesPerBurst": 22990,
         "SwathIdentifier": "IW1"
        },
        {
         "@odata.mediaContentType": "application/octet-stream",
         "AbsoluteBurstId": 123429324,
         "AzimuthAnxTime": 2197.8153726672,
         "AzimuthTime": "2025-01-16T05:27:26.119984Z",
         "BeginningDateTime": "2025-01-16T05:27:27.136503Z",
         "BurstId": 359501,
         "ByteOffset": 109683,
         "ContentDate": {
          "End": "2025-01-16T05:27:28.182915Z",
          "Start": "2025-01-16T05:27:27.136503Z"
         },
         "ContentType": "application/octet-stream",
         "DatatakeID": 463703,
         "EndingDateTime": "2025-01-16T05:27:28.182915Z",
         "Footprint": "geography'SRID=4326;POLYGON ((11.210885 46.663981, 10.609883 46.739546, 10.041572 46.808037, 9.994503 46.61577, 10.56182 46.551482, 11.161802 46.480136, 11.210885 46.663981))'",
         "GeoFootprint": {
          "coordinates": [
           [
            [
             11.210885,
             46.663981
            ],
            [
             10.609883,
             46.739546
            ],
            [
             10.041572,
             46.808037
            ],
            [
             9.994503,
             46.61577
            ],
            [
             10.56182,
             46.551482
            ],
            [
             11.161802,
             46.480136
            ],
            [
             11.210885,
             46.663981
            ]
           ]
          ],
          "type": "Polygon"
         },
         "Id": "eb9c79fa-2c71-41db-bef8-56454802fe16",
         "Lines": 0,
         "LinesPerBurst": 1519,
         "Name": "S1A-SLC-20250116T052727-359501-IW2-VV-463703",
         "OperationalMode": "IW",
         "OrbitDirection": "DESCENDING",
         "ParentProductId": "85e2e078-9e7d-45f9-8993-53fe418dd775",
         "ParentProductName": "S1A_IW_SLC__1SDV_20250116T052726_20250116T052753_057465_071357_05E1.SAFE",
         "ParentProductType": "IW_SLC__1S",
         "PlatformSerialIdentifier": "A",
         "PolarisationChannels": "VV",
         "RelativeOrbitNumber": 168,
         "S3Path": "/eodata/Sentinel-1/SAR/IW_SLC__1S/2025/01/16/S1A_IW_SLC__1SDV_20250116T052726_20250116T052753_057465_071357_05E1.SAFE/measurement/s1a-iw2-slc-vv-20250116t052726-20250116t052751-057465-071357-005.tiff",
         "SamplesPerBurst": 26745,
         "SwathIdentifier": "IW2"
        },
        {
         "@odata.mediaContentType": "application/octet-stream",
         "AbsoluteBurstId": 123429324,
         "AzimuthAnxTime": 2199.6283731092,
         "AzimuthTime": "2025-01-16T05:27:27.932984Z",
         "BeginningDateTime": "2025-01-16T05:27:29.062577Z",
         "BurstId": 359502,
         "ByteOffset": 108891,
         "ContentDate": {
          "End": "2025-01-16T05:27:29.940787Z",
          "Start": "2025-01-16T05:27:29.062577Z"
         },
         "ContentType": "application/octet-stream",
         "DatatakeID": 463703,
         "EndingDateTime": "2025-01-16T05:27:29.940787Z",
         "Footprint": "geography'SRID=4326;POLYGON ((12.258601 46.421295, 11.684 46.499758, 11.150156 46.570046, 11.096085 46.366558, 11.629119 46.30082, 12.202845 46.226925, 12.258601 46.421295))'",
         "GeoFootprint": {
          "coordinates": [
           [
            [
             12.258601,
             46.421295
            ],
            [
             11.684,
             46.499758
            ],
            [
             11.150156,
             46.570046
            ],
            [
             11.096085,
             46.366558
            ],
            [
             11.629119,
             46.30082
            ],
            [
             12.202845,
             46.226925
            ],
            [
             12.258601,
             46.421295
            ]
           ]
          ],
          "type": "Polygon"
         },
         "Id": "c708774e-8dfc-4578-9412-cee2fb7c8bfb",
         "Lines": 0,
         "LinesPerBurst": 1508,
         "Name": "S1A-SLC-20250116T052729-359502-IW1-VV-463703",
         "OperationalMode": "IW",
         "OrbitDirection": "DESCENDING",
         "ParentProductId": "85e2e078-9e7d-45f9-8993-53fe418dd775",
         "ParentProductName": "S1A_IW_SLC__1SDV_20250116T052726_20250116T052753_057465_071357_05E1.SAFE",
         "ParentProductType": "IW_SLC__1S",
         "PlatformSerialIdentifier": "A",
         "PolarisationChannels": "VV",
         "RelativeOrbitNumber": 168,
         "S3Path": "/eodata/Sentinel-1/SAR/IW_SLC__1S/2025/01/16/S1A_IW_SLC__1SDV_20250116T052726_20250116T052753_057465_071357_05E1.SAFE/measurement/s1a-iw1-slc-vv-20250116t052727-20250116t052753-057465-071357-004.tiff",
         "SamplesPerBurst": 22990,
         "SwathIdentifier": "IW1"
        },
        {
         "@odata.mediaContentType": "application/octet-stream",
         "AbsoluteBurstId": 123648413,
         "AzimuthAnxTime": 2200.7877979914,
         "AzimuthTime": "2025-01-23T05:19:15.060837Z",
         "BeginningDateTime": "2025-01-23T05:19:16.199840Z",
         "BurstId": 202703,
         "ByteOffset": 1256856515,
         "ContentDate": {
          "End": "2025-01-23T05:19:17.104446Z",
          "Start": "2025-01-23T05:19:16.199840Z"
         },
         "ContentType": "application/octet-stream",
         "DatatakeID": 464743,
         "EndingDateTime": "2025-01-23T05:19:17.104446Z",
         "Footprint": "geography'SRID=4326;POLYGON ((12.089482 46.634916, 11.563369 46.69639, 11.056374 46.753309, 11.010245 46.548522, 11.516373 46.496209, 12.041638 46.439349, 12.089482 46.634916))'",
         "GeoFootprint": {
          "coordinates": [
           [
            [
             12.089482,
             46.634916
            ],
            [
             11.563369,
             46.69639
            ],
            [
             11.056374,
             46.753309
            ],
            [
             11.010245,
             46.548522
            ],
            [
             11.516373,
             46.496209
            ],
            [
             12.041638,
             46.439349
            ],
            [
             12.089482,
             46.634916
            ]
           ]
          ],
          "type": "Polygon"
         },
         "Id": "fdffed5a-9961-4cfc-a258-4f9cf1727548",
         "Lines": 12200,
         "LinesPerBurst": 1525,
         "Name": "S1A-SLC-20250123T051916-202703-IW3-VV-464743",
         "OperationalMode": "IW",
         "OrbitDirection": "DESCENDING",
         "ParentProductId": "020f04ca-926a-4fc2-aab8-cd420b17c6fa",
         "ParentProductName": "S1A_IW_SLC__1SDV_20250123T051852_20250123T051919_057567_071767_6BF7.SAFE",
         "ParentProductType": "IW_SLC__1S",
         "PlatformSerialIdentifier": "A",
         "PolarisationChannels": "VV",
         "RelativeOrbitNumber": 95,
         "S3Path": "/eodata/Sentinel-1/SAR/IW_SLC__1S/2025/01/23/S1A_IW_SLC__1SDV_20250123T051852_20250123T051919_057567_071767_6BF7.SAFE/measurement/s1a-iw3-slc-vv-20250123t051852-20250123t051918-057567-071767-006.tiff",
         "SamplesPerBurst": 25753,
         "SwathIdentifier": "IW3"
        },
        {
         "@odata.mediaContentType": "application/octet-stream",
         "AbsoluteBurstId": 123648414,
         "AzimuthAnxTime": 2203.5442989983,
         "AzimuthTime": "2025-01-23T05:19:17.817338Z",
         "BeginningDateTime": "2025-01-23T05:19:18.958116Z",
         "BurstId": 202704,
         "ByteOffset": 110115,
         "ContentDate": {
          "End": "2025-01-23T05:19:19.862722Z",
          "Start": "2025-01-23T05:19:18.958116Z"
         },
         "ContentType": "application/octet-stream",
         "DatatakeID": 464743,
         "EndingDateTime": "2025-01-23T05:19:19.862722Z",
         "Footprint": "geography'SRID=4326;POLYGON ((12.049022 46.469577, 11.524545 46.531064, 11.019128 46.588009, 10.97311 46.383218, 11.477674 46.330878, 12.001315 46.274004, 12.049022 46.469577))'",
         "GeoFootprint": {
          "coordinates": [
           [
            [
             12.049022,
             46.469577
            ],
            [
             11.524545,
             46.531064
            ],
            [
             11.019128,
             46.588009
            ],
            [
             10.97311,
             46.383218
            ],
            [
             11.477674,
             46.330878
            ],
            [
             12.001315,
             46.274004
            ],
            [
             12.049022,
             46.469577
            ]
           ]
          ],
          "type": "Polygon"
         },
         "Id": "e506e922-18ff-42fd-a7f9-d43cd7fb306d",
         "Lines": 0,
         "LinesPerBurst": 1525,
         "Name": "S1A-SLC-20250123T051918-202704-IW3-VV-464743",
         "OperationalMode": "IW",
         "OrbitDirection": "DESCENDING",
         "ParentProductId": "6eac70cf-74e8-4fac-8f8b-71c9384d1f1e",
         "ParentProductName": "S1A_IW_SLC__1SDV_20250123T051916_20250123T051943_057567_071767_F3FA.SAFE",
         "ParentProductType": "IW_SLC__1S",
         "PlatformSerialIdentifier": "A",
         "PolarisationChannels": "VV",
         "RelativeOrbitNumber": 95,
         "S3Path": "/eodata/Sentinel-1/SAR/IW_SLC__1S/2025/01/23/S1A_IW_SLC__1SDV_20250123T051916_20250123T051943_057567_071767_F3FA.SAFE/measurement/s1a-iw3-slc-vv-20250123t051917-20250123t051943-057567-071767-006.tiff",
         "SamplesPerBurst": 25753,
         "SwathIdentifier": "IW3"
        },
        {
         "@odata.mediaContentType": "application/octet-stream",
         "AbsoluteBurstId": 123695143,
         "AzimuthAnxTime": 753.4013428856001,
         "AzimuthTime": "2025-01-24T17:07:28.275204Z",
         "BeginningDateTime": "2025-01-24T17:07:29.284492Z",
         "BurstId": 249433,
         "ByteOffset": 640810107,
         "ContentDate": {
          "End": "2025-01-24T17:07:30.326082Z",
          "Start": "2025-01-24T17:07:29.284492Z"
         },
         "ContentType": "application/octet-stream",
         "DatatakeID": 464973,
         "EndingDateTime": "2025-01-24T17:07:30.326082Z",
         "Footprint": "geography'SRID=4326;POLYGON ((10.804564 46.276581, 11.402422 46.34791, 11.967742 46.412202, 11.920848 46.604472, 11.354552 46.535976, 10.755691 46.460429, 10.804564 46.276581))'",
         "GeoFootprint": {
          "coordinates": [
           [
            [
             10.804564,
             46.276581
            ],
            [
             11.402422,
             46.34791
            ],
            [
             11.967742,
             46.412202
            ],
            [
             11.920848,
             46.604472
            ],
            [
             11.354552,
             46.535976
            ],
            [
             10.755691,
             46.460429
            ],
            [
             10.804564,
             46.276581
            ]
           ]
          ],
          "type": "Polygon"
         },
         "Id": "fbf21a0b-90cf-4722-8865-4335097bbf90",
         "Lines": 6048,
         "LinesPerBurst": 1512,
         "Name": "S1A-SLC-20250124T170729-249433-IW2-VV-464973",
         "OperationalMode": "IW",
         "OrbitDirection": "ASCENDING",
         "ParentProductId": "67ec9a8e-f865-43a1-ad0f-aa43b5f18957",
         "ParentProductName": "S1A_IW_SLC__1SDV_20250124T170715_20250124T170742_057589_07184D_DE00.SAFE",
         "ParentProductType": "IW_SLC__1S",
         "PlatformSerialIdentifier": "A",
         "PolarisationChannels": "VV",
         "RelativeOrbitNumber": 117,
         "S3Path": "/eodata/Sentinel-1/SAR/IW_SLC__1S/2025/01/24/S1A_IW_SLC__1SDV_20250124T170715_20250124T170742_057589_07184D_DE00.SAFE/measurement/s1a-iw2-slc-vv-20250124t170717-20250124t170742-057589-07184d-005.tiff",
         "SamplesPerBurst": 26484,
         "SwathIdentifier": "IW2"
        },
        {
         "@odata.mediaContentType": "application/octet-stream",
         "AbsoluteBurstId": 123695144,
         "AzimuthAnxTime": 756.1598994402,
         "AzimuthTime": "2025-01-24T17:07:31.033760Z",
         "BeginningDateTime": "2025-01-24T17:07:32.042769Z",
         "BurstId": 249434,
         "ByteOffset": 800985339,
         "ContentDate": {
          "End": "2025-01-24T17:07:33.084359Z",
          "Start": "2025-01-24T17:07:32.042769Z"
         },
         "ContentType": "application/octet-stream",
         "DatatakeID": 464973,
         "EndingDateTime": "2025-01-24T17:07:33.084359Z",
         "Footprint": "geography'SRID=4326;POLYGON ((10.760624 46.441904, 11.360345 46.513254, 11.927424 46.577547, 11.880394 46.76981, 11.312324 46.701311, 10.711586 46.625741, 10.760624 46.441904))'",
         "GeoFootprint": {
          "coordinates": [
           [
            [
             10.760624,
             46.441904
            ],
            [
             11.360345,
             46.513254
            ],
            [
             11.927424,
             46.577547
            ],
            [
             11.880394,
             46.76981
            ],
            [
             11.312324,
             46.701311
            ],
            [
             10.711586,
             46.625741
            ],
            [
             10.760624,
             46.441904
            ]
           ]
          ],
          "type": "Polygon"
         },
         "Id": "f134b4ce-ccd8-4436-99a7-d91f66eb2c9f",
         "Lines": 7560,
         "LinesPerBurst": 1512,
         "Name": "S1A-SLC-20250124T170732-249434-IW2-VV-464973",
         "OperationalMode": "IW",
         "OrbitDirection": "ASCENDING",
         "ParentProductId": "67ec9a8e-f865-43a1-ad0f-aa43b5f18957",
         "ParentProductName": "S1A_IW_SLC__1SDV_20250124T170715_20250124T170742_057589_07184D_DE00.SAFE",
         "ParentProductType": "IW_SLC__1S",
         "PlatformSerialIdentifier": "A",
         "PolarisationChannels": "VV",
         "RelativeOrbitNumber": 117,
         "S3Path": "/eodata/Sentinel-1/SAR/IW_SLC__1S/2025/01/24/S1A_IW_SLC__1SDV_20250124T170715_20250124T170742_057589_07184D_DE00.SAFE/measurement/s1a-iw2-slc-vv-20250124t170717-20250124t170742-057589-07184d-005.tiff",
         "SamplesPerBurst": 26484,
         "SwathIdentifier": "IW2"
        },
        {
         "@odata.mediaContentType": "application/octet-stream",
         "AbsoluteBurstId": 123805211,
         "AzimuthAnxTime": 2196.865239546,
         "AzimuthTime": "2025-01-28T05:27:24.672776Z",
         "BeginningDateTime": "2025-01-28T05:27:25.800608Z",
         "BurstId": 359501,
         "ByteOffset": 1109514331,
         "ContentDate": {
          "End": "2025-01-28T05:27:26.678818Z",
          "Start": "2025-01-28T05:27:25.800608Z"
         },
         "ContentType": "application/octet-stream",
         "DatatakeID": 465491,
         "EndingDateTime": "2025-01-28T05:27:26.678818Z",
         "Footprint": "geography'SRID=4326;POLYGON ((12.306189 46.586499, 11.729773 46.66502, 11.194249 46.735345, 11.139994 46.531867, 11.674696 46.466093, 12.250223 46.392142, 12.306189 46.586499))'",
         "GeoFootprint": {
          "coordinates": [
           [
            [
             12.306189,
             46.586499
            ],
            [
             11.729773,
             46.66502
            ],
            [
             11.194249,
             46.735345
            ],
            [
             11.139994,
             46.531867
            ],
            [
             11.674696,
             46.466093
            ],
            [
             12.250223,
             46.392142
            ],
            [
             12.306189,
             46.586499
            ]
           ]
          ],
          "type": "Polygon"
         },
         "Id": "8c0a5e4c-606c-422e-8328-a4df2393e7db",
         "Lines": 12064,
         "LinesPerBurst": 1508,
         "Name": "S1A-SLC-20250128T052725-359501-IW1-VV-465491",
         "OperationalMode": "IW",
         "OrbitDirection": "DESCENDING",
         "ParentProductId": "18782a59-e548-4759-8a65-a99160763bf8",
         "ParentProductName": "S1A_IW_SLC__1SDV_20250128T052700_20250128T052727_057640_071A53_6589.SAFE",
         "ParentProductType": "IW_SLC__1S",
         "PlatformSerialIdentifier": "A",
         "PolarisationChannels": "VV",
         "RelativeOrbitNumber": 168,
         "S3Path": "/eodata/Sentinel-1/SAR/IW_SLC__1S/2025/01/28/S1A_IW_SLC__1SDV_20250128T052700_20250128T052727_057640_071A53_6589.SAFE/measurement/s1a-iw1-slc-vv-20250128t052702-20250128t052727-057640-071a53-004.tiff",
         "SamplesPerBurst": 22990,
         "SwathIdentifier": "IW1"
        },
        {
         "@odata.mediaContentType": "application/octet-stream",
         "AbsoluteBurstId": 123805211,
         "AzimuthAnxTime": 2197.8066841109,
         "AzimuthTime": "2025-01-28T05:27:25.614220Z",
         "BeginningDateTime": "2025-01-28T05:27:26.632810Z",
         "BurstId": 359501,
         "ByteOffset": 109683,
         "ContentDate": {
          "End": "2025-01-28T05:27:27.679222Z",
          "Start": "2025-01-28T05:27:26.632810Z"
         },
         "ContentType": "application/octet-stream",
         "DatatakeID": 465491,
         "EndingDateTime": "2025-01-28T05:27:27.679222Z",
         "Footprint": "geography'SRID=4326;POLYGON ((11.210885 46.663981, 10.609883 46.739546, 10.041572 46.808037, 9.994503 46.61577, 10.56182 46.551482, 11.161802 46.480136, 11.210885 46.663981))'",
         "GeoFootprint": {
          "coordinates": [
           [
            [
             11.210885,
             46.663981
            ],
            [
             10.609883,
             46.739546
            ],
            [
             10.041572,
             46.808037
            ],
            [
             9.994503,
             46.61577
            ],
            [
             10.56182,
             46.551482
            ],
            [
             11.161802,
             46.480136
            ],
            [
             11.210885,
             46.663981
            ]
           ]
          ],
          "type": "Polygon"
         },
         "Id": "292df96b-0c15-4cd8-a546-544bd1d21a10",
         "Lines": 0,
         "LinesPerBurst": 1519,
         "Name": "S1A-SLC-20250128T052726-359501-IW2-VV-465491",
         "OperationalMode": "IW",
         "OrbitDirection": "DESCENDING",
         "ParentProductId": "1b035bab-9917-4508-a0d6-bd692d3ef28f",
         "ParentProductName": "S1A_IW_SLC__1SDV_20250128T052725_20250128T052752_057640_071A53_7DC1.SAFE",
         "ParentProductType": "IW_SLC__1S",
         "PlatformSerialIdentifier": "A",
         "PolarisationChannels": "VV",
         "RelativeOrbitNumber": 168,
         "S3Path": "/eodata/Sentinel-1/SAR/IW_SLC__1S/2025/01/28/S1A_IW_SLC__1SDV_20250128T052725_20250128T052752_057640_071A53_7DC1.SAFE/measurement/s1a-iw2-slc-vv-20250128t052725-20250128t052750-057640-071a53-005.tiff",
         "SamplesPerBurst": 26745,
         "SwathIdentifier": "IW2"
        },
        {
         "@odata.mediaContentType": "application/octet-stream",
         "AbsoluteBurstId": 123805212,
         "AzimuthAnxTime": 2199.6237956655,
         "AzimuthTime": "2025-01-28T05:27:27.431332Z",
         "BeginningDateTime": "2025-01-28T05:27:28.558884Z",
         "BurstId": 359502,
         "ByteOffset": 108891,
         "ContentDate": {
          "End": "2025-01-28T05:27:29.437094Z",
          "Start": "2025-01-28T05:27:28.558884Z"
         },
         "ContentType": "application/octet-stream",
         "DatatakeID": 465491,
         "EndingDateTime": "2025-01-28T05:27:29.437094Z",
         "Footprint": "geography'SRID=4326;POLYGON ((12.258601 46.421295, 11.684 46.499758, 11.150156 46.570046, 11.096085 46.366558, 11.629119 46.30082, 12.202845 46.226925, 12.258601 46.421295))'",
         "GeoFootprint": {
          "coordinates": [
           [
            [
             12.258601,
             46.421295
            ],
            [
             11.684,
             46.499758
            ],
            [
             11.150156,
             46.570046
            ],
            [
             11.096085,
             46.366558
            ],
            [
             11.629119,
             46.30082
            ],
            [
             12.202845,
             46.226925
            ],
            [
             12.258601,
             46.421295
            ]
           ]
          ],
          "type": "Polygon"
         },
         "Id": "c532488e-2499-4069-a993-d783e69270c9",
         "Lines": 0,
         "LinesPerBurst": 1508,
         "Name": "S1A-SLC-20250128T052728-359502-IW1-VV-465491",
         "OperationalMode": "IW",
         "OrbitDirection": "DESCENDING",
         "ParentProductId": "1b035bab-9917-4508-a0d6-bd692d3ef28f",
         "ParentProductName": "S1A_IW_SLC__1SDV_20250128T052725_20250128T052752_057640_071A53_7DC1.SAFE",
         "ParentProductType": "IW_SLC__1S",
         "PlatformSerialIdentifier": "A",
         "PolarisationChannels": "VV",
         "RelativeOrbitNumber": 168,
         "S3Path": "/eodata/Sentinel-1/SAR/IW_SLC__1S/2025/01/28/S1A_IW_SLC__1SDV_20250128T052725_20250128T052752_057640_071A53_7DC1.SAFE/measurement/s1a-iw1-slc-vv-20250128t052727-20250128t052752-057640-071a53-004.tiff",
         "SamplesPerBurst": 22990,
         "SwathIdentifier": "IW1"
        },
        {
         "@odata.mediaContentType": "application/octet-stream",
         "AbsoluteBurstId": 124024301,
         "AzimuthAnxTime": 2200.7773068788,
         "AzimuthTime": "2025-02-04T05:19:14.459950Z",
         "BeginningDateTime": "2025-02-04T05:19:15.601009Z",
         "BurstId": 202703,
         "ByteOffset": 1256856515,
         "ContentDate": {
          "End": "2025-02-04T05:19:16.505615Z",
          "Start": "2025-02-04T05:19:15.601009Z"
         },
         "ContentType": "application/octet-stream",
         "DatatakeID": 466513,
         "EndingDateTime": "2025-02-04T05:19:16.505615Z",
         "Footprint": "geography'SRID=4326;POLYGON ((12.089482 46.634916, 11.563369 46.69639, 11.056374 46.753309, 11.010245 46.548522, 11.516373 46.496209, 12.041638 46.439349, 12.089482 46.634916))'",
         "GeoFootprint": {
          "coordinates": [
           [
            [
             12.089482,
             46.634916
            ],
            [
             11.563369,
             46.69639
            ],
            [
             11.056374,
             46.753309
            ],
            [
             11.010245,
             46.548522
            ],
            [
             11.516373,
             46.496209
            ],
            [
             12.041638,
             46.439349
            ],
            [
             12.089482,
             46.634916
            ]
           ]
          ],
          "type": "Polygon"
         },
         "Id": "3c2bfece-d2d9-428c-92e5-73f8dd91e6c3",
         "Lines": 12200,
         "LinesPerBurst": 1525,
         "Name": "S1A-SLC-20250204T051915-202703-IW3-VV-466513",
         "OperationalMode": "IW",
         "OrbitDirection": "DESCENDING",
         "ParentProductId": "10cab7db-e4e7-46a2-999c-9c9b6d354170",
         "ParentProductName": "S1A_IW_SLC__1SDV_20250204T051851_20250204T051918_057742_071E51_782E.SAFE",
         "ParentProductType": "IW_SLC__1S",
         "PlatformSerialIdentifier": "A",
         "PolarisationChannels": "VV",
         "RelativeOrbitNumber": 95,
         "S3Path": "/eodata/Sentinel-1/SAR/IW_SLC__1S/2025/02/04/S1A_IW_SLC__1SDV_20250204T051851_20250204T051918_057742_071E51_782E.SAFE/measurement/s1a-iw3-slc-vv-20250204t051852-20250204t051917-057742-071e51-006.tiff",
         "SamplesPerBurst": 25753,
         "SwathIdentifier": "IW3"
        },
        {
         "@odata.mediaContentType": "application/octet-stream",
         "AbsoluteBurstId": 124024302,
         "AzimuthAnxTime": 2203.5358635546,
         "AzimuthTime": "2025-02-04T05:19:17.218507Z",
         "BeginningDateTime": "2025-02-04T05:19:18.359285Z",
         "BurstId": 202704,
         "ByteOffset": 110115,
         "ContentDate": {
          "End": "2025-02-04T05:19:19.263891Z",
          "Start": "2025-02-04T05:19:18.359285Z"
         },
         "ContentType": "application/octet-stream",
         "DatatakeID": 466513,
         "EndingDateTime": "2025-02-04T05:19:19.263891Z",
         "Footprint": "geography'SRID=4326;POLYGON ((12.049022 46.469577, 11.524545 46.531064, 11.019128 46.588009, 10.97311 46.383218, 11.477674 46.330878, 12.001315 46.274004, 12.049022 46.469577))'",
         "GeoFootprint": {
          "coordinates": [
           [
            [
             12.049022,
             46.469577
            ],
            [
             11.524545,
             46.531064
            ],
            [
             11.019128,
             46.588009
            ],
            [
             10.97311,
             46.383218
            ],
            [
             11.477674,
             46.330878
            ],
            [
             12.001315,
             46.274004
            ],
            [
             12.049022,
             46.469577
            ]
           ]
          ],
          "type": "Polygon"
         },
         "Id": "2ca958a8-6013-4e18-bbce-4c5a837cf84e",
         "Lines": 0,
         "LinesPerBurst": 1525,
         "Name": "S1A-SLC-20250204T051918-202704-IW3-VV-466513",
         "OperationalMode": "IW",
         "OrbitDirection": "DESCENDING",
         "ParentProductId": "0a50104f-55d0-48c4-93f6-1bb0e8f2c2a7",
         "ParentProductName": "S1A_IW_SLC__1SDV_20250204T051916_20250204T051943_057742_071E51_FBA0.SAFE",
         "ParentProductType": "IW_SLC__1S",
         "PlatformSerialIdentifier": "A",
         "PolarisationChannels": "VV",
         "RelativeOrbitNumber": 95,
         "S3Path": "/eodata/Sentinel-1/SAR/IW_SLC__1S/2025/02/04/S1A_IW_SLC__1SDV_20250204T051916_20250204T051943_057742_071E51_FBA0.SAFE/measurement/s1a-iw3-slc-vv-20250204t051917-20250204t051942-057742-071e51-006.tiff",
         "SamplesPerBurst": 25753,
         "SwathIdentifier": "IW3"
        },
        {
         "@odata.mediaContentType": "application/octet-stream",
         "AbsoluteBurstId": 124071030,
         "AzimuthAnxTime": 753.402054773,
         "AzimuthTime": "2025-02-05T17:07:27.781946Z",
         "BeginningDateTime": "2025-02-05T17:07:28.791221Z",
         "BurstId": 249433,
         "ByteOffset": 640810107,
         "ContentDate": {
          "End": "2025-02-05T17:07:29.832811Z",
          "Start": "2025-02-05T17:07:28.791221Z"
         },
         "ContentType": "application/octet-stream",
         "DatatakeID": 466741,
         "EndingDateTime": "2025-02-05T17:07:29.832811Z",
         "Footprint": "geography'SRID=4326;POLYGON ((10.804564 46.276581, 11.402422 46.34791, 11.967742 46.412202, 11.920848 46.604472, 11.354552 46.535976, 10.755691 46.460429, 10.804564 46.276581))'",
         "GeoFootprint": {
          "coordinates": [
           [
            [
             10.804564,
             46.276581
            ],
            [
             11.402422,
             46.34791
            ],
            [
             11.967742,
             46.412202
            ],
            [
             11.920848,
             46.604472
            ],
            [
             11.354552,
             46.535976
            ],
            [
             10.755691,
             46.460429
            ],
            [
             10.804564,
             46.276581
            ]
           ]
          ],
          "type": "Polygon"
         },
         "Id": "be7ea9bd-5fdb-44c0-a8de-a7538a691385",
         "Lines": 6048,
         "LinesPerBurst": 1512,
         "Name": "S1A-SLC-20250205T170728-249433-IW2-VV-466741",
         "OperationalMode": "IW",
         "OrbitDirection": "ASCENDING",
         "ParentProductId": "e0611806-0cc2-4616-85bc-4cf720328bf7",
         "ParentProductName": "S1A_IW_SLC__1SDV_20250205T170714_20250205T170741_057764_071F35_3B7C.SAFE",
         "ParentProductType": "IW_SLC__1S",
         "PlatformSerialIdentifier": "A",
         "PolarisationChannels": "VV",
         "RelativeOrbitNumber": 117,
         "S3Path": "/eodata/Sentinel-1/SAR/IW_SLC__1S/2025/02/05/S1A_IW_SLC__1SDV_20250205T170714_20250205T170741_057764_071F35_3B7C.SAFE/measurement/s1a-iw2-slc-vv-20250205t170716-20250205t170741-057764-071f35-005.tiff",
         "SamplesPerBurst": 26484,
         "SwathIdentifier": "IW2"
        },
        {
         "@odata.mediaContentType": "application/octet-stream",
         "AbsoluteBurstId": 124071031,
         "AzimuthAnxTime": 756.1606113276,
         "AzimuthTime": "2025-02-05T17:07:30.540502Z",
         "BeginningDateTime": "2025-02-05T17:07:31.549498Z",
         "BurstId": 249434,
         "ByteOffset": 800985339,
         "ContentDate": {
          "End": "2025-02-05T17:07:32.591088Z",
          "Start": "2025-02-05T17:07:31.549498Z"
         },
         "ContentType": "application/octet-stream",
         "DatatakeID": 466741,
         "EndingDateTime": "2025-02-05T17:07:32.591088Z",
         "Footprint": "geography'SRID=4326;POLYGON ((10.760624 46.441904, 11.360345 46.513254, 11.927424 46.577547, 11.880394 46.76981, 11.312324 46.701311, 10.711586 46.625741, 10.760624 46.441904))'",
         "GeoFootprint": {
          "coordinates": [
           [
            [
             10.760624,
             46.441904
            ],
            [
             11.360345,
             46.513254
            ],
            [
             11.927424,
             46.577547
            ],
            [
             11.880394,
             46.76981
            ],
            [
             11.312324,
             46.701311
            ],
            [
             10.711586,
             46.625741
            ],
            [
             10.760624,
             46.441904
            ]
           ]
          ],
          "type": "Polygon"
         },
         "Id": "6cd7f4ce-6e20-4990-9536-eecb0330b377",
         "Lines": 7560,
         "LinesPerBurst": 1512,
         "Name": "S1A-SLC-20250205T170731-249434-IW2-VV-466741",
         "OperationalMode": "IW",
         "OrbitDirection": "ASCENDING",
         "ParentProductId": "e0611806-0cc2-4616-85bc-4cf720328bf7",
         "ParentProductName": "S1A_IW_SLC__1SDV_20250205T170714_20250205T170741_057764_071F35_3B7C.SAFE",
         "ParentProductType": "IW_SLC__1S",
         "PlatformSerialIdentifier": "A",
         "PolarisationChannels": "VV",
         "RelativeOrbitNumber": 117,
         "S3Path": "/eodata/Sentinel-1/SAR/IW_SLC__1S/2025/02/05/S1A_IW_SLC__1SDV_20250205T170714_20250205T170741_057764_071F35_3B7C.SAFE/measurement/s1a-iw2-slc-vv-20250205t170716-20250205t170741-057764-071f35-005.tiff",
         "SamplesPerBurst": 26484,
         "SwathIdentifier": "IW2"
        },
        {
         "@odata.mediaContentType": "application/octet-stream",
         "AbsoluteBurstId": 124181098,
         "AzimuthAnxTime": 2196.8563924334,
         "AzimuthTime": "2025-02-09T05:27:24.262485Z",
         "BeginningDateTime": "2025-02-09T05:27:25.392359Z",
         "BurstId": 359501,
         "ByteOffset": 1109514331,
         "ContentDate": {
          "End": "2025-02-09T05:27:26.270569Z",
          "Start": "2025-02-09T05:27:25.392359Z"
         },
         "ContentType": "application/octet-stream",
         "DatatakeID": 467258,
         "EndingDateTime": "2025-02-09T05:27:26.270569Z",
         "Footprint": "geography'SRID=4326;POLYGON ((12.306189 46.586499, 11.729773 46.66502, 11.194249 46.735345, 11.139994 46.531867, 11.674696 46.466093, 12.250223 46.392142, 12.306189 46.586499))'",
         "GeoFootprint": {
          "coordinates": [
           [
            [
             12.306189,
             46.586499
            ],
            [
             11.729773,
             46.66502
            ],
            [
             11.194249,
             46.735345
            ],
            [
             11.139994,
             46.531867
            ],
            [
             11.674696,
             46.466093
            ],
            [
             12.250223,
             46.392142
            ],
            [
             12.306189,
             46.586499
            ]
           ]
          ],
          "type": "Polygon"
         },
         "Id": "078a6103-4a09-46fe-81d4-ec3586cc8cf3",
         "Lines": 12064,
         "LinesPerBurst": 1508,
         "Name": "S1A-SLC-20250209T052725-359501-IW1-VV-467258",
         "OperationalMode": "IW",
         "OrbitDirection": "DESCENDING",
         "ParentProductId": "82372857-01d8-4bc4-b95f-7f9f853a8e64",
         "ParentProductName": "S1A_IW_SLC__1SDV_20250209T052700_20250209T052727_057815_07213A_0863.SAFE",
         "ParentProductType": "IW_SLC__1S",
         "PlatformSerialIdentifier": "A",
         "PolarisationChannels": "VV",
         "RelativeOrbitNumber": 168,
         "S3Path": "/eodata/Sentinel-1/SAR/IW_SLC__1S/2025/02/09/S1A_IW_SLC__1SDV_20250209T052700_20250209T052727_057815_07213A_0863.SAFE/measurement/s1a-iw1-slc-vv-20250209t052702-20250209t052727-057815-07213a-004.tiff",
         "SamplesPerBurst": 22990,
         "SwathIdentifier": "IW1"
        },
        {
         "@odata.mediaContentType": "application/octet-stream",
         "AbsoluteBurstId": 124181098,
         "AzimuthAnxTime": 2197.8019486672,
         "AzimuthTime": "2025-02-09T05:27:25.208042Z",
         "BeginningDateTime": "2025-02-09T05:27:26.224561Z",
         "BurstId": 359501,
         "ByteOffset": 109683,
         "ContentDate": {
          "End": "2025-02-09T05:27:27.270973Z",
          "Start": "2025-02-09T05:27:26.224561Z"
         },
         "ContentType": "application/octet-stream",
         "DatatakeID": 467258,
         "EndingDateTime": "2025-02-09T05:27:27.270973Z",
         "Footprint": "geography'SRID=4326;POLYGON ((11.210885 46.663981, 10.609883 46.739546, 10.041572 46.808037, 9.994503 46.61577, 10.56182 46.551482, 11.161802 46.480136, 11.210885 46.663981))'",
         "GeoFootprint": {
          "coordinates": [
           [
            [
             11.210885,
             46.663981
            ],
            [
             10.609883,
             46.739546
            ],
            [
             10.041572,
             46.808037
            ],
            [
             9.994503,
             46.61577
            ],
            [
             10.56182,
             46.551482
            ],
            [
             11.161802,
             46.480136
            ],
            [
             11.210885,
             46.663981
            ]
           ]
          ],
          "type": "Polygon"
         },
         "Id": "277e00c9-cf93-4e8a-9840-79386a39cad9",
         "Lines": 0,
         "LinesPerBurst": 1519,
         "Name": "S1A-SLC-20250209T052726-359501-IW2-VV-467258",
         "OperationalMode": "IW",
         "OrbitDirection": "DESCENDING",
         "ParentProductId": "26caa0f5-5918-4c89-92cc-c7d6ecc2b568",
         "ParentProductName": "S1A_IW_SLC__1SDV_20250209T052725_20250209T052752_057815_07213A_2684.SAFE",
         "ParentProductType": "IW_SLC__1S",
         "PlatformSerialIdentifier": "A",
         "PolarisationChannels": "VV",
         "RelativeOrbitNumber": 168,
         "S3Path": "/eodata/Sentinel-1/SAR/IW_SLC__1S/2025/02/09/S1A_IW_SLC__1SDV_20250209T052725_20250209T052752_057815_07213A_2684.SAFE/measurement/s1a-iw2-slc-vv-20250209t052725-20250209t052750-057815-07213a-005.tiff",
         "SamplesPerBurst": 26745,
         "SwathIdentifier": "IW2"
        },
        {
         "@odata.mediaContentType": "application/octet-stream",
         "AbsoluteBurstId": 124181099,
         "AzimuthAnxTime": 2199.6149491092,
         "AzimuthTime": "2025-02-09T05:27:27.021042Z",
         "BeginningDateTime": "2025-02-09T05:27:28.150635Z",
         "BurstId": 359502,
         "ByteOffset": 108891,
         "ContentDate": {
          "End": "2025-02-09T05:27:29.028845Z",
          "Start": "2025-02-09T05:27:28.150635Z"
         },
         "ContentType": "application/octet-stream",
         "DatatakeID": 467258,
         "EndingDateTime": "2025-02-09T05:27:29.028845Z",
         "Footprint": "geography'SRID=4326;POLYGON ((12.258601 46.421295, 11.684 46.499758, 11.150156 46.570046, 11.096085 46.366558, 11.629119 46.30082, 12.202845 46.226925, 12.258601 46.421295))'",
         "GeoFootprint": {
          "coordinates": [
           [
            [
             12.258601,
             46.421295
            ],
            [
             11.684,
             46.499758
            ],
            [
             11.150156,
             46.570046
            ],
            [
             11.096085,
             46.366558
            ],
            [
             11.629119,
             46.30082
            ],
            [
             12.202845,
             46.226925
            ],
            [
             12.258601,
             46.421295
            ]
           ]
          ],
          "type": "Polygon"
         },
         "Id": "0593382e-9b75-427d-92a2-c029fc837287",
         "Lines": 0,
         "LinesPerBurst": 1508,
         "Name": "S1A-SLC-20250209T052728-359502-IW1-VV-467258",
         "OperationalMode": "IW",
         "OrbitDirection": "DESCENDING",
         "ParentProductId": "26caa0f5-5918-4c89-92cc-c7d6ecc2b568",
         "ParentProductName": "S1A_IW_SLC__1SDV_20250209T052725_20250209T052752_057815_07213A_2684.SAFE",
         "ParentProductType": "IW_SLC__1S",
         "PlatformSerialIdentifier": "A",
         "PolarisationChannels": "VV",
         "RelativeOrbitNumber": 168,
         "S3Path": "/eodata/Sentinel-1/SAR/IW_SLC__1S/2025/02/09/S1A_IW_SLC__1SDV_20250209T052725_20250209T052752_057815_07213A_2684.SAFE/measurement/s1a-iw1-slc-vv-20250209t052727-20250209t052752-057815-07213a-004.tiff",
         "SamplesPerBurst": 22990,
         "SwathIdentifier": "IW1"
        },
        {
         "@odata.mediaContentType": "application/octet-stream",
         "AbsoluteBurstId": 118761879,
         "AzimuthAnxTime": 2203.5153909983,
         "AzimuthTime": "2024-08-20T05:19:22.694127Z",
         "BeginningDateTime": "2024-08-20T05:19:23.836976Z",
         "BurstId": 202704,
         "ByteOffset": 110043,
         "ContentDate": {
          "End": "2024-08-20T05:19:27.026976Z",
          "Start": "2024-08-20T05:19:23.836976Z"
         },
         "ContentType": "application/octet-stream",
         "DatatakeID": 28800,
         "EndingDateTime": "2024-08-20T05:19:27.026976Z",
         "Footprint": "geography'SRID=4326;POLYGON ((12.049022 46.469577, 11.524545 46.531064, 11.019128 46.588009, 10.97311 46.383218, 11.477674 46.330878, 12.001315 46.274004, 12.049022 46.469577))'",
         "GeoFootprint": {
          "coordinates": [
           [
            [
             12.049022,
             46.469577
            ],
            [
             11.524545,
             46.531064
            ],
            [
             11.019128,
             46.588009
            ],
            [
             10.97311,
             46.383218
            ],
            [
             11.477674,
             46.330878
            ],
            [
             12.001315,
             46.274004
            ],
            [
             12.049022,
             46.469577
            ]
           ]
          ],
          "type": "Polygon"
         },
         "Id": "b1b97e3a-64d9-4e52-8638-c9b0bd10c377",
         "Lines": 0,
         "LinesPerBurst": 1524,
         "Name": "S1A-SLC-20240820T051923-202704-IW3-VV-028800",
         "OperationalMode": "IW",
         "OrbitDirection": "DESCENDING",
         "ParentProductId": "356ea388-7640-4501-adda-107b7e6088b3",
         "ParentProductName": "S1A_IW_SLC__1SDV_20240820T051921_20240820T051948_055292_06BDB8_AE12.SAFE",
         "ParentProductType": "IW_SLC__1S",
         "PlatformSerialIdentifier": "A",
         "PolarisationChannels": "VV",
         "RelativeOrbitNumber": 95,
         "S3Path": "/eodata/Sentinel-1/SAR/IW_SLC__1S/2024/08/20/S1A_IW_SLC__1SDV_20240820T051921_20240820T051948_055292_06BDB8_AE12.SAFE/measurement/s1a-iw3-slc-vv-20240820t051922-20240820t051947-055292-06bdb8-006.tiff",
         "SamplesPerBurst": 25504,
         "SwathIdentifier": "IW3"
        },
        {
         "@odata.mediaContentType": "application/octet-stream",
         "AbsoluteBurstId": 118761878,
         "AzimuthAnxTime": 2200.7588899914,
         "AzimuthTime": "2024-08-20T05:19:19.937626Z",
         "BeginningDateTime": "2024-08-20T05:19:21.078700Z",
         "BurstId": 202703,
         "ByteOffset": 1243889115,
         "ContentDate": {
          "End": "2024-08-20T05:19:24.268700Z",
          "Start": "2024-08-20T05:19:21.078700Z"
         },
         "ContentType": "application/octet-stream",
         "DatatakeID": 28800,
         "EndingDateTime": "2024-08-20T05:19:24.268700Z",
         "Footprint": "geography'SRID=4326;POLYGON ((12.089482 46.634916, 11.563369 46.69639, 11.056374 46.753309, 11.010245 46.548522, 11.516373 46.496209, 12.041638 46.439349, 12.089482 46.634916))'",
         "GeoFootprint": {
          "coordinates": [
           [
            [
             12.089482,
             46.634916
            ],
            [
             11.563369,
             46.69639
            ],
            [
             11.056374,
             46.753309
            ],
            [
             11.010245,
             46.548522
            ],
            [
             11.516373,
             46.496209
            ],
            [
             12.041638,
             46.439349
            ],
            [
             12.089482,
             46.634916
            ]
           ]
          ],
          "type": "Polygon"
         },
         "Id": "e48dc516-6276-4203-bf13-968a0bad00d7",
         "Lines": 12192,
         "LinesPerBurst": 1524,
         "Name": "S1A-SLC-20240820T051921-202703-IW3-VV-028800",
         "OperationalMode": "IW",
         "OrbitDirection": "DESCENDING",
         "ParentProductId": "691efab6-32d8-481a-aa9d-5f2ffa03065b",
         "ParentProductName": "S1A_IW_SLC__1SDV_20240820T051856_20240820T051923_055292_06BDB8_0B78.SAFE",
         "ParentProductType": "IW_SLC__1S",
         "PlatformSerialIdentifier": "A",
         "PolarisationChannels": "VV",
         "RelativeOrbitNumber": 95,
         "S3Path": "/eodata/Sentinel-1/SAR/IW_SLC__1S/2024/08/20/S1A_IW_SLC__1SDV_20240820T051856_20240820T051923_055292_06BDB8_0B78.SAFE/measurement/s1a-iw3-slc-vv-20240820t051857-20240820t051923-055292-06bdb8-006.tiff",
         "SamplesPerBurst": 25504,
         "SwathIdentifier": "IW3"
        },
        {
         "@odata.mediaContentType": "application/octet-stream",
         "AbsoluteBurstId": 118808607,
         "AzimuthAnxTime": 753.3894472167,
         "AzimuthTime": "2024-08-21T17:07:33.184650Z",
         "BeginningDateTime": "2024-08-21T17:07:34.206260Z",
         "BurstId": 249433,
         "ByteOffset": 640810107,
         "ContentDate": {
          "End": "2024-08-21T17:07:37.396260Z",
          "Start": "2024-08-21T17:07:34.206260Z"
         },
         "ContentType": "application/octet-stream",
         "DatatakeID": 11008,
         "EndingDateTime": "2024-08-21T17:07:37.396260Z",
         "Footprint": "geography'SRID=4326;POLYGON ((10.804564 46.276581, 11.402422 46.34791, 11.967742 46.412202, 11.920848 46.604472, 11.354552 46.535976, 10.755691 46.460429, 10.804564 46.276581))'",
         "GeoFootprint": {
          "coordinates": [
           [
            [
             10.804564,
             46.276581
            ],
            [
             11.402422,
             46.34791
            ],
            [
             11.967742,
             46.412202
            ],
            [
             11.920848,
             46.604472
            ],
            [
             11.354552,
             46.535976
            ],
            [
             10.755691,
             46.460429
            ],
            [
             10.804564,
             46.276581
            ]
           ]
          ],
          "type": "Polygon"
         },
         "Id": "a2498f97-73af-4f32-876e-c17d640e5c39",
         "Lines": 6048,
         "LinesPerBurst": 1512,
         "Name": "S1A-SLC-20240821T170734-249433-IW2-VV-011008",
         "OperationalMode": "IW",
         "OrbitDirection": "ASCENDING",
         "ParentProductId": "7cdcacc9-388c-4cfa-ad22-1bba0edee787",
         "ParentProductName": "S1A_IW_SLC__1SDV_20240821T170720_20240821T170747_055314_06BE95_CC41.SAFE",
         "ParentProductType": "IW_SLC__1S",
         "PlatformSerialIdentifier": "A",
         "PolarisationChannels": "VV",
         "RelativeOrbitNumber": 117,
         "S3Path": "/eodata/Sentinel-1/SAR/IW_SLC__1S/2024/08/21/S1A_IW_SLC__1SDV_20240821T170720_20240821T170747_055314_06BE95_CC41.SAFE/measurement/s1a-iw2-slc-vv-20240821t170722-20240821t170747-055314-06be95-005.tiff",
         "SamplesPerBurst": 26484,
         "SwathIdentifier": "IW2"
        },
        {
         "@odata.mediaContentType": "application/octet-stream",
         "AbsoluteBurstId": 118808608,
         "AzimuthAnxTime": 756.1480037713,
         "AzimuthTime": "2024-08-21T17:07:35.943207Z",
         "BeginningDateTime": "2024-08-21T17:07:36.964537Z",
         "BurstId": 249434,
         "ByteOffset": 800985339,
         "ContentDate": {
          "End": "2024-08-21T17:07:40.154537Z",
          "Start": "2024-08-21T17:07:36.964537Z"
         },
         "ContentType": "application/octet-stream",
         "DatatakeID": 11008,
         "EndingDateTime": "2024-08-21T17:07:40.154537Z",
         "Footprint": "geography'SRID=4326;POLYGON ((10.760624 46.441904, 11.360345 46.513254, 11.927424 46.577547, 11.880394 46.76981, 11.312324 46.701311, 10.711586 46.625741, 10.760624 46.441904))'",
         "GeoFootprint": {
          "coordinates": [
           [
            [
             10.760624,
             46.441904
            ],
            [
             11.360345,
             46.513254
            ],
            [
             11.927424,
             46.577547
            ],
            [
             11.880394,
             46.76981
            ],
            [
             11.312324,
             46.701311
            ],
            [
             10.711586,
             46.625741
            ],
            [
             10.760624,
             46.441904
            ]
           ]
          ],
          "type": "Polygon"
         },
         "Id": "0ed7bc5b-07c8-4797-941d-010dd6218473",
         "Lines": 7560,
         "LinesPerBurst": 1512,
         "Name": "S1A-SLC-20240821T170736-249434-IW2-VV-011008",
         "OperationalMode": "IW",
         "OrbitDirection": "ASCENDING",
         "ParentProductId": "7cdcacc9-388c-4cfa-ad22-1bba0edee787",
         "ParentProductName": "S1A_IW_SLC__1SDV_20240821T170720_20240821T170747_055314_06BE95_CC41.SAFE",
         "ParentProductType": "IW_SLC__1S",
         "PlatformSerialIdentifier": "A",
         "PolarisationChannels": "VV",
         "RelativeOrbitNumber": 117,
         "S3Path": "/eodata/Sentinel-1/SAR/IW_SLC__1S/2024/08/21/S1A_IW_SLC__1SDV_20240821T170720_20240821T170747_055314_06BE95_CC41.SAFE/measurement/s1a-iw2-slc-vv-20240821t170722-20240821t170747-055314-06be95-005.tiff",
         "SamplesPerBurst": 26484,
         "SwathIdentifier": "IW2"
        },
        {
         "@odata.mediaContentType": "application/octet-stream",
         "AbsoluteBurstId": 118918676,
         "AzimuthAnxTime": 2199.6038481092,
         "AzimuthTime": "2024-08-25T05:27:32.514709Z",
         "BeginningDateTime": "2024-08-25T05:27:33.650483Z",
         "BurstId": 359502,
         "ByteOffset": 108819,
         "ContentDate": {
          "End": "2024-08-25T05:27:36.840483Z",
          "Start": "2024-08-25T05:27:33.650483Z"
         },
         "ContentType": "application/octet-stream",
         "DatatakeID": 2688,
         "EndingDateTime": "2024-08-25T05:27:36.840483Z",
         "Footprint": "geography'SRID=4326;POLYGON ((12.258601 46.421295, 11.684 46.499758, 11.150156 46.570046, 11.096085 46.366558, 11.629119 46.30082, 12.202845 46.226925, 12.258601 46.421295))'",
         "GeoFootprint": {
          "coordinates": [
           [
            [
             12.258601,
             46.421295
            ],
            [
             11.684,
             46.499758
            ],
            [
             11.150156,
             46.570046
            ],
            [
             11.096085,
             46.366558
            ],
            [
             11.629119,
             46.30082
            ],
            [
             12.202845,
             46.226925
            ],
            [
             12.258601,
             46.421295
            ]
           ]
          ],
          "type": "Polygon"
         },
         "Id": "bdda8821-a785-4ccc-abed-7e9d30074bce",
         "Lines": 0,
         "LinesPerBurst": 1507,
         "Name": "S1A-SLC-20240825T052733-359502-IW1-VV-002688",
         "OperationalMode": "IW",
         "OrbitDirection": "DESCENDING",
         "ParentProductId": "2a9aca9a-ee3f-4815-963c-cd48c8042879",
         "ParentProductName": "S1A_IW_SLC__1SDV_20240825T052730_20240825T052757_055365_06C085_D122.SAFE",
         "ParentProductType": "IW_SLC__1S",
         "PlatformSerialIdentifier": "A",
         "PolarisationChannels": "VV",
         "RelativeOrbitNumber": 168,
         "S3Path": "/eodata/Sentinel-1/SAR/IW_SLC__1S/2024/08/25/S1A_IW_SLC__1SDV_20240825T052730_20240825T052757_055365_06C085_D122.SAFE/measurement/s1a-iw1-slc-vv-20240825t052732-20240825t052757-055365-06c085-004.tiff",
         "SamplesPerBurst": 22774,
         "SwathIdentifier": "IW1"
        },
        {
         "@odata.mediaContentType": "application/octet-stream",
         "AbsoluteBurstId": 118918675,
         "AzimuthAnxTime": 2196.8473464334,
         "AzimuthTime": "2024-08-25T05:27:29.758207Z",
         "BeginningDateTime": "2024-08-25T05:27:30.892207Z",
         "BurstId": 359501,
         "ByteOffset": 1098362195,
         "ContentDate": {
          "End": "2024-08-25T05:27:34.082207Z",
          "Start": "2024-08-25T05:27:30.892207Z"
         },
         "ContentType": "application/octet-stream",
         "DatatakeID": 2688,
         "EndingDateTime": "2024-08-25T05:27:34.082207Z",
         "Footprint": "geography'SRID=4326;POLYGON ((12.306189 46.586499, 11.729773 46.66502, 11.194249 46.735345, 11.139994 46.531867, 11.674696 46.466093, 12.250223 46.392142, 12.306189 46.586499))'",
         "GeoFootprint": {
          "coordinates": [
           [
            [
             12.306189,
             46.586499
            ],
            [
             11.729773,
             46.66502
            ],
            [
             11.194249,
             46.735345
            ],
            [
             11.139994,
             46.531867
            ],
            [
             11.674696,
             46.466093
            ],
            [
             12.250223,
             46.392142
            ],
            [
             12.306189,
             46.586499
            ]
           ]
          ],
          "type": "Polygon"
         },
         "Id": "09e34b52-7412-4606-8d9e-dd823bcc917b",
         "Lines": 12056,
         "LinesPerBurst": 1507,
         "Name": "S1A-SLC-20240825T052730-359501-IW1-VV-002688",
         "OperationalMode": "IW",
         "OrbitDirection": "DESCENDING",
         "ParentProductId": "c9e2dedc-f9c5-4c8e-a256-5552b1eee2f2",
         "ParentProductName": "S1A_IW_SLC__1SDV_20240825T052705_20240825T052732_055365_06C085_FFD2.SAFE",
         "ParentProductType": "IW_SLC__1S",
         "PlatformSerialIdentifier": "A",
         "PolarisationChannels": "VV",
         "RelativeOrbitNumber": 168,
         "S3Path": "/eodata/Sentinel-1/SAR/IW_SLC__1S/2024/08/25/S1A_IW_SLC__1SDV_20240825T052705_20240825T052732_055365_06C085_FFD2.SAFE/measurement/s1a-iw1-slc-vv-20240825t052707-20240825t052732-055365-06c085-004.tiff",
         "SamplesPerBurst": 22774,
         "SwathIdentifier": "IW1"
        },
        {
         "@odata.mediaContentType": "application/octet-stream",
         "AbsoluteBurstId": 118918675,
         "AzimuthAnxTime": 2197.7908471109,
         "AzimuthTime": "2024-08-25T05:27:30.701708Z",
         "BeginningDateTime": "2024-08-25T05:27:31.724409Z",
         "BurstId": 359501,
         "ByteOffset": 109683,
         "ContentDate": {
          "End": "2024-08-25T05:27:34.914409Z",
          "Start": "2024-08-25T05:27:31.724409Z"
         },
         "ContentType": "application/octet-stream",
         "DatatakeID": 2688,
         "EndingDateTime": "2024-08-25T05:27:34.914409Z",
         "Footprint": "geography'SRID=4326;POLYGON ((11.210885 46.663981, 10.609883 46.739546, 10.041572 46.808037, 9.994503 46.61577, 10.56182 46.551482, 11.161802 46.480136, 11.210885 46.663981))'",
         "GeoFootprint": {
          "coordinates": [
           [
            [
             11.210885,
             46.663981
            ],
            [
             10.609883,
             46.739546
            ],
            [
             10.041572,
             46.808037
            ],
            [
             9.994503,
             46.61577
            ],
            [
             10.56182,
             46.551482
            ],
            [
             11.161802,
             46.480136
            ],
            [
             11.210885,
             46.663981
            ]
           ]
          ],
          "type": "Polygon"
         },
         "Id": "526547e6-c171-4a8d-902b-836395a88423",
         "Lines": 0,
         "LinesPerBurst": 1519,
         "Name": "S1A-SLC-20240825T052731-359501-IW2-VV-002688",
         "OperationalMode": "IW",
         "OrbitDirection": "DESCENDING",
         "ParentProductId": "2a9aca9a-ee3f-4815-963c-cd48c8042879",
         "ParentProductName": "S1A_IW_SLC__1SDV_20240825T052730_20240825T052757_055365_06C085_D122.SAFE",
         "ParentProductType": "IW_SLC__1S",
         "PlatformSerialIdentifier": "A",
         "PolarisationChannels": "VV",
         "RelativeOrbitNumber": 168,
         "S3Path": "/eodata/Sentinel-1/SAR/IW_SLC__1S/2024/08/25/S1A_IW_SLC__1SDV_20240825T052730_20240825T052757_055365_06C085_D122.SAFE/measurement/s1a-iw2-slc-vv-20240825t052730-20240825t052755-055365-06c085-005.tiff",
         "SamplesPerBurst": 26547,
         "SwathIdentifier": "IW2"
        },
        {
         "@odata.mediaContentType": "application/octet-stream",
         "AbsoluteBurstId": 119184495,
         "AzimuthAnxTime": 753.394785773,
         "AzimuthTime": "2024-09-02T17:07:33.379591Z",
         "BeginningDateTime": "2024-09-02T17:07:34.399162Z",
         "BurstId": 249433,
         "ByteOffset": 640810107,
         "ContentDate": {
          "End": "2024-09-02T17:07:37.589162Z",
          "Start": "2024-09-02T17:07:34.399162Z"
         },
         "ContentType": "application/octet-stream",
         "DatatakeID": 10784,
         "EndingDateTime": "2024-09-02T17:07:37.589162Z",
         "Footprint": "geography'SRID=4326;POLYGON ((10.804564 46.276581, 11.402422 46.34791, 11.967742 46.412202, 11.920848 46.604472, 11.354552 46.535976, 10.755691 46.460429, 10.804564 46.276581))'",
         "GeoFootprint": {
          "coordinates": [
           [
            [
             10.804564,
             46.276581
            ],
            [
             11.402422,
             46.34791
            ],
            [
             11.967742,
             46.412202
            ],
            [
             11.920848,
             46.604472
            ],
            [
             11.354552,
             46.535976
            ],
            [
             10.755691,
             46.460429
            ],
            [
             10.804564,
             46.276581
            ]
           ]
          ],
          "type": "Polygon"
         },
         "Id": "0b5786fb-e92f-46d0-be2c-5599fcd564f6",
         "Lines": 6048,
         "LinesPerBurst": 1512,
         "Name": "S1A-SLC-20240902T170734-249433-IW2-VV-010784",
         "OperationalMode": "IW",
         "OrbitDirection": "ASCENDING",
         "ParentProductId": "07c64659-630a-4272-8c8a-9bc2d7480701",
         "ParentProductName": "S1A_IW_SLC__1SDV_20240902T170720_20240902T170747_055489_06C515_EEB7.SAFE",
         "ParentProductType": "IW_SLC__1S",
         "PlatformSerialIdentifier": "A",
         "PolarisationChannels": "VV",
         "RelativeOrbitNumber": 117,
         "S3Path": "/eodata/Sentinel-1/SAR/IW_SLC__1S/2024/09/02/S1A_IW_SLC__1SDV_20240902T170720_20240902T170747_055489_06C515_EEB7.SAFE/measurement/s1a-iw2-slc-vv-20240902t170722-20240902t170747-055489-06c515-005.tiff",
         "SamplesPerBurst": 26484,
         "SwathIdentifier": "IW2"
        },
        {
         "@odata.mediaContentType": "application/octet-stream",
         "AbsoluteBurstId": 119184496,
         "AzimuthAnxTime": 756.1533423276,
         "AzimuthTime": "2024-09-02T17:07:36.138147Z",
         "BeginningDateTime": "2024-09-02T17:07:37.157439Z",
         "BurstId": 249434,
         "ByteOffset": 800985339,
         "ContentDate": {
          "End": "2024-09-02T17:07:40.347439Z",
          "Start": "2024-09-02T17:07:37.157439Z"
         },
         "ContentType": "application/octet-stream",
         "DatatakeID": 10784,
         "EndingDateTime": "2024-09-02T17:07:40.347439Z",
         "Footprint": "geography'SRID=4326;POLYGON ((10.760624 46.441904, 11.360345 46.513254, 11.927424 46.577547, 11.880394 46.76981, 11.312324 46.701311, 10.711586 46.625741, 10.760624 46.441904))'",
         "GeoFootprint": {
          "coordinates": [
           [
            [
             10.760624,
             46.441904
            ],
            [
             11.360345,
             46.513254
            ],
            [
             11.927424,
             46.577547
            ],
            [
             11.880394,
             46.76981
            ],
            [
             11.312324,
             46.701311
            ],
            [
             10.711586,
             46.625741
            ],
            [
             10.760624,
             46.441904
            ]
           ]
          ],
          "type": "Polygon"
         },
         "Id": "a44be613-64d2-48d6-b072-c339a81f8338",
         "Lines": 7560,
         "LinesPerBurst": 1512,
         "Name": "S1A-SLC-20240902T170737-249434-IW2-VV-010784",
         "OperationalMode": "IW",
         "OrbitDirection": "ASCENDING",
         "ParentProductId": "07c64659-630a-4272-8c8a-9bc2d7480701",
         "ParentProductName": "S1A_IW_SLC__1SDV_20240902T170720_20240902T170747_055489_06C515_EEB7.SAFE",
         "ParentProductType": "IW_SLC__1S",
         "PlatformSerialIdentifier": "A",
         "PolarisationChannels": "VV",
         "RelativeOrbitNumber": 117,
         "S3Path": "/eodata/Sentinel-1/SAR/IW_SLC__1S/2024/09/02/S1A_IW_SLC__1SDV_20240902T170720_20240902T170747_055489_06C515_EEB7.SAFE/measurement/s1a-iw2-slc-vv-20240902t170722-20240902t170747-055489-06c515-005.tiff",
         "SamplesPerBurst": 26484,
         "SwathIdentifier": "IW2"
        },
        {
         "@odata.mediaContentType": "application/octet-stream",
         "AbsoluteBurstId": 119294563,
         "AzimuthAnxTime": 2199.6156266655,
         "AzimuthTime": "2024-09-06T05:27:32.724222Z",
         "BeginningDateTime": "2024-09-06T05:27:33.849702Z",
         "BurstId": 359502,
         "ByteOffset": 108891,
         "ContentDate": {
          "End": "2024-09-06T05:27:37.039702Z",
          "Start": "2024-09-06T05:27:33.849702Z"
         },
         "ContentType": "application/octet-stream",
         "DatatakeID": 11104,
         "EndingDateTime": "2024-09-06T05:27:37.039702Z",
         "Footprint": "geography'SRID=4326;POLYGON ((12.258601 46.421295, 11.684 46.499758, 11.150156 46.570046, 11.096085 46.366558, 11.629119 46.30082, 12.202845 46.226925, 12.258601 46.421295))'",
         "GeoFootprint": {
          "coordinates": [
           [
            [
             12.258601,
             46.421295
            ],
            [
             11.684,
             46.499758
            ],
            [
             11.150156,
             46.570046
            ],
            [
             11.096085,
             46.366558
            ],
            [
             11.629119,
             46.30082
            ],
            [
             12.202845,
             46.226925
            ],
            [
             12.258601,
             46.421295
            ]
           ]
          ],
          "type": "Polygon"
         },
         "Id": "24a69687-3307-43c2-9274-7582ed82423d",
         "Lines": 0,
         "LinesPerBurst": 1508,
         "Name": "S1A-SLC-20240906T052733-359502-IW1-VV-011104",
         "OperationalMode": "IW",
         "OrbitDirection": "DESCENDING",
         "ParentProductId": "13cf3878-7595-45e5-af48-d7dc6175ea71",
         "ParentProductName": "S1A_IW_SLC__1SDV_20240906T052730_20240906T052757_055540_06C715_1360.SAFE",
         "ParentProductType": "IW_SLC__1S",
         "PlatformSerialIdentifier": "A",
         "PolarisationChannels": "VV",
         "RelativeOrbitNumber": 168,
         "S3Path": "/eodata/Sentinel-1/SAR/IW_SLC__1S/2024/09/06/S1A_IW_SLC__1SDV_20240906T052730_20240906T052757_055540_06C715_1360.SAFE/measurement/s1a-iw1-slc-vv-20240906t052732-20240906t052757-055540-06c715-004.tiff",
         "SamplesPerBurst": 22990,
         "SwathIdentifier": "IW1"
        },
        {
         "@odata.mediaContentType": "application/octet-stream",
         "AbsoluteBurstId": 119294563,
         "AzimuthAnxTime": 2197.8005701109,
         "AzimuthTime": "2024-09-06T05:27:30.909165Z",
         "BeginningDateTime": "2024-09-06T05:27:31.923628Z",
         "BurstId": 359501,
         "ByteOffset": 109683,
         "ContentDate": {
          "End": "2024-09-06T05:27:35.113628Z",
          "Start": "2024-09-06T05:27:31.923628Z"
         },
         "ContentType": "application/octet-stream",
         "DatatakeID": 11104,
         "EndingDateTime": "2024-09-06T05:27:35.113628Z",
         "Footprint": "geography'SRID=4326;POLYGON ((11.210885 46.663981, 10.609883 46.739546, 10.041572 46.808037, 9.994503 46.61577, 10.56182 46.551482, 11.161802 46.480136, 11.210885 46.663981))'",
         "GeoFootprint": {
          "coordinates": [
           [
            [
             11.210885,
             46.663981
            ],
            [
             10.609883,
             46.739546
            ],
            [
             10.041572,
             46.808037
            ],
            [
             9.994503,
             46.61577
            ],
            [
             10.56182,
             46.551482
            ],
            [
             11.161802,
             46.480136
            ],
            [
             11.210885,
             46.663981
            ]
           ]
          ],
          "type": "Polygon"
         },
         "Id": "94d2596d-78a3-45a3-b504-b80638f76db1",
         "Lines": 0,
         "LinesPerBurst": 1519,
         "Name": "S1A-SLC-20240906T052731-359501-IW2-VV-011104",
         "OperationalMode": "IW",
         "OrbitDirection": "DESCENDING",
         "ParentProductId": "13cf3878-7595-45e5-af48-d7dc6175ea71",
         "ParentProductName": "S1A_IW_SLC__1SDV_20240906T052730_20240906T052757_055540_06C715_1360.SAFE",
         "ParentProductType": "IW_SLC__1S",
         "PlatformSerialIdentifier": "A",
         "PolarisationChannels": "VV",
         "RelativeOrbitNumber": 168,
         "S3Path": "/eodata/Sentinel-1/SAR/IW_SLC__1S/2024/09/06/S1A_IW_SLC__1SDV_20240906T052730_20240906T052757_055540_06C715_1360.SAFE/measurement/s1a-iw2-slc-vv-20240906t052730-20240906t052756-055540-06c715-005.tiff",
         "SamplesPerBurst": 26745,
         "SwathIdentifier": "IW2"
        },
        {
         "@odata.mediaContentType": "application/octet-stream",
         "AbsoluteBurstId": 119294562,
         "AzimuthAnxTime": 2196.8570699897,
         "AzimuthTime": "2024-09-06T05:27:29.965665Z",
         "BeginningDateTime": "2024-09-06T05:27:31.091426Z",
         "BurstId": 359501,
         "ByteOffset": 1109514331,
         "ContentDate": {
          "End": "2024-09-06T05:27:34.281426Z",
          "Start": "2024-09-06T05:27:31.091426Z"
         },
         "ContentType": "application/octet-stream",
         "DatatakeID": 11104,
         "EndingDateTime": "2024-09-06T05:27:34.281426Z",
         "Footprint": "geography'SRID=4326;POLYGON ((12.306189 46.586499, 11.729773 46.66502, 11.194249 46.735345, 11.139994 46.531867, 11.674696 46.466093, 12.250223 46.392142, 12.306189 46.586499))'",
         "GeoFootprint": {
          "coordinates": [
           [
            [
             12.306189,
             46.586499
            ],
            [
             11.729773,
             46.66502
            ],
            [
             11.194249,
             46.735345
            ],
            [
             11.139994,
             46.531867
            ],
            [
             11.674696,
             46.466093
            ],
            [
             12.250223,
             46.392142
            ],
            [
             12.306189,
             46.586499
            ]
           ]
          ],
          "type": "Polygon"
         },
         "Id": "d8c91acd-3ca0-46a0-bbca-0c3b180d1efb",
         "Lines": 12064,
         "LinesPerBurst": 1508,
         "Name": "S1A-SLC-20240906T052731-359501-IW1-VV-011104",
         "OperationalMode": "IW",
         "OrbitDirection": "DESCENDING",
         "ParentProductId": "4ad72c4f-2c14-4d05-8421-d6656bcb6a08",
         "ParentProductName": "S1A_IW_SLC__1SDV_20240906T052706_20240906T052733_055540_06C715_7A78.SAFE",
         "ParentProductType": "IW_SLC__1S",
         "PlatformSerialIdentifier": "A",
         "PolarisationChannels": "VV",
         "RelativeOrbitNumber": 168,
         "S3Path": "/eodata/Sentinel-1/SAR/IW_SLC__1S/2024/09/06/S1A_IW_SLC__1SDV_20240906T052706_20240906T052733_055540_06C715_7A78.SAFE/measurement/s1a-iw1-slc-vv-20240906t052707-20240906t052733-055540-06c715-004.tiff",
         "SamplesPerBurst": 22990,
         "SwathIdentifier": "IW1"
        },
        {
         "@odata.mediaContentType": "application/octet-stream",
         "AbsoluteBurstId": 119513652,
         "AzimuthAnxTime": 2200.7637695477,
         "AzimuthTime": "2024-09-13T05:19:20.547315Z",
         "BeginningDateTime": "2024-09-13T05:19:21.684276Z",
         "BurstId": 202703,
         "ByteOffset": 1256856515,
         "ContentDate": {
          "End": "2024-09-13T05:19:24.874276Z",
          "Start": "2024-09-13T05:19:21.684276Z"
         },
         "ContentType": "application/octet-stream",
         "DatatakeID": 16832,
         "EndingDateTime": "2024-09-13T05:19:24.874276Z",
         "Footprint": "geography'SRID=4326;POLYGON ((12.089482 46.634916, 11.563369 46.69639, 11.056374 46.753309, 11.010245 46.548522, 11.516373 46.496209, 12.041638 46.439349, 12.089482 46.634916))'",
         "GeoFootprint": {
          "coordinates": [
           [
            [
             12.089482,
             46.634916
            ],
            [
             11.563369,
             46.69639
            ],
            [
             11.056374,
             46.753309
            ],
            [
             11.010245,
             46.548522
            ],
            [
             11.516373,
             46.496209
            ],
            [
             12.041638,
             46.439349
            ],
            [
             12.089482,
             46.634916
            ]
           ]
          ],
          "type": "Polygon"
         },
         "Id": "6dcbdfbb-4a6f-4849-9a94-aa47d744d2aa",
         "Lines": 12200,
         "LinesPerBurst": 1525,
         "Name": "S1A-SLC-20240913T051921-202703-IW3-VV-016832",
         "OperationalMode": "IW",
         "OrbitDirection": "DESCENDING",
         "ParentProductId": "71145ac3-461a-443b-b91c-817d01b55dd4",
         "ParentProductName": "S1A_IW_SLC__1SDV_20240913T051857_20240913T051924_055642_06CB20_978C.SAFE",
         "ParentProductType": "IW_SLC__1S",
         "PlatformSerialIdentifier": "A",
         "PolarisationChannels": "VV",
         "RelativeOrbitNumber": 95,
         "S3Path": "/eodata/Sentinel-1/SAR/IW_SLC__1S/2024/09/13/S1A_IW_SLC__1SDV_20240913T051857_20240913T051924_055642_06CB20_978C.SAFE/measurement/s1a-iw3-slc-vv-20240913t051858-20240913t051923-055642-06cb20-006.tiff",
         "SamplesPerBurst": 25753,
         "SwathIdentifier": "IW3"
        },
        {
         "@odata.mediaContentType": "application/octet-stream",
         "AbsoluteBurstId": 119513653,
         "AzimuthAnxTime": 2203.5202699983,
         "AzimuthTime": "2024-09-13T05:19:23.303815Z",
         "BeginningDateTime": "2024-09-13T05:19:24.442552Z",
         "BurstId": 202704,
         "ByteOffset": 110115,
         "ContentDate": {
          "End": "2024-09-13T05:19:27.632552Z",
          "Start": "2024-09-13T05:19:24.442552Z"
         },
         "ContentType": "application/octet-stream",
         "DatatakeID": 16832,
         "EndingDateTime": "2024-09-13T05:19:27.632552Z",
         "Footprint": "geography'SRID=4326;POLYGON ((12.049022 46.469577, 11.524545 46.531064, 11.019128 46.588009, 10.97311 46.383218, 11.477674 46.330878, 12.001315 46.274004, 12.049022 46.469577))'",
         "GeoFootprint": {
          "coordinates": [
           [
            [
             12.049022,
             46.469577
            ],
            [
             11.524545,
             46.531064
            ],
            [
             11.019128,
             46.588009
            ],
            [
             10.97311,
             46.383218
            ],
            [
             11.477674,
             46.330878
            ],
            [
             12.001315,
             46.274004
            ],
            [
             12.049022,
             46.469577
            ]
           ]
          ],
          "type": "Polygon"
         },
         "Id": "390eba76-a7e9-4c26-9460-0abacd417e0c",
         "Lines": 0,
         "LinesPerBurst": 1525,
         "Name": "S1A-SLC-20240913T051924-202704-IW3-VV-016832",
         "OperationalMode": "IW",
         "OrbitDirection": "DESCENDING",
         "ParentProductId": "21fac80e-4518-48a9-b820-d04a49ead489",
         "ParentProductName": "S1A_IW_SLC__1SDV_20240913T051922_20240913T051949_055642_06CB20_06CA.SAFE",
         "ParentProductType": "IW_SLC__1S",
         "PlatformSerialIdentifier": "A",
         "PolarisationChannels": "VV",
         "RelativeOrbitNumber": 95,
         "S3Path": "/eodata/Sentinel-1/SAR/IW_SLC__1S/2024/09/13/S1A_IW_SLC__1SDV_20240913T051922_20240913T051949_055642_06CB20_06CA.SAFE/measurement/s1a-iw3-slc-vv-20240913t051923-20240913t051948-055642-06cb20-006.tiff",
         "SamplesPerBurst": 25753,
         "SwathIdentifier": "IW3"
        },
        {
         "@odata.mediaContentType": "application/octet-stream",
         "AbsoluteBurstId": 119560382,
         "AzimuthAnxTime": 753.3913783293,
         "AzimuthTime": "2024-09-14T17:07:33.977449Z",
         "BeginningDateTime": "2024-09-14T17:07:34.990852Z",
         "BurstId": 249433,
         "ByteOffset": 629211275,
         "ContentDate": {
          "End": "2024-09-14T17:07:38.180852Z",
          "Start": "2024-09-14T17:07:34.990852Z"
         },
         "ContentType": "application/octet-stream",
         "DatatakeID": 65152,
         "EndingDateTime": "2024-09-14T17:07:38.180852Z",
         "Footprint": "geography'SRID=4326;POLYGON ((10.804564 46.276581, 11.402422 46.34791, 11.967742 46.412202, 11.920848 46.604472, 11.354552 46.535976, 10.755691 46.460429, 10.804564 46.276581))'",
         "GeoFootprint": {
          "coordinates": [
           [
            [
             10.804564,
             46.276581
            ],
            [
             11.402422,
             46.34791
            ],
            [
             11.967742,
             46.412202
            ],
            [
             11.920848,
             46.604472
            ],
            [
             11.354552,
             46.535976
            ],
            [
             10.755691,
             46.460429
            ],
            [
             10.804564,
             46.276581
            ]
           ]
          ],
          "type": "Polygon"
         },
         "Id": "4fb282c8-668d-498c-ae61-b42efd001ee5",
         "Lines": 6040,
         "LinesPerBurst": 1510,
         "Name": "S1A-SLC-20240914T170734-249433-IW2-VV-065152",
         "OperationalMode": "IW",
         "OrbitDirection": "ASCENDING",
         "ParentProductId": "87e7fe78-78e1-4f24-89f8-b83da7e91f11",
         "ParentProductName": "S1A_IW_SLC__1SDV_20240914T170721_20240914T170748_055664_06CBFF_A704.SAFE",
         "ParentProductType": "IW_SLC__1S",
         "PlatformSerialIdentifier": "A",
         "PolarisationChannels": "VV",
         "RelativeOrbitNumber": 117,
         "S3Path": "/eodata/Sentinel-1/SAR/IW_SLC__1S/2024/09/14/S1A_IW_SLC__1SDV_20240914T170721_20240914T170748_055664_06CBFF_A704.SAFE/measurement/s1a-iw2-slc-vv-20240914t170722-20240914t170748-055664-06cbff-005.tiff",
         "SamplesPerBurst": 26039,
         "SwathIdentifier": "IW2"
        },
        {
         "@odata.mediaContentType": "application/octet-stream",
         "AbsoluteBurstId": 119560383,
         "AzimuthAnxTime": 756.1499348839,
         "AzimuthTime": "2024-09-14T17:07:36.736006Z",
         "BeginningDateTime": "2024-09-14T17:07:37.749129Z",
         "BurstId": 249434,
         "ByteOffset": 786486835,
         "ContentDate": {
          "End": "2024-09-14T17:07:40.939129Z",
          "Start": "2024-09-14T17:07:37.749129Z"
         },
         "ContentType": "application/octet-stream",
         "DatatakeID": 65152,
         "EndingDateTime": "2024-09-14T17:07:40.939129Z",
         "Footprint": "geography'SRID=4326;POLYGON ((10.760624 46.441904, 11.360345 46.513254, 11.927424 46.577547, 11.880394 46.76981, 11.312324 46.701311, 10.711586 46.625741, 10.760624 46.441904))'",
         "GeoFootprint": {
          "coordinates": [
           [
            [
             10.760624,
             46.441904
            ],
            [
             11.360345,
             46.513254
            ],
            [
             11.927424,
             46.577547
            ],
            [
             11.880394,
             46.76981
            ],
            [
             11.312324,
             46.701311
            ],
            [
             10.711586,
             46.625741
            ],
            [
             10.760624,
             46.441904
            ]
           ]
          ],
          "type": "Polygon"
         },
         "Id": "2880660d-d7e1-4f62-9cae-830d28a5e8c7",
         "Lines": 7550,
         "LinesPerBurst": 1510,
         "Name": "S1A-SLC-20240914T170737-249434-IW2-VV-065152",
         "OperationalMode": "IW",
         "OrbitDirection": "ASCENDING",
         "ParentProductId": "87e7fe78-78e1-4f24-89f8-b83da7e91f11",
         "ParentProductName": "S1A_IW_SLC__1SDV_20240914T170721_20240914T170748_055664_06CBFF_A704.SAFE",
         "ParentProductType": "IW_SLC__1S",
         "PlatformSerialIdentifier": "A",
         "PolarisationChannels": "VV",
         "RelativeOrbitNumber": 117,
         "S3Path": "/eodata/Sentinel-1/SAR/IW_SLC__1S/2024/09/14/S1A_IW_SLC__1SDV_20240914T170721_20240914T170748_055664_06CBFF_A704.SAFE/measurement/s1a-iw2-slc-vv-20240914t170722-20240914t170748-055664-06cbff-005.tiff",
         "SamplesPerBurst": 26039,
         "SwathIdentifier": "IW2"
        },
        {
         "@odata.mediaContentType": "application/octet-stream",
         "AbsoluteBurstId": 119670450,
         "AzimuthAnxTime": 2196.8452894334,
         "AzimuthTime": "2024-09-18T05:27:30.579961Z",
         "BeginningDateTime": "2024-09-18T05:27:31.709834Z",
         "BurstId": 359501,
         "ByteOffset": 1109514331,
         "ContentDate": {
          "End": "2024-09-18T05:27:34.899834Z",
          "Start": "2024-09-18T05:27:31.709834Z"
         },
         "ContentType": "application/octet-stream",
         "DatatakeID": 960,
         "EndingDateTime": "2024-09-18T05:27:34.899834Z",
         "Footprint": "geography'SRID=4326;POLYGON ((12.306189 46.586499, 11.729773 46.66502, 11.194249 46.735345, 11.139994 46.531867, 11.674696 46.466093, 12.250223 46.392142, 12.306189 46.586499))'",
         "GeoFootprint": {
          "coordinates": [
           [
            [
             12.306189,
             46.586499
            ],
            [
             11.729773,
             46.66502
            ],
            [
             11.194249,
             46.735345
            ],
            [
             11.139994,
             46.531867
            ],
            [
             11.674696,
             46.466093
            ],
            [
             12.250223,
             46.392142
            ],
            [
             12.306189,
             46.586499
            ]
           ]
          ],
          "type": "Polygon"
         },
         "Id": "db937c12-9432-42f1-8868-fc5792796e62",
         "Lines": 12064,
         "LinesPerBurst": 1508,
         "Name": "S1A-SLC-20240918T052731-359501-IW1-VV-000960",
         "OperationalMode": "IW",
         "OrbitDirection": "DESCENDING",
         "ParentProductId": "cacfd541-2c95-4dd0-9334-84b897f11770",
         "ParentProductName": "S1A_IW_SLC__1SDV_20240918T052706_20240918T052733_055715_06CE01_2BD0.SAFE",
         "ParentProductType": "IW_SLC__1S",
         "PlatformSerialIdentifier": "A",
         "PolarisationChannels": "VV",
         "RelativeOrbitNumber": 168,
         "S3Path": "/eodata/Sentinel-1/SAR/IW_SLC__1S/2024/09/18/S1A_IW_SLC__1SDV_20240918T052706_20240918T052733_055715_06CE01_2BD0.SAFE/measurement/s1a-iw1-slc-vv-20240918t052708-20240918t052733-055715-06ce01-004.tiff",
         "SamplesPerBurst": 22990,
         "SwathIdentifier": "IW1"
        },
        {
         "@odata.mediaContentType": "application/octet-stream",
         "AbsoluteBurstId": 119670451,
         "AzimuthAnxTime": 2199.6038461092,
         "AzimuthTime": "2024-09-18T05:27:33.338518Z",
         "BeginningDateTime": "2024-09-18T05:27:34.468110Z",
         "BurstId": 359502,
         "ByteOffset": 108891,
         "ContentDate": {
          "End": "2024-09-18T05:27:37.658110Z",
          "Start": "2024-09-18T05:27:34.468110Z"
         },
         "ContentType": "application/octet-stream",
         "DatatakeID": 960,
         "EndingDateTime": "2024-09-18T05:27:37.658110Z",
         "Footprint": "geography'SRID=4326;POLYGON ((12.258601 46.421295, 11.684 46.499758, 11.150156 46.570046, 11.096085 46.366558, 11.629119 46.30082, 12.202845 46.226925, 12.258601 46.421295))'",
         "GeoFootprint": {
          "coordinates": [
           [
            [
             12.258601,
             46.421295
            ],
            [
             11.684,
             46.499758
            ],
            [
             11.150156,
             46.570046
            ],
            [
             11.096085,
             46.366558
            ],
            [
             11.629119,
             46.30082
            ],
            [
             12.202845,
             46.226925
            ],
            [
             12.258601,
             46.421295
            ]
           ]
          ],
          "type": "Polygon"
         },
         "Id": "6e977be3-8ad9-4ee0-9127-d3660a892509",
         "Lines": 0,
         "LinesPerBurst": 1508,
         "Name": "S1A-SLC-20240918T052734-359502-IW1-VV-000960",
         "OperationalMode": "IW",
         "OrbitDirection": "DESCENDING",
         "ParentProductId": "99006dd3-74a1-4ae3-8fe2-2d7045ba0d1a",
         "ParentProductName": "S1A_IW_SLC__1SDV_20240918T052731_20240918T052758_055715_06CE01_DB58.SAFE",
         "ParentProductType": "IW_SLC__1S",
         "PlatformSerialIdentifier": "A",
         "PolarisationChannels": "VV",
         "RelativeOrbitNumber": 168,
         "S3Path": "/eodata/Sentinel-1/SAR/IW_SLC__1S/2024/09/18/S1A_IW_SLC__1SDV_20240918T052731_20240918T052758_055715_06CE01_DB58.SAFE/measurement/s1a-iw1-slc-vv-20240918t052733-20240918t052758-055715-06ce01-004.tiff",
         "SamplesPerBurst": 22990,
         "SwathIdentifier": "IW1"
        },
        {
         "@odata.mediaContentType": "application/octet-stream",
         "AbsoluteBurstId": 119670450,
         "AzimuthAnxTime": 2197.7908451109,
         "AzimuthTime": "2024-09-18T05:27:31.525517Z",
         "BeginningDateTime": "2024-09-18T05:27:32.542036Z",
         "BurstId": 359501,
         "ByteOffset": 109683,
         "ContentDate": {
          "End": "2024-09-18T05:27:35.732036Z",
          "Start": "2024-09-18T05:27:32.542036Z"
         },
         "ContentType": "application/octet-stream",
         "DatatakeID": 960,
         "EndingDateTime": "2024-09-18T05:27:35.732036Z",
         "Footprint": "geography'SRID=4326;POLYGON ((11.210885 46.663981, 10.609883 46.739546, 10.041572 46.808037, 9.994503 46.61577, 10.56182 46.551482, 11.161802 46.480136, 11.210885 46.663981))'",
         "GeoFootprint": {
          "coordinates": [
           [
            [
             11.210885,
             46.663981
            ],
            [
             10.609883,
             46.739546
            ],
            [
             10.041572,
             46.808037
            ],
            [
             9.994503,
             46.61577
            ],
            [
             10.56182,
             46.551482
            ],
            [
             11.161802,
             46.480136
            ],
            [
             11.210885,
             46.663981
            ]
           ]
          ],
          "type": "Polygon"
         },
         "Id": "e5aae430-b75b-4439-b08f-a37d9207e64c",
         "Lines": 0,
         "LinesPerBurst": 1519,
         "Name": "S1A-SLC-20240918T052732-359501-IW2-VV-000960",
         "OperationalMode": "IW",
         "OrbitDirection": "DESCENDING",
         "ParentProductId": "99006dd3-74a1-4ae3-8fe2-2d7045ba0d1a",
         "ParentProductName": "S1A_IW_SLC__1SDV_20240918T052731_20240918T052758_055715_06CE01_DB58.SAFE",
         "ParentProductType": "IW_SLC__1S",
         "PlatformSerialIdentifier": "A",
         "PolarisationChannels": "VV",
         "RelativeOrbitNumber": 168,
         "S3Path": "/eodata/Sentinel-1/SAR/IW_SLC__1S/2024/09/18/S1A_IW_SLC__1SDV_20240918T052731_20240918T052758_055715_06CE01_DB58.SAFE/measurement/s1a-iw2-slc-vv-20240918t052731-20240918t052756-055715-06ce01-005.tiff",
         "SamplesPerBurst": 26745,
         "SwathIdentifier": "IW2"
        },
        {
         "@odata.mediaContentType": "application/octet-stream",
         "AbsoluteBurstId": 119889540,
         "AzimuthAnxTime": 2200.7459948788,
         "AzimuthTime": "2024-09-25T05:19:20.669149Z",
         "BeginningDateTime": "2024-09-25T05:19:21.824596Z",
         "BurstId": 202703,
         "ByteOffset": 1256856515,
         "ContentDate": {
          "End": "2024-09-25T05:19:25.014596Z",
          "Start": "2024-09-25T05:19:21.824596Z"
         },
         "ContentType": "application/octet-stream",
         "DatatakeID": 5216,
         "EndingDateTime": "2024-09-25T05:19:25.014596Z",
         "Footprint": "geography'SRID=4326;POLYGON ((12.089482 46.634916, 11.563369 46.69639, 11.056374 46.753309, 11.010245 46.548522, 11.516373 46.496209, 12.041638 46.439349, 12.089482 46.634916))'",
         "GeoFootprint": {
          "coordinates": [
           [
            [
             12.089482,
             46.634916
            ],
            [
             11.563369,
             46.69639
            ],
            [
             11.056374,
             46.753309
            ],
            [
             11.010245,
             46.548522
            ],
            [
             11.516373,
             46.496209
            ],
            [
             12.041638,
             46.439349
            ],
            [
             12.089482,
             46.634916
            ]
           ]
          ],
          "type": "Polygon"
         },
         "Id": "a9ca2b54-fc0a-49ea-bd06-94ab98fa4309",
         "Lines": 12200,
         "LinesPerBurst": 1525,
         "Name": "S1A-SLC-20240925T051921-202703-IW3-VV-005216",
         "OperationalMode": "IW",
         "OrbitDirection": "DESCENDING",
         "ParentProductId": "1dbda6bd-d5e3-488d-a1d9-9e8fa1ad770d",
         "ParentProductName": "S1A_IW_SLC__1SDV_20240925T051857_20240925T051924_055817_06D20A_10F5.SAFE",
         "ParentProductType": "IW_SLC__1S",
         "PlatformSerialIdentifier": "A",
         "PolarisationChannels": "VV",
         "RelativeOrbitNumber": 95,
         "S3Path": "/eodata/Sentinel-1/SAR/IW_SLC__1S/2024/09/25/S1A_IW_SLC__1SDV_20240925T051857_20240925T051924_055817_06D20A_10F5.SAFE/measurement/s1a-iw3-slc-vv-20240925t051858-20240925t051923-055817-06d20a-006.tiff",
         "SamplesPerBurst": 25753,
         "SwathIdentifier": "IW3"
        },
        {
         "@odata.mediaContentType": "application/octet-stream",
         "AbsoluteBurstId": 119889541,
         "AzimuthAnxTime": 2203.5024959983,
         "AzimuthTime": "2024-09-25T05:19:23.425650Z",
         "BeginningDateTime": "2024-09-25T05:19:24.582872Z",
         "BurstId": 202704,
         "ByteOffset": 110115,
         "ContentDate": {
          "End": "2024-09-25T05:19:27.772872Z",
          "Start": "2024-09-25T05:19:24.582872Z"
         },
         "ContentType": "application/octet-stream",
         "DatatakeID": 5216,
         "EndingDateTime": "2024-09-25T05:19:27.772872Z",
         "Footprint": "geography'SRID=4326;POLYGON ((12.049022 46.469577, 11.524545 46.531064, 11.019128 46.588009, 10.97311 46.383218, 11.477674 46.330878, 12.001315 46.274004, 12.049022 46.469577))'",
         "GeoFootprint": {
          "coordinates": [
           [
            [
             12.049022,
             46.469577
            ],
            [
             11.524545,
             46.531064
            ],
            [
             11.019128,
             46.588009
            ],
            [
             10.97311,
             46.383218
            ],
            [
             11.477674,
             46.330878
            ],
            [
             12.001315,
             46.274004
            ],
            [
             12.049022,
             46.469577
            ]
           ]
          ],
          "type": "Polygon"
         },
         "Id": "a31f30dc-5975-41f0-8a76-cf3dc6a41151",
         "Lines": 0,
         "LinesPerBurst": 1525,
         "Name": "S1A-SLC-20240925T051924-202704-IW3-VV-005216",
         "OperationalMode": "IW",
         "OrbitDirection": "DESCENDING",
         "ParentProductId": "2fab3772-d67a-4b15-8e11-c62cff5e8f5d",
         "ParentProductName": "S1A_IW_SLC__1SDV_20240925T051922_20240925T051949_055817_06D20A_BA22.SAFE",
         "ParentProductType": "IW_SLC__1S",
         "PlatformSerialIdentifier": "A",
         "PolarisationChannels": "VV",
         "RelativeOrbitNumber": 95,
         "S3Path": "/eodata/Sentinel-1/SAR/IW_SLC__1S/2024/09/25/S1A_IW_SLC__1SDV_20240925T051922_20240925T051949_055817_06D20A_BA22.SAFE/measurement/s1a-iw3-slc-vv-20240925t051923-20240925t051948-055817-06d20a-006.tiff",
         "SamplesPerBurst": 25753,
         "SwathIdentifier": "IW3"
        },
        {
         "@odata.mediaContentType": "application/octet-stream",
         "AbsoluteBurstId": 119936269,
         "AzimuthAnxTime": 753.3810286603999,
         "AzimuthTime": "2024-09-26T17:07:34.031846Z",
         "BeginningDateTime": "2024-09-26T17:07:35.059638Z",
         "BurstId": 249433,
         "ByteOffset": 640810107,
         "ContentDate": {
          "End": "2024-09-26T17:07:38.249638Z",
          "Start": "2024-09-26T17:07:35.059638Z"
         },
         "ContentType": "application/octet-stream",
         "DatatakeID": 56032,
         "EndingDateTime": "2024-09-26T17:07:38.249638Z",
         "Footprint": "geography'SRID=4326;POLYGON ((10.804564 46.276581, 11.402422 46.34791, 11.967742 46.412202, 11.920848 46.604472, 11.354552 46.535976, 10.755691 46.460429, 10.804564 46.276581))'",
         "GeoFootprint": {
          "coordinates": [
           [
            [
             10.804564,
             46.276581
            ],
            [
             11.402422,
             46.34791
            ],
            [
             11.967742,
             46.412202
            ],
            [
             11.920848,
             46.604472
            ],
            [
             11.354552,
             46.535976
            ],
            [
             10.755691,
             46.460429
            ],
            [
             10.804564,
             46.276581
            ]
           ]
          ],
          "type": "Polygon"
         },
         "Id": "a9f18ced-01dc-43d3-a6ee-dceeec22fa5e",
         "Lines": 6048,
         "LinesPerBurst": 1512,
         "Name": "S1A-SLC-20240926T170735-249433-IW2-VV-056032",
         "OperationalMode": "IW",
         "OrbitDirection": "ASCENDING",
         "ParentProductId": "d3099ddd-ac44-467c-9c26-3242bb9d5721",
         "ParentProductName": "S1A_IW_SLC__1SDV_20240926T170721_20240926T170748_055839_06D2ED_BD8F.SAFE",
         "ParentProductType": "IW_SLC__1S",
         "PlatformSerialIdentifier": "A",
         "PolarisationChannels": "VV",
         "RelativeOrbitNumber": 117,
         "S3Path": "/eodata/Sentinel-1/SAR/IW_SLC__1S/2024/09/26/S1A_IW_SLC__1SDV_20240926T170721_20240926T170748_055839_06D2ED_BD8F.SAFE/measurement/s1a-iw2-slc-vv-20240926t170723-20240926t170748-055839-06d2ed-005.tiff",
         "SamplesPerBurst": 26484,
         "SwathIdentifier": "IW2"
        },
        {
         "@odata.mediaContentType": "application/octet-stream",
         "AbsoluteBurstId": 119936270,
         "AzimuthAnxTime": 756.139585215,
         "AzimuthTime": "2024-09-26T17:07:36.790402Z",
         "BeginningDateTime": "2024-09-26T17:07:37.817915Z",
         "BurstId": 249434,
         "ByteOffset": 800985339,
         "ContentDate": {
          "End": "2024-09-26T17:07:41.007915Z",
          "Start": "2024-09-26T17:07:37.817915Z"
         },
         "ContentType": "application/octet-stream",
         "DatatakeID": 56032,
         "EndingDateTime": "2024-09-26T17:07:41.007915Z",
         "Footprint": "geography'SRID=4326;POLYGON ((10.760624 46.441904, 11.360345 46.513254, 11.927424 46.577547, 11.880394 46.76981, 11.312324 46.701311, 10.711586 46.625741, 10.760624 46.441904))'",
         "GeoFootprint": {
          "coordinates": [
           [
            [
             10.760624,
             46.441904
            ],
            [
             11.360345,
             46.513254
            ],
            [
             11.927424,
             46.577547
            ],
            [
             11.880394,
             46.76981
            ],
            [
             11.312324,
             46.701311
            ],
            [
             10.711586,
             46.625741
            ],
            [
             10.760624,
             46.441904
            ]
           ]
          ],
          "type": "Polygon"
         },
         "Id": "c04f77aa-2053-4ff6-a608-374e216133b7",
         "Lines": 7560,
         "LinesPerBurst": 1512,
         "Name": "S1A-SLC-20240926T170737-249434-IW2-VV-056032",
         "OperationalMode": "IW",
         "OrbitDirection": "ASCENDING",
         "ParentProductId": "d3099ddd-ac44-467c-9c26-3242bb9d5721",
         "ParentProductName": "S1A_IW_SLC__1SDV_20240926T170721_20240926T170748_055839_06D2ED_BD8F.SAFE",
         "ParentProductType": "IW_SLC__1S",
         "PlatformSerialIdentifier": "A",
         "PolarisationChannels": "VV",
         "RelativeOrbitNumber": 117,
         "S3Path": "/eodata/Sentinel-1/SAR/IW_SLC__1S/2024/09/26/S1A_IW_SLC__1SDV_20240926T170721_20240926T170748_055839_06D2ED_BD8F.SAFE/measurement/s1a-iw2-slc-vv-20240926t170723-20240926t170748-055839-06d2ed-005.tiff",
         "SamplesPerBurst": 26484,
         "SwathIdentifier": "IW2"
        },
        {
         "@odata.mediaContentType": "application/octet-stream",
         "AbsoluteBurstId": 120046337,
         "AzimuthAnxTime": 2196.8338374334,
         "AzimuthTime": "2024-09-30T05:27:30.752392Z",
         "BeginningDateTime": "2024-09-30T05:27:31.892542Z",
         "BurstId": 359501,
         "ByteOffset": 1109514331,
         "ContentDate": {
          "End": "2024-09-30T05:27:35.082542Z",
          "Start": "2024-09-30T05:27:31.892542Z"
         },
         "ContentType": "application/octet-stream",
         "DatatakeID": 57952,
         "EndingDateTime": "2024-09-30T05:27:35.082542Z",
         "Footprint": "geography'SRID=4326;POLYGON ((12.306189 46.586499, 11.729773 46.66502, 11.194249 46.735345, 11.139994 46.531867, 11.674696 46.466093, 12.250223 46.392142, 12.306189 46.586499))'",
         "GeoFootprint": {
          "coordinates": [
           [
            [
             12.306189,
             46.586499
            ],
            [
             11.729773,
             46.66502
            ],
            [
             11.194249,
             46.735345
            ],
            [
             11.139994,
             46.531867
            ],
            [
             11.674696,
             46.466093
            ],
            [
             12.250223,
             46.392142
            ],
            [
             12.306189,
             46.586499
            ]
           ]
          ],
          "type": "Polygon"
         },
         "Id": "bf3a1d02-1f15-4269-865d-9d5cdc840959",
         "Lines": 12064,
         "LinesPerBurst": 1508,
         "Name": "S1A-SLC-20240930T052731-359501-IW1-VV-057952",
         "OperationalMode": "IW",
         "OrbitDirection": "DESCENDING",
         "ParentProductId": "a0371162-f8c7-4df7-ac22-4e8d88b521a2",
         "ParentProductName": "S1A_IW_SLC__1SDV_20240930T052706_20240930T052733_055890_06D4F1_3CF5.SAFE",
         "ParentProductType": "IW_SLC__1S",
         "PlatformSerialIdentifier": "A",
         "PolarisationChannels": "VV",
         "RelativeOrbitNumber": 168,
         "S3Path": "/eodata/Sentinel-1/SAR/IW_SLC__1S/2024/09/30/S1A_IW_SLC__1SDV_20240930T052706_20240930T052733_055890_06D4F1_3CF5.SAFE/measurement/s1a-iw1-slc-vv-20240930t052708-20240930t052733-055890-06d4f1-004.tiff",
         "SamplesPerBurst": 22990,
         "SwathIdentifier": "IW1"
        },
        {
         "@odata.mediaContentType": "application/octet-stream",
         "AbsoluteBurstId": 120046338,
         "AzimuthAnxTime": 2199.5923941092,
         "AzimuthTime": "2024-09-30T05:27:33.510949Z",
         "BeginningDateTime": "2024-09-30T05:27:34.650818Z",
         "BurstId": 359502,
         "ByteOffset": 108891,
         "ContentDate": {
          "End": "2024-09-30T05:27:37.840818Z",
          "Start": "2024-09-30T05:27:34.650818Z"
         },
         "ContentType": "application/octet-stream",
         "DatatakeID": 57952,
         "EndingDateTime": "2024-09-30T05:27:37.840818Z",
         "Footprint": "geography'SRID=4326;POLYGON ((12.258601 46.421295, 11.684 46.499758, 11.150156 46.570046, 11.096085 46.366558, 11.629119 46.30082, 12.202845 46.226925, 12.258601 46.421295))'",
         "GeoFootprint": {
          "coordinates": [
           [
            [
             12.258601,
             46.421295
            ],
            [
             11.684,
             46.499758
            ],
            [
             11.150156,
             46.570046
            ],
            [
             11.096085,
             46.366558
            ],
            [
             11.629119,
             46.30082
            ],
            [
             12.202845,
             46.226925
            ],
            [
             12.258601,
             46.421295
            ]
           ]
          ],
          "type": "Polygon"
         },
         "Id": "c0a3be26-605c-4464-9368-007b67d616ad",
         "Lines": 0,
         "LinesPerBurst": 1508,
         "Name": "S1A-SLC-20240930T052734-359502-IW1-VV-057952",
         "OperationalMode": "IW",
         "OrbitDirection": "DESCENDING",
         "ParentProductId": "022892fe-b7a0-4c1d-a34c-bb3b117fb216",
         "ParentProductName": "S1A_IW_SLC__1SDV_20240930T052731_20240930T052758_055890_06D4F1_EBFD.SAFE",
         "ParentProductType": "IW_SLC__1S",
         "PlatformSerialIdentifier": "A",
         "PolarisationChannels": "VV",
         "RelativeOrbitNumber": 168,
         "S3Path": "/eodata/Sentinel-1/SAR/IW_SLC__1S/2024/09/30/S1A_IW_SLC__1SDV_20240930T052731_20240930T052758_055890_06D4F1_EBFD.SAFE/measurement/s1a-iw1-slc-vv-20240930t052733-20240930t052758-055890-06d4f1-004.tiff",
         "SamplesPerBurst": 22991,
         "SwathIdentifier": "IW1"
        },
        {
         "@odata.mediaContentType": "application/octet-stream",
         "AbsoluteBurstId": 120046337,
         "AzimuthAnxTime": 2197.7773381109,
         "AzimuthTime": "2024-09-30T05:27:31.695893Z",
         "BeginningDateTime": "2024-09-30T05:27:32.724744Z",
         "BurstId": 359501,
         "ByteOffset": 109683,
         "ContentDate": {
          "End": "2024-09-30T05:27:35.914744Z",
          "Start": "2024-09-30T05:27:32.724744Z"
         },
         "ContentType": "application/octet-stream",
         "DatatakeID": 57952,
         "EndingDateTime": "2024-09-30T05:27:35.914744Z",
         "Footprint": "geography'SRID=4326;POLYGON ((11.210885 46.663981, 10.609883 46.739546, 10.041572 46.808037, 9.994503 46.61577, 10.56182 46.551482, 11.161802 46.480136, 11.210885 46.663981))'",
         "GeoFootprint": {
          "coordinates": [
           [
            [
             11.210885,
             46.663981
            ],
            [
             10.609883,
             46.739546
            ],
            [
             10.041572,
             46.808037
            ],
            [
             9.994503,
             46.61577
            ],
            [
             10.56182,
             46.551482
            ],
            [
             11.161802,
             46.480136
            ],
            [
             11.210885,
             46.663981
            ]
           ]
          ],
          "type": "Polygon"
         },
         "Id": "699b77d3-1810-4bf9-8318-5969ca40de8b",
         "Lines": 0,
         "LinesPerBurst": 1519,
         "Name": "S1A-SLC-20240930T052732-359501-IW2-VV-057952",
         "OperationalMode": "IW",
         "OrbitDirection": "DESCENDING",
         "ParentProductId": "022892fe-b7a0-4c1d-a34c-bb3b117fb216",
         "ParentProductName": "S1A_IW_SLC__1SDV_20240930T052731_20240930T052758_055890_06D4F1_EBFD.SAFE",
         "ParentProductType": "IW_SLC__1S",
         "PlatformSerialIdentifier": "A",
         "PolarisationChannels": "VV",
         "RelativeOrbitNumber": 168,
         "S3Path": "/eodata/Sentinel-1/SAR/IW_SLC__1S/2024/09/30/S1A_IW_SLC__1SDV_20240930T052731_20240930T052758_055890_06D4F1_EBFD.SAFE/measurement/s1a-iw2-slc-vv-20240930t052731-20240930t052756-055890-06d4f1-005.tiff",
         "SamplesPerBurst": 26745,
         "SwathIdentifier": "IW2"
        },
        {
         "@odata.mediaContentType": "application/octet-stream",
         "AbsoluteBurstId": 120265427,
         "AzimuthAnxTime": 2200.7548119914,
         "AzimuthTime": "2024-10-07T05:19:21.627635Z",
         "BeginningDateTime": "2024-10-07T05:19:22.770748Z",
         "BurstId": 202703,
         "ByteOffset": 1256856515,
         "ContentDate": {
          "End": "2024-10-07T05:19:25.960748Z",
          "Start": "2024-10-07T05:19:22.770748Z"
         },
         "ContentType": "application/octet-stream",
         "DatatakeID": 57408,
         "EndingDateTime": "2024-10-07T05:19:25.960748Z",
         "Footprint": "geography'SRID=4326;POLYGON ((12.089482 46.634916, 11.563369 46.69639, 11.056374 46.753309, 11.010245 46.548522, 11.516373 46.496209, 12.041638 46.439349, 12.089482 46.634916))'",
         "GeoFootprint": {
          "coordinates": [
           [
            [
             12.089482,
             46.634916
            ],
            [
             11.563369,
             46.69639
            ],
            [
             11.056374,
             46.753309
            ],
            [
             11.010245,
             46.548522
            ],
            [
             11.516373,
             46.496209
            ],
            [
             12.041638,
             46.439349
            ],
            [
             12.089482,
             46.634916
            ]
           ]
          ],
          "type": "Polygon"
         },
         "Id": "aaba1cb9-3d6e-40bd-ad15-c7e1011d0068",
         "Lines": 12200,
         "LinesPerBurst": 1525,
         "Name": "S1A-SLC-20241007T051922-202703-IW3-VV-057408",
         "OperationalMode": "IW",
         "OrbitDirection": "DESCENDING",
         "ParentProductId": "39c03d4b-8afb-4a0b-ad70-1c204593e67c",
         "ParentProductName": "S1A_IW_SLC__1SDV_20241007T051858_20241007T051925_055992_06D8F0_B9EE.SAFE",
         "ParentProductType": "IW_SLC__1S",
         "PlatformSerialIdentifier": "A",
         "PolarisationChannels": "VV",
         "RelativeOrbitNumber": 95,
         "S3Path": "/eodata/Sentinel-1/SAR/IW_SLC__1S/2024/10/07/S1A_IW_SLC__1SDV_20241007T051858_20241007T051925_055992_06D8F0_B9EE.SAFE/measurement/s1a-iw3-slc-vv-20241007t051859-20241007t051924-055992-06d8f0-006.tiff",
         "SamplesPerBurst": 25753,
         "SwathIdentifier": "IW3"
        },
        {
         "@odata.mediaContentType": "application/octet-stream",
         "AbsoluteBurstId": 120265428,
         "AzimuthAnxTime": 2203.5113129983,
         "AzimuthTime": "2024-10-07T05:19:24.384136Z",
         "BeginningDateTime": "2024-10-07T05:19:25.529024Z",
         "BurstId": 202704,
         "ByteOffset": 110115,
         "ContentDate": {
          "End": "2024-10-07T05:19:28.719024Z",
          "Start": "2024-10-07T05:19:25.529024Z"
         },
         "ContentType": "application/octet-stream",
         "DatatakeID": 57408,
         "EndingDateTime": "2024-10-07T05:19:28.719024Z",
         "Footprint": "geography'SRID=4326;POLYGON ((12.049022 46.469577, 11.524545 46.531064, 11.019128 46.588009, 10.97311 46.383218, 11.477674 46.330878, 12.001315 46.274004, 12.049022 46.469577))'",
         "GeoFootprint": {
          "coordinates": [
           [
            [
             12.049022,
             46.469577
            ],
            [
             11.524545,
             46.531064
            ],
            [
             11.019128,
             46.588009
            ],
            [
             10.97311,
             46.383218
            ],
            [
             11.477674,
             46.330878
            ],
            [
             12.001315,
             46.274004
            ],
            [
             12.049022,
             46.469577
            ]
           ]
          ],
          "type": "Polygon"
         },
         "Id": "b87f94d9-0512-4198-9cd4-ba2fd180e3a8",
         "Lines": 0,
         "LinesPerBurst": 1525,
         "Name": "S1A-SLC-20241007T051925-202704-IW3-VV-057408",
         "OperationalMode": "IW",
         "OrbitDirection": "DESCENDING",
         "ParentProductId": "aafbf96a-3708-41c2-ba70-cd92c13beb26",
         "ParentProductName": "S1A_IW_SLC__1SDV_20241007T051923_20241007T051950_055992_06D8F0_BD36.SAFE",
         "ParentProductType": "IW_SLC__1S",
         "PlatformSerialIdentifier": "A",
         "PolarisationChannels": "VV",
         "RelativeOrbitNumber": 95,
         "S3Path": "/eodata/Sentinel-1/SAR/IW_SLC__1S/2024/10/07/S1A_IW_SLC__1SDV_20241007T051923_20241007T051950_055992_06D8F0_BD36.SAFE/measurement/s1a-iw3-slc-vv-20241007t051924-20241007t051949-055992-06d8f0-006.tiff",
         "SamplesPerBurst": 25753,
         "SwathIdentifier": "IW3"
        },
        {
         "@odata.mediaContentType": "application/octet-stream",
         "AbsoluteBurstId": 120312157,
         "AzimuthAnxTime": 753.3821013293,
         "AzimuthTime": "2024-10-08T17:07:35.005379Z",
         "BeginningDateTime": "2024-10-08T17:07:36.029044Z",
         "BurstId": 249433,
         "ByteOffset": 640810107,
         "ContentDate": {
          "End": "2024-10-08T17:07:39.219044Z",
          "Start": "2024-10-08T17:07:36.029044Z"
         },
         "ContentType": "application/octet-stream",
         "DatatakeID": 42688,
         "EndingDateTime": "2024-10-08T17:07:39.219044Z",
         "Footprint": "geography'SRID=4326;POLYGON ((10.804564 46.276581, 11.402422 46.34791, 11.967742 46.412202, 11.920848 46.604472, 11.354552 46.535976, 10.755691 46.460429, 10.804564 46.276581))'",
         "GeoFootprint": {
          "coordinates": [
           [
            [
             10.804564,
             46.276581
            ],
            [
             11.402422,
             46.34791
            ],
            [
             11.967742,
             46.412202
            ],
            [
             11.920848,
             46.604472
            ],
            [
             11.354552,
             46.535976
            ],
            [
             10.755691,
             46.460429
            ],
            [
             10.804564,
             46.276581
            ]
           ]
          ],
          "type": "Polygon"
         },
         "Id": "58577eb2-3e7f-4650-9036-a3d23229e4fc",
         "Lines": 6048,
         "LinesPerBurst": 1512,
         "Name": "S1A-SLC-20241008T170736-249433-IW2-VV-042688",
         "OperationalMode": "IW",
         "OrbitDirection": "ASCENDING",
         "ParentProductId": "cd70dfb2-7d21-4104-b10c-57d20338ad19",
         "ParentProductName": "S1A_IW_SLC__1SDV_20241008T170722_20241008T170749_056014_06D9D3_B5FB.SAFE",
         "ParentProductType": "IW_SLC__1S",
         "PlatformSerialIdentifier": "A",
         "PolarisationChannels": "VV",
         "RelativeOrbitNumber": 117,
         "S3Path": "/eodata/Sentinel-1/SAR/IW_SLC__1S/2024/10/08/S1A_IW_SLC__1SDV_20241008T170722_20241008T170749_056014_06D9D3_B5FB.SAFE/measurement/s1a-iw2-slc-vv-20241008t170723-20241008t170749-056014-06d9d3-005.tiff",
         "SamplesPerBurst": 26484,
         "SwathIdentifier": "IW2"
        },
        {
         "@odata.mediaContentType": "application/octet-stream",
         "AbsoluteBurstId": 120312158,
         "AzimuthAnxTime": 756.1386023276,
         "AzimuthTime": "2024-10-08T17:07:37.761880Z",
         "BeginningDateTime": "2024-10-08T17:07:38.787321Z",
         "BurstId": 249434,
         "ByteOffset": 800985339,
         "ContentDate": {
          "End": "2024-10-08T17:07:41.977321Z",
          "Start": "2024-10-08T17:07:38.787321Z"
         },
         "ContentType": "application/octet-stream",
         "DatatakeID": 42688,
         "EndingDateTime": "2024-10-08T17:07:41.977321Z",
         "Footprint": "geography'SRID=4326;POLYGON ((10.760624 46.441904, 11.360345 46.513254, 11.927424 46.577547, 11.880394 46.76981, 11.312324 46.701311, 10.711586 46.625741, 10.760624 46.441904))'",
         "GeoFootprint": {
          "coordinates": [
           [
            [
             10.760624,
             46.441904
            ],
            [
             11.360345,
             46.513254
            ],
            [
             11.927424,
             46.577547
            ],
            [
             11.880394,
             46.76981
            ],
            [
             11.312324,
             46.701311
            ],
            [
             10.711586,
             46.625741
            ],
            [
             10.760624,
             46.441904
            ]
           ]
          ],
          "type": "Polygon"
         },
         "Id": "5ec182a5-f071-4055-a2c8-6875943c64af",
         "Lines": 7560,
         "LinesPerBurst": 1512,
         "Name": "S1A-SLC-20241008T170738-249434-IW2-VV-042688",
         "OperationalMode": "IW",
         "OrbitDirection": "ASCENDING",
         "ParentProductId": "cd70dfb2-7d21-4104-b10c-57d20338ad19",
         "ParentProductName": "S1A_IW_SLC__1SDV_20241008T170722_20241008T170749_056014_06D9D3_B5FB.SAFE",
         "ParentProductType": "IW_SLC__1S",
         "PlatformSerialIdentifier": "A",
         "PolarisationChannels": "VV",
         "RelativeOrbitNumber": 117,
         "S3Path": "/eodata/Sentinel-1/SAR/IW_SLC__1S/2024/10/08/S1A_IW_SLC__1SDV_20241008T170722_20241008T170749_056014_06D9D3_B5FB.SAFE/measurement/s1a-iw2-slc-vv-20241008t170723-20241008t170749-056014-06d9d3-005.tiff",
         "SamplesPerBurst": 26484,
         "SwathIdentifier": "IW2"
        },
        {
         "@odata.mediaContentType": "application/octet-stream",
         "AbsoluteBurstId": 120422224,
         "AzimuthAnxTime": 2196.8334469897,
         "AzimuthTime": "2024-10-12T05:27:30.713260Z",
         "BeginningDateTime": "2024-10-12T05:27:31.849299Z",
         "BurstId": 359501,
         "ByteOffset": 1109514331,
         "ContentDate": {
          "End": "2024-10-12T05:27:35.039299Z",
          "Start": "2024-10-12T05:27:31.849299Z"
         },
         "ContentType": "application/octet-stream",
         "DatatakeID": 43072,
         "EndingDateTime": "2024-10-12T05:27:35.039299Z",
         "Footprint": "geography'SRID=4326;POLYGON ((12.306189 46.586499, 11.729773 46.66502, 11.194249 46.735345, 11.139994 46.531867, 11.674696 46.466093, 12.250223 46.392142, 12.306189 46.586499))'",
         "GeoFootprint": {
          "coordinates": [
           [
            [
             12.306189,
             46.586499
            ],
            [
             11.729773,
             46.66502
            ],
            [
             11.194249,
             46.735345
            ],
            [
             11.139994,
             46.531867
            ],
            [
             11.674696,
             46.466093
            ],
            [
             12.250223,
             46.392142
            ],
            [
             12.306189,
             46.586499
            ]
           ]
          ],
          "type": "Polygon"
         },
         "Id": "78387300-2faf-449b-910c-dba6b6057553",
         "Lines": 12064,
         "LinesPerBurst": 1508,
         "Name": "S1A-SLC-20241012T052731-359501-IW1-VV-043072",
         "OperationalMode": "IW",
         "OrbitDirection": "DESCENDING",
         "ParentProductId": "ca3594c4-87ed-4afd-9404-2c061a570909",
         "ParentProductName": "S1A_IW_SLC__1SDV_20241012T052706_20241012T052733_056065_06DBD4_0019.SAFE",
         "ParentProductType": "IW_SLC__1S",
         "PlatformSerialIdentifier": "A",
         "PolarisationChannels": "VV",
         "RelativeOrbitNumber": 168,
         "S3Path": "/eodata/Sentinel-1/SAR/IW_SLC__1S/2024/10/12/S1A_IW_SLC__1SDV_20241012T052706_20241012T052733_056065_06DBD4_0019.SAFE/measurement/s1a-iw1-slc-vv-20241012t052708-20241012t052733-056065-06dbd4-004.tiff",
         "SamplesPerBurst": 22990,
         "SwathIdentifier": "IW1"
        },
        {
         "@odata.mediaContentType": "application/octet-stream",
         "AbsoluteBurstId": 120422225,
         "AzimuthAnxTime": 2199.5920031092,
         "AzimuthTime": "2024-10-12T05:27:33.471816Z",
         "BeginningDateTime": "2024-10-12T05:27:34.607575Z",
         "BurstId": 359502,
         "ByteOffset": 108891,
         "ContentDate": {
          "End": "2024-10-12T05:27:37.797575Z",
          "Start": "2024-10-12T05:27:34.607575Z"
         },
         "ContentType": "application/octet-stream",
         "DatatakeID": 43072,
         "EndingDateTime": "2024-10-12T05:27:37.797575Z",
         "Footprint": "geography'SRID=4326;POLYGON ((12.258601 46.421295, 11.684 46.499758, 11.150156 46.570046, 11.096085 46.366558, 11.629119 46.30082, 12.202845 46.226925, 12.258601 46.421295))'",
         "GeoFootprint": {
          "coordinates": [
           [
            [
             12.258601,
             46.421295
            ],
            [
             11.684,
             46.499758
            ],
            [
             11.150156,
             46.570046
            ],
            [
             11.096085,
             46.366558
            ],
            [
             11.629119,
             46.30082
            ],
            [
             12.202845,
             46.226925
            ],
            [
             12.258601,
             46.421295
            ]
           ]
          ],
          "type": "Polygon"
         },
         "Id": "9354ca16-3d85-446c-a86b-5ce417476cce",
         "Lines": 0,
         "LinesPerBurst": 1508,
         "Name": "S1A-SLC-20241012T052734-359502-IW1-VV-043072",
         "OperationalMode": "IW",
         "OrbitDirection": "DESCENDING",
         "ParentProductId": "dc0c5073-dcc5-4153-b2b6-0d71ca0a350f",
         "ParentProductName": "S1A_IW_SLC__1SDV_20241012T052731_20241012T052758_056065_06DBD4_F910.SAFE",
         "ParentProductType": "IW_SLC__1S",
         "PlatformSerialIdentifier": "A",
         "PolarisationChannels": "VV",
         "RelativeOrbitNumber": 168,
         "S3Path": "/eodata/Sentinel-1/SAR/IW_SLC__1S/2024/10/12/S1A_IW_SLC__1SDV_20241012T052731_20241012T052758_056065_06DBD4_F910.SAFE/measurement/s1a-iw1-slc-vv-20241012t052733-20241012t052758-056065-06dbd4-004.tiff",
         "SamplesPerBurst": 22990,
         "SwathIdentifier": "IW1"
        },
        {
         "@odata.mediaContentType": "application/octet-stream",
         "AbsoluteBurstId": 120422225,
         "AzimuthAnxTime": 2197.7769476672,
         "AzimuthTime": "2024-10-12T05:27:31.656761Z",
         "BeginningDateTime": "2024-10-12T05:27:32.681501Z",
         "BurstId": 359501,
         "ByteOffset": 109683,
         "ContentDate": {
          "End": "2024-10-12T05:27:35.871501Z",
          "Start": "2024-10-12T05:27:32.681501Z"
         },
         "ContentType": "application/octet-stream",
         "DatatakeID": 43072,
         "EndingDateTime": "2024-10-12T05:27:35.871501Z",
         "Footprint": "geography'SRID=4326;POLYGON ((11.210885 46.663981, 10.609883 46.739546, 10.041572 46.808037, 9.994503 46.61577, 10.56182 46.551482, 11.161802 46.480136, 11.210885 46.663981))'",
         "GeoFootprint": {
          "coordinates": [
           [
            [
             11.210885,
             46.663981
            ],
            [
             10.609883,
             46.739546
            ],
            [
             10.041572,
             46.808037
            ],
            [
             9.994503,
             46.61577
            ],
            [
             10.56182,
             46.551482
            ],
            [
             11.161802,
             46.480136
            ],
            [
             11.210885,
             46.663981
            ]
           ]
          ],
          "type": "Polygon"
         },
         "Id": "38716df8-265c-4ed1-a947-6793b68f6151",
         "Lines": 0,
         "LinesPerBurst": 1519,
         "Name": "S1A-SLC-20241012T052732-359501-IW2-VV-043072",
         "OperationalMode": "IW",
         "OrbitDirection": "DESCENDING",
         "ParentProductId": "dc0c5073-dcc5-4153-b2b6-0d71ca0a350f",
         "ParentProductName": "S1A_IW_SLC__1SDV_20241012T052731_20241012T052758_056065_06DBD4_F910.SAFE",
         "ParentProductType": "IW_SLC__1S",
         "PlatformSerialIdentifier": "A",
         "PolarisationChannels": "VV",
         "RelativeOrbitNumber": 168,
         "S3Path": "/eodata/Sentinel-1/SAR/IW_SLC__1S/2024/10/12/S1A_IW_SLC__1SDV_20241012T052731_20241012T052758_056065_06DBD4_F910.SAFE/measurement/s1a-iw2-slc-vv-20241012t052731-20241012t052756-056065-06dbd4-005.tiff",
         "SamplesPerBurst": 26745,
         "SwathIdentifier": "IW2"
        },
        {
         "@odata.mediaContentType": "application/octet-stream",
         "AbsoluteBurstId": 120641314,
         "AzimuthAnxTime": 2200.755818104,
         "AzimuthTime": "2024-10-19T05:19:21.413645Z",
         "BeginningDateTime": "2024-10-19T05:19:22.556758Z",
         "BurstId": 202703,
         "ByteOffset": 1256905315,
         "ContentDate": {
          "End": "2024-10-19T05:19:25.746758Z",
          "Start": "2024-10-19T05:19:22.556758Z"
         },
         "ContentType": "application/octet-stream",
         "DatatakeID": 47168,
         "EndingDateTime": "2024-10-19T05:19:25.746758Z",
         "Footprint": "geography'SRID=4326;POLYGON ((12.089482 46.634916, 11.563369 46.69639, 11.056374 46.753309, 11.010245 46.548522, 11.516373 46.496209, 12.041638 46.439349, 12.089482 46.634916))'",
         "GeoFootprint": {
          "coordinates": [
           [
            [
             12.089482,
             46.634916
            ],
            [
             11.563369,
             46.69639
            ],
            [
             11.056374,
             46.753309
            ],
            [
             11.010245,
             46.548522
            ],
            [
             11.516373,
             46.496209
            ],
            [
             12.041638,
             46.439349
            ],
            [
             12.089482,
             46.634916
            ]
           ]
          ],
          "type": "Polygon"
         },
         "Id": "1453db6b-7bc3-4a03-9c48-5bef5b6a75d4",
         "Lines": 12200,
         "LinesPerBurst": 1525,
         "Name": "S1A-SLC-20241019T051922-202703-IW3-VV-047168",
         "OperationalMode": "IW",
         "OrbitDirection": "DESCENDING",
         "ParentProductId": "13e2ad92-6d42-493d-b01c-7dae363b7aeb",
         "ParentProductName": "S1A_IW_SLC__1SDV_20241019T051858_20241019T051925_056167_06DFDC_03C3.SAFE",
         "ParentProductType": "IW_SLC__1S",
         "PlatformSerialIdentifier": "A",
         "PolarisationChannels": "VV",
         "RelativeOrbitNumber": 95,
         "S3Path": "/eodata/Sentinel-1/SAR/IW_SLC__1S/2024/10/19/S1A_IW_SLC__1SDV_20241019T051858_20241019T051925_056167_06DFDC_03C3.SAFE/measurement/s1a-iw3-slc-vv-20241019t051859-20241019t051924-056167-06dfdc-006.tiff",
         "SamplesPerBurst": 25754,
         "SwathIdentifier": "IW3"
        },
        {
         "@odata.mediaContentType": "application/octet-stream",
         "AbsoluteBurstId": 120641315,
         "AzimuthAnxTime": 2203.510263442,
         "AzimuthTime": "2024-10-19T05:19:24.168090Z",
         "BeginningDateTime": "2024-10-19T05:19:25.315034Z",
         "BurstId": 202704,
         "ByteOffset": 110115,
         "ContentDate": {
          "End": "2024-10-19T05:19:28.505034Z",
          "Start": "2024-10-19T05:19:25.315034Z"
         },
         "ContentType": "application/octet-stream",
         "DatatakeID": 47168,
         "EndingDateTime": "2024-10-19T05:19:28.505034Z",
         "Footprint": "geography'SRID=4326;POLYGON ((12.049022 46.469577, 11.524545 46.531064, 11.019128 46.588009, 10.97311 46.383218, 11.477674 46.330878, 12.001315 46.274004, 12.049022 46.469577))'",
         "GeoFootprint": {
          "coordinates": [
           [
            [
             12.049022,
             46.469577
            ],
            [
             11.524545,
             46.531064
            ],
            [
             11.019128,
             46.588009
            ],
            [
             10.97311,
             46.383218
            ],
            [
             11.477674,
             46.330878
            ],
            [
             12.001315,
             46.274004
            ],
            [
             12.049022,
             46.469577
            ]
           ]
          ],
          "type": "Polygon"
         },
         "Id": "2776fdf9-eded-4dd4-aff7-fcb7178f5cf5",
         "Lines": 0,
         "LinesPerBurst": 1525,
         "Name": "S1A-SLC-20241019T051925-202704-IW3-VV-047168",
         "OperationalMode": "IW",
         "OrbitDirection": "DESCENDING",
         "ParentProductId": "aa47c1ce-d274-49f4-9b1a-44aa7ed005ba",
         "ParentProductName": "S1A_IW_SLC__1SDV_20241019T051923_20241019T051950_056167_06DFDC_645E.SAFE",
         "ParentProductType": "IW_SLC__1S",
         "PlatformSerialIdentifier": "A",
         "PolarisationChannels": "VV",
         "RelativeOrbitNumber": 95,
         "S3Path": "/eodata/Sentinel-1/SAR/IW_SLC__1S/2024/10/19/S1A_IW_SLC__1SDV_20241019T051923_20241019T051950_056167_06DFDC_645E.SAFE/measurement/s1a-iw3-slc-vv-20241019t051924-20241019t051949-056167-06dfdc-006.tiff",
         "SamplesPerBurst": 25753,
         "SwathIdentifier": "IW3"
        },
        {
         "@odata.mediaContentType": "application/octet-stream",
         "AbsoluteBurstId": 120688044,
         "AzimuthAnxTime": 753.394196773,
         "AzimuthTime": "2024-10-20T17:07:34.695997Z",
         "BeginningDateTime": "2024-10-20T17:07:35.707328Z",
         "BurstId": 249433,
         "ByteOffset": 640810107,
         "ContentDate": {
          "End": "2024-10-20T17:07:38.897328Z",
          "Start": "2024-10-20T17:07:35.707328Z"
         },
         "ContentType": "application/octet-stream",
         "DatatakeID": 32448,
         "EndingDateTime": "2024-10-20T17:07:38.897328Z",
         "Footprint": "geography'SRID=4326;POLYGON ((10.804564 46.276581, 11.402422 46.34791, 11.967742 46.412202, 11.920848 46.604472, 11.354552 46.535976, 10.755691 46.460429, 10.804564 46.276581))'",
         "GeoFootprint": {
          "coordinates": [
           [
            [
             10.804564,
             46.276581
            ],
            [
             11.402422,
             46.34791
            ],
            [
             11.967742,
             46.412202
            ],
            [
             11.920848,
             46.604472
            ],
            [
             11.354552,
             46.535976
            ],
            [
             10.755691,
             46.460429
            ],
            [
             10.804564,
             46.276581
            ]
           ]
          ],
          "type": "Polygon"
         },
         "Id": "bbac157f-eaa7-4eb2-a65e-e0f6fd759740",
         "Lines": 6048,
         "LinesPerBurst": 1512,
         "Name": "S1A-SLC-20241020T170735-249433-IW2-VV-032448",
         "OperationalMode": "IW",
         "OrbitDirection": "ASCENDING",
         "ParentProductId": "7deb4d96-ee58-47f9-ba97-504ad4038b9c",
         "ParentProductName": "S1A_IW_SLC__1SDV_20241020T170721_20241020T170748_056189_06E0BF_58BA.SAFE",
         "ParentProductType": "IW_SLC__1S",
         "PlatformSerialIdentifier": "A",
         "PolarisationChannels": "VV",
         "RelativeOrbitNumber": 117,
         "S3Path": "/eodata/Sentinel-1/SAR/IW_SLC__1S/2024/10/20/S1A_IW_SLC__1SDV_20241020T170721_20241020T170748_056189_06E0BF_58BA.SAFE/measurement/s1a-iw2-slc-vv-20241020t170723-20241020t170748-056189-06e0bf-005.tiff",
         "SamplesPerBurst": 26484,
         "SwathIdentifier": "IW2"
        },
        {
         "@odata.mediaContentType": "application/octet-stream",
         "AbsoluteBurstId": 120688045,
         "AzimuthAnxTime": 756.1506977713,
         "AzimuthTime": "2024-10-20T17:07:37.452498Z",
         "BeginningDateTime": "2024-10-20T17:07:38.465605Z",
         "BurstId": 249434,
         "ByteOffset": 800985339,
         "ContentDate": {
          "End": "2024-10-20T17:07:41.655605Z",
          "Start": "2024-10-20T17:07:38.465605Z"
         },
         "ContentType": "application/octet-stream",
         "DatatakeID": 32448,
         "EndingDateTime": "2024-10-20T17:07:41.655605Z",
         "Footprint": "geography'SRID=4326;POLYGON ((10.760624 46.441904, 11.360345 46.513254, 11.927424 46.577547, 11.880394 46.76981, 11.312324 46.701311, 10.711586 46.625741, 10.760624 46.441904))'",
         "GeoFootprint": {
          "coordinates": [
           [
            [
             10.760624,
             46.441904
            ],
            [
             11.360345,
             46.513254
            ],
            [
             11.927424,
             46.577547
            ],
            [
             11.880394,
             46.76981
            ],
            [
             11.312324,
             46.701311
            ],
            [
             10.711586,
             46.625741
            ],
            [
             10.760624,
             46.441904
            ]
           ]
          ],
          "type": "Polygon"
         },
         "Id": "95c62c61-8b3d-4517-ad1c-58b2ae7cdf2d",
         "Lines": 7560,
         "LinesPerBurst": 1512,
         "Name": "S1A-SLC-20241020T170738-249434-IW2-VV-032448",
         "OperationalMode": "IW",
         "OrbitDirection": "ASCENDING",
         "ParentProductId": "7deb4d96-ee58-47f9-ba97-504ad4038b9c",
         "ParentProductName": "S1A_IW_SLC__1SDV_20241020T170721_20241020T170748_056189_06E0BF_58BA.SAFE",
         "ParentProductType": "IW_SLC__1S",
         "PlatformSerialIdentifier": "A",
         "PolarisationChannels": "VV",
         "RelativeOrbitNumber": 117,
         "S3Path": "/eodata/Sentinel-1/SAR/IW_SLC__1S/2024/10/20/S1A_IW_SLC__1SDV_20241020T170721_20241020T170748_056189_06E0BF_58BA.SAFE/measurement/s1a-iw2-slc-vv-20241020t170723-20241020t170748-056189-06e0bf-005.tiff",
         "SamplesPerBurst": 26484,
         "SwathIdentifier": "IW2"
        },
        {
         "@odata.mediaContentType": "application/octet-stream",
         "AbsoluteBurstId": 120798112,
         "AzimuthAnxTime": 2196.8435409897,
         "AzimuthTime": "2024-10-24T05:27:30.401245Z",
         "BeginningDateTime": "2024-10-24T05:27:31.529063Z",
         "BurstId": 359501,
         "ByteOffset": 1109514331,
         "ContentDate": {
          "End": "2024-10-24T05:27:34.719063Z",
          "Start": "2024-10-24T05:27:31.529063Z"
         },
         "ContentType": "application/octet-stream",
         "DatatakeID": 33856,
         "EndingDateTime": "2024-10-24T05:27:34.719063Z",
         "Footprint": "geography'SRID=4326;POLYGON ((12.306189 46.586499, 11.729773 46.66502, 11.194249 46.735345, 11.139994 46.531867, 11.674696 46.466093, 12.250223 46.392142, 12.306189 46.586499))'",
         "GeoFootprint": {
          "coordinates": [
           [
            [
             12.306189,
             46.586499
            ],
            [
             11.729773,
             46.66502
            ],
            [
             11.194249,
             46.735345
            ],
            [
             11.139994,
             46.531867
            ],
            [
             11.674696,
             46.466093
            ],
            [
             12.250223,
             46.392142
            ],
            [
             12.306189,
             46.586499
            ]
           ]
          ],
          "type": "Polygon"
         },
         "Id": "f9869389-e061-483e-8d61-f773a72bc22c",
         "Lines": 12064,
         "LinesPerBurst": 1508,
         "Name": "S1A-SLC-20241024T052731-359501-IW1-VV-033856",
         "OperationalMode": "IW",
         "OrbitDirection": "DESCENDING",
         "ParentProductId": "d2b7af94-0ff3-4851-b4e4-a170762b69e9",
         "ParentProductName": "S1A_IW_SLC__1SDV_20241024T052706_20241024T052733_056240_06E2C2_06D7.SAFE",
         "ParentProductType": "IW_SLC__1S",
         "PlatformSerialIdentifier": "A",
         "PolarisationChannels": "VV",
         "RelativeOrbitNumber": 168,
         "S3Path": "/eodata/Sentinel-1/SAR/IW_SLC__1S/2024/10/24/S1A_IW_SLC__1SDV_20241024T052706_20241024T052733_056240_06E2C2_06D7.SAFE/measurement/s1a-iw1-slc-vv-20241024t052708-20241024t052733-056240-06e2c2-004.tiff",
         "SamplesPerBurst": 22990,
         "SwathIdentifier": "IW1"
        },
        {
         "@odata.mediaContentType": "application/octet-stream",
         "AbsoluteBurstId": 120798113,
         "AzimuthAnxTime": 2199.6000425529,
         "AzimuthTime": "2024-10-24T05:27:33.157747Z",
         "BeginningDateTime": "2024-10-24T05:27:34.287339Z",
         "BurstId": 359502,
         "ByteOffset": 108891,
         "ContentDate": {
          "End": "2024-10-24T05:27:37.477339Z",
          "Start": "2024-10-24T05:27:34.287339Z"
         },
         "ContentType": "application/octet-stream",
         "DatatakeID": 33856,
         "EndingDateTime": "2024-10-24T05:27:37.477339Z",
         "Footprint": "geography'SRID=4326;POLYGON ((12.258601 46.421295, 11.684 46.499758, 11.150156 46.570046, 11.096085 46.366558, 11.629119 46.30082, 12.202845 46.226925, 12.258601 46.421295))'",
         "GeoFootprint": {
          "coordinates": [
           [
            [
             12.258601,
             46.421295
            ],
            [
             11.684,
             46.499758
            ],
            [
             11.150156,
             46.570046
            ],
            [
             11.096085,
             46.366558
            ],
            [
             11.629119,
             46.30082
            ],
            [
             12.202845,
             46.226925
            ],
            [
             12.258601,
             46.421295
            ]
           ]
          ],
          "type": "Polygon"
         },
         "Id": "df036ad2-0e94-4ae5-bea6-15e282b31f26",
         "Lines": 0,
         "LinesPerBurst": 1508,
         "Name": "S1A-SLC-20241024T052734-359502-IW1-VV-033856",
         "OperationalMode": "IW",
         "OrbitDirection": "DESCENDING",
         "ParentProductId": "6d8dc2be-2dfe-4357-8ac1-6edd23618754",
         "ParentProductName": "S1A_IW_SLC__1SDV_20241024T052731_20241024T052758_056240_06E2C2_C1B4.SAFE",
         "ParentProductType": "IW_SLC__1S",
         "PlatformSerialIdentifier": "A",
         "PolarisationChannels": "VV",
         "RelativeOrbitNumber": 168,
         "S3Path": "/eodata/Sentinel-1/SAR/IW_SLC__1S/2024/10/24/S1A_IW_SLC__1SDV_20241024T052731_20241024T052758_056240_06E2C2_C1B4.SAFE/measurement/s1a-iw1-slc-vv-20241024t052733-20241024t052758-056240-06e2c2-004.tiff",
         "SamplesPerBurst": 22990,
         "SwathIdentifier": "IW1"
        },
        {
         "@odata.mediaContentType": "application/octet-stream",
         "AbsoluteBurstId": 120798112,
         "AzimuthAnxTime": 2197.7849861109,
         "AzimuthTime": "2024-10-24T05:27:31.342690Z",
         "BeginningDateTime": "2024-10-24T05:27:32.361265Z",
         "BurstId": 359501,
         "ByteOffset": 109683,
         "ContentDate": {
          "End": "2024-10-24T05:27:35.551265Z",
          "Start": "2024-10-24T05:27:32.361265Z"
         },
         "ContentType": "application/octet-stream",
         "DatatakeID": 33856,
         "EndingDateTime": "2024-10-24T05:27:35.551265Z",
         "Footprint": "geography'SRID=4326;POLYGON ((11.210885 46.663981, 10.609883 46.739546, 10.041572 46.808037, 9.994503 46.61577, 10.56182 46.551482, 11.161802 46.480136, 11.210885 46.663981))'",
         "GeoFootprint": {
          "coordinates": [
           [
            [
             11.210885,
             46.663981
            ],
            [
             10.609883,
             46.739546
            ],
            [
             10.041572,
             46.808037
            ],
            [
             9.994503,
             46.61577
            ],
            [
             10.56182,
             46.551482
            ],
            [
             11.161802,
             46.480136
            ],
            [
             11.210885,
             46.663981
            ]
           ]
          ],
          "type": "Polygon"
         },
         "Id": "cccb8330-304a-42c8-ad0a-208d8b41b84c",
         "Lines": 0,
         "LinesPerBurst": 1519,
         "Name": "S1A-SLC-20241024T052732-359501-IW2-VV-033856",
         "OperationalMode": "IW",
         "OrbitDirection": "DESCENDING",
         "ParentProductId": "6d8dc2be-2dfe-4357-8ac1-6edd23618754",
         "ParentProductName": "S1A_IW_SLC__1SDV_20241024T052731_20241024T052758_056240_06E2C2_C1B4.SAFE",
         "ParentProductType": "IW_SLC__1S",
         "PlatformSerialIdentifier": "A",
         "PolarisationChannels": "VV",
         "RelativeOrbitNumber": 168,
         "S3Path": "/eodata/Sentinel-1/SAR/IW_SLC__1S/2024/10/24/S1A_IW_SLC__1SDV_20241024T052731_20241024T052758_056240_06E2C2_C1B4.SAFE/measurement/s1a-iw2-slc-vv-20241024t052731-20241024t052756-056240-06e2c2-005.tiff",
         "SamplesPerBurst": 26745,
         "SwathIdentifier": "IW2"
        },
        {
         "@odata.mediaContentType": "application/octet-stream",
         "AbsoluteBurstId": 121017202,
         "AzimuthAnxTime": 2200.7768749914,
         "AzimuthTime": "2024-10-31T05:19:21.399161Z",
         "BeginningDateTime": "2024-10-31T05:19:22.534053Z",
         "BurstId": 202703,
         "ByteOffset": 1256856515,
         "ContentDate": {
          "End": "2024-10-31T05:19:25.724053Z",
          "Start": "2024-10-31T05:19:22.534053Z"
         },
         "ContentType": "application/octet-stream",
         "DatatakeID": 39232,
         "EndingDateTime": "2024-10-31T05:19:25.724053Z",
         "Footprint": "geography'SRID=4326;POLYGON ((12.089482 46.634916, 11.563369 46.69639, 11.056374 46.753309, 11.010245 46.548522, 11.516373 46.496209, 12.041638 46.439349, 12.089482 46.634916))'",
         "GeoFootprint": {
          "coordinates": [
           [
            [
             12.089482,
             46.634916
            ],
            [
             11.563369,
             46.69639
            ],
            [
             11.056374,
             46.753309
            ],
            [
             11.010245,
             46.548522
            ],
            [
             11.516373,
             46.496209
            ],
            [
             12.041638,
             46.439349
            ],
            [
             12.089482,
             46.634916
            ]
           ]
          ],
          "type": "Polygon"
         },
         "Id": "05f9d89c-fa67-4af2-b72d-282f225a8ff7",
         "Lines": 12200,
         "LinesPerBurst": 1525,
         "Name": "S1A-SLC-20241031T051922-202703-IW3-VV-039232",
         "OperationalMode": "IW",
         "OrbitDirection": "DESCENDING",
         "ParentProductId": "682fffbd-9948-44ca-a3d1-2a85be9f427b",
         "ParentProductName": "S1A_IW_SLC__1SDV_20241031T051858_20241031T051925_056342_06E6CC_B616.SAFE",
         "ParentProductType": "IW_SLC__1S",
         "PlatformSerialIdentifier": "A",
         "PolarisationChannels": "VV",
         "RelativeOrbitNumber": 95,
         "S3Path": "/eodata/Sentinel-1/SAR/IW_SLC__1S/2024/10/31/S1A_IW_SLC__1SDV_20241031T051858_20241031T051925_056342_06E6CC_B616.SAFE/measurement/s1a-iw3-slc-vv-20241031t051859-20241031t051924-056342-06e6cc-006.tiff",
         "SamplesPerBurst": 25753,
         "SwathIdentifier": "IW3"
        },
        {
         "@odata.mediaContentType": "application/octet-stream",
         "AbsoluteBurstId": 121017203,
         "AzimuthAnxTime": 2203.531320442,
         "AzimuthTime": "2024-10-31T05:19:24.153606Z",
         "BeginningDateTime": "2024-10-31T05:19:25.292329Z",
         "BurstId": 202704,
         "ByteOffset": 110115,
         "ContentDate": {
          "End": "2024-10-31T05:19:28.482329Z",
          "Start": "2024-10-31T05:19:25.292329Z"
         },
         "ContentType": "application/octet-stream",
         "DatatakeID": 39232,
         "EndingDateTime": "2024-10-31T05:19:28.482329Z",
         "Footprint": "geography'SRID=4326;POLYGON ((12.049022 46.469577, 11.524545 46.531064, 11.019128 46.588009, 10.97311 46.383218, 11.477674 46.330878, 12.001315 46.274004, 12.049022 46.469577))'",
         "GeoFootprint": {
          "coordinates": [
           [
            [
             12.049022,
             46.469577
            ],
            [
             11.524545,
             46.531064
            ],
            [
             11.019128,
             46.588009
            ],
            [
             10.97311,
             46.383218
            ],
            [
             11.477674,
             46.330878
            ],
            [
             12.001315,
             46.274004
            ],
            [
             12.049022,
             46.469577
            ]
           ]
          ],
          "type": "Polygon"
         },
         "Id": "84958a41-7137-40d9-94fb-e119ee013f8c",
         "Lines": 0,
         "LinesPerBurst": 1525,
         "Name": "S1A-SLC-20241031T051925-202704-IW3-VV-039232",
         "OperationalMode": "IW",
         "OrbitDirection": "DESCENDING",
         "ParentProductId": "9dfda48b-d98b-481a-a816-8f660cc81dad",
         "ParentProductName": "S1A_IW_SLC__1SDV_20241031T051923_20241031T051950_056342_06E6CC_0A12.SAFE",
         "ParentProductType": "IW_SLC__1S",
         "PlatformSerialIdentifier": "A",
         "PolarisationChannels": "VV",
         "RelativeOrbitNumber": 95,
         "S3Path": "/eodata/Sentinel-1/SAR/IW_SLC__1S/2024/10/31/S1A_IW_SLC__1SDV_20241031T051923_20241031T051950_056342_06E6CC_0A12.SAFE/measurement/s1a-iw3-slc-vv-20241031t051924-20241031t051949-056342-06e6cc-006.tiff",
         "SamplesPerBurst": 25753,
         "SwathIdentifier": "IW3"
        },
        {
         "@odata.mediaContentType": "application/octet-stream",
         "AbsoluteBurstId": 121063931,
         "AzimuthAnxTime": 753.395392773,
         "AzimuthTime": "2024-11-01T17:07:34.532199Z",
         "BeginningDateTime": "2024-11-01T17:07:35.545585Z",
         "BurstId": 249433,
         "ByteOffset": 640810107,
         "ContentDate": {
          "End": "2024-11-01T17:07:38.735585Z",
          "Start": "2024-11-01T17:07:35.545585Z"
         },
         "ContentType": "application/octet-stream",
         "DatatakeID": 25536,
         "EndingDateTime": "2024-11-01T17:07:38.735585Z",
         "Footprint": "geography'SRID=4326;POLYGON ((10.804564 46.276581, 11.402422 46.34791, 11.967742 46.412202, 11.920848 46.604472, 11.354552 46.535976, 10.755691 46.460429, 10.804564 46.276581))'",
         "GeoFootprint": {
          "coordinates": [
           [
            [
             10.804564,
             46.276581
            ],
            [
             11.402422,
             46.34791
            ],
            [
             11.967742,
             46.412202
            ],
            [
             11.920848,
             46.604472
            ],
            [
             11.354552,
             46.535976
            ],
            [
             10.755691,
             46.460429
            ],
            [
             10.804564,
             46.276581
            ]
           ]
          ],
          "type": "Polygon"
         },
         "Id": "353d7a4f-cb8b-40b4-85a9-3e8bc717b3d4",
         "Lines": 6048,
         "LinesPerBurst": 1512,
         "Name": "S1A-SLC-20241101T170735-249433-IW2-VV-025536",
         "OperationalMode": "IW",
         "OrbitDirection": "ASCENDING",
         "ParentProductId": "20254802-eaaf-41fd-ba7a-0b1ba953d8e0",
         "ParentProductName": "S1A_IW_SLC__1SDV_20241101T170721_20241101T170748_056364_06E7B1_DB51.SAFE",
         "ParentProductType": "IW_SLC__1S",
         "PlatformSerialIdentifier": "A",
         "PolarisationChannels": "VV",
         "RelativeOrbitNumber": 117,
         "S3Path": "/eodata/Sentinel-1/SAR/IW_SLC__1S/2024/11/01/S1A_IW_SLC__1SDV_20241101T170721_20241101T170748_056364_06E7B1_DB51.SAFE/measurement/s1a-iw2-slc-vv-20241101t170723-20241101t170748-056364-06e7b1-005.tiff",
         "SamplesPerBurst": 26484,
         "SwathIdentifier": "IW2"
        },
        {
         "@odata.mediaContentType": "application/octet-stream",
         "AbsoluteBurstId": 121063932,
         "AzimuthAnxTime": 756.1539493276,
         "AzimuthTime": "2024-11-01T17:07:37.290755Z",
         "BeginningDateTime": "2024-11-01T17:07:38.303862Z",
         "BurstId": 249434,
         "ByteOffset": 800985339,
         "ContentDate": {
          "End": "2024-11-01T17:07:41.493862Z",
          "Start": "2024-11-01T17:07:38.303862Z"
         },
         "ContentType": "application/octet-stream",
         "DatatakeID": 25536,
         "EndingDateTime": "2024-11-01T17:07:41.493862Z",
         "Footprint": "geography'SRID=4326;POLYGON ((10.760624 46.441904, 11.360345 46.513254, 11.927424 46.577547, 11.880394 46.76981, 11.312324 46.701311, 10.711586 46.625741, 10.760624 46.441904))'",
         "GeoFootprint": {
          "coordinates": [
           [
            [
             10.760624,
             46.441904
            ],
            [
             11.360345,
             46.513254
            ],
            [
             11.927424,
             46.577547
            ],
            [
             11.880394,
             46.76981
            ],
            [
             11.312324,
             46.701311
            ],
            [
             10.711586,
             46.625741
            ],
            [
             10.760624,
             46.441904
            ]
           ]
          ],
          "type": "Polygon"
         },
         "Id": "318a86a5-59c3-4a63-a49b-e95d86d09351",
         "Lines": 7560,
         "LinesPerBurst": 1512,
         "Name": "S1A-SLC-20241101T170738-249434-IW2-VV-025536",
         "OperationalMode": "IW",
         "OrbitDirection": "ASCENDING",
         "ParentProductId": "20254802-eaaf-41fd-ba7a-0b1ba953d8e0",
         "ParentProductName": "S1A_IW_SLC__1SDV_20241101T170721_20241101T170748_056364_06E7B1_DB51.SAFE",
         "ParentProductType": "IW_SLC__1S",
         "PlatformSerialIdentifier": "A",
         "PolarisationChannels": "VV",
         "RelativeOrbitNumber": 117,
         "S3Path": "/eodata/Sentinel-1/SAR/IW_SLC__1S/2024/11/01/S1A_IW_SLC__1SDV_20241101T170721_20241101T170748_056364_06E7B1_DB51.SAFE/measurement/s1a-iw2-slc-vv-20241101t170723-20241101t170748-056364-06e7b1-005.tiff",
         "SamplesPerBurst": 26484,
         "SwathIdentifier": "IW2"
        },
        {
         "@odata.mediaContentType": "application/octet-stream",
         "AbsoluteBurstId": 121174000,
         "AzimuthAnxTime": 2199.6036111092,
         "AzimuthTime": "2024-11-05T05:27:33.489869Z",
         "BeginningDateTime": "2024-11-05T05:27:34.619462Z",
         "BurstId": 359502,
         "ByteOffset": 108891,
         "ContentDate": {
          "End": "2024-11-05T05:27:37.809462Z",
          "Start": "2024-11-05T05:27:34.619462Z"
         },
         "ContentType": "application/octet-stream",
         "DatatakeID": 27456,
         "EndingDateTime": "2024-11-05T05:27:37.809462Z",
         "Footprint": "geography'SRID=4326;POLYGON ((12.258601 46.421295, 11.684 46.499758, 11.150156 46.570046, 11.096085 46.366558, 11.629119 46.30082, 12.202845 46.226925, 12.258601 46.421295))'",
         "GeoFootprint": {
          "coordinates": [
           [
            [
             12.258601,
             46.421295
            ],
            [
             11.684,
             46.499758
            ],
            [
             11.150156,
             46.570046
            ],
            [
             11.096085,
             46.366558
            ],
            [
             11.629119,
             46.30082
            ],
            [
             12.202845,
             46.226925
            ],
            [
             12.258601,
             46.421295
            ]
           ]
          ],
          "type": "Polygon"
         },
         "Id": "3e879cf1-27b3-4f41-8d35-ac02dbfc4cd4",
         "Lines": 0,
         "LinesPerBurst": 1508,
         "Name": "S1A-SLC-20241105T052734-359502-IW1-VV-027456",
         "OperationalMode": "IW",
         "OrbitDirection": "DESCENDING",
         "ParentProductId": "5ba0be89-dac7-451d-9a00-968894da280d",
         "ParentProductName": "S1A_IW_SLC__1SDV_20241105T052731_20241105T052758_056415_06E9B5_45F8.SAFE",
         "ParentProductType": "IW_SLC__1S",
         "PlatformSerialIdentifier": "A",
         "PolarisationChannels": "VV",
         "RelativeOrbitNumber": 168,
         "S3Path": "/eodata/Sentinel-1/SAR/IW_SLC__1S/2024/11/05/S1A_IW_SLC__1SDV_20241105T052731_20241105T052758_056415_06E9B5_45F8.SAFE/measurement/s1a-iw1-slc-vv-20241105t052733-20241105t052758-056415-06e9b5-004.tiff",
         "SamplesPerBurst": 22990,
         "SwathIdentifier": "IW1"
        },
        {
         "@odata.mediaContentType": "application/octet-stream",
         "AbsoluteBurstId": 121173999,
         "AzimuthAnxTime": 2197.7906106672,
         "AzimuthTime": "2024-11-05T05:27:31.676869Z",
         "BeginningDateTime": "2024-11-05T05:27:32.693388Z",
         "BurstId": 359501,
         "ByteOffset": 109683,
         "ContentDate": {
          "End": "2024-11-05T05:27:35.883388Z",
          "Start": "2024-11-05T05:27:32.693388Z"
         },
         "ContentType": "application/octet-stream",
         "DatatakeID": 27456,
         "EndingDateTime": "2024-11-05T05:27:35.883388Z",
         "Footprint": "geography'SRID=4326;POLYGON ((11.210885 46.663981, 10.609883 46.739546, 10.041572 46.808037, 9.994503 46.61577, 10.56182 46.551482, 11.161802 46.480136, 11.210885 46.663981))'",
         "GeoFootprint": {
          "coordinates": [
           [
            [
             11.210885,
             46.663981
            ],
            [
             10.609883,
             46.739546
            ],
            [
             10.041572,
             46.808037
            ],
            [
             9.994503,
             46.61577
            ],
            [
             10.56182,
             46.551482
            ],
            [
             11.161802,
             46.480136
            ],
            [
             11.210885,
             46.663981
            ]
           ]
          ],
          "type": "Polygon"
         },
         "Id": "86fc7d45-8f33-46e0-9e78-9d9c121e0fc8",
         "Lines": 0,
         "LinesPerBurst": 1519,
         "Name": "S1A-SLC-20241105T052732-359501-IW2-VV-027456",
         "OperationalMode": "IW",
         "OrbitDirection": "DESCENDING",
         "ParentProductId": "5ba0be89-dac7-451d-9a00-968894da280d",
         "ParentProductName": "S1A_IW_SLC__1SDV_20241105T052731_20241105T052758_056415_06E9B5_45F8.SAFE",
         "ParentProductType": "IW_SLC__1S",
         "PlatformSerialIdentifier": "A",
         "PolarisationChannels": "VV",
         "RelativeOrbitNumber": 168,
         "S3Path": "/eodata/Sentinel-1/SAR/IW_SLC__1S/2024/11/05/S1A_IW_SLC__1SDV_20241105T052731_20241105T052758_056415_06E9B5_45F8.SAFE/measurement/s1a-iw2-slc-vv-20241105t052731-20241105t052756-056415-06e9b5-005.tiff",
         "SamplesPerBurst": 26745,
         "SwathIdentifier": "IW2"
        },
        {
         "@odata.mediaContentType": "application/octet-stream",
         "AbsoluteBurstId": 121173999,
         "AzimuthAnxTime": 2196.847110546,
         "AzimuthTime": "2024-11-05T05:27:30.733369Z",
         "BeginningDateTime": "2024-11-05T05:27:31.861186Z",
         "BurstId": 359501,
         "ByteOffset": 1109514331,
         "ContentDate": {
          "End": "2024-11-05T05:27:35.051186Z",
          "Start": "2024-11-05T05:27:31.861186Z"
         },
         "ContentType": "application/octet-stream",
         "DatatakeID": 27456,
         "EndingDateTime": "2024-11-05T05:27:35.051186Z",
         "Footprint": "geography'SRID=4326;POLYGON ((12.306189 46.586499, 11.729773 46.66502, 11.194249 46.735345, 11.139994 46.531867, 11.674696 46.466093, 12.250223 46.392142, 12.306189 46.586499))'",
         "GeoFootprint": {
          "coordinates": [
           [
            [
             12.306189,
             46.586499
            ],
            [
             11.729773,
             46.66502
            ],
            [
             11.194249,
             46.735345
            ],
            [
             11.139994,
             46.531867
            ],
            [
             11.674696,
             46.466093
            ],
            [
             12.250223,
             46.392142
            ],
            [
             12.306189,
             46.586499
            ]
           ]
          ],
          "type": "Polygon"
         },
         "Id": "422fa7d1-8e5a-481a-b164-8ce3fd273067",
         "Lines": 12064,
         "LinesPerBurst": 1508,
         "Name": "S1A-SLC-20241105T052731-359501-IW1-VV-027456",
         "OperationalMode": "IW",
         "OrbitDirection": "DESCENDING",
         "ParentProductId": "46a772dd-e60e-4af1-82be-76bbfc3dab4e",
         "ParentProductName": "S1A_IW_SLC__1SDV_20241105T052706_20241105T052733_056415_06E9B5_9866.SAFE",
         "ParentProductType": "IW_SLC__1S",
         "PlatformSerialIdentifier": "A",
         "PolarisationChannels": "VV",
         "RelativeOrbitNumber": 168,
         "S3Path": "/eodata/Sentinel-1/SAR/IW_SLC__1S/2024/11/05/S1A_IW_SLC__1SDV_20241105T052706_20241105T052733_056415_06E9B5_9866.SAFE/measurement/s1a-iw1-slc-vv-20241105t052708-20241105t052733-056415-06e9b5-004.tiff",
         "SamplesPerBurst": 22990,
         "SwathIdentifier": "IW1"
        },
        {
         "@odata.mediaContentType": "application/octet-stream",
         "AbsoluteBurstId": 121393089,
         "AzimuthAnxTime": 2200.7718289914,
         "AzimuthTime": "2024-11-12T05:19:20.741032Z",
         "BeginningDateTime": "2024-11-12T05:19:21.882091Z",
         "BurstId": 202703,
         "ByteOffset": 1256856515,
         "ContentDate": {
          "End": "2024-11-12T05:19:22.786697Z",
          "Start": "2024-11-12T05:19:21.882091Z"
         },
         "ContentType": "application/octet-stream",
         "DatatakeID": 35200,
         "EndingDateTime": "2024-11-12T05:19:22.786697Z",
         "Footprint": "geography'SRID=4326;POLYGON ((12.089482 46.634916, 11.563369 46.69639, 11.056374 46.753309, 11.010245 46.548522, 11.516373 46.496209, 12.041638 46.439349, 12.089482 46.634916))'",
         "GeoFootprint": {
          "coordinates": [
           [
            [
             12.089482,
             46.634916
            ],
            [
             11.563369,
             46.69639
            ],
            [
             11.056374,
             46.753309
            ],
            [
             11.010245,
             46.548522
            ],
            [
             11.516373,
             46.496209
            ],
            [
             12.041638,
             46.439349
            ],
            [
             12.089482,
             46.634916
            ]
           ]
          ],
          "type": "Polygon"
         },
         "Id": "1c56c395-e5a6-49cc-aff0-89759a06aab1",
         "Lines": 12200,
         "LinesPerBurst": 1525,
         "Name": "S1A-SLC-20241112T051921-202703-IW3-VV-035200",
         "OperationalMode": "IW",
         "OrbitDirection": "DESCENDING",
         "ParentProductId": "b4a95377-b0dc-43bd-87a2-c42e97b8b6db",
         "ParentProductName": "S1A_IW_SLC__1SDV_20241112T051857_20241112T051924_056517_06EDC4_FF12.SAFE",
         "ParentProductType": "IW_SLC__1S",
         "PlatformSerialIdentifier": "A",
         "PolarisationChannels": "VV",
         "RelativeOrbitNumber": 95,
         "S3Path": "/eodata/Sentinel-1/SAR/IW_SLC__1S/2024/11/12/S1A_IW_SLC__1SDV_20241112T051857_20241112T051924_056517_06EDC4_FF12.SAFE/measurement/s1a-iw3-slc-vv-20241112t051858-20241112t051923-056517-06edc4-006.tiff",
         "SamplesPerBurst": 25753,
         "SwathIdentifier": "IW3"
        },
        {
         "@odata.mediaContentType": "application/octet-stream",
         "AbsoluteBurstId": 121393090,
         "AzimuthAnxTime": 2203.5283299983,
         "AzimuthTime": "2024-11-12T05:19:23.497533Z",
         "BeginningDateTime": "2024-11-12T05:19:24.640367Z",
         "BurstId": 202704,
         "ByteOffset": 110115,
         "ContentDate": {
          "End": "2024-11-12T05:19:25.544973Z",
          "Start": "2024-11-12T05:19:24.640367Z"
         },
         "ContentType": "application/octet-stream",
         "DatatakeID": 35200,
         "EndingDateTime": "2024-11-12T05:19:25.544973Z",
         "Footprint": "geography'SRID=4326;POLYGON ((12.049022 46.469577, 11.524545 46.531064, 11.019128 46.588009, 10.97311 46.383218, 11.477674 46.330878, 12.001315 46.274004, 12.049022 46.469577))'",
         "GeoFootprint": {
          "coordinates": [
           [
            [
             12.049022,
             46.469577
            ],
            [
             11.524545,
             46.531064
            ],
            [
             11.019128,
             46.588009
            ],
            [
             10.97311,
             46.383218
            ],
            [
             11.477674,
             46.330878
            ],
            [
             12.001315,
             46.274004
            ],
            [
             12.049022,
             46.469577
            ]
           ]
          ],
          "type": "Polygon"
         },
         "Id": "c85fff2c-952f-47ad-bdc8-61f0955897d4",
         "Lines": 0,
         "LinesPerBurst": 1525,
         "Name": "S1A-SLC-20241112T051924-202704-IW3-VV-035200",
         "OperationalMode": "IW",
         "OrbitDirection": "DESCENDING",
         "ParentProductId": "66883b11-5216-4233-97da-c0f59f6c0524",
         "ParentProductName": "S1A_IW_SLC__1SDV_20241112T051922_20241112T051949_056517_06EDC4_8B18.SAFE",
         "ParentProductType": "IW_SLC__1S",
         "PlatformSerialIdentifier": "A",
         "PolarisationChannels": "VV",
         "RelativeOrbitNumber": 95,
         "S3Path": "/eodata/Sentinel-1/SAR/IW_SLC__1S/2024/11/12/S1A_IW_SLC__1SDV_20241112T051922_20241112T051949_056517_06EDC4_8B18.SAFE/measurement/s1a-iw3-slc-vv-20241112t051923-20241112t051948-056517-06edc4-006.tiff",
         "SamplesPerBurst": 25753,
         "SwathIdentifier": "IW3"
        },
        {
         "@odata.mediaContentType": "application/octet-stream",
         "AbsoluteBurstId": 121439819,
         "AzimuthAnxTime": 753.392911773,
         "AzimuthTime": "2024-11-13T17:07:33.994031Z",
         "BeginningDateTime": "2024-11-13T17:07:35.011527Z",
         "BurstId": 249433,
         "ByteOffset": 640810107,
         "ContentDate": {
          "End": "2024-11-13T17:07:36.053117Z",
          "Start": "2024-11-13T17:07:35.011527Z"
         },
         "ContentType": "application/octet-stream",
         "DatatakeID": 20544,
         "EndingDateTime": "2024-11-13T17:07:36.053117Z",
         "Footprint": "geography'SRID=4326;POLYGON ((10.804564 46.276581, 11.402422 46.34791, 11.967742 46.412202, 11.920848 46.604472, 11.354552 46.535976, 10.755691 46.460429, 10.804564 46.276581))'",
         "GeoFootprint": {
          "coordinates": [
           [
            [
             10.804564,
             46.276581
            ],
            [
             11.402422,
             46.34791
            ],
            [
             11.967742,
             46.412202
            ],
            [
             11.920848,
             46.604472
            ],
            [
             11.354552,
             46.535976
            ],
            [
             10.755691,
             46.460429
            ],
            [
             10.804564,
             46.276581
            ]
           ]
          ],
          "type": "Polygon"
         },
         "Id": "56171ad8-314d-41fe-bc27-2960bb2a8290",
         "Lines": 6048,
         "LinesPerBurst": 1512,
         "Name": "S1A-SLC-20241113T170735-249433-IW2-VV-020544",
         "OperationalMode": "IW",
         "OrbitDirection": "ASCENDING",
         "ParentProductId": "c4911f81-7201-466c-abe5-8c215af13e19",
         "ParentProductName": "S1A_IW_SLC__1SDV_20241113T170721_20241113T170748_056539_06EEA8_D74F.SAFE",
         "ParentProductType": "IW_SLC__1S",
         "PlatformSerialIdentifier": "A",
         "PolarisationChannels": "VV",
         "RelativeOrbitNumber": 117,
         "S3Path": "/eodata/Sentinel-1/SAR/IW_SLC__1S/2024/11/13/S1A_IW_SLC__1SDV_20241113T170721_20241113T170748_056539_06EEA8_D74F.SAFE/measurement/s1a-iw2-slc-vv-20241113t170722-20241113t170748-056539-06eea8-005.tiff",
         "SamplesPerBurst": 26484,
         "SwathIdentifier": "IW2"
        },
        {
         "@odata.mediaContentType": "application/octet-stream",
         "AbsoluteBurstId": 121439820,
         "AzimuthAnxTime": 756.1514683276,
         "AzimuthTime": "2024-11-13T17:07:36.752587Z",
         "BeginningDateTime": "2024-11-13T17:07:37.769804Z",
         "BurstId": 249434,
         "ByteOffset": 800985339,
         "ContentDate": {
          "End": "2024-11-13T17:07:38.811394Z",
          "Start": "2024-11-13T17:07:37.769804Z"
         },
         "ContentType": "application/octet-stream",
         "DatatakeID": 20544,
         "EndingDateTime": "2024-11-13T17:07:38.811394Z",
         "Footprint": "geography'SRID=4326;POLYGON ((10.760624 46.441904, 11.360345 46.513254, 11.927424 46.577547, 11.880394 46.76981, 11.312324 46.701311, 10.711586 46.625741, 10.760624 46.441904))'",
         "GeoFootprint": {
          "coordinates": [
           [
            [
             10.760624,
             46.441904
            ],
            [
             11.360345,
             46.513254
            ],
            [
             11.927424,
             46.577547
            ],
            [
             11.880394,
             46.76981
            ],
            [
             11.312324,
             46.701311
            ],
            [
             10.711586,
             46.625741
            ],
            [
             10.760624,
             46.441904
            ]
           ]
          ],
          "type": "Polygon"
         },
         "Id": "0f45b461-4208-4e5a-a27c-0f1084450c95",
         "Lines": 7560,
         "LinesPerBurst": 1512,
         "Name": "S1A-SLC-20241113T170737-249434-IW2-VV-020544",
         "OperationalMode": "IW",
         "OrbitDirection": "ASCENDING",
         "ParentProductId": "c4911f81-7201-466c-abe5-8c215af13e19",
         "ParentProductName": "S1A_IW_SLC__1SDV_20241113T170721_20241113T170748_056539_06EEA8_D74F.SAFE",
         "ParentProductType": "IW_SLC__1S",
         "PlatformSerialIdentifier": "A",
         "PolarisationChannels": "VV",
         "RelativeOrbitNumber": 117,
         "S3Path": "/eodata/Sentinel-1/SAR/IW_SLC__1S/2024/11/13/S1A_IW_SLC__1SDV_20241113T170721_20241113T170748_056539_06EEA8_D74F.SAFE/measurement/s1a-iw2-slc-vv-20241113t170722-20241113t170748-056539-06eea8-005.tiff",
         "SamplesPerBurst": 26484,
         "SwathIdentifier": "IW2"
        },
        {
         "@odata.mediaContentType": "application/octet-stream",
         "AbsoluteBurstId": 121549886,
         "AzimuthAnxTime": 2196.854465546,
         "AzimuthTime": "2024-11-17T05:27:30.494024Z",
         "BeginningDateTime": "2024-11-17T05:27:31.623911Z",
         "BurstId": 359501,
         "ByteOffset": 1109514331,
         "ContentDate": {
          "End": "2024-11-17T05:27:32.502121Z",
          "Start": "2024-11-17T05:27:31.623911Z"
         },
         "ContentType": "application/octet-stream",
         "DatatakeID": 25472,
         "EndingDateTime": "2024-11-17T05:27:32.502121Z",
         "Footprint": "geography'SRID=4326;POLYGON ((12.306189 46.586499, 11.729773 46.66502, 11.194249 46.735345, 11.139994 46.531867, 11.674696 46.466093, 12.250223 46.392142, 12.306189 46.586499))'",
         "GeoFootprint": {
          "coordinates": [
           [
            [
             12.306189,
             46.586499
            ],
            [
             11.729773,
             46.66502
            ],
            [
             11.194249,
             46.735345
            ],
            [
             11.139994,
             46.531867
            ],
            [
             11.674696,
             46.466093
            ],
            [
             12.250223,
             46.392142
            ],
            [
             12.306189,
             46.586499
            ]
           ]
          ],
          "type": "Polygon"
         },
         "Id": "b765a7cb-e046-4a4d-af83-8213e40f39fe",
         "Lines": 12064,
         "LinesPerBurst": 1508,
         "Name": "S1A-SLC-20241117T052731-359501-IW1-VV-025472",
         "OperationalMode": "IW",
         "OrbitDirection": "DESCENDING",
         "ParentProductId": "5690e6e1-fe22-4c1f-8d9c-718559649b24",
         "ParentProductName": "S1A_IW_SLC__1SDV_20241117T052706_20241117T052733_056590_06F0B1_7C65.SAFE",
         "ParentProductType": "IW_SLC__1S",
         "PlatformSerialIdentifier": "A",
         "PolarisationChannels": "VV",
         "RelativeOrbitNumber": 168,
         "S3Path": "/eodata/Sentinel-1/SAR/IW_SLC__1S/2024/11/17/S1A_IW_SLC__1SDV_20241117T052706_20241117T052733_056590_06F0B1_7C65.SAFE/measurement/s1a-iw1-slc-vv-20241117t052708-20241117t052733-056590-06f0b1-004.tiff",
         "SamplesPerBurst": 22990,
         "SwathIdentifier": "IW1"
        },
        {
         "@odata.mediaContentType": "application/octet-stream",
         "AbsoluteBurstId": 121549887,
         "AzimuthAnxTime": 2199.6130221092,
         "AzimuthTime": "2024-11-17T05:27:33.252580Z",
         "BeginningDateTime": "2024-11-17T05:27:34.382187Z",
         "BurstId": 359502,
         "ByteOffset": 108891,
         "ContentDate": {
          "End": "2024-11-17T05:27:35.260397Z",
          "Start": "2024-11-17T05:27:34.382187Z"
         },
         "ContentType": "application/octet-stream",
         "DatatakeID": 25472,
         "EndingDateTime": "2024-11-17T05:27:35.260397Z",
         "Footprint": "geography'SRID=4326;POLYGON ((12.258601 46.421295, 11.684 46.499758, 11.150156 46.570046, 11.096085 46.366558, 11.629119 46.30082, 12.202845 46.226925, 12.258601 46.421295))'",
         "GeoFootprint": {
          "coordinates": [
           [
            [
             12.258601,
             46.421295
            ],
            [
             11.684,
             46.499758
            ],
            [
             11.150156,
             46.570046
            ],
            [
             11.096085,
             46.366558
            ],
            [
             11.629119,
             46.30082
            ],
            [
             12.202845,
             46.226925
            ],
            [
             12.258601,
             46.421295
            ]
           ]
          ],
          "type": "Polygon"
         },
         "Id": "9c5fed68-56ce-4d5f-99ea-f4cb26b7fcef",
         "Lines": 0,
         "LinesPerBurst": 1508,
         "Name": "S1A-SLC-20241117T052734-359502-IW1-VV-025472",
         "OperationalMode": "IW",
         "OrbitDirection": "DESCENDING",
         "ParentProductId": "6c230d73-83b7-49b0-b1a8-a23567f2b33a",
         "ParentProductName": "S1A_IW_SLC__1SDV_20241117T052731_20241117T052758_056590_06F0B1_F9C8.SAFE",
         "ParentProductType": "IW_SLC__1S",
         "PlatformSerialIdentifier": "A",
         "PolarisationChannels": "VV",
         "RelativeOrbitNumber": 168,
         "S3Path": "/eodata/Sentinel-1/SAR/IW_SLC__1S/2024/11/17/S1A_IW_SLC__1SDV_20241117T052731_20241117T052758_056590_06F0B1_F9C8.SAFE/measurement/s1a-iw1-slc-vv-20241117t052733-20241117t052758-056590-06f0b1-004.tiff",
         "SamplesPerBurst": 22990,
         "SwathIdentifier": "IW1"
        },
        {
         "@odata.mediaContentType": "application/octet-stream",
         "AbsoluteBurstId": 121549887,
         "AzimuthAnxTime": 2197.7979661109,
         "AzimuthTime": "2024-11-17T05:27:31.437524Z",
         "BeginningDateTime": "2024-11-17T05:27:32.456113Z",
         "BurstId": 359501,
         "ByteOffset": 109683,
         "ContentDate": {
          "End": "2024-11-17T05:27:33.502525Z",
          "Start": "2024-11-17T05:27:32.456113Z"
         },
         "ContentType": "application/octet-stream",
         "DatatakeID": 25472,
         "EndingDateTime": "2024-11-17T05:27:33.502525Z",
         "Footprint": "geography'SRID=4326;POLYGON ((11.210885 46.663981, 10.609883 46.739546, 10.041572 46.808037, 9.994503 46.61577, 10.56182 46.551482, 11.161802 46.480136, 11.210885 46.663981))'",
         "GeoFootprint": {
          "coordinates": [
           [
            [
             11.210885,
             46.663981
            ],
            [
             10.609883,
             46.739546
            ],
            [
             10.041572,
             46.808037
            ],
            [
             9.994503,
             46.61577
            ],
            [
             10.56182,
             46.551482
            ],
            [
             11.161802,
             46.480136
            ],
            [
             11.210885,
             46.663981
            ]
           ]
          ],
          "type": "Polygon"
         },
         "Id": "a9463780-a465-4d0b-86ad-d845cac83d2b",
         "Lines": 0,
         "LinesPerBurst": 1519,
         "Name": "S1A-SLC-20241117T052732-359501-IW2-VV-025472",
         "OperationalMode": "IW",
         "OrbitDirection": "DESCENDING",
         "ParentProductId": "6c230d73-83b7-49b0-b1a8-a23567f2b33a",
         "ParentProductName": "S1A_IW_SLC__1SDV_20241117T052731_20241117T052758_056590_06F0B1_F9C8.SAFE",
         "ParentProductType": "IW_SLC__1S",
         "PlatformSerialIdentifier": "A",
         "PolarisationChannels": "VV",
         "RelativeOrbitNumber": 168,
         "S3Path": "/eodata/Sentinel-1/SAR/IW_SLC__1S/2024/11/17/S1A_IW_SLC__1SDV_20241117T052731_20241117T052758_056590_06F0B1_F9C8.SAFE/measurement/s1a-iw2-slc-vv-20241117t052731-20241117t052756-056590-06f0b1-005.tiff",
         "SamplesPerBurst": 26745,
         "SwathIdentifier": "IW2"
        },
        {
         "@odata.mediaContentType": "application/octet-stream",
         "AbsoluteBurstId": 121768977,
         "AzimuthAnxTime": 2200.7833704351,
         "AzimuthTime": "2024-11-24T05:19:20.039662Z",
         "BeginningDateTime": "2024-11-24T05:19:21.180721Z",
         "BurstId": 202703,
         "ByteOffset": 1256856515,
         "ContentDate": {
          "End": "2024-11-24T05:19:22.085327Z",
          "Start": "2024-11-24T05:19:21.180721Z"
         },
         "ContentType": "application/octet-stream",
         "DatatakeID": 34464,
         "EndingDateTime": "2024-11-24T05:19:22.085327Z",
         "Footprint": "geography'SRID=4326;POLYGON ((12.089482 46.634916, 11.563369 46.69639, 11.056374 46.753309, 11.010245 46.548522, 11.516373 46.496209, 12.041638 46.439349, 12.089482 46.634916))'",
         "GeoFootprint": {
          "coordinates": [
           [
            [
             12.089482,
             46.634916
            ],
            [
             11.563369,
             46.69639
            ],
            [
             11.056374,
             46.753309
            ],
            [
             11.010245,
             46.548522
            ],
            [
             11.516373,
             46.496209
            ],
            [
             12.041638,
             46.439349
            ],
            [
             12.089482,
             46.634916
            ]
           ]
          ],
          "type": "Polygon"
         },
         "Id": "93850ea6-3c6c-4866-a3a1-ed0ae01c66fa",
         "Lines": 12200,
         "LinesPerBurst": 1525,
         "Name": "S1A-SLC-20241124T051921-202703-IW3-VV-034464",
         "OperationalMode": "IW",
         "OrbitDirection": "DESCENDING",
         "ParentProductId": "5e343c48-bbe8-4a8e-8fa9-d67371257daa",
         "ParentProductName": "S1A_IW_SLC__1SDV_20241124T051857_20241124T051923_056692_06F4C3_F656.SAFE",
         "ParentProductType": "IW_SLC__1S",
         "PlatformSerialIdentifier": "A",
         "PolarisationChannels": "VV",
         "RelativeOrbitNumber": 95,
         "S3Path": "/eodata/Sentinel-1/SAR/IW_SLC__1S/2024/11/24/S1A_IW_SLC__1SDV_20241124T051857_20241124T051923_056692_06F4C3_F656.SAFE/measurement/s1a-iw3-slc-vv-20241124t051857-20241124t051923-056692-06f4c3-006.tiff",
         "SamplesPerBurst": 25753,
         "SwathIdentifier": "IW3"
        },
        {
         "@odata.mediaContentType": "application/octet-stream",
         "AbsoluteBurstId": 121768978,
         "AzimuthAnxTime": 2203.5419269983,
         "AzimuthTime": "2024-11-24T05:19:22.798219Z",
         "BeginningDateTime": "2024-11-24T05:19:23.938997Z",
         "BurstId": 202704,
         "ByteOffset": 110115,
         "ContentDate": {
          "End": "2024-11-24T05:19:24.843603Z",
          "Start": "2024-11-24T05:19:23.938997Z"
         },
         "ContentType": "application/octet-stream",
         "DatatakeID": 34464,
         "EndingDateTime": "2024-11-24T05:19:24.843603Z",
         "Footprint": "geography'SRID=4326;POLYGON ((12.049022 46.469577, 11.524545 46.531064, 11.019128 46.588009, 10.97311 46.383218, 11.477674 46.330878, 12.001315 46.274004, 12.049022 46.469577))'",
         "GeoFootprint": {
          "coordinates": [
           [
            [
             12.049022,
             46.469577
            ],
            [
             11.524545,
             46.531064
            ],
            [
             11.019128,
             46.588009
            ],
            [
             10.97311,
             46.383218
            ],
            [
             11.477674,
             46.330878
            ],
            [
             12.001315,
             46.274004
            ],
            [
             12.049022,
             46.469577
            ]
           ]
          ],
          "type": "Polygon"
         },
         "Id": "757fecef-30a0-4c1d-8a04-0c9cb39a8fb4",
         "Lines": 0,
         "LinesPerBurst": 1525,
         "Name": "S1A-SLC-20241124T051923-202704-IW3-VV-034464",
         "OperationalMode": "IW",
         "OrbitDirection": "DESCENDING",
         "ParentProductId": "8e833ef9-7eae-4fd1-bfb6-f9d933974210",
         "ParentProductName": "S1A_IW_SLC__1SDV_20241124T051921_20241124T051948_056692_06F4C3_1D87.SAFE",
         "ParentProductType": "IW_SLC__1S",
         "PlatformSerialIdentifier": "A",
         "PolarisationChannels": "VV",
         "RelativeOrbitNumber": 95,
         "S3Path": "/eodata/Sentinel-1/SAR/IW_SLC__1S/2024/11/24/S1A_IW_SLC__1SDV_20241124T051921_20241124T051948_056692_06F4C3_1D87.SAFE/measurement/s1a-iw3-slc-vv-20241124t051922-20241124t051947-056692-06f4c3-006.tiff",
         "SamplesPerBurst": 25753,
         "SwathIdentifier": "IW3"
        },
        {
         "@odata.mediaContentType": "application/octet-stream",
         "AbsoluteBurstId": 121815706,
         "AzimuthAnxTime": 753.3967382167,
         "AzimuthTime": "2024-11-25T17:07:33.253713Z",
         "BeginningDateTime": "2024-11-25T17:07:34.267112Z",
         "BurstId": 249433,
         "ByteOffset": 640810107,
         "ContentDate": {
          "End": "2024-11-25T17:07:35.308702Z",
          "Start": "2024-11-25T17:07:34.267112Z"
         },
         "ContentType": "application/octet-stream",
         "DatatakeID": 19744,
         "EndingDateTime": "2024-11-25T17:07:35.308702Z",
         "Footprint": "geography'SRID=4326;POLYGON ((10.804564 46.276581, 11.402422 46.34791, 11.967742 46.412202, 11.920848 46.604472, 11.354552 46.535976, 10.755691 46.460429, 10.804564 46.276581))'",
         "GeoFootprint": {
          "coordinates": [
           [
            [
             10.804564,
             46.276581
            ],
            [
             11.402422,
             46.34791
            ],
            [
             11.967742,
             46.412202
            ],
            [
             11.920848,
             46.604472
            ],
            [
             11.354552,
             46.535976
            ],
            [
             10.755691,
             46.460429
            ],
            [
             10.804564,
             46.276581
            ]
           ]
          ],
          "type": "Polygon"
         },
         "Id": "79991579-b759-4efc-ab51-cc8912cb5cac",
         "Lines": 6048,
         "LinesPerBurst": 1512,
         "Name": "S1A-SLC-20241125T170734-249433-IW2-VV-019744",
         "OperationalMode": "IW",
         "OrbitDirection": "ASCENDING",
         "ParentProductId": "05b3e04d-f533-4d63-a273-d694c14715e8",
         "ParentProductName": "S1A_IW_SLC__1SDV_20241125T170720_20241125T170747_056714_06F5A6_8E5C.SAFE",
         "ParentProductType": "IW_SLC__1S",
         "PlatformSerialIdentifier": "A",
         "PolarisationChannels": "VV",
         "RelativeOrbitNumber": 117,
         "S3Path": "/eodata/Sentinel-1/SAR/IW_SLC__1S/2024/11/25/S1A_IW_SLC__1SDV_20241125T170720_20241125T170747_056714_06F5A6_8E5C.SAFE/measurement/s1a-iw2-slc-vv-20241125t170722-20241125t170747-056714-06f5a6-005.tiff",
         "SamplesPerBurst": 26484,
         "SwathIdentifier": "IW2"
        },
        {
         "@odata.mediaContentType": "application/octet-stream",
         "AbsoluteBurstId": 121815707,
         "AzimuthAnxTime": 756.1552947713,
         "AzimuthTime": "2024-11-25T17:07:36.012270Z",
         "BeginningDateTime": "2024-11-25T17:07:37.025389Z",
         "BurstId": 249434,
         "ByteOffset": 800985339,
         "ContentDate": {
          "End": "2024-11-25T17:07:38.066979Z",
          "Start": "2024-11-25T17:07:37.025389Z"
         },
         "ContentType": "application/octet-stream",
         "DatatakeID": 19744,
         "EndingDateTime": "2024-11-25T17:07:38.066979Z",
         "Footprint": "geography'SRID=4326;POLYGON ((10.760624 46.441904, 11.360345 46.513254, 11.927424 46.577547, 11.880394 46.76981, 11.312324 46.701311, 10.711586 46.625741, 10.760624 46.441904))'",
         "GeoFootprint": {
          "coordinates": [
           [
            [
             10.760624,
             46.441904
            ],
            [
             11.360345,
             46.513254
            ],
            [
             11.927424,
             46.577547
            ],
            [
             11.880394,
             46.76981
            ],
            [
             11.312324,
             46.701311
            ],
            [
             10.711586,
             46.625741
            ],
            [
             10.760624,
             46.441904
            ]
           ]
          ],
          "type": "Polygon"
         },
         "Id": "b707573a-291c-42a1-914d-9dbf089d78d2",
         "Lines": 7560,
         "LinesPerBurst": 1512,
         "Name": "S1A-SLC-20241125T170737-249434-IW2-VV-019744",
         "OperationalMode": "IW",
         "OrbitDirection": "ASCENDING",
         "ParentProductId": "05b3e04d-f533-4d63-a273-d694c14715e8",
         "ParentProductName": "S1A_IW_SLC__1SDV_20241125T170720_20241125T170747_056714_06F5A6_8E5C.SAFE",
         "ParentProductType": "IW_SLC__1S",
         "PlatformSerialIdentifier": "A",
         "PolarisationChannels": "VV",
         "RelativeOrbitNumber": 117,
         "S3Path": "/eodata/Sentinel-1/SAR/IW_SLC__1S/2024/11/25/S1A_IW_SLC__1SDV_20241125T170720_20241125T170747_056714_06F5A6_8E5C.SAFE/measurement/s1a-iw2-slc-vv-20241125t170722-20241125t170747-056714-06f5a6-005.tiff",
         "SamplesPerBurst": 26484,
         "SwathIdentifier": "IW2"
        },
        {
         "@odata.mediaContentType": "application/octet-stream",
         "AbsoluteBurstId": 121925775,
         "AzimuthAnxTime": 2199.6297391092,
         "AzimuthTime": "2024-11-29T05:27:32.383552Z",
         "BeginningDateTime": "2024-11-29T05:27:33.509049Z",
         "BurstId": 359502,
         "ByteOffset": 108891,
         "ContentDate": {
          "End": "2024-11-29T05:27:34.387259Z",
          "Start": "2024-11-29T05:27:33.509049Z"
         },
         "ContentType": "application/octet-stream",
         "DatatakeID": 23200,
         "EndingDateTime": "2024-11-29T05:27:34.387259Z",
         "Footprint": "geography'SRID=4326;POLYGON ((12.258601 46.421295, 11.684 46.499758, 11.150156 46.570046, 11.096085 46.366558, 11.629119 46.30082, 12.202845 46.226925, 12.258601 46.421295))'",
         "GeoFootprint": {
          "coordinates": [
           [
            [
             12.258601,
             46.421295
            ],
            [
             11.684,
             46.499758
            ],
            [
             11.150156,
             46.570046
            ],
            [
             11.096085,
             46.366558
            ],
            [
             11.629119,
             46.30082
            ],
            [
             12.202845,
             46.226925
            ],
            [
             12.258601,
             46.421295
            ]
           ]
          ],
          "type": "Polygon"
         },
         "Id": "052bcc54-dc05-4f76-864b-6f34095d1b03",
         "Lines": 0,
         "LinesPerBurst": 1508,
         "Name": "S1A-SLC-20241129T052733-359502-IW1-VV-023200",
         "OperationalMode": "IW",
         "OrbitDirection": "DESCENDING",
         "ParentProductId": "bcc71367-042d-4f79-b4a9-59a0f1957ef6",
         "ParentProductName": "S1A_IW_SLC__1SDV_20241129T052730_20241129T052757_056765_06F7AD_7A2E.SAFE",
         "ParentProductType": "IW_SLC__1S",
         "PlatformSerialIdentifier": "A",
         "PolarisationChannels": "VV",
         "RelativeOrbitNumber": 168,
         "S3Path": "/eodata/Sentinel-1/SAR/IW_SLC__1S/2024/11/29/S1A_IW_SLC__1SDV_20241129T052730_20241129T052757_056765_06F7AD_7A2E.SAFE/measurement/s1a-iw1-slc-vv-20241129t052732-20241129t052757-056765-06f7ad-004.tiff",
         "SamplesPerBurst": 22990,
         "SwathIdentifier": "IW1"
        },
        {
         "@odata.mediaContentType": "application/octet-stream",
         "AbsoluteBurstId": 121925774,
         "AzimuthAnxTime": 2197.8146826672,
         "AzimuthTime": "2024-11-29T05:27:30.568496Z",
         "BeginningDateTime": "2024-11-29T05:27:31.582975Z",
         "BurstId": 359501,
         "ByteOffset": 109683,
         "ContentDate": {
          "End": "2024-11-29T05:27:32.629387Z",
          "Start": "2024-11-29T05:27:31.582975Z"
         },
         "ContentType": "application/octet-stream",
         "DatatakeID": 23200,
         "EndingDateTime": "2024-11-29T05:27:32.629387Z",
         "Footprint": "geography'SRID=4326;POLYGON ((11.210885 46.663981, 10.609883 46.739546, 10.041572 46.808037, 9.994503 46.61577, 10.56182 46.551482, 11.161802 46.480136, 11.210885 46.663981))'",
         "GeoFootprint": {
          "coordinates": [
           [
            [
             11.210885,
             46.663981
            ],
            [
             10.609883,
             46.739546
            ],
            [
             10.041572,
             46.808037
            ],
            [
             9.994503,
             46.61577
            ],
            [
             10.56182,
             46.551482
            ],
            [
             11.161802,
             46.480136
            ],
            [
             11.210885,
             46.663981
            ]
           ]
          ],
          "type": "Polygon"
         },
         "Id": "5ee04c11-956d-4d3f-b5f0-6955e97d455f",
         "Lines": 0,
         "LinesPerBurst": 1519,
         "Name": "S1A-SLC-20241129T052731-359501-IW2-VV-023200",
         "OperationalMode": "IW",
         "OrbitDirection": "DESCENDING",
         "ParentProductId": "bcc71367-042d-4f79-b4a9-59a0f1957ef6",
         "ParentProductName": "S1A_IW_SLC__1SDV_20241129T052730_20241129T052757_056765_06F7AD_7A2E.SAFE",
         "ParentProductType": "IW_SLC__1S",
         "PlatformSerialIdentifier": "A",
         "PolarisationChannels": "VV",
         "RelativeOrbitNumber": 168,
         "S3Path": "/eodata/Sentinel-1/SAR/IW_SLC__1S/2024/11/29/S1A_IW_SLC__1SDV_20241129T052730_20241129T052757_056765_06F7AD_7A2E.SAFE/measurement/s1a-iw2-slc-vv-20241129t052730-20241129t052755-056765-06f7ad-005.tiff",
         "SamplesPerBurst": 26745,
         "SwathIdentifier": "IW2"
        },
        {
         "@odata.mediaContentType": "application/octet-stream",
         "AbsoluteBurstId": 121925774,
         "AzimuthAnxTime": 2196.8711829897,
         "AzimuthTime": "2024-11-29T05:27:29.624996Z",
         "BeginningDateTime": "2024-11-29T05:27:30.750773Z",
         "BurstId": 359501,
         "ByteOffset": 1109514331,
         "ContentDate": {
          "End": "2024-11-29T05:27:31.628983Z",
          "Start": "2024-11-29T05:27:30.750773Z"
         },
         "ContentType": "application/octet-stream",
         "DatatakeID": 23200,
         "EndingDateTime": "2024-11-29T05:27:31.628983Z",
         "Footprint": "geography'SRID=4326;POLYGON ((12.306189 46.586499, 11.729773 46.66502, 11.194249 46.735345, 11.139994 46.531867, 11.674696 46.466093, 12.250223 46.392142, 12.306189 46.586499))'",
         "GeoFootprint": {
          "coordinates": [
           [
            [
             12.306189,
             46.586499
            ],
            [
             11.729773,
             46.66502
            ],
            [
             11.194249,
             46.735345
            ],
            [
             11.139994,
             46.531867
            ],
            [
             11.674696,
             46.466093
            ],
            [
             12.250223,
             46.392142
            ],
            [
             12.306189,
             46.586499
            ]
           ]
          ],
          "type": "Polygon"
         },
         "Id": "d01092f8-192e-42b6-b1ae-fded3207b619",
         "Lines": 12064,
         "LinesPerBurst": 1508,
         "Name": "S1A-SLC-20241129T052730-359501-IW1-VV-023200",
         "OperationalMode": "IW",
         "OrbitDirection": "DESCENDING",
         "ParentProductId": "9c169d34-d513-4a6d-93ad-885b685cad77",
         "ParentProductName": "S1A_IW_SLC__1SDV_20241129T052705_20241129T052732_056765_06F7AD_163B.SAFE",
         "ParentProductType": "IW_SLC__1S",
         "PlatformSerialIdentifier": "A",
         "PolarisationChannels": "VV",
         "RelativeOrbitNumber": 168,
         "S3Path": "/eodata/Sentinel-1/SAR/IW_SLC__1S/2024/11/29/S1A_IW_SLC__1SDV_20241129T052705_20241129T052732_056765_06F7AD_163B.SAFE/measurement/s1a-iw1-slc-vv-20241129t052707-20241129t052732-056765-06f7ad-004.tiff",
         "SamplesPerBurst": 22990,
         "SwathIdentifier": "IW1"
        },
        {
         "@odata.mediaContentType": "application/octet-stream",
         "AbsoluteBurstId": 122144864,
         "AzimuthAnxTime": 2200.7853515477,
         "AzimuthTime": "2024-12-06T05:19:19.038387Z",
         "BeginningDateTime": "2024-12-06T05:19:20.175334Z",
         "BurstId": 202703,
         "ByteOffset": 1256856515,
         "ContentDate": {
          "End": "2024-12-06T05:19:21.079940Z",
          "Start": "2024-12-06T05:19:20.175334Z"
         },
         "ContentType": "application/octet-stream",
         "DatatakeID": 457644,
         "EndingDateTime": "2024-12-06T05:19:21.079940Z",
         "Footprint": "geography'SRID=4326;POLYGON ((12.089482 46.634916, 11.563369 46.69639, 11.056374 46.753309, 11.010245 46.548522, 11.516373 46.496209, 12.041638 46.439349, 12.089482 46.634916))'",
         "GeoFootprint": {
          "coordinates": [
           [
            [
             12.089482,
             46.634916
            ],
            [
             11.563369,
             46.69639
            ],
            [
             11.056374,
             46.753309
            ],
            [
             11.010245,
             46.548522
            ],
            [
             11.516373,
             46.496209
            ],
            [
             12.041638,
             46.439349
            ],
            [
             12.089482,
             46.634916
            ]
           ]
          ],
          "type": "Polygon"
         },
         "Id": "c65f0199-c449-4f3f-a7f5-8c1404f3271e",
         "Lines": 12200,
         "LinesPerBurst": 1525,
         "Name": "S1A-SLC-20241206T051920-202703-IW3-VV-457644",
         "OperationalMode": "IW",
         "OrbitDirection": "DESCENDING",
         "ParentProductId": "ab43ce7b-83d7-43a3-8520-5e221516f917",
         "ParentProductName": "S1A_IW_SLC__1SDV_20241206T051856_20241206T051922_056867_06FBAC_5996.SAFE",
         "ParentProductType": "IW_SLC__1S",
         "PlatformSerialIdentifier": "A",
         "PolarisationChannels": "VV",
         "RelativeOrbitNumber": 95,
         "S3Path": "/eodata/Sentinel-1/SAR/IW_SLC__1S/2024/12/06/S1A_IW_SLC__1SDV_20241206T051856_20241206T051922_056867_06FBAC_5996.SAFE/measurement/s1a-iw3-slc-vv-20241206t051856-20241206t051922-056867-06fbac-006.tiff",
         "SamplesPerBurst": 25753,
         "SwathIdentifier": "IW3"
        },
        {
         "@odata.mediaContentType": "application/octet-stream",
         "AbsoluteBurstId": 122144865,
         "AzimuthAnxTime": 2203.5418519983,
         "AzimuthTime": "2024-12-06T05:19:21.794887Z",
         "BeginningDateTime": "2024-12-06T05:19:22.933610Z",
         "BurstId": 202704,
         "ByteOffset": 110115,
         "ContentDate": {
          "End": "2024-12-06T05:19:23.838216Z",
          "Start": "2024-12-06T05:19:22.933610Z"
         },
         "ContentType": "application/octet-stream",
         "DatatakeID": 457644,
         "EndingDateTime": "2024-12-06T05:19:23.838216Z",
         "Footprint": "geography'SRID=4326;POLYGON ((12.049022 46.469577, 11.524545 46.531064, 11.019128 46.588009, 10.97311 46.383218, 11.477674 46.330878, 12.001315 46.274004, 12.049022 46.469577))'",
         "GeoFootprint": {
          "coordinates": [
           [
            [
             12.049022,
             46.469577
            ],
            [
             11.524545,
             46.531064
            ],
            [
             11.019128,
             46.588009
            ],
            [
             10.97311,
             46.383218
            ],
            [
             11.477674,
             46.330878
            ],
            [
             12.001315,
             46.274004
            ],
            [
             12.049022,
             46.469577
            ]
           ]
          ],
          "type": "Polygon"
         },
         "Id": "07220ad6-f0e7-49d7-9cb7-126b3bbe96f7",
         "Lines": 0,
         "LinesPerBurst": 1525,
         "Name": "S1A-SLC-20241206T051922-202704-IW3-VV-457644",
         "OperationalMode": "IW",
         "OrbitDirection": "DESCENDING",
         "ParentProductId": "4f7346fe-0fb8-4aaf-9957-0c9606c39e08",
         "ParentProductName": "S1A_IW_SLC__1SDV_20241206T051920_20241206T051947_056867_06FBAC_BD99.SAFE",
         "ParentProductType": "IW_SLC__1S",
         "PlatformSerialIdentifier": "A",
         "PolarisationChannels": "VV",
         "RelativeOrbitNumber": 95,
         "S3Path": "/eodata/Sentinel-1/SAR/IW_SLC__1S/2024/12/06/S1A_IW_SLC__1SDV_20241206T051920_20241206T051947_056867_06FBAC_BD99.SAFE/measurement/s1a-iw3-slc-vv-20241206t051921-20241206t051946-056867-06fbac-006.tiff",
         "SamplesPerBurst": 25753,
         "SwathIdentifier": "IW3"
        },
        {
         "@odata.mediaContentType": "application/octet-stream",
         "AbsoluteBurstId": 122191594,
         "AzimuthAnxTime": 753.4068013292999,
         "AzimuthTime": "2024-12-07T17:07:32.267337Z",
         "BeginningDateTime": "2024-12-07T17:07:33.272514Z",
         "BurstId": 249433,
         "ByteOffset": 640810107,
         "ContentDate": {
          "End": "2024-12-07T17:07:34.314104Z",
          "Start": "2024-12-07T17:07:33.272514Z"
         },
         "ContentType": "application/octet-stream",
         "DatatakeID": 457860,
         "EndingDateTime": "2024-12-07T17:07:34.314104Z",
         "Footprint": "geography'SRID=4326;POLYGON ((10.804564 46.276581, 11.402422 46.34791, 11.967742 46.412202, 11.920848 46.604472, 11.354552 46.535976, 10.755691 46.460429, 10.804564 46.276581))'",
         "GeoFootprint": {
          "coordinates": [
           [
            [
             10.804564,
             46.276581
            ],
            [
             11.402422,
             46.34791
            ],
            [
             11.967742,
             46.412202
            ],
            [
             11.920848,
             46.604472
            ],
            [
             11.354552,
             46.535976
            ],
            [
             10.755691,
             46.460429
            ],
            [
             10.804564,
             46.276581
            ]
           ]
          ],
          "type": "Polygon"
         },
         "Id": "ec923b1d-ba43-4fde-839b-229cfb0b31c6",
         "Lines": 6048,
         "LinesPerBurst": 1512,
         "Name": "S1A-SLC-20241207T170733-249433-IW2-VV-457860",
         "OperationalMode": "IW",
         "OrbitDirection": "ASCENDING",
         "ParentProductId": "78d0c354-dff1-4749-a147-0177dca0e45a",
         "ParentProductName": "S1A_IW_SLC__1SDV_20241207T170719_20241207T170746_056889_06FC84_9C13.SAFE",
         "ParentProductType": "IW_SLC__1S",
         "PlatformSerialIdentifier": "A",
         "PolarisationChannels": "VV",
         "RelativeOrbitNumber": 117,
         "S3Path": "/eodata/Sentinel-1/SAR/IW_SLC__1S/2024/12/07/S1A_IW_SLC__1SDV_20241207T170719_20241207T170746_056889_06FC84_9C13.SAFE/measurement/s1a-iw2-slc-vv-20241207t170721-20241207t170746-056889-06fc84-005.tiff",
         "SamplesPerBurst": 26484,
         "SwathIdentifier": "IW2"
        },
        {
         "@odata.mediaContentType": "application/octet-stream",
         "AbsoluteBurstId": 122191595,
         "AzimuthAnxTime": 756.1653578838999,
         "AzimuthTime": "2024-12-07T17:07:35.025894Z",
         "BeginningDateTime": "2024-12-07T17:07:36.030791Z",
         "BurstId": 249434,
         "ByteOffset": 800985339,
         "ContentDate": {
          "End": "2024-12-07T17:07:37.072381Z",
          "Start": "2024-12-07T17:07:36.030791Z"
         },
         "ContentType": "application/octet-stream",
         "DatatakeID": 457860,
         "EndingDateTime": "2024-12-07T17:07:37.072381Z",
         "Footprint": "geography'SRID=4326;POLYGON ((10.760624 46.441904, 11.360345 46.513254, 11.927424 46.577547, 11.880394 46.76981, 11.312324 46.701311, 10.711586 46.625741, 10.760624 46.441904))'",
         "GeoFootprint": {
          "coordinates": [
           [
            [
             10.760624,
             46.441904
            ],
            [
             11.360345,
             46.513254
            ],
            [
             11.927424,
             46.577547
            ],
            [
             11.880394,
             46.76981
            ],
            [
             11.312324,
             46.701311
            ],
            [
             10.711586,
             46.625741
            ],
            [
             10.760624,
             46.441904
            ]
           ]
          ],
          "type": "Polygon"
         },
         "Id": "0016b90c-ed87-4285-b547-136af5031d00",
         "Lines": 7560,
         "LinesPerBurst": 1512,
         "Name": "S1A-SLC-20241207T170736-249434-IW2-VV-457860",
         "OperationalMode": "IW",
         "OrbitDirection": "ASCENDING",
         "ParentProductId": "78d0c354-dff1-4749-a147-0177dca0e45a",
         "ParentProductName": "S1A_IW_SLC__1SDV_20241207T170719_20241207T170746_056889_06FC84_9C13.SAFE",
         "ParentProductType": "IW_SLC__1S",
         "PlatformSerialIdentifier": "A",
         "PolarisationChannels": "VV",
         "RelativeOrbitNumber": 117,
         "S3Path": "/eodata/Sentinel-1/SAR/IW_SLC__1S/2024/12/07/S1A_IW_SLC__1SDV_20241207T170719_20241207T170746_056889_06FC84_9C13.SAFE/measurement/s1a-iw2-slc-vv-20241207t170721-20241207t170746-056889-06fc84-005.tiff",
         "SamplesPerBurst": 26484,
         "SwathIdentifier": "IW2"
        },
        {
         "@odata.mediaContentType": "application/octet-stream",
         "AbsoluteBurstId": 122301661,
         "AzimuthAnxTime": 2196.8733209897,
         "AzimuthTime": "2024-12-11T05:27:28.649917Z",
         "BeginningDateTime": "2024-12-11T05:27:29.777751Z",
         "BurstId": 359501,
         "ByteOffset": 1109514331,
         "ContentDate": {
          "End": "2024-12-11T05:27:30.655961Z",
          "Start": "2024-12-11T05:27:29.777751Z"
         },
         "ContentType": "application/octet-stream",
         "DatatakeID": 458373,
         "EndingDateTime": "2024-12-11T05:27:30.655961Z",
         "Footprint": "geography'SRID=4326;POLYGON ((12.306189 46.586499, 11.729773 46.66502, 11.194249 46.735345, 11.139994 46.531867, 11.674696 46.466093, 12.250223 46.392142, 12.306189 46.586499))'",
         "GeoFootprint": {
          "coordinates": [
           [
            [
             12.306189,
             46.586499
            ],
            [
             11.729773,
             46.66502
            ],
            [
             11.194249,
             46.735345
            ],
            [
             11.139994,
             46.531867
            ],
            [
             11.674696,
             46.466093
            ],
            [
             12.250223,
             46.392142
            ],
            [
             12.306189,
             46.586499
            ]
           ]
          ],
          "type": "Polygon"
         },
         "Id": "60ece94b-d5f7-4600-85f0-c15810d114b6",
         "Lines": 12064,
         "LinesPerBurst": 1508,
         "Name": "S1A-SLC-20241211T052729-359501-IW1-VV-458373",
         "OperationalMode": "IW",
         "OrbitDirection": "DESCENDING",
         "ParentProductId": "afc3389e-b4cf-499f-b29f-96b433f502c3",
         "ParentProductName": "S1A_IW_SLC__1SDV_20241211T052704_20241211T052731_056940_06FE85_F992.SAFE",
         "ParentProductType": "IW_SLC__1S",
         "PlatformSerialIdentifier": "A",
         "PolarisationChannels": "VV",
         "RelativeOrbitNumber": 168,
         "S3Path": "/eodata/Sentinel-1/SAR/IW_SLC__1S/2024/12/11/S1A_IW_SLC__1SDV_20241211T052704_20241211T052731_056940_06FE85_F992.SAFE/measurement/s1a-iw1-slc-vv-20241211t052706-20241211t052731-056940-06fe85-004.tiff",
         "SamplesPerBurst": 22990,
         "SwathIdentifier": "IW1"
        },
        {
         "@odata.mediaContentType": "application/octet-stream",
         "AbsoluteBurstId": 122301662,
         "AzimuthAnxTime": 2199.6318781092,
         "AzimuthTime": "2024-12-11T05:27:31.408474Z",
         "BeginningDateTime": "2024-12-11T05:27:32.536027Z",
         "BurstId": 359502,
         "ByteOffset": 108891,
         "ContentDate": {
          "End": "2024-12-11T05:27:33.414237Z",
          "Start": "2024-12-11T05:27:32.536027Z"
         },
         "ContentType": "application/octet-stream",
         "DatatakeID": 458373,
         "EndingDateTime": "2024-12-11T05:27:33.414237Z",
         "Footprint": "geography'SRID=4326;POLYGON ((12.258601 46.421295, 11.684 46.499758, 11.150156 46.570046, 11.096085 46.366558, 11.629119 46.30082, 12.202845 46.226925, 12.258601 46.421295))'",
         "GeoFootprint": {
          "coordinates": [
           [
            [
             12.258601,
             46.421295
            ],
            [
             11.684,
             46.499758
            ],
            [
             11.150156,
             46.570046
            ],
            [
             11.096085,
             46.366558
            ],
            [
             11.629119,
             46.30082
            ],
            [
             12.202845,
             46.226925
            ],
            [
             12.258601,
             46.421295
            ]
           ]
          ],
          "type": "Polygon"
         },
         "Id": "3ce4e3f6-9618-4e20-be5d-6ef39c1977d5",
         "Lines": 0,
         "LinesPerBurst": 1508,
         "Name": "S1A-SLC-20241211T052732-359502-IW1-VV-458373",
         "OperationalMode": "IW",
         "OrbitDirection": "DESCENDING",
         "ParentProductId": "bdc6b0ff-905d-4ed2-a956-595d6f56d2d9",
         "ParentProductName": "S1A_IW_SLC__1SDV_20241211T052729_20241211T052756_056940_06FE85_F2C2.SAFE",
         "ParentProductType": "IW_SLC__1S",
         "PlatformSerialIdentifier": "A",
         "PolarisationChannels": "VV",
         "RelativeOrbitNumber": 168,
         "S3Path": "/eodata/Sentinel-1/SAR/IW_SLC__1S/2024/12/11/S1A_IW_SLC__1SDV_20241211T052729_20241211T052756_056940_06FE85_F2C2.SAFE/measurement/s1a-iw1-slc-vv-20241211t052731-20241211t052756-056940-06fe85-004.tiff",
         "SamplesPerBurst": 22990,
         "SwathIdentifier": "IW1"
        },
        {
         "@odata.mediaContentType": "application/octet-stream",
         "AbsoluteBurstId": 122301662,
         "AzimuthAnxTime": 2197.8168211109,
         "AzimuthTime": "2024-12-11T05:27:29.593417Z",
         "BeginningDateTime": "2024-12-11T05:27:30.609953Z",
         "BurstId": 359501,
         "ByteOffset": 109683,
         "ContentDate": {
          "End": "2024-12-11T05:27:31.656365Z",
          "Start": "2024-12-11T05:27:30.609953Z"
         },
         "ContentType": "application/octet-stream",
         "DatatakeID": 458373,
         "EndingDateTime": "2024-12-11T05:27:31.656365Z",
         "Footprint": "geography'SRID=4326;POLYGON ((11.210885 46.663981, 10.609883 46.739546, 10.041572 46.808037, 9.994503 46.61577, 10.56182 46.551482, 11.161802 46.480136, 11.210885 46.663981))'",
         "GeoFootprint": {
          "coordinates": [
           [
            [
             11.210885,
             46.663981
            ],
            [
             10.609883,
             46.739546
            ],
            [
             10.041572,
             46.808037
            ],
            [
             9.994503,
             46.61577
            ],
            [
             10.56182,
             46.551482
            ],
            [
             11.161802,
             46.480136
            ],
            [
             11.210885,
             46.663981
            ]
           ]
          ],
          "type": "Polygon"
         },
         "Id": "366574f9-ecbe-43aa-9281-d6dd78b0c73f",
         "Lines": 0,
         "LinesPerBurst": 1519,
         "Name": "S1A-SLC-20241211T052730-359501-IW2-VV-458373",
         "OperationalMode": "IW",
         "OrbitDirection": "DESCENDING",
         "ParentProductId": "bdc6b0ff-905d-4ed2-a956-595d6f56d2d9",
         "ParentProductName": "S1A_IW_SLC__1SDV_20241211T052729_20241211T052756_056940_06FE85_F2C2.SAFE",
         "ParentProductType": "IW_SLC__1S",
         "PlatformSerialIdentifier": "A",
         "PolarisationChannels": "VV",
         "RelativeOrbitNumber": 168,
         "S3Path": "/eodata/Sentinel-1/SAR/IW_SLC__1S/2024/12/11/S1A_IW_SLC__1SDV_20241211T052729_20241211T052756_056940_06FE85_F2C2.SAFE/measurement/s1a-iw2-slc-vv-20241211t052729-20241211t052754-056940-06fe85-005.tiff",
         "SamplesPerBurst": 26745,
         "SwathIdentifier": "IW2"
        },
        {
         "@odata.mediaContentType": "application/octet-stream",
         "AbsoluteBurstId": 122520751,
         "AzimuthAnxTime": 2200.7965835477,
         "AzimuthTime": "2024-12-18T05:19:17.715084Z",
         "BeginningDateTime": "2024-12-18T05:19:18.852046Z",
         "BurstId": 202703,
         "ByteOffset": 1256856515,
         "ContentDate": {
          "End": "2024-12-18T05:19:19.756652Z",
          "Start": "2024-12-18T05:19:18.852046Z"
         },
         "ContentType": "application/octet-stream",
         "DatatakeID": 459422,
         "EndingDateTime": "2024-12-18T05:19:19.756652Z",
         "Footprint": "geography'SRID=4326;POLYGON ((12.089482 46.634916, 11.563369 46.69639, 11.056374 46.753309, 11.010245 46.548522, 11.516373 46.496209, 12.041638 46.439349, 12.089482 46.634916))'",
         "GeoFootprint": {
          "coordinates": [
           [
            [
             12.089482,
             46.634916
            ],
            [
             11.563369,
             46.69639
            ],
            [
             11.056374,
             46.753309
            ],
            [
             11.010245,
             46.548522
            ],
            [
             11.516373,
             46.496209
            ],
            [
             12.041638,
             46.439349
            ],
            [
             12.089482,
             46.634916
            ]
           ]
          ],
          "type": "Polygon"
         },
         "Id": "b1f9e84d-8fbd-4cec-994e-8cc161e2dbac",
         "Lines": 12200,
         "LinesPerBurst": 1525,
         "Name": "S1A-SLC-20241218T051918-202703-IW3-VV-459422",
         "OperationalMode": "IW",
         "OrbitDirection": "DESCENDING",
         "ParentProductId": "ee96f87b-c3aa-4525-9a92-987ea9ea52e5",
         "ParentProductName": "S1A_IW_SLC__1SDV_20241218T051854_20241218T051921_057042_07029E_A70C.SAFE",
         "ParentProductType": "IW_SLC__1S",
         "PlatformSerialIdentifier": "A",
         "PolarisationChannels": "VV",
         "RelativeOrbitNumber": 95,
         "S3Path": "/eodata/Sentinel-1/SAR/IW_SLC__1S/2024/12/18/S1A_IW_SLC__1SDV_20241218T051854_20241218T051921_057042_07029E_A70C.SAFE/measurement/s1a-iw3-slc-vv-20241218t051855-20241218t051920-057042-07029e-006.tiff",
         "SamplesPerBurst": 25753,
         "SwathIdentifier": "IW3"
        },
        {
         "@odata.mediaContentType": "application/octet-stream",
         "AbsoluteBurstId": 122520752,
         "AzimuthAnxTime": 2203.5530839983,
         "AzimuthTime": "2024-12-18T05:19:20.471584Z",
         "BeginningDateTime": "2024-12-18T05:19:21.610322Z",
         "BurstId": 202704,
         "ByteOffset": 110115,
         "ContentDate": {
          "End": "2024-12-18T05:19:22.514928Z",
          "Start": "2024-12-18T05:19:21.610322Z"
         },
         "ContentType": "application/octet-stream",
         "DatatakeID": 459422,
         "EndingDateTime": "2024-12-18T05:19:22.514928Z",
         "Footprint": "geography'SRID=4326;POLYGON ((12.049022 46.469577, 11.524545 46.531064, 11.019128 46.588009, 10.97311 46.383218, 11.477674 46.330878, 12.001315 46.274004, 12.049022 46.469577))'",
         "GeoFootprint": {
          "coordinates": [
           [
            [
             12.049022,
             46.469577
            ],
            [
             11.524545,
             46.531064
            ],
            [
             11.019128,
             46.588009
            ],
            [
             10.97311,
             46.383218
            ],
            [
             11.477674,
             46.330878
            ],
            [
             12.001315,
             46.274004
            ],
            [
             12.049022,
             46.469577
            ]
           ]
          ],
          "type": "Polygon"
         },
         "Id": "1f58b03e-1292-476a-8f31-8e539a532040",
         "Lines": 0,
         "LinesPerBurst": 1525,
         "Name": "S1A-SLC-20241218T051921-202704-IW3-VV-459422",
         "OperationalMode": "IW",
         "OrbitDirection": "DESCENDING",
         "ParentProductId": "6a4144e2-5faa-4b86-b21a-7207629d5b90",
         "ParentProductName": "S1A_IW_SLC__1SDV_20241218T051919_20241218T051946_057042_07029E_8F59.SAFE",
         "ParentProductType": "IW_SLC__1S",
         "PlatformSerialIdentifier": "A",
         "PolarisationChannels": "VV",
         "RelativeOrbitNumber": 95,
         "S3Path": "/eodata/Sentinel-1/SAR/IW_SLC__1S/2024/12/18/S1A_IW_SLC__1SDV_20241218T051919_20241218T051946_057042_07029E_8F59.SAFE/measurement/s1a-iw3-slc-vv-20241218t051920-20241218t051945-057042-07029e-006.tiff",
         "SamplesPerBurst": 25753,
         "SwathIdentifier": "IW3"
        },
        {
         "@odata.mediaContentType": "application/octet-stream",
         "AbsoluteBurstId": 122567481,
         "AzimuthAnxTime": 753.403034773,
         "AzimuthTime": "2024-12-19T17:07:31.027922Z",
         "BeginningDateTime": "2024-12-19T17:07:32.037208Z",
         "BurstId": 249433,
         "ByteOffset": 640810107,
         "ContentDate": {
          "End": "2024-12-19T17:07:33.078798Z",
          "Start": "2024-12-19T17:07:32.037208Z"
         },
         "ContentType": "application/octet-stream",
         "DatatakeID": 459655,
         "EndingDateTime": "2024-12-19T17:07:33.078798Z",
         "Footprint": "geography'SRID=4326;POLYGON ((10.804564 46.276581, 11.402422 46.34791, 11.967742 46.412202, 11.920848 46.604472, 11.354552 46.535976, 10.755691 46.460429, 10.804564 46.276581))'",
         "GeoFootprint": {
          "coordinates": [
           [
            [
             10.804564,
             46.276581
            ],
            [
             11.402422,
             46.34791
            ],
            [
             11.967742,
             46.412202
            ],
            [
             11.920848,
             46.604472
            ],
            [
             11.354552,
             46.535976
            ],
            [
             10.755691,
             46.460429
            ],
            [
             10.804564,
             46.276581
            ]
           ]
          ],
          "type": "Polygon"
         },
         "Id": "2cee03c1-58f2-4b36-877a-e0b8b1636a11",
         "Lines": 6048,
         "LinesPerBurst": 1512,
         "Name": "S1A-SLC-20241219T170732-249433-IW2-VV-459655",
         "OperationalMode": "IW",
         "OrbitDirection": "ASCENDING",
         "ParentProductId": "91b7050b-ebba-4f8b-8517-be5511557c66",
         "ParentProductName": "S1A_IW_SLC__1SDV_20241219T170718_20241219T170745_057064_070387_3CFE.SAFE",
         "ParentProductType": "IW_SLC__1S",
         "PlatformSerialIdentifier": "A",
         "PolarisationChannels": "VV",
         "RelativeOrbitNumber": 117,
         "S3Path": "/eodata/Sentinel-1/SAR/IW_SLC__1S/2024/12/19/S1A_IW_SLC__1SDV_20241219T170718_20241219T170745_057064_070387_3CFE.SAFE/measurement/s1a-iw2-slc-vv-20241219t170719-20241219t170745-057064-070387-005.tiff",
         "SamplesPerBurst": 26484,
         "SwathIdentifier": "IW2"
        },
        {
         "@odata.mediaContentType": "application/octet-stream",
         "AbsoluteBurstId": 122567482,
         "AzimuthAnxTime": 756.1615913275999,
         "AzimuthTime": "2024-12-19T17:07:33.786478Z",
         "BeginningDateTime": "2024-12-19T17:07:34.795485Z",
         "BurstId": 249434,
         "ByteOffset": 800985339,
         "ContentDate": {
          "End": "2024-12-19T17:07:35.837075Z",
          "Start": "2024-12-19T17:07:34.795485Z"
         },
         "ContentType": "application/octet-stream",
         "DatatakeID": 459655,
         "EndingDateTime": "2024-12-19T17:07:35.837075Z",
         "Footprint": "geography'SRID=4326;POLYGON ((10.760624 46.441904, 11.360345 46.513254, 11.927424 46.577547, 11.880394 46.76981, 11.312324 46.701311, 10.711586 46.625741, 10.760624 46.441904))'",
         "GeoFootprint": {
          "coordinates": [
           [
            [
             10.760624,
             46.441904
            ],
            [
             11.360345,
             46.513254
            ],
            [
             11.927424,
             46.577547
            ],
            [
             11.880394,
             46.76981
            ],
            [
             11.312324,
             46.701311
            ],
            [
             10.711586,
             46.625741
            ],
            [
             10.760624,
             46.441904
            ]
           ]
          ],
          "type": "Polygon"
         },
         "Id": "0fafd3f2-8e1c-48c4-a890-923ea12ffbd3",
         "Lines": 7560,
         "LinesPerBurst": 1512,
         "Name": "S1A-SLC-20241219T170734-249434-IW2-VV-459655",
         "OperationalMode": "IW",
         "OrbitDirection": "ASCENDING",
         "ParentProductId": "91b7050b-ebba-4f8b-8517-be5511557c66",
         "ParentProductName": "S1A_IW_SLC__1SDV_20241219T170718_20241219T170745_057064_070387_3CFE.SAFE",
         "ParentProductType": "IW_SLC__1S",
         "PlatformSerialIdentifier": "A",
         "PolarisationChannels": "VV",
         "RelativeOrbitNumber": 117,
         "S3Path": "/eodata/Sentinel-1/SAR/IW_SLC__1S/2024/12/19/S1A_IW_SLC__1SDV_20241219T170718_20241219T170745_057064_070387_3CFE.SAFE/measurement/s1a-iw2-slc-vv-20241219t170719-20241219t170745-057064-070387-005.tiff",
         "SamplesPerBurst": 26484,
         "SwathIdentifier": "IW2"
        },
        {
         "@odata.mediaContentType": "application/octet-stream",
         "AbsoluteBurstId": 122677549,
         "AzimuthAnxTime": 2196.8744934334,
         "AzimuthTime": "2024-12-23T05:27:27.442485Z",
         "BeginningDateTime": "2024-12-23T05:27:28.568263Z",
         "BurstId": 359501,
         "ByteOffset": 1109514331,
         "ContentDate": {
          "End": "2024-12-23T05:27:29.446473Z",
          "Start": "2024-12-23T05:27:28.568263Z"
         },
         "ContentType": "application/octet-stream",
         "DatatakeID": 460176,
         "EndingDateTime": "2024-12-23T05:27:29.446473Z",
         "Footprint": "geography'SRID=4326;POLYGON ((12.306189 46.586499, 11.729773 46.66502, 11.194249 46.735345, 11.139994 46.531867, 11.674696 46.466093, 12.250223 46.392142, 12.306189 46.586499))'",
         "GeoFootprint": {
          "coordinates": [
           [
            [
             12.306189,
             46.586499
            ],
            [
             11.729773,
             46.66502
            ],
            [
             11.194249,
             46.735345
            ],
            [
             11.139994,
             46.531867
            ],
            [
             11.674696,
             46.466093
            ],
            [
             12.250223,
             46.392142
            ],
            [
             12.306189,
             46.586499
            ]
           ]
          ],
          "type": "Polygon"
         },
         "Id": "50bfd7af-4934-4ade-8fe4-e7e211ca0184",
         "Lines": 12064,
         "LinesPerBurst": 1508,
         "Name": "S1A-SLC-20241223T052728-359501-IW1-VV-460176",
         "OperationalMode": "IW",
         "OrbitDirection": "DESCENDING",
         "ParentProductId": "09931144-fffb-4f7a-be88-9fa29b521bba",
         "ParentProductName": "S1A_IW_SLC__1SDV_20241223T052703_20241223T052730_057115_070590_A05E.SAFE",
         "ParentProductType": "IW_SLC__1S",
         "PlatformSerialIdentifier": "A",
         "PolarisationChannels": "VV",
         "RelativeOrbitNumber": 168,
         "S3Path": "/eodata/Sentinel-1/SAR/IW_SLC__1S/2024/12/23/S1A_IW_SLC__1SDV_20241223T052703_20241223T052730_057115_070590_A05E.SAFE/measurement/s1a-iw1-slc-vv-20241223t052705-20241223t052730-057115-070590-004.tiff",
         "SamplesPerBurst": 22990,
         "SwathIdentifier": "IW1"
        },
        {
         "@odata.mediaContentType": "application/octet-stream",
         "AbsoluteBurstId": 122677550,
         "AzimuthAnxTime": 2199.6309945529,
         "AzimuthTime": "2024-12-23T05:27:30.198987Z",
         "BeginningDateTime": "2024-12-23T05:27:31.326539Z",
         "BurstId": 359502,
         "ByteOffset": 108891,
         "ContentDate": {
          "End": "2024-12-23T05:27:32.204749Z",
          "Start": "2024-12-23T05:27:31.326539Z"
         },
         "ContentType": "application/octet-stream",
         "DatatakeID": 460176,
         "EndingDateTime": "2024-12-23T05:27:32.204749Z",
         "Footprint": "geography'SRID=4326;POLYGON ((12.258601 46.421295, 11.684 46.499758, 11.150156 46.570046, 11.096085 46.366558, 11.629119 46.30082, 12.202845 46.226925, 12.258601 46.421295))'",
         "GeoFootprint": {
          "coordinates": [
           [
            [
             12.258601,
             46.421295
            ],
            [
             11.684,
             46.499758
            ],
            [
             11.150156,
             46.570046
            ],
            [
             11.096085,
             46.366558
            ],
            [
             11.629119,
             46.30082
            ],
            [
             12.202845,
             46.226925
            ],
            [
             12.258601,
             46.421295
            ]
           ]
          ],
          "type": "Polygon"
         },
         "Id": "68f5fe82-4ace-4c85-b456-957197719097",
         "Lines": 0,
         "LinesPerBurst": 1508,
         "Name": "S1A-SLC-20241223T052731-359502-IW1-VV-460176",
         "OperationalMode": "IW",
         "OrbitDirection": "DESCENDING",
         "ParentProductId": "85c72f1d-71f8-4f75-a182-1e2644c11496",
         "ParentProductName": "S1A_IW_SLC__1SDV_20241223T052728_20241223T052755_057115_070590_864F.SAFE",
         "ParentProductType": "IW_SLC__1S",
         "PlatformSerialIdentifier": "A",
         "PolarisationChannels": "VV",
         "RelativeOrbitNumber": 168,
         "S3Path": "/eodata/Sentinel-1/SAR/IW_SLC__1S/2024/12/23/S1A_IW_SLC__1SDV_20241223T052728_20241223T052755_057115_070590_864F.SAFE/measurement/s1a-iw1-slc-vv-20241223t052730-20241223t052755-057115-070590-004.tiff",
         "SamplesPerBurst": 22990,
         "SwathIdentifier": "IW1"
        },
        {
         "@odata.mediaContentType": "application/octet-stream",
         "AbsoluteBurstId": 122677549,
         "AzimuthAnxTime": 2197.8179941109,
         "AzimuthTime": "2024-12-23T05:27:28.385986Z",
         "BeginningDateTime": "2024-12-23T05:27:29.400465Z",
         "BurstId": 359501,
         "ByteOffset": 109683,
         "ContentDate": {
          "End": "2024-12-23T05:27:30.446877Z",
          "Start": "2024-12-23T05:27:29.400465Z"
         },
         "ContentType": "application/octet-stream",
         "DatatakeID": 460176,
         "EndingDateTime": "2024-12-23T05:27:30.446877Z",
         "Footprint": "geography'SRID=4326;POLYGON ((11.210885 46.663981, 10.609883 46.739546, 10.041572 46.808037, 9.994503 46.61577, 10.56182 46.551482, 11.161802 46.480136, 11.210885 46.663981))'",
         "GeoFootprint": {
          "coordinates": [
           [
            [
             11.210885,
             46.663981
            ],
            [
             10.609883,
             46.739546
            ],
            [
             10.041572,
             46.808037
            ],
            [
             9.994503,
             46.61577
            ],
            [
             10.56182,
             46.551482
            ],
            [
             11.161802,
             46.480136
            ],
            [
             11.210885,
             46.663981
            ]
           ]
          ],
          "type": "Polygon"
         },
         "Id": "62fce01d-e5a9-46d3-b62c-2b3a06054fe1",
         "Lines": 0,
         "LinesPerBurst": 1519,
         "Name": "S1A-SLC-20241223T052729-359501-IW2-VV-460176",
         "OperationalMode": "IW",
         "OrbitDirection": "DESCENDING",
         "ParentProductId": "85c72f1d-71f8-4f75-a182-1e2644c11496",
         "ParentProductName": "S1A_IW_SLC__1SDV_20241223T052728_20241223T052755_057115_070590_864F.SAFE",
         "ParentProductType": "IW_SLC__1S",
         "PlatformSerialIdentifier": "A",
         "PolarisationChannels": "VV",
         "RelativeOrbitNumber": 168,
         "S3Path": "/eodata/Sentinel-1/SAR/IW_SLC__1S/2024/12/23/S1A_IW_SLC__1SDV_20241223T052728_20241223T052755_057115_070590_864F.SAFE/measurement/s1a-iw2-slc-vv-20241223t052728-20241223t052753-057115-070590-005.tiff",
         "SamplesPerBurst": 26745,
         "SwathIdentifier": "IW2"
        },
        {
         "@odata.mediaContentType": "application/octet-stream",
         "AbsoluteBurstId": 122896639,
         "AzimuthAnxTime": 2200.7937729914,
         "AzimuthTime": "2024-12-30T05:19:17.197989Z",
         "BeginningDateTime": "2024-12-30T05:19:18.332881Z",
         "BurstId": 202703,
         "ByteOffset": 1256856515,
         "ContentDate": {
          "End": "2024-12-30T05:19:19.237487Z",
          "Start": "2024-12-30T05:19:18.332881Z"
         },
         "ContentType": "application/octet-stream",
         "DatatakeID": 461194,
         "EndingDateTime": "2024-12-30T05:19:19.237487Z",
         "Footprint": "geography'SRID=4326;POLYGON ((12.089482 46.634916, 11.563369 46.69639, 11.056374 46.753309, 11.010245 46.548522, 11.516373 46.496209, 12.041638 46.439349, 12.089482 46.634916))'",
         "GeoFootprint": {
          "coordinates": [
           [
            [
             12.089482,
             46.634916
            ],
            [
             11.563369,
             46.69639
            ],
            [
             11.056374,
             46.753309
            ],
            [
             11.010245,
             46.548522
            ],
            [
             11.516373,
             46.496209
            ],
            [
             12.041638,
             46.439349
            ],
            [
             12.089482,
             46.634916
            ]
           ]
          ],
          "type": "Polygon"
         },
         "Id": "188b2030-daa1-4574-9641-e12616af30f0",
         "Lines": 12200,
         "LinesPerBurst": 1525,
         "Name": "S1A-SLC-20241230T051918-202703-IW3-VV-461194",
         "OperationalMode": "IW",
         "OrbitDirection": "DESCENDING",
         "ParentProductId": "6ee62120-5577-435b-b868-55296bb7f692",
         "ParentProductName": "S1A_IW_SLC__1SDV_20241230T051854_20241230T051921_057217_07098A_8613.SAFE",
         "ParentProductType": "IW_SLC__1S",
         "PlatformSerialIdentifier": "A",
         "PolarisationChannels": "VV",
         "RelativeOrbitNumber": 95,
         "S3Path": "/eodata/Sentinel-1/SAR/IW_SLC__1S/2024/12/30/S1A_IW_SLC__1SDV_20241230T051854_20241230T051921_057217_07098A_8613.SAFE/measurement/s1a-iw3-slc-vv-20241230t051855-20241230t051920-057217-07098a-006.tiff",
         "SamplesPerBurst": 25753,
         "SwathIdentifier": "IW3"
        },
        {
         "@odata.mediaContentType": "application/octet-stream",
         "AbsoluteBurstId": 122896640,
         "AzimuthAnxTime": 2203.5502739983,
         "AzimuthTime": "2024-12-30T05:19:19.954490Z",
         "BeginningDateTime": "2024-12-30T05:19:21.091157Z",
         "BurstId": 202704,
         "ByteOffset": 110115,
         "ContentDate": {
          "End": "2024-12-30T05:19:21.995763Z",
          "Start": "2024-12-30T05:19:21.091157Z"
         },
         "ContentType": "application/octet-stream",
         "DatatakeID": 461194,
         "EndingDateTime": "2024-12-30T05:19:21.995763Z",
         "Footprint": "geography'SRID=4326;POLYGON ((12.049022 46.469577, 11.524545 46.531064, 11.019128 46.588009, 10.97311 46.383218, 11.477674 46.330878, 12.001315 46.274004, 12.049022 46.469577))'",
         "GeoFootprint": {
          "coordinates": [
           [
            [
             12.049022,
             46.469577
            ],
            [
             11.524545,
             46.531064
            ],
            [
             11.019128,
             46.588009
            ],
            [
             10.97311,
             46.383218
            ],
            [
             11.477674,
             46.330878
            ],
            [
             12.001315,
             46.274004
            ],
            [
             12.049022,
             46.469577
            ]
           ]
          ],
          "type": "Polygon"
         },
         "Id": "fe54c3c1-8ab5-41ff-a2ab-5fb3a0d87140",
         "Lines": 0,
         "LinesPerBurst": 1525,
         "Name": "S1A-SLC-20241230T051921-202704-IW3-VV-461194",
         "OperationalMode": "IW",
         "OrbitDirection": "DESCENDING",
         "ParentProductId": "58775c94-1b70-40ac-a7fd-ec1a768e2cc3",
         "ParentProductName": "S1A_IW_SLC__1SDV_20241230T051918_20241230T051945_057217_07098A_7518.SAFE",
         "ParentProductType": "IW_SLC__1S",
         "PlatformSerialIdentifier": "A",
         "PolarisationChannels": "VV",
         "RelativeOrbitNumber": 95,
         "S3Path": "/eodata/Sentinel-1/SAR/IW_SLC__1S/2024/12/30/S1A_IW_SLC__1SDV_20241230T051918_20241230T051945_057217_07098A_7518.SAFE/measurement/s1a-iw3-slc-vv-20241230t051919-20241230t051945-057217-07098a-006.tiff",
         "SamplesPerBurst": 25753,
         "SwathIdentifier": "IW3"
        },
        {
         "@odata.mediaContentType": "application/octet-stream",
         "AbsoluteBurstId": 122943368,
         "AzimuthAnxTime": 753.4016982167,
         "AzimuthTime": "2024-12-31T17:07:30.157850Z",
         "BeginningDateTime": "2024-12-31T17:07:31.167136Z",
         "BurstId": 249433,
         "ByteOffset": 640810107,
         "ContentDate": {
          "End": "2024-12-31T17:07:32.208726Z",
          "Start": "2024-12-31T17:07:31.167136Z"
         },
         "ContentType": "application/octet-stream",
         "DatatakeID": 461421,
         "EndingDateTime": "2024-12-31T17:07:32.208726Z",
         "Footprint": "geography'SRID=4326;POLYGON ((10.804564 46.276581, 11.402422 46.34791, 11.967742 46.412202, 11.920848 46.604472, 11.354552 46.535976, 10.755691 46.460429, 10.804564 46.276581))'",
         "GeoFootprint": {
          "coordinates": [
           [
            [
             10.804564,
             46.276581
            ],
            [
             11.402422,
             46.34791
            ],
            [
             11.967742,
             46.412202
            ],
            [
             11.920848,
             46.604472
            ],
            [
             11.354552,
             46.535976
            ],
            [
             10.755691,
             46.460429
            ],
            [
             10.804564,
             46.276581
            ]
           ]
          ],
          "type": "Polygon"
         },
         "Id": "e8968f1d-e8d4-4aa0-a543-fcc45b6c70a7",
         "Lines": 6048,
         "LinesPerBurst": 1512,
         "Name": "S1A-SLC-20241231T170731-249433-IW2-VV-461421",
         "OperationalMode": "IW",
         "OrbitDirection": "ASCENDING",
         "ParentProductId": "86b4a189-aece-430e-ad37-0b0bae95d770",
         "ParentProductName": "S1A_IW_SLC__1SDV_20241231T170717_20241231T170744_057239_070A6D_31B7.SAFE",
         "ParentProductType": "IW_SLC__1S",
         "PlatformSerialIdentifier": "A",
         "PolarisationChannels": "VV",
         "RelativeOrbitNumber": 117,
         "S3Path": "/eodata/Sentinel-1/SAR/IW_SLC__1S/2024/12/31/S1A_IW_SLC__1SDV_20241231T170717_20241231T170744_057239_070A6D_31B7.SAFE/measurement/s1a-iw2-slc-vv-20241231t170719-20241231t170744-057239-070a6d-005.tiff",
         "SamplesPerBurst": 26484,
         "SwathIdentifier": "IW2"
        },
        {
         "@odata.mediaContentType": "application/octet-stream",
         "AbsoluteBurstId": 122943369,
         "AzimuthAnxTime": 756.1602547713,
         "AzimuthTime": "2024-12-31T17:07:32.916407Z",
         "BeginningDateTime": "2024-12-31T17:07:33.925413Z",
         "BurstId": 249434,
         "ByteOffset": 800985339,
         "ContentDate": {
          "End": "2024-12-31T17:07:34.967003Z",
          "Start": "2024-12-31T17:07:33.925413Z"
         },
         "ContentType": "application/octet-stream",
         "DatatakeID": 461421,
         "EndingDateTime": "2024-12-31T17:07:34.967003Z",
         "Footprint": "geography'SRID=4326;POLYGON ((10.760624 46.441904, 11.360345 46.513254, 11.927424 46.577547, 11.880394 46.76981, 11.312324 46.701311, 10.711586 46.625741, 10.760624 46.441904))'",
         "GeoFootprint": {
          "coordinates": [
           [
            [
             10.760624,
             46.441904
            ],
            [
             11.360345,
             46.513254
            ],
            [
             11.927424,
             46.577547
            ],
            [
             11.880394,
             46.76981
            ],
            [
             11.312324,
             46.701311
            ],
            [
             10.711586,
             46.625741
            ],
            [
             10.760624,
             46.441904
            ]
           ]
          ],
          "type": "Polygon"
         },
         "Id": "66c139d6-6dc9-4780-b676-e5cf6b0d71ad",
         "Lines": 7560,
         "LinesPerBurst": 1512,
         "Name": "S1A-SLC-20241231T170733-249434-IW2-VV-461421",
         "OperationalMode": "IW",
         "OrbitDirection": "ASCENDING",
         "ParentProductId": "86b4a189-aece-430e-ad37-0b0bae95d770",
         "ParentProductName": "S1A_IW_SLC__1SDV_20241231T170717_20241231T170744_057239_070A6D_31B7.SAFE",
         "ParentProductType": "IW_SLC__1S",
         "PlatformSerialIdentifier": "A",
         "PolarisationChannels": "VV",
         "RelativeOrbitNumber": 117,
         "S3Path": "/eodata/Sentinel-1/SAR/IW_SLC__1S/2024/12/31/S1A_IW_SLC__1SDV_20241231T170717_20241231T170744_057239_070A6D_31B7.SAFE/measurement/s1a-iw2-slc-vv-20241231t170719-20241231t170744-057239-070a6d-005.tiff",
         "SamplesPerBurst": 26484,
         "SwathIdentifier": "IW2"
        }
       ]
      },
      "text/plain": [
       "<IPython.core.display.JSON object>"
      ]
     },
     "execution_count": 6,
     "metadata": {
      "application/json": {
       "expanded": false,
       "root": "root"
      }
     },
     "output_type": "execute_result"
    }
   ],
   "source": [
    "https_request = f\"https://catalogue.dataspace.copernicus.eu/odata/v1/Bursts?$filter=\" + urllib.parse.quote(\n",
    "    f\"ContentDate/Start ge {start_date}T00:00:00.000Z and ContentDate/Start le {end_date}T23:59:59.000Z and \"\n",
    "    f\"PolarisationChannels eq 'VV' and \"\n",
    "    f\"OData.CSC.Intersects(area=geography'SRID=4326;{geom.wkt}')\"\n",
    ") + \"&$top=1000\"\n",
    "\n",
    "with urllib.request.urlopen(https_request) as response:\n",
    "    content = response.read().decode()\n",
    "bursts = json.loads(content)\n",
    "JSON(bursts)"
   ]
  },
  {
   "cell_type": "code",
   "execution_count": 7,
   "id": "d3a31fd1-081e-4c51-b510-3ce8980762d9",
   "metadata": {},
   "outputs": [],
   "source": [
    "bursts_uniqueTrack = {}\n",
    "burstId_list = []\n",
    "track_list = []\n",
    "for b in bursts['value']:\n",
    "    if b['RelativeOrbitNumber'] not in track_list:\n",
    "        bursts_uniqueTrack[b['RelativeOrbitNumber']] = {}\n",
    "        track_list.append(b['RelativeOrbitNumber'])\n",
    "    if b['BurstId'] not in burstId_list:\n",
    "        bursts_uniqueTrack[b['RelativeOrbitNumber']][b['BurstId']] = b['GeoFootprint']['coordinates']\n",
    "        burstId_list.append(b['BurstId'])"
   ]
  },
  {
   "cell_type": "markdown",
   "id": "2948dbea-0f4c-43d4-8595-3c7bace09ee1",
   "metadata": {},
   "source": [
    "## 3) Show on map"
   ]
  },
  {
   "cell_type": "code",
   "execution_count": 8,
   "id": "e51b7ad9-c6a8-4621-a219-c972210beb98",
   "metadata": {},
   "outputs": [
    {
     "data": {
      "text/html": [
       "<div style=\"width:100%;\"><div style=\"position:relative;width:100%;height:0;padding-bottom:60%;\"><span style=\"color:#565656\">Make this Notebook Trusted to load map: File -> Trust Notebook</span><iframe srcdoc=\"&lt;!DOCTYPE html&gt;\n",
       "&lt;html&gt;\n",
       "&lt;head&gt;\n",
       "    \n",
       "    &lt;meta http-equiv=&quot;content-type&quot; content=&quot;text/html; charset=UTF-8&quot; /&gt;\n",
       "    \n",
       "        &lt;script&gt;\n",
       "            L_NO_TOUCH = false;\n",
       "            L_DISABLE_3D = false;\n",
       "        &lt;/script&gt;\n",
       "    \n",
       "    &lt;style&gt;html, body {width: 100%;height: 100%;margin: 0;padding: 0;}&lt;/style&gt;\n",
       "    &lt;style&gt;#map {position:absolute;top:0;bottom:0;right:0;left:0;}&lt;/style&gt;\n",
       "    &lt;script src=&quot;https://cdn.jsdelivr.net/npm/leaflet@1.9.3/dist/leaflet.js&quot;&gt;&lt;/script&gt;\n",
       "    &lt;script src=&quot;https://code.jquery.com/jquery-3.7.1.min.js&quot;&gt;&lt;/script&gt;\n",
       "    &lt;script src=&quot;https://cdn.jsdelivr.net/npm/bootstrap@5.2.2/dist/js/bootstrap.bundle.min.js&quot;&gt;&lt;/script&gt;\n",
       "    &lt;script src=&quot;https://cdnjs.cloudflare.com/ajax/libs/Leaflet.awesome-markers/2.0.2/leaflet.awesome-markers.js&quot;&gt;&lt;/script&gt;\n",
       "    &lt;link rel=&quot;stylesheet&quot; href=&quot;https://cdn.jsdelivr.net/npm/leaflet@1.9.3/dist/leaflet.css&quot;/&gt;\n",
       "    &lt;link rel=&quot;stylesheet&quot; href=&quot;https://cdn.jsdelivr.net/npm/bootstrap@5.2.2/dist/css/bootstrap.min.css&quot;/&gt;\n",
       "    &lt;link rel=&quot;stylesheet&quot; href=&quot;https://netdna.bootstrapcdn.com/bootstrap/3.0.0/css/bootstrap-glyphicons.css&quot;/&gt;\n",
       "    &lt;link rel=&quot;stylesheet&quot; href=&quot;https://cdn.jsdelivr.net/npm/@fortawesome/fontawesome-free@6.2.0/css/all.min.css&quot;/&gt;\n",
       "    &lt;link rel=&quot;stylesheet&quot; href=&quot;https://cdnjs.cloudflare.com/ajax/libs/Leaflet.awesome-markers/2.0.2/leaflet.awesome-markers.css&quot;/&gt;\n",
       "    &lt;link rel=&quot;stylesheet&quot; href=&quot;https://cdn.jsdelivr.net/gh/python-visualization/folium/folium/templates/leaflet.awesome.rotate.min.css&quot;/&gt;\n",
       "    \n",
       "            &lt;meta name=&quot;viewport&quot; content=&quot;width=device-width,\n",
       "                initial-scale=1.0, maximum-scale=1.0, user-scalable=no&quot; /&gt;\n",
       "            &lt;style&gt;\n",
       "                #map_70be43e6a75e4244166fb937af0b3648 {\n",
       "                    position: relative;\n",
       "                    width: 100.0%;\n",
       "                    height: 100.0%;\n",
       "                    left: 0.0%;\n",
       "                    top: 0.0%;\n",
       "                }\n",
       "                .leaflet-container { font-size: 1rem; }\n",
       "            &lt;/style&gt;\n",
       "        \n",
       "&lt;/head&gt;\n",
       "&lt;body&gt;\n",
       "    \n",
       "    \n",
       "            &lt;div class=&quot;folium-map&quot; id=&quot;map_70be43e6a75e4244166fb937af0b3648&quot; &gt;&lt;/div&gt;\n",
       "        \n",
       "&lt;/body&gt;\n",
       "&lt;script&gt;\n",
       "    \n",
       "    \n",
       "            var map_70be43e6a75e4244166fb937af0b3648 = L.map(\n",
       "                &quot;map_70be43e6a75e4244166fb937af0b3648&quot;,\n",
       "                {\n",
       "                    center: [46.4983675, 11.5088875],\n",
       "                    crs: L.CRS.EPSG3857,\n",
       "                    ...{\n",
       "  &quot;zoom&quot;: 8,\n",
       "  &quot;zoomControl&quot;: true,\n",
       "  &quot;preferCanvas&quot;: false,\n",
       "}\n",
       "\n",
       "                }\n",
       "            );\n",
       "\n",
       "            \n",
       "\n",
       "        \n",
       "    \n",
       "            var tile_layer_326303e9cbec82200c8aeeb9a6068683 = L.tileLayer(\n",
       "                &quot;https://tile.openstreetmap.org/{z}/{x}/{y}.png&quot;,\n",
       "                {\n",
       "  &quot;minZoom&quot;: 0,\n",
       "  &quot;maxZoom&quot;: 19,\n",
       "  &quot;maxNativeZoom&quot;: 19,\n",
       "  &quot;noWrap&quot;: false,\n",
       "  &quot;attribution&quot;: &quot;\\u0026copy; \\u003ca href=\\&quot;https://www.openstreetmap.org/copyright\\&quot;\\u003eOpenStreetMap\\u003c/a\\u003e contributors&quot;,\n",
       "  &quot;subdomains&quot;: &quot;abc&quot;,\n",
       "  &quot;detectRetina&quot;: false,\n",
       "  &quot;tms&quot;: false,\n",
       "  &quot;opacity&quot;: 1,\n",
       "}\n",
       "\n",
       "            );\n",
       "        \n",
       "    \n",
       "            tile_layer_326303e9cbec82200c8aeeb9a6068683.addTo(map_70be43e6a75e4244166fb937af0b3648);\n",
       "        \n",
       "    \n",
       "            var polygon_c5ea592c51e972d6d3692d668778f89b = L.polygon(\n",
       "                [[46.452997, 11.175842], [46.549417, 11.175842], [46.549417, 11.340637], [46.452997, 11.340637], [46.452997, 11.175842]],\n",
       "                {&quot;bubblingMouseEvents&quot;: true, &quot;color&quot;: &quot;blue&quot;, &quot;dashArray&quot;: null, &quot;dashOffset&quot;: null, &quot;fill&quot;: true, &quot;fillColor&quot;: &quot;blue&quot;, &quot;fillOpacity&quot;: 0.4, &quot;fillRule&quot;: &quot;evenodd&quot;, &quot;lineCap&quot;: &quot;round&quot;, &quot;lineJoin&quot;: &quot;round&quot;, &quot;noClip&quot;: false, &quot;opacity&quot;: 1.0, &quot;smoothFactor&quot;: 1.0, &quot;stroke&quot;: true, &quot;weight&quot;: 3}\n",
       "            ).addTo(map_70be43e6a75e4244166fb937af0b3648);\n",
       "        \n",
       "    \n",
       "            var feature_group_586cd4ff21b79a8d79609342a186f87b = L.featureGroup(\n",
       "                {\n",
       "}\n",
       "            );\n",
       "        \n",
       "    \n",
       "            var polygon_839561fc2a3b77fe2bd98f110e392968 = L.polygon(\n",
       "                [[46.586499, 12.306189], [46.66502, 11.729773], [46.735345, 11.194249], [46.531867, 11.139994], [46.466093, 11.674696], [46.392142, 12.250223], [46.586499, 12.306189]],\n",
       "                {&quot;bubblingMouseEvents&quot;: true, &quot;color&quot;: &quot;red&quot;, &quot;dashArray&quot;: null, &quot;dashOffset&quot;: null, &quot;fill&quot;: false, &quot;fillColor&quot;: &quot;red&quot;, &quot;fillOpacity&quot;: 0.2, &quot;fillRule&quot;: &quot;evenodd&quot;, &quot;lineCap&quot;: &quot;round&quot;, &quot;lineJoin&quot;: &quot;round&quot;, &quot;noClip&quot;: false, &quot;opacity&quot;: 1.0, &quot;smoothFactor&quot;: 1.0, &quot;stroke&quot;: true, &quot;weight&quot;: 3}\n",
       "            ).addTo(feature_group_586cd4ff21b79a8d79609342a186f87b);\n",
       "        \n",
       "    \n",
       "            var polygon_199f3c3255670de38682433db7c8e3f9 = L.polygon(\n",
       "                [[46.421295, 12.258601], [46.499758, 11.684], [46.570046, 11.150156], [46.366558, 11.096085], [46.30082, 11.629119], [46.226925, 12.202845], [46.421295, 12.258601]],\n",
       "                {&quot;bubblingMouseEvents&quot;: true, &quot;color&quot;: &quot;red&quot;, &quot;dashArray&quot;: null, &quot;dashOffset&quot;: null, &quot;fill&quot;: false, &quot;fillColor&quot;: &quot;red&quot;, &quot;fillOpacity&quot;: 0.2, &quot;fillRule&quot;: &quot;evenodd&quot;, &quot;lineCap&quot;: &quot;round&quot;, &quot;lineJoin&quot;: &quot;round&quot;, &quot;noClip&quot;: false, &quot;opacity&quot;: 1.0, &quot;smoothFactor&quot;: 1.0, &quot;stroke&quot;: true, &quot;weight&quot;: 3}\n",
       "            ).addTo(feature_group_586cd4ff21b79a8d79609342a186f87b);\n",
       "        \n",
       "    \n",
       "            feature_group_586cd4ff21b79a8d79609342a186f87b.addTo(map_70be43e6a75e4244166fb937af0b3648);\n",
       "        \n",
       "    \n",
       "            var feature_group_e43ab43591722b9a9ea4a4ed765381d7 = L.featureGroup(\n",
       "                {\n",
       "}\n",
       "            );\n",
       "        \n",
       "    \n",
       "            var polygon_1e73b587a3cfb5770c08305d513f39fc = L.polygon(\n",
       "                [[46.634916, 12.089482], [46.69639, 11.563369], [46.753309, 11.056374], [46.548522, 11.010245], [46.496209, 11.516373], [46.439349, 12.041638], [46.634916, 12.089482]],\n",
       "                {&quot;bubblingMouseEvents&quot;: true, &quot;color&quot;: &quot;red&quot;, &quot;dashArray&quot;: null, &quot;dashOffset&quot;: null, &quot;fill&quot;: false, &quot;fillColor&quot;: &quot;red&quot;, &quot;fillOpacity&quot;: 0.2, &quot;fillRule&quot;: &quot;evenodd&quot;, &quot;lineCap&quot;: &quot;round&quot;, &quot;lineJoin&quot;: &quot;round&quot;, &quot;noClip&quot;: false, &quot;opacity&quot;: 1.0, &quot;smoothFactor&quot;: 1.0, &quot;stroke&quot;: true, &quot;weight&quot;: 3}\n",
       "            ).addTo(feature_group_e43ab43591722b9a9ea4a4ed765381d7);\n",
       "        \n",
       "    \n",
       "            var polygon_188a5dc262c5a8660667a9c47ee9cc09 = L.polygon(\n",
       "                [[46.469577, 12.049022], [46.531064, 11.524545], [46.588009, 11.019128], [46.383218, 10.97311], [46.330878, 11.477674], [46.274004, 12.001315], [46.469577, 12.049022]],\n",
       "                {&quot;bubblingMouseEvents&quot;: true, &quot;color&quot;: &quot;red&quot;, &quot;dashArray&quot;: null, &quot;dashOffset&quot;: null, &quot;fill&quot;: false, &quot;fillColor&quot;: &quot;red&quot;, &quot;fillOpacity&quot;: 0.2, &quot;fillRule&quot;: &quot;evenodd&quot;, &quot;lineCap&quot;: &quot;round&quot;, &quot;lineJoin&quot;: &quot;round&quot;, &quot;noClip&quot;: false, &quot;opacity&quot;: 1.0, &quot;smoothFactor&quot;: 1.0, &quot;stroke&quot;: true, &quot;weight&quot;: 3}\n",
       "            ).addTo(feature_group_e43ab43591722b9a9ea4a4ed765381d7);\n",
       "        \n",
       "    \n",
       "            feature_group_e43ab43591722b9a9ea4a4ed765381d7.addTo(map_70be43e6a75e4244166fb937af0b3648);\n",
       "        \n",
       "    \n",
       "            var feature_group_1c29bbbc661c1fca3a9b5edcddd2144d = L.featureGroup(\n",
       "                {\n",
       "}\n",
       "            );\n",
       "        \n",
       "    \n",
       "            var polygon_1aef5d3861167cdbafc79ac50bcbfb74 = L.polygon(\n",
       "                [[46.276581, 10.804564], [46.34791, 11.402422], [46.412202, 11.967742], [46.604472, 11.920848], [46.535976, 11.354552], [46.460429, 10.755691], [46.276581, 10.804564]],\n",
       "                {&quot;bubblingMouseEvents&quot;: true, &quot;color&quot;: &quot;red&quot;, &quot;dashArray&quot;: null, &quot;dashOffset&quot;: null, &quot;fill&quot;: false, &quot;fillColor&quot;: &quot;red&quot;, &quot;fillOpacity&quot;: 0.2, &quot;fillRule&quot;: &quot;evenodd&quot;, &quot;lineCap&quot;: &quot;round&quot;, &quot;lineJoin&quot;: &quot;round&quot;, &quot;noClip&quot;: false, &quot;opacity&quot;: 1.0, &quot;smoothFactor&quot;: 1.0, &quot;stroke&quot;: true, &quot;weight&quot;: 3}\n",
       "            ).addTo(feature_group_1c29bbbc661c1fca3a9b5edcddd2144d);\n",
       "        \n",
       "    \n",
       "            var polygon_bc4f5aad35f79f13e03667d1e81347bf = L.polygon(\n",
       "                [[46.441904, 10.760624], [46.513254, 11.360345], [46.577547, 11.927424], [46.76981, 11.880394], [46.701311, 11.312324], [46.625741, 10.711586], [46.441904, 10.760624]],\n",
       "                {&quot;bubblingMouseEvents&quot;: true, &quot;color&quot;: &quot;red&quot;, &quot;dashArray&quot;: null, &quot;dashOffset&quot;: null, &quot;fill&quot;: false, &quot;fillColor&quot;: &quot;red&quot;, &quot;fillOpacity&quot;: 0.2, &quot;fillRule&quot;: &quot;evenodd&quot;, &quot;lineCap&quot;: &quot;round&quot;, &quot;lineJoin&quot;: &quot;round&quot;, &quot;noClip&quot;: false, &quot;opacity&quot;: 1.0, &quot;smoothFactor&quot;: 1.0, &quot;stroke&quot;: true, &quot;weight&quot;: 3}\n",
       "            ).addTo(feature_group_1c29bbbc661c1fca3a9b5edcddd2144d);\n",
       "        \n",
       "    \n",
       "            feature_group_1c29bbbc661c1fca3a9b5edcddd2144d.addTo(map_70be43e6a75e4244166fb937af0b3648);\n",
       "        \n",
       "    \n",
       "            var layer_control_4e492e184ae389789714f6ed83d11c75_layers = {\n",
       "                base_layers : {\n",
       "                    &quot;openstreetmap&quot; : tile_layer_326303e9cbec82200c8aeeb9a6068683,\n",
       "                },\n",
       "                overlays :  {\n",
       "                    &quot;Track 168&quot; : feature_group_586cd4ff21b79a8d79609342a186f87b,\n",
       "                    &quot;Track 95&quot; : feature_group_e43ab43591722b9a9ea4a4ed765381d7,\n",
       "                    &quot;Track 117&quot; : feature_group_1c29bbbc661c1fca3a9b5edcddd2144d,\n",
       "                },\n",
       "            };\n",
       "            let layer_control_4e492e184ae389789714f6ed83d11c75 = L.control.layers(\n",
       "                layer_control_4e492e184ae389789714f6ed83d11c75_layers.base_layers,\n",
       "                layer_control_4e492e184ae389789714f6ed83d11c75_layers.overlays,\n",
       "                {\n",
       "  &quot;position&quot;: &quot;topright&quot;,\n",
       "  &quot;collapsed&quot;: true,\n",
       "  &quot;autoZIndex&quot;: true,\n",
       "}\n",
       "            ).addTo(map_70be43e6a75e4244166fb937af0b3648);\n",
       "\n",
       "        \n",
       "&lt;/script&gt;\n",
       "&lt;/html&gt;\" style=\"position:absolute;width:100%;height:100%;left:0;top:0;border:none !important;\" allowfullscreen webkitallowfullscreen mozallowfullscreen></iframe></div></div>"
      ],
      "text/plain": [
       "<folium.folium.Map at 0x7fb0c82b4e10>"
      ]
     },
     "execution_count": 8,
     "metadata": {},
     "output_type": "execute_result"
    }
   ],
   "source": [
    "# Initialize the map and center it in the middle of the bursts\n",
    "\n",
    "lat, lon = [], []\n",
    "for burst in bursts_uniqueTrack.values():\n",
    "    for coords in burst.values():\n",
    "        lat = lat + [c[1] for c in coords[0]]\n",
    "        lon = lon + [c[0] for c in coords[0]]\n",
    "        \n",
    "m = folium.Map(\n",
    "    location=[np.mean([max(lat), min(lat)]), np.mean([max(lon), min(lon)])],\n",
    "    zoom_start=8\n",
    ")\n",
    "\n",
    "\n",
    "# Add the area of interest\n",
    "\n",
    "if geom.geom_type == 'Point':\n",
    "    folium.Marker([geom.y, geom.x]).add_to(m)\n",
    "\n",
    "if geom.geom_type == 'Polygon':\n",
    "    folium.Polygon(\n",
    "        locations=[(y, x) for x, y in geom.exterior.coords],\n",
    "        color='blue',\n",
    "        fill=True,            \n",
    "        fill_color='blue',    \n",
    "        fill_opacity=0.4\n",
    "    ).add_to(m)\n",
    "\n",
    "\n",
    "# Add each burst grouped by track\n",
    "\n",
    "for track, burst in bursts_uniqueTrack.items():\n",
    "    \n",
    "    polygon_group = folium.FeatureGroup(name=f'Track {track}')\n",
    "\n",
    "    for burstId, polygon in bursts_uniqueTrack[track].items():\n",
    "\n",
    "        # Create and add the first polygon to its feature group\n",
    "        pol = folium.Polygon(\n",
    "            locations=np.flip(np.squeeze(polygon), axis=1),\n",
    "            color='red'\n",
    "        )\n",
    "        pol.add_to(polygon_group)\n",
    "    \n",
    "    polygon_group.add_to(m)\n",
    "\n",
    "\n",
    "# Show the map\n",
    "\n",
    "folium.LayerControl().add_to(m)\n",
    "m"
   ]
  },
  {
   "cell_type": "markdown",
   "id": "13775c4a-fb02-4ecb-897c-449997b6d302",
   "metadata": {},
   "source": [
    "## Plot calendar"
   ]
  },
  {
   "cell_type": "code",
   "execution_count": 9,
   "id": "88e4f0a9-1f92-4f5a-8aa0-2405d6c8f5d4",
   "metadata": {},
   "outputs": [],
   "source": [
    "import calendar\n",
    "import matplotlib.pyplot as plt\n",
    "\n",
    "def display_calendar(year, month, highlighted_dates={}):\n",
    "\n",
    "    cal = calendar.monthcalendar(year, month)\n",
    "    fig, ax = plt.subplots(figsize=(4, 2))\n",
    "    ax.set_xticks([])\n",
    "    ax.set_yticks([])\n",
    "                \n",
    "    for row, week in enumerate(cal):\n",
    "        for col, day in enumerate(week):\n",
    "            if day == 0:\n",
    "                continue\n",
    "            color = highlighted_dates.get(day, \"white\")\n",
    "            ax.add_patch(plt.Rectangle((col - 0.5, row - 0.5), 1, 1, color=color, alpha=0.6))\n",
    "            ax.text(col, row, str(day), ha=\"center\", va=\"center\", fontsize=12, weight='bold')\n",
    "\n",
    "    ax.set_xlim(-0.5, 6.5)\n",
    "    ax.set_ylim(len(cal) - 0.5, -0.5)\n",
    "    ax.set_title(calendar.month_name[month] + f\" {year}\")\n",
    "    plt.show()"
   ]
  },
  {
   "cell_type": "code",
   "execution_count": 10,
   "id": "84393d09-9ba3-42ca-967b-90fe96381da4",
   "metadata": {},
   "outputs": [],
   "source": [
    "date, track = [], [] \n",
    "for b in bursts['value']:\n",
    "    date.append(b['BeginningDateTime'])\n",
    "    track.append(b['RelativeOrbitNumber'])\n",
    "df = pd.DataFrame(data={'date': date, 'track': track})\n",
    "df['date'] = pd.to_datetime(df['date'])\n",
    "df['year'] = df['date'].dt.year\n",
    "df['month'] = df['date'].dt.month\n",
    "df['day'] = df['date'].dt.day\n",
    "df = df.drop_duplicates(subset=['track', 'year', 'month', 'day'])\n",
    "df = df.sort_values(by='date', ascending=True)"
   ]
  },
  {
   "cell_type": "code",
   "execution_count": 11,
   "id": "10bbd1e3-bd9a-4720-b8d3-ad04448da2c8",
   "metadata": {},
   "outputs": [
    {
     "data": {
      "image/png": "[encoded data removed]",
      "text/plain": [
       "<Figure size 400x150 with 1 Axes>"
      ]
     },
     "metadata": {},
     "output_type": "display_data"
    },
    {
     "data": {
      "image/png": "[encoded data removed]",
      "text/plain": [
       "<Figure size 400x200 with 1 Axes>"
      ]
     },
     "metadata": {},
     "output_type": "display_data"
    },
    {
     "data": {
      "image/png": "[encoded data removed]",
      "text/plain": [
       "<Figure size 400x200 with 1 Axes>"
      ]
     },
     "metadata": {},
     "output_type": "display_data"
    },
    {
     "data": {
      "image/png": "[encoded data removed]",
      "text/plain": [
       "<Figure size 400x200 with 1 Axes>"
      ]
     },
     "metadata": {},
     "output_type": "display_data"
    },
    {
     "data": {
      "image/png": "[encoded data removed]",
      "text/plain": [
       "<Figure size 400x200 with 1 Axes>"
      ]
     },
     "metadata": {},
     "output_type": "display_data"
    },
    {
     "data": {
      "image/png": "[encoded data removed]",
      "text/plain": [
       "<Figure size 400x200 with 1 Axes>"
      ]
     },
     "metadata": {},
     "output_type": "display_data"
    },
    {
     "data": {
      "image/png": "[encoded data removed]",
      "text/plain": [
       "<Figure size 400x200 with 1 Axes>"
      ]
     },
     "metadata": {},
     "output_type": "display_data"
    },
    {
     "data": {
      "image/png": "[encoded data removed]",
      "text/plain": [
       "<Figure size 400x200 with 1 Axes>"
      ]
     },
     "metadata": {},
     "output_type": "display_data"
    }
   ],
   "source": [
    "color_track = {}\n",
    "fig, ax = plt.subplots(figsize=(4, len(df['track'].unique())*0.5))\n",
    "for i, t in enumerate(df['track'].unique()):\n",
    "    color_track[t] = f'C{i}'\n",
    "    ax.add_patch(plt.Rectangle((0, -i*0.5), 0.1, 0.3, color=color_track[t], alpha=0.6))\n",
    "    ax.text(0.15, -i*0.5+0.1, f'T{t}', fontsize=10)\n",
    "ax.set_xlim(0, 1)\n",
    "ax.set_ylim(-len(df['track'].unique())*0.5, 0.5)\n",
    "ax.axis('off')\n",
    "plt.show()\n",
    "\n",
    "for year in df['year'].unique():\n",
    "    df_year = df.loc[df['year'] == year, :]\n",
    "    for month in df_year['month'].unique():\n",
    "        h = {}\n",
    "        for i, row in df_year.loc[df_year['month'] == month, :].iterrows():\n",
    "            h[row['day']] = color_track[row['track']]\n",
    "        display_calendar(year, month, h)"
   ]
  },
  {
   "cell_type": "code",
   "execution_count": null,
   "id": "42db48a7-95f0-464c-a078-599991c75e9c",
   "metadata": {},
   "outputs": [],
   "source": []
  }
 ],
 "metadata": {
  "kernelspec": {
   "display_name": "OpenEO",
   "language": "python",
   "name": "openeo"
  },
  "language_info": {
   "codemirror_mode": {
    "name": "ipython",
    "version": 3
   },
   "file_extension": ".py",
   "mimetype": "text/x-python",
   "name": "python",
   "nbconvert_exporter": "python",
   "pygments_lexer": "ipython3",
   "version": "3.11.9"
  }
 },
 "nbformat": 4,
 "nbformat_minor": 5
}
