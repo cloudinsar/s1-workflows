{
 "cells": [
  {
   "cell_type": "code",
   "execution_count": null,
   "id": "f6b821fd-92ad-4658-aef5-2c4cf980c011",
   "metadata": {},
   "outputs": [],
   "source": [
    "!pip install folium leafmap"
   ]
  },
  {
   "cell_type": "code",
   "execution_count": 1,
   "id": "1a8ebc92-fb8c-42d7-9d5f-6980edbf9c4d",
   "metadata": {
    "tags": []
   },
   "outputs": [],
   "source": [
    "import urllib\n",
    "import json\n",
    "\n",
    "import numpy as np\n",
    "import pandas as pd\n",
    "\n",
    "from shapely.geometry import shape\n",
    "\n",
    "import folium\n",
    "from folium.plugins import Draw\n",
    "from folium.plugins.treelayercontrol import TreeLayerControl\n",
    "\n",
    "import leafmap\n",
    "\n",
    "from IPython.display import JSON"
   ]
  },
  {
   "cell_type": "markdown",
   "id": "ad3ff8e2-f7de-4671-8cea-f723283c9880",
   "metadata": {},
   "source": [
    "## 1) Input definition"
   ]
  },
  {
   "cell_type": "code",
   "execution_count": 2,
   "id": "1640048f-132e-4506-ab84-0561a0e9fee1",
   "metadata": {
    "tags": []
   },
   "outputs": [],
   "source": [
    "start_date = '2024-01-01'\n",
    "end_date = '2025-01-30'"
   ]
  },
  {
   "cell_type": "markdown",
   "id": "8ee2d7aa-4fb4-4fca-abf3-d66eabd6840b",
   "metadata": {},
   "source": [
    "### Define an area of interest by drawing in the map using the rectangle selection tool"
   ]
  },
  {
   "cell_type": "code",
   "execution_count": 3,
   "id": "e97db665-ceed-411a-851b-9a41defb8f59",
   "metadata": {
    "tags": []
   },
   "outputs": [
    {
     "data": {
      "application/vnd.jupyter.widget-view+json": {
       "model_id": "365f84d66563466f8e68be4e37d8b2bd",
       "version_major": 2,
       "version_minor": 0
      },
      "text/plain": [
       "Map(center=[47.005, 11.507], controls=(ZoomControl(options=['position', 'zoom_in_text', 'zoom_in_title', 'zoom…"
      ]
     },
     "execution_count": 3,
     "metadata": {},
     "output_type": "execute_result"
    }
   ],
   "source": [
    "m = leafmap.Map(center=(47.005, 11.507), zoom=7.5)\n",
    "m"
   ]
  },
  {
   "cell_type": "code",
   "execution_count": 5,
   "id": "3fa674ca-8aa8-47b7-84a3-ea660210fca7",
   "metadata": {
    "tags": []
   },
   "outputs": [
    {
     "data": {
      "text/plain": [
       "'POLYGON ((11.299438 46.456182, 11.299438 46.51717, 11.438828 46.51717, 11.438828 46.456182, 11.299438 46.456182))'"
      ]
     },
     "execution_count": 5,
     "metadata": {},
     "output_type": "execute_result"
    }
   ],
   "source": [
    "feat = m.draw_features\n",
    "geom_dict = feat[0]['geometry']\n",
    "geom = shape(geom_dict)\n",
    "geom.wkt"
   ]
  },
  {
   "cell_type": "markdown",
   "id": "7a7299ba-fdad-41cd-838f-1ccbad90c8ad",
   "metadata": {},
   "source": [
    "### Alternatively upload your area of interest"
   ]
  },
  {
   "cell_type": "code",
   "execution_count": null,
   "id": "e201b1f0-09a2-4862-a443-6c3effbfffca",
   "metadata": {},
   "outputs": [],
   "source": []
  },
  {
   "cell_type": "markdown",
   "id": "104ab20b-99b5-48ac-bb2b-e119433f60c9",
   "metadata": {},
   "source": [
    "## 2) Retrieve the bursts info with https request"
   ]
  },
  {
   "cell_type": "code",
   "execution_count": 6,
   "id": "38a2e886-18a5-411a-976b-6e9df8d1ee60",
   "metadata": {
    "tags": []
   },
   "outputs": [
    {
     "data": {
      "application/json": {
       "@odata.context": "$metadata#Bursts",
       "value": [
        {
         "@odata.mediaContentType": "application/octet-stream",
         "AbsoluteBurstId": 118761879,
         "AzimuthAnxTime": 2203.5153909983,
         "AzimuthTime": "2024-08-20T05:19:22.694127Z",
         "BeginningDateTime": "2024-08-20T05:19:23.836976Z",
         "BurstId": 202704,
         "ByteOffset": 110043,
         "ContentDate": {
          "End": "2024-08-20T05:19:27.026976Z",
          "Start": "2024-08-20T05:19:23.836976Z"
         },
         "ContentType": "application/octet-stream",
         "DatatakeID": 28800,
         "EndingDateTime": "2024-08-20T05:19:27.026976Z",
         "Footprint": "geography'SRID=4326;POLYGON ((12.049022 46.469577, 11.524545 46.531064, 11.019128 46.588009, 10.97311 46.383218, 11.477674 46.330878, 12.001315 46.274004, 12.049022 46.469577))'",
         "GeoFootprint": {
          "coordinates": [
           [
            [
             12.049022,
             46.469577
            ],
            [
             11.524545,
             46.531064
            ],
            [
             11.019128,
             46.588009
            ],
            [
             10.97311,
             46.383218
            ],
            [
             11.477674,
             46.330878
            ],
            [
             12.001315,
             46.274004
            ],
            [
             12.049022,
             46.469577
            ]
           ]
          ],
          "type": "Polygon"
         },
         "Id": "b1b97e3a-64d9-4e52-8638-c9b0bd10c377",
         "Lines": 0,
         "LinesPerBurst": 1524,
         "Name": "S1A-SLC-20240820T051923-202704-IW3-VV-028800",
         "OperationalMode": "IW",
         "OrbitDirection": "DESCENDING",
         "ParentProductId": "356ea388-7640-4501-adda-107b7e6088b3",
         "ParentProductName": "S1A_IW_SLC__1SDV_20240820T051921_20240820T051948_055292_06BDB8_AE12.SAFE",
         "ParentProductType": "IW_SLC__1S",
         "PlatformSerialIdentifier": "A",
         "PolarisationChannels": "VV",
         "RelativeOrbitNumber": 95,
         "S3Path": "/eodata/Sentinel-1/SAR/IW_SLC__1S/2024/08/20/S1A_IW_SLC__1SDV_20240820T051921_20240820T051948_055292_06BDB8_AE12.SAFE/measurement/s1a-iw3-slc-vv-20240820t051922-20240820t051947-055292-06bdb8-006.tiff",
         "SamplesPerBurst": 25504,
         "SwathIdentifier": "IW3"
        },
        {
         "@odata.mediaContentType": "application/octet-stream",
         "AbsoluteBurstId": 118761878,
         "AzimuthAnxTime": 2200.7588899914,
         "AzimuthTime": "2024-08-20T05:19:19.937626Z",
         "BeginningDateTime": "2024-08-20T05:19:21.078700Z",
         "BurstId": 202703,
         "ByteOffset": 1243889115,
         "ContentDate": {
          "End": "2024-08-20T05:19:24.268700Z",
          "Start": "2024-08-20T05:19:21.078700Z"
         },
         "ContentType": "application/octet-stream",
         "DatatakeID": 28800,
         "EndingDateTime": "2024-08-20T05:19:24.268700Z",
         "Footprint": "geography'SRID=4326;POLYGON ((12.089482 46.634916, 11.563369 46.69639, 11.056374 46.753309, 11.010245 46.548522, 11.516373 46.496209, 12.041638 46.439349, 12.089482 46.634916))'",
         "GeoFootprint": {
          "coordinates": [
           [
            [
             12.089482,
             46.634916
            ],
            [
             11.563369,
             46.69639
            ],
            [
             11.056374,
             46.753309
            ],
            [
             11.010245,
             46.548522
            ],
            [
             11.516373,
             46.496209
            ],
            [
             12.041638,
             46.439349
            ],
            [
             12.089482,
             46.634916
            ]
           ]
          ],
          "type": "Polygon"
         },
         "Id": "e48dc516-6276-4203-bf13-968a0bad00d7",
         "Lines": 12192,
         "LinesPerBurst": 1524,
         "Name": "S1A-SLC-20240820T051921-202703-IW3-VV-028800",
         "OperationalMode": "IW",
         "OrbitDirection": "DESCENDING",
         "ParentProductId": "691efab6-32d8-481a-aa9d-5f2ffa03065b",
         "ParentProductName": "S1A_IW_SLC__1SDV_20240820T051856_20240820T051923_055292_06BDB8_0B78.SAFE",
         "ParentProductType": "IW_SLC__1S",
         "PlatformSerialIdentifier": "A",
         "PolarisationChannels": "VV",
         "RelativeOrbitNumber": 95,
         "S3Path": "/eodata/Sentinel-1/SAR/IW_SLC__1S/2024/08/20/S1A_IW_SLC__1SDV_20240820T051856_20240820T051923_055292_06BDB8_0B78.SAFE/measurement/s1a-iw3-slc-vv-20240820t051857-20240820t051923-055292-06bdb8-006.tiff",
         "SamplesPerBurst": 25504,
         "SwathIdentifier": "IW3"
        },
        {
         "@odata.mediaContentType": "application/octet-stream",
         "AbsoluteBurstId": 118808607,
         "AzimuthAnxTime": 753.3894472167,
         "AzimuthTime": "2024-08-21T17:07:33.184650Z",
         "BeginningDateTime": "2024-08-21T17:07:34.206260Z",
         "BurstId": 249433,
         "ByteOffset": 640810107,
         "ContentDate": {
          "End": "2024-08-21T17:07:37.396260Z",
          "Start": "2024-08-21T17:07:34.206260Z"
         },
         "ContentType": "application/octet-stream",
         "DatatakeID": 11008,
         "EndingDateTime": "2024-08-21T17:07:37.396260Z",
         "Footprint": "geography'SRID=4326;POLYGON ((10.804564 46.276581, 11.402422 46.34791, 11.967742 46.412202, 11.920848 46.604472, 11.354552 46.535976, 10.755691 46.460429, 10.804564 46.276581))'",
         "GeoFootprint": {
          "coordinates": [
           [
            [
             10.804564,
             46.276581
            ],
            [
             11.402422,
             46.34791
            ],
            [
             11.967742,
             46.412202
            ],
            [
             11.920848,
             46.604472
            ],
            [
             11.354552,
             46.535976
            ],
            [
             10.755691,
             46.460429
            ],
            [
             10.804564,
             46.276581
            ]
           ]
          ],
          "type": "Polygon"
         },
         "Id": "a2498f97-73af-4f32-876e-c17d640e5c39",
         "Lines": 6048,
         "LinesPerBurst": 1512,
         "Name": "S1A-SLC-20240821T170734-249433-IW2-VV-011008",
         "OperationalMode": "IW",
         "OrbitDirection": "ASCENDING",
         "ParentProductId": "7cdcacc9-388c-4cfa-ad22-1bba0edee787",
         "ParentProductName": "S1A_IW_SLC__1SDV_20240821T170720_20240821T170747_055314_06BE95_CC41.SAFE",
         "ParentProductType": "IW_SLC__1S",
         "PlatformSerialIdentifier": "A",
         "PolarisationChannels": "VV",
         "RelativeOrbitNumber": 117,
         "S3Path": "/eodata/Sentinel-1/SAR/IW_SLC__1S/2024/08/21/S1A_IW_SLC__1SDV_20240821T170720_20240821T170747_055314_06BE95_CC41.SAFE/measurement/s1a-iw2-slc-vv-20240821t170722-20240821t170747-055314-06be95-005.tiff",
         "SamplesPerBurst": 26484,
         "SwathIdentifier": "IW2"
        },
        {
         "@odata.mediaContentType": "application/octet-stream",
         "AbsoluteBurstId": 118808608,
         "AzimuthAnxTime": 756.1480037713,
         "AzimuthTime": "2024-08-21T17:07:35.943207Z",
         "BeginningDateTime": "2024-08-21T17:07:36.964537Z",
         "BurstId": 249434,
         "ByteOffset": 800985339,
         "ContentDate": {
          "End": "2024-08-21T17:07:40.154537Z",
          "Start": "2024-08-21T17:07:36.964537Z"
         },
         "ContentType": "application/octet-stream",
         "DatatakeID": 11008,
         "EndingDateTime": "2024-08-21T17:07:40.154537Z",
         "Footprint": "geography'SRID=4326;POLYGON ((10.760624 46.441904, 11.360345 46.513254, 11.927424 46.577547, 11.880394 46.76981, 11.312324 46.701311, 10.711586 46.625741, 10.760624 46.441904))'",
         "GeoFootprint": {
          "coordinates": [
           [
            [
             10.760624,
             46.441904
            ],
            [
             11.360345,
             46.513254
            ],
            [
             11.927424,
             46.577547
            ],
            [
             11.880394,
             46.76981
            ],
            [
             11.312324,
             46.701311
            ],
            [
             10.711586,
             46.625741
            ],
            [
             10.760624,
             46.441904
            ]
           ]
          ],
          "type": "Polygon"
         },
         "Id": "0ed7bc5b-07c8-4797-941d-010dd6218473",
         "Lines": 7560,
         "LinesPerBurst": 1512,
         "Name": "S1A-SLC-20240821T170736-249434-IW2-VV-011008",
         "OperationalMode": "IW",
         "OrbitDirection": "ASCENDING",
         "ParentProductId": "7cdcacc9-388c-4cfa-ad22-1bba0edee787",
         "ParentProductName": "S1A_IW_SLC__1SDV_20240821T170720_20240821T170747_055314_06BE95_CC41.SAFE",
         "ParentProductType": "IW_SLC__1S",
         "PlatformSerialIdentifier": "A",
         "PolarisationChannels": "VV",
         "RelativeOrbitNumber": 117,
         "S3Path": "/eodata/Sentinel-1/SAR/IW_SLC__1S/2024/08/21/S1A_IW_SLC__1SDV_20240821T170720_20240821T170747_055314_06BE95_CC41.SAFE/measurement/s1a-iw2-slc-vv-20240821t170722-20240821t170747-055314-06be95-005.tiff",
         "SamplesPerBurst": 26484,
         "SwathIdentifier": "IW2"
        },
        {
         "@odata.mediaContentType": "application/octet-stream",
         "AbsoluteBurstId": 118918676,
         "AzimuthAnxTime": 2199.6038481092,
         "AzimuthTime": "2024-08-25T05:27:32.514709Z",
         "BeginningDateTime": "2024-08-25T05:27:33.650483Z",
         "BurstId": 359502,
         "ByteOffset": 108819,
         "ContentDate": {
          "End": "2024-08-25T05:27:36.840483Z",
          "Start": "2024-08-25T05:27:33.650483Z"
         },
         "ContentType": "application/octet-stream",
         "DatatakeID": 2688,
         "EndingDateTime": "2024-08-25T05:27:36.840483Z",
         "Footprint": "geography'SRID=4326;POLYGON ((12.258601 46.421295, 11.684 46.499758, 11.150156 46.570046, 11.096085 46.366558, 11.629119 46.30082, 12.202845 46.226925, 12.258601 46.421295))'",
         "GeoFootprint": {
          "coordinates": [
           [
            [
             12.258601,
             46.421295
            ],
            [
             11.684,
             46.499758
            ],
            [
             11.150156,
             46.570046
            ],
            [
             11.096085,
             46.366558
            ],
            [
             11.629119,
             46.30082
            ],
            [
             12.202845,
             46.226925
            ],
            [
             12.258601,
             46.421295
            ]
           ]
          ],
          "type": "Polygon"
         },
         "Id": "bdda8821-a785-4ccc-abed-7e9d30074bce",
         "Lines": 0,
         "LinesPerBurst": 1507,
         "Name": "S1A-SLC-20240825T052733-359502-IW1-VV-002688",
         "OperationalMode": "IW",
         "OrbitDirection": "DESCENDING",
         "ParentProductId": "2a9aca9a-ee3f-4815-963c-cd48c8042879",
         "ParentProductName": "S1A_IW_SLC__1SDV_20240825T052730_20240825T052757_055365_06C085_D122.SAFE",
         "ParentProductType": "IW_SLC__1S",
         "PlatformSerialIdentifier": "A",
         "PolarisationChannels": "VV",
         "RelativeOrbitNumber": 168,
         "S3Path": "/eodata/Sentinel-1/SAR/IW_SLC__1S/2024/08/25/S1A_IW_SLC__1SDV_20240825T052730_20240825T052757_055365_06C085_D122.SAFE/measurement/s1a-iw1-slc-vv-20240825t052732-20240825t052757-055365-06c085-004.tiff",
         "SamplesPerBurst": 22774,
         "SwathIdentifier": "IW1"
        },
        {
         "@odata.mediaContentType": "application/octet-stream",
         "AbsoluteBurstId": 118918675,
         "AzimuthAnxTime": 2196.8473464334,
         "AzimuthTime": "2024-08-25T05:27:29.758207Z",
         "BeginningDateTime": "2024-08-25T05:27:30.892207Z",
         "BurstId": 359501,
         "ByteOffset": 1098362195,
         "ContentDate": {
          "End": "2024-08-25T05:27:34.082207Z",
          "Start": "2024-08-25T05:27:30.892207Z"
         },
         "ContentType": "application/octet-stream",
         "DatatakeID": 2688,
         "EndingDateTime": "2024-08-25T05:27:34.082207Z",
         "Footprint": "geography'SRID=4326;POLYGON ((12.306189 46.586499, 11.729773 46.66502, 11.194249 46.735345, 11.139994 46.531867, 11.674696 46.466093, 12.250223 46.392142, 12.306189 46.586499))'",
         "GeoFootprint": {
          "coordinates": [
           [
            [
             12.306189,
             46.586499
            ],
            [
             11.729773,
             46.66502
            ],
            [
             11.194249,
             46.735345
            ],
            [
             11.139994,
             46.531867
            ],
            [
             11.674696,
             46.466093
            ],
            [
             12.250223,
             46.392142
            ],
            [
             12.306189,
             46.586499
            ]
           ]
          ],
          "type": "Polygon"
         },
         "Id": "09e34b52-7412-4606-8d9e-dd823bcc917b",
         "Lines": 12056,
         "LinesPerBurst": 1507,
         "Name": "S1A-SLC-20240825T052730-359501-IW1-VV-002688",
         "OperationalMode": "IW",
         "OrbitDirection": "DESCENDING",
         "ParentProductId": "c9e2dedc-f9c5-4c8e-a256-5552b1eee2f2",
         "ParentProductName": "S1A_IW_SLC__1SDV_20240825T052705_20240825T052732_055365_06C085_FFD2.SAFE",
         "ParentProductType": "IW_SLC__1S",
         "PlatformSerialIdentifier": "A",
         "PolarisationChannels": "VV",
         "RelativeOrbitNumber": 168,
         "S3Path": "/eodata/Sentinel-1/SAR/IW_SLC__1S/2024/08/25/S1A_IW_SLC__1SDV_20240825T052705_20240825T052732_055365_06C085_FFD2.SAFE/measurement/s1a-iw1-slc-vv-20240825t052707-20240825t052732-055365-06c085-004.tiff",
         "SamplesPerBurst": 22774,
         "SwathIdentifier": "IW1"
        },
        {
         "@odata.mediaContentType": "application/octet-stream",
         "AbsoluteBurstId": 119184495,
         "AzimuthAnxTime": 753.394785773,
         "AzimuthTime": "2024-09-02T17:07:33.379591Z",
         "BeginningDateTime": "2024-09-02T17:07:34.399162Z",
         "BurstId": 249433,
         "ByteOffset": 640810107,
         "ContentDate": {
          "End": "2024-09-02T17:07:37.589162Z",
          "Start": "2024-09-02T17:07:34.399162Z"
         },
         "ContentType": "application/octet-stream",
         "DatatakeID": 10784,
         "EndingDateTime": "2024-09-02T17:07:37.589162Z",
         "Footprint": "geography'SRID=4326;POLYGON ((10.804564 46.276581, 11.402422 46.34791, 11.967742 46.412202, 11.920848 46.604472, 11.354552 46.535976, 10.755691 46.460429, 10.804564 46.276581))'",
         "GeoFootprint": {
          "coordinates": [
           [
            [
             10.804564,
             46.276581
            ],
            [
             11.402422,
             46.34791
            ],
            [
             11.967742,
             46.412202
            ],
            [
             11.920848,
             46.604472
            ],
            [
             11.354552,
             46.535976
            ],
            [
             10.755691,
             46.460429
            ],
            [
             10.804564,
             46.276581
            ]
           ]
          ],
          "type": "Polygon"
         },
         "Id": "0b5786fb-e92f-46d0-be2c-5599fcd564f6",
         "Lines": 6048,
         "LinesPerBurst": 1512,
         "Name": "S1A-SLC-20240902T170734-249433-IW2-VV-010784",
         "OperationalMode": "IW",
         "OrbitDirection": "ASCENDING",
         "ParentProductId": "07c64659-630a-4272-8c8a-9bc2d7480701",
         "ParentProductName": "S1A_IW_SLC__1SDV_20240902T170720_20240902T170747_055489_06C515_EEB7.SAFE",
         "ParentProductType": "IW_SLC__1S",
         "PlatformSerialIdentifier": "A",
         "PolarisationChannels": "VV",
         "RelativeOrbitNumber": 117,
         "S3Path": "/eodata/Sentinel-1/SAR/IW_SLC__1S/2024/09/02/S1A_IW_SLC__1SDV_20240902T170720_20240902T170747_055489_06C515_EEB7.SAFE/measurement/s1a-iw2-slc-vv-20240902t170722-20240902t170747-055489-06c515-005.tiff",
         "SamplesPerBurst": 26484,
         "SwathIdentifier": "IW2"
        },
        {
         "@odata.mediaContentType": "application/octet-stream",
         "AbsoluteBurstId": 119184496,
         "AzimuthAnxTime": 756.1533423276,
         "AzimuthTime": "2024-09-02T17:07:36.138147Z",
         "BeginningDateTime": "2024-09-02T17:07:37.157439Z",
         "BurstId": 249434,
         "ByteOffset": 800985339,
         "ContentDate": {
          "End": "2024-09-02T17:07:40.347439Z",
          "Start": "2024-09-02T17:07:37.157439Z"
         },
         "ContentType": "application/octet-stream",
         "DatatakeID": 10784,
         "EndingDateTime": "2024-09-02T17:07:40.347439Z",
         "Footprint": "geography'SRID=4326;POLYGON ((10.760624 46.441904, 11.360345 46.513254, 11.927424 46.577547, 11.880394 46.76981, 11.312324 46.701311, 10.711586 46.625741, 10.760624 46.441904))'",
         "GeoFootprint": {
          "coordinates": [
           [
            [
             10.760624,
             46.441904
            ],
            [
             11.360345,
             46.513254
            ],
            [
             11.927424,
             46.577547
            ],
            [
             11.880394,
             46.76981
            ],
            [
             11.312324,
             46.701311
            ],
            [
             10.711586,
             46.625741
            ],
            [
             10.760624,
             46.441904
            ]
           ]
          ],
          "type": "Polygon"
         },
         "Id": "a44be613-64d2-48d6-b072-c339a81f8338",
         "Lines": 7560,
         "LinesPerBurst": 1512,
         "Name": "S1A-SLC-20240902T170737-249434-IW2-VV-010784",
         "OperationalMode": "IW",
         "OrbitDirection": "ASCENDING",
         "ParentProductId": "07c64659-630a-4272-8c8a-9bc2d7480701",
         "ParentProductName": "S1A_IW_SLC__1SDV_20240902T170720_20240902T170747_055489_06C515_EEB7.SAFE",
         "ParentProductType": "IW_SLC__1S",
         "PlatformSerialIdentifier": "A",
         "PolarisationChannels": "VV",
         "RelativeOrbitNumber": 117,
         "S3Path": "/eodata/Sentinel-1/SAR/IW_SLC__1S/2024/09/02/S1A_IW_SLC__1SDV_20240902T170720_20240902T170747_055489_06C515_EEB7.SAFE/measurement/s1a-iw2-slc-vv-20240902t170722-20240902t170747-055489-06c515-005.tiff",
         "SamplesPerBurst": 26484,
         "SwathIdentifier": "IW2"
        },
        {
         "@odata.mediaContentType": "application/octet-stream",
         "AbsoluteBurstId": 119294563,
         "AzimuthAnxTime": 2199.6156266655,
         "AzimuthTime": "2024-09-06T05:27:32.724222Z",
         "BeginningDateTime": "2024-09-06T05:27:33.849702Z",
         "BurstId": 359502,
         "ByteOffset": 108891,
         "ContentDate": {
          "End": "2024-09-06T05:27:37.039702Z",
          "Start": "2024-09-06T05:27:33.849702Z"
         },
         "ContentType": "application/octet-stream",
         "DatatakeID": 11104,
         "EndingDateTime": "2024-09-06T05:27:37.039702Z",
         "Footprint": "geography'SRID=4326;POLYGON ((12.258601 46.421295, 11.684 46.499758, 11.150156 46.570046, 11.096085 46.366558, 11.629119 46.30082, 12.202845 46.226925, 12.258601 46.421295))'",
         "GeoFootprint": {
          "coordinates": [
           [
            [
             12.258601,
             46.421295
            ],
            [
             11.684,
             46.499758
            ],
            [
             11.150156,
             46.570046
            ],
            [
             11.096085,
             46.366558
            ],
            [
             11.629119,
             46.30082
            ],
            [
             12.202845,
             46.226925
            ],
            [
             12.258601,
             46.421295
            ]
           ]
          ],
          "type": "Polygon"
         },
         "Id": "24a69687-3307-43c2-9274-7582ed82423d",
         "Lines": 0,
         "LinesPerBurst": 1508,
         "Name": "S1A-SLC-20240906T052733-359502-IW1-VV-011104",
         "OperationalMode": "IW",
         "OrbitDirection": "DESCENDING",
         "ParentProductId": "13cf3878-7595-45e5-af48-d7dc6175ea71",
         "ParentProductName": "S1A_IW_SLC__1SDV_20240906T052730_20240906T052757_055540_06C715_1360.SAFE",
         "ParentProductType": "IW_SLC__1S",
         "PlatformSerialIdentifier": "A",
         "PolarisationChannels": "VV",
         "RelativeOrbitNumber": 168,
         "S3Path": "/eodata/Sentinel-1/SAR/IW_SLC__1S/2024/09/06/S1A_IW_SLC__1SDV_20240906T052730_20240906T052757_055540_06C715_1360.SAFE/measurement/s1a-iw1-slc-vv-20240906t052732-20240906t052757-055540-06c715-004.tiff",
         "SamplesPerBurst": 22990,
         "SwathIdentifier": "IW1"
        },
        {
         "@odata.mediaContentType": "application/octet-stream",
         "AbsoluteBurstId": 119294562,
         "AzimuthAnxTime": 2196.8570699897,
         "AzimuthTime": "2024-09-06T05:27:29.965665Z",
         "BeginningDateTime": "2024-09-06T05:27:31.091426Z",
         "BurstId": 359501,
         "ByteOffset": 1109514331,
         "ContentDate": {
          "End": "2024-09-06T05:27:34.281426Z",
          "Start": "2024-09-06T05:27:31.091426Z"
         },
         "ContentType": "application/octet-stream",
         "DatatakeID": 11104,
         "EndingDateTime": "2024-09-06T05:27:34.281426Z",
         "Footprint": "geography'SRID=4326;POLYGON ((12.306189 46.586499, 11.729773 46.66502, 11.194249 46.735345, 11.139994 46.531867, 11.674696 46.466093, 12.250223 46.392142, 12.306189 46.586499))'",
         "GeoFootprint": {
          "coordinates": [
           [
            [
             12.306189,
             46.586499
            ],
            [
             11.729773,
             46.66502
            ],
            [
             11.194249,
             46.735345
            ],
            [
             11.139994,
             46.531867
            ],
            [
             11.674696,
             46.466093
            ],
            [
             12.250223,
             46.392142
            ],
            [
             12.306189,
             46.586499
            ]
           ]
          ],
          "type": "Polygon"
         },
         "Id": "d8c91acd-3ca0-46a0-bbca-0c3b180d1efb",
         "Lines": 12064,
         "LinesPerBurst": 1508,
         "Name": "S1A-SLC-20240906T052731-359501-IW1-VV-011104",
         "OperationalMode": "IW",
         "OrbitDirection": "DESCENDING",
         "ParentProductId": "4ad72c4f-2c14-4d05-8421-d6656bcb6a08",
         "ParentProductName": "S1A_IW_SLC__1SDV_20240906T052706_20240906T052733_055540_06C715_7A78.SAFE",
         "ParentProductType": "IW_SLC__1S",
         "PlatformSerialIdentifier": "A",
         "PolarisationChannels": "VV",
         "RelativeOrbitNumber": 168,
         "S3Path": "/eodata/Sentinel-1/SAR/IW_SLC__1S/2024/09/06/S1A_IW_SLC__1SDV_20240906T052706_20240906T052733_055540_06C715_7A78.SAFE/measurement/s1a-iw1-slc-vv-20240906t052707-20240906t052733-055540-06c715-004.tiff",
         "SamplesPerBurst": 22990,
         "SwathIdentifier": "IW1"
        },
        {
         "@odata.mediaContentType": "application/octet-stream",
         "AbsoluteBurstId": 118385990,
         "AzimuthAnxTime": 2200.7515239914,
         "AzimuthTime": "2024-08-08T05:19:19.660864Z",
         "BeginningDateTime": "2024-08-08T05:19:20.810146Z",
         "BurstId": 202703,
         "ByteOffset": 1244718171,
         "ContentDate": {
          "End": "2024-08-08T05:19:24.000146Z",
          "Start": "2024-08-08T05:19:20.810146Z"
         },
         "ContentType": "application/octet-stream",
         "DatatakeID": 43904,
         "EndingDateTime": "2024-08-08T05:19:24.000146Z",
         "Footprint": "geography'SRID=4326;POLYGON ((12.089482 46.634916, 11.563369 46.69639, 11.056374 46.753309, 11.010245 46.548522, 11.516373 46.496209, 12.041638 46.439349, 12.089482 46.634916))'",
         "GeoFootprint": {
          "coordinates": [
           [
            [
             12.089482,
             46.634916
            ],
            [
             11.563369,
             46.69639
            ],
            [
             11.056374,
             46.753309
            ],
            [
             11.010245,
             46.548522
            ],
            [
             11.516373,
             46.496209
            ],
            [
             12.041638,
             46.439349
            ],
            [
             12.089482,
             46.634916
            ]
           ]
          ],
          "type": "Polygon"
         },
         "Id": "febba926-ef66-4d27-aa1b-66e19adab46a",
         "Lines": 12192,
         "LinesPerBurst": 1524,
         "Name": "S1A-SLC-20240808T051920-202703-IW3-VV-043904",
         "OperationalMode": "IW",
         "OrbitDirection": "DESCENDING",
         "ParentProductId": "e841a757-c597-47ea-a0f8-4f0511f1e2d1",
         "ParentProductName": "S1A_IW_SLC__1SDV_20240808T051856_20240808T051923_055117_06B755_985C.SAFE",
         "ParentProductType": "IW_SLC__1S",
         "PlatformSerialIdentifier": "A",
         "PolarisationChannels": "VV",
         "RelativeOrbitNumber": 95,
         "S3Path": "/eodata/Sentinel-1/SAR/IW_SLC__1S/2024/08/08/S1A_IW_SLC__1SDV_20240808T051856_20240808T051923_055117_06B755_985C.SAFE/measurement/s1a-iw3-slc-vv-20240808t051857-20240808t051922-055117-06b755-006.tiff",
         "SamplesPerBurst": 25521,
         "SwathIdentifier": "IW3"
        },
        {
         "@odata.mediaContentType": "application/octet-stream",
         "AbsoluteBurstId": 118385991,
         "AzimuthAnxTime": 2203.5100809983,
         "AzimuthTime": "2024-08-08T05:19:22.419421Z",
         "BeginningDateTime": "2024-08-08T05:19:23.568422Z",
         "BurstId": 202704,
         "ByteOffset": 110043,
         "ContentDate": {
          "End": "2024-08-08T05:19:26.758422Z",
          "Start": "2024-08-08T05:19:23.568422Z"
         },
         "ContentType": "application/octet-stream",
         "DatatakeID": 43904,
         "EndingDateTime": "2024-08-08T05:19:26.758422Z",
         "Footprint": "geography'SRID=4326;POLYGON ((12.049022 46.469577, 11.524545 46.531064, 11.019128 46.588009, 10.97311 46.383218, 11.477674 46.330878, 12.001315 46.274004, 12.049022 46.469577))'",
         "GeoFootprint": {
          "coordinates": [
           [
            [
             12.049022,
             46.469577
            ],
            [
             11.524545,
             46.531064
            ],
            [
             11.019128,
             46.588009
            ],
            [
             10.97311,
             46.383218
            ],
            [
             11.477674,
             46.330878
            ],
            [
             12.001315,
             46.274004
            ],
            [
             12.049022,
             46.469577
            ]
           ]
          ],
          "type": "Polygon"
         },
         "Id": "e5c2e0ef-5703-49c9-95e3-10b4e450e182",
         "Lines": 0,
         "LinesPerBurst": 1524,
         "Name": "S1A-SLC-20240808T051923-202704-IW3-VV-043904",
         "OperationalMode": "IW",
         "OrbitDirection": "DESCENDING",
         "ParentProductId": "9d112d74-447c-45ba-8967-01755df6842e",
         "ParentProductName": "S1A_IW_SLC__1SDV_20240808T051921_20240808T051948_055117_06B755_2288.SAFE",
         "ParentProductType": "IW_SLC__1S",
         "PlatformSerialIdentifier": "A",
         "PolarisationChannels": "VV",
         "RelativeOrbitNumber": 95,
         "S3Path": "/eodata/Sentinel-1/SAR/IW_SLC__1S/2024/08/08/S1A_IW_SLC__1SDV_20240808T051921_20240808T051948_055117_06B755_2288.SAFE/measurement/s1a-iw3-slc-vv-20240808t051922-20240808t051947-055117-06b755-006.tiff",
         "SamplesPerBurst": 25521,
         "SwathIdentifier": "IW3"
        },
        {
         "@odata.mediaContentType": "application/octet-stream",
         "AbsoluteBurstId": 118432721,
         "AzimuthAnxTime": 756.1496597713,
         "AzimuthTime": "2024-08-09T17:07:35.610669Z",
         "BeginningDateTime": "2024-08-09T17:07:36.629942Z",
         "BurstId": 249434,
         "ByteOffset": 800985339,
         "ContentDate": {
          "End": "2024-08-09T17:07:39.819942Z",
          "Start": "2024-08-09T17:07:36.629942Z"
         },
         "ContentType": "application/octet-stream",
         "DatatakeID": 29248,
         "EndingDateTime": "2024-08-09T17:07:39.819942Z",
         "Footprint": "geography'SRID=4326;POLYGON ((10.760624 46.441904, 11.360345 46.513254, 11.927424 46.577547, 11.880394 46.76981, 11.312324 46.701311, 10.711586 46.625741, 10.760624 46.441904))'",
         "GeoFootprint": {
          "coordinates": [
           [
            [
             10.760624,
             46.441904
            ],
            [
             11.360345,
             46.513254
            ],
            [
             11.927424,
             46.577547
            ],
            [
             11.880394,
             46.76981
            ],
            [
             11.312324,
             46.701311
            ],
            [
             10.711586,
             46.625741
            ],
            [
             10.760624,
             46.441904
            ]
           ]
          ],
          "type": "Polygon"
         },
         "Id": "0fb19bac-f538-427c-91fc-8a6abff96d56",
         "Lines": 7560,
         "LinesPerBurst": 1512,
         "Name": "S1A-SLC-20240809T170736-249434-IW2-VV-029248",
         "OperationalMode": "IW",
         "OrbitDirection": "ASCENDING",
         "ParentProductId": "76f91e85-9cd5-450a-b7f2-a56664cf1596",
         "ParentProductName": "S1A_IW_SLC__1SDV_20240809T170720_20240809T170746_055139_06B839_A6A0.SAFE",
         "ParentProductType": "IW_SLC__1S",
         "PlatformSerialIdentifier": "A",
         "PolarisationChannels": "VV",
         "RelativeOrbitNumber": 117,
         "S3Path": "/eodata/Sentinel-1/SAR/IW_SLC__1S/2024/08/09/S1A_IW_SLC__1SDV_20240809T170720_20240809T170746_055139_06B839_A6A0.SAFE/measurement/s1a-iw2-slc-vv-20240809t170721-20240809t170746-055139-06b839-005.tiff",
         "SamplesPerBurst": 26484,
         "SwathIdentifier": "IW2"
        },
        {
         "@odata.mediaContentType": "application/octet-stream",
         "AbsoluteBurstId": 118432720,
         "AzimuthAnxTime": 753.3911032167,
         "AzimuthTime": "2024-08-09T17:07:32.852112Z",
         "BeginningDateTime": "2024-08-09T17:07:33.871665Z",
         "BurstId": 249433,
         "ByteOffset": 640810107,
         "ContentDate": {
          "End": "2024-08-09T17:07:37.061665Z",
          "Start": "2024-08-09T17:07:33.871665Z"
         },
         "ContentType": "application/octet-stream",
         "DatatakeID": 29248,
         "EndingDateTime": "2024-08-09T17:07:37.061665Z",
         "Footprint": "geography'SRID=4326;POLYGON ((10.804564 46.276581, 11.402422 46.34791, 11.967742 46.412202, 11.920848 46.604472, 11.354552 46.535976, 10.755691 46.460429, 10.804564 46.276581))'",
         "GeoFootprint": {
          "coordinates": [
           [
            [
             10.804564,
             46.276581
            ],
            [
             11.402422,
             46.34791
            ],
            [
             11.967742,
             46.412202
            ],
            [
             11.920848,
             46.604472
            ],
            [
             11.354552,
             46.535976
            ],
            [
             10.755691,
             46.460429
            ],
            [
             10.804564,
             46.276581
            ]
           ]
          ],
          "type": "Polygon"
         },
         "Id": "8cc2d8c1-274f-4a8f-8db8-e6eac012d065",
         "Lines": 6048,
         "LinesPerBurst": 1512,
         "Name": "S1A-SLC-20240809T170733-249433-IW2-VV-029248",
         "OperationalMode": "IW",
         "OrbitDirection": "ASCENDING",
         "ParentProductId": "76f91e85-9cd5-450a-b7f2-a56664cf1596",
         "ParentProductName": "S1A_IW_SLC__1SDV_20240809T170720_20240809T170746_055139_06B839_A6A0.SAFE",
         "ParentProductType": "IW_SLC__1S",
         "PlatformSerialIdentifier": "A",
         "PolarisationChannels": "VV",
         "RelativeOrbitNumber": 117,
         "S3Path": "/eodata/Sentinel-1/SAR/IW_SLC__1S/2024/08/09/S1A_IW_SLC__1SDV_20240809T170720_20240809T170746_055139_06B839_A6A0.SAFE/measurement/s1a-iw2-slc-vv-20240809t170721-20240809t170746-055139-06b839-005.tiff",
         "SamplesPerBurst": 26484,
         "SwathIdentifier": "IW2"
        },
        {
         "@odata.mediaContentType": "application/octet-stream",
         "AbsoluteBurstId": 118542787,
         "AzimuthAnxTime": 2196.8337939897,
         "AzimuthTime": "2024-08-13T05:27:29.236707Z",
         "BeginningDateTime": "2024-08-13T05:27:30.370692Z",
         "BurstId": 359501,
         "ByteOffset": 1102710235,
         "ContentDate": {
          "End": "2024-08-13T05:27:33.560692Z",
          "Start": "2024-08-13T05:27:30.370692Z"
         },
         "ContentType": "application/octet-stream",
         "DatatakeID": 3968,
         "EndingDateTime": "2024-08-13T05:27:33.560692Z",
         "Footprint": "geography'SRID=4326;POLYGON ((12.306189 46.586499, 11.729773 46.66502, 11.194249 46.735345, 11.139994 46.531867, 11.674696 46.466093, 12.250223 46.392142, 12.306189 46.586499))'",
         "GeoFootprint": {
          "coordinates": [
           [
            [
             12.306189,
             46.586499
            ],
            [
             11.729773,
             46.66502
            ],
            [
             11.194249,
             46.735345
            ],
            [
             11.139994,
             46.531867
            ],
            [
             11.674696,
             46.466093
            ],
            [
             12.250223,
             46.392142
            ],
            [
             12.306189,
             46.586499
            ]
           ]
          ],
          "type": "Polygon"
         },
         "Id": "75d1b98d-cd8e-4b6a-b600-30febfe0a85f",
         "Lines": 12064,
         "LinesPerBurst": 1508,
         "Name": "S1A-SLC-20240813T052730-359501-IW1-VV-003968",
         "OperationalMode": "IW",
         "OrbitDirection": "DESCENDING",
         "ParentProductId": "352e9a53-dc83-45c7-bef3-8e82259de9b9",
         "ParentProductName": "S1A_IW_SLC__1SDV_20240813T052705_20240813T052732_055190_06BA07_54EF.SAFE",
         "ParentProductType": "IW_SLC__1S",
         "PlatformSerialIdentifier": "A",
         "PolarisationChannels": "VV",
         "RelativeOrbitNumber": 168,
         "S3Path": "/eodata/Sentinel-1/SAR/IW_SLC__1S/2024/08/13/S1A_IW_SLC__1SDV_20240813T052705_20240813T052732_055190_06BA07_54EF.SAFE/measurement/s1a-iw1-slc-vv-20240813t052707-20240813t052732-055190-06ba07-004.tiff",
         "SamplesPerBurst": 22849,
         "SwathIdentifier": "IW1"
        },
        {
         "@odata.mediaContentType": "application/octet-stream",
         "AbsoluteBurstId": 118542788,
         "AzimuthAnxTime": 2199.5923506655,
         "AzimuthTime": "2024-08-13T05:27:31.995264Z",
         "BeginningDateTime": "2024-08-13T05:27:33.128968Z",
         "BurstId": 359502,
         "ByteOffset": 108891,
         "ContentDate": {
          "End": "2024-08-13T05:27:36.318968Z",
          "Start": "2024-08-13T05:27:33.128968Z"
         },
         "ContentType": "application/octet-stream",
         "DatatakeID": 3968,
         "EndingDateTime": "2024-08-13T05:27:36.318968Z",
         "Footprint": "geography'SRID=4326;POLYGON ((12.258601 46.421295, 11.684 46.499758, 11.150156 46.570046, 11.096085 46.366558, 11.629119 46.30082, 12.202845 46.226925, 12.258601 46.421295))'",
         "GeoFootprint": {
          "coordinates": [
           [
            [
             12.258601,
             46.421295
            ],
            [
             11.684,
             46.499758
            ],
            [
             11.150156,
             46.570046
            ],
            [
             11.096085,
             46.366558
            ],
            [
             11.629119,
             46.30082
            ],
            [
             12.202845,
             46.226925
            ],
            [
             12.258601,
             46.421295
            ]
           ]
          ],
          "type": "Polygon"
         },
         "Id": "73335aff-98ff-4cc2-a451-837a95d0b3e7",
         "Lines": 0,
         "LinesPerBurst": 1508,
         "Name": "S1A-SLC-20240813T052733-359502-IW1-VV-003968",
         "OperationalMode": "IW",
         "OrbitDirection": "DESCENDING",
         "ParentProductId": "82e7ef84-1e24-4068-8321-1e59617ff8ff",
         "ParentProductName": "S1A_IW_SLC__1SDV_20240813T052730_20240813T052757_055190_06BA07_725E.SAFE",
         "ParentProductType": "IW_SLC__1S",
         "PlatformSerialIdentifier": "A",
         "PolarisationChannels": "VV",
         "RelativeOrbitNumber": 168,
         "S3Path": "/eodata/Sentinel-1/SAR/IW_SLC__1S/2024/08/13/S1A_IW_SLC__1SDV_20240813T052730_20240813T052757_055190_06BA07_725E.SAFE/measurement/s1a-iw1-slc-vv-20240813t052731-20240813t052757-055190-06ba07-004.tiff",
         "SamplesPerBurst": 22849,
         "SwathIdentifier": "IW1"
        },
        {
         "@odata.mediaContentType": "application/octet-stream",
         "AbsoluteBurstId": 119513652,
         "AzimuthAnxTime": 2200.7637695477,
         "AzimuthTime": "2024-09-13T05:19:20.547315Z",
         "BeginningDateTime": "2024-09-13T05:19:21.684276Z",
         "BurstId": 202703,
         "ByteOffset": 1256856515,
         "ContentDate": {
          "End": "2024-09-13T05:19:24.874276Z",
          "Start": "2024-09-13T05:19:21.684276Z"
         },
         "ContentType": "application/octet-stream",
         "DatatakeID": 16832,
         "EndingDateTime": "2024-09-13T05:19:24.874276Z",
         "Footprint": "geography'SRID=4326;POLYGON ((12.089482 46.634916, 11.563369 46.69639, 11.056374 46.753309, 11.010245 46.548522, 11.516373 46.496209, 12.041638 46.439349, 12.089482 46.634916))'",
         "GeoFootprint": {
          "coordinates": [
           [
            [
             12.089482,
             46.634916
            ],
            [
             11.563369,
             46.69639
            ],
            [
             11.056374,
             46.753309
            ],
            [
             11.010245,
             46.548522
            ],
            [
             11.516373,
             46.496209
            ],
            [
             12.041638,
             46.439349
            ],
            [
             12.089482,
             46.634916
            ]
           ]
          ],
          "type": "Polygon"
         },
         "Id": "6dcbdfbb-4a6f-4849-9a94-aa47d744d2aa",
         "Lines": 12200,
         "LinesPerBurst": 1525,
         "Name": "S1A-SLC-20240913T051921-202703-IW3-VV-016832",
         "OperationalMode": "IW",
         "OrbitDirection": "DESCENDING",
         "ParentProductId": "71145ac3-461a-443b-b91c-817d01b55dd4",
         "ParentProductName": "S1A_IW_SLC__1SDV_20240913T051857_20240913T051924_055642_06CB20_978C.SAFE",
         "ParentProductType": "IW_SLC__1S",
         "PlatformSerialIdentifier": "A",
         "PolarisationChannels": "VV",
         "RelativeOrbitNumber": 95,
         "S3Path": "/eodata/Sentinel-1/SAR/IW_SLC__1S/2024/09/13/S1A_IW_SLC__1SDV_20240913T051857_20240913T051924_055642_06CB20_978C.SAFE/measurement/s1a-iw3-slc-vv-20240913t051858-20240913t051923-055642-06cb20-006.tiff",
         "SamplesPerBurst": 25753,
         "SwathIdentifier": "IW3"
        },
        {
         "@odata.mediaContentType": "application/octet-stream",
         "AbsoluteBurstId": 119513653,
         "AzimuthAnxTime": 2203.5202699983,
         "AzimuthTime": "2024-09-13T05:19:23.303815Z",
         "BeginningDateTime": "2024-09-13T05:19:24.442552Z",
         "BurstId": 202704,
         "ByteOffset": 110115,
         "ContentDate": {
          "End": "2024-09-13T05:19:27.632552Z",
          "Start": "2024-09-13T05:19:24.442552Z"
         },
         "ContentType": "application/octet-stream",
         "DatatakeID": 16832,
         "EndingDateTime": "2024-09-13T05:19:27.632552Z",
         "Footprint": "geography'SRID=4326;POLYGON ((12.049022 46.469577, 11.524545 46.531064, 11.019128 46.588009, 10.97311 46.383218, 11.477674 46.330878, 12.001315 46.274004, 12.049022 46.469577))'",
         "GeoFootprint": {
          "coordinates": [
           [
            [
             12.049022,
             46.469577
            ],
            [
             11.524545,
             46.531064
            ],
            [
             11.019128,
             46.588009
            ],
            [
             10.97311,
             46.383218
            ],
            [
             11.477674,
             46.330878
            ],
            [
             12.001315,
             46.274004
            ],
            [
             12.049022,
             46.469577
            ]
           ]
          ],
          "type": "Polygon"
         },
         "Id": "390eba76-a7e9-4c26-9460-0abacd417e0c",
         "Lines": 0,
         "LinesPerBurst": 1525,
         "Name": "S1A-SLC-20240913T051924-202704-IW3-VV-016832",
         "OperationalMode": "IW",
         "OrbitDirection": "DESCENDING",
         "ParentProductId": "21fac80e-4518-48a9-b820-d04a49ead489",
         "ParentProductName": "S1A_IW_SLC__1SDV_20240913T051922_20240913T051949_055642_06CB20_06CA.SAFE",
         "ParentProductType": "IW_SLC__1S",
         "PlatformSerialIdentifier": "A",
         "PolarisationChannels": "VV",
         "RelativeOrbitNumber": 95,
         "S3Path": "/eodata/Sentinel-1/SAR/IW_SLC__1S/2024/09/13/S1A_IW_SLC__1SDV_20240913T051922_20240913T051949_055642_06CB20_06CA.SAFE/measurement/s1a-iw3-slc-vv-20240913t051923-20240913t051948-055642-06cb20-006.tiff",
         "SamplesPerBurst": 25753,
         "SwathIdentifier": "IW3"
        },
        {
         "@odata.mediaContentType": "application/octet-stream",
         "AbsoluteBurstId": 119560382,
         "AzimuthAnxTime": 753.3913783293,
         "AzimuthTime": "2024-09-14T17:07:33.977449Z",
         "BeginningDateTime": "2024-09-14T17:07:34.990852Z",
         "BurstId": 249433,
         "ByteOffset": 629211275,
         "ContentDate": {
          "End": "2024-09-14T17:07:38.180852Z",
          "Start": "2024-09-14T17:07:34.990852Z"
         },
         "ContentType": "application/octet-stream",
         "DatatakeID": 65152,
         "EndingDateTime": "2024-09-14T17:07:38.180852Z",
         "Footprint": "geography'SRID=4326;POLYGON ((10.804564 46.276581, 11.402422 46.34791, 11.967742 46.412202, 11.920848 46.604472, 11.354552 46.535976, 10.755691 46.460429, 10.804564 46.276581))'",
         "GeoFootprint": {
          "coordinates": [
           [
            [
             10.804564,
             46.276581
            ],
            [
             11.402422,
             46.34791
            ],
            [
             11.967742,
             46.412202
            ],
            [
             11.920848,
             46.604472
            ],
            [
             11.354552,
             46.535976
            ],
            [
             10.755691,
             46.460429
            ],
            [
             10.804564,
             46.276581
            ]
           ]
          ],
          "type": "Polygon"
         },
         "Id": "4fb282c8-668d-498c-ae61-b42efd001ee5",
         "Lines": 6040,
         "LinesPerBurst": 1510,
         "Name": "S1A-SLC-20240914T170734-249433-IW2-VV-065152",
         "OperationalMode": "IW",
         "OrbitDirection": "ASCENDING",
         "ParentProductId": "87e7fe78-78e1-4f24-89f8-b83da7e91f11",
         "ParentProductName": "S1A_IW_SLC__1SDV_20240914T170721_20240914T170748_055664_06CBFF_A704.SAFE",
         "ParentProductType": "IW_SLC__1S",
         "PlatformSerialIdentifier": "A",
         "PolarisationChannels": "VV",
         "RelativeOrbitNumber": 117,
         "S3Path": "/eodata/Sentinel-1/SAR/IW_SLC__1S/2024/09/14/S1A_IW_SLC__1SDV_20240914T170721_20240914T170748_055664_06CBFF_A704.SAFE/measurement/s1a-iw2-slc-vv-20240914t170722-20240914t170748-055664-06cbff-005.tiff",
         "SamplesPerBurst": 26039,
         "SwathIdentifier": "IW2"
        },
        {
         "@odata.mediaContentType": "application/octet-stream",
         "AbsoluteBurstId": 119560383,
         "AzimuthAnxTime": 756.1499348839,
         "AzimuthTime": "2024-09-14T17:07:36.736006Z",
         "BeginningDateTime": "2024-09-14T17:07:37.749129Z",
         "BurstId": 249434,
         "ByteOffset": 786486835,
         "ContentDate": {
          "End": "2024-09-14T17:07:40.939129Z",
          "Start": "2024-09-14T17:07:37.749129Z"
         },
         "ContentType": "application/octet-stream",
         "DatatakeID": 65152,
         "EndingDateTime": "2024-09-14T17:07:40.939129Z",
         "Footprint": "geography'SRID=4326;POLYGON ((10.760624 46.441904, 11.360345 46.513254, 11.927424 46.577547, 11.880394 46.76981, 11.312324 46.701311, 10.711586 46.625741, 10.760624 46.441904))'",
         "GeoFootprint": {
          "coordinates": [
           [
            [
             10.760624,
             46.441904
            ],
            [
             11.360345,
             46.513254
            ],
            [
             11.927424,
             46.577547
            ],
            [
             11.880394,
             46.76981
            ],
            [
             11.312324,
             46.701311
            ],
            [
             10.711586,
             46.625741
            ],
            [
             10.760624,
             46.441904
            ]
           ]
          ],
          "type": "Polygon"
         },
         "Id": "2880660d-d7e1-4f62-9cae-830d28a5e8c7",
         "Lines": 7550,
         "LinesPerBurst": 1510,
         "Name": "S1A-SLC-20240914T170737-249434-IW2-VV-065152",
         "OperationalMode": "IW",
         "OrbitDirection": "ASCENDING",
         "ParentProductId": "87e7fe78-78e1-4f24-89f8-b83da7e91f11",
         "ParentProductName": "S1A_IW_SLC__1SDV_20240914T170721_20240914T170748_055664_06CBFF_A704.SAFE",
         "ParentProductType": "IW_SLC__1S",
         "PlatformSerialIdentifier": "A",
         "PolarisationChannels": "VV",
         "RelativeOrbitNumber": 117,
         "S3Path": "/eodata/Sentinel-1/SAR/IW_SLC__1S/2024/09/14/S1A_IW_SLC__1SDV_20240914T170721_20240914T170748_055664_06CBFF_A704.SAFE/measurement/s1a-iw2-slc-vv-20240914t170722-20240914t170748-055664-06cbff-005.tiff",
         "SamplesPerBurst": 26039,
         "SwathIdentifier": "IW2"
        },
        {
         "@odata.mediaContentType": "application/octet-stream",
         "AbsoluteBurstId": 119670450,
         "AzimuthAnxTime": 2196.8452894334,
         "AzimuthTime": "2024-09-18T05:27:30.579961Z",
         "BeginningDateTime": "2024-09-18T05:27:31.709834Z",
         "BurstId": 359501,
         "ByteOffset": 1109514331,
         "ContentDate": {
          "End": "2024-09-18T05:27:34.899834Z",
          "Start": "2024-09-18T05:27:31.709834Z"
         },
         "ContentType": "application/octet-stream",
         "DatatakeID": 960,
         "EndingDateTime": "2024-09-18T05:27:34.899834Z",
         "Footprint": "geography'SRID=4326;POLYGON ((12.306189 46.586499, 11.729773 46.66502, 11.194249 46.735345, 11.139994 46.531867, 11.674696 46.466093, 12.250223 46.392142, 12.306189 46.586499))'",
         "GeoFootprint": {
          "coordinates": [
           [
            [
             12.306189,
             46.586499
            ],
            [
             11.729773,
             46.66502
            ],
            [
             11.194249,
             46.735345
            ],
            [
             11.139994,
             46.531867
            ],
            [
             11.674696,
             46.466093
            ],
            [
             12.250223,
             46.392142
            ],
            [
             12.306189,
             46.586499
            ]
           ]
          ],
          "type": "Polygon"
         },
         "Id": "db937c12-9432-42f1-8868-fc5792796e62",
         "Lines": 12064,
         "LinesPerBurst": 1508,
         "Name": "S1A-SLC-20240918T052731-359501-IW1-VV-000960",
         "OperationalMode": "IW",
         "OrbitDirection": "DESCENDING",
         "ParentProductId": "cacfd541-2c95-4dd0-9334-84b897f11770",
         "ParentProductName": "S1A_IW_SLC__1SDV_20240918T052706_20240918T052733_055715_06CE01_2BD0.SAFE",
         "ParentProductType": "IW_SLC__1S",
         "PlatformSerialIdentifier": "A",
         "PolarisationChannels": "VV",
         "RelativeOrbitNumber": 168,
         "S3Path": "/eodata/Sentinel-1/SAR/IW_SLC__1S/2024/09/18/S1A_IW_SLC__1SDV_20240918T052706_20240918T052733_055715_06CE01_2BD0.SAFE/measurement/s1a-iw1-slc-vv-20240918t052708-20240918t052733-055715-06ce01-004.tiff",
         "SamplesPerBurst": 22990,
         "SwathIdentifier": "IW1"
        },
        {
         "@odata.mediaContentType": "application/octet-stream",
         "AbsoluteBurstId": 119670451,
         "AzimuthAnxTime": 2199.6038461092,
         "AzimuthTime": "2024-09-18T05:27:33.338518Z",
         "BeginningDateTime": "2024-09-18T05:27:34.468110Z",
         "BurstId": 359502,
         "ByteOffset": 108891,
         "ContentDate": {
          "End": "2024-09-18T05:27:37.658110Z",
          "Start": "2024-09-18T05:27:34.468110Z"
         },
         "ContentType": "application/octet-stream",
         "DatatakeID": 960,
         "EndingDateTime": "2024-09-18T05:27:37.658110Z",
         "Footprint": "geography'SRID=4326;POLYGON ((12.258601 46.421295, 11.684 46.499758, 11.150156 46.570046, 11.096085 46.366558, 11.629119 46.30082, 12.202845 46.226925, 12.258601 46.421295))'",
         "GeoFootprint": {
          "coordinates": [
           [
            [
             12.258601,
             46.421295
            ],
            [
             11.684,
             46.499758
            ],
            [
             11.150156,
             46.570046
            ],
            [
             11.096085,
             46.366558
            ],
            [
             11.629119,
             46.30082
            ],
            [
             12.202845,
             46.226925
            ],
            [
             12.258601,
             46.421295
            ]
           ]
          ],
          "type": "Polygon"
         },
         "Id": "6e977be3-8ad9-4ee0-9127-d3660a892509",
         "Lines": 0,
         "LinesPerBurst": 1508,
         "Name": "S1A-SLC-20240918T052734-359502-IW1-VV-000960",
         "OperationalMode": "IW",
         "OrbitDirection": "DESCENDING",
         "ParentProductId": "99006dd3-74a1-4ae3-8fe2-2d7045ba0d1a",
         "ParentProductName": "S1A_IW_SLC__1SDV_20240918T052731_20240918T052758_055715_06CE01_DB58.SAFE",
         "ParentProductType": "IW_SLC__1S",
         "PlatformSerialIdentifier": "A",
         "PolarisationChannels": "VV",
         "RelativeOrbitNumber": 168,
         "S3Path": "/eodata/Sentinel-1/SAR/IW_SLC__1S/2024/09/18/S1A_IW_SLC__1SDV_20240918T052731_20240918T052758_055715_06CE01_DB58.SAFE/measurement/s1a-iw1-slc-vv-20240918t052733-20240918t052758-055715-06ce01-004.tiff",
         "SamplesPerBurst": 22990,
         "SwathIdentifier": "IW1"
        },
        {
         "@odata.mediaContentType": "application/octet-stream",
         "AbsoluteBurstId": 119889540,
         "AzimuthAnxTime": 2200.7459948788,
         "AzimuthTime": "2024-09-25T05:19:20.669149Z",
         "BeginningDateTime": "2024-09-25T05:19:21.824596Z",
         "BurstId": 202703,
         "ByteOffset": 1256856515,
         "ContentDate": {
          "End": "2024-09-25T05:19:25.014596Z",
          "Start": "2024-09-25T05:19:21.824596Z"
         },
         "ContentType": "application/octet-stream",
         "DatatakeID": 5216,
         "EndingDateTime": "2024-09-25T05:19:25.014596Z",
         "Footprint": "geography'SRID=4326;POLYGON ((12.089482 46.634916, 11.563369 46.69639, 11.056374 46.753309, 11.010245 46.548522, 11.516373 46.496209, 12.041638 46.439349, 12.089482 46.634916))'",
         "GeoFootprint": {
          "coordinates": [
           [
            [
             12.089482,
             46.634916
            ],
            [
             11.563369,
             46.69639
            ],
            [
             11.056374,
             46.753309
            ],
            [
             11.010245,
             46.548522
            ],
            [
             11.516373,
             46.496209
            ],
            [
             12.041638,
             46.439349
            ],
            [
             12.089482,
             46.634916
            ]
           ]
          ],
          "type": "Polygon"
         },
         "Id": "a9ca2b54-fc0a-49ea-bd06-94ab98fa4309",
         "Lines": 12200,
         "LinesPerBurst": 1525,
         "Name": "S1A-SLC-20240925T051921-202703-IW3-VV-005216",
         "OperationalMode": "IW",
         "OrbitDirection": "DESCENDING",
         "ParentProductId": "1dbda6bd-d5e3-488d-a1d9-9e8fa1ad770d",
         "ParentProductName": "S1A_IW_SLC__1SDV_20240925T051857_20240925T051924_055817_06D20A_10F5.SAFE",
         "ParentProductType": "IW_SLC__1S",
         "PlatformSerialIdentifier": "A",
         "PolarisationChannels": "VV",
         "RelativeOrbitNumber": 95,
         "S3Path": "/eodata/Sentinel-1/SAR/IW_SLC__1S/2024/09/25/S1A_IW_SLC__1SDV_20240925T051857_20240925T051924_055817_06D20A_10F5.SAFE/measurement/s1a-iw3-slc-vv-20240925t051858-20240925t051923-055817-06d20a-006.tiff",
         "SamplesPerBurst": 25753,
         "SwathIdentifier": "IW3"
        },
        {
         "@odata.mediaContentType": "application/octet-stream",
         "AbsoluteBurstId": 119889541,
         "AzimuthAnxTime": 2203.5024959983,
         "AzimuthTime": "2024-09-25T05:19:23.425650Z",
         "BeginningDateTime": "2024-09-25T05:19:24.582872Z",
         "BurstId": 202704,
         "ByteOffset": 110115,
         "ContentDate": {
          "End": "2024-09-25T05:19:27.772872Z",
          "Start": "2024-09-25T05:19:24.582872Z"
         },
         "ContentType": "application/octet-stream",
         "DatatakeID": 5216,
         "EndingDateTime": "2024-09-25T05:19:27.772872Z",
         "Footprint": "geography'SRID=4326;POLYGON ((12.049022 46.469577, 11.524545 46.531064, 11.019128 46.588009, 10.97311 46.383218, 11.477674 46.330878, 12.001315 46.274004, 12.049022 46.469577))'",
         "GeoFootprint": {
          "coordinates": [
           [
            [
             12.049022,
             46.469577
            ],
            [
             11.524545,
             46.531064
            ],
            [
             11.019128,
             46.588009
            ],
            [
             10.97311,
             46.383218
            ],
            [
             11.477674,
             46.330878
            ],
            [
             12.001315,
             46.274004
            ],
            [
             12.049022,
             46.469577
            ]
           ]
          ],
          "type": "Polygon"
         },
         "Id": "a31f30dc-5975-41f0-8a76-cf3dc6a41151",
         "Lines": 0,
         "LinesPerBurst": 1525,
         "Name": "S1A-SLC-20240925T051924-202704-IW3-VV-005216",
         "OperationalMode": "IW",
         "OrbitDirection": "DESCENDING",
         "ParentProductId": "2fab3772-d67a-4b15-8e11-c62cff5e8f5d",
         "ParentProductName": "S1A_IW_SLC__1SDV_20240925T051922_20240925T051949_055817_06D20A_BA22.SAFE",
         "ParentProductType": "IW_SLC__1S",
         "PlatformSerialIdentifier": "A",
         "PolarisationChannels": "VV",
         "RelativeOrbitNumber": 95,
         "S3Path": "/eodata/Sentinel-1/SAR/IW_SLC__1S/2024/09/25/S1A_IW_SLC__1SDV_20240925T051922_20240925T051949_055817_06D20A_BA22.SAFE/measurement/s1a-iw3-slc-vv-20240925t051923-20240925t051948-055817-06d20a-006.tiff",
         "SamplesPerBurst": 25753,
         "SwathIdentifier": "IW3"
        },
        {
         "@odata.mediaContentType": "application/octet-stream",
         "AbsoluteBurstId": 119936269,
         "AzimuthAnxTime": 753.3810286603999,
         "AzimuthTime": "2024-09-26T17:07:34.031846Z",
         "BeginningDateTime": "2024-09-26T17:07:35.059638Z",
         "BurstId": 249433,
         "ByteOffset": 640810107,
         "ContentDate": {
          "End": "2024-09-26T17:07:38.249638Z",
          "Start": "2024-09-26T17:07:35.059638Z"
         },
         "ContentType": "application/octet-stream",
         "DatatakeID": 56032,
         "EndingDateTime": "2024-09-26T17:07:38.249638Z",
         "Footprint": "geography'SRID=4326;POLYGON ((10.804564 46.276581, 11.402422 46.34791, 11.967742 46.412202, 11.920848 46.604472, 11.354552 46.535976, 10.755691 46.460429, 10.804564 46.276581))'",
         "GeoFootprint": {
          "coordinates": [
           [
            [
             10.804564,
             46.276581
            ],
            [
             11.402422,
             46.34791
            ],
            [
             11.967742,
             46.412202
            ],
            [
             11.920848,
             46.604472
            ],
            [
             11.354552,
             46.535976
            ],
            [
             10.755691,
             46.460429
            ],
            [
             10.804564,
             46.276581
            ]
           ]
          ],
          "type": "Polygon"
         },
         "Id": "a9f18ced-01dc-43d3-a6ee-dceeec22fa5e",
         "Lines": 6048,
         "LinesPerBurst": 1512,
         "Name": "S1A-SLC-20240926T170735-249433-IW2-VV-056032",
         "OperationalMode": "IW",
         "OrbitDirection": "ASCENDING",
         "ParentProductId": "d3099ddd-ac44-467c-9c26-3242bb9d5721",
         "ParentProductName": "S1A_IW_SLC__1SDV_20240926T170721_20240926T170748_055839_06D2ED_BD8F.SAFE",
         "ParentProductType": "IW_SLC__1S",
         "PlatformSerialIdentifier": "A",
         "PolarisationChannels": "VV",
         "RelativeOrbitNumber": 117,
         "S3Path": "/eodata/Sentinel-1/SAR/IW_SLC__1S/2024/09/26/S1A_IW_SLC__1SDV_20240926T170721_20240926T170748_055839_06D2ED_BD8F.SAFE/measurement/s1a-iw2-slc-vv-20240926t170723-20240926t170748-055839-06d2ed-005.tiff",
         "SamplesPerBurst": 26484,
         "SwathIdentifier": "IW2"
        },
        {
         "@odata.mediaContentType": "application/octet-stream",
         "AbsoluteBurstId": 119936270,
         "AzimuthAnxTime": 756.139585215,
         "AzimuthTime": "2024-09-26T17:07:36.790402Z",
         "BeginningDateTime": "2024-09-26T17:07:37.817915Z",
         "BurstId": 249434,
         "ByteOffset": 800985339,
         "ContentDate": {
          "End": "2024-09-26T17:07:41.007915Z",
          "Start": "2024-09-26T17:07:37.817915Z"
         },
         "ContentType": "application/octet-stream",
         "DatatakeID": 56032,
         "EndingDateTime": "2024-09-26T17:07:41.007915Z",
         "Footprint": "geography'SRID=4326;POLYGON ((10.760624 46.441904, 11.360345 46.513254, 11.927424 46.577547, 11.880394 46.76981, 11.312324 46.701311, 10.711586 46.625741, 10.760624 46.441904))'",
         "GeoFootprint": {
          "coordinates": [
           [
            [
             10.760624,
             46.441904
            ],
            [
             11.360345,
             46.513254
            ],
            [
             11.927424,
             46.577547
            ],
            [
             11.880394,
             46.76981
            ],
            [
             11.312324,
             46.701311
            ],
            [
             10.711586,
             46.625741
            ],
            [
             10.760624,
             46.441904
            ]
           ]
          ],
          "type": "Polygon"
         },
         "Id": "c04f77aa-2053-4ff6-a608-374e216133b7",
         "Lines": 7560,
         "LinesPerBurst": 1512,
         "Name": "S1A-SLC-20240926T170737-249434-IW2-VV-056032",
         "OperationalMode": "IW",
         "OrbitDirection": "ASCENDING",
         "ParentProductId": "d3099ddd-ac44-467c-9c26-3242bb9d5721",
         "ParentProductName": "S1A_IW_SLC__1SDV_20240926T170721_20240926T170748_055839_06D2ED_BD8F.SAFE",
         "ParentProductType": "IW_SLC__1S",
         "PlatformSerialIdentifier": "A",
         "PolarisationChannels": "VV",
         "RelativeOrbitNumber": 117,
         "S3Path": "/eodata/Sentinel-1/SAR/IW_SLC__1S/2024/09/26/S1A_IW_SLC__1SDV_20240926T170721_20240926T170748_055839_06D2ED_BD8F.SAFE/measurement/s1a-iw2-slc-vv-20240926t170723-20240926t170748-055839-06d2ed-005.tiff",
         "SamplesPerBurst": 26484,
         "SwathIdentifier": "IW2"
        },
        {
         "@odata.mediaContentType": "application/octet-stream",
         "AbsoluteBurstId": 120046337,
         "AzimuthAnxTime": 2196.8338374334,
         "AzimuthTime": "2024-09-30T05:27:30.752392Z",
         "BeginningDateTime": "2024-09-30T05:27:31.892542Z",
         "BurstId": 359501,
         "ByteOffset": 1109514331,
         "ContentDate": {
          "End": "2024-09-30T05:27:35.082542Z",
          "Start": "2024-09-30T05:27:31.892542Z"
         },
         "ContentType": "application/octet-stream",
         "DatatakeID": 57952,
         "EndingDateTime": "2024-09-30T05:27:35.082542Z",
         "Footprint": "geography'SRID=4326;POLYGON ((12.306189 46.586499, 11.729773 46.66502, 11.194249 46.735345, 11.139994 46.531867, 11.674696 46.466093, 12.250223 46.392142, 12.306189 46.586499))'",
         "GeoFootprint": {
          "coordinates": [
           [
            [
             12.306189,
             46.586499
            ],
            [
             11.729773,
             46.66502
            ],
            [
             11.194249,
             46.735345
            ],
            [
             11.139994,
             46.531867
            ],
            [
             11.674696,
             46.466093
            ],
            [
             12.250223,
             46.392142
            ],
            [
             12.306189,
             46.586499
            ]
           ]
          ],
          "type": "Polygon"
         },
         "Id": "bf3a1d02-1f15-4269-865d-9d5cdc840959",
         "Lines": 12064,
         "LinesPerBurst": 1508,
         "Name": "S1A-SLC-20240930T052731-359501-IW1-VV-057952",
         "OperationalMode": "IW",
         "OrbitDirection": "DESCENDING",
         "ParentProductId": "a0371162-f8c7-4df7-ac22-4e8d88b521a2",
         "ParentProductName": "S1A_IW_SLC__1SDV_20240930T052706_20240930T052733_055890_06D4F1_3CF5.SAFE",
         "ParentProductType": "IW_SLC__1S",
         "PlatformSerialIdentifier": "A",
         "PolarisationChannels": "VV",
         "RelativeOrbitNumber": 168,
         "S3Path": "/eodata/Sentinel-1/SAR/IW_SLC__1S/2024/09/30/S1A_IW_SLC__1SDV_20240930T052706_20240930T052733_055890_06D4F1_3CF5.SAFE/measurement/s1a-iw1-slc-vv-20240930t052708-20240930t052733-055890-06d4f1-004.tiff",
         "SamplesPerBurst": 22990,
         "SwathIdentifier": "IW1"
        },
        {
         "@odata.mediaContentType": "application/octet-stream",
         "AbsoluteBurstId": 120046338,
         "AzimuthAnxTime": 2199.5923941092,
         "AzimuthTime": "2024-09-30T05:27:33.510949Z",
         "BeginningDateTime": "2024-09-30T05:27:34.650818Z",
         "BurstId": 359502,
         "ByteOffset": 108891,
         "ContentDate": {
          "End": "2024-09-30T05:27:37.840818Z",
          "Start": "2024-09-30T05:27:34.650818Z"
         },
         "ContentType": "application/octet-stream",
         "DatatakeID": 57952,
         "EndingDateTime": "2024-09-30T05:27:37.840818Z",
         "Footprint": "geography'SRID=4326;POLYGON ((12.258601 46.421295, 11.684 46.499758, 11.150156 46.570046, 11.096085 46.366558, 11.629119 46.30082, 12.202845 46.226925, 12.258601 46.421295))'",
         "GeoFootprint": {
          "coordinates": [
           [
            [
             12.258601,
             46.421295
            ],
            [
             11.684,
             46.499758
            ],
            [
             11.150156,
             46.570046
            ],
            [
             11.096085,
             46.366558
            ],
            [
             11.629119,
             46.30082
            ],
            [
             12.202845,
             46.226925
            ],
            [
             12.258601,
             46.421295
            ]
           ]
          ],
          "type": "Polygon"
         },
         "Id": "c0a3be26-605c-4464-9368-007b67d616ad",
         "Lines": 0,
         "LinesPerBurst": 1508,
         "Name": "S1A-SLC-20240930T052734-359502-IW1-VV-057952",
         "OperationalMode": "IW",
         "OrbitDirection": "DESCENDING",
         "ParentProductId": "022892fe-b7a0-4c1d-a34c-bb3b117fb216",
         "ParentProductName": "S1A_IW_SLC__1SDV_20240930T052731_20240930T052758_055890_06D4F1_EBFD.SAFE",
         "ParentProductType": "IW_SLC__1S",
         "PlatformSerialIdentifier": "A",
         "PolarisationChannels": "VV",
         "RelativeOrbitNumber": 168,
         "S3Path": "/eodata/Sentinel-1/SAR/IW_SLC__1S/2024/09/30/S1A_IW_SLC__1SDV_20240930T052731_20240930T052758_055890_06D4F1_EBFD.SAFE/measurement/s1a-iw1-slc-vv-20240930t052733-20240930t052758-055890-06d4f1-004.tiff",
         "SamplesPerBurst": 22991,
         "SwathIdentifier": "IW1"
        },
        {
         "@odata.mediaContentType": "application/octet-stream",
         "AbsoluteBurstId": 123053436,
         "AzimuthAnxTime": 2196.8730134334,
         "AzimuthTime": "2025-01-04T05:27:26.054223Z",
         "BeginningDateTime": "2025-01-04T05:27:27.186152Z",
         "BurstId": 359501,
         "ByteOffset": 1109514331,
         "ContentDate": {
          "End": "2025-01-04T05:27:28.064362Z",
          "Start": "2025-01-04T05:27:27.186152Z"
         },
         "ContentType": "application/octet-stream",
         "DatatakeID": 461934,
         "EndingDateTime": "2025-01-04T05:27:28.064362Z",
         "Footprint": "geography'SRID=4326;POLYGON ((12.306189 46.586499, 11.729773 46.66502, 11.194249 46.735345, 11.139994 46.531867, 11.674696 46.466093, 12.250223 46.392142, 12.306189 46.586499))'",
         "GeoFootprint": {
          "coordinates": [
           [
            [
             12.306189,
             46.586499
            ],
            [
             11.729773,
             46.66502
            ],
            [
             11.194249,
             46.735345
            ],
            [
             11.139994,
             46.531867
            ],
            [
             11.674696,
             46.466093
            ],
            [
             12.250223,
             46.392142
            ],
            [
             12.306189,
             46.586499
            ]
           ]
          ],
          "type": "Polygon"
         },
         "Id": "e56e8f8e-7484-477c-b8dd-e2cd6f00fb22",
         "Lines": 12064,
         "LinesPerBurst": 1508,
         "Name": "S1A-SLC-20250104T052727-359501-IW1-VV-461934",
         "OperationalMode": "IW",
         "OrbitDirection": "DESCENDING",
         "ParentProductId": "d1da9144-d2cf-48f2-b345-2e3dbcee3c78",
         "ParentProductName": "S1A_IW_SLC__1SDV_20250104T052702_20250104T052729_057290_070C6E_E9C0.SAFE",
         "ParentProductType": "IW_SLC__1S",
         "PlatformSerialIdentifier": "A",
         "PolarisationChannels": "VV",
         "RelativeOrbitNumber": 168,
         "S3Path": "/eodata/Sentinel-1/SAR/IW_SLC__1S/2025/01/04/S1A_IW_SLC__1SDV_20250104T052702_20250104T052729_057290_070C6E_E9C0.SAFE/measurement/s1a-iw1-slc-vv-20250104t052703-20250104t052729-057290-070c6e-004.tiff",
         "SamplesPerBurst": 22990,
         "SwathIdentifier": "IW1"
        },
        {
         "@odata.mediaContentType": "application/octet-stream",
         "AbsoluteBurstId": 123053437,
         "AzimuthAnxTime": 2199.6315691092,
         "AzimuthTime": "2025-01-04T05:27:28.812779Z",
         "BeginningDateTime": "2025-01-04T05:27:29.944428Z",
         "BurstId": 359502,
         "ByteOffset": 108891,
         "ContentDate": {
          "End": "2025-01-04T05:27:30.822638Z",
          "Start": "2025-01-04T05:27:29.944428Z"
         },
         "ContentType": "application/octet-stream",
         "DatatakeID": 461934,
         "EndingDateTime": "2025-01-04T05:27:30.822638Z",
         "Footprint": "geography'SRID=4326;POLYGON ((12.258601 46.421295, 11.684 46.499758, 11.150156 46.570046, 11.096085 46.366558, 11.629119 46.30082, 12.202845 46.226925, 12.258601 46.421295))'",
         "GeoFootprint": {
          "coordinates": [
           [
            [
             12.258601,
             46.421295
            ],
            [
             11.684,
             46.499758
            ],
            [
             11.150156,
             46.570046
            ],
            [
             11.096085,
             46.366558
            ],
            [
             11.629119,
             46.30082
            ],
            [
             12.202845,
             46.226925
            ],
            [
             12.258601,
             46.421295
            ]
           ]
          ],
          "type": "Polygon"
         },
         "Id": "aa69de45-b388-4f81-ac53-deaa8ee6b271",
         "Lines": 0,
         "LinesPerBurst": 1508,
         "Name": "S1A-SLC-20250104T052729-359502-IW1-VV-461934",
         "OperationalMode": "IW",
         "OrbitDirection": "DESCENDING",
         "ParentProductId": "cc6f1806-9cc1-430e-8897-cbd24eb68159",
         "ParentProductName": "S1A_IW_SLC__1SDV_20250104T052726_20250104T052753_057290_070C6E_9959.SAFE",
         "ParentProductType": "IW_SLC__1S",
         "PlatformSerialIdentifier": "A",
         "PolarisationChannels": "VV",
         "RelativeOrbitNumber": 168,
         "S3Path": "/eodata/Sentinel-1/SAR/IW_SLC__1S/2025/01/04/S1A_IW_SLC__1SDV_20250104T052726_20250104T052753_057290_070C6E_9959.SAFE/measurement/s1a-iw1-slc-vv-20250104t052728-20250104t052753-057290-070c6e-004.tiff",
         "SamplesPerBurst": 22990,
         "SwathIdentifier": "IW1"
        },
        {
         "@odata.mediaContentType": "application/octet-stream",
         "AbsoluteBurstId": 123272526,
         "AzimuthAnxTime": 2200.8026694351,
         "AzimuthTime": "2025-01-11T05:19:15.967289Z",
         "BeginningDateTime": "2025-01-11T05:19:17.093974Z",
         "BurstId": 202703,
         "ByteOffset": 1256856515,
         "ContentDate": {
          "End": "2025-01-11T05:19:17.998580Z",
          "Start": "2025-01-11T05:19:17.093974Z"
         },
         "ContentType": "application/octet-stream",
         "DatatakeID": 462964,
         "EndingDateTime": "2025-01-11T05:19:17.998580Z",
         "Footprint": "geography'SRID=4326;POLYGON ((12.089482 46.634916, 11.563369 46.69639, 11.056374 46.753309, 11.010245 46.548522, 11.516373 46.496209, 12.041638 46.439349, 12.089482 46.634916))'",
         "GeoFootprint": {
          "coordinates": [
           [
            [
             12.089482,
             46.634916
            ],
            [
             11.563369,
             46.69639
            ],
            [
             11.056374,
             46.753309
            ],
            [
             11.010245,
             46.548522
            ],
            [
             11.516373,
             46.496209
            ],
            [
             12.041638,
             46.439349
            ],
            [
             12.089482,
             46.634916
            ]
           ]
          ],
          "type": "Polygon"
         },
         "Id": "15326dea-4367-4889-a495-6fd3a063e100",
         "Lines": 12200,
         "LinesPerBurst": 1525,
         "Name": "S1A-SLC-20250111T051917-202703-IW3-VV-462964",
         "OperationalMode": "IW",
         "OrbitDirection": "DESCENDING",
         "ParentProductId": "4d9b4e12-07f2-44e9-8c50-82e19dd6c6a1",
         "ParentProductName": "S1A_IW_SLC__1SDV_20250111T051852_20250111T051919_057392_071074_6FEF.SAFE",
         "ParentProductType": "IW_SLC__1S",
         "PlatformSerialIdentifier": "A",
         "PolarisationChannels": "VV",
         "RelativeOrbitNumber": 95,
         "S3Path": "/eodata/Sentinel-1/SAR/IW_SLC__1S/2025/01/11/S1A_IW_SLC__1SDV_20250111T051852_20250111T051919_057392_071074_6FEF.SAFE/measurement/s1a-iw3-slc-vv-20250111t051853-20250111t051919-057392-071074-006.tiff",
         "SamplesPerBurst": 25753,
         "SwathIdentifier": "IW3"
        },
        {
         "@odata.mediaContentType": "application/octet-stream",
         "AbsoluteBurstId": 123272527,
         "AzimuthAnxTime": 2203.5591699983,
         "AzimuthTime": "2025-01-11T05:19:18.723790Z",
         "BeginningDateTime": "2025-01-11T05:19:19.852250Z",
         "BurstId": 202704,
         "ByteOffset": 110115,
         "ContentDate": {
          "End": "2025-01-11T05:19:20.756856Z",
          "Start": "2025-01-11T05:19:19.852250Z"
         },
         "ContentType": "application/octet-stream",
         "DatatakeID": 462964,
         "EndingDateTime": "2025-01-11T05:19:20.756856Z",
         "Footprint": "geography'SRID=4326;POLYGON ((12.049022 46.469577, 11.524545 46.531064, 11.019128 46.588009, 10.97311 46.383218, 11.477674 46.330878, 12.001315 46.274004, 12.049022 46.469577))'",
         "GeoFootprint": {
          "coordinates": [
           [
            [
             12.049022,
             46.469577
            ],
            [
             11.524545,
             46.531064
            ],
            [
             11.019128,
             46.588009
            ],
            [
             10.97311,
             46.383218
            ],
            [
             11.477674,
             46.330878
            ],
            [
             12.001315,
             46.274004
            ],
            [
             12.049022,
             46.469577
            ]
           ]
          ],
          "type": "Polygon"
         },
         "Id": "8bf41893-0bbf-43c4-a01b-88c23905584f",
         "Lines": 0,
         "LinesPerBurst": 1525,
         "Name": "S1A-SLC-20250111T051919-202704-IW3-VV-462964",
         "OperationalMode": "IW",
         "OrbitDirection": "DESCENDING",
         "ParentProductId": "270ed397-fa48-47d3-868d-61c903069c2c",
         "ParentProductName": "S1A_IW_SLC__1SDV_20250111T051917_20250111T051944_057392_071074_1B3D.SAFE",
         "ParentProductType": "IW_SLC__1S",
         "PlatformSerialIdentifier": "A",
         "PolarisationChannels": "VV",
         "RelativeOrbitNumber": 95,
         "S3Path": "/eodata/Sentinel-1/SAR/IW_SLC__1S/2025/01/11/S1A_IW_SLC__1SDV_20250111T051917_20250111T051944_057392_071074_1B3D.SAFE/measurement/s1a-iw3-slc-vv-20250111t051918-20250111t051943-057392-071074-006.tiff",
         "SamplesPerBurst": 25753,
         "SwathIdentifier": "IW3"
        },
        {
         "@odata.mediaContentType": "application/octet-stream",
         "AbsoluteBurstId": 123319256,
         "AzimuthAnxTime": 753.4051543293,
         "AzimuthTime": "2025-01-12T17:07:29.123253Z",
         "BeginningDateTime": "2025-01-12T17:07:30.130485Z",
         "BurstId": 249433,
         "ByteOffset": 640810107,
         "ContentDate": {
          "End": "2025-01-12T17:07:31.172075Z",
          "Start": "2025-01-12T17:07:30.130485Z"
         },
         "ContentType": "application/octet-stream",
         "DatatakeID": 463192,
         "EndingDateTime": "2025-01-12T17:07:31.172075Z",
         "Footprint": "geography'SRID=4326;POLYGON ((10.804564 46.276581, 11.402422 46.34791, 11.967742 46.412202, 11.920848 46.604472, 11.354552 46.535976, 10.755691 46.460429, 10.804564 46.276581))'",
         "GeoFootprint": {
          "coordinates": [
           [
            [
             10.804564,
             46.276581
            ],
            [
             11.402422,
             46.34791
            ],
            [
             11.967742,
             46.412202
            ],
            [
             11.920848,
             46.604472
            ],
            [
             11.354552,
             46.535976
            ],
            [
             10.755691,
             46.460429
            ],
            [
             10.804564,
             46.276581
            ]
           ]
          ],
          "type": "Polygon"
         },
         "Id": "a0929673-23ed-4c60-b4b3-c02bea8824ea",
         "Lines": 6048,
         "LinesPerBurst": 1512,
         "Name": "S1A-SLC-20250112T170730-249433-IW2-VV-463192",
         "OperationalMode": "IW",
         "OrbitDirection": "ASCENDING",
         "ParentProductId": "b72559bc-12c3-4d0d-8812-3fc66a6139eb",
         "ParentProductName": "S1A_IW_SLC__1SDV_20250112T170716_20250112T170743_057414_071158_B31E.SAFE",
         "ParentProductType": "IW_SLC__1S",
         "PlatformSerialIdentifier": "A",
         "PolarisationChannels": "VV",
         "RelativeOrbitNumber": 117,
         "S3Path": "/eodata/Sentinel-1/SAR/IW_SLC__1S/2025/01/12/S1A_IW_SLC__1SDV_20250112T170716_20250112T170743_057414_071158_B31E.SAFE/measurement/s1a-iw2-slc-vv-20250112t170718-20250112t170743-057414-071158-005.tiff",
         "SamplesPerBurst": 26484,
         "SwathIdentifier": "IW2"
        },
        {
         "@odata.mediaContentType": "application/octet-stream",
         "AbsoluteBurstId": 123319257,
         "AzimuthAnxTime": 756.1637108839,
         "AzimuthTime": "2025-01-12T17:07:31.881810Z",
         "BeginningDateTime": "2025-01-12T17:07:32.888762Z",
         "BurstId": 249434,
         "ByteOffset": 800985339,
         "ContentDate": {
          "End": "2025-01-12T17:07:33.930352Z",
          "Start": "2025-01-12T17:07:32.888762Z"
         },
         "ContentType": "application/octet-stream",
         "DatatakeID": 463192,
         "EndingDateTime": "2025-01-12T17:07:33.930352Z",
         "Footprint": "geography'SRID=4326;POLYGON ((10.760624 46.441904, 11.360345 46.513254, 11.927424 46.577547, 11.880394 46.76981, 11.312324 46.701311, 10.711586 46.625741, 10.760624 46.441904))'",
         "GeoFootprint": {
          "coordinates": [
           [
            [
             10.760624,
             46.441904
            ],
            [
             11.360345,
             46.513254
            ],
            [
             11.927424,
             46.577547
            ],
            [
             11.880394,
             46.76981
            ],
            [
             11.312324,
             46.701311
            ],
            [
             10.711586,
             46.625741
            ],
            [
             10.760624,
             46.441904
            ]
           ]
          ],
          "type": "Polygon"
         },
         "Id": "d3c833fd-2c97-4672-b9b6-92e9af93ea40",
         "Lines": 7560,
         "LinesPerBurst": 1512,
         "Name": "S1A-SLC-20250112T170732-249434-IW2-VV-463192",
         "OperationalMode": "IW",
         "OrbitDirection": "ASCENDING",
         "ParentProductId": "b72559bc-12c3-4d0d-8812-3fc66a6139eb",
         "ParentProductName": "S1A_IW_SLC__1SDV_20250112T170716_20250112T170743_057414_071158_B31E.SAFE",
         "ParentProductType": "IW_SLC__1S",
         "PlatformSerialIdentifier": "A",
         "PolarisationChannels": "VV",
         "RelativeOrbitNumber": 117,
         "S3Path": "/eodata/Sentinel-1/SAR/IW_SLC__1S/2025/01/12/S1A_IW_SLC__1SDV_20250112T170716_20250112T170743_057414_071158_B31E.SAFE/measurement/s1a-iw2-slc-vv-20250112t170718-20250112t170743-057414-071158-005.tiff",
         "SamplesPerBurst": 26484,
         "SwathIdentifier": "IW2"
        },
        {
         "@odata.mediaContentType": "application/octet-stream",
         "AbsoluteBurstId": 123429323,
         "AzimuthAnxTime": 2196.8698164334,
         "AzimuthTime": "2025-01-16T05:27:25.174427Z",
         "BeginningDateTime": "2025-01-16T05:27:26.304301Z",
         "BurstId": 359501,
         "ByteOffset": 1109514331,
         "ContentDate": {
          "End": "2025-01-16T05:27:27.182511Z",
          "Start": "2025-01-16T05:27:26.304301Z"
         },
         "ContentType": "application/octet-stream",
         "DatatakeID": 463703,
         "EndingDateTime": "2025-01-16T05:27:27.182511Z",
         "Footprint": "geography'SRID=4326;POLYGON ((12.306189 46.586499, 11.729773 46.66502, 11.194249 46.735345, 11.139994 46.531867, 11.674696 46.466093, 12.250223 46.392142, 12.306189 46.586499))'",
         "GeoFootprint": {
          "coordinates": [
           [
            [
             12.306189,
             46.586499
            ],
            [
             11.729773,
             46.66502
            ],
            [
             11.194249,
             46.735345
            ],
            [
             11.139994,
             46.531867
            ],
            [
             11.674696,
             46.466093
            ],
            [
             12.250223,
             46.392142
            ],
            [
             12.306189,
             46.586499
            ]
           ]
          ],
          "type": "Polygon"
         },
         "Id": "4708a722-c033-4800-99bd-61790d8eb4ab",
         "Lines": 12064,
         "LinesPerBurst": 1508,
         "Name": "S1A-SLC-20250116T052726-359501-IW1-VV-463703",
         "OperationalMode": "IW",
         "OrbitDirection": "DESCENDING",
         "ParentProductId": "4b1b2a7b-48bd-4d89-8e0e-57dc6d6d006a",
         "ParentProductName": "S1A_IW_SLC__1SDV_20250116T052701_20250116T052728_057465_071357_3BCE.SAFE",
         "ParentProductType": "IW_SLC__1S",
         "PlatformSerialIdentifier": "A",
         "PolarisationChannels": "VV",
         "RelativeOrbitNumber": 168,
         "S3Path": "/eodata/Sentinel-1/SAR/IW_SLC__1S/2025/01/16/S1A_IW_SLC__1SDV_20250116T052701_20250116T052728_057465_071357_3BCE.SAFE/measurement/s1a-iw1-slc-vv-20250116t052703-20250116t052728-057465-071357-004.tiff",
         "SamplesPerBurst": 22990,
         "SwathIdentifier": "IW1"
        },
        {
         "@odata.mediaContentType": "application/octet-stream",
         "AbsoluteBurstId": 123429324,
         "AzimuthAnxTime": 2199.6283731092,
         "AzimuthTime": "2025-01-16T05:27:27.932984Z",
         "BeginningDateTime": "2025-01-16T05:27:29.062577Z",
         "BurstId": 359502,
         "ByteOffset": 108891,
         "ContentDate": {
          "End": "2025-01-16T05:27:29.940787Z",
          "Start": "2025-01-16T05:27:29.062577Z"
         },
         "ContentType": "application/octet-stream",
         "DatatakeID": 463703,
         "EndingDateTime": "2025-01-16T05:27:29.940787Z",
         "Footprint": "geography'SRID=4326;POLYGON ((12.258601 46.421295, 11.684 46.499758, 11.150156 46.570046, 11.096085 46.366558, 11.629119 46.30082, 12.202845 46.226925, 12.258601 46.421295))'",
         "GeoFootprint": {
          "coordinates": [
           [
            [
             12.258601,
             46.421295
            ],
            [
             11.684,
             46.499758
            ],
            [
             11.150156,
             46.570046
            ],
            [
             11.096085,
             46.366558
            ],
            [
             11.629119,
             46.30082
            ],
            [
             12.202845,
             46.226925
            ],
            [
             12.258601,
             46.421295
            ]
           ]
          ],
          "type": "Polygon"
         },
         "Id": "c708774e-8dfc-4578-9412-cee2fb7c8bfb",
         "Lines": 0,
         "LinesPerBurst": 1508,
         "Name": "S1A-SLC-20250116T052729-359502-IW1-VV-463703",
         "OperationalMode": "IW",
         "OrbitDirection": "DESCENDING",
         "ParentProductId": "85e2e078-9e7d-45f9-8993-53fe418dd775",
         "ParentProductName": "S1A_IW_SLC__1SDV_20250116T052726_20250116T052753_057465_071357_05E1.SAFE",
         "ParentProductType": "IW_SLC__1S",
         "PlatformSerialIdentifier": "A",
         "PolarisationChannels": "VV",
         "RelativeOrbitNumber": 168,
         "S3Path": "/eodata/Sentinel-1/SAR/IW_SLC__1S/2025/01/16/S1A_IW_SLC__1SDV_20250116T052726_20250116T052753_057465_071357_05E1.SAFE/measurement/s1a-iw1-slc-vv-20250116t052727-20250116t052753-057465-071357-004.tiff",
         "SamplesPerBurst": 22990,
         "SwathIdentifier": "IW1"
        },
        {
         "@odata.mediaContentType": "application/octet-stream",
         "AbsoluteBurstId": 123648413,
         "AzimuthAnxTime": 2200.7877979914,
         "AzimuthTime": "2025-01-23T05:19:15.060837Z",
         "BeginningDateTime": "2025-01-23T05:19:16.199840Z",
         "BurstId": 202703,
         "ByteOffset": 1256856515,
         "ContentDate": {
          "End": "2025-01-23T05:19:17.104446Z",
          "Start": "2025-01-23T05:19:16.199840Z"
         },
         "ContentType": "application/octet-stream",
         "DatatakeID": 464743,
         "EndingDateTime": "2025-01-23T05:19:17.104446Z",
         "Footprint": "geography'SRID=4326;POLYGON ((12.089482 46.634916, 11.563369 46.69639, 11.056374 46.753309, 11.010245 46.548522, 11.516373 46.496209, 12.041638 46.439349, 12.089482 46.634916))'",
         "GeoFootprint": {
          "coordinates": [
           [
            [
             12.089482,
             46.634916
            ],
            [
             11.563369,
             46.69639
            ],
            [
             11.056374,
             46.753309
            ],
            [
             11.010245,
             46.548522
            ],
            [
             11.516373,
             46.496209
            ],
            [
             12.041638,
             46.439349
            ],
            [
             12.089482,
             46.634916
            ]
           ]
          ],
          "type": "Polygon"
         },
         "Id": "fdffed5a-9961-4cfc-a258-4f9cf1727548",
         "Lines": 12200,
         "LinesPerBurst": 1525,
         "Name": "S1A-SLC-20250123T051916-202703-IW3-VV-464743",
         "OperationalMode": "IW",
         "OrbitDirection": "DESCENDING",
         "ParentProductId": "020f04ca-926a-4fc2-aab8-cd420b17c6fa",
         "ParentProductName": "S1A_IW_SLC__1SDV_20250123T051852_20250123T051919_057567_071767_6BF7.SAFE",
         "ParentProductType": "IW_SLC__1S",
         "PlatformSerialIdentifier": "A",
         "PolarisationChannels": "VV",
         "RelativeOrbitNumber": 95,
         "S3Path": "/eodata/Sentinel-1/SAR/IW_SLC__1S/2025/01/23/S1A_IW_SLC__1SDV_20250123T051852_20250123T051919_057567_071767_6BF7.SAFE/measurement/s1a-iw3-slc-vv-20250123t051852-20250123t051918-057567-071767-006.tiff",
         "SamplesPerBurst": 25753,
         "SwathIdentifier": "IW3"
        },
        {
         "@odata.mediaContentType": "application/octet-stream",
         "AbsoluteBurstId": 123648414,
         "AzimuthAnxTime": 2203.5442989983,
         "AzimuthTime": "2025-01-23T05:19:17.817338Z",
         "BeginningDateTime": "2025-01-23T05:19:18.958116Z",
         "BurstId": 202704,
         "ByteOffset": 110115,
         "ContentDate": {
          "End": "2025-01-23T05:19:19.862722Z",
          "Start": "2025-01-23T05:19:18.958116Z"
         },
         "ContentType": "application/octet-stream",
         "DatatakeID": 464743,
         "EndingDateTime": "2025-01-23T05:19:19.862722Z",
         "Footprint": "geography'SRID=4326;POLYGON ((12.049022 46.469577, 11.524545 46.531064, 11.019128 46.588009, 10.97311 46.383218, 11.477674 46.330878, 12.001315 46.274004, 12.049022 46.469577))'",
         "GeoFootprint": {
          "coordinates": [
           [
            [
             12.049022,
             46.469577
            ],
            [
             11.524545,
             46.531064
            ],
            [
             11.019128,
             46.588009
            ],
            [
             10.97311,
             46.383218
            ],
            [
             11.477674,
             46.330878
            ],
            [
             12.001315,
             46.274004
            ],
            [
             12.049022,
             46.469577
            ]
           ]
          ],
          "type": "Polygon"
         },
         "Id": "e506e922-18ff-42fd-a7f9-d43cd7fb306d",
         "Lines": 0,
         "LinesPerBurst": 1525,
         "Name": "S1A-SLC-20250123T051918-202704-IW3-VV-464743",
         "OperationalMode": "IW",
         "OrbitDirection": "DESCENDING",
         "ParentProductId": "6eac70cf-74e8-4fac-8f8b-71c9384d1f1e",
         "ParentProductName": "S1A_IW_SLC__1SDV_20250123T051916_20250123T051943_057567_071767_F3FA.SAFE",
         "ParentProductType": "IW_SLC__1S",
         "PlatformSerialIdentifier": "A",
         "PolarisationChannels": "VV",
         "RelativeOrbitNumber": 95,
         "S3Path": "/eodata/Sentinel-1/SAR/IW_SLC__1S/2025/01/23/S1A_IW_SLC__1SDV_20250123T051916_20250123T051943_057567_071767_F3FA.SAFE/measurement/s1a-iw3-slc-vv-20250123t051917-20250123t051943-057567-071767-006.tiff",
         "SamplesPerBurst": 25753,
         "SwathIdentifier": "IW3"
        },
        {
         "@odata.mediaContentType": "application/octet-stream",
         "AbsoluteBurstId": 123695143,
         "AzimuthAnxTime": 753.4013428856001,
         "AzimuthTime": "2025-01-24T17:07:28.275204Z",
         "BeginningDateTime": "2025-01-24T17:07:29.284492Z",
         "BurstId": 249433,
         "ByteOffset": 640810107,
         "ContentDate": {
          "End": "2025-01-24T17:07:30.326082Z",
          "Start": "2025-01-24T17:07:29.284492Z"
         },
         "ContentType": "application/octet-stream",
         "DatatakeID": 464973,
         "EndingDateTime": "2025-01-24T17:07:30.326082Z",
         "Footprint": "geography'SRID=4326;POLYGON ((10.804564 46.276581, 11.402422 46.34791, 11.967742 46.412202, 11.920848 46.604472, 11.354552 46.535976, 10.755691 46.460429, 10.804564 46.276581))'",
         "GeoFootprint": {
          "coordinates": [
           [
            [
             10.804564,
             46.276581
            ],
            [
             11.402422,
             46.34791
            ],
            [
             11.967742,
             46.412202
            ],
            [
             11.920848,
             46.604472
            ],
            [
             11.354552,
             46.535976
            ],
            [
             10.755691,
             46.460429
            ],
            [
             10.804564,
             46.276581
            ]
           ]
          ],
          "type": "Polygon"
         },
         "Id": "fbf21a0b-90cf-4722-8865-4335097bbf90",
         "Lines": 6048,
         "LinesPerBurst": 1512,
         "Name": "S1A-SLC-20250124T170729-249433-IW2-VV-464973",
         "OperationalMode": "IW",
         "OrbitDirection": "ASCENDING",
         "ParentProductId": "67ec9a8e-f865-43a1-ad0f-aa43b5f18957",
         "ParentProductName": "S1A_IW_SLC__1SDV_20250124T170715_20250124T170742_057589_07184D_DE00.SAFE",
         "ParentProductType": "IW_SLC__1S",
         "PlatformSerialIdentifier": "A",
         "PolarisationChannels": "VV",
         "RelativeOrbitNumber": 117,
         "S3Path": "/eodata/Sentinel-1/SAR/IW_SLC__1S/2025/01/24/S1A_IW_SLC__1SDV_20250124T170715_20250124T170742_057589_07184D_DE00.SAFE/measurement/s1a-iw2-slc-vv-20250124t170717-20250124t170742-057589-07184d-005.tiff",
         "SamplesPerBurst": 26484,
         "SwathIdentifier": "IW2"
        },
        {
         "@odata.mediaContentType": "application/octet-stream",
         "AbsoluteBurstId": 123695144,
         "AzimuthAnxTime": 756.1598994402,
         "AzimuthTime": "2025-01-24T17:07:31.033760Z",
         "BeginningDateTime": "2025-01-24T17:07:32.042769Z",
         "BurstId": 249434,
         "ByteOffset": 800985339,
         "ContentDate": {
          "End": "2025-01-24T17:07:33.084359Z",
          "Start": "2025-01-24T17:07:32.042769Z"
         },
         "ContentType": "application/octet-stream",
         "DatatakeID": 464973,
         "EndingDateTime": "2025-01-24T17:07:33.084359Z",
         "Footprint": "geography'SRID=4326;POLYGON ((10.760624 46.441904, 11.360345 46.513254, 11.927424 46.577547, 11.880394 46.76981, 11.312324 46.701311, 10.711586 46.625741, 10.760624 46.441904))'",
         "GeoFootprint": {
          "coordinates": [
           [
            [
             10.760624,
             46.441904
            ],
            [
             11.360345,
             46.513254
            ],
            [
             11.927424,
             46.577547
            ],
            [
             11.880394,
             46.76981
            ],
            [
             11.312324,
             46.701311
            ],
            [
             10.711586,
             46.625741
            ],
            [
             10.760624,
             46.441904
            ]
           ]
          ],
          "type": "Polygon"
         },
         "Id": "f134b4ce-ccd8-4436-99a7-d91f66eb2c9f",
         "Lines": 7560,
         "LinesPerBurst": 1512,
         "Name": "S1A-SLC-20250124T170732-249434-IW2-VV-464973",
         "OperationalMode": "IW",
         "OrbitDirection": "ASCENDING",
         "ParentProductId": "67ec9a8e-f865-43a1-ad0f-aa43b5f18957",
         "ParentProductName": "S1A_IW_SLC__1SDV_20250124T170715_20250124T170742_057589_07184D_DE00.SAFE",
         "ParentProductType": "IW_SLC__1S",
         "PlatformSerialIdentifier": "A",
         "PolarisationChannels": "VV",
         "RelativeOrbitNumber": 117,
         "S3Path": "/eodata/Sentinel-1/SAR/IW_SLC__1S/2025/01/24/S1A_IW_SLC__1SDV_20250124T170715_20250124T170742_057589_07184D_DE00.SAFE/measurement/s1a-iw2-slc-vv-20250124t170717-20250124t170742-057589-07184d-005.tiff",
         "SamplesPerBurst": 26484,
         "SwathIdentifier": "IW2"
        },
        {
         "@odata.mediaContentType": "application/octet-stream",
         "AbsoluteBurstId": 123805211,
         "AzimuthAnxTime": 2196.865239546,
         "AzimuthTime": "2025-01-28T05:27:24.672776Z",
         "BeginningDateTime": "2025-01-28T05:27:25.800608Z",
         "BurstId": 359501,
         "ByteOffset": 1109514331,
         "ContentDate": {
          "End": "2025-01-28T05:27:26.678818Z",
          "Start": "2025-01-28T05:27:25.800608Z"
         },
         "ContentType": "application/octet-stream",
         "DatatakeID": 465491,
         "EndingDateTime": "2025-01-28T05:27:26.678818Z",
         "Footprint": "geography'SRID=4326;POLYGON ((12.306189 46.586499, 11.729773 46.66502, 11.194249 46.735345, 11.139994 46.531867, 11.674696 46.466093, 12.250223 46.392142, 12.306189 46.586499))'",
         "GeoFootprint": {
          "coordinates": [
           [
            [
             12.306189,
             46.586499
            ],
            [
             11.729773,
             46.66502
            ],
            [
             11.194249,
             46.735345
            ],
            [
             11.139994,
             46.531867
            ],
            [
             11.674696,
             46.466093
            ],
            [
             12.250223,
             46.392142
            ],
            [
             12.306189,
             46.586499
            ]
           ]
          ],
          "type": "Polygon"
         },
         "Id": "8c0a5e4c-606c-422e-8328-a4df2393e7db",
         "Lines": 12064,
         "LinesPerBurst": 1508,
         "Name": "S1A-SLC-20250128T052725-359501-IW1-VV-465491",
         "OperationalMode": "IW",
         "OrbitDirection": "DESCENDING",
         "ParentProductId": "18782a59-e548-4759-8a65-a99160763bf8",
         "ParentProductName": "S1A_IW_SLC__1SDV_20250128T052700_20250128T052727_057640_071A53_6589.SAFE",
         "ParentProductType": "IW_SLC__1S",
         "PlatformSerialIdentifier": "A",
         "PolarisationChannels": "VV",
         "RelativeOrbitNumber": 168,
         "S3Path": "/eodata/Sentinel-1/SAR/IW_SLC__1S/2025/01/28/S1A_IW_SLC__1SDV_20250128T052700_20250128T052727_057640_071A53_6589.SAFE/measurement/s1a-iw1-slc-vv-20250128t052702-20250128t052727-057640-071a53-004.tiff",
         "SamplesPerBurst": 22990,
         "SwathIdentifier": "IW1"
        },
        {
         "@odata.mediaContentType": "application/octet-stream",
         "AbsoluteBurstId": 123805212,
         "AzimuthAnxTime": 2199.6237956655,
         "AzimuthTime": "2025-01-28T05:27:27.431332Z",
         "BeginningDateTime": "2025-01-28T05:27:28.558884Z",
         "BurstId": 359502,
         "ByteOffset": 108891,
         "ContentDate": {
          "End": "2025-01-28T05:27:29.437094Z",
          "Start": "2025-01-28T05:27:28.558884Z"
         },
         "ContentType": "application/octet-stream",
         "DatatakeID": 465491,
         "EndingDateTime": "2025-01-28T05:27:29.437094Z",
         "Footprint": "geography'SRID=4326;POLYGON ((12.258601 46.421295, 11.684 46.499758, 11.150156 46.570046, 11.096085 46.366558, 11.629119 46.30082, 12.202845 46.226925, 12.258601 46.421295))'",
         "GeoFootprint": {
          "coordinates": [
           [
            [
             12.258601,
             46.421295
            ],
            [
             11.684,
             46.499758
            ],
            [
             11.150156,
             46.570046
            ],
            [
             11.096085,
             46.366558
            ],
            [
             11.629119,
             46.30082
            ],
            [
             12.202845,
             46.226925
            ],
            [
             12.258601,
             46.421295
            ]
           ]
          ],
          "type": "Polygon"
         },
         "Id": "c532488e-2499-4069-a993-d783e69270c9",
         "Lines": 0,
         "LinesPerBurst": 1508,
         "Name": "S1A-SLC-20250128T052728-359502-IW1-VV-465491",
         "OperationalMode": "IW",
         "OrbitDirection": "DESCENDING",
         "ParentProductId": "1b035bab-9917-4508-a0d6-bd692d3ef28f",
         "ParentProductName": "S1A_IW_SLC__1SDV_20250128T052725_20250128T052752_057640_071A53_7DC1.SAFE",
         "ParentProductType": "IW_SLC__1S",
         "PlatformSerialIdentifier": "A",
         "PolarisationChannels": "VV",
         "RelativeOrbitNumber": 168,
         "S3Path": "/eodata/Sentinel-1/SAR/IW_SLC__1S/2025/01/28/S1A_IW_SLC__1SDV_20250128T052725_20250128T052752_057640_071A53_7DC1.SAFE/measurement/s1a-iw1-slc-vv-20250128t052727-20250128t052752-057640-071a53-004.tiff",
         "SamplesPerBurst": 22990,
         "SwathIdentifier": "IW1"
        },
        {
         "@odata.mediaContentType": "application/octet-stream",
         "AbsoluteBurstId": 120265427,
         "AzimuthAnxTime": 2200.7548119914,
         "AzimuthTime": "2024-10-07T05:19:21.627635Z",
         "BeginningDateTime": "2024-10-07T05:19:22.770748Z",
         "BurstId": 202703,
         "ByteOffset": 1256856515,
         "ContentDate": {
          "End": "2024-10-07T05:19:25.960748Z",
          "Start": "2024-10-07T05:19:22.770748Z"
         },
         "ContentType": "application/octet-stream",
         "DatatakeID": 57408,
         "EndingDateTime": "2024-10-07T05:19:25.960748Z",
         "Footprint": "geography'SRID=4326;POLYGON ((12.089482 46.634916, 11.563369 46.69639, 11.056374 46.753309, 11.010245 46.548522, 11.516373 46.496209, 12.041638 46.439349, 12.089482 46.634916))'",
         "GeoFootprint": {
          "coordinates": [
           [
            [
             12.089482,
             46.634916
            ],
            [
             11.563369,
             46.69639
            ],
            [
             11.056374,
             46.753309
            ],
            [
             11.010245,
             46.548522
            ],
            [
             11.516373,
             46.496209
            ],
            [
             12.041638,
             46.439349
            ],
            [
             12.089482,
             46.634916
            ]
           ]
          ],
          "type": "Polygon"
         },
         "Id": "aaba1cb9-3d6e-40bd-ad15-c7e1011d0068",
         "Lines": 12200,
         "LinesPerBurst": 1525,
         "Name": "S1A-SLC-20241007T051922-202703-IW3-VV-057408",
         "OperationalMode": "IW",
         "OrbitDirection": "DESCENDING",
         "ParentProductId": "39c03d4b-8afb-4a0b-ad70-1c204593e67c",
         "ParentProductName": "S1A_IW_SLC__1SDV_20241007T051858_20241007T051925_055992_06D8F0_B9EE.SAFE",
         "ParentProductType": "IW_SLC__1S",
         "PlatformSerialIdentifier": "A",
         "PolarisationChannels": "VV",
         "RelativeOrbitNumber": 95,
         "S3Path": "/eodata/Sentinel-1/SAR/IW_SLC__1S/2024/10/07/S1A_IW_SLC__1SDV_20241007T051858_20241007T051925_055992_06D8F0_B9EE.SAFE/measurement/s1a-iw3-slc-vv-20241007t051859-20241007t051924-055992-06d8f0-006.tiff",
         "SamplesPerBurst": 25753,
         "SwathIdentifier": "IW3"
        },
        {
         "@odata.mediaContentType": "application/octet-stream",
         "AbsoluteBurstId": 120265428,
         "AzimuthAnxTime": 2203.5113129983,
         "AzimuthTime": "2024-10-07T05:19:24.384136Z",
         "BeginningDateTime": "2024-10-07T05:19:25.529024Z",
         "BurstId": 202704,
         "ByteOffset": 110115,
         "ContentDate": {
          "End": "2024-10-07T05:19:28.719024Z",
          "Start": "2024-10-07T05:19:25.529024Z"
         },
         "ContentType": "application/octet-stream",
         "DatatakeID": 57408,
         "EndingDateTime": "2024-10-07T05:19:28.719024Z",
         "Footprint": "geography'SRID=4326;POLYGON ((12.049022 46.469577, 11.524545 46.531064, 11.019128 46.588009, 10.97311 46.383218, 11.477674 46.330878, 12.001315 46.274004, 12.049022 46.469577))'",
         "GeoFootprint": {
          "coordinates": [
           [
            [
             12.049022,
             46.469577
            ],
            [
             11.524545,
             46.531064
            ],
            [
             11.019128,
             46.588009
            ],
            [
             10.97311,
             46.383218
            ],
            [
             11.477674,
             46.330878
            ],
            [
             12.001315,
             46.274004
            ],
            [
             12.049022,
             46.469577
            ]
           ]
          ],
          "type": "Polygon"
         },
         "Id": "b87f94d9-0512-4198-9cd4-ba2fd180e3a8",
         "Lines": 0,
         "LinesPerBurst": 1525,
         "Name": "S1A-SLC-20241007T051925-202704-IW3-VV-057408",
         "OperationalMode": "IW",
         "OrbitDirection": "DESCENDING",
         "ParentProductId": "aafbf96a-3708-41c2-ba70-cd92c13beb26",
         "ParentProductName": "S1A_IW_SLC__1SDV_20241007T051923_20241007T051950_055992_06D8F0_BD36.SAFE",
         "ParentProductType": "IW_SLC__1S",
         "PlatformSerialIdentifier": "A",
         "PolarisationChannels": "VV",
         "RelativeOrbitNumber": 95,
         "S3Path": "/eodata/Sentinel-1/SAR/IW_SLC__1S/2024/10/07/S1A_IW_SLC__1SDV_20241007T051923_20241007T051950_055992_06D8F0_BD36.SAFE/measurement/s1a-iw3-slc-vv-20241007t051924-20241007t051949-055992-06d8f0-006.tiff",
         "SamplesPerBurst": 25753,
         "SwathIdentifier": "IW3"
        },
        {
         "@odata.mediaContentType": "application/octet-stream",
         "AbsoluteBurstId": 120312157,
         "AzimuthAnxTime": 753.3821013293,
         "AzimuthTime": "2024-10-08T17:07:35.005379Z",
         "BeginningDateTime": "2024-10-08T17:07:36.029044Z",
         "BurstId": 249433,
         "ByteOffset": 640810107,
         "ContentDate": {
          "End": "2024-10-08T17:07:39.219044Z",
          "Start": "2024-10-08T17:07:36.029044Z"
         },
         "ContentType": "application/octet-stream",
         "DatatakeID": 42688,
         "EndingDateTime": "2024-10-08T17:07:39.219044Z",
         "Footprint": "geography'SRID=4326;POLYGON ((10.804564 46.276581, 11.402422 46.34791, 11.967742 46.412202, 11.920848 46.604472, 11.354552 46.535976, 10.755691 46.460429, 10.804564 46.276581))'",
         "GeoFootprint": {
          "coordinates": [
           [
            [
             10.804564,
             46.276581
            ],
            [
             11.402422,
             46.34791
            ],
            [
             11.967742,
             46.412202
            ],
            [
             11.920848,
             46.604472
            ],
            [
             11.354552,
             46.535976
            ],
            [
             10.755691,
             46.460429
            ],
            [
             10.804564,
             46.276581
            ]
           ]
          ],
          "type": "Polygon"
         },
         "Id": "58577eb2-3e7f-4650-9036-a3d23229e4fc",
         "Lines": 6048,
         "LinesPerBurst": 1512,
         "Name": "S1A-SLC-20241008T170736-249433-IW2-VV-042688",
         "OperationalMode": "IW",
         "OrbitDirection": "ASCENDING",
         "ParentProductId": "cd70dfb2-7d21-4104-b10c-57d20338ad19",
         "ParentProductName": "S1A_IW_SLC__1SDV_20241008T170722_20241008T170749_056014_06D9D3_B5FB.SAFE",
         "ParentProductType": "IW_SLC__1S",
         "PlatformSerialIdentifier": "A",
         "PolarisationChannels": "VV",
         "RelativeOrbitNumber": 117,
         "S3Path": "/eodata/Sentinel-1/SAR/IW_SLC__1S/2024/10/08/S1A_IW_SLC__1SDV_20241008T170722_20241008T170749_056014_06D9D3_B5FB.SAFE/measurement/s1a-iw2-slc-vv-20241008t170723-20241008t170749-056014-06d9d3-005.tiff",
         "SamplesPerBurst": 26484,
         "SwathIdentifier": "IW2"
        },
        {
         "@odata.mediaContentType": "application/octet-stream",
         "AbsoluteBurstId": 120312158,
         "AzimuthAnxTime": 756.1386023276,
         "AzimuthTime": "2024-10-08T17:07:37.761880Z",
         "BeginningDateTime": "2024-10-08T17:07:38.787321Z",
         "BurstId": 249434,
         "ByteOffset": 800985339,
         "ContentDate": {
          "End": "2024-10-08T17:07:41.977321Z",
          "Start": "2024-10-08T17:07:38.787321Z"
         },
         "ContentType": "application/octet-stream",
         "DatatakeID": 42688,
         "EndingDateTime": "2024-10-08T17:07:41.977321Z",
         "Footprint": "geography'SRID=4326;POLYGON ((10.760624 46.441904, 11.360345 46.513254, 11.927424 46.577547, 11.880394 46.76981, 11.312324 46.701311, 10.711586 46.625741, 10.760624 46.441904))'",
         "GeoFootprint": {
          "coordinates": [
           [
            [
             10.760624,
             46.441904
            ],
            [
             11.360345,
             46.513254
            ],
            [
             11.927424,
             46.577547
            ],
            [
             11.880394,
             46.76981
            ],
            [
             11.312324,
             46.701311
            ],
            [
             10.711586,
             46.625741
            ],
            [
             10.760624,
             46.441904
            ]
           ]
          ],
          "type": "Polygon"
         },
         "Id": "5ec182a5-f071-4055-a2c8-6875943c64af",
         "Lines": 7560,
         "LinesPerBurst": 1512,
         "Name": "S1A-SLC-20241008T170738-249434-IW2-VV-042688",
         "OperationalMode": "IW",
         "OrbitDirection": "ASCENDING",
         "ParentProductId": "cd70dfb2-7d21-4104-b10c-57d20338ad19",
         "ParentProductName": "S1A_IW_SLC__1SDV_20241008T170722_20241008T170749_056014_06D9D3_B5FB.SAFE",
         "ParentProductType": "IW_SLC__1S",
         "PlatformSerialIdentifier": "A",
         "PolarisationChannels": "VV",
         "RelativeOrbitNumber": 117,
         "S3Path": "/eodata/Sentinel-1/SAR/IW_SLC__1S/2024/10/08/S1A_IW_SLC__1SDV_20241008T170722_20241008T170749_056014_06D9D3_B5FB.SAFE/measurement/s1a-iw2-slc-vv-20241008t170723-20241008t170749-056014-06d9d3-005.tiff",
         "SamplesPerBurst": 26484,
         "SwathIdentifier": "IW2"
        },
        {
         "@odata.mediaContentType": "application/octet-stream",
         "AbsoluteBurstId": 120422224,
         "AzimuthAnxTime": 2196.8334469897,
         "AzimuthTime": "2024-10-12T05:27:30.713260Z",
         "BeginningDateTime": "2024-10-12T05:27:31.849299Z",
         "BurstId": 359501,
         "ByteOffset": 1109514331,
         "ContentDate": {
          "End": "2024-10-12T05:27:35.039299Z",
          "Start": "2024-10-12T05:27:31.849299Z"
         },
         "ContentType": "application/octet-stream",
         "DatatakeID": 43072,
         "EndingDateTime": "2024-10-12T05:27:35.039299Z",
         "Footprint": "geography'SRID=4326;POLYGON ((12.306189 46.586499, 11.729773 46.66502, 11.194249 46.735345, 11.139994 46.531867, 11.674696 46.466093, 12.250223 46.392142, 12.306189 46.586499))'",
         "GeoFootprint": {
          "coordinates": [
           [
            [
             12.306189,
             46.586499
            ],
            [
             11.729773,
             46.66502
            ],
            [
             11.194249,
             46.735345
            ],
            [
             11.139994,
             46.531867
            ],
            [
             11.674696,
             46.466093
            ],
            [
             12.250223,
             46.392142
            ],
            [
             12.306189,
             46.586499
            ]
           ]
          ],
          "type": "Polygon"
         },
         "Id": "78387300-2faf-449b-910c-dba6b6057553",
         "Lines": 12064,
         "LinesPerBurst": 1508,
         "Name": "S1A-SLC-20241012T052731-359501-IW1-VV-043072",
         "OperationalMode": "IW",
         "OrbitDirection": "DESCENDING",
         "ParentProductId": "ca3594c4-87ed-4afd-9404-2c061a570909",
         "ParentProductName": "S1A_IW_SLC__1SDV_20241012T052706_20241012T052733_056065_06DBD4_0019.SAFE",
         "ParentProductType": "IW_SLC__1S",
         "PlatformSerialIdentifier": "A",
         "PolarisationChannels": "VV",
         "RelativeOrbitNumber": 168,
         "S3Path": "/eodata/Sentinel-1/SAR/IW_SLC__1S/2024/10/12/S1A_IW_SLC__1SDV_20241012T052706_20241012T052733_056065_06DBD4_0019.SAFE/measurement/s1a-iw1-slc-vv-20241012t052708-20241012t052733-056065-06dbd4-004.tiff",
         "SamplesPerBurst": 22990,
         "SwathIdentifier": "IW1"
        },
        {
         "@odata.mediaContentType": "application/octet-stream",
         "AbsoluteBurstId": 120422225,
         "AzimuthAnxTime": 2199.5920031092,
         "AzimuthTime": "2024-10-12T05:27:33.471816Z",
         "BeginningDateTime": "2024-10-12T05:27:34.607575Z",
         "BurstId": 359502,
         "ByteOffset": 108891,
         "ContentDate": {
          "End": "2024-10-12T05:27:37.797575Z",
          "Start": "2024-10-12T05:27:34.607575Z"
         },
         "ContentType": "application/octet-stream",
         "DatatakeID": 43072,
         "EndingDateTime": "2024-10-12T05:27:37.797575Z",
         "Footprint": "geography'SRID=4326;POLYGON ((12.258601 46.421295, 11.684 46.499758, 11.150156 46.570046, 11.096085 46.366558, 11.629119 46.30082, 12.202845 46.226925, 12.258601 46.421295))'",
         "GeoFootprint": {
          "coordinates": [
           [
            [
             12.258601,
             46.421295
            ],
            [
             11.684,
             46.499758
            ],
            [
             11.150156,
             46.570046
            ],
            [
             11.096085,
             46.366558
            ],
            [
             11.629119,
             46.30082
            ],
            [
             12.202845,
             46.226925
            ],
            [
             12.258601,
             46.421295
            ]
           ]
          ],
          "type": "Polygon"
         },
         "Id": "9354ca16-3d85-446c-a86b-5ce417476cce",
         "Lines": 0,
         "LinesPerBurst": 1508,
         "Name": "S1A-SLC-20241012T052734-359502-IW1-VV-043072",
         "OperationalMode": "IW",
         "OrbitDirection": "DESCENDING",
         "ParentProductId": "dc0c5073-dcc5-4153-b2b6-0d71ca0a350f",
         "ParentProductName": "S1A_IW_SLC__1SDV_20241012T052731_20241012T052758_056065_06DBD4_F910.SAFE",
         "ParentProductType": "IW_SLC__1S",
         "PlatformSerialIdentifier": "A",
         "PolarisationChannels": "VV",
         "RelativeOrbitNumber": 168,
         "S3Path": "/eodata/Sentinel-1/SAR/IW_SLC__1S/2024/10/12/S1A_IW_SLC__1SDV_20241012T052731_20241012T052758_056065_06DBD4_F910.SAFE/measurement/s1a-iw1-slc-vv-20241012t052733-20241012t052758-056065-06dbd4-004.tiff",
         "SamplesPerBurst": 22990,
         "SwathIdentifier": "IW1"
        },
        {
         "@odata.mediaContentType": "application/octet-stream",
         "AbsoluteBurstId": 120641314,
         "AzimuthAnxTime": 2200.755818104,
         "AzimuthTime": "2024-10-19T05:19:21.413645Z",
         "BeginningDateTime": "2024-10-19T05:19:22.556758Z",
         "BurstId": 202703,
         "ByteOffset": 1256905315,
         "ContentDate": {
          "End": "2024-10-19T05:19:25.746758Z",
          "Start": "2024-10-19T05:19:22.556758Z"
         },
         "ContentType": "application/octet-stream",
         "DatatakeID": 47168,
         "EndingDateTime": "2024-10-19T05:19:25.746758Z",
         "Footprint": "geography'SRID=4326;POLYGON ((12.089482 46.634916, 11.563369 46.69639, 11.056374 46.753309, 11.010245 46.548522, 11.516373 46.496209, 12.041638 46.439349, 12.089482 46.634916))'",
         "GeoFootprint": {
          "coordinates": [
           [
            [
             12.089482,
             46.634916
            ],
            [
             11.563369,
             46.69639
            ],
            [
             11.056374,
             46.753309
            ],
            [
             11.010245,
             46.548522
            ],
            [
             11.516373,
             46.496209
            ],
            [
             12.041638,
             46.439349
            ],
            [
             12.089482,
             46.634916
            ]
           ]
          ],
          "type": "Polygon"
         },
         "Id": "1453db6b-7bc3-4a03-9c48-5bef5b6a75d4",
         "Lines": 12200,
         "LinesPerBurst": 1525,
         "Name": "S1A-SLC-20241019T051922-202703-IW3-VV-047168",
         "OperationalMode": "IW",
         "OrbitDirection": "DESCENDING",
         "ParentProductId": "13e2ad92-6d42-493d-b01c-7dae363b7aeb",
         "ParentProductName": "S1A_IW_SLC__1SDV_20241019T051858_20241019T051925_056167_06DFDC_03C3.SAFE",
         "ParentProductType": "IW_SLC__1S",
         "PlatformSerialIdentifier": "A",
         "PolarisationChannels": "VV",
         "RelativeOrbitNumber": 95,
         "S3Path": "/eodata/Sentinel-1/SAR/IW_SLC__1S/2024/10/19/S1A_IW_SLC__1SDV_20241019T051858_20241019T051925_056167_06DFDC_03C3.SAFE/measurement/s1a-iw3-slc-vv-20241019t051859-20241019t051924-056167-06dfdc-006.tiff",
         "SamplesPerBurst": 25754,
         "SwathIdentifier": "IW3"
        },
        {
         "@odata.mediaContentType": "application/octet-stream",
         "AbsoluteBurstId": 120641315,
         "AzimuthAnxTime": 2203.510263442,
         "AzimuthTime": "2024-10-19T05:19:24.168090Z",
         "BeginningDateTime": "2024-10-19T05:19:25.315034Z",
         "BurstId": 202704,
         "ByteOffset": 110115,
         "ContentDate": {
          "End": "2024-10-19T05:19:28.505034Z",
          "Start": "2024-10-19T05:19:25.315034Z"
         },
         "ContentType": "application/octet-stream",
         "DatatakeID": 47168,
         "EndingDateTime": "2024-10-19T05:19:28.505034Z",
         "Footprint": "geography'SRID=4326;POLYGON ((12.049022 46.469577, 11.524545 46.531064, 11.019128 46.588009, 10.97311 46.383218, 11.477674 46.330878, 12.001315 46.274004, 12.049022 46.469577))'",
         "GeoFootprint": {
          "coordinates": [
           [
            [
             12.049022,
             46.469577
            ],
            [
             11.524545,
             46.531064
            ],
            [
             11.019128,
             46.588009
            ],
            [
             10.97311,
             46.383218
            ],
            [
             11.477674,
             46.330878
            ],
            [
             12.001315,
             46.274004
            ],
            [
             12.049022,
             46.469577
            ]
           ]
          ],
          "type": "Polygon"
         },
         "Id": "2776fdf9-eded-4dd4-aff7-fcb7178f5cf5",
         "Lines": 0,
         "LinesPerBurst": 1525,
         "Name": "S1A-SLC-20241019T051925-202704-IW3-VV-047168",
         "OperationalMode": "IW",
         "OrbitDirection": "DESCENDING",
         "ParentProductId": "aa47c1ce-d274-49f4-9b1a-44aa7ed005ba",
         "ParentProductName": "S1A_IW_SLC__1SDV_20241019T051923_20241019T051950_056167_06DFDC_645E.SAFE",
         "ParentProductType": "IW_SLC__1S",
         "PlatformSerialIdentifier": "A",
         "PolarisationChannels": "VV",
         "RelativeOrbitNumber": 95,
         "S3Path": "/eodata/Sentinel-1/SAR/IW_SLC__1S/2024/10/19/S1A_IW_SLC__1SDV_20241019T051923_20241019T051950_056167_06DFDC_645E.SAFE/measurement/s1a-iw3-slc-vv-20241019t051924-20241019t051949-056167-06dfdc-006.tiff",
         "SamplesPerBurst": 25753,
         "SwathIdentifier": "IW3"
        },
        {
         "@odata.mediaContentType": "application/octet-stream",
         "AbsoluteBurstId": 120688044,
         "AzimuthAnxTime": 753.394196773,
         "AzimuthTime": "2024-10-20T17:07:34.695997Z",
         "BeginningDateTime": "2024-10-20T17:07:35.707328Z",
         "BurstId": 249433,
         "ByteOffset": 640810107,
         "ContentDate": {
          "End": "2024-10-20T17:07:38.897328Z",
          "Start": "2024-10-20T17:07:35.707328Z"
         },
         "ContentType": "application/octet-stream",
         "DatatakeID": 32448,
         "EndingDateTime": "2024-10-20T17:07:38.897328Z",
         "Footprint": "geography'SRID=4326;POLYGON ((10.804564 46.276581, 11.402422 46.34791, 11.967742 46.412202, 11.920848 46.604472, 11.354552 46.535976, 10.755691 46.460429, 10.804564 46.276581))'",
         "GeoFootprint": {
          "coordinates": [
           [
            [
             10.804564,
             46.276581
            ],
            [
             11.402422,
             46.34791
            ],
            [
             11.967742,
             46.412202
            ],
            [
             11.920848,
             46.604472
            ],
            [
             11.354552,
             46.535976
            ],
            [
             10.755691,
             46.460429
            ],
            [
             10.804564,
             46.276581
            ]
           ]
          ],
          "type": "Polygon"
         },
         "Id": "bbac157f-eaa7-4eb2-a65e-e0f6fd759740",
         "Lines": 6048,
         "LinesPerBurst": 1512,
         "Name": "S1A-SLC-20241020T170735-249433-IW2-VV-032448",
         "OperationalMode": "IW",
         "OrbitDirection": "ASCENDING",
         "ParentProductId": "7deb4d96-ee58-47f9-ba97-504ad4038b9c",
         "ParentProductName": "S1A_IW_SLC__1SDV_20241020T170721_20241020T170748_056189_06E0BF_58BA.SAFE",
         "ParentProductType": "IW_SLC__1S",
         "PlatformSerialIdentifier": "A",
         "PolarisationChannels": "VV",
         "RelativeOrbitNumber": 117,
         "S3Path": "/eodata/Sentinel-1/SAR/IW_SLC__1S/2024/10/20/S1A_IW_SLC__1SDV_20241020T170721_20241020T170748_056189_06E0BF_58BA.SAFE/measurement/s1a-iw2-slc-vv-20241020t170723-20241020t170748-056189-06e0bf-005.tiff",
         "SamplesPerBurst": 26484,
         "SwathIdentifier": "IW2"
        },
        {
         "@odata.mediaContentType": "application/octet-stream",
         "AbsoluteBurstId": 120688045,
         "AzimuthAnxTime": 756.1506977713,
         "AzimuthTime": "2024-10-20T17:07:37.452498Z",
         "BeginningDateTime": "2024-10-20T17:07:38.465605Z",
         "BurstId": 249434,
         "ByteOffset": 800985339,
         "ContentDate": {
          "End": "2024-10-20T17:07:41.655605Z",
          "Start": "2024-10-20T17:07:38.465605Z"
         },
         "ContentType": "application/octet-stream",
         "DatatakeID": 32448,
         "EndingDateTime": "2024-10-20T17:07:41.655605Z",
         "Footprint": "geography'SRID=4326;POLYGON ((10.760624 46.441904, 11.360345 46.513254, 11.927424 46.577547, 11.880394 46.76981, 11.312324 46.701311, 10.711586 46.625741, 10.760624 46.441904))'",
         "GeoFootprint": {
          "coordinates": [
           [
            [
             10.760624,
             46.441904
            ],
            [
             11.360345,
             46.513254
            ],
            [
             11.927424,
             46.577547
            ],
            [
             11.880394,
             46.76981
            ],
            [
             11.312324,
             46.701311
            ],
            [
             10.711586,
             46.625741
            ],
            [
             10.760624,
             46.441904
            ]
           ]
          ],
          "type": "Polygon"
         },
         "Id": "95c62c61-8b3d-4517-ad1c-58b2ae7cdf2d",
         "Lines": 7560,
         "LinesPerBurst": 1512,
         "Name": "S1A-SLC-20241020T170738-249434-IW2-VV-032448",
         "OperationalMode": "IW",
         "OrbitDirection": "ASCENDING",
         "ParentProductId": "7deb4d96-ee58-47f9-ba97-504ad4038b9c",
         "ParentProductName": "S1A_IW_SLC__1SDV_20241020T170721_20241020T170748_056189_06E0BF_58BA.SAFE",
         "ParentProductType": "IW_SLC__1S",
         "PlatformSerialIdentifier": "A",
         "PolarisationChannels": "VV",
         "RelativeOrbitNumber": 117,
         "S3Path": "/eodata/Sentinel-1/SAR/IW_SLC__1S/2024/10/20/S1A_IW_SLC__1SDV_20241020T170721_20241020T170748_056189_06E0BF_58BA.SAFE/measurement/s1a-iw2-slc-vv-20241020t170723-20241020t170748-056189-06e0bf-005.tiff",
         "SamplesPerBurst": 26484,
         "SwathIdentifier": "IW2"
        },
        {
         "@odata.mediaContentType": "application/octet-stream",
         "AbsoluteBurstId": 120798112,
         "AzimuthAnxTime": 2196.8435409897,
         "AzimuthTime": "2024-10-24T05:27:30.401245Z",
         "BeginningDateTime": "2024-10-24T05:27:31.529063Z",
         "BurstId": 359501,
         "ByteOffset": 1109514331,
         "ContentDate": {
          "End": "2024-10-24T05:27:34.719063Z",
          "Start": "2024-10-24T05:27:31.529063Z"
         },
         "ContentType": "application/octet-stream",
         "DatatakeID": 33856,
         "EndingDateTime": "2024-10-24T05:27:34.719063Z",
         "Footprint": "geography'SRID=4326;POLYGON ((12.306189 46.586499, 11.729773 46.66502, 11.194249 46.735345, 11.139994 46.531867, 11.674696 46.466093, 12.250223 46.392142, 12.306189 46.586499))'",
         "GeoFootprint": {
          "coordinates": [
           [
            [
             12.306189,
             46.586499
            ],
            [
             11.729773,
             46.66502
            ],
            [
             11.194249,
             46.735345
            ],
            [
             11.139994,
             46.531867
            ],
            [
             11.674696,
             46.466093
            ],
            [
             12.250223,
             46.392142
            ],
            [
             12.306189,
             46.586499
            ]
           ]
          ],
          "type": "Polygon"
         },
         "Id": "f9869389-e061-483e-8d61-f773a72bc22c",
         "Lines": 12064,
         "LinesPerBurst": 1508,
         "Name": "S1A-SLC-20241024T052731-359501-IW1-VV-033856",
         "OperationalMode": "IW",
         "OrbitDirection": "DESCENDING",
         "ParentProductId": "d2b7af94-0ff3-4851-b4e4-a170762b69e9",
         "ParentProductName": "S1A_IW_SLC__1SDV_20241024T052706_20241024T052733_056240_06E2C2_06D7.SAFE",
         "ParentProductType": "IW_SLC__1S",
         "PlatformSerialIdentifier": "A",
         "PolarisationChannels": "VV",
         "RelativeOrbitNumber": 168,
         "S3Path": "/eodata/Sentinel-1/SAR/IW_SLC__1S/2024/10/24/S1A_IW_SLC__1SDV_20241024T052706_20241024T052733_056240_06E2C2_06D7.SAFE/measurement/s1a-iw1-slc-vv-20241024t052708-20241024t052733-056240-06e2c2-004.tiff",
         "SamplesPerBurst": 22990,
         "SwathIdentifier": "IW1"
        },
        {
         "@odata.mediaContentType": "application/octet-stream",
         "AbsoluteBurstId": 120798113,
         "AzimuthAnxTime": 2199.6000425529,
         "AzimuthTime": "2024-10-24T05:27:33.157747Z",
         "BeginningDateTime": "2024-10-24T05:27:34.287339Z",
         "BurstId": 359502,
         "ByteOffset": 108891,
         "ContentDate": {
          "End": "2024-10-24T05:27:37.477339Z",
          "Start": "2024-10-24T05:27:34.287339Z"
         },
         "ContentType": "application/octet-stream",
         "DatatakeID": 33856,
         "EndingDateTime": "2024-10-24T05:27:37.477339Z",
         "Footprint": "geography'SRID=4326;POLYGON ((12.258601 46.421295, 11.684 46.499758, 11.150156 46.570046, 11.096085 46.366558, 11.629119 46.30082, 12.202845 46.226925, 12.258601 46.421295))'",
         "GeoFootprint": {
          "coordinates": [
           [
            [
             12.258601,
             46.421295
            ],
            [
             11.684,
             46.499758
            ],
            [
             11.150156,
             46.570046
            ],
            [
             11.096085,
             46.366558
            ],
            [
             11.629119,
             46.30082
            ],
            [
             12.202845,
             46.226925
            ],
            [
             12.258601,
             46.421295
            ]
           ]
          ],
          "type": "Polygon"
         },
         "Id": "df036ad2-0e94-4ae5-bea6-15e282b31f26",
         "Lines": 0,
         "LinesPerBurst": 1508,
         "Name": "S1A-SLC-20241024T052734-359502-IW1-VV-033856",
         "OperationalMode": "IW",
         "OrbitDirection": "DESCENDING",
         "ParentProductId": "6d8dc2be-2dfe-4357-8ac1-6edd23618754",
         "ParentProductName": "S1A_IW_SLC__1SDV_20241024T052731_20241024T052758_056240_06E2C2_C1B4.SAFE",
         "ParentProductType": "IW_SLC__1S",
         "PlatformSerialIdentifier": "A",
         "PolarisationChannels": "VV",
         "RelativeOrbitNumber": 168,
         "S3Path": "/eodata/Sentinel-1/SAR/IW_SLC__1S/2024/10/24/S1A_IW_SLC__1SDV_20241024T052731_20241024T052758_056240_06E2C2_C1B4.SAFE/measurement/s1a-iw1-slc-vv-20241024t052733-20241024t052758-056240-06e2c2-004.tiff",
         "SamplesPerBurst": 22990,
         "SwathIdentifier": "IW1"
        },
        {
         "@odata.mediaContentType": "application/octet-stream",
         "AbsoluteBurstId": 121017202,
         "AzimuthAnxTime": 2200.7768749914,
         "AzimuthTime": "2024-10-31T05:19:21.399161Z",
         "BeginningDateTime": "2024-10-31T05:19:22.534053Z",
         "BurstId": 202703,
         "ByteOffset": 1256856515,
         "ContentDate": {
          "End": "2024-10-31T05:19:25.724053Z",
          "Start": "2024-10-31T05:19:22.534053Z"
         },
         "ContentType": "application/octet-stream",
         "DatatakeID": 39232,
         "EndingDateTime": "2024-10-31T05:19:25.724053Z",
         "Footprint": "geography'SRID=4326;POLYGON ((12.089482 46.634916, 11.563369 46.69639, 11.056374 46.753309, 11.010245 46.548522, 11.516373 46.496209, 12.041638 46.439349, 12.089482 46.634916))'",
         "GeoFootprint": {
          "coordinates": [
           [
            [
             12.089482,
             46.634916
            ],
            [
             11.563369,
             46.69639
            ],
            [
             11.056374,
             46.753309
            ],
            [
             11.010245,
             46.548522
            ],
            [
             11.516373,
             46.496209
            ],
            [
             12.041638,
             46.439349
            ],
            [
             12.089482,
             46.634916
            ]
           ]
          ],
          "type": "Polygon"
         },
         "Id": "05f9d89c-fa67-4af2-b72d-282f225a8ff7",
         "Lines": 12200,
         "LinesPerBurst": 1525,
         "Name": "S1A-SLC-20241031T051922-202703-IW3-VV-039232",
         "OperationalMode": "IW",
         "OrbitDirection": "DESCENDING",
         "ParentProductId": "682fffbd-9948-44ca-a3d1-2a85be9f427b",
         "ParentProductName": "S1A_IW_SLC__1SDV_20241031T051858_20241031T051925_056342_06E6CC_B616.SAFE",
         "ParentProductType": "IW_SLC__1S",
         "PlatformSerialIdentifier": "A",
         "PolarisationChannels": "VV",
         "RelativeOrbitNumber": 95,
         "S3Path": "/eodata/Sentinel-1/SAR/IW_SLC__1S/2024/10/31/S1A_IW_SLC__1SDV_20241031T051858_20241031T051925_056342_06E6CC_B616.SAFE/measurement/s1a-iw3-slc-vv-20241031t051859-20241031t051924-056342-06e6cc-006.tiff",
         "SamplesPerBurst": 25753,
         "SwathIdentifier": "IW3"
        },
        {
         "@odata.mediaContentType": "application/octet-stream",
         "AbsoluteBurstId": 121017203,
         "AzimuthAnxTime": 2203.531320442,
         "AzimuthTime": "2024-10-31T05:19:24.153606Z",
         "BeginningDateTime": "2024-10-31T05:19:25.292329Z",
         "BurstId": 202704,
         "ByteOffset": 110115,
         "ContentDate": {
          "End": "2024-10-31T05:19:28.482329Z",
          "Start": "2024-10-31T05:19:25.292329Z"
         },
         "ContentType": "application/octet-stream",
         "DatatakeID": 39232,
         "EndingDateTime": "2024-10-31T05:19:28.482329Z",
         "Footprint": "geography'SRID=4326;POLYGON ((12.049022 46.469577, 11.524545 46.531064, 11.019128 46.588009, 10.97311 46.383218, 11.477674 46.330878, 12.001315 46.274004, 12.049022 46.469577))'",
         "GeoFootprint": {
          "coordinates": [
           [
            [
             12.049022,
             46.469577
            ],
            [
             11.524545,
             46.531064
            ],
            [
             11.019128,
             46.588009
            ],
            [
             10.97311,
             46.383218
            ],
            [
             11.477674,
             46.330878
            ],
            [
             12.001315,
             46.274004
            ],
            [
             12.049022,
             46.469577
            ]
           ]
          ],
          "type": "Polygon"
         },
         "Id": "84958a41-7137-40d9-94fb-e119ee013f8c",
         "Lines": 0,
         "LinesPerBurst": 1525,
         "Name": "S1A-SLC-20241031T051925-202704-IW3-VV-039232",
         "OperationalMode": "IW",
         "OrbitDirection": "DESCENDING",
         "ParentProductId": "9dfda48b-d98b-481a-a816-8f660cc81dad",
         "ParentProductName": "S1A_IW_SLC__1SDV_20241031T051923_20241031T051950_056342_06E6CC_0A12.SAFE",
         "ParentProductType": "IW_SLC__1S",
         "PlatformSerialIdentifier": "A",
         "PolarisationChannels": "VV",
         "RelativeOrbitNumber": 95,
         "S3Path": "/eodata/Sentinel-1/SAR/IW_SLC__1S/2024/10/31/S1A_IW_SLC__1SDV_20241031T051923_20241031T051950_056342_06E6CC_0A12.SAFE/measurement/s1a-iw3-slc-vv-20241031t051924-20241031t051949-056342-06e6cc-006.tiff",
         "SamplesPerBurst": 25753,
         "SwathIdentifier": "IW3"
        },
        {
         "@odata.mediaContentType": "application/octet-stream",
         "AbsoluteBurstId": 121063931,
         "AzimuthAnxTime": 753.395392773,
         "AzimuthTime": "2024-11-01T17:07:34.532199Z",
         "BeginningDateTime": "2024-11-01T17:07:35.545585Z",
         "BurstId": 249433,
         "ByteOffset": 640810107,
         "ContentDate": {
          "End": "2024-11-01T17:07:38.735585Z",
          "Start": "2024-11-01T17:07:35.545585Z"
         },
         "ContentType": "application/octet-stream",
         "DatatakeID": 25536,
         "EndingDateTime": "2024-11-01T17:07:38.735585Z",
         "Footprint": "geography'SRID=4326;POLYGON ((10.804564 46.276581, 11.402422 46.34791, 11.967742 46.412202, 11.920848 46.604472, 11.354552 46.535976, 10.755691 46.460429, 10.804564 46.276581))'",
         "GeoFootprint": {
          "coordinates": [
           [
            [
             10.804564,
             46.276581
            ],
            [
             11.402422,
             46.34791
            ],
            [
             11.967742,
             46.412202
            ],
            [
             11.920848,
             46.604472
            ],
            [
             11.354552,
             46.535976
            ],
            [
             10.755691,
             46.460429
            ],
            [
             10.804564,
             46.276581
            ]
           ]
          ],
          "type": "Polygon"
         },
         "Id": "353d7a4f-cb8b-40b4-85a9-3e8bc717b3d4",
         "Lines": 6048,
         "LinesPerBurst": 1512,
         "Name": "S1A-SLC-20241101T170735-249433-IW2-VV-025536",
         "OperationalMode": "IW",
         "OrbitDirection": "ASCENDING",
         "ParentProductId": "20254802-eaaf-41fd-ba7a-0b1ba953d8e0",
         "ParentProductName": "S1A_IW_SLC__1SDV_20241101T170721_20241101T170748_056364_06E7B1_DB51.SAFE",
         "ParentProductType": "IW_SLC__1S",
         "PlatformSerialIdentifier": "A",
         "PolarisationChannels": "VV",
         "RelativeOrbitNumber": 117,
         "S3Path": "/eodata/Sentinel-1/SAR/IW_SLC__1S/2024/11/01/S1A_IW_SLC__1SDV_20241101T170721_20241101T170748_056364_06E7B1_DB51.SAFE/measurement/s1a-iw2-slc-vv-20241101t170723-20241101t170748-056364-06e7b1-005.tiff",
         "SamplesPerBurst": 26484,
         "SwathIdentifier": "IW2"
        },
        {
         "@odata.mediaContentType": "application/octet-stream",
         "AbsoluteBurstId": 121063932,
         "AzimuthAnxTime": 756.1539493276,
         "AzimuthTime": "2024-11-01T17:07:37.290755Z",
         "BeginningDateTime": "2024-11-01T17:07:38.303862Z",
         "BurstId": 249434,
         "ByteOffset": 800985339,
         "ContentDate": {
          "End": "2024-11-01T17:07:41.493862Z",
          "Start": "2024-11-01T17:07:38.303862Z"
         },
         "ContentType": "application/octet-stream",
         "DatatakeID": 25536,
         "EndingDateTime": "2024-11-01T17:07:41.493862Z",
         "Footprint": "geography'SRID=4326;POLYGON ((10.760624 46.441904, 11.360345 46.513254, 11.927424 46.577547, 11.880394 46.76981, 11.312324 46.701311, 10.711586 46.625741, 10.760624 46.441904))'",
         "GeoFootprint": {
          "coordinates": [
           [
            [
             10.760624,
             46.441904
            ],
            [
             11.360345,
             46.513254
            ],
            [
             11.927424,
             46.577547
            ],
            [
             11.880394,
             46.76981
            ],
            [
             11.312324,
             46.701311
            ],
            [
             10.711586,
             46.625741
            ],
            [
             10.760624,
             46.441904
            ]
           ]
          ],
          "type": "Polygon"
         },
         "Id": "318a86a5-59c3-4a63-a49b-e95d86d09351",
         "Lines": 7560,
         "LinesPerBurst": 1512,
         "Name": "S1A-SLC-20241101T170738-249434-IW2-VV-025536",
         "OperationalMode": "IW",
         "OrbitDirection": "ASCENDING",
         "ParentProductId": "20254802-eaaf-41fd-ba7a-0b1ba953d8e0",
         "ParentProductName": "S1A_IW_SLC__1SDV_20241101T170721_20241101T170748_056364_06E7B1_DB51.SAFE",
         "ParentProductType": "IW_SLC__1S",
         "PlatformSerialIdentifier": "A",
         "PolarisationChannels": "VV",
         "RelativeOrbitNumber": 117,
         "S3Path": "/eodata/Sentinel-1/SAR/IW_SLC__1S/2024/11/01/S1A_IW_SLC__1SDV_20241101T170721_20241101T170748_056364_06E7B1_DB51.SAFE/measurement/s1a-iw2-slc-vv-20241101t170723-20241101t170748-056364-06e7b1-005.tiff",
         "SamplesPerBurst": 26484,
         "SwathIdentifier": "IW2"
        },
        {
         "@odata.mediaContentType": "application/octet-stream",
         "AbsoluteBurstId": 121174000,
         "AzimuthAnxTime": 2199.6036111092,
         "AzimuthTime": "2024-11-05T05:27:33.489869Z",
         "BeginningDateTime": "2024-11-05T05:27:34.619462Z",
         "BurstId": 359502,
         "ByteOffset": 108891,
         "ContentDate": {
          "End": "2024-11-05T05:27:37.809462Z",
          "Start": "2024-11-05T05:27:34.619462Z"
         },
         "ContentType": "application/octet-stream",
         "DatatakeID": 27456,
         "EndingDateTime": "2024-11-05T05:27:37.809462Z",
         "Footprint": "geography'SRID=4326;POLYGON ((12.258601 46.421295, 11.684 46.499758, 11.150156 46.570046, 11.096085 46.366558, 11.629119 46.30082, 12.202845 46.226925, 12.258601 46.421295))'",
         "GeoFootprint": {
          "coordinates": [
           [
            [
             12.258601,
             46.421295
            ],
            [
             11.684,
             46.499758
            ],
            [
             11.150156,
             46.570046
            ],
            [
             11.096085,
             46.366558
            ],
            [
             11.629119,
             46.30082
            ],
            [
             12.202845,
             46.226925
            ],
            [
             12.258601,
             46.421295
            ]
           ]
          ],
          "type": "Polygon"
         },
         "Id": "3e879cf1-27b3-4f41-8d35-ac02dbfc4cd4",
         "Lines": 0,
         "LinesPerBurst": 1508,
         "Name": "S1A-SLC-20241105T052734-359502-IW1-VV-027456",
         "OperationalMode": "IW",
         "OrbitDirection": "DESCENDING",
         "ParentProductId": "5ba0be89-dac7-451d-9a00-968894da280d",
         "ParentProductName": "S1A_IW_SLC__1SDV_20241105T052731_20241105T052758_056415_06E9B5_45F8.SAFE",
         "ParentProductType": "IW_SLC__1S",
         "PlatformSerialIdentifier": "A",
         "PolarisationChannels": "VV",
         "RelativeOrbitNumber": 168,
         "S3Path": "/eodata/Sentinel-1/SAR/IW_SLC__1S/2024/11/05/S1A_IW_SLC__1SDV_20241105T052731_20241105T052758_056415_06E9B5_45F8.SAFE/measurement/s1a-iw1-slc-vv-20241105t052733-20241105t052758-056415-06e9b5-004.tiff",
         "SamplesPerBurst": 22990,
         "SwathIdentifier": "IW1"
        },
        {
         "@odata.mediaContentType": "application/octet-stream",
         "AbsoluteBurstId": 121173999,
         "AzimuthAnxTime": 2196.847110546,
         "AzimuthTime": "2024-11-05T05:27:30.733369Z",
         "BeginningDateTime": "2024-11-05T05:27:31.861186Z",
         "BurstId": 359501,
         "ByteOffset": 1109514331,
         "ContentDate": {
          "End": "2024-11-05T05:27:35.051186Z",
          "Start": "2024-11-05T05:27:31.861186Z"
         },
         "ContentType": "application/octet-stream",
         "DatatakeID": 27456,
         "EndingDateTime": "2024-11-05T05:27:35.051186Z",
         "Footprint": "geography'SRID=4326;POLYGON ((12.306189 46.586499, 11.729773 46.66502, 11.194249 46.735345, 11.139994 46.531867, 11.674696 46.466093, 12.250223 46.392142, 12.306189 46.586499))'",
         "GeoFootprint": {
          "coordinates": [
           [
            [
             12.306189,
             46.586499
            ],
            [
             11.729773,
             46.66502
            ],
            [
             11.194249,
             46.735345
            ],
            [
             11.139994,
             46.531867
            ],
            [
             11.674696,
             46.466093
            ],
            [
             12.250223,
             46.392142
            ],
            [
             12.306189,
             46.586499
            ]
           ]
          ],
          "type": "Polygon"
         },
         "Id": "422fa7d1-8e5a-481a-b164-8ce3fd273067",
         "Lines": 12064,
         "LinesPerBurst": 1508,
         "Name": "S1A-SLC-20241105T052731-359501-IW1-VV-027456",
         "OperationalMode": "IW",
         "OrbitDirection": "DESCENDING",
         "ParentProductId": "46a772dd-e60e-4af1-82be-76bbfc3dab4e",
         "ParentProductName": "S1A_IW_SLC__1SDV_20241105T052706_20241105T052733_056415_06E9B5_9866.SAFE",
         "ParentProductType": "IW_SLC__1S",
         "PlatformSerialIdentifier": "A",
         "PolarisationChannels": "VV",
         "RelativeOrbitNumber": 168,
         "S3Path": "/eodata/Sentinel-1/SAR/IW_SLC__1S/2024/11/05/S1A_IW_SLC__1SDV_20241105T052706_20241105T052733_056415_06E9B5_9866.SAFE/measurement/s1a-iw1-slc-vv-20241105t052708-20241105t052733-056415-06e9b5-004.tiff",
         "SamplesPerBurst": 22990,
         "SwathIdentifier": "IW1"
        },
        {
         "@odata.mediaContentType": "application/octet-stream",
         "AbsoluteBurstId": 121393089,
         "AzimuthAnxTime": 2200.7718289914,
         "AzimuthTime": "2024-11-12T05:19:20.741032Z",
         "BeginningDateTime": "2024-11-12T05:19:21.882091Z",
         "BurstId": 202703,
         "ByteOffset": 1256856515,
         "ContentDate": {
          "End": "2024-11-12T05:19:22.786697Z",
          "Start": "2024-11-12T05:19:21.882091Z"
         },
         "ContentType": "application/octet-stream",
         "DatatakeID": 35200,
         "EndingDateTime": "2024-11-12T05:19:22.786697Z",
         "Footprint": "geography'SRID=4326;POLYGON ((12.089482 46.634916, 11.563369 46.69639, 11.056374 46.753309, 11.010245 46.548522, 11.516373 46.496209, 12.041638 46.439349, 12.089482 46.634916))'",
         "GeoFootprint": {
          "coordinates": [
           [
            [
             12.089482,
             46.634916
            ],
            [
             11.563369,
             46.69639
            ],
            [
             11.056374,
             46.753309
            ],
            [
             11.010245,
             46.548522
            ],
            [
             11.516373,
             46.496209
            ],
            [
             12.041638,
             46.439349
            ],
            [
             12.089482,
             46.634916
            ]
           ]
          ],
          "type": "Polygon"
         },
         "Id": "1c56c395-e5a6-49cc-aff0-89759a06aab1",
         "Lines": 12200,
         "LinesPerBurst": 1525,
         "Name": "S1A-SLC-20241112T051921-202703-IW3-VV-035200",
         "OperationalMode": "IW",
         "OrbitDirection": "DESCENDING",
         "ParentProductId": "b4a95377-b0dc-43bd-87a2-c42e97b8b6db",
         "ParentProductName": "S1A_IW_SLC__1SDV_20241112T051857_20241112T051924_056517_06EDC4_FF12.SAFE",
         "ParentProductType": "IW_SLC__1S",
         "PlatformSerialIdentifier": "A",
         "PolarisationChannels": "VV",
         "RelativeOrbitNumber": 95,
         "S3Path": "/eodata/Sentinel-1/SAR/IW_SLC__1S/2024/11/12/S1A_IW_SLC__1SDV_20241112T051857_20241112T051924_056517_06EDC4_FF12.SAFE/measurement/s1a-iw3-slc-vv-20241112t051858-20241112t051923-056517-06edc4-006.tiff",
         "SamplesPerBurst": 25753,
         "SwathIdentifier": "IW3"
        },
        {
         "@odata.mediaContentType": "application/octet-stream",
         "AbsoluteBurstId": 121393090,
         "AzimuthAnxTime": 2203.5283299983,
         "AzimuthTime": "2024-11-12T05:19:23.497533Z",
         "BeginningDateTime": "2024-11-12T05:19:24.640367Z",
         "BurstId": 202704,
         "ByteOffset": 110115,
         "ContentDate": {
          "End": "2024-11-12T05:19:25.544973Z",
          "Start": "2024-11-12T05:19:24.640367Z"
         },
         "ContentType": "application/octet-stream",
         "DatatakeID": 35200,
         "EndingDateTime": "2024-11-12T05:19:25.544973Z",
         "Footprint": "geography'SRID=4326;POLYGON ((12.049022 46.469577, 11.524545 46.531064, 11.019128 46.588009, 10.97311 46.383218, 11.477674 46.330878, 12.001315 46.274004, 12.049022 46.469577))'",
         "GeoFootprint": {
          "coordinates": [
           [
            [
             12.049022,
             46.469577
            ],
            [
             11.524545,
             46.531064
            ],
            [
             11.019128,
             46.588009
            ],
            [
             10.97311,
             46.383218
            ],
            [
             11.477674,
             46.330878
            ],
            [
             12.001315,
             46.274004
            ],
            [
             12.049022,
             46.469577
            ]
           ]
          ],
          "type": "Polygon"
         },
         "Id": "c85fff2c-952f-47ad-bdc8-61f0955897d4",
         "Lines": 0,
         "LinesPerBurst": 1525,
         "Name": "S1A-SLC-20241112T051924-202704-IW3-VV-035200",
         "OperationalMode": "IW",
         "OrbitDirection": "DESCENDING",
         "ParentProductId": "66883b11-5216-4233-97da-c0f59f6c0524",
         "ParentProductName": "S1A_IW_SLC__1SDV_20241112T051922_20241112T051949_056517_06EDC4_8B18.SAFE",
         "ParentProductType": "IW_SLC__1S",
         "PlatformSerialIdentifier": "A",
         "PolarisationChannels": "VV",
         "RelativeOrbitNumber": 95,
         "S3Path": "/eodata/Sentinel-1/SAR/IW_SLC__1S/2024/11/12/S1A_IW_SLC__1SDV_20241112T051922_20241112T051949_056517_06EDC4_8B18.SAFE/measurement/s1a-iw3-slc-vv-20241112t051923-20241112t051948-056517-06edc4-006.tiff",
         "SamplesPerBurst": 25753,
         "SwathIdentifier": "IW3"
        },
        {
         "@odata.mediaContentType": "application/octet-stream",
         "AbsoluteBurstId": 121439819,
         "AzimuthAnxTime": 753.392911773,
         "AzimuthTime": "2024-11-13T17:07:33.994031Z",
         "BeginningDateTime": "2024-11-13T17:07:35.011527Z",
         "BurstId": 249433,
         "ByteOffset": 640810107,
         "ContentDate": {
          "End": "2024-11-13T17:07:36.053117Z",
          "Start": "2024-11-13T17:07:35.011527Z"
         },
         "ContentType": "application/octet-stream",
         "DatatakeID": 20544,
         "EndingDateTime": "2024-11-13T17:07:36.053117Z",
         "Footprint": "geography'SRID=4326;POLYGON ((10.804564 46.276581, 11.402422 46.34791, 11.967742 46.412202, 11.920848 46.604472, 11.354552 46.535976, 10.755691 46.460429, 10.804564 46.276581))'",
         "GeoFootprint": {
          "coordinates": [
           [
            [
             10.804564,
             46.276581
            ],
            [
             11.402422,
             46.34791
            ],
            [
             11.967742,
             46.412202
            ],
            [
             11.920848,
             46.604472
            ],
            [
             11.354552,
             46.535976
            ],
            [
             10.755691,
             46.460429
            ],
            [
             10.804564,
             46.276581
            ]
           ]
          ],
          "type": "Polygon"
         },
         "Id": "56171ad8-314d-41fe-bc27-2960bb2a8290",
         "Lines": 6048,
         "LinesPerBurst": 1512,
         "Name": "S1A-SLC-20241113T170735-249433-IW2-VV-020544",
         "OperationalMode": "IW",
         "OrbitDirection": "ASCENDING",
         "ParentProductId": "c4911f81-7201-466c-abe5-8c215af13e19",
         "ParentProductName": "S1A_IW_SLC__1SDV_20241113T170721_20241113T170748_056539_06EEA8_D74F.SAFE",
         "ParentProductType": "IW_SLC__1S",
         "PlatformSerialIdentifier": "A",
         "PolarisationChannels": "VV",
         "RelativeOrbitNumber": 117,
         "S3Path": "/eodata/Sentinel-1/SAR/IW_SLC__1S/2024/11/13/S1A_IW_SLC__1SDV_20241113T170721_20241113T170748_056539_06EEA8_D74F.SAFE/measurement/s1a-iw2-slc-vv-20241113t170722-20241113t170748-056539-06eea8-005.tiff",
         "SamplesPerBurst": 26484,
         "SwathIdentifier": "IW2"
        },
        {
         "@odata.mediaContentType": "application/octet-stream",
         "AbsoluteBurstId": 121439820,
         "AzimuthAnxTime": 756.1514683276,
         "AzimuthTime": "2024-11-13T17:07:36.752587Z",
         "BeginningDateTime": "2024-11-13T17:07:37.769804Z",
         "BurstId": 249434,
         "ByteOffset": 800985339,
         "ContentDate": {
          "End": "2024-11-13T17:07:38.811394Z",
          "Start": "2024-11-13T17:07:37.769804Z"
         },
         "ContentType": "application/octet-stream",
         "DatatakeID": 20544,
         "EndingDateTime": "2024-11-13T17:07:38.811394Z",
         "Footprint": "geography'SRID=4326;POLYGON ((10.760624 46.441904, 11.360345 46.513254, 11.927424 46.577547, 11.880394 46.76981, 11.312324 46.701311, 10.711586 46.625741, 10.760624 46.441904))'",
         "GeoFootprint": {
          "coordinates": [
           [
            [
             10.760624,
             46.441904
            ],
            [
             11.360345,
             46.513254
            ],
            [
             11.927424,
             46.577547
            ],
            [
             11.880394,
             46.76981
            ],
            [
             11.312324,
             46.701311
            ],
            [
             10.711586,
             46.625741
            ],
            [
             10.760624,
             46.441904
            ]
           ]
          ],
          "type": "Polygon"
         },
         "Id": "0f45b461-4208-4e5a-a27c-0f1084450c95",
         "Lines": 7560,
         "LinesPerBurst": 1512,
         "Name": "S1A-SLC-20241113T170737-249434-IW2-VV-020544",
         "OperationalMode": "IW",
         "OrbitDirection": "ASCENDING",
         "ParentProductId": "c4911f81-7201-466c-abe5-8c215af13e19",
         "ParentProductName": "S1A_IW_SLC__1SDV_20241113T170721_20241113T170748_056539_06EEA8_D74F.SAFE",
         "ParentProductType": "IW_SLC__1S",
         "PlatformSerialIdentifier": "A",
         "PolarisationChannels": "VV",
         "RelativeOrbitNumber": 117,
         "S3Path": "/eodata/Sentinel-1/SAR/IW_SLC__1S/2024/11/13/S1A_IW_SLC__1SDV_20241113T170721_20241113T170748_056539_06EEA8_D74F.SAFE/measurement/s1a-iw2-slc-vv-20241113t170722-20241113t170748-056539-06eea8-005.tiff",
         "SamplesPerBurst": 26484,
         "SwathIdentifier": "IW2"
        },
        {
         "@odata.mediaContentType": "application/octet-stream",
         "AbsoluteBurstId": 121549886,
         "AzimuthAnxTime": 2196.854465546,
         "AzimuthTime": "2024-11-17T05:27:30.494024Z",
         "BeginningDateTime": "2024-11-17T05:27:31.623911Z",
         "BurstId": 359501,
         "ByteOffset": 1109514331,
         "ContentDate": {
          "End": "2024-11-17T05:27:32.502121Z",
          "Start": "2024-11-17T05:27:31.623911Z"
         },
         "ContentType": "application/octet-stream",
         "DatatakeID": 25472,
         "EndingDateTime": "2024-11-17T05:27:32.502121Z",
         "Footprint": "geography'SRID=4326;POLYGON ((12.306189 46.586499, 11.729773 46.66502, 11.194249 46.735345, 11.139994 46.531867, 11.674696 46.466093, 12.250223 46.392142, 12.306189 46.586499))'",
         "GeoFootprint": {
          "coordinates": [
           [
            [
             12.306189,
             46.586499
            ],
            [
             11.729773,
             46.66502
            ],
            [
             11.194249,
             46.735345
            ],
            [
             11.139994,
             46.531867
            ],
            [
             11.674696,
             46.466093
            ],
            [
             12.250223,
             46.392142
            ],
            [
             12.306189,
             46.586499
            ]
           ]
          ],
          "type": "Polygon"
         },
         "Id": "b765a7cb-e046-4a4d-af83-8213e40f39fe",
         "Lines": 12064,
         "LinesPerBurst": 1508,
         "Name": "S1A-SLC-20241117T052731-359501-IW1-VV-025472",
         "OperationalMode": "IW",
         "OrbitDirection": "DESCENDING",
         "ParentProductId": "5690e6e1-fe22-4c1f-8d9c-718559649b24",
         "ParentProductName": "S1A_IW_SLC__1SDV_20241117T052706_20241117T052733_056590_06F0B1_7C65.SAFE",
         "ParentProductType": "IW_SLC__1S",
         "PlatformSerialIdentifier": "A",
         "PolarisationChannels": "VV",
         "RelativeOrbitNumber": 168,
         "S3Path": "/eodata/Sentinel-1/SAR/IW_SLC__1S/2024/11/17/S1A_IW_SLC__1SDV_20241117T052706_20241117T052733_056590_06F0B1_7C65.SAFE/measurement/s1a-iw1-slc-vv-20241117t052708-20241117t052733-056590-06f0b1-004.tiff",
         "SamplesPerBurst": 22990,
         "SwathIdentifier": "IW1"
        },
        {
         "@odata.mediaContentType": "application/octet-stream",
         "AbsoluteBurstId": 121549887,
         "AzimuthAnxTime": 2199.6130221092,
         "AzimuthTime": "2024-11-17T05:27:33.252580Z",
         "BeginningDateTime": "2024-11-17T05:27:34.382187Z",
         "BurstId": 359502,
         "ByteOffset": 108891,
         "ContentDate": {
          "End": "2024-11-17T05:27:35.260397Z",
          "Start": "2024-11-17T05:27:34.382187Z"
         },
         "ContentType": "application/octet-stream",
         "DatatakeID": 25472,
         "EndingDateTime": "2024-11-17T05:27:35.260397Z",
         "Footprint": "geography'SRID=4326;POLYGON ((12.258601 46.421295, 11.684 46.499758, 11.150156 46.570046, 11.096085 46.366558, 11.629119 46.30082, 12.202845 46.226925, 12.258601 46.421295))'",
         "GeoFootprint": {
          "coordinates": [
           [
            [
             12.258601,
             46.421295
            ],
            [
             11.684,
             46.499758
            ],
            [
             11.150156,
             46.570046
            ],
            [
             11.096085,
             46.366558
            ],
            [
             11.629119,
             46.30082
            ],
            [
             12.202845,
             46.226925
            ],
            [
             12.258601,
             46.421295
            ]
           ]
          ],
          "type": "Polygon"
         },
         "Id": "9c5fed68-56ce-4d5f-99ea-f4cb26b7fcef",
         "Lines": 0,
         "LinesPerBurst": 1508,
         "Name": "S1A-SLC-20241117T052734-359502-IW1-VV-025472",
         "OperationalMode": "IW",
         "OrbitDirection": "DESCENDING",
         "ParentProductId": "6c230d73-83b7-49b0-b1a8-a23567f2b33a",
         "ParentProductName": "S1A_IW_SLC__1SDV_20241117T052731_20241117T052758_056590_06F0B1_F9C8.SAFE",
         "ParentProductType": "IW_SLC__1S",
         "PlatformSerialIdentifier": "A",
         "PolarisationChannels": "VV",
         "RelativeOrbitNumber": 168,
         "S3Path": "/eodata/Sentinel-1/SAR/IW_SLC__1S/2024/11/17/S1A_IW_SLC__1SDV_20241117T052731_20241117T052758_056590_06F0B1_F9C8.SAFE/measurement/s1a-iw1-slc-vv-20241117t052733-20241117t052758-056590-06f0b1-004.tiff",
         "SamplesPerBurst": 22990,
         "SwathIdentifier": "IW1"
        },
        {
         "@odata.mediaContentType": "application/octet-stream",
         "AbsoluteBurstId": 121768977,
         "AzimuthAnxTime": 2200.7833704351,
         "AzimuthTime": "2024-11-24T05:19:20.039662Z",
         "BeginningDateTime": "2024-11-24T05:19:21.180721Z",
         "BurstId": 202703,
         "ByteOffset": 1256856515,
         "ContentDate": {
          "End": "2024-11-24T05:19:22.085327Z",
          "Start": "2024-11-24T05:19:21.180721Z"
         },
         "ContentType": "application/octet-stream",
         "DatatakeID": 34464,
         "EndingDateTime": "2024-11-24T05:19:22.085327Z",
         "Footprint": "geography'SRID=4326;POLYGON ((12.089482 46.634916, 11.563369 46.69639, 11.056374 46.753309, 11.010245 46.548522, 11.516373 46.496209, 12.041638 46.439349, 12.089482 46.634916))'",
         "GeoFootprint": {
          "coordinates": [
           [
            [
             12.089482,
             46.634916
            ],
            [
             11.563369,
             46.69639
            ],
            [
             11.056374,
             46.753309
            ],
            [
             11.010245,
             46.548522
            ],
            [
             11.516373,
             46.496209
            ],
            [
             12.041638,
             46.439349
            ],
            [
             12.089482,
             46.634916
            ]
           ]
          ],
          "type": "Polygon"
         },
         "Id": "93850ea6-3c6c-4866-a3a1-ed0ae01c66fa",
         "Lines": 12200,
         "LinesPerBurst": 1525,
         "Name": "S1A-SLC-20241124T051921-202703-IW3-VV-034464",
         "OperationalMode": "IW",
         "OrbitDirection": "DESCENDING",
         "ParentProductId": "5e343c48-bbe8-4a8e-8fa9-d67371257daa",
         "ParentProductName": "S1A_IW_SLC__1SDV_20241124T051857_20241124T051923_056692_06F4C3_F656.SAFE",
         "ParentProductType": "IW_SLC__1S",
         "PlatformSerialIdentifier": "A",
         "PolarisationChannels": "VV",
         "RelativeOrbitNumber": 95,
         "S3Path": "/eodata/Sentinel-1/SAR/IW_SLC__1S/2024/11/24/S1A_IW_SLC__1SDV_20241124T051857_20241124T051923_056692_06F4C3_F656.SAFE/measurement/s1a-iw3-slc-vv-20241124t051857-20241124t051923-056692-06f4c3-006.tiff",
         "SamplesPerBurst": 25753,
         "SwathIdentifier": "IW3"
        },
        {
         "@odata.mediaContentType": "application/octet-stream",
         "AbsoluteBurstId": 121768978,
         "AzimuthAnxTime": 2203.5419269983,
         "AzimuthTime": "2024-11-24T05:19:22.798219Z",
         "BeginningDateTime": "2024-11-24T05:19:23.938997Z",
         "BurstId": 202704,
         "ByteOffset": 110115,
         "ContentDate": {
          "End": "2024-11-24T05:19:24.843603Z",
          "Start": "2024-11-24T05:19:23.938997Z"
         },
         "ContentType": "application/octet-stream",
         "DatatakeID": 34464,
         "EndingDateTime": "2024-11-24T05:19:24.843603Z",
         "Footprint": "geography'SRID=4326;POLYGON ((12.049022 46.469577, 11.524545 46.531064, 11.019128 46.588009, 10.97311 46.383218, 11.477674 46.330878, 12.001315 46.274004, 12.049022 46.469577))'",
         "GeoFootprint": {
          "coordinates": [
           [
            [
             12.049022,
             46.469577
            ],
            [
             11.524545,
             46.531064
            ],
            [
             11.019128,
             46.588009
            ],
            [
             10.97311,
             46.383218
            ],
            [
             11.477674,
             46.330878
            ],
            [
             12.001315,
             46.274004
            ],
            [
             12.049022,
             46.469577
            ]
           ]
          ],
          "type": "Polygon"
         },
         "Id": "757fecef-30a0-4c1d-8a04-0c9cb39a8fb4",
         "Lines": 0,
         "LinesPerBurst": 1525,
         "Name": "S1A-SLC-20241124T051923-202704-IW3-VV-034464",
         "OperationalMode": "IW",
         "OrbitDirection": "DESCENDING",
         "ParentProductId": "8e833ef9-7eae-4fd1-bfb6-f9d933974210",
         "ParentProductName": "S1A_IW_SLC__1SDV_20241124T051921_20241124T051948_056692_06F4C3_1D87.SAFE",
         "ParentProductType": "IW_SLC__1S",
         "PlatformSerialIdentifier": "A",
         "PolarisationChannels": "VV",
         "RelativeOrbitNumber": 95,
         "S3Path": "/eodata/Sentinel-1/SAR/IW_SLC__1S/2024/11/24/S1A_IW_SLC__1SDV_20241124T051921_20241124T051948_056692_06F4C3_1D87.SAFE/measurement/s1a-iw3-slc-vv-20241124t051922-20241124t051947-056692-06f4c3-006.tiff",
         "SamplesPerBurst": 25753,
         "SwathIdentifier": "IW3"
        },
        {
         "@odata.mediaContentType": "application/octet-stream",
         "AbsoluteBurstId": 121815706,
         "AzimuthAnxTime": 753.3967382167,
         "AzimuthTime": "2024-11-25T17:07:33.253713Z",
         "BeginningDateTime": "2024-11-25T17:07:34.267112Z",
         "BurstId": 249433,
         "ByteOffset": 640810107,
         "ContentDate": {
          "End": "2024-11-25T17:07:35.308702Z",
          "Start": "2024-11-25T17:07:34.267112Z"
         },
         "ContentType": "application/octet-stream",
         "DatatakeID": 19744,
         "EndingDateTime": "2024-11-25T17:07:35.308702Z",
         "Footprint": "geography'SRID=4326;POLYGON ((10.804564 46.276581, 11.402422 46.34791, 11.967742 46.412202, 11.920848 46.604472, 11.354552 46.535976, 10.755691 46.460429, 10.804564 46.276581))'",
         "GeoFootprint": {
          "coordinates": [
           [
            [
             10.804564,
             46.276581
            ],
            [
             11.402422,
             46.34791
            ],
            [
             11.967742,
             46.412202
            ],
            [
             11.920848,
             46.604472
            ],
            [
             11.354552,
             46.535976
            ],
            [
             10.755691,
             46.460429
            ],
            [
             10.804564,
             46.276581
            ]
           ]
          ],
          "type": "Polygon"
         },
         "Id": "79991579-b759-4efc-ab51-cc8912cb5cac",
         "Lines": 6048,
         "LinesPerBurst": 1512,
         "Name": "S1A-SLC-20241125T170734-249433-IW2-VV-019744",
         "OperationalMode": "IW",
         "OrbitDirection": "ASCENDING",
         "ParentProductId": "05b3e04d-f533-4d63-a273-d694c14715e8",
         "ParentProductName": "S1A_IW_SLC__1SDV_20241125T170720_20241125T170747_056714_06F5A6_8E5C.SAFE",
         "ParentProductType": "IW_SLC__1S",
         "PlatformSerialIdentifier": "A",
         "PolarisationChannels": "VV",
         "RelativeOrbitNumber": 117,
         "S3Path": "/eodata/Sentinel-1/SAR/IW_SLC__1S/2024/11/25/S1A_IW_SLC__1SDV_20241125T170720_20241125T170747_056714_06F5A6_8E5C.SAFE/measurement/s1a-iw2-slc-vv-20241125t170722-20241125t170747-056714-06f5a6-005.tiff",
         "SamplesPerBurst": 26484,
         "SwathIdentifier": "IW2"
        },
        {
         "@odata.mediaContentType": "application/octet-stream",
         "AbsoluteBurstId": 121815707,
         "AzimuthAnxTime": 756.1552947713,
         "AzimuthTime": "2024-11-25T17:07:36.012270Z",
         "BeginningDateTime": "2024-11-25T17:07:37.025389Z",
         "BurstId": 249434,
         "ByteOffset": 800985339,
         "ContentDate": {
          "End": "2024-11-25T17:07:38.066979Z",
          "Start": "2024-11-25T17:07:37.025389Z"
         },
         "ContentType": "application/octet-stream",
         "DatatakeID": 19744,
         "EndingDateTime": "2024-11-25T17:07:38.066979Z",
         "Footprint": "geography'SRID=4326;POLYGON ((10.760624 46.441904, 11.360345 46.513254, 11.927424 46.577547, 11.880394 46.76981, 11.312324 46.701311, 10.711586 46.625741, 10.760624 46.441904))'",
         "GeoFootprint": {
          "coordinates": [
           [
            [
             10.760624,
             46.441904
            ],
            [
             11.360345,
             46.513254
            ],
            [
             11.927424,
             46.577547
            ],
            [
             11.880394,
             46.76981
            ],
            [
             11.312324,
             46.701311
            ],
            [
             10.711586,
             46.625741
            ],
            [
             10.760624,
             46.441904
            ]
           ]
          ],
          "type": "Polygon"
         },
         "Id": "b707573a-291c-42a1-914d-9dbf089d78d2",
         "Lines": 7560,
         "LinesPerBurst": 1512,
         "Name": "S1A-SLC-20241125T170737-249434-IW2-VV-019744",
         "OperationalMode": "IW",
         "OrbitDirection": "ASCENDING",
         "ParentProductId": "05b3e04d-f533-4d63-a273-d694c14715e8",
         "ParentProductName": "S1A_IW_SLC__1SDV_20241125T170720_20241125T170747_056714_06F5A6_8E5C.SAFE",
         "ParentProductType": "IW_SLC__1S",
         "PlatformSerialIdentifier": "A",
         "PolarisationChannels": "VV",
         "RelativeOrbitNumber": 117,
         "S3Path": "/eodata/Sentinel-1/SAR/IW_SLC__1S/2024/11/25/S1A_IW_SLC__1SDV_20241125T170720_20241125T170747_056714_06F5A6_8E5C.SAFE/measurement/s1a-iw2-slc-vv-20241125t170722-20241125t170747-056714-06f5a6-005.tiff",
         "SamplesPerBurst": 26484,
         "SwathIdentifier": "IW2"
        },
        {
         "@odata.mediaContentType": "application/octet-stream",
         "AbsoluteBurstId": 121925775,
         "AzimuthAnxTime": 2199.6297391092,
         "AzimuthTime": "2024-11-29T05:27:32.383552Z",
         "BeginningDateTime": "2024-11-29T05:27:33.509049Z",
         "BurstId": 359502,
         "ByteOffset": 108891,
         "ContentDate": {
          "End": "2024-11-29T05:27:34.387259Z",
          "Start": "2024-11-29T05:27:33.509049Z"
         },
         "ContentType": "application/octet-stream",
         "DatatakeID": 23200,
         "EndingDateTime": "2024-11-29T05:27:34.387259Z",
         "Footprint": "geography'SRID=4326;POLYGON ((12.258601 46.421295, 11.684 46.499758, 11.150156 46.570046, 11.096085 46.366558, 11.629119 46.30082, 12.202845 46.226925, 12.258601 46.421295))'",
         "GeoFootprint": {
          "coordinates": [
           [
            [
             12.258601,
             46.421295
            ],
            [
             11.684,
             46.499758
            ],
            [
             11.150156,
             46.570046
            ],
            [
             11.096085,
             46.366558
            ],
            [
             11.629119,
             46.30082
            ],
            [
             12.202845,
             46.226925
            ],
            [
             12.258601,
             46.421295
            ]
           ]
          ],
          "type": "Polygon"
         },
         "Id": "052bcc54-dc05-4f76-864b-6f34095d1b03",
         "Lines": 0,
         "LinesPerBurst": 1508,
         "Name": "S1A-SLC-20241129T052733-359502-IW1-VV-023200",
         "OperationalMode": "IW",
         "OrbitDirection": "DESCENDING",
         "ParentProductId": "bcc71367-042d-4f79-b4a9-59a0f1957ef6",
         "ParentProductName": "S1A_IW_SLC__1SDV_20241129T052730_20241129T052757_056765_06F7AD_7A2E.SAFE",
         "ParentProductType": "IW_SLC__1S",
         "PlatformSerialIdentifier": "A",
         "PolarisationChannels": "VV",
         "RelativeOrbitNumber": 168,
         "S3Path": "/eodata/Sentinel-1/SAR/IW_SLC__1S/2024/11/29/S1A_IW_SLC__1SDV_20241129T052730_20241129T052757_056765_06F7AD_7A2E.SAFE/measurement/s1a-iw1-slc-vv-20241129t052732-20241129t052757-056765-06f7ad-004.tiff",
         "SamplesPerBurst": 22990,
         "SwathIdentifier": "IW1"
        },
        {
         "@odata.mediaContentType": "application/octet-stream",
         "AbsoluteBurstId": 121925774,
         "AzimuthAnxTime": 2196.8711829897,
         "AzimuthTime": "2024-11-29T05:27:29.624996Z",
         "BeginningDateTime": "2024-11-29T05:27:30.750773Z",
         "BurstId": 359501,
         "ByteOffset": 1109514331,
         "ContentDate": {
          "End": "2024-11-29T05:27:31.628983Z",
          "Start": "2024-11-29T05:27:30.750773Z"
         },
         "ContentType": "application/octet-stream",
         "DatatakeID": 23200,
         "EndingDateTime": "2024-11-29T05:27:31.628983Z",
         "Footprint": "geography'SRID=4326;POLYGON ((12.306189 46.586499, 11.729773 46.66502, 11.194249 46.735345, 11.139994 46.531867, 11.674696 46.466093, 12.250223 46.392142, 12.306189 46.586499))'",
         "GeoFootprint": {
          "coordinates": [
           [
            [
             12.306189,
             46.586499
            ],
            [
             11.729773,
             46.66502
            ],
            [
             11.194249,
             46.735345
            ],
            [
             11.139994,
             46.531867
            ],
            [
             11.674696,
             46.466093
            ],
            [
             12.250223,
             46.392142
            ],
            [
             12.306189,
             46.586499
            ]
           ]
          ],
          "type": "Polygon"
         },
         "Id": "d01092f8-192e-42b6-b1ae-fded3207b619",
         "Lines": 12064,
         "LinesPerBurst": 1508,
         "Name": "S1A-SLC-20241129T052730-359501-IW1-VV-023200",
         "OperationalMode": "IW",
         "OrbitDirection": "DESCENDING",
         "ParentProductId": "9c169d34-d513-4a6d-93ad-885b685cad77",
         "ParentProductName": "S1A_IW_SLC__1SDV_20241129T052705_20241129T052732_056765_06F7AD_163B.SAFE",
         "ParentProductType": "IW_SLC__1S",
         "PlatformSerialIdentifier": "A",
         "PolarisationChannels": "VV",
         "RelativeOrbitNumber": 168,
         "S3Path": "/eodata/Sentinel-1/SAR/IW_SLC__1S/2024/11/29/S1A_IW_SLC__1SDV_20241129T052705_20241129T052732_056765_06F7AD_163B.SAFE/measurement/s1a-iw1-slc-vv-20241129t052707-20241129t052732-056765-06f7ad-004.tiff",
         "SamplesPerBurst": 22990,
         "SwathIdentifier": "IW1"
        },
        {
         "@odata.mediaContentType": "application/octet-stream",
         "AbsoluteBurstId": 122144864,
         "AzimuthAnxTime": 2200.7853515477,
         "AzimuthTime": "2024-12-06T05:19:19.038387Z",
         "BeginningDateTime": "2024-12-06T05:19:20.175334Z",
         "BurstId": 202703,
         "ByteOffset": 1256856515,
         "ContentDate": {
          "End": "2024-12-06T05:19:21.079940Z",
          "Start": "2024-12-06T05:19:20.175334Z"
         },
         "ContentType": "application/octet-stream",
         "DatatakeID": 457644,
         "EndingDateTime": "2024-12-06T05:19:21.079940Z",
         "Footprint": "geography'SRID=4326;POLYGON ((12.089482 46.634916, 11.563369 46.69639, 11.056374 46.753309, 11.010245 46.548522, 11.516373 46.496209, 12.041638 46.439349, 12.089482 46.634916))'",
         "GeoFootprint": {
          "coordinates": [
           [
            [
             12.089482,
             46.634916
            ],
            [
             11.563369,
             46.69639
            ],
            [
             11.056374,
             46.753309
            ],
            [
             11.010245,
             46.548522
            ],
            [
             11.516373,
             46.496209
            ],
            [
             12.041638,
             46.439349
            ],
            [
             12.089482,
             46.634916
            ]
           ]
          ],
          "type": "Polygon"
         },
         "Id": "c65f0199-c449-4f3f-a7f5-8c1404f3271e",
         "Lines": 12200,
         "LinesPerBurst": 1525,
         "Name": "S1A-SLC-20241206T051920-202703-IW3-VV-457644",
         "OperationalMode": "IW",
         "OrbitDirection": "DESCENDING",
         "ParentProductId": "ab43ce7b-83d7-43a3-8520-5e221516f917",
         "ParentProductName": "S1A_IW_SLC__1SDV_20241206T051856_20241206T051922_056867_06FBAC_5996.SAFE",
         "ParentProductType": "IW_SLC__1S",
         "PlatformSerialIdentifier": "A",
         "PolarisationChannels": "VV",
         "RelativeOrbitNumber": 95,
         "S3Path": "/eodata/Sentinel-1/SAR/IW_SLC__1S/2024/12/06/S1A_IW_SLC__1SDV_20241206T051856_20241206T051922_056867_06FBAC_5996.SAFE/measurement/s1a-iw3-slc-vv-20241206t051856-20241206t051922-056867-06fbac-006.tiff",
         "SamplesPerBurst": 25753,
         "SwathIdentifier": "IW3"
        },
        {
         "@odata.mediaContentType": "application/octet-stream",
         "AbsoluteBurstId": 122144865,
         "AzimuthAnxTime": 2203.5418519983,
         "AzimuthTime": "2024-12-06T05:19:21.794887Z",
         "BeginningDateTime": "2024-12-06T05:19:22.933610Z",
         "BurstId": 202704,
         "ByteOffset": 110115,
         "ContentDate": {
          "End": "2024-12-06T05:19:23.838216Z",
          "Start": "2024-12-06T05:19:22.933610Z"
         },
         "ContentType": "application/octet-stream",
         "DatatakeID": 457644,
         "EndingDateTime": "2024-12-06T05:19:23.838216Z",
         "Footprint": "geography'SRID=4326;POLYGON ((12.049022 46.469577, 11.524545 46.531064, 11.019128 46.588009, 10.97311 46.383218, 11.477674 46.330878, 12.001315 46.274004, 12.049022 46.469577))'",
         "GeoFootprint": {
          "coordinates": [
           [
            [
             12.049022,
             46.469577
            ],
            [
             11.524545,
             46.531064
            ],
            [
             11.019128,
             46.588009
            ],
            [
             10.97311,
             46.383218
            ],
            [
             11.477674,
             46.330878
            ],
            [
             12.001315,
             46.274004
            ],
            [
             12.049022,
             46.469577
            ]
           ]
          ],
          "type": "Polygon"
         },
         "Id": "07220ad6-f0e7-49d7-9cb7-126b3bbe96f7",
         "Lines": 0,
         "LinesPerBurst": 1525,
         "Name": "S1A-SLC-20241206T051922-202704-IW3-VV-457644",
         "OperationalMode": "IW",
         "OrbitDirection": "DESCENDING",
         "ParentProductId": "4f7346fe-0fb8-4aaf-9957-0c9606c39e08",
         "ParentProductName": "S1A_IW_SLC__1SDV_20241206T051920_20241206T051947_056867_06FBAC_BD99.SAFE",
         "ParentProductType": "IW_SLC__1S",
         "PlatformSerialIdentifier": "A",
         "PolarisationChannels": "VV",
         "RelativeOrbitNumber": 95,
         "S3Path": "/eodata/Sentinel-1/SAR/IW_SLC__1S/2024/12/06/S1A_IW_SLC__1SDV_20241206T051920_20241206T051947_056867_06FBAC_BD99.SAFE/measurement/s1a-iw3-slc-vv-20241206t051921-20241206t051946-056867-06fbac-006.tiff",
         "SamplesPerBurst": 25753,
         "SwathIdentifier": "IW3"
        },
        {
         "@odata.mediaContentType": "application/octet-stream",
         "AbsoluteBurstId": 122191594,
         "AzimuthAnxTime": 753.4068013292999,
         "AzimuthTime": "2024-12-07T17:07:32.267337Z",
         "BeginningDateTime": "2024-12-07T17:07:33.272514Z",
         "BurstId": 249433,
         "ByteOffset": 640810107,
         "ContentDate": {
          "End": "2024-12-07T17:07:34.314104Z",
          "Start": "2024-12-07T17:07:33.272514Z"
         },
         "ContentType": "application/octet-stream",
         "DatatakeID": 457860,
         "EndingDateTime": "2024-12-07T17:07:34.314104Z",
         "Footprint": "geography'SRID=4326;POLYGON ((10.804564 46.276581, 11.402422 46.34791, 11.967742 46.412202, 11.920848 46.604472, 11.354552 46.535976, 10.755691 46.460429, 10.804564 46.276581))'",
         "GeoFootprint": {
          "coordinates": [
           [
            [
             10.804564,
             46.276581
            ],
            [
             11.402422,
             46.34791
            ],
            [
             11.967742,
             46.412202
            ],
            [
             11.920848,
             46.604472
            ],
            [
             11.354552,
             46.535976
            ],
            [
             10.755691,
             46.460429
            ],
            [
             10.804564,
             46.276581
            ]
           ]
          ],
          "type": "Polygon"
         },
         "Id": "ec923b1d-ba43-4fde-839b-229cfb0b31c6",
         "Lines": 6048,
         "LinesPerBurst": 1512,
         "Name": "S1A-SLC-20241207T170733-249433-IW2-VV-457860",
         "OperationalMode": "IW",
         "OrbitDirection": "ASCENDING",
         "ParentProductId": "78d0c354-dff1-4749-a147-0177dca0e45a",
         "ParentProductName": "S1A_IW_SLC__1SDV_20241207T170719_20241207T170746_056889_06FC84_9C13.SAFE",
         "ParentProductType": "IW_SLC__1S",
         "PlatformSerialIdentifier": "A",
         "PolarisationChannels": "VV",
         "RelativeOrbitNumber": 117,
         "S3Path": "/eodata/Sentinel-1/SAR/IW_SLC__1S/2024/12/07/S1A_IW_SLC__1SDV_20241207T170719_20241207T170746_056889_06FC84_9C13.SAFE/measurement/s1a-iw2-slc-vv-20241207t170721-20241207t170746-056889-06fc84-005.tiff",
         "SamplesPerBurst": 26484,
         "SwathIdentifier": "IW2"
        },
        {
         "@odata.mediaContentType": "application/octet-stream",
         "AbsoluteBurstId": 122191595,
         "AzimuthAnxTime": 756.1653578838999,
         "AzimuthTime": "2024-12-07T17:07:35.025894Z",
         "BeginningDateTime": "2024-12-07T17:07:36.030791Z",
         "BurstId": 249434,
         "ByteOffset": 800985339,
         "ContentDate": {
          "End": "2024-12-07T17:07:37.072381Z",
          "Start": "2024-12-07T17:07:36.030791Z"
         },
         "ContentType": "application/octet-stream",
         "DatatakeID": 457860,
         "EndingDateTime": "2024-12-07T17:07:37.072381Z",
         "Footprint": "geography'SRID=4326;POLYGON ((10.760624 46.441904, 11.360345 46.513254, 11.927424 46.577547, 11.880394 46.76981, 11.312324 46.701311, 10.711586 46.625741, 10.760624 46.441904))'",
         "GeoFootprint": {
          "coordinates": [
           [
            [
             10.760624,
             46.441904
            ],
            [
             11.360345,
             46.513254
            ],
            [
             11.927424,
             46.577547
            ],
            [
             11.880394,
             46.76981
            ],
            [
             11.312324,
             46.701311
            ],
            [
             10.711586,
             46.625741
            ],
            [
             10.760624,
             46.441904
            ]
           ]
          ],
          "type": "Polygon"
         },
         "Id": "0016b90c-ed87-4285-b547-136af5031d00",
         "Lines": 7560,
         "LinesPerBurst": 1512,
         "Name": "S1A-SLC-20241207T170736-249434-IW2-VV-457860",
         "OperationalMode": "IW",
         "OrbitDirection": "ASCENDING",
         "ParentProductId": "78d0c354-dff1-4749-a147-0177dca0e45a",
         "ParentProductName": "S1A_IW_SLC__1SDV_20241207T170719_20241207T170746_056889_06FC84_9C13.SAFE",
         "ParentProductType": "IW_SLC__1S",
         "PlatformSerialIdentifier": "A",
         "PolarisationChannels": "VV",
         "RelativeOrbitNumber": 117,
         "S3Path": "/eodata/Sentinel-1/SAR/IW_SLC__1S/2024/12/07/S1A_IW_SLC__1SDV_20241207T170719_20241207T170746_056889_06FC84_9C13.SAFE/measurement/s1a-iw2-slc-vv-20241207t170721-20241207t170746-056889-06fc84-005.tiff",
         "SamplesPerBurst": 26484,
         "SwathIdentifier": "IW2"
        },
        {
         "@odata.mediaContentType": "application/octet-stream",
         "AbsoluteBurstId": 122301661,
         "AzimuthAnxTime": 2196.8733209897,
         "AzimuthTime": "2024-12-11T05:27:28.649917Z",
         "BeginningDateTime": "2024-12-11T05:27:29.777751Z",
         "BurstId": 359501,
         "ByteOffset": 1109514331,
         "ContentDate": {
          "End": "2024-12-11T05:27:30.655961Z",
          "Start": "2024-12-11T05:27:29.777751Z"
         },
         "ContentType": "application/octet-stream",
         "DatatakeID": 458373,
         "EndingDateTime": "2024-12-11T05:27:30.655961Z",
         "Footprint": "geography'SRID=4326;POLYGON ((12.306189 46.586499, 11.729773 46.66502, 11.194249 46.735345, 11.139994 46.531867, 11.674696 46.466093, 12.250223 46.392142, 12.306189 46.586499))'",
         "GeoFootprint": {
          "coordinates": [
           [
            [
             12.306189,
             46.586499
            ],
            [
             11.729773,
             46.66502
            ],
            [
             11.194249,
             46.735345
            ],
            [
             11.139994,
             46.531867
            ],
            [
             11.674696,
             46.466093
            ],
            [
             12.250223,
             46.392142
            ],
            [
             12.306189,
             46.586499
            ]
           ]
          ],
          "type": "Polygon"
         },
         "Id": "60ece94b-d5f7-4600-85f0-c15810d114b6",
         "Lines": 12064,
         "LinesPerBurst": 1508,
         "Name": "S1A-SLC-20241211T052729-359501-IW1-VV-458373",
         "OperationalMode": "IW",
         "OrbitDirection": "DESCENDING",
         "ParentProductId": "afc3389e-b4cf-499f-b29f-96b433f502c3",
         "ParentProductName": "S1A_IW_SLC__1SDV_20241211T052704_20241211T052731_056940_06FE85_F992.SAFE",
         "ParentProductType": "IW_SLC__1S",
         "PlatformSerialIdentifier": "A",
         "PolarisationChannels": "VV",
         "RelativeOrbitNumber": 168,
         "S3Path": "/eodata/Sentinel-1/SAR/IW_SLC__1S/2024/12/11/S1A_IW_SLC__1SDV_20241211T052704_20241211T052731_056940_06FE85_F992.SAFE/measurement/s1a-iw1-slc-vv-20241211t052706-20241211t052731-056940-06fe85-004.tiff",
         "SamplesPerBurst": 22990,
         "SwathIdentifier": "IW1"
        },
        {
         "@odata.mediaContentType": "application/octet-stream",
         "AbsoluteBurstId": 122301662,
         "AzimuthAnxTime": 2199.6318781092,
         "AzimuthTime": "2024-12-11T05:27:31.408474Z",
         "BeginningDateTime": "2024-12-11T05:27:32.536027Z",
         "BurstId": 359502,
         "ByteOffset": 108891,
         "ContentDate": {
          "End": "2024-12-11T05:27:33.414237Z",
          "Start": "2024-12-11T05:27:32.536027Z"
         },
         "ContentType": "application/octet-stream",
         "DatatakeID": 458373,
         "EndingDateTime": "2024-12-11T05:27:33.414237Z",
         "Footprint": "geography'SRID=4326;POLYGON ((12.258601 46.421295, 11.684 46.499758, 11.150156 46.570046, 11.096085 46.366558, 11.629119 46.30082, 12.202845 46.226925, 12.258601 46.421295))'",
         "GeoFootprint": {
          "coordinates": [
           [
            [
             12.258601,
             46.421295
            ],
            [
             11.684,
             46.499758
            ],
            [
             11.150156,
             46.570046
            ],
            [
             11.096085,
             46.366558
            ],
            [
             11.629119,
             46.30082
            ],
            [
             12.202845,
             46.226925
            ],
            [
             12.258601,
             46.421295
            ]
           ]
          ],
          "type": "Polygon"
         },
         "Id": "3ce4e3f6-9618-4e20-be5d-6ef39c1977d5",
         "Lines": 0,
         "LinesPerBurst": 1508,
         "Name": "S1A-SLC-20241211T052732-359502-IW1-VV-458373",
         "OperationalMode": "IW",
         "OrbitDirection": "DESCENDING",
         "ParentProductId": "bdc6b0ff-905d-4ed2-a956-595d6f56d2d9",
         "ParentProductName": "S1A_IW_SLC__1SDV_20241211T052729_20241211T052756_056940_06FE85_F2C2.SAFE",
         "ParentProductType": "IW_SLC__1S",
         "PlatformSerialIdentifier": "A",
         "PolarisationChannels": "VV",
         "RelativeOrbitNumber": 168,
         "S3Path": "/eodata/Sentinel-1/SAR/IW_SLC__1S/2024/12/11/S1A_IW_SLC__1SDV_20241211T052729_20241211T052756_056940_06FE85_F2C2.SAFE/measurement/s1a-iw1-slc-vv-20241211t052731-20241211t052756-056940-06fe85-004.tiff",
         "SamplesPerBurst": 22990,
         "SwathIdentifier": "IW1"
        },
        {
         "@odata.mediaContentType": "application/octet-stream",
         "AbsoluteBurstId": 122520751,
         "AzimuthAnxTime": 2200.7965835477,
         "AzimuthTime": "2024-12-18T05:19:17.715084Z",
         "BeginningDateTime": "2024-12-18T05:19:18.852046Z",
         "BurstId": 202703,
         "ByteOffset": 1256856515,
         "ContentDate": {
          "End": "2024-12-18T05:19:19.756652Z",
          "Start": "2024-12-18T05:19:18.852046Z"
         },
         "ContentType": "application/octet-stream",
         "DatatakeID": 459422,
         "EndingDateTime": "2024-12-18T05:19:19.756652Z",
         "Footprint": "geography'SRID=4326;POLYGON ((12.089482 46.634916, 11.563369 46.69639, 11.056374 46.753309, 11.010245 46.548522, 11.516373 46.496209, 12.041638 46.439349, 12.089482 46.634916))'",
         "GeoFootprint": {
          "coordinates": [
           [
            [
             12.089482,
             46.634916
            ],
            [
             11.563369,
             46.69639
            ],
            [
             11.056374,
             46.753309
            ],
            [
             11.010245,
             46.548522
            ],
            [
             11.516373,
             46.496209
            ],
            [
             12.041638,
             46.439349
            ],
            [
             12.089482,
             46.634916
            ]
           ]
          ],
          "type": "Polygon"
         },
         "Id": "b1f9e84d-8fbd-4cec-994e-8cc161e2dbac",
         "Lines": 12200,
         "LinesPerBurst": 1525,
         "Name": "S1A-SLC-20241218T051918-202703-IW3-VV-459422",
         "OperationalMode": "IW",
         "OrbitDirection": "DESCENDING",
         "ParentProductId": "ee96f87b-c3aa-4525-9a92-987ea9ea52e5",
         "ParentProductName": "S1A_IW_SLC__1SDV_20241218T051854_20241218T051921_057042_07029E_A70C.SAFE",
         "ParentProductType": "IW_SLC__1S",
         "PlatformSerialIdentifier": "A",
         "PolarisationChannels": "VV",
         "RelativeOrbitNumber": 95,
         "S3Path": "/eodata/Sentinel-1/SAR/IW_SLC__1S/2024/12/18/S1A_IW_SLC__1SDV_20241218T051854_20241218T051921_057042_07029E_A70C.SAFE/measurement/s1a-iw3-slc-vv-20241218t051855-20241218t051920-057042-07029e-006.tiff",
         "SamplesPerBurst": 25753,
         "SwathIdentifier": "IW3"
        },
        {
         "@odata.mediaContentType": "application/octet-stream",
         "AbsoluteBurstId": 122520752,
         "AzimuthAnxTime": 2203.5530839983,
         "AzimuthTime": "2024-12-18T05:19:20.471584Z",
         "BeginningDateTime": "2024-12-18T05:19:21.610322Z",
         "BurstId": 202704,
         "ByteOffset": 110115,
         "ContentDate": {
          "End": "2024-12-18T05:19:22.514928Z",
          "Start": "2024-12-18T05:19:21.610322Z"
         },
         "ContentType": "application/octet-stream",
         "DatatakeID": 459422,
         "EndingDateTime": "2024-12-18T05:19:22.514928Z",
         "Footprint": "geography'SRID=4326;POLYGON ((12.049022 46.469577, 11.524545 46.531064, 11.019128 46.588009, 10.97311 46.383218, 11.477674 46.330878, 12.001315 46.274004, 12.049022 46.469577))'",
         "GeoFootprint": {
          "coordinates": [
           [
            [
             12.049022,
             46.469577
            ],
            [
             11.524545,
             46.531064
            ],
            [
             11.019128,
             46.588009
            ],
            [
             10.97311,
             46.383218
            ],
            [
             11.477674,
             46.330878
            ],
            [
             12.001315,
             46.274004
            ],
            [
             12.049022,
             46.469577
            ]
           ]
          ],
          "type": "Polygon"
         },
         "Id": "1f58b03e-1292-476a-8f31-8e539a532040",
         "Lines": 0,
         "LinesPerBurst": 1525,
         "Name": "S1A-SLC-20241218T051921-202704-IW3-VV-459422",
         "OperationalMode": "IW",
         "OrbitDirection": "DESCENDING",
         "ParentProductId": "6a4144e2-5faa-4b86-b21a-7207629d5b90",
         "ParentProductName": "S1A_IW_SLC__1SDV_20241218T051919_20241218T051946_057042_07029E_8F59.SAFE",
         "ParentProductType": "IW_SLC__1S",
         "PlatformSerialIdentifier": "A",
         "PolarisationChannels": "VV",
         "RelativeOrbitNumber": 95,
         "S3Path": "/eodata/Sentinel-1/SAR/IW_SLC__1S/2024/12/18/S1A_IW_SLC__1SDV_20241218T051919_20241218T051946_057042_07029E_8F59.SAFE/measurement/s1a-iw3-slc-vv-20241218t051920-20241218t051945-057042-07029e-006.tiff",
         "SamplesPerBurst": 25753,
         "SwathIdentifier": "IW3"
        },
        {
         "@odata.mediaContentType": "application/octet-stream",
         "AbsoluteBurstId": 122567481,
         "AzimuthAnxTime": 753.403034773,
         "AzimuthTime": "2024-12-19T17:07:31.027922Z",
         "BeginningDateTime": "2024-12-19T17:07:32.037208Z",
         "BurstId": 249433,
         "ByteOffset": 640810107,
         "ContentDate": {
          "End": "2024-12-19T17:07:33.078798Z",
          "Start": "2024-12-19T17:07:32.037208Z"
         },
         "ContentType": "application/octet-stream",
         "DatatakeID": 459655,
         "EndingDateTime": "2024-12-19T17:07:33.078798Z",
         "Footprint": "geography'SRID=4326;POLYGON ((10.804564 46.276581, 11.402422 46.34791, 11.967742 46.412202, 11.920848 46.604472, 11.354552 46.535976, 10.755691 46.460429, 10.804564 46.276581))'",
         "GeoFootprint": {
          "coordinates": [
           [
            [
             10.804564,
             46.276581
            ],
            [
             11.402422,
             46.34791
            ],
            [
             11.967742,
             46.412202
            ],
            [
             11.920848,
             46.604472
            ],
            [
             11.354552,
             46.535976
            ],
            [
             10.755691,
             46.460429
            ],
            [
             10.804564,
             46.276581
            ]
           ]
          ],
          "type": "Polygon"
         },
         "Id": "2cee03c1-58f2-4b36-877a-e0b8b1636a11",
         "Lines": 6048,
         "LinesPerBurst": 1512,
         "Name": "S1A-SLC-20241219T170732-249433-IW2-VV-459655",
         "OperationalMode": "IW",
         "OrbitDirection": "ASCENDING",
         "ParentProductId": "91b7050b-ebba-4f8b-8517-be5511557c66",
         "ParentProductName": "S1A_IW_SLC__1SDV_20241219T170718_20241219T170745_057064_070387_3CFE.SAFE",
         "ParentProductType": "IW_SLC__1S",
         "PlatformSerialIdentifier": "A",
         "PolarisationChannels": "VV",
         "RelativeOrbitNumber": 117,
         "S3Path": "/eodata/Sentinel-1/SAR/IW_SLC__1S/2024/12/19/S1A_IW_SLC__1SDV_20241219T170718_20241219T170745_057064_070387_3CFE.SAFE/measurement/s1a-iw2-slc-vv-20241219t170719-20241219t170745-057064-070387-005.tiff",
         "SamplesPerBurst": 26484,
         "SwathIdentifier": "IW2"
        },
        {
         "@odata.mediaContentType": "application/octet-stream",
         "AbsoluteBurstId": 122567482,
         "AzimuthAnxTime": 756.1615913275999,
         "AzimuthTime": "2024-12-19T17:07:33.786478Z",
         "BeginningDateTime": "2024-12-19T17:07:34.795485Z",
         "BurstId": 249434,
         "ByteOffset": 800985339,
         "ContentDate": {
          "End": "2024-12-19T17:07:35.837075Z",
          "Start": "2024-12-19T17:07:34.795485Z"
         },
         "ContentType": "application/octet-stream",
         "DatatakeID": 459655,
         "EndingDateTime": "2024-12-19T17:07:35.837075Z",
         "Footprint": "geography'SRID=4326;POLYGON ((10.760624 46.441904, 11.360345 46.513254, 11.927424 46.577547, 11.880394 46.76981, 11.312324 46.701311, 10.711586 46.625741, 10.760624 46.441904))'",
         "GeoFootprint": {
          "coordinates": [
           [
            [
             10.760624,
             46.441904
            ],
            [
             11.360345,
             46.513254
            ],
            [
             11.927424,
             46.577547
            ],
            [
             11.880394,
             46.76981
            ],
            [
             11.312324,
             46.701311
            ],
            [
             10.711586,
             46.625741
            ],
            [
             10.760624,
             46.441904
            ]
           ]
          ],
          "type": "Polygon"
         },
         "Id": "0fafd3f2-8e1c-48c4-a890-923ea12ffbd3",
         "Lines": 7560,
         "LinesPerBurst": 1512,
         "Name": "S1A-SLC-20241219T170734-249434-IW2-VV-459655",
         "OperationalMode": "IW",
         "OrbitDirection": "ASCENDING",
         "ParentProductId": "91b7050b-ebba-4f8b-8517-be5511557c66",
         "ParentProductName": "S1A_IW_SLC__1SDV_20241219T170718_20241219T170745_057064_070387_3CFE.SAFE",
         "ParentProductType": "IW_SLC__1S",
         "PlatformSerialIdentifier": "A",
         "PolarisationChannels": "VV",
         "RelativeOrbitNumber": 117,
         "S3Path": "/eodata/Sentinel-1/SAR/IW_SLC__1S/2024/12/19/S1A_IW_SLC__1SDV_20241219T170718_20241219T170745_057064_070387_3CFE.SAFE/measurement/s1a-iw2-slc-vv-20241219t170719-20241219t170745-057064-070387-005.tiff",
         "SamplesPerBurst": 26484,
         "SwathIdentifier": "IW2"
        },
        {
         "@odata.mediaContentType": "application/octet-stream",
         "AbsoluteBurstId": 122677549,
         "AzimuthAnxTime": 2196.8744934334,
         "AzimuthTime": "2024-12-23T05:27:27.442485Z",
         "BeginningDateTime": "2024-12-23T05:27:28.568263Z",
         "BurstId": 359501,
         "ByteOffset": 1109514331,
         "ContentDate": {
          "End": "2024-12-23T05:27:29.446473Z",
          "Start": "2024-12-23T05:27:28.568263Z"
         },
         "ContentType": "application/octet-stream",
         "DatatakeID": 460176,
         "EndingDateTime": "2024-12-23T05:27:29.446473Z",
         "Footprint": "geography'SRID=4326;POLYGON ((12.306189 46.586499, 11.729773 46.66502, 11.194249 46.735345, 11.139994 46.531867, 11.674696 46.466093, 12.250223 46.392142, 12.306189 46.586499))'",
         "GeoFootprint": {
          "coordinates": [
           [
            [
             12.306189,
             46.586499
            ],
            [
             11.729773,
             46.66502
            ],
            [
             11.194249,
             46.735345
            ],
            [
             11.139994,
             46.531867
            ],
            [
             11.674696,
             46.466093
            ],
            [
             12.250223,
             46.392142
            ],
            [
             12.306189,
             46.586499
            ]
           ]
          ],
          "type": "Polygon"
         },
         "Id": "50bfd7af-4934-4ade-8fe4-e7e211ca0184",
         "Lines": 12064,
         "LinesPerBurst": 1508,
         "Name": "S1A-SLC-20241223T052728-359501-IW1-VV-460176",
         "OperationalMode": "IW",
         "OrbitDirection": "DESCENDING",
         "ParentProductId": "09931144-fffb-4f7a-be88-9fa29b521bba",
         "ParentProductName": "S1A_IW_SLC__1SDV_20241223T052703_20241223T052730_057115_070590_A05E.SAFE",
         "ParentProductType": "IW_SLC__1S",
         "PlatformSerialIdentifier": "A",
         "PolarisationChannels": "VV",
         "RelativeOrbitNumber": 168,
         "S3Path": "/eodata/Sentinel-1/SAR/IW_SLC__1S/2024/12/23/S1A_IW_SLC__1SDV_20241223T052703_20241223T052730_057115_070590_A05E.SAFE/measurement/s1a-iw1-slc-vv-20241223t052705-20241223t052730-057115-070590-004.tiff",
         "SamplesPerBurst": 22990,
         "SwathIdentifier": "IW1"
        },
        {
         "@odata.mediaContentType": "application/octet-stream",
         "AbsoluteBurstId": 122677550,
         "AzimuthAnxTime": 2199.6309945529,
         "AzimuthTime": "2024-12-23T05:27:30.198987Z",
         "BeginningDateTime": "2024-12-23T05:27:31.326539Z",
         "BurstId": 359502,
         "ByteOffset": 108891,
         "ContentDate": {
          "End": "2024-12-23T05:27:32.204749Z",
          "Start": "2024-12-23T05:27:31.326539Z"
         },
         "ContentType": "application/octet-stream",
         "DatatakeID": 460176,
         "EndingDateTime": "2024-12-23T05:27:32.204749Z",
         "Footprint": "geography'SRID=4326;POLYGON ((12.258601 46.421295, 11.684 46.499758, 11.150156 46.570046, 11.096085 46.366558, 11.629119 46.30082, 12.202845 46.226925, 12.258601 46.421295))'",
         "GeoFootprint": {
          "coordinates": [
           [
            [
             12.258601,
             46.421295
            ],
            [
             11.684,
             46.499758
            ],
            [
             11.150156,
             46.570046
            ],
            [
             11.096085,
             46.366558
            ],
            [
             11.629119,
             46.30082
            ],
            [
             12.202845,
             46.226925
            ],
            [
             12.258601,
             46.421295
            ]
           ]
          ],
          "type": "Polygon"
         },
         "Id": "68f5fe82-4ace-4c85-b456-957197719097",
         "Lines": 0,
         "LinesPerBurst": 1508,
         "Name": "S1A-SLC-20241223T052731-359502-IW1-VV-460176",
         "OperationalMode": "IW",
         "OrbitDirection": "DESCENDING",
         "ParentProductId": "85c72f1d-71f8-4f75-a182-1e2644c11496",
         "ParentProductName": "S1A_IW_SLC__1SDV_20241223T052728_20241223T052755_057115_070590_864F.SAFE",
         "ParentProductType": "IW_SLC__1S",
         "PlatformSerialIdentifier": "A",
         "PolarisationChannels": "VV",
         "RelativeOrbitNumber": 168,
         "S3Path": "/eodata/Sentinel-1/SAR/IW_SLC__1S/2024/12/23/S1A_IW_SLC__1SDV_20241223T052728_20241223T052755_057115_070590_864F.SAFE/measurement/s1a-iw1-slc-vv-20241223t052730-20241223t052755-057115-070590-004.tiff",
         "SamplesPerBurst": 22990,
         "SwathIdentifier": "IW1"
        },
        {
         "@odata.mediaContentType": "application/octet-stream",
         "AbsoluteBurstId": 122896639,
         "AzimuthAnxTime": 2200.7937729914,
         "AzimuthTime": "2024-12-30T05:19:17.197989Z",
         "BeginningDateTime": "2024-12-30T05:19:18.332881Z",
         "BurstId": 202703,
         "ByteOffset": 1256856515,
         "ContentDate": {
          "End": "2024-12-30T05:19:19.237487Z",
          "Start": "2024-12-30T05:19:18.332881Z"
         },
         "ContentType": "application/octet-stream",
         "DatatakeID": 461194,
         "EndingDateTime": "2024-12-30T05:19:19.237487Z",
         "Footprint": "geography'SRID=4326;POLYGON ((12.089482 46.634916, 11.563369 46.69639, 11.056374 46.753309, 11.010245 46.548522, 11.516373 46.496209, 12.041638 46.439349, 12.089482 46.634916))'",
         "GeoFootprint": {
          "coordinates": [
           [
            [
             12.089482,
             46.634916
            ],
            [
             11.563369,
             46.69639
            ],
            [
             11.056374,
             46.753309
            ],
            [
             11.010245,
             46.548522
            ],
            [
             11.516373,
             46.496209
            ],
            [
             12.041638,
             46.439349
            ],
            [
             12.089482,
             46.634916
            ]
           ]
          ],
          "type": "Polygon"
         },
         "Id": "188b2030-daa1-4574-9641-e12616af30f0",
         "Lines": 12200,
         "LinesPerBurst": 1525,
         "Name": "S1A-SLC-20241230T051918-202703-IW3-VV-461194",
         "OperationalMode": "IW",
         "OrbitDirection": "DESCENDING",
         "ParentProductId": "6ee62120-5577-435b-b868-55296bb7f692",
         "ParentProductName": "S1A_IW_SLC__1SDV_20241230T051854_20241230T051921_057217_07098A_8613.SAFE",
         "ParentProductType": "IW_SLC__1S",
         "PlatformSerialIdentifier": "A",
         "PolarisationChannels": "VV",
         "RelativeOrbitNumber": 95,
         "S3Path": "/eodata/Sentinel-1/SAR/IW_SLC__1S/2024/12/30/S1A_IW_SLC__1SDV_20241230T051854_20241230T051921_057217_07098A_8613.SAFE/measurement/s1a-iw3-slc-vv-20241230t051855-20241230t051920-057217-07098a-006.tiff",
         "SamplesPerBurst": 25753,
         "SwathIdentifier": "IW3"
        },
        {
         "@odata.mediaContentType": "application/octet-stream",
         "AbsoluteBurstId": 122896640,
         "AzimuthAnxTime": 2203.5502739983,
         "AzimuthTime": "2024-12-30T05:19:19.954490Z",
         "BeginningDateTime": "2024-12-30T05:19:21.091157Z",
         "BurstId": 202704,
         "ByteOffset": 110115,
         "ContentDate": {
          "End": "2024-12-30T05:19:21.995763Z",
          "Start": "2024-12-30T05:19:21.091157Z"
         },
         "ContentType": "application/octet-stream",
         "DatatakeID": 461194,
         "EndingDateTime": "2024-12-30T05:19:21.995763Z",
         "Footprint": "geography'SRID=4326;POLYGON ((12.049022 46.469577, 11.524545 46.531064, 11.019128 46.588009, 10.97311 46.383218, 11.477674 46.330878, 12.001315 46.274004, 12.049022 46.469577))'",
         "GeoFootprint": {
          "coordinates": [
           [
            [
             12.049022,
             46.469577
            ],
            [
             11.524545,
             46.531064
            ],
            [
             11.019128,
             46.588009
            ],
            [
             10.97311,
             46.383218
            ],
            [
             11.477674,
             46.330878
            ],
            [
             12.001315,
             46.274004
            ],
            [
             12.049022,
             46.469577
            ]
           ]
          ],
          "type": "Polygon"
         },
         "Id": "fe54c3c1-8ab5-41ff-a2ab-5fb3a0d87140",
         "Lines": 0,
         "LinesPerBurst": 1525,
         "Name": "S1A-SLC-20241230T051921-202704-IW3-VV-461194",
         "OperationalMode": "IW",
         "OrbitDirection": "DESCENDING",
         "ParentProductId": "58775c94-1b70-40ac-a7fd-ec1a768e2cc3",
         "ParentProductName": "S1A_IW_SLC__1SDV_20241230T051918_20241230T051945_057217_07098A_7518.SAFE",
         "ParentProductType": "IW_SLC__1S",
         "PlatformSerialIdentifier": "A",
         "PolarisationChannels": "VV",
         "RelativeOrbitNumber": 95,
         "S3Path": "/eodata/Sentinel-1/SAR/IW_SLC__1S/2024/12/30/S1A_IW_SLC__1SDV_20241230T051918_20241230T051945_057217_07098A_7518.SAFE/measurement/s1a-iw3-slc-vv-20241230t051919-20241230t051945-057217-07098a-006.tiff",
         "SamplesPerBurst": 25753,
         "SwathIdentifier": "IW3"
        },
        {
         "@odata.mediaContentType": "application/octet-stream",
         "AbsoluteBurstId": 122943368,
         "AzimuthAnxTime": 753.4016982167,
         "AzimuthTime": "2024-12-31T17:07:30.157850Z",
         "BeginningDateTime": "2024-12-31T17:07:31.167136Z",
         "BurstId": 249433,
         "ByteOffset": 640810107,
         "ContentDate": {
          "End": "2024-12-31T17:07:32.208726Z",
          "Start": "2024-12-31T17:07:31.167136Z"
         },
         "ContentType": "application/octet-stream",
         "DatatakeID": 461421,
         "EndingDateTime": "2024-12-31T17:07:32.208726Z",
         "Footprint": "geography'SRID=4326;POLYGON ((10.804564 46.276581, 11.402422 46.34791, 11.967742 46.412202, 11.920848 46.604472, 11.354552 46.535976, 10.755691 46.460429, 10.804564 46.276581))'",
         "GeoFootprint": {
          "coordinates": [
           [
            [
             10.804564,
             46.276581
            ],
            [
             11.402422,
             46.34791
            ],
            [
             11.967742,
             46.412202
            ],
            [
             11.920848,
             46.604472
            ],
            [
             11.354552,
             46.535976
            ],
            [
             10.755691,
             46.460429
            ],
            [
             10.804564,
             46.276581
            ]
           ]
          ],
          "type": "Polygon"
         },
         "Id": "e8968f1d-e8d4-4aa0-a543-fcc45b6c70a7",
         "Lines": 6048,
         "LinesPerBurst": 1512,
         "Name": "S1A-SLC-20241231T170731-249433-IW2-VV-461421",
         "OperationalMode": "IW",
         "OrbitDirection": "ASCENDING",
         "ParentProductId": "86b4a189-aece-430e-ad37-0b0bae95d770",
         "ParentProductName": "S1A_IW_SLC__1SDV_20241231T170717_20241231T170744_057239_070A6D_31B7.SAFE",
         "ParentProductType": "IW_SLC__1S",
         "PlatformSerialIdentifier": "A",
         "PolarisationChannels": "VV",
         "RelativeOrbitNumber": 117,
         "S3Path": "/eodata/Sentinel-1/SAR/IW_SLC__1S/2024/12/31/S1A_IW_SLC__1SDV_20241231T170717_20241231T170744_057239_070A6D_31B7.SAFE/measurement/s1a-iw2-slc-vv-20241231t170719-20241231t170744-057239-070a6d-005.tiff",
         "SamplesPerBurst": 26484,
         "SwathIdentifier": "IW2"
        },
        {
         "@odata.mediaContentType": "application/octet-stream",
         "AbsoluteBurstId": 122943369,
         "AzimuthAnxTime": 756.1602547713,
         "AzimuthTime": "2024-12-31T17:07:32.916407Z",
         "BeginningDateTime": "2024-12-31T17:07:33.925413Z",
         "BurstId": 249434,
         "ByteOffset": 800985339,
         "ContentDate": {
          "End": "2024-12-31T17:07:34.967003Z",
          "Start": "2024-12-31T17:07:33.925413Z"
         },
         "ContentType": "application/octet-stream",
         "DatatakeID": 461421,
         "EndingDateTime": "2024-12-31T17:07:34.967003Z",
         "Footprint": "geography'SRID=4326;POLYGON ((10.760624 46.441904, 11.360345 46.513254, 11.927424 46.577547, 11.880394 46.76981, 11.312324 46.701311, 10.711586 46.625741, 10.760624 46.441904))'",
         "GeoFootprint": {
          "coordinates": [
           [
            [
             10.760624,
             46.441904
            ],
            [
             11.360345,
             46.513254
            ],
            [
             11.927424,
             46.577547
            ],
            [
             11.880394,
             46.76981
            ],
            [
             11.312324,
             46.701311
            ],
            [
             10.711586,
             46.625741
            ],
            [
             10.760624,
             46.441904
            ]
           ]
          ],
          "type": "Polygon"
         },
         "Id": "66c139d6-6dc9-4780-b676-e5cf6b0d71ad",
         "Lines": 7560,
         "LinesPerBurst": 1512,
         "Name": "S1A-SLC-20241231T170733-249434-IW2-VV-461421",
         "OperationalMode": "IW",
         "OrbitDirection": "ASCENDING",
         "ParentProductId": "86b4a189-aece-430e-ad37-0b0bae95d770",
         "ParentProductName": "S1A_IW_SLC__1SDV_20241231T170717_20241231T170744_057239_070A6D_31B7.SAFE",
         "ParentProductType": "IW_SLC__1S",
         "PlatformSerialIdentifier": "A",
         "PolarisationChannels": "VV",
         "RelativeOrbitNumber": 117,
         "S3Path": "/eodata/Sentinel-1/SAR/IW_SLC__1S/2024/12/31/S1A_IW_SLC__1SDV_20241231T170717_20241231T170744_057239_070A6D_31B7.SAFE/measurement/s1a-iw2-slc-vv-20241231t170719-20241231t170744-057239-070a6d-005.tiff",
         "SamplesPerBurst": 26484,
         "SwathIdentifier": "IW2"
        }
       ]
      },
      "text/plain": [
       "<IPython.core.display.JSON object>"
      ]
     },
     "execution_count": 6,
     "metadata": {
      "application/json": {
       "expanded": false,
       "root": "root"
      }
     },
     "output_type": "execute_result"
    }
   ],
   "source": [
    "https_request = f\"https://catalogue.dataspace.copernicus.eu/odata/v1/Bursts?$filter=\" + urllib.parse.quote(\n",
    "    f\"ContentDate/Start ge {start_date}T00:00:00.000Z and ContentDate/Start le {end_date}T23:59:59.000Z and \"\n",
    "    f\"PolarisationChannels eq 'VV' and \"\n",
    "    f\"OData.CSC.Intersects(area=geography'SRID=4326;{geom.wkt}')\"\n",
    ") + \"&$top=1000\"\n",
    "\n",
    "with urllib.request.urlopen(https_request) as response:\n",
    "    content = response.read().decode()\n",
    "bursts = json.loads(content)\n",
    "JSON(bursts)"
   ]
  },
  {
   "cell_type": "code",
   "execution_count": 7,
   "id": "d3a31fd1-081e-4c51-b510-3ce8980762d9",
   "metadata": {
    "tags": []
   },
   "outputs": [],
   "source": [
    "bursts_uniqueTrack = {}\n",
    "burstId_list = []\n",
    "track_list = []\n",
    "for b in bursts['value']:\n",
    "    if b['RelativeOrbitNumber'] not in track_list:\n",
    "        bursts_uniqueTrack[b['RelativeOrbitNumber']] = {}\n",
    "        track_list.append(b['RelativeOrbitNumber'])\n",
    "    burstId_subswath = f\"BurstId: {b['BurstId']}, {b['SwathIdentifier']}\"\n",
    "    if burstId_subswath not in burstId_list:\n",
    "        bursts_uniqueTrack[b['RelativeOrbitNumber']][burstId_subswath] = b['GeoFootprint']['coordinates']\n",
    "        burstId_list.append(burstId_subswath)"
   ]
  },
  {
   "cell_type": "markdown",
   "id": "2948dbea-0f4c-43d4-8595-3c7bace09ee1",
   "metadata": {},
   "source": [
    "## 3) Show on map"
   ]
  },
  {
   "cell_type": "code",
   "execution_count": 8,
   "id": "e51b7ad9-c6a8-4621-a219-c972210beb98",
   "metadata": {
    "tags": []
   },
   "outputs": [
    {
     "data": {
      "text/html": [
       "<div style=\"width:100%;\"><div style=\"position:relative;width:100%;height:0;padding-bottom:60%;\"><span style=\"color:#565656\">Make this Notebook Trusted to load map: File -> Trust Notebook</span><iframe srcdoc=\"&lt;!DOCTYPE html&gt;\n",
       "&lt;html&gt;\n",
       "&lt;head&gt;\n",
       "    \n",
       "    &lt;meta http-equiv=&quot;content-type&quot; content=&quot;text/html; charset=UTF-8&quot; /&gt;\n",
       "    \n",
       "        &lt;script&gt;\n",
       "            L_NO_TOUCH = false;\n",
       "            L_DISABLE_3D = false;\n",
       "        &lt;/script&gt;\n",
       "    \n",
       "    &lt;style&gt;html, body {width: 100%;height: 100%;margin: 0;padding: 0;}&lt;/style&gt;\n",
       "    &lt;style&gt;#map {position:absolute;top:0;bottom:0;right:0;left:0;}&lt;/style&gt;\n",
       "    &lt;script src=&quot;https://cdn.jsdelivr.net/npm/leaflet@1.9.3/dist/leaflet.js&quot;&gt;&lt;/script&gt;\n",
       "    &lt;script src=&quot;https://code.jquery.com/jquery-3.7.1.min.js&quot;&gt;&lt;/script&gt;\n",
       "    &lt;script src=&quot;https://cdn.jsdelivr.net/npm/bootstrap@5.2.2/dist/js/bootstrap.bundle.min.js&quot;&gt;&lt;/script&gt;\n",
       "    &lt;script src=&quot;https://cdnjs.cloudflare.com/ajax/libs/Leaflet.awesome-markers/2.0.2/leaflet.awesome-markers.js&quot;&gt;&lt;/script&gt;\n",
       "    &lt;link rel=&quot;stylesheet&quot; href=&quot;https://cdn.jsdelivr.net/npm/leaflet@1.9.3/dist/leaflet.css&quot;/&gt;\n",
       "    &lt;link rel=&quot;stylesheet&quot; href=&quot;https://cdn.jsdelivr.net/npm/bootstrap@5.2.2/dist/css/bootstrap.min.css&quot;/&gt;\n",
       "    &lt;link rel=&quot;stylesheet&quot; href=&quot;https://netdna.bootstrapcdn.com/bootstrap/3.0.0/css/bootstrap-glyphicons.css&quot;/&gt;\n",
       "    &lt;link rel=&quot;stylesheet&quot; href=&quot;https://cdn.jsdelivr.net/npm/@fortawesome/fontawesome-free@6.2.0/css/all.min.css&quot;/&gt;\n",
       "    &lt;link rel=&quot;stylesheet&quot; href=&quot;https://cdnjs.cloudflare.com/ajax/libs/Leaflet.awesome-markers/2.0.2/leaflet.awesome-markers.css&quot;/&gt;\n",
       "    &lt;link rel=&quot;stylesheet&quot; href=&quot;https://cdn.jsdelivr.net/gh/python-visualization/folium/folium/templates/leaflet.awesome.rotate.min.css&quot;/&gt;\n",
       "    \n",
       "            &lt;meta name=&quot;viewport&quot; content=&quot;width=device-width,\n",
       "                initial-scale=1.0, maximum-scale=1.0, user-scalable=no&quot; /&gt;\n",
       "            &lt;style&gt;\n",
       "                #map_a2b4872c0be84dc31bfcb5a1fb3a4402 {\n",
       "                    position: relative;\n",
       "                    width: 100.0%;\n",
       "                    height: 100.0%;\n",
       "                    left: 0.0%;\n",
       "                    top: 0.0%;\n",
       "                }\n",
       "                .leaflet-container { font-size: 1rem; }\n",
       "            &lt;/style&gt;\n",
       "        \n",
       "    &lt;script src=&quot;https://cdn.jsdelivr.net/npm/leaflet.control.layers.tree@1.1.0/L.Control.Layers.Tree.min.js&quot;&gt;&lt;/script&gt;\n",
       "    &lt;link rel=&quot;stylesheet&quot; href=&quot;https://cdn.jsdelivr.net/npm/leaflet.control.layers.tree@1.1.0/L.Control.Layers.Tree.min.css&quot;/&gt;\n",
       "&lt;/head&gt;\n",
       "&lt;body&gt;\n",
       "    \n",
       "    \n",
       "            &lt;div class=&quot;folium-map&quot; id=&quot;map_a2b4872c0be84dc31bfcb5a1fb3a4402&quot; &gt;&lt;/div&gt;\n",
       "        \n",
       "&lt;/body&gt;\n",
       "&lt;script&gt;\n",
       "    \n",
       "    \n",
       "            var map_a2b4872c0be84dc31bfcb5a1fb3a4402 = L.map(\n",
       "                &quot;map_a2b4872c0be84dc31bfcb5a1fb3a4402&quot;,\n",
       "                {\n",
       "                    center: [46.4983675, 11.5088875],\n",
       "                    crs: L.CRS.EPSG3857,\n",
       "                    ...{\n",
       "  &quot;zoom&quot;: 8,\n",
       "  &quot;zoomControl&quot;: true,\n",
       "  &quot;preferCanvas&quot;: false,\n",
       "}\n",
       "\n",
       "                }\n",
       "            );\n",
       "\n",
       "            \n",
       "\n",
       "        \n",
       "    \n",
       "            var tile_layer_e8f5405786734789cf339be7d0bd63d5 = L.tileLayer(\n",
       "                &quot;https://tile.openstreetmap.org/{z}/{x}/{y}.png&quot;,\n",
       "                {\n",
       "  &quot;minZoom&quot;: 0,\n",
       "  &quot;maxZoom&quot;: 19,\n",
       "  &quot;maxNativeZoom&quot;: 19,\n",
       "  &quot;noWrap&quot;: false,\n",
       "  &quot;attribution&quot;: &quot;\\u0026copy; \\u003ca href=\\&quot;https://www.openstreetmap.org/copyright\\&quot;\\u003eOpenStreetMap\\u003c/a\\u003e contributors&quot;,\n",
       "  &quot;subdomains&quot;: &quot;abc&quot;,\n",
       "  &quot;detectRetina&quot;: false,\n",
       "  &quot;tms&quot;: false,\n",
       "  &quot;opacity&quot;: 1,\n",
       "}\n",
       "\n",
       "            );\n",
       "        \n",
       "    \n",
       "            tile_layer_e8f5405786734789cf339be7d0bd63d5.addTo(map_a2b4872c0be84dc31bfcb5a1fb3a4402);\n",
       "        \n",
       "    \n",
       "            var polygon_efcb36563abbe706436c215b62737e91 = L.polygon(\n",
       "                [[46.456182, 11.299438], [46.51717, 11.299438], [46.51717, 11.438828], [46.456182, 11.438828], [46.456182, 11.299438]],\n",
       "                {&quot;bubblingMouseEvents&quot;: true, &quot;color&quot;: &quot;blue&quot;, &quot;dashArray&quot;: null, &quot;dashOffset&quot;: null, &quot;fill&quot;: true, &quot;fillColor&quot;: &quot;blue&quot;, &quot;fillOpacity&quot;: 0.4, &quot;fillRule&quot;: &quot;evenodd&quot;, &quot;lineCap&quot;: &quot;round&quot;, &quot;lineJoin&quot;: &quot;round&quot;, &quot;noClip&quot;: false, &quot;opacity&quot;: 1.0, &quot;smoothFactor&quot;: 1.0, &quot;stroke&quot;: true, &quot;weight&quot;: 3}\n",
       "            ).addTo(map_a2b4872c0be84dc31bfcb5a1fb3a4402);\n",
       "        \n",
       "    \n",
       "            var polygon_7f2c4660f7fbff8d13edc30a85dbaa33 = L.polygon(\n",
       "                [[46.469577, 12.049022], [46.531064, 11.524545], [46.588009, 11.019128], [46.383218, 10.97311], [46.330878, 11.477674], [46.274004, 12.001315], [46.469577, 12.049022]],\n",
       "                {&quot;bubblingMouseEvents&quot;: true, &quot;color&quot;: &quot;red&quot;, &quot;dashArray&quot;: null, &quot;dashOffset&quot;: null, &quot;fill&quot;: false, &quot;fillColor&quot;: &quot;red&quot;, &quot;fillOpacity&quot;: 0.2, &quot;fillRule&quot;: &quot;evenodd&quot;, &quot;lineCap&quot;: &quot;round&quot;, &quot;lineJoin&quot;: &quot;round&quot;, &quot;noClip&quot;: false, &quot;opacity&quot;: 1.0, &quot;smoothFactor&quot;: 1.0, &quot;stroke&quot;: true, &quot;weight&quot;: 3}\n",
       "            ).addTo(map_a2b4872c0be84dc31bfcb5a1fb3a4402);\n",
       "        \n",
       "    \n",
       "            var polygon_f9c8054e71c473bbcab3843e14528ee6 = L.polygon(\n",
       "                [[46.634916, 12.089482], [46.69639, 11.563369], [46.753309, 11.056374], [46.548522, 11.010245], [46.496209, 11.516373], [46.439349, 12.041638], [46.634916, 12.089482]],\n",
       "                {&quot;bubblingMouseEvents&quot;: true, &quot;color&quot;: &quot;red&quot;, &quot;dashArray&quot;: null, &quot;dashOffset&quot;: null, &quot;fill&quot;: false, &quot;fillColor&quot;: &quot;red&quot;, &quot;fillOpacity&quot;: 0.2, &quot;fillRule&quot;: &quot;evenodd&quot;, &quot;lineCap&quot;: &quot;round&quot;, &quot;lineJoin&quot;: &quot;round&quot;, &quot;noClip&quot;: false, &quot;opacity&quot;: 1.0, &quot;smoothFactor&quot;: 1.0, &quot;stroke&quot;: true, &quot;weight&quot;: 3}\n",
       "            ).addTo(map_a2b4872c0be84dc31bfcb5a1fb3a4402);\n",
       "        \n",
       "    \n",
       "            var polygon_f065355715367fcf204c00ba7a67ba0e = L.polygon(\n",
       "                [[46.276581, 10.804564], [46.34791, 11.402422], [46.412202, 11.967742], [46.604472, 11.920848], [46.535976, 11.354552], [46.460429, 10.755691], [46.276581, 10.804564]],\n",
       "                {&quot;bubblingMouseEvents&quot;: true, &quot;color&quot;: &quot;red&quot;, &quot;dashArray&quot;: null, &quot;dashOffset&quot;: null, &quot;fill&quot;: false, &quot;fillColor&quot;: &quot;red&quot;, &quot;fillOpacity&quot;: 0.2, &quot;fillRule&quot;: &quot;evenodd&quot;, &quot;lineCap&quot;: &quot;round&quot;, &quot;lineJoin&quot;: &quot;round&quot;, &quot;noClip&quot;: false, &quot;opacity&quot;: 1.0, &quot;smoothFactor&quot;: 1.0, &quot;stroke&quot;: true, &quot;weight&quot;: 3}\n",
       "            ).addTo(map_a2b4872c0be84dc31bfcb5a1fb3a4402);\n",
       "        \n",
       "    \n",
       "            var polygon_5deb9a265eaf11a5b127e467b374be4f = L.polygon(\n",
       "                [[46.441904, 10.760624], [46.513254, 11.360345], [46.577547, 11.927424], [46.76981, 11.880394], [46.701311, 11.312324], [46.625741, 10.711586], [46.441904, 10.760624]],\n",
       "                {&quot;bubblingMouseEvents&quot;: true, &quot;color&quot;: &quot;red&quot;, &quot;dashArray&quot;: null, &quot;dashOffset&quot;: null, &quot;fill&quot;: false, &quot;fillColor&quot;: &quot;red&quot;, &quot;fillOpacity&quot;: 0.2, &quot;fillRule&quot;: &quot;evenodd&quot;, &quot;lineCap&quot;: &quot;round&quot;, &quot;lineJoin&quot;: &quot;round&quot;, &quot;noClip&quot;: false, &quot;opacity&quot;: 1.0, &quot;smoothFactor&quot;: 1.0, &quot;stroke&quot;: true, &quot;weight&quot;: 3}\n",
       "            ).addTo(map_a2b4872c0be84dc31bfcb5a1fb3a4402);\n",
       "        \n",
       "    \n",
       "            var polygon_1384e78bc8bc0543ba2b0feb3c5aa365 = L.polygon(\n",
       "                [[46.421295, 12.258601], [46.499758, 11.684], [46.570046, 11.150156], [46.366558, 11.096085], [46.30082, 11.629119], [46.226925, 12.202845], [46.421295, 12.258601]],\n",
       "                {&quot;bubblingMouseEvents&quot;: true, &quot;color&quot;: &quot;red&quot;, &quot;dashArray&quot;: null, &quot;dashOffset&quot;: null, &quot;fill&quot;: false, &quot;fillColor&quot;: &quot;red&quot;, &quot;fillOpacity&quot;: 0.2, &quot;fillRule&quot;: &quot;evenodd&quot;, &quot;lineCap&quot;: &quot;round&quot;, &quot;lineJoin&quot;: &quot;round&quot;, &quot;noClip&quot;: false, &quot;opacity&quot;: 1.0, &quot;smoothFactor&quot;: 1.0, &quot;stroke&quot;: true, &quot;weight&quot;: 3}\n",
       "            ).addTo(map_a2b4872c0be84dc31bfcb5a1fb3a4402);\n",
       "        \n",
       "    \n",
       "            var polygon_d0916ac0699cc1e901c63a9a0872a2db = L.polygon(\n",
       "                [[46.586499, 12.306189], [46.66502, 11.729773], [46.735345, 11.194249], [46.531867, 11.139994], [46.466093, 11.674696], [46.392142, 12.250223], [46.586499, 12.306189]],\n",
       "                {&quot;bubblingMouseEvents&quot;: true, &quot;color&quot;: &quot;red&quot;, &quot;dashArray&quot;: null, &quot;dashOffset&quot;: null, &quot;fill&quot;: false, &quot;fillColor&quot;: &quot;red&quot;, &quot;fillOpacity&quot;: 0.2, &quot;fillRule&quot;: &quot;evenodd&quot;, &quot;lineCap&quot;: &quot;round&quot;, &quot;lineJoin&quot;: &quot;round&quot;, &quot;noClip&quot;: false, &quot;opacity&quot;: 1.0, &quot;smoothFactor&quot;: 1.0, &quot;stroke&quot;: true, &quot;weight&quot;: 3}\n",
       "            ).addTo(map_a2b4872c0be84dc31bfcb5a1fb3a4402);\n",
       "        \n",
       "    \n",
       "            L.control.layers.tree(\n",
       "                null,\n",
       "                {\n",
       "  &quot;label&quot;: &quot;Burst Footprints&quot;,\n",
       "  &quot;selectAllCheckbox&quot;: &quot;Un/select all&quot;,\n",
       "  &quot;children&quot;: [\n",
       "{\n",
       "  &quot;label&quot;: &quot;Track 95&quot;,\n",
       "  &quot;selectAllCheckbox&quot;: true,\n",
       "  &quot;children&quot;: [\n",
       "{\n",
       "  &quot;label&quot;: &quot;BurstId: 202704, IW3&quot;,\n",
       "  &quot;layer&quot;: polygon_7f2c4660f7fbff8d13edc30a85dbaa33,\n",
       "},\n",
       "{\n",
       "  &quot;label&quot;: &quot;BurstId: 202703, IW3&quot;,\n",
       "  &quot;layer&quot;: polygon_f9c8054e71c473bbcab3843e14528ee6,\n",
       "},\n",
       "],\n",
       "},\n",
       "{\n",
       "  &quot;label&quot;: &quot;Track 117&quot;,\n",
       "  &quot;selectAllCheckbox&quot;: true,\n",
       "  &quot;children&quot;: [\n",
       "{\n",
       "  &quot;label&quot;: &quot;BurstId: 249433, IW2&quot;,\n",
       "  &quot;layer&quot;: polygon_f065355715367fcf204c00ba7a67ba0e,\n",
       "},\n",
       "{\n",
       "  &quot;label&quot;: &quot;BurstId: 249434, IW2&quot;,\n",
       "  &quot;layer&quot;: polygon_5deb9a265eaf11a5b127e467b374be4f,\n",
       "},\n",
       "],\n",
       "},\n",
       "{\n",
       "  &quot;label&quot;: &quot;Track 168&quot;,\n",
       "  &quot;selectAllCheckbox&quot;: true,\n",
       "  &quot;children&quot;: [\n",
       "{\n",
       "  &quot;label&quot;: &quot;BurstId: 359502, IW1&quot;,\n",
       "  &quot;layer&quot;: polygon_1384e78bc8bc0543ba2b0feb3c5aa365,\n",
       "},\n",
       "{\n",
       "  &quot;label&quot;: &quot;BurstId: 359501, IW1&quot;,\n",
       "  &quot;layer&quot;: polygon_d0916ac0699cc1e901c63a9a0872a2db,\n",
       "},\n",
       "],\n",
       "},\n",
       "],\n",
       "},\n",
       "                {\n",
       "  &quot;closedSymbol&quot;: &quot;+&quot;,\n",
       "  &quot;openedSymbol&quot;: &quot;-&quot;,\n",
       "  &quot;spaceSymbol&quot;: &quot;\\u0026nbsp;&quot;,\n",
       "  &quot;selectorBack&quot;: false,\n",
       "  &quot;namedToggle&quot;: false,\n",
       "  &quot;collapseAll&quot;: &quot;&quot;,\n",
       "  &quot;expandAll&quot;: &quot;&quot;,\n",
       "  &quot;labelIsSelector&quot;: &quot;both&quot;,\n",
       "}\n",
       "            ).addTo(map_a2b4872c0be84dc31bfcb5a1fb3a4402);\n",
       "        \n",
       "&lt;/script&gt;\n",
       "&lt;/html&gt;\" style=\"position:absolute;width:100%;height:100%;left:0;top:0;border:none !important;\" allowfullscreen webkitallowfullscreen mozallowfullscreen></iframe></div></div>"
      ],
      "text/plain": [
       "<folium.folium.Map at 0x7f40f4223a00>"
      ]
     },
     "execution_count": 8,
     "metadata": {},
     "output_type": "execute_result"
    }
   ],
   "source": [
    "# Initialize the map and center it in the middle of the bursts\n",
    "\n",
    "lat, lon = [], []\n",
    "for burst in bursts_uniqueTrack.values():\n",
    "    for coords in burst.values():\n",
    "        lat = lat + [c[1] for c in coords[0]]\n",
    "        lon = lon + [c[0] for c in coords[0]]\n",
    "        \n",
    "m = folium.Map(\n",
    "    location=[np.mean([max(lat), min(lat)]), np.mean([max(lon), min(lon)])],\n",
    "    zoom_start=8\n",
    ")\n",
    "\n",
    "\n",
    "# Add the area of interest\n",
    "\n",
    "if geom.geom_type == 'Point':\n",
    "    folium.Marker([geom.y, geom.x]).add_to(m)\n",
    "\n",
    "if geom.geom_type == 'Polygon':\n",
    "    folium.Polygon(\n",
    "        locations=[(y, x) for x, y in geom.exterior.coords],\n",
    "        color='blue',\n",
    "        fill=True,            \n",
    "        fill_color='blue',    \n",
    "        fill_opacity=0.4\n",
    "    ).add_to(m)\n",
    "\n",
    "\n",
    "# Add each burst grouped by track\n",
    "\n",
    "children = []\n",
    "\n",
    "for track, burst in bursts_uniqueTrack.items():\n",
    "    \n",
    "    children.append(\n",
    "        {\n",
    "            \"label\": f\"Track {track}\",\n",
    "            \"select_all_checkbox\": True,\n",
    "            \"children\": [{\"label\":str(b), \"layer\": folium.Polygon(locations=np.flip(np.squeeze(p), axis=1), color='red').add_to(m)} for b, p in burst.items()]\n",
    "        }\n",
    "    )\n",
    "\n",
    "\n",
    "# Show the map\n",
    "\n",
    "overlay_tree = {\n",
    "    \"label\": \"Burst Footprints\",\n",
    "    \"select_all_checkbox\": \"Un/select all\",\n",
    "    \"children\": children\n",
    "}\n",
    "\n",
    "TreeLayerControl(overlay_tree=overlay_tree).add_to(m)\n",
    "\n",
    "m"
   ]
  },
  {
   "cell_type": "markdown",
   "id": "13775c4a-fb02-4ecb-897c-449997b6d302",
   "metadata": {},
   "source": [
    "## 4) Plot calendar"
   ]
  },
  {
   "cell_type": "code",
   "execution_count": 9,
   "id": "88e4f0a9-1f92-4f5a-8aa0-2405d6c8f5d4",
   "metadata": {
    "tags": []
   },
   "outputs": [],
   "source": [
    "import calendar\n",
    "import matplotlib.pyplot as plt\n",
    "\n",
    "def display_calendar(year, month, highlighted_dates={}):\n",
    "\n",
    "    cal = calendar.monthcalendar(year, month)\n",
    "    fig, ax = plt.subplots(figsize=(4, 2))\n",
    "    ax.set_xticks([])\n",
    "    ax.set_yticks([])\n",
    "                \n",
    "    for row, week in enumerate(cal):\n",
    "        for col, day in enumerate(week):\n",
    "            if day == 0:\n",
    "                continue\n",
    "            color = highlighted_dates.get(day, \"white\")\n",
    "            ax.add_patch(plt.Rectangle((col - 0.5, row - 0.5), 1, 1, color=color, alpha=0.6))\n",
    "            ax.text(col, row, str(day), ha=\"center\", va=\"center\", fontsize=12, weight='bold')\n",
    "\n",
    "    ax.set_xlim(-0.5, 6.5)\n",
    "    ax.set_ylim(len(cal) - 0.5, -0.5)\n",
    "    ax.set_title(calendar.month_name[month] + f\" {year}\")\n",
    "    plt.show()"
   ]
  },
  {
   "cell_type": "code",
   "execution_count": 10,
   "id": "84393d09-9ba3-42ca-967b-90fe96381da4",
   "metadata": {
    "tags": []
   },
   "outputs": [],
   "source": [
    "date, track = [], [] \n",
    "for b in bursts['value']:\n",
    "    date.append(b['BeginningDateTime'])\n",
    "    track.append(b['RelativeOrbitNumber'])\n",
    "df = pd.DataFrame(data={'date': date, 'track': track})\n",
    "df['date'] = pd.to_datetime(df['date'])\n",
    "df['year'] = df['date'].dt.year\n",
    "df['month'] = df['date'].dt.month\n",
    "df['day'] = df['date'].dt.day\n",
    "df = df.drop_duplicates(subset=['track', 'year', 'month', 'day'])\n",
    "df = df.sort_values(by='date', ascending=True)"
   ]
  },
  {
   "cell_type": "code",
   "execution_count": 11,
   "id": "10bbd1e3-bd9a-4720-b8d3-ad04448da2c8",
   "metadata": {
    "tags": []
   },
   "outputs": [
    {
     "data": {
      "image/png": "[encoded data removed]",
      "text/plain": [
       "<Figure size 400x150 with 1 Axes>"
      ]
     },
     "metadata": {},
     "output_type": "display_data"
    },
    {
     "data": {
      "image/png": "[encoded data removed]",
      "text/plain": [
       "<Figure size 400x200 with 1 Axes>"
      ]
     },
     "metadata": {},
     "output_type": "display_data"
    },
    {
     "data": {
      "image/png": "[encoded data removed]",
      "text/plain": [
       "<Figure size 400x200 with 1 Axes>"
      ]
     },
     "metadata": {},
     "output_type": "display_data"
    },
    {
     "data": {
      "image/png": "[encoded data removed]",
      "text/plain": [
       "<Figure size 400x200 with 1 Axes>"
      ]
     },
     "metadata": {},
     "output_type": "display_data"
    },
    {
     "data": {
      "image/png": "[encoded data removed]",
      "text/plain": [
       "<Figure size 400x200 with 1 Axes>"
      ]
     },
     "metadata": {},
     "output_type": "display_data"
    },
    {
     "data": {
      "image/png": "[encoded data removed]",
      "text/plain": [
       "<Figure size 400x200 with 1 Axes>"
      ]
     },
     "metadata": {},
     "output_type": "display_data"
    },
    {
     "data": {
      "image/png": "[encoded data removed]",
      "text/plain": [
       "<Figure size 400x200 with 1 Axes>"
      ]
     },
     "metadata": {},
     "output_type": "display_data"
    }
   ],
   "source": [
    "color_track = {}\n",
    "fig, ax = plt.subplots(figsize=(4, len(df['track'].unique())*0.5))\n",
    "for i, t in enumerate(df['track'].unique()):\n",
    "    color_track[t] = f'C{i}'\n",
    "    ax.add_patch(plt.Rectangle((0, -i*0.5), 0.1, 0.3, color=color_track[t], alpha=0.6))\n",
    "    ax.text(0.15, -i*0.5+0.1, f'T{t}', fontsize=10)\n",
    "ax.set_xlim(0, 1)\n",
    "ax.set_ylim(-len(df['track'].unique())*0.5, 0.5)\n",
    "ax.axis('off')\n",
    "plt.show()\n",
    "\n",
    "for year in df['year'].unique():\n",
    "    df_year = df.loc[df['year'] == year, :]\n",
    "    for month in df_year['month'].unique():\n",
    "        h = {}\n",
    "        for i, row in df_year.loc[df_year['month'] == month, :].iterrows():\n",
    "            h[row['day']] = color_track[row['track']]\n",
    "        display_calendar(year, month, h)"
   ]
  },
  {
   "cell_type": "markdown",
   "id": "42db48a7-95f0-464c-a078-599991c75e9c",
   "metadata": {},
   "source": [
    "## 5) Get perpendicular baselines"
   ]
  },
  {
   "cell_type": "markdown",
   "id": "8a40eac3-a6d7-493b-b9f1-c4ea88df0941",
   "metadata": {},
   "source": [
    "Select one of the available sub_swath_identifier (i.e. iw1, iw2, iw3) and burstId from the following list or from the map widget above."
   ]
  },
  {
   "cell_type": "code",
   "execution_count": 12,
   "id": "cec16b62",
   "metadata": {
    "tags": []
   },
   "outputs": [
    {
     "name": "stdout",
     "output_type": "stream",
     "text": [
      "Track 95\n",
      "  BurstId: 202704, IW3\n",
      "  BurstId: 202703, IW3\n",
      "Track 117\n",
      "  BurstId: 249433, IW2\n",
      "  BurstId: 249434, IW2\n",
      "Track 168\n",
      "  BurstId: 359502, IW1\n",
      "  BurstId: 359501, IW1\n"
     ]
    }
   ],
   "source": [
    "for x in children:\n",
    "  print(x[\"label\"])\n",
    "  for y in x[\"children\"]:\n",
    "    print(\"  \" + y[\"label\"]) "
   ]
  },
  {
   "cell_type": "markdown",
   "id": "8b4d52ea-ba81-48ab-9441-6d016d09752b",
   "metadata": {},
   "source": [
    "Set the required polarization, subswath identifier and correspondant burst id."
   ]
  },
  {
   "cell_type": "code",
   "execution_count": 13,
   "id": "f292fb26-8c03-491b-95fc-3ad1b1dd7e66",
   "metadata": {
    "tags": []
   },
   "outputs": [],
   "source": [
    "track\n",
    "sub_swath_identifier = \"iw2\"\n",
    "burst_id = \"249433\"\n",
    "polarization = \"VV\""
   ]
  },
  {
   "cell_type": "markdown",
   "id": "2e3548f5",
   "metadata": {},
   "source": [
    "Get the product names of which we need to download the metadata"
   ]
  },
  {
   "cell_type": "code",
   "execution_count": 14,
   "id": "7d4bf276",
   "metadata": {
    "tags": []
   },
   "outputs": [],
   "source": [
    "SAFE_image_list = []\n",
    "S3_image_list = []\n",
    "for b in bursts['value']:\n",
    "    if b['SwathIdentifier'].lower() == sub_swath_identifier:\n",
    "        if str(b[\"BurstId\"]) == str(burst_id):\n",
    "            if b[\"ParentProductName\"] not in SAFE_image_list:\n",
    "                SAFE_image_list.append((b[\"ParentProductName\"]))\n",
    "                S3_image_list.append((b[\"S3Path\"].split(\".SAFE\")[0] + \".SAFE\"))"
   ]
  },
  {
   "cell_type": "markdown",
   "id": "f0d6f991",
   "metadata": {},
   "source": [
    "Get the metadata from the S3 bucket (add your CDSE S3 credentials)"
   ]
  },
  {
   "cell_type": "code",
   "execution_count": 15,
   "id": "3acfdd91",
   "metadata": {
    "collapsed": true,
    "jupyter": {
     "outputs_hidden": true
    },
    "tags": []
   },
   "outputs": [
    {
     "name": "stdout",
     "output_type": "stream",
     "text": [
      "S1A_IW_SLC__1SDV_20240821T170720_20240821T170747_055314_06BE95_CC41.SAFE\n",
      "cp s3://eodata/Sentinel-1/SAR/IW_SLC__1S/2024/08/21/S1A_IW_SLC__1SDV_20240821T170720_20240821T170747_055314_06BE95_CC41.SAFE/annotation/calibration/calibration-s1a-iw2-slc-vv-20240821t170722-20240821t170747-055314-06be95-005.xml S1A_IW_SLC__1SDV_20240821T170720_20240821T170747_055314_06BE95_CC41.SAFE/annotation/calibration/calibration-s1a-iw2-slc-vv-20240821t170722-20240821t170747-055314-06be95-005.xml\n",
      "cp s3://eodata/Sentinel-1/SAR/IW_SLC__1S/2024/08/21/S1A_IW_SLC__1SDV_20240821T170720_20240821T170747_055314_06BE95_CC41.SAFE/annotation/calibration/noise-s1a-iw2-slc-vv-20240821t170722-20240821t170747-055314-06be95-005.xml S1A_IW_SLC__1SDV_20240821T170720_20240821T170747_055314_06BE95_CC41.SAFE/annotation/calibration/noise-s1a-iw2-slc-vv-20240821t170722-20240821t170747-055314-06be95-005.xml\n",
      "cp s3://eodata/Sentinel-1/SAR/IW_SLC__1S/2024/08/21/S1A_IW_SLC__1SDV_20240821T170720_20240821T170747_055314_06BE95_CC41.SAFE/manifest.safe S1A_IW_SLC__1SDV_20240821T170720_20240821T170747_055314_06BE95_CC41.SAFE/manifest.safe\n",
      "cp s3://eodata/Sentinel-1/SAR/IW_SLC__1S/2024/08/21/S1A_IW_SLC__1SDV_20240821T170720_20240821T170747_055314_06BE95_CC41.SAFE/annotation/s1a-iw2-slc-vv-20240821t170722-20240821t170747-055314-06be95-005.xml S1A_IW_SLC__1SDV_20240821T170720_20240821T170747_055314_06BE95_CC41.SAFE/annotation/s1a-iw2-slc-vv-20240821t170722-20240821t170747-055314-06be95-005.xml\n",
      "cp s3://eodata/Sentinel-1/SAR/IW_SLC__1S/2024/08/21/S1A_IW_SLC__1SDV_20240821T170720_20240821T170747_055314_06BE95_CC41.SAFE/annotation/rfi/rfi-s1a-iw2-slc-vv-20240821t170722-20240821t170747-055314-06be95-005.xml S1A_IW_SLC__1SDV_20240821T170720_20240821T170747_055314_06BE95_CC41.SAFE/annotation/rfi/rfi-s1a-iw2-slc-vv-20240821t170722-20240821t170747-055314-06be95-005.xml\n"
     ]
    },
    {
     "name": "stderr",
     "output_type": "stream",
     "text": [
      "mkdir: cannot create directory ‘S1A_IW_SLC__1SDV_20240821T170720_20240821T170747_055314_06BE95_CC41.SAFE/measurement’: File exists\n"
     ]
    },
    {
     "name": "stdout",
     "output_type": "stream",
     "text": [
      "S1A_IW_SLC__1SDV_20240902T170720_20240902T170747_055489_06C515_EEB7.SAFE\n",
      "cp s3://eodata/Sentinel-1/SAR/IW_SLC__1S/2024/09/02/S1A_IW_SLC__1SDV_20240902T170720_20240902T170747_055489_06C515_EEB7.SAFE/annotation/calibration/calibration-s1a-iw2-slc-vv-20240902t170722-20240902t170747-055489-06c515-005.xml S1A_IW_SLC__1SDV_20240902T170720_20240902T170747_055489_06C515_EEB7.SAFE/annotation/calibration/calibration-s1a-iw2-slc-vv-20240902t170722-20240902t170747-055489-06c515-005.xml\n",
      "cp s3://eodata/Sentinel-1/SAR/IW_SLC__1S/2024/09/02/S1A_IW_SLC__1SDV_20240902T170720_20240902T170747_055489_06C515_EEB7.SAFE/manifest.safe S1A_IW_SLC__1SDV_20240902T170720_20240902T170747_055489_06C515_EEB7.SAFE/manifest.safe\n",
      "cp s3://eodata/Sentinel-1/SAR/IW_SLC__1S/2024/09/02/S1A_IW_SLC__1SDV_20240902T170720_20240902T170747_055489_06C515_EEB7.SAFE/annotation/rfi/rfi-s1a-iw2-slc-vv-20240902t170722-20240902t170747-055489-06c515-005.xml S1A_IW_SLC__1SDV_20240902T170720_20240902T170747_055489_06C515_EEB7.SAFE/annotation/rfi/rfi-s1a-iw2-slc-vv-20240902t170722-20240902t170747-055489-06c515-005.xml\n",
      "cp s3://eodata/Sentinel-1/SAR/IW_SLC__1S/2024/09/02/S1A_IW_SLC__1SDV_20240902T170720_20240902T170747_055489_06C515_EEB7.SAFE/annotation/s1a-iw2-slc-vv-20240902t170722-20240902t170747-055489-06c515-005.xml S1A_IW_SLC__1SDV_20240902T170720_20240902T170747_055489_06C515_EEB7.SAFE/annotation/s1a-iw2-slc-vv-20240902t170722-20240902t170747-055489-06c515-005.xml\n",
      "cp s3://eodata/Sentinel-1/SAR/IW_SLC__1S/2024/09/02/S1A_IW_SLC__1SDV_20240902T170720_20240902T170747_055489_06C515_EEB7.SAFE/annotation/calibration/noise-s1a-iw2-slc-vv-20240902t170722-20240902t170747-055489-06c515-005.xml S1A_IW_SLC__1SDV_20240902T170720_20240902T170747_055489_06C515_EEB7.SAFE/annotation/calibration/noise-s1a-iw2-slc-vv-20240902t170722-20240902t170747-055489-06c515-005.xml\n"
     ]
    },
    {
     "name": "stderr",
     "output_type": "stream",
     "text": [
      "mkdir: cannot create directory ‘S1A_IW_SLC__1SDV_20240902T170720_20240902T170747_055489_06C515_EEB7.SAFE/measurement’: File exists\n"
     ]
    },
    {
     "name": "stdout",
     "output_type": "stream",
     "text": [
      "S1A_IW_SLC__1SDV_20240809T170720_20240809T170746_055139_06B839_A6A0.SAFE\n",
      "cp s3://eodata/Sentinel-1/SAR/IW_SLC__1S/2024/08/09/S1A_IW_SLC__1SDV_20240809T170720_20240809T170746_055139_06B839_A6A0.SAFE/manifest.safe S1A_IW_SLC__1SDV_20240809T170720_20240809T170746_055139_06B839_A6A0.SAFE/manifest.safe\n",
      "cp s3://eodata/Sentinel-1/SAR/IW_SLC__1S/2024/08/09/S1A_IW_SLC__1SDV_20240809T170720_20240809T170746_055139_06B839_A6A0.SAFE/annotation/rfi/rfi-s1a-iw2-slc-vv-20240809t170721-20240809t170746-055139-06b839-005.xml S1A_IW_SLC__1SDV_20240809T170720_20240809T170746_055139_06B839_A6A0.SAFE/annotation/rfi/rfi-s1a-iw2-slc-vv-20240809t170721-20240809t170746-055139-06b839-005.xml\n",
      "cp s3://eodata/Sentinel-1/SAR/IW_SLC__1S/2024/08/09/S1A_IW_SLC__1SDV_20240809T170720_20240809T170746_055139_06B839_A6A0.SAFE/annotation/calibration/noise-s1a-iw2-slc-vv-20240809t170721-20240809t170746-055139-06b839-005.xml S1A_IW_SLC__1SDV_20240809T170720_20240809T170746_055139_06B839_A6A0.SAFE/annotation/calibration/noise-s1a-iw2-slc-vv-20240809t170721-20240809t170746-055139-06b839-005.xml\n",
      "cp s3://eodata/Sentinel-1/SAR/IW_SLC__1S/2024/08/09/S1A_IW_SLC__1SDV_20240809T170720_20240809T170746_055139_06B839_A6A0.SAFE/annotation/s1a-iw2-slc-vv-20240809t170721-20240809t170746-055139-06b839-005.xml S1A_IW_SLC__1SDV_20240809T170720_20240809T170746_055139_06B839_A6A0.SAFE/annotation/s1a-iw2-slc-vv-20240809t170721-20240809t170746-055139-06b839-005.xml\n",
      "cp s3://eodata/Sentinel-1/SAR/IW_SLC__1S/2024/08/09/S1A_IW_SLC__1SDV_20240809T170720_20240809T170746_055139_06B839_A6A0.SAFE/annotation/calibration/calibration-s1a-iw2-slc-vv-20240809t170721-20240809t170746-055139-06b839-005.xml S1A_IW_SLC__1SDV_20240809T170720_20240809T170746_055139_06B839_A6A0.SAFE/annotation/calibration/calibration-s1a-iw2-slc-vv-20240809t170721-20240809t170746-055139-06b839-005.xml\n"
     ]
    },
    {
     "name": "stderr",
     "output_type": "stream",
     "text": [
      "mkdir: cannot create directory ‘S1A_IW_SLC__1SDV_20240809T170720_20240809T170746_055139_06B839_A6A0.SAFE/measurement’: File exists\n"
     ]
    },
    {
     "name": "stdout",
     "output_type": "stream",
     "text": [
      "S1A_IW_SLC__1SDV_20240914T170721_20240914T170748_055664_06CBFF_A704.SAFE\n",
      "cp s3://eodata/Sentinel-1/SAR/IW_SLC__1S/2024/09/14/S1A_IW_SLC__1SDV_20240914T170721_20240914T170748_055664_06CBFF_A704.SAFE/annotation/calibration/noise-s1a-iw2-slc-vv-20240914t170722-20240914t170748-055664-06cbff-005.xml S1A_IW_SLC__1SDV_20240914T170721_20240914T170748_055664_06CBFF_A704.SAFE/annotation/calibration/noise-s1a-iw2-slc-vv-20240914t170722-20240914t170748-055664-06cbff-005.xml\n",
      "cp s3://eodata/Sentinel-1/SAR/IW_SLC__1S/2024/09/14/S1A_IW_SLC__1SDV_20240914T170721_20240914T170748_055664_06CBFF_A704.SAFE/annotation/rfi/rfi-s1a-iw2-slc-vv-20240914t170722-20240914t170748-055664-06cbff-005.xml S1A_IW_SLC__1SDV_20240914T170721_20240914T170748_055664_06CBFF_A704.SAFE/annotation/rfi/rfi-s1a-iw2-slc-vv-20240914t170722-20240914t170748-055664-06cbff-005.xml\n",
      "cp s3://eodata/Sentinel-1/SAR/IW_SLC__1S/2024/09/14/S1A_IW_SLC__1SDV_20240914T170721_20240914T170748_055664_06CBFF_A704.SAFE/manifest.safe S1A_IW_SLC__1SDV_20240914T170721_20240914T170748_055664_06CBFF_A704.SAFE/manifest.safe\n",
      "cp s3://eodata/Sentinel-1/SAR/IW_SLC__1S/2024/09/14/S1A_IW_SLC__1SDV_20240914T170721_20240914T170748_055664_06CBFF_A704.SAFE/annotation/calibration/calibration-s1a-iw2-slc-vv-20240914t170722-20240914t170748-055664-06cbff-005.xml S1A_IW_SLC__1SDV_20240914T170721_20240914T170748_055664_06CBFF_A704.SAFE/annotation/calibration/calibration-s1a-iw2-slc-vv-20240914t170722-20240914t170748-055664-06cbff-005.xml\n",
      "cp s3://eodata/Sentinel-1/SAR/IW_SLC__1S/2024/09/14/S1A_IW_SLC__1SDV_20240914T170721_20240914T170748_055664_06CBFF_A704.SAFE/annotation/s1a-iw2-slc-vv-20240914t170722-20240914t170748-055664-06cbff-005.xml S1A_IW_SLC__1SDV_20240914T170721_20240914T170748_055664_06CBFF_A704.SAFE/annotation/s1a-iw2-slc-vv-20240914t170722-20240914t170748-055664-06cbff-005.xml\n"
     ]
    },
    {
     "name": "stderr",
     "output_type": "stream",
     "text": [
      "mkdir: cannot create directory ‘S1A_IW_SLC__1SDV_20240914T170721_20240914T170748_055664_06CBFF_A704.SAFE/measurement’: File exists\n"
     ]
    },
    {
     "name": "stdout",
     "output_type": "stream",
     "text": [
      "S1A_IW_SLC__1SDV_20240926T170721_20240926T170748_055839_06D2ED_BD8F.SAFE\n",
      "cp s3://eodata/Sentinel-1/SAR/IW_SLC__1S/2024/09/26/S1A_IW_SLC__1SDV_20240926T170721_20240926T170748_055839_06D2ED_BD8F.SAFE/annotation/calibration/noise-s1a-iw2-slc-vv-20240926t170723-20240926t170748-055839-06d2ed-005.xml S1A_IW_SLC__1SDV_20240926T170721_20240926T170748_055839_06D2ED_BD8F.SAFE/annotation/calibration/noise-s1a-iw2-slc-vv-20240926t170723-20240926t170748-055839-06d2ed-005.xml\n",
      "cp s3://eodata/Sentinel-1/SAR/IW_SLC__1S/2024/09/26/S1A_IW_SLC__1SDV_20240926T170721_20240926T170748_055839_06D2ED_BD8F.SAFE/annotation/rfi/rfi-s1a-iw2-slc-vv-20240926t170723-20240926t170748-055839-06d2ed-005.xml S1A_IW_SLC__1SDV_20240926T170721_20240926T170748_055839_06D2ED_BD8F.SAFE/annotation/rfi/rfi-s1a-iw2-slc-vv-20240926t170723-20240926t170748-055839-06d2ed-005.xml\n",
      "cp s3://eodata/Sentinel-1/SAR/IW_SLC__1S/2024/09/26/S1A_IW_SLC__1SDV_20240926T170721_20240926T170748_055839_06D2ED_BD8F.SAFE/manifest.safe S1A_IW_SLC__1SDV_20240926T170721_20240926T170748_055839_06D2ED_BD8F.SAFE/manifest.safe\n",
      "cp s3://eodata/Sentinel-1/SAR/IW_SLC__1S/2024/09/26/S1A_IW_SLC__1SDV_20240926T170721_20240926T170748_055839_06D2ED_BD8F.SAFE/annotation/s1a-iw2-slc-vv-20240926t170723-20240926t170748-055839-06d2ed-005.xml S1A_IW_SLC__1SDV_20240926T170721_20240926T170748_055839_06D2ED_BD8F.SAFE/annotation/s1a-iw2-slc-vv-20240926t170723-20240926t170748-055839-06d2ed-005.xml\n",
      "cp s3://eodata/Sentinel-1/SAR/IW_SLC__1S/2024/09/26/S1A_IW_SLC__1SDV_20240926T170721_20240926T170748_055839_06D2ED_BD8F.SAFE/annotation/calibration/calibration-s1a-iw2-slc-vv-20240926t170723-20240926t170748-055839-06d2ed-005.xml S1A_IW_SLC__1SDV_20240926T170721_20240926T170748_055839_06D2ED_BD8F.SAFE/annotation/calibration/calibration-s1a-iw2-slc-vv-20240926t170723-20240926t170748-055839-06d2ed-005.xml\n"
     ]
    },
    {
     "name": "stderr",
     "output_type": "stream",
     "text": [
      "mkdir: cannot create directory ‘S1A_IW_SLC__1SDV_20240926T170721_20240926T170748_055839_06D2ED_BD8F.SAFE/measurement’: File exists\n"
     ]
    },
    {
     "name": "stdout",
     "output_type": "stream",
     "text": [
      "S1A_IW_SLC__1SDV_20250112T170716_20250112T170743_057414_071158_B31E.SAFE\n",
      "cp s3://eodata/Sentinel-1/SAR/IW_SLC__1S/2025/01/12/S1A_IW_SLC__1SDV_20250112T170716_20250112T170743_057414_071158_B31E.SAFE/manifest.safe S1A_IW_SLC__1SDV_20250112T170716_20250112T170743_057414_071158_B31E.SAFE/manifest.safe\n",
      "cp s3://eodata/Sentinel-1/SAR/IW_SLC__1S/2025/01/12/S1A_IW_SLC__1SDV_20250112T170716_20250112T170743_057414_071158_B31E.SAFE/annotation/rfi/rfi-s1a-iw2-slc-vv-20250112t170718-20250112t170743-057414-071158-005.xml S1A_IW_SLC__1SDV_20250112T170716_20250112T170743_057414_071158_B31E.SAFE/annotation/rfi/rfi-s1a-iw2-slc-vv-20250112t170718-20250112t170743-057414-071158-005.xml\n",
      "cp s3://eodata/Sentinel-1/SAR/IW_SLC__1S/2025/01/12/S1A_IW_SLC__1SDV_20250112T170716_20250112T170743_057414_071158_B31E.SAFE/annotation/calibration/noise-s1a-iw2-slc-vv-20250112t170718-20250112t170743-057414-071158-005.xml S1A_IW_SLC__1SDV_20250112T170716_20250112T170743_057414_071158_B31E.SAFE/annotation/calibration/noise-s1a-iw2-slc-vv-20250112t170718-20250112t170743-057414-071158-005.xml\n",
      "cp s3://eodata/Sentinel-1/SAR/IW_SLC__1S/2025/01/12/S1A_IW_SLC__1SDV_20250112T170716_20250112T170743_057414_071158_B31E.SAFE/annotation/calibration/calibration-s1a-iw2-slc-vv-20250112t170718-20250112t170743-057414-071158-005.xml S1A_IW_SLC__1SDV_20250112T170716_20250112T170743_057414_071158_B31E.SAFE/annotation/calibration/calibration-s1a-iw2-slc-vv-20250112t170718-20250112t170743-057414-071158-005.xml\n",
      "cp s3://eodata/Sentinel-1/SAR/IW_SLC__1S/2025/01/12/S1A_IW_SLC__1SDV_20250112T170716_20250112T170743_057414_071158_B31E.SAFE/annotation/s1a-iw2-slc-vv-20250112t170718-20250112t170743-057414-071158-005.xml S1A_IW_SLC__1SDV_20250112T170716_20250112T170743_057414_071158_B31E.SAFE/annotation/s1a-iw2-slc-vv-20250112t170718-20250112t170743-057414-071158-005.xml\n"
     ]
    },
    {
     "name": "stderr",
     "output_type": "stream",
     "text": [
      "mkdir: cannot create directory ‘S1A_IW_SLC__1SDV_20250112T170716_20250112T170743_057414_071158_B31E.SAFE/measurement’: File exists\n"
     ]
    },
    {
     "name": "stdout",
     "output_type": "stream",
     "text": [
      "S1A_IW_SLC__1SDV_20250124T170715_20250124T170742_057589_07184D_DE00.SAFE\n",
      "cp s3://eodata/Sentinel-1/SAR/IW_SLC__1S/2025/01/24/S1A_IW_SLC__1SDV_20250124T170715_20250124T170742_057589_07184D_DE00.SAFE/annotation/rfi/rfi-s1a-iw2-slc-vv-20250124t170717-20250124t170742-057589-07184d-005.xml S1A_IW_SLC__1SDV_20250124T170715_20250124T170742_057589_07184D_DE00.SAFE/annotation/rfi/rfi-s1a-iw2-slc-vv-20250124t170717-20250124t170742-057589-07184d-005.xml\n",
      "cp s3://eodata/Sentinel-1/SAR/IW_SLC__1S/2025/01/24/S1A_IW_SLC__1SDV_20250124T170715_20250124T170742_057589_07184D_DE00.SAFE/manifest.safe S1A_IW_SLC__1SDV_20250124T170715_20250124T170742_057589_07184D_DE00.SAFE/manifest.safe\n",
      "cp s3://eodata/Sentinel-1/SAR/IW_SLC__1S/2025/01/24/S1A_IW_SLC__1SDV_20250124T170715_20250124T170742_057589_07184D_DE00.SAFE/annotation/s1a-iw2-slc-vv-20250124t170717-20250124t170742-057589-07184d-005.xml S1A_IW_SLC__1SDV_20250124T170715_20250124T170742_057589_07184D_DE00.SAFE/annotation/s1a-iw2-slc-vv-20250124t170717-20250124t170742-057589-07184d-005.xml\n",
      "cp s3://eodata/Sentinel-1/SAR/IW_SLC__1S/2025/01/24/S1A_IW_SLC__1SDV_20250124T170715_20250124T170742_057589_07184D_DE00.SAFE/annotation/calibration/noise-s1a-iw2-slc-vv-20250124t170717-20250124t170742-057589-07184d-005.xml S1A_IW_SLC__1SDV_20250124T170715_20250124T170742_057589_07184D_DE00.SAFE/annotation/calibration/noise-s1a-iw2-slc-vv-20250124t170717-20250124t170742-057589-07184d-005.xml\n",
      "cp s3://eodata/Sentinel-1/SAR/IW_SLC__1S/2025/01/24/S1A_IW_SLC__1SDV_20250124T170715_20250124T170742_057589_07184D_DE00.SAFE/annotation/calibration/calibration-s1a-iw2-slc-vv-20250124t170717-20250124t170742-057589-07184d-005.xml S1A_IW_SLC__1SDV_20250124T170715_20250124T170742_057589_07184D_DE00.SAFE/annotation/calibration/calibration-s1a-iw2-slc-vv-20250124t170717-20250124t170742-057589-07184d-005.xml\n"
     ]
    },
    {
     "name": "stderr",
     "output_type": "stream",
     "text": [
      "mkdir: cannot create directory ‘S1A_IW_SLC__1SDV_20250124T170715_20250124T170742_057589_07184D_DE00.SAFE/measurement’: File exists\n"
     ]
    },
    {
     "name": "stdout",
     "output_type": "stream",
     "text": [
      "S1A_IW_SLC__1SDV_20241008T170722_20241008T170749_056014_06D9D3_B5FB.SAFE\n",
      "cp s3://eodata/Sentinel-1/SAR/IW_SLC__1S/2024/10/08/S1A_IW_SLC__1SDV_20241008T170722_20241008T170749_056014_06D9D3_B5FB.SAFE/annotation/rfi/rfi-s1a-iw2-slc-vv-20241008t170723-20241008t170749-056014-06d9d3-005.xml S1A_IW_SLC__1SDV_20241008T170722_20241008T170749_056014_06D9D3_B5FB.SAFE/annotation/rfi/rfi-s1a-iw2-slc-vv-20241008t170723-20241008t170749-056014-06d9d3-005.xml\n",
      "cp s3://eodata/Sentinel-1/SAR/IW_SLC__1S/2024/10/08/S1A_IW_SLC__1SDV_20241008T170722_20241008T170749_056014_06D9D3_B5FB.SAFE/annotation/calibration/noise-s1a-iw2-slc-vv-20241008t170723-20241008t170749-056014-06d9d3-005.xml S1A_IW_SLC__1SDV_20241008T170722_20241008T170749_056014_06D9D3_B5FB.SAFE/annotation/calibration/noise-s1a-iw2-slc-vv-20241008t170723-20241008t170749-056014-06d9d3-005.xml\n",
      "cp s3://eodata/Sentinel-1/SAR/IW_SLC__1S/2024/10/08/S1A_IW_SLC__1SDV_20241008T170722_20241008T170749_056014_06D9D3_B5FB.SAFE/manifest.safe S1A_IW_SLC__1SDV_20241008T170722_20241008T170749_056014_06D9D3_B5FB.SAFE/manifest.safe\n",
      "cp s3://eodata/Sentinel-1/SAR/IW_SLC__1S/2024/10/08/S1A_IW_SLC__1SDV_20241008T170722_20241008T170749_056014_06D9D3_B5FB.SAFE/annotation/s1a-iw2-slc-vv-20241008t170723-20241008t170749-056014-06d9d3-005.xml S1A_IW_SLC__1SDV_20241008T170722_20241008T170749_056014_06D9D3_B5FB.SAFE/annotation/s1a-iw2-slc-vv-20241008t170723-20241008t170749-056014-06d9d3-005.xml\n",
      "cp s3://eodata/Sentinel-1/SAR/IW_SLC__1S/2024/10/08/S1A_IW_SLC__1SDV_20241008T170722_20241008T170749_056014_06D9D3_B5FB.SAFE/annotation/calibration/calibration-s1a-iw2-slc-vv-20241008t170723-20241008t170749-056014-06d9d3-005.xml S1A_IW_SLC__1SDV_20241008T170722_20241008T170749_056014_06D9D3_B5FB.SAFE/annotation/calibration/calibration-s1a-iw2-slc-vv-20241008t170723-20241008t170749-056014-06d9d3-005.xml\n"
     ]
    },
    {
     "name": "stderr",
     "output_type": "stream",
     "text": [
      "mkdir: cannot create directory ‘S1A_IW_SLC__1SDV_20241008T170722_20241008T170749_056014_06D9D3_B5FB.SAFE/measurement’: File exists\n"
     ]
    },
    {
     "name": "stdout",
     "output_type": "stream",
     "text": [
      "S1A_IW_SLC__1SDV_20241020T170721_20241020T170748_056189_06E0BF_58BA.SAFE\n",
      "cp s3://eodata/Sentinel-1/SAR/IW_SLC__1S/2024/10/20/S1A_IW_SLC__1SDV_20241020T170721_20241020T170748_056189_06E0BF_58BA.SAFE/annotation/calibration/noise-s1a-iw2-slc-vv-20241020t170723-20241020t170748-056189-06e0bf-005.xml S1A_IW_SLC__1SDV_20241020T170721_20241020T170748_056189_06E0BF_58BA.SAFE/annotation/calibration/noise-s1a-iw2-slc-vv-20241020t170723-20241020t170748-056189-06e0bf-005.xml\n",
      "cp s3://eodata/Sentinel-1/SAR/IW_SLC__1S/2024/10/20/S1A_IW_SLC__1SDV_20241020T170721_20241020T170748_056189_06E0BF_58BA.SAFE/annotation/rfi/rfi-s1a-iw2-slc-vv-20241020t170723-20241020t170748-056189-06e0bf-005.xml S1A_IW_SLC__1SDV_20241020T170721_20241020T170748_056189_06E0BF_58BA.SAFE/annotation/rfi/rfi-s1a-iw2-slc-vv-20241020t170723-20241020t170748-056189-06e0bf-005.xml\n",
      "cp s3://eodata/Sentinel-1/SAR/IW_SLC__1S/2024/10/20/S1A_IW_SLC__1SDV_20241020T170721_20241020T170748_056189_06E0BF_58BA.SAFE/manifest.safe S1A_IW_SLC__1SDV_20241020T170721_20241020T170748_056189_06E0BF_58BA.SAFE/manifest.safe\n",
      "cp s3://eodata/Sentinel-1/SAR/IW_SLC__1S/2024/10/20/S1A_IW_SLC__1SDV_20241020T170721_20241020T170748_056189_06E0BF_58BA.SAFE/annotation/s1a-iw2-slc-vv-20241020t170723-20241020t170748-056189-06e0bf-005.xml S1A_IW_SLC__1SDV_20241020T170721_20241020T170748_056189_06E0BF_58BA.SAFE/annotation/s1a-iw2-slc-vv-20241020t170723-20241020t170748-056189-06e0bf-005.xml\n",
      "cp s3://eodata/Sentinel-1/SAR/IW_SLC__1S/2024/10/20/S1A_IW_SLC__1SDV_20241020T170721_20241020T170748_056189_06E0BF_58BA.SAFE/annotation/calibration/calibration-s1a-iw2-slc-vv-20241020t170723-20241020t170748-056189-06e0bf-005.xml S1A_IW_SLC__1SDV_20241020T170721_20241020T170748_056189_06E0BF_58BA.SAFE/annotation/calibration/calibration-s1a-iw2-slc-vv-20241020t170723-20241020t170748-056189-06e0bf-005.xml\n"
     ]
    },
    {
     "name": "stderr",
     "output_type": "stream",
     "text": [
      "mkdir: cannot create directory ‘S1A_IW_SLC__1SDV_20241020T170721_20241020T170748_056189_06E0BF_58BA.SAFE/measurement’: File exists\n"
     ]
    },
    {
     "name": "stdout",
     "output_type": "stream",
     "text": [
      "S1A_IW_SLC__1SDV_20241101T170721_20241101T170748_056364_06E7B1_DB51.SAFE\n",
      "cp s3://eodata/Sentinel-1/SAR/IW_SLC__1S/2024/11/01/S1A_IW_SLC__1SDV_20241101T170721_20241101T170748_056364_06E7B1_DB51.SAFE/annotation/rfi/rfi-s1a-iw2-slc-vv-20241101t170723-20241101t170748-056364-06e7b1-005.xml S1A_IW_SLC__1SDV_20241101T170721_20241101T170748_056364_06E7B1_DB51.SAFE/annotation/rfi/rfi-s1a-iw2-slc-vv-20241101t170723-20241101t170748-056364-06e7b1-005.xml\n",
      "cp s3://eodata/Sentinel-1/SAR/IW_SLC__1S/2024/11/01/S1A_IW_SLC__1SDV_20241101T170721_20241101T170748_056364_06E7B1_DB51.SAFE/manifest.safe S1A_IW_SLC__1SDV_20241101T170721_20241101T170748_056364_06E7B1_DB51.SAFE/manifest.safe\n",
      "cp s3://eodata/Sentinel-1/SAR/IW_SLC__1S/2024/11/01/S1A_IW_SLC__1SDV_20241101T170721_20241101T170748_056364_06E7B1_DB51.SAFE/annotation/calibration/noise-s1a-iw2-slc-vv-20241101t170723-20241101t170748-056364-06e7b1-005.xml S1A_IW_SLC__1SDV_20241101T170721_20241101T170748_056364_06E7B1_DB51.SAFE/annotation/calibration/noise-s1a-iw2-slc-vv-20241101t170723-20241101t170748-056364-06e7b1-005.xml\n",
      "cp s3://eodata/Sentinel-1/SAR/IW_SLC__1S/2024/11/01/S1A_IW_SLC__1SDV_20241101T170721_20241101T170748_056364_06E7B1_DB51.SAFE/annotation/calibration/calibration-s1a-iw2-slc-vv-20241101t170723-20241101t170748-056364-06e7b1-005.xml S1A_IW_SLC__1SDV_20241101T170721_20241101T170748_056364_06E7B1_DB51.SAFE/annotation/calibration/calibration-s1a-iw2-slc-vv-20241101t170723-20241101t170748-056364-06e7b1-005.xml\n",
      "cp s3://eodata/Sentinel-1/SAR/IW_SLC__1S/2024/11/01/S1A_IW_SLC__1SDV_20241101T170721_20241101T170748_056364_06E7B1_DB51.SAFE/annotation/s1a-iw2-slc-vv-20241101t170723-20241101t170748-056364-06e7b1-005.xml S1A_IW_SLC__1SDV_20241101T170721_20241101T170748_056364_06E7B1_DB51.SAFE/annotation/s1a-iw2-slc-vv-20241101t170723-20241101t170748-056364-06e7b1-005.xml\n"
     ]
    },
    {
     "name": "stderr",
     "output_type": "stream",
     "text": [
      "mkdir: cannot create directory ‘S1A_IW_SLC__1SDV_20241101T170721_20241101T170748_056364_06E7B1_DB51.SAFE/measurement’: File exists\n"
     ]
    },
    {
     "name": "stdout",
     "output_type": "stream",
     "text": [
      "S1A_IW_SLC__1SDV_20241113T170721_20241113T170748_056539_06EEA8_D74F.SAFE\n",
      "cp s3://eodata/Sentinel-1/SAR/IW_SLC__1S/2024/11/13/S1A_IW_SLC__1SDV_20241113T170721_20241113T170748_056539_06EEA8_D74F.SAFE/annotation/rfi/rfi-s1a-iw2-slc-vv-20241113t170722-20241113t170748-056539-06eea8-005.xml S1A_IW_SLC__1SDV_20241113T170721_20241113T170748_056539_06EEA8_D74F.SAFE/annotation/rfi/rfi-s1a-iw2-slc-vv-20241113t170722-20241113t170748-056539-06eea8-005.xml\n",
      "cp s3://eodata/Sentinel-1/SAR/IW_SLC__1S/2024/11/13/S1A_IW_SLC__1SDV_20241113T170721_20241113T170748_056539_06EEA8_D74F.SAFE/annotation/calibration/calibration-s1a-iw2-slc-vv-20241113t170722-20241113t170748-056539-06eea8-005.xml S1A_IW_SLC__1SDV_20241113T170721_20241113T170748_056539_06EEA8_D74F.SAFE/annotation/calibration/calibration-s1a-iw2-slc-vv-20241113t170722-20241113t170748-056539-06eea8-005.xml\n",
      "cp s3://eodata/Sentinel-1/SAR/IW_SLC__1S/2024/11/13/S1A_IW_SLC__1SDV_20241113T170721_20241113T170748_056539_06EEA8_D74F.SAFE/manifest.safe S1A_IW_SLC__1SDV_20241113T170721_20241113T170748_056539_06EEA8_D74F.SAFE/manifest.safe\n",
      "cp s3://eodata/Sentinel-1/SAR/IW_SLC__1S/2024/11/13/S1A_IW_SLC__1SDV_20241113T170721_20241113T170748_056539_06EEA8_D74F.SAFE/annotation/calibration/noise-s1a-iw2-slc-vv-20241113t170722-20241113t170748-056539-06eea8-005.xml S1A_IW_SLC__1SDV_20241113T170721_20241113T170748_056539_06EEA8_D74F.SAFE/annotation/calibration/noise-s1a-iw2-slc-vv-20241113t170722-20241113t170748-056539-06eea8-005.xml\n",
      "cp s3://eodata/Sentinel-1/SAR/IW_SLC__1S/2024/11/13/S1A_IW_SLC__1SDV_20241113T170721_20241113T170748_056539_06EEA8_D74F.SAFE/annotation/s1a-iw2-slc-vv-20241113t170722-20241113t170748-056539-06eea8-005.xml S1A_IW_SLC__1SDV_20241113T170721_20241113T170748_056539_06EEA8_D74F.SAFE/annotation/s1a-iw2-slc-vv-20241113t170722-20241113t170748-056539-06eea8-005.xml\n"
     ]
    },
    {
     "name": "stderr",
     "output_type": "stream",
     "text": [
      "mkdir: cannot create directory ‘S1A_IW_SLC__1SDV_20241113T170721_20241113T170748_056539_06EEA8_D74F.SAFE/measurement’: File exists\n"
     ]
    },
    {
     "name": "stdout",
     "output_type": "stream",
     "text": [
      "S1A_IW_SLC__1SDV_20241125T170720_20241125T170747_056714_06F5A6_8E5C.SAFE\n",
      "cp s3://eodata/Sentinel-1/SAR/IW_SLC__1S/2024/11/25/S1A_IW_SLC__1SDV_20241125T170720_20241125T170747_056714_06F5A6_8E5C.SAFE/annotation/rfi/rfi-s1a-iw2-slc-vv-20241125t170722-20241125t170747-056714-06f5a6-005.xml S1A_IW_SLC__1SDV_20241125T170720_20241125T170747_056714_06F5A6_8E5C.SAFE/annotation/rfi/rfi-s1a-iw2-slc-vv-20241125t170722-20241125t170747-056714-06f5a6-005.xml\n",
      "cp s3://eodata/Sentinel-1/SAR/IW_SLC__1S/2024/11/25/S1A_IW_SLC__1SDV_20241125T170720_20241125T170747_056714_06F5A6_8E5C.SAFE/manifest.safe S1A_IW_SLC__1SDV_20241125T170720_20241125T170747_056714_06F5A6_8E5C.SAFE/manifest.safe\n",
      "cp s3://eodata/Sentinel-1/SAR/IW_SLC__1S/2024/11/25/S1A_IW_SLC__1SDV_20241125T170720_20241125T170747_056714_06F5A6_8E5C.SAFE/annotation/calibration/noise-s1a-iw2-slc-vv-20241125t170722-20241125t170747-056714-06f5a6-005.xml S1A_IW_SLC__1SDV_20241125T170720_20241125T170747_056714_06F5A6_8E5C.SAFE/annotation/calibration/noise-s1a-iw2-slc-vv-20241125t170722-20241125t170747-056714-06f5a6-005.xml\n",
      "cp s3://eodata/Sentinel-1/SAR/IW_SLC__1S/2024/11/25/S1A_IW_SLC__1SDV_20241125T170720_20241125T170747_056714_06F5A6_8E5C.SAFE/annotation/s1a-iw2-slc-vv-20241125t170722-20241125t170747-056714-06f5a6-005.xml S1A_IW_SLC__1SDV_20241125T170720_20241125T170747_056714_06F5A6_8E5C.SAFE/annotation/s1a-iw2-slc-vv-20241125t170722-20241125t170747-056714-06f5a6-005.xml\n",
      "cp s3://eodata/Sentinel-1/SAR/IW_SLC__1S/2024/11/25/S1A_IW_SLC__1SDV_20241125T170720_20241125T170747_056714_06F5A6_8E5C.SAFE/annotation/calibration/calibration-s1a-iw2-slc-vv-20241125t170722-20241125t170747-056714-06f5a6-005.xml S1A_IW_SLC__1SDV_20241125T170720_20241125T170747_056714_06F5A6_8E5C.SAFE/annotation/calibration/calibration-s1a-iw2-slc-vv-20241125t170722-20241125t170747-056714-06f5a6-005.xml\n"
     ]
    },
    {
     "name": "stderr",
     "output_type": "stream",
     "text": [
      "mkdir: cannot create directory ‘S1A_IW_SLC__1SDV_20241125T170720_20241125T170747_056714_06F5A6_8E5C.SAFE/measurement’: File exists\n"
     ]
    },
    {
     "name": "stdout",
     "output_type": "stream",
     "text": [
      "S1A_IW_SLC__1SDV_20241207T170719_20241207T170746_056889_06FC84_9C13.SAFE\n",
      "cp s3://eodata/Sentinel-1/SAR/IW_SLC__1S/2024/12/07/S1A_IW_SLC__1SDV_20241207T170719_20241207T170746_056889_06FC84_9C13.SAFE/annotation/rfi/rfi-s1a-iw2-slc-vv-20241207t170721-20241207t170746-056889-06fc84-005.xml S1A_IW_SLC__1SDV_20241207T170719_20241207T170746_056889_06FC84_9C13.SAFE/annotation/rfi/rfi-s1a-iw2-slc-vv-20241207t170721-20241207t170746-056889-06fc84-005.xml\n",
      "cp s3://eodata/Sentinel-1/SAR/IW_SLC__1S/2024/12/07/S1A_IW_SLC__1SDV_20241207T170719_20241207T170746_056889_06FC84_9C13.SAFE/manifest.safe S1A_IW_SLC__1SDV_20241207T170719_20241207T170746_056889_06FC84_9C13.SAFE/manifest.safe\n",
      "cp s3://eodata/Sentinel-1/SAR/IW_SLC__1S/2024/12/07/S1A_IW_SLC__1SDV_20241207T170719_20241207T170746_056889_06FC84_9C13.SAFE/annotation/calibration/noise-s1a-iw2-slc-vv-20241207t170721-20241207t170746-056889-06fc84-005.xml S1A_IW_SLC__1SDV_20241207T170719_20241207T170746_056889_06FC84_9C13.SAFE/annotation/calibration/noise-s1a-iw2-slc-vv-20241207t170721-20241207t170746-056889-06fc84-005.xml\n",
      "cp s3://eodata/Sentinel-1/SAR/IW_SLC__1S/2024/12/07/S1A_IW_SLC__1SDV_20241207T170719_20241207T170746_056889_06FC84_9C13.SAFE/annotation/calibration/calibration-s1a-iw2-slc-vv-20241207t170721-20241207t170746-056889-06fc84-005.xml S1A_IW_SLC__1SDV_20241207T170719_20241207T170746_056889_06FC84_9C13.SAFE/annotation/calibration/calibration-s1a-iw2-slc-vv-20241207t170721-20241207t170746-056889-06fc84-005.xml\n",
      "cp s3://eodata/Sentinel-1/SAR/IW_SLC__1S/2024/12/07/S1A_IW_SLC__1SDV_20241207T170719_20241207T170746_056889_06FC84_9C13.SAFE/annotation/s1a-iw2-slc-vv-20241207t170721-20241207t170746-056889-06fc84-005.xml S1A_IW_SLC__1SDV_20241207T170719_20241207T170746_056889_06FC84_9C13.SAFE/annotation/s1a-iw2-slc-vv-20241207t170721-20241207t170746-056889-06fc84-005.xml\n"
     ]
    },
    {
     "name": "stderr",
     "output_type": "stream",
     "text": [
      "mkdir: cannot create directory ‘S1A_IW_SLC__1SDV_20241207T170719_20241207T170746_056889_06FC84_9C13.SAFE/measurement’: File exists\n"
     ]
    },
    {
     "name": "stdout",
     "output_type": "stream",
     "text": [
      "S1A_IW_SLC__1SDV_20241219T170718_20241219T170745_057064_070387_3CFE.SAFE\n",
      "cp s3://eodata/Sentinel-1/SAR/IW_SLC__1S/2024/12/19/S1A_IW_SLC__1SDV_20241219T170718_20241219T170745_057064_070387_3CFE.SAFE/annotation/rfi/rfi-s1a-iw2-slc-vv-20241219t170719-20241219t170745-057064-070387-005.xml S1A_IW_SLC__1SDV_20241219T170718_20241219T170745_057064_070387_3CFE.SAFE/annotation/rfi/rfi-s1a-iw2-slc-vv-20241219t170719-20241219t170745-057064-070387-005.xml\n",
      "cp s3://eodata/Sentinel-1/SAR/IW_SLC__1S/2024/12/19/S1A_IW_SLC__1SDV_20241219T170718_20241219T170745_057064_070387_3CFE.SAFE/manifest.safe S1A_IW_SLC__1SDV_20241219T170718_20241219T170745_057064_070387_3CFE.SAFE/manifest.safe\n",
      "cp s3://eodata/Sentinel-1/SAR/IW_SLC__1S/2024/12/19/S1A_IW_SLC__1SDV_20241219T170718_20241219T170745_057064_070387_3CFE.SAFE/annotation/calibration/noise-s1a-iw2-slc-vv-20241219t170719-20241219t170745-057064-070387-005.xml S1A_IW_SLC__1SDV_20241219T170718_20241219T170745_057064_070387_3CFE.SAFE/annotation/calibration/noise-s1a-iw2-slc-vv-20241219t170719-20241219t170745-057064-070387-005.xml\n",
      "cp s3://eodata/Sentinel-1/SAR/IW_SLC__1S/2024/12/19/S1A_IW_SLC__1SDV_20241219T170718_20241219T170745_057064_070387_3CFE.SAFE/annotation/s1a-iw2-slc-vv-20241219t170719-20241219t170745-057064-070387-005.xml S1A_IW_SLC__1SDV_20241219T170718_20241219T170745_057064_070387_3CFE.SAFE/annotation/s1a-iw2-slc-vv-20241219t170719-20241219t170745-057064-070387-005.xml\n",
      "cp s3://eodata/Sentinel-1/SAR/IW_SLC__1S/2024/12/19/S1A_IW_SLC__1SDV_20241219T170718_20241219T170745_057064_070387_3CFE.SAFE/annotation/calibration/calibration-s1a-iw2-slc-vv-20241219t170719-20241219t170745-057064-070387-005.xml S1A_IW_SLC__1SDV_20241219T170718_20241219T170745_057064_070387_3CFE.SAFE/annotation/calibration/calibration-s1a-iw2-slc-vv-20241219t170719-20241219t170745-057064-070387-005.xml\n"
     ]
    },
    {
     "name": "stderr",
     "output_type": "stream",
     "text": [
      "mkdir: cannot create directory ‘S1A_IW_SLC__1SDV_20241219T170718_20241219T170745_057064_070387_3CFE.SAFE/measurement’: File exists\n"
     ]
    },
    {
     "name": "stdout",
     "output_type": "stream",
     "text": [
      "S1A_IW_SLC__1SDV_20241231T170717_20241231T170744_057239_070A6D_31B7.SAFE\n",
      "cp s3://eodata/Sentinel-1/SAR/IW_SLC__1S/2024/12/31/S1A_IW_SLC__1SDV_20241231T170717_20241231T170744_057239_070A6D_31B7.SAFE/annotation/calibration/noise-s1a-iw2-slc-vv-20241231t170719-20241231t170744-057239-070a6d-005.xml S1A_IW_SLC__1SDV_20241231T170717_20241231T170744_057239_070A6D_31B7.SAFE/annotation/calibration/noise-s1a-iw2-slc-vv-20241231t170719-20241231t170744-057239-070a6d-005.xml\n",
      "cp s3://eodata/Sentinel-1/SAR/IW_SLC__1S/2024/12/31/S1A_IW_SLC__1SDV_20241231T170717_20241231T170744_057239_070A6D_31B7.SAFE/annotation/rfi/rfi-s1a-iw2-slc-vv-20241231t170719-20241231t170744-057239-070a6d-005.xml S1A_IW_SLC__1SDV_20241231T170717_20241231T170744_057239_070A6D_31B7.SAFE/annotation/rfi/rfi-s1a-iw2-slc-vv-20241231t170719-20241231t170744-057239-070a6d-005.xml\n",
      "cp s3://eodata/Sentinel-1/SAR/IW_SLC__1S/2024/12/31/S1A_IW_SLC__1SDV_20241231T170717_20241231T170744_057239_070A6D_31B7.SAFE/manifest.safe S1A_IW_SLC__1SDV_20241231T170717_20241231T170744_057239_070A6D_31B7.SAFE/manifest.safe\n",
      "cp s3://eodata/Sentinel-1/SAR/IW_SLC__1S/2024/12/31/S1A_IW_SLC__1SDV_20241231T170717_20241231T170744_057239_070A6D_31B7.SAFE/annotation/calibration/calibration-s1a-iw2-slc-vv-20241231t170719-20241231t170744-057239-070a6d-005.xml S1A_IW_SLC__1SDV_20241231T170717_20241231T170744_057239_070A6D_31B7.SAFE/annotation/calibration/calibration-s1a-iw2-slc-vv-20241231t170719-20241231t170744-057239-070a6d-005.xml\n",
      "cp s3://eodata/Sentinel-1/SAR/IW_SLC__1S/2024/12/31/S1A_IW_SLC__1SDV_20241231T170717_20241231T170744_057239_070A6D_31B7.SAFE/annotation/s1a-iw2-slc-vv-20241231t170719-20241231t170744-057239-070a6d-005.xml S1A_IW_SLC__1SDV_20241231T170717_20241231T170744_057239_070A6D_31B7.SAFE/annotation/s1a-iw2-slc-vv-20241231t170719-20241231t170744-057239-070a6d-005.xml\n"
     ]
    },
    {
     "name": "stderr",
     "output_type": "stream",
     "text": [
      "mkdir: cannot create directory ‘S1A_IW_SLC__1SDV_20241231T170717_20241231T170744_057239_070A6D_31B7.SAFE/measurement’: File exists\n"
     ]
    }
   ],
   "source": [
    "import os\n",
    "os.environ[\"AWS_ACCESS_KEY_ID\"] = \"CXJ4X1DAG8XKQEHFXQNJ\"\n",
    "os.environ[\"AWS_SECRET_ACCESS_KEY\"] = \"UnLZIoFCkDABJhqbOhirpdO7cgQT9JLw575iKBhA\"\n",
    "\n",
    "if polarization.lower()==\"vv\":\n",
    "    include_pol='vv'\n",
    "    exclude_pol='vh'\n",
    "elif polarization.lower()==\"vh\":\n",
    "    include_pol='vh'\n",
    "    exclude_pol='vv'\n",
    "\n",
    "s3_endpoint = \"eodata.dataspace.copernicus.eu\"\n",
    "\n",
    "for im_safe, im_s3 in zip(SAFE_image_list,S3_image_list):\n",
    "    print(im_safe)\n",
    "    os.system(f\"s5cmd --endpoint-url \\\"https://{s3_endpoint}\\\" cp --include \\\"*{sub_swath_identifier.lower()}*\\\" --exclude \\\"*{exclude_pol}*\\\"  --exclude \\\"*.tiff\\\" --include \\\"manifest.safe\\\" \\\"s3:/\\\"{im_s3}\\\"/*\\\" {im_safe}/\")\n",
    "    os.system(f\"mkdir {im_safe}/measurement\")\n",
    "\n",
    "    command = f\"s5cmd --endpoint-url \\\"https://{s3_endpoint}\\\" -r 5 ls \\\"s3:/\\\"{im_s3}\\\"/measurement/\\\" | grep -o '\\S\\+$' | grep {include_pol} | grep {sub_swath_identifier.lower()}\"\n",
    "    result = os.popen(command).read().splitlines()\n",
    "\n",
    "    for im in result:\n",
    "        command = f\"gdal_create -ot Int8 -outsize 1 1 -bands 1 -burn 0 {im_safe}/measurement/{im}\"\n",
    "        os.system(command)"
   ]
  },
  {
   "cell_type": "code",
   "execution_count": 17,
   "id": "fa070215",
   "metadata": {
    "collapsed": true,
    "jupyter": {
     "outputs_hidden": true
    },
    "tags": []
   },
   "outputs": [
    {
     "name": "stderr",
     "output_type": "stream",
     "text": [
      "WARNING: org.jlinda.core.Baseline: Max. error bperp modeling at 3D datapoints: 7.926562494398771m\n",
      "WARNING: org.jlinda.core.Baseline: Max. error bperp modeling at 3D datapoints: 7.92599394127678m\n",
      "WARNING: org.jlinda.core.Baseline: Max. error bperp modeling at 3D datapoints: 9.414279121636978m\n",
      "WARNING: org.jlinda.core.Baseline: Max. error bperp modeling at 3D datapoints: 2.7635260801382753m\n",
      "WARNING: org.jlinda.core.Baseline: Max. error bperp modeling at 3D datapoints: 9.482903335312734m\n"
     ]
    },
    {
     "name": "stdout",
     "output_type": "stream",
     "text": [
      "Perp Baseline: 0.0\n",
      "Perp Baseline: -0.14784052968025208\n",
      "Perp Baseline: 46.51436233520508\n",
      "Perp Baseline: -188.55128479003906\n",
      "Perp Baseline: -170.50071716308594\n",
      "Perp Baseline: 82.8715591430664\n",
      "Perp Baseline: 16.766815185546875\n",
      "Perp Baseline: -367.5889587402344\n",
      "Perp Baseline: -170.79315185546875\n",
      "Perp Baseline: -43.29481506347656\n",
      "Perp Baseline: 22.349666595458984\n",
      "Perp Baseline: -20.189451217651367\n",
      "Perp Baseline: -21.40328025817871\n",
      "Perp Baseline: 69.33555603027344\n",
      "Perp Baseline: 82.7052993774414\n",
      "Perp Baseline: 0.1478436142206192\n",
      "Perp Baseline: 0.0\n",
      "Perp Baseline: 46.64067459106445\n",
      "Perp Baseline: -188.22938537597656\n",
      "Perp Baseline: -169.60531616210938\n",
      "Perp Baseline: 82.81552124023438\n",
      "Perp Baseline: 10.40963077545166\n",
      "Perp Baseline: -367.51739501953125\n",
      "Perp Baseline: -170.28009033203125\n",
      "Perp Baseline: -42.01234436035156\n",
      "Perp Baseline: 18.43700408935547\n",
      "Perp Baseline: -14.511312484741211\n",
      "Perp Baseline: -16.29401969909668\n",
      "Perp Baseline: 68.30553436279297\n",
      "Perp Baseline: 82.85194396972656\n",
      "Perp Baseline: -46.512107849121094\n",
      "Perp Baseline: -46.634944915771484\n",
      "Perp Baseline: 0.0\n",
      "Perp Baseline: -234.77691650390625\n",
      "Perp Baseline: -216.22344970703125\n",
      "Perp Baseline: 36.35969543457031\n",
      "Perp Baseline: -43.483604431152344\n",
      "Perp Baseline: -413.9615783691406\n",
      "Perp Baseline: -216.87954711914062\n",
      "Perp Baseline: -88.64244842529297\n",
      "Perp Baseline: -32.37654495239258\n",
      "Perp Baseline: -58.06760787963867\n",
      "Perp Baseline: -60.69533920288086\n",
      "Perp Baseline: 24.229938507080078\n",
      "Perp Baseline: 36.258323669433594\n",
      "Perp Baseline: 188.67884826660156\n",
      "Perp Baseline: 188.33216857910156\n",
      "Perp Baseline: 234.9535369873047\n",
      "Perp Baseline: 0.0\n",
      "Perp Baseline: 23.645065307617188\n",
      "Perp Baseline: 271.1651306152344\n",
      "Perp Baseline: 193.3243408203125\n",
      "Perp Baseline: -179.49681091308594\n",
      "Perp Baseline: 18.566572189331055\n",
      "Perp Baseline: 146.47637939453125\n",
      "Perp Baseline: 204.8167266845703\n",
      "Perp Baseline: 178.6880645751953\n",
      "Perp Baseline: 175.85760498046875\n",
      "Perp Baseline: 256.216552734375\n",
      "Perp Baseline: 271.1768493652344\n",
      "Perp Baseline: 170.51234436035156\n",
      "Perp Baseline: 169.61245727539062\n",
      "Perp Baseline: 216.24871826171875\n",
      "Perp Baseline: -23.62946891784668\n",
      "Perp Baseline: 0.0\n",
      "Perp Baseline: 252.26437377929688\n",
      "Perp Baseline: 173.90208435058594\n",
      "Perp Baseline: -199.7490234375\n",
      "Perp Baseline: -9.154032707214355\n",
      "Perp Baseline: 127.59888458251953\n",
      "Perp Baseline: 185.4178466796875\n",
      "Perp Baseline: 159.14495849609375\n",
      "Perp Baseline: 156.3638153076172\n",
      "Perp Baseline: 236.83480834960938\n",
      "Perp Baseline: 252.40371704101562\n",
      "Perp Baseline: -82.87178802490234\n",
      "Perp Baseline: -82.81641387939453\n",
      "Perp Baseline: -36.35712432861328\n",
      "Perp Baseline: -271.0459289550781\n",
      "Perp Baseline: -252.25537109375\n",
      "Perp Baseline: 0.0\n",
      "Perp Baseline: -78.6082534790039\n",
      "Perp Baseline: -450.3020324707031\n",
      "Perp Baseline: -253.0827178955078\n",
      "Perp Baseline: -124.75138092041016\n",
      "Perp Baseline: -67.11994934082031\n",
      "Perp Baseline: -93.39147186279297\n",
      "Perp Baseline: -96.1188735961914\n",
      "Perp Baseline: -17.654821395874023\n",
      "Perp Baseline: -0.4668548107147217\n",
      "Perp Baseline: -16.76430320739746\n",
      "Perp Baseline: -10.409123420715332\n",
      "Perp Baseline: 43.49428939819336\n",
      "Perp Baseline: -193.24842834472656\n",
      "Perp Baseline: -173.89967346191406\n",
      "Perp Baseline: 78.61028289794922\n",
      "Perp Baseline: 0.0\n",
      "Perp Baseline: -372.6765441894531\n",
      "Perp Baseline: -175.0874786376953\n",
      "Perp Baseline: -47.05576705932617\n",
      "Perp Baseline: 11.521049499511719\n",
      "Perp Baseline: -14.789785385131836\n",
      "Perp Baseline: -17.545875549316406\n",
      "Perp Baseline: 62.94140625\n",
      "Perp Baseline: 78.93548583984375\n",
      "Perp Baseline: 367.6545104980469\n",
      "Perp Baseline: 367.56805419921875\n",
      "Perp Baseline: 414.053955078125\n",
      "Perp Baseline: 179.4483642578125\n",
      "Perp Baseline: 199.7671661376953\n",
      "Perp Baseline: 450.36358642578125\n",
      "Perp Baseline: 372.7146911621094\n",
      "Perp Baseline: 0.0\n",
      "Perp Baseline: 197.69920349121094\n",
      "Perp Baseline: 325.8106994628906\n",
      "Perp Baseline: 384.17633056640625\n",
      "Perp Baseline: 358.0769958496094\n",
      "Perp Baseline: 355.26678466796875\n",
      "Perp Baseline: 435.5743408203125\n",
      "Perp Baseline: 450.31103515625\n",
      "Perp Baseline: 170.8050079345703\n",
      "Perp Baseline: 170.285400390625\n",
      "Perp Baseline: 216.90359497070312\n",
      "Perp Baseline: -18.52873992919922\n",
      "Perp Baseline: 9.187135696411133\n",
      "Perp Baseline: 253.09352111816406\n",
      "Perp Baseline: 175.08958435058594\n",
      "Perp Baseline: -197.67636108398438\n",
      "Perp Baseline: 0.0\n",
      "Perp Baseline: 128.34901428222656\n",
      "Perp Baseline: 186.57342529296875\n",
      "Perp Baseline: 160.41171264648438\n",
      "Perp Baseline: 157.60879516601562\n",
      "Perp Baseline: 238.00527954101562\n",
      "Perp Baseline: 253.14230346679688\n",
      "Perp Baseline: 43.296112060546875\n",
      "Perp Baseline: 42.011714935302734\n",
      "Perp Baseline: 88.64940643310547\n",
      "Perp Baseline: -146.38070678710938\n",
      "Perp Baseline: -127.59478759765625\n",
      "Perp Baseline: 124.75239562988281\n",
      "Perp Baseline: 47.056175231933594\n",
      "Perp Baseline: -325.7622375488281\n",
      "Perp Baseline: -128.34388732910156\n",
      "Perp Baseline: 0.0\n",
      "Perp Baseline: 58.42426681518555\n",
      "Perp Baseline: 32.77003479003906\n",
      "Perp Baseline: 29.9619197845459\n",
      "Perp Baseline: 109.75658416748047\n",
      "Perp Baseline: 124.83789825439453\n",
      "Perp Baseline: -22.349123001098633\n",
      "Perp Baseline: -18.436906814575195\n",
      "Perp Baseline: 32.38016891479492\n",
      "Perp Baseline: -204.703857421875\n",
      "Perp Baseline: -185.4090118408203\n",
      "Perp Baseline: 67.11949920654297\n",
      "Perp Baseline: -11.519248962402344\n",
      "Perp Baseline: -384.11981201171875\n",
      "Perp Baseline: -186.56553649902344\n",
      "Perp Baseline: -58.42415237426758\n",
      "Perp Baseline: 0.0\n",
      "Perp Baseline: -26.304325103759766\n",
      "Perp Baseline: -29.063209533691406\n",
      "Perp Baseline: 51.43572998046875\n",
      "Perp Baseline: 67.47895050048828\n",
      "Perp Baseline: 20.189817428588867\n",
      "Perp Baseline: 14.511473655700684\n",
      "Perp Baseline: 58.077919006347656\n",
      "Perp Baseline: -178.609619140625\n",
      "Perp Baseline: -159.1429443359375\n",
      "Perp Baseline: 93.39381408691406\n",
      "Perp Baseline: 14.789802551269531\n",
      "Perp Baseline: -358.03729248046875\n",
      "Perp Baseline: -160.40927124023438\n",
      "Perp Baseline: -32.76960754394531\n",
      "Perp Baseline: 26.305896759033203\n",
      "Perp Baseline: 0.0\n",
      "Perp Baseline: -2.8208038806915283\n",
      "Perp Baseline: 77.68883514404297\n",
      "Perp Baseline: 93.70116424560547\n",
      "Perp Baseline: 21.405929565429688\n",
      "Perp Baseline: 16.295419692993164\n",
      "Perp Baseline: 60.71284866333008\n",
      "Perp Baseline: -175.80528259277344\n",
      "Perp Baseline: -156.3654327392578\n",
      "Perp Baseline: 96.12557220458984\n",
      "Perp Baseline: 17.54639434814453\n",
      "Perp Baseline: -355.23858642578125\n",
      "Perp Baseline: -157.60838317871094\n",
      "Perp Baseline: -29.959110260009766\n",
      "Perp Baseline: 29.067995071411133\n",
      "Perp Baseline: 2.8217010498046875\n",
      "Perp Baseline: 0.0\n",
      "Perp Baseline: 80.47439575195312\n",
      "Perp Baseline: 96.4142837524414\n",
      "Perp Baseline: -69.3343505859375\n",
      "Perp Baseline: -68.3064193725586\n",
      "Perp Baseline: -24.22402000427246\n",
      "Perp Baseline: -256.1177978515625\n",
      "Perp Baseline: -236.8301239013672\n",
      "Perp Baseline: 17.65519905090332\n",
      "Perp Baseline: -62.94097900390625\n",
      "Perp Baseline: -435.524169921875\n",
      "Perp Baseline: -237.99935913085938\n",
      "Perp Baseline: -109.7565689086914\n",
      "Perp Baseline: -51.43587875366211\n",
      "Perp Baseline: -77.68830108642578\n",
      "Perp Baseline: -80.47113037109375\n",
      "Perp Baseline: 0.0\n",
      "Perp Baseline: 19.028589248657227\n",
      "Perp Baseline: -82.70609283447266\n",
      "Perp Baseline: -82.85325622558594\n",
      "Perp Baseline: -36.25751495361328\n",
      "Perp Baseline: -271.04876708984375\n",
      "Perp Baseline: -252.39364624023438\n",
      "Perp Baseline: 0.4668698012828827\n",
      "Perp Baseline: -78.93305206298828\n",
      "Perp Baseline: -450.2441101074219\n",
      "Perp Baseline: -253.1293182373047\n",
      "Perp Baseline: -124.83647155761719\n",
      "Perp Baseline: -67.47982025146484\n",
      "Perp Baseline: -93.6982650756836\n",
      "Perp Baseline: -96.40608215332031\n",
      "Perp Baseline: -19.028289794921875\n",
      "Perp Baseline: 0.0\n"
     ]
    },
    {
     "name": "stderr",
     "output_type": "stream",
     "text": [
      "WARNING: org.jlinda.core.Baseline: Max. error bperp modeling at 3D datapoints: 2.763658270637943m\n"
     ]
    }
   ],
   "source": [
    "import esa_snappy as snappy\n",
    "import os\n",
    "from dateutil.parser import parse\n",
    "import datetime\n",
    "\n",
    "# os.environ[\"SNAP_HOME\"] = \"/home/mclaus@eurac.edu/snap/\"\n",
    "# snap_home = os.environ.get(\"SNAP_HOME\")\n",
    "# print(f\"SNAP is installed at: {snap_home}\")\n",
    "\n",
    "# read products\n",
    "products = []\n",
    "for im in SAFE_image_list:\n",
    "    products.append(snappy.ProductIO.readProduct(im))\n",
    "master = products[0]\n",
    "# import the stack operator\n",
    "create_stack = snappy.jpy.get_type('eu.esa.sar.insar.gpf.coregistration.CreateStackOp')\n",
    "# create_stack = snappy.jpy.get_type('org.esa.snap.core.gpf.Operator')\n",
    "# 1st argument: list of products between which you want to compute the baseline\n",
    "# 2nd argument: a product that will receive the baselines as new metadata\n",
    "create_stack.getBaselines(products, master)\n",
    "# Now there is a new piece of metadata in product one called 'Baselines'\n",
    "baseline_root_metadata = master.getMetadataRoot().getElement('Abstracted_Metadata').getElement('Baselines')\n",
    "# You can now display all the baselines between all master/slave configurations\n",
    "master_ids = list(baseline_root_metadata.getElementNames())\n",
    "master_dates = []\n",
    "slave_dates = []\n",
    "perpendicular_baselines = []\n",
    "delta_times = []\n",
    "for master_id in master_ids:\n",
    "    slave_ids = list( baseline_root_metadata.getElement(master_id).getElementNames())\n",
    "    for slave_id in slave_ids:\n",
    "        # print(f'{master_id}, {slave_id}')\n",
    "        snap_date_mst = master_id.split(\"_\")[1]\n",
    "        date_obj_mst = parse(snap_date_mst)\n",
    "        snap_date_slv = slave_id.split(\"_\")[1]\n",
    "        date_obj_slv = parse(snap_date_slv)\n",
    "        \n",
    "        delta_time = date_obj_mst - date_obj_slv\n",
    "        # if delta_time == datetime.timedelta(0):\n",
    "            # continue\n",
    "        master_dates.append(date_obj_mst)\n",
    "        slave_dates.append(date_obj_slv)\n",
    "        delta_times.append(delta_time)\n",
    "        baseline_metadata = baseline_root_metadata.getElement(master_id).getElement(slave_id)\n",
    "        for baseline in list(baseline_metadata.getAttributeNames()):\n",
    "            if baseline == \"Perp Baseline\":\n",
    "                perpendicular_baseline = baseline_metadata.getAttributeString(baseline)\n",
    "                perpendicular_baselines.append(perpendicular_baseline)\n",
    "                print(f'{baseline}: {perpendicular_baseline}')\n"
   ]
  },
  {
   "cell_type": "markdown",
   "id": "d7a6087e-742d-4ed5-a0e4-5d87d28d86ae",
   "metadata": {},
   "source": [
    "Create a pandas Dataframe containing all the dates combinations and the associated perpendicular and temporal baselines."
   ]
  },
  {
   "cell_type": "code",
   "execution_count": 18,
   "id": "5ffc45bf-c4d7-44d0-b238-eb435ee5a9f1",
   "metadata": {
    "tags": []
   },
   "outputs": [],
   "source": [
    "import pandas as pd\n",
    "df = pd.DataFrame([[a,b,float(c),d] for a,b,c,d in zip(master_dates,slave_dates,perpendicular_baselines,delta_times)], columns=[\"master_date\",\"slave_date\",\"perp_baseline\",\"temp_baseline\"])\n",
    "df"
   ]
  },
  {
   "cell_type": "markdown",
   "id": "a3ac3efa-8ed4-4b16-adb8-e5d0fba4d57c",
   "metadata": {},
   "source": [
    "Plot the perpendicular baseline wit hrespect to the master data, which can be changed with the slider:"
   ]
  },
  {
   "cell_type": "code",
   "execution_count": 20,
   "id": "a40116bc-e7bf-4f3c-8986-11990d8a6208",
   "metadata": {
    "tags": []
   },
   "outputs": [
    {
     "data": {
      "application/javascript": [
       "(function(root) {\n",
       "  function now() {\n",
       "    return new Date();\n",
       "  }\n",
       "\n",
       "  var force = true;\n",
       "  var py_version = '3.2.2'.replace('rc', '-rc.').replace('.dev', '-dev.');\n",
       "  var is_dev = py_version.indexOf(\"+\") !== -1 || py_version.indexOf(\"-\") !== -1;\n",
       "  var reloading = false;\n",
       "  var Bokeh = root.Bokeh;\n",
       "  var bokeh_loaded = Bokeh != null && (Bokeh.version === py_version || (Bokeh.versions !== undefined && Bokeh.versions.has(py_version)));\n",
       "\n",
       "  if (typeof (root._bokeh_timeout) === \"undefined\" || force) {\n",
       "    root._bokeh_timeout = Date.now() + 5000;\n",
       "    root._bokeh_failed_load = false;\n",
       "  }\n",
       "\n",
       "  function run_callbacks() {\n",
       "    try {\n",
       "      root._bokeh_onload_callbacks.forEach(function(callback) {\n",
       "        if (callback != null)\n",
       "          callback();\n",
       "      });\n",
       "    } finally {\n",
       "      delete root._bokeh_onload_callbacks;\n",
       "    }\n",
       "    console.debug(\"Bokeh: all callbacks have finished\");\n",
       "  }\n",
       "\n",
       "  function load_libs(css_urls, js_urls, js_modules, js_exports, callback) {\n",
       "    if (css_urls == null) css_urls = [];\n",
       "    if (js_urls == null) js_urls = [];\n",
       "    if (js_modules == null) js_modules = [];\n",
       "    if (js_exports == null) js_exports = {};\n",
       "\n",
       "    root._bokeh_onload_callbacks.push(callback);\n",
       "\n",
       "    if (root._bokeh_is_loading > 0) {\n",
       "      console.debug(\"Bokeh: BokehJS is being loaded, scheduling callback at\", now());\n",
       "      return null;\n",
       "    }\n",
       "    if (js_urls.length === 0 && js_modules.length === 0 && Object.keys(js_exports).length === 0) {\n",
       "      run_callbacks();\n",
       "      return null;\n",
       "    }\n",
       "    if (!reloading) {\n",
       "      console.debug(\"Bokeh: BokehJS not loaded, scheduling load and callback at\", now());\n",
       "    }\n",
       "\n",
       "    function on_load() {\n",
       "      root._bokeh_is_loading--;\n",
       "      if (root._bokeh_is_loading === 0) {\n",
       "        console.debug(\"Bokeh: all BokehJS libraries/stylesheets loaded\");\n",
       "        run_callbacks()\n",
       "      }\n",
       "    }\n",
       "    window._bokeh_on_load = on_load\n",
       "\n",
       "    function on_error() {\n",
       "      console.error(\"failed to load \" + url);\n",
       "    }\n",
       "\n",
       "    var skip = [];\n",
       "    if (window.requirejs) {\n",
       "      window.requirejs.config({'packages': {}, 'paths': {'jspanel': 'https://cdn.jsdelivr.net/npm/jspanel4@4.12.0/dist/jspanel', 'jspanel-modal': 'https://cdn.jsdelivr.net/npm/jspanel4@4.12.0/dist/extensions/modal/jspanel.modal', 'jspanel-tooltip': 'https://cdn.jsdelivr.net/npm/jspanel4@4.12.0/dist/extensions/tooltip/jspanel.tooltip', 'jspanel-hint': 'https://cdn.jsdelivr.net/npm/jspanel4@4.12.0/dist/extensions/hint/jspanel.hint', 'jspanel-layout': 'https://cdn.jsdelivr.net/npm/jspanel4@4.12.0/dist/extensions/layout/jspanel.layout', 'jspanel-contextmenu': 'https://cdn.jsdelivr.net/npm/jspanel4@4.12.0/dist/extensions/contextmenu/jspanel.contextmenu', 'jspanel-dock': 'https://cdn.jsdelivr.net/npm/jspanel4@4.12.0/dist/extensions/dock/jspanel.dock', 'gridstack': 'https://cdn.jsdelivr.net/npm/gridstack@7.2.3/dist/gridstack-all', 'notyf': 'https://cdn.jsdelivr.net/npm/notyf@3/notyf.min'}, 'shim': {'jspanel': {'exports': 'jsPanel'}, 'gridstack': {'exports': 'GridStack'}}});\n",
       "      require([\"jspanel\"], function(jsPanel) {\n",
       "\twindow.jsPanel = jsPanel\n",
       "\ton_load()\n",
       "      })\n",
       "      require([\"jspanel-modal\"], function() {\n",
       "\ton_load()\n",
       "      })\n",
       "      require([\"jspanel-tooltip\"], function() {\n",
       "\ton_load()\n",
       "      })\n",
       "      require([\"jspanel-hint\"], function() {\n",
       "\ton_load()\n",
       "      })\n",
       "      require([\"jspanel-layout\"], function() {\n",
       "\ton_load()\n",
       "      })\n",
       "      require([\"jspanel-contextmenu\"], function() {\n",
       "\ton_load()\n",
       "      })\n",
       "      require([\"jspanel-dock\"], function() {\n",
       "\ton_load()\n",
       "      })\n",
       "      require([\"gridstack\"], function(GridStack) {\n",
       "\twindow.GridStack = GridStack\n",
       "\ton_load()\n",
       "      })\n",
       "      require([\"notyf\"], function() {\n",
       "\ton_load()\n",
       "      })\n",
       "      root._bokeh_is_loading = css_urls.length + 9;\n",
       "    } else {\n",
       "      root._bokeh_is_loading = css_urls.length + js_urls.length + js_modules.length + Object.keys(js_exports).length;\n",
       "    }\n",
       "\n",
       "    var existing_stylesheets = []\n",
       "    var links = document.getElementsByTagName('link')\n",
       "    for (var i = 0; i < links.length; i++) {\n",
       "      var link = links[i]\n",
       "      if (link.href != null) {\n",
       "\texisting_stylesheets.push(link.href)\n",
       "      }\n",
       "    }\n",
       "    for (var i = 0; i < css_urls.length; i++) {\n",
       "      var url = css_urls[i];\n",
       "      if (existing_stylesheets.indexOf(url) !== -1) {\n",
       "\ton_load()\n",
       "\tcontinue;\n",
       "      }\n",
       "      const element = document.createElement(\"link\");\n",
       "      element.onload = on_load;\n",
       "      element.onerror = on_error;\n",
       "      element.rel = \"stylesheet\";\n",
       "      element.type = \"text/css\";\n",
       "      element.href = url;\n",
       "      console.debug(\"Bokeh: injecting link tag for BokehJS stylesheet: \", url);\n",
       "      document.body.appendChild(element);\n",
       "    }    if (((window['jsPanel'] !== undefined) && (!(window['jsPanel'] instanceof HTMLElement))) || window.requirejs) {\n",
       "      var urls = ['https://cdn.holoviz.org/panel/1.2.3/dist/bundled/floatpanel/jspanel4@4.12.0/dist/jspanel.js', 'https://cdn.holoviz.org/panel/1.2.3/dist/bundled/floatpanel/jspanel4@4.12.0/dist/extensions/modal/jspanel.modal.js', 'https://cdn.holoviz.org/panel/1.2.3/dist/bundled/floatpanel/jspanel4@4.12.0/dist/extensions/tooltip/jspanel.tooltip.js', 'https://cdn.holoviz.org/panel/1.2.3/dist/bundled/floatpanel/jspanel4@4.12.0/dist/extensions/hint/jspanel.hint.js', 'https://cdn.holoviz.org/panel/1.2.3/dist/bundled/floatpanel/jspanel4@4.12.0/dist/extensions/layout/jspanel.layout.js', 'https://cdn.holoviz.org/panel/1.2.3/dist/bundled/floatpanel/jspanel4@4.12.0/dist/extensions/contextmenu/jspanel.contextmenu.js', 'https://cdn.holoviz.org/panel/1.2.3/dist/bundled/floatpanel/jspanel4@4.12.0/dist/extensions/dock/jspanel.dock.js'];\n",
       "      for (var i = 0; i < urls.length; i++) {\n",
       "        skip.push(urls[i])\n",
       "      }\n",
       "    }    if (((window['GridStack'] !== undefined) && (!(window['GridStack'] instanceof HTMLElement))) || window.requirejs) {\n",
       "      var urls = ['https://cdn.holoviz.org/panel/1.2.3/dist/bundled/gridstack/gridstack@7.2.3/dist/gridstack-all.js'];\n",
       "      for (var i = 0; i < urls.length; i++) {\n",
       "        skip.push(urls[i])\n",
       "      }\n",
       "    }    if (((window['Notyf'] !== undefined) && (!(window['Notyf'] instanceof HTMLElement))) || window.requirejs) {\n",
       "      var urls = ['https://cdn.holoviz.org/panel/1.2.3/dist/bundled/notificationarea/notyf@3/notyf.min.js'];\n",
       "      for (var i = 0; i < urls.length; i++) {\n",
       "        skip.push(urls[i])\n",
       "      }\n",
       "    }    var existing_scripts = []\n",
       "    var scripts = document.getElementsByTagName('script')\n",
       "    for (var i = 0; i < scripts.length; i++) {\n",
       "      var script = scripts[i]\n",
       "      if (script.src != null) {\n",
       "\texisting_scripts.push(script.src)\n",
       "      }\n",
       "    }\n",
       "    for (var i = 0; i < js_urls.length; i++) {\n",
       "      var url = js_urls[i];\n",
       "      if (skip.indexOf(url) !== -1 || existing_scripts.indexOf(url) !== -1) {\n",
       "\tif (!window.requirejs) {\n",
       "\t  on_load();\n",
       "\t}\n",
       "\tcontinue;\n",
       "      }\n",
       "      var element = document.createElement('script');\n",
       "      element.onload = on_load;\n",
       "      element.onerror = on_error;\n",
       "      element.async = false;\n",
       "      element.src = url;\n",
       "      console.debug(\"Bokeh: injecting script tag for BokehJS library: \", url);\n",
       "      document.head.appendChild(element);\n",
       "    }\n",
       "    for (var i = 0; i < js_modules.length; i++) {\n",
       "      var url = js_modules[i];\n",
       "      if (skip.indexOf(url) !== -1 || existing_scripts.indexOf(url) !== -1) {\n",
       "\tif (!window.requirejs) {\n",
       "\t  on_load();\n",
       "\t}\n",
       "\tcontinue;\n",
       "      }\n",
       "      var element = document.createElement('script');\n",
       "      element.onload = on_load;\n",
       "      element.onerror = on_error;\n",
       "      element.async = false;\n",
       "      element.src = url;\n",
       "      element.type = \"module\";\n",
       "      console.debug(\"Bokeh: injecting script tag for BokehJS library: \", url);\n",
       "      document.head.appendChild(element);\n",
       "    }\n",
       "    for (const name in js_exports) {\n",
       "      var url = js_exports[name];\n",
       "      if (skip.indexOf(url) >= 0 || root[name] != null) {\n",
       "\tif (!window.requirejs) {\n",
       "\t  on_load();\n",
       "\t}\n",
       "\tcontinue;\n",
       "      }\n",
       "      var element = document.createElement('script');\n",
       "      element.onerror = on_error;\n",
       "      element.async = false;\n",
       "      element.type = \"module\";\n",
       "      console.debug(\"Bokeh: injecting script tag for BokehJS library: \", url);\n",
       "      element.textContent = `\n",
       "      import ${name} from \"${url}\"\n",
       "      window.${name} = ${name}\n",
       "      window._bokeh_on_load()\n",
       "      `\n",
       "      document.head.appendChild(element);\n",
       "    }\n",
       "    if (!js_urls.length && !js_modules.length) {\n",
       "      on_load()\n",
       "    }\n",
       "  };\n",
       "\n",
       "  function inject_raw_css(css) {\n",
       "    const element = document.createElement(\"style\");\n",
       "    element.appendChild(document.createTextNode(css));\n",
       "    document.body.appendChild(element);\n",
       "  }\n",
       "\n",
       "  var js_urls = [\"https://cdn.bokeh.org/bokeh/release/bokeh-3.2.2.min.js\", \"https://cdn.bokeh.org/bokeh/release/bokeh-gl-3.2.2.min.js\", \"https://cdn.bokeh.org/bokeh/release/bokeh-widgets-3.2.2.min.js\", \"https://cdn.bokeh.org/bokeh/release/bokeh-tables-3.2.2.min.js\", \"https://cdn.holoviz.org/panel/1.2.3/dist/panel.min.js\"];\n",
       "  var js_modules = [];\n",
       "  var js_exports = {};\n",
       "  var css_urls = [];\n",
       "  var inline_js = [    function(Bokeh) {\n",
       "      Bokeh.set_log_level(\"info\");\n",
       "    },\n",
       "function(Bokeh) {} // ensure no trailing comma for IE\n",
       "  ];\n",
       "\n",
       "  function run_inline_js() {\n",
       "    if ((root.Bokeh !== undefined) || (force === true)) {\n",
       "      for (var i = 0; i < inline_js.length; i++) {\n",
       "        inline_js[i].call(root, root.Bokeh);\n",
       "      }\n",
       "      // Cache old bokeh versions\n",
       "      if (Bokeh != undefined && !reloading) {\n",
       "\tvar NewBokeh = root.Bokeh;\n",
       "\tif (Bokeh.versions === undefined) {\n",
       "\t  Bokeh.versions = new Map();\n",
       "\t}\n",
       "\tif (NewBokeh.version !== Bokeh.version) {\n",
       "\t  Bokeh.versions.set(NewBokeh.version, NewBokeh)\n",
       "\t}\n",
       "\troot.Bokeh = Bokeh;\n",
       "      }} else if (Date.now() < root._bokeh_timeout) {\n",
       "      setTimeout(run_inline_js, 100);\n",
       "    } else if (!root._bokeh_failed_load) {\n",
       "      console.log(\"Bokeh: BokehJS failed to load within specified timeout.\");\n",
       "      root._bokeh_failed_load = true;\n",
       "    }\n",
       "    root._bokeh_is_initializing = false\n",
       "  }\n",
       "\n",
       "  function load_or_wait() {\n",
       "    // Implement a backoff loop that tries to ensure we do not load multiple\n",
       "    // versions of Bokeh and its dependencies at the same time.\n",
       "    // In recent versions we use the root._bokeh_is_initializing flag\n",
       "    // to determine whether there is an ongoing attempt to initialize\n",
       "    // bokeh, however for backward compatibility we also try to ensure\n",
       "    // that we do not start loading a newer (Panel>=1.0 and Bokeh>3) version\n",
       "    // before older versions are fully initialized.\n",
       "    if (root._bokeh_is_initializing && Date.now() > root._bokeh_timeout) {\n",
       "      root._bokeh_is_initializing = false;\n",
       "      root._bokeh_onload_callbacks = undefined;\n",
       "      console.log(\"Bokeh: BokehJS was loaded multiple times but one version failed to initialize.\");\n",
       "      load_or_wait();\n",
       "    } else if (root._bokeh_is_initializing || (typeof root._bokeh_is_initializing === \"undefined\" && root._bokeh_onload_callbacks !== undefined)) {\n",
       "      setTimeout(load_or_wait, 100);\n",
       "    } else {\n",
       "      Bokeh = root.Bokeh;\n",
       "      bokeh_loaded = Bokeh != null && (Bokeh.version === py_version || (Bokeh.versions !== undefined && Bokeh.versions.has(py_version)));\n",
       "      root._bokeh_is_initializing = true\n",
       "      root._bokeh_onload_callbacks = []\n",
       "      if (!reloading && (!bokeh_loaded || is_dev)) {\n",
       "\troot.Bokeh = undefined;\n",
       "      }\n",
       "      load_libs(css_urls, js_urls, js_modules, js_exports, function() {\n",
       "\tconsole.debug(\"Bokeh: BokehJS plotting callback run at\", now());\n",
       "\trun_inline_js();\n",
       "      });\n",
       "    }\n",
       "  }\n",
       "  // Give older versions of the autoload script a head-start to ensure\n",
       "  // they initialize before we start loading newer version.\n",
       "  setTimeout(load_or_wait, 100)\n",
       "}(window));"
      ],
      "application/vnd.holoviews_load.v0+json": "(function(root) {\n  function now() {\n    return new Date();\n  }\n\n  var force = true;\n  var py_version = '3.2.2'.replace('rc', '-rc.').replace('.dev', '-dev.');\n  var is_dev = py_version.indexOf(\"+\") !== -1 || py_version.indexOf(\"-\") !== -1;\n  var reloading = false;\n  var Bokeh = root.Bokeh;\n  var bokeh_loaded = Bokeh != null && (Bokeh.version === py_version || (Bokeh.versions !== undefined && Bokeh.versions.has(py_version)));\n\n  if (typeof (root._bokeh_timeout) === \"undefined\" || force) {\n    root._bokeh_timeout = Date.now() + 5000;\n    root._bokeh_failed_load = false;\n  }\n\n  function run_callbacks() {\n    try {\n      root._bokeh_onload_callbacks.forEach(function(callback) {\n        if (callback != null)\n          callback();\n      });\n    } finally {\n      delete root._bokeh_onload_callbacks;\n    }\n    console.debug(\"Bokeh: all callbacks have finished\");\n  }\n\n  function load_libs(css_urls, js_urls, js_modules, js_exports, callback) {\n    if (css_urls == null) css_urls = [];\n    if (js_urls == null) js_urls = [];\n    if (js_modules == null) js_modules = [];\n    if (js_exports == null) js_exports = {};\n\n    root._bokeh_onload_callbacks.push(callback);\n\n    if (root._bokeh_is_loading > 0) {\n      console.debug(\"Bokeh: BokehJS is being loaded, scheduling callback at\", now());\n      return null;\n    }\n    if (js_urls.length === 0 && js_modules.length === 0 && Object.keys(js_exports).length === 0) {\n      run_callbacks();\n      return null;\n    }\n    if (!reloading) {\n      console.debug(\"Bokeh: BokehJS not loaded, scheduling load and callback at\", now());\n    }\n\n    function on_load() {\n      root._bokeh_is_loading--;\n      if (root._bokeh_is_loading === 0) {\n        console.debug(\"Bokeh: all BokehJS libraries/stylesheets loaded\");\n        run_callbacks()\n      }\n    }\n    window._bokeh_on_load = on_load\n\n    function on_error() {\n      console.error(\"failed to load \" + url);\n    }\n\n    var skip = [];\n    if (window.requirejs) {\n      window.requirejs.config({'packages': {}, 'paths': {'jspanel': 'https://cdn.jsdelivr.net/npm/jspanel4@4.12.0/dist/jspanel', 'jspanel-modal': 'https://cdn.jsdelivr.net/npm/jspanel4@4.12.0/dist/extensions/modal/jspanel.modal', 'jspanel-tooltip': 'https://cdn.jsdelivr.net/npm/jspanel4@4.12.0/dist/extensions/tooltip/jspanel.tooltip', 'jspanel-hint': 'https://cdn.jsdelivr.net/npm/jspanel4@4.12.0/dist/extensions/hint/jspanel.hint', 'jspanel-layout': 'https://cdn.jsdelivr.net/npm/jspanel4@4.12.0/dist/extensions/layout/jspanel.layout', 'jspanel-contextmenu': 'https://cdn.jsdelivr.net/npm/jspanel4@4.12.0/dist/extensions/contextmenu/jspanel.contextmenu', 'jspanel-dock': 'https://cdn.jsdelivr.net/npm/jspanel4@4.12.0/dist/extensions/dock/jspanel.dock', 'gridstack': 'https://cdn.jsdelivr.net/npm/gridstack@7.2.3/dist/gridstack-all', 'notyf': 'https://cdn.jsdelivr.net/npm/notyf@3/notyf.min'}, 'shim': {'jspanel': {'exports': 'jsPanel'}, 'gridstack': {'exports': 'GridStack'}}});\n      require([\"jspanel\"], function(jsPanel) {\n\twindow.jsPanel = jsPanel\n\ton_load()\n      })\n      require([\"jspanel-modal\"], function() {\n\ton_load()\n      })\n      require([\"jspanel-tooltip\"], function() {\n\ton_load()\n      })\n      require([\"jspanel-hint\"], function() {\n\ton_load()\n      })\n      require([\"jspanel-layout\"], function() {\n\ton_load()\n      })\n      require([\"jspanel-contextmenu\"], function() {\n\ton_load()\n      })\n      require([\"jspanel-dock\"], function() {\n\ton_load()\n      })\n      require([\"gridstack\"], function(GridStack) {\n\twindow.GridStack = GridStack\n\ton_load()\n      })\n      require([\"notyf\"], function() {\n\ton_load()\n      })\n      root._bokeh_is_loading = css_urls.length + 9;\n    } else {\n      root._bokeh_is_loading = css_urls.length + js_urls.length + js_modules.length + Object.keys(js_exports).length;\n    }\n\n    var existing_stylesheets = []\n    var links = document.getElementsByTagName('link')\n    for (var i = 0; i < links.length; i++) {\n      var link = links[i]\n      if (link.href != null) {\n\texisting_stylesheets.push(link.href)\n      }\n    }\n    for (var i = 0; i < css_urls.length; i++) {\n      var url = css_urls[i];\n      if (existing_stylesheets.indexOf(url) !== -1) {\n\ton_load()\n\tcontinue;\n      }\n      const element = document.createElement(\"link\");\n      element.onload = on_load;\n      element.onerror = on_error;\n      element.rel = \"stylesheet\";\n      element.type = \"text/css\";\n      element.href = url;\n      console.debug(\"Bokeh: injecting link tag for BokehJS stylesheet: \", url);\n      document.body.appendChild(element);\n    }    if (((window['jsPanel'] !== undefined) && (!(window['jsPanel'] instanceof HTMLElement))) || window.requirejs) {\n      var urls = ['https://cdn.holoviz.org/panel/1.2.3/dist/bundled/floatpanel/jspanel4@4.12.0/dist/jspanel.js', 'https://cdn.holoviz.org/panel/1.2.3/dist/bundled/floatpanel/jspanel4@4.12.0/dist/extensions/modal/jspanel.modal.js', 'https://cdn.holoviz.org/panel/1.2.3/dist/bundled/floatpanel/jspanel4@4.12.0/dist/extensions/tooltip/jspanel.tooltip.js', 'https://cdn.holoviz.org/panel/1.2.3/dist/bundled/floatpanel/jspanel4@4.12.0/dist/extensions/hint/jspanel.hint.js', 'https://cdn.holoviz.org/panel/1.2.3/dist/bundled/floatpanel/jspanel4@4.12.0/dist/extensions/layout/jspanel.layout.js', 'https://cdn.holoviz.org/panel/1.2.3/dist/bundled/floatpanel/jspanel4@4.12.0/dist/extensions/contextmenu/jspanel.contextmenu.js', 'https://cdn.holoviz.org/panel/1.2.3/dist/bundled/floatpanel/jspanel4@4.12.0/dist/extensions/dock/jspanel.dock.js'];\n      for (var i = 0; i < urls.length; i++) {\n        skip.push(urls[i])\n      }\n    }    if (((window['GridStack'] !== undefined) && (!(window['GridStack'] instanceof HTMLElement))) || window.requirejs) {\n      var urls = ['https://cdn.holoviz.org/panel/1.2.3/dist/bundled/gridstack/gridstack@7.2.3/dist/gridstack-all.js'];\n      for (var i = 0; i < urls.length; i++) {\n        skip.push(urls[i])\n      }\n    }    if (((window['Notyf'] !== undefined) && (!(window['Notyf'] instanceof HTMLElement))) || window.requirejs) {\n      var urls = ['https://cdn.holoviz.org/panel/1.2.3/dist/bundled/notificationarea/notyf@3/notyf.min.js'];\n      for (var i = 0; i < urls.length; i++) {\n        skip.push(urls[i])\n      }\n    }    var existing_scripts = []\n    var scripts = document.getElementsByTagName('script')\n    for (var i = 0; i < scripts.length; i++) {\n      var script = scripts[i]\n      if (script.src != null) {\n\texisting_scripts.push(script.src)\n      }\n    }\n    for (var i = 0; i < js_urls.length; i++) {\n      var url = js_urls[i];\n      if (skip.indexOf(url) !== -1 || existing_scripts.indexOf(url) !== -1) {\n\tif (!window.requirejs) {\n\t  on_load();\n\t}\n\tcontinue;\n      }\n      var element = document.createElement('script');\n      element.onload = on_load;\n      element.onerror = on_error;\n      element.async = false;\n      element.src = url;\n      console.debug(\"Bokeh: injecting script tag for BokehJS library: \", url);\n      document.head.appendChild(element);\n    }\n    for (var i = 0; i < js_modules.length; i++) {\n      var url = js_modules[i];\n      if (skip.indexOf(url) !== -1 || existing_scripts.indexOf(url) !== -1) {\n\tif (!window.requirejs) {\n\t  on_load();\n\t}\n\tcontinue;\n      }\n      var element = document.createElement('script');\n      element.onload = on_load;\n      element.onerror = on_error;\n      element.async = false;\n      element.src = url;\n      element.type = \"module\";\n      console.debug(\"Bokeh: injecting script tag for BokehJS library: \", url);\n      document.head.appendChild(element);\n    }\n    for (const name in js_exports) {\n      var url = js_exports[name];\n      if (skip.indexOf(url) >= 0 || root[name] != null) {\n\tif (!window.requirejs) {\n\t  on_load();\n\t}\n\tcontinue;\n      }\n      var element = document.createElement('script');\n      element.onerror = on_error;\n      element.async = false;\n      element.type = \"module\";\n      console.debug(\"Bokeh: injecting script tag for BokehJS library: \", url);\n      element.textContent = `\n      import ${name} from \"${url}\"\n      window.${name} = ${name}\n      window._bokeh_on_load()\n      `\n      document.head.appendChild(element);\n    }\n    if (!js_urls.length && !js_modules.length) {\n      on_load()\n    }\n  };\n\n  function inject_raw_css(css) {\n    const element = document.createElement(\"style\");\n    element.appendChild(document.createTextNode(css));\n    document.body.appendChild(element);\n  }\n\n  var js_urls = [\"https://cdn.bokeh.org/bokeh/release/bokeh-3.2.2.min.js\", \"https://cdn.bokeh.org/bokeh/release/bokeh-gl-3.2.2.min.js\", \"https://cdn.bokeh.org/bokeh/release/bokeh-widgets-3.2.2.min.js\", \"https://cdn.bokeh.org/bokeh/release/bokeh-tables-3.2.2.min.js\", \"https://cdn.holoviz.org/panel/1.2.3/dist/panel.min.js\"];\n  var js_modules = [];\n  var js_exports = {};\n  var css_urls = [];\n  var inline_js = [    function(Bokeh) {\n      Bokeh.set_log_level(\"info\");\n    },\nfunction(Bokeh) {} // ensure no trailing comma for IE\n  ];\n\n  function run_inline_js() {\n    if ((root.Bokeh !== undefined) || (force === true)) {\n      for (var i = 0; i < inline_js.length; i++) {\n        inline_js[i].call(root, root.Bokeh);\n      }\n      // Cache old bokeh versions\n      if (Bokeh != undefined && !reloading) {\n\tvar NewBokeh = root.Bokeh;\n\tif (Bokeh.versions === undefined) {\n\t  Bokeh.versions = new Map();\n\t}\n\tif (NewBokeh.version !== Bokeh.version) {\n\t  Bokeh.versions.set(NewBokeh.version, NewBokeh)\n\t}\n\troot.Bokeh = Bokeh;\n      }} else if (Date.now() < root._bokeh_timeout) {\n      setTimeout(run_inline_js, 100);\n    } else if (!root._bokeh_failed_load) {\n      console.log(\"Bokeh: BokehJS failed to load within specified timeout.\");\n      root._bokeh_failed_load = true;\n    }\n    root._bokeh_is_initializing = false\n  }\n\n  function load_or_wait() {\n    // Implement a backoff loop that tries to ensure we do not load multiple\n    // versions of Bokeh and its dependencies at the same time.\n    // In recent versions we use the root._bokeh_is_initializing flag\n    // to determine whether there is an ongoing attempt to initialize\n    // bokeh, however for backward compatibility we also try to ensure\n    // that we do not start loading a newer (Panel>=1.0 and Bokeh>3) version\n    // before older versions are fully initialized.\n    if (root._bokeh_is_initializing && Date.now() > root._bokeh_timeout) {\n      root._bokeh_is_initializing = false;\n      root._bokeh_onload_callbacks = undefined;\n      console.log(\"Bokeh: BokehJS was loaded multiple times but one version failed to initialize.\");\n      load_or_wait();\n    } else if (root._bokeh_is_initializing || (typeof root._bokeh_is_initializing === \"undefined\" && root._bokeh_onload_callbacks !== undefined)) {\n      setTimeout(load_or_wait, 100);\n    } else {\n      Bokeh = root.Bokeh;\n      bokeh_loaded = Bokeh != null && (Bokeh.version === py_version || (Bokeh.versions !== undefined && Bokeh.versions.has(py_version)));\n      root._bokeh_is_initializing = true\n      root._bokeh_onload_callbacks = []\n      if (!reloading && (!bokeh_loaded || is_dev)) {\n\troot.Bokeh = undefined;\n      }\n      load_libs(css_urls, js_urls, js_modules, js_exports, function() {\n\tconsole.debug(\"Bokeh: BokehJS plotting callback run at\", now());\n\trun_inline_js();\n      });\n    }\n  }\n  // Give older versions of the autoload script a head-start to ensure\n  // they initialize before we start loading newer version.\n  setTimeout(load_or_wait, 100)\n}(window));"
     },
     "metadata": {},
     "output_type": "display_data"
    },
    {
     "data": {
      "application/javascript": [
       "\n",
       "if ((window.PyViz === undefined) || (window.PyViz instanceof HTMLElement)) {\n",
       "  window.PyViz = {comms: {}, comm_status:{}, kernels:{}, receivers: {}, plot_index: []}\n",
       "}\n",
       "\n",
       "\n",
       "    function JupyterCommManager() {\n",
       "    }\n",
       "\n",
       "    JupyterCommManager.prototype.register_target = function(plot_id, comm_id, msg_handler) {\n",
       "      if (window.comm_manager || ((window.Jupyter !== undefined) && (Jupyter.notebook.kernel != null))) {\n",
       "        var comm_manager = window.comm_manager || Jupyter.notebook.kernel.comm_manager;\n",
       "        comm_manager.register_target(comm_id, function(comm) {\n",
       "          comm.on_msg(msg_handler);\n",
       "        });\n",
       "      } else if ((plot_id in window.PyViz.kernels) && (window.PyViz.kernels[plot_id])) {\n",
       "        window.PyViz.kernels[plot_id].registerCommTarget(comm_id, function(comm) {\n",
       "          comm.onMsg = msg_handler;\n",
       "        });\n",
       "      } else if (typeof google != 'undefined' && google.colab.kernel != null) {\n",
       "        google.colab.kernel.comms.registerTarget(comm_id, (comm) => {\n",
       "          var messages = comm.messages[Symbol.asyncIterator]();\n",
       "          function processIteratorResult(result) {\n",
       "            var message = result.value;\n",
       "            console.log(message)\n",
       "            var content = {data: message.data, comm_id};\n",
       "            var buffers = []\n",
       "            for (var buffer of message.buffers || []) {\n",
       "              buffers.push(new DataView(buffer))\n",
       "            }\n",
       "            var metadata = message.metadata || {};\n",
       "            var msg = {content, buffers, metadata}\n",
       "            msg_handler(msg);\n",
       "            return messages.next().then(processIteratorResult);\n",
       "          }\n",
       "          return messages.next().then(processIteratorResult);\n",
       "        })\n",
       "      }\n",
       "    }\n",
       "\n",
       "    JupyterCommManager.prototype.get_client_comm = function(plot_id, comm_id, msg_handler) {\n",
       "      if (comm_id in window.PyViz.comms) {\n",
       "        return window.PyViz.comms[comm_id];\n",
       "      } else if (window.comm_manager || ((window.Jupyter !== undefined) && (Jupyter.notebook.kernel != null))) {\n",
       "        var comm_manager = window.comm_manager || Jupyter.notebook.kernel.comm_manager;\n",
       "        var comm = comm_manager.new_comm(comm_id, {}, {}, {}, comm_id);\n",
       "        if (msg_handler) {\n",
       "          comm.on_msg(msg_handler);\n",
       "        }\n",
       "      } else if ((plot_id in window.PyViz.kernels) && (window.PyViz.kernels[plot_id])) {\n",
       "        var comm = window.PyViz.kernels[plot_id].connectToComm(comm_id);\n",
       "        comm.open();\n",
       "        if (msg_handler) {\n",
       "          comm.onMsg = msg_handler;\n",
       "        }\n",
       "      } else if (typeof google != 'undefined' && google.colab.kernel != null) {\n",
       "        var comm_promise = google.colab.kernel.comms.open(comm_id)\n",
       "        comm_promise.then((comm) => {\n",
       "          window.PyViz.comms[comm_id] = comm;\n",
       "          if (msg_handler) {\n",
       "            var messages = comm.messages[Symbol.asyncIterator]();\n",
       "            function processIteratorResult(result) {\n",
       "              var message = result.value;\n",
       "              var content = {data: message.data};\n",
       "              var metadata = message.metadata || {comm_id};\n",
       "              var msg = {content, metadata}\n",
       "              msg_handler(msg);\n",
       "              return messages.next().then(processIteratorResult);\n",
       "            }\n",
       "            return messages.next().then(processIteratorResult);\n",
       "          }\n",
       "        }) \n",
       "        var sendClosure = (data, metadata, buffers, disposeOnDone) => {\n",
       "          return comm_promise.then((comm) => {\n",
       "            comm.send(data, metadata, buffers, disposeOnDone);\n",
       "          });\n",
       "        };\n",
       "        var comm = {\n",
       "          send: sendClosure\n",
       "        };\n",
       "      }\n",
       "      window.PyViz.comms[comm_id] = comm;\n",
       "      return comm;\n",
       "    }\n",
       "    window.PyViz.comm_manager = new JupyterCommManager();\n",
       "    \n",
       "\n",
       "\n",
       "var JS_MIME_TYPE = 'application/javascript';\n",
       "var HTML_MIME_TYPE = 'text/html';\n",
       "var EXEC_MIME_TYPE = 'application/vnd.holoviews_exec.v0+json';\n",
       "var CLASS_NAME = 'output';\n",
       "\n",
       "/**\n",
       " * Render data to the DOM node\n",
       " */\n",
       "function render(props, node) {\n",
       "  var div = document.createElement(\"div\");\n",
       "  var script = document.createElement(\"script\");\n",
       "  node.appendChild(div);\n",
       "  node.appendChild(script);\n",
       "}\n",
       "\n",
       "/**\n",
       " * Handle when a new output is added\n",
       " */\n",
       "function handle_add_output(event, handle) {\n",
       "  var output_area = handle.output_area;\n",
       "  var output = handle.output;\n",
       "  if ((output.data == undefined) || (!output.data.hasOwnProperty(EXEC_MIME_TYPE))) {\n",
       "    return\n",
       "  }\n",
       "  var id = output.metadata[EXEC_MIME_TYPE][\"id\"];\n",
       "  var toinsert = output_area.element.find(\".\" + CLASS_NAME.split(' ')[0]);\n",
       "  if (id !== undefined) {\n",
       "    var nchildren = toinsert.length;\n",
       "    var html_node = toinsert[nchildren-1].children[0];\n",
       "    html_node.innerHTML = output.data[HTML_MIME_TYPE];\n",
       "    var scripts = [];\n",
       "    var nodelist = html_node.querySelectorAll(\"script\");\n",
       "    for (var i in nodelist) {\n",
       "      if (nodelist.hasOwnProperty(i)) {\n",
       "        scripts.push(nodelist[i])\n",
       "      }\n",
       "    }\n",
       "\n",
       "    scripts.forEach( function (oldScript) {\n",
       "      var newScript = document.createElement(\"script\");\n",
       "      var attrs = [];\n",
       "      var nodemap = oldScript.attributes;\n",
       "      for (var j in nodemap) {\n",
       "        if (nodemap.hasOwnProperty(j)) {\n",
       "          attrs.push(nodemap[j])\n",
       "        }\n",
       "      }\n",
       "      attrs.forEach(function(attr) { newScript.setAttribute(attr.name, attr.value) });\n",
       "      newScript.appendChild(document.createTextNode(oldScript.innerHTML));\n",
       "      oldScript.parentNode.replaceChild(newScript, oldScript);\n",
       "    });\n",
       "    if (JS_MIME_TYPE in output.data) {\n",
       "      toinsert[nchildren-1].children[1].textContent = output.data[JS_MIME_TYPE];\n",
       "    }\n",
       "    output_area._hv_plot_id = id;\n",
       "    if ((window.Bokeh !== undefined) && (id in Bokeh.index)) {\n",
       "      window.PyViz.plot_index[id] = Bokeh.index[id];\n",
       "    } else {\n",
       "      window.PyViz.plot_index[id] = null;\n",
       "    }\n",
       "  } else if (output.metadata[EXEC_MIME_TYPE][\"server_id\"] !== undefined) {\n",
       "    var bk_div = document.createElement(\"div\");\n",
       "    bk_div.innerHTML = output.data[HTML_MIME_TYPE];\n",
       "    var script_attrs = bk_div.children[0].attributes;\n",
       "    for (var i = 0; i < script_attrs.length; i++) {\n",
       "      toinsert[toinsert.length - 1].childNodes[1].setAttribute(script_attrs[i].name, script_attrs[i].value);\n",
       "    }\n",
       "    // store reference to server id on output_area\n",
       "    output_area._bokeh_server_id = output.metadata[EXEC_MIME_TYPE][\"server_id\"];\n",
       "  }\n",
       "}\n",
       "\n",
       "/**\n",
       " * Handle when an output is cleared or removed\n",
       " */\n",
       "function handle_clear_output(event, handle) {\n",
       "  var id = handle.cell.output_area._hv_plot_id;\n",
       "  var server_id = handle.cell.output_area._bokeh_server_id;\n",
       "  if (((id === undefined) || !(id in PyViz.plot_index)) && (server_id !== undefined)) { return; }\n",
       "  var comm = window.PyViz.comm_manager.get_client_comm(\"hv-extension-comm\", \"hv-extension-comm\", function () {});\n",
       "  if (server_id !== null) {\n",
       "    comm.send({event_type: 'server_delete', 'id': server_id});\n",
       "    return;\n",
       "  } else if (comm !== null) {\n",
       "    comm.send({event_type: 'delete', 'id': id});\n",
       "  }\n",
       "  delete PyViz.plot_index[id];\n",
       "  if ((window.Bokeh !== undefined) & (id in window.Bokeh.index)) {\n",
       "    var doc = window.Bokeh.index[id].model.document\n",
       "    doc.clear();\n",
       "    const i = window.Bokeh.documents.indexOf(doc);\n",
       "    if (i > -1) {\n",
       "      window.Bokeh.documents.splice(i, 1);\n",
       "    }\n",
       "  }\n",
       "}\n",
       "\n",
       "/**\n",
       " * Handle kernel restart event\n",
       " */\n",
       "function handle_kernel_cleanup(event, handle) {\n",
       "  delete PyViz.comms[\"hv-extension-comm\"];\n",
       "  window.PyViz.plot_index = {}\n",
       "}\n",
       "\n",
       "/**\n",
       " * Handle update_display_data messages\n",
       " */\n",
       "function handle_update_output(event, handle) {\n",
       "  handle_clear_output(event, {cell: {output_area: handle.output_area}})\n",
       "  handle_add_output(event, handle)\n",
       "}\n",
       "\n",
       "function register_renderer(events, OutputArea) {\n",
       "  function append_mime(data, metadata, element) {\n",
       "    // create a DOM node to render to\n",
       "    var toinsert = this.create_output_subarea(\n",
       "    metadata,\n",
       "    CLASS_NAME,\n",
       "    EXEC_MIME_TYPE\n",
       "    );\n",
       "    this.keyboard_manager.register_events(toinsert);\n",
       "    // Render to node\n",
       "    var props = {data: data, metadata: metadata[EXEC_MIME_TYPE]};\n",
       "    render(props, toinsert[0]);\n",
       "    element.append(toinsert);\n",
       "    return toinsert\n",
       "  }\n",
       "\n",
       "  events.on('output_added.OutputArea', handle_add_output);\n",
       "  events.on('output_updated.OutputArea', handle_update_output);\n",
       "  events.on('clear_output.CodeCell', handle_clear_output);\n",
       "  events.on('delete.Cell', handle_clear_output);\n",
       "  events.on('kernel_ready.Kernel', handle_kernel_cleanup);\n",
       "\n",
       "  OutputArea.prototype.register_mime_type(EXEC_MIME_TYPE, append_mime, {\n",
       "    safe: true,\n",
       "    index: 0\n",
       "  });\n",
       "}\n",
       "\n",
       "if (window.Jupyter !== undefined) {\n",
       "  try {\n",
       "    var events = require('base/js/events');\n",
       "    var OutputArea = require('notebook/js/outputarea').OutputArea;\n",
       "    if (OutputArea.prototype.mime_types().indexOf(EXEC_MIME_TYPE) == -1) {\n",
       "      register_renderer(events, OutputArea);\n",
       "    }\n",
       "  } catch(err) {\n",
       "  }\n",
       "}\n"
      ],
      "application/vnd.holoviews_load.v0+json": "\nif ((window.PyViz === undefined) || (window.PyViz instanceof HTMLElement)) {\n  window.PyViz = {comms: {}, comm_status:{}, kernels:{}, receivers: {}, plot_index: []}\n}\n\n\n    function JupyterCommManager() {\n    }\n\n    JupyterCommManager.prototype.register_target = function(plot_id, comm_id, msg_handler) {\n      if (window.comm_manager || ((window.Jupyter !== undefined) && (Jupyter.notebook.kernel != null))) {\n        var comm_manager = window.comm_manager || Jupyter.notebook.kernel.comm_manager;\n        comm_manager.register_target(comm_id, function(comm) {\n          comm.on_msg(msg_handler);\n        });\n      } else if ((plot_id in window.PyViz.kernels) && (window.PyViz.kernels[plot_id])) {\n        window.PyViz.kernels[plot_id].registerCommTarget(comm_id, function(comm) {\n          comm.onMsg = msg_handler;\n        });\n      } else if (typeof google != 'undefined' && google.colab.kernel != null) {\n        google.colab.kernel.comms.registerTarget(comm_id, (comm) => {\n          var messages = comm.messages[Symbol.asyncIterator]();\n          function processIteratorResult(result) {\n            var message = result.value;\n            console.log(message)\n            var content = {data: message.data, comm_id};\n            var buffers = []\n            for (var buffer of message.buffers || []) {\n              buffers.push(new DataView(buffer))\n            }\n            var metadata = message.metadata || {};\n            var msg = {content, buffers, metadata}\n            msg_handler(msg);\n            return messages.next().then(processIteratorResult);\n          }\n          return messages.next().then(processIteratorResult);\n        })\n      }\n    }\n\n    JupyterCommManager.prototype.get_client_comm = function(plot_id, comm_id, msg_handler) {\n      if (comm_id in window.PyViz.comms) {\n        return window.PyViz.comms[comm_id];\n      } else if (window.comm_manager || ((window.Jupyter !== undefined) && (Jupyter.notebook.kernel != null))) {\n        var comm_manager = window.comm_manager || Jupyter.notebook.kernel.comm_manager;\n        var comm = comm_manager.new_comm(comm_id, {}, {}, {}, comm_id);\n        if (msg_handler) {\n          comm.on_msg(msg_handler);\n        }\n      } else if ((plot_id in window.PyViz.kernels) && (window.PyViz.kernels[plot_id])) {\n        var comm = window.PyViz.kernels[plot_id].connectToComm(comm_id);\n        comm.open();\n        if (msg_handler) {\n          comm.onMsg = msg_handler;\n        }\n      } else if (typeof google != 'undefined' && google.colab.kernel != null) {\n        var comm_promise = google.colab.kernel.comms.open(comm_id)\n        comm_promise.then((comm) => {\n          window.PyViz.comms[comm_id] = comm;\n          if (msg_handler) {\n            var messages = comm.messages[Symbol.asyncIterator]();\n            function processIteratorResult(result) {\n              var message = result.value;\n              var content = {data: message.data};\n              var metadata = message.metadata || {comm_id};\n              var msg = {content, metadata}\n              msg_handler(msg);\n              return messages.next().then(processIteratorResult);\n            }\n            return messages.next().then(processIteratorResult);\n          }\n        }) \n        var sendClosure = (data, metadata, buffers, disposeOnDone) => {\n          return comm_promise.then((comm) => {\n            comm.send(data, metadata, buffers, disposeOnDone);\n          });\n        };\n        var comm = {\n          send: sendClosure\n        };\n      }\n      window.PyViz.comms[comm_id] = comm;\n      return comm;\n    }\n    window.PyViz.comm_manager = new JupyterCommManager();\n    \n\n\nvar JS_MIME_TYPE = 'application/javascript';\nvar HTML_MIME_TYPE = 'text/html';\nvar EXEC_MIME_TYPE = 'application/vnd.holoviews_exec.v0+json';\nvar CLASS_NAME = 'output';\n\n/**\n * Render data to the DOM node\n */\nfunction render(props, node) {\n  var div = document.createElement(\"div\");\n  var script = document.createElement(\"script\");\n  node.appendChild(div);\n  node.appendChild(script);\n}\n\n/**\n * Handle when a new output is added\n */\nfunction handle_add_output(event, handle) {\n  var output_area = handle.output_area;\n  var output = handle.output;\n  if ((output.data == undefined) || (!output.data.hasOwnProperty(EXEC_MIME_TYPE))) {\n    return\n  }\n  var id = output.metadata[EXEC_MIME_TYPE][\"id\"];\n  var toinsert = output_area.element.find(\".\" + CLASS_NAME.split(' ')[0]);\n  if (id !== undefined) {\n    var nchildren = toinsert.length;\n    var html_node = toinsert[nchildren-1].children[0];\n    html_node.innerHTML = output.data[HTML_MIME_TYPE];\n    var scripts = [];\n    var nodelist = html_node.querySelectorAll(\"script\");\n    for (var i in nodelist) {\n      if (nodelist.hasOwnProperty(i)) {\n        scripts.push(nodelist[i])\n      }\n    }\n\n    scripts.forEach( function (oldScript) {\n      var newScript = document.createElement(\"script\");\n      var attrs = [];\n      var nodemap = oldScript.attributes;\n      for (var j in nodemap) {\n        if (nodemap.hasOwnProperty(j)) {\n          attrs.push(nodemap[j])\n        }\n      }\n      attrs.forEach(function(attr) { newScript.setAttribute(attr.name, attr.value) });\n      newScript.appendChild(document.createTextNode(oldScript.innerHTML));\n      oldScript.parentNode.replaceChild(newScript, oldScript);\n    });\n    if (JS_MIME_TYPE in output.data) {\n      toinsert[nchildren-1].children[1].textContent = output.data[JS_MIME_TYPE];\n    }\n    output_area._hv_plot_id = id;\n    if ((window.Bokeh !== undefined) && (id in Bokeh.index)) {\n      window.PyViz.plot_index[id] = Bokeh.index[id];\n    } else {\n      window.PyViz.plot_index[id] = null;\n    }\n  } else if (output.metadata[EXEC_MIME_TYPE][\"server_id\"] !== undefined) {\n    var bk_div = document.createElement(\"div\");\n    bk_div.innerHTML = output.data[HTML_MIME_TYPE];\n    var script_attrs = bk_div.children[0].attributes;\n    for (var i = 0; i < script_attrs.length; i++) {\n      toinsert[toinsert.length - 1].childNodes[1].setAttribute(script_attrs[i].name, script_attrs[i].value);\n    }\n    // store reference to server id on output_area\n    output_area._bokeh_server_id = output.metadata[EXEC_MIME_TYPE][\"server_id\"];\n  }\n}\n\n/**\n * Handle when an output is cleared or removed\n */\nfunction handle_clear_output(event, handle) {\n  var id = handle.cell.output_area._hv_plot_id;\n  var server_id = handle.cell.output_area._bokeh_server_id;\n  if (((id === undefined) || !(id in PyViz.plot_index)) && (server_id !== undefined)) { return; }\n  var comm = window.PyViz.comm_manager.get_client_comm(\"hv-extension-comm\", \"hv-extension-comm\", function () {});\n  if (server_id !== null) {\n    comm.send({event_type: 'server_delete', 'id': server_id});\n    return;\n  } else if (comm !== null) {\n    comm.send({event_type: 'delete', 'id': id});\n  }\n  delete PyViz.plot_index[id];\n  if ((window.Bokeh !== undefined) & (id in window.Bokeh.index)) {\n    var doc = window.Bokeh.index[id].model.document\n    doc.clear();\n    const i = window.Bokeh.documents.indexOf(doc);\n    if (i > -1) {\n      window.Bokeh.documents.splice(i, 1);\n    }\n  }\n}\n\n/**\n * Handle kernel restart event\n */\nfunction handle_kernel_cleanup(event, handle) {\n  delete PyViz.comms[\"hv-extension-comm\"];\n  window.PyViz.plot_index = {}\n}\n\n/**\n * Handle update_display_data messages\n */\nfunction handle_update_output(event, handle) {\n  handle_clear_output(event, {cell: {output_area: handle.output_area}})\n  handle_add_output(event, handle)\n}\n\nfunction register_renderer(events, OutputArea) {\n  function append_mime(data, metadata, element) {\n    // create a DOM node to render to\n    var toinsert = this.create_output_subarea(\n    metadata,\n    CLASS_NAME,\n    EXEC_MIME_TYPE\n    );\n    this.keyboard_manager.register_events(toinsert);\n    // Render to node\n    var props = {data: data, metadata: metadata[EXEC_MIME_TYPE]};\n    render(props, toinsert[0]);\n    element.append(toinsert);\n    return toinsert\n  }\n\n  events.on('output_added.OutputArea', handle_add_output);\n  events.on('output_updated.OutputArea', handle_update_output);\n  events.on('clear_output.CodeCell', handle_clear_output);\n  events.on('delete.Cell', handle_clear_output);\n  events.on('kernel_ready.Kernel', handle_kernel_cleanup);\n\n  OutputArea.prototype.register_mime_type(EXEC_MIME_TYPE, append_mime, {\n    safe: true,\n    index: 0\n  });\n}\n\nif (window.Jupyter !== undefined) {\n  try {\n    var events = require('base/js/events');\n    var OutputArea = require('notebook/js/outputarea').OutputArea;\n    if (OutputArea.prototype.mime_types().indexOf(EXEC_MIME_TYPE) == -1) {\n      register_renderer(events, OutputArea);\n    }\n  } catch(err) {\n  }\n}\n"
     },
     "metadata": {},
     "output_type": "display_data"
    },
    {
     "data": {
      "text/html": [
       "<style>*[data-root-id],\n",
       "*[data-root-id] > * {\n",
       "  box-sizing: border-box;\n",
       "  font-family: var(--jp-ui-font-family);\n",
       "  font-size: var(--jp-ui-font-size1);\n",
       "  color: var(--vscode-editor-foreground, var(--jp-ui-font-color1));\n",
       "}\n",
       "\n",
       "/* Override VSCode background color */\n",
       ".cell-output-ipywidget-background:has(\n",
       "    > .cell-output-ipywidget-background > .lm-Widget > *[data-root-id]\n",
       "  ),\n",
       ".cell-output-ipywidget-background:has(> .lm-Widget > *[data-root-id]) {\n",
       "  background-color: transparent !important;\n",
       "}\n",
       "</style>"
      ]
     },
     "metadata": {},
     "output_type": "display_data"
    },
    {
     "data": {},
     "metadata": {},
     "output_type": "display_data"
    },
    {
     "data": {
      "application/vnd.holoviews_exec.v0+json": "",
      "text/html": [
       "<div id='p1002'>\n",
       "  <div id=\"d54e7ba9-c484-4968-9fac-b737584a4bf5\" data-root-id=\"p1002\" style=\"display: contents;\"></div>\n",
       "</div>\n",
       "<script type=\"application/javascript\">(function(root) {\n",
       "  var docs_json = {\"c6a969dc-4bb4-45e4-9759-518b3ea3d067\":{\"version\":\"3.2.2\",\"title\":\"Bokeh Application\",\"roots\":[{\"type\":\"object\",\"name\":\"Row\",\"id\":\"p1002\",\"attributes\":{\"name\":\"Row00814\",\"stylesheets\":[\"\\n:host(.pn-loading.pn-arc):before, .pn-loading.pn-arc:before {\\n  background-image: url(\\\"data:image/svg+xml;base64,PHN2ZyB4bWxucz0iaHR0cDovL3d3dy53My5vcmcvMjAwMC9zdmciIHN0eWxlPSJtYXJnaW46IGF1dG87IGJhY2tncm91bmQ6IG5vbmU7IGRpc3BsYXk6IGJsb2NrOyBzaGFwZS1yZW5kZXJpbmc6IGF1dG87IiB2aWV3Qm94PSIwIDAgMTAwIDEwMCIgcHJlc2VydmVBc3BlY3RSYXRpbz0ieE1pZFlNaWQiPiAgPGNpcmNsZSBjeD0iNTAiIGN5PSI1MCIgZmlsbD0ibm9uZSIgc3Ryb2tlPSIjYzNjM2MzIiBzdHJva2Utd2lkdGg9IjEwIiByPSIzNSIgc3Ryb2tlLWRhc2hhcnJheT0iMTY0LjkzMzYxNDMxMzQ2NDE1IDU2Ljk3Nzg3MTQzNzgyMTM4Ij4gICAgPGFuaW1hdGVUcmFuc2Zvcm0gYXR0cmlidXRlTmFtZT0idHJhbnNmb3JtIiB0eXBlPSJyb3RhdGUiIHJlcGVhdENvdW50PSJpbmRlZmluaXRlIiBkdXI9IjFzIiB2YWx1ZXM9IjAgNTAgNTA7MzYwIDUwIDUwIiBrZXlUaW1lcz0iMDsxIj48L2FuaW1hdGVUcmFuc2Zvcm0+ICA8L2NpcmNsZT48L3N2Zz4=\\\");\\n  background-size: auto calc(min(50%, 400px));\\n}\",{\"type\":\"object\",\"name\":\"ImportedStyleSheet\",\"id\":\"p1005\",\"attributes\":{\"url\":\"https://cdn.holoviz.org/panel/1.2.3/dist/css/loading.css\"}},{\"type\":\"object\",\"name\":\"ImportedStyleSheet\",\"id\":\"p1075\",\"attributes\":{\"url\":\"https://cdn.holoviz.org/panel/1.2.3/dist/css/listpanel.css\"}},{\"type\":\"object\",\"name\":\"ImportedStyleSheet\",\"id\":\"p1003\",\"attributes\":{\"url\":\"https://cdn.holoviz.org/panel/1.2.3/dist/bundled/theme/default.css\"}},{\"type\":\"object\",\"name\":\"ImportedStyleSheet\",\"id\":\"p1004\",\"attributes\":{\"url\":\"https://cdn.holoviz.org/panel/1.2.3/dist/bundled/theme/native.css\"}}],\"min_width\":700,\"margin\":0,\"sizing_mode\":\"stretch_width\",\"align\":\"start\",\"children\":[{\"type\":\"object\",\"name\":\"Spacer\",\"id\":\"p1006\",\"attributes\":{\"name\":\"HSpacer00845\",\"stylesheets\":[\"\\n:host(.pn-loading.pn-arc):before, .pn-loading.pn-arc:before {\\n  background-image: url(\\\"data:image/svg+xml;base64,PHN2ZyB4bWxucz0iaHR0cDovL3d3dy53My5vcmcvMjAwMC9zdmciIHN0eWxlPSJtYXJnaW46IGF1dG87IGJhY2tncm91bmQ6IG5vbmU7IGRpc3BsYXk6IGJsb2NrOyBzaGFwZS1yZW5kZXJpbmc6IGF1dG87IiB2aWV3Qm94PSIwIDAgMTAwIDEwMCIgcHJlc2VydmVBc3BlY3RSYXRpbz0ieE1pZFlNaWQiPiAgPGNpcmNsZSBjeD0iNTAiIGN5PSI1MCIgZmlsbD0ibm9uZSIgc3Ryb2tlPSIjYzNjM2MzIiBzdHJva2Utd2lkdGg9IjEwIiByPSIzNSIgc3Ryb2tlLWRhc2hhcnJheT0iMTY0LjkzMzYxNDMxMzQ2NDE1IDU2Ljk3Nzg3MTQzNzgyMTM4Ij4gICAgPGFuaW1hdGVUcmFuc2Zvcm0gYXR0cmlidXRlTmFtZT0idHJhbnNmb3JtIiB0eXBlPSJyb3RhdGUiIHJlcGVhdENvdW50PSJpbmRlZmluaXRlIiBkdXI9IjFzIiB2YWx1ZXM9IjAgNTAgNTA7MzYwIDUwIDUwIiBrZXlUaW1lcz0iMDsxIj48L2FuaW1hdGVUcmFuc2Zvcm0+ICA8L2NpcmNsZT48L3N2Zz4=\\\");\\n  background-size: auto calc(min(50%, 400px));\\n}\",{\"id\":\"p1005\"},{\"id\":\"p1003\"},{\"id\":\"p1004\"}],\"margin\":0,\"sizing_mode\":\"stretch_width\",\"align\":\"start\"}},{\"type\":\"object\",\"name\":\"Figure\",\"id\":\"p1014\",\"attributes\":{\"width\":700,\"height\":300,\"margin\":[5,10],\"sizing_mode\":\"fixed\",\"align\":\"start\",\"x_range\":{\"type\":\"object\",\"name\":\"Range1d\",\"id\":\"p1007\",\"attributes\":{\"tags\":[[[\"slave_date\",\"slave_date\",null]],[]],\"start\":1722539520000.0,\"end\":1738298880000.0,\"reset_start\":1722539520000.0,\"reset_end\":1738298880000.0}},\"y_range\":{\"type\":\"object\",\"name\":\"Range1d\",\"id\":\"p1008\",\"attributes\":{\"tags\":[[[\"perp_baseline\",\"perp_baseline\",null]],{\"type\":\"map\",\"entries\":[[\"invert_yaxis\",false],[\"autorange\",false]]}],\"start\":-500,\"end\":500,\"reset_start\":-500,\"reset_end\":500}},\"x_scale\":{\"type\":\"object\",\"name\":\"LinearScale\",\"id\":\"p1024\"},\"y_scale\":{\"type\":\"object\",\"name\":\"LinearScale\",\"id\":\"p1025\"},\"title\":{\"type\":\"object\",\"name\":\"Title\",\"id\":\"p1017\",\"attributes\":{\"text\":\"master_date: 2024-08-09 00:00:00\",\"text_color\":\"black\",\"text_font_size\":\"12pt\"}},\"renderers\":[{\"type\":\"object\",\"name\":\"GlyphRenderer\",\"id\":\"p1062\",\"attributes\":{\"data_source\":{\"type\":\"object\",\"name\":\"ColumnDataSource\",\"id\":\"p1053\",\"attributes\":{\"selected\":{\"type\":\"object\",\"name\":\"Selection\",\"id\":\"p1054\",\"attributes\":{\"indices\":[],\"line_indices\":[]}},\"selection_policy\":{\"type\":\"object\",\"name\":\"UnionRenderers\",\"id\":\"p1055\"},\"data\":{\"type\":\"map\",\"entries\":[[\"slave_date\",{\"type\":\"ndarray\",\"array\":{\"type\":\"bytes\",\"data\":\"AAAA9kYTeUIAAAC7Ixd5QgAAAIAAG3lCAAAARd0eeUIAAAAKuiJ5QgAAAM+WJnlCAAAAlHMqeUIAAABZUC55QgAAAB4tMnlCAAAA4wk2eUIAAACo5jl5QgAAAG3DPXlCAAAAMqBBeUIAAAD3fEV5QgAAALxZSXlC\"},\"shape\":[15],\"dtype\":\"float64\",\"order\":\"little\"}],[\"perp_baseline\",{\"type\":\"ndarray\",\"array\":{\"type\":\"bytes\",\"data\":\"AAAAAAAAAAAAAADAjEFHwAAAAOBFUUfAAAAAgNxYbcAAAACAJgdrwAAAAKBi33nAAAAAQCUca8AAAADgHSlWwAAAAKAyMEDAAAAAYKcITcAAAADgAFlOwAAAAEDdOjhAAAAAwBAhQkAAAACACi5CQAAAAMDmvUXA\"},\"shape\":[15],\"dtype\":\"float64\",\"order\":\"little\"}]]}}},\"view\":{\"type\":\"object\",\"name\":\"CDSView\",\"id\":\"p1063\",\"attributes\":{\"filter\":{\"type\":\"object\",\"name\":\"AllIndices\",\"id\":\"p1064\"}}},\"glyph\":{\"type\":\"object\",\"name\":\"Scatter\",\"id\":\"p1059\",\"attributes\":{\"tags\":[\"apply_ranges\"],\"x\":{\"type\":\"field\",\"field\":\"slave_date\"},\"y\":{\"type\":\"field\",\"field\":\"perp_baseline\"},\"size\":{\"type\":\"value\",\"value\":5.477225575051661},\"line_color\":{\"type\":\"value\",\"value\":\"#30a2da\"},\"fill_color\":{\"type\":\"value\",\"value\":\"#30a2da\"},\"hatch_color\":{\"type\":\"value\",\"value\":\"#30a2da\"}}},\"selection_glyph\":{\"type\":\"object\",\"name\":\"Scatter\",\"id\":\"p1065\",\"attributes\":{\"tags\":[\"apply_ranges\"],\"x\":{\"type\":\"field\",\"field\":\"slave_date\"},\"y\":{\"type\":\"field\",\"field\":\"perp_baseline\"},\"size\":{\"type\":\"value\",\"value\":5.477225575051661},\"angle\":{\"type\":\"value\",\"value\":0.0},\"line_color\":{\"type\":\"value\",\"value\":\"#30a2da\"},\"line_alpha\":{\"type\":\"value\",\"value\":1.0},\"line_width\":{\"type\":\"value\",\"value\":1},\"line_join\":{\"type\":\"value\",\"value\":\"bevel\"},\"line_cap\":{\"type\":\"value\",\"value\":\"butt\"},\"line_dash\":{\"type\":\"value\",\"value\":[]},\"line_dash_offset\":{\"type\":\"value\",\"value\":0},\"fill_color\":{\"type\":\"value\",\"value\":\"#30a2da\"},\"fill_alpha\":{\"type\":\"value\",\"value\":1.0},\"hatch_color\":{\"type\":\"value\",\"value\":\"#30a2da\"},\"hatch_alpha\":{\"type\":\"value\",\"value\":1.0},\"hatch_scale\":{\"type\":\"value\",\"value\":12.0},\"hatch_pattern\":{\"type\":\"value\",\"value\":null},\"hatch_weight\":{\"type\":\"value\",\"value\":1.0},\"marker\":{\"type\":\"value\",\"value\":\"circle\"}}},\"nonselection_glyph\":{\"type\":\"object\",\"name\":\"Scatter\",\"id\":\"p1060\",\"attributes\":{\"tags\":[\"apply_ranges\"],\"x\":{\"type\":\"field\",\"field\":\"slave_date\"},\"y\":{\"type\":\"field\",\"field\":\"perp_baseline\"},\"size\":{\"type\":\"value\",\"value\":5.477225575051661},\"line_color\":{\"type\":\"value\",\"value\":\"#30a2da\"},\"line_alpha\":{\"type\":\"value\",\"value\":0.1},\"fill_color\":{\"type\":\"value\",\"value\":\"#30a2da\"},\"fill_alpha\":{\"type\":\"value\",\"value\":0.1},\"hatch_color\":{\"type\":\"value\",\"value\":\"#30a2da\"},\"hatch_alpha\":{\"type\":\"value\",\"value\":0.1}}},\"muted_glyph\":{\"type\":\"object\",\"name\":\"Scatter\",\"id\":\"p1061\",\"attributes\":{\"tags\":[\"apply_ranges\"],\"x\":{\"type\":\"field\",\"field\":\"slave_date\"},\"y\":{\"type\":\"field\",\"field\":\"perp_baseline\"},\"size\":{\"type\":\"value\",\"value\":5.477225575051661},\"line_color\":{\"type\":\"value\",\"value\":\"#30a2da\"},\"line_alpha\":{\"type\":\"value\",\"value\":0.2},\"fill_color\":{\"type\":\"value\",\"value\":\"#30a2da\"},\"fill_alpha\":{\"type\":\"value\",\"value\":0.2},\"hatch_color\":{\"type\":\"value\",\"value\":\"#30a2da\"},\"hatch_alpha\":{\"type\":\"value\",\"value\":0.2}}}}}],\"toolbar\":{\"type\":\"object\",\"name\":\"Toolbar\",\"id\":\"p1023\",\"attributes\":{\"tools\":[{\"type\":\"object\",\"name\":\"WheelZoomTool\",\"id\":\"p1012\",\"attributes\":{\"tags\":[\"hv_created\"],\"zoom_together\":\"none\"}},{\"type\":\"object\",\"name\":\"HoverTool\",\"id\":\"p1013\",\"attributes\":{\"tags\":[\"hv_created\"],\"renderers\":[{\"id\":\"p1062\"}],\"tooltips\":[[\"slave_date\",\"@{slave_date}{%F %T}\"],[\"perp_baseline\",\"@{perp_baseline}\"]],\"formatters\":{\"type\":\"map\",\"entries\":[[\"@{slave_date}\",\"datetime\"]]}}},{\"type\":\"object\",\"name\":\"SaveTool\",\"id\":\"p1048\"},{\"type\":\"object\",\"name\":\"PanTool\",\"id\":\"p1049\"},{\"type\":\"object\",\"name\":\"BoxZoomTool\",\"id\":\"p1050\",\"attributes\":{\"overlay\":{\"type\":\"object\",\"name\":\"BoxAnnotation\",\"id\":\"p1051\",\"attributes\":{\"syncable\":false,\"level\":\"overlay\",\"visible\":false,\"left_units\":\"canvas\",\"right_units\":\"canvas\",\"bottom_units\":\"canvas\",\"top_units\":\"canvas\",\"line_color\":\"black\",\"line_alpha\":1.0,\"line_width\":2,\"line_dash\":[4,4],\"fill_color\":\"lightgrey\",\"fill_alpha\":0.5}}}},{\"type\":\"object\",\"name\":\"ResetTool\",\"id\":\"p1052\"}],\"active_drag\":{\"id\":\"p1049\"},\"active_scroll\":{\"id\":\"p1012\"}}},\"left\":[{\"type\":\"object\",\"name\":\"LinearAxis\",\"id\":\"p1043\",\"attributes\":{\"ticker\":{\"type\":\"object\",\"name\":\"BasicTicker\",\"id\":\"p1044\",\"attributes\":{\"mantissas\":[1,2,5]}},\"formatter\":{\"type\":\"object\",\"name\":\"BasicTickFormatter\",\"id\":\"p1045\"},\"axis_label\":\"perp_baseline\",\"major_label_policy\":{\"type\":\"object\",\"name\":\"AllLabels\",\"id\":\"p1046\"}}}],\"below\":[{\"type\":\"object\",\"name\":\"DatetimeAxis\",\"id\":\"p1026\",\"attributes\":{\"ticker\":{\"type\":\"object\",\"name\":\"DatetimeTicker\",\"id\":\"p1027\",\"attributes\":{\"num_minor_ticks\":5,\"tickers\":[{\"type\":\"object\",\"name\":\"AdaptiveTicker\",\"id\":\"p1028\",\"attributes\":{\"num_minor_ticks\":0,\"mantissas\":[1,2,5],\"max_interval\":500.0}},{\"type\":\"object\",\"name\":\"AdaptiveTicker\",\"id\":\"p1029\",\"attributes\":{\"num_minor_ticks\":0,\"base\":60,\"mantissas\":[1,2,5,10,15,20,30],\"min_interval\":1000.0,\"max_interval\":1800000.0}},{\"type\":\"object\",\"name\":\"AdaptiveTicker\",\"id\":\"p1030\",\"attributes\":{\"num_minor_ticks\":0,\"base\":24,\"mantissas\":[1,2,4,6,8,12],\"min_interval\":3600000.0,\"max_interval\":43200000.0}},{\"type\":\"object\",\"name\":\"DaysTicker\",\"id\":\"p1031\",\"attributes\":{\"days\":[1,2,3,4,5,6,7,8,9,10,11,12,13,14,15,16,17,18,19,20,21,22,23,24,25,26,27,28,29,30,31]}},{\"type\":\"object\",\"name\":\"DaysTicker\",\"id\":\"p1032\",\"attributes\":{\"days\":[1,4,7,10,13,16,19,22,25,28]}},{\"type\":\"object\",\"name\":\"DaysTicker\",\"id\":\"p1033\",\"attributes\":{\"days\":[1,8,15,22]}},{\"type\":\"object\",\"name\":\"DaysTicker\",\"id\":\"p1034\",\"attributes\":{\"days\":[1,15]}},{\"type\":\"object\",\"name\":\"MonthsTicker\",\"id\":\"p1035\",\"attributes\":{\"months\":[0,1,2,3,4,5,6,7,8,9,10,11]}},{\"type\":\"object\",\"name\":\"MonthsTicker\",\"id\":\"p1036\",\"attributes\":{\"months\":[0,2,4,6,8,10]}},{\"type\":\"object\",\"name\":\"MonthsTicker\",\"id\":\"p1037\",\"attributes\":{\"months\":[0,4,8]}},{\"type\":\"object\",\"name\":\"MonthsTicker\",\"id\":\"p1038\",\"attributes\":{\"months\":[0,6]}},{\"type\":\"object\",\"name\":\"YearsTicker\",\"id\":\"p1039\"}]}},\"formatter\":{\"type\":\"object\",\"name\":\"DatetimeTickFormatter\",\"id\":\"p1040\"},\"axis_label\":\"slave_date\",\"major_label_orientation\":0.7853981633974483,\"major_label_policy\":{\"type\":\"object\",\"name\":\"AllLabels\",\"id\":\"p1041\"}}}],\"center\":[{\"type\":\"object\",\"name\":\"Grid\",\"id\":\"p1042\",\"attributes\":{\"axis\":{\"id\":\"p1026\"},\"grid_line_color\":null}},{\"type\":\"object\",\"name\":\"Grid\",\"id\":\"p1047\",\"attributes\":{\"dimension\":1,\"axis\":{\"id\":\"p1043\"},\"grid_line_color\":null}}],\"min_border_top\":10,\"min_border_bottom\":10,\"min_border_left\":10,\"min_border_right\":10,\"output_backend\":\"webgl\"}},{\"type\":\"object\",\"name\":\"Spacer\",\"id\":\"p1067\",\"attributes\":{\"name\":\"HSpacer00848\",\"stylesheets\":[\"\\n:host(.pn-loading.pn-arc):before, .pn-loading.pn-arc:before {\\n  background-image: url(\\\"data:image/svg+xml;base64,PHN2ZyB4bWxucz0iaHR0cDovL3d3dy53My5vcmcvMjAwMC9zdmciIHN0eWxlPSJtYXJnaW46IGF1dG87IGJhY2tncm91bmQ6IG5vbmU7IGRpc3BsYXk6IGJsb2NrOyBzaGFwZS1yZW5kZXJpbmc6IGF1dG87IiB2aWV3Qm94PSIwIDAgMTAwIDEwMCIgcHJlc2VydmVBc3BlY3RSYXRpbz0ieE1pZFlNaWQiPiAgPGNpcmNsZSBjeD0iNTAiIGN5PSI1MCIgZmlsbD0ibm9uZSIgc3Ryb2tlPSIjYzNjM2MzIiBzdHJva2Utd2lkdGg9IjEwIiByPSIzNSIgc3Ryb2tlLWRhc2hhcnJheT0iMTY0LjkzMzYxNDMxMzQ2NDE1IDU2Ljk3Nzg3MTQzNzgyMTM4Ij4gICAgPGFuaW1hdGVUcmFuc2Zvcm0gYXR0cmlidXRlTmFtZT0idHJhbnNmb3JtIiB0eXBlPSJyb3RhdGUiIHJlcGVhdENvdW50PSJpbmRlZmluaXRlIiBkdXI9IjFzIiB2YWx1ZXM9IjAgNTAgNTA7MzYwIDUwIDUwIiBrZXlUaW1lcz0iMDsxIj48L2FuaW1hdGVUcmFuc2Zvcm0+ICA8L2NpcmNsZT48L3N2Zz4=\\\");\\n  background-size: auto calc(min(50%, 400px));\\n}\",{\"id\":\"p1005\"},{\"id\":\"p1003\"},{\"id\":\"p1004\"}],\"margin\":0,\"sizing_mode\":\"stretch_width\",\"align\":\"start\"}},{\"type\":\"object\",\"name\":\"panel.models.layout.Column\",\"id\":\"p1068\",\"attributes\":{\"name\":\"WidgetBox00817\",\"css_classes\":[\"panel-widget-box\"],\"stylesheets\":[\"\\n:host(.pn-loading.pn-arc):before, .pn-loading.pn-arc:before {\\n  background-image: url(\\\"data:image/svg+xml;base64,PHN2ZyB4bWxucz0iaHR0cDovL3d3dy53My5vcmcvMjAwMC9zdmciIHN0eWxlPSJtYXJnaW46IGF1dG87IGJhY2tncm91bmQ6IG5vbmU7IGRpc3BsYXk6IGJsb2NrOyBzaGFwZS1yZW5kZXJpbmc6IGF1dG87IiB2aWV3Qm94PSIwIDAgMTAwIDEwMCIgcHJlc2VydmVBc3BlY3RSYXRpbz0ieE1pZFlNaWQiPiAgPGNpcmNsZSBjeD0iNTAiIGN5PSI1MCIgZmlsbD0ibm9uZSIgc3Ryb2tlPSIjYzNjM2MzIiBzdHJva2Utd2lkdGg9IjEwIiByPSIzNSIgc3Ryb2tlLWRhc2hhcnJheT0iMTY0LjkzMzYxNDMxMzQ2NDE1IDU2Ljk3Nzg3MTQzNzgyMTM4Ij4gICAgPGFuaW1hdGVUcmFuc2Zvcm0gYXR0cmlidXRlTmFtZT0idHJhbnNmb3JtIiB0eXBlPSJyb3RhdGUiIHJlcGVhdENvdW50PSJpbmRlZmluaXRlIiBkdXI9IjFzIiB2YWx1ZXM9IjAgNTAgNTA7MzYwIDUwIDUwIiBrZXlUaW1lcz0iMDsxIj48L2FuaW1hdGVUcmFuc2Zvcm0+ICA8L2NpcmNsZT48L3N2Zz4=\\\");\\n  background-size: auto calc(min(50%, 400px));\\n}\",{\"id\":\"p1005\"},{\"type\":\"object\",\"name\":\"ImportedStyleSheet\",\"id\":\"p1077\",\"attributes\":{\"url\":\"https://cdn.holoviz.org/panel/1.2.3/dist/css/widgetbox.css\"}},{\"id\":\"p1075\"},{\"id\":\"p1003\"},{\"id\":\"p1004\"}],\"margin\":0,\"align\":[\"end\",\"center\"],\"children\":[{\"type\":\"object\",\"name\":\"panel.models.layout.Column\",\"id\":\"p1069\",\"attributes\":{\"name\":\"Column00838\",\"stylesheets\":[\"\\n:host(.pn-loading.pn-arc):before, .pn-loading.pn-arc:before {\\n  background-image: url(\\\"data:image/svg+xml;base64,PHN2ZyB4bWxucz0iaHR0cDovL3d3dy53My5vcmcvMjAwMC9zdmciIHN0eWxlPSJtYXJnaW46IGF1dG87IGJhY2tncm91bmQ6IG5vbmU7IGRpc3BsYXk6IGJsb2NrOyBzaGFwZS1yZW5kZXJpbmc6IGF1dG87IiB2aWV3Qm94PSIwIDAgMTAwIDEwMCIgcHJlc2VydmVBc3BlY3RSYXRpbz0ieE1pZFlNaWQiPiAgPGNpcmNsZSBjeD0iNTAiIGN5PSI1MCIgZmlsbD0ibm9uZSIgc3Ryb2tlPSIjYzNjM2MzIiBzdHJva2Utd2lkdGg9IjEwIiByPSIzNSIgc3Ryb2tlLWRhc2hhcnJheT0iMTY0LjkzMzYxNDMxMzQ2NDE1IDU2Ljk3Nzg3MTQzNzgyMTM4Ij4gICAgPGFuaW1hdGVUcmFuc2Zvcm0gYXR0cmlidXRlTmFtZT0idHJhbnNmb3JtIiB0eXBlPSJyb3RhdGUiIHJlcGVhdENvdW50PSJpbmRlZmluaXRlIiBkdXI9IjFzIiB2YWx1ZXM9IjAgNTAgNTA7MzYwIDUwIDUwIiBrZXlUaW1lcz0iMDsxIj48L2FuaW1hdGVUcmFuc2Zvcm0+ICA8L2NpcmNsZT48L3N2Zz4=\\\");\\n  background-size: auto calc(min(50%, 400px));\\n}\",{\"id\":\"p1005\"},{\"id\":\"p1075\"},{\"id\":\"p1003\"},{\"id\":\"p1004\"}],\"width\":290,\"min_width\":290,\"margin\":0,\"align\":\"start\",\"children\":[{\"type\":\"object\",\"name\":\"Div\",\"id\":\"p1071\",\"attributes\":{\"stylesheets\":[\"\\n:host(.pn-loading.pn-arc):before, .pn-loading.pn-arc:before {\\n  background-image: url(\\\"data:image/svg+xml;base64,PHN2ZyB4bWxucz0iaHR0cDovL3d3dy53My5vcmcvMjAwMC9zdmciIHN0eWxlPSJtYXJnaW46IGF1dG87IGJhY2tncm91bmQ6IG5vbmU7IGRpc3BsYXk6IGJsb2NrOyBzaGFwZS1yZW5kZXJpbmc6IGF1dG87IiB2aWV3Qm94PSIwIDAgMTAwIDEwMCIgcHJlc2VydmVBc3BlY3RSYXRpbz0ieE1pZFlNaWQiPiAgPGNpcmNsZSBjeD0iNTAiIGN5PSI1MCIgZmlsbD0ibm9uZSIgc3Ryb2tlPSIjYzNjM2MzIiBzdHJva2Utd2lkdGg9IjEwIiByPSIzNSIgc3Ryb2tlLWRhc2hhcnJheT0iMTY0LjkzMzYxNDMxMzQ2NDE1IDU2Ljk3Nzg3MTQzNzgyMTM4Ij4gICAgPGFuaW1hdGVUcmFuc2Zvcm0gYXR0cmlidXRlTmFtZT0idHJhbnNmb3JtIiB0eXBlPSJyb3RhdGUiIHJlcGVhdENvdW50PSJpbmRlZmluaXRlIiBkdXI9IjFzIiB2YWx1ZXM9IjAgNTAgNTA7MzYwIDUwIDUwIiBrZXlUaW1lcz0iMDsxIj48L2FuaW1hdGVUcmFuc2Zvcm0+ICA8L2NpcmNsZT48L3N2Zz4=\\\");\\n  background-size: auto calc(min(50%, 400px));\\n}\",{\"id\":\"p1005\"},{\"id\":\"p1003\"},{\"id\":\"p1004\"}],\"width\":250,\"min_width\":250,\"margin\":[20,0,0,20],\"align\":\"start\",\"text\":\"master_date: <b>2024-08-09 00:00:00</b>\"}},{\"type\":\"object\",\"name\":\"Slider\",\"id\":\"p1073\",\"attributes\":{\"js_property_callbacks\":{\"type\":\"map\",\"entries\":[[\"change:value\",[{\"type\":\"object\",\"name\":\"CustomJS\",\"id\":\"p1081\",\"attributes\":{\"tags\":[[139865295719776,[null,\"value\"],[null,null]]],\"args\":{\"type\":\"map\",\"entries\":[[\"bidirectional\",false],[\"properties\",{\"type\":\"map\"}],[\"source\",{\"id\":\"p1073\"}],[\"target\",{\"id\":\"p1071\"}]]},\"code\":\"try { \\n    var labels = ['master_date: <b>2024-08-09 00:00:00</b>', 'master_date: <b>2024-08-21 00:00:00</b>', 'master_date: <b>2024-09-02 00:00:00</b>', 'master_date: <b>2024-09-14 00:00:00</b>', 'master_date: <b>2024-09-26 00:00:00</b>', 'master_date: <b>2024-10-08 00:00:00</b>', 'master_date: <b>2024-10-20 00:00:00</b>', 'master_date: <b>2024-11-01 00:00:00</b>', 'master_date: <b>2024-11-13 00:00:00</b>', 'master_date: <b>2024-11-25 00:00:00</b>', 'master_date: <b>2024-12-07 00:00:00</b>', 'master_date: <b>2024-12-19 00:00:00</b>', 'master_date: <b>2024-12-31 00:00:00</b>', 'master_date: <b>2025-01-12 00:00:00</b>', 'master_date: <b>2025-01-24 00:00:00</b>']\\n    target.text = labels[source.value]\\n     } catch(err) { console.log(err) }\"}}]]]},\"stylesheets\":[\"\\n:host(.pn-loading.pn-arc):before, .pn-loading.pn-arc:before {\\n  background-image: url(\\\"data:image/svg+xml;base64,PHN2ZyB4bWxucz0iaHR0cDovL3d3dy53My5vcmcvMjAwMC9zdmciIHN0eWxlPSJtYXJnaW46IGF1dG87IGJhY2tncm91bmQ6IG5vbmU7IGRpc3BsYXk6IGJsb2NrOyBzaGFwZS1yZW5kZXJpbmc6IGF1dG87IiB2aWV3Qm94PSIwIDAgMTAwIDEwMCIgcHJlc2VydmVBc3BlY3RSYXRpbz0ieE1pZFlNaWQiPiAgPGNpcmNsZSBjeD0iNTAiIGN5PSI1MCIgZmlsbD0ibm9uZSIgc3Ryb2tlPSIjYzNjM2MzIiBzdHJva2Utd2lkdGg9IjEwIiByPSIzNSIgc3Ryb2tlLWRhc2hhcnJheT0iMTY0LjkzMzYxNDMxMzQ2NDE1IDU2Ljk3Nzg3MTQzNzgyMTM4Ij4gICAgPGFuaW1hdGVUcmFuc2Zvcm0gYXR0cmlidXRlTmFtZT0idHJhbnNmb3JtIiB0eXBlPSJyb3RhdGUiIHJlcGVhdENvdW50PSJpbmRlZmluaXRlIiBkdXI9IjFzIiB2YWx1ZXM9IjAgNTAgNTA7MzYwIDUwIDUwIiBrZXlUaW1lcz0iMDsxIj48L2FuaW1hdGVUcmFuc2Zvcm0+ICA8L2NpcmNsZT48L3N2Zz4=\\\");\\n  background-size: auto calc(min(50%, 400px));\\n}\",{\"id\":\"p1005\"},{\"id\":\"p1003\"},{\"id\":\"p1004\"}],\"width\":250,\"min_width\":250,\"margin\":[0,20,20,20],\"align\":\"start\",\"show_value\":false,\"tooltips\":false,\"start\":0,\"end\":14,\"value\":0}}]}}]}}]}},{\"type\":\"object\",\"name\":\"panel.models.comm_manager.CommManager\",\"id\":\"p1082\",\"attributes\":{\"plot_id\":\"p1002\",\"comm_id\":\"c9afe37d0cc840e0850ae16001826b89\",\"client_comm_id\":\"cf1cc37565ee4ce79b323f7bae00b901\"}}],\"defs\":[{\"type\":\"model\",\"name\":\"ReactiveHTML1\"},{\"type\":\"model\",\"name\":\"FlexBox1\",\"properties\":[{\"name\":\"align_content\",\"kind\":\"Any\",\"default\":\"flex-start\"},{\"name\":\"align_items\",\"kind\":\"Any\",\"default\":\"flex-start\"},{\"name\":\"flex_direction\",\"kind\":\"Any\",\"default\":\"row\"},{\"name\":\"flex_wrap\",\"kind\":\"Any\",\"default\":\"wrap\"},{\"name\":\"justify_content\",\"kind\":\"Any\",\"default\":\"flex-start\"}]},{\"type\":\"model\",\"name\":\"FloatPanel1\",\"properties\":[{\"name\":\"config\",\"kind\":\"Any\",\"default\":{\"type\":\"map\"}},{\"name\":\"contained\",\"kind\":\"Any\",\"default\":true},{\"name\":\"position\",\"kind\":\"Any\",\"default\":\"right-top\"},{\"name\":\"offsetx\",\"kind\":\"Any\",\"default\":null},{\"name\":\"offsety\",\"kind\":\"Any\",\"default\":null},{\"name\":\"theme\",\"kind\":\"Any\",\"default\":\"primary\"},{\"name\":\"status\",\"kind\":\"Any\",\"default\":\"normalized\"}]},{\"type\":\"model\",\"name\":\"GridStack1\",\"properties\":[{\"name\":\"mode\",\"kind\":\"Any\",\"default\":\"warn\"},{\"name\":\"ncols\",\"kind\":\"Any\",\"default\":null},{\"name\":\"nrows\",\"kind\":\"Any\",\"default\":null},{\"name\":\"allow_resize\",\"kind\":\"Any\",\"default\":true},{\"name\":\"allow_drag\",\"kind\":\"Any\",\"default\":true},{\"name\":\"state\",\"kind\":\"Any\",\"default\":[]}]},{\"type\":\"model\",\"name\":\"drag1\",\"properties\":[{\"name\":\"slider_width\",\"kind\":\"Any\",\"default\":5},{\"name\":\"slider_color\",\"kind\":\"Any\",\"default\":\"black\"},{\"name\":\"value\",\"kind\":\"Any\",\"default\":50}]},{\"type\":\"model\",\"name\":\"click1\",\"properties\":[{\"name\":\"terminal_output\",\"kind\":\"Any\",\"default\":\"\"},{\"name\":\"debug_name\",\"kind\":\"Any\",\"default\":\"\"},{\"name\":\"clears\",\"kind\":\"Any\",\"default\":0}]},{\"type\":\"model\",\"name\":\"FastWrapper1\",\"properties\":[{\"name\":\"object\",\"kind\":\"Any\",\"default\":null},{\"name\":\"style\",\"kind\":\"Any\",\"default\":null}]},{\"type\":\"model\",\"name\":\"NotificationAreaBase1\",\"properties\":[{\"name\":\"js_events\",\"kind\":\"Any\",\"default\":{\"type\":\"map\"}},{\"name\":\"position\",\"kind\":\"Any\",\"default\":\"bottom-right\"},{\"name\":\"_clear\",\"kind\":\"Any\",\"default\":0}]},{\"type\":\"model\",\"name\":\"NotificationArea1\",\"properties\":[{\"name\":\"js_events\",\"kind\":\"Any\",\"default\":{\"type\":\"map\"}},{\"name\":\"notifications\",\"kind\":\"Any\",\"default\":[]},{\"name\":\"position\",\"kind\":\"Any\",\"default\":\"bottom-right\"},{\"name\":\"_clear\",\"kind\":\"Any\",\"default\":0},{\"name\":\"types\",\"kind\":\"Any\",\"default\":[{\"type\":\"map\",\"entries\":[[\"type\",\"warning\"],[\"background\",\"#ffc107\"],[\"icon\",{\"type\":\"map\",\"entries\":[[\"className\",\"fas fa-exclamation-triangle\"],[\"tagName\",\"i\"],[\"color\",\"white\"]]}]]},{\"type\":\"map\",\"entries\":[[\"type\",\"info\"],[\"background\",\"#007bff\"],[\"icon\",{\"type\":\"map\",\"entries\":[[\"className\",\"fas fa-info-circle\"],[\"tagName\",\"i\"],[\"color\",\"white\"]]}]]}]}]},{\"type\":\"model\",\"name\":\"Notification\",\"properties\":[{\"name\":\"background\",\"kind\":\"Any\",\"default\":null},{\"name\":\"duration\",\"kind\":\"Any\",\"default\":3000},{\"name\":\"icon\",\"kind\":\"Any\",\"default\":null},{\"name\":\"message\",\"kind\":\"Any\",\"default\":\"\"},{\"name\":\"notification_type\",\"kind\":\"Any\",\"default\":null},{\"name\":\"_destroyed\",\"kind\":\"Any\",\"default\":false}]},{\"type\":\"model\",\"name\":\"TemplateActions1\",\"properties\":[{\"name\":\"open_modal\",\"kind\":\"Any\",\"default\":0},{\"name\":\"close_modal\",\"kind\":\"Any\",\"default\":0}]},{\"type\":\"model\",\"name\":\"BootstrapTemplateActions1\",\"properties\":[{\"name\":\"open_modal\",\"kind\":\"Any\",\"default\":0},{\"name\":\"close_modal\",\"kind\":\"Any\",\"default\":0}]},{\"type\":\"model\",\"name\":\"MaterialTemplateActions1\",\"properties\":[{\"name\":\"open_modal\",\"kind\":\"Any\",\"default\":0},{\"name\":\"close_modal\",\"kind\":\"Any\",\"default\":0}]}]}};\n",
       "  var render_items = [{\"docid\":\"c6a969dc-4bb4-45e4-9759-518b3ea3d067\",\"roots\":{\"p1002\":\"d54e7ba9-c484-4968-9fac-b737584a4bf5\"},\"root_ids\":[\"p1002\"]}];\n",
       "  var docs = Object.values(docs_json)\n",
       "  if (!docs) {\n",
       "    return\n",
       "  }\n",
       "  const py_version = docs[0].version.replace('rc', '-rc.').replace('.dev', '-dev.')\n",
       "  const is_dev = py_version.indexOf(\"+\") !== -1 || py_version.indexOf(\"-\") !== -1\n",
       "  function embed_document(root) {\n",
       "    var Bokeh = get_bokeh(root)\n",
       "    Bokeh.embed.embed_items_notebook(docs_json, render_items);\n",
       "    for (const render_item of render_items) {\n",
       "      for (const root_id of render_item.root_ids) {\n",
       "\tconst id_el = document.getElementById(root_id)\n",
       "\tif (id_el.children.length && (id_el.children[0].className === 'bk-root')) {\n",
       "\t  const root_el = id_el.children[0]\n",
       "\t  root_el.id = root_el.id + '-rendered'\n",
       "\t}\n",
       "      }\n",
       "    }\n",
       "  }\n",
       "  function get_bokeh(root) {\n",
       "    if (root.Bokeh === undefined) {\n",
       "      return null\n",
       "    } else if (root.Bokeh.version !== py_version && !is_dev) {\n",
       "      if (root.Bokeh.versions === undefined || !root.Bokeh.versions.has(py_version)) {\n",
       "\treturn null\n",
       "      }\n",
       "      return root.Bokeh.versions.get(py_version);\n",
       "    } else if (root.Bokeh.version === py_version) {\n",
       "      return root.Bokeh\n",
       "    }\n",
       "    return null\n",
       "  }\n",
       "  function is_loaded(root) {\n",
       "    var Bokeh = get_bokeh(root)\n",
       "    return (Bokeh != null && Bokeh.Panel !== undefined)\n",
       "  }\n",
       "  if (is_loaded(root)) {\n",
       "    embed_document(root);\n",
       "  } else {\n",
       "    var attempts = 0;\n",
       "    var timer = setInterval(function(root) {\n",
       "      if (is_loaded(root)) {\n",
       "        clearInterval(timer);\n",
       "        embed_document(root);\n",
       "      } else if (document.readyState == \"complete\") {\n",
       "        attempts++;\n",
       "        if (attempts > 200) {\n",
       "          clearInterval(timer);\n",
       "\t  var Bokeh = get_bokeh(root)\n",
       "\t  if (Bokeh == null || Bokeh.Panel == null) {\n",
       "            console.warn(\"Panel: ERROR: Unable to run Panel code because Bokeh or Panel library is missing\");\n",
       "\t  } else {\n",
       "\t    console.warn(\"Panel: WARNING: Attempting to render but not all required libraries could be resolved.\")\n",
       "\t    embed_document(root)\n",
       "\t  }\n",
       "        }\n",
       "      }\n",
       "    }, 25, root)\n",
       "  }\n",
       "})(window);</script>"
      ],
      "text/plain": [
       ":DynamicMap   [master_date]\n",
       "   :Scatter   [slave_date]   (perp_baseline)"
      ]
     },
     "execution_count": 20,
     "metadata": {
      "application/vnd.holoviews_exec.v0+json": {
       "id": "p1002"
      }
     },
     "output_type": "execute_result"
    }
   ],
   "source": [
    "import hvplot.pandas  # noqa\n",
    "df.hvplot.scatter(\n",
    "    x='slave_date',\n",
    "    y='perp_baseline',\n",
    "    groupby='master_date',\n",
    "    ylim=(-500, 500),\n",
    "    rot=45)"
   ]
  },
  {
   "cell_type": "markdown",
   "id": "86a724fe-2063-4dc9-812d-43c0764cf66f",
   "metadata": {},
   "source": [
    "## 6) Filter data\n",
    "\n",
    "Select the maximum temporal (days) and perpendicular (meters) baselines"
   ]
  },
  {
   "cell_type": "code",
   "execution_count": 102,
   "id": "5386cc83-a88b-4db4-9c7f-c4827aa95fbe",
   "metadata": {},
   "outputs": [],
   "source": [
    "zero_reference_date = \"2024-11-01\"\n",
    "\n",
    "max_temporal_baseline = 24 # days\n",
    "max_perpendicular_baseline = 200 # meters, absolute value\n",
    "\n",
    "filter_mask = np.bitwise_and(abs(df[\"temp_baseline\"])<=datetime.timedelta(max_temporal_baseline),abs(df[\"perp_baseline\"])<=max_perpendicular_baseline)\n",
    "df_filtered = df[filter_mask].reset_index()"
   ]
  },
  {
   "cell_type": "markdown",
   "id": "e6fffd12-4d7e-47a5-85c9-83fb650b6018",
   "metadata": {},
   "source": [
    "Plot the graph showing the existing connections between date pairs after the filtering:"
   ]
  },
  {
   "cell_type": "code",
   "execution_count": 103,
   "id": "6b018d37-2e3b-4212-865b-bad618bab500",
   "metadata": {
    "tags": []
   },
   "outputs": [
    {
     "data": {
      "image/png": "[encoded data removed]",
      "text/plain": [
       "<Figure size 640x480 with 1 Axes>"
      ]
     },
     "metadata": {},
     "output_type": "display_data"
    }
   ],
   "source": [
    "ax = df[df[\"master_date\"]==zero_reference_date].plot.scatter(\n",
    "    x='slave_date',\n",
    "    y='perp_baseline',\n",
    "    color=\"red\",\n",
    "    ylim=(-500, 500))\n",
    "for x in df_filtered.index:\n",
    "    single = df_filtered.iloc[[x]]\n",
    "    point_1 = df[np.bitwise_and(df[\"master_date\"]==zero_reference_date,np.bitwise_or(df[\"slave_date\"]==single[\"master_date\"].values[0],df[\"slave_date\"]==single[\"slave_date\"].values[0]))]\n",
    "    ax = point_1.plot.line(\n",
    "            x='slave_date',\n",
    "            y='perp_baseline',\n",
    "            legend=False,\n",
    "            ax=ax,\n",
    "            color=\"blue\",\n",
    "            linewidth=0.1)\n",
    "plt.show()"
   ]
  },
  {
   "cell_type": "markdown",
   "id": "684db5ec-a3e3-412a-bfff-2dd23add03c9",
   "metadata": {
    "tags": []
   },
   "source": [
    "Create date pairs list, used as input to the SNAP workflow:"
   ]
  },
  {
   "cell_type": "code",
   "execution_count": 104,
   "id": "4c6b79db-aeb0-4b12-93b4-a2d857f6099d",
   "metadata": {
    "scrolled": true,
    "tags": []
   },
   "outputs": [
    {
     "data": {
      "text/plain": [
       "['20240821_20240821',\n",
       " '20240821_20240902',\n",
       " '20240821_20240809',\n",
       " '20240821_20240914',\n",
       " '20240902_20240821',\n",
       " '20240902_20240902',\n",
       " '20240902_20240809',\n",
       " '20240902_20240914',\n",
       " '20240902_20240926',\n",
       " '20240809_20240821',\n",
       " '20240809_20240902',\n",
       " '20240809_20240809',\n",
       " '20240914_20240821',\n",
       " '20240914_20240902',\n",
       " '20240914_20240914',\n",
       " '20240914_20240926',\n",
       " '20240914_20241008',\n",
       " '20240926_20240902',\n",
       " '20240926_20240914',\n",
       " '20240926_20240926',\n",
       " '20240926_20241008',\n",
       " '20240926_20241020',\n",
       " '20250112_20250112',\n",
       " '20250112_20250124',\n",
       " '20250112_20241219',\n",
       " '20250112_20241231',\n",
       " '20250124_20250112',\n",
       " '20250124_20250124',\n",
       " '20250124_20241231',\n",
       " '20241008_20240914',\n",
       " '20241008_20240926',\n",
       " '20241008_20241008',\n",
       " '20241008_20241020',\n",
       " '20241020_20240926',\n",
       " '20241020_20241008',\n",
       " '20241020_20241020',\n",
       " '20241020_20241101',\n",
       " '20241020_20241113',\n",
       " '20241101_20241020',\n",
       " '20241101_20241101',\n",
       " '20241101_20241113',\n",
       " '20241101_20241125',\n",
       " '20241113_20241020',\n",
       " '20241113_20241101',\n",
       " '20241113_20241113',\n",
       " '20241113_20241125',\n",
       " '20241113_20241207',\n",
       " '20241125_20241101',\n",
       " '20241125_20241113',\n",
       " '20241125_20241125',\n",
       " '20241125_20241207',\n",
       " '20241125_20241219',\n",
       " '20241207_20241113',\n",
       " '20241207_20241125',\n",
       " '20241207_20241207',\n",
       " '20241207_20241219',\n",
       " '20241207_20241231',\n",
       " '20241219_20250112',\n",
       " '20241219_20241125',\n",
       " '20241219_20241207',\n",
       " '20241219_20241219',\n",
       " '20241219_20241231',\n",
       " '20241231_20250112',\n",
       " '20241231_20250124',\n",
       " '20241231_20241207',\n",
       " '20241231_20241219',\n",
       " '20241231_20241231']"
      ]
     },
     "execution_count": 104,
     "metadata": {},
     "output_type": "execute_result"
    }
   ],
   "source": [
    "def reformat_date_string(date):\n",
    "    return date[:4] + date[5:7] + date[8:10]\n",
    "sbas_dates_list = [f\"{reformat_date_string(str(df_filtered.iloc[[x]]['master_date'].values[0]))}_{reformat_date_string(str(df_filtered.iloc[[x]]['slave_date'].values[0]))}\" for x in df_filtered.index]\n",
    "sbas_dates_list"
   ]
  },
  {
   "cell_type": "markdown",
   "id": "67b50dea-9e22-4743-bb6a-9c04020419e3",
   "metadata": {},
   "source": [
    "Plot the graph showing the existing connections for a single reference date after the filtering:"
   ]
  },
  {
   "cell_type": "code",
   "execution_count": 81,
   "id": "fc4edcda-ce5b-4ab6-af44-aae90a0d2c5c",
   "metadata": {
    "tags": []
   },
   "outputs": [
    {
     "data": {
      "image/png": "[encoded data removed]",
      "text/plain": [
       "<Figure size 640x480 with 1 Axes>"
      ]
     },
     "metadata": {},
     "output_type": "display_data"
    }
   ],
   "source": [
    "df_filtered_ = df[df[\"master_date\"]==zero_reference_date].reset_index()\n",
    "ax = df[df[\"master_date\"]==zero_reference_date].plot.scatter(\n",
    "    x='slave_date',\n",
    "    y='perp_baseline',\n",
    "    color=\"red\",\n",
    "    ylim=(-500, 500))\n",
    "for x in df_filtered_.index:\n",
    "    single = df_filtered_.iloc[[x]]\n",
    "    point_1 = df[np.bitwise_and(df[\"master_date\"]==zero_reference_date,np.bitwise_or(df[\"slave_date\"]==single[\"master_date\"].values[0],df[\"slave_date\"]==single[\"slave_date\"].values[0]))]\n",
    "    ax = point_1.plot.line(\n",
    "            x='slave_date',\n",
    "            y='perp_baseline',\n",
    "            legend=False,\n",
    "            ax=ax,\n",
    "            color=\"blue\",\n",
    "            linewidth=0.1)\n",
    "plt.show()"
   ]
  },
  {
   "cell_type": "markdown",
   "id": "4ed2b250-8e2b-45c0-82db-dd3be8126b1f",
   "metadata": {
    "tags": []
   },
   "source": [
    "Create date pairs list, used as input to the SNAP workflow:"
   ]
  },
  {
   "cell_type": "code",
   "execution_count": 101,
   "id": "f7fac9e6-5bc4-4661-b89c-bfdda904b27c",
   "metadata": {},
   "outputs": [
    {
     "data": {
      "text/plain": [
       "['20241101_20240821',\n",
       " '20241101_20240902',\n",
       " '20241101_20240809',\n",
       " '20241101_20240914',\n",
       " '20241101_20240926',\n",
       " '20241101_20250112',\n",
       " '20241101_20250124',\n",
       " '20241101_20241008',\n",
       " '20241101_20241020',\n",
       " '20241101_20241101',\n",
       " '20241101_20241113',\n",
       " '20241101_20241125',\n",
       " '20241101_20241207',\n",
       " '20241101_20241219',\n",
       " '20241101_20241231']"
      ]
     },
     "execution_count": 101,
     "metadata": {},
     "output_type": "execute_result"
    }
   ],
   "source": [
    "ps_dates_list = [f\"{reformat_date_string(str(df_filtered_.iloc[[x]]['master_date'].values[0]))}_{reformat_date_string(str(df_filtered_.iloc[[x]]['slave_date'].values[0]))}\" for x in df_filtered_.index]\n",
    "ps_dates_list"
   ]
  }
 ],
 "metadata": {
  "kernelspec": {
   "display_name": "Python 3 (ipykernel)",
   "language": "python",
   "name": "python3"
  },
  "language_info": {
   "codemirror_mode": {
    "name": "ipython",
    "version": 3
   },
   "file_extension": ".py",
   "mimetype": "text/x-python",
   "name": "python",
   "nbconvert_exporter": "python",
   "pygments_lexer": "ipython3",
   "version": "3.10.16"
  }
 },
 "nbformat": 4,
 "nbformat_minor": 5
}
