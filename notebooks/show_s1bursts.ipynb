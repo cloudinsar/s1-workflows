{
 "cells": [
  {
   "cell_type": "code",
   "execution_count": null,
   "id": "f6b821fd-92ad-4658-aef5-2c4cf980c011",
   "metadata": {},
   "outputs": [],
   "source": [
    "!pip install folium leafmap"
   ]
  },
  {
   "cell_type": "code",
   "execution_count": 1,
   "id": "1a8ebc92-fb8c-42d7-9d5f-6980edbf9c4d",
   "metadata": {
    "tags": []
   },
   "outputs": [],
   "source": [
    "import urllib\n",
    "import json\n",
    "\n",
    "import numpy as np\n",
    "import pandas as pd\n",
    "\n",
    "from shapely.geometry import shape\n",
    "\n",
    "import folium\n",
    "from folium.plugins import Draw\n",
    "from folium.plugins.treelayercontrol import TreeLayerControl\n",
    "\n",
    "import leafmap\n",
    "\n",
    "from IPython.display import JSON"
   ]
  },
  {
   "cell_type": "markdown",
   "id": "ad3ff8e2-f7de-4671-8cea-f723283c9880",
   "metadata": {},
   "source": [
    "## 1) Input definition"
   ]
  },
  {
   "cell_type": "code",
   "execution_count": 2,
   "id": "1640048f-132e-4506-ab84-0561a0e9fee1",
   "metadata": {
    "tags": []
   },
   "outputs": [],
   "source": [
    "start_date = '2024-12-01'\n",
    "end_date = '2025-01-30'"
   ]
  },
  {
   "cell_type": "markdown",
   "id": "8ee2d7aa-4fb4-4fca-abf3-d66eabd6840b",
   "metadata": {},
   "source": [
    "### Define an area of interest by drawing in the map using the rectangle selection tool"
   ]
  },
  {
   "cell_type": "code",
   "execution_count": 3,
   "id": "e97db665-ceed-411a-851b-9a41defb8f59",
   "metadata": {
    "tags": []
   },
   "outputs": [
    {
     "data": {
      "application/vnd.jupyter.widget-view+json": {
       "model_id": "0d95acf5e28146158afc7007c061f9a6",
       "version_major": 2,
       "version_minor": 0
      },
      "text/plain": [
       "Map(center=[47.005, 11.507], controls=(ZoomControl(options=['position', 'zoom_in_text', 'zoom_in_title', 'zoom…"
      ]
     },
     "execution_count": 3,
     "metadata": {},
     "output_type": "execute_result"
    }
   ],
   "source": [
    "m = leafmap.Map(center=(47.005, 11.507), zoom=7.5)\n",
    "m"
   ]
  },
  {
   "cell_type": "code",
   "execution_count": 4,
   "id": "3fa674ca-8aa8-47b7-84a3-ea660210fca7",
   "metadata": {
    "tags": []
   },
   "outputs": [
    {
     "data": {
      "text/plain": [
       "'POLYGON ((11.157124 46.395774, 11.157124 46.660323, 11.459284 46.660323, 11.459284 46.395774, 11.157124 46.395774))'"
      ]
     },
     "execution_count": 4,
     "metadata": {},
     "output_type": "execute_result"
    }
   ],
   "source": [
    "feat = m.draw_features\n",
    "geom_dict = feat[0]['geometry']\n",
    "geom = shape(geom_dict)\n",
    "geom.wkt"
   ]
  },
  {
   "cell_type": "markdown",
   "id": "7a7299ba-fdad-41cd-838f-1ccbad90c8ad",
   "metadata": {},
   "source": [
    "### Alternatively upload your area of interest"
   ]
  },
  {
   "cell_type": "code",
   "execution_count": null,
   "id": "e201b1f0-09a2-4862-a443-6c3effbfffca",
   "metadata": {},
   "outputs": [],
   "source": []
  },
  {
   "cell_type": "markdown",
   "id": "104ab20b-99b5-48ac-bb2b-e119433f60c9",
   "metadata": {},
   "source": [
    "## 2) Retrieve the bursts info with https request"
   ]
  },
  {
   "cell_type": "code",
   "execution_count": 5,
   "id": "38a2e886-18a5-411a-976b-6e9df8d1ee60",
   "metadata": {
    "tags": []
   },
   "outputs": [
    {
     "data": {
      "application/json": {
       "@odata.context": "$metadata#Bursts",
       "value": [
        {
         "@odata.mediaContentType": "application/octet-stream",
         "AbsoluteBurstId": 122144864,
         "AzimuthAnxTime": 2200.7853515477,
         "AzimuthTime": "2024-12-06T05:19:19.038387Z",
         "BeginningDateTime": "2024-12-06T05:19:20.175334Z",
         "BurstId": 202703,
         "ByteOffset": 1256856515,
         "ContentDate": {
          "End": "2024-12-06T05:19:21.079940Z",
          "Start": "2024-12-06T05:19:20.175334Z"
         },
         "ContentType": "application/octet-stream",
         "DatatakeID": 457644,
         "EndingDateTime": "2024-12-06T05:19:21.079940Z",
         "Footprint": "geography'SRID=4326;POLYGON ((12.089482 46.634916, 11.563369 46.69639, 11.056374 46.753309, 11.010245 46.548522, 11.516373 46.496209, 12.041638 46.439349, 12.089482 46.634916))'",
         "GeoFootprint": {
          "coordinates": [
           [
            [
             12.089482,
             46.634916
            ],
            [
             11.563369,
             46.69639
            ],
            [
             11.056374,
             46.753309
            ],
            [
             11.010245,
             46.548522
            ],
            [
             11.516373,
             46.496209
            ],
            [
             12.041638,
             46.439349
            ],
            [
             12.089482,
             46.634916
            ]
           ]
          ],
          "type": "Polygon"
         },
         "Id": "c65f0199-c449-4f3f-a7f5-8c1404f3271e",
         "Lines": 12200,
         "LinesPerBurst": 1525,
         "Name": "S1A-SLC-20241206T051920-202703-IW3-VV-457644",
         "OperationalMode": "IW",
         "OrbitDirection": "DESCENDING",
         "ParentProductId": "ab43ce7b-83d7-43a3-8520-5e221516f917",
         "ParentProductName": "S1A_IW_SLC__1SDV_20241206T051856_20241206T051922_056867_06FBAC_5996.SAFE",
         "ParentProductType": "IW_SLC__1S",
         "PlatformSerialIdentifier": "A",
         "PolarisationChannels": "VV",
         "RelativeOrbitNumber": 95,
         "S3Path": "/eodata/Sentinel-1/SAR/IW_SLC__1S/2024/12/06/S1A_IW_SLC__1SDV_20241206T051856_20241206T051922_056867_06FBAC_5996.SAFE/measurement/s1a-iw3-slc-vv-20241206t051856-20241206t051922-056867-06fbac-006.tiff",
         "SamplesPerBurst": 25753,
         "SwathIdentifier": "IW3"
        },
        {
         "@odata.mediaContentType": "application/octet-stream",
         "AbsoluteBurstId": 122144865,
         "AzimuthAnxTime": 2203.5418519983,
         "AzimuthTime": "2024-12-06T05:19:21.794887Z",
         "BeginningDateTime": "2024-12-06T05:19:22.933610Z",
         "BurstId": 202704,
         "ByteOffset": 110115,
         "ContentDate": {
          "End": "2024-12-06T05:19:23.838216Z",
          "Start": "2024-12-06T05:19:22.933610Z"
         },
         "ContentType": "application/octet-stream",
         "DatatakeID": 457644,
         "EndingDateTime": "2024-12-06T05:19:23.838216Z",
         "Footprint": "geography'SRID=4326;POLYGON ((12.049022 46.469577, 11.524545 46.531064, 11.019128 46.588009, 10.97311 46.383218, 11.477674 46.330878, 12.001315 46.274004, 12.049022 46.469577))'",
         "GeoFootprint": {
          "coordinates": [
           [
            [
             12.049022,
             46.469577
            ],
            [
             11.524545,
             46.531064
            ],
            [
             11.019128,
             46.588009
            ],
            [
             10.97311,
             46.383218
            ],
            [
             11.477674,
             46.330878
            ],
            [
             12.001315,
             46.274004
            ],
            [
             12.049022,
             46.469577
            ]
           ]
          ],
          "type": "Polygon"
         },
         "Id": "07220ad6-f0e7-49d7-9cb7-126b3bbe96f7",
         "Lines": 0,
         "LinesPerBurst": 1525,
         "Name": "S1A-SLC-20241206T051922-202704-IW3-VV-457644",
         "OperationalMode": "IW",
         "OrbitDirection": "DESCENDING",
         "ParentProductId": "4f7346fe-0fb8-4aaf-9957-0c9606c39e08",
         "ParentProductName": "S1A_IW_SLC__1SDV_20241206T051920_20241206T051947_056867_06FBAC_BD99.SAFE",
         "ParentProductType": "IW_SLC__1S",
         "PlatformSerialIdentifier": "A",
         "PolarisationChannels": "VV",
         "RelativeOrbitNumber": 95,
         "S3Path": "/eodata/Sentinel-1/SAR/IW_SLC__1S/2024/12/06/S1A_IW_SLC__1SDV_20241206T051920_20241206T051947_056867_06FBAC_BD99.SAFE/measurement/s1a-iw3-slc-vv-20241206t051921-20241206t051946-056867-06fbac-006.tiff",
         "SamplesPerBurst": 25753,
         "SwathIdentifier": "IW3"
        },
        {
         "@odata.mediaContentType": "application/octet-stream",
         "AbsoluteBurstId": 122144866,
         "AzimuthAnxTime": 2206.3004085529,
         "AzimuthTime": "2024-12-06T05:19:24.553444Z",
         "BeginningDateTime": "2024-12-06T05:19:25.691887Z",
         "BurstId": 202705,
         "ByteOffset": 157203415,
         "ContentDate": {
          "End": "2024-12-06T05:19:26.596493Z",
          "Start": "2024-12-06T05:19:25.691887Z"
         },
         "ContentType": "application/octet-stream",
         "DatatakeID": 457644,
         "EndingDateTime": "2024-12-06T05:19:26.596493Z",
         "Footprint": "geography'SRID=4326;POLYGON ((12.01207 46.303822, 11.488229 46.365451, 10.983475 46.422535, 10.937562 46.217752, 11.441477 46.165281, 11.964495 46.108271, 12.01207 46.303822))'",
         "GeoFootprint": {
          "coordinates": [
           [
            [
             12.01207,
             46.303822
            ],
            [
             11.488229,
             46.365451
            ],
            [
             10.983475,
             46.422535
            ],
            [
             10.937562,
             46.217752
            ],
            [
             11.441477,
             46.165281
            ],
            [
             11.964495,
             46.108271
            ],
            [
             12.01207,
             46.303822
            ]
           ]
          ],
          "type": "Polygon"
         },
         "Id": "d599eb95-8abf-4ab5-b5ee-dd3435909e03",
         "Lines": 1525,
         "LinesPerBurst": 1525,
         "Name": "S1A-SLC-20241206T051925-202705-IW3-VV-457644",
         "OperationalMode": "IW",
         "OrbitDirection": "DESCENDING",
         "ParentProductId": "4f7346fe-0fb8-4aaf-9957-0c9606c39e08",
         "ParentProductName": "S1A_IW_SLC__1SDV_20241206T051920_20241206T051947_056867_06FBAC_BD99.SAFE",
         "ParentProductType": "IW_SLC__1S",
         "PlatformSerialIdentifier": "A",
         "PolarisationChannels": "VV",
         "RelativeOrbitNumber": 95,
         "S3Path": "/eodata/Sentinel-1/SAR/IW_SLC__1S/2024/12/06/S1A_IW_SLC__1SDV_20241206T051920_20241206T051947_056867_06FBAC_BD99.SAFE/measurement/s1a-iw3-slc-vv-20241206t051921-20241206t051946-056867-06fbac-006.tiff",
         "SamplesPerBurst": 25753,
         "SwathIdentifier": "IW3"
        },
        {
         "@odata.mediaContentType": "application/octet-stream",
         "AbsoluteBurstId": 122191594,
         "AzimuthAnxTime": 753.4068013292999,
         "AzimuthTime": "2024-12-07T17:07:32.267337Z",
         "BeginningDateTime": "2024-12-07T17:07:33.272514Z",
         "BurstId": 249433,
         "ByteOffset": 640810107,
         "ContentDate": {
          "End": "2024-12-07T17:07:34.314104Z",
          "Start": "2024-12-07T17:07:33.272514Z"
         },
         "ContentType": "application/octet-stream",
         "DatatakeID": 457860,
         "EndingDateTime": "2024-12-07T17:07:34.314104Z",
         "Footprint": "geography'SRID=4326;POLYGON ((10.804564 46.276581, 11.402422 46.34791, 11.967742 46.412202, 11.920848 46.604472, 11.354552 46.535976, 10.755691 46.460429, 10.804564 46.276581))'",
         "GeoFootprint": {
          "coordinates": [
           [
            [
             10.804564,
             46.276581
            ],
            [
             11.402422,
             46.34791
            ],
            [
             11.967742,
             46.412202
            ],
            [
             11.920848,
             46.604472
            ],
            [
             11.354552,
             46.535976
            ],
            [
             10.755691,
             46.460429
            ],
            [
             10.804564,
             46.276581
            ]
           ]
          ],
          "type": "Polygon"
         },
         "Id": "ec923b1d-ba43-4fde-839b-229cfb0b31c6",
         "Lines": 6048,
         "LinesPerBurst": 1512,
         "Name": "S1A-SLC-20241207T170733-249433-IW2-VV-457860",
         "OperationalMode": "IW",
         "OrbitDirection": "ASCENDING",
         "ParentProductId": "78d0c354-dff1-4749-a147-0177dca0e45a",
         "ParentProductName": "S1A_IW_SLC__1SDV_20241207T170719_20241207T170746_056889_06FC84_9C13.SAFE",
         "ParentProductType": "IW_SLC__1S",
         "PlatformSerialIdentifier": "A",
         "PolarisationChannels": "VV",
         "RelativeOrbitNumber": 117,
         "S3Path": "/eodata/Sentinel-1/SAR/IW_SLC__1S/2024/12/07/S1A_IW_SLC__1SDV_20241207T170719_20241207T170746_056889_06FC84_9C13.SAFE/measurement/s1a-iw2-slc-vv-20241207t170721-20241207t170746-056889-06fc84-005.tiff",
         "SamplesPerBurst": 26484,
         "SwathIdentifier": "IW2"
        },
        {
         "@odata.mediaContentType": "application/octet-stream",
         "AbsoluteBurstId": 122191595,
         "AzimuthAnxTime": 756.1653578838999,
         "AzimuthTime": "2024-12-07T17:07:35.025894Z",
         "BeginningDateTime": "2024-12-07T17:07:36.030791Z",
         "BurstId": 249434,
         "ByteOffset": 800985339,
         "ContentDate": {
          "End": "2024-12-07T17:07:37.072381Z",
          "Start": "2024-12-07T17:07:36.030791Z"
         },
         "ContentType": "application/octet-stream",
         "DatatakeID": 457860,
         "EndingDateTime": "2024-12-07T17:07:37.072381Z",
         "Footprint": "geography'SRID=4326;POLYGON ((10.760624 46.441904, 11.360345 46.513254, 11.927424 46.577547, 11.880394 46.76981, 11.312324 46.701311, 10.711586 46.625741, 10.760624 46.441904))'",
         "GeoFootprint": {
          "coordinates": [
           [
            [
             10.760624,
             46.441904
            ],
            [
             11.360345,
             46.513254
            ],
            [
             11.927424,
             46.577547
            ],
            [
             11.880394,
             46.76981
            ],
            [
             11.312324,
             46.701311
            ],
            [
             10.711586,
             46.625741
            ],
            [
             10.760624,
             46.441904
            ]
           ]
          ],
          "type": "Polygon"
         },
         "Id": "0016b90c-ed87-4285-b547-136af5031d00",
         "Lines": 7560,
         "LinesPerBurst": 1512,
         "Name": "S1A-SLC-20241207T170736-249434-IW2-VV-457860",
         "OperationalMode": "IW",
         "OrbitDirection": "ASCENDING",
         "ParentProductId": "78d0c354-dff1-4749-a147-0177dca0e45a",
         "ParentProductName": "S1A_IW_SLC__1SDV_20241207T170719_20241207T170746_056889_06FC84_9C13.SAFE",
         "ParentProductType": "IW_SLC__1S",
         "PlatformSerialIdentifier": "A",
         "PolarisationChannels": "VV",
         "RelativeOrbitNumber": 117,
         "S3Path": "/eodata/Sentinel-1/SAR/IW_SLC__1S/2024/12/07/S1A_IW_SLC__1SDV_20241207T170719_20241207T170746_056889_06FC84_9C13.SAFE/measurement/s1a-iw2-slc-vv-20241207t170721-20241207t170746-056889-06fc84-005.tiff",
         "SamplesPerBurst": 26484,
         "SwathIdentifier": "IW2"
        },
        {
         "@odata.mediaContentType": "application/octet-stream",
         "AbsoluteBurstId": 122191596,
         "AzimuthAnxTime": 758.9198033258999,
         "AzimuthTime": "2024-12-07T17:07:37.780339Z",
         "BeginningDateTime": "2024-12-07T17:07:38.789068Z",
         "BurstId": 249435,
         "ByteOffset": 961160571,
         "ContentDate": {
          "End": "2024-12-07T17:07:39.830658Z",
          "Start": "2024-12-07T17:07:38.789068Z"
         },
         "ContentType": "application/octet-stream",
         "DatatakeID": 457860,
         "EndingDateTime": "2024-12-07T17:07:39.830658Z",
         "Footprint": "geography'SRID=4326;POLYGON ((10.716537 46.607214, 11.318136 46.678586, 11.886991 46.742882, 11.839823 46.935138, 11.269963 46.866635, 10.667332 46.791043, 10.716537 46.607214))'",
         "GeoFootprint": {
          "coordinates": [
           [
            [
             10.716537,
             46.607214
            ],
            [
             11.318136,
             46.678586
            ],
            [
             11.886991,
             46.742882
            ],
            [
             11.839823,
             46.935138
            ],
            [
             11.269963,
             46.866635
            ],
            [
             10.667332,
             46.791043
            ],
            [
             10.716537,
             46.607214
            ]
           ]
          ],
          "type": "Polygon"
         },
         "Id": "879e4b91-e5e4-45c3-8158-4177089c69e3",
         "Lines": 9072,
         "LinesPerBurst": 1512,
         "Name": "S1A-SLC-20241207T170738-249435-IW2-VV-457860",
         "OperationalMode": "IW",
         "OrbitDirection": "ASCENDING",
         "ParentProductId": "78d0c354-dff1-4749-a147-0177dca0e45a",
         "ParentProductName": "S1A_IW_SLC__1SDV_20241207T170719_20241207T170746_056889_06FC84_9C13.SAFE",
         "ParentProductType": "IW_SLC__1S",
         "PlatformSerialIdentifier": "A",
         "PolarisationChannels": "VV",
         "RelativeOrbitNumber": 117,
         "S3Path": "/eodata/Sentinel-1/SAR/IW_SLC__1S/2024/12/07/S1A_IW_SLC__1SDV_20241207T170719_20241207T170746_056889_06FC84_9C13.SAFE/measurement/s1a-iw2-slc-vv-20241207t170721-20241207t170746-056889-06fc84-005.tiff",
         "SamplesPerBurst": 26484,
         "SwathIdentifier": "IW2"
        },
        {
         "@odata.mediaContentType": "application/octet-stream",
         "AbsoluteBurstId": 122301661,
         "AzimuthAnxTime": 2195.0562088788,
         "AzimuthTime": "2024-12-11T05:27:26.832805Z",
         "BeginningDateTime": "2024-12-11T05:27:27.851677Z",
         "BurstId": 359500,
         "ByteOffset": 1300130643,
         "ContentDate": {
          "End": "2024-12-11T05:27:28.898089Z",
          "Start": "2024-12-11T05:27:27.851677Z"
         },
         "ContentType": "application/octet-stream",
         "DatatakeID": 458373,
         "EndingDateTime": "2024-12-11T05:27:28.898089Z",
         "Footprint": "geography'SRID=4326;POLYGON ((11.255174 46.829271, 10.652277 46.904859, 10.082173 46.973353, 10.034966 46.781093, 10.604062 46.716804, 11.205925 46.645435, 11.255174 46.829271))'",
         "GeoFootprint": {
          "coordinates": [
           [
            [
             11.255174,
             46.829271
            ],
            [
             10.652277,
             46.904859
            ],
            [
             10.082173,
             46.973353
            ],
            [
             10.034966,
             46.781093
            ],
            [
             10.604062,
             46.716804
            ],
            [
             11.205925,
             46.645435
            ],
            [
             11.255174,
             46.829271
            ]
           ]
          ],
          "type": "Polygon"
         },
         "Id": "1b7ddfb9-ef3c-4bc4-ac79-14dc3aea345d",
         "Lines": 12152,
         "LinesPerBurst": 1519,
         "Name": "S1A-SLC-20241211T052727-359500-IW2-VV-458373",
         "OperationalMode": "IW",
         "OrbitDirection": "DESCENDING",
         "ParentProductId": "afc3389e-b4cf-499f-b29f-96b433f502c3",
         "ParentProductName": "S1A_IW_SLC__1SDV_20241211T052704_20241211T052731_056940_06FE85_F992.SAFE",
         "ParentProductType": "IW_SLC__1S",
         "PlatformSerialIdentifier": "A",
         "PolarisationChannels": "VV",
         "RelativeOrbitNumber": 168,
         "S3Path": "/eodata/Sentinel-1/SAR/IW_SLC__1S/2024/12/11/S1A_IW_SLC__1SDV_20241211T052704_20241211T052731_056940_06FE85_F992.SAFE/measurement/s1a-iw2-slc-vv-20241211t052704-20241211t052729-056940-06fe85-005.tiff",
         "SamplesPerBurst": 26745,
         "SwathIdentifier": "IW2"
        },
        {
         "@odata.mediaContentType": "application/octet-stream",
         "AbsoluteBurstId": 122301661,
         "AzimuthAnxTime": 2196.8733209897,
         "AzimuthTime": "2024-12-11T05:27:28.649917Z",
         "BeginningDateTime": "2024-12-11T05:27:29.777751Z",
         "BurstId": 359501,
         "ByteOffset": 1109514331,
         "ContentDate": {
          "End": "2024-12-11T05:27:30.655961Z",
          "Start": "2024-12-11T05:27:29.777751Z"
         },
         "ContentType": "application/octet-stream",
         "DatatakeID": 458373,
         "EndingDateTime": "2024-12-11T05:27:30.655961Z",
         "Footprint": "geography'SRID=4326;POLYGON ((12.306189 46.586499, 11.729773 46.66502, 11.194249 46.735345, 11.139994 46.531867, 11.674696 46.466093, 12.250223 46.392142, 12.306189 46.586499))'",
         "GeoFootprint": {
          "coordinates": [
           [
            [
             12.306189,
             46.586499
            ],
            [
             11.729773,
             46.66502
            ],
            [
             11.194249,
             46.735345
            ],
            [
             11.139994,
             46.531867
            ],
            [
             11.674696,
             46.466093
            ],
            [
             12.250223,
             46.392142
            ],
            [
             12.306189,
             46.586499
            ]
           ]
          ],
          "type": "Polygon"
         },
         "Id": "60ece94b-d5f7-4600-85f0-c15810d114b6",
         "Lines": 12064,
         "LinesPerBurst": 1508,
         "Name": "S1A-SLC-20241211T052729-359501-IW1-VV-458373",
         "OperationalMode": "IW",
         "OrbitDirection": "DESCENDING",
         "ParentProductId": "afc3389e-b4cf-499f-b29f-96b433f502c3",
         "ParentProductName": "S1A_IW_SLC__1SDV_20241211T052704_20241211T052731_056940_06FE85_F992.SAFE",
         "ParentProductType": "IW_SLC__1S",
         "PlatformSerialIdentifier": "A",
         "PolarisationChannels": "VV",
         "RelativeOrbitNumber": 168,
         "S3Path": "/eodata/Sentinel-1/SAR/IW_SLC__1S/2024/12/11/S1A_IW_SLC__1SDV_20241211T052704_20241211T052731_056940_06FE85_F992.SAFE/measurement/s1a-iw1-slc-vv-20241211t052706-20241211t052731-056940-06fe85-004.tiff",
         "SamplesPerBurst": 22990,
         "SwathIdentifier": "IW1"
        },
        {
         "@odata.mediaContentType": "application/octet-stream",
         "AbsoluteBurstId": 122301662,
         "AzimuthAnxTime": 2197.8168211109,
         "AzimuthTime": "2024-12-11T05:27:29.593417Z",
         "BeginningDateTime": "2024-12-11T05:27:30.609953Z",
         "BurstId": 359501,
         "ByteOffset": 109683,
         "ContentDate": {
          "End": "2024-12-11T05:27:31.656365Z",
          "Start": "2024-12-11T05:27:30.609953Z"
         },
         "ContentType": "application/octet-stream",
         "DatatakeID": 458373,
         "EndingDateTime": "2024-12-11T05:27:31.656365Z",
         "Footprint": "geography'SRID=4326;POLYGON ((11.210885 46.663981, 10.609883 46.739546, 10.041572 46.808037, 9.994503 46.61577, 10.56182 46.551482, 11.161802 46.480136, 11.210885 46.663981))'",
         "GeoFootprint": {
          "coordinates": [
           [
            [
             11.210885,
             46.663981
            ],
            [
             10.609883,
             46.739546
            ],
            [
             10.041572,
             46.808037
            ],
            [
             9.994503,
             46.61577
            ],
            [
             10.56182,
             46.551482
            ],
            [
             11.161802,
             46.480136
            ],
            [
             11.210885,
             46.663981
            ]
           ]
          ],
          "type": "Polygon"
         },
         "Id": "366574f9-ecbe-43aa-9281-d6dd78b0c73f",
         "Lines": 0,
         "LinesPerBurst": 1519,
         "Name": "S1A-SLC-20241211T052730-359501-IW2-VV-458373",
         "OperationalMode": "IW",
         "OrbitDirection": "DESCENDING",
         "ParentProductId": "bdc6b0ff-905d-4ed2-a956-595d6f56d2d9",
         "ParentProductName": "S1A_IW_SLC__1SDV_20241211T052729_20241211T052756_056940_06FE85_F2C2.SAFE",
         "ParentProductType": "IW_SLC__1S",
         "PlatformSerialIdentifier": "A",
         "PolarisationChannels": "VV",
         "RelativeOrbitNumber": 168,
         "S3Path": "/eodata/Sentinel-1/SAR/IW_SLC__1S/2024/12/11/S1A_IW_SLC__1SDV_20241211T052729_20241211T052756_056940_06FE85_F2C2.SAFE/measurement/s1a-iw2-slc-vv-20241211t052729-20241211t052754-056940-06fe85-005.tiff",
         "SamplesPerBurst": 26745,
         "SwathIdentifier": "IW2"
        },
        {
         "@odata.mediaContentType": "application/octet-stream",
         "AbsoluteBurstId": 122301662,
         "AzimuthAnxTime": 2199.6318781092,
         "AzimuthTime": "2024-12-11T05:27:31.408474Z",
         "BeginningDateTime": "2024-12-11T05:27:32.536027Z",
         "BurstId": 359502,
         "ByteOffset": 108891,
         "ContentDate": {
          "End": "2024-12-11T05:27:33.414237Z",
          "Start": "2024-12-11T05:27:32.536027Z"
         },
         "ContentType": "application/octet-stream",
         "DatatakeID": 458373,
         "EndingDateTime": "2024-12-11T05:27:33.414237Z",
         "Footprint": "geography'SRID=4326;POLYGON ((12.258601 46.421295, 11.684 46.499758, 11.150156 46.570046, 11.096085 46.366558, 11.629119 46.30082, 12.202845 46.226925, 12.258601 46.421295))'",
         "GeoFootprint": {
          "coordinates": [
           [
            [
             12.258601,
             46.421295
            ],
            [
             11.684,
             46.499758
            ],
            [
             11.150156,
             46.570046
            ],
            [
             11.096085,
             46.366558
            ],
            [
             11.629119,
             46.30082
            ],
            [
             12.202845,
             46.226925
            ],
            [
             12.258601,
             46.421295
            ]
           ]
          ],
          "type": "Polygon"
         },
         "Id": "3ce4e3f6-9618-4e20-be5d-6ef39c1977d5",
         "Lines": 0,
         "LinesPerBurst": 1508,
         "Name": "S1A-SLC-20241211T052732-359502-IW1-VV-458373",
         "OperationalMode": "IW",
         "OrbitDirection": "DESCENDING",
         "ParentProductId": "bdc6b0ff-905d-4ed2-a956-595d6f56d2d9",
         "ParentProductName": "S1A_IW_SLC__1SDV_20241211T052729_20241211T052756_056940_06FE85_F2C2.SAFE",
         "ParentProductType": "IW_SLC__1S",
         "PlatformSerialIdentifier": "A",
         "PolarisationChannels": "VV",
         "RelativeOrbitNumber": 168,
         "S3Path": "/eodata/Sentinel-1/SAR/IW_SLC__1S/2024/12/11/S1A_IW_SLC__1SDV_20241211T052729_20241211T052756_056940_06FE85_F2C2.SAFE/measurement/s1a-iw1-slc-vv-20241211t052731-20241211t052756-056940-06fe85-004.tiff",
         "SamplesPerBurst": 22990,
         "SwathIdentifier": "IW1"
        },
        {
         "@odata.mediaContentType": "application/octet-stream",
         "AbsoluteBurstId": 122301663,
         "AzimuthAnxTime": 2200.5733221092,
         "AzimuthTime": "2024-12-11T05:27:32.349918Z",
         "BeginningDateTime": "2024-12-11T05:27:33.368230Z",
         "BurstId": 359502,
         "ByteOffset": 162612303,
         "ContentDate": {
          "End": "2024-12-11T05:27:34.414642Z",
          "Start": "2024-12-11T05:27:33.368230Z"
         },
         "ContentType": "application/octet-stream",
         "DatatakeID": 458373,
         "EndingDateTime": "2024-12-11T05:27:34.414642Z",
         "Footprint": "geography'SRID=4326;POLYGON ((11.166745 46.49868, 10.567623 46.574222, 10.001088 46.64271, 9.954156 46.450436, 10.519711 46.386151, 11.117828 46.314825, 11.166745 46.49868))'",
         "GeoFootprint": {
          "coordinates": [
           [
            [
             11.166745,
             46.49868
            ],
            [
             10.567623,
             46.574222
            ],
            [
             10.001088,
             46.64271
            ],
            [
             9.954156,
             46.450436
            ],
            [
             10.519711,
             46.386151
            ],
            [
             11.117828,
             46.314825
            ],
            [
             11.166745,
             46.49868
            ]
           ]
          ],
          "type": "Polygon"
         },
         "Id": "f871f006-2b4e-48b8-a137-50c6ee44ffd7",
         "Lines": 1519,
         "LinesPerBurst": 1519,
         "Name": "S1A-SLC-20241211T052733-359502-IW2-VV-458373",
         "OperationalMode": "IW",
         "OrbitDirection": "DESCENDING",
         "ParentProductId": "bdc6b0ff-905d-4ed2-a956-595d6f56d2d9",
         "ParentProductName": "S1A_IW_SLC__1SDV_20241211T052729_20241211T052756_056940_06FE85_F2C2.SAFE",
         "ParentProductType": "IW_SLC__1S",
         "PlatformSerialIdentifier": "A",
         "PolarisationChannels": "VV",
         "RelativeOrbitNumber": 168,
         "S3Path": "/eodata/Sentinel-1/SAR/IW_SLC__1S/2024/12/11/S1A_IW_SLC__1SDV_20241211T052729_20241211T052756_056940_06FE85_F2C2.SAFE/measurement/s1a-iw2-slc-vv-20241211t052729-20241211t052754-056940-06fe85-005.tiff",
         "SamplesPerBurst": 26745,
         "SwathIdentifier": "IW2"
        },
        {
         "@odata.mediaContentType": "application/octet-stream",
         "AbsoluteBurstId": 122301663,
         "AzimuthAnxTime": 2202.3904346638,
         "AzimuthTime": "2024-12-11T05:27:34.167031Z",
         "BeginningDateTime": "2024-12-11T05:27:35.294304Z",
         "BurstId": 359503,
         "ByteOffset": 138784571,
         "ContentDate": {
          "End": "2024-12-11T05:27:36.172514Z",
          "Start": "2024-12-11T05:27:35.294304Z"
         },
         "ContentType": "application/octet-stream",
         "DatatakeID": 458373,
         "EndingDateTime": "2024-12-11T05:27:36.172514Z",
         "Footprint": "geography'SRID=4326;POLYGON ((12.211191 46.256077, 11.638389 46.334483, 11.106212 46.404736, 11.052321 46.201238, 11.583702 46.135533, 12.155641 46.061695, 12.211191 46.256077))'",
         "GeoFootprint": {
          "coordinates": [
           [
            [
             12.211191,
             46.256077
            ],
            [
             11.638389,
             46.334483
            ],
            [
             11.106212,
             46.404736
            ],
            [
             11.052321,
             46.201238
            ],
            [
             11.583702,
             46.135533
            ],
            [
             12.155641,
             46.061695
            ],
            [
             12.211191,
             46.256077
            ]
           ]
          ],
          "type": "Polygon"
         },
         "Id": "7c5a76c1-1970-4fd8-91c2-6f5837a691c1",
         "Lines": 1508,
         "LinesPerBurst": 1508,
         "Name": "S1A-SLC-20241211T052735-359503-IW1-VV-458373",
         "OperationalMode": "IW",
         "OrbitDirection": "DESCENDING",
         "ParentProductId": "bdc6b0ff-905d-4ed2-a956-595d6f56d2d9",
         "ParentProductName": "S1A_IW_SLC__1SDV_20241211T052729_20241211T052756_056940_06FE85_F2C2.SAFE",
         "ParentProductType": "IW_SLC__1S",
         "PlatformSerialIdentifier": "A",
         "PolarisationChannels": "VV",
         "RelativeOrbitNumber": 168,
         "S3Path": "/eodata/Sentinel-1/SAR/IW_SLC__1S/2024/12/11/S1A_IW_SLC__1SDV_20241211T052729_20241211T052756_056940_06FE85_F2C2.SAFE/measurement/s1a-iw1-slc-vv-20241211t052731-20241211t052756-056940-06fe85-004.tiff",
         "SamplesPerBurst": 22990,
         "SwathIdentifier": "IW1"
        },
        {
         "@odata.mediaContentType": "application/octet-stream",
         "AbsoluteBurstId": 122520751,
         "AzimuthAnxTime": 2200.7965835477,
         "AzimuthTime": "2024-12-18T05:19:17.715084Z",
         "BeginningDateTime": "2024-12-18T05:19:18.852046Z",
         "BurstId": 202703,
         "ByteOffset": 1256856515,
         "ContentDate": {
          "End": "2024-12-18T05:19:19.756652Z",
          "Start": "2024-12-18T05:19:18.852046Z"
         },
         "ContentType": "application/octet-stream",
         "DatatakeID": 459422,
         "EndingDateTime": "2024-12-18T05:19:19.756652Z",
         "Footprint": "geography'SRID=4326;POLYGON ((12.089482 46.634916, 11.563369 46.69639, 11.056374 46.753309, 11.010245 46.548522, 11.516373 46.496209, 12.041638 46.439349, 12.089482 46.634916))'",
         "GeoFootprint": {
          "coordinates": [
           [
            [
             12.089482,
             46.634916
            ],
            [
             11.563369,
             46.69639
            ],
            [
             11.056374,
             46.753309
            ],
            [
             11.010245,
             46.548522
            ],
            [
             11.516373,
             46.496209
            ],
            [
             12.041638,
             46.439349
            ],
            [
             12.089482,
             46.634916
            ]
           ]
          ],
          "type": "Polygon"
         },
         "Id": "b1f9e84d-8fbd-4cec-994e-8cc161e2dbac",
         "Lines": 12200,
         "LinesPerBurst": 1525,
         "Name": "S1A-SLC-20241218T051918-202703-IW3-VV-459422",
         "OperationalMode": "IW",
         "OrbitDirection": "DESCENDING",
         "ParentProductId": "ee96f87b-c3aa-4525-9a92-987ea9ea52e5",
         "ParentProductName": "S1A_IW_SLC__1SDV_20241218T051854_20241218T051921_057042_07029E_A70C.SAFE",
         "ParentProductType": "IW_SLC__1S",
         "PlatformSerialIdentifier": "A",
         "PolarisationChannels": "VV",
         "RelativeOrbitNumber": 95,
         "S3Path": "/eodata/Sentinel-1/SAR/IW_SLC__1S/2024/12/18/S1A_IW_SLC__1SDV_20241218T051854_20241218T051921_057042_07029E_A70C.SAFE/measurement/s1a-iw3-slc-vv-20241218t051855-20241218t051920-057042-07029e-006.tiff",
         "SamplesPerBurst": 25753,
         "SwathIdentifier": "IW3"
        },
        {
         "@odata.mediaContentType": "application/octet-stream",
         "AbsoluteBurstId": 122520752,
         "AzimuthAnxTime": 2203.5530839983,
         "AzimuthTime": "2024-12-18T05:19:20.471584Z",
         "BeginningDateTime": "2024-12-18T05:19:21.610322Z",
         "BurstId": 202704,
         "ByteOffset": 110115,
         "ContentDate": {
          "End": "2024-12-18T05:19:22.514928Z",
          "Start": "2024-12-18T05:19:21.610322Z"
         },
         "ContentType": "application/octet-stream",
         "DatatakeID": 459422,
         "EndingDateTime": "2024-12-18T05:19:22.514928Z",
         "Footprint": "geography'SRID=4326;POLYGON ((12.049022 46.469577, 11.524545 46.531064, 11.019128 46.588009, 10.97311 46.383218, 11.477674 46.330878, 12.001315 46.274004, 12.049022 46.469577))'",
         "GeoFootprint": {
          "coordinates": [
           [
            [
             12.049022,
             46.469577
            ],
            [
             11.524545,
             46.531064
            ],
            [
             11.019128,
             46.588009
            ],
            [
             10.97311,
             46.383218
            ],
            [
             11.477674,
             46.330878
            ],
            [
             12.001315,
             46.274004
            ],
            [
             12.049022,
             46.469577
            ]
           ]
          ],
          "type": "Polygon"
         },
         "Id": "1f58b03e-1292-476a-8f31-8e539a532040",
         "Lines": 0,
         "LinesPerBurst": 1525,
         "Name": "S1A-SLC-20241218T051921-202704-IW3-VV-459422",
         "OperationalMode": "IW",
         "OrbitDirection": "DESCENDING",
         "ParentProductId": "6a4144e2-5faa-4b86-b21a-7207629d5b90",
         "ParentProductName": "S1A_IW_SLC__1SDV_20241218T051919_20241218T051946_057042_07029E_8F59.SAFE",
         "ParentProductType": "IW_SLC__1S",
         "PlatformSerialIdentifier": "A",
         "PolarisationChannels": "VV",
         "RelativeOrbitNumber": 95,
         "S3Path": "/eodata/Sentinel-1/SAR/IW_SLC__1S/2024/12/18/S1A_IW_SLC__1SDV_20241218T051919_20241218T051946_057042_07029E_8F59.SAFE/measurement/s1a-iw3-slc-vv-20241218t051920-20241218t051945-057042-07029e-006.tiff",
         "SamplesPerBurst": 25753,
         "SwathIdentifier": "IW3"
        },
        {
         "@odata.mediaContentType": "application/octet-stream",
         "AbsoluteBurstId": 122520753,
         "AzimuthAnxTime": 2206.3116405529,
         "AzimuthTime": "2024-12-18T05:19:23.230141Z",
         "BeginningDateTime": "2024-12-18T05:19:24.368599Z",
         "BurstId": 202705,
         "ByteOffset": 157203415,
         "ContentDate": {
          "End": "2024-12-18T05:19:25.273205Z",
          "Start": "2024-12-18T05:19:24.368599Z"
         },
         "ContentType": "application/octet-stream",
         "DatatakeID": 459422,
         "EndingDateTime": "2024-12-18T05:19:25.273205Z",
         "Footprint": "geography'SRID=4326;POLYGON ((12.01207 46.303822, 11.488229 46.365451, 10.983475 46.422535, 10.937562 46.217752, 11.441477 46.165281, 11.964495 46.108271, 12.01207 46.303822))'",
         "GeoFootprint": {
          "coordinates": [
           [
            [
             12.01207,
             46.303822
            ],
            [
             11.488229,
             46.365451
            ],
            [
             10.983475,
             46.422535
            ],
            [
             10.937562,
             46.217752
            ],
            [
             11.441477,
             46.165281
            ],
            [
             11.964495,
             46.108271
            ],
            [
             12.01207,
             46.303822
            ]
           ]
          ],
          "type": "Polygon"
         },
         "Id": "416be840-d6fa-4cf8-a921-e7e0d8a1703e",
         "Lines": 1525,
         "LinesPerBurst": 1525,
         "Name": "S1A-SLC-20241218T051924-202705-IW3-VV-459422",
         "OperationalMode": "IW",
         "OrbitDirection": "DESCENDING",
         "ParentProductId": "6a4144e2-5faa-4b86-b21a-7207629d5b90",
         "ParentProductName": "S1A_IW_SLC__1SDV_20241218T051919_20241218T051946_057042_07029E_8F59.SAFE",
         "ParentProductType": "IW_SLC__1S",
         "PlatformSerialIdentifier": "A",
         "PolarisationChannels": "VV",
         "RelativeOrbitNumber": 95,
         "S3Path": "/eodata/Sentinel-1/SAR/IW_SLC__1S/2024/12/18/S1A_IW_SLC__1SDV_20241218T051919_20241218T051946_057042_07029E_8F59.SAFE/measurement/s1a-iw3-slc-vv-20241218t051920-20241218t051945-057042-07029e-006.tiff",
         "SamplesPerBurst": 25753,
         "SwathIdentifier": "IW3"
        },
        {
         "@odata.mediaContentType": "application/octet-stream",
         "AbsoluteBurstId": 122567481,
         "AzimuthAnxTime": 753.403034773,
         "AzimuthTime": "2024-12-19T17:07:31.027922Z",
         "BeginningDateTime": "2024-12-19T17:07:32.037208Z",
         "BurstId": 249433,
         "ByteOffset": 640810107,
         "ContentDate": {
          "End": "2024-12-19T17:07:33.078798Z",
          "Start": "2024-12-19T17:07:32.037208Z"
         },
         "ContentType": "application/octet-stream",
         "DatatakeID": 459655,
         "EndingDateTime": "2024-12-19T17:07:33.078798Z",
         "Footprint": "geography'SRID=4326;POLYGON ((10.804564 46.276581, 11.402422 46.34791, 11.967742 46.412202, 11.920848 46.604472, 11.354552 46.535976, 10.755691 46.460429, 10.804564 46.276581))'",
         "GeoFootprint": {
          "coordinates": [
           [
            [
             10.804564,
             46.276581
            ],
            [
             11.402422,
             46.34791
            ],
            [
             11.967742,
             46.412202
            ],
            [
             11.920848,
             46.604472
            ],
            [
             11.354552,
             46.535976
            ],
            [
             10.755691,
             46.460429
            ],
            [
             10.804564,
             46.276581
            ]
           ]
          ],
          "type": "Polygon"
         },
         "Id": "2cee03c1-58f2-4b36-877a-e0b8b1636a11",
         "Lines": 6048,
         "LinesPerBurst": 1512,
         "Name": "S1A-SLC-20241219T170732-249433-IW2-VV-459655",
         "OperationalMode": "IW",
         "OrbitDirection": "ASCENDING",
         "ParentProductId": "91b7050b-ebba-4f8b-8517-be5511557c66",
         "ParentProductName": "S1A_IW_SLC__1SDV_20241219T170718_20241219T170745_057064_070387_3CFE.SAFE",
         "ParentProductType": "IW_SLC__1S",
         "PlatformSerialIdentifier": "A",
         "PolarisationChannels": "VV",
         "RelativeOrbitNumber": 117,
         "S3Path": "/eodata/Sentinel-1/SAR/IW_SLC__1S/2024/12/19/S1A_IW_SLC__1SDV_20241219T170718_20241219T170745_057064_070387_3CFE.SAFE/measurement/s1a-iw2-slc-vv-20241219t170719-20241219t170745-057064-070387-005.tiff",
         "SamplesPerBurst": 26484,
         "SwathIdentifier": "IW2"
        },
        {
         "@odata.mediaContentType": "application/octet-stream",
         "AbsoluteBurstId": 122567482,
         "AzimuthAnxTime": 756.1615913275999,
         "AzimuthTime": "2024-12-19T17:07:33.786478Z",
         "BeginningDateTime": "2024-12-19T17:07:34.795485Z",
         "BurstId": 249434,
         "ByteOffset": 800985339,
         "ContentDate": {
          "End": "2024-12-19T17:07:35.837075Z",
          "Start": "2024-12-19T17:07:34.795485Z"
         },
         "ContentType": "application/octet-stream",
         "DatatakeID": 459655,
         "EndingDateTime": "2024-12-19T17:07:35.837075Z",
         "Footprint": "geography'SRID=4326;POLYGON ((10.760624 46.441904, 11.360345 46.513254, 11.927424 46.577547, 11.880394 46.76981, 11.312324 46.701311, 10.711586 46.625741, 10.760624 46.441904))'",
         "GeoFootprint": {
          "coordinates": [
           [
            [
             10.760624,
             46.441904
            ],
            [
             11.360345,
             46.513254
            ],
            [
             11.927424,
             46.577547
            ],
            [
             11.880394,
             46.76981
            ],
            [
             11.312324,
             46.701311
            ],
            [
             10.711586,
             46.625741
            ],
            [
             10.760624,
             46.441904
            ]
           ]
          ],
          "type": "Polygon"
         },
         "Id": "0fafd3f2-8e1c-48c4-a890-923ea12ffbd3",
         "Lines": 7560,
         "LinesPerBurst": 1512,
         "Name": "S1A-SLC-20241219T170734-249434-IW2-VV-459655",
         "OperationalMode": "IW",
         "OrbitDirection": "ASCENDING",
         "ParentProductId": "91b7050b-ebba-4f8b-8517-be5511557c66",
         "ParentProductName": "S1A_IW_SLC__1SDV_20241219T170718_20241219T170745_057064_070387_3CFE.SAFE",
         "ParentProductType": "IW_SLC__1S",
         "PlatformSerialIdentifier": "A",
         "PolarisationChannels": "VV",
         "RelativeOrbitNumber": 117,
         "S3Path": "/eodata/Sentinel-1/SAR/IW_SLC__1S/2024/12/19/S1A_IW_SLC__1SDV_20241219T170718_20241219T170745_057064_070387_3CFE.SAFE/measurement/s1a-iw2-slc-vv-20241219t170719-20241219t170745-057064-070387-005.tiff",
         "SamplesPerBurst": 26484,
         "SwathIdentifier": "IW2"
        },
        {
         "@odata.mediaContentType": "application/octet-stream",
         "AbsoluteBurstId": 122567483,
         "AzimuthAnxTime": 758.9160367695999,
         "AzimuthTime": "2024-12-19T17:07:36.540924Z",
         "BeginningDateTime": "2024-12-19T17:07:37.553762Z",
         "BurstId": 249435,
         "ByteOffset": 961160571,
         "ContentDate": {
          "End": "2024-12-19T17:07:38.595352Z",
          "Start": "2024-12-19T17:07:37.553762Z"
         },
         "ContentType": "application/octet-stream",
         "DatatakeID": 459655,
         "EndingDateTime": "2024-12-19T17:07:38.595352Z",
         "Footprint": "geography'SRID=4326;POLYGON ((10.716537 46.607214, 11.318136 46.678586, 11.886991 46.742882, 11.839823 46.935138, 11.269963 46.866635, 10.667332 46.791043, 10.716537 46.607214))'",
         "GeoFootprint": {
          "coordinates": [
           [
            [
             10.716537,
             46.607214
            ],
            [
             11.318136,
             46.678586
            ],
            [
             11.886991,
             46.742882
            ],
            [
             11.839823,
             46.935138
            ],
            [
             11.269963,
             46.866635
            ],
            [
             10.667332,
             46.791043
            ],
            [
             10.716537,
             46.607214
            ]
           ]
          ],
          "type": "Polygon"
         },
         "Id": "1d30474e-0b2f-47b7-a5c4-f6dc520eb3ba",
         "Lines": 9072,
         "LinesPerBurst": 1512,
         "Name": "S1A-SLC-20241219T170737-249435-IW2-VV-459655",
         "OperationalMode": "IW",
         "OrbitDirection": "ASCENDING",
         "ParentProductId": "91b7050b-ebba-4f8b-8517-be5511557c66",
         "ParentProductName": "S1A_IW_SLC__1SDV_20241219T170718_20241219T170745_057064_070387_3CFE.SAFE",
         "ParentProductType": "IW_SLC__1S",
         "PlatformSerialIdentifier": "A",
         "PolarisationChannels": "VV",
         "RelativeOrbitNumber": 117,
         "S3Path": "/eodata/Sentinel-1/SAR/IW_SLC__1S/2024/12/19/S1A_IW_SLC__1SDV_20241219T170718_20241219T170745_057064_070387_3CFE.SAFE/measurement/s1a-iw2-slc-vv-20241219t170719-20241219t170745-057064-070387-005.tiff",
         "SamplesPerBurst": 26484,
         "SwathIdentifier": "IW2"
        },
        {
         "@odata.mediaContentType": "application/octet-stream",
         "AbsoluteBurstId": 122677548,
         "AzimuthAnxTime": 2195.0573818788,
         "AzimuthTime": "2024-12-23T05:27:25.625374Z",
         "BeginningDateTime": "2024-12-23T05:27:26.642189Z",
         "BurstId": 359500,
         "ByteOffset": 1300130643,
         "ContentDate": {
          "End": "2024-12-23T05:27:27.688601Z",
          "Start": "2024-12-23T05:27:26.642189Z"
         },
         "ContentType": "application/octet-stream",
         "DatatakeID": 460176,
         "EndingDateTime": "2024-12-23T05:27:27.688601Z",
         "Footprint": "geography'SRID=4326;POLYGON ((11.255174 46.829271, 10.652277 46.904859, 10.082173 46.973353, 10.034966 46.781093, 10.604062 46.716804, 11.205925 46.645435, 11.255174 46.829271))'",
         "GeoFootprint": {
          "coordinates": [
           [
            [
             11.255174,
             46.829271
            ],
            [
             10.652277,
             46.904859
            ],
            [
             10.082173,
             46.973353
            ],
            [
             10.034966,
             46.781093
            ],
            [
             10.604062,
             46.716804
            ],
            [
             11.205925,
             46.645435
            ],
            [
             11.255174,
             46.829271
            ]
           ]
          ],
          "type": "Polygon"
         },
         "Id": "c1dcda7d-16db-4b94-8421-824a60343fae",
         "Lines": 12152,
         "LinesPerBurst": 1519,
         "Name": "S1A-SLC-20241223T052726-359500-IW2-VV-460176",
         "OperationalMode": "IW",
         "OrbitDirection": "DESCENDING",
         "ParentProductId": "09931144-fffb-4f7a-be88-9fa29b521bba",
         "ParentProductName": "S1A_IW_SLC__1SDV_20241223T052703_20241223T052730_057115_070590_A05E.SAFE",
         "ParentProductType": "IW_SLC__1S",
         "PlatformSerialIdentifier": "A",
         "PolarisationChannels": "VV",
         "RelativeOrbitNumber": 168,
         "S3Path": "/eodata/Sentinel-1/SAR/IW_SLC__1S/2024/12/23/S1A_IW_SLC__1SDV_20241223T052703_20241223T052730_057115_070590_A05E.SAFE/measurement/s1a-iw2-slc-vv-20241223t052703-20241223t052728-057115-070590-005.tiff",
         "SamplesPerBurst": 26745,
         "SwathIdentifier": "IW2"
        },
        {
         "@odata.mediaContentType": "application/octet-stream",
         "AbsoluteBurstId": 122677549,
         "AzimuthAnxTime": 2196.8744934334,
         "AzimuthTime": "2024-12-23T05:27:27.442485Z",
         "BeginningDateTime": "2024-12-23T05:27:28.568263Z",
         "BurstId": 359501,
         "ByteOffset": 1109514331,
         "ContentDate": {
          "End": "2024-12-23T05:27:29.446473Z",
          "Start": "2024-12-23T05:27:28.568263Z"
         },
         "ContentType": "application/octet-stream",
         "DatatakeID": 460176,
         "EndingDateTime": "2024-12-23T05:27:29.446473Z",
         "Footprint": "geography'SRID=4326;POLYGON ((12.306189 46.586499, 11.729773 46.66502, 11.194249 46.735345, 11.139994 46.531867, 11.674696 46.466093, 12.250223 46.392142, 12.306189 46.586499))'",
         "GeoFootprint": {
          "coordinates": [
           [
            [
             12.306189,
             46.586499
            ],
            [
             11.729773,
             46.66502
            ],
            [
             11.194249,
             46.735345
            ],
            [
             11.139994,
             46.531867
            ],
            [
             11.674696,
             46.466093
            ],
            [
             12.250223,
             46.392142
            ],
            [
             12.306189,
             46.586499
            ]
           ]
          ],
          "type": "Polygon"
         },
         "Id": "50bfd7af-4934-4ade-8fe4-e7e211ca0184",
         "Lines": 12064,
         "LinesPerBurst": 1508,
         "Name": "S1A-SLC-20241223T052728-359501-IW1-VV-460176",
         "OperationalMode": "IW",
         "OrbitDirection": "DESCENDING",
         "ParentProductId": "09931144-fffb-4f7a-be88-9fa29b521bba",
         "ParentProductName": "S1A_IW_SLC__1SDV_20241223T052703_20241223T052730_057115_070590_A05E.SAFE",
         "ParentProductType": "IW_SLC__1S",
         "PlatformSerialIdentifier": "A",
         "PolarisationChannels": "VV",
         "RelativeOrbitNumber": 168,
         "S3Path": "/eodata/Sentinel-1/SAR/IW_SLC__1S/2024/12/23/S1A_IW_SLC__1SDV_20241223T052703_20241223T052730_057115_070590_A05E.SAFE/measurement/s1a-iw1-slc-vv-20241223t052705-20241223t052730-057115-070590-004.tiff",
         "SamplesPerBurst": 22990,
         "SwathIdentifier": "IW1"
        },
        {
         "@odata.mediaContentType": "application/octet-stream",
         "AbsoluteBurstId": 122677549,
         "AzimuthAnxTime": 2197.8179941109,
         "AzimuthTime": "2024-12-23T05:27:28.385986Z",
         "BeginningDateTime": "2024-12-23T05:27:29.400465Z",
         "BurstId": 359501,
         "ByteOffset": 109683,
         "ContentDate": {
          "End": "2024-12-23T05:27:30.446877Z",
          "Start": "2024-12-23T05:27:29.400465Z"
         },
         "ContentType": "application/octet-stream",
         "DatatakeID": 460176,
         "EndingDateTime": "2024-12-23T05:27:30.446877Z",
         "Footprint": "geography'SRID=4326;POLYGON ((11.210885 46.663981, 10.609883 46.739546, 10.041572 46.808037, 9.994503 46.61577, 10.56182 46.551482, 11.161802 46.480136, 11.210885 46.663981))'",
         "GeoFootprint": {
          "coordinates": [
           [
            [
             11.210885,
             46.663981
            ],
            [
             10.609883,
             46.739546
            ],
            [
             10.041572,
             46.808037
            ],
            [
             9.994503,
             46.61577
            ],
            [
             10.56182,
             46.551482
            ],
            [
             11.161802,
             46.480136
            ],
            [
             11.210885,
             46.663981
            ]
           ]
          ],
          "type": "Polygon"
         },
         "Id": "62fce01d-e5a9-46d3-b62c-2b3a06054fe1",
         "Lines": 0,
         "LinesPerBurst": 1519,
         "Name": "S1A-SLC-20241223T052729-359501-IW2-VV-460176",
         "OperationalMode": "IW",
         "OrbitDirection": "DESCENDING",
         "ParentProductId": "85c72f1d-71f8-4f75-a182-1e2644c11496",
         "ParentProductName": "S1A_IW_SLC__1SDV_20241223T052728_20241223T052755_057115_070590_864F.SAFE",
         "ParentProductType": "IW_SLC__1S",
         "PlatformSerialIdentifier": "A",
         "PolarisationChannels": "VV",
         "RelativeOrbitNumber": 168,
         "S3Path": "/eodata/Sentinel-1/SAR/IW_SLC__1S/2024/12/23/S1A_IW_SLC__1SDV_20241223T052728_20241223T052755_057115_070590_864F.SAFE/measurement/s1a-iw2-slc-vv-20241223t052728-20241223t052753-057115-070590-005.tiff",
         "SamplesPerBurst": 26745,
         "SwathIdentifier": "IW2"
        },
        {
         "@odata.mediaContentType": "application/octet-stream",
         "AbsoluteBurstId": 122677550,
         "AzimuthAnxTime": 2199.6309945529,
         "AzimuthTime": "2024-12-23T05:27:30.198987Z",
         "BeginningDateTime": "2024-12-23T05:27:31.326539Z",
         "BurstId": 359502,
         "ByteOffset": 108891,
         "ContentDate": {
          "End": "2024-12-23T05:27:32.204749Z",
          "Start": "2024-12-23T05:27:31.326539Z"
         },
         "ContentType": "application/octet-stream",
         "DatatakeID": 460176,
         "EndingDateTime": "2024-12-23T05:27:32.204749Z",
         "Footprint": "geography'SRID=4326;POLYGON ((12.258601 46.421295, 11.684 46.499758, 11.150156 46.570046, 11.096085 46.366558, 11.629119 46.30082, 12.202845 46.226925, 12.258601 46.421295))'",
         "GeoFootprint": {
          "coordinates": [
           [
            [
             12.258601,
             46.421295
            ],
            [
             11.684,
             46.499758
            ],
            [
             11.150156,
             46.570046
            ],
            [
             11.096085,
             46.366558
            ],
            [
             11.629119,
             46.30082
            ],
            [
             12.202845,
             46.226925
            ],
            [
             12.258601,
             46.421295
            ]
           ]
          ],
          "type": "Polygon"
         },
         "Id": "68f5fe82-4ace-4c85-b456-957197719097",
         "Lines": 0,
         "LinesPerBurst": 1508,
         "Name": "S1A-SLC-20241223T052731-359502-IW1-VV-460176",
         "OperationalMode": "IW",
         "OrbitDirection": "DESCENDING",
         "ParentProductId": "85c72f1d-71f8-4f75-a182-1e2644c11496",
         "ParentProductName": "S1A_IW_SLC__1SDV_20241223T052728_20241223T052755_057115_070590_864F.SAFE",
         "ParentProductType": "IW_SLC__1S",
         "PlatformSerialIdentifier": "A",
         "PolarisationChannels": "VV",
         "RelativeOrbitNumber": 168,
         "S3Path": "/eodata/Sentinel-1/SAR/IW_SLC__1S/2024/12/23/S1A_IW_SLC__1SDV_20241223T052728_20241223T052755_057115_070590_864F.SAFE/measurement/s1a-iw1-slc-vv-20241223t052730-20241223t052755-057115-070590-004.tiff",
         "SamplesPerBurst": 22990,
         "SwathIdentifier": "IW1"
        },
        {
         "@odata.mediaContentType": "application/octet-stream",
         "AbsoluteBurstId": 122677550,
         "AzimuthAnxTime": 2200.5744951092,
         "AzimuthTime": "2024-12-23T05:27:31.142487Z",
         "BeginningDateTime": "2024-12-23T05:27:32.158742Z",
         "BurstId": 359502,
         "ByteOffset": 162612303,
         "ContentDate": {
          "End": "2024-12-23T05:27:33.205154Z",
          "Start": "2024-12-23T05:27:32.158742Z"
         },
         "ContentType": "application/octet-stream",
         "DatatakeID": 460176,
         "EndingDateTime": "2024-12-23T05:27:33.205154Z",
         "Footprint": "geography'SRID=4326;POLYGON ((11.166745 46.49868, 10.567623 46.574222, 10.001088 46.64271, 9.954156 46.450436, 10.519711 46.386151, 11.117828 46.314825, 11.166745 46.49868))'",
         "GeoFootprint": {
          "coordinates": [
           [
            [
             11.166745,
             46.49868
            ],
            [
             10.567623,
             46.574222
            ],
            [
             10.001088,
             46.64271
            ],
            [
             9.954156,
             46.450436
            ],
            [
             10.519711,
             46.386151
            ],
            [
             11.117828,
             46.314825
            ],
            [
             11.166745,
             46.49868
            ]
           ]
          ],
          "type": "Polygon"
         },
         "Id": "d11bbe4b-8fff-4404-9357-9e27c743dac9",
         "Lines": 1519,
         "LinesPerBurst": 1519,
         "Name": "S1A-SLC-20241223T052732-359502-IW2-VV-460176",
         "OperationalMode": "IW",
         "OrbitDirection": "DESCENDING",
         "ParentProductId": "85c72f1d-71f8-4f75-a182-1e2644c11496",
         "ParentProductName": "S1A_IW_SLC__1SDV_20241223T052728_20241223T052755_057115_070590_864F.SAFE",
         "ParentProductType": "IW_SLC__1S",
         "PlatformSerialIdentifier": "A",
         "PolarisationChannels": "VV",
         "RelativeOrbitNumber": 168,
         "S3Path": "/eodata/Sentinel-1/SAR/IW_SLC__1S/2024/12/23/S1A_IW_SLC__1SDV_20241223T052728_20241223T052755_057115_070590_864F.SAFE/measurement/s1a-iw2-slc-vv-20241223t052728-20241223t052753-057115-070590-005.tiff",
         "SamplesPerBurst": 26745,
         "SwathIdentifier": "IW2"
        },
        {
         "@odata.mediaContentType": "application/octet-stream",
         "AbsoluteBurstId": 122677551,
         "AzimuthAnxTime": 2202.3895511075,
         "AzimuthTime": "2024-12-23T05:27:32.957543Z",
         "BeginningDateTime": "2024-12-23T05:27:34.084816Z",
         "BurstId": 359503,
         "ByteOffset": 138784571,
         "ContentDate": {
          "End": "2024-12-23T05:27:34.963026Z",
          "Start": "2024-12-23T05:27:34.084816Z"
         },
         "ContentType": "application/octet-stream",
         "DatatakeID": 460176,
         "EndingDateTime": "2024-12-23T05:27:34.963026Z",
         "Footprint": "geography'SRID=4326;POLYGON ((12.211191 46.256077, 11.638389 46.334483, 11.106212 46.404736, 11.052321 46.201238, 11.583702 46.135533, 12.155641 46.061695, 12.211191 46.256077))'",
         "GeoFootprint": {
          "coordinates": [
           [
            [
             12.211191,
             46.256077
            ],
            [
             11.638389,
             46.334483
            ],
            [
             11.106212,
             46.404736
            ],
            [
             11.052321,
             46.201238
            ],
            [
             11.583702,
             46.135533
            ],
            [
             12.155641,
             46.061695
            ],
            [
             12.211191,
             46.256077
            ]
           ]
          ],
          "type": "Polygon"
         },
         "Id": "336cab43-f5f7-4e70-bb6d-76f146480baa",
         "Lines": 1508,
         "LinesPerBurst": 1508,
         "Name": "S1A-SLC-20241223T052734-359503-IW1-VV-460176",
         "OperationalMode": "IW",
         "OrbitDirection": "DESCENDING",
         "ParentProductId": "85c72f1d-71f8-4f75-a182-1e2644c11496",
         "ParentProductName": "S1A_IW_SLC__1SDV_20241223T052728_20241223T052755_057115_070590_864F.SAFE",
         "ParentProductType": "IW_SLC__1S",
         "PlatformSerialIdentifier": "A",
         "PolarisationChannels": "VV",
         "RelativeOrbitNumber": 168,
         "S3Path": "/eodata/Sentinel-1/SAR/IW_SLC__1S/2024/12/23/S1A_IW_SLC__1SDV_20241223T052728_20241223T052755_057115_070590_864F.SAFE/measurement/s1a-iw1-slc-vv-20241223t052730-20241223t052755-057115-070590-004.tiff",
         "SamplesPerBurst": 22990,
         "SwathIdentifier": "IW1"
        },
        {
         "@odata.mediaContentType": "application/octet-stream",
         "AbsoluteBurstId": 122896639,
         "AzimuthAnxTime": 2200.7937729914,
         "AzimuthTime": "2024-12-30T05:19:17.197989Z",
         "BeginningDateTime": "2024-12-30T05:19:18.332881Z",
         "BurstId": 202703,
         "ByteOffset": 1256856515,
         "ContentDate": {
          "End": "2024-12-30T05:19:19.237487Z",
          "Start": "2024-12-30T05:19:18.332881Z"
         },
         "ContentType": "application/octet-stream",
         "DatatakeID": 461194,
         "EndingDateTime": "2024-12-30T05:19:19.237487Z",
         "Footprint": "geography'SRID=4326;POLYGON ((12.089482 46.634916, 11.563369 46.69639, 11.056374 46.753309, 11.010245 46.548522, 11.516373 46.496209, 12.041638 46.439349, 12.089482 46.634916))'",
         "GeoFootprint": {
          "coordinates": [
           [
            [
             12.089482,
             46.634916
            ],
            [
             11.563369,
             46.69639
            ],
            [
             11.056374,
             46.753309
            ],
            [
             11.010245,
             46.548522
            ],
            [
             11.516373,
             46.496209
            ],
            [
             12.041638,
             46.439349
            ],
            [
             12.089482,
             46.634916
            ]
           ]
          ],
          "type": "Polygon"
         },
         "Id": "188b2030-daa1-4574-9641-e12616af30f0",
         "Lines": 12200,
         "LinesPerBurst": 1525,
         "Name": "S1A-SLC-20241230T051918-202703-IW3-VV-461194",
         "OperationalMode": "IW",
         "OrbitDirection": "DESCENDING",
         "ParentProductId": "6ee62120-5577-435b-b868-55296bb7f692",
         "ParentProductName": "S1A_IW_SLC__1SDV_20241230T051854_20241230T051921_057217_07098A_8613.SAFE",
         "ParentProductType": "IW_SLC__1S",
         "PlatformSerialIdentifier": "A",
         "PolarisationChannels": "VV",
         "RelativeOrbitNumber": 95,
         "S3Path": "/eodata/Sentinel-1/SAR/IW_SLC__1S/2024/12/30/S1A_IW_SLC__1SDV_20241230T051854_20241230T051921_057217_07098A_8613.SAFE/measurement/s1a-iw3-slc-vv-20241230t051855-20241230t051920-057217-07098a-006.tiff",
         "SamplesPerBurst": 25753,
         "SwathIdentifier": "IW3"
        },
        {
         "@odata.mediaContentType": "application/octet-stream",
         "AbsoluteBurstId": 122896640,
         "AzimuthAnxTime": 2203.5502739983,
         "AzimuthTime": "2024-12-30T05:19:19.954490Z",
         "BeginningDateTime": "2024-12-30T05:19:21.091157Z",
         "BurstId": 202704,
         "ByteOffset": 110115,
         "ContentDate": {
          "End": "2024-12-30T05:19:21.995763Z",
          "Start": "2024-12-30T05:19:21.091157Z"
         },
         "ContentType": "application/octet-stream",
         "DatatakeID": 461194,
         "EndingDateTime": "2024-12-30T05:19:21.995763Z",
         "Footprint": "geography'SRID=4326;POLYGON ((12.049022 46.469577, 11.524545 46.531064, 11.019128 46.588009, 10.97311 46.383218, 11.477674 46.330878, 12.001315 46.274004, 12.049022 46.469577))'",
         "GeoFootprint": {
          "coordinates": [
           [
            [
             12.049022,
             46.469577
            ],
            [
             11.524545,
             46.531064
            ],
            [
             11.019128,
             46.588009
            ],
            [
             10.97311,
             46.383218
            ],
            [
             11.477674,
             46.330878
            ],
            [
             12.001315,
             46.274004
            ],
            [
             12.049022,
             46.469577
            ]
           ]
          ],
          "type": "Polygon"
         },
         "Id": "fe54c3c1-8ab5-41ff-a2ab-5fb3a0d87140",
         "Lines": 0,
         "LinesPerBurst": 1525,
         "Name": "S1A-SLC-20241230T051921-202704-IW3-VV-461194",
         "OperationalMode": "IW",
         "OrbitDirection": "DESCENDING",
         "ParentProductId": "58775c94-1b70-40ac-a7fd-ec1a768e2cc3",
         "ParentProductName": "S1A_IW_SLC__1SDV_20241230T051918_20241230T051945_057217_07098A_7518.SAFE",
         "ParentProductType": "IW_SLC__1S",
         "PlatformSerialIdentifier": "A",
         "PolarisationChannels": "VV",
         "RelativeOrbitNumber": 95,
         "S3Path": "/eodata/Sentinel-1/SAR/IW_SLC__1S/2024/12/30/S1A_IW_SLC__1SDV_20241230T051918_20241230T051945_057217_07098A_7518.SAFE/measurement/s1a-iw3-slc-vv-20241230t051919-20241230t051945-057217-07098a-006.tiff",
         "SamplesPerBurst": 25753,
         "SwathIdentifier": "IW3"
        },
        {
         "@odata.mediaContentType": "application/octet-stream",
         "AbsoluteBurstId": 122896641,
         "AzimuthAnxTime": 2206.3067749966,
         "AzimuthTime": "2024-12-30T05:19:22.710991Z",
         "BeginningDateTime": "2024-12-30T05:19:23.849434Z",
         "BurstId": 202705,
         "ByteOffset": 157203415,
         "ContentDate": {
          "End": "2024-12-30T05:19:24.754040Z",
          "Start": "2024-12-30T05:19:23.849434Z"
         },
         "ContentType": "application/octet-stream",
         "DatatakeID": 461194,
         "EndingDateTime": "2024-12-30T05:19:24.754040Z",
         "Footprint": "geography'SRID=4326;POLYGON ((12.01207 46.303822, 11.488229 46.365451, 10.983475 46.422535, 10.937562 46.217752, 11.441477 46.165281, 11.964495 46.108271, 12.01207 46.303822))'",
         "GeoFootprint": {
          "coordinates": [
           [
            [
             12.01207,
             46.303822
            ],
            [
             11.488229,
             46.365451
            ],
            [
             10.983475,
             46.422535
            ],
            [
             10.937562,
             46.217752
            ],
            [
             11.441477,
             46.165281
            ],
            [
             11.964495,
             46.108271
            ],
            [
             12.01207,
             46.303822
            ]
           ]
          ],
          "type": "Polygon"
         },
         "Id": "5f334e5a-bbe1-4626-918b-37deaeac5c85",
         "Lines": 1525,
         "LinesPerBurst": 1525,
         "Name": "S1A-SLC-20241230T051923-202705-IW3-VV-461194",
         "OperationalMode": "IW",
         "OrbitDirection": "DESCENDING",
         "ParentProductId": "58775c94-1b70-40ac-a7fd-ec1a768e2cc3",
         "ParentProductName": "S1A_IW_SLC__1SDV_20241230T051918_20241230T051945_057217_07098A_7518.SAFE",
         "ParentProductType": "IW_SLC__1S",
         "PlatformSerialIdentifier": "A",
         "PolarisationChannels": "VV",
         "RelativeOrbitNumber": 95,
         "S3Path": "/eodata/Sentinel-1/SAR/IW_SLC__1S/2024/12/30/S1A_IW_SLC__1SDV_20241230T051918_20241230T051945_057217_07098A_7518.SAFE/measurement/s1a-iw3-slc-vv-20241230t051919-20241230t051945-057217-07098a-006.tiff",
         "SamplesPerBurst": 25753,
         "SwathIdentifier": "IW3"
        },
        {
         "@odata.mediaContentType": "application/octet-stream",
         "AbsoluteBurstId": 122943368,
         "AzimuthAnxTime": 753.4016982167,
         "AzimuthTime": "2024-12-31T17:07:30.157850Z",
         "BeginningDateTime": "2024-12-31T17:07:31.167136Z",
         "BurstId": 249433,
         "ByteOffset": 640810107,
         "ContentDate": {
          "End": "2024-12-31T17:07:32.208726Z",
          "Start": "2024-12-31T17:07:31.167136Z"
         },
         "ContentType": "application/octet-stream",
         "DatatakeID": 461421,
         "EndingDateTime": "2024-12-31T17:07:32.208726Z",
         "Footprint": "geography'SRID=4326;POLYGON ((10.804564 46.276581, 11.402422 46.34791, 11.967742 46.412202, 11.920848 46.604472, 11.354552 46.535976, 10.755691 46.460429, 10.804564 46.276581))'",
         "GeoFootprint": {
          "coordinates": [
           [
            [
             10.804564,
             46.276581
            ],
            [
             11.402422,
             46.34791
            ],
            [
             11.967742,
             46.412202
            ],
            [
             11.920848,
             46.604472
            ],
            [
             11.354552,
             46.535976
            ],
            [
             10.755691,
             46.460429
            ],
            [
             10.804564,
             46.276581
            ]
           ]
          ],
          "type": "Polygon"
         },
         "Id": "e8968f1d-e8d4-4aa0-a543-fcc45b6c70a7",
         "Lines": 6048,
         "LinesPerBurst": 1512,
         "Name": "S1A-SLC-20241231T170731-249433-IW2-VV-461421",
         "OperationalMode": "IW",
         "OrbitDirection": "ASCENDING",
         "ParentProductId": "86b4a189-aece-430e-ad37-0b0bae95d770",
         "ParentProductName": "S1A_IW_SLC__1SDV_20241231T170717_20241231T170744_057239_070A6D_31B7.SAFE",
         "ParentProductType": "IW_SLC__1S",
         "PlatformSerialIdentifier": "A",
         "PolarisationChannels": "VV",
         "RelativeOrbitNumber": 117,
         "S3Path": "/eodata/Sentinel-1/SAR/IW_SLC__1S/2024/12/31/S1A_IW_SLC__1SDV_20241231T170717_20241231T170744_057239_070A6D_31B7.SAFE/measurement/s1a-iw2-slc-vv-20241231t170719-20241231t170744-057239-070a6d-005.tiff",
         "SamplesPerBurst": 26484,
         "SwathIdentifier": "IW2"
        },
        {
         "@odata.mediaContentType": "application/octet-stream",
         "AbsoluteBurstId": 122943369,
         "AzimuthAnxTime": 756.1602547713,
         "AzimuthTime": "2024-12-31T17:07:32.916407Z",
         "BeginningDateTime": "2024-12-31T17:07:33.925413Z",
         "BurstId": 249434,
         "ByteOffset": 800985339,
         "ContentDate": {
          "End": "2024-12-31T17:07:34.967003Z",
          "Start": "2024-12-31T17:07:33.925413Z"
         },
         "ContentType": "application/octet-stream",
         "DatatakeID": 461421,
         "EndingDateTime": "2024-12-31T17:07:34.967003Z",
         "Footprint": "geography'SRID=4326;POLYGON ((10.760624 46.441904, 11.360345 46.513254, 11.927424 46.577547, 11.880394 46.76981, 11.312324 46.701311, 10.711586 46.625741, 10.760624 46.441904))'",
         "GeoFootprint": {
          "coordinates": [
           [
            [
             10.760624,
             46.441904
            ],
            [
             11.360345,
             46.513254
            ],
            [
             11.927424,
             46.577547
            ],
            [
             11.880394,
             46.76981
            ],
            [
             11.312324,
             46.701311
            ],
            [
             10.711586,
             46.625741
            ],
            [
             10.760624,
             46.441904
            ]
           ]
          ],
          "type": "Polygon"
         },
         "Id": "66c139d6-6dc9-4780-b676-e5cf6b0d71ad",
         "Lines": 7560,
         "LinesPerBurst": 1512,
         "Name": "S1A-SLC-20241231T170733-249434-IW2-VV-461421",
         "OperationalMode": "IW",
         "OrbitDirection": "ASCENDING",
         "ParentProductId": "86b4a189-aece-430e-ad37-0b0bae95d770",
         "ParentProductName": "S1A_IW_SLC__1SDV_20241231T170717_20241231T170744_057239_070A6D_31B7.SAFE",
         "ParentProductType": "IW_SLC__1S",
         "PlatformSerialIdentifier": "A",
         "PolarisationChannels": "VV",
         "RelativeOrbitNumber": 117,
         "S3Path": "/eodata/Sentinel-1/SAR/IW_SLC__1S/2024/12/31/S1A_IW_SLC__1SDV_20241231T170717_20241231T170744_057239_070A6D_31B7.SAFE/measurement/s1a-iw2-slc-vv-20241231t170719-20241231t170744-057239-070a6d-005.tiff",
         "SamplesPerBurst": 26484,
         "SwathIdentifier": "IW2"
        },
        {
         "@odata.mediaContentType": "application/octet-stream",
         "AbsoluteBurstId": 122943370,
         "AzimuthAnxTime": 758.9188113258999,
         "AzimuthTime": "2024-12-31T17:07:35.674963Z",
         "BeginningDateTime": "2024-12-31T17:07:36.683690Z",
         "BurstId": 249435,
         "ByteOffset": 961160571,
         "ContentDate": {
          "End": "2024-12-31T17:07:37.725280Z",
          "Start": "2024-12-31T17:07:36.683690Z"
         },
         "ContentType": "application/octet-stream",
         "DatatakeID": 461421,
         "EndingDateTime": "2024-12-31T17:07:37.725280Z",
         "Footprint": "geography'SRID=4326;POLYGON ((10.716537 46.607214, 11.318136 46.678586, 11.886991 46.742882, 11.839823 46.935138, 11.269963 46.866635, 10.667332 46.791043, 10.716537 46.607214))'",
         "GeoFootprint": {
          "coordinates": [
           [
            [
             10.716537,
             46.607214
            ],
            [
             11.318136,
             46.678586
            ],
            [
             11.886991,
             46.742882
            ],
            [
             11.839823,
             46.935138
            ],
            [
             11.269963,
             46.866635
            ],
            [
             10.667332,
             46.791043
            ],
            [
             10.716537,
             46.607214
            ]
           ]
          ],
          "type": "Polygon"
         },
         "Id": "3405189c-74bc-40f3-ad81-0e67428ffed7",
         "Lines": 9072,
         "LinesPerBurst": 1512,
         "Name": "S1A-SLC-20241231T170736-249435-IW2-VV-461421",
         "OperationalMode": "IW",
         "OrbitDirection": "ASCENDING",
         "ParentProductId": "86b4a189-aece-430e-ad37-0b0bae95d770",
         "ParentProductName": "S1A_IW_SLC__1SDV_20241231T170717_20241231T170744_057239_070A6D_31B7.SAFE",
         "ParentProductType": "IW_SLC__1S",
         "PlatformSerialIdentifier": "A",
         "PolarisationChannels": "VV",
         "RelativeOrbitNumber": 117,
         "S3Path": "/eodata/Sentinel-1/SAR/IW_SLC__1S/2024/12/31/S1A_IW_SLC__1SDV_20241231T170717_20241231T170744_057239_070A6D_31B7.SAFE/measurement/s1a-iw2-slc-vv-20241231t170719-20241231t170744-057239-070a6d-005.tiff",
         "SamplesPerBurst": 26484,
         "SwathIdentifier": "IW2"
        },
        {
         "@odata.mediaContentType": "application/octet-stream",
         "AbsoluteBurstId": 123053435,
         "AzimuthAnxTime": 2195.0559008788,
         "AzimuthTime": "2025-01-04T05:27:24.237111Z",
         "BeginningDateTime": "2025-01-04T05:27:25.260078Z",
         "BurstId": 359500,
         "ByteOffset": 1300130643,
         "ContentDate": {
          "End": "2025-01-04T05:27:26.306490Z",
          "Start": "2025-01-04T05:27:25.260078Z"
         },
         "ContentType": "application/octet-stream",
         "DatatakeID": 461934,
         "EndingDateTime": "2025-01-04T05:27:26.306490Z",
         "Footprint": "geography'SRID=4326;POLYGON ((11.255174 46.829271, 10.652277 46.904859, 10.082173 46.973353, 10.034966 46.781093, 10.604062 46.716804, 11.205925 46.645435, 11.255174 46.829271))'",
         "GeoFootprint": {
          "coordinates": [
           [
            [
             11.255174,
             46.829271
            ],
            [
             10.652277,
             46.904859
            ],
            [
             10.082173,
             46.973353
            ],
            [
             10.034966,
             46.781093
            ],
            [
             10.604062,
             46.716804
            ],
            [
             11.205925,
             46.645435
            ],
            [
             11.255174,
             46.829271
            ]
           ]
          ],
          "type": "Polygon"
         },
         "Id": "8a9d229d-a060-42c6-afb4-01781084d9c6",
         "Lines": 12152,
         "LinesPerBurst": 1519,
         "Name": "S1A-SLC-20250104T052725-359500-IW2-VV-461934",
         "OperationalMode": "IW",
         "OrbitDirection": "DESCENDING",
         "ParentProductId": "d1da9144-d2cf-48f2-b345-2e3dbcee3c78",
         "ParentProductName": "S1A_IW_SLC__1SDV_20250104T052702_20250104T052729_057290_070C6E_E9C0.SAFE",
         "ParentProductType": "IW_SLC__1S",
         "PlatformSerialIdentifier": "A",
         "PolarisationChannels": "VV",
         "RelativeOrbitNumber": 168,
         "S3Path": "/eodata/Sentinel-1/SAR/IW_SLC__1S/2025/01/04/S1A_IW_SLC__1SDV_20250104T052702_20250104T052729_057290_070C6E_E9C0.SAFE/measurement/s1a-iw2-slc-vv-20250104t052702-20250104t052727-057290-070c6e-005.tiff",
         "SamplesPerBurst": 26745,
         "SwathIdentifier": "IW2"
        },
        {
         "@odata.mediaContentType": "application/octet-stream",
         "AbsoluteBurstId": 123053436,
         "AzimuthAnxTime": 2196.8730134334,
         "AzimuthTime": "2025-01-04T05:27:26.054223Z",
         "BeginningDateTime": "2025-01-04T05:27:27.186152Z",
         "BurstId": 359501,
         "ByteOffset": 1109514331,
         "ContentDate": {
          "End": "2025-01-04T05:27:28.064362Z",
          "Start": "2025-01-04T05:27:27.186152Z"
         },
         "ContentType": "application/octet-stream",
         "DatatakeID": 461934,
         "EndingDateTime": "2025-01-04T05:27:28.064362Z",
         "Footprint": "geography'SRID=4326;POLYGON ((12.306189 46.586499, 11.729773 46.66502, 11.194249 46.735345, 11.139994 46.531867, 11.674696 46.466093, 12.250223 46.392142, 12.306189 46.586499))'",
         "GeoFootprint": {
          "coordinates": [
           [
            [
             12.306189,
             46.586499
            ],
            [
             11.729773,
             46.66502
            ],
            [
             11.194249,
             46.735345
            ],
            [
             11.139994,
             46.531867
            ],
            [
             11.674696,
             46.466093
            ],
            [
             12.250223,
             46.392142
            ],
            [
             12.306189,
             46.586499
            ]
           ]
          ],
          "type": "Polygon"
         },
         "Id": "e56e8f8e-7484-477c-b8dd-e2cd6f00fb22",
         "Lines": 12064,
         "LinesPerBurst": 1508,
         "Name": "S1A-SLC-20250104T052727-359501-IW1-VV-461934",
         "OperationalMode": "IW",
         "OrbitDirection": "DESCENDING",
         "ParentProductId": "d1da9144-d2cf-48f2-b345-2e3dbcee3c78",
         "ParentProductName": "S1A_IW_SLC__1SDV_20250104T052702_20250104T052729_057290_070C6E_E9C0.SAFE",
         "ParentProductType": "IW_SLC__1S",
         "PlatformSerialIdentifier": "A",
         "PolarisationChannels": "VV",
         "RelativeOrbitNumber": 168,
         "S3Path": "/eodata/Sentinel-1/SAR/IW_SLC__1S/2025/01/04/S1A_IW_SLC__1SDV_20250104T052702_20250104T052729_057290_070C6E_E9C0.SAFE/measurement/s1a-iw1-slc-vv-20250104t052703-20250104t052729-057290-070c6e-004.tiff",
         "SamplesPerBurst": 22990,
         "SwathIdentifier": "IW1"
        },
        {
         "@odata.mediaContentType": "application/octet-stream",
         "AbsoluteBurstId": 123053436,
         "AzimuthAnxTime": 2197.8185686672,
         "AzimuthTime": "2025-01-04T05:27:26.999779Z",
         "BeginningDateTime": "2025-01-04T05:27:28.018354Z",
         "BurstId": 359501,
         "ByteOffset": 109683,
         "ContentDate": {
          "End": "2025-01-04T05:27:29.064766Z",
          "Start": "2025-01-04T05:27:28.018354Z"
         },
         "ContentType": "application/octet-stream",
         "DatatakeID": 461934,
         "EndingDateTime": "2025-01-04T05:27:29.064766Z",
         "Footprint": "geography'SRID=4326;POLYGON ((11.210885 46.663981, 10.609883 46.739546, 10.041572 46.808037, 9.994503 46.61577, 10.56182 46.551482, 11.161802 46.480136, 11.210885 46.663981))'",
         "GeoFootprint": {
          "coordinates": [
           [
            [
             11.210885,
             46.663981
            ],
            [
             10.609883,
             46.739546
            ],
            [
             10.041572,
             46.808037
            ],
            [
             9.994503,
             46.61577
            ],
            [
             10.56182,
             46.551482
            ],
            [
             11.161802,
             46.480136
            ],
            [
             11.210885,
             46.663981
            ]
           ]
          ],
          "type": "Polygon"
         },
         "Id": "583e9924-b6e2-4ca1-80fe-a823db1d9755",
         "Lines": 0,
         "LinesPerBurst": 1519,
         "Name": "S1A-SLC-20250104T052728-359501-IW2-VV-461934",
         "OperationalMode": "IW",
         "OrbitDirection": "DESCENDING",
         "ParentProductId": "cc6f1806-9cc1-430e-8897-cbd24eb68159",
         "ParentProductName": "S1A_IW_SLC__1SDV_20250104T052726_20250104T052753_057290_070C6E_9959.SAFE",
         "ParentProductType": "IW_SLC__1S",
         "PlatformSerialIdentifier": "A",
         "PolarisationChannels": "VV",
         "RelativeOrbitNumber": 168,
         "S3Path": "/eodata/Sentinel-1/SAR/IW_SLC__1S/2025/01/04/S1A_IW_SLC__1SDV_20250104T052726_20250104T052753_057290_070C6E_9959.SAFE/measurement/s1a-iw2-slc-vv-20250104t052726-20250104t052752-057290-070c6e-005.tiff",
         "SamplesPerBurst": 26745,
         "SwathIdentifier": "IW2"
        },
        {
         "@odata.mediaContentType": "application/octet-stream",
         "AbsoluteBurstId": 123053437,
         "AzimuthAnxTime": 2199.6315691092,
         "AzimuthTime": "2025-01-04T05:27:28.812779Z",
         "BeginningDateTime": "2025-01-04T05:27:29.944428Z",
         "BurstId": 359502,
         "ByteOffset": 108891,
         "ContentDate": {
          "End": "2025-01-04T05:27:30.822638Z",
          "Start": "2025-01-04T05:27:29.944428Z"
         },
         "ContentType": "application/octet-stream",
         "DatatakeID": 461934,
         "EndingDateTime": "2025-01-04T05:27:30.822638Z",
         "Footprint": "geography'SRID=4326;POLYGON ((12.258601 46.421295, 11.684 46.499758, 11.150156 46.570046, 11.096085 46.366558, 11.629119 46.30082, 12.202845 46.226925, 12.258601 46.421295))'",
         "GeoFootprint": {
          "coordinates": [
           [
            [
             12.258601,
             46.421295
            ],
            [
             11.684,
             46.499758
            ],
            [
             11.150156,
             46.570046
            ],
            [
             11.096085,
             46.366558
            ],
            [
             11.629119,
             46.30082
            ],
            [
             12.202845,
             46.226925
            ],
            [
             12.258601,
             46.421295
            ]
           ]
          ],
          "type": "Polygon"
         },
         "Id": "aa69de45-b388-4f81-ac53-deaa8ee6b271",
         "Lines": 0,
         "LinesPerBurst": 1508,
         "Name": "S1A-SLC-20250104T052729-359502-IW1-VV-461934",
         "OperationalMode": "IW",
         "OrbitDirection": "DESCENDING",
         "ParentProductId": "cc6f1806-9cc1-430e-8897-cbd24eb68159",
         "ParentProductName": "S1A_IW_SLC__1SDV_20250104T052726_20250104T052753_057290_070C6E_9959.SAFE",
         "ParentProductType": "IW_SLC__1S",
         "PlatformSerialIdentifier": "A",
         "PolarisationChannels": "VV",
         "RelativeOrbitNumber": 168,
         "S3Path": "/eodata/Sentinel-1/SAR/IW_SLC__1S/2025/01/04/S1A_IW_SLC__1SDV_20250104T052726_20250104T052753_057290_070C6E_9959.SAFE/measurement/s1a-iw1-slc-vv-20250104t052728-20250104t052753-057290-070c6e-004.tiff",
         "SamplesPerBurst": 22990,
         "SwathIdentifier": "IW1"
        },
        {
         "@odata.mediaContentType": "application/octet-stream",
         "AbsoluteBurstId": 123053437,
         "AzimuthAnxTime": 2200.5750696655,
         "AzimuthTime": "2025-01-04T05:27:29.756280Z",
         "BeginningDateTime": "2025-01-04T05:27:30.776631Z",
         "BurstId": 359502,
         "ByteOffset": 162612303,
         "ContentDate": {
          "End": "2025-01-04T05:27:31.823043Z",
          "Start": "2025-01-04T05:27:30.776631Z"
         },
         "ContentType": "application/octet-stream",
         "DatatakeID": 461934,
         "EndingDateTime": "2025-01-04T05:27:31.823043Z",
         "Footprint": "geography'SRID=4326;POLYGON ((11.166745 46.49868, 10.567623 46.574222, 10.001088 46.64271, 9.954156 46.450436, 10.519711 46.386151, 11.117828 46.314825, 11.166745 46.49868))'",
         "GeoFootprint": {
          "coordinates": [
           [
            [
             11.166745,
             46.49868
            ],
            [
             10.567623,
             46.574222
            ],
            [
             10.001088,
             46.64271
            ],
            [
             9.954156,
             46.450436
            ],
            [
             10.519711,
             46.386151
            ],
            [
             11.117828,
             46.314825
            ],
            [
             11.166745,
             46.49868
            ]
           ]
          ],
          "type": "Polygon"
         },
         "Id": "7fee35fa-3c48-467d-b74d-6fb0670f2b43",
         "Lines": 1519,
         "LinesPerBurst": 1519,
         "Name": "S1A-SLC-20250104T052730-359502-IW2-VV-461934",
         "OperationalMode": "IW",
         "OrbitDirection": "DESCENDING",
         "ParentProductId": "cc6f1806-9cc1-430e-8897-cbd24eb68159",
         "ParentProductName": "S1A_IW_SLC__1SDV_20250104T052726_20250104T052753_057290_070C6E_9959.SAFE",
         "ParentProductType": "IW_SLC__1S",
         "PlatformSerialIdentifier": "A",
         "PolarisationChannels": "VV",
         "RelativeOrbitNumber": 168,
         "S3Path": "/eodata/Sentinel-1/SAR/IW_SLC__1S/2025/01/04/S1A_IW_SLC__1SDV_20250104T052726_20250104T052753_057290_070C6E_9959.SAFE/measurement/s1a-iw2-slc-vv-20250104t052726-20250104t052752-057290-070c6e-005.tiff",
         "SamplesPerBurst": 26745,
         "SwathIdentifier": "IW2"
        },
        {
         "@odata.mediaContentType": "application/octet-stream",
         "AbsoluteBurstId": 123053438,
         "AzimuthAnxTime": 2202.3901256638,
         "AzimuthTime": "2025-01-04T05:27:31.571336Z",
         "BeginningDateTime": "2025-01-04T05:27:32.702705Z",
         "BurstId": 359503,
         "ByteOffset": 138784571,
         "ContentDate": {
          "End": "2025-01-04T05:27:33.580915Z",
          "Start": "2025-01-04T05:27:32.702705Z"
         },
         "ContentType": "application/octet-stream",
         "DatatakeID": 461934,
         "EndingDateTime": "2025-01-04T05:27:33.580915Z",
         "Footprint": "geography'SRID=4326;POLYGON ((12.211191 46.256077, 11.638389 46.334483, 11.106212 46.404736, 11.052321 46.201238, 11.583702 46.135533, 12.155641 46.061695, 12.211191 46.256077))'",
         "GeoFootprint": {
          "coordinates": [
           [
            [
             12.211191,
             46.256077
            ],
            [
             11.638389,
             46.334483
            ],
            [
             11.106212,
             46.404736
            ],
            [
             11.052321,
             46.201238
            ],
            [
             11.583702,
             46.135533
            ],
            [
             12.155641,
             46.061695
            ],
            [
             12.211191,
             46.256077
            ]
           ]
          ],
          "type": "Polygon"
         },
         "Id": "58f4052a-d95b-46b8-8d7b-c0d2964da6c8",
         "Lines": 1508,
         "LinesPerBurst": 1508,
         "Name": "S1A-SLC-20250104T052732-359503-IW1-VV-461934",
         "OperationalMode": "IW",
         "OrbitDirection": "DESCENDING",
         "ParentProductId": "cc6f1806-9cc1-430e-8897-cbd24eb68159",
         "ParentProductName": "S1A_IW_SLC__1SDV_20250104T052726_20250104T052753_057290_070C6E_9959.SAFE",
         "ParentProductType": "IW_SLC__1S",
         "PlatformSerialIdentifier": "A",
         "PolarisationChannels": "VV",
         "RelativeOrbitNumber": 168,
         "S3Path": "/eodata/Sentinel-1/SAR/IW_SLC__1S/2025/01/04/S1A_IW_SLC__1SDV_20250104T052726_20250104T052753_057290_070C6E_9959.SAFE/measurement/s1a-iw1-slc-vv-20250104t052728-20250104t052753-057290-070c6e-004.tiff",
         "SamplesPerBurst": 22990,
         "SwathIdentifier": "IW1"
        },
        {
         "@odata.mediaContentType": "application/octet-stream",
         "AbsoluteBurstId": 123272526,
         "AzimuthAnxTime": 2200.8026694351,
         "AzimuthTime": "2025-01-11T05:19:15.967289Z",
         "BeginningDateTime": "2025-01-11T05:19:17.093974Z",
         "BurstId": 202703,
         "ByteOffset": 1256856515,
         "ContentDate": {
          "End": "2025-01-11T05:19:17.998580Z",
          "Start": "2025-01-11T05:19:17.093974Z"
         },
         "ContentType": "application/octet-stream",
         "DatatakeID": 462964,
         "EndingDateTime": "2025-01-11T05:19:17.998580Z",
         "Footprint": "geography'SRID=4326;POLYGON ((12.089482 46.634916, 11.563369 46.69639, 11.056374 46.753309, 11.010245 46.548522, 11.516373 46.496209, 12.041638 46.439349, 12.089482 46.634916))'",
         "GeoFootprint": {
          "coordinates": [
           [
            [
             12.089482,
             46.634916
            ],
            [
             11.563369,
             46.69639
            ],
            [
             11.056374,
             46.753309
            ],
            [
             11.010245,
             46.548522
            ],
            [
             11.516373,
             46.496209
            ],
            [
             12.041638,
             46.439349
            ],
            [
             12.089482,
             46.634916
            ]
           ]
          ],
          "type": "Polygon"
         },
         "Id": "15326dea-4367-4889-a495-6fd3a063e100",
         "Lines": 12200,
         "LinesPerBurst": 1525,
         "Name": "S1A-SLC-20250111T051917-202703-IW3-VV-462964",
         "OperationalMode": "IW",
         "OrbitDirection": "DESCENDING",
         "ParentProductId": "4d9b4e12-07f2-44e9-8c50-82e19dd6c6a1",
         "ParentProductName": "S1A_IW_SLC__1SDV_20250111T051852_20250111T051919_057392_071074_6FEF.SAFE",
         "ParentProductType": "IW_SLC__1S",
         "PlatformSerialIdentifier": "A",
         "PolarisationChannels": "VV",
         "RelativeOrbitNumber": 95,
         "S3Path": "/eodata/Sentinel-1/SAR/IW_SLC__1S/2025/01/11/S1A_IW_SLC__1SDV_20250111T051852_20250111T051919_057392_071074_6FEF.SAFE/measurement/s1a-iw3-slc-vv-20250111t051853-20250111t051919-057392-071074-006.tiff",
         "SamplesPerBurst": 25753,
         "SwathIdentifier": "IW3"
        },
        {
         "@odata.mediaContentType": "application/octet-stream",
         "AbsoluteBurstId": 123272527,
         "AzimuthAnxTime": 2203.5591699983,
         "AzimuthTime": "2025-01-11T05:19:18.723790Z",
         "BeginningDateTime": "2025-01-11T05:19:19.852250Z",
         "BurstId": 202704,
         "ByteOffset": 110115,
         "ContentDate": {
          "End": "2025-01-11T05:19:20.756856Z",
          "Start": "2025-01-11T05:19:19.852250Z"
         },
         "ContentType": "application/octet-stream",
         "DatatakeID": 462964,
         "EndingDateTime": "2025-01-11T05:19:20.756856Z",
         "Footprint": "geography'SRID=4326;POLYGON ((12.049022 46.469577, 11.524545 46.531064, 11.019128 46.588009, 10.97311 46.383218, 11.477674 46.330878, 12.001315 46.274004, 12.049022 46.469577))'",
         "GeoFootprint": {
          "coordinates": [
           [
            [
             12.049022,
             46.469577
            ],
            [
             11.524545,
             46.531064
            ],
            [
             11.019128,
             46.588009
            ],
            [
             10.97311,
             46.383218
            ],
            [
             11.477674,
             46.330878
            ],
            [
             12.001315,
             46.274004
            ],
            [
             12.049022,
             46.469577
            ]
           ]
          ],
          "type": "Polygon"
         },
         "Id": "8bf41893-0bbf-43c4-a01b-88c23905584f",
         "Lines": 0,
         "LinesPerBurst": 1525,
         "Name": "S1A-SLC-20250111T051919-202704-IW3-VV-462964",
         "OperationalMode": "IW",
         "OrbitDirection": "DESCENDING",
         "ParentProductId": "270ed397-fa48-47d3-868d-61c903069c2c",
         "ParentProductName": "S1A_IW_SLC__1SDV_20250111T051917_20250111T051944_057392_071074_1B3D.SAFE",
         "ParentProductType": "IW_SLC__1S",
         "PlatformSerialIdentifier": "A",
         "PolarisationChannels": "VV",
         "RelativeOrbitNumber": 95,
         "S3Path": "/eodata/Sentinel-1/SAR/IW_SLC__1S/2025/01/11/S1A_IW_SLC__1SDV_20250111T051917_20250111T051944_057392_071074_1B3D.SAFE/measurement/s1a-iw3-slc-vv-20250111t051918-20250111t051943-057392-071074-006.tiff",
         "SamplesPerBurst": 25753,
         "SwathIdentifier": "IW3"
        },
        {
         "@odata.mediaContentType": "application/octet-stream",
         "AbsoluteBurstId": 123272528,
         "AzimuthAnxTime": 2206.3177265529,
         "AzimuthTime": "2025-01-11T05:19:21.482347Z",
         "BeginningDateTime": "2025-01-11T05:19:22.610527Z",
         "BurstId": 202705,
         "ByteOffset": 157203415,
         "ContentDate": {
          "End": "2025-01-11T05:19:23.515133Z",
          "Start": "2025-01-11T05:19:22.610527Z"
         },
         "ContentType": "application/octet-stream",
         "DatatakeID": 462964,
         "EndingDateTime": "2025-01-11T05:19:23.515133Z",
         "Footprint": "geography'SRID=4326;POLYGON ((12.01207 46.303822, 11.488229 46.365451, 10.983475 46.422535, 10.937562 46.217752, 11.441477 46.165281, 11.964495 46.108271, 12.01207 46.303822))'",
         "GeoFootprint": {
          "coordinates": [
           [
            [
             12.01207,
             46.303822
            ],
            [
             11.488229,
             46.365451
            ],
            [
             10.983475,
             46.422535
            ],
            [
             10.937562,
             46.217752
            ],
            [
             11.441477,
             46.165281
            ],
            [
             11.964495,
             46.108271
            ],
            [
             12.01207,
             46.303822
            ]
           ]
          ],
          "type": "Polygon"
         },
         "Id": "e9cf9266-bf02-445f-9c1d-c05c812706e3",
         "Lines": 1525,
         "LinesPerBurst": 1525,
         "Name": "S1A-SLC-20250111T051922-202705-IW3-VV-462964",
         "OperationalMode": "IW",
         "OrbitDirection": "DESCENDING",
         "ParentProductId": "270ed397-fa48-47d3-868d-61c903069c2c",
         "ParentProductName": "S1A_IW_SLC__1SDV_20250111T051917_20250111T051944_057392_071074_1B3D.SAFE",
         "ParentProductType": "IW_SLC__1S",
         "PlatformSerialIdentifier": "A",
         "PolarisationChannels": "VV",
         "RelativeOrbitNumber": 95,
         "S3Path": "/eodata/Sentinel-1/SAR/IW_SLC__1S/2025/01/11/S1A_IW_SLC__1SDV_20250111T051917_20250111T051944_057392_071074_1B3D.SAFE/measurement/s1a-iw3-slc-vv-20250111t051918-20250111t051943-057392-071074-006.tiff",
         "SamplesPerBurst": 25753,
         "SwathIdentifier": "IW3"
        },
        {
         "@odata.mediaContentType": "application/octet-stream",
         "AbsoluteBurstId": 123319256,
         "AzimuthAnxTime": 753.4051543293,
         "AzimuthTime": "2025-01-12T17:07:29.123253Z",
         "BeginningDateTime": "2025-01-12T17:07:30.130485Z",
         "BurstId": 249433,
         "ByteOffset": 640810107,
         "ContentDate": {
          "End": "2025-01-12T17:07:31.172075Z",
          "Start": "2025-01-12T17:07:30.130485Z"
         },
         "ContentType": "application/octet-stream",
         "DatatakeID": 463192,
         "EndingDateTime": "2025-01-12T17:07:31.172075Z",
         "Footprint": "geography'SRID=4326;POLYGON ((10.804564 46.276581, 11.402422 46.34791, 11.967742 46.412202, 11.920848 46.604472, 11.354552 46.535976, 10.755691 46.460429, 10.804564 46.276581))'",
         "GeoFootprint": {
          "coordinates": [
           [
            [
             10.804564,
             46.276581
            ],
            [
             11.402422,
             46.34791
            ],
            [
             11.967742,
             46.412202
            ],
            [
             11.920848,
             46.604472
            ],
            [
             11.354552,
             46.535976
            ],
            [
             10.755691,
             46.460429
            ],
            [
             10.804564,
             46.276581
            ]
           ]
          ],
          "type": "Polygon"
         },
         "Id": "a0929673-23ed-4c60-b4b3-c02bea8824ea",
         "Lines": 6048,
         "LinesPerBurst": 1512,
         "Name": "S1A-SLC-20250112T170730-249433-IW2-VV-463192",
         "OperationalMode": "IW",
         "OrbitDirection": "ASCENDING",
         "ParentProductId": "b72559bc-12c3-4d0d-8812-3fc66a6139eb",
         "ParentProductName": "S1A_IW_SLC__1SDV_20250112T170716_20250112T170743_057414_071158_B31E.SAFE",
         "ParentProductType": "IW_SLC__1S",
         "PlatformSerialIdentifier": "A",
         "PolarisationChannels": "VV",
         "RelativeOrbitNumber": 117,
         "S3Path": "/eodata/Sentinel-1/SAR/IW_SLC__1S/2025/01/12/S1A_IW_SLC__1SDV_20250112T170716_20250112T170743_057414_071158_B31E.SAFE/measurement/s1a-iw2-slc-vv-20250112t170718-20250112t170743-057414-071158-005.tiff",
         "SamplesPerBurst": 26484,
         "SwathIdentifier": "IW2"
        },
        {
         "@odata.mediaContentType": "application/octet-stream",
         "AbsoluteBurstId": 123319257,
         "AzimuthAnxTime": 756.1637108839,
         "AzimuthTime": "2025-01-12T17:07:31.881810Z",
         "BeginningDateTime": "2025-01-12T17:07:32.888762Z",
         "BurstId": 249434,
         "ByteOffset": 800985339,
         "ContentDate": {
          "End": "2025-01-12T17:07:33.930352Z",
          "Start": "2025-01-12T17:07:32.888762Z"
         },
         "ContentType": "application/octet-stream",
         "DatatakeID": 463192,
         "EndingDateTime": "2025-01-12T17:07:33.930352Z",
         "Footprint": "geography'SRID=4326;POLYGON ((10.760624 46.441904, 11.360345 46.513254, 11.927424 46.577547, 11.880394 46.76981, 11.312324 46.701311, 10.711586 46.625741, 10.760624 46.441904))'",
         "GeoFootprint": {
          "coordinates": [
           [
            [
             10.760624,
             46.441904
            ],
            [
             11.360345,
             46.513254
            ],
            [
             11.927424,
             46.577547
            ],
            [
             11.880394,
             46.76981
            ],
            [
             11.312324,
             46.701311
            ],
            [
             10.711586,
             46.625741
            ],
            [
             10.760624,
             46.441904
            ]
           ]
          ],
          "type": "Polygon"
         },
         "Id": "d3c833fd-2c97-4672-b9b6-92e9af93ea40",
         "Lines": 7560,
         "LinesPerBurst": 1512,
         "Name": "S1A-SLC-20250112T170732-249434-IW2-VV-463192",
         "OperationalMode": "IW",
         "OrbitDirection": "ASCENDING",
         "ParentProductId": "b72559bc-12c3-4d0d-8812-3fc66a6139eb",
         "ParentProductName": "S1A_IW_SLC__1SDV_20250112T170716_20250112T170743_057414_071158_B31E.SAFE",
         "ParentProductType": "IW_SLC__1S",
         "PlatformSerialIdentifier": "A",
         "PolarisationChannels": "VV",
         "RelativeOrbitNumber": 117,
         "S3Path": "/eodata/Sentinel-1/SAR/IW_SLC__1S/2025/01/12/S1A_IW_SLC__1SDV_20250112T170716_20250112T170743_057414_071158_B31E.SAFE/measurement/s1a-iw2-slc-vv-20250112t170718-20250112t170743-057414-071158-005.tiff",
         "SamplesPerBurst": 26484,
         "SwathIdentifier": "IW2"
        },
        {
         "@odata.mediaContentType": "application/octet-stream",
         "AbsoluteBurstId": 123319258,
         "AzimuthAnxTime": 758.9222674385001,
         "AzimuthTime": "2025-01-12T17:07:34.640366Z",
         "BeginningDateTime": "2025-01-12T17:07:35.647039Z",
         "BurstId": 249435,
         "ByteOffset": 961160571,
         "ContentDate": {
          "End": "2025-01-12T17:07:36.688629Z",
          "Start": "2025-01-12T17:07:35.647039Z"
         },
         "ContentType": "application/octet-stream",
         "DatatakeID": 463192,
         "EndingDateTime": "2025-01-12T17:07:36.688629Z",
         "Footprint": "geography'SRID=4326;POLYGON ((10.716537 46.607214, 11.318136 46.678586, 11.886991 46.742882, 11.839823 46.935138, 11.269963 46.866635, 10.667332 46.791043, 10.716537 46.607214))'",
         "GeoFootprint": {
          "coordinates": [
           [
            [
             10.716537,
             46.607214
            ],
            [
             11.318136,
             46.678586
            ],
            [
             11.886991,
             46.742882
            ],
            [
             11.839823,
             46.935138
            ],
            [
             11.269963,
             46.866635
            ],
            [
             10.667332,
             46.791043
            ],
            [
             10.716537,
             46.607214
            ]
           ]
          ],
          "type": "Polygon"
         },
         "Id": "be64af52-b335-4ff2-9032-8764e5384981",
         "Lines": 9072,
         "LinesPerBurst": 1512,
         "Name": "S1A-SLC-20250112T170735-249435-IW2-VV-463192",
         "OperationalMode": "IW",
         "OrbitDirection": "ASCENDING",
         "ParentProductId": "b72559bc-12c3-4d0d-8812-3fc66a6139eb",
         "ParentProductName": "S1A_IW_SLC__1SDV_20250112T170716_20250112T170743_057414_071158_B31E.SAFE",
         "ParentProductType": "IW_SLC__1S",
         "PlatformSerialIdentifier": "A",
         "PolarisationChannels": "VV",
         "RelativeOrbitNumber": 117,
         "S3Path": "/eodata/Sentinel-1/SAR/IW_SLC__1S/2025/01/12/S1A_IW_SLC__1SDV_20250112T170716_20250112T170743_057414_071158_B31E.SAFE/measurement/s1a-iw2-slc-vv-20250112t170718-20250112t170743-057414-071158-005.tiff",
         "SamplesPerBurst": 26484,
         "SwathIdentifier": "IW2"
        },
        {
         "@odata.mediaContentType": "application/octet-stream",
         "AbsoluteBurstId": 123429323,
         "AzimuthAnxTime": 2195.0527048788,
         "AzimuthTime": "2025-01-16T05:27:23.357316Z",
         "BeginningDateTime": "2025-01-16T05:27:24.378227Z",
         "BurstId": 359500,
         "ByteOffset": 1300130643,
         "ContentDate": {
          "End": "2025-01-16T05:27:25.424639Z",
          "Start": "2025-01-16T05:27:24.378227Z"
         },
         "ContentType": "application/octet-stream",
         "DatatakeID": 463703,
         "EndingDateTime": "2025-01-16T05:27:25.424639Z",
         "Footprint": "geography'SRID=4326;POLYGON ((11.255174 46.829271, 10.652277 46.904859, 10.082173 46.973353, 10.034966 46.781093, 10.604062 46.716804, 11.205925 46.645435, 11.255174 46.829271))'",
         "GeoFootprint": {
          "coordinates": [
           [
            [
             11.255174,
             46.829271
            ],
            [
             10.652277,
             46.904859
            ],
            [
             10.082173,
             46.973353
            ],
            [
             10.034966,
             46.781093
            ],
            [
             10.604062,
             46.716804
            ],
            [
             11.205925,
             46.645435
            ],
            [
             11.255174,
             46.829271
            ]
           ]
          ],
          "type": "Polygon"
         },
         "Id": "24074b84-32bd-4a25-8bf4-c78a5a7a743c",
         "Lines": 12152,
         "LinesPerBurst": 1519,
         "Name": "S1A-SLC-20250116T052724-359500-IW2-VV-463703",
         "OperationalMode": "IW",
         "OrbitDirection": "DESCENDING",
         "ParentProductId": "4b1b2a7b-48bd-4d89-8e0e-57dc6d6d006a",
         "ParentProductName": "S1A_IW_SLC__1SDV_20250116T052701_20250116T052728_057465_071357_3BCE.SAFE",
         "ParentProductType": "IW_SLC__1S",
         "PlatformSerialIdentifier": "A",
         "PolarisationChannels": "VV",
         "RelativeOrbitNumber": 168,
         "S3Path": "/eodata/Sentinel-1/SAR/IW_SLC__1S/2025/01/16/S1A_IW_SLC__1SDV_20250116T052701_20250116T052728_057465_071357_3BCE.SAFE/measurement/s1a-iw2-slc-vv-20250116t052701-20250116t052726-057465-071357-005.tiff",
         "SamplesPerBurst": 26745,
         "SwathIdentifier": "IW2"
        },
        {
         "@odata.mediaContentType": "application/octet-stream",
         "AbsoluteBurstId": 123429323,
         "AzimuthAnxTime": 2196.8698164334,
         "AzimuthTime": "2025-01-16T05:27:25.174427Z",
         "BeginningDateTime": "2025-01-16T05:27:26.304301Z",
         "BurstId": 359501,
         "ByteOffset": 1109514331,
         "ContentDate": {
          "End": "2025-01-16T05:27:27.182511Z",
          "Start": "2025-01-16T05:27:26.304301Z"
         },
         "ContentType": "application/octet-stream",
         "DatatakeID": 463703,
         "EndingDateTime": "2025-01-16T05:27:27.182511Z",
         "Footprint": "geography'SRID=4326;POLYGON ((12.306189 46.586499, 11.729773 46.66502, 11.194249 46.735345, 11.139994 46.531867, 11.674696 46.466093, 12.250223 46.392142, 12.306189 46.586499))'",
         "GeoFootprint": {
          "coordinates": [
           [
            [
             12.306189,
             46.586499
            ],
            [
             11.729773,
             46.66502
            ],
            [
             11.194249,
             46.735345
            ],
            [
             11.139994,
             46.531867
            ],
            [
             11.674696,
             46.466093
            ],
            [
             12.250223,
             46.392142
            ],
            [
             12.306189,
             46.586499
            ]
           ]
          ],
          "type": "Polygon"
         },
         "Id": "4708a722-c033-4800-99bd-61790d8eb4ab",
         "Lines": 12064,
         "LinesPerBurst": 1508,
         "Name": "S1A-SLC-20250116T052726-359501-IW1-VV-463703",
         "OperationalMode": "IW",
         "OrbitDirection": "DESCENDING",
         "ParentProductId": "4b1b2a7b-48bd-4d89-8e0e-57dc6d6d006a",
         "ParentProductName": "S1A_IW_SLC__1SDV_20250116T052701_20250116T052728_057465_071357_3BCE.SAFE",
         "ParentProductType": "IW_SLC__1S",
         "PlatformSerialIdentifier": "A",
         "PolarisationChannels": "VV",
         "RelativeOrbitNumber": 168,
         "S3Path": "/eodata/Sentinel-1/SAR/IW_SLC__1S/2025/01/16/S1A_IW_SLC__1SDV_20250116T052701_20250116T052728_057465_071357_3BCE.SAFE/measurement/s1a-iw1-slc-vv-20250116t052703-20250116t052728-057465-071357-004.tiff",
         "SamplesPerBurst": 22990,
         "SwathIdentifier": "IW1"
        },
        {
         "@odata.mediaContentType": "application/octet-stream",
         "AbsoluteBurstId": 123429324,
         "AzimuthAnxTime": 2197.8153726672,
         "AzimuthTime": "2025-01-16T05:27:26.119984Z",
         "BeginningDateTime": "2025-01-16T05:27:27.136503Z",
         "BurstId": 359501,
         "ByteOffset": 109683,
         "ContentDate": {
          "End": "2025-01-16T05:27:28.182915Z",
          "Start": "2025-01-16T05:27:27.136503Z"
         },
         "ContentType": "application/octet-stream",
         "DatatakeID": 463703,
         "EndingDateTime": "2025-01-16T05:27:28.182915Z",
         "Footprint": "geography'SRID=4326;POLYGON ((11.210885 46.663981, 10.609883 46.739546, 10.041572 46.808037, 9.994503 46.61577, 10.56182 46.551482, 11.161802 46.480136, 11.210885 46.663981))'",
         "GeoFootprint": {
          "coordinates": [
           [
            [
             11.210885,
             46.663981
            ],
            [
             10.609883,
             46.739546
            ],
            [
             10.041572,
             46.808037
            ],
            [
             9.994503,
             46.61577
            ],
            [
             10.56182,
             46.551482
            ],
            [
             11.161802,
             46.480136
            ],
            [
             11.210885,
             46.663981
            ]
           ]
          ],
          "type": "Polygon"
         },
         "Id": "eb9c79fa-2c71-41db-bef8-56454802fe16",
         "Lines": 0,
         "LinesPerBurst": 1519,
         "Name": "S1A-SLC-20250116T052727-359501-IW2-VV-463703",
         "OperationalMode": "IW",
         "OrbitDirection": "DESCENDING",
         "ParentProductId": "85e2e078-9e7d-45f9-8993-53fe418dd775",
         "ParentProductName": "S1A_IW_SLC__1SDV_20250116T052726_20250116T052753_057465_071357_05E1.SAFE",
         "ParentProductType": "IW_SLC__1S",
         "PlatformSerialIdentifier": "A",
         "PolarisationChannels": "VV",
         "RelativeOrbitNumber": 168,
         "S3Path": "/eodata/Sentinel-1/SAR/IW_SLC__1S/2025/01/16/S1A_IW_SLC__1SDV_20250116T052726_20250116T052753_057465_071357_05E1.SAFE/measurement/s1a-iw2-slc-vv-20250116t052726-20250116t052751-057465-071357-005.tiff",
         "SamplesPerBurst": 26745,
         "SwathIdentifier": "IW2"
        },
        {
         "@odata.mediaContentType": "application/octet-stream",
         "AbsoluteBurstId": 123429324,
         "AzimuthAnxTime": 2199.6283731092,
         "AzimuthTime": "2025-01-16T05:27:27.932984Z",
         "BeginningDateTime": "2025-01-16T05:27:29.062577Z",
         "BurstId": 359502,
         "ByteOffset": 108891,
         "ContentDate": {
          "End": "2025-01-16T05:27:29.940787Z",
          "Start": "2025-01-16T05:27:29.062577Z"
         },
         "ContentType": "application/octet-stream",
         "DatatakeID": 463703,
         "EndingDateTime": "2025-01-16T05:27:29.940787Z",
         "Footprint": "geography'SRID=4326;POLYGON ((12.258601 46.421295, 11.684 46.499758, 11.150156 46.570046, 11.096085 46.366558, 11.629119 46.30082, 12.202845 46.226925, 12.258601 46.421295))'",
         "GeoFootprint": {
          "coordinates": [
           [
            [
             12.258601,
             46.421295
            ],
            [
             11.684,
             46.499758
            ],
            [
             11.150156,
             46.570046
            ],
            [
             11.096085,
             46.366558
            ],
            [
             11.629119,
             46.30082
            ],
            [
             12.202845,
             46.226925
            ],
            [
             12.258601,
             46.421295
            ]
           ]
          ],
          "type": "Polygon"
         },
         "Id": "c708774e-8dfc-4578-9412-cee2fb7c8bfb",
         "Lines": 0,
         "LinesPerBurst": 1508,
         "Name": "S1A-SLC-20250116T052729-359502-IW1-VV-463703",
         "OperationalMode": "IW",
         "OrbitDirection": "DESCENDING",
         "ParentProductId": "85e2e078-9e7d-45f9-8993-53fe418dd775",
         "ParentProductName": "S1A_IW_SLC__1SDV_20250116T052726_20250116T052753_057465_071357_05E1.SAFE",
         "ParentProductType": "IW_SLC__1S",
         "PlatformSerialIdentifier": "A",
         "PolarisationChannels": "VV",
         "RelativeOrbitNumber": 168,
         "S3Path": "/eodata/Sentinel-1/SAR/IW_SLC__1S/2025/01/16/S1A_IW_SLC__1SDV_20250116T052726_20250116T052753_057465_071357_05E1.SAFE/measurement/s1a-iw1-slc-vv-20250116t052727-20250116t052753-057465-071357-004.tiff",
         "SamplesPerBurst": 22990,
         "SwathIdentifier": "IW1"
        },
        {
         "@odata.mediaContentType": "application/octet-stream",
         "AbsoluteBurstId": 123429325,
         "AzimuthAnxTime": 2200.5698181092,
         "AzimuthTime": "2025-01-16T05:27:28.874429Z",
         "BeginningDateTime": "2025-01-16T05:27:29.894780Z",
         "BurstId": 359502,
         "ByteOffset": 162612303,
         "ContentDate": {
          "End": "2025-01-16T05:27:30.941192Z",
          "Start": "2025-01-16T05:27:29.894780Z"
         },
         "ContentType": "application/octet-stream",
         "DatatakeID": 463703,
         "EndingDateTime": "2025-01-16T05:27:30.941192Z",
         "Footprint": "geography'SRID=4326;POLYGON ((11.166745 46.49868, 10.567623 46.574222, 10.001088 46.64271, 9.954156 46.450436, 10.519711 46.386151, 11.117828 46.314825, 11.166745 46.49868))'",
         "GeoFootprint": {
          "coordinates": [
           [
            [
             11.166745,
             46.49868
            ],
            [
             10.567623,
             46.574222
            ],
            [
             10.001088,
             46.64271
            ],
            [
             9.954156,
             46.450436
            ],
            [
             10.519711,
             46.386151
            ],
            [
             11.117828,
             46.314825
            ],
            [
             11.166745,
             46.49868
            ]
           ]
          ],
          "type": "Polygon"
         },
         "Id": "02dcc4e0-2a82-48db-a0f8-8b5b256762b9",
         "Lines": 1519,
         "LinesPerBurst": 1519,
         "Name": "S1A-SLC-20250116T052729-359502-IW2-VV-463703",
         "OperationalMode": "IW",
         "OrbitDirection": "DESCENDING",
         "ParentProductId": "85e2e078-9e7d-45f9-8993-53fe418dd775",
         "ParentProductName": "S1A_IW_SLC__1SDV_20250116T052726_20250116T052753_057465_071357_05E1.SAFE",
         "ParentProductType": "IW_SLC__1S",
         "PlatformSerialIdentifier": "A",
         "PolarisationChannels": "VV",
         "RelativeOrbitNumber": 168,
         "S3Path": "/eodata/Sentinel-1/SAR/IW_SLC__1S/2025/01/16/S1A_IW_SLC__1SDV_20250116T052726_20250116T052753_057465_071357_05E1.SAFE/measurement/s1a-iw2-slc-vv-20250116t052726-20250116t052751-057465-071357-005.tiff",
         "SamplesPerBurst": 26745,
         "SwathIdentifier": "IW2"
        },
        {
         "@odata.mediaContentType": "application/octet-stream",
         "AbsoluteBurstId": 123429325,
         "AzimuthAnxTime": 2202.3848741075,
         "AzimuthTime": "2025-01-16T05:27:30.689485Z",
         "BeginningDateTime": "2025-01-16T05:27:31.820854Z",
         "BurstId": 359503,
         "ByteOffset": 138784571,
         "ContentDate": {
          "End": "2025-01-16T05:27:32.699064Z",
          "Start": "2025-01-16T05:27:31.820854Z"
         },
         "ContentType": "application/octet-stream",
         "DatatakeID": 463703,
         "EndingDateTime": "2025-01-16T05:27:32.699064Z",
         "Footprint": "geography'SRID=4326;POLYGON ((12.211191 46.256077, 11.638389 46.334483, 11.106212 46.404736, 11.052321 46.201238, 11.583702 46.135533, 12.155641 46.061695, 12.211191 46.256077))'",
         "GeoFootprint": {
          "coordinates": [
           [
            [
             12.211191,
             46.256077
            ],
            [
             11.638389,
             46.334483
            ],
            [
             11.106212,
             46.404736
            ],
            [
             11.052321,
             46.201238
            ],
            [
             11.583702,
             46.135533
            ],
            [
             12.155641,
             46.061695
            ],
            [
             12.211191,
             46.256077
            ]
           ]
          ],
          "type": "Polygon"
         },
         "Id": "40ca4eee-092a-4d43-8bd6-e3b58a1ed84b",
         "Lines": 1508,
         "LinesPerBurst": 1508,
         "Name": "S1A-SLC-20250116T052731-359503-IW1-VV-463703",
         "OperationalMode": "IW",
         "OrbitDirection": "DESCENDING",
         "ParentProductId": "85e2e078-9e7d-45f9-8993-53fe418dd775",
         "ParentProductName": "S1A_IW_SLC__1SDV_20250116T052726_20250116T052753_057465_071357_05E1.SAFE",
         "ParentProductType": "IW_SLC__1S",
         "PlatformSerialIdentifier": "A",
         "PolarisationChannels": "VV",
         "RelativeOrbitNumber": 168,
         "S3Path": "/eodata/Sentinel-1/SAR/IW_SLC__1S/2025/01/16/S1A_IW_SLC__1SDV_20250116T052726_20250116T052753_057465_071357_05E1.SAFE/measurement/s1a-iw1-slc-vv-20250116t052727-20250116t052753-057465-071357-004.tiff",
         "SamplesPerBurst": 22990,
         "SwathIdentifier": "IW1"
        },
        {
         "@odata.mediaContentType": "application/octet-stream",
         "AbsoluteBurstId": 123648413,
         "AzimuthAnxTime": 2200.7877979914,
         "AzimuthTime": "2025-01-23T05:19:15.060837Z",
         "BeginningDateTime": "2025-01-23T05:19:16.199840Z",
         "BurstId": 202703,
         "ByteOffset": 1256856515,
         "ContentDate": {
          "End": "2025-01-23T05:19:17.104446Z",
          "Start": "2025-01-23T05:19:16.199840Z"
         },
         "ContentType": "application/octet-stream",
         "DatatakeID": 464743,
         "EndingDateTime": "2025-01-23T05:19:17.104446Z",
         "Footprint": "geography'SRID=4326;POLYGON ((12.089482 46.634916, 11.563369 46.69639, 11.056374 46.753309, 11.010245 46.548522, 11.516373 46.496209, 12.041638 46.439349, 12.089482 46.634916))'",
         "GeoFootprint": {
          "coordinates": [
           [
            [
             12.089482,
             46.634916
            ],
            [
             11.563369,
             46.69639
            ],
            [
             11.056374,
             46.753309
            ],
            [
             11.010245,
             46.548522
            ],
            [
             11.516373,
             46.496209
            ],
            [
             12.041638,
             46.439349
            ],
            [
             12.089482,
             46.634916
            ]
           ]
          ],
          "type": "Polygon"
         },
         "Id": "fdffed5a-9961-4cfc-a258-4f9cf1727548",
         "Lines": 12200,
         "LinesPerBurst": 1525,
         "Name": "S1A-SLC-20250123T051916-202703-IW3-VV-464743",
         "OperationalMode": "IW",
         "OrbitDirection": "DESCENDING",
         "ParentProductId": "020f04ca-926a-4fc2-aab8-cd420b17c6fa",
         "ParentProductName": "S1A_IW_SLC__1SDV_20250123T051852_20250123T051919_057567_071767_6BF7.SAFE",
         "ParentProductType": "IW_SLC__1S",
         "PlatformSerialIdentifier": "A",
         "PolarisationChannels": "VV",
         "RelativeOrbitNumber": 95,
         "S3Path": "/eodata/Sentinel-1/SAR/IW_SLC__1S/2025/01/23/S1A_IW_SLC__1SDV_20250123T051852_20250123T051919_057567_071767_6BF7.SAFE/measurement/s1a-iw3-slc-vv-20250123t051852-20250123t051918-057567-071767-006.tiff",
         "SamplesPerBurst": 25753,
         "SwathIdentifier": "IW3"
        },
        {
         "@odata.mediaContentType": "application/octet-stream",
         "AbsoluteBurstId": 123648414,
         "AzimuthAnxTime": 2203.5442989983,
         "AzimuthTime": "2025-01-23T05:19:17.817338Z",
         "BeginningDateTime": "2025-01-23T05:19:18.958116Z",
         "BurstId": 202704,
         "ByteOffset": 110115,
         "ContentDate": {
          "End": "2025-01-23T05:19:19.862722Z",
          "Start": "2025-01-23T05:19:18.958116Z"
         },
         "ContentType": "application/octet-stream",
         "DatatakeID": 464743,
         "EndingDateTime": "2025-01-23T05:19:19.862722Z",
         "Footprint": "geography'SRID=4326;POLYGON ((12.049022 46.469577, 11.524545 46.531064, 11.019128 46.588009, 10.97311 46.383218, 11.477674 46.330878, 12.001315 46.274004, 12.049022 46.469577))'",
         "GeoFootprint": {
          "coordinates": [
           [
            [
             12.049022,
             46.469577
            ],
            [
             11.524545,
             46.531064
            ],
            [
             11.019128,
             46.588009
            ],
            [
             10.97311,
             46.383218
            ],
            [
             11.477674,
             46.330878
            ],
            [
             12.001315,
             46.274004
            ],
            [
             12.049022,
             46.469577
            ]
           ]
          ],
          "type": "Polygon"
         },
         "Id": "e506e922-18ff-42fd-a7f9-d43cd7fb306d",
         "Lines": 0,
         "LinesPerBurst": 1525,
         "Name": "S1A-SLC-20250123T051918-202704-IW3-VV-464743",
         "OperationalMode": "IW",
         "OrbitDirection": "DESCENDING",
         "ParentProductId": "6eac70cf-74e8-4fac-8f8b-71c9384d1f1e",
         "ParentProductName": "S1A_IW_SLC__1SDV_20250123T051916_20250123T051943_057567_071767_F3FA.SAFE",
         "ParentProductType": "IW_SLC__1S",
         "PlatformSerialIdentifier": "A",
         "PolarisationChannels": "VV",
         "RelativeOrbitNumber": 95,
         "S3Path": "/eodata/Sentinel-1/SAR/IW_SLC__1S/2025/01/23/S1A_IW_SLC__1SDV_20250123T051916_20250123T051943_057567_071767_F3FA.SAFE/measurement/s1a-iw3-slc-vv-20250123t051917-20250123t051943-057567-071767-006.tiff",
         "SamplesPerBurst": 25753,
         "SwathIdentifier": "IW3"
        },
        {
         "@odata.mediaContentType": "application/octet-stream",
         "AbsoluteBurstId": 123648415,
         "AzimuthAnxTime": 2206.3049111092,
         "AzimuthTime": "2025-01-23T05:19:20.577950Z",
         "BeginningDateTime": "2025-01-23T05:19:21.716393Z",
         "BurstId": 202705,
         "ByteOffset": 157203415,
         "ContentDate": {
          "End": "2025-01-23T05:19:22.620999Z",
          "Start": "2025-01-23T05:19:21.716393Z"
         },
         "ContentType": "application/octet-stream",
         "DatatakeID": 464743,
         "EndingDateTime": "2025-01-23T05:19:22.620999Z",
         "Footprint": "geography'SRID=4326;POLYGON ((12.01207 46.303822, 11.488229 46.365451, 10.983475 46.422535, 10.937562 46.217752, 11.441477 46.165281, 11.964495 46.108271, 12.01207 46.303822))'",
         "GeoFootprint": {
          "coordinates": [
           [
            [
             12.01207,
             46.303822
            ],
            [
             11.488229,
             46.365451
            ],
            [
             10.983475,
             46.422535
            ],
            [
             10.937562,
             46.217752
            ],
            [
             11.441477,
             46.165281
            ],
            [
             11.964495,
             46.108271
            ],
            [
             12.01207,
             46.303822
            ]
           ]
          ],
          "type": "Polygon"
         },
         "Id": "0ff0a28b-c9e5-4d7c-b45b-a9a63de4b0bd",
         "Lines": 1525,
         "LinesPerBurst": 1525,
         "Name": "S1A-SLC-20250123T051921-202705-IW3-VV-464743",
         "OperationalMode": "IW",
         "OrbitDirection": "DESCENDING",
         "ParentProductId": "6eac70cf-74e8-4fac-8f8b-71c9384d1f1e",
         "ParentProductName": "S1A_IW_SLC__1SDV_20250123T051916_20250123T051943_057567_071767_F3FA.SAFE",
         "ParentProductType": "IW_SLC__1S",
         "PlatformSerialIdentifier": "A",
         "PolarisationChannels": "VV",
         "RelativeOrbitNumber": 95,
         "S3Path": "/eodata/Sentinel-1/SAR/IW_SLC__1S/2025/01/23/S1A_IW_SLC__1SDV_20250123T051916_20250123T051943_057567_071767_F3FA.SAFE/measurement/s1a-iw3-slc-vv-20250123t051917-20250123t051943-057567-071767-006.tiff",
         "SamplesPerBurst": 25753,
         "SwathIdentifier": "IW3"
        },
        {
         "@odata.mediaContentType": "application/octet-stream",
         "AbsoluteBurstId": 123695143,
         "AzimuthAnxTime": 753.4013428856001,
         "AzimuthTime": "2025-01-24T17:07:28.275204Z",
         "BeginningDateTime": "2025-01-24T17:07:29.284492Z",
         "BurstId": 249433,
         "ByteOffset": 640810107,
         "ContentDate": {
          "End": "2025-01-24T17:07:30.326082Z",
          "Start": "2025-01-24T17:07:29.284492Z"
         },
         "ContentType": "application/octet-stream",
         "DatatakeID": 464973,
         "EndingDateTime": "2025-01-24T17:07:30.326082Z",
         "Footprint": "geography'SRID=4326;POLYGON ((10.804564 46.276581, 11.402422 46.34791, 11.967742 46.412202, 11.920848 46.604472, 11.354552 46.535976, 10.755691 46.460429, 10.804564 46.276581))'",
         "GeoFootprint": {
          "coordinates": [
           [
            [
             10.804564,
             46.276581
            ],
            [
             11.402422,
             46.34791
            ],
            [
             11.967742,
             46.412202
            ],
            [
             11.920848,
             46.604472
            ],
            [
             11.354552,
             46.535976
            ],
            [
             10.755691,
             46.460429
            ],
            [
             10.804564,
             46.276581
            ]
           ]
          ],
          "type": "Polygon"
         },
         "Id": "fbf21a0b-90cf-4722-8865-4335097bbf90",
         "Lines": 6048,
         "LinesPerBurst": 1512,
         "Name": "S1A-SLC-20250124T170729-249433-IW2-VV-464973",
         "OperationalMode": "IW",
         "OrbitDirection": "ASCENDING",
         "ParentProductId": "67ec9a8e-f865-43a1-ad0f-aa43b5f18957",
         "ParentProductName": "S1A_IW_SLC__1SDV_20250124T170715_20250124T170742_057589_07184D_DE00.SAFE",
         "ParentProductType": "IW_SLC__1S",
         "PlatformSerialIdentifier": "A",
         "PolarisationChannels": "VV",
         "RelativeOrbitNumber": 117,
         "S3Path": "/eodata/Sentinel-1/SAR/IW_SLC__1S/2025/01/24/S1A_IW_SLC__1SDV_20250124T170715_20250124T170742_057589_07184D_DE00.SAFE/measurement/s1a-iw2-slc-vv-20250124t170717-20250124t170742-057589-07184d-005.tiff",
         "SamplesPerBurst": 26484,
         "SwathIdentifier": "IW2"
        },
        {
         "@odata.mediaContentType": "application/octet-stream",
         "AbsoluteBurstId": 123695144,
         "AzimuthAnxTime": 756.1598994402,
         "AzimuthTime": "2025-01-24T17:07:31.033760Z",
         "BeginningDateTime": "2025-01-24T17:07:32.042769Z",
         "BurstId": 249434,
         "ByteOffset": 800985339,
         "ContentDate": {
          "End": "2025-01-24T17:07:33.084359Z",
          "Start": "2025-01-24T17:07:32.042769Z"
         },
         "ContentType": "application/octet-stream",
         "DatatakeID": 464973,
         "EndingDateTime": "2025-01-24T17:07:33.084359Z",
         "Footprint": "geography'SRID=4326;POLYGON ((10.760624 46.441904, 11.360345 46.513254, 11.927424 46.577547, 11.880394 46.76981, 11.312324 46.701311, 10.711586 46.625741, 10.760624 46.441904))'",
         "GeoFootprint": {
          "coordinates": [
           [
            [
             10.760624,
             46.441904
            ],
            [
             11.360345,
             46.513254
            ],
            [
             11.927424,
             46.577547
            ],
            [
             11.880394,
             46.76981
            ],
            [
             11.312324,
             46.701311
            ],
            [
             10.711586,
             46.625741
            ],
            [
             10.760624,
             46.441904
            ]
           ]
          ],
          "type": "Polygon"
         },
         "Id": "f134b4ce-ccd8-4436-99a7-d91f66eb2c9f",
         "Lines": 7560,
         "LinesPerBurst": 1512,
         "Name": "S1A-SLC-20250124T170732-249434-IW2-VV-464973",
         "OperationalMode": "IW",
         "OrbitDirection": "ASCENDING",
         "ParentProductId": "67ec9a8e-f865-43a1-ad0f-aa43b5f18957",
         "ParentProductName": "S1A_IW_SLC__1SDV_20250124T170715_20250124T170742_057589_07184D_DE00.SAFE",
         "ParentProductType": "IW_SLC__1S",
         "PlatformSerialIdentifier": "A",
         "PolarisationChannels": "VV",
         "RelativeOrbitNumber": 117,
         "S3Path": "/eodata/Sentinel-1/SAR/IW_SLC__1S/2025/01/24/S1A_IW_SLC__1SDV_20250124T170715_20250124T170742_057589_07184D_DE00.SAFE/measurement/s1a-iw2-slc-vv-20250124t170717-20250124t170742-057589-07184d-005.tiff",
         "SamplesPerBurst": 26484,
         "SwathIdentifier": "IW2"
        },
        {
         "@odata.mediaContentType": "application/octet-stream",
         "AbsoluteBurstId": 123695145,
         "AzimuthAnxTime": 758.9184559948001,
         "AzimuthTime": "2025-01-24T17:07:33.792317Z",
         "BeginningDateTime": "2025-01-24T17:07:34.801046Z",
         "BurstId": 249435,
         "ByteOffset": 961160571,
         "ContentDate": {
          "End": "2025-01-24T17:07:35.842636Z",
          "Start": "2025-01-24T17:07:34.801046Z"
         },
         "ContentType": "application/octet-stream",
         "DatatakeID": 464973,
         "EndingDateTime": "2025-01-24T17:07:35.842636Z",
         "Footprint": "geography'SRID=4326;POLYGON ((10.716537 46.607214, 11.318136 46.678586, 11.886991 46.742882, 11.839823 46.935138, 11.269963 46.866635, 10.667332 46.791043, 10.716537 46.607214))'",
         "GeoFootprint": {
          "coordinates": [
           [
            [
             10.716537,
             46.607214
            ],
            [
             11.318136,
             46.678586
            ],
            [
             11.886991,
             46.742882
            ],
            [
             11.839823,
             46.935138
            ],
            [
             11.269963,
             46.866635
            ],
            [
             10.667332,
             46.791043
            ],
            [
             10.716537,
             46.607214
            ]
           ]
          ],
          "type": "Polygon"
         },
         "Id": "ab979ccc-f4ce-4c6d-a896-feaf65c99487",
         "Lines": 9072,
         "LinesPerBurst": 1512,
         "Name": "S1A-SLC-20250124T170734-249435-IW2-VV-464973",
         "OperationalMode": "IW",
         "OrbitDirection": "ASCENDING",
         "ParentProductId": "67ec9a8e-f865-43a1-ad0f-aa43b5f18957",
         "ParentProductName": "S1A_IW_SLC__1SDV_20250124T170715_20250124T170742_057589_07184D_DE00.SAFE",
         "ParentProductType": "IW_SLC__1S",
         "PlatformSerialIdentifier": "A",
         "PolarisationChannels": "VV",
         "RelativeOrbitNumber": 117,
         "S3Path": "/eodata/Sentinel-1/SAR/IW_SLC__1S/2025/01/24/S1A_IW_SLC__1SDV_20250124T170715_20250124T170742_057589_07184D_DE00.SAFE/measurement/s1a-iw2-slc-vv-20250124t170717-20250124t170742-057589-07184d-005.tiff",
         "SamplesPerBurst": 26484,
         "SwathIdentifier": "IW2"
        },
        {
         "@odata.mediaContentType": "application/octet-stream",
         "AbsoluteBurstId": 123805210,
         "AzimuthAnxTime": 2195.0460714351,
         "AzimuthTime": "2025-01-28T05:27:22.853607Z",
         "BeginningDateTime": "2025-01-28T05:27:23.874534Z",
         "BurstId": 359500,
         "ByteOffset": 1300130643,
         "ContentDate": {
          "End": "2025-01-28T05:27:24.920946Z",
          "Start": "2025-01-28T05:27:23.874534Z"
         },
         "ContentType": "application/octet-stream",
         "DatatakeID": 465491,
         "EndingDateTime": "2025-01-28T05:27:24.920946Z",
         "Footprint": "geography'SRID=4326;POLYGON ((11.255174 46.829271, 10.652277 46.904859, 10.082173 46.973353, 10.034966 46.781093, 10.604062 46.716804, 11.205925 46.645435, 11.255174 46.829271))'",
         "GeoFootprint": {
          "coordinates": [
           [
            [
             11.255174,
             46.829271
            ],
            [
             10.652277,
             46.904859
            ],
            [
             10.082173,
             46.973353
            ],
            [
             10.034966,
             46.781093
            ],
            [
             10.604062,
             46.716804
            ],
            [
             11.205925,
             46.645435
            ],
            [
             11.255174,
             46.829271
            ]
           ]
          ],
          "type": "Polygon"
         },
         "Id": "b2daa053-0332-490a-ae34-d02cc93da3d6",
         "Lines": 12152,
         "LinesPerBurst": 1519,
         "Name": "S1A-SLC-20250128T052723-359500-IW2-VV-465491",
         "OperationalMode": "IW",
         "OrbitDirection": "DESCENDING",
         "ParentProductId": "18782a59-e548-4759-8a65-a99160763bf8",
         "ParentProductName": "S1A_IW_SLC__1SDV_20250128T052700_20250128T052727_057640_071A53_6589.SAFE",
         "ParentProductType": "IW_SLC__1S",
         "PlatformSerialIdentifier": "A",
         "PolarisationChannels": "VV",
         "RelativeOrbitNumber": 168,
         "S3Path": "/eodata/Sentinel-1/SAR/IW_SLC__1S/2025/01/28/S1A_IW_SLC__1SDV_20250128T052700_20250128T052727_057640_071A53_6589.SAFE/measurement/s1a-iw2-slc-vv-20250128t052700-20250128t052725-057640-071a53-005.tiff",
         "SamplesPerBurst": 26745,
         "SwathIdentifier": "IW2"
        },
        {
         "@odata.mediaContentType": "application/octet-stream",
         "AbsoluteBurstId": 123805211,
         "AzimuthAnxTime": 2196.865239546,
         "AzimuthTime": "2025-01-28T05:27:24.672776Z",
         "BeginningDateTime": "2025-01-28T05:27:25.800608Z",
         "BurstId": 359501,
         "ByteOffset": 1109514331,
         "ContentDate": {
          "End": "2025-01-28T05:27:26.678818Z",
          "Start": "2025-01-28T05:27:25.800608Z"
         },
         "ContentType": "application/octet-stream",
         "DatatakeID": 465491,
         "EndingDateTime": "2025-01-28T05:27:26.678818Z",
         "Footprint": "geography'SRID=4326;POLYGON ((12.306189 46.586499, 11.729773 46.66502, 11.194249 46.735345, 11.139994 46.531867, 11.674696 46.466093, 12.250223 46.392142, 12.306189 46.586499))'",
         "GeoFootprint": {
          "coordinates": [
           [
            [
             12.306189,
             46.586499
            ],
            [
             11.729773,
             46.66502
            ],
            [
             11.194249,
             46.735345
            ],
            [
             11.139994,
             46.531867
            ],
            [
             11.674696,
             46.466093
            ],
            [
             12.250223,
             46.392142
            ],
            [
             12.306189,
             46.586499
            ]
           ]
          ],
          "type": "Polygon"
         },
         "Id": "8c0a5e4c-606c-422e-8328-a4df2393e7db",
         "Lines": 12064,
         "LinesPerBurst": 1508,
         "Name": "S1A-SLC-20250128T052725-359501-IW1-VV-465491",
         "OperationalMode": "IW",
         "OrbitDirection": "DESCENDING",
         "ParentProductId": "18782a59-e548-4759-8a65-a99160763bf8",
         "ParentProductName": "S1A_IW_SLC__1SDV_20250128T052700_20250128T052727_057640_071A53_6589.SAFE",
         "ParentProductType": "IW_SLC__1S",
         "PlatformSerialIdentifier": "A",
         "PolarisationChannels": "VV",
         "RelativeOrbitNumber": 168,
         "S3Path": "/eodata/Sentinel-1/SAR/IW_SLC__1S/2025/01/28/S1A_IW_SLC__1SDV_20250128T052700_20250128T052727_057640_071A53_6589.SAFE/measurement/s1a-iw1-slc-vv-20250128t052702-20250128t052727-057640-071a53-004.tiff",
         "SamplesPerBurst": 22990,
         "SwathIdentifier": "IW1"
        },
        {
         "@odata.mediaContentType": "application/octet-stream",
         "AbsoluteBurstId": 123805211,
         "AzimuthAnxTime": 2197.8066841109,
         "AzimuthTime": "2025-01-28T05:27:25.614220Z",
         "BeginningDateTime": "2025-01-28T05:27:26.632810Z",
         "BurstId": 359501,
         "ByteOffset": 109683,
         "ContentDate": {
          "End": "2025-01-28T05:27:27.679222Z",
          "Start": "2025-01-28T05:27:26.632810Z"
         },
         "ContentType": "application/octet-stream",
         "DatatakeID": 465491,
         "EndingDateTime": "2025-01-28T05:27:27.679222Z",
         "Footprint": "geography'SRID=4326;POLYGON ((11.210885 46.663981, 10.609883 46.739546, 10.041572 46.808037, 9.994503 46.61577, 10.56182 46.551482, 11.161802 46.480136, 11.210885 46.663981))'",
         "GeoFootprint": {
          "coordinates": [
           [
            [
             11.210885,
             46.663981
            ],
            [
             10.609883,
             46.739546
            ],
            [
             10.041572,
             46.808037
            ],
            [
             9.994503,
             46.61577
            ],
            [
             10.56182,
             46.551482
            ],
            [
             11.161802,
             46.480136
            ],
            [
             11.210885,
             46.663981
            ]
           ]
          ],
          "type": "Polygon"
         },
         "Id": "292df96b-0c15-4cd8-a546-544bd1d21a10",
         "Lines": 0,
         "LinesPerBurst": 1519,
         "Name": "S1A-SLC-20250128T052726-359501-IW2-VV-465491",
         "OperationalMode": "IW",
         "OrbitDirection": "DESCENDING",
         "ParentProductId": "1b035bab-9917-4508-a0d6-bd692d3ef28f",
         "ParentProductName": "S1A_IW_SLC__1SDV_20250128T052725_20250128T052752_057640_071A53_7DC1.SAFE",
         "ParentProductType": "IW_SLC__1S",
         "PlatformSerialIdentifier": "A",
         "PolarisationChannels": "VV",
         "RelativeOrbitNumber": 168,
         "S3Path": "/eodata/Sentinel-1/SAR/IW_SLC__1S/2025/01/28/S1A_IW_SLC__1SDV_20250128T052725_20250128T052752_057640_071A53_7DC1.SAFE/measurement/s1a-iw2-slc-vv-20250128t052725-20250128t052750-057640-071a53-005.tiff",
         "SamplesPerBurst": 26745,
         "SwathIdentifier": "IW2"
        },
        {
         "@odata.mediaContentType": "application/octet-stream",
         "AbsoluteBurstId": 123805212,
         "AzimuthAnxTime": 2199.6237956655,
         "AzimuthTime": "2025-01-28T05:27:27.431332Z",
         "BeginningDateTime": "2025-01-28T05:27:28.558884Z",
         "BurstId": 359502,
         "ByteOffset": 108891,
         "ContentDate": {
          "End": "2025-01-28T05:27:29.437094Z",
          "Start": "2025-01-28T05:27:28.558884Z"
         },
         "ContentType": "application/octet-stream",
         "DatatakeID": 465491,
         "EndingDateTime": "2025-01-28T05:27:29.437094Z",
         "Footprint": "geography'SRID=4326;POLYGON ((12.258601 46.421295, 11.684 46.499758, 11.150156 46.570046, 11.096085 46.366558, 11.629119 46.30082, 12.202845 46.226925, 12.258601 46.421295))'",
         "GeoFootprint": {
          "coordinates": [
           [
            [
             12.258601,
             46.421295
            ],
            [
             11.684,
             46.499758
            ],
            [
             11.150156,
             46.570046
            ],
            [
             11.096085,
             46.366558
            ],
            [
             11.629119,
             46.30082
            ],
            [
             12.202845,
             46.226925
            ],
            [
             12.258601,
             46.421295
            ]
           ]
          ],
          "type": "Polygon"
         },
         "Id": "c532488e-2499-4069-a993-d783e69270c9",
         "Lines": 0,
         "LinesPerBurst": 1508,
         "Name": "S1A-SLC-20250128T052728-359502-IW1-VV-465491",
         "OperationalMode": "IW",
         "OrbitDirection": "DESCENDING",
         "ParentProductId": "1b035bab-9917-4508-a0d6-bd692d3ef28f",
         "ParentProductName": "S1A_IW_SLC__1SDV_20250128T052725_20250128T052752_057640_071A53_7DC1.SAFE",
         "ParentProductType": "IW_SLC__1S",
         "PlatformSerialIdentifier": "A",
         "PolarisationChannels": "VV",
         "RelativeOrbitNumber": 168,
         "S3Path": "/eodata/Sentinel-1/SAR/IW_SLC__1S/2025/01/28/S1A_IW_SLC__1SDV_20250128T052725_20250128T052752_057640_071A53_7DC1.SAFE/measurement/s1a-iw1-slc-vv-20250128t052727-20250128t052752-057640-071a53-004.tiff",
         "SamplesPerBurst": 22990,
         "SwathIdentifier": "IW1"
        },
        {
         "@odata.mediaContentType": "application/octet-stream",
         "AbsoluteBurstId": 123805212,
         "AzimuthAnxTime": 2200.5652406655,
         "AzimuthTime": "2025-01-28T05:27:28.372777Z",
         "BeginningDateTime": "2025-01-28T05:27:29.391087Z",
         "BurstId": 359502,
         "ByteOffset": 162612303,
         "ContentDate": {
          "End": "2025-01-28T05:27:30.437499Z",
          "Start": "2025-01-28T05:27:29.391087Z"
         },
         "ContentType": "application/octet-stream",
         "DatatakeID": 465491,
         "EndingDateTime": "2025-01-28T05:27:30.437499Z",
         "Footprint": "geography'SRID=4326;POLYGON ((11.166745 46.49868, 10.567623 46.574222, 10.001088 46.64271, 9.954156 46.450436, 10.519711 46.386151, 11.117828 46.314825, 11.166745 46.49868))'",
         "GeoFootprint": {
          "coordinates": [
           [
            [
             11.166745,
             46.49868
            ],
            [
             10.567623,
             46.574222
            ],
            [
             10.001088,
             46.64271
            ],
            [
             9.954156,
             46.450436
            ],
            [
             10.519711,
             46.386151
            ],
            [
             11.117828,
             46.314825
            ],
            [
             11.166745,
             46.49868
            ]
           ]
          ],
          "type": "Polygon"
         },
         "Id": "293e369f-e144-4cee-87cf-d5616edef9ca",
         "Lines": 1519,
         "LinesPerBurst": 1519,
         "Name": "S1A-SLC-20250128T052729-359502-IW2-VV-465491",
         "OperationalMode": "IW",
         "OrbitDirection": "DESCENDING",
         "ParentProductId": "1b035bab-9917-4508-a0d6-bd692d3ef28f",
         "ParentProductName": "S1A_IW_SLC__1SDV_20250128T052725_20250128T052752_057640_071A53_7DC1.SAFE",
         "ParentProductType": "IW_SLC__1S",
         "PlatformSerialIdentifier": "A",
         "PolarisationChannels": "VV",
         "RelativeOrbitNumber": 168,
         "S3Path": "/eodata/Sentinel-1/SAR/IW_SLC__1S/2025/01/28/S1A_IW_SLC__1SDV_20250128T052725_20250128T052752_057640_071A53_7DC1.SAFE/measurement/s1a-iw2-slc-vv-20250128t052725-20250128t052750-057640-071a53-005.tiff",
         "SamplesPerBurst": 26745,
         "SwathIdentifier": "IW2"
        },
        {
         "@odata.mediaContentType": "application/octet-stream",
         "AbsoluteBurstId": 123805213,
         "AzimuthAnxTime": 2202.3823522201,
         "AzimuthTime": "2025-01-28T05:27:30.189888Z",
         "BeginningDateTime": "2025-01-28T05:27:31.317161Z",
         "BurstId": 359503,
         "ByteOffset": 138784571,
         "ContentDate": {
          "End": "2025-01-28T05:27:32.195371Z",
          "Start": "2025-01-28T05:27:31.317161Z"
         },
         "ContentType": "application/octet-stream",
         "DatatakeID": 465491,
         "EndingDateTime": "2025-01-28T05:27:32.195371Z",
         "Footprint": "geography'SRID=4326;POLYGON ((12.211191 46.256077, 11.638389 46.334483, 11.106212 46.404736, 11.052321 46.201238, 11.583702 46.135533, 12.155641 46.061695, 12.211191 46.256077))'",
         "GeoFootprint": {
          "coordinates": [
           [
            [
             12.211191,
             46.256077
            ],
            [
             11.638389,
             46.334483
            ],
            [
             11.106212,
             46.404736
            ],
            [
             11.052321,
             46.201238
            ],
            [
             11.583702,
             46.135533
            ],
            [
             12.155641,
             46.061695
            ],
            [
             12.211191,
             46.256077
            ]
           ]
          ],
          "type": "Polygon"
         },
         "Id": "fcf66de7-51e0-46f2-9449-c2d8ee9f2f41",
         "Lines": 1508,
         "LinesPerBurst": 1508,
         "Name": "S1A-SLC-20250128T052731-359503-IW1-VV-465491",
         "OperationalMode": "IW",
         "OrbitDirection": "DESCENDING",
         "ParentProductId": "1b035bab-9917-4508-a0d6-bd692d3ef28f",
         "ParentProductName": "S1A_IW_SLC__1SDV_20250128T052725_20250128T052752_057640_071A53_7DC1.SAFE",
         "ParentProductType": "IW_SLC__1S",
         "PlatformSerialIdentifier": "A",
         "PolarisationChannels": "VV",
         "RelativeOrbitNumber": 168,
         "S3Path": "/eodata/Sentinel-1/SAR/IW_SLC__1S/2025/01/28/S1A_IW_SLC__1SDV_20250128T052725_20250128T052752_057640_071A53_7DC1.SAFE/measurement/s1a-iw1-slc-vv-20250128t052727-20250128t052752-057640-071a53-004.tiff",
         "SamplesPerBurst": 22990,
         "SwathIdentifier": "IW1"
        }
       ]
      },
      "text/plain": [
       "<IPython.core.display.JSON object>"
      ]
     },
     "execution_count": 5,
     "metadata": {
      "application/json": {
       "expanded": false,
       "root": "root"
      }
     },
     "output_type": "execute_result"
    }
   ],
   "source": [
    "https_request = f\"https://catalogue.dataspace.copernicus.eu/odata/v1/Bursts?$filter=\" + urllib.parse.quote(\n",
    "    f\"ContentDate/Start ge {start_date}T00:00:00.000Z and ContentDate/Start le {end_date}T23:59:59.000Z and \"\n",
    "    f\"PolarisationChannels eq 'VV' and \"\n",
    "    f\"OData.CSC.Intersects(area=geography'SRID=4326;{geom.wkt}')\"\n",
    ") + \"&$top=1000\"\n",
    "\n",
    "with urllib.request.urlopen(https_request) as response:\n",
    "    content = response.read().decode()\n",
    "bursts = json.loads(content)\n",
    "JSON(bursts)"
   ]
  },
  {
   "cell_type": "code",
   "execution_count": 6,
   "id": "d3a31fd1-081e-4c51-b510-3ce8980762d9",
   "metadata": {
    "tags": []
   },
   "outputs": [],
   "source": [
    "bursts_uniqueTrack = {}\n",
    "burstId_list = []\n",
    "track_list = []\n",
    "for b in bursts['value']:\n",
    "    if b['RelativeOrbitNumber'] not in track_list:\n",
    "        bursts_uniqueTrack[b['RelativeOrbitNumber']] = {}\n",
    "        track_list.append(b['RelativeOrbitNumber'])\n",
    "    burstId_subswath = f\"BurstId: {b['BurstId']}, {b['SwathIdentifier']}\"\n",
    "    if burstId_subswath not in burstId_list:\n",
    "        bursts_uniqueTrack[b['RelativeOrbitNumber']][burstId_subswath] = b['GeoFootprint']['coordinates']\n",
    "        burstId_list.append(burstId_subswath)"
   ]
  },
  {
   "cell_type": "markdown",
   "id": "2948dbea-0f4c-43d4-8595-3c7bace09ee1",
   "metadata": {},
   "source": [
    "## 3) Show on map"
   ]
  },
  {
   "cell_type": "code",
   "execution_count": 7,
   "id": "e51b7ad9-c6a8-4621-a219-c972210beb98",
   "metadata": {
    "tags": []
   },
   "outputs": [
    {
     "data": {
      "text/html": [
       "<div style=\"width:100%;\"><div style=\"position:relative;width:100%;height:0;padding-bottom:60%;\"><span style=\"color:#565656\">Make this Notebook Trusted to load map: File -> Trust Notebook</span><iframe srcdoc=\"&lt;!DOCTYPE html&gt;\n",
       "&lt;html&gt;\n",
       "&lt;head&gt;\n",
       "    \n",
       "    &lt;meta http-equiv=&quot;content-type&quot; content=&quot;text/html; charset=UTF-8&quot; /&gt;\n",
       "    \n",
       "        &lt;script&gt;\n",
       "            L_NO_TOUCH = false;\n",
       "            L_DISABLE_3D = false;\n",
       "        &lt;/script&gt;\n",
       "    \n",
       "    &lt;style&gt;html, body {width: 100%;height: 100%;margin: 0;padding: 0;}&lt;/style&gt;\n",
       "    &lt;style&gt;#map {position:absolute;top:0;bottom:0;right:0;left:0;}&lt;/style&gt;\n",
       "    &lt;script src=&quot;https://cdn.jsdelivr.net/npm/leaflet@1.9.3/dist/leaflet.js&quot;&gt;&lt;/script&gt;\n",
       "    &lt;script src=&quot;https://code.jquery.com/jquery-3.7.1.min.js&quot;&gt;&lt;/script&gt;\n",
       "    &lt;script src=&quot;https://cdn.jsdelivr.net/npm/bootstrap@5.2.2/dist/js/bootstrap.bundle.min.js&quot;&gt;&lt;/script&gt;\n",
       "    &lt;script src=&quot;https://cdnjs.cloudflare.com/ajax/libs/Leaflet.awesome-markers/2.0.2/leaflet.awesome-markers.js&quot;&gt;&lt;/script&gt;\n",
       "    &lt;link rel=&quot;stylesheet&quot; href=&quot;https://cdn.jsdelivr.net/npm/leaflet@1.9.3/dist/leaflet.css&quot;/&gt;\n",
       "    &lt;link rel=&quot;stylesheet&quot; href=&quot;https://cdn.jsdelivr.net/npm/bootstrap@5.2.2/dist/css/bootstrap.min.css&quot;/&gt;\n",
       "    &lt;link rel=&quot;stylesheet&quot; href=&quot;https://netdna.bootstrapcdn.com/bootstrap/3.0.0/css/bootstrap-glyphicons.css&quot;/&gt;\n",
       "    &lt;link rel=&quot;stylesheet&quot; href=&quot;https://cdn.jsdelivr.net/npm/@fortawesome/fontawesome-free@6.2.0/css/all.min.css&quot;/&gt;\n",
       "    &lt;link rel=&quot;stylesheet&quot; href=&quot;https://cdnjs.cloudflare.com/ajax/libs/Leaflet.awesome-markers/2.0.2/leaflet.awesome-markers.css&quot;/&gt;\n",
       "    &lt;link rel=&quot;stylesheet&quot; href=&quot;https://cdn.jsdelivr.net/gh/python-visualization/folium/folium/templates/leaflet.awesome.rotate.min.css&quot;/&gt;\n",
       "    \n",
       "            &lt;meta name=&quot;viewport&quot; content=&quot;width=device-width,\n",
       "                initial-scale=1.0, maximum-scale=1.0, user-scalable=no&quot; /&gt;\n",
       "            &lt;style&gt;\n",
       "                #map_49da8164499c9de074162df3ef49db8a {\n",
       "                    position: relative;\n",
       "                    width: 100.0%;\n",
       "                    height: 100.0%;\n",
       "                    left: 0.0%;\n",
       "                    top: 0.0%;\n",
       "                }\n",
       "                .leaflet-container { font-size: 1rem; }\n",
       "            &lt;/style&gt;\n",
       "        \n",
       "    &lt;script src=&quot;https://cdn.jsdelivr.net/npm/leaflet.control.layers.tree@1.1.0/L.Control.Layers.Tree.min.js&quot;&gt;&lt;/script&gt;\n",
       "    &lt;link rel=&quot;stylesheet&quot; href=&quot;https://cdn.jsdelivr.net/npm/leaflet.control.layers.tree@1.1.0/L.Control.Layers.Tree.min.css&quot;/&gt;\n",
       "&lt;/head&gt;\n",
       "&lt;body&gt;\n",
       "    \n",
       "    \n",
       "            &lt;div class=&quot;folium-map&quot; id=&quot;map_49da8164499c9de074162df3ef49db8a&quot; &gt;&lt;/div&gt;\n",
       "        \n",
       "&lt;/body&gt;\n",
       "&lt;script&gt;\n",
       "    \n",
       "    \n",
       "            var map_49da8164499c9de074162df3ef49db8a = L.map(\n",
       "                &quot;map_49da8164499c9de074162df3ef49db8a&quot;,\n",
       "                {\n",
       "                    center: [46.517524, 11.1301725],\n",
       "                    crs: L.CRS.EPSG3857,\n",
       "                    ...{\n",
       "  &quot;zoom&quot;: 8,\n",
       "  &quot;zoomControl&quot;: true,\n",
       "  &quot;preferCanvas&quot;: false,\n",
       "}\n",
       "\n",
       "                }\n",
       "            );\n",
       "\n",
       "            \n",
       "\n",
       "        \n",
       "    \n",
       "            var tile_layer_acd5d684e0e4b22e2939b87b38eb9704 = L.tileLayer(\n",
       "                &quot;https://tile.openstreetmap.org/{z}/{x}/{y}.png&quot;,\n",
       "                {\n",
       "  &quot;minZoom&quot;: 0,\n",
       "  &quot;maxZoom&quot;: 19,\n",
       "  &quot;maxNativeZoom&quot;: 19,\n",
       "  &quot;noWrap&quot;: false,\n",
       "  &quot;attribution&quot;: &quot;\\u0026copy; \\u003ca href=\\&quot;https://www.openstreetmap.org/copyright\\&quot;\\u003eOpenStreetMap\\u003c/a\\u003e contributors&quot;,\n",
       "  &quot;subdomains&quot;: &quot;abc&quot;,\n",
       "  &quot;detectRetina&quot;: false,\n",
       "  &quot;tms&quot;: false,\n",
       "  &quot;opacity&quot;: 1,\n",
       "}\n",
       "\n",
       "            );\n",
       "        \n",
       "    \n",
       "            tile_layer_acd5d684e0e4b22e2939b87b38eb9704.addTo(map_49da8164499c9de074162df3ef49db8a);\n",
       "        \n",
       "    \n",
       "            var polygon_3452f4a0318cc35e863ffc8a952814dd = L.polygon(\n",
       "                [[46.395774, 11.157124], [46.660323, 11.157124], [46.660323, 11.459284], [46.395774, 11.459284], [46.395774, 11.157124]],\n",
       "                {&quot;bubblingMouseEvents&quot;: true, &quot;color&quot;: &quot;blue&quot;, &quot;dashArray&quot;: null, &quot;dashOffset&quot;: null, &quot;fill&quot;: true, &quot;fillColor&quot;: &quot;blue&quot;, &quot;fillOpacity&quot;: 0.4, &quot;fillRule&quot;: &quot;evenodd&quot;, &quot;lineCap&quot;: &quot;round&quot;, &quot;lineJoin&quot;: &quot;round&quot;, &quot;noClip&quot;: false, &quot;opacity&quot;: 1.0, &quot;smoothFactor&quot;: 1.0, &quot;stroke&quot;: true, &quot;weight&quot;: 3}\n",
       "            ).addTo(map_49da8164499c9de074162df3ef49db8a);\n",
       "        \n",
       "    \n",
       "            var polygon_4577adeb2a237b9a9958a2f4b97c31a5 = L.polygon(\n",
       "                [[46.634916, 12.089482], [46.69639, 11.563369], [46.753309, 11.056374], [46.548522, 11.010245], [46.496209, 11.516373], [46.439349, 12.041638], [46.634916, 12.089482]],\n",
       "                {&quot;bubblingMouseEvents&quot;: true, &quot;color&quot;: &quot;red&quot;, &quot;dashArray&quot;: null, &quot;dashOffset&quot;: null, &quot;fill&quot;: false, &quot;fillColor&quot;: &quot;red&quot;, &quot;fillOpacity&quot;: 0.2, &quot;fillRule&quot;: &quot;evenodd&quot;, &quot;lineCap&quot;: &quot;round&quot;, &quot;lineJoin&quot;: &quot;round&quot;, &quot;noClip&quot;: false, &quot;opacity&quot;: 1.0, &quot;smoothFactor&quot;: 1.0, &quot;stroke&quot;: true, &quot;weight&quot;: 3}\n",
       "            ).addTo(map_49da8164499c9de074162df3ef49db8a);\n",
       "        \n",
       "    \n",
       "            var polygon_dc1effa8e1bddc52aee7bb03173780ae = L.polygon(\n",
       "                [[46.469577, 12.049022], [46.531064, 11.524545], [46.588009, 11.019128], [46.383218, 10.97311], [46.330878, 11.477674], [46.274004, 12.001315], [46.469577, 12.049022]],\n",
       "                {&quot;bubblingMouseEvents&quot;: true, &quot;color&quot;: &quot;red&quot;, &quot;dashArray&quot;: null, &quot;dashOffset&quot;: null, &quot;fill&quot;: false, &quot;fillColor&quot;: &quot;red&quot;, &quot;fillOpacity&quot;: 0.2, &quot;fillRule&quot;: &quot;evenodd&quot;, &quot;lineCap&quot;: &quot;round&quot;, &quot;lineJoin&quot;: &quot;round&quot;, &quot;noClip&quot;: false, &quot;opacity&quot;: 1.0, &quot;smoothFactor&quot;: 1.0, &quot;stroke&quot;: true, &quot;weight&quot;: 3}\n",
       "            ).addTo(map_49da8164499c9de074162df3ef49db8a);\n",
       "        \n",
       "    \n",
       "            var polygon_9114bfe8fb72c306627074c097173e05 = L.polygon(\n",
       "                [[46.303822, 12.01207], [46.365451, 11.488229], [46.422535, 10.983475], [46.217752, 10.937562], [46.165281, 11.441477], [46.108271, 11.964495], [46.303822, 12.01207]],\n",
       "                {&quot;bubblingMouseEvents&quot;: true, &quot;color&quot;: &quot;red&quot;, &quot;dashArray&quot;: null, &quot;dashOffset&quot;: null, &quot;fill&quot;: false, &quot;fillColor&quot;: &quot;red&quot;, &quot;fillOpacity&quot;: 0.2, &quot;fillRule&quot;: &quot;evenodd&quot;, &quot;lineCap&quot;: &quot;round&quot;, &quot;lineJoin&quot;: &quot;round&quot;, &quot;noClip&quot;: false, &quot;opacity&quot;: 1.0, &quot;smoothFactor&quot;: 1.0, &quot;stroke&quot;: true, &quot;weight&quot;: 3}\n",
       "            ).addTo(map_49da8164499c9de074162df3ef49db8a);\n",
       "        \n",
       "    \n",
       "            var polygon_216d8d08061a119181ef3bb2f81f75c5 = L.polygon(\n",
       "                [[46.276581, 10.804564], [46.34791, 11.402422], [46.412202, 11.967742], [46.604472, 11.920848], [46.535976, 11.354552], [46.460429, 10.755691], [46.276581, 10.804564]],\n",
       "                {&quot;bubblingMouseEvents&quot;: true, &quot;color&quot;: &quot;red&quot;, &quot;dashArray&quot;: null, &quot;dashOffset&quot;: null, &quot;fill&quot;: false, &quot;fillColor&quot;: &quot;red&quot;, &quot;fillOpacity&quot;: 0.2, &quot;fillRule&quot;: &quot;evenodd&quot;, &quot;lineCap&quot;: &quot;round&quot;, &quot;lineJoin&quot;: &quot;round&quot;, &quot;noClip&quot;: false, &quot;opacity&quot;: 1.0, &quot;smoothFactor&quot;: 1.0, &quot;stroke&quot;: true, &quot;weight&quot;: 3}\n",
       "            ).addTo(map_49da8164499c9de074162df3ef49db8a);\n",
       "        \n",
       "    \n",
       "            var polygon_5f31d403e0c9bfae24e54d388b7ee64e = L.polygon(\n",
       "                [[46.441904, 10.760624], [46.513254, 11.360345], [46.577547, 11.927424], [46.76981, 11.880394], [46.701311, 11.312324], [46.625741, 10.711586], [46.441904, 10.760624]],\n",
       "                {&quot;bubblingMouseEvents&quot;: true, &quot;color&quot;: &quot;red&quot;, &quot;dashArray&quot;: null, &quot;dashOffset&quot;: null, &quot;fill&quot;: false, &quot;fillColor&quot;: &quot;red&quot;, &quot;fillOpacity&quot;: 0.2, &quot;fillRule&quot;: &quot;evenodd&quot;, &quot;lineCap&quot;: &quot;round&quot;, &quot;lineJoin&quot;: &quot;round&quot;, &quot;noClip&quot;: false, &quot;opacity&quot;: 1.0, &quot;smoothFactor&quot;: 1.0, &quot;stroke&quot;: true, &quot;weight&quot;: 3}\n",
       "            ).addTo(map_49da8164499c9de074162df3ef49db8a);\n",
       "        \n",
       "    \n",
       "            var polygon_2536d9a883fcdbe79dd7c0ea8af7bdbe = L.polygon(\n",
       "                [[46.607214, 10.716537], [46.678586, 11.318136], [46.742882, 11.886991], [46.935138, 11.839823], [46.866635, 11.269963], [46.791043, 10.667332], [46.607214, 10.716537]],\n",
       "                {&quot;bubblingMouseEvents&quot;: true, &quot;color&quot;: &quot;red&quot;, &quot;dashArray&quot;: null, &quot;dashOffset&quot;: null, &quot;fill&quot;: false, &quot;fillColor&quot;: &quot;red&quot;, &quot;fillOpacity&quot;: 0.2, &quot;fillRule&quot;: &quot;evenodd&quot;, &quot;lineCap&quot;: &quot;round&quot;, &quot;lineJoin&quot;: &quot;round&quot;, &quot;noClip&quot;: false, &quot;opacity&quot;: 1.0, &quot;smoothFactor&quot;: 1.0, &quot;stroke&quot;: true, &quot;weight&quot;: 3}\n",
       "            ).addTo(map_49da8164499c9de074162df3ef49db8a);\n",
       "        \n",
       "    \n",
       "            var polygon_ca63506298351049d7d4abd51387c79a = L.polygon(\n",
       "                [[46.829271, 11.255174], [46.904859, 10.652277], [46.973353, 10.082173], [46.781093, 10.034966], [46.716804, 10.604062], [46.645435, 11.205925], [46.829271, 11.255174]],\n",
       "                {&quot;bubblingMouseEvents&quot;: true, &quot;color&quot;: &quot;red&quot;, &quot;dashArray&quot;: null, &quot;dashOffset&quot;: null, &quot;fill&quot;: false, &quot;fillColor&quot;: &quot;red&quot;, &quot;fillOpacity&quot;: 0.2, &quot;fillRule&quot;: &quot;evenodd&quot;, &quot;lineCap&quot;: &quot;round&quot;, &quot;lineJoin&quot;: &quot;round&quot;, &quot;noClip&quot;: false, &quot;opacity&quot;: 1.0, &quot;smoothFactor&quot;: 1.0, &quot;stroke&quot;: true, &quot;weight&quot;: 3}\n",
       "            ).addTo(map_49da8164499c9de074162df3ef49db8a);\n",
       "        \n",
       "    \n",
       "            var polygon_e34107b64d1ac459eec08018edadf4b7 = L.polygon(\n",
       "                [[46.586499, 12.306189], [46.66502, 11.729773], [46.735345, 11.194249], [46.531867, 11.139994], [46.466093, 11.674696], [46.392142, 12.250223], [46.586499, 12.306189]],\n",
       "                {&quot;bubblingMouseEvents&quot;: true, &quot;color&quot;: &quot;red&quot;, &quot;dashArray&quot;: null, &quot;dashOffset&quot;: null, &quot;fill&quot;: false, &quot;fillColor&quot;: &quot;red&quot;, &quot;fillOpacity&quot;: 0.2, &quot;fillRule&quot;: &quot;evenodd&quot;, &quot;lineCap&quot;: &quot;round&quot;, &quot;lineJoin&quot;: &quot;round&quot;, &quot;noClip&quot;: false, &quot;opacity&quot;: 1.0, &quot;smoothFactor&quot;: 1.0, &quot;stroke&quot;: true, &quot;weight&quot;: 3}\n",
       "            ).addTo(map_49da8164499c9de074162df3ef49db8a);\n",
       "        \n",
       "    \n",
       "            var polygon_13338e962091f74107e2281092c3c384 = L.polygon(\n",
       "                [[46.663981, 11.210885], [46.739546, 10.609883], [46.808037, 10.041572], [46.61577, 9.994503], [46.551482, 10.56182], [46.480136, 11.161802], [46.663981, 11.210885]],\n",
       "                {&quot;bubblingMouseEvents&quot;: true, &quot;color&quot;: &quot;red&quot;, &quot;dashArray&quot;: null, &quot;dashOffset&quot;: null, &quot;fill&quot;: false, &quot;fillColor&quot;: &quot;red&quot;, &quot;fillOpacity&quot;: 0.2, &quot;fillRule&quot;: &quot;evenodd&quot;, &quot;lineCap&quot;: &quot;round&quot;, &quot;lineJoin&quot;: &quot;round&quot;, &quot;noClip&quot;: false, &quot;opacity&quot;: 1.0, &quot;smoothFactor&quot;: 1.0, &quot;stroke&quot;: true, &quot;weight&quot;: 3}\n",
       "            ).addTo(map_49da8164499c9de074162df3ef49db8a);\n",
       "        \n",
       "    \n",
       "            var polygon_20ecc1b90c61d72b27022b269c044f4a = L.polygon(\n",
       "                [[46.421295, 12.258601], [46.499758, 11.684], [46.570046, 11.150156], [46.366558, 11.096085], [46.30082, 11.629119], [46.226925, 12.202845], [46.421295, 12.258601]],\n",
       "                {&quot;bubblingMouseEvents&quot;: true, &quot;color&quot;: &quot;red&quot;, &quot;dashArray&quot;: null, &quot;dashOffset&quot;: null, &quot;fill&quot;: false, &quot;fillColor&quot;: &quot;red&quot;, &quot;fillOpacity&quot;: 0.2, &quot;fillRule&quot;: &quot;evenodd&quot;, &quot;lineCap&quot;: &quot;round&quot;, &quot;lineJoin&quot;: &quot;round&quot;, &quot;noClip&quot;: false, &quot;opacity&quot;: 1.0, &quot;smoothFactor&quot;: 1.0, &quot;stroke&quot;: true, &quot;weight&quot;: 3}\n",
       "            ).addTo(map_49da8164499c9de074162df3ef49db8a);\n",
       "        \n",
       "    \n",
       "            var polygon_0771e026c71519a42770eb34dfadc1af = L.polygon(\n",
       "                [[46.49868, 11.166745], [46.574222, 10.567623], [46.64271, 10.001088], [46.450436, 9.954156], [46.386151, 10.519711], [46.314825, 11.117828], [46.49868, 11.166745]],\n",
       "                {&quot;bubblingMouseEvents&quot;: true, &quot;color&quot;: &quot;red&quot;, &quot;dashArray&quot;: null, &quot;dashOffset&quot;: null, &quot;fill&quot;: false, &quot;fillColor&quot;: &quot;red&quot;, &quot;fillOpacity&quot;: 0.2, &quot;fillRule&quot;: &quot;evenodd&quot;, &quot;lineCap&quot;: &quot;round&quot;, &quot;lineJoin&quot;: &quot;round&quot;, &quot;noClip&quot;: false, &quot;opacity&quot;: 1.0, &quot;smoothFactor&quot;: 1.0, &quot;stroke&quot;: true, &quot;weight&quot;: 3}\n",
       "            ).addTo(map_49da8164499c9de074162df3ef49db8a);\n",
       "        \n",
       "    \n",
       "            var polygon_60f453f6e7c41192c8bd4e07a0261baa = L.polygon(\n",
       "                [[46.256077, 12.211191], [46.334483, 11.638389], [46.404736, 11.106212], [46.201238, 11.052321], [46.135533, 11.583702], [46.061695, 12.155641], [46.256077, 12.211191]],\n",
       "                {&quot;bubblingMouseEvents&quot;: true, &quot;color&quot;: &quot;red&quot;, &quot;dashArray&quot;: null, &quot;dashOffset&quot;: null, &quot;fill&quot;: false, &quot;fillColor&quot;: &quot;red&quot;, &quot;fillOpacity&quot;: 0.2, &quot;fillRule&quot;: &quot;evenodd&quot;, &quot;lineCap&quot;: &quot;round&quot;, &quot;lineJoin&quot;: &quot;round&quot;, &quot;noClip&quot;: false, &quot;opacity&quot;: 1.0, &quot;smoothFactor&quot;: 1.0, &quot;stroke&quot;: true, &quot;weight&quot;: 3}\n",
       "            ).addTo(map_49da8164499c9de074162df3ef49db8a);\n",
       "        \n",
       "    \n",
       "            L.control.layers.tree(\n",
       "                null,\n",
       "                {\n",
       "  &quot;label&quot;: &quot;Burst Footprints&quot;,\n",
       "  &quot;selectAllCheckbox&quot;: &quot;Un/select all&quot;,\n",
       "  &quot;children&quot;: [\n",
       "{\n",
       "  &quot;label&quot;: &quot;Track 95&quot;,\n",
       "  &quot;selectAllCheckbox&quot;: true,\n",
       "  &quot;children&quot;: [\n",
       "{\n",
       "  &quot;label&quot;: &quot;BurstId: 202703, IW3&quot;,\n",
       "  &quot;layer&quot;: polygon_4577adeb2a237b9a9958a2f4b97c31a5,\n",
       "},\n",
       "{\n",
       "  &quot;label&quot;: &quot;BurstId: 202704, IW3&quot;,\n",
       "  &quot;layer&quot;: polygon_dc1effa8e1bddc52aee7bb03173780ae,\n",
       "},\n",
       "{\n",
       "  &quot;label&quot;: &quot;BurstId: 202705, IW3&quot;,\n",
       "  &quot;layer&quot;: polygon_9114bfe8fb72c306627074c097173e05,\n",
       "},\n",
       "],\n",
       "},\n",
       "{\n",
       "  &quot;label&quot;: &quot;Track 117&quot;,\n",
       "  &quot;selectAllCheckbox&quot;: true,\n",
       "  &quot;children&quot;: [\n",
       "{\n",
       "  &quot;label&quot;: &quot;BurstId: 249433, IW2&quot;,\n",
       "  &quot;layer&quot;: polygon_216d8d08061a119181ef3bb2f81f75c5,\n",
       "},\n",
       "{\n",
       "  &quot;label&quot;: &quot;BurstId: 249434, IW2&quot;,\n",
       "  &quot;layer&quot;: polygon_5f31d403e0c9bfae24e54d388b7ee64e,\n",
       "},\n",
       "{\n",
       "  &quot;label&quot;: &quot;BurstId: 249435, IW2&quot;,\n",
       "  &quot;layer&quot;: polygon_2536d9a883fcdbe79dd7c0ea8af7bdbe,\n",
       "},\n",
       "],\n",
       "},\n",
       "{\n",
       "  &quot;label&quot;: &quot;Track 168&quot;,\n",
       "  &quot;selectAllCheckbox&quot;: true,\n",
       "  &quot;children&quot;: [\n",
       "{\n",
       "  &quot;label&quot;: &quot;BurstId: 359500, IW2&quot;,\n",
       "  &quot;layer&quot;: polygon_ca63506298351049d7d4abd51387c79a,\n",
       "},\n",
       "{\n",
       "  &quot;label&quot;: &quot;BurstId: 359501, IW1&quot;,\n",
       "  &quot;layer&quot;: polygon_e34107b64d1ac459eec08018edadf4b7,\n",
       "},\n",
       "{\n",
       "  &quot;label&quot;: &quot;BurstId: 359501, IW2&quot;,\n",
       "  &quot;layer&quot;: polygon_13338e962091f74107e2281092c3c384,\n",
       "},\n",
       "{\n",
       "  &quot;label&quot;: &quot;BurstId: 359502, IW1&quot;,\n",
       "  &quot;layer&quot;: polygon_20ecc1b90c61d72b27022b269c044f4a,\n",
       "},\n",
       "{\n",
       "  &quot;label&quot;: &quot;BurstId: 359502, IW2&quot;,\n",
       "  &quot;layer&quot;: polygon_0771e026c71519a42770eb34dfadc1af,\n",
       "},\n",
       "{\n",
       "  &quot;label&quot;: &quot;BurstId: 359503, IW1&quot;,\n",
       "  &quot;layer&quot;: polygon_60f453f6e7c41192c8bd4e07a0261baa,\n",
       "},\n",
       "],\n",
       "},\n",
       "],\n",
       "},\n",
       "                {\n",
       "  &quot;closedSymbol&quot;: &quot;+&quot;,\n",
       "  &quot;openedSymbol&quot;: &quot;-&quot;,\n",
       "  &quot;spaceSymbol&quot;: &quot;\\u0026nbsp;&quot;,\n",
       "  &quot;selectorBack&quot;: false,\n",
       "  &quot;namedToggle&quot;: false,\n",
       "  &quot;collapseAll&quot;: &quot;&quot;,\n",
       "  &quot;expandAll&quot;: &quot;&quot;,\n",
       "  &quot;labelIsSelector&quot;: &quot;both&quot;,\n",
       "}\n",
       "            ).addTo(map_49da8164499c9de074162df3ef49db8a);\n",
       "        \n",
       "&lt;/script&gt;\n",
       "&lt;/html&gt;\" style=\"position:absolute;width:100%;height:100%;left:0;top:0;border:none !important;\" allowfullscreen webkitallowfullscreen mozallowfullscreen></iframe></div></div>"
      ],
      "text/plain": [
       "<folium.folium.Map at 0x7f92eb303890>"
      ]
     },
     "execution_count": 7,
     "metadata": {},
     "output_type": "execute_result"
    }
   ],
   "source": [
    "# Initialize the map and center it in the middle of the bursts\n",
    "\n",
    "lat, lon = [], []\n",
    "for burst in bursts_uniqueTrack.values():\n",
    "    for coords in burst.values():\n",
    "        lat = lat + [c[1] for c in coords[0]]\n",
    "        lon = lon + [c[0] for c in coords[0]]\n",
    "        \n",
    "m = folium.Map(\n",
    "    location=[np.mean([max(lat), min(lat)]), np.mean([max(lon), min(lon)])],\n",
    "    zoom_start=8\n",
    ")\n",
    "\n",
    "\n",
    "# Add the area of interest\n",
    "\n",
    "if geom.geom_type == 'Point':\n",
    "    folium.Marker([geom.y, geom.x]).add_to(m)\n",
    "\n",
    "if geom.geom_type == 'Polygon':\n",
    "    folium.Polygon(\n",
    "        locations=[(y, x) for x, y in geom.exterior.coords],\n",
    "        color='blue',\n",
    "        fill=True,            \n",
    "        fill_color='blue',    \n",
    "        fill_opacity=0.4\n",
    "    ).add_to(m)\n",
    "\n",
    "\n",
    "# Add each burst grouped by track\n",
    "\n",
    "children = []\n",
    "\n",
    "for track, burst in bursts_uniqueTrack.items():\n",
    "    \n",
    "    children.append(\n",
    "        {\n",
    "            \"label\": f\"Track {track}\",\n",
    "            \"select_all_checkbox\": True,\n",
    "            \"children\": [{\"label\":str(b), \"layer\": folium.Polygon(locations=np.flip(np.squeeze(p), axis=1), color='red').add_to(m)} for b, p in burst.items()]\n",
    "        }\n",
    "    )\n",
    "\n",
    "\n",
    "# Show the map\n",
    "\n",
    "overlay_tree = {\n",
    "    \"label\": \"Burst Footprints\",\n",
    "    \"select_all_checkbox\": \"Un/select all\",\n",
    "    \"children\": children\n",
    "}\n",
    "\n",
    "TreeLayerControl(overlay_tree=overlay_tree).add_to(m)\n",
    "\n",
    "m"
   ]
  },
  {
   "cell_type": "markdown",
   "id": "13775c4a-fb02-4ecb-897c-449997b6d302",
   "metadata": {},
   "source": [
    "## 4) Plot calendar"
   ]
  },
  {
   "cell_type": "code",
   "execution_count": null,
   "id": "88e4f0a9-1f92-4f5a-8aa0-2405d6c8f5d4",
   "metadata": {
    "tags": []
   },
   "outputs": [],
   "source": [
    "import calendar\n",
    "import matplotlib.pyplot as plt\n",
    "\n",
    "def display_calendar(year, month, highlighted_dates={}):\n",
    "\n",
    "    cal = calendar.monthcalendar(year, month)\n",
    "    fig, ax = plt.subplots(figsize=(4, 2))\n",
    "    ax.set_xticks([])\n",
    "    ax.set_yticks([])\n",
    "                \n",
    "    for row, week in enumerate(cal):\n",
    "        for col, day in enumerate(week):\n",
    "            if day == 0:\n",
    "                continue\n",
    "            color = highlighted_dates.get(day, \"white\")\n",
    "            ax.add_patch(plt.Rectangle((col - 0.5, row - 0.5), 1, 1, color=color, alpha=0.6))\n",
    "            ax.text(col, row, str(day), ha=\"center\", va=\"center\", fontsize=12, weight='bold')\n",
    "\n",
    "    ax.set_xlim(-0.5, 6.5)\n",
    "    ax.set_ylim(len(cal) - 0.5, -0.5)\n",
    "    ax.set_title(calendar.month_name[month] + f\" {year}\")\n",
    "    plt.show()"
   ]
  },
  {
   "cell_type": "code",
   "execution_count": null,
   "id": "84393d09-9ba3-42ca-967b-90fe96381da4",
   "metadata": {
    "tags": []
   },
   "outputs": [],
   "source": [
    "date, track = [], [] \n",
    "for b in bursts['value']:\n",
    "    date.append(b['BeginningDateTime'])\n",
    "    track.append(b['RelativeOrbitNumber'])\n",
    "df = pd.DataFrame(data={'date': date, 'track': track})\n",
    "df['date'] = pd.to_datetime(df['date'])\n",
    "df['year'] = df['date'].dt.year\n",
    "df['month'] = df['date'].dt.month\n",
    "df['day'] = df['date'].dt.day\n",
    "df = df.drop_duplicates(subset=['track', 'year', 'month', 'day'])\n",
    "df = df.sort_values(by='date', ascending=True)"
   ]
  },
  {
   "cell_type": "code",
   "execution_count": null,
   "id": "10bbd1e3-bd9a-4720-b8d3-ad04448da2c8",
   "metadata": {
    "tags": []
   },
   "outputs": [],
   "source": [
    "color_track = {}\n",
    "fig, ax = plt.subplots(figsize=(4, len(df['track'].unique())*0.5))\n",
    "for i, t in enumerate(df['track'].unique()):\n",
    "    color_track[t] = f'C{i}'\n",
    "    ax.add_patch(plt.Rectangle((0, -i*0.5), 0.1, 0.3, color=color_track[t], alpha=0.6))\n",
    "    ax.text(0.15, -i*0.5+0.1, f'T{t}', fontsize=10)\n",
    "ax.set_xlim(0, 1)\n",
    "ax.set_ylim(-len(df['track'].unique())*0.5, 0.5)\n",
    "ax.axis('off')\n",
    "plt.show()\n",
    "\n",
    "for year in df['year'].unique():\n",
    "    df_year = df.loc[df['year'] == year, :]\n",
    "    for month in df_year['month'].unique():\n",
    "        h = {}\n",
    "        for i, row in df_year.loc[df_year['month'] == month, :].iterrows():\n",
    "            h[row['day']] = color_track[row['track']]\n",
    "        display_calendar(year, month, h)"
   ]
  },
  {
   "cell_type": "markdown",
   "id": "42db48a7-95f0-464c-a078-599991c75e9c",
   "metadata": {},
   "source": [
    "## 5) Get perpendicular baselines"
   ]
  },
  {
   "cell_type": "code",
   "execution_count": null,
   "id": "cec16b62",
   "metadata": {},
   "outputs": [],
   "source": [
    "print(f\"Select one of the available tracks: {track_list}\")"
   ]
  },
  {
   "cell_type": "code",
   "execution_count": null,
   "id": "951e1dd6",
   "metadata": {},
   "outputs": [],
   "source": [
    "track = 117"
   ]
  },
  {
   "cell_type": "markdown",
   "id": "2e3548f5",
   "metadata": {},
   "source": [
    "Get the product names of which we need to download the metadata"
   ]
  },
  {
   "cell_type": "code",
   "execution_count": null,
   "id": "7d4bf276",
   "metadata": {},
   "outputs": [],
   "source": [
    "SAFE_image_list = []\n",
    "S3_image_list = []\n",
    "for b in bursts['value']:\n",
    "    if b['RelativeOrbitNumber'] == track:\n",
    "        if b[\"ParentProductName\"] not in SAFE_image_list:\n",
    "            SAFE_image_list.append((b[\"ParentProductName\"]))\n",
    "            S3_image_list.append((b[\"S3Path\"].split(\".SAFE\")[0] + \".SAFE\"))"
   ]
  },
  {
   "cell_type": "markdown",
   "id": "f0d6f991",
   "metadata": {},
   "source": [
    "Get the metadata from the S3 bucket (add your CDSE S3 credentials)"
   ]
  },
  {
   "cell_type": "code",
   "execution_count": null,
   "id": "3acfdd91",
   "metadata": {},
   "outputs": [],
   "source": [
    "import os\n",
    "os.environ[\"AWS_ACCESS_KEY_ID\"] = \"\"\n",
    "os.environ[\"AWS_SECRET_ACCESS_KEY\"] = \"\"\n",
    "PolarisationChannels=\"VV\"\n",
    "if PolarisationChannels==\"VV\":\n",
    "    include_pol='vv'\n",
    "    exclude_pol='vh'\n",
    "elif PolarisationChannels==\"VH\":\n",
    "    include_pol='vh'\n",
    "    exclude_pol='vv'\n",
    "\n",
    "s3_endpoint = \"eodata.dataspace.copernicus.eu\"\n",
    "\n",
    "for im_safe, im_s3 in zip(SAFE_image_list,S3_image_list):\n",
    "    print(im_safe)\n",
    "    os.system(f\"s5cmd --endpoint-url \\\"https://{s3_endpoint}\\\" cp --include \\\"*iw1*\\\" --include \\\"*iw2*\\\" --include \\\"*iw3*\\\" --exclude \\\"*{exclude_pol}*\\\"  --exclude \\\"*.tiff\\\" --include \\\"manifest.safe\\\" \\\"s3:/\\\"{im_s3}\\\"/*\\\" {im_safe}/\")\n",
    "    os.system(f\"mkdir {im_safe}/measurement\")\n",
    "\n",
    "    command = f\"s5cmd --endpoint-url \\\"https://{s3_endpoint}\\\" -r 5 ls \\\"s3:/\\\"{im_s3}\\\"/measurement/\\\" | grep -o '\\S\\+$' | grep {include_pol} \"\n",
    "    result = os.popen(command).read().splitlines()\n",
    "\n",
    "    for im in result:\n",
    "        command = f\"gdal_create -ot Int8 -outsize 1 1 -bands 1 -burn 0 {im_safe}/measurement/{im}\"\n",
    "        os.system(command)"
   ]
  },
  {
   "cell_type": "code",
   "execution_count": null,
   "id": "fa070215",
   "metadata": {},
   "outputs": [],
   "source": [
    "import esa_snappy as snappy\n",
    "import os\n",
    "\n",
    "os.environ[\"SNAP_HOME\"] = \"/home/mclaus@eurac.edu/snap/\"\n",
    "snap_home = os.environ.get(\"SNAP_HOME\")\n",
    "print(f\"SNAP is installed at: {snap_home}\")\n",
    "\n",
    "# read products\n",
    "products = []\n",
    "for im in SAFE_image_list:\n",
    "    products.append(snappy.ProductIO.readProduct(im))\n",
    "master = products[0]\n",
    "# import the stack operator\n",
    "create_stack = snappy.jpy.get_type('eu.esa.sar.insar.gpf.coregistration.CreateStackOp')\n",
    "# create_stack = snappy.jpy.get_type('org.esa.snap.core.gpf.Operator')\n",
    "# 1st argument: list of products between which you want to compute the baseline\n",
    "# 2nd argument: a product that will receive the baselines as new metadata\n",
    "create_stack.getBaselines(products, master)\n",
    "# Now there is a new piece of metadata in product one called 'Baselines'\n",
    "baseline_root_metadata = master.getMetadataRoot().getElement('Abstracted_Metadata').getElement('Baselines')\n",
    "# You can now display all the baselines between all master/slave configurations\n",
    "master_ids = list(baseline_root_metadata.getElementNames())\n",
    "for master_id in master_ids:\n",
    "    slave_ids = list( baseline_root_metadata.getElement(master_id).getElementNames())\n",
    "    for slave_id in slave_ids:\n",
    "        print(f'{master_id}, {slave_id}')\n",
    "        baseline_metadata = baseline_root_metadata.getElement(master_id).getElement(slave_id)\n",
    "        for baseline in list(baseline_metadata.getAttributeNames()):\n",
    "            if baseline == \"Perp Baseline\":\n",
    "                print(f'{baseline}: {baseline_metadata.getAttributeString(baseline)}')\n",
    "        print('') "
   ]
  }
 ],
 "metadata": {
  "kernelspec": {
   "display_name": "OpenEO",
   "language": "python",
   "name": "openeo"
  },
  "language_info": {
   "codemirror_mode": {
    "name": "ipython",
    "version": 3
   },
   "file_extension": ".py",
   "mimetype": "text/x-python",
   "name": "python",
   "nbconvert_exporter": "python",
   "pygments_lexer": "ipython3",
   "version": "3.11.9"
  }
 },
 "nbformat": 4,
 "nbformat_minor": 5
}
