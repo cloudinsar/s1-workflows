{
 "cells": [
  {
   "cell_type": "markdown",
   "id": "9d9cdb68-3447-411d-8e2f-49c65385e8d2",
   "metadata": {},
   "source": [
    "# OpenEO-SNAP InSAR workflow"
   ]
  },
  {
   "cell_type": "markdown",
   "id": "16510f23-5a8b-453b-b162-8beaf4c10160",
   "metadata": {},
   "source": [
    "This notebook contain an example on how to execute the OpenEO-SNAP InSAR workflow on a local machine with SNAP installed. This workflow can produce geocoded InSAR coherence and flattened + topographic corrected + multilooked + filtered interferogram"
   ]
  },
  {
   "cell_type": "code",
   "execution_count": 1,
   "id": "aed3f204-a2fe-4821-87cb-da074012a048",
   "metadata": {},
   "outputs": [],
   "source": [
    "import urllib\n",
    "import json\n",
    "from IPython.display import JSON\n",
    "\n",
    "from datetime import datetime\n",
    "\n",
    "import glob\n",
    "import os\n",
    "import subprocess"
   ]
  },
  {
   "cell_type": "markdown",
   "id": "88a442b0-9f82-4a56-8078-5653b1fa9bc1",
   "metadata": {},
   "source": [
    "## Input definition"
   ]
  },
  {
   "cell_type": "code",
   "execution_count": 2,
   "id": "b2ea580f-8ba6-40e5-ba8c-be31e59b309f",
   "metadata": {},
   "outputs": [],
   "source": [
    "burstId = 249435\n",
    "sub_swath = 'IW2'\n",
    "InSAR_pairs = [\n",
    "    '20240809_20240821',\n",
    "    '20240809_20240902',\n",
    "    '20240821_20240902',\n",
    "    '20240821_20240914'\n",
    "]\n",
    "\n",
    "# Coherence window size\n",
    "cohWinRg, cohWinAz = (10, 2)\n",
    "\n",
    "# Multillok parameters\n",
    "nRgLooks, nAzLooks = (4, 1)"
   ]
  },
  {
   "cell_type": "code",
   "execution_count": 3,
   "id": "d4a9c6f8-2b99-4bfb-90df-6f33a1fc0aee",
   "metadata": {},
   "outputs": [],
   "source": [
    "graph_filename = './graphs/interferogram_coh_2images_GeoTiff.xml'"
   ]
  },
  {
   "cell_type": "code",
   "execution_count": 4,
   "id": "b7b1cc6c-8e07-43cc-8be0-c0d5763cd5cf",
   "metadata": {},
   "outputs": [
    {
     "name": "stdout",
     "output_type": "stream",
     "text": [
      "output_folder: /home/mcallegari/PROJECT_DATA/ESA_ClouDInSAR/Test/s1_workflow/coh_interferogram\n"
     ]
    }
   ],
   "source": [
    "if os.path.exists(\"CDSE_SECRET\"):\n",
    "    with open(\"CDSE_SECRET\", \"r\") as file:\n",
    "        lines = file.readlines()\n",
    "    CDSE_ACCESS_KEY = lines[0].strip().split(\": \")[1]\n",
    "    CDSE_SECRET_KEY = lines[1].strip().split(\": \")[1]\n",
    "else:\n",
    "    # get from environment vatiables:\n",
    "    CDSE_ACCESS_KEY = os.environ.get(\"AWS_ACCESS_KEY_ID\", None)\n",
    "    CDSE_SECRET_KEY = os.environ.get(\"AWS_SECRET_ACCESS_KEY\", None)\n",
    "\n",
    "\n",
    "output_folder = '/home/mcallegari/PROJECT_DATA/ESA_ClouDInSAR/Test/s1_workflow/coh_interferogram'\n",
    "if not os.path.exists(output_folder):\n",
    "    output_folder = os.path.abspath(\"output\")\n",
    "print(\"output_folder: \" + str(output_folder))"
   ]
  },
  {
   "cell_type": "markdown",
   "id": "2bd34375-5140-4f10-aef8-5d3766c66050",
   "metadata": {},
   "source": [
    "## Burst download"
   ]
  },
  {
   "cell_type": "code",
   "execution_count": 5,
   "id": "2fa4661c-baa3-4cb2-bdd8-7876824e0fa7",
   "metadata": {},
   "outputs": [
    {
     "name": "stdout",
     "output_type": "stream",
     "text": [
      "Input file size is 26039, 1510\n",
      "0...10...20...30...40...50...60...70...80...90...100 - done.\n",
      "Input file size is 26484, 1512\n",
      "0...10...20...30...40...50...60...70...80...90...100 - done.\n",
      "Input file size is 26484, 1512\n",
      "0...10...20...30...40...50...60...70...80...90...100 - done.\n",
      "Input file size is 26484, 1512\n",
      "0...10...20...30...40...50...60...70...80...90...100 - done.\n"
     ]
    }
   ],
   "source": [
    "date_list = [datetime.strptime(date, \"%Y%m%d\") for date in list(set('_'.join(InSAR_pairs).split('_')))]\n",
    "\n",
    "for date in date_list:\n",
    "\n",
    "    https_request = f\"https://catalogue.dataspace.copernicus.eu/odata/v1/Bursts?$filter=\" + urllib.parse.quote(\n",
    "    f\"ContentDate/Start ge {date.strftime(\"%Y-%m-%d\")}T00:00:00.000Z and ContentDate/Start le {date.strftime(\"%Y-%m-%d\")}T23:59:59.000Z and \"\n",
    "    f\"PolarisationChannels eq 'VV' and \"\n",
    "    f\"BurstId eq {burstId} and \"\n",
    "    f\"SwathIdentifier eq '{sub_swath}'\"\n",
    "    )\n",
    "\n",
    "    with urllib.request.urlopen(https_request) as response:\n",
    "        content = response.read().decode()\n",
    "    bursts = json.loads(content)\n",
    "    ParentProductName = bursts['value'][0]['ParentProductName']\n",
    "\n",
    "    burst_extract_cmd = (\n",
    "        f\"docker run -v {output_folder}:/home/ubuntu \"\n",
    "        f\"-e AWS_ACCESS_KEY_ID={CDSE_ACCESS_KEY} -e AWS_SECRET_ACCESS_KEY={CDSE_SECRET_KEY} \"\n",
    "        f\"cdse_utilities sentinel1_burst_extractor.sh -o /home/ubuntu \"\n",
    "        f\"-n {ParentProductName} -p vv -s {sub_swath.lower()} -r {burstId}\"\n",
    "    )\n",
    "\n",
    "    #print(burst_extract_cmd)\n",
    "    os.system(burst_extract_cmd)\n",
    "    "
   ]
  },
  {
   "cell_type": "markdown",
   "id": "4e3e06a0-114d-4d75-bad9-ebaeddee7991",
   "metadata": {},
   "source": [
    "## Sentinel-1 processing"
   ]
  },
  {
   "cell_type": "code",
   "execution_count": 9,
   "id": "39105167-ff54-4f86-9073-bbd2e3677188",
   "metadata": {},
   "outputs": [
    {
     "name": "stdout",
     "output_type": "stream",
     "text": [
      "gpt \"./graphs/interferogram_coh_2images_GeoTiff.xml\" -Pmst_filename=\"/home/mcallegari/PROJECT_DATA/ESA_ClouDInSAR/Test/s1_workflow/coh_interferogram/S1A_SLC_20240809T170739_249435_IW2_VV_440377.SAFE/manifest.safe\" -Pslv_filename=\"/home/mcallegari/PROJECT_DATA/ESA_ClouDInSAR/Test/s1_workflow/coh_interferogram/S1A_SLC_20240821T170739_249435_IW2_VV_442005.SAFE/manifest.safe\" -PcohWinRg=10 -PcohWinAz=2 -PnRgLooks=4 -PnAzLooks=1 -Pphase_coh_bandnames=\"Phase_ifg_IW2_VV_09Aug2024_21Aug2024,coh_IW2_VV_09Aug2024_21Aug2024\" -Poutput_filename=\"/home/mcallegari/PROJECT_DATA/ESA_ClouDInSAR/Test/s1_workflow/coh_interferogram/S1_phase_coh_20240809_20240821.tif\"\n",
      "gpt \"./graphs/interferogram_coh_2images_GeoTiff.xml\" -Pmst_filename=\"/home/mcallegari/PROJECT_DATA/ESA_ClouDInSAR/Test/s1_workflow/coh_interferogram/S1A_SLC_20240809T170739_249435_IW2_VV_440377.SAFE/manifest.safe\" -Pslv_filename=\"/home/mcallegari/PROJECT_DATA/ESA_ClouDInSAR/Test/s1_workflow/coh_interferogram/S1A_SLC_20240902T170739_249435_IW2_VV_443669.SAFE/manifest.safe\" -PcohWinRg=10 -PcohWinAz=2 -PnRgLooks=4 -PnAzLooks=1 -Pphase_coh_bandnames=\"Phase_ifg_IW2_VV_09Aug2024_02Sep2024,coh_IW2_VV_09Aug2024_02Sep2024\" -Poutput_filename=\"/home/mcallegari/PROJECT_DATA/ESA_ClouDInSAR/Test/s1_workflow/coh_interferogram/S1_phase_coh_20240809_20240902.tif\"\n",
      "gpt \"./graphs/interferogram_coh_2images_GeoTiff.xml\" -Pmst_filename=\"/home/mcallegari/PROJECT_DATA/ESA_ClouDInSAR/Test/s1_workflow/coh_interferogram/S1A_SLC_20240821T170739_249435_IW2_VV_442005.SAFE/manifest.safe\" -Pslv_filename=\"/home/mcallegari/PROJECT_DATA/ESA_ClouDInSAR/Test/s1_workflow/coh_interferogram/S1A_SLC_20240902T170739_249435_IW2_VV_443669.SAFE/manifest.safe\" -PcohWinRg=10 -PcohWinAz=2 -PnRgLooks=4 -PnAzLooks=1 -Pphase_coh_bandnames=\"Phase_ifg_IW2_VV_21Aug2024_02Sep2024,coh_IW2_VV_21Aug2024_02Sep2024\" -Poutput_filename=\"/home/mcallegari/PROJECT_DATA/ESA_ClouDInSAR/Test/s1_workflow/coh_interferogram/S1_phase_coh_20240821_20240902.tif\"\n",
      "gpt \"./graphs/interferogram_coh_2images_GeoTiff.xml\" -Pmst_filename=\"/home/mcallegari/PROJECT_DATA/ESA_ClouDInSAR/Test/s1_workflow/coh_interferogram/S1A_SLC_20240821T170739_249435_IW2_VV_442005.SAFE/manifest.safe\" -Pslv_filename=\"/home/mcallegari/PROJECT_DATA/ESA_ClouDInSAR/Test/s1_workflow/coh_interferogram/S1A_SLC_20240914T170740_249435_IW2_VV_445439.SAFE/manifest.safe\" -PcohWinRg=10 -PcohWinAz=2 -PnRgLooks=4 -PnAzLooks=1 -Pphase_coh_bandnames=\"Phase_ifg_IW2_VV_21Aug2024_14Sep2024,coh_IW2_VV_21Aug2024_14Sep2024\" -Poutput_filename=\"/home/mcallegari/PROJECT_DATA/ESA_ClouDInSAR/Test/s1_workflow/coh_interferogram/S1_phase_coh_20240821_20240914.tif\"\n"
     ]
    }
   ],
   "source": [
    "for pair in InSAR_pairs:\n",
    "\n",
    "    mst_filename = glob.glob(os.path.join(output_folder, f'*{pair.split(\"_\")[0]}*', 'manifest.safe'))[0]\n",
    "    slv_filename = glob.glob(os.path.join(output_folder, f'*{pair.split(\"_\")[1]}*', 'manifest.safe'))[0]\n",
    "    \n",
    "    mst_date, slv_date = [datetime.strptime(date, \"%Y%m%d\") for date in pair.split('_')]\n",
    "    \n",
    "    output_filename = os.path.join(output_folder, f'S1_phase_coh_{pair}.tif')\n",
    "        \n",
    "    phase_bandname = f'Phase_ifg_{sub_swath}_VV_{mst_date.strftime(\"%d%b%Y\")}_{slv_date.strftime(\"%d%b%Y\")}'\n",
    "    coh_bandname = f'coh_{sub_swath}_VV_{mst_date.strftime(\"%d%b%Y\")}_{slv_date.strftime(\"%d%b%Y\")}'\n",
    "\n",
    "    cmd = (\n",
    "        f'gpt \"{graph_filename}\" -Pmst_filename=\"{mst_filename}\" -Pslv_filename=\"{slv_filename}\" '\n",
    "        f'-PcohWinRg={cohWinRg} -PcohWinAz={cohWinAz} '\n",
    "        f'-PnRgLooks={nRgLooks} -PnAzLooks={nAzLooks} '\n",
    "        f'-Pphase_coh_bandnames=\"{phase_bandname},{coh_bandname}\" '\n",
    "        f'-Poutput_filename=\"{output_filename}\"'\n",
    "    )\n",
    "\n",
    "    print(cmd)\n",
    "    #os.system(cmd)"
   ]
  },
  {
   "cell_type": "code",
   "execution_count": null,
   "id": "03cdb5d9-c04e-46fc-b90c-8e28a1667480",
   "metadata": {},
   "outputs": [],
   "source": []
  }
 ],
 "metadata": {
  "kernelspec": {
   "display_name": "Python 3 (ipykernel)",
   "language": "python",
   "name": "python3"
  },
  "language_info": {
   "codemirror_mode": {
    "name": "ipython",
    "version": 3
   },
   "file_extension": ".py",
   "mimetype": "text/x-python",
   "name": "python",
   "nbconvert_exporter": "python",
   "pygments_lexer": "ipython3",
   "version": "3.13.3"
  }
 },
 "nbformat": 4,
 "nbformat_minor": 5
}
